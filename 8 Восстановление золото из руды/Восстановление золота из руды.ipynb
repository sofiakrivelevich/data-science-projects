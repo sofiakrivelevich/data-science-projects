{
 "cells": [
  {
   "cell_type": "markdown",
   "metadata": {},
   "source": [
    "# Восстановление золота из руды"
   ]
  },
  {
   "cell_type": "markdown",
   "metadata": {},
   "source": [
    "Требуется подготовить прототип модели машинного обучения для «Цифры». Компания разрабатывает решения для эффективной работы промышленных предприятий.\n",
    "\n",
    "Модель должна предсказать коэффициент восстановления золота из золотосодержащей руды. \n",
    "\n",
    "Модель поможет оптимизировать производство, чтобы не запускать предприятие с убыточными характеристиками."
   ]
  },
  {
   "cell_type": "code",
   "execution_count": 1,
   "metadata": {},
   "outputs": [],
   "source": [
    "import pandas as pd\n",
    "from sklearn.metrics import mean_absolute_error\n",
    "import matplotlib.pyplot as plt\n",
    "import numpy as np\n",
    "from sklearn.tree import DecisionTreeRegressor\n",
    "from sklearn.ensemble import RandomForestRegressor\n",
    "from sklearn.linear_model import LinearRegression\n",
    "from sklearn.model_selection import train_test_split\n",
    "from sklearn.metrics import mean_squared_error\n",
    "from sklearn.model_selection import cross_val_score\n",
    "from sklearn.metrics import make_scorer\n",
    "import warnings\n",
    "warnings.filterwarnings('ignore')"
   ]
  },
  {
   "cell_type": "markdown",
   "metadata": {},
   "source": [
    "## Подготовка данных"
   ]
  },
  {
   "cell_type": "markdown",
   "metadata": {},
   "source": [
    "### Изучение файла"
   ]
  },
  {
   "cell_type": "code",
   "execution_count": 2,
   "metadata": {},
   "outputs": [],
   "source": [
    "def open_file(file_name):\n",
    "    data = pd.read_csv(file_name)\n",
    "    return data"
   ]
  },
  {
   "cell_type": "code",
   "execution_count": 3,
   "metadata": {},
   "outputs": [],
   "source": [
    "def data_info(data):\n",
    "    return data.info()"
   ]
  },
  {
   "cell_type": "code",
   "execution_count": 4,
   "metadata": {},
   "outputs": [],
   "source": [
    "def describe_data(data):\n",
    "    return data.describe()"
   ]
  },
  {
   "cell_type": "code",
   "execution_count": 5,
   "metadata": {},
   "outputs": [],
   "source": [
    "def na_mean(data):\n",
    "    return data.isna().mean().sort_values()"
   ]
  },
  {
   "cell_type": "code",
   "execution_count": 6,
   "metadata": {},
   "outputs": [],
   "source": [
    "def duplicated_data(data):\n",
    "    return data.duplicated().sum()"
   ]
  },
  {
   "cell_type": "markdown",
   "metadata": {},
   "source": [
    "<b>Обучающая выборка</b>"
   ]
  },
  {
   "cell_type": "code",
   "execution_count": 7,
   "metadata": {},
   "outputs": [
    {
     "data": {
      "text/html": [
       "<div>\n",
       "<style scoped>\n",
       "    .dataframe tbody tr th:only-of-type {\n",
       "        vertical-align: middle;\n",
       "    }\n",
       "\n",
       "    .dataframe tbody tr th {\n",
       "        vertical-align: top;\n",
       "    }\n",
       "\n",
       "    .dataframe thead th {\n",
       "        text-align: right;\n",
       "    }\n",
       "</style>\n",
       "<table border=\"1\" class=\"dataframe\">\n",
       "  <thead>\n",
       "    <tr style=\"text-align: right;\">\n",
       "      <th></th>\n",
       "      <th>date</th>\n",
       "      <th>final.output.concentrate_ag</th>\n",
       "      <th>final.output.concentrate_pb</th>\n",
       "      <th>final.output.concentrate_sol</th>\n",
       "      <th>final.output.concentrate_au</th>\n",
       "      <th>final.output.recovery</th>\n",
       "      <th>final.output.tail_ag</th>\n",
       "      <th>final.output.tail_pb</th>\n",
       "      <th>final.output.tail_sol</th>\n",
       "      <th>final.output.tail_au</th>\n",
       "      <th>...</th>\n",
       "      <th>secondary_cleaner.state.floatbank4_a_air</th>\n",
       "      <th>secondary_cleaner.state.floatbank4_a_level</th>\n",
       "      <th>secondary_cleaner.state.floatbank4_b_air</th>\n",
       "      <th>secondary_cleaner.state.floatbank4_b_level</th>\n",
       "      <th>secondary_cleaner.state.floatbank5_a_air</th>\n",
       "      <th>secondary_cleaner.state.floatbank5_a_level</th>\n",
       "      <th>secondary_cleaner.state.floatbank5_b_air</th>\n",
       "      <th>secondary_cleaner.state.floatbank5_b_level</th>\n",
       "      <th>secondary_cleaner.state.floatbank6_a_air</th>\n",
       "      <th>secondary_cleaner.state.floatbank6_a_level</th>\n",
       "    </tr>\n",
       "  </thead>\n",
       "  <tbody>\n",
       "    <tr>\n",
       "      <th>0</th>\n",
       "      <td>2016-01-15 00:00:00</td>\n",
       "      <td>6.055403</td>\n",
       "      <td>9.889648</td>\n",
       "      <td>5.507324</td>\n",
       "      <td>42.192020</td>\n",
       "      <td>70.541216</td>\n",
       "      <td>10.411962</td>\n",
       "      <td>0.895447</td>\n",
       "      <td>16.904297</td>\n",
       "      <td>2.143149</td>\n",
       "      <td>...</td>\n",
       "      <td>14.016835</td>\n",
       "      <td>-502.488007</td>\n",
       "      <td>12.099931</td>\n",
       "      <td>-504.715942</td>\n",
       "      <td>9.925633</td>\n",
       "      <td>-498.310211</td>\n",
       "      <td>8.079666</td>\n",
       "      <td>-500.470978</td>\n",
       "      <td>14.151341</td>\n",
       "      <td>-605.841980</td>\n",
       "    </tr>\n",
       "    <tr>\n",
       "      <th>1</th>\n",
       "      <td>2016-01-15 01:00:00</td>\n",
       "      <td>6.029369</td>\n",
       "      <td>9.968944</td>\n",
       "      <td>5.257781</td>\n",
       "      <td>42.701629</td>\n",
       "      <td>69.266198</td>\n",
       "      <td>10.462676</td>\n",
       "      <td>0.927452</td>\n",
       "      <td>16.634514</td>\n",
       "      <td>2.224930</td>\n",
       "      <td>...</td>\n",
       "      <td>13.992281</td>\n",
       "      <td>-505.503262</td>\n",
       "      <td>11.950531</td>\n",
       "      <td>-501.331529</td>\n",
       "      <td>10.039245</td>\n",
       "      <td>-500.169983</td>\n",
       "      <td>7.984757</td>\n",
       "      <td>-500.582168</td>\n",
       "      <td>13.998353</td>\n",
       "      <td>-599.787184</td>\n",
       "    </tr>\n",
       "    <tr>\n",
       "      <th>2</th>\n",
       "      <td>2016-01-15 02:00:00</td>\n",
       "      <td>6.055926</td>\n",
       "      <td>10.213995</td>\n",
       "      <td>5.383759</td>\n",
       "      <td>42.657501</td>\n",
       "      <td>68.116445</td>\n",
       "      <td>10.507046</td>\n",
       "      <td>0.953716</td>\n",
       "      <td>16.208849</td>\n",
       "      <td>2.257889</td>\n",
       "      <td>...</td>\n",
       "      <td>14.015015</td>\n",
       "      <td>-502.520901</td>\n",
       "      <td>11.912783</td>\n",
       "      <td>-501.133383</td>\n",
       "      <td>10.070913</td>\n",
       "      <td>-500.129135</td>\n",
       "      <td>8.013877</td>\n",
       "      <td>-500.517572</td>\n",
       "      <td>14.028663</td>\n",
       "      <td>-601.427363</td>\n",
       "    </tr>\n",
       "    <tr>\n",
       "      <th>3</th>\n",
       "      <td>2016-01-15 03:00:00</td>\n",
       "      <td>6.047977</td>\n",
       "      <td>9.977019</td>\n",
       "      <td>4.858634</td>\n",
       "      <td>42.689819</td>\n",
       "      <td>68.347543</td>\n",
       "      <td>10.422762</td>\n",
       "      <td>0.883763</td>\n",
       "      <td>16.532835</td>\n",
       "      <td>2.146849</td>\n",
       "      <td>...</td>\n",
       "      <td>14.036510</td>\n",
       "      <td>-500.857308</td>\n",
       "      <td>11.999550</td>\n",
       "      <td>-501.193686</td>\n",
       "      <td>9.970366</td>\n",
       "      <td>-499.201640</td>\n",
       "      <td>7.977324</td>\n",
       "      <td>-500.255908</td>\n",
       "      <td>14.005551</td>\n",
       "      <td>-599.996129</td>\n",
       "    </tr>\n",
       "    <tr>\n",
       "      <th>4</th>\n",
       "      <td>2016-01-15 04:00:00</td>\n",
       "      <td>6.148599</td>\n",
       "      <td>10.142511</td>\n",
       "      <td>4.939416</td>\n",
       "      <td>42.774141</td>\n",
       "      <td>66.927016</td>\n",
       "      <td>10.360302</td>\n",
       "      <td>0.792826</td>\n",
       "      <td>16.525686</td>\n",
       "      <td>2.055292</td>\n",
       "      <td>...</td>\n",
       "      <td>14.027298</td>\n",
       "      <td>-499.838632</td>\n",
       "      <td>11.953070</td>\n",
       "      <td>-501.053894</td>\n",
       "      <td>9.925709</td>\n",
       "      <td>-501.686727</td>\n",
       "      <td>7.894242</td>\n",
       "      <td>-500.356035</td>\n",
       "      <td>13.996647</td>\n",
       "      <td>-601.496691</td>\n",
       "    </tr>\n",
       "  </tbody>\n",
       "</table>\n",
       "<p>5 rows × 87 columns</p>\n",
       "</div>"
      ],
      "text/plain": [
       "                  date  final.output.concentrate_ag  \\\n",
       "0  2016-01-15 00:00:00                     6.055403   \n",
       "1  2016-01-15 01:00:00                     6.029369   \n",
       "2  2016-01-15 02:00:00                     6.055926   \n",
       "3  2016-01-15 03:00:00                     6.047977   \n",
       "4  2016-01-15 04:00:00                     6.148599   \n",
       "\n",
       "   final.output.concentrate_pb  final.output.concentrate_sol  \\\n",
       "0                     9.889648                      5.507324   \n",
       "1                     9.968944                      5.257781   \n",
       "2                    10.213995                      5.383759   \n",
       "3                     9.977019                      4.858634   \n",
       "4                    10.142511                      4.939416   \n",
       "\n",
       "   final.output.concentrate_au  final.output.recovery  final.output.tail_ag  \\\n",
       "0                    42.192020              70.541216             10.411962   \n",
       "1                    42.701629              69.266198             10.462676   \n",
       "2                    42.657501              68.116445             10.507046   \n",
       "3                    42.689819              68.347543             10.422762   \n",
       "4                    42.774141              66.927016             10.360302   \n",
       "\n",
       "   final.output.tail_pb  final.output.tail_sol  final.output.tail_au  ...  \\\n",
       "0              0.895447              16.904297              2.143149  ...   \n",
       "1              0.927452              16.634514              2.224930  ...   \n",
       "2              0.953716              16.208849              2.257889  ...   \n",
       "3              0.883763              16.532835              2.146849  ...   \n",
       "4              0.792826              16.525686              2.055292  ...   \n",
       "\n",
       "   secondary_cleaner.state.floatbank4_a_air  \\\n",
       "0                                 14.016835   \n",
       "1                                 13.992281   \n",
       "2                                 14.015015   \n",
       "3                                 14.036510   \n",
       "4                                 14.027298   \n",
       "\n",
       "   secondary_cleaner.state.floatbank4_a_level  \\\n",
       "0                                 -502.488007   \n",
       "1                                 -505.503262   \n",
       "2                                 -502.520901   \n",
       "3                                 -500.857308   \n",
       "4                                 -499.838632   \n",
       "\n",
       "   secondary_cleaner.state.floatbank4_b_air  \\\n",
       "0                                 12.099931   \n",
       "1                                 11.950531   \n",
       "2                                 11.912783   \n",
       "3                                 11.999550   \n",
       "4                                 11.953070   \n",
       "\n",
       "   secondary_cleaner.state.floatbank4_b_level  \\\n",
       "0                                 -504.715942   \n",
       "1                                 -501.331529   \n",
       "2                                 -501.133383   \n",
       "3                                 -501.193686   \n",
       "4                                 -501.053894   \n",
       "\n",
       "   secondary_cleaner.state.floatbank5_a_air  \\\n",
       "0                                  9.925633   \n",
       "1                                 10.039245   \n",
       "2                                 10.070913   \n",
       "3                                  9.970366   \n",
       "4                                  9.925709   \n",
       "\n",
       "   secondary_cleaner.state.floatbank5_a_level  \\\n",
       "0                                 -498.310211   \n",
       "1                                 -500.169983   \n",
       "2                                 -500.129135   \n",
       "3                                 -499.201640   \n",
       "4                                 -501.686727   \n",
       "\n",
       "   secondary_cleaner.state.floatbank5_b_air  \\\n",
       "0                                  8.079666   \n",
       "1                                  7.984757   \n",
       "2                                  8.013877   \n",
       "3                                  7.977324   \n",
       "4                                  7.894242   \n",
       "\n",
       "   secondary_cleaner.state.floatbank5_b_level  \\\n",
       "0                                 -500.470978   \n",
       "1                                 -500.582168   \n",
       "2                                 -500.517572   \n",
       "3                                 -500.255908   \n",
       "4                                 -500.356035   \n",
       "\n",
       "   secondary_cleaner.state.floatbank6_a_air  \\\n",
       "0                                 14.151341   \n",
       "1                                 13.998353   \n",
       "2                                 14.028663   \n",
       "3                                 14.005551   \n",
       "4                                 13.996647   \n",
       "\n",
       "   secondary_cleaner.state.floatbank6_a_level  \n",
       "0                                 -605.841980  \n",
       "1                                 -599.787184  \n",
       "2                                 -601.427363  \n",
       "3                                 -599.996129  \n",
       "4                                 -601.496691  \n",
       "\n",
       "[5 rows x 87 columns]"
      ]
     },
     "metadata": {},
     "output_type": "display_data"
    }
   ],
   "source": [
    "train_data = open_file('gold_recovery_train_new.csv')\n",
    "display(train_data.head())\n",
    "pd.set_option('display.max_columns', 90)"
   ]
  },
  {
   "cell_type": "code",
   "execution_count": 8,
   "metadata": {},
   "outputs": [
    {
     "name": "stdout",
     "output_type": "stream",
     "text": [
      "<class 'pandas.core.frame.DataFrame'>\n",
      "RangeIndex: 14149 entries, 0 to 14148\n",
      "Data columns (total 87 columns):\n",
      " #   Column                                              Non-Null Count  Dtype  \n",
      "---  ------                                              --------------  -----  \n",
      " 0   date                                                14149 non-null  object \n",
      " 1   final.output.concentrate_ag                         14148 non-null  float64\n",
      " 2   final.output.concentrate_pb                         14148 non-null  float64\n",
      " 3   final.output.concentrate_sol                        13938 non-null  float64\n",
      " 4   final.output.concentrate_au                         14149 non-null  float64\n",
      " 5   final.output.recovery                               14149 non-null  float64\n",
      " 6   final.output.tail_ag                                14149 non-null  float64\n",
      " 7   final.output.tail_pb                                14049 non-null  float64\n",
      " 8   final.output.tail_sol                               14144 non-null  float64\n",
      " 9   final.output.tail_au                                14149 non-null  float64\n",
      " 10  primary_cleaner.input.sulfate                       14129 non-null  float64\n",
      " 11  primary_cleaner.input.depressant                    14117 non-null  float64\n",
      " 12  primary_cleaner.input.feed_size                     14149 non-null  float64\n",
      " 13  primary_cleaner.input.xanthate                      14049 non-null  float64\n",
      " 14  primary_cleaner.output.concentrate_ag               14149 non-null  float64\n",
      " 15  primary_cleaner.output.concentrate_pb               14063 non-null  float64\n",
      " 16  primary_cleaner.output.concentrate_sol              13863 non-null  float64\n",
      " 17  primary_cleaner.output.concentrate_au               14149 non-null  float64\n",
      " 18  primary_cleaner.output.tail_ag                      14148 non-null  float64\n",
      " 19  primary_cleaner.output.tail_pb                      14134 non-null  float64\n",
      " 20  primary_cleaner.output.tail_sol                     14103 non-null  float64\n",
      " 21  primary_cleaner.output.tail_au                      14149 non-null  float64\n",
      " 22  primary_cleaner.state.floatbank8_a_air              14145 non-null  float64\n",
      " 23  primary_cleaner.state.floatbank8_a_level            14148 non-null  float64\n",
      " 24  primary_cleaner.state.floatbank8_b_air              14145 non-null  float64\n",
      " 25  primary_cleaner.state.floatbank8_b_level            14148 non-null  float64\n",
      " 26  primary_cleaner.state.floatbank8_c_air              14147 non-null  float64\n",
      " 27  primary_cleaner.state.floatbank8_c_level            14148 non-null  float64\n",
      " 28  primary_cleaner.state.floatbank8_d_air              14146 non-null  float64\n",
      " 29  primary_cleaner.state.floatbank8_d_level            14148 non-null  float64\n",
      " 30  rougher.calculation.sulfate_to_au_concentrate       14148 non-null  float64\n",
      " 31  rougher.calculation.floatbank10_sulfate_to_au_feed  14148 non-null  float64\n",
      " 32  rougher.calculation.floatbank11_sulfate_to_au_feed  14148 non-null  float64\n",
      " 33  rougher.calculation.au_pb_ratio                     14149 non-null  float64\n",
      " 34  rougher.input.feed_ag                               14149 non-null  float64\n",
      " 35  rougher.input.feed_pb                               14049 non-null  float64\n",
      " 36  rougher.input.feed_rate                             14141 non-null  float64\n",
      " 37  rougher.input.feed_size                             14005 non-null  float64\n",
      " 38  rougher.input.feed_sol                              14071 non-null  float64\n",
      " 39  rougher.input.feed_au                               14149 non-null  float64\n",
      " 40  rougher.input.floatbank10_sulfate                   14120 non-null  float64\n",
      " 41  rougher.input.floatbank10_xanthate                  14141 non-null  float64\n",
      " 42  rougher.input.floatbank11_sulfate                   14113 non-null  float64\n",
      " 43  rougher.input.floatbank11_xanthate                  13721 non-null  float64\n",
      " 44  rougher.output.concentrate_ag                       14149 non-null  float64\n",
      " 45  rougher.output.concentrate_pb                       14149 non-null  float64\n",
      " 46  rougher.output.concentrate_sol                      14127 non-null  float64\n",
      " 47  rougher.output.concentrate_au                       14149 non-null  float64\n",
      " 48  rougher.output.recovery                             14149 non-null  float64\n",
      " 49  rougher.output.tail_ag                              14148 non-null  float64\n",
      " 50  rougher.output.tail_pb                              14149 non-null  float64\n",
      " 51  rougher.output.tail_sol                             14149 non-null  float64\n",
      " 52  rougher.output.tail_au                              14149 non-null  float64\n",
      " 53  rougher.state.floatbank10_a_air                     14148 non-null  float64\n",
      " 54  rougher.state.floatbank10_a_level                   14148 non-null  float64\n",
      " 55  rougher.state.floatbank10_b_air                     14148 non-null  float64\n",
      " 56  rougher.state.floatbank10_b_level                   14148 non-null  float64\n",
      " 57  rougher.state.floatbank10_c_air                     14148 non-null  float64\n",
      " 58  rougher.state.floatbank10_c_level                   14148 non-null  float64\n",
      " 59  rougher.state.floatbank10_d_air                     14149 non-null  float64\n",
      " 60  rougher.state.floatbank10_d_level                   14149 non-null  float64\n",
      " 61  rougher.state.floatbank10_e_air                     13713 non-null  float64\n",
      " 62  rougher.state.floatbank10_e_level                   14149 non-null  float64\n",
      " 63  rougher.state.floatbank10_f_air                     14149 non-null  float64\n",
      " 64  rougher.state.floatbank10_f_level                   14149 non-null  float64\n",
      " 65  secondary_cleaner.output.tail_ag                    14147 non-null  float64\n",
      " 66  secondary_cleaner.output.tail_pb                    14139 non-null  float64\n",
      " 67  secondary_cleaner.output.tail_sol                   12544 non-null  float64\n",
      " 68  secondary_cleaner.output.tail_au                    14149 non-null  float64\n",
      " 69  secondary_cleaner.state.floatbank2_a_air            13932 non-null  float64\n",
      " 70  secondary_cleaner.state.floatbank2_a_level          14148 non-null  float64\n",
      " 71  secondary_cleaner.state.floatbank2_b_air            14128 non-null  float64\n",
      " 72  secondary_cleaner.state.floatbank2_b_level          14148 non-null  float64\n",
      " 73  secondary_cleaner.state.floatbank3_a_air            14145 non-null  float64\n",
      " 74  secondary_cleaner.state.floatbank3_a_level          14148 non-null  float64\n",
      " 75  secondary_cleaner.state.floatbank3_b_air            14148 non-null  float64\n",
      " 76  secondary_cleaner.state.floatbank3_b_level          14148 non-null  float64\n",
      " 77  secondary_cleaner.state.floatbank4_a_air            14143 non-null  float64\n",
      " 78  secondary_cleaner.state.floatbank4_a_level          14148 non-null  float64\n",
      " 79  secondary_cleaner.state.floatbank4_b_air            14148 non-null  float64\n",
      " 80  secondary_cleaner.state.floatbank4_b_level          14148 non-null  float64\n",
      " 81  secondary_cleaner.state.floatbank5_a_air            14148 non-null  float64\n",
      " 82  secondary_cleaner.state.floatbank5_a_level          14148 non-null  float64\n",
      " 83  secondary_cleaner.state.floatbank5_b_air            14148 non-null  float64\n",
      " 84  secondary_cleaner.state.floatbank5_b_level          14148 non-null  float64\n",
      " 85  secondary_cleaner.state.floatbank6_a_air            14147 non-null  float64\n",
      " 86  secondary_cleaner.state.floatbank6_a_level          14148 non-null  float64\n",
      "dtypes: float64(86), object(1)\n",
      "memory usage: 9.4+ MB\n"
     ]
    }
   ],
   "source": [
    "data_info(train_data)"
   ]
  },
  {
   "cell_type": "code",
   "execution_count": 9,
   "metadata": {},
   "outputs": [
    {
     "data": {
      "text/html": [
       "<div>\n",
       "<style scoped>\n",
       "    .dataframe tbody tr th:only-of-type {\n",
       "        vertical-align: middle;\n",
       "    }\n",
       "\n",
       "    .dataframe tbody tr th {\n",
       "        vertical-align: top;\n",
       "    }\n",
       "\n",
       "    .dataframe thead th {\n",
       "        text-align: right;\n",
       "    }\n",
       "</style>\n",
       "<table border=\"1\" class=\"dataframe\">\n",
       "  <thead>\n",
       "    <tr style=\"text-align: right;\">\n",
       "      <th></th>\n",
       "      <th>final.output.concentrate_ag</th>\n",
       "      <th>final.output.concentrate_pb</th>\n",
       "      <th>final.output.concentrate_sol</th>\n",
       "      <th>final.output.concentrate_au</th>\n",
       "      <th>final.output.recovery</th>\n",
       "      <th>final.output.tail_ag</th>\n",
       "      <th>final.output.tail_pb</th>\n",
       "      <th>final.output.tail_sol</th>\n",
       "      <th>final.output.tail_au</th>\n",
       "      <th>primary_cleaner.input.sulfate</th>\n",
       "      <th>primary_cleaner.input.depressant</th>\n",
       "      <th>primary_cleaner.input.feed_size</th>\n",
       "      <th>primary_cleaner.input.xanthate</th>\n",
       "      <th>primary_cleaner.output.concentrate_ag</th>\n",
       "      <th>primary_cleaner.output.concentrate_pb</th>\n",
       "      <th>primary_cleaner.output.concentrate_sol</th>\n",
       "      <th>primary_cleaner.output.concentrate_au</th>\n",
       "      <th>primary_cleaner.output.tail_ag</th>\n",
       "      <th>primary_cleaner.output.tail_pb</th>\n",
       "      <th>primary_cleaner.output.tail_sol</th>\n",
       "      <th>primary_cleaner.output.tail_au</th>\n",
       "      <th>primary_cleaner.state.floatbank8_a_air</th>\n",
       "      <th>primary_cleaner.state.floatbank8_a_level</th>\n",
       "      <th>primary_cleaner.state.floatbank8_b_air</th>\n",
       "      <th>primary_cleaner.state.floatbank8_b_level</th>\n",
       "      <th>primary_cleaner.state.floatbank8_c_air</th>\n",
       "      <th>primary_cleaner.state.floatbank8_c_level</th>\n",
       "      <th>primary_cleaner.state.floatbank8_d_air</th>\n",
       "      <th>primary_cleaner.state.floatbank8_d_level</th>\n",
       "      <th>rougher.calculation.sulfate_to_au_concentrate</th>\n",
       "      <th>rougher.calculation.floatbank10_sulfate_to_au_feed</th>\n",
       "      <th>rougher.calculation.floatbank11_sulfate_to_au_feed</th>\n",
       "      <th>rougher.calculation.au_pb_ratio</th>\n",
       "      <th>rougher.input.feed_ag</th>\n",
       "      <th>rougher.input.feed_pb</th>\n",
       "      <th>rougher.input.feed_rate</th>\n",
       "      <th>rougher.input.feed_size</th>\n",
       "      <th>rougher.input.feed_sol</th>\n",
       "      <th>rougher.input.feed_au</th>\n",
       "      <th>rougher.input.floatbank10_sulfate</th>\n",
       "      <th>rougher.input.floatbank10_xanthate</th>\n",
       "      <th>rougher.input.floatbank11_sulfate</th>\n",
       "      <th>rougher.input.floatbank11_xanthate</th>\n",
       "      <th>rougher.output.concentrate_ag</th>\n",
       "      <th>rougher.output.concentrate_pb</th>\n",
       "      <th>rougher.output.concentrate_sol</th>\n",
       "      <th>rougher.output.concentrate_au</th>\n",
       "      <th>rougher.output.recovery</th>\n",
       "      <th>rougher.output.tail_ag</th>\n",
       "      <th>rougher.output.tail_pb</th>\n",
       "      <th>rougher.output.tail_sol</th>\n",
       "      <th>rougher.output.tail_au</th>\n",
       "      <th>rougher.state.floatbank10_a_air</th>\n",
       "      <th>rougher.state.floatbank10_a_level</th>\n",
       "      <th>rougher.state.floatbank10_b_air</th>\n",
       "      <th>rougher.state.floatbank10_b_level</th>\n",
       "      <th>rougher.state.floatbank10_c_air</th>\n",
       "      <th>rougher.state.floatbank10_c_level</th>\n",
       "      <th>rougher.state.floatbank10_d_air</th>\n",
       "      <th>rougher.state.floatbank10_d_level</th>\n",
       "      <th>rougher.state.floatbank10_e_air</th>\n",
       "      <th>rougher.state.floatbank10_e_level</th>\n",
       "      <th>rougher.state.floatbank10_f_air</th>\n",
       "      <th>rougher.state.floatbank10_f_level</th>\n",
       "      <th>secondary_cleaner.output.tail_ag</th>\n",
       "      <th>secondary_cleaner.output.tail_pb</th>\n",
       "      <th>secondary_cleaner.output.tail_sol</th>\n",
       "      <th>secondary_cleaner.output.tail_au</th>\n",
       "      <th>secondary_cleaner.state.floatbank2_a_air</th>\n",
       "      <th>secondary_cleaner.state.floatbank2_a_level</th>\n",
       "      <th>secondary_cleaner.state.floatbank2_b_air</th>\n",
       "      <th>secondary_cleaner.state.floatbank2_b_level</th>\n",
       "      <th>secondary_cleaner.state.floatbank3_a_air</th>\n",
       "      <th>secondary_cleaner.state.floatbank3_a_level</th>\n",
       "      <th>secondary_cleaner.state.floatbank3_b_air</th>\n",
       "      <th>secondary_cleaner.state.floatbank3_b_level</th>\n",
       "      <th>secondary_cleaner.state.floatbank4_a_air</th>\n",
       "      <th>secondary_cleaner.state.floatbank4_a_level</th>\n",
       "      <th>secondary_cleaner.state.floatbank4_b_air</th>\n",
       "      <th>secondary_cleaner.state.floatbank4_b_level</th>\n",
       "      <th>secondary_cleaner.state.floatbank5_a_air</th>\n",
       "      <th>secondary_cleaner.state.floatbank5_a_level</th>\n",
       "      <th>secondary_cleaner.state.floatbank5_b_air</th>\n",
       "      <th>secondary_cleaner.state.floatbank5_b_level</th>\n",
       "      <th>secondary_cleaner.state.floatbank6_a_air</th>\n",
       "      <th>secondary_cleaner.state.floatbank6_a_level</th>\n",
       "    </tr>\n",
       "  </thead>\n",
       "  <tbody>\n",
       "    <tr>\n",
       "      <th>count</th>\n",
       "      <td>14148.000000</td>\n",
       "      <td>14148.000000</td>\n",
       "      <td>13938.000000</td>\n",
       "      <td>14149.000000</td>\n",
       "      <td>14149.000000</td>\n",
       "      <td>14149.000000</td>\n",
       "      <td>14049.000000</td>\n",
       "      <td>14144.000000</td>\n",
       "      <td>14149.000000</td>\n",
       "      <td>14129.000000</td>\n",
       "      <td>14117.000000</td>\n",
       "      <td>14149.000000</td>\n",
       "      <td>14049.000000</td>\n",
       "      <td>14149.000000</td>\n",
       "      <td>14063.000000</td>\n",
       "      <td>13863.000000</td>\n",
       "      <td>14149.000000</td>\n",
       "      <td>14148.000000</td>\n",
       "      <td>14134.000000</td>\n",
       "      <td>14103.000000</td>\n",
       "      <td>14149.000000</td>\n",
       "      <td>14145.000000</td>\n",
       "      <td>14148.000000</td>\n",
       "      <td>14145.000000</td>\n",
       "      <td>14148.000000</td>\n",
       "      <td>14147.000000</td>\n",
       "      <td>14148.000000</td>\n",
       "      <td>14146.000000</td>\n",
       "      <td>14148.000000</td>\n",
       "      <td>1.414800e+04</td>\n",
       "      <td>14148.000000</td>\n",
       "      <td>14148.000000</td>\n",
       "      <td>14149.000000</td>\n",
       "      <td>14149.000000</td>\n",
       "      <td>14049.000000</td>\n",
       "      <td>14141.000000</td>\n",
       "      <td>14005.000000</td>\n",
       "      <td>14071.000000</td>\n",
       "      <td>14149.000000</td>\n",
       "      <td>14120.000000</td>\n",
       "      <td>14141.000000</td>\n",
       "      <td>14113.000000</td>\n",
       "      <td>13721.000000</td>\n",
       "      <td>14149.000000</td>\n",
       "      <td>14149.000000</td>\n",
       "      <td>14127.000000</td>\n",
       "      <td>14149.000000</td>\n",
       "      <td>14149.000000</td>\n",
       "      <td>14148.000000</td>\n",
       "      <td>14149.000000</td>\n",
       "      <td>14149.000000</td>\n",
       "      <td>14149.000000</td>\n",
       "      <td>14148.000000</td>\n",
       "      <td>14148.000000</td>\n",
       "      <td>14148.000000</td>\n",
       "      <td>14148.000000</td>\n",
       "      <td>14148.000000</td>\n",
       "      <td>14148.000000</td>\n",
       "      <td>14149.000000</td>\n",
       "      <td>14149.000000</td>\n",
       "      <td>13713.000000</td>\n",
       "      <td>14149.000000</td>\n",
       "      <td>14149.000000</td>\n",
       "      <td>14149.000000</td>\n",
       "      <td>14147.000000</td>\n",
       "      <td>14139.000000</td>\n",
       "      <td>12544.000000</td>\n",
       "      <td>14149.000000</td>\n",
       "      <td>13932.000000</td>\n",
       "      <td>14148.000000</td>\n",
       "      <td>14128.000000</td>\n",
       "      <td>14148.000000</td>\n",
       "      <td>14145.000000</td>\n",
       "      <td>14148.000000</td>\n",
       "      <td>14148.000000</td>\n",
       "      <td>14148.000000</td>\n",
       "      <td>14143.000000</td>\n",
       "      <td>14148.000000</td>\n",
       "      <td>14148.000000</td>\n",
       "      <td>14148.000000</td>\n",
       "      <td>14148.000000</td>\n",
       "      <td>14148.000000</td>\n",
       "      <td>14148.000000</td>\n",
       "      <td>14148.000000</td>\n",
       "      <td>14147.000000</td>\n",
       "      <td>14148.000000</td>\n",
       "    </tr>\n",
       "    <tr>\n",
       "      <th>mean</th>\n",
       "      <td>5.142034</td>\n",
       "      <td>10.132960</td>\n",
       "      <td>9.202849</td>\n",
       "      <td>44.003792</td>\n",
       "      <td>66.518832</td>\n",
       "      <td>9.607035</td>\n",
       "      <td>2.597298</td>\n",
       "      <td>10.512122</td>\n",
       "      <td>2.918421</td>\n",
       "      <td>133.320659</td>\n",
       "      <td>8.866996</td>\n",
       "      <td>7.322310</td>\n",
       "      <td>0.885588</td>\n",
       "      <td>8.200916</td>\n",
       "      <td>9.588862</td>\n",
       "      <td>10.114745</td>\n",
       "      <td>32.386836</td>\n",
       "      <td>16.303929</td>\n",
       "      <td>3.443398</td>\n",
       "      <td>7.533566</td>\n",
       "      <td>3.839637</td>\n",
       "      <td>1608.000064</td>\n",
       "      <td>-488.775525</td>\n",
       "      <td>1608.610983</td>\n",
       "      <td>-489.171786</td>\n",
       "      <td>1608.879407</td>\n",
       "      <td>-489.605549</td>\n",
       "      <td>1542.189963</td>\n",
       "      <td>-483.462423</td>\n",
       "      <td>4.038265e+04</td>\n",
       "      <td>3456.608298</td>\n",
       "      <td>3253.356387</td>\n",
       "      <td>2.367314</td>\n",
       "      <td>8.579195</td>\n",
       "      <td>3.522778</td>\n",
       "      <td>474.027714</td>\n",
       "      <td>60.110518</td>\n",
       "      <td>36.312593</td>\n",
       "      <td>7.866577</td>\n",
       "      <td>11.764931</td>\n",
       "      <td>5.854529</td>\n",
       "      <td>11.368685</td>\n",
       "      <td>5.894176</td>\n",
       "      <td>11.775812</td>\n",
       "      <td>7.664555</td>\n",
       "      <td>28.302715</td>\n",
       "      <td>19.439958</td>\n",
       "      <td>82.704502</td>\n",
       "      <td>5.567124</td>\n",
       "      <td>0.653277</td>\n",
       "      <td>17.882853</td>\n",
       "      <td>1.757473</td>\n",
       "      <td>1124.726280</td>\n",
       "      <td>-369.460950</td>\n",
       "      <td>1320.705069</td>\n",
       "      <td>-464.258983</td>\n",
       "      <td>1299.360578</td>\n",
       "      <td>-465.054849</td>\n",
       "      <td>1210.335236</td>\n",
       "      <td>-465.457377</td>\n",
       "      <td>1090.213187</td>\n",
       "      <td>-464.919119</td>\n",
       "      <td>1035.490299</td>\n",
       "      <td>-464.688631</td>\n",
       "      <td>14.281629</td>\n",
       "      <td>5.848863</td>\n",
       "      <td>6.938693</td>\n",
       "      <td>4.246961</td>\n",
       "      <td>29.613649</td>\n",
       "      <td>-502.223914</td>\n",
       "      <td>24.914403</td>\n",
       "      <td>-503.695706</td>\n",
       "      <td>29.243372</td>\n",
       "      <td>-478.244059</td>\n",
       "      <td>22.656261</td>\n",
       "      <td>-488.924046</td>\n",
       "      <td>19.985454</td>\n",
       "      <td>-478.696836</td>\n",
       "      <td>15.487065</td>\n",
       "      <td>-460.229416</td>\n",
       "      <td>16.775136</td>\n",
       "      <td>-483.956022</td>\n",
       "      <td>13.064590</td>\n",
       "      <td>-483.966564</td>\n",
       "      <td>19.577539</td>\n",
       "      <td>-506.798480</td>\n",
       "    </tr>\n",
       "    <tr>\n",
       "      <th>std</th>\n",
       "      <td>1.369586</td>\n",
       "      <td>1.654930</td>\n",
       "      <td>2.790516</td>\n",
       "      <td>4.905261</td>\n",
       "      <td>10.295402</td>\n",
       "      <td>2.319069</td>\n",
       "      <td>0.971843</td>\n",
       "      <td>3.003617</td>\n",
       "      <td>0.903712</td>\n",
       "      <td>39.431659</td>\n",
       "      <td>3.361589</td>\n",
       "      <td>0.614062</td>\n",
       "      <td>0.372714</td>\n",
       "      <td>2.005185</td>\n",
       "      <td>2.694296</td>\n",
       "      <td>4.064076</td>\n",
       "      <td>5.798843</td>\n",
       "      <td>3.739843</td>\n",
       "      <td>1.490106</td>\n",
       "      <td>2.133220</td>\n",
       "      <td>1.603544</td>\n",
       "      <td>128.394355</td>\n",
       "      <td>35.704184</td>\n",
       "      <td>131.112729</td>\n",
       "      <td>33.604449</td>\n",
       "      <td>134.266898</td>\n",
       "      <td>35.624002</td>\n",
       "      <td>278.316132</td>\n",
       "      <td>47.100934</td>\n",
       "      <td>3.801436e+05</td>\n",
       "      <td>5772.510248</td>\n",
       "      <td>6753.290662</td>\n",
       "      <td>0.873551</td>\n",
       "      <td>1.896284</td>\n",
       "      <td>1.073394</td>\n",
       "      <td>104.039838</td>\n",
       "      <td>22.418485</td>\n",
       "      <td>4.956057</td>\n",
       "      <td>1.919506</td>\n",
       "      <td>3.278813</td>\n",
       "      <td>1.104263</td>\n",
       "      <td>3.743672</td>\n",
       "      <td>1.124233</td>\n",
       "      <td>2.731747</td>\n",
       "      <td>1.856279</td>\n",
       "      <td>6.102982</td>\n",
       "      <td>3.765192</td>\n",
       "      <td>14.479156</td>\n",
       "      <td>1.039136</td>\n",
       "      <td>0.263766</td>\n",
       "      <td>3.432859</td>\n",
       "      <td>0.713187</td>\n",
       "      <td>169.310825</td>\n",
       "      <td>93.952787</td>\n",
       "      <td>183.155975</td>\n",
       "      <td>57.401954</td>\n",
       "      <td>213.404094</td>\n",
       "      <td>55.904716</td>\n",
       "      <td>210.431555</td>\n",
       "      <td>55.771393</td>\n",
       "      <td>184.610118</td>\n",
       "      <td>56.602962</td>\n",
       "      <td>175.052279</td>\n",
       "      <td>56.645965</td>\n",
       "      <td>4.477126</td>\n",
       "      <td>2.861799</td>\n",
       "      <td>4.155487</td>\n",
       "      <td>2.389060</td>\n",
       "      <td>5.800494</td>\n",
       "      <td>60.281705</td>\n",
       "      <td>5.994959</td>\n",
       "      <td>62.837357</td>\n",
       "      <td>5.637309</td>\n",
       "      <td>54.655143</td>\n",
       "      <td>4.996017</td>\n",
       "      <td>41.928112</td>\n",
       "      <td>5.657723</td>\n",
       "      <td>50.736021</td>\n",
       "      <td>5.255655</td>\n",
       "      <td>58.843586</td>\n",
       "      <td>5.831906</td>\n",
       "      <td>37.892788</td>\n",
       "      <td>5.765617</td>\n",
       "      <td>39.207913</td>\n",
       "      <td>5.764417</td>\n",
       "      <td>37.079249</td>\n",
       "    </tr>\n",
       "    <tr>\n",
       "      <th>min</th>\n",
       "      <td>0.000000</td>\n",
       "      <td>0.000000</td>\n",
       "      <td>0.000000</td>\n",
       "      <td>0.000000</td>\n",
       "      <td>0.000000</td>\n",
       "      <td>0.000000</td>\n",
       "      <td>0.000000</td>\n",
       "      <td>0.000000</td>\n",
       "      <td>0.000000</td>\n",
       "      <td>0.003112</td>\n",
       "      <td>0.000000</td>\n",
       "      <td>1.080000</td>\n",
       "      <td>0.000005</td>\n",
       "      <td>0.000000</td>\n",
       "      <td>0.000000</td>\n",
       "      <td>0.000000</td>\n",
       "      <td>0.000000</td>\n",
       "      <td>0.000000</td>\n",
       "      <td>0.000000</td>\n",
       "      <td>0.000000</td>\n",
       "      <td>0.000000</td>\n",
       "      <td>0.006352</td>\n",
       "      <td>-798.641662</td>\n",
       "      <td>0.008700</td>\n",
       "      <td>-740.122129</td>\n",
       "      <td>0.015159</td>\n",
       "      <td>-799.803073</td>\n",
       "      <td>0.008655</td>\n",
       "      <td>-799.788598</td>\n",
       "      <td>-4.223520e+07</td>\n",
       "      <td>-486.598675</td>\n",
       "      <td>-264.982785</td>\n",
       "      <td>-0.010548</td>\n",
       "      <td>0.010000</td>\n",
       "      <td>0.010000</td>\n",
       "      <td>0.012786</td>\n",
       "      <td>9.659576</td>\n",
       "      <td>0.010000</td>\n",
       "      <td>0.010000</td>\n",
       "      <td>0.001083</td>\n",
       "      <td>0.001428</td>\n",
       "      <td>0.000098</td>\n",
       "      <td>0.000290</td>\n",
       "      <td>0.000000</td>\n",
       "      <td>0.000000</td>\n",
       "      <td>0.000000</td>\n",
       "      <td>0.000000</td>\n",
       "      <td>0.000000</td>\n",
       "      <td>0.594562</td>\n",
       "      <td>0.007566</td>\n",
       "      <td>10.014648</td>\n",
       "      <td>0.020676</td>\n",
       "      <td>-0.041078</td>\n",
       "      <td>-650.202881</td>\n",
       "      <td>-0.653384</td>\n",
       "      <td>-650.260008</td>\n",
       "      <td>-0.035112</td>\n",
       "      <td>-640.995627</td>\n",
       "      <td>-0.554299</td>\n",
       "      <td>-640.519003</td>\n",
       "      <td>-1.970275</td>\n",
       "      <td>-649.443911</td>\n",
       "      <td>-2.430587</td>\n",
       "      <td>-649.880981</td>\n",
       "      <td>0.000000</td>\n",
       "      <td>0.000000</td>\n",
       "      <td>0.000000</td>\n",
       "      <td>0.000000</td>\n",
       "      <td>0.077503</td>\n",
       "      <td>-799.606441</td>\n",
       "      <td>0.000000</td>\n",
       "      <td>-799.873878</td>\n",
       "      <td>0.000000</td>\n",
       "      <td>-799.613013</td>\n",
       "      <td>0.000000</td>\n",
       "      <td>-759.177381</td>\n",
       "      <td>0.000000</td>\n",
       "      <td>-799.709069</td>\n",
       "      <td>0.000000</td>\n",
       "      <td>-799.889113</td>\n",
       "      <td>-0.372054</td>\n",
       "      <td>-797.142475</td>\n",
       "      <td>0.646208</td>\n",
       "      <td>-800.006180</td>\n",
       "      <td>0.195324</td>\n",
       "      <td>-809.398668</td>\n",
       "    </tr>\n",
       "    <tr>\n",
       "      <th>25%</th>\n",
       "      <td>4.211620</td>\n",
       "      <td>9.297355</td>\n",
       "      <td>7.484645</td>\n",
       "      <td>43.276111</td>\n",
       "      <td>62.545817</td>\n",
       "      <td>7.997429</td>\n",
       "      <td>1.905973</td>\n",
       "      <td>8.811324</td>\n",
       "      <td>2.368607</td>\n",
       "      <td>107.006651</td>\n",
       "      <td>6.040604</td>\n",
       "      <td>6.960000</td>\n",
       "      <td>0.607021</td>\n",
       "      <td>7.107126</td>\n",
       "      <td>8.333489</td>\n",
       "      <td>7.488139</td>\n",
       "      <td>30.857764</td>\n",
       "      <td>13.873147</td>\n",
       "      <td>2.420259</td>\n",
       "      <td>6.332548</td>\n",
       "      <td>2.867957</td>\n",
       "      <td>1595.695815</td>\n",
       "      <td>-500.287952</td>\n",
       "      <td>1558.959943</td>\n",
       "      <td>-500.375645</td>\n",
       "      <td>1549.871886</td>\n",
       "      <td>-500.601718</td>\n",
       "      <td>1452.678767</td>\n",
       "      <td>-500.459917</td>\n",
       "      <td>3.999430e+04</td>\n",
       "      <td>2527.093354</td>\n",
       "      <td>2512.200873</td>\n",
       "      <td>1.999588</td>\n",
       "      <td>7.132802</td>\n",
       "      <td>2.780010</td>\n",
       "      <td>420.781913</td>\n",
       "      <td>48.973027</td>\n",
       "      <td>34.117635</td>\n",
       "      <td>6.596217</td>\n",
       "      <td>9.861100</td>\n",
       "      <td>5.117359</td>\n",
       "      <td>9.505507</td>\n",
       "      <td>5.199168</td>\n",
       "      <td>10.486871</td>\n",
       "      <td>6.850501</td>\n",
       "      <td>26.703554</td>\n",
       "      <td>18.432161</td>\n",
       "      <td>79.993067</td>\n",
       "      <td>4.921647</td>\n",
       "      <td>0.474047</td>\n",
       "      <td>15.688727</td>\n",
       "      <td>1.310800</td>\n",
       "      <td>999.799166</td>\n",
       "      <td>-499.787867</td>\n",
       "      <td>1199.366448</td>\n",
       "      <td>-500.183028</td>\n",
       "      <td>1103.095071</td>\n",
       "      <td>-500.211863</td>\n",
       "      <td>1059.708509</td>\n",
       "      <td>-500.359197</td>\n",
       "      <td>997.183864</td>\n",
       "      <td>-500.250033</td>\n",
       "      <td>900.966986</td>\n",
       "      <td>-500.476526</td>\n",
       "      <td>12.177364</td>\n",
       "      <td>3.982298</td>\n",
       "      <td>3.225486</td>\n",
       "      <td>3.153122</td>\n",
       "      <td>25.099584</td>\n",
       "      <td>-500.248814</td>\n",
       "      <td>22.048294</td>\n",
       "      <td>-500.270997</td>\n",
       "      <td>24.991662</td>\n",
       "      <td>-500.175065</td>\n",
       "      <td>19.948436</td>\n",
       "      <td>-500.110581</td>\n",
       "      <td>14.990775</td>\n",
       "      <td>-500.628656</td>\n",
       "      <td>11.894558</td>\n",
       "      <td>-500.149000</td>\n",
       "      <td>11.083980</td>\n",
       "      <td>-500.363177</td>\n",
       "      <td>8.994405</td>\n",
       "      <td>-500.105994</td>\n",
       "      <td>14.989304</td>\n",
       "      <td>-500.745104</td>\n",
       "    </tr>\n",
       "    <tr>\n",
       "      <th>50%</th>\n",
       "      <td>4.994652</td>\n",
       "      <td>10.297144</td>\n",
       "      <td>8.845462</td>\n",
       "      <td>44.872436</td>\n",
       "      <td>67.432775</td>\n",
       "      <td>9.480270</td>\n",
       "      <td>2.592022</td>\n",
       "      <td>10.514621</td>\n",
       "      <td>2.851025</td>\n",
       "      <td>133.018328</td>\n",
       "      <td>8.035811</td>\n",
       "      <td>7.290000</td>\n",
       "      <td>0.888749</td>\n",
       "      <td>8.226247</td>\n",
       "      <td>9.933520</td>\n",
       "      <td>9.726566</td>\n",
       "      <td>33.225835</td>\n",
       "      <td>15.800604</td>\n",
       "      <td>3.218374</td>\n",
       "      <td>7.714419</td>\n",
       "      <td>3.510337</td>\n",
       "      <td>1601.824410</td>\n",
       "      <td>-499.909375</td>\n",
       "      <td>1601.818514</td>\n",
       "      <td>-499.938003</td>\n",
       "      <td>1601.574628</td>\n",
       "      <td>-499.871346</td>\n",
       "      <td>1600.168346</td>\n",
       "      <td>-499.831833</td>\n",
       "      <td>4.368431e+04</td>\n",
       "      <td>2975.892211</td>\n",
       "      <td>2899.807724</td>\n",
       "      <td>2.249275</td>\n",
       "      <td>8.156092</td>\n",
       "      <td>3.422677</td>\n",
       "      <td>499.454777</td>\n",
       "      <td>55.373885</td>\n",
       "      <td>37.020345</td>\n",
       "      <td>7.649138</td>\n",
       "      <td>11.688702</td>\n",
       "      <td>5.951071</td>\n",
       "      <td>11.384283</td>\n",
       "      <td>5.998460</td>\n",
       "      <td>11.747362</td>\n",
       "      <td>7.760435</td>\n",
       "      <td>29.257545</td>\n",
       "      <td>19.947312</td>\n",
       "      <td>85.299462</td>\n",
       "      <td>5.722018</td>\n",
       "      <td>0.625805</td>\n",
       "      <td>18.015894</td>\n",
       "      <td>1.745513</td>\n",
       "      <td>1001.685708</td>\n",
       "      <td>-300.175125</td>\n",
       "      <td>1301.365123</td>\n",
       "      <td>-499.764620</td>\n",
       "      <td>1300.213385</td>\n",
       "      <td>-499.682528</td>\n",
       "      <td>1200.744308</td>\n",
       "      <td>-499.465285</td>\n",
       "      <td>1050.496363</td>\n",
       "      <td>-499.611447</td>\n",
       "      <td>1000.053757</td>\n",
       "      <td>-499.364335</td>\n",
       "      <td>15.357951</td>\n",
       "      <td>5.442310</td>\n",
       "      <td>7.302639</td>\n",
       "      <td>3.980210</td>\n",
       "      <td>30.027721</td>\n",
       "      <td>-499.959206</td>\n",
       "      <td>27.022783</td>\n",
       "      <td>-500.014092</td>\n",
       "      <td>28.016530</td>\n",
       "      <td>-499.877837</td>\n",
       "      <td>22.037270</td>\n",
       "      <td>-499.966809</td>\n",
       "      <td>20.001789</td>\n",
       "      <td>-499.681450</td>\n",
       "      <td>14.975536</td>\n",
       "      <td>-499.388738</td>\n",
       "      <td>17.932223</td>\n",
       "      <td>-499.702452</td>\n",
       "      <td>11.997547</td>\n",
       "      <td>-499.914556</td>\n",
       "      <td>19.984175</td>\n",
       "      <td>-500.061431</td>\n",
       "    </tr>\n",
       "    <tr>\n",
       "      <th>75%</th>\n",
       "      <td>5.859540</td>\n",
       "      <td>11.170603</td>\n",
       "      <td>10.487508</td>\n",
       "      <td>46.166425</td>\n",
       "      <td>72.346428</td>\n",
       "      <td>11.003707</td>\n",
       "      <td>3.241723</td>\n",
       "      <td>11.933009</td>\n",
       "      <td>3.434764</td>\n",
       "      <td>159.825396</td>\n",
       "      <td>11.522173</td>\n",
       "      <td>7.700000</td>\n",
       "      <td>1.100933</td>\n",
       "      <td>9.504924</td>\n",
       "      <td>11.310817</td>\n",
       "      <td>13.052807</td>\n",
       "      <td>35.330145</td>\n",
       "      <td>18.450109</td>\n",
       "      <td>4.253218</td>\n",
       "      <td>8.910664</td>\n",
       "      <td>4.492470</td>\n",
       "      <td>1699.716408</td>\n",
       "      <td>-499.378551</td>\n",
       "      <td>1700.215351</td>\n",
       "      <td>-499.389658</td>\n",
       "      <td>1700.464037</td>\n",
       "      <td>-498.801774</td>\n",
       "      <td>1699.358771</td>\n",
       "      <td>-498.480341</td>\n",
       "      <td>4.776041e+04</td>\n",
       "      <td>3716.360822</td>\n",
       "      <td>3596.534806</td>\n",
       "      <td>2.660896</td>\n",
       "      <td>9.918304</td>\n",
       "      <td>4.226107</td>\n",
       "      <td>547.334973</td>\n",
       "      <td>66.080172</td>\n",
       "      <td>39.423265</td>\n",
       "      <td>9.066976</td>\n",
       "      <td>13.607115</td>\n",
       "      <td>6.602533</td>\n",
       "      <td>13.497134</td>\n",
       "      <td>6.699006</td>\n",
       "      <td>13.426419</td>\n",
       "      <td>8.601927</td>\n",
       "      <td>31.743913</td>\n",
       "      <td>21.392714</td>\n",
       "      <td>90.165021</td>\n",
       "      <td>6.310633</td>\n",
       "      <td>0.794326</td>\n",
       "      <td>19.938672</td>\n",
       "      <td>2.186790</td>\n",
       "      <td>1299.505513</td>\n",
       "      <td>-299.963153</td>\n",
       "      <td>1449.553689</td>\n",
       "      <td>-400.425493</td>\n",
       "      <td>1450.350668</td>\n",
       "      <td>-400.664736</td>\n",
       "      <td>1344.378462</td>\n",
       "      <td>-401.052891</td>\n",
       "      <td>1200.047746</td>\n",
       "      <td>-400.596104</td>\n",
       "      <td>1100.165435</td>\n",
       "      <td>-401.014951</td>\n",
       "      <td>17.230151</td>\n",
       "      <td>7.797948</td>\n",
       "      <td>10.547068</td>\n",
       "      <td>4.883943</td>\n",
       "      <td>34.893057</td>\n",
       "      <td>-499.593198</td>\n",
       "      <td>28.939454</td>\n",
       "      <td>-499.764112</td>\n",
       "      <td>34.990095</td>\n",
       "      <td>-436.923166</td>\n",
       "      <td>25.970365</td>\n",
       "      <td>-499.757501</td>\n",
       "      <td>24.990826</td>\n",
       "      <td>-477.472413</td>\n",
       "      <td>20.059375</td>\n",
       "      <td>-400.039008</td>\n",
       "      <td>21.346550</td>\n",
       "      <td>-487.712108</td>\n",
       "      <td>17.982903</td>\n",
       "      <td>-453.186936</td>\n",
       "      <td>24.991623</td>\n",
       "      <td>-499.536466</td>\n",
       "    </tr>\n",
       "    <tr>\n",
       "      <th>max</th>\n",
       "      <td>16.001945</td>\n",
       "      <td>17.031899</td>\n",
       "      <td>18.124851</td>\n",
       "      <td>52.756638</td>\n",
       "      <td>100.000000</td>\n",
       "      <td>19.552149</td>\n",
       "      <td>5.639565</td>\n",
       "      <td>22.317730</td>\n",
       "      <td>8.197408</td>\n",
       "      <td>250.127834</td>\n",
       "      <td>20.052255</td>\n",
       "      <td>10.470000</td>\n",
       "      <td>2.512968</td>\n",
       "      <td>16.081632</td>\n",
       "      <td>17.081278</td>\n",
       "      <td>22.280845</td>\n",
       "      <td>45.933934</td>\n",
       "      <td>29.459575</td>\n",
       "      <td>9.634565</td>\n",
       "      <td>20.620833</td>\n",
       "      <td>17.788925</td>\n",
       "      <td>2079.531340</td>\n",
       "      <td>-330.134203</td>\n",
       "      <td>2114.906758</td>\n",
       "      <td>-347.354380</td>\n",
       "      <td>2013.156457</td>\n",
       "      <td>-346.653450</td>\n",
       "      <td>2398.903635</td>\n",
       "      <td>-30.601828</td>\n",
       "      <td>3.428099e+06</td>\n",
       "      <td>629638.977914</td>\n",
       "      <td>718684.955855</td>\n",
       "      <td>39.379272</td>\n",
       "      <td>14.596026</td>\n",
       "      <td>7.142594</td>\n",
       "      <td>717.508837</td>\n",
       "      <td>484.967466</td>\n",
       "      <td>48.363177</td>\n",
       "      <td>13.126043</td>\n",
       "      <td>36.118275</td>\n",
       "      <td>9.703448</td>\n",
       "      <td>37.980648</td>\n",
       "      <td>9.698407</td>\n",
       "      <td>24.480271</td>\n",
       "      <td>13.617072</td>\n",
       "      <td>38.351193</td>\n",
       "      <td>28.146838</td>\n",
       "      <td>100.000000</td>\n",
       "      <td>12.719177</td>\n",
       "      <td>3.778064</td>\n",
       "      <td>66.117188</td>\n",
       "      <td>9.688980</td>\n",
       "      <td>1521.980372</td>\n",
       "      <td>-281.039299</td>\n",
       "      <td>1809.194008</td>\n",
       "      <td>-296.383080</td>\n",
       "      <td>2499.129174</td>\n",
       "      <td>-292.155509</td>\n",
       "      <td>1817.199290</td>\n",
       "      <td>-208.330673</td>\n",
       "      <td>1922.636637</td>\n",
       "      <td>-272.199598</td>\n",
       "      <td>1706.307502</td>\n",
       "      <td>-191.718480</td>\n",
       "      <td>23.264738</td>\n",
       "      <td>17.042505</td>\n",
       "      <td>17.976171</td>\n",
       "      <td>26.811643</td>\n",
       "      <td>52.651399</td>\n",
       "      <td>-127.875565</td>\n",
       "      <td>35.152122</td>\n",
       "      <td>-212.064665</td>\n",
       "      <td>44.260464</td>\n",
       "      <td>-191.678810</td>\n",
       "      <td>35.072841</td>\n",
       "      <td>-159.742331</td>\n",
       "      <td>30.115735</td>\n",
       "      <td>-245.239184</td>\n",
       "      <td>24.007913</td>\n",
       "      <td>-145.071088</td>\n",
       "      <td>43.709931</td>\n",
       "      <td>-275.073125</td>\n",
       "      <td>27.926001</td>\n",
       "      <td>-157.396071</td>\n",
       "      <td>32.188906</td>\n",
       "      <td>-104.427459</td>\n",
       "    </tr>\n",
       "  </tbody>\n",
       "</table>\n",
       "</div>"
      ],
      "text/plain": [
       "       final.output.concentrate_ag  final.output.concentrate_pb  \\\n",
       "count                 14148.000000                 14148.000000   \n",
       "mean                      5.142034                    10.132960   \n",
       "std                       1.369586                     1.654930   \n",
       "min                       0.000000                     0.000000   \n",
       "25%                       4.211620                     9.297355   \n",
       "50%                       4.994652                    10.297144   \n",
       "75%                       5.859540                    11.170603   \n",
       "max                      16.001945                    17.031899   \n",
       "\n",
       "       final.output.concentrate_sol  final.output.concentrate_au  \\\n",
       "count                  13938.000000                 14149.000000   \n",
       "mean                       9.202849                    44.003792   \n",
       "std                        2.790516                     4.905261   \n",
       "min                        0.000000                     0.000000   \n",
       "25%                        7.484645                    43.276111   \n",
       "50%                        8.845462                    44.872436   \n",
       "75%                       10.487508                    46.166425   \n",
       "max                       18.124851                    52.756638   \n",
       "\n",
       "       final.output.recovery  final.output.tail_ag  final.output.tail_pb  \\\n",
       "count           14149.000000          14149.000000          14049.000000   \n",
       "mean               66.518832              9.607035              2.597298   \n",
       "std                10.295402              2.319069              0.971843   \n",
       "min                 0.000000              0.000000              0.000000   \n",
       "25%                62.545817              7.997429              1.905973   \n",
       "50%                67.432775              9.480270              2.592022   \n",
       "75%                72.346428             11.003707              3.241723   \n",
       "max               100.000000             19.552149              5.639565   \n",
       "\n",
       "       final.output.tail_sol  final.output.tail_au  \\\n",
       "count           14144.000000          14149.000000   \n",
       "mean               10.512122              2.918421   \n",
       "std                 3.003617              0.903712   \n",
       "min                 0.000000              0.000000   \n",
       "25%                 8.811324              2.368607   \n",
       "50%                10.514621              2.851025   \n",
       "75%                11.933009              3.434764   \n",
       "max                22.317730              8.197408   \n",
       "\n",
       "       primary_cleaner.input.sulfate  primary_cleaner.input.depressant  \\\n",
       "count                   14129.000000                      14117.000000   \n",
       "mean                      133.320659                          8.866996   \n",
       "std                        39.431659                          3.361589   \n",
       "min                         0.003112                          0.000000   \n",
       "25%                       107.006651                          6.040604   \n",
       "50%                       133.018328                          8.035811   \n",
       "75%                       159.825396                         11.522173   \n",
       "max                       250.127834                         20.052255   \n",
       "\n",
       "       primary_cleaner.input.feed_size  primary_cleaner.input.xanthate  \\\n",
       "count                     14149.000000                    14049.000000   \n",
       "mean                          7.322310                        0.885588   \n",
       "std                           0.614062                        0.372714   \n",
       "min                           1.080000                        0.000005   \n",
       "25%                           6.960000                        0.607021   \n",
       "50%                           7.290000                        0.888749   \n",
       "75%                           7.700000                        1.100933   \n",
       "max                          10.470000                        2.512968   \n",
       "\n",
       "       primary_cleaner.output.concentrate_ag  \\\n",
       "count                           14149.000000   \n",
       "mean                                8.200916   \n",
       "std                                 2.005185   \n",
       "min                                 0.000000   \n",
       "25%                                 7.107126   \n",
       "50%                                 8.226247   \n",
       "75%                                 9.504924   \n",
       "max                                16.081632   \n",
       "\n",
       "       primary_cleaner.output.concentrate_pb  \\\n",
       "count                           14063.000000   \n",
       "mean                                9.588862   \n",
       "std                                 2.694296   \n",
       "min                                 0.000000   \n",
       "25%                                 8.333489   \n",
       "50%                                 9.933520   \n",
       "75%                                11.310817   \n",
       "max                                17.081278   \n",
       "\n",
       "       primary_cleaner.output.concentrate_sol  \\\n",
       "count                            13863.000000   \n",
       "mean                                10.114745   \n",
       "std                                  4.064076   \n",
       "min                                  0.000000   \n",
       "25%                                  7.488139   \n",
       "50%                                  9.726566   \n",
       "75%                                 13.052807   \n",
       "max                                 22.280845   \n",
       "\n",
       "       primary_cleaner.output.concentrate_au  primary_cleaner.output.tail_ag  \\\n",
       "count                           14149.000000                    14148.000000   \n",
       "mean                               32.386836                       16.303929   \n",
       "std                                 5.798843                        3.739843   \n",
       "min                                 0.000000                        0.000000   \n",
       "25%                                30.857764                       13.873147   \n",
       "50%                                33.225835                       15.800604   \n",
       "75%                                35.330145                       18.450109   \n",
       "max                                45.933934                       29.459575   \n",
       "\n",
       "       primary_cleaner.output.tail_pb  primary_cleaner.output.tail_sol  \\\n",
       "count                    14134.000000                     14103.000000   \n",
       "mean                         3.443398                         7.533566   \n",
       "std                          1.490106                         2.133220   \n",
       "min                          0.000000                         0.000000   \n",
       "25%                          2.420259                         6.332548   \n",
       "50%                          3.218374                         7.714419   \n",
       "75%                          4.253218                         8.910664   \n",
       "max                          9.634565                        20.620833   \n",
       "\n",
       "       primary_cleaner.output.tail_au  primary_cleaner.state.floatbank8_a_air  \\\n",
       "count                    14149.000000                            14145.000000   \n",
       "mean                         3.839637                             1608.000064   \n",
       "std                          1.603544                              128.394355   \n",
       "min                          0.000000                                0.006352   \n",
       "25%                          2.867957                             1595.695815   \n",
       "50%                          3.510337                             1601.824410   \n",
       "75%                          4.492470                             1699.716408   \n",
       "max                         17.788925                             2079.531340   \n",
       "\n",
       "       primary_cleaner.state.floatbank8_a_level  \\\n",
       "count                              14148.000000   \n",
       "mean                                -488.775525   \n",
       "std                                   35.704184   \n",
       "min                                 -798.641662   \n",
       "25%                                 -500.287952   \n",
       "50%                                 -499.909375   \n",
       "75%                                 -499.378551   \n",
       "max                                 -330.134203   \n",
       "\n",
       "       primary_cleaner.state.floatbank8_b_air  \\\n",
       "count                            14145.000000   \n",
       "mean                              1608.610983   \n",
       "std                                131.112729   \n",
       "min                                  0.008700   \n",
       "25%                               1558.959943   \n",
       "50%                               1601.818514   \n",
       "75%                               1700.215351   \n",
       "max                               2114.906758   \n",
       "\n",
       "       primary_cleaner.state.floatbank8_b_level  \\\n",
       "count                              14148.000000   \n",
       "mean                                -489.171786   \n",
       "std                                   33.604449   \n",
       "min                                 -740.122129   \n",
       "25%                                 -500.375645   \n",
       "50%                                 -499.938003   \n",
       "75%                                 -499.389658   \n",
       "max                                 -347.354380   \n",
       "\n",
       "       primary_cleaner.state.floatbank8_c_air  \\\n",
       "count                            14147.000000   \n",
       "mean                              1608.879407   \n",
       "std                                134.266898   \n",
       "min                                  0.015159   \n",
       "25%                               1549.871886   \n",
       "50%                               1601.574628   \n",
       "75%                               1700.464037   \n",
       "max                               2013.156457   \n",
       "\n",
       "       primary_cleaner.state.floatbank8_c_level  \\\n",
       "count                              14148.000000   \n",
       "mean                                -489.605549   \n",
       "std                                   35.624002   \n",
       "min                                 -799.803073   \n",
       "25%                                 -500.601718   \n",
       "50%                                 -499.871346   \n",
       "75%                                 -498.801774   \n",
       "max                                 -346.653450   \n",
       "\n",
       "       primary_cleaner.state.floatbank8_d_air  \\\n",
       "count                            14146.000000   \n",
       "mean                              1542.189963   \n",
       "std                                278.316132   \n",
       "min                                  0.008655   \n",
       "25%                               1452.678767   \n",
       "50%                               1600.168346   \n",
       "75%                               1699.358771   \n",
       "max                               2398.903635   \n",
       "\n",
       "       primary_cleaner.state.floatbank8_d_level  \\\n",
       "count                              14148.000000   \n",
       "mean                                -483.462423   \n",
       "std                                   47.100934   \n",
       "min                                 -799.788598   \n",
       "25%                                 -500.459917   \n",
       "50%                                 -499.831833   \n",
       "75%                                 -498.480341   \n",
       "max                                  -30.601828   \n",
       "\n",
       "       rougher.calculation.sulfate_to_au_concentrate  \\\n",
       "count                                   1.414800e+04   \n",
       "mean                                    4.038265e+04   \n",
       "std                                     3.801436e+05   \n",
       "min                                    -4.223520e+07   \n",
       "25%                                     3.999430e+04   \n",
       "50%                                     4.368431e+04   \n",
       "75%                                     4.776041e+04   \n",
       "max                                     3.428099e+06   \n",
       "\n",
       "       rougher.calculation.floatbank10_sulfate_to_au_feed  \\\n",
       "count                                       14148.000000    \n",
       "mean                                         3456.608298    \n",
       "std                                          5772.510248    \n",
       "min                                          -486.598675    \n",
       "25%                                          2527.093354    \n",
       "50%                                          2975.892211    \n",
       "75%                                          3716.360822    \n",
       "max                                        629638.977914    \n",
       "\n",
       "       rougher.calculation.floatbank11_sulfate_to_au_feed  \\\n",
       "count                                       14148.000000    \n",
       "mean                                         3253.356387    \n",
       "std                                          6753.290662    \n",
       "min                                          -264.982785    \n",
       "25%                                          2512.200873    \n",
       "50%                                          2899.807724    \n",
       "75%                                          3596.534806    \n",
       "max                                        718684.955855    \n",
       "\n",
       "       rougher.calculation.au_pb_ratio  rougher.input.feed_ag  \\\n",
       "count                     14149.000000           14149.000000   \n",
       "mean                          2.367314               8.579195   \n",
       "std                           0.873551               1.896284   \n",
       "min                          -0.010548               0.010000   \n",
       "25%                           1.999588               7.132802   \n",
       "50%                           2.249275               8.156092   \n",
       "75%                           2.660896               9.918304   \n",
       "max                          39.379272              14.596026   \n",
       "\n",
       "       rougher.input.feed_pb  rougher.input.feed_rate  \\\n",
       "count           14049.000000             14141.000000   \n",
       "mean                3.522778               474.027714   \n",
       "std                 1.073394               104.039838   \n",
       "min                 0.010000                 0.012786   \n",
       "25%                 2.780010               420.781913   \n",
       "50%                 3.422677               499.454777   \n",
       "75%                 4.226107               547.334973   \n",
       "max                 7.142594               717.508837   \n",
       "\n",
       "       rougher.input.feed_size  rougher.input.feed_sol  rougher.input.feed_au  \\\n",
       "count             14005.000000            14071.000000           14149.000000   \n",
       "mean                 60.110518               36.312593               7.866577   \n",
       "std                  22.418485                4.956057               1.919506   \n",
       "min                   9.659576                0.010000               0.010000   \n",
       "25%                  48.973027               34.117635               6.596217   \n",
       "50%                  55.373885               37.020345               7.649138   \n",
       "75%                  66.080172               39.423265               9.066976   \n",
       "max                 484.967466               48.363177              13.126043   \n",
       "\n",
       "       rougher.input.floatbank10_sulfate  rougher.input.floatbank10_xanthate  \\\n",
       "count                       14120.000000                        14141.000000   \n",
       "mean                           11.764931                            5.854529   \n",
       "std                             3.278813                            1.104263   \n",
       "min                             0.001083                            0.001428   \n",
       "25%                             9.861100                            5.117359   \n",
       "50%                            11.688702                            5.951071   \n",
       "75%                            13.607115                            6.602533   \n",
       "max                            36.118275                            9.703448   \n",
       "\n",
       "       rougher.input.floatbank11_sulfate  rougher.input.floatbank11_xanthate  \\\n",
       "count                       14113.000000                        13721.000000   \n",
       "mean                           11.368685                            5.894176   \n",
       "std                             3.743672                            1.124233   \n",
       "min                             0.000098                            0.000290   \n",
       "25%                             9.505507                            5.199168   \n",
       "50%                            11.384283                            5.998460   \n",
       "75%                            13.497134                            6.699006   \n",
       "max                            37.980648                            9.698407   \n",
       "\n",
       "       rougher.output.concentrate_ag  rougher.output.concentrate_pb  \\\n",
       "count                   14149.000000                   14149.000000   \n",
       "mean                       11.775812                       7.664555   \n",
       "std                         2.731747                       1.856279   \n",
       "min                         0.000000                       0.000000   \n",
       "25%                        10.486871                       6.850501   \n",
       "50%                        11.747362                       7.760435   \n",
       "75%                        13.426419                       8.601927   \n",
       "max                        24.480271                      13.617072   \n",
       "\n",
       "       rougher.output.concentrate_sol  rougher.output.concentrate_au  \\\n",
       "count                    14127.000000                   14149.000000   \n",
       "mean                        28.302715                      19.439958   \n",
       "std                          6.102982                       3.765192   \n",
       "min                          0.000000                       0.000000   \n",
       "25%                         26.703554                      18.432161   \n",
       "50%                         29.257545                      19.947312   \n",
       "75%                         31.743913                      21.392714   \n",
       "max                         38.351193                      28.146838   \n",
       "\n",
       "       rougher.output.recovery  rougher.output.tail_ag  \\\n",
       "count             14149.000000            14148.000000   \n",
       "mean                 82.704502                5.567124   \n",
       "std                  14.479156                1.039136   \n",
       "min                   0.000000                0.594562   \n",
       "25%                  79.993067                4.921647   \n",
       "50%                  85.299462                5.722018   \n",
       "75%                  90.165021                6.310633   \n",
       "max                 100.000000               12.719177   \n",
       "\n",
       "       rougher.output.tail_pb  rougher.output.tail_sol  \\\n",
       "count            14149.000000             14149.000000   \n",
       "mean                 0.653277                17.882853   \n",
       "std                  0.263766                 3.432859   \n",
       "min                  0.007566                10.014648   \n",
       "25%                  0.474047                15.688727   \n",
       "50%                  0.625805                18.015894   \n",
       "75%                  0.794326                19.938672   \n",
       "max                  3.778064                66.117188   \n",
       "\n",
       "       rougher.output.tail_au  rougher.state.floatbank10_a_air  \\\n",
       "count            14149.000000                     14148.000000   \n",
       "mean                 1.757473                      1124.726280   \n",
       "std                  0.713187                       169.310825   \n",
       "min                  0.020676                        -0.041078   \n",
       "25%                  1.310800                       999.799166   \n",
       "50%                  1.745513                      1001.685708   \n",
       "75%                  2.186790                      1299.505513   \n",
       "max                  9.688980                      1521.980372   \n",
       "\n",
       "       rougher.state.floatbank10_a_level  rougher.state.floatbank10_b_air  \\\n",
       "count                       14148.000000                     14148.000000   \n",
       "mean                         -369.460950                      1320.705069   \n",
       "std                            93.952787                       183.155975   \n",
       "min                          -650.202881                        -0.653384   \n",
       "25%                          -499.787867                      1199.366448   \n",
       "50%                          -300.175125                      1301.365123   \n",
       "75%                          -299.963153                      1449.553689   \n",
       "max                          -281.039299                      1809.194008   \n",
       "\n",
       "       rougher.state.floatbank10_b_level  rougher.state.floatbank10_c_air  \\\n",
       "count                       14148.000000                     14148.000000   \n",
       "mean                         -464.258983                      1299.360578   \n",
       "std                            57.401954                       213.404094   \n",
       "min                          -650.260008                        -0.035112   \n",
       "25%                          -500.183028                      1103.095071   \n",
       "50%                          -499.764620                      1300.213385   \n",
       "75%                          -400.425493                      1450.350668   \n",
       "max                          -296.383080                      2499.129174   \n",
       "\n",
       "       rougher.state.floatbank10_c_level  rougher.state.floatbank10_d_air  \\\n",
       "count                       14148.000000                     14149.000000   \n",
       "mean                         -465.054849                      1210.335236   \n",
       "std                            55.904716                       210.431555   \n",
       "min                          -640.995627                        -0.554299   \n",
       "25%                          -500.211863                      1059.708509   \n",
       "50%                          -499.682528                      1200.744308   \n",
       "75%                          -400.664736                      1344.378462   \n",
       "max                          -292.155509                      1817.199290   \n",
       "\n",
       "       rougher.state.floatbank10_d_level  rougher.state.floatbank10_e_air  \\\n",
       "count                       14149.000000                     13713.000000   \n",
       "mean                         -465.457377                      1090.213187   \n",
       "std                            55.771393                       184.610118   \n",
       "min                          -640.519003                        -1.970275   \n",
       "25%                          -500.359197                       997.183864   \n",
       "50%                          -499.465285                      1050.496363   \n",
       "75%                          -401.052891                      1200.047746   \n",
       "max                          -208.330673                      1922.636637   \n",
       "\n",
       "       rougher.state.floatbank10_e_level  rougher.state.floatbank10_f_air  \\\n",
       "count                       14149.000000                     14149.000000   \n",
       "mean                         -464.919119                      1035.490299   \n",
       "std                            56.602962                       175.052279   \n",
       "min                          -649.443911                        -2.430587   \n",
       "25%                          -500.250033                       900.966986   \n",
       "50%                          -499.611447                      1000.053757   \n",
       "75%                          -400.596104                      1100.165435   \n",
       "max                          -272.199598                      1706.307502   \n",
       "\n",
       "       rougher.state.floatbank10_f_level  secondary_cleaner.output.tail_ag  \\\n",
       "count                       14149.000000                      14147.000000   \n",
       "mean                         -464.688631                         14.281629   \n",
       "std                            56.645965                          4.477126   \n",
       "min                          -649.880981                          0.000000   \n",
       "25%                          -500.476526                         12.177364   \n",
       "50%                          -499.364335                         15.357951   \n",
       "75%                          -401.014951                         17.230151   \n",
       "max                          -191.718480                         23.264738   \n",
       "\n",
       "       secondary_cleaner.output.tail_pb  secondary_cleaner.output.tail_sol  \\\n",
       "count                      14139.000000                       12544.000000   \n",
       "mean                           5.848863                           6.938693   \n",
       "std                            2.861799                           4.155487   \n",
       "min                            0.000000                           0.000000   \n",
       "25%                            3.982298                           3.225486   \n",
       "50%                            5.442310                           7.302639   \n",
       "75%                            7.797948                          10.547068   \n",
       "max                           17.042505                          17.976171   \n",
       "\n",
       "       secondary_cleaner.output.tail_au  \\\n",
       "count                      14149.000000   \n",
       "mean                           4.246961   \n",
       "std                            2.389060   \n",
       "min                            0.000000   \n",
       "25%                            3.153122   \n",
       "50%                            3.980210   \n",
       "75%                            4.883943   \n",
       "max                           26.811643   \n",
       "\n",
       "       secondary_cleaner.state.floatbank2_a_air  \\\n",
       "count                              13932.000000   \n",
       "mean                                  29.613649   \n",
       "std                                    5.800494   \n",
       "min                                    0.077503   \n",
       "25%                                   25.099584   \n",
       "50%                                   30.027721   \n",
       "75%                                   34.893057   \n",
       "max                                   52.651399   \n",
       "\n",
       "       secondary_cleaner.state.floatbank2_a_level  \\\n",
       "count                                14148.000000   \n",
       "mean                                  -502.223914   \n",
       "std                                     60.281705   \n",
       "min                                   -799.606441   \n",
       "25%                                   -500.248814   \n",
       "50%                                   -499.959206   \n",
       "75%                                   -499.593198   \n",
       "max                                   -127.875565   \n",
       "\n",
       "       secondary_cleaner.state.floatbank2_b_air  \\\n",
       "count                              14128.000000   \n",
       "mean                                  24.914403   \n",
       "std                                    5.994959   \n",
       "min                                    0.000000   \n",
       "25%                                   22.048294   \n",
       "50%                                   27.022783   \n",
       "75%                                   28.939454   \n",
       "max                                   35.152122   \n",
       "\n",
       "       secondary_cleaner.state.floatbank2_b_level  \\\n",
       "count                                14148.000000   \n",
       "mean                                  -503.695706   \n",
       "std                                     62.837357   \n",
       "min                                   -799.873878   \n",
       "25%                                   -500.270997   \n",
       "50%                                   -500.014092   \n",
       "75%                                   -499.764112   \n",
       "max                                   -212.064665   \n",
       "\n",
       "       secondary_cleaner.state.floatbank3_a_air  \\\n",
       "count                              14145.000000   \n",
       "mean                                  29.243372   \n",
       "std                                    5.637309   \n",
       "min                                    0.000000   \n",
       "25%                                   24.991662   \n",
       "50%                                   28.016530   \n",
       "75%                                   34.990095   \n",
       "max                                   44.260464   \n",
       "\n",
       "       secondary_cleaner.state.floatbank3_a_level  \\\n",
       "count                                14148.000000   \n",
       "mean                                  -478.244059   \n",
       "std                                     54.655143   \n",
       "min                                   -799.613013   \n",
       "25%                                   -500.175065   \n",
       "50%                                   -499.877837   \n",
       "75%                                   -436.923166   \n",
       "max                                   -191.678810   \n",
       "\n",
       "       secondary_cleaner.state.floatbank3_b_air  \\\n",
       "count                              14148.000000   \n",
       "mean                                  22.656261   \n",
       "std                                    4.996017   \n",
       "min                                    0.000000   \n",
       "25%                                   19.948436   \n",
       "50%                                   22.037270   \n",
       "75%                                   25.970365   \n",
       "max                                   35.072841   \n",
       "\n",
       "       secondary_cleaner.state.floatbank3_b_level  \\\n",
       "count                                14148.000000   \n",
       "mean                                  -488.924046   \n",
       "std                                     41.928112   \n",
       "min                                   -759.177381   \n",
       "25%                                   -500.110581   \n",
       "50%                                   -499.966809   \n",
       "75%                                   -499.757501   \n",
       "max                                   -159.742331   \n",
       "\n",
       "       secondary_cleaner.state.floatbank4_a_air  \\\n",
       "count                              14143.000000   \n",
       "mean                                  19.985454   \n",
       "std                                    5.657723   \n",
       "min                                    0.000000   \n",
       "25%                                   14.990775   \n",
       "50%                                   20.001789   \n",
       "75%                                   24.990826   \n",
       "max                                   30.115735   \n",
       "\n",
       "       secondary_cleaner.state.floatbank4_a_level  \\\n",
       "count                                14148.000000   \n",
       "mean                                  -478.696836   \n",
       "std                                     50.736021   \n",
       "min                                   -799.709069   \n",
       "25%                                   -500.628656   \n",
       "50%                                   -499.681450   \n",
       "75%                                   -477.472413   \n",
       "max                                   -245.239184   \n",
       "\n",
       "       secondary_cleaner.state.floatbank4_b_air  \\\n",
       "count                              14148.000000   \n",
       "mean                                  15.487065   \n",
       "std                                    5.255655   \n",
       "min                                    0.000000   \n",
       "25%                                   11.894558   \n",
       "50%                                   14.975536   \n",
       "75%                                   20.059375   \n",
       "max                                   24.007913   \n",
       "\n",
       "       secondary_cleaner.state.floatbank4_b_level  \\\n",
       "count                                14148.000000   \n",
       "mean                                  -460.229416   \n",
       "std                                     58.843586   \n",
       "min                                   -799.889113   \n",
       "25%                                   -500.149000   \n",
       "50%                                   -499.388738   \n",
       "75%                                   -400.039008   \n",
       "max                                   -145.071088   \n",
       "\n",
       "       secondary_cleaner.state.floatbank5_a_air  \\\n",
       "count                              14148.000000   \n",
       "mean                                  16.775136   \n",
       "std                                    5.831906   \n",
       "min                                   -0.372054   \n",
       "25%                                   11.083980   \n",
       "50%                                   17.932223   \n",
       "75%                                   21.346550   \n",
       "max                                   43.709931   \n",
       "\n",
       "       secondary_cleaner.state.floatbank5_a_level  \\\n",
       "count                                14148.000000   \n",
       "mean                                  -483.956022   \n",
       "std                                     37.892788   \n",
       "min                                   -797.142475   \n",
       "25%                                   -500.363177   \n",
       "50%                                   -499.702452   \n",
       "75%                                   -487.712108   \n",
       "max                                   -275.073125   \n",
       "\n",
       "       secondary_cleaner.state.floatbank5_b_air  \\\n",
       "count                              14148.000000   \n",
       "mean                                  13.064590   \n",
       "std                                    5.765617   \n",
       "min                                    0.646208   \n",
       "25%                                    8.994405   \n",
       "50%                                   11.997547   \n",
       "75%                                   17.982903   \n",
       "max                                   27.926001   \n",
       "\n",
       "       secondary_cleaner.state.floatbank5_b_level  \\\n",
       "count                                14148.000000   \n",
       "mean                                  -483.966564   \n",
       "std                                     39.207913   \n",
       "min                                   -800.006180   \n",
       "25%                                   -500.105994   \n",
       "50%                                   -499.914556   \n",
       "75%                                   -453.186936   \n",
       "max                                   -157.396071   \n",
       "\n",
       "       secondary_cleaner.state.floatbank6_a_air  \\\n",
       "count                              14147.000000   \n",
       "mean                                  19.577539   \n",
       "std                                    5.764417   \n",
       "min                                    0.195324   \n",
       "25%                                   14.989304   \n",
       "50%                                   19.984175   \n",
       "75%                                   24.991623   \n",
       "max                                   32.188906   \n",
       "\n",
       "       secondary_cleaner.state.floatbank6_a_level  \n",
       "count                                14148.000000  \n",
       "mean                                  -506.798480  \n",
       "std                                     37.079249  \n",
       "min                                   -809.398668  \n",
       "25%                                   -500.745104  \n",
       "50%                                   -500.061431  \n",
       "75%                                   -499.536466  \n",
       "max                                   -104.427459  "
      ]
     },
     "metadata": {},
     "output_type": "display_data"
    }
   ],
   "source": [
    "display(describe_data(train_data))\n",
    "pd.set_option('display.max_columns', 90)"
   ]
  },
  {
   "cell_type": "code",
   "execution_count": 10,
   "metadata": {},
   "outputs": [
    {
     "data": {
      "text/plain": [
       "date                                        0.000000\n",
       "rougher.output.concentrate_pb               0.000000\n",
       "rougher.state.floatbank10_f_level           0.000000\n",
       "rougher.state.floatbank10_f_air             0.000000\n",
       "rougher.state.floatbank10_e_level           0.000000\n",
       "                                              ...   \n",
       "secondary_cleaner.state.floatbank2_a_air    0.015337\n",
       "primary_cleaner.output.concentrate_sol      0.020213\n",
       "rougher.input.floatbank11_xanthate          0.030249\n",
       "rougher.state.floatbank10_e_air             0.030815\n",
       "secondary_cleaner.output.tail_sol           0.113436\n",
       "Length: 87, dtype: float64"
      ]
     },
     "metadata": {},
     "output_type": "display_data"
    }
   ],
   "source": [
    "display(na_mean(train_data))\n",
    "pd.set_option('display.max_rows', 88)"
   ]
  },
  {
   "cell_type": "code",
   "execution_count": 11,
   "metadata": {},
   "outputs": [
    {
     "data": {
      "text/plain": [
       "0"
      ]
     },
     "execution_count": 11,
     "metadata": {},
     "output_type": "execute_result"
    }
   ],
   "source": [
    "duplicated_data(train_data)"
   ]
  },
  {
   "cell_type": "markdown",
   "metadata": {},
   "source": [
    "В данных имеются пропуски, но в большинстве случаев они не превышают 3.5%, также следует преобразовать формат данных в столбце с датой, чтобы с ним было удобнее работать. Нет полных дубликатов в данных."
   ]
  },
  {
   "cell_type": "markdown",
   "metadata": {},
   "source": [
    "<b>Тестовая выборка</b>"
   ]
  },
  {
   "cell_type": "code",
   "execution_count": 12,
   "metadata": {},
   "outputs": [
    {
     "data": {
      "text/html": [
       "<div>\n",
       "<style scoped>\n",
       "    .dataframe tbody tr th:only-of-type {\n",
       "        vertical-align: middle;\n",
       "    }\n",
       "\n",
       "    .dataframe tbody tr th {\n",
       "        vertical-align: top;\n",
       "    }\n",
       "\n",
       "    .dataframe thead th {\n",
       "        text-align: right;\n",
       "    }\n",
       "</style>\n",
       "<table border=\"1\" class=\"dataframe\">\n",
       "  <thead>\n",
       "    <tr style=\"text-align: right;\">\n",
       "      <th></th>\n",
       "      <th>date</th>\n",
       "      <th>primary_cleaner.input.sulfate</th>\n",
       "      <th>primary_cleaner.input.depressant</th>\n",
       "      <th>primary_cleaner.input.feed_size</th>\n",
       "      <th>primary_cleaner.input.xanthate</th>\n",
       "      <th>primary_cleaner.state.floatbank8_a_air</th>\n",
       "      <th>primary_cleaner.state.floatbank8_a_level</th>\n",
       "      <th>primary_cleaner.state.floatbank8_b_air</th>\n",
       "      <th>primary_cleaner.state.floatbank8_b_level</th>\n",
       "      <th>primary_cleaner.state.floatbank8_c_air</th>\n",
       "      <th>primary_cleaner.state.floatbank8_c_level</th>\n",
       "      <th>primary_cleaner.state.floatbank8_d_air</th>\n",
       "      <th>primary_cleaner.state.floatbank8_d_level</th>\n",
       "      <th>rougher.input.feed_ag</th>\n",
       "      <th>rougher.input.feed_pb</th>\n",
       "      <th>rougher.input.feed_rate</th>\n",
       "      <th>rougher.input.feed_size</th>\n",
       "      <th>rougher.input.feed_sol</th>\n",
       "      <th>rougher.input.feed_au</th>\n",
       "      <th>rougher.input.floatbank10_sulfate</th>\n",
       "      <th>rougher.input.floatbank10_xanthate</th>\n",
       "      <th>rougher.input.floatbank11_sulfate</th>\n",
       "      <th>rougher.input.floatbank11_xanthate</th>\n",
       "      <th>rougher.state.floatbank10_a_air</th>\n",
       "      <th>rougher.state.floatbank10_a_level</th>\n",
       "      <th>rougher.state.floatbank10_b_air</th>\n",
       "      <th>rougher.state.floatbank10_b_level</th>\n",
       "      <th>rougher.state.floatbank10_c_air</th>\n",
       "      <th>rougher.state.floatbank10_c_level</th>\n",
       "      <th>rougher.state.floatbank10_d_air</th>\n",
       "      <th>rougher.state.floatbank10_d_level</th>\n",
       "      <th>rougher.state.floatbank10_e_air</th>\n",
       "      <th>rougher.state.floatbank10_e_level</th>\n",
       "      <th>rougher.state.floatbank10_f_air</th>\n",
       "      <th>rougher.state.floatbank10_f_level</th>\n",
       "      <th>secondary_cleaner.state.floatbank2_a_air</th>\n",
       "      <th>secondary_cleaner.state.floatbank2_a_level</th>\n",
       "      <th>secondary_cleaner.state.floatbank2_b_air</th>\n",
       "      <th>secondary_cleaner.state.floatbank2_b_level</th>\n",
       "      <th>secondary_cleaner.state.floatbank3_a_air</th>\n",
       "      <th>secondary_cleaner.state.floatbank3_a_level</th>\n",
       "      <th>secondary_cleaner.state.floatbank3_b_air</th>\n",
       "      <th>secondary_cleaner.state.floatbank3_b_level</th>\n",
       "      <th>secondary_cleaner.state.floatbank4_a_air</th>\n",
       "      <th>secondary_cleaner.state.floatbank4_a_level</th>\n",
       "      <th>secondary_cleaner.state.floatbank4_b_air</th>\n",
       "      <th>secondary_cleaner.state.floatbank4_b_level</th>\n",
       "      <th>secondary_cleaner.state.floatbank5_a_air</th>\n",
       "      <th>secondary_cleaner.state.floatbank5_a_level</th>\n",
       "      <th>secondary_cleaner.state.floatbank5_b_air</th>\n",
       "      <th>secondary_cleaner.state.floatbank5_b_level</th>\n",
       "      <th>secondary_cleaner.state.floatbank6_a_air</th>\n",
       "      <th>secondary_cleaner.state.floatbank6_a_level</th>\n",
       "    </tr>\n",
       "  </thead>\n",
       "  <tbody>\n",
       "    <tr>\n",
       "      <th>0</th>\n",
       "      <td>2016-09-01 00:59:59</td>\n",
       "      <td>210.800909</td>\n",
       "      <td>14.993118</td>\n",
       "      <td>8.080000</td>\n",
       "      <td>1.005021</td>\n",
       "      <td>1398.981301</td>\n",
       "      <td>-500.225577</td>\n",
       "      <td>1399.144926</td>\n",
       "      <td>-499.919735</td>\n",
       "      <td>1400.102998</td>\n",
       "      <td>-500.704369</td>\n",
       "      <td>1399.001695</td>\n",
       "      <td>-499.485144</td>\n",
       "      <td>13.128569</td>\n",
       "      <td>5.636710</td>\n",
       "      <td>489.793655</td>\n",
       "      <td>62.710452</td>\n",
       "      <td>42.022440</td>\n",
       "      <td>12.084103</td>\n",
       "      <td>16.922877</td>\n",
       "      <td>6.153479</td>\n",
       "      <td>16.867518</td>\n",
       "      <td>6.150709</td>\n",
       "      <td>1001.849317</td>\n",
       "      <td>-350.301265</td>\n",
       "      <td>1249.738612</td>\n",
       "      <td>-399.107531</td>\n",
       "      <td>1249.750520</td>\n",
       "      <td>-399.396730</td>\n",
       "      <td>1198.287855</td>\n",
       "      <td>-399.488594</td>\n",
       "      <td>999.472250</td>\n",
       "      <td>-399.530962</td>\n",
       "      <td>949.566189</td>\n",
       "      <td>-398.180807</td>\n",
       "      <td>24.938200</td>\n",
       "      <td>-500.490963</td>\n",
       "      <td>14.947607</td>\n",
       "      <td>-500.013837</td>\n",
       "      <td>20.018166</td>\n",
       "      <td>-450.395995</td>\n",
       "      <td>13.987058</td>\n",
       "      <td>-449.831513</td>\n",
       "      <td>12.023554</td>\n",
       "      <td>-497.795834</td>\n",
       "      <td>8.016656</td>\n",
       "      <td>-501.289139</td>\n",
       "      <td>7.946562</td>\n",
       "      <td>-432.317850</td>\n",
       "      <td>4.872511</td>\n",
       "      <td>-500.037437</td>\n",
       "      <td>26.705889</td>\n",
       "      <td>-499.709414</td>\n",
       "    </tr>\n",
       "    <tr>\n",
       "      <th>1</th>\n",
       "      <td>2016-09-01 01:59:59</td>\n",
       "      <td>215.392455</td>\n",
       "      <td>14.987471</td>\n",
       "      <td>8.080000</td>\n",
       "      <td>0.990469</td>\n",
       "      <td>1398.777912</td>\n",
       "      <td>-500.057435</td>\n",
       "      <td>1398.055362</td>\n",
       "      <td>-499.778182</td>\n",
       "      <td>1396.151033</td>\n",
       "      <td>-499.240168</td>\n",
       "      <td>1399.508091</td>\n",
       "      <td>-500.416324</td>\n",
       "      <td>13.036280</td>\n",
       "      <td>5.526065</td>\n",
       "      <td>490.104534</td>\n",
       "      <td>61.961163</td>\n",
       "      <td>41.187903</td>\n",
       "      <td>11.918977</td>\n",
       "      <td>17.002532</td>\n",
       "      <td>5.999043</td>\n",
       "      <td>16.996063</td>\n",
       "      <td>6.002315</td>\n",
       "      <td>998.690785</td>\n",
       "      <td>-350.425704</td>\n",
       "      <td>1248.395457</td>\n",
       "      <td>-399.946025</td>\n",
       "      <td>1249.514451</td>\n",
       "      <td>-399.630810</td>\n",
       "      <td>1200.506459</td>\n",
       "      <td>-399.942434</td>\n",
       "      <td>1000.002114</td>\n",
       "      <td>-399.491528</td>\n",
       "      <td>950.200009</td>\n",
       "      <td>-405.787514</td>\n",
       "      <td>24.923466</td>\n",
       "      <td>-499.813963</td>\n",
       "      <td>14.930873</td>\n",
       "      <td>-500.764452</td>\n",
       "      <td>19.988503</td>\n",
       "      <td>-450.114024</td>\n",
       "      <td>14.092981</td>\n",
       "      <td>-450.059163</td>\n",
       "      <td>12.058140</td>\n",
       "      <td>-498.695773</td>\n",
       "      <td>8.130979</td>\n",
       "      <td>-499.634209</td>\n",
       "      <td>7.958270</td>\n",
       "      <td>-525.839648</td>\n",
       "      <td>4.878850</td>\n",
       "      <td>-500.162375</td>\n",
       "      <td>25.019940</td>\n",
       "      <td>-499.819438</td>\n",
       "    </tr>\n",
       "    <tr>\n",
       "      <th>2</th>\n",
       "      <td>2016-09-01 02:59:59</td>\n",
       "      <td>215.259946</td>\n",
       "      <td>12.884934</td>\n",
       "      <td>7.786667</td>\n",
       "      <td>0.996043</td>\n",
       "      <td>1398.493666</td>\n",
       "      <td>-500.868360</td>\n",
       "      <td>1398.860436</td>\n",
       "      <td>-499.764529</td>\n",
       "      <td>1398.075709</td>\n",
       "      <td>-502.151509</td>\n",
       "      <td>1399.497088</td>\n",
       "      <td>-499.715479</td>\n",
       "      <td>13.138412</td>\n",
       "      <td>5.426561</td>\n",
       "      <td>489.617969</td>\n",
       "      <td>66.903807</td>\n",
       "      <td>42.546294</td>\n",
       "      <td>12.091332</td>\n",
       "      <td>16.992520</td>\n",
       "      <td>5.850632</td>\n",
       "      <td>16.982096</td>\n",
       "      <td>5.853594</td>\n",
       "      <td>998.516720</td>\n",
       "      <td>-349.783538</td>\n",
       "      <td>1247.440748</td>\n",
       "      <td>-400.264330</td>\n",
       "      <td>1248.207204</td>\n",
       "      <td>-401.074405</td>\n",
       "      <td>1199.770026</td>\n",
       "      <td>-400.790582</td>\n",
       "      <td>999.925519</td>\n",
       "      <td>-399.236999</td>\n",
       "      <td>950.320481</td>\n",
       "      <td>-400.864340</td>\n",
       "      <td>24.908732</td>\n",
       "      <td>-500.304035</td>\n",
       "      <td>14.996511</td>\n",
       "      <td>-500.993821</td>\n",
       "      <td>20.039689</td>\n",
       "      <td>-450.263164</td>\n",
       "      <td>14.077881</td>\n",
       "      <td>-449.660997</td>\n",
       "      <td>11.962366</td>\n",
       "      <td>-498.767484</td>\n",
       "      <td>8.096893</td>\n",
       "      <td>-500.827423</td>\n",
       "      <td>8.071056</td>\n",
       "      <td>-500.801673</td>\n",
       "      <td>4.905125</td>\n",
       "      <td>-499.828510</td>\n",
       "      <td>24.994862</td>\n",
       "      <td>-500.622559</td>\n",
       "    </tr>\n",
       "    <tr>\n",
       "      <th>3</th>\n",
       "      <td>2016-09-01 03:59:59</td>\n",
       "      <td>215.336236</td>\n",
       "      <td>12.006805</td>\n",
       "      <td>7.640000</td>\n",
       "      <td>0.863514</td>\n",
       "      <td>1399.618111</td>\n",
       "      <td>-498.863574</td>\n",
       "      <td>1397.440120</td>\n",
       "      <td>-499.211024</td>\n",
       "      <td>1400.129303</td>\n",
       "      <td>-498.355873</td>\n",
       "      <td>1401.065165</td>\n",
       "      <td>-501.038738</td>\n",
       "      <td>12.400507</td>\n",
       "      <td>5.114758</td>\n",
       "      <td>476.618130</td>\n",
       "      <td>59.865919</td>\n",
       "      <td>41.060195</td>\n",
       "      <td>12.181597</td>\n",
       "      <td>16.532144</td>\n",
       "      <td>5.801935</td>\n",
       "      <td>16.515277</td>\n",
       "      <td>5.803657</td>\n",
       "      <td>1000.276604</td>\n",
       "      <td>-350.172597</td>\n",
       "      <td>1251.322675</td>\n",
       "      <td>-398.655289</td>\n",
       "      <td>1250.493702</td>\n",
       "      <td>-399.746728</td>\n",
       "      <td>1199.398691</td>\n",
       "      <td>-397.503052</td>\n",
       "      <td>1001.930679</td>\n",
       "      <td>-400.437573</td>\n",
       "      <td>950.735324</td>\n",
       "      <td>-399.802986</td>\n",
       "      <td>24.893998</td>\n",
       "      <td>-499.382374</td>\n",
       "      <td>14.916674</td>\n",
       "      <td>-499.862299</td>\n",
       "      <td>20.031100</td>\n",
       "      <td>-449.372570</td>\n",
       "      <td>14.013968</td>\n",
       "      <td>-449.526900</td>\n",
       "      <td>12.033091</td>\n",
       "      <td>-498.350935</td>\n",
       "      <td>8.074946</td>\n",
       "      <td>-499.474407</td>\n",
       "      <td>7.897085</td>\n",
       "      <td>-500.868509</td>\n",
       "      <td>4.931400</td>\n",
       "      <td>-499.963623</td>\n",
       "      <td>24.948919</td>\n",
       "      <td>-498.709987</td>\n",
       "    </tr>\n",
       "    <tr>\n",
       "      <th>4</th>\n",
       "      <td>2016-09-01 04:59:59</td>\n",
       "      <td>199.099327</td>\n",
       "      <td>10.682530</td>\n",
       "      <td>7.530000</td>\n",
       "      <td>0.805575</td>\n",
       "      <td>1401.268123</td>\n",
       "      <td>-500.808305</td>\n",
       "      <td>1398.128818</td>\n",
       "      <td>-499.504543</td>\n",
       "      <td>1402.172226</td>\n",
       "      <td>-500.810606</td>\n",
       "      <td>1399.480508</td>\n",
       "      <td>-499.374053</td>\n",
       "      <td>11.327427</td>\n",
       "      <td>4.767383</td>\n",
       "      <td>488.248117</td>\n",
       "      <td>63.315324</td>\n",
       "      <td>41.269161</td>\n",
       "      <td>11.290425</td>\n",
       "      <td>13.607257</td>\n",
       "      <td>5.738081</td>\n",
       "      <td>13.650053</td>\n",
       "      <td>5.739634</td>\n",
       "      <td>996.541302</td>\n",
       "      <td>-350.562517</td>\n",
       "      <td>1304.658848</td>\n",
       "      <td>-399.511519</td>\n",
       "      <td>1306.455515</td>\n",
       "      <td>-399.050685</td>\n",
       "      <td>1248.699349</td>\n",
       "      <td>-400.876894</td>\n",
       "      <td>1058.839106</td>\n",
       "      <td>-398.988239</td>\n",
       "      <td>949.645313</td>\n",
       "      <td>-399.277632</td>\n",
       "      <td>24.886905</td>\n",
       "      <td>-499.357375</td>\n",
       "      <td>14.979233</td>\n",
       "      <td>-500.186804</td>\n",
       "      <td>19.962364</td>\n",
       "      <td>-450.638828</td>\n",
       "      <td>14.009245</td>\n",
       "      <td>-450.022259</td>\n",
       "      <td>12.025367</td>\n",
       "      <td>-500.786497</td>\n",
       "      <td>8.054678</td>\n",
       "      <td>-500.397500</td>\n",
       "      <td>8.107890</td>\n",
       "      <td>-509.526725</td>\n",
       "      <td>4.957674</td>\n",
       "      <td>-500.360026</td>\n",
       "      <td>25.003331</td>\n",
       "      <td>-500.856333</td>\n",
       "    </tr>\n",
       "  </tbody>\n",
       "</table>\n",
       "</div>"
      ],
      "text/plain": [
       "                  date  primary_cleaner.input.sulfate  \\\n",
       "0  2016-09-01 00:59:59                     210.800909   \n",
       "1  2016-09-01 01:59:59                     215.392455   \n",
       "2  2016-09-01 02:59:59                     215.259946   \n",
       "3  2016-09-01 03:59:59                     215.336236   \n",
       "4  2016-09-01 04:59:59                     199.099327   \n",
       "\n",
       "   primary_cleaner.input.depressant  primary_cleaner.input.feed_size  \\\n",
       "0                         14.993118                         8.080000   \n",
       "1                         14.987471                         8.080000   \n",
       "2                         12.884934                         7.786667   \n",
       "3                         12.006805                         7.640000   \n",
       "4                         10.682530                         7.530000   \n",
       "\n",
       "   primary_cleaner.input.xanthate  primary_cleaner.state.floatbank8_a_air  \\\n",
       "0                        1.005021                             1398.981301   \n",
       "1                        0.990469                             1398.777912   \n",
       "2                        0.996043                             1398.493666   \n",
       "3                        0.863514                             1399.618111   \n",
       "4                        0.805575                             1401.268123   \n",
       "\n",
       "   primary_cleaner.state.floatbank8_a_level  \\\n",
       "0                               -500.225577   \n",
       "1                               -500.057435   \n",
       "2                               -500.868360   \n",
       "3                               -498.863574   \n",
       "4                               -500.808305   \n",
       "\n",
       "   primary_cleaner.state.floatbank8_b_air  \\\n",
       "0                             1399.144926   \n",
       "1                             1398.055362   \n",
       "2                             1398.860436   \n",
       "3                             1397.440120   \n",
       "4                             1398.128818   \n",
       "\n",
       "   primary_cleaner.state.floatbank8_b_level  \\\n",
       "0                               -499.919735   \n",
       "1                               -499.778182   \n",
       "2                               -499.764529   \n",
       "3                               -499.211024   \n",
       "4                               -499.504543   \n",
       "\n",
       "   primary_cleaner.state.floatbank8_c_air  \\\n",
       "0                             1400.102998   \n",
       "1                             1396.151033   \n",
       "2                             1398.075709   \n",
       "3                             1400.129303   \n",
       "4                             1402.172226   \n",
       "\n",
       "   primary_cleaner.state.floatbank8_c_level  \\\n",
       "0                               -500.704369   \n",
       "1                               -499.240168   \n",
       "2                               -502.151509   \n",
       "3                               -498.355873   \n",
       "4                               -500.810606   \n",
       "\n",
       "   primary_cleaner.state.floatbank8_d_air  \\\n",
       "0                             1399.001695   \n",
       "1                             1399.508091   \n",
       "2                             1399.497088   \n",
       "3                             1401.065165   \n",
       "4                             1399.480508   \n",
       "\n",
       "   primary_cleaner.state.floatbank8_d_level  rougher.input.feed_ag  \\\n",
       "0                               -499.485144              13.128569   \n",
       "1                               -500.416324              13.036280   \n",
       "2                               -499.715479              13.138412   \n",
       "3                               -501.038738              12.400507   \n",
       "4                               -499.374053              11.327427   \n",
       "\n",
       "   rougher.input.feed_pb  rougher.input.feed_rate  rougher.input.feed_size  \\\n",
       "0               5.636710               489.793655                62.710452   \n",
       "1               5.526065               490.104534                61.961163   \n",
       "2               5.426561               489.617969                66.903807   \n",
       "3               5.114758               476.618130                59.865919   \n",
       "4               4.767383               488.248117                63.315324   \n",
       "\n",
       "   rougher.input.feed_sol  rougher.input.feed_au  \\\n",
       "0               42.022440              12.084103   \n",
       "1               41.187903              11.918977   \n",
       "2               42.546294              12.091332   \n",
       "3               41.060195              12.181597   \n",
       "4               41.269161              11.290425   \n",
       "\n",
       "   rougher.input.floatbank10_sulfate  rougher.input.floatbank10_xanthate  \\\n",
       "0                          16.922877                            6.153479   \n",
       "1                          17.002532                            5.999043   \n",
       "2                          16.992520                            5.850632   \n",
       "3                          16.532144                            5.801935   \n",
       "4                          13.607257                            5.738081   \n",
       "\n",
       "   rougher.input.floatbank11_sulfate  rougher.input.floatbank11_xanthate  \\\n",
       "0                          16.867518                            6.150709   \n",
       "1                          16.996063                            6.002315   \n",
       "2                          16.982096                            5.853594   \n",
       "3                          16.515277                            5.803657   \n",
       "4                          13.650053                            5.739634   \n",
       "\n",
       "   rougher.state.floatbank10_a_air  rougher.state.floatbank10_a_level  \\\n",
       "0                      1001.849317                        -350.301265   \n",
       "1                       998.690785                        -350.425704   \n",
       "2                       998.516720                        -349.783538   \n",
       "3                      1000.276604                        -350.172597   \n",
       "4                       996.541302                        -350.562517   \n",
       "\n",
       "   rougher.state.floatbank10_b_air  rougher.state.floatbank10_b_level  \\\n",
       "0                      1249.738612                        -399.107531   \n",
       "1                      1248.395457                        -399.946025   \n",
       "2                      1247.440748                        -400.264330   \n",
       "3                      1251.322675                        -398.655289   \n",
       "4                      1304.658848                        -399.511519   \n",
       "\n",
       "   rougher.state.floatbank10_c_air  rougher.state.floatbank10_c_level  \\\n",
       "0                      1249.750520                        -399.396730   \n",
       "1                      1249.514451                        -399.630810   \n",
       "2                      1248.207204                        -401.074405   \n",
       "3                      1250.493702                        -399.746728   \n",
       "4                      1306.455515                        -399.050685   \n",
       "\n",
       "   rougher.state.floatbank10_d_air  rougher.state.floatbank10_d_level  \\\n",
       "0                      1198.287855                        -399.488594   \n",
       "1                      1200.506459                        -399.942434   \n",
       "2                      1199.770026                        -400.790582   \n",
       "3                      1199.398691                        -397.503052   \n",
       "4                      1248.699349                        -400.876894   \n",
       "\n",
       "   rougher.state.floatbank10_e_air  rougher.state.floatbank10_e_level  \\\n",
       "0                       999.472250                        -399.530962   \n",
       "1                      1000.002114                        -399.491528   \n",
       "2                       999.925519                        -399.236999   \n",
       "3                      1001.930679                        -400.437573   \n",
       "4                      1058.839106                        -398.988239   \n",
       "\n",
       "   rougher.state.floatbank10_f_air  rougher.state.floatbank10_f_level  \\\n",
       "0                       949.566189                        -398.180807   \n",
       "1                       950.200009                        -405.787514   \n",
       "2                       950.320481                        -400.864340   \n",
       "3                       950.735324                        -399.802986   \n",
       "4                       949.645313                        -399.277632   \n",
       "\n",
       "   secondary_cleaner.state.floatbank2_a_air  \\\n",
       "0                                 24.938200   \n",
       "1                                 24.923466   \n",
       "2                                 24.908732   \n",
       "3                                 24.893998   \n",
       "4                                 24.886905   \n",
       "\n",
       "   secondary_cleaner.state.floatbank2_a_level  \\\n",
       "0                                 -500.490963   \n",
       "1                                 -499.813963   \n",
       "2                                 -500.304035   \n",
       "3                                 -499.382374   \n",
       "4                                 -499.357375   \n",
       "\n",
       "   secondary_cleaner.state.floatbank2_b_air  \\\n",
       "0                                 14.947607   \n",
       "1                                 14.930873   \n",
       "2                                 14.996511   \n",
       "3                                 14.916674   \n",
       "4                                 14.979233   \n",
       "\n",
       "   secondary_cleaner.state.floatbank2_b_level  \\\n",
       "0                                 -500.013837   \n",
       "1                                 -500.764452   \n",
       "2                                 -500.993821   \n",
       "3                                 -499.862299   \n",
       "4                                 -500.186804   \n",
       "\n",
       "   secondary_cleaner.state.floatbank3_a_air  \\\n",
       "0                                 20.018166   \n",
       "1                                 19.988503   \n",
       "2                                 20.039689   \n",
       "3                                 20.031100   \n",
       "4                                 19.962364   \n",
       "\n",
       "   secondary_cleaner.state.floatbank3_a_level  \\\n",
       "0                                 -450.395995   \n",
       "1                                 -450.114024   \n",
       "2                                 -450.263164   \n",
       "3                                 -449.372570   \n",
       "4                                 -450.638828   \n",
       "\n",
       "   secondary_cleaner.state.floatbank3_b_air  \\\n",
       "0                                 13.987058   \n",
       "1                                 14.092981   \n",
       "2                                 14.077881   \n",
       "3                                 14.013968   \n",
       "4                                 14.009245   \n",
       "\n",
       "   secondary_cleaner.state.floatbank3_b_level  \\\n",
       "0                                 -449.831513   \n",
       "1                                 -450.059163   \n",
       "2                                 -449.660997   \n",
       "3                                 -449.526900   \n",
       "4                                 -450.022259   \n",
       "\n",
       "   secondary_cleaner.state.floatbank4_a_air  \\\n",
       "0                                 12.023554   \n",
       "1                                 12.058140   \n",
       "2                                 11.962366   \n",
       "3                                 12.033091   \n",
       "4                                 12.025367   \n",
       "\n",
       "   secondary_cleaner.state.floatbank4_a_level  \\\n",
       "0                                 -497.795834   \n",
       "1                                 -498.695773   \n",
       "2                                 -498.767484   \n",
       "3                                 -498.350935   \n",
       "4                                 -500.786497   \n",
       "\n",
       "   secondary_cleaner.state.floatbank4_b_air  \\\n",
       "0                                  8.016656   \n",
       "1                                  8.130979   \n",
       "2                                  8.096893   \n",
       "3                                  8.074946   \n",
       "4                                  8.054678   \n",
       "\n",
       "   secondary_cleaner.state.floatbank4_b_level  \\\n",
       "0                                 -501.289139   \n",
       "1                                 -499.634209   \n",
       "2                                 -500.827423   \n",
       "3                                 -499.474407   \n",
       "4                                 -500.397500   \n",
       "\n",
       "   secondary_cleaner.state.floatbank5_a_air  \\\n",
       "0                                  7.946562   \n",
       "1                                  7.958270   \n",
       "2                                  8.071056   \n",
       "3                                  7.897085   \n",
       "4                                  8.107890   \n",
       "\n",
       "   secondary_cleaner.state.floatbank5_a_level  \\\n",
       "0                                 -432.317850   \n",
       "1                                 -525.839648   \n",
       "2                                 -500.801673   \n",
       "3                                 -500.868509   \n",
       "4                                 -509.526725   \n",
       "\n",
       "   secondary_cleaner.state.floatbank5_b_air  \\\n",
       "0                                  4.872511   \n",
       "1                                  4.878850   \n",
       "2                                  4.905125   \n",
       "3                                  4.931400   \n",
       "4                                  4.957674   \n",
       "\n",
       "   secondary_cleaner.state.floatbank5_b_level  \\\n",
       "0                                 -500.037437   \n",
       "1                                 -500.162375   \n",
       "2                                 -499.828510   \n",
       "3                                 -499.963623   \n",
       "4                                 -500.360026   \n",
       "\n",
       "   secondary_cleaner.state.floatbank6_a_air  \\\n",
       "0                                 26.705889   \n",
       "1                                 25.019940   \n",
       "2                                 24.994862   \n",
       "3                                 24.948919   \n",
       "4                                 25.003331   \n",
       "\n",
       "   secondary_cleaner.state.floatbank6_a_level  \n",
       "0                                 -499.709414  \n",
       "1                                 -499.819438  \n",
       "2                                 -500.622559  \n",
       "3                                 -498.709987  \n",
       "4                                 -500.856333  "
      ]
     },
     "metadata": {},
     "output_type": "display_data"
    }
   ],
   "source": [
    "test_data = open_file('gold_recovery_test_new.csv')\n",
    "display(test_data.head())\n",
    "pd.set_option('display.max_columns', 60)"
   ]
  },
  {
   "cell_type": "code",
   "execution_count": 13,
   "metadata": {},
   "outputs": [
    {
     "name": "stdout",
     "output_type": "stream",
     "text": [
      "<class 'pandas.core.frame.DataFrame'>\n",
      "RangeIndex: 5290 entries, 0 to 5289\n",
      "Data columns (total 53 columns):\n",
      " #   Column                                      Non-Null Count  Dtype  \n",
      "---  ------                                      --------------  -----  \n",
      " 0   date                                        5290 non-null   object \n",
      " 1   primary_cleaner.input.sulfate               5286 non-null   float64\n",
      " 2   primary_cleaner.input.depressant            5285 non-null   float64\n",
      " 3   primary_cleaner.input.feed_size             5290 non-null   float64\n",
      " 4   primary_cleaner.input.xanthate              5286 non-null   float64\n",
      " 5   primary_cleaner.state.floatbank8_a_air      5290 non-null   float64\n",
      " 6   primary_cleaner.state.floatbank8_a_level    5290 non-null   float64\n",
      " 7   primary_cleaner.state.floatbank8_b_air      5290 non-null   float64\n",
      " 8   primary_cleaner.state.floatbank8_b_level    5290 non-null   float64\n",
      " 9   primary_cleaner.state.floatbank8_c_air      5290 non-null   float64\n",
      " 10  primary_cleaner.state.floatbank8_c_level    5290 non-null   float64\n",
      " 11  primary_cleaner.state.floatbank8_d_air      5290 non-null   float64\n",
      " 12  primary_cleaner.state.floatbank8_d_level    5290 non-null   float64\n",
      " 13  rougher.input.feed_ag                       5290 non-null   float64\n",
      " 14  rougher.input.feed_pb                       5290 non-null   float64\n",
      " 15  rougher.input.feed_rate                     5287 non-null   float64\n",
      " 16  rougher.input.feed_size                     5289 non-null   float64\n",
      " 17  rougher.input.feed_sol                      5269 non-null   float64\n",
      " 18  rougher.input.feed_au                       5290 non-null   float64\n",
      " 19  rougher.input.floatbank10_sulfate           5285 non-null   float64\n",
      " 20  rougher.input.floatbank10_xanthate          5290 non-null   float64\n",
      " 21  rougher.input.floatbank11_sulfate           5282 non-null   float64\n",
      " 22  rougher.input.floatbank11_xanthate          5265 non-null   float64\n",
      " 23  rougher.state.floatbank10_a_air             5290 non-null   float64\n",
      " 24  rougher.state.floatbank10_a_level           5290 non-null   float64\n",
      " 25  rougher.state.floatbank10_b_air             5290 non-null   float64\n",
      " 26  rougher.state.floatbank10_b_level           5290 non-null   float64\n",
      " 27  rougher.state.floatbank10_c_air             5290 non-null   float64\n",
      " 28  rougher.state.floatbank10_c_level           5290 non-null   float64\n",
      " 29  rougher.state.floatbank10_d_air             5290 non-null   float64\n",
      " 30  rougher.state.floatbank10_d_level           5290 non-null   float64\n",
      " 31  rougher.state.floatbank10_e_air             5290 non-null   float64\n",
      " 32  rougher.state.floatbank10_e_level           5290 non-null   float64\n",
      " 33  rougher.state.floatbank10_f_air             5290 non-null   float64\n",
      " 34  rougher.state.floatbank10_f_level           5290 non-null   float64\n",
      " 35  secondary_cleaner.state.floatbank2_a_air    5287 non-null   float64\n",
      " 36  secondary_cleaner.state.floatbank2_a_level  5290 non-null   float64\n",
      " 37  secondary_cleaner.state.floatbank2_b_air    5288 non-null   float64\n",
      " 38  secondary_cleaner.state.floatbank2_b_level  5290 non-null   float64\n",
      " 39  secondary_cleaner.state.floatbank3_a_air    5281 non-null   float64\n",
      " 40  secondary_cleaner.state.floatbank3_a_level  5290 non-null   float64\n",
      " 41  secondary_cleaner.state.floatbank3_b_air    5290 non-null   float64\n",
      " 42  secondary_cleaner.state.floatbank3_b_level  5290 non-null   float64\n",
      " 43  secondary_cleaner.state.floatbank4_a_air    5290 non-null   float64\n",
      " 44  secondary_cleaner.state.floatbank4_a_level  5290 non-null   float64\n",
      " 45  secondary_cleaner.state.floatbank4_b_air    5290 non-null   float64\n",
      " 46  secondary_cleaner.state.floatbank4_b_level  5290 non-null   float64\n",
      " 47  secondary_cleaner.state.floatbank5_a_air    5290 non-null   float64\n",
      " 48  secondary_cleaner.state.floatbank5_a_level  5290 non-null   float64\n",
      " 49  secondary_cleaner.state.floatbank5_b_air    5290 non-null   float64\n",
      " 50  secondary_cleaner.state.floatbank5_b_level  5290 non-null   float64\n",
      " 51  secondary_cleaner.state.floatbank6_a_air    5290 non-null   float64\n",
      " 52  secondary_cleaner.state.floatbank6_a_level  5290 non-null   float64\n",
      "dtypes: float64(52), object(1)\n",
      "memory usage: 2.1+ MB\n"
     ]
    }
   ],
   "source": [
    "data_info(test_data)"
   ]
  },
  {
   "cell_type": "code",
   "execution_count": 14,
   "metadata": {},
   "outputs": [
    {
     "data": {
      "text/html": [
       "<div>\n",
       "<style scoped>\n",
       "    .dataframe tbody tr th:only-of-type {\n",
       "        vertical-align: middle;\n",
       "    }\n",
       "\n",
       "    .dataframe tbody tr th {\n",
       "        vertical-align: top;\n",
       "    }\n",
       "\n",
       "    .dataframe thead th {\n",
       "        text-align: right;\n",
       "    }\n",
       "</style>\n",
       "<table border=\"1\" class=\"dataframe\">\n",
       "  <thead>\n",
       "    <tr style=\"text-align: right;\">\n",
       "      <th></th>\n",
       "      <th>primary_cleaner.input.sulfate</th>\n",
       "      <th>primary_cleaner.input.depressant</th>\n",
       "      <th>primary_cleaner.input.feed_size</th>\n",
       "      <th>primary_cleaner.input.xanthate</th>\n",
       "      <th>primary_cleaner.state.floatbank8_a_air</th>\n",
       "      <th>primary_cleaner.state.floatbank8_a_level</th>\n",
       "      <th>primary_cleaner.state.floatbank8_b_air</th>\n",
       "      <th>primary_cleaner.state.floatbank8_b_level</th>\n",
       "      <th>primary_cleaner.state.floatbank8_c_air</th>\n",
       "      <th>primary_cleaner.state.floatbank8_c_level</th>\n",
       "      <th>primary_cleaner.state.floatbank8_d_air</th>\n",
       "      <th>primary_cleaner.state.floatbank8_d_level</th>\n",
       "      <th>rougher.input.feed_ag</th>\n",
       "      <th>rougher.input.feed_pb</th>\n",
       "      <th>rougher.input.feed_rate</th>\n",
       "      <th>rougher.input.feed_size</th>\n",
       "      <th>rougher.input.feed_sol</th>\n",
       "      <th>rougher.input.feed_au</th>\n",
       "      <th>rougher.input.floatbank10_sulfate</th>\n",
       "      <th>rougher.input.floatbank10_xanthate</th>\n",
       "      <th>rougher.input.floatbank11_sulfate</th>\n",
       "      <th>rougher.input.floatbank11_xanthate</th>\n",
       "      <th>rougher.state.floatbank10_a_air</th>\n",
       "      <th>rougher.state.floatbank10_a_level</th>\n",
       "      <th>rougher.state.floatbank10_b_air</th>\n",
       "      <th>rougher.state.floatbank10_b_level</th>\n",
       "      <th>rougher.state.floatbank10_c_air</th>\n",
       "      <th>rougher.state.floatbank10_c_level</th>\n",
       "      <th>rougher.state.floatbank10_d_air</th>\n",
       "      <th>rougher.state.floatbank10_d_level</th>\n",
       "      <th>rougher.state.floatbank10_e_air</th>\n",
       "      <th>rougher.state.floatbank10_e_level</th>\n",
       "      <th>rougher.state.floatbank10_f_air</th>\n",
       "      <th>rougher.state.floatbank10_f_level</th>\n",
       "      <th>secondary_cleaner.state.floatbank2_a_air</th>\n",
       "      <th>secondary_cleaner.state.floatbank2_a_level</th>\n",
       "      <th>secondary_cleaner.state.floatbank2_b_air</th>\n",
       "      <th>secondary_cleaner.state.floatbank2_b_level</th>\n",
       "      <th>secondary_cleaner.state.floatbank3_a_air</th>\n",
       "      <th>secondary_cleaner.state.floatbank3_a_level</th>\n",
       "      <th>secondary_cleaner.state.floatbank3_b_air</th>\n",
       "      <th>secondary_cleaner.state.floatbank3_b_level</th>\n",
       "      <th>secondary_cleaner.state.floatbank4_a_air</th>\n",
       "      <th>secondary_cleaner.state.floatbank4_a_level</th>\n",
       "      <th>secondary_cleaner.state.floatbank4_b_air</th>\n",
       "      <th>secondary_cleaner.state.floatbank4_b_level</th>\n",
       "      <th>secondary_cleaner.state.floatbank5_a_air</th>\n",
       "      <th>secondary_cleaner.state.floatbank5_a_level</th>\n",
       "      <th>secondary_cleaner.state.floatbank5_b_air</th>\n",
       "      <th>secondary_cleaner.state.floatbank5_b_level</th>\n",
       "      <th>secondary_cleaner.state.floatbank6_a_air</th>\n",
       "      <th>secondary_cleaner.state.floatbank6_a_level</th>\n",
       "    </tr>\n",
       "  </thead>\n",
       "  <tbody>\n",
       "    <tr>\n",
       "      <th>count</th>\n",
       "      <td>5286.000000</td>\n",
       "      <td>5285.000000</td>\n",
       "      <td>5290.000000</td>\n",
       "      <td>5286.000000</td>\n",
       "      <td>5.290000e+03</td>\n",
       "      <td>5290.000000</td>\n",
       "      <td>5.290000e+03</td>\n",
       "      <td>5290.000000</td>\n",
       "      <td>5.290000e+03</td>\n",
       "      <td>5290.000000</td>\n",
       "      <td>5.290000e+03</td>\n",
       "      <td>5290.000000</td>\n",
       "      <td>5290.000000</td>\n",
       "      <td>5290.000000</td>\n",
       "      <td>5287.000000</td>\n",
       "      <td>5289.000000</td>\n",
       "      <td>5269.000000</td>\n",
       "      <td>5290.000000</td>\n",
       "      <td>5285.000000</td>\n",
       "      <td>5290.000000</td>\n",
       "      <td>5282.000000</td>\n",
       "      <td>5265.000000</td>\n",
       "      <td>5290.000000</td>\n",
       "      <td>5290.000000</td>\n",
       "      <td>5290.000000</td>\n",
       "      <td>5290.000000</td>\n",
       "      <td>5290.000000</td>\n",
       "      <td>5290.000000</td>\n",
       "      <td>5290.000000</td>\n",
       "      <td>5290.000000</td>\n",
       "      <td>5290.000000</td>\n",
       "      <td>5290.000000</td>\n",
       "      <td>5290.000000</td>\n",
       "      <td>5290.000000</td>\n",
       "      <td>5287.000000</td>\n",
       "      <td>5290.000000</td>\n",
       "      <td>5288.000000</td>\n",
       "      <td>5290.000000</td>\n",
       "      <td>5281.000000</td>\n",
       "      <td>5290.000000</td>\n",
       "      <td>5.290000e+03</td>\n",
       "      <td>5290.000000</td>\n",
       "      <td>5.290000e+03</td>\n",
       "      <td>5290.000000</td>\n",
       "      <td>5.290000e+03</td>\n",
       "      <td>5290.000000</td>\n",
       "      <td>5290.000000</td>\n",
       "      <td>5290.000000</td>\n",
       "      <td>5290.000000</td>\n",
       "      <td>5290.000000</td>\n",
       "      <td>5290.000000</td>\n",
       "      <td>5290.000000</td>\n",
       "    </tr>\n",
       "    <tr>\n",
       "      <th>mean</th>\n",
       "      <td>174.839652</td>\n",
       "      <td>8.683596</td>\n",
       "      <td>7.266339</td>\n",
       "      <td>1.383803</td>\n",
       "      <td>1.539494e+03</td>\n",
       "      <td>-497.665883</td>\n",
       "      <td>1.545174e+03</td>\n",
       "      <td>-500.273098</td>\n",
       "      <td>1.527272e+03</td>\n",
       "      <td>-498.330680</td>\n",
       "      <td>1.544844e+03</td>\n",
       "      <td>-500.199527</td>\n",
       "      <td>9.371940</td>\n",
       "      <td>3.798082</td>\n",
       "      <td>489.800620</td>\n",
       "      <td>55.951097</td>\n",
       "      <td>37.716648</td>\n",
       "      <td>9.334682</td>\n",
       "      <td>13.855759</td>\n",
       "      <td>6.467745</td>\n",
       "      <td>13.922328</td>\n",
       "      <td>6.512103</td>\n",
       "      <td>1053.400166</td>\n",
       "      <td>-395.732530</td>\n",
       "      <td>1318.926879</td>\n",
       "      <td>-475.241428</td>\n",
       "      <td>1301.595477</td>\n",
       "      <td>-474.836671</td>\n",
       "      <td>1214.847960</td>\n",
       "      <td>-475.682272</td>\n",
       "      <td>1056.648995</td>\n",
       "      <td>-469.029688</td>\n",
       "      <td>997.949719</td>\n",
       "      <td>-470.482465</td>\n",
       "      <td>26.312630</td>\n",
       "      <td>-502.750897</td>\n",
       "      <td>21.949119</td>\n",
       "      <td>-501.987097</td>\n",
       "      <td>25.402926</td>\n",
       "      <td>-507.490314</td>\n",
       "      <td>2.098211e+01</td>\n",
       "      <td>-506.627916</td>\n",
       "      <td>1.632007e+01</td>\n",
       "      <td>-505.144570</td>\n",
       "      <td>1.373544e+01</td>\n",
       "      <td>-463.349858</td>\n",
       "      <td>12.804186</td>\n",
       "      <td>-501.329122</td>\n",
       "      <td>9.881145</td>\n",
       "      <td>-495.663398</td>\n",
       "      <td>17.304935</td>\n",
       "      <td>-501.793193</td>\n",
       "    </tr>\n",
       "    <tr>\n",
       "      <th>std</th>\n",
       "      <td>43.027080</td>\n",
       "      <td>3.072050</td>\n",
       "      <td>0.610219</td>\n",
       "      <td>0.643474</td>\n",
       "      <td>1.167979e+02</td>\n",
       "      <td>19.952431</td>\n",
       "      <td>1.222246e+02</td>\n",
       "      <td>32.968307</td>\n",
       "      <td>1.225380e+02</td>\n",
       "      <td>21.964876</td>\n",
       "      <td>1.247731e+02</td>\n",
       "      <td>31.045257</td>\n",
       "      <td>1.926264</td>\n",
       "      <td>0.954859</td>\n",
       "      <td>108.036326</td>\n",
       "      <td>19.081758</td>\n",
       "      <td>5.491415</td>\n",
       "      <td>1.619521</td>\n",
       "      <td>3.350852</td>\n",
       "      <td>1.065114</td>\n",
       "      <td>3.223769</td>\n",
       "      <td>0.886989</td>\n",
       "      <td>121.139309</td>\n",
       "      <td>91.085505</td>\n",
       "      <td>156.450366</td>\n",
       "      <td>45.649466</td>\n",
       "      <td>171.269667</td>\n",
       "      <td>45.859866</td>\n",
       "      <td>185.763319</td>\n",
       "      <td>47.844967</td>\n",
       "      <td>131.542839</td>\n",
       "      <td>59.325990</td>\n",
       "      <td>128.218869</td>\n",
       "      <td>60.759318</td>\n",
       "      <td>3.429852</td>\n",
       "      <td>28.756505</td>\n",
       "      <td>4.354961</td>\n",
       "      <td>34.582722</td>\n",
       "      <td>6.526457</td>\n",
       "      <td>47.620908</td>\n",
       "      <td>6.736179e+00</td>\n",
       "      <td>44.528673</td>\n",
       "      <td>3.493583e+00</td>\n",
       "      <td>31.427337</td>\n",
       "      <td>3.430484e+00</td>\n",
       "      <td>86.189107</td>\n",
       "      <td>3.026591</td>\n",
       "      <td>17.951495</td>\n",
       "      <td>2.868205</td>\n",
       "      <td>34.535007</td>\n",
       "      <td>4.536544</td>\n",
       "      <td>39.044215</td>\n",
       "    </tr>\n",
       "    <tr>\n",
       "      <th>min</th>\n",
       "      <td>2.566156</td>\n",
       "      <td>0.003839</td>\n",
       "      <td>5.650000</td>\n",
       "      <td>0.004984</td>\n",
       "      <td>5.445860e-32</td>\n",
       "      <td>-795.316337</td>\n",
       "      <td>6.647490e-32</td>\n",
       "      <td>-799.997015</td>\n",
       "      <td>4.033736e-32</td>\n",
       "      <td>-799.960571</td>\n",
       "      <td>4.039220e-32</td>\n",
       "      <td>-799.794250</td>\n",
       "      <td>0.568441</td>\n",
       "      <td>0.273677</td>\n",
       "      <td>0.002986</td>\n",
       "      <td>0.046369</td>\n",
       "      <td>1.393488</td>\n",
       "      <td>0.568632</td>\n",
       "      <td>0.001147</td>\n",
       "      <td>0.000568</td>\n",
       "      <td>0.000077</td>\n",
       "      <td>0.006985</td>\n",
       "      <td>-0.042069</td>\n",
       "      <td>-657.949759</td>\n",
       "      <td>-0.721806</td>\n",
       "      <td>-650.245277</td>\n",
       "      <td>-0.056636</td>\n",
       "      <td>-647.544439</td>\n",
       "      <td>-0.992219</td>\n",
       "      <td>-648.390665</td>\n",
       "      <td>-1.982295</td>\n",
       "      <td>-649.267537</td>\n",
       "      <td>-2.593390</td>\n",
       "      <td>-649.949283</td>\n",
       "      <td>0.205329</td>\n",
       "      <td>-784.091091</td>\n",
       "      <td>0.006064</td>\n",
       "      <td>-797.783989</td>\n",
       "      <td>0.000000</td>\n",
       "      <td>-799.755798</td>\n",
       "      <td>1.521587e-17</td>\n",
       "      <td>-809.333008</td>\n",
       "      <td>1.079872e-16</td>\n",
       "      <td>-799.798523</td>\n",
       "      <td>2.489718e-17</td>\n",
       "      <td>-800.836914</td>\n",
       "      <td>0.069227</td>\n",
       "      <td>-797.323986</td>\n",
       "      <td>0.528083</td>\n",
       "      <td>-800.220337</td>\n",
       "      <td>-0.079426</td>\n",
       "      <td>-809.741464</td>\n",
       "    </tr>\n",
       "    <tr>\n",
       "      <th>25%</th>\n",
       "      <td>147.121401</td>\n",
       "      <td>6.489555</td>\n",
       "      <td>6.890000</td>\n",
       "      <td>0.907623</td>\n",
       "      <td>1.498936e+03</td>\n",
       "      <td>-500.357298</td>\n",
       "      <td>1.498971e+03</td>\n",
       "      <td>-500.703002</td>\n",
       "      <td>1.473230e+03</td>\n",
       "      <td>-501.018117</td>\n",
       "      <td>1.499481e+03</td>\n",
       "      <td>-500.452469</td>\n",
       "      <td>8.112434</td>\n",
       "      <td>3.240251</td>\n",
       "      <td>407.020883</td>\n",
       "      <td>43.906347</td>\n",
       "      <td>34.505576</td>\n",
       "      <td>8.207814</td>\n",
       "      <td>11.995006</td>\n",
       "      <td>5.998779</td>\n",
       "      <td>11.997200</td>\n",
       "      <td>5.999157</td>\n",
       "      <td>999.205344</td>\n",
       "      <td>-499.920565</td>\n",
       "      <td>1200.871883</td>\n",
       "      <td>-500.256114</td>\n",
       "      <td>1199.651371</td>\n",
       "      <td>-500.233831</td>\n",
       "      <td>1093.368068</td>\n",
       "      <td>-500.440610</td>\n",
       "      <td>999.361403</td>\n",
       "      <td>-500.190639</td>\n",
       "      <td>901.024994</td>\n",
       "      <td>-500.624783</td>\n",
       "      <td>24.942328</td>\n",
       "      <td>-500.206517</td>\n",
       "      <td>20.002315</td>\n",
       "      <td>-500.218030</td>\n",
       "      <td>22.982288</td>\n",
       "      <td>-500.297951</td>\n",
       "      <td>1.796786e+01</td>\n",
       "      <td>-500.145128</td>\n",
       "      <td>1.403618e+01</td>\n",
       "      <td>-500.868258</td>\n",
       "      <td>1.202862e+01</td>\n",
       "      <td>-500.323028</td>\n",
       "      <td>10.914838</td>\n",
       "      <td>-500.726841</td>\n",
       "      <td>8.036719</td>\n",
       "      <td>-500.194668</td>\n",
       "      <td>13.997317</td>\n",
       "      <td>-500.690984</td>\n",
       "    </tr>\n",
       "    <tr>\n",
       "      <th>50%</th>\n",
       "      <td>177.828489</td>\n",
       "      <td>8.052207</td>\n",
       "      <td>7.250000</td>\n",
       "      <td>1.197610</td>\n",
       "      <td>1.585129e+03</td>\n",
       "      <td>-499.969164</td>\n",
       "      <td>1.595622e+03</td>\n",
       "      <td>-500.028514</td>\n",
       "      <td>1.549595e+03</td>\n",
       "      <td>-500.017711</td>\n",
       "      <td>1.594579e+03</td>\n",
       "      <td>-500.023307</td>\n",
       "      <td>9.762654</td>\n",
       "      <td>3.740716</td>\n",
       "      <td>499.051440</td>\n",
       "      <td>50.841029</td>\n",
       "      <td>37.980276</td>\n",
       "      <td>9.593766</td>\n",
       "      <td>14.003126</td>\n",
       "      <td>6.498181</td>\n",
       "      <td>14.004371</td>\n",
       "      <td>6.498744</td>\n",
       "      <td>1000.472055</td>\n",
       "      <td>-399.693363</td>\n",
       "      <td>1302.254995</td>\n",
       "      <td>-499.837803</td>\n",
       "      <td>1300.202274</td>\n",
       "      <td>-499.777222</td>\n",
       "      <td>1207.014092</td>\n",
       "      <td>-499.691917</td>\n",
       "      <td>1047.495449</td>\n",
       "      <td>-499.765796</td>\n",
       "      <td>999.441879</td>\n",
       "      <td>-499.680986</td>\n",
       "      <td>26.910569</td>\n",
       "      <td>-500.003902</td>\n",
       "      <td>22.942603</td>\n",
       "      <td>-500.019058</td>\n",
       "      <td>25.010105</td>\n",
       "      <td>-500.034578</td>\n",
       "      <td>2.100316e+01</td>\n",
       "      <td>-500.013819</td>\n",
       "      <td>1.700847e+01</td>\n",
       "      <td>-500.115727</td>\n",
       "      <td>1.496486e+01</td>\n",
       "      <td>-499.576513</td>\n",
       "      <td>12.954182</td>\n",
       "      <td>-499.990332</td>\n",
       "      <td>10.004301</td>\n",
       "      <td>-499.990535</td>\n",
       "      <td>16.014935</td>\n",
       "      <td>-500.007126</td>\n",
       "    </tr>\n",
       "    <tr>\n",
       "      <th>75%</th>\n",
       "      <td>208.125438</td>\n",
       "      <td>10.027764</td>\n",
       "      <td>7.600000</td>\n",
       "      <td>1.797819</td>\n",
       "      <td>1.602077e+03</td>\n",
       "      <td>-499.568951</td>\n",
       "      <td>1.602324e+03</td>\n",
       "      <td>-499.293257</td>\n",
       "      <td>1.601144e+03</td>\n",
       "      <td>-498.994130</td>\n",
       "      <td>1.600965e+03</td>\n",
       "      <td>-499.607040</td>\n",
       "      <td>10.652297</td>\n",
       "      <td>4.282634</td>\n",
       "      <td>575.307213</td>\n",
       "      <td>62.431047</td>\n",
       "      <td>41.635385</td>\n",
       "      <td>10.463538</td>\n",
       "      <td>16.974284</td>\n",
       "      <td>7.085457</td>\n",
       "      <td>16.959671</td>\n",
       "      <td>7.091808</td>\n",
       "      <td>1006.254299</td>\n",
       "      <td>-300.060056</td>\n",
       "      <td>1433.955649</td>\n",
       "      <td>-450.749619</td>\n",
       "      <td>1406.594956</td>\n",
       "      <td>-451.153188</td>\n",
       "      <td>1391.497269</td>\n",
       "      <td>-452.483463</td>\n",
       "      <td>1101.365315</td>\n",
       "      <td>-450.957513</td>\n",
       "      <td>1050.433005</td>\n",
       "      <td>-451.986460</td>\n",
       "      <td>28.091885</td>\n",
       "      <td>-499.791639</td>\n",
       "      <td>24.985013</td>\n",
       "      <td>-499.831532</td>\n",
       "      <td>30.002063</td>\n",
       "      <td>-499.780163</td>\n",
       "      <td>2.697698e+01</td>\n",
       "      <td>-499.890608</td>\n",
       "      <td>1.803862e+01</td>\n",
       "      <td>-499.404224</td>\n",
       "      <td>1.596213e+01</td>\n",
       "      <td>-400.933805</td>\n",
       "      <td>15.097528</td>\n",
       "      <td>-499.283191</td>\n",
       "      <td>11.997467</td>\n",
       "      <td>-499.719913</td>\n",
       "      <td>21.020013</td>\n",
       "      <td>-499.373018</td>\n",
       "    </tr>\n",
       "    <tr>\n",
       "      <th>max</th>\n",
       "      <td>265.983123</td>\n",
       "      <td>40.000000</td>\n",
       "      <td>15.500000</td>\n",
       "      <td>4.102454</td>\n",
       "      <td>2.103104e+03</td>\n",
       "      <td>-57.195404</td>\n",
       "      <td>1.813084e+03</td>\n",
       "      <td>-142.527229</td>\n",
       "      <td>1.715054e+03</td>\n",
       "      <td>-150.937035</td>\n",
       "      <td>1.913257e+03</td>\n",
       "      <td>-158.950573</td>\n",
       "      <td>14.406130</td>\n",
       "      <td>6.905684</td>\n",
       "      <td>707.364020</td>\n",
       "      <td>392.494040</td>\n",
       "      <td>53.477742</td>\n",
       "      <td>13.731330</td>\n",
       "      <td>24.280636</td>\n",
       "      <td>8.910468</td>\n",
       "      <td>24.280966</td>\n",
       "      <td>8.621338</td>\n",
       "      <td>1423.274687</td>\n",
       "      <td>-273.776101</td>\n",
       "      <td>1706.640419</td>\n",
       "      <td>-298.200051</td>\n",
       "      <td>1731.017788</td>\n",
       "      <td>-298.036852</td>\n",
       "      <td>1775.218584</td>\n",
       "      <td>-76.397327</td>\n",
       "      <td>1467.184843</td>\n",
       "      <td>-139.753025</td>\n",
       "      <td>1476.588107</td>\n",
       "      <td>-249.801043</td>\n",
       "      <td>32.138727</td>\n",
       "      <td>-300.343670</td>\n",
       "      <td>28.165864</td>\n",
       "      <td>-211.999273</td>\n",
       "      <td>40.041997</td>\n",
       "      <td>-313.866425</td>\n",
       "      <td>3.203936e+01</td>\n",
       "      <td>-202.277366</td>\n",
       "      <td>3.005180e+01</td>\n",
       "      <td>-401.565212</td>\n",
       "      <td>3.126971e+01</td>\n",
       "      <td>-6.506986</td>\n",
       "      <td>25.258848</td>\n",
       "      <td>-244.483566</td>\n",
       "      <td>14.086866</td>\n",
       "      <td>-137.740004</td>\n",
       "      <td>26.705889</td>\n",
       "      <td>-123.307487</td>\n",
       "    </tr>\n",
       "  </tbody>\n",
       "</table>\n",
       "</div>"
      ],
      "text/plain": [
       "       primary_cleaner.input.sulfate  primary_cleaner.input.depressant  \\\n",
       "count                    5286.000000                       5285.000000   \n",
       "mean                      174.839652                          8.683596   \n",
       "std                        43.027080                          3.072050   \n",
       "min                         2.566156                          0.003839   \n",
       "25%                       147.121401                          6.489555   \n",
       "50%                       177.828489                          8.052207   \n",
       "75%                       208.125438                         10.027764   \n",
       "max                       265.983123                         40.000000   \n",
       "\n",
       "       primary_cleaner.input.feed_size  primary_cleaner.input.xanthate  \\\n",
       "count                      5290.000000                     5286.000000   \n",
       "mean                          7.266339                        1.383803   \n",
       "std                           0.610219                        0.643474   \n",
       "min                           5.650000                        0.004984   \n",
       "25%                           6.890000                        0.907623   \n",
       "50%                           7.250000                        1.197610   \n",
       "75%                           7.600000                        1.797819   \n",
       "max                          15.500000                        4.102454   \n",
       "\n",
       "       primary_cleaner.state.floatbank8_a_air  \\\n",
       "count                            5.290000e+03   \n",
       "mean                             1.539494e+03   \n",
       "std                              1.167979e+02   \n",
       "min                              5.445860e-32   \n",
       "25%                              1.498936e+03   \n",
       "50%                              1.585129e+03   \n",
       "75%                              1.602077e+03   \n",
       "max                              2.103104e+03   \n",
       "\n",
       "       primary_cleaner.state.floatbank8_a_level  \\\n",
       "count                               5290.000000   \n",
       "mean                                -497.665883   \n",
       "std                                   19.952431   \n",
       "min                                 -795.316337   \n",
       "25%                                 -500.357298   \n",
       "50%                                 -499.969164   \n",
       "75%                                 -499.568951   \n",
       "max                                  -57.195404   \n",
       "\n",
       "       primary_cleaner.state.floatbank8_b_air  \\\n",
       "count                            5.290000e+03   \n",
       "mean                             1.545174e+03   \n",
       "std                              1.222246e+02   \n",
       "min                              6.647490e-32   \n",
       "25%                              1.498971e+03   \n",
       "50%                              1.595622e+03   \n",
       "75%                              1.602324e+03   \n",
       "max                              1.813084e+03   \n",
       "\n",
       "       primary_cleaner.state.floatbank8_b_level  \\\n",
       "count                               5290.000000   \n",
       "mean                                -500.273098   \n",
       "std                                   32.968307   \n",
       "min                                 -799.997015   \n",
       "25%                                 -500.703002   \n",
       "50%                                 -500.028514   \n",
       "75%                                 -499.293257   \n",
       "max                                 -142.527229   \n",
       "\n",
       "       primary_cleaner.state.floatbank8_c_air  \\\n",
       "count                            5.290000e+03   \n",
       "mean                             1.527272e+03   \n",
       "std                              1.225380e+02   \n",
       "min                              4.033736e-32   \n",
       "25%                              1.473230e+03   \n",
       "50%                              1.549595e+03   \n",
       "75%                              1.601144e+03   \n",
       "max                              1.715054e+03   \n",
       "\n",
       "       primary_cleaner.state.floatbank8_c_level  \\\n",
       "count                               5290.000000   \n",
       "mean                                -498.330680   \n",
       "std                                   21.964876   \n",
       "min                                 -799.960571   \n",
       "25%                                 -501.018117   \n",
       "50%                                 -500.017711   \n",
       "75%                                 -498.994130   \n",
       "max                                 -150.937035   \n",
       "\n",
       "       primary_cleaner.state.floatbank8_d_air  \\\n",
       "count                            5.290000e+03   \n",
       "mean                             1.544844e+03   \n",
       "std                              1.247731e+02   \n",
       "min                              4.039220e-32   \n",
       "25%                              1.499481e+03   \n",
       "50%                              1.594579e+03   \n",
       "75%                              1.600965e+03   \n",
       "max                              1.913257e+03   \n",
       "\n",
       "       primary_cleaner.state.floatbank8_d_level  rougher.input.feed_ag  \\\n",
       "count                               5290.000000            5290.000000   \n",
       "mean                                -500.199527               9.371940   \n",
       "std                                   31.045257               1.926264   \n",
       "min                                 -799.794250               0.568441   \n",
       "25%                                 -500.452469               8.112434   \n",
       "50%                                 -500.023307               9.762654   \n",
       "75%                                 -499.607040              10.652297   \n",
       "max                                 -158.950573              14.406130   \n",
       "\n",
       "       rougher.input.feed_pb  rougher.input.feed_rate  \\\n",
       "count            5290.000000              5287.000000   \n",
       "mean                3.798082               489.800620   \n",
       "std                 0.954859               108.036326   \n",
       "min                 0.273677                 0.002986   \n",
       "25%                 3.240251               407.020883   \n",
       "50%                 3.740716               499.051440   \n",
       "75%                 4.282634               575.307213   \n",
       "max                 6.905684               707.364020   \n",
       "\n",
       "       rougher.input.feed_size  rougher.input.feed_sol  rougher.input.feed_au  \\\n",
       "count              5289.000000             5269.000000            5290.000000   \n",
       "mean                 55.951097               37.716648               9.334682   \n",
       "std                  19.081758                5.491415               1.619521   \n",
       "min                   0.046369                1.393488               0.568632   \n",
       "25%                  43.906347               34.505576               8.207814   \n",
       "50%                  50.841029               37.980276               9.593766   \n",
       "75%                  62.431047               41.635385              10.463538   \n",
       "max                 392.494040               53.477742              13.731330   \n",
       "\n",
       "       rougher.input.floatbank10_sulfate  rougher.input.floatbank10_xanthate  \\\n",
       "count                        5285.000000                         5290.000000   \n",
       "mean                           13.855759                            6.467745   \n",
       "std                             3.350852                            1.065114   \n",
       "min                             0.001147                            0.000568   \n",
       "25%                            11.995006                            5.998779   \n",
       "50%                            14.003126                            6.498181   \n",
       "75%                            16.974284                            7.085457   \n",
       "max                            24.280636                            8.910468   \n",
       "\n",
       "       rougher.input.floatbank11_sulfate  rougher.input.floatbank11_xanthate  \\\n",
       "count                        5282.000000                         5265.000000   \n",
       "mean                           13.922328                            6.512103   \n",
       "std                             3.223769                            0.886989   \n",
       "min                             0.000077                            0.006985   \n",
       "25%                            11.997200                            5.999157   \n",
       "50%                            14.004371                            6.498744   \n",
       "75%                            16.959671                            7.091808   \n",
       "max                            24.280966                            8.621338   \n",
       "\n",
       "       rougher.state.floatbank10_a_air  rougher.state.floatbank10_a_level  \\\n",
       "count                      5290.000000                        5290.000000   \n",
       "mean                       1053.400166                        -395.732530   \n",
       "std                         121.139309                          91.085505   \n",
       "min                          -0.042069                        -657.949759   \n",
       "25%                         999.205344                        -499.920565   \n",
       "50%                        1000.472055                        -399.693363   \n",
       "75%                        1006.254299                        -300.060056   \n",
       "max                        1423.274687                        -273.776101   \n",
       "\n",
       "       rougher.state.floatbank10_b_air  rougher.state.floatbank10_b_level  \\\n",
       "count                      5290.000000                        5290.000000   \n",
       "mean                       1318.926879                        -475.241428   \n",
       "std                         156.450366                          45.649466   \n",
       "min                          -0.721806                        -650.245277   \n",
       "25%                        1200.871883                        -500.256114   \n",
       "50%                        1302.254995                        -499.837803   \n",
       "75%                        1433.955649                        -450.749619   \n",
       "max                        1706.640419                        -298.200051   \n",
       "\n",
       "       rougher.state.floatbank10_c_air  rougher.state.floatbank10_c_level  \\\n",
       "count                      5290.000000                        5290.000000   \n",
       "mean                       1301.595477                        -474.836671   \n",
       "std                         171.269667                          45.859866   \n",
       "min                          -0.056636                        -647.544439   \n",
       "25%                        1199.651371                        -500.233831   \n",
       "50%                        1300.202274                        -499.777222   \n",
       "75%                        1406.594956                        -451.153188   \n",
       "max                        1731.017788                        -298.036852   \n",
       "\n",
       "       rougher.state.floatbank10_d_air  rougher.state.floatbank10_d_level  \\\n",
       "count                      5290.000000                        5290.000000   \n",
       "mean                       1214.847960                        -475.682272   \n",
       "std                         185.763319                          47.844967   \n",
       "min                          -0.992219                        -648.390665   \n",
       "25%                        1093.368068                        -500.440610   \n",
       "50%                        1207.014092                        -499.691917   \n",
       "75%                        1391.497269                        -452.483463   \n",
       "max                        1775.218584                         -76.397327   \n",
       "\n",
       "       rougher.state.floatbank10_e_air  rougher.state.floatbank10_e_level  \\\n",
       "count                      5290.000000                        5290.000000   \n",
       "mean                       1056.648995                        -469.029688   \n",
       "std                         131.542839                          59.325990   \n",
       "min                          -1.982295                        -649.267537   \n",
       "25%                         999.361403                        -500.190639   \n",
       "50%                        1047.495449                        -499.765796   \n",
       "75%                        1101.365315                        -450.957513   \n",
       "max                        1467.184843                        -139.753025   \n",
       "\n",
       "       rougher.state.floatbank10_f_air  rougher.state.floatbank10_f_level  \\\n",
       "count                      5290.000000                        5290.000000   \n",
       "mean                        997.949719                        -470.482465   \n",
       "std                         128.218869                          60.759318   \n",
       "min                          -2.593390                        -649.949283   \n",
       "25%                         901.024994                        -500.624783   \n",
       "50%                         999.441879                        -499.680986   \n",
       "75%                        1050.433005                        -451.986460   \n",
       "max                        1476.588107                        -249.801043   \n",
       "\n",
       "       secondary_cleaner.state.floatbank2_a_air  \\\n",
       "count                               5287.000000   \n",
       "mean                                  26.312630   \n",
       "std                                    3.429852   \n",
       "min                                    0.205329   \n",
       "25%                                   24.942328   \n",
       "50%                                   26.910569   \n",
       "75%                                   28.091885   \n",
       "max                                   32.138727   \n",
       "\n",
       "       secondary_cleaner.state.floatbank2_a_level  \\\n",
       "count                                 5290.000000   \n",
       "mean                                  -502.750897   \n",
       "std                                     28.756505   \n",
       "min                                   -784.091091   \n",
       "25%                                   -500.206517   \n",
       "50%                                   -500.003902   \n",
       "75%                                   -499.791639   \n",
       "max                                   -300.343670   \n",
       "\n",
       "       secondary_cleaner.state.floatbank2_b_air  \\\n",
       "count                               5288.000000   \n",
       "mean                                  21.949119   \n",
       "std                                    4.354961   \n",
       "min                                    0.006064   \n",
       "25%                                   20.002315   \n",
       "50%                                   22.942603   \n",
       "75%                                   24.985013   \n",
       "max                                   28.165864   \n",
       "\n",
       "       secondary_cleaner.state.floatbank2_b_level  \\\n",
       "count                                 5290.000000   \n",
       "mean                                  -501.987097   \n",
       "std                                     34.582722   \n",
       "min                                   -797.783989   \n",
       "25%                                   -500.218030   \n",
       "50%                                   -500.019058   \n",
       "75%                                   -499.831532   \n",
       "max                                   -211.999273   \n",
       "\n",
       "       secondary_cleaner.state.floatbank3_a_air  \\\n",
       "count                               5281.000000   \n",
       "mean                                  25.402926   \n",
       "std                                    6.526457   \n",
       "min                                    0.000000   \n",
       "25%                                   22.982288   \n",
       "50%                                   25.010105   \n",
       "75%                                   30.002063   \n",
       "max                                   40.041997   \n",
       "\n",
       "       secondary_cleaner.state.floatbank3_a_level  \\\n",
       "count                                 5290.000000   \n",
       "mean                                  -507.490314   \n",
       "std                                     47.620908   \n",
       "min                                   -799.755798   \n",
       "25%                                   -500.297951   \n",
       "50%                                   -500.034578   \n",
       "75%                                   -499.780163   \n",
       "max                                   -313.866425   \n",
       "\n",
       "       secondary_cleaner.state.floatbank3_b_air  \\\n",
       "count                              5.290000e+03   \n",
       "mean                               2.098211e+01   \n",
       "std                                6.736179e+00   \n",
       "min                                1.521587e-17   \n",
       "25%                                1.796786e+01   \n",
       "50%                                2.100316e+01   \n",
       "75%                                2.697698e+01   \n",
       "max                                3.203936e+01   \n",
       "\n",
       "       secondary_cleaner.state.floatbank3_b_level  \\\n",
       "count                                 5290.000000   \n",
       "mean                                  -506.627916   \n",
       "std                                     44.528673   \n",
       "min                                   -809.333008   \n",
       "25%                                   -500.145128   \n",
       "50%                                   -500.013819   \n",
       "75%                                   -499.890608   \n",
       "max                                   -202.277366   \n",
       "\n",
       "       secondary_cleaner.state.floatbank4_a_air  \\\n",
       "count                              5.290000e+03   \n",
       "mean                               1.632007e+01   \n",
       "std                                3.493583e+00   \n",
       "min                                1.079872e-16   \n",
       "25%                                1.403618e+01   \n",
       "50%                                1.700847e+01   \n",
       "75%                                1.803862e+01   \n",
       "max                                3.005180e+01   \n",
       "\n",
       "       secondary_cleaner.state.floatbank4_a_level  \\\n",
       "count                                 5290.000000   \n",
       "mean                                  -505.144570   \n",
       "std                                     31.427337   \n",
       "min                                   -799.798523   \n",
       "25%                                   -500.868258   \n",
       "50%                                   -500.115727   \n",
       "75%                                   -499.404224   \n",
       "max                                   -401.565212   \n",
       "\n",
       "       secondary_cleaner.state.floatbank4_b_air  \\\n",
       "count                              5.290000e+03   \n",
       "mean                               1.373544e+01   \n",
       "std                                3.430484e+00   \n",
       "min                                2.489718e-17   \n",
       "25%                                1.202862e+01   \n",
       "50%                                1.496486e+01   \n",
       "75%                                1.596213e+01   \n",
       "max                                3.126971e+01   \n",
       "\n",
       "       secondary_cleaner.state.floatbank4_b_level  \\\n",
       "count                                 5290.000000   \n",
       "mean                                  -463.349858   \n",
       "std                                     86.189107   \n",
       "min                                   -800.836914   \n",
       "25%                                   -500.323028   \n",
       "50%                                   -499.576513   \n",
       "75%                                   -400.933805   \n",
       "max                                     -6.506986   \n",
       "\n",
       "       secondary_cleaner.state.floatbank5_a_air  \\\n",
       "count                               5290.000000   \n",
       "mean                                  12.804186   \n",
       "std                                    3.026591   \n",
       "min                                    0.069227   \n",
       "25%                                   10.914838   \n",
       "50%                                   12.954182   \n",
       "75%                                   15.097528   \n",
       "max                                   25.258848   \n",
       "\n",
       "       secondary_cleaner.state.floatbank5_a_level  \\\n",
       "count                                 5290.000000   \n",
       "mean                                  -501.329122   \n",
       "std                                     17.951495   \n",
       "min                                   -797.323986   \n",
       "25%                                   -500.726841   \n",
       "50%                                   -499.990332   \n",
       "75%                                   -499.283191   \n",
       "max                                   -244.483566   \n",
       "\n",
       "       secondary_cleaner.state.floatbank5_b_air  \\\n",
       "count                               5290.000000   \n",
       "mean                                   9.881145   \n",
       "std                                    2.868205   \n",
       "min                                    0.528083   \n",
       "25%                                    8.036719   \n",
       "50%                                   10.004301   \n",
       "75%                                   11.997467   \n",
       "max                                   14.086866   \n",
       "\n",
       "       secondary_cleaner.state.floatbank5_b_level  \\\n",
       "count                                 5290.000000   \n",
       "mean                                  -495.663398   \n",
       "std                                     34.535007   \n",
       "min                                   -800.220337   \n",
       "25%                                   -500.194668   \n",
       "50%                                   -499.990535   \n",
       "75%                                   -499.719913   \n",
       "max                                   -137.740004   \n",
       "\n",
       "       secondary_cleaner.state.floatbank6_a_air  \\\n",
       "count                               5290.000000   \n",
       "mean                                  17.304935   \n",
       "std                                    4.536544   \n",
       "min                                   -0.079426   \n",
       "25%                                   13.997317   \n",
       "50%                                   16.014935   \n",
       "75%                                   21.020013   \n",
       "max                                   26.705889   \n",
       "\n",
       "       secondary_cleaner.state.floatbank6_a_level  \n",
       "count                                 5290.000000  \n",
       "mean                                  -501.793193  \n",
       "std                                     39.044215  \n",
       "min                                   -809.741464  \n",
       "25%                                   -500.690984  \n",
       "50%                                   -500.007126  \n",
       "75%                                   -499.373018  \n",
       "max                                   -123.307487  "
      ]
     },
     "metadata": {},
     "output_type": "display_data"
    }
   ],
   "source": [
    "display(describe_data(test_data))\n",
    "pd.set_option('display.max_columns', 60)"
   ]
  },
  {
   "cell_type": "code",
   "execution_count": 15,
   "metadata": {},
   "outputs": [
    {
     "data": {
      "text/plain": [
       "date                                          0.000000\n",
       "rougher.state.floatbank10_c_air               0.000000\n",
       "rougher.state.floatbank10_c_level             0.000000\n",
       "rougher.state.floatbank10_d_air               0.000000\n",
       "rougher.state.floatbank10_d_level             0.000000\n",
       "rougher.state.floatbank10_e_air               0.000000\n",
       "rougher.state.floatbank10_e_level             0.000000\n",
       "rougher.state.floatbank10_f_air               0.000000\n",
       "rougher.state.floatbank10_f_level             0.000000\n",
       "secondary_cleaner.state.floatbank2_a_level    0.000000\n",
       "secondary_cleaner.state.floatbank2_b_level    0.000000\n",
       "secondary_cleaner.state.floatbank3_a_level    0.000000\n",
       "secondary_cleaner.state.floatbank3_b_air      0.000000\n",
       "secondary_cleaner.state.floatbank3_b_level    0.000000\n",
       "secondary_cleaner.state.floatbank4_a_air      0.000000\n",
       "secondary_cleaner.state.floatbank4_a_level    0.000000\n",
       "secondary_cleaner.state.floatbank4_b_air      0.000000\n",
       "secondary_cleaner.state.floatbank4_b_level    0.000000\n",
       "secondary_cleaner.state.floatbank5_a_air      0.000000\n",
       "secondary_cleaner.state.floatbank5_a_level    0.000000\n",
       "secondary_cleaner.state.floatbank5_b_air      0.000000\n",
       "secondary_cleaner.state.floatbank5_b_level    0.000000\n",
       "secondary_cleaner.state.floatbank6_a_air      0.000000\n",
       "rougher.state.floatbank10_b_air               0.000000\n",
       "rougher.state.floatbank10_b_level             0.000000\n",
       "rougher.state.floatbank10_a_air               0.000000\n",
       "primary_cleaner.input.feed_size               0.000000\n",
       "primary_cleaner.state.floatbank8_a_air        0.000000\n",
       "primary_cleaner.state.floatbank8_a_level      0.000000\n",
       "primary_cleaner.state.floatbank8_b_air        0.000000\n",
       "primary_cleaner.state.floatbank8_b_level      0.000000\n",
       "primary_cleaner.state.floatbank8_c_air        0.000000\n",
       "primary_cleaner.state.floatbank8_c_level      0.000000\n",
       "primary_cleaner.state.floatbank8_d_air        0.000000\n",
       "rougher.state.floatbank10_a_level             0.000000\n",
       "rougher.input.feed_ag                         0.000000\n",
       "primary_cleaner.state.floatbank8_d_level      0.000000\n",
       "rougher.input.feed_pb                         0.000000\n",
       "rougher.input.feed_au                         0.000000\n",
       "rougher.input.floatbank10_xanthate            0.000000\n",
       "secondary_cleaner.state.floatbank6_a_level    0.000000\n",
       "rougher.input.feed_size                       0.000189\n",
       "secondary_cleaner.state.floatbank2_b_air      0.000378\n",
       "rougher.input.feed_rate                       0.000567\n",
       "secondary_cleaner.state.floatbank2_a_air      0.000567\n",
       "primary_cleaner.input.xanthate                0.000756\n",
       "primary_cleaner.input.sulfate                 0.000756\n",
       "rougher.input.floatbank10_sulfate             0.000945\n",
       "primary_cleaner.input.depressant              0.000945\n",
       "rougher.input.floatbank11_sulfate             0.001512\n",
       "secondary_cleaner.state.floatbank3_a_air      0.001701\n",
       "rougher.input.feed_sol                        0.003970\n",
       "rougher.input.floatbank11_xanthate            0.004726\n",
       "dtype: float64"
      ]
     },
     "execution_count": 15,
     "metadata": {},
     "output_type": "execute_result"
    }
   ],
   "source": [
    "na_mean(test_data)"
   ]
  },
  {
   "cell_type": "code",
   "execution_count": 16,
   "metadata": {},
   "outputs": [
    {
     "data": {
      "text/plain": [
       "0"
      ]
     },
     "execution_count": 16,
     "metadata": {},
     "output_type": "execute_result"
    }
   ],
   "source": [
    "duplicated_data(test_data)"
   ]
  },
  {
   "cell_type": "markdown",
   "metadata": {},
   "source": [
    "В данных присутствуют пропуски, но их доля незначительна. Также следует изменить формат даты. И как сказано в условии задачи, некоторые параметры недоступны, потому что замеряются и/или рассчитываются значительно позже. Из-за этого в тестовой выборке отсутствуют некоторые признаки, которые могут быть в обучающей. Также в тестовом наборе нет целевых признаков. Дубликаты в данных отсутствуют"
   ]
  },
  {
   "cell_type": "markdown",
   "metadata": {},
   "source": [
    "<b>Исходные данные</b>"
   ]
  },
  {
   "cell_type": "code",
   "execution_count": 17,
   "metadata": {},
   "outputs": [
    {
     "data": {
      "text/html": [
       "<div>\n",
       "<style scoped>\n",
       "    .dataframe tbody tr th:only-of-type {\n",
       "        vertical-align: middle;\n",
       "    }\n",
       "\n",
       "    .dataframe tbody tr th {\n",
       "        vertical-align: top;\n",
       "    }\n",
       "\n",
       "    .dataframe thead th {\n",
       "        text-align: right;\n",
       "    }\n",
       "</style>\n",
       "<table border=\"1\" class=\"dataframe\">\n",
       "  <thead>\n",
       "    <tr style=\"text-align: right;\">\n",
       "      <th></th>\n",
       "      <th>date</th>\n",
       "      <th>final.output.concentrate_ag</th>\n",
       "      <th>final.output.concentrate_pb</th>\n",
       "      <th>final.output.concentrate_sol</th>\n",
       "      <th>final.output.concentrate_au</th>\n",
       "      <th>final.output.recovery</th>\n",
       "      <th>final.output.tail_ag</th>\n",
       "      <th>final.output.tail_pb</th>\n",
       "      <th>final.output.tail_sol</th>\n",
       "      <th>final.output.tail_au</th>\n",
       "      <th>primary_cleaner.input.sulfate</th>\n",
       "      <th>primary_cleaner.input.depressant</th>\n",
       "      <th>primary_cleaner.input.feed_size</th>\n",
       "      <th>primary_cleaner.input.xanthate</th>\n",
       "      <th>primary_cleaner.output.concentrate_ag</th>\n",
       "      <th>primary_cleaner.output.concentrate_pb</th>\n",
       "      <th>primary_cleaner.output.concentrate_sol</th>\n",
       "      <th>primary_cleaner.output.concentrate_au</th>\n",
       "      <th>primary_cleaner.output.tail_ag</th>\n",
       "      <th>primary_cleaner.output.tail_pb</th>\n",
       "      <th>primary_cleaner.output.tail_sol</th>\n",
       "      <th>primary_cleaner.output.tail_au</th>\n",
       "      <th>primary_cleaner.state.floatbank8_a_air</th>\n",
       "      <th>primary_cleaner.state.floatbank8_a_level</th>\n",
       "      <th>primary_cleaner.state.floatbank8_b_air</th>\n",
       "      <th>primary_cleaner.state.floatbank8_b_level</th>\n",
       "      <th>primary_cleaner.state.floatbank8_c_air</th>\n",
       "      <th>primary_cleaner.state.floatbank8_c_level</th>\n",
       "      <th>primary_cleaner.state.floatbank8_d_air</th>\n",
       "      <th>primary_cleaner.state.floatbank8_d_level</th>\n",
       "      <th>...</th>\n",
       "      <th>rougher.state.floatbank10_c_air</th>\n",
       "      <th>rougher.state.floatbank10_c_level</th>\n",
       "      <th>rougher.state.floatbank10_d_air</th>\n",
       "      <th>rougher.state.floatbank10_d_level</th>\n",
       "      <th>rougher.state.floatbank10_e_air</th>\n",
       "      <th>rougher.state.floatbank10_e_level</th>\n",
       "      <th>rougher.state.floatbank10_f_air</th>\n",
       "      <th>rougher.state.floatbank10_f_level</th>\n",
       "      <th>secondary_cleaner.output.tail_ag</th>\n",
       "      <th>secondary_cleaner.output.tail_pb</th>\n",
       "      <th>secondary_cleaner.output.tail_sol</th>\n",
       "      <th>secondary_cleaner.output.tail_au</th>\n",
       "      <th>secondary_cleaner.state.floatbank2_a_air</th>\n",
       "      <th>secondary_cleaner.state.floatbank2_a_level</th>\n",
       "      <th>secondary_cleaner.state.floatbank2_b_air</th>\n",
       "      <th>secondary_cleaner.state.floatbank2_b_level</th>\n",
       "      <th>secondary_cleaner.state.floatbank3_a_air</th>\n",
       "      <th>secondary_cleaner.state.floatbank3_a_level</th>\n",
       "      <th>secondary_cleaner.state.floatbank3_b_air</th>\n",
       "      <th>secondary_cleaner.state.floatbank3_b_level</th>\n",
       "      <th>secondary_cleaner.state.floatbank4_a_air</th>\n",
       "      <th>secondary_cleaner.state.floatbank4_a_level</th>\n",
       "      <th>secondary_cleaner.state.floatbank4_b_air</th>\n",
       "      <th>secondary_cleaner.state.floatbank4_b_level</th>\n",
       "      <th>secondary_cleaner.state.floatbank5_a_air</th>\n",
       "      <th>secondary_cleaner.state.floatbank5_a_level</th>\n",
       "      <th>secondary_cleaner.state.floatbank5_b_air</th>\n",
       "      <th>secondary_cleaner.state.floatbank5_b_level</th>\n",
       "      <th>secondary_cleaner.state.floatbank6_a_air</th>\n",
       "      <th>secondary_cleaner.state.floatbank6_a_level</th>\n",
       "    </tr>\n",
       "  </thead>\n",
       "  <tbody>\n",
       "    <tr>\n",
       "      <th>0</th>\n",
       "      <td>2016-01-15 00:00:00</td>\n",
       "      <td>6.055403</td>\n",
       "      <td>9.889648</td>\n",
       "      <td>5.507324</td>\n",
       "      <td>42.192020</td>\n",
       "      <td>70.541216</td>\n",
       "      <td>10.411962</td>\n",
       "      <td>0.895447</td>\n",
       "      <td>16.904297</td>\n",
       "      <td>2.143149</td>\n",
       "      <td>127.092003</td>\n",
       "      <td>10.128295</td>\n",
       "      <td>7.25</td>\n",
       "      <td>0.988759</td>\n",
       "      <td>8.547551</td>\n",
       "      <td>10.389648</td>\n",
       "      <td>19.529297</td>\n",
       "      <td>34.174427</td>\n",
       "      <td>14.936526</td>\n",
       "      <td>2.534912</td>\n",
       "      <td>7.476074</td>\n",
       "      <td>2.106679</td>\n",
       "      <td>1549.775757</td>\n",
       "      <td>-498.912140</td>\n",
       "      <td>1551.434204</td>\n",
       "      <td>-516.403442</td>\n",
       "      <td>1549.873901</td>\n",
       "      <td>-498.666595</td>\n",
       "      <td>1554.367432</td>\n",
       "      <td>-493.428131</td>\n",
       "      <td>...</td>\n",
       "      <td>1602.375000</td>\n",
       "      <td>-442.204468</td>\n",
       "      <td>1598.937256</td>\n",
       "      <td>-451.294128</td>\n",
       "      <td>1404.472046</td>\n",
       "      <td>-455.462982</td>\n",
       "      <td>1416.354980</td>\n",
       "      <td>-451.939636</td>\n",
       "      <td>14.500184</td>\n",
       "      <td>4.694824</td>\n",
       "      <td>8.764648</td>\n",
       "      <td>2.606185</td>\n",
       "      <td>25.853109</td>\n",
       "      <td>-498.526489</td>\n",
       "      <td>23.893660</td>\n",
       "      <td>-501.406281</td>\n",
       "      <td>23.961798</td>\n",
       "      <td>-495.262817</td>\n",
       "      <td>21.940409</td>\n",
       "      <td>-499.340973</td>\n",
       "      <td>14.016835</td>\n",
       "      <td>-502.488007</td>\n",
       "      <td>12.099931</td>\n",
       "      <td>-504.715942</td>\n",
       "      <td>9.925633</td>\n",
       "      <td>-498.310211</td>\n",
       "      <td>8.079666</td>\n",
       "      <td>-500.470978</td>\n",
       "      <td>14.151341</td>\n",
       "      <td>-605.841980</td>\n",
       "    </tr>\n",
       "    <tr>\n",
       "      <th>1</th>\n",
       "      <td>2016-01-15 01:00:00</td>\n",
       "      <td>6.029369</td>\n",
       "      <td>9.968944</td>\n",
       "      <td>5.257781</td>\n",
       "      <td>42.701629</td>\n",
       "      <td>69.266198</td>\n",
       "      <td>10.462676</td>\n",
       "      <td>0.927452</td>\n",
       "      <td>16.634514</td>\n",
       "      <td>2.224930</td>\n",
       "      <td>125.629232</td>\n",
       "      <td>10.296251</td>\n",
       "      <td>7.25</td>\n",
       "      <td>1.002663</td>\n",
       "      <td>8.558743</td>\n",
       "      <td>10.497069</td>\n",
       "      <td>19.369147</td>\n",
       "      <td>34.118526</td>\n",
       "      <td>16.250511</td>\n",
       "      <td>3.049646</td>\n",
       "      <td>6.733907</td>\n",
       "      <td>2.353017</td>\n",
       "      <td>1576.166671</td>\n",
       "      <td>-500.904965</td>\n",
       "      <td>1575.950626</td>\n",
       "      <td>-499.865889</td>\n",
       "      <td>1575.994189</td>\n",
       "      <td>-499.315107</td>\n",
       "      <td>1574.479259</td>\n",
       "      <td>-498.931665</td>\n",
       "      <td>...</td>\n",
       "      <td>1600.479580</td>\n",
       "      <td>-449.830646</td>\n",
       "      <td>1600.527589</td>\n",
       "      <td>-449.953649</td>\n",
       "      <td>1399.227084</td>\n",
       "      <td>-450.869848</td>\n",
       "      <td>1399.719514</td>\n",
       "      <td>-450.119001</td>\n",
       "      <td>14.265474</td>\n",
       "      <td>4.592547</td>\n",
       "      <td>9.001494</td>\n",
       "      <td>2.488248</td>\n",
       "      <td>25.880539</td>\n",
       "      <td>-499.989656</td>\n",
       "      <td>23.889530</td>\n",
       "      <td>-500.372428</td>\n",
       "      <td>23.970550</td>\n",
       "      <td>-500.085473</td>\n",
       "      <td>22.085714</td>\n",
       "      <td>-499.446897</td>\n",
       "      <td>13.992281</td>\n",
       "      <td>-505.503262</td>\n",
       "      <td>11.950531</td>\n",
       "      <td>-501.331529</td>\n",
       "      <td>10.039245</td>\n",
       "      <td>-500.169983</td>\n",
       "      <td>7.984757</td>\n",
       "      <td>-500.582168</td>\n",
       "      <td>13.998353</td>\n",
       "      <td>-599.787184</td>\n",
       "    </tr>\n",
       "    <tr>\n",
       "      <th>2</th>\n",
       "      <td>2016-01-15 02:00:00</td>\n",
       "      <td>6.055926</td>\n",
       "      <td>10.213995</td>\n",
       "      <td>5.383759</td>\n",
       "      <td>42.657501</td>\n",
       "      <td>68.116445</td>\n",
       "      <td>10.507046</td>\n",
       "      <td>0.953716</td>\n",
       "      <td>16.208849</td>\n",
       "      <td>2.257889</td>\n",
       "      <td>123.819808</td>\n",
       "      <td>11.316280</td>\n",
       "      <td>7.25</td>\n",
       "      <td>0.991265</td>\n",
       "      <td>8.603505</td>\n",
       "      <td>10.354494</td>\n",
       "      <td>19.167579</td>\n",
       "      <td>33.969464</td>\n",
       "      <td>16.491823</td>\n",
       "      <td>3.124664</td>\n",
       "      <td>6.471768</td>\n",
       "      <td>2.416800</td>\n",
       "      <td>1601.556163</td>\n",
       "      <td>-499.997791</td>\n",
       "      <td>1600.386685</td>\n",
       "      <td>-500.607762</td>\n",
       "      <td>1602.003542</td>\n",
       "      <td>-500.870069</td>\n",
       "      <td>1599.541515</td>\n",
       "      <td>-499.827444</td>\n",
       "      <td>...</td>\n",
       "      <td>1599.672797</td>\n",
       "      <td>-449.954491</td>\n",
       "      <td>1599.849325</td>\n",
       "      <td>-449.954185</td>\n",
       "      <td>1399.180945</td>\n",
       "      <td>-449.937588</td>\n",
       "      <td>1400.316682</td>\n",
       "      <td>-450.527147</td>\n",
       "      <td>14.115662</td>\n",
       "      <td>4.624775</td>\n",
       "      <td>8.842896</td>\n",
       "      <td>2.458187</td>\n",
       "      <td>26.005245</td>\n",
       "      <td>-499.929616</td>\n",
       "      <td>23.886657</td>\n",
       "      <td>-499.951928</td>\n",
       "      <td>23.913535</td>\n",
       "      <td>-499.442343</td>\n",
       "      <td>23.957717</td>\n",
       "      <td>-499.901982</td>\n",
       "      <td>14.015015</td>\n",
       "      <td>-502.520901</td>\n",
       "      <td>11.912783</td>\n",
       "      <td>-501.133383</td>\n",
       "      <td>10.070913</td>\n",
       "      <td>-500.129135</td>\n",
       "      <td>8.013877</td>\n",
       "      <td>-500.517572</td>\n",
       "      <td>14.028663</td>\n",
       "      <td>-601.427363</td>\n",
       "    </tr>\n",
       "    <tr>\n",
       "      <th>3</th>\n",
       "      <td>2016-01-15 03:00:00</td>\n",
       "      <td>6.047977</td>\n",
       "      <td>9.977019</td>\n",
       "      <td>4.858634</td>\n",
       "      <td>42.689819</td>\n",
       "      <td>68.347543</td>\n",
       "      <td>10.422762</td>\n",
       "      <td>0.883763</td>\n",
       "      <td>16.532835</td>\n",
       "      <td>2.146849</td>\n",
       "      <td>122.270188</td>\n",
       "      <td>11.322140</td>\n",
       "      <td>7.25</td>\n",
       "      <td>0.996739</td>\n",
       "      <td>7.221879</td>\n",
       "      <td>8.496563</td>\n",
       "      <td>15.978538</td>\n",
       "      <td>28.260743</td>\n",
       "      <td>16.024359</td>\n",
       "      <td>2.960362</td>\n",
       "      <td>6.843791</td>\n",
       "      <td>2.262051</td>\n",
       "      <td>1599.968720</td>\n",
       "      <td>-500.951778</td>\n",
       "      <td>1600.659236</td>\n",
       "      <td>-499.677094</td>\n",
       "      <td>1600.304144</td>\n",
       "      <td>-500.727997</td>\n",
       "      <td>1600.449520</td>\n",
       "      <td>-500.052575</td>\n",
       "      <td>...</td>\n",
       "      <td>1600.012842</td>\n",
       "      <td>-449.910497</td>\n",
       "      <td>1597.725177</td>\n",
       "      <td>-450.130127</td>\n",
       "      <td>1400.943157</td>\n",
       "      <td>-450.030142</td>\n",
       "      <td>1400.234743</td>\n",
       "      <td>-449.790835</td>\n",
       "      <td>13.732071</td>\n",
       "      <td>4.482453</td>\n",
       "      <td>9.122857</td>\n",
       "      <td>2.322062</td>\n",
       "      <td>25.942508</td>\n",
       "      <td>-499.176749</td>\n",
       "      <td>23.955516</td>\n",
       "      <td>-499.848796</td>\n",
       "      <td>23.966838</td>\n",
       "      <td>-500.008812</td>\n",
       "      <td>23.954443</td>\n",
       "      <td>-499.944710</td>\n",
       "      <td>14.036510</td>\n",
       "      <td>-500.857308</td>\n",
       "      <td>11.999550</td>\n",
       "      <td>-501.193686</td>\n",
       "      <td>9.970366</td>\n",
       "      <td>-499.201640</td>\n",
       "      <td>7.977324</td>\n",
       "      <td>-500.255908</td>\n",
       "      <td>14.005551</td>\n",
       "      <td>-599.996129</td>\n",
       "    </tr>\n",
       "    <tr>\n",
       "      <th>4</th>\n",
       "      <td>2016-01-15 04:00:00</td>\n",
       "      <td>6.148599</td>\n",
       "      <td>10.142511</td>\n",
       "      <td>4.939416</td>\n",
       "      <td>42.774141</td>\n",
       "      <td>66.927016</td>\n",
       "      <td>10.360302</td>\n",
       "      <td>0.792826</td>\n",
       "      <td>16.525686</td>\n",
       "      <td>2.055292</td>\n",
       "      <td>117.988169</td>\n",
       "      <td>11.913613</td>\n",
       "      <td>7.25</td>\n",
       "      <td>1.009869</td>\n",
       "      <td>9.089428</td>\n",
       "      <td>9.986786</td>\n",
       "      <td>19.199864</td>\n",
       "      <td>33.044932</td>\n",
       "      <td>16.480185</td>\n",
       "      <td>3.112100</td>\n",
       "      <td>6.550154</td>\n",
       "      <td>2.277073</td>\n",
       "      <td>1601.339707</td>\n",
       "      <td>-498.975456</td>\n",
       "      <td>1601.437854</td>\n",
       "      <td>-500.323246</td>\n",
       "      <td>1599.581894</td>\n",
       "      <td>-500.888152</td>\n",
       "      <td>1602.649541</td>\n",
       "      <td>-500.593010</td>\n",
       "      <td>...</td>\n",
       "      <td>1600.357732</td>\n",
       "      <td>-450.034364</td>\n",
       "      <td>1599.759049</td>\n",
       "      <td>-449.909799</td>\n",
       "      <td>1401.560902</td>\n",
       "      <td>-448.877187</td>\n",
       "      <td>1401.160227</td>\n",
       "      <td>-450.407128</td>\n",
       "      <td>14.079996</td>\n",
       "      <td>4.470737</td>\n",
       "      <td>8.871028</td>\n",
       "      <td>2.330448</td>\n",
       "      <td>26.024787</td>\n",
       "      <td>-500.279091</td>\n",
       "      <td>23.955345</td>\n",
       "      <td>-500.593614</td>\n",
       "      <td>23.985703</td>\n",
       "      <td>-500.083811</td>\n",
       "      <td>23.958945</td>\n",
       "      <td>-499.990309</td>\n",
       "      <td>14.027298</td>\n",
       "      <td>-499.838632</td>\n",
       "      <td>11.953070</td>\n",
       "      <td>-501.053894</td>\n",
       "      <td>9.925709</td>\n",
       "      <td>-501.686727</td>\n",
       "      <td>7.894242</td>\n",
       "      <td>-500.356035</td>\n",
       "      <td>13.996647</td>\n",
       "      <td>-601.496691</td>\n",
       "    </tr>\n",
       "  </tbody>\n",
       "</table>\n",
       "<p>5 rows × 87 columns</p>\n",
       "</div>"
      ],
      "text/plain": [
       "                  date  final.output.concentrate_ag  \\\n",
       "0  2016-01-15 00:00:00                     6.055403   \n",
       "1  2016-01-15 01:00:00                     6.029369   \n",
       "2  2016-01-15 02:00:00                     6.055926   \n",
       "3  2016-01-15 03:00:00                     6.047977   \n",
       "4  2016-01-15 04:00:00                     6.148599   \n",
       "\n",
       "   final.output.concentrate_pb  final.output.concentrate_sol  \\\n",
       "0                     9.889648                      5.507324   \n",
       "1                     9.968944                      5.257781   \n",
       "2                    10.213995                      5.383759   \n",
       "3                     9.977019                      4.858634   \n",
       "4                    10.142511                      4.939416   \n",
       "\n",
       "   final.output.concentrate_au  final.output.recovery  final.output.tail_ag  \\\n",
       "0                    42.192020              70.541216             10.411962   \n",
       "1                    42.701629              69.266198             10.462676   \n",
       "2                    42.657501              68.116445             10.507046   \n",
       "3                    42.689819              68.347543             10.422762   \n",
       "4                    42.774141              66.927016             10.360302   \n",
       "\n",
       "   final.output.tail_pb  final.output.tail_sol  final.output.tail_au  \\\n",
       "0              0.895447              16.904297              2.143149   \n",
       "1              0.927452              16.634514              2.224930   \n",
       "2              0.953716              16.208849              2.257889   \n",
       "3              0.883763              16.532835              2.146849   \n",
       "4              0.792826              16.525686              2.055292   \n",
       "\n",
       "   primary_cleaner.input.sulfate  primary_cleaner.input.depressant  \\\n",
       "0                     127.092003                         10.128295   \n",
       "1                     125.629232                         10.296251   \n",
       "2                     123.819808                         11.316280   \n",
       "3                     122.270188                         11.322140   \n",
       "4                     117.988169                         11.913613   \n",
       "\n",
       "   primary_cleaner.input.feed_size  primary_cleaner.input.xanthate  \\\n",
       "0                             7.25                        0.988759   \n",
       "1                             7.25                        1.002663   \n",
       "2                             7.25                        0.991265   \n",
       "3                             7.25                        0.996739   \n",
       "4                             7.25                        1.009869   \n",
       "\n",
       "   primary_cleaner.output.concentrate_ag  \\\n",
       "0                               8.547551   \n",
       "1                               8.558743   \n",
       "2                               8.603505   \n",
       "3                               7.221879   \n",
       "4                               9.089428   \n",
       "\n",
       "   primary_cleaner.output.concentrate_pb  \\\n",
       "0                              10.389648   \n",
       "1                              10.497069   \n",
       "2                              10.354494   \n",
       "3                               8.496563   \n",
       "4                               9.986786   \n",
       "\n",
       "   primary_cleaner.output.concentrate_sol  \\\n",
       "0                               19.529297   \n",
       "1                               19.369147   \n",
       "2                               19.167579   \n",
       "3                               15.978538   \n",
       "4                               19.199864   \n",
       "\n",
       "   primary_cleaner.output.concentrate_au  primary_cleaner.output.tail_ag  \\\n",
       "0                              34.174427                       14.936526   \n",
       "1                              34.118526                       16.250511   \n",
       "2                              33.969464                       16.491823   \n",
       "3                              28.260743                       16.024359   \n",
       "4                              33.044932                       16.480185   \n",
       "\n",
       "   primary_cleaner.output.tail_pb  primary_cleaner.output.tail_sol  \\\n",
       "0                        2.534912                         7.476074   \n",
       "1                        3.049646                         6.733907   \n",
       "2                        3.124664                         6.471768   \n",
       "3                        2.960362                         6.843791   \n",
       "4                        3.112100                         6.550154   \n",
       "\n",
       "   primary_cleaner.output.tail_au  primary_cleaner.state.floatbank8_a_air  \\\n",
       "0                        2.106679                             1549.775757   \n",
       "1                        2.353017                             1576.166671   \n",
       "2                        2.416800                             1601.556163   \n",
       "3                        2.262051                             1599.968720   \n",
       "4                        2.277073                             1601.339707   \n",
       "\n",
       "   primary_cleaner.state.floatbank8_a_level  \\\n",
       "0                               -498.912140   \n",
       "1                               -500.904965   \n",
       "2                               -499.997791   \n",
       "3                               -500.951778   \n",
       "4                               -498.975456   \n",
       "\n",
       "   primary_cleaner.state.floatbank8_b_air  \\\n",
       "0                             1551.434204   \n",
       "1                             1575.950626   \n",
       "2                             1600.386685   \n",
       "3                             1600.659236   \n",
       "4                             1601.437854   \n",
       "\n",
       "   primary_cleaner.state.floatbank8_b_level  \\\n",
       "0                               -516.403442   \n",
       "1                               -499.865889   \n",
       "2                               -500.607762   \n",
       "3                               -499.677094   \n",
       "4                               -500.323246   \n",
       "\n",
       "   primary_cleaner.state.floatbank8_c_air  \\\n",
       "0                             1549.873901   \n",
       "1                             1575.994189   \n",
       "2                             1602.003542   \n",
       "3                             1600.304144   \n",
       "4                             1599.581894   \n",
       "\n",
       "   primary_cleaner.state.floatbank8_c_level  \\\n",
       "0                               -498.666595   \n",
       "1                               -499.315107   \n",
       "2                               -500.870069   \n",
       "3                               -500.727997   \n",
       "4                               -500.888152   \n",
       "\n",
       "   primary_cleaner.state.floatbank8_d_air  \\\n",
       "0                             1554.367432   \n",
       "1                             1574.479259   \n",
       "2                             1599.541515   \n",
       "3                             1600.449520   \n",
       "4                             1602.649541   \n",
       "\n",
       "   primary_cleaner.state.floatbank8_d_level  ...  \\\n",
       "0                               -493.428131  ...   \n",
       "1                               -498.931665  ...   \n",
       "2                               -499.827444  ...   \n",
       "3                               -500.052575  ...   \n",
       "4                               -500.593010  ...   \n",
       "\n",
       "   rougher.state.floatbank10_c_air  rougher.state.floatbank10_c_level  \\\n",
       "0                      1602.375000                        -442.204468   \n",
       "1                      1600.479580                        -449.830646   \n",
       "2                      1599.672797                        -449.954491   \n",
       "3                      1600.012842                        -449.910497   \n",
       "4                      1600.357732                        -450.034364   \n",
       "\n",
       "   rougher.state.floatbank10_d_air  rougher.state.floatbank10_d_level  \\\n",
       "0                      1598.937256                        -451.294128   \n",
       "1                      1600.527589                        -449.953649   \n",
       "2                      1599.849325                        -449.954185   \n",
       "3                      1597.725177                        -450.130127   \n",
       "4                      1599.759049                        -449.909799   \n",
       "\n",
       "   rougher.state.floatbank10_e_air  rougher.state.floatbank10_e_level  \\\n",
       "0                      1404.472046                        -455.462982   \n",
       "1                      1399.227084                        -450.869848   \n",
       "2                      1399.180945                        -449.937588   \n",
       "3                      1400.943157                        -450.030142   \n",
       "4                      1401.560902                        -448.877187   \n",
       "\n",
       "   rougher.state.floatbank10_f_air  rougher.state.floatbank10_f_level  \\\n",
       "0                      1416.354980                        -451.939636   \n",
       "1                      1399.719514                        -450.119001   \n",
       "2                      1400.316682                        -450.527147   \n",
       "3                      1400.234743                        -449.790835   \n",
       "4                      1401.160227                        -450.407128   \n",
       "\n",
       "   secondary_cleaner.output.tail_ag  secondary_cleaner.output.tail_pb  \\\n",
       "0                         14.500184                          4.694824   \n",
       "1                         14.265474                          4.592547   \n",
       "2                         14.115662                          4.624775   \n",
       "3                         13.732071                          4.482453   \n",
       "4                         14.079996                          4.470737   \n",
       "\n",
       "   secondary_cleaner.output.tail_sol  secondary_cleaner.output.tail_au  \\\n",
       "0                           8.764648                          2.606185   \n",
       "1                           9.001494                          2.488248   \n",
       "2                           8.842896                          2.458187   \n",
       "3                           9.122857                          2.322062   \n",
       "4                           8.871028                          2.330448   \n",
       "\n",
       "   secondary_cleaner.state.floatbank2_a_air  \\\n",
       "0                                 25.853109   \n",
       "1                                 25.880539   \n",
       "2                                 26.005245   \n",
       "3                                 25.942508   \n",
       "4                                 26.024787   \n",
       "\n",
       "   secondary_cleaner.state.floatbank2_a_level  \\\n",
       "0                                 -498.526489   \n",
       "1                                 -499.989656   \n",
       "2                                 -499.929616   \n",
       "3                                 -499.176749   \n",
       "4                                 -500.279091   \n",
       "\n",
       "   secondary_cleaner.state.floatbank2_b_air  \\\n",
       "0                                 23.893660   \n",
       "1                                 23.889530   \n",
       "2                                 23.886657   \n",
       "3                                 23.955516   \n",
       "4                                 23.955345   \n",
       "\n",
       "   secondary_cleaner.state.floatbank2_b_level  \\\n",
       "0                                 -501.406281   \n",
       "1                                 -500.372428   \n",
       "2                                 -499.951928   \n",
       "3                                 -499.848796   \n",
       "4                                 -500.593614   \n",
       "\n",
       "   secondary_cleaner.state.floatbank3_a_air  \\\n",
       "0                                 23.961798   \n",
       "1                                 23.970550   \n",
       "2                                 23.913535   \n",
       "3                                 23.966838   \n",
       "4                                 23.985703   \n",
       "\n",
       "   secondary_cleaner.state.floatbank3_a_level  \\\n",
       "0                                 -495.262817   \n",
       "1                                 -500.085473   \n",
       "2                                 -499.442343   \n",
       "3                                 -500.008812   \n",
       "4                                 -500.083811   \n",
       "\n",
       "   secondary_cleaner.state.floatbank3_b_air  \\\n",
       "0                                 21.940409   \n",
       "1                                 22.085714   \n",
       "2                                 23.957717   \n",
       "3                                 23.954443   \n",
       "4                                 23.958945   \n",
       "\n",
       "   secondary_cleaner.state.floatbank3_b_level  \\\n",
       "0                                 -499.340973   \n",
       "1                                 -499.446897   \n",
       "2                                 -499.901982   \n",
       "3                                 -499.944710   \n",
       "4                                 -499.990309   \n",
       "\n",
       "   secondary_cleaner.state.floatbank4_a_air  \\\n",
       "0                                 14.016835   \n",
       "1                                 13.992281   \n",
       "2                                 14.015015   \n",
       "3                                 14.036510   \n",
       "4                                 14.027298   \n",
       "\n",
       "   secondary_cleaner.state.floatbank4_a_level  \\\n",
       "0                                 -502.488007   \n",
       "1                                 -505.503262   \n",
       "2                                 -502.520901   \n",
       "3                                 -500.857308   \n",
       "4                                 -499.838632   \n",
       "\n",
       "   secondary_cleaner.state.floatbank4_b_air  \\\n",
       "0                                 12.099931   \n",
       "1                                 11.950531   \n",
       "2                                 11.912783   \n",
       "3                                 11.999550   \n",
       "4                                 11.953070   \n",
       "\n",
       "   secondary_cleaner.state.floatbank4_b_level  \\\n",
       "0                                 -504.715942   \n",
       "1                                 -501.331529   \n",
       "2                                 -501.133383   \n",
       "3                                 -501.193686   \n",
       "4                                 -501.053894   \n",
       "\n",
       "   secondary_cleaner.state.floatbank5_a_air  \\\n",
       "0                                  9.925633   \n",
       "1                                 10.039245   \n",
       "2                                 10.070913   \n",
       "3                                  9.970366   \n",
       "4                                  9.925709   \n",
       "\n",
       "   secondary_cleaner.state.floatbank5_a_level  \\\n",
       "0                                 -498.310211   \n",
       "1                                 -500.169983   \n",
       "2                                 -500.129135   \n",
       "3                                 -499.201640   \n",
       "4                                 -501.686727   \n",
       "\n",
       "   secondary_cleaner.state.floatbank5_b_air  \\\n",
       "0                                  8.079666   \n",
       "1                                  7.984757   \n",
       "2                                  8.013877   \n",
       "3                                  7.977324   \n",
       "4                                  7.894242   \n",
       "\n",
       "   secondary_cleaner.state.floatbank5_b_level  \\\n",
       "0                                 -500.470978   \n",
       "1                                 -500.582168   \n",
       "2                                 -500.517572   \n",
       "3                                 -500.255908   \n",
       "4                                 -500.356035   \n",
       "\n",
       "   secondary_cleaner.state.floatbank6_a_air  \\\n",
       "0                                 14.151341   \n",
       "1                                 13.998353   \n",
       "2                                 14.028663   \n",
       "3                                 14.005551   \n",
       "4                                 13.996647   \n",
       "\n",
       "   secondary_cleaner.state.floatbank6_a_level  \n",
       "0                                 -605.841980  \n",
       "1                                 -599.787184  \n",
       "2                                 -601.427363  \n",
       "3                                 -599.996129  \n",
       "4                                 -601.496691  \n",
       "\n",
       "[5 rows x 87 columns]"
      ]
     },
     "metadata": {},
     "output_type": "display_data"
    }
   ],
   "source": [
    "data = open_file('gold_recovery_full_new.csv')\n",
    "display(data.head())\n",
    "pd.set_option('display.max_columns', 90)"
   ]
  },
  {
   "cell_type": "code",
   "execution_count": 18,
   "metadata": {},
   "outputs": [
    {
     "name": "stdout",
     "output_type": "stream",
     "text": [
      "<class 'pandas.core.frame.DataFrame'>\n",
      "RangeIndex: 19439 entries, 0 to 19438\n",
      "Data columns (total 87 columns):\n",
      " #   Column                                              Non-Null Count  Dtype  \n",
      "---  ------                                              --------------  -----  \n",
      " 0   date                                                19439 non-null  object \n",
      " 1   final.output.concentrate_ag                         19438 non-null  float64\n",
      " 2   final.output.concentrate_pb                         19438 non-null  float64\n",
      " 3   final.output.concentrate_sol                        19228 non-null  float64\n",
      " 4   final.output.concentrate_au                         19439 non-null  float64\n",
      " 5   final.output.recovery                               19439 non-null  float64\n",
      " 6   final.output.tail_ag                                19438 non-null  float64\n",
      " 7   final.output.tail_pb                                19338 non-null  float64\n",
      " 8   final.output.tail_sol                               19433 non-null  float64\n",
      " 9   final.output.tail_au                                19439 non-null  float64\n",
      " 10  primary_cleaner.input.sulfate                       19415 non-null  float64\n",
      " 11  primary_cleaner.input.depressant                    19402 non-null  float64\n",
      " 12  primary_cleaner.input.feed_size                     19439 non-null  float64\n",
      " 13  primary_cleaner.input.xanthate                      19335 non-null  float64\n",
      " 14  primary_cleaner.output.concentrate_ag               19439 non-null  float64\n",
      " 15  primary_cleaner.output.concentrate_pb               19323 non-null  float64\n",
      " 16  primary_cleaner.output.concentrate_sol              19069 non-null  float64\n",
      " 17  primary_cleaner.output.concentrate_au               19439 non-null  float64\n",
      " 18  primary_cleaner.output.tail_ag                      19435 non-null  float64\n",
      " 19  primary_cleaner.output.tail_pb                      19418 non-null  float64\n",
      " 20  primary_cleaner.output.tail_sol                     19377 non-null  float64\n",
      " 21  primary_cleaner.output.tail_au                      19439 non-null  float64\n",
      " 22  primary_cleaner.state.floatbank8_a_air              19435 non-null  float64\n",
      " 23  primary_cleaner.state.floatbank8_a_level            19438 non-null  float64\n",
      " 24  primary_cleaner.state.floatbank8_b_air              19435 non-null  float64\n",
      " 25  primary_cleaner.state.floatbank8_b_level            19438 non-null  float64\n",
      " 26  primary_cleaner.state.floatbank8_c_air              19437 non-null  float64\n",
      " 27  primary_cleaner.state.floatbank8_c_level            19438 non-null  float64\n",
      " 28  primary_cleaner.state.floatbank8_d_air              19436 non-null  float64\n",
      " 29  primary_cleaner.state.floatbank8_d_level            19438 non-null  float64\n",
      " 30  rougher.calculation.sulfate_to_au_concentrate       19437 non-null  float64\n",
      " 31  rougher.calculation.floatbank10_sulfate_to_au_feed  19437 non-null  float64\n",
      " 32  rougher.calculation.floatbank11_sulfate_to_au_feed  19437 non-null  float64\n",
      " 33  rougher.calculation.au_pb_ratio                     19439 non-null  float64\n",
      " 34  rougher.input.feed_ag                               19439 non-null  float64\n",
      " 35  rougher.input.feed_pb                               19339 non-null  float64\n",
      " 36  rougher.input.feed_rate                             19428 non-null  float64\n",
      " 37  rougher.input.feed_size                             19294 non-null  float64\n",
      " 38  rougher.input.feed_sol                              19340 non-null  float64\n",
      " 39  rougher.input.feed_au                               19439 non-null  float64\n",
      " 40  rougher.input.floatbank10_sulfate                   19405 non-null  float64\n",
      " 41  rougher.input.floatbank10_xanthate                  19431 non-null  float64\n",
      " 42  rougher.input.floatbank11_sulfate                   19395 non-null  float64\n",
      " 43  rougher.input.floatbank11_xanthate                  18986 non-null  float64\n",
      " 44  rougher.output.concentrate_ag                       19439 non-null  float64\n",
      " 45  rougher.output.concentrate_pb                       19439 non-null  float64\n",
      " 46  rougher.output.concentrate_sol                      19416 non-null  float64\n",
      " 47  rougher.output.concentrate_au                       19439 non-null  float64\n",
      " 48  rougher.output.recovery                             19439 non-null  float64\n",
      " 49  rougher.output.tail_ag                              19438 non-null  float64\n",
      " 50  rougher.output.tail_pb                              19439 non-null  float64\n",
      " 51  rougher.output.tail_sol                             19439 non-null  float64\n",
      " 52  rougher.output.tail_au                              19439 non-null  float64\n",
      " 53  rougher.state.floatbank10_a_air                     19438 non-null  float64\n",
      " 54  rougher.state.floatbank10_a_level                   19438 non-null  float64\n",
      " 55  rougher.state.floatbank10_b_air                     19438 non-null  float64\n",
      " 56  rougher.state.floatbank10_b_level                   19438 non-null  float64\n",
      " 57  rougher.state.floatbank10_c_air                     19438 non-null  float64\n",
      " 58  rougher.state.floatbank10_c_level                   19438 non-null  float64\n",
      " 59  rougher.state.floatbank10_d_air                     19439 non-null  float64\n",
      " 60  rougher.state.floatbank10_d_level                   19439 non-null  float64\n",
      " 61  rougher.state.floatbank10_e_air                     19003 non-null  float64\n",
      " 62  rougher.state.floatbank10_e_level                   19439 non-null  float64\n",
      " 63  rougher.state.floatbank10_f_air                     19439 non-null  float64\n",
      " 64  rougher.state.floatbank10_f_level                   19439 non-null  float64\n",
      " 65  secondary_cleaner.output.tail_ag                    19437 non-null  float64\n",
      " 66  secondary_cleaner.output.tail_pb                    19427 non-null  float64\n",
      " 67  secondary_cleaner.output.tail_sol                   17691 non-null  float64\n",
      " 68  secondary_cleaner.output.tail_au                    19439 non-null  float64\n",
      " 69  secondary_cleaner.state.floatbank2_a_air            19219 non-null  float64\n",
      " 70  secondary_cleaner.state.floatbank2_a_level          19438 non-null  float64\n",
      " 71  secondary_cleaner.state.floatbank2_b_air            19416 non-null  float64\n",
      " 72  secondary_cleaner.state.floatbank2_b_level          19438 non-null  float64\n",
      " 73  secondary_cleaner.state.floatbank3_a_air            19426 non-null  float64\n",
      " 74  secondary_cleaner.state.floatbank3_a_level          19438 non-null  float64\n",
      " 75  secondary_cleaner.state.floatbank3_b_air            19438 non-null  float64\n",
      " 76  secondary_cleaner.state.floatbank3_b_level          19438 non-null  float64\n",
      " 77  secondary_cleaner.state.floatbank4_a_air            19433 non-null  float64\n",
      " 78  secondary_cleaner.state.floatbank4_a_level          19438 non-null  float64\n",
      " 79  secondary_cleaner.state.floatbank4_b_air            19438 non-null  float64\n",
      " 80  secondary_cleaner.state.floatbank4_b_level          19438 non-null  float64\n",
      " 81  secondary_cleaner.state.floatbank5_a_air            19438 non-null  float64\n",
      " 82  secondary_cleaner.state.floatbank5_a_level          19438 non-null  float64\n",
      " 83  secondary_cleaner.state.floatbank5_b_air            19438 non-null  float64\n",
      " 84  secondary_cleaner.state.floatbank5_b_level          19438 non-null  float64\n",
      " 85  secondary_cleaner.state.floatbank6_a_air            19437 non-null  float64\n",
      " 86  secondary_cleaner.state.floatbank6_a_level          19438 non-null  float64\n",
      "dtypes: float64(86), object(1)\n",
      "memory usage: 12.9+ MB\n"
     ]
    }
   ],
   "source": [
    "data_info(data)"
   ]
  },
  {
   "cell_type": "code",
   "execution_count": 19,
   "metadata": {},
   "outputs": [
    {
     "data": {
      "text/html": [
       "<div>\n",
       "<style scoped>\n",
       "    .dataframe tbody tr th:only-of-type {\n",
       "        vertical-align: middle;\n",
       "    }\n",
       "\n",
       "    .dataframe tbody tr th {\n",
       "        vertical-align: top;\n",
       "    }\n",
       "\n",
       "    .dataframe thead th {\n",
       "        text-align: right;\n",
       "    }\n",
       "</style>\n",
       "<table border=\"1\" class=\"dataframe\">\n",
       "  <thead>\n",
       "    <tr style=\"text-align: right;\">\n",
       "      <th></th>\n",
       "      <th>final.output.concentrate_ag</th>\n",
       "      <th>final.output.concentrate_pb</th>\n",
       "      <th>final.output.concentrate_sol</th>\n",
       "      <th>final.output.concentrate_au</th>\n",
       "      <th>final.output.recovery</th>\n",
       "      <th>final.output.tail_ag</th>\n",
       "      <th>final.output.tail_pb</th>\n",
       "      <th>final.output.tail_sol</th>\n",
       "      <th>final.output.tail_au</th>\n",
       "      <th>primary_cleaner.input.sulfate</th>\n",
       "      <th>primary_cleaner.input.depressant</th>\n",
       "      <th>primary_cleaner.input.feed_size</th>\n",
       "      <th>primary_cleaner.input.xanthate</th>\n",
       "      <th>primary_cleaner.output.concentrate_ag</th>\n",
       "      <th>primary_cleaner.output.concentrate_pb</th>\n",
       "      <th>primary_cleaner.output.concentrate_sol</th>\n",
       "      <th>primary_cleaner.output.concentrate_au</th>\n",
       "      <th>primary_cleaner.output.tail_ag</th>\n",
       "      <th>primary_cleaner.output.tail_pb</th>\n",
       "      <th>primary_cleaner.output.tail_sol</th>\n",
       "      <th>primary_cleaner.output.tail_au</th>\n",
       "      <th>primary_cleaner.state.floatbank8_a_air</th>\n",
       "      <th>primary_cleaner.state.floatbank8_a_level</th>\n",
       "      <th>primary_cleaner.state.floatbank8_b_air</th>\n",
       "      <th>primary_cleaner.state.floatbank8_b_level</th>\n",
       "      <th>primary_cleaner.state.floatbank8_c_air</th>\n",
       "      <th>primary_cleaner.state.floatbank8_c_level</th>\n",
       "      <th>primary_cleaner.state.floatbank8_d_air</th>\n",
       "      <th>primary_cleaner.state.floatbank8_d_level</th>\n",
       "      <th>rougher.calculation.sulfate_to_au_concentrate</th>\n",
       "      <th>rougher.calculation.floatbank10_sulfate_to_au_feed</th>\n",
       "      <th>rougher.calculation.floatbank11_sulfate_to_au_feed</th>\n",
       "      <th>rougher.calculation.au_pb_ratio</th>\n",
       "      <th>rougher.input.feed_ag</th>\n",
       "      <th>rougher.input.feed_pb</th>\n",
       "      <th>rougher.input.feed_rate</th>\n",
       "      <th>rougher.input.feed_size</th>\n",
       "      <th>rougher.input.feed_sol</th>\n",
       "      <th>rougher.input.feed_au</th>\n",
       "      <th>rougher.input.floatbank10_sulfate</th>\n",
       "      <th>rougher.input.floatbank10_xanthate</th>\n",
       "      <th>rougher.input.floatbank11_sulfate</th>\n",
       "      <th>rougher.input.floatbank11_xanthate</th>\n",
       "      <th>rougher.output.concentrate_ag</th>\n",
       "      <th>rougher.output.concentrate_pb</th>\n",
       "      <th>rougher.output.concentrate_sol</th>\n",
       "      <th>rougher.output.concentrate_au</th>\n",
       "      <th>rougher.output.recovery</th>\n",
       "      <th>rougher.output.tail_ag</th>\n",
       "      <th>rougher.output.tail_pb</th>\n",
       "      <th>rougher.output.tail_sol</th>\n",
       "      <th>rougher.output.tail_au</th>\n",
       "      <th>rougher.state.floatbank10_a_air</th>\n",
       "      <th>rougher.state.floatbank10_a_level</th>\n",
       "      <th>rougher.state.floatbank10_b_air</th>\n",
       "      <th>rougher.state.floatbank10_b_level</th>\n",
       "      <th>rougher.state.floatbank10_c_air</th>\n",
       "      <th>rougher.state.floatbank10_c_level</th>\n",
       "      <th>rougher.state.floatbank10_d_air</th>\n",
       "      <th>rougher.state.floatbank10_d_level</th>\n",
       "      <th>rougher.state.floatbank10_e_air</th>\n",
       "      <th>rougher.state.floatbank10_e_level</th>\n",
       "      <th>rougher.state.floatbank10_f_air</th>\n",
       "      <th>rougher.state.floatbank10_f_level</th>\n",
       "      <th>secondary_cleaner.output.tail_ag</th>\n",
       "      <th>secondary_cleaner.output.tail_pb</th>\n",
       "      <th>secondary_cleaner.output.tail_sol</th>\n",
       "      <th>secondary_cleaner.output.tail_au</th>\n",
       "      <th>secondary_cleaner.state.floatbank2_a_air</th>\n",
       "      <th>secondary_cleaner.state.floatbank2_a_level</th>\n",
       "      <th>secondary_cleaner.state.floatbank2_b_air</th>\n",
       "      <th>secondary_cleaner.state.floatbank2_b_level</th>\n",
       "      <th>secondary_cleaner.state.floatbank3_a_air</th>\n",
       "      <th>secondary_cleaner.state.floatbank3_a_level</th>\n",
       "      <th>secondary_cleaner.state.floatbank3_b_air</th>\n",
       "      <th>secondary_cleaner.state.floatbank3_b_level</th>\n",
       "      <th>secondary_cleaner.state.floatbank4_a_air</th>\n",
       "      <th>secondary_cleaner.state.floatbank4_a_level</th>\n",
       "      <th>secondary_cleaner.state.floatbank4_b_air</th>\n",
       "      <th>secondary_cleaner.state.floatbank4_b_level</th>\n",
       "      <th>secondary_cleaner.state.floatbank5_a_air</th>\n",
       "      <th>secondary_cleaner.state.floatbank5_a_level</th>\n",
       "      <th>secondary_cleaner.state.floatbank5_b_air</th>\n",
       "      <th>secondary_cleaner.state.floatbank5_b_level</th>\n",
       "      <th>secondary_cleaner.state.floatbank6_a_air</th>\n",
       "      <th>secondary_cleaner.state.floatbank6_a_level</th>\n",
       "    </tr>\n",
       "  </thead>\n",
       "  <tbody>\n",
       "    <tr>\n",
       "      <th>count</th>\n",
       "      <td>19438.000000</td>\n",
       "      <td>19438.000000</td>\n",
       "      <td>19228.000000</td>\n",
       "      <td>19439.000000</td>\n",
       "      <td>19439.000000</td>\n",
       "      <td>19438.000000</td>\n",
       "      <td>19338.000000</td>\n",
       "      <td>19433.000000</td>\n",
       "      <td>19439.000000</td>\n",
       "      <td>19415.000000</td>\n",
       "      <td>19402.000000</td>\n",
       "      <td>19439.000000</td>\n",
       "      <td>19335.000000</td>\n",
       "      <td>19439.000000</td>\n",
       "      <td>19323.000000</td>\n",
       "      <td>19069.000000</td>\n",
       "      <td>19439.000000</td>\n",
       "      <td>19435.000000</td>\n",
       "      <td>19418.000000</td>\n",
       "      <td>19377.000000</td>\n",
       "      <td>19439.000000</td>\n",
       "      <td>1.943500e+04</td>\n",
       "      <td>19438.000000</td>\n",
       "      <td>1.943500e+04</td>\n",
       "      <td>19438.000000</td>\n",
       "      <td>1.943700e+04</td>\n",
       "      <td>19438.000000</td>\n",
       "      <td>1.943600e+04</td>\n",
       "      <td>19438.000000</td>\n",
       "      <td>1.943700e+04</td>\n",
       "      <td>19437.000000</td>\n",
       "      <td>19437.000000</td>\n",
       "      <td>19439.000000</td>\n",
       "      <td>19439.000000</td>\n",
       "      <td>19339.000000</td>\n",
       "      <td>19428.000000</td>\n",
       "      <td>19294.000000</td>\n",
       "      <td>19340.000000</td>\n",
       "      <td>19439.000000</td>\n",
       "      <td>19405.000000</td>\n",
       "      <td>19431.000000</td>\n",
       "      <td>19395.000000</td>\n",
       "      <td>18986.000000</td>\n",
       "      <td>19439.000000</td>\n",
       "      <td>19439.000000</td>\n",
       "      <td>19416.000000</td>\n",
       "      <td>19439.000000</td>\n",
       "      <td>19439.000000</td>\n",
       "      <td>19438.000000</td>\n",
       "      <td>19439.000000</td>\n",
       "      <td>19439.000000</td>\n",
       "      <td>19439.000000</td>\n",
       "      <td>19438.000000</td>\n",
       "      <td>19438.000000</td>\n",
       "      <td>19438.000000</td>\n",
       "      <td>19438.000000</td>\n",
       "      <td>19438.000000</td>\n",
       "      <td>19438.000000</td>\n",
       "      <td>19439.000000</td>\n",
       "      <td>19439.000000</td>\n",
       "      <td>19003.000000</td>\n",
       "      <td>19439.000000</td>\n",
       "      <td>19439.000000</td>\n",
       "      <td>19439.000000</td>\n",
       "      <td>19437.000000</td>\n",
       "      <td>19427.000000</td>\n",
       "      <td>17691.000000</td>\n",
       "      <td>19439.000000</td>\n",
       "      <td>19219.000000</td>\n",
       "      <td>19438.000000</td>\n",
       "      <td>19416.000000</td>\n",
       "      <td>19438.000000</td>\n",
       "      <td>19426.000000</td>\n",
       "      <td>19438.000000</td>\n",
       "      <td>19438.000000</td>\n",
       "      <td>19438.000000</td>\n",
       "      <td>19433.000000</td>\n",
       "      <td>19438.000000</td>\n",
       "      <td>19438.000000</td>\n",
       "      <td>19438.000000</td>\n",
       "      <td>19438.000000</td>\n",
       "      <td>19438.000000</td>\n",
       "      <td>19438.000000</td>\n",
       "      <td>19438.000000</td>\n",
       "      <td>19437.000000</td>\n",
       "      <td>19438.000000</td>\n",
       "    </tr>\n",
       "    <tr>\n",
       "      <th>mean</th>\n",
       "      <td>5.168470</td>\n",
       "      <td>9.978895</td>\n",
       "      <td>9.501224</td>\n",
       "      <td>44.076513</td>\n",
       "      <td>67.050208</td>\n",
       "      <td>9.688589</td>\n",
       "      <td>2.705795</td>\n",
       "      <td>10.583728</td>\n",
       "      <td>3.042467</td>\n",
       "      <td>144.624774</td>\n",
       "      <td>8.817039</td>\n",
       "      <td>7.307078</td>\n",
       "      <td>1.021795</td>\n",
       "      <td>8.442408</td>\n",
       "      <td>9.829530</td>\n",
       "      <td>10.489499</td>\n",
       "      <td>32.119400</td>\n",
       "      <td>16.145826</td>\n",
       "      <td>3.435656</td>\n",
       "      <td>7.973209</td>\n",
       "      <td>3.914179</td>\n",
       "      <td>1.589354e+03</td>\n",
       "      <td>-491.195012</td>\n",
       "      <td>1.591344e+03</td>\n",
       "      <td>-492.192978</td>\n",
       "      <td>1.586669e+03</td>\n",
       "      <td>-491.980070</td>\n",
       "      <td>1.542912e+03</td>\n",
       "      <td>-488.017382</td>\n",
       "      <td>4.217119e+04</td>\n",
       "      <td>3393.052498</td>\n",
       "      <td>3256.854171</td>\n",
       "      <td>2.420119</td>\n",
       "      <td>8.794927</td>\n",
       "      <td>3.598085</td>\n",
       "      <td>478.320042</td>\n",
       "      <td>58.970310</td>\n",
       "      <td>36.695114</td>\n",
       "      <td>8.266097</td>\n",
       "      <td>12.334373</td>\n",
       "      <td>6.021474</td>\n",
       "      <td>12.064140</td>\n",
       "      <td>6.065533</td>\n",
       "      <td>11.994759</td>\n",
       "      <td>7.606272</td>\n",
       "      <td>28.805571</td>\n",
       "      <td>19.772000</td>\n",
       "      <td>83.328587</td>\n",
       "      <td>5.588982</td>\n",
       "      <td>0.645782</td>\n",
       "      <td>18.057106</td>\n",
       "      <td>1.816391</td>\n",
       "      <td>1105.315068</td>\n",
       "      <td>-376.610690</td>\n",
       "      <td>1320.221139</td>\n",
       "      <td>-467.247826</td>\n",
       "      <td>1299.968799</td>\n",
       "      <td>-467.716946</td>\n",
       "      <td>1211.563299</td>\n",
       "      <td>-468.239912</td>\n",
       "      <td>1080.869685</td>\n",
       "      <td>-466.037742</td>\n",
       "      <td>1025.274256</td>\n",
       "      <td>-466.265327</td>\n",
       "      <td>14.586833</td>\n",
       "      <td>5.777703</td>\n",
       "      <td>7.167247</td>\n",
       "      <td>4.339625</td>\n",
       "      <td>28.705564</td>\n",
       "      <td>-502.367331</td>\n",
       "      <td>24.106800</td>\n",
       "      <td>-503.230712</td>\n",
       "      <td>28.199338</td>\n",
       "      <td>-486.203350</td>\n",
       "      <td>22.200645</td>\n",
       "      <td>-493.742107</td>\n",
       "      <td>18.987674</td>\n",
       "      <td>-485.894516</td>\n",
       "      <td>15.010366</td>\n",
       "      <td>-461.078636</td>\n",
       "      <td>15.694452</td>\n",
       "      <td>-488.684065</td>\n",
       "      <td>12.198224</td>\n",
       "      <td>-487.149827</td>\n",
       "      <td>18.959024</td>\n",
       "      <td>-505.436305</td>\n",
       "    </tr>\n",
       "    <tr>\n",
       "      <th>std</th>\n",
       "      <td>1.372348</td>\n",
       "      <td>1.669240</td>\n",
       "      <td>2.787537</td>\n",
       "      <td>5.129784</td>\n",
       "      <td>10.125840</td>\n",
       "      <td>2.328642</td>\n",
       "      <td>0.949077</td>\n",
       "      <td>2.868782</td>\n",
       "      <td>0.922808</td>\n",
       "      <td>44.464071</td>\n",
       "      <td>3.286186</td>\n",
       "      <td>0.613509</td>\n",
       "      <td>0.513254</td>\n",
       "      <td>2.054465</td>\n",
       "      <td>2.556843</td>\n",
       "      <td>3.909639</td>\n",
       "      <td>5.627611</td>\n",
       "      <td>3.548598</td>\n",
       "      <td>1.392536</td>\n",
       "      <td>2.212677</td>\n",
       "      <td>1.593034</td>\n",
       "      <td>1.289968e+02</td>\n",
       "      <td>32.431842</td>\n",
       "      <td>1.318109e+02</td>\n",
       "      <td>33.794822</td>\n",
       "      <td>1.361114e+02</td>\n",
       "      <td>32.711455</td>\n",
       "      <td>2.461996e+02</td>\n",
       "      <td>43.959780</td>\n",
       "      <td>3.243621e+05</td>\n",
       "      <td>4943.845943</td>\n",
       "      <td>5781.423659</td>\n",
       "      <td>0.814935</td>\n",
       "      <td>1.936847</td>\n",
       "      <td>1.049486</td>\n",
       "      <td>105.373758</td>\n",
       "      <td>21.634478</td>\n",
       "      <td>5.145445</td>\n",
       "      <td>1.955092</td>\n",
       "      <td>3.427317</td>\n",
       "      <td>1.127263</td>\n",
       "      <td>3.784221</td>\n",
       "      <td>1.099118</td>\n",
       "      <td>2.733862</td>\n",
       "      <td>1.796757</td>\n",
       "      <td>5.944207</td>\n",
       "      <td>3.753600</td>\n",
       "      <td>14.148086</td>\n",
       "      <td>1.111288</td>\n",
       "      <td>0.251526</td>\n",
       "      <td>3.449218</td>\n",
       "      <td>0.680046</td>\n",
       "      <td>160.826798</td>\n",
       "      <td>93.909667</td>\n",
       "      <td>176.287095</td>\n",
       "      <td>54.673142</td>\n",
       "      <td>202.804325</td>\n",
       "      <td>53.534825</td>\n",
       "      <td>204.019326</td>\n",
       "      <td>53.921458</td>\n",
       "      <td>172.149992</td>\n",
       "      <td>57.384424</td>\n",
       "      <td>164.487837</td>\n",
       "      <td>57.850263</td>\n",
       "      <td>4.265202</td>\n",
       "      <td>2.774598</td>\n",
       "      <td>3.916079</td>\n",
       "      <td>2.326751</td>\n",
       "      <td>5.458789</td>\n",
       "      <td>53.571950</td>\n",
       "      <td>5.749616</td>\n",
       "      <td>56.567724</td>\n",
       "      <td>6.134908</td>\n",
       "      <td>54.412349</td>\n",
       "      <td>5.574001</td>\n",
       "      <td>43.372158</td>\n",
       "      <td>5.411058</td>\n",
       "      <td>47.758570</td>\n",
       "      <td>4.890228</td>\n",
       "      <td>67.405524</td>\n",
       "      <td>5.510974</td>\n",
       "      <td>34.533396</td>\n",
       "      <td>5.333024</td>\n",
       "      <td>38.347312</td>\n",
       "      <td>5.550498</td>\n",
       "      <td>37.689057</td>\n",
       "    </tr>\n",
       "    <tr>\n",
       "      <th>min</th>\n",
       "      <td>0.000000</td>\n",
       "      <td>0.000000</td>\n",
       "      <td>0.000000</td>\n",
       "      <td>0.000000</td>\n",
       "      <td>0.000000</td>\n",
       "      <td>0.000000</td>\n",
       "      <td>0.000000</td>\n",
       "      <td>0.000000</td>\n",
       "      <td>0.000000</td>\n",
       "      <td>0.003112</td>\n",
       "      <td>0.000000</td>\n",
       "      <td>1.080000</td>\n",
       "      <td>0.000005</td>\n",
       "      <td>0.000000</td>\n",
       "      <td>0.000000</td>\n",
       "      <td>0.000000</td>\n",
       "      <td>0.000000</td>\n",
       "      <td>0.000000</td>\n",
       "      <td>0.000000</td>\n",
       "      <td>0.000000</td>\n",
       "      <td>0.000000</td>\n",
       "      <td>5.445860e-32</td>\n",
       "      <td>-798.641662</td>\n",
       "      <td>6.647490e-32</td>\n",
       "      <td>-799.997015</td>\n",
       "      <td>4.033736e-32</td>\n",
       "      <td>-799.960571</td>\n",
       "      <td>4.039220e-32</td>\n",
       "      <td>-799.794250</td>\n",
       "      <td>-4.223520e+07</td>\n",
       "      <td>-486.598675</td>\n",
       "      <td>-264.982785</td>\n",
       "      <td>-0.010548</td>\n",
       "      <td>0.010000</td>\n",
       "      <td>0.010000</td>\n",
       "      <td>0.002986</td>\n",
       "      <td>0.046369</td>\n",
       "      <td>0.010000</td>\n",
       "      <td>0.010000</td>\n",
       "      <td>0.001083</td>\n",
       "      <td>0.000568</td>\n",
       "      <td>0.000077</td>\n",
       "      <td>0.000290</td>\n",
       "      <td>0.000000</td>\n",
       "      <td>0.000000</td>\n",
       "      <td>0.000000</td>\n",
       "      <td>0.000000</td>\n",
       "      <td>0.000000</td>\n",
       "      <td>0.594562</td>\n",
       "      <td>0.007566</td>\n",
       "      <td>10.014648</td>\n",
       "      <td>0.020676</td>\n",
       "      <td>-0.042069</td>\n",
       "      <td>-657.949759</td>\n",
       "      <td>-0.721806</td>\n",
       "      <td>-650.260008</td>\n",
       "      <td>-0.056636</td>\n",
       "      <td>-647.544439</td>\n",
       "      <td>-0.992219</td>\n",
       "      <td>-648.390665</td>\n",
       "      <td>-1.982295</td>\n",
       "      <td>-649.443911</td>\n",
       "      <td>-2.593390</td>\n",
       "      <td>-649.949283</td>\n",
       "      <td>0.000000</td>\n",
       "      <td>0.000000</td>\n",
       "      <td>0.000000</td>\n",
       "      <td>0.000000</td>\n",
       "      <td>0.077503</td>\n",
       "      <td>-799.606441</td>\n",
       "      <td>0.000000</td>\n",
       "      <td>-799.873878</td>\n",
       "      <td>0.000000</td>\n",
       "      <td>-799.755798</td>\n",
       "      <td>0.000000</td>\n",
       "      <td>-809.333008</td>\n",
       "      <td>0.000000</td>\n",
       "      <td>-799.798523</td>\n",
       "      <td>0.000000</td>\n",
       "      <td>-800.836914</td>\n",
       "      <td>-0.372054</td>\n",
       "      <td>-797.323986</td>\n",
       "      <td>0.528083</td>\n",
       "      <td>-800.220337</td>\n",
       "      <td>-0.079426</td>\n",
       "      <td>-809.741464</td>\n",
       "    </tr>\n",
       "    <tr>\n",
       "      <th>25%</th>\n",
       "      <td>4.251240</td>\n",
       "      <td>9.137262</td>\n",
       "      <td>7.722820</td>\n",
       "      <td>43.402215</td>\n",
       "      <td>63.299712</td>\n",
       "      <td>8.062878</td>\n",
       "      <td>2.040119</td>\n",
       "      <td>8.938947</td>\n",
       "      <td>2.461138</td>\n",
       "      <td>114.107029</td>\n",
       "      <td>6.076909</td>\n",
       "      <td>6.940000</td>\n",
       "      <td>0.697224</td>\n",
       "      <td>7.263288</td>\n",
       "      <td>8.702328</td>\n",
       "      <td>7.893893</td>\n",
       "      <td>30.463140</td>\n",
       "      <td>14.017742</td>\n",
       "      <td>2.504365</td>\n",
       "      <td>6.747483</td>\n",
       "      <td>2.924844</td>\n",
       "      <td>1.505063e+03</td>\n",
       "      <td>-500.308544</td>\n",
       "      <td>1.503630e+03</td>\n",
       "      <td>-500.437171</td>\n",
       "      <td>1.500927e+03</td>\n",
       "      <td>-500.703932</td>\n",
       "      <td>1.494219e+03</td>\n",
       "      <td>-500.458365</td>\n",
       "      <td>4.070095e+04</td>\n",
       "      <td>2611.425833</td>\n",
       "      <td>2551.437587</td>\n",
       "      <td>2.035434</td>\n",
       "      <td>7.237967</td>\n",
       "      <td>2.887280</td>\n",
       "      <td>416.525453</td>\n",
       "      <td>47.435103</td>\n",
       "      <td>34.207799</td>\n",
       "      <td>6.854384</td>\n",
       "      <td>10.000362</td>\n",
       "      <td>5.398678</td>\n",
       "      <td>9.998460</td>\n",
       "      <td>5.402368</td>\n",
       "      <td>10.628337</td>\n",
       "      <td>6.725987</td>\n",
       "      <td>27.224120</td>\n",
       "      <td>18.802523</td>\n",
       "      <td>81.037957</td>\n",
       "      <td>4.889892</td>\n",
       "      <td>0.477728</td>\n",
       "      <td>15.822525</td>\n",
       "      <td>1.404207</td>\n",
       "      <td>999.661867</td>\n",
       "      <td>-499.835165</td>\n",
       "      <td>1199.626115</td>\n",
       "      <td>-500.201130</td>\n",
       "      <td>1151.076301</td>\n",
       "      <td>-500.217218</td>\n",
       "      <td>1061.051788</td>\n",
       "      <td>-500.386386</td>\n",
       "      <td>998.675263</td>\n",
       "      <td>-500.232191</td>\n",
       "      <td>900.995511</td>\n",
       "      <td>-500.522553</td>\n",
       "      <td>12.640239</td>\n",
       "      <td>3.864733</td>\n",
       "      <td>3.845475</td>\n",
       "      <td>3.182770</td>\n",
       "      <td>25.048462</td>\n",
       "      <td>-500.233700</td>\n",
       "      <td>20.919853</td>\n",
       "      <td>-500.253794</td>\n",
       "      <td>24.949227</td>\n",
       "      <td>-500.213546</td>\n",
       "      <td>18.995924</td>\n",
       "      <td>-500.123034</td>\n",
       "      <td>14.975734</td>\n",
       "      <td>-500.704892</td>\n",
       "      <td>11.940294</td>\n",
       "      <td>-500.187742</td>\n",
       "      <td>10.988606</td>\n",
       "      <td>-500.458467</td>\n",
       "      <td>8.971105</td>\n",
       "      <td>-500.129462</td>\n",
       "      <td>14.983037</td>\n",
       "      <td>-500.728067</td>\n",
       "    </tr>\n",
       "    <tr>\n",
       "      <th>50%</th>\n",
       "      <td>5.066094</td>\n",
       "      <td>10.102433</td>\n",
       "      <td>9.218961</td>\n",
       "      <td>45.011244</td>\n",
       "      <td>68.172738</td>\n",
       "      <td>9.743623</td>\n",
       "      <td>2.748730</td>\n",
       "      <td>10.622456</td>\n",
       "      <td>2.984909</td>\n",
       "      <td>143.232103</td>\n",
       "      <td>8.038311</td>\n",
       "      <td>7.280000</td>\n",
       "      <td>0.940863</td>\n",
       "      <td>8.507298</td>\n",
       "      <td>10.152433</td>\n",
       "      <td>10.314632</td>\n",
       "      <td>32.841295</td>\n",
       "      <td>15.842836</td>\n",
       "      <td>3.271153</td>\n",
       "      <td>8.183673</td>\n",
       "      <td>3.623234</td>\n",
       "      <td>1.600597e+03</td>\n",
       "      <td>-499.926134</td>\n",
       "      <td>1.600521e+03</td>\n",
       "      <td>-499.956767</td>\n",
       "      <td>1.600254e+03</td>\n",
       "      <td>-499.909524</td>\n",
       "      <td>1.599447e+03</td>\n",
       "      <td>-499.905974</td>\n",
       "      <td>4.469648e+04</td>\n",
       "      <td>3018.353876</td>\n",
       "      <td>2997.218088</td>\n",
       "      <td>2.309665</td>\n",
       "      <td>8.593574</td>\n",
       "      <td>3.534895</td>\n",
       "      <td>499.416120</td>\n",
       "      <td>54.610197</td>\n",
       "      <td>37.202650</td>\n",
       "      <td>8.125839</td>\n",
       "      <td>12.001174</td>\n",
       "      <td>6.008273</td>\n",
       "      <td>12.000204</td>\n",
       "      <td>6.098580</td>\n",
       "      <td>12.098115</td>\n",
       "      <td>7.742580</td>\n",
       "      <td>29.835345</td>\n",
       "      <td>20.280214</td>\n",
       "      <td>86.188892</td>\n",
       "      <td>5.765802</td>\n",
       "      <td>0.617465</td>\n",
       "      <td>18.106867</td>\n",
       "      <td>1.808170</td>\n",
       "      <td>1001.072890</td>\n",
       "      <td>-300.263994</td>\n",
       "      <td>1301.579988</td>\n",
       "      <td>-499.784045</td>\n",
       "      <td>1300.211537</td>\n",
       "      <td>-499.713364</td>\n",
       "      <td>1201.569141</td>\n",
       "      <td>-499.532412</td>\n",
       "      <td>1050.029461</td>\n",
       "      <td>-499.663089</td>\n",
       "      <td>999.924821</td>\n",
       "      <td>-499.471777</td>\n",
       "      <td>15.641902</td>\n",
       "      <td>5.344073</td>\n",
       "      <td>7.685827</td>\n",
       "      <td>4.072412</td>\n",
       "      <td>29.099943</td>\n",
       "      <td>-499.973250</td>\n",
       "      <td>25.043289</td>\n",
       "      <td>-500.015439</td>\n",
       "      <td>27.982129</td>\n",
       "      <td>-499.930680</td>\n",
       "      <td>22.011231</td>\n",
       "      <td>-499.981902</td>\n",
       "      <td>18.017481</td>\n",
       "      <td>-499.837793</td>\n",
       "      <td>14.971014</td>\n",
       "      <td>-499.459786</td>\n",
       "      <td>15.000036</td>\n",
       "      <td>-499.802605</td>\n",
       "      <td>11.019433</td>\n",
       "      <td>-499.935317</td>\n",
       "      <td>19.960541</td>\n",
       "      <td>-500.048400</td>\n",
       "    </tr>\n",
       "    <tr>\n",
       "      <th>75%</th>\n",
       "      <td>5.895527</td>\n",
       "      <td>11.035769</td>\n",
       "      <td>10.947813</td>\n",
       "      <td>46.275313</td>\n",
       "      <td>72.686642</td>\n",
       "      <td>11.134294</td>\n",
       "      <td>3.333216</td>\n",
       "      <td>12.104271</td>\n",
       "      <td>3.571351</td>\n",
       "      <td>175.075656</td>\n",
       "      <td>11.013521</td>\n",
       "      <td>7.670000</td>\n",
       "      <td>1.210990</td>\n",
       "      <td>9.809001</td>\n",
       "      <td>11.424971</td>\n",
       "      <td>13.446702</td>\n",
       "      <td>35.048006</td>\n",
       "      <td>18.013975</td>\n",
       "      <td>4.181748</td>\n",
       "      <td>9.548586</td>\n",
       "      <td>4.585705</td>\n",
       "      <td>1.697658e+03</td>\n",
       "      <td>-499.433950</td>\n",
       "      <td>1.699218e+03</td>\n",
       "      <td>-499.373336</td>\n",
       "      <td>1.699483e+03</td>\n",
       "      <td>-498.857643</td>\n",
       "      <td>1.698525e+03</td>\n",
       "      <td>-499.064695</td>\n",
       "      <td>4.816821e+04</td>\n",
       "      <td>3676.769750</td>\n",
       "      <td>3601.998911</td>\n",
       "      <td>2.731794</td>\n",
       "      <td>10.213771</td>\n",
       "      <td>4.244161</td>\n",
       "      <td>550.172183</td>\n",
       "      <td>65.023044</td>\n",
       "      <td>40.039133</td>\n",
       "      <td>9.769917</td>\n",
       "      <td>14.716595</td>\n",
       "      <td>6.798051</td>\n",
       "      <td>14.636766</td>\n",
       "      <td>6.801233</td>\n",
       "      <td>13.736996</td>\n",
       "      <td>8.565199</td>\n",
       "      <td>32.189933</td>\n",
       "      <td>21.717843</td>\n",
       "      <td>90.010670</td>\n",
       "      <td>6.389234</td>\n",
       "      <td>0.778271</td>\n",
       "      <td>20.088151</td>\n",
       "      <td>2.211861</td>\n",
       "      <td>1205.620588</td>\n",
       "      <td>-299.981998</td>\n",
       "      <td>1448.630789</td>\n",
       "      <td>-400.615589</td>\n",
       "      <td>1449.464001</td>\n",
       "      <td>-400.985743</td>\n",
       "      <td>1352.880320</td>\n",
       "      <td>-401.638550</td>\n",
       "      <td>1199.425140</td>\n",
       "      <td>-401.161191</td>\n",
       "      <td>1099.719692</td>\n",
       "      <td>-401.511042</td>\n",
       "      <td>17.358217</td>\n",
       "      <td>7.788467</td>\n",
       "      <td>10.411296</td>\n",
       "      <td>5.063081</td>\n",
       "      <td>33.012536</td>\n",
       "      <td>-499.671261</td>\n",
       "      <td>28.008197</td>\n",
       "      <td>-499.785698</td>\n",
       "      <td>33.002798</td>\n",
       "      <td>-499.325739</td>\n",
       "      <td>25.998206</td>\n",
       "      <td>-499.812834</td>\n",
       "      <td>23.012470</td>\n",
       "      <td>-498.249730</td>\n",
       "      <td>19.034162</td>\n",
       "      <td>-400.118106</td>\n",
       "      <td>18.026190</td>\n",
       "      <td>-498.384187</td>\n",
       "      <td>14.019088</td>\n",
       "      <td>-499.436708</td>\n",
       "      <td>24.003170</td>\n",
       "      <td>-499.495378</td>\n",
       "    </tr>\n",
       "    <tr>\n",
       "      <th>max</th>\n",
       "      <td>16.001945</td>\n",
       "      <td>17.031899</td>\n",
       "      <td>19.615720</td>\n",
       "      <td>52.756638</td>\n",
       "      <td>100.000000</td>\n",
       "      <td>19.552149</td>\n",
       "      <td>5.804178</td>\n",
       "      <td>22.317730</td>\n",
       "      <td>8.245022</td>\n",
       "      <td>265.983123</td>\n",
       "      <td>40.000000</td>\n",
       "      <td>15.500000</td>\n",
       "      <td>4.102454</td>\n",
       "      <td>16.081632</td>\n",
       "      <td>17.081278</td>\n",
       "      <td>22.458114</td>\n",
       "      <td>45.933934</td>\n",
       "      <td>29.459575</td>\n",
       "      <td>9.634565</td>\n",
       "      <td>22.276364</td>\n",
       "      <td>17.788925</td>\n",
       "      <td>2.103104e+03</td>\n",
       "      <td>-57.195404</td>\n",
       "      <td>2.114907e+03</td>\n",
       "      <td>-142.527229</td>\n",
       "      <td>2.013156e+03</td>\n",
       "      <td>-150.937035</td>\n",
       "      <td>2.398904e+03</td>\n",
       "      <td>-30.601828</td>\n",
       "      <td>3.428099e+06</td>\n",
       "      <td>629638.977914</td>\n",
       "      <td>718684.955855</td>\n",
       "      <td>39.379272</td>\n",
       "      <td>14.596026</td>\n",
       "      <td>7.142594</td>\n",
       "      <td>717.508837</td>\n",
       "      <td>484.967466</td>\n",
       "      <td>53.477742</td>\n",
       "      <td>13.731330</td>\n",
       "      <td>36.118275</td>\n",
       "      <td>9.703448</td>\n",
       "      <td>37.980648</td>\n",
       "      <td>9.698407</td>\n",
       "      <td>24.480271</td>\n",
       "      <td>13.617072</td>\n",
       "      <td>38.351193</td>\n",
       "      <td>28.824507</td>\n",
       "      <td>100.000000</td>\n",
       "      <td>12.719177</td>\n",
       "      <td>3.778064</td>\n",
       "      <td>66.117188</td>\n",
       "      <td>9.688980</td>\n",
       "      <td>1521.980372</td>\n",
       "      <td>-273.776101</td>\n",
       "      <td>1809.194008</td>\n",
       "      <td>-296.383080</td>\n",
       "      <td>2499.129174</td>\n",
       "      <td>-292.155509</td>\n",
       "      <td>1817.199290</td>\n",
       "      <td>-76.397327</td>\n",
       "      <td>1922.636637</td>\n",
       "      <td>-139.753025</td>\n",
       "      <td>1706.307502</td>\n",
       "      <td>-191.718480</td>\n",
       "      <td>23.264738</td>\n",
       "      <td>17.042505</td>\n",
       "      <td>26.000772</td>\n",
       "      <td>26.811643</td>\n",
       "      <td>52.651399</td>\n",
       "      <td>-127.875565</td>\n",
       "      <td>35.152122</td>\n",
       "      <td>-211.999273</td>\n",
       "      <td>44.260464</td>\n",
       "      <td>-191.678810</td>\n",
       "      <td>35.072841</td>\n",
       "      <td>-159.742331</td>\n",
       "      <td>30.115735</td>\n",
       "      <td>-245.239184</td>\n",
       "      <td>31.269706</td>\n",
       "      <td>-6.506986</td>\n",
       "      <td>43.709931</td>\n",
       "      <td>-244.483566</td>\n",
       "      <td>27.926001</td>\n",
       "      <td>-137.740004</td>\n",
       "      <td>32.188906</td>\n",
       "      <td>-104.427459</td>\n",
       "    </tr>\n",
       "  </tbody>\n",
       "</table>\n",
       "</div>"
      ],
      "text/plain": [
       "       final.output.concentrate_ag  final.output.concentrate_pb  \\\n",
       "count                 19438.000000                 19438.000000   \n",
       "mean                      5.168470                     9.978895   \n",
       "std                       1.372348                     1.669240   \n",
       "min                       0.000000                     0.000000   \n",
       "25%                       4.251240                     9.137262   \n",
       "50%                       5.066094                    10.102433   \n",
       "75%                       5.895527                    11.035769   \n",
       "max                      16.001945                    17.031899   \n",
       "\n",
       "       final.output.concentrate_sol  final.output.concentrate_au  \\\n",
       "count                  19228.000000                 19439.000000   \n",
       "mean                       9.501224                    44.076513   \n",
       "std                        2.787537                     5.129784   \n",
       "min                        0.000000                     0.000000   \n",
       "25%                        7.722820                    43.402215   \n",
       "50%                        9.218961                    45.011244   \n",
       "75%                       10.947813                    46.275313   \n",
       "max                       19.615720                    52.756638   \n",
       "\n",
       "       final.output.recovery  final.output.tail_ag  final.output.tail_pb  \\\n",
       "count           19439.000000          19438.000000          19338.000000   \n",
       "mean               67.050208              9.688589              2.705795   \n",
       "std                10.125840              2.328642              0.949077   \n",
       "min                 0.000000              0.000000              0.000000   \n",
       "25%                63.299712              8.062878              2.040119   \n",
       "50%                68.172738              9.743623              2.748730   \n",
       "75%                72.686642             11.134294              3.333216   \n",
       "max               100.000000             19.552149              5.804178   \n",
       "\n",
       "       final.output.tail_sol  final.output.tail_au  \\\n",
       "count           19433.000000          19439.000000   \n",
       "mean               10.583728              3.042467   \n",
       "std                 2.868782              0.922808   \n",
       "min                 0.000000              0.000000   \n",
       "25%                 8.938947              2.461138   \n",
       "50%                10.622456              2.984909   \n",
       "75%                12.104271              3.571351   \n",
       "max                22.317730              8.245022   \n",
       "\n",
       "       primary_cleaner.input.sulfate  primary_cleaner.input.depressant  \\\n",
       "count                   19415.000000                      19402.000000   \n",
       "mean                      144.624774                          8.817039   \n",
       "std                        44.464071                          3.286186   \n",
       "min                         0.003112                          0.000000   \n",
       "25%                       114.107029                          6.076909   \n",
       "50%                       143.232103                          8.038311   \n",
       "75%                       175.075656                         11.013521   \n",
       "max                       265.983123                         40.000000   \n",
       "\n",
       "       primary_cleaner.input.feed_size  primary_cleaner.input.xanthate  \\\n",
       "count                     19439.000000                    19335.000000   \n",
       "mean                          7.307078                        1.021795   \n",
       "std                           0.613509                        0.513254   \n",
       "min                           1.080000                        0.000005   \n",
       "25%                           6.940000                        0.697224   \n",
       "50%                           7.280000                        0.940863   \n",
       "75%                           7.670000                        1.210990   \n",
       "max                          15.500000                        4.102454   \n",
       "\n",
       "       primary_cleaner.output.concentrate_ag  \\\n",
       "count                           19439.000000   \n",
       "mean                                8.442408   \n",
       "std                                 2.054465   \n",
       "min                                 0.000000   \n",
       "25%                                 7.263288   \n",
       "50%                                 8.507298   \n",
       "75%                                 9.809001   \n",
       "max                                16.081632   \n",
       "\n",
       "       primary_cleaner.output.concentrate_pb  \\\n",
       "count                           19323.000000   \n",
       "mean                                9.829530   \n",
       "std                                 2.556843   \n",
       "min                                 0.000000   \n",
       "25%                                 8.702328   \n",
       "50%                                10.152433   \n",
       "75%                                11.424971   \n",
       "max                                17.081278   \n",
       "\n",
       "       primary_cleaner.output.concentrate_sol  \\\n",
       "count                            19069.000000   \n",
       "mean                                10.489499   \n",
       "std                                  3.909639   \n",
       "min                                  0.000000   \n",
       "25%                                  7.893893   \n",
       "50%                                 10.314632   \n",
       "75%                                 13.446702   \n",
       "max                                 22.458114   \n",
       "\n",
       "       primary_cleaner.output.concentrate_au  primary_cleaner.output.tail_ag  \\\n",
       "count                           19439.000000                    19435.000000   \n",
       "mean                               32.119400                       16.145826   \n",
       "std                                 5.627611                        3.548598   \n",
       "min                                 0.000000                        0.000000   \n",
       "25%                                30.463140                       14.017742   \n",
       "50%                                32.841295                       15.842836   \n",
       "75%                                35.048006                       18.013975   \n",
       "max                                45.933934                       29.459575   \n",
       "\n",
       "       primary_cleaner.output.tail_pb  primary_cleaner.output.tail_sol  \\\n",
       "count                    19418.000000                     19377.000000   \n",
       "mean                         3.435656                         7.973209   \n",
       "std                          1.392536                         2.212677   \n",
       "min                          0.000000                         0.000000   \n",
       "25%                          2.504365                         6.747483   \n",
       "50%                          3.271153                         8.183673   \n",
       "75%                          4.181748                         9.548586   \n",
       "max                          9.634565                        22.276364   \n",
       "\n",
       "       primary_cleaner.output.tail_au  primary_cleaner.state.floatbank8_a_air  \\\n",
       "count                    19439.000000                            1.943500e+04   \n",
       "mean                         3.914179                            1.589354e+03   \n",
       "std                          1.593034                            1.289968e+02   \n",
       "min                          0.000000                            5.445860e-32   \n",
       "25%                          2.924844                            1.505063e+03   \n",
       "50%                          3.623234                            1.600597e+03   \n",
       "75%                          4.585705                            1.697658e+03   \n",
       "max                         17.788925                            2.103104e+03   \n",
       "\n",
       "       primary_cleaner.state.floatbank8_a_level  \\\n",
       "count                              19438.000000   \n",
       "mean                                -491.195012   \n",
       "std                                   32.431842   \n",
       "min                                 -798.641662   \n",
       "25%                                 -500.308544   \n",
       "50%                                 -499.926134   \n",
       "75%                                 -499.433950   \n",
       "max                                  -57.195404   \n",
       "\n",
       "       primary_cleaner.state.floatbank8_b_air  \\\n",
       "count                            1.943500e+04   \n",
       "mean                             1.591344e+03   \n",
       "std                              1.318109e+02   \n",
       "min                              6.647490e-32   \n",
       "25%                              1.503630e+03   \n",
       "50%                              1.600521e+03   \n",
       "75%                              1.699218e+03   \n",
       "max                              2.114907e+03   \n",
       "\n",
       "       primary_cleaner.state.floatbank8_b_level  \\\n",
       "count                              19438.000000   \n",
       "mean                                -492.192978   \n",
       "std                                   33.794822   \n",
       "min                                 -799.997015   \n",
       "25%                                 -500.437171   \n",
       "50%                                 -499.956767   \n",
       "75%                                 -499.373336   \n",
       "max                                 -142.527229   \n",
       "\n",
       "       primary_cleaner.state.floatbank8_c_air  \\\n",
       "count                            1.943700e+04   \n",
       "mean                             1.586669e+03   \n",
       "std                              1.361114e+02   \n",
       "min                              4.033736e-32   \n",
       "25%                              1.500927e+03   \n",
       "50%                              1.600254e+03   \n",
       "75%                              1.699483e+03   \n",
       "max                              2.013156e+03   \n",
       "\n",
       "       primary_cleaner.state.floatbank8_c_level  \\\n",
       "count                              19438.000000   \n",
       "mean                                -491.980070   \n",
       "std                                   32.711455   \n",
       "min                                 -799.960571   \n",
       "25%                                 -500.703932   \n",
       "50%                                 -499.909524   \n",
       "75%                                 -498.857643   \n",
       "max                                 -150.937035   \n",
       "\n",
       "       primary_cleaner.state.floatbank8_d_air  \\\n",
       "count                            1.943600e+04   \n",
       "mean                             1.542912e+03   \n",
       "std                              2.461996e+02   \n",
       "min                              4.039220e-32   \n",
       "25%                              1.494219e+03   \n",
       "50%                              1.599447e+03   \n",
       "75%                              1.698525e+03   \n",
       "max                              2.398904e+03   \n",
       "\n",
       "       primary_cleaner.state.floatbank8_d_level  \\\n",
       "count                              19438.000000   \n",
       "mean                                -488.017382   \n",
       "std                                   43.959780   \n",
       "min                                 -799.794250   \n",
       "25%                                 -500.458365   \n",
       "50%                                 -499.905974   \n",
       "75%                                 -499.064695   \n",
       "max                                  -30.601828   \n",
       "\n",
       "       rougher.calculation.sulfate_to_au_concentrate  \\\n",
       "count                                   1.943700e+04   \n",
       "mean                                    4.217119e+04   \n",
       "std                                     3.243621e+05   \n",
       "min                                    -4.223520e+07   \n",
       "25%                                     4.070095e+04   \n",
       "50%                                     4.469648e+04   \n",
       "75%                                     4.816821e+04   \n",
       "max                                     3.428099e+06   \n",
       "\n",
       "       rougher.calculation.floatbank10_sulfate_to_au_feed  \\\n",
       "count                                       19437.000000    \n",
       "mean                                         3393.052498    \n",
       "std                                          4943.845943    \n",
       "min                                          -486.598675    \n",
       "25%                                          2611.425833    \n",
       "50%                                          3018.353876    \n",
       "75%                                          3676.769750    \n",
       "max                                        629638.977914    \n",
       "\n",
       "       rougher.calculation.floatbank11_sulfate_to_au_feed  \\\n",
       "count                                       19437.000000    \n",
       "mean                                         3256.854171    \n",
       "std                                          5781.423659    \n",
       "min                                          -264.982785    \n",
       "25%                                          2551.437587    \n",
       "50%                                          2997.218088    \n",
       "75%                                          3601.998911    \n",
       "max                                        718684.955855    \n",
       "\n",
       "       rougher.calculation.au_pb_ratio  rougher.input.feed_ag  \\\n",
       "count                     19439.000000           19439.000000   \n",
       "mean                          2.420119               8.794927   \n",
       "std                           0.814935               1.936847   \n",
       "min                          -0.010548               0.010000   \n",
       "25%                           2.035434               7.237967   \n",
       "50%                           2.309665               8.593574   \n",
       "75%                           2.731794              10.213771   \n",
       "max                          39.379272              14.596026   \n",
       "\n",
       "       rougher.input.feed_pb  rougher.input.feed_rate  \\\n",
       "count           19339.000000             19428.000000   \n",
       "mean                3.598085               478.320042   \n",
       "std                 1.049486               105.373758   \n",
       "min                 0.010000                 0.002986   \n",
       "25%                 2.887280               416.525453   \n",
       "50%                 3.534895               499.416120   \n",
       "75%                 4.244161               550.172183   \n",
       "max                 7.142594               717.508837   \n",
       "\n",
       "       rougher.input.feed_size  rougher.input.feed_sol  rougher.input.feed_au  \\\n",
       "count             19294.000000            19340.000000           19439.000000   \n",
       "mean                 58.970310               36.695114               8.266097   \n",
       "std                  21.634478                5.145445               1.955092   \n",
       "min                   0.046369                0.010000               0.010000   \n",
       "25%                  47.435103               34.207799               6.854384   \n",
       "50%                  54.610197               37.202650               8.125839   \n",
       "75%                  65.023044               40.039133               9.769917   \n",
       "max                 484.967466               53.477742              13.731330   \n",
       "\n",
       "       rougher.input.floatbank10_sulfate  rougher.input.floatbank10_xanthate  \\\n",
       "count                       19405.000000                        19431.000000   \n",
       "mean                           12.334373                            6.021474   \n",
       "std                             3.427317                            1.127263   \n",
       "min                             0.001083                            0.000568   \n",
       "25%                            10.000362                            5.398678   \n",
       "50%                            12.001174                            6.008273   \n",
       "75%                            14.716595                            6.798051   \n",
       "max                            36.118275                            9.703448   \n",
       "\n",
       "       rougher.input.floatbank11_sulfate  rougher.input.floatbank11_xanthate  \\\n",
       "count                       19395.000000                        18986.000000   \n",
       "mean                           12.064140                            6.065533   \n",
       "std                             3.784221                            1.099118   \n",
       "min                             0.000077                            0.000290   \n",
       "25%                             9.998460                            5.402368   \n",
       "50%                            12.000204                            6.098580   \n",
       "75%                            14.636766                            6.801233   \n",
       "max                            37.980648                            9.698407   \n",
       "\n",
       "       rougher.output.concentrate_ag  rougher.output.concentrate_pb  \\\n",
       "count                   19439.000000                   19439.000000   \n",
       "mean                       11.994759                       7.606272   \n",
       "std                         2.733862                       1.796757   \n",
       "min                         0.000000                       0.000000   \n",
       "25%                        10.628337                       6.725987   \n",
       "50%                        12.098115                       7.742580   \n",
       "75%                        13.736996                       8.565199   \n",
       "max                        24.480271                      13.617072   \n",
       "\n",
       "       rougher.output.concentrate_sol  rougher.output.concentrate_au  \\\n",
       "count                    19416.000000                   19439.000000   \n",
       "mean                        28.805571                      19.772000   \n",
       "std                          5.944207                       3.753600   \n",
       "min                          0.000000                       0.000000   \n",
       "25%                         27.224120                      18.802523   \n",
       "50%                         29.835345                      20.280214   \n",
       "75%                         32.189933                      21.717843   \n",
       "max                         38.351193                      28.824507   \n",
       "\n",
       "       rougher.output.recovery  rougher.output.tail_ag  \\\n",
       "count             19439.000000            19438.000000   \n",
       "mean                 83.328587                5.588982   \n",
       "std                  14.148086                1.111288   \n",
       "min                   0.000000                0.594562   \n",
       "25%                  81.037957                4.889892   \n",
       "50%                  86.188892                5.765802   \n",
       "75%                  90.010670                6.389234   \n",
       "max                 100.000000               12.719177   \n",
       "\n",
       "       rougher.output.tail_pb  rougher.output.tail_sol  \\\n",
       "count            19439.000000             19439.000000   \n",
       "mean                 0.645782                18.057106   \n",
       "std                  0.251526                 3.449218   \n",
       "min                  0.007566                10.014648   \n",
       "25%                  0.477728                15.822525   \n",
       "50%                  0.617465                18.106867   \n",
       "75%                  0.778271                20.088151   \n",
       "max                  3.778064                66.117188   \n",
       "\n",
       "       rougher.output.tail_au  rougher.state.floatbank10_a_air  \\\n",
       "count            19439.000000                     19438.000000   \n",
       "mean                 1.816391                      1105.315068   \n",
       "std                  0.680046                       160.826798   \n",
       "min                  0.020676                        -0.042069   \n",
       "25%                  1.404207                       999.661867   \n",
       "50%                  1.808170                      1001.072890   \n",
       "75%                  2.211861                      1205.620588   \n",
       "max                  9.688980                      1521.980372   \n",
       "\n",
       "       rougher.state.floatbank10_a_level  rougher.state.floatbank10_b_air  \\\n",
       "count                       19438.000000                     19438.000000   \n",
       "mean                         -376.610690                      1320.221139   \n",
       "std                            93.909667                       176.287095   \n",
       "min                          -657.949759                        -0.721806   \n",
       "25%                          -499.835165                      1199.626115   \n",
       "50%                          -300.263994                      1301.579988   \n",
       "75%                          -299.981998                      1448.630789   \n",
       "max                          -273.776101                      1809.194008   \n",
       "\n",
       "       rougher.state.floatbank10_b_level  rougher.state.floatbank10_c_air  \\\n",
       "count                       19438.000000                     19438.000000   \n",
       "mean                         -467.247826                      1299.968799   \n",
       "std                            54.673142                       202.804325   \n",
       "min                          -650.260008                        -0.056636   \n",
       "25%                          -500.201130                      1151.076301   \n",
       "50%                          -499.784045                      1300.211537   \n",
       "75%                          -400.615589                      1449.464001   \n",
       "max                          -296.383080                      2499.129174   \n",
       "\n",
       "       rougher.state.floatbank10_c_level  rougher.state.floatbank10_d_air  \\\n",
       "count                       19438.000000                     19439.000000   \n",
       "mean                         -467.716946                      1211.563299   \n",
       "std                            53.534825                       204.019326   \n",
       "min                          -647.544439                        -0.992219   \n",
       "25%                          -500.217218                      1061.051788   \n",
       "50%                          -499.713364                      1201.569141   \n",
       "75%                          -400.985743                      1352.880320   \n",
       "max                          -292.155509                      1817.199290   \n",
       "\n",
       "       rougher.state.floatbank10_d_level  rougher.state.floatbank10_e_air  \\\n",
       "count                       19439.000000                     19003.000000   \n",
       "mean                         -468.239912                      1080.869685   \n",
       "std                            53.921458                       172.149992   \n",
       "min                          -648.390665                        -1.982295   \n",
       "25%                          -500.386386                       998.675263   \n",
       "50%                          -499.532412                      1050.029461   \n",
       "75%                          -401.638550                      1199.425140   \n",
       "max                           -76.397327                      1922.636637   \n",
       "\n",
       "       rougher.state.floatbank10_e_level  rougher.state.floatbank10_f_air  \\\n",
       "count                       19439.000000                     19439.000000   \n",
       "mean                         -466.037742                      1025.274256   \n",
       "std                            57.384424                       164.487837   \n",
       "min                          -649.443911                        -2.593390   \n",
       "25%                          -500.232191                       900.995511   \n",
       "50%                          -499.663089                       999.924821   \n",
       "75%                          -401.161191                      1099.719692   \n",
       "max                          -139.753025                      1706.307502   \n",
       "\n",
       "       rougher.state.floatbank10_f_level  secondary_cleaner.output.tail_ag  \\\n",
       "count                       19439.000000                      19437.000000   \n",
       "mean                         -466.265327                         14.586833   \n",
       "std                            57.850263                          4.265202   \n",
       "min                          -649.949283                          0.000000   \n",
       "25%                          -500.522553                         12.640239   \n",
       "50%                          -499.471777                         15.641902   \n",
       "75%                          -401.511042                         17.358217   \n",
       "max                          -191.718480                         23.264738   \n",
       "\n",
       "       secondary_cleaner.output.tail_pb  secondary_cleaner.output.tail_sol  \\\n",
       "count                      19427.000000                       17691.000000   \n",
       "mean                           5.777703                           7.167247   \n",
       "std                            2.774598                           3.916079   \n",
       "min                            0.000000                           0.000000   \n",
       "25%                            3.864733                           3.845475   \n",
       "50%                            5.344073                           7.685827   \n",
       "75%                            7.788467                          10.411296   \n",
       "max                           17.042505                          26.000772   \n",
       "\n",
       "       secondary_cleaner.output.tail_au  \\\n",
       "count                      19439.000000   \n",
       "mean                           4.339625   \n",
       "std                            2.326751   \n",
       "min                            0.000000   \n",
       "25%                            3.182770   \n",
       "50%                            4.072412   \n",
       "75%                            5.063081   \n",
       "max                           26.811643   \n",
       "\n",
       "       secondary_cleaner.state.floatbank2_a_air  \\\n",
       "count                              19219.000000   \n",
       "mean                                  28.705564   \n",
       "std                                    5.458789   \n",
       "min                                    0.077503   \n",
       "25%                                   25.048462   \n",
       "50%                                   29.099943   \n",
       "75%                                   33.012536   \n",
       "max                                   52.651399   \n",
       "\n",
       "       secondary_cleaner.state.floatbank2_a_level  \\\n",
       "count                                19438.000000   \n",
       "mean                                  -502.367331   \n",
       "std                                     53.571950   \n",
       "min                                   -799.606441   \n",
       "25%                                   -500.233700   \n",
       "50%                                   -499.973250   \n",
       "75%                                   -499.671261   \n",
       "max                                   -127.875565   \n",
       "\n",
       "       secondary_cleaner.state.floatbank2_b_air  \\\n",
       "count                              19416.000000   \n",
       "mean                                  24.106800   \n",
       "std                                    5.749616   \n",
       "min                                    0.000000   \n",
       "25%                                   20.919853   \n",
       "50%                                   25.043289   \n",
       "75%                                   28.008197   \n",
       "max                                   35.152122   \n",
       "\n",
       "       secondary_cleaner.state.floatbank2_b_level  \\\n",
       "count                                19438.000000   \n",
       "mean                                  -503.230712   \n",
       "std                                     56.567724   \n",
       "min                                   -799.873878   \n",
       "25%                                   -500.253794   \n",
       "50%                                   -500.015439   \n",
       "75%                                   -499.785698   \n",
       "max                                   -211.999273   \n",
       "\n",
       "       secondary_cleaner.state.floatbank3_a_air  \\\n",
       "count                              19426.000000   \n",
       "mean                                  28.199338   \n",
       "std                                    6.134908   \n",
       "min                                    0.000000   \n",
       "25%                                   24.949227   \n",
       "50%                                   27.982129   \n",
       "75%                                   33.002798   \n",
       "max                                   44.260464   \n",
       "\n",
       "       secondary_cleaner.state.floatbank3_a_level  \\\n",
       "count                                19438.000000   \n",
       "mean                                  -486.203350   \n",
       "std                                     54.412349   \n",
       "min                                   -799.755798   \n",
       "25%                                   -500.213546   \n",
       "50%                                   -499.930680   \n",
       "75%                                   -499.325739   \n",
       "max                                   -191.678810   \n",
       "\n",
       "       secondary_cleaner.state.floatbank3_b_air  \\\n",
       "count                              19438.000000   \n",
       "mean                                  22.200645   \n",
       "std                                    5.574001   \n",
       "min                                    0.000000   \n",
       "25%                                   18.995924   \n",
       "50%                                   22.011231   \n",
       "75%                                   25.998206   \n",
       "max                                   35.072841   \n",
       "\n",
       "       secondary_cleaner.state.floatbank3_b_level  \\\n",
       "count                                19438.000000   \n",
       "mean                                  -493.742107   \n",
       "std                                     43.372158   \n",
       "min                                   -809.333008   \n",
       "25%                                   -500.123034   \n",
       "50%                                   -499.981902   \n",
       "75%                                   -499.812834   \n",
       "max                                   -159.742331   \n",
       "\n",
       "       secondary_cleaner.state.floatbank4_a_air  \\\n",
       "count                              19433.000000   \n",
       "mean                                  18.987674   \n",
       "std                                    5.411058   \n",
       "min                                    0.000000   \n",
       "25%                                   14.975734   \n",
       "50%                                   18.017481   \n",
       "75%                                   23.012470   \n",
       "max                                   30.115735   \n",
       "\n",
       "       secondary_cleaner.state.floatbank4_a_level  \\\n",
       "count                                19438.000000   \n",
       "mean                                  -485.894516   \n",
       "std                                     47.758570   \n",
       "min                                   -799.798523   \n",
       "25%                                   -500.704892   \n",
       "50%                                   -499.837793   \n",
       "75%                                   -498.249730   \n",
       "max                                   -245.239184   \n",
       "\n",
       "       secondary_cleaner.state.floatbank4_b_air  \\\n",
       "count                              19438.000000   \n",
       "mean                                  15.010366   \n",
       "std                                    4.890228   \n",
       "min                                    0.000000   \n",
       "25%                                   11.940294   \n",
       "50%                                   14.971014   \n",
       "75%                                   19.034162   \n",
       "max                                   31.269706   \n",
       "\n",
       "       secondary_cleaner.state.floatbank4_b_level  \\\n",
       "count                                19438.000000   \n",
       "mean                                  -461.078636   \n",
       "std                                     67.405524   \n",
       "min                                   -800.836914   \n",
       "25%                                   -500.187742   \n",
       "50%                                   -499.459786   \n",
       "75%                                   -400.118106   \n",
       "max                                     -6.506986   \n",
       "\n",
       "       secondary_cleaner.state.floatbank5_a_air  \\\n",
       "count                              19438.000000   \n",
       "mean                                  15.694452   \n",
       "std                                    5.510974   \n",
       "min                                   -0.372054   \n",
       "25%                                   10.988606   \n",
       "50%                                   15.000036   \n",
       "75%                                   18.026190   \n",
       "max                                   43.709931   \n",
       "\n",
       "       secondary_cleaner.state.floatbank5_a_level  \\\n",
       "count                                19438.000000   \n",
       "mean                                  -488.684065   \n",
       "std                                     34.533396   \n",
       "min                                   -797.323986   \n",
       "25%                                   -500.458467   \n",
       "50%                                   -499.802605   \n",
       "75%                                   -498.384187   \n",
       "max                                   -244.483566   \n",
       "\n",
       "       secondary_cleaner.state.floatbank5_b_air  \\\n",
       "count                              19438.000000   \n",
       "mean                                  12.198224   \n",
       "std                                    5.333024   \n",
       "min                                    0.528083   \n",
       "25%                                    8.971105   \n",
       "50%                                   11.019433   \n",
       "75%                                   14.019088   \n",
       "max                                   27.926001   \n",
       "\n",
       "       secondary_cleaner.state.floatbank5_b_level  \\\n",
       "count                                19438.000000   \n",
       "mean                                  -487.149827   \n",
       "std                                     38.347312   \n",
       "min                                   -800.220337   \n",
       "25%                                   -500.129462   \n",
       "50%                                   -499.935317   \n",
       "75%                                   -499.436708   \n",
       "max                                   -137.740004   \n",
       "\n",
       "       secondary_cleaner.state.floatbank6_a_air  \\\n",
       "count                              19437.000000   \n",
       "mean                                  18.959024   \n",
       "std                                    5.550498   \n",
       "min                                   -0.079426   \n",
       "25%                                   14.983037   \n",
       "50%                                   19.960541   \n",
       "75%                                   24.003170   \n",
       "max                                   32.188906   \n",
       "\n",
       "       secondary_cleaner.state.floatbank6_a_level  \n",
       "count                                19438.000000  \n",
       "mean                                  -505.436305  \n",
       "std                                     37.689057  \n",
       "min                                   -809.741464  \n",
       "25%                                   -500.728067  \n",
       "50%                                   -500.048400  \n",
       "75%                                   -499.495378  \n",
       "max                                   -104.427459  "
      ]
     },
     "metadata": {},
     "output_type": "display_data"
    }
   ],
   "source": [
    "display(describe_data(data))\n",
    "pd.set_option('display.max_columns', 90)"
   ]
  },
  {
   "cell_type": "code",
   "execution_count": 20,
   "metadata": {},
   "outputs": [
    {
     "data": {
      "text/plain": [
       "date                                                  0.000000\n",
       "rougher.state.floatbank10_f_level                     0.000000\n",
       "rougher.output.concentrate_pb                         0.000000\n",
       "rougher.state.floatbank10_f_air                       0.000000\n",
       "rougher.state.floatbank10_e_level                     0.000000\n",
       "rougher.state.floatbank10_d_level                     0.000000\n",
       "rougher.state.floatbank10_d_air                       0.000000\n",
       "secondary_cleaner.output.tail_au                      0.000000\n",
       "rougher.output.tail_au                                0.000000\n",
       "rougher.input.feed_ag                                 0.000000\n",
       "rougher.output.tail_sol                               0.000000\n",
       "rougher.output.tail_pb                                0.000000\n",
       "rougher.output.recovery                               0.000000\n",
       "rougher.input.feed_au                                 0.000000\n",
       "rougher.output.concentrate_au                         0.000000\n",
       "rougher.calculation.au_pb_ratio                       0.000000\n",
       "primary_cleaner.output.concentrate_au                 0.000000\n",
       "primary_cleaner.output.tail_au                        0.000000\n",
       "rougher.output.concentrate_ag                         0.000000\n",
       "primary_cleaner.output.concentrate_ag                 0.000000\n",
       "primary_cleaner.input.feed_size                       0.000000\n",
       "final.output.tail_au                                  0.000000\n",
       "final.output.concentrate_au                           0.000000\n",
       "final.output.recovery                                 0.000000\n",
       "secondary_cleaner.state.floatbank5_b_level            0.000051\n",
       "secondary_cleaner.state.floatbank5_b_air              0.000051\n",
       "secondary_cleaner.state.floatbank5_a_level            0.000051\n",
       "rougher.output.tail_ag                                0.000051\n",
       "secondary_cleaner.state.floatbank5_a_air              0.000051\n",
       "secondary_cleaner.state.floatbank4_b_level            0.000051\n",
       "secondary_cleaner.state.floatbank4_b_air              0.000051\n",
       "secondary_cleaner.state.floatbank2_a_level            0.000051\n",
       "secondary_cleaner.state.floatbank2_b_level            0.000051\n",
       "rougher.state.floatbank10_b_air                       0.000051\n",
       "rougher.state.floatbank10_b_level                     0.000051\n",
       "rougher.state.floatbank10_c_air                       0.000051\n",
       "rougher.state.floatbank10_c_level                     0.000051\n",
       "secondary_cleaner.state.floatbank4_a_level            0.000051\n",
       "secondary_cleaner.state.floatbank3_b_level            0.000051\n",
       "secondary_cleaner.state.floatbank3_b_air              0.000051\n",
       "secondary_cleaner.state.floatbank3_a_level            0.000051\n",
       "rougher.state.floatbank10_a_air                       0.000051\n",
       "rougher.state.floatbank10_a_level                     0.000051\n",
       "secondary_cleaner.state.floatbank6_a_level            0.000051\n",
       "primary_cleaner.state.floatbank8_a_level              0.000051\n",
       "primary_cleaner.state.floatbank8_b_level              0.000051\n",
       "final.output.concentrate_ag                           0.000051\n",
       "final.output.concentrate_pb                           0.000051\n",
       "primary_cleaner.state.floatbank8_c_level              0.000051\n",
       "final.output.tail_ag                                  0.000051\n",
       "primary_cleaner.state.floatbank8_d_level              0.000051\n",
       "secondary_cleaner.output.tail_ag                      0.000103\n",
       "secondary_cleaner.state.floatbank6_a_air              0.000103\n",
       "rougher.calculation.sulfate_to_au_concentrate         0.000103\n",
       "primary_cleaner.state.floatbank8_c_air                0.000103\n",
       "rougher.calculation.floatbank11_sulfate_to_au_feed    0.000103\n",
       "rougher.calculation.floatbank10_sulfate_to_au_feed    0.000103\n",
       "primary_cleaner.state.floatbank8_d_air                0.000154\n",
       "primary_cleaner.output.tail_ag                        0.000206\n",
       "primary_cleaner.state.floatbank8_b_air                0.000206\n",
       "primary_cleaner.state.floatbank8_a_air                0.000206\n",
       "final.output.tail_sol                                 0.000309\n",
       "secondary_cleaner.state.floatbank4_a_air              0.000309\n",
       "rougher.input.floatbank10_xanthate                    0.000412\n",
       "rougher.input.feed_rate                               0.000566\n",
       "secondary_cleaner.output.tail_pb                      0.000617\n",
       "secondary_cleaner.state.floatbank3_a_air              0.000669\n",
       "primary_cleaner.output.tail_pb                        0.001080\n",
       "rougher.output.concentrate_sol                        0.001183\n",
       "secondary_cleaner.state.floatbank2_b_air              0.001183\n",
       "primary_cleaner.input.sulfate                         0.001235\n",
       "rougher.input.floatbank10_sulfate                     0.001749\n",
       "primary_cleaner.input.depressant                      0.001903\n",
       "rougher.input.floatbank11_sulfate                     0.002263\n",
       "primary_cleaner.output.tail_sol                       0.003189\n",
       "rougher.input.feed_sol                                0.005093\n",
       "rougher.input.feed_pb                                 0.005144\n",
       "final.output.tail_pb                                  0.005196\n",
       "primary_cleaner.input.xanthate                        0.005350\n",
       "primary_cleaner.output.concentrate_pb                 0.005967\n",
       "rougher.input.feed_size                               0.007459\n",
       "final.output.concentrate_sol                          0.010854\n",
       "secondary_cleaner.state.floatbank2_a_air              0.011317\n",
       "primary_cleaner.output.concentrate_sol                0.019034\n",
       "rougher.state.floatbank10_e_air                       0.022429\n",
       "rougher.input.floatbank11_xanthate                    0.023304\n",
       "secondary_cleaner.output.tail_sol                     0.089922\n",
       "dtype: float64"
      ]
     },
     "metadata": {},
     "output_type": "display_data"
    }
   ],
   "source": [
    "display(na_mean(data))\n",
    "pd.set_option('display.max_rows', 88)"
   ]
  },
  {
   "cell_type": "code",
   "execution_count": 21,
   "metadata": {},
   "outputs": [
    {
     "data": {
      "text/plain": [
       "0"
      ]
     },
     "execution_count": 21,
     "metadata": {},
     "output_type": "execute_result"
    }
   ],
   "source": [
    "duplicated_data(data)"
   ]
  },
  {
   "cell_type": "markdown",
   "metadata": {},
   "source": [
    "В некоторых столбцах присутствуют пропуски. Следует изменить формат данных в столбце с датой. Полные дубликаты в данных отсутствуют."
   ]
  },
  {
   "cell_type": "markdown",
   "metadata": {},
   "source": [
    "### Проверка, что эффективность обогащения рассчитана правильно"
   ]
  },
  {
   "cell_type": "code",
   "execution_count": 22,
   "metadata": {},
   "outputs": [],
   "source": [
    "au_after_rougher = train_data['rougher.output.concentrate_au'] \n",
    "au_before_rougher = train_data['rougher.input.feed_au']\n",
    "au_tail_after_rougher = train_data['rougher.output.tail_au']\n",
    "train_data['recovery'] = (au_after_rougher*(au_before_rougher-au_tail_after_rougher))/(au_before_rougher*(au_after_rougher-au_tail_after_rougher))*100"
   ]
  },
  {
   "cell_type": "code",
   "execution_count": 23,
   "metadata": {},
   "outputs": [
    {
     "name": "stdout",
     "output_type": "stream",
     "text": [
      "MAE: 9.682896147825551e-15\n"
     ]
    }
   ],
   "source": [
    "MAE = mean_absolute_error(train_data['rougher.output.recovery'], train_data['recovery'])\n",
    "print('MAE:', MAE)"
   ]
  },
  {
   "cell_type": "markdown",
   "metadata": {},
   "source": [
    "Среднее абсолютное отклонение практически равно 0, это говорит о том, что значения практически одинаковые. Возможно такая погрешность возникает из-за того, что вычисления происходят во float."
   ]
  },
  {
   "cell_type": "markdown",
   "metadata": {},
   "source": [
    "### Анализ признаков, недоступных в тестовой выборке"
   ]
  },
  {
   "cell_type": "code",
   "execution_count": 24,
   "metadata": {},
   "outputs": [
    {
     "name": "stdout",
     "output_type": "stream",
     "text": [
      "Признаки недоступные в тестовой выборке:\n",
      "{'rougher.output.concentrate_au', 'rougher.output.recovery', 'rougher.output.concentrate_pb', 'final.output.tail_pb', 'final.output.recovery', 'primary_cleaner.output.tail_sol', 'rougher.output.concentrate_sol', 'final.output.concentrate_au', 'rougher.calculation.floatbank10_sulfate_to_au_feed', 'rougher.calculation.au_pb_ratio', 'secondary_cleaner.output.tail_au', 'rougher.calculation.sulfate_to_au_concentrate', 'primary_cleaner.output.tail_pb', 'rougher.output.tail_pb', 'primary_cleaner.output.concentrate_au', 'final.output.tail_ag', 'primary_cleaner.output.tail_au', 'primary_cleaner.output.concentrate_pb', 'rougher.output.tail_sol', 'final.output.concentrate_sol', 'final.output.tail_sol', 'secondary_cleaner.output.tail_pb', 'final.output.concentrate_ag', 'rougher.calculation.floatbank11_sulfate_to_au_feed', 'primary_cleaner.output.concentrate_sol', 'final.output.concentrate_pb', 'primary_cleaner.output.concentrate_ag', 'secondary_cleaner.output.tail_ag', 'rougher.output.concentrate_ag', 'rougher.output.tail_ag', 'rougher.output.tail_au', 'secondary_cleaner.output.tail_sol', 'final.output.tail_au', 'primary_cleaner.output.tail_ag'}\n"
     ]
    }
   ],
   "source": [
    "print('Признаки недоступные в тестовой выборке:')\n",
    "missing_columns = set(data.columns) - set(test_data.columns)\n",
    "print(missing_columns)"
   ]
  },
  {
   "cell_type": "markdown",
   "metadata": {},
   "source": [
    "В тестовой выборке недоступны параметры продукта и расчётные характеристики, то есть в тестой выборке даны только параметры сырья и параметры, характеризующие текущее состояние этапа. Остальные характеристики рассчитываются значительно позже. Все параметры в данных столбцах относятся к типу float."
   ]
  },
  {
   "cell_type": "markdown",
   "metadata": {},
   "source": [
    "### Предобработка данных"
   ]
  },
  {
   "cell_type": "code",
   "execution_count": 25,
   "metadata": {},
   "outputs": [],
   "source": [
    "def to_date(data):\n",
    "    data['date'] = pd.to_datetime(data['date'], format='%Y-%m-%dT%H:%M:%S')"
   ]
  },
  {
   "cell_type": "markdown",
   "metadata": {},
   "source": [
    "<b>Тестовая выборка</b>"
   ]
  },
  {
   "cell_type": "markdown",
   "metadata": {},
   "source": [
    "В тестовой выборке следует изменить формат даты, а также избавиться от пропусков"
   ]
  },
  {
   "cell_type": "code",
   "execution_count": 26,
   "metadata": {},
   "outputs": [],
   "source": [
    "to_date(test_data)"
   ]
  },
  {
   "cell_type": "code",
   "execution_count": 27,
   "metadata": {},
   "outputs": [
    {
     "data": {
      "text/plain": [
       "date                                          0.000000\n",
       "rougher.state.floatbank10_c_air               0.000000\n",
       "rougher.state.floatbank10_c_level             0.000000\n",
       "rougher.state.floatbank10_d_air               0.000000\n",
       "rougher.state.floatbank10_d_level             0.000000\n",
       "rougher.state.floatbank10_e_air               0.000000\n",
       "rougher.state.floatbank10_e_level             0.000000\n",
       "rougher.state.floatbank10_f_air               0.000000\n",
       "rougher.state.floatbank10_f_level             0.000000\n",
       "secondary_cleaner.state.floatbank2_a_level    0.000000\n",
       "secondary_cleaner.state.floatbank2_b_level    0.000000\n",
       "secondary_cleaner.state.floatbank3_a_level    0.000000\n",
       "secondary_cleaner.state.floatbank3_b_air      0.000000\n",
       "secondary_cleaner.state.floatbank3_b_level    0.000000\n",
       "secondary_cleaner.state.floatbank4_a_air      0.000000\n",
       "secondary_cleaner.state.floatbank4_a_level    0.000000\n",
       "secondary_cleaner.state.floatbank4_b_air      0.000000\n",
       "secondary_cleaner.state.floatbank4_b_level    0.000000\n",
       "secondary_cleaner.state.floatbank5_a_air      0.000000\n",
       "secondary_cleaner.state.floatbank5_a_level    0.000000\n",
       "secondary_cleaner.state.floatbank5_b_air      0.000000\n",
       "secondary_cleaner.state.floatbank5_b_level    0.000000\n",
       "secondary_cleaner.state.floatbank6_a_air      0.000000\n",
       "rougher.state.floatbank10_b_air               0.000000\n",
       "rougher.state.floatbank10_b_level             0.000000\n",
       "rougher.state.floatbank10_a_air               0.000000\n",
       "primary_cleaner.input.feed_size               0.000000\n",
       "primary_cleaner.state.floatbank8_a_air        0.000000\n",
       "primary_cleaner.state.floatbank8_a_level      0.000000\n",
       "primary_cleaner.state.floatbank8_b_air        0.000000\n",
       "primary_cleaner.state.floatbank8_b_level      0.000000\n",
       "primary_cleaner.state.floatbank8_c_air        0.000000\n",
       "primary_cleaner.state.floatbank8_c_level      0.000000\n",
       "primary_cleaner.state.floatbank8_d_air        0.000000\n",
       "rougher.state.floatbank10_a_level             0.000000\n",
       "rougher.input.feed_ag                         0.000000\n",
       "primary_cleaner.state.floatbank8_d_level      0.000000\n",
       "rougher.input.feed_pb                         0.000000\n",
       "rougher.input.feed_au                         0.000000\n",
       "rougher.input.floatbank10_xanthate            0.000000\n",
       "secondary_cleaner.state.floatbank6_a_level    0.000000\n",
       "rougher.input.feed_size                       0.000189\n",
       "secondary_cleaner.state.floatbank2_b_air      0.000378\n",
       "rougher.input.feed_rate                       0.000567\n",
       "secondary_cleaner.state.floatbank2_a_air      0.000567\n",
       "primary_cleaner.input.xanthate                0.000756\n",
       "primary_cleaner.input.sulfate                 0.000756\n",
       "rougher.input.floatbank10_sulfate             0.000945\n",
       "primary_cleaner.input.depressant              0.000945\n",
       "rougher.input.floatbank11_sulfate             0.001512\n",
       "secondary_cleaner.state.floatbank3_a_air      0.001701\n",
       "rougher.input.feed_sol                        0.003970\n",
       "rougher.input.floatbank11_xanthate            0.004726\n",
       "dtype: float64"
      ]
     },
     "execution_count": 27,
     "metadata": {},
     "output_type": "execute_result"
    }
   ],
   "source": [
    "na_mean(test_data)"
   ]
  },
  {
   "cell_type": "markdown",
   "metadata": {},
   "source": [
    "12 столбцов в тестовой выборке имеют пропуски в данных, заменим их медианным значением по столбцу"
   ]
  },
  {
   "cell_type": "code",
   "execution_count": 28,
   "metadata": {},
   "outputs": [],
   "source": [
    "test_data = test_data.fillna(test_data.median())"
   ]
  },
  {
   "cell_type": "code",
   "execution_count": 29,
   "metadata": {},
   "outputs": [
    {
     "name": "stdout",
     "output_type": "stream",
     "text": [
      "<class 'pandas.core.frame.DataFrame'>\n",
      "RangeIndex: 5290 entries, 0 to 5289\n",
      "Data columns (total 53 columns):\n",
      " #   Column                                      Non-Null Count  Dtype         \n",
      "---  ------                                      --------------  -----         \n",
      " 0   date                                        5290 non-null   datetime64[ns]\n",
      " 1   primary_cleaner.input.sulfate               5290 non-null   float64       \n",
      " 2   primary_cleaner.input.depressant            5290 non-null   float64       \n",
      " 3   primary_cleaner.input.feed_size             5290 non-null   float64       \n",
      " 4   primary_cleaner.input.xanthate              5290 non-null   float64       \n",
      " 5   primary_cleaner.state.floatbank8_a_air      5290 non-null   float64       \n",
      " 6   primary_cleaner.state.floatbank8_a_level    5290 non-null   float64       \n",
      " 7   primary_cleaner.state.floatbank8_b_air      5290 non-null   float64       \n",
      " 8   primary_cleaner.state.floatbank8_b_level    5290 non-null   float64       \n",
      " 9   primary_cleaner.state.floatbank8_c_air      5290 non-null   float64       \n",
      " 10  primary_cleaner.state.floatbank8_c_level    5290 non-null   float64       \n",
      " 11  primary_cleaner.state.floatbank8_d_air      5290 non-null   float64       \n",
      " 12  primary_cleaner.state.floatbank8_d_level    5290 non-null   float64       \n",
      " 13  rougher.input.feed_ag                       5290 non-null   float64       \n",
      " 14  rougher.input.feed_pb                       5290 non-null   float64       \n",
      " 15  rougher.input.feed_rate                     5290 non-null   float64       \n",
      " 16  rougher.input.feed_size                     5290 non-null   float64       \n",
      " 17  rougher.input.feed_sol                      5290 non-null   float64       \n",
      " 18  rougher.input.feed_au                       5290 non-null   float64       \n",
      " 19  rougher.input.floatbank10_sulfate           5290 non-null   float64       \n",
      " 20  rougher.input.floatbank10_xanthate          5290 non-null   float64       \n",
      " 21  rougher.input.floatbank11_sulfate           5290 non-null   float64       \n",
      " 22  rougher.input.floatbank11_xanthate          5290 non-null   float64       \n",
      " 23  rougher.state.floatbank10_a_air             5290 non-null   float64       \n",
      " 24  rougher.state.floatbank10_a_level           5290 non-null   float64       \n",
      " 25  rougher.state.floatbank10_b_air             5290 non-null   float64       \n",
      " 26  rougher.state.floatbank10_b_level           5290 non-null   float64       \n",
      " 27  rougher.state.floatbank10_c_air             5290 non-null   float64       \n",
      " 28  rougher.state.floatbank10_c_level           5290 non-null   float64       \n",
      " 29  rougher.state.floatbank10_d_air             5290 non-null   float64       \n",
      " 30  rougher.state.floatbank10_d_level           5290 non-null   float64       \n",
      " 31  rougher.state.floatbank10_e_air             5290 non-null   float64       \n",
      " 32  rougher.state.floatbank10_e_level           5290 non-null   float64       \n",
      " 33  rougher.state.floatbank10_f_air             5290 non-null   float64       \n",
      " 34  rougher.state.floatbank10_f_level           5290 non-null   float64       \n",
      " 35  secondary_cleaner.state.floatbank2_a_air    5290 non-null   float64       \n",
      " 36  secondary_cleaner.state.floatbank2_a_level  5290 non-null   float64       \n",
      " 37  secondary_cleaner.state.floatbank2_b_air    5290 non-null   float64       \n",
      " 38  secondary_cleaner.state.floatbank2_b_level  5290 non-null   float64       \n",
      " 39  secondary_cleaner.state.floatbank3_a_air    5290 non-null   float64       \n",
      " 40  secondary_cleaner.state.floatbank3_a_level  5290 non-null   float64       \n",
      " 41  secondary_cleaner.state.floatbank3_b_air    5290 non-null   float64       \n",
      " 42  secondary_cleaner.state.floatbank3_b_level  5290 non-null   float64       \n",
      " 43  secondary_cleaner.state.floatbank4_a_air    5290 non-null   float64       \n",
      " 44  secondary_cleaner.state.floatbank4_a_level  5290 non-null   float64       \n",
      " 45  secondary_cleaner.state.floatbank4_b_air    5290 non-null   float64       \n",
      " 46  secondary_cleaner.state.floatbank4_b_level  5290 non-null   float64       \n",
      " 47  secondary_cleaner.state.floatbank5_a_air    5290 non-null   float64       \n",
      " 48  secondary_cleaner.state.floatbank5_a_level  5290 non-null   float64       \n",
      " 49  secondary_cleaner.state.floatbank5_b_air    5290 non-null   float64       \n",
      " 50  secondary_cleaner.state.floatbank5_b_level  5290 non-null   float64       \n",
      " 51  secondary_cleaner.state.floatbank6_a_air    5290 non-null   float64       \n",
      " 52  secondary_cleaner.state.floatbank6_a_level  5290 non-null   float64       \n",
      "dtypes: datetime64[ns](1), float64(52)\n",
      "memory usage: 2.1 MB\n",
      "None\n"
     ]
    }
   ],
   "source": [
    "print(test_data.info())"
   ]
  },
  {
   "cell_type": "markdown",
   "metadata": {},
   "source": [
    "<b>Обучающая выборка</b> "
   ]
  },
  {
   "cell_type": "markdown",
   "metadata": {},
   "source": [
    "В обучающей выборке также следует изменить формат даты и избавится от пропусков"
   ]
  },
  {
   "cell_type": "code",
   "execution_count": 30,
   "metadata": {},
   "outputs": [],
   "source": [
    "to_date(train_data)"
   ]
  },
  {
   "cell_type": "code",
   "execution_count": 31,
   "metadata": {},
   "outputs": [
    {
     "data": {
      "text/plain": [
       "date                                                  0.000000\n",
       "rougher.input.feed_ag                                 0.000000\n",
       "rougher.input.feed_au                                 0.000000\n",
       "rougher.output.concentrate_ag                         0.000000\n",
       "rougher.output.concentrate_pb                         0.000000\n",
       "rougher.output.concentrate_au                         0.000000\n",
       "rougher.output.recovery                               0.000000\n",
       "rougher.output.tail_pb                                0.000000\n",
       "rougher.output.tail_sol                               0.000000\n",
       "rougher.output.tail_au                                0.000000\n",
       "rougher.state.floatbank10_d_air                       0.000000\n",
       "rougher.state.floatbank10_d_level                     0.000000\n",
       "rougher.state.floatbank10_e_level                     0.000000\n",
       "rougher.state.floatbank10_f_air                       0.000000\n",
       "rougher.state.floatbank10_f_level                     0.000000\n",
       "secondary_cleaner.output.tail_au                      0.000000\n",
       "rougher.calculation.au_pb_ratio                       0.000000\n",
       "primary_cleaner.output.tail_au                        0.000000\n",
       "recovery                                              0.000000\n",
       "primary_cleaner.input.feed_size                       0.000000\n",
       "primary_cleaner.output.concentrate_au                 0.000000\n",
       "final.output.concentrate_au                           0.000000\n",
       "final.output.recovery                                 0.000000\n",
       "final.output.tail_ag                                  0.000000\n",
       "primary_cleaner.output.concentrate_ag                 0.000000\n",
       "final.output.tail_au                                  0.000000\n",
       "rougher.state.floatbank10_a_air                       0.000071\n",
       "secondary_cleaner.state.floatbank3_b_level            0.000071\n",
       "secondary_cleaner.state.floatbank3_b_air              0.000071\n",
       "secondary_cleaner.state.floatbank3_a_level            0.000071\n",
       "rougher.output.tail_ag                                0.000071\n",
       "primary_cleaner.output.tail_ag                        0.000071\n",
       "rougher.state.floatbank10_b_level                     0.000071\n",
       "rougher.state.floatbank10_b_air                       0.000071\n",
       "rougher.state.floatbank10_c_air                       0.000071\n",
       "rougher.state.floatbank10_c_level                     0.000071\n",
       "secondary_cleaner.state.floatbank2_b_level            0.000071\n",
       "secondary_cleaner.state.floatbank2_a_level            0.000071\n",
       "final.output.concentrate_pb                           0.000071\n",
       "rougher.state.floatbank10_a_level                     0.000071\n",
       "secondary_cleaner.state.floatbank4_a_level            0.000071\n",
       "secondary_cleaner.state.floatbank6_a_level            0.000071\n",
       "secondary_cleaner.state.floatbank4_b_air              0.000071\n",
       "primary_cleaner.state.floatbank8_a_level              0.000071\n",
       "primary_cleaner.state.floatbank8_b_level              0.000071\n",
       "primary_cleaner.state.floatbank8_c_level              0.000071\n",
       "primary_cleaner.state.floatbank8_d_level              0.000071\n",
       "rougher.calculation.sulfate_to_au_concentrate         0.000071\n",
       "rougher.calculation.floatbank11_sulfate_to_au_feed    0.000071\n",
       "secondary_cleaner.state.floatbank5_b_level            0.000071\n",
       "rougher.calculation.floatbank10_sulfate_to_au_feed    0.000071\n",
       "final.output.concentrate_ag                           0.000071\n",
       "secondary_cleaner.state.floatbank5_a_level            0.000071\n",
       "secondary_cleaner.state.floatbank5_b_air              0.000071\n",
       "secondary_cleaner.state.floatbank5_a_air              0.000071\n",
       "secondary_cleaner.state.floatbank4_b_level            0.000071\n",
       "secondary_cleaner.output.tail_ag                      0.000141\n",
       "secondary_cleaner.state.floatbank6_a_air              0.000141\n",
       "primary_cleaner.state.floatbank8_c_air                0.000141\n",
       "primary_cleaner.state.floatbank8_d_air                0.000212\n",
       "primary_cleaner.state.floatbank8_b_air                0.000283\n",
       "primary_cleaner.state.floatbank8_a_air                0.000283\n",
       "secondary_cleaner.state.floatbank3_a_air              0.000283\n",
       "final.output.tail_sol                                 0.000353\n",
       "secondary_cleaner.state.floatbank4_a_air              0.000424\n",
       "rougher.input.feed_rate                               0.000565\n",
       "rougher.input.floatbank10_xanthate                    0.000565\n",
       "secondary_cleaner.output.tail_pb                      0.000707\n",
       "primary_cleaner.output.tail_pb                        0.001060\n",
       "primary_cleaner.input.sulfate                         0.001414\n",
       "secondary_cleaner.state.floatbank2_b_air              0.001484\n",
       "rougher.output.concentrate_sol                        0.001555\n",
       "rougher.input.floatbank10_sulfate                     0.002050\n",
       "primary_cleaner.input.depressant                      0.002262\n",
       "rougher.input.floatbank11_sulfate                     0.002544\n",
       "primary_cleaner.output.tail_sol                       0.003251\n",
       "rougher.input.feed_sol                                0.005513\n",
       "primary_cleaner.output.concentrate_pb                 0.006078\n",
       "final.output.tail_pb                                  0.007068\n",
       "primary_cleaner.input.xanthate                        0.007068\n",
       "rougher.input.feed_pb                                 0.007068\n",
       "rougher.input.feed_size                               0.010177\n",
       "final.output.concentrate_sol                          0.014913\n",
       "secondary_cleaner.state.floatbank2_a_air              0.015337\n",
       "primary_cleaner.output.concentrate_sol                0.020213\n",
       "rougher.input.floatbank11_xanthate                    0.030249\n",
       "rougher.state.floatbank10_e_air                       0.030815\n",
       "secondary_cleaner.output.tail_sol                     0.113436\n",
       "dtype: float64"
      ]
     },
     "execution_count": 31,
     "metadata": {},
     "output_type": "execute_result"
    }
   ],
   "source": [
    "na_mean(train_data)"
   ]
  },
  {
   "cell_type": "markdown",
   "metadata": {},
   "source": [
    "Один из столбцов (secondary_cleaner.output.tail_sol) имеет большое количество пропусков - 11.3436%, просто удалив их, мы потеряем большое количество данных. В данном столбцу указаны отвальные хвосты после второго этапа очистки. Возможно пропуски в данных означают то, что отвальных хвостов не было, следовательно их можно заполнить числом 0. Пропуски в остальных столбцах заменим медианным значением"
   ]
  },
  {
   "cell_type": "code",
   "execution_count": 32,
   "metadata": {},
   "outputs": [
    {
     "name": "stdout",
     "output_type": "stream",
     "text": [
      "<class 'pandas.core.frame.DataFrame'>\n",
      "RangeIndex: 14149 entries, 0 to 14148\n",
      "Data columns (total 88 columns):\n",
      " #   Column                                              Non-Null Count  Dtype         \n",
      "---  ------                                              --------------  -----         \n",
      " 0   date                                                14149 non-null  datetime64[ns]\n",
      " 1   final.output.concentrate_ag                         14149 non-null  float64       \n",
      " 2   final.output.concentrate_pb                         14149 non-null  float64       \n",
      " 3   final.output.concentrate_sol                        14149 non-null  float64       \n",
      " 4   final.output.concentrate_au                         14149 non-null  float64       \n",
      " 5   final.output.recovery                               14149 non-null  float64       \n",
      " 6   final.output.tail_ag                                14149 non-null  float64       \n",
      " 7   final.output.tail_pb                                14149 non-null  float64       \n",
      " 8   final.output.tail_sol                               14149 non-null  float64       \n",
      " 9   final.output.tail_au                                14149 non-null  float64       \n",
      " 10  primary_cleaner.input.sulfate                       14149 non-null  float64       \n",
      " 11  primary_cleaner.input.depressant                    14149 non-null  float64       \n",
      " 12  primary_cleaner.input.feed_size                     14149 non-null  float64       \n",
      " 13  primary_cleaner.input.xanthate                      14149 non-null  float64       \n",
      " 14  primary_cleaner.output.concentrate_ag               14149 non-null  float64       \n",
      " 15  primary_cleaner.output.concentrate_pb               14149 non-null  float64       \n",
      " 16  primary_cleaner.output.concentrate_sol              14149 non-null  float64       \n",
      " 17  primary_cleaner.output.concentrate_au               14149 non-null  float64       \n",
      " 18  primary_cleaner.output.tail_ag                      14149 non-null  float64       \n",
      " 19  primary_cleaner.output.tail_pb                      14149 non-null  float64       \n",
      " 20  primary_cleaner.output.tail_sol                     14149 non-null  float64       \n",
      " 21  primary_cleaner.output.tail_au                      14149 non-null  float64       \n",
      " 22  primary_cleaner.state.floatbank8_a_air              14149 non-null  float64       \n",
      " 23  primary_cleaner.state.floatbank8_a_level            14149 non-null  float64       \n",
      " 24  primary_cleaner.state.floatbank8_b_air              14149 non-null  float64       \n",
      " 25  primary_cleaner.state.floatbank8_b_level            14149 non-null  float64       \n",
      " 26  primary_cleaner.state.floatbank8_c_air              14149 non-null  float64       \n",
      " 27  primary_cleaner.state.floatbank8_c_level            14149 non-null  float64       \n",
      " 28  primary_cleaner.state.floatbank8_d_air              14149 non-null  float64       \n",
      " 29  primary_cleaner.state.floatbank8_d_level            14149 non-null  float64       \n",
      " 30  rougher.calculation.sulfate_to_au_concentrate       14149 non-null  float64       \n",
      " 31  rougher.calculation.floatbank10_sulfate_to_au_feed  14149 non-null  float64       \n",
      " 32  rougher.calculation.floatbank11_sulfate_to_au_feed  14149 non-null  float64       \n",
      " 33  rougher.calculation.au_pb_ratio                     14149 non-null  float64       \n",
      " 34  rougher.input.feed_ag                               14149 non-null  float64       \n",
      " 35  rougher.input.feed_pb                               14149 non-null  float64       \n",
      " 36  rougher.input.feed_rate                             14149 non-null  float64       \n",
      " 37  rougher.input.feed_size                             14149 non-null  float64       \n",
      " 38  rougher.input.feed_sol                              14149 non-null  float64       \n",
      " 39  rougher.input.feed_au                               14149 non-null  float64       \n",
      " 40  rougher.input.floatbank10_sulfate                   14149 non-null  float64       \n",
      " 41  rougher.input.floatbank10_xanthate                  14149 non-null  float64       \n",
      " 42  rougher.input.floatbank11_sulfate                   14149 non-null  float64       \n",
      " 43  rougher.input.floatbank11_xanthate                  14149 non-null  float64       \n",
      " 44  rougher.output.concentrate_ag                       14149 non-null  float64       \n",
      " 45  rougher.output.concentrate_pb                       14149 non-null  float64       \n",
      " 46  rougher.output.concentrate_sol                      14149 non-null  float64       \n",
      " 47  rougher.output.concentrate_au                       14149 non-null  float64       \n",
      " 48  rougher.output.recovery                             14149 non-null  float64       \n",
      " 49  rougher.output.tail_ag                              14149 non-null  float64       \n",
      " 50  rougher.output.tail_pb                              14149 non-null  float64       \n",
      " 51  rougher.output.tail_sol                             14149 non-null  float64       \n",
      " 52  rougher.output.tail_au                              14149 non-null  float64       \n",
      " 53  rougher.state.floatbank10_a_air                     14149 non-null  float64       \n",
      " 54  rougher.state.floatbank10_a_level                   14149 non-null  float64       \n",
      " 55  rougher.state.floatbank10_b_air                     14149 non-null  float64       \n",
      " 56  rougher.state.floatbank10_b_level                   14149 non-null  float64       \n",
      " 57  rougher.state.floatbank10_c_air                     14149 non-null  float64       \n",
      " 58  rougher.state.floatbank10_c_level                   14149 non-null  float64       \n",
      " 59  rougher.state.floatbank10_d_air                     14149 non-null  float64       \n",
      " 60  rougher.state.floatbank10_d_level                   14149 non-null  float64       \n",
      " 61  rougher.state.floatbank10_e_air                     14149 non-null  float64       \n",
      " 62  rougher.state.floatbank10_e_level                   14149 non-null  float64       \n",
      " 63  rougher.state.floatbank10_f_air                     14149 non-null  float64       \n",
      " 64  rougher.state.floatbank10_f_level                   14149 non-null  float64       \n",
      " 65  secondary_cleaner.output.tail_ag                    14149 non-null  float64       \n",
      " 66  secondary_cleaner.output.tail_pb                    14149 non-null  float64       \n",
      " 67  secondary_cleaner.output.tail_sol                   14149 non-null  float64       \n",
      " 68  secondary_cleaner.output.tail_au                    14149 non-null  float64       \n",
      " 69  secondary_cleaner.state.floatbank2_a_air            14149 non-null  float64       \n",
      " 70  secondary_cleaner.state.floatbank2_a_level          14149 non-null  float64       \n",
      " 71  secondary_cleaner.state.floatbank2_b_air            14149 non-null  float64       \n",
      " 72  secondary_cleaner.state.floatbank2_b_level          14149 non-null  float64       \n",
      " 73  secondary_cleaner.state.floatbank3_a_air            14149 non-null  float64       \n",
      " 74  secondary_cleaner.state.floatbank3_a_level          14149 non-null  float64       \n",
      " 75  secondary_cleaner.state.floatbank3_b_air            14149 non-null  float64       \n",
      " 76  secondary_cleaner.state.floatbank3_b_level          14149 non-null  float64       \n",
      " 77  secondary_cleaner.state.floatbank4_a_air            14149 non-null  float64       \n",
      " 78  secondary_cleaner.state.floatbank4_a_level          14149 non-null  float64       \n",
      " 79  secondary_cleaner.state.floatbank4_b_air            14149 non-null  float64       \n",
      " 80  secondary_cleaner.state.floatbank4_b_level          14149 non-null  float64       \n",
      " 81  secondary_cleaner.state.floatbank5_a_air            14149 non-null  float64       \n",
      " 82  secondary_cleaner.state.floatbank5_a_level          14149 non-null  float64       \n",
      " 83  secondary_cleaner.state.floatbank5_b_air            14149 non-null  float64       \n",
      " 84  secondary_cleaner.state.floatbank5_b_level          14149 non-null  float64       \n",
      " 85  secondary_cleaner.state.floatbank6_a_air            14149 non-null  float64       \n",
      " 86  secondary_cleaner.state.floatbank6_a_level          14149 non-null  float64       \n",
      " 87  recovery                                            14149 non-null  float64       \n",
      "dtypes: datetime64[ns](1), float64(87)\n",
      "memory usage: 9.5 MB\n",
      "None\n"
     ]
    }
   ],
   "source": [
    "train_data['secondary_cleaner.output.tail_sol'] = train_data['secondary_cleaner.output.tail_sol'].fillna(0)\n",
    "train_data = train_data.fillna(train_data.median())\n",
    "print(data_info(train_data))"
   ]
  },
  {
   "cell_type": "markdown",
   "metadata": {},
   "source": [
    "Изначально было 14148, после удаления пропусков осталось 12245. Также дата теперь имеет нужный тип."
   ]
  },
  {
   "cell_type": "markdown",
   "metadata": {},
   "source": [
    "<b>Исходные данные</b>"
   ]
  },
  {
   "cell_type": "code",
   "execution_count": 33,
   "metadata": {},
   "outputs": [],
   "source": [
    "to_date(data)"
   ]
  },
  {
   "cell_type": "code",
   "execution_count": 34,
   "metadata": {},
   "outputs": [
    {
     "data": {
      "text/plain": [
       "date                                                  0.000000\n",
       "rougher.state.floatbank10_f_level                     0.000000\n",
       "rougher.output.concentrate_pb                         0.000000\n",
       "rougher.state.floatbank10_f_air                       0.000000\n",
       "rougher.state.floatbank10_e_level                     0.000000\n",
       "rougher.state.floatbank10_d_level                     0.000000\n",
       "rougher.state.floatbank10_d_air                       0.000000\n",
       "secondary_cleaner.output.tail_au                      0.000000\n",
       "rougher.output.tail_au                                0.000000\n",
       "rougher.input.feed_ag                                 0.000000\n",
       "rougher.output.tail_sol                               0.000000\n",
       "rougher.output.tail_pb                                0.000000\n",
       "rougher.output.recovery                               0.000000\n",
       "rougher.input.feed_au                                 0.000000\n",
       "rougher.output.concentrate_au                         0.000000\n",
       "rougher.calculation.au_pb_ratio                       0.000000\n",
       "primary_cleaner.output.concentrate_au                 0.000000\n",
       "primary_cleaner.output.tail_au                        0.000000\n",
       "rougher.output.concentrate_ag                         0.000000\n",
       "primary_cleaner.output.concentrate_ag                 0.000000\n",
       "primary_cleaner.input.feed_size                       0.000000\n",
       "final.output.tail_au                                  0.000000\n",
       "final.output.concentrate_au                           0.000000\n",
       "final.output.recovery                                 0.000000\n",
       "secondary_cleaner.state.floatbank5_b_level            0.000051\n",
       "secondary_cleaner.state.floatbank5_b_air              0.000051\n",
       "secondary_cleaner.state.floatbank5_a_level            0.000051\n",
       "rougher.output.tail_ag                                0.000051\n",
       "secondary_cleaner.state.floatbank5_a_air              0.000051\n",
       "secondary_cleaner.state.floatbank4_b_level            0.000051\n",
       "secondary_cleaner.state.floatbank4_b_air              0.000051\n",
       "secondary_cleaner.state.floatbank2_a_level            0.000051\n",
       "secondary_cleaner.state.floatbank2_b_level            0.000051\n",
       "rougher.state.floatbank10_b_air                       0.000051\n",
       "rougher.state.floatbank10_b_level                     0.000051\n",
       "rougher.state.floatbank10_c_air                       0.000051\n",
       "rougher.state.floatbank10_c_level                     0.000051\n",
       "secondary_cleaner.state.floatbank4_a_level            0.000051\n",
       "secondary_cleaner.state.floatbank3_b_level            0.000051\n",
       "secondary_cleaner.state.floatbank3_b_air              0.000051\n",
       "secondary_cleaner.state.floatbank3_a_level            0.000051\n",
       "rougher.state.floatbank10_a_air                       0.000051\n",
       "rougher.state.floatbank10_a_level                     0.000051\n",
       "secondary_cleaner.state.floatbank6_a_level            0.000051\n",
       "primary_cleaner.state.floatbank8_a_level              0.000051\n",
       "primary_cleaner.state.floatbank8_b_level              0.000051\n",
       "final.output.concentrate_ag                           0.000051\n",
       "final.output.concentrate_pb                           0.000051\n",
       "primary_cleaner.state.floatbank8_c_level              0.000051\n",
       "final.output.tail_ag                                  0.000051\n",
       "primary_cleaner.state.floatbank8_d_level              0.000051\n",
       "secondary_cleaner.output.tail_ag                      0.000103\n",
       "secondary_cleaner.state.floatbank6_a_air              0.000103\n",
       "rougher.calculation.sulfate_to_au_concentrate         0.000103\n",
       "primary_cleaner.state.floatbank8_c_air                0.000103\n",
       "rougher.calculation.floatbank11_sulfate_to_au_feed    0.000103\n",
       "rougher.calculation.floatbank10_sulfate_to_au_feed    0.000103\n",
       "primary_cleaner.state.floatbank8_d_air                0.000154\n",
       "primary_cleaner.output.tail_ag                        0.000206\n",
       "primary_cleaner.state.floatbank8_b_air                0.000206\n",
       "primary_cleaner.state.floatbank8_a_air                0.000206\n",
       "final.output.tail_sol                                 0.000309\n",
       "secondary_cleaner.state.floatbank4_a_air              0.000309\n",
       "rougher.input.floatbank10_xanthate                    0.000412\n",
       "rougher.input.feed_rate                               0.000566\n",
       "secondary_cleaner.output.tail_pb                      0.000617\n",
       "secondary_cleaner.state.floatbank3_a_air              0.000669\n",
       "primary_cleaner.output.tail_pb                        0.001080\n",
       "rougher.output.concentrate_sol                        0.001183\n",
       "secondary_cleaner.state.floatbank2_b_air              0.001183\n",
       "primary_cleaner.input.sulfate                         0.001235\n",
       "rougher.input.floatbank10_sulfate                     0.001749\n",
       "primary_cleaner.input.depressant                      0.001903\n",
       "rougher.input.floatbank11_sulfate                     0.002263\n",
       "primary_cleaner.output.tail_sol                       0.003189\n",
       "rougher.input.feed_sol                                0.005093\n",
       "rougher.input.feed_pb                                 0.005144\n",
       "final.output.tail_pb                                  0.005196\n",
       "primary_cleaner.input.xanthate                        0.005350\n",
       "primary_cleaner.output.concentrate_pb                 0.005967\n",
       "rougher.input.feed_size                               0.007459\n",
       "final.output.concentrate_sol                          0.010854\n",
       "secondary_cleaner.state.floatbank2_a_air              0.011317\n",
       "primary_cleaner.output.concentrate_sol                0.019034\n",
       "rougher.state.floatbank10_e_air                       0.022429\n",
       "rougher.input.floatbank11_xanthate                    0.023304\n",
       "secondary_cleaner.output.tail_sol                     0.089922\n",
       "dtype: float64"
      ]
     },
     "execution_count": 34,
     "metadata": {},
     "output_type": "execute_result"
    }
   ],
   "source": [
    "na_mean(data)"
   ]
  },
  {
   "cell_type": "markdown",
   "metadata": {},
   "source": [
    "Также как и в случае с тестовой выборкой заменим пропущенные значения в столбце secondary_cleaner.output.tail_sol на 0. А остальные значения удалим."
   ]
  },
  {
   "cell_type": "code",
   "execution_count": 35,
   "metadata": {},
   "outputs": [
    {
     "name": "stdout",
     "output_type": "stream",
     "text": [
      "<class 'pandas.core.frame.DataFrame'>\n",
      "RangeIndex: 19439 entries, 0 to 19438\n",
      "Data columns (total 87 columns):\n",
      " #   Column                                              Non-Null Count  Dtype         \n",
      "---  ------                                              --------------  -----         \n",
      " 0   date                                                19439 non-null  datetime64[ns]\n",
      " 1   final.output.concentrate_ag                         19439 non-null  float64       \n",
      " 2   final.output.concentrate_pb                         19439 non-null  float64       \n",
      " 3   final.output.concentrate_sol                        19439 non-null  float64       \n",
      " 4   final.output.concentrate_au                         19439 non-null  float64       \n",
      " 5   final.output.recovery                               19439 non-null  float64       \n",
      " 6   final.output.tail_ag                                19439 non-null  float64       \n",
      " 7   final.output.tail_pb                                19439 non-null  float64       \n",
      " 8   final.output.tail_sol                               19439 non-null  float64       \n",
      " 9   final.output.tail_au                                19439 non-null  float64       \n",
      " 10  primary_cleaner.input.sulfate                       19439 non-null  float64       \n",
      " 11  primary_cleaner.input.depressant                    19439 non-null  float64       \n",
      " 12  primary_cleaner.input.feed_size                     19439 non-null  float64       \n",
      " 13  primary_cleaner.input.xanthate                      19439 non-null  float64       \n",
      " 14  primary_cleaner.output.concentrate_ag               19439 non-null  float64       \n",
      " 15  primary_cleaner.output.concentrate_pb               19439 non-null  float64       \n",
      " 16  primary_cleaner.output.concentrate_sol              19439 non-null  float64       \n",
      " 17  primary_cleaner.output.concentrate_au               19439 non-null  float64       \n",
      " 18  primary_cleaner.output.tail_ag                      19439 non-null  float64       \n",
      " 19  primary_cleaner.output.tail_pb                      19439 non-null  float64       \n",
      " 20  primary_cleaner.output.tail_sol                     19439 non-null  float64       \n",
      " 21  primary_cleaner.output.tail_au                      19439 non-null  float64       \n",
      " 22  primary_cleaner.state.floatbank8_a_air              19439 non-null  float64       \n",
      " 23  primary_cleaner.state.floatbank8_a_level            19439 non-null  float64       \n",
      " 24  primary_cleaner.state.floatbank8_b_air              19439 non-null  float64       \n",
      " 25  primary_cleaner.state.floatbank8_b_level            19439 non-null  float64       \n",
      " 26  primary_cleaner.state.floatbank8_c_air              19439 non-null  float64       \n",
      " 27  primary_cleaner.state.floatbank8_c_level            19439 non-null  float64       \n",
      " 28  primary_cleaner.state.floatbank8_d_air              19439 non-null  float64       \n",
      " 29  primary_cleaner.state.floatbank8_d_level            19439 non-null  float64       \n",
      " 30  rougher.calculation.sulfate_to_au_concentrate       19439 non-null  float64       \n",
      " 31  rougher.calculation.floatbank10_sulfate_to_au_feed  19439 non-null  float64       \n",
      " 32  rougher.calculation.floatbank11_sulfate_to_au_feed  19439 non-null  float64       \n",
      " 33  rougher.calculation.au_pb_ratio                     19439 non-null  float64       \n",
      " 34  rougher.input.feed_ag                               19439 non-null  float64       \n",
      " 35  rougher.input.feed_pb                               19439 non-null  float64       \n",
      " 36  rougher.input.feed_rate                             19439 non-null  float64       \n",
      " 37  rougher.input.feed_size                             19439 non-null  float64       \n",
      " 38  rougher.input.feed_sol                              19439 non-null  float64       \n",
      " 39  rougher.input.feed_au                               19439 non-null  float64       \n",
      " 40  rougher.input.floatbank10_sulfate                   19439 non-null  float64       \n",
      " 41  rougher.input.floatbank10_xanthate                  19439 non-null  float64       \n",
      " 42  rougher.input.floatbank11_sulfate                   19439 non-null  float64       \n",
      " 43  rougher.input.floatbank11_xanthate                  19439 non-null  float64       \n",
      " 44  rougher.output.concentrate_ag                       19439 non-null  float64       \n",
      " 45  rougher.output.concentrate_pb                       19439 non-null  float64       \n",
      " 46  rougher.output.concentrate_sol                      19439 non-null  float64       \n",
      " 47  rougher.output.concentrate_au                       19439 non-null  float64       \n",
      " 48  rougher.output.recovery                             19439 non-null  float64       \n",
      " 49  rougher.output.tail_ag                              19439 non-null  float64       \n",
      " 50  rougher.output.tail_pb                              19439 non-null  float64       \n",
      " 51  rougher.output.tail_sol                             19439 non-null  float64       \n",
      " 52  rougher.output.tail_au                              19439 non-null  float64       \n",
      " 53  rougher.state.floatbank10_a_air                     19439 non-null  float64       \n",
      " 54  rougher.state.floatbank10_a_level                   19439 non-null  float64       \n",
      " 55  rougher.state.floatbank10_b_air                     19439 non-null  float64       \n",
      " 56  rougher.state.floatbank10_b_level                   19439 non-null  float64       \n",
      " 57  rougher.state.floatbank10_c_air                     19439 non-null  float64       \n",
      " 58  rougher.state.floatbank10_c_level                   19439 non-null  float64       \n",
      " 59  rougher.state.floatbank10_d_air                     19439 non-null  float64       \n",
      " 60  rougher.state.floatbank10_d_level                   19439 non-null  float64       \n",
      " 61  rougher.state.floatbank10_e_air                     19439 non-null  float64       \n",
      " 62  rougher.state.floatbank10_e_level                   19439 non-null  float64       \n",
      " 63  rougher.state.floatbank10_f_air                     19439 non-null  float64       \n",
      " 64  rougher.state.floatbank10_f_level                   19439 non-null  float64       \n",
      " 65  secondary_cleaner.output.tail_ag                    19439 non-null  float64       \n",
      " 66  secondary_cleaner.output.tail_pb                    19439 non-null  float64       \n",
      " 67  secondary_cleaner.output.tail_sol                   19439 non-null  float64       \n",
      " 68  secondary_cleaner.output.tail_au                    19439 non-null  float64       \n",
      " 69  secondary_cleaner.state.floatbank2_a_air            19439 non-null  float64       \n",
      " 70  secondary_cleaner.state.floatbank2_a_level          19439 non-null  float64       \n",
      " 71  secondary_cleaner.state.floatbank2_b_air            19439 non-null  float64       \n",
      " 72  secondary_cleaner.state.floatbank2_b_level          19439 non-null  float64       \n",
      " 73  secondary_cleaner.state.floatbank3_a_air            19439 non-null  float64       \n",
      " 74  secondary_cleaner.state.floatbank3_a_level          19439 non-null  float64       \n",
      " 75  secondary_cleaner.state.floatbank3_b_air            19439 non-null  float64       \n",
      " 76  secondary_cleaner.state.floatbank3_b_level          19439 non-null  float64       \n",
      " 77  secondary_cleaner.state.floatbank4_a_air            19439 non-null  float64       \n",
      " 78  secondary_cleaner.state.floatbank4_a_level          19439 non-null  float64       \n",
      " 79  secondary_cleaner.state.floatbank4_b_air            19439 non-null  float64       \n",
      " 80  secondary_cleaner.state.floatbank4_b_level          19439 non-null  float64       \n",
      " 81  secondary_cleaner.state.floatbank5_a_air            19439 non-null  float64       \n",
      " 82  secondary_cleaner.state.floatbank5_a_level          19439 non-null  float64       \n",
      " 83  secondary_cleaner.state.floatbank5_b_air            19439 non-null  float64       \n",
      " 84  secondary_cleaner.state.floatbank5_b_level          19439 non-null  float64       \n",
      " 85  secondary_cleaner.state.floatbank6_a_air            19439 non-null  float64       \n",
      " 86  secondary_cleaner.state.floatbank6_a_level          19439 non-null  float64       \n",
      "dtypes: datetime64[ns](1), float64(86)\n",
      "memory usage: 12.9 MB\n",
      "None\n"
     ]
    }
   ],
   "source": [
    "data['secondary_cleaner.output.tail_sol'] = data['secondary_cleaner.output.tail_sol'].fillna(0)\n",
    "data = data.fillna(data.median())\n",
    "print(data_info(data))"
   ]
  },
  {
   "cell_type": "markdown",
   "metadata": {},
   "source": [
    "<b>Вывод:</b> теперь данные очищены от пропусков и приведены к нужному типу"
   ]
  },
  {
   "cell_type": "markdown",
   "metadata": {},
   "source": [
    "## Анализ данных"
   ]
  },
  {
   "cell_type": "markdown",
   "metadata": {},
   "source": [
    "### Концентрация металлов (Au, Ag, Pb) на различных этапах очистки"
   ]
  },
  {
   "cell_type": "markdown",
   "metadata": {},
   "source": [
    "#### Концентрация золота(au)"
   ]
  },
  {
   "cell_type": "code",
   "execution_count": 36,
   "metadata": {},
   "outputs": [
    {
     "data": {
      "text/plain": [
       "Text(0, 0.5, 'Частота встречаемости')"
      ]
     },
     "execution_count": 36,
     "metadata": {},
     "output_type": "execute_result"
    },
    {
     "data": {
      "image/png": "[encoded data removed]",
      "text/plain": [
       "<Figure size 504x360 with 1 Axes>"
      ]
     },
     "metadata": {
      "needs_background": "light"
     },
     "output_type": "display_data"
    }
   ],
   "source": [
    "au_input = train_data['rougher.input.feed_au'] \n",
    "au_after_rougher = train_data['rougher.output.concentrate_au']\n",
    "au_after_primary_cleaner = train_data['primary_cleaner.output.concentrate_au']\n",
    "final_au = train_data['final.output.concentrate_au']\n",
    "\n",
    "plt.figure(figsize=(7, 5))\n",
    "plt.hist(au_input, label = 'Начальная концентрация', bins = 50, alpha = 0.7)\n",
    "plt.hist(au_after_rougher, label = 'Концентрация au после флотации', bins = 50, alpha = 0.7)\n",
    "plt.hist(au_after_primary_cleaner, label = 'Концентрация au после первого этапа очистки', bins = 50, alpha = 0.7)\n",
    "plt.hist(final_au, label = 'Финальная концентрация au', bins = 50, alpha = 0.7)\n",
    "plt.title('Концентрация золота')\n",
    "plt.legend()\n",
    "plt.xlabel('Концентрация')\n",
    "plt.ylabel('Частота встречаемости')"
   ]
  },
  {
   "cell_type": "markdown",
   "metadata": {},
   "source": [
    "Концентрация золота с каждым этапом очистки увеличивается, но можно заметить выбросы около нуля"
   ]
  },
  {
   "cell_type": "markdown",
   "metadata": {},
   "source": [
    "#### Концентрация серебра(ag)"
   ]
  },
  {
   "cell_type": "code",
   "execution_count": 37,
   "metadata": {},
   "outputs": [
    {
     "data": {
      "text/plain": [
       "Text(0, 0.5, 'Частота встречаемости')"
      ]
     },
     "execution_count": 37,
     "metadata": {},
     "output_type": "execute_result"
    },
    {
     "data": {
      "image/png": "[encoded data removed]",
      "text/plain": [
       "<Figure size 648x360 with 1 Axes>"
      ]
     },
     "metadata": {
      "needs_background": "light"
     },
     "output_type": "display_data"
    }
   ],
   "source": [
    "ag_input = train_data['rougher.input.feed_ag'] \n",
    "ag_after_rougher = train_data['rougher.output.concentrate_ag']\n",
    "ag_after_primary_cleaner = train_data['primary_cleaner.output.concentrate_ag']\n",
    "final_ag = train_data['final.output.concentrate_ag']\n",
    "\n",
    "plt.figure(figsize=(9, 5))\n",
    "plt.hist(ag_input, label = 'Начальная концентрация', bins = 50, alpha = 0.7)\n",
    "plt.hist(ag_after_rougher, label = 'Концентрация ag после флотации', bins = 50, alpha = 0.7)\n",
    "plt.hist(ag_after_primary_cleaner, label = 'Концентрация ag после первого этапа очистки', bins = 50, alpha = 0.7)\n",
    "plt.hist(final_ag, label = 'Финальная концентрация ag', bins = 50, alpha = 0.7)\n",
    "plt.title('Концентрация серебра')\n",
    "plt.legend()\n",
    "plt.xlabel('Концентрация')\n",
    "plt.ylabel('Частота встречаемости')"
   ]
  },
  {
   "cell_type": "markdown",
   "metadata": {},
   "source": [
    "После флотация концентрация серебра увеличивается, далее происходит уменьшение концентрации серебра. Также, как и в случае с золотом заметны выбросы около нуля"
   ]
  },
  {
   "cell_type": "markdown",
   "metadata": {},
   "source": [
    "#### Концентрация свинца(pb)"
   ]
  },
  {
   "cell_type": "code",
   "execution_count": 38,
   "metadata": {},
   "outputs": [
    {
     "data": {
      "text/plain": [
       "Text(0, 0.5, 'Частота встречаемости')"
      ]
     },
     "execution_count": 38,
     "metadata": {},
     "output_type": "execute_result"
    },
    {
     "data": {
      "image/png": "[encoded data removed]",
      "text/plain": [
       "<Figure size 648x504 with 1 Axes>"
      ]
     },
     "metadata": {
      "needs_background": "light"
     },
     "output_type": "display_data"
    }
   ],
   "source": [
    "pb_input = train_data['rougher.input.feed_pb'] \n",
    "pb_after_rougher = train_data['rougher.output.concentrate_pb']\n",
    "pb_after_primary_cleaner = train_data['primary_cleaner.output.concentrate_pb']\n",
    "final_pb = train_data['final.output.concentrate_pb']\n",
    "\n",
    "plt.figure(figsize=(9, 7))\n",
    "plt.hist(pb_input, label = 'Начальная концентрация', bins = 50, alpha = 0.7)\n",
    "plt.hist(pb_after_rougher, label = 'Концентрация pb после флотации', bins = 50, alpha = 0.7)\n",
    "plt.hist(pb_after_primary_cleaner, label = 'Концентрация pb после первого этапа очистки', bins = 50, alpha = 0.7)\n",
    "plt.hist(final_pb, label = 'Финальная концентрация pb', bins = 50, alpha = 0.7)\n",
    "plt.title('Концентрация свинца')\n",
    "plt.legend()\n",
    "plt.xlabel('Концентрация')\n",
    "plt.ylabel('Частота встречаемости')"
   ]
  },
  {
   "cell_type": "markdown",
   "metadata": {},
   "source": [
    "После этапа флотации концентрация свинца увеличивается, далее концентрация увеличивается после первого этапа очистки, но остается примерно неизменной к финальному этапу очистки"
   ]
  },
  {
   "cell_type": "markdown",
   "metadata": {},
   "source": [
    "<b>Вывод:</b> на гистограммах концентраций по всем 3 веществам (золото, серебро, свинец) заметны выбросы около нуля"
   ]
  },
  {
   "cell_type": "markdown",
   "metadata": {},
   "source": [
    "### Распределение размеров гранул сырья на обучающей и тестовой выборках"
   ]
  },
  {
   "cell_type": "code",
   "execution_count": 39,
   "metadata": {},
   "outputs": [
    {
     "name": "stdout",
     "output_type": "stream",
     "text": [
      "Средний размер гранул в обучающей выборке 60.06231145317479\n",
      "Средний размер гранул в тестовой выборке 55.950131461159394\n"
     ]
    },
    {
     "data": {
      "text/plain": [
       "Text(0, 0.5, 'Частота встречаемости')"
      ]
     },
     "execution_count": 39,
     "metadata": {},
     "output_type": "execute_result"
    },
    {
     "data": {
      "image/png": "[encoded data removed]",
      "text/plain": [
       "<Figure size 432x360 with 1 Axes>"
      ]
     },
     "metadata": {
      "needs_background": "light"
     },
     "output_type": "display_data"
    }
   ],
   "source": [
    "print('Средний размер гранул в обучающей выборке', train_data['rougher.input.feed_size'].mean())\n",
    "print('Средний размер гранул в тестовой выборке', test_data['rougher.input.feed_size'].mean())\n",
    "\n",
    "plt.figure(figsize=(6, 5))\n",
    "plt.hist(train_data['rougher.input.feed_size'], label = 'Размер гранул в обучающей выборке', bins = 50, density = True, alpha = 0.7)\n",
    "plt.hist(test_data['rougher.input.feed_size'], label = 'Размер гранул в тестовой выборке', bins = 50, density = True, alpha = 0.7)\n",
    "plt.title('Распределение размеров гранул сырья для обучающей и тестовой выборок')\n",
    "plt.legend()\n",
    "plt.xlabel('Размер гранул')\n",
    "plt.ylabel('Частота встречаемости')"
   ]
  },
  {
   "cell_type": "markdown",
   "metadata": {},
   "source": [
    "Размер гранул сырья для обучающей и тестовой выборок примерно одинаковый"
   ]
  },
  {
   "cell_type": "markdown",
   "metadata": {},
   "source": [
    "### Суммарная концентрация всех веществ на разных стадиях: в сырье, в черновом и финальном концентратах"
   ]
  },
  {
   "cell_type": "markdown",
   "metadata": {},
   "source": [
    "#### Суммарная концентрация в обучающей выборке"
   ]
  },
  {
   "cell_type": "code",
   "execution_count": 40,
   "metadata": {},
   "outputs": [
    {
     "data": {
      "text/plain": [
       "Text(0, 0.5, 'Частота встречаемости')"
      ]
     },
     "execution_count": 40,
     "metadata": {},
     "output_type": "execute_result"
    },
    {
     "data": {
      "image/png": "[encoded data removed]",
      "text/plain": [
       "<Figure size 504x360 with 1 Axes>"
      ]
     },
     "metadata": {
      "needs_background": "light"
     },
     "output_type": "display_data"
    }
   ],
   "source": [
    "sum_concentration_input = train_data['rougher.input.feed_ag'] + train_data['rougher.input.feed_pb'] + train_data['rougher.input.feed_sol'] + train_data['rougher.input.feed_au'] \n",
    "sum_concentration_after_rougher =  train_data['rougher.output.concentrate_ag'] + train_data['rougher.output.concentrate_pb'] + train_data['rougher.output.concentrate_sol'] + train_data['rougher.output.concentrate_au']\n",
    "final_concentration = train_data['final.output.concentrate_ag'] + train_data['final.output.concentrate_pb'] + train_data['final.output.concentrate_sol'] + train_data['final.output.concentrate_au']\n",
    "\n",
    "plt.figure(figsize=(7, 5))\n",
    "plt.hist(sum_concentration_input, label = 'Концентрация в сырье', bins = 50, alpha = 0.7)\n",
    "plt.hist(sum_concentration_after_rougher, label = 'Концентрация в черновом концентрате', bins = 50, alpha = 0.7)\n",
    "plt.hist(final_concentration, label = 'Концентрация в финальном концентрате', bins = 50, alpha = 0.7)\n",
    "plt.title('Суммарная концентрация веществ на разных стадиях')\n",
    "plt.legend()\n",
    "plt.xlabel('Суммарная концентрация')\n",
    "plt.ylabel('Частота встречаемости')"
   ]
  },
  {
   "cell_type": "markdown",
   "metadata": {},
   "source": [
    "На графике около нуля можно наблюдать аномальные значения, то есть те, где суммарная концентрация веществ близка к нулю. Следует избавится от аномалии и удалить те значения, где концентрация веществ равна 0."
   ]
  },
  {
   "cell_type": "code",
   "execution_count": 41,
   "metadata": {},
   "outputs": [],
   "source": [
    "train_data = train_data.drop(train_data[train_data['rougher.input.feed_ag'] == 0].index)\n",
    "train_data = train_data.drop(train_data[train_data['rougher.input.feed_pb'] == 0].index)\n",
    "train_data = train_data.drop(train_data[train_data['rougher.input.feed_sol'] == 0].index)\n",
    "train_data = train_data.drop(train_data[train_data['rougher.input.feed_au'] == 0].index)\n",
    "\n",
    "train_data = train_data.drop(train_data[train_data['rougher.output.concentrate_ag'] == 0].index)\n",
    "train_data = train_data.drop(train_data[train_data['rougher.output.concentrate_pb'] == 0].index)\n",
    "train_data = train_data.drop(train_data[train_data['rougher.output.concentrate_sol'] == 0].index)\n",
    "train_data = train_data.drop(train_data[train_data['rougher.output.concentrate_au'] == 0].index)\n",
    "\n",
    "train_data = train_data.drop(train_data[train_data['final.output.concentrate_ag'] == 0].index)\n",
    "train_data = train_data.drop(train_data[train_data['final.output.concentrate_pb'] == 0].index)\n",
    "train_data = train_data.drop(train_data[train_data['final.output.concentrate_sol'] == 0].index)\n",
    "train_data = train_data.drop(train_data[train_data['final.output.concentrate_au'] == 0].index)"
   ]
  },
  {
   "cell_type": "code",
   "execution_count": 42,
   "metadata": {},
   "outputs": [
    {
     "data": {
      "text/plain": [
       "Text(0, 0.5, 'Частота встречаемости')"
      ]
     },
     "execution_count": 42,
     "metadata": {},
     "output_type": "execute_result"
    },
    {
     "data": {
      "image/png": "[encoded data removed]",
      "text/plain": [
       "<Figure size 504x360 with 1 Axes>"
      ]
     },
     "metadata": {
      "needs_background": "light"
     },
     "output_type": "display_data"
    }
   ],
   "source": [
    "sum_concentration_input = train_data['rougher.input.feed_ag'] + train_data['rougher.input.feed_pb'] + train_data['rougher.input.feed_sol'] + train_data['rougher.input.feed_au'] \n",
    "sum_concentration_after_rougher =  train_data['rougher.output.concentrate_ag'] + train_data['rougher.output.concentrate_pb'] + train_data['rougher.output.concentrate_sol'] + train_data['rougher.output.concentrate_au']\n",
    "final_concentration = train_data['final.output.concentrate_ag'] + train_data['final.output.concentrate_pb'] + train_data['final.output.concentrate_sol'] + train_data['final.output.concentrate_au']\n",
    "\n",
    "plt.figure(figsize=(7, 5))\n",
    "plt.hist(sum_concentration_input, label = 'Концентрация в сырье', bins = 50, alpha = 0.7)\n",
    "plt.hist(sum_concentration_after_rougher, label = 'Концентрация в черновом концентрате', bins = 50, alpha = 0.7)\n",
    "plt.hist(final_concentration, label = 'Концентрация в финальном концентрате', bins = 50, alpha = 0.7)\n",
    "plt.title('Суммарная концентрация веществ на разных стадиях')\n",
    "plt.legend()\n",
    "plt.xlabel('Суммарная концентрация')\n",
    "plt.ylabel('Частота встречаемости')"
   ]
  },
  {
   "cell_type": "markdown",
   "metadata": {},
   "source": [
    "После удаления нулевых значений из нужных для расчета данных выбросов стало значительно меньше"
   ]
  },
  {
   "cell_type": "markdown",
   "metadata": {},
   "source": [
    "#### Суммарная концентрация в тестовой выборке"
   ]
  },
  {
   "cell_type": "code",
   "execution_count": 43,
   "metadata": {},
   "outputs": [
    {
     "data": {
      "text/plain": [
       "Text(0, 0.5, 'Частота встречаемости')"
      ]
     },
     "execution_count": 43,
     "metadata": {},
     "output_type": "execute_result"
    },
    {
     "data": {
      "image/png": "[encoded data removed]",
      "text/plain": [
       "<Figure size 504x360 with 1 Axes>"
      ]
     },
     "metadata": {
      "needs_background": "light"
     },
     "output_type": "display_data"
    }
   ],
   "source": [
    "sum_concentration_input_test = test_data['rougher.input.feed_ag'] + test_data['rougher.input.feed_pb'] + test_data['rougher.input.feed_sol'] + test_data['rougher.input.feed_au'] \n",
    "\n",
    "plt.figure(figsize=(7, 5))\n",
    "plt.hist(sum_concentration_input_test, label = 'Концентрация в сырье', bins = 50, alpha = 0.7)\n",
    "plt.title('Суммарная концентрация  сырье')\n",
    "plt.legend()\n",
    "plt.xlabel('Суммарная концентрация')\n",
    "plt.ylabel('Частота встречаемости')"
   ]
  },
  {
   "cell_type": "markdown",
   "metadata": {},
   "source": [
    "## Модель"
   ]
  },
  {
   "cell_type": "markdown",
   "metadata": {},
   "source": [
    "### Функция для вычисления итоговой sMAPE"
   ]
  },
  {
   "cell_type": "code",
   "execution_count": 44,
   "metadata": {},
   "outputs": [],
   "source": [
    "def smape(target, prediction):\n",
    "    target = np.array(target)\n",
    "    prediction = np.array(prediction)\n",
    "    return 1/len(target)*sum((abs(target-prediction))/((abs(target)+abs(prediction))/2))"
   ]
  },
  {
   "cell_type": "code",
   "execution_count": 45,
   "metadata": {},
   "outputs": [],
   "source": [
    "def final_smape(target, prediction):\n",
    "    target = np.array(target)\n",
    "    return 0.25 * smape(target[:, 0], prediction[:, 0]) + 0.75 * smape(target[:, 1], prediction[:, 1])"
   ]
  },
  {
   "cell_type": "markdown",
   "metadata": {},
   "source": [
    "### Обучение моделей и оценка их качества кросс-валидацией"
   ]
  },
  {
   "cell_type": "markdown",
   "metadata": {},
   "source": [
    "#### Подготовка выборок"
   ]
  },
  {
   "cell_type": "markdown",
   "metadata": {},
   "source": [
    "Для того, чтобы можно было работать с выборками создадим 2 новые выборки, для исходных данных и для тестовых данных, где в качестве индексов будет использоваться дата. Далее присоеденим к тестовой выборке 2 столбца из иходной выборки с эффективностью после флотации и финальной эффективностью."
   ]
  },
  {
   "cell_type": "code",
   "execution_count": 46,
   "metadata": {},
   "outputs": [
    {
     "data": {
      "text/html": [
       "<div>\n",
       "<style scoped>\n",
       "    .dataframe tbody tr th:only-of-type {\n",
       "        vertical-align: middle;\n",
       "    }\n",
       "\n",
       "    .dataframe tbody tr th {\n",
       "        vertical-align: top;\n",
       "    }\n",
       "\n",
       "    .dataframe thead th {\n",
       "        text-align: right;\n",
       "    }\n",
       "</style>\n",
       "<table border=\"1\" class=\"dataframe\">\n",
       "  <thead>\n",
       "    <tr style=\"text-align: right;\">\n",
       "      <th></th>\n",
       "      <th>primary_cleaner.input.sulfate</th>\n",
       "      <th>primary_cleaner.input.depressant</th>\n",
       "      <th>primary_cleaner.input.feed_size</th>\n",
       "      <th>primary_cleaner.input.xanthate</th>\n",
       "      <th>primary_cleaner.state.floatbank8_a_air</th>\n",
       "      <th>primary_cleaner.state.floatbank8_a_level</th>\n",
       "      <th>primary_cleaner.state.floatbank8_b_air</th>\n",
       "      <th>primary_cleaner.state.floatbank8_b_level</th>\n",
       "      <th>primary_cleaner.state.floatbank8_c_air</th>\n",
       "      <th>primary_cleaner.state.floatbank8_c_level</th>\n",
       "      <th>primary_cleaner.state.floatbank8_d_air</th>\n",
       "      <th>primary_cleaner.state.floatbank8_d_level</th>\n",
       "      <th>rougher.input.feed_ag</th>\n",
       "      <th>rougher.input.feed_pb</th>\n",
       "      <th>rougher.input.feed_rate</th>\n",
       "      <th>rougher.input.feed_size</th>\n",
       "      <th>rougher.input.feed_sol</th>\n",
       "      <th>rougher.input.feed_au</th>\n",
       "      <th>rougher.input.floatbank10_sulfate</th>\n",
       "      <th>rougher.input.floatbank10_xanthate</th>\n",
       "      <th>rougher.input.floatbank11_sulfate</th>\n",
       "      <th>rougher.input.floatbank11_xanthate</th>\n",
       "      <th>rougher.state.floatbank10_a_air</th>\n",
       "      <th>rougher.state.floatbank10_a_level</th>\n",
       "      <th>rougher.state.floatbank10_b_air</th>\n",
       "      <th>rougher.state.floatbank10_b_level</th>\n",
       "      <th>rougher.state.floatbank10_c_air</th>\n",
       "      <th>rougher.state.floatbank10_c_level</th>\n",
       "      <th>rougher.state.floatbank10_d_air</th>\n",
       "      <th>rougher.state.floatbank10_d_level</th>\n",
       "      <th>rougher.state.floatbank10_e_air</th>\n",
       "      <th>rougher.state.floatbank10_e_level</th>\n",
       "      <th>rougher.state.floatbank10_f_air</th>\n",
       "      <th>rougher.state.floatbank10_f_level</th>\n",
       "      <th>secondary_cleaner.state.floatbank2_a_air</th>\n",
       "      <th>secondary_cleaner.state.floatbank2_a_level</th>\n",
       "      <th>secondary_cleaner.state.floatbank2_b_air</th>\n",
       "      <th>secondary_cleaner.state.floatbank2_b_level</th>\n",
       "      <th>secondary_cleaner.state.floatbank3_a_air</th>\n",
       "      <th>secondary_cleaner.state.floatbank3_a_level</th>\n",
       "      <th>secondary_cleaner.state.floatbank3_b_air</th>\n",
       "      <th>secondary_cleaner.state.floatbank3_b_level</th>\n",
       "      <th>secondary_cleaner.state.floatbank4_a_air</th>\n",
       "      <th>secondary_cleaner.state.floatbank4_a_level</th>\n",
       "      <th>secondary_cleaner.state.floatbank4_b_air</th>\n",
       "      <th>secondary_cleaner.state.floatbank4_b_level</th>\n",
       "      <th>secondary_cleaner.state.floatbank5_a_air</th>\n",
       "      <th>secondary_cleaner.state.floatbank5_a_level</th>\n",
       "      <th>secondary_cleaner.state.floatbank5_b_air</th>\n",
       "      <th>secondary_cleaner.state.floatbank5_b_level</th>\n",
       "      <th>secondary_cleaner.state.floatbank6_a_air</th>\n",
       "      <th>secondary_cleaner.state.floatbank6_a_level</th>\n",
       "      <th>rougher.output.recovery</th>\n",
       "      <th>final.output.recovery</th>\n",
       "    </tr>\n",
       "  </thead>\n",
       "  <tbody>\n",
       "    <tr>\n",
       "      <th>0</th>\n",
       "      <td>210.800909</td>\n",
       "      <td>14.993118</td>\n",
       "      <td>8.080000</td>\n",
       "      <td>1.005021</td>\n",
       "      <td>1398.981301</td>\n",
       "      <td>-500.225577</td>\n",
       "      <td>1399.144926</td>\n",
       "      <td>-499.919735</td>\n",
       "      <td>1400.102998</td>\n",
       "      <td>-500.704369</td>\n",
       "      <td>1399.001695</td>\n",
       "      <td>-499.485144</td>\n",
       "      <td>13.128569</td>\n",
       "      <td>5.636710</td>\n",
       "      <td>489.793655</td>\n",
       "      <td>62.710452</td>\n",
       "      <td>42.022440</td>\n",
       "      <td>12.084103</td>\n",
       "      <td>16.922877</td>\n",
       "      <td>6.153479</td>\n",
       "      <td>16.867518</td>\n",
       "      <td>6.150709</td>\n",
       "      <td>1001.849317</td>\n",
       "      <td>-350.301265</td>\n",
       "      <td>1249.738612</td>\n",
       "      <td>-399.107531</td>\n",
       "      <td>1249.750520</td>\n",
       "      <td>-399.396730</td>\n",
       "      <td>1198.287855</td>\n",
       "      <td>-399.488594</td>\n",
       "      <td>999.472250</td>\n",
       "      <td>-399.530962</td>\n",
       "      <td>949.566189</td>\n",
       "      <td>-398.180807</td>\n",
       "      <td>24.938200</td>\n",
       "      <td>-500.490963</td>\n",
       "      <td>14.947607</td>\n",
       "      <td>-500.013837</td>\n",
       "      <td>20.018166</td>\n",
       "      <td>-450.395995</td>\n",
       "      <td>13.987058</td>\n",
       "      <td>-449.831513</td>\n",
       "      <td>12.023554</td>\n",
       "      <td>-497.795834</td>\n",
       "      <td>8.016656</td>\n",
       "      <td>-501.289139</td>\n",
       "      <td>7.946562</td>\n",
       "      <td>-432.317850</td>\n",
       "      <td>4.872511</td>\n",
       "      <td>-500.037437</td>\n",
       "      <td>26.705889</td>\n",
       "      <td>-499.709414</td>\n",
       "      <td>89.993421</td>\n",
       "      <td>70.273583</td>\n",
       "    </tr>\n",
       "    <tr>\n",
       "      <th>1</th>\n",
       "      <td>215.392455</td>\n",
       "      <td>14.987471</td>\n",
       "      <td>8.080000</td>\n",
       "      <td>0.990469</td>\n",
       "      <td>1398.777912</td>\n",
       "      <td>-500.057435</td>\n",
       "      <td>1398.055362</td>\n",
       "      <td>-499.778182</td>\n",
       "      <td>1396.151033</td>\n",
       "      <td>-499.240168</td>\n",
       "      <td>1399.508091</td>\n",
       "      <td>-500.416324</td>\n",
       "      <td>13.036280</td>\n",
       "      <td>5.526065</td>\n",
       "      <td>490.104534</td>\n",
       "      <td>61.961163</td>\n",
       "      <td>41.187903</td>\n",
       "      <td>11.918977</td>\n",
       "      <td>17.002532</td>\n",
       "      <td>5.999043</td>\n",
       "      <td>16.996063</td>\n",
       "      <td>6.002315</td>\n",
       "      <td>998.690785</td>\n",
       "      <td>-350.425704</td>\n",
       "      <td>1248.395457</td>\n",
       "      <td>-399.946025</td>\n",
       "      <td>1249.514451</td>\n",
       "      <td>-399.630810</td>\n",
       "      <td>1200.506459</td>\n",
       "      <td>-399.942434</td>\n",
       "      <td>1000.002114</td>\n",
       "      <td>-399.491528</td>\n",
       "      <td>950.200009</td>\n",
       "      <td>-405.787514</td>\n",
       "      <td>24.923466</td>\n",
       "      <td>-499.813963</td>\n",
       "      <td>14.930873</td>\n",
       "      <td>-500.764452</td>\n",
       "      <td>19.988503</td>\n",
       "      <td>-450.114024</td>\n",
       "      <td>14.092981</td>\n",
       "      <td>-450.059163</td>\n",
       "      <td>12.058140</td>\n",
       "      <td>-498.695773</td>\n",
       "      <td>8.130979</td>\n",
       "      <td>-499.634209</td>\n",
       "      <td>7.958270</td>\n",
       "      <td>-525.839648</td>\n",
       "      <td>4.878850</td>\n",
       "      <td>-500.162375</td>\n",
       "      <td>25.019940</td>\n",
       "      <td>-499.819438</td>\n",
       "      <td>88.089657</td>\n",
       "      <td>68.910432</td>\n",
       "    </tr>\n",
       "    <tr>\n",
       "      <th>2</th>\n",
       "      <td>215.259946</td>\n",
       "      <td>12.884934</td>\n",
       "      <td>7.786667</td>\n",
       "      <td>0.996043</td>\n",
       "      <td>1398.493666</td>\n",
       "      <td>-500.868360</td>\n",
       "      <td>1398.860436</td>\n",
       "      <td>-499.764529</td>\n",
       "      <td>1398.075709</td>\n",
       "      <td>-502.151509</td>\n",
       "      <td>1399.497088</td>\n",
       "      <td>-499.715479</td>\n",
       "      <td>13.138412</td>\n",
       "      <td>5.426561</td>\n",
       "      <td>489.617969</td>\n",
       "      <td>66.903807</td>\n",
       "      <td>42.546294</td>\n",
       "      <td>12.091332</td>\n",
       "      <td>16.992520</td>\n",
       "      <td>5.850632</td>\n",
       "      <td>16.982096</td>\n",
       "      <td>5.853594</td>\n",
       "      <td>998.516720</td>\n",
       "      <td>-349.783538</td>\n",
       "      <td>1247.440748</td>\n",
       "      <td>-400.264330</td>\n",
       "      <td>1248.207204</td>\n",
       "      <td>-401.074405</td>\n",
       "      <td>1199.770026</td>\n",
       "      <td>-400.790582</td>\n",
       "      <td>999.925519</td>\n",
       "      <td>-399.236999</td>\n",
       "      <td>950.320481</td>\n",
       "      <td>-400.864340</td>\n",
       "      <td>24.908732</td>\n",
       "      <td>-500.304035</td>\n",
       "      <td>14.996511</td>\n",
       "      <td>-500.993821</td>\n",
       "      <td>20.039689</td>\n",
       "      <td>-450.263164</td>\n",
       "      <td>14.077881</td>\n",
       "      <td>-449.660997</td>\n",
       "      <td>11.962366</td>\n",
       "      <td>-498.767484</td>\n",
       "      <td>8.096893</td>\n",
       "      <td>-500.827423</td>\n",
       "      <td>8.071056</td>\n",
       "      <td>-500.801673</td>\n",
       "      <td>4.905125</td>\n",
       "      <td>-499.828510</td>\n",
       "      <td>24.994862</td>\n",
       "      <td>-500.622559</td>\n",
       "      <td>88.412756</td>\n",
       "      <td>68.143213</td>\n",
       "    </tr>\n",
       "    <tr>\n",
       "      <th>3</th>\n",
       "      <td>215.336236</td>\n",
       "      <td>12.006805</td>\n",
       "      <td>7.640000</td>\n",
       "      <td>0.863514</td>\n",
       "      <td>1399.618111</td>\n",
       "      <td>-498.863574</td>\n",
       "      <td>1397.440120</td>\n",
       "      <td>-499.211024</td>\n",
       "      <td>1400.129303</td>\n",
       "      <td>-498.355873</td>\n",
       "      <td>1401.065165</td>\n",
       "      <td>-501.038738</td>\n",
       "      <td>12.400507</td>\n",
       "      <td>5.114758</td>\n",
       "      <td>476.618130</td>\n",
       "      <td>59.865919</td>\n",
       "      <td>41.060195</td>\n",
       "      <td>12.181597</td>\n",
       "      <td>16.532144</td>\n",
       "      <td>5.801935</td>\n",
       "      <td>16.515277</td>\n",
       "      <td>5.803657</td>\n",
       "      <td>1000.276604</td>\n",
       "      <td>-350.172597</td>\n",
       "      <td>1251.322675</td>\n",
       "      <td>-398.655289</td>\n",
       "      <td>1250.493702</td>\n",
       "      <td>-399.746728</td>\n",
       "      <td>1199.398691</td>\n",
       "      <td>-397.503052</td>\n",
       "      <td>1001.930679</td>\n",
       "      <td>-400.437573</td>\n",
       "      <td>950.735324</td>\n",
       "      <td>-399.802986</td>\n",
       "      <td>24.893998</td>\n",
       "      <td>-499.382374</td>\n",
       "      <td>14.916674</td>\n",
       "      <td>-499.862299</td>\n",
       "      <td>20.031100</td>\n",
       "      <td>-449.372570</td>\n",
       "      <td>14.013968</td>\n",
       "      <td>-449.526900</td>\n",
       "      <td>12.033091</td>\n",
       "      <td>-498.350935</td>\n",
       "      <td>8.074946</td>\n",
       "      <td>-499.474407</td>\n",
       "      <td>7.897085</td>\n",
       "      <td>-500.868509</td>\n",
       "      <td>4.931400</td>\n",
       "      <td>-499.963623</td>\n",
       "      <td>24.948919</td>\n",
       "      <td>-498.709987</td>\n",
       "      <td>87.360133</td>\n",
       "      <td>67.776393</td>\n",
       "    </tr>\n",
       "    <tr>\n",
       "      <th>4</th>\n",
       "      <td>199.099327</td>\n",
       "      <td>10.682530</td>\n",
       "      <td>7.530000</td>\n",
       "      <td>0.805575</td>\n",
       "      <td>1401.268123</td>\n",
       "      <td>-500.808305</td>\n",
       "      <td>1398.128818</td>\n",
       "      <td>-499.504543</td>\n",
       "      <td>1402.172226</td>\n",
       "      <td>-500.810606</td>\n",
       "      <td>1399.480508</td>\n",
       "      <td>-499.374053</td>\n",
       "      <td>11.327427</td>\n",
       "      <td>4.767383</td>\n",
       "      <td>488.248117</td>\n",
       "      <td>63.315324</td>\n",
       "      <td>41.269161</td>\n",
       "      <td>11.290425</td>\n",
       "      <td>13.607257</td>\n",
       "      <td>5.738081</td>\n",
       "      <td>13.650053</td>\n",
       "      <td>5.739634</td>\n",
       "      <td>996.541302</td>\n",
       "      <td>-350.562517</td>\n",
       "      <td>1304.658848</td>\n",
       "      <td>-399.511519</td>\n",
       "      <td>1306.455515</td>\n",
       "      <td>-399.050685</td>\n",
       "      <td>1248.699349</td>\n",
       "      <td>-400.876894</td>\n",
       "      <td>1058.839106</td>\n",
       "      <td>-398.988239</td>\n",
       "      <td>949.645313</td>\n",
       "      <td>-399.277632</td>\n",
       "      <td>24.886905</td>\n",
       "      <td>-499.357375</td>\n",
       "      <td>14.979233</td>\n",
       "      <td>-500.186804</td>\n",
       "      <td>19.962364</td>\n",
       "      <td>-450.638828</td>\n",
       "      <td>14.009245</td>\n",
       "      <td>-450.022259</td>\n",
       "      <td>12.025367</td>\n",
       "      <td>-500.786497</td>\n",
       "      <td>8.054678</td>\n",
       "      <td>-500.397500</td>\n",
       "      <td>8.107890</td>\n",
       "      <td>-509.526725</td>\n",
       "      <td>4.957674</td>\n",
       "      <td>-500.360026</td>\n",
       "      <td>25.003331</td>\n",
       "      <td>-500.856333</td>\n",
       "      <td>83.236367</td>\n",
       "      <td>61.467078</td>\n",
       "    </tr>\n",
       "    <tr>\n",
       "      <th>...</th>\n",
       "      <td>...</td>\n",
       "      <td>...</td>\n",
       "      <td>...</td>\n",
       "      <td>...</td>\n",
       "      <td>...</td>\n",
       "      <td>...</td>\n",
       "      <td>...</td>\n",
       "      <td>...</td>\n",
       "      <td>...</td>\n",
       "      <td>...</td>\n",
       "      <td>...</td>\n",
       "      <td>...</td>\n",
       "      <td>...</td>\n",
       "      <td>...</td>\n",
       "      <td>...</td>\n",
       "      <td>...</td>\n",
       "      <td>...</td>\n",
       "      <td>...</td>\n",
       "      <td>...</td>\n",
       "      <td>...</td>\n",
       "      <td>...</td>\n",
       "      <td>...</td>\n",
       "      <td>...</td>\n",
       "      <td>...</td>\n",
       "      <td>...</td>\n",
       "      <td>...</td>\n",
       "      <td>...</td>\n",
       "      <td>...</td>\n",
       "      <td>...</td>\n",
       "      <td>...</td>\n",
       "      <td>...</td>\n",
       "      <td>...</td>\n",
       "      <td>...</td>\n",
       "      <td>...</td>\n",
       "      <td>...</td>\n",
       "      <td>...</td>\n",
       "      <td>...</td>\n",
       "      <td>...</td>\n",
       "      <td>...</td>\n",
       "      <td>...</td>\n",
       "      <td>...</td>\n",
       "      <td>...</td>\n",
       "      <td>...</td>\n",
       "      <td>...</td>\n",
       "      <td>...</td>\n",
       "      <td>...</td>\n",
       "      <td>...</td>\n",
       "      <td>...</td>\n",
       "      <td>...</td>\n",
       "      <td>...</td>\n",
       "      <td>...</td>\n",
       "      <td>...</td>\n",
       "      <td>...</td>\n",
       "      <td>...</td>\n",
       "    </tr>\n",
       "    <tr>\n",
       "      <th>5285</th>\n",
       "      <td>173.957757</td>\n",
       "      <td>15.963399</td>\n",
       "      <td>8.070000</td>\n",
       "      <td>0.896701</td>\n",
       "      <td>1401.930554</td>\n",
       "      <td>-499.728848</td>\n",
       "      <td>1401.441445</td>\n",
       "      <td>-499.193423</td>\n",
       "      <td>1399.810313</td>\n",
       "      <td>-499.599127</td>\n",
       "      <td>1400.334792</td>\n",
       "      <td>-499.243459</td>\n",
       "      <td>11.638973</td>\n",
       "      <td>4.695306</td>\n",
       "      <td>521.685155</td>\n",
       "      <td>66.758479</td>\n",
       "      <td>42.022027</td>\n",
       "      <td>10.554544</td>\n",
       "      <td>10.109194</td>\n",
       "      <td>7.203935</td>\n",
       "      <td>10.110793</td>\n",
       "      <td>7.198171</td>\n",
       "      <td>1399.935264</td>\n",
       "      <td>-299.999637</td>\n",
       "      <td>1049.641991</td>\n",
       "      <td>-500.074887</td>\n",
       "      <td>951.923857</td>\n",
       "      <td>-499.648793</td>\n",
       "      <td>852.337438</td>\n",
       "      <td>-498.464443</td>\n",
       "      <td>851.436769</td>\n",
       "      <td>-500.285584</td>\n",
       "      <td>851.461345</td>\n",
       "      <td>-499.735650</td>\n",
       "      <td>21.912132</td>\n",
       "      <td>-499.915179</td>\n",
       "      <td>19.909080</td>\n",
       "      <td>-499.734909</td>\n",
       "      <td>24.939573</td>\n",
       "      <td>-500.098479</td>\n",
       "      <td>12.968448</td>\n",
       "      <td>-499.952023</td>\n",
       "      <td>13.995957</td>\n",
       "      <td>-500.157454</td>\n",
       "      <td>12.069155</td>\n",
       "      <td>-499.673279</td>\n",
       "      <td>7.977259</td>\n",
       "      <td>-499.516126</td>\n",
       "      <td>5.933319</td>\n",
       "      <td>-499.965973</td>\n",
       "      <td>8.987171</td>\n",
       "      <td>-499.755909</td>\n",
       "      <td>95.172585</td>\n",
       "      <td>68.919891</td>\n",
       "    </tr>\n",
       "    <tr>\n",
       "      <th>5286</th>\n",
       "      <td>172.910270</td>\n",
       "      <td>16.002605</td>\n",
       "      <td>8.070000</td>\n",
       "      <td>0.896519</td>\n",
       "      <td>1447.075722</td>\n",
       "      <td>-494.716823</td>\n",
       "      <td>1448.851892</td>\n",
       "      <td>-465.963026</td>\n",
       "      <td>1443.890424</td>\n",
       "      <td>-503.587739</td>\n",
       "      <td>1447.653388</td>\n",
       "      <td>-480.403849</td>\n",
       "      <td>11.338091</td>\n",
       "      <td>4.478381</td>\n",
       "      <td>530.195798</td>\n",
       "      <td>62.560684</td>\n",
       "      <td>41.096377</td>\n",
       "      <td>10.254051</td>\n",
       "      <td>9.979495</td>\n",
       "      <td>7.200895</td>\n",
       "      <td>9.978855</td>\n",
       "      <td>7.201957</td>\n",
       "      <td>1406.122319</td>\n",
       "      <td>-299.057200</td>\n",
       "      <td>1055.715243</td>\n",
       "      <td>-498.250207</td>\n",
       "      <td>956.850266</td>\n",
       "      <td>-497.403941</td>\n",
       "      <td>855.386714</td>\n",
       "      <td>-495.702676</td>\n",
       "      <td>852.071335</td>\n",
       "      <td>-499.442753</td>\n",
       "      <td>851.328986</td>\n",
       "      <td>-496.579809</td>\n",
       "      <td>25.322301</td>\n",
       "      <td>-497.034975</td>\n",
       "      <td>23.310568</td>\n",
       "      <td>-498.892647</td>\n",
       "      <td>26.369171</td>\n",
       "      <td>-499.222375</td>\n",
       "      <td>17.704862</td>\n",
       "      <td>-499.545681</td>\n",
       "      <td>16.749781</td>\n",
       "      <td>-496.031539</td>\n",
       "      <td>13.365371</td>\n",
       "      <td>-499.122723</td>\n",
       "      <td>9.288553</td>\n",
       "      <td>-496.892967</td>\n",
       "      <td>7.372897</td>\n",
       "      <td>-499.942956</td>\n",
       "      <td>8.986832</td>\n",
       "      <td>-499.903761</td>\n",
       "      <td>94.575036</td>\n",
       "      <td>68.440582</td>\n",
       "    </tr>\n",
       "    <tr>\n",
       "      <th>5287</th>\n",
       "      <td>171.135718</td>\n",
       "      <td>15.993669</td>\n",
       "      <td>8.070000</td>\n",
       "      <td>1.165996</td>\n",
       "      <td>1498.836182</td>\n",
       "      <td>-501.770403</td>\n",
       "      <td>1499.572353</td>\n",
       "      <td>-495.516347</td>\n",
       "      <td>1502.749213</td>\n",
       "      <td>-520.667442</td>\n",
       "      <td>1502.585343</td>\n",
       "      <td>-498.260225</td>\n",
       "      <td>11.285908</td>\n",
       "      <td>4.405327</td>\n",
       "      <td>546.306868</td>\n",
       "      <td>73.647513</td>\n",
       "      <td>41.095485</td>\n",
       "      <td>10.169094</td>\n",
       "      <td>10.182219</td>\n",
       "      <td>7.196255</td>\n",
       "      <td>10.185461</td>\n",
       "      <td>7.198676</td>\n",
       "      <td>1396.203070</td>\n",
       "      <td>-300.210722</td>\n",
       "      <td>1047.879742</td>\n",
       "      <td>-499.604248</td>\n",
       "      <td>948.963429</td>\n",
       "      <td>-499.549567</td>\n",
       "      <td>856.325597</td>\n",
       "      <td>-500.095616</td>\n",
       "      <td>850.614597</td>\n",
       "      <td>-499.473713</td>\n",
       "      <td>850.279578</td>\n",
       "      <td>-498.508374</td>\n",
       "      <td>29.075948</td>\n",
       "      <td>-500.528402</td>\n",
       "      <td>26.888005</td>\n",
       "      <td>-500.975799</td>\n",
       "      <td>28.000224</td>\n",
       "      <td>-500.565876</td>\n",
       "      <td>22.996528</td>\n",
       "      <td>-500.477583</td>\n",
       "      <td>19.994130</td>\n",
       "      <td>-499.791312</td>\n",
       "      <td>15.101425</td>\n",
       "      <td>-499.936252</td>\n",
       "      <td>10.989181</td>\n",
       "      <td>-498.347898</td>\n",
       "      <td>9.020944</td>\n",
       "      <td>-500.040448</td>\n",
       "      <td>8.982038</td>\n",
       "      <td>-497.789882</td>\n",
       "      <td>93.018138</td>\n",
       "      <td>67.092759</td>\n",
       "    </tr>\n",
       "    <tr>\n",
       "      <th>5288</th>\n",
       "      <td>179.697158</td>\n",
       "      <td>15.438979</td>\n",
       "      <td>8.070000</td>\n",
       "      <td>1.501068</td>\n",
       "      <td>1498.466243</td>\n",
       "      <td>-500.483984</td>\n",
       "      <td>1497.986986</td>\n",
       "      <td>-519.200340</td>\n",
       "      <td>1496.569047</td>\n",
       "      <td>-487.479567</td>\n",
       "      <td>1502.688918</td>\n",
       "      <td>-501.569723</td>\n",
       "      <td>11.289710</td>\n",
       "      <td>4.343488</td>\n",
       "      <td>547.331405</td>\n",
       "      <td>78.066446</td>\n",
       "      <td>41.715740</td>\n",
       "      <td>10.071156</td>\n",
       "      <td>10.730915</td>\n",
       "      <td>7.200058</td>\n",
       "      <td>10.726349</td>\n",
       "      <td>7.200834</td>\n",
       "      <td>1403.942288</td>\n",
       "      <td>-300.030119</td>\n",
       "      <td>1049.802289</td>\n",
       "      <td>-499.795576</td>\n",
       "      <td>950.769390</td>\n",
       "      <td>-500.374645</td>\n",
       "      <td>847.647198</td>\n",
       "      <td>-499.920332</td>\n",
       "      <td>849.413040</td>\n",
       "      <td>-500.380529</td>\n",
       "      <td>850.075026</td>\n",
       "      <td>-500.478250</td>\n",
       "      <td>29.103185</td>\n",
       "      <td>-499.692672</td>\n",
       "      <td>27.051742</td>\n",
       "      <td>-499.858337</td>\n",
       "      <td>27.980387</td>\n",
       "      <td>-499.907225</td>\n",
       "      <td>23.046562</td>\n",
       "      <td>-499.744914</td>\n",
       "      <td>19.958760</td>\n",
       "      <td>-499.958750</td>\n",
       "      <td>15.026853</td>\n",
       "      <td>-499.723143</td>\n",
       "      <td>11.011607</td>\n",
       "      <td>-499.985046</td>\n",
       "      <td>9.009783</td>\n",
       "      <td>-499.937902</td>\n",
       "      <td>9.012660</td>\n",
       "      <td>-500.154284</td>\n",
       "      <td>92.599042</td>\n",
       "      <td>68.061186</td>\n",
       "    </tr>\n",
       "    <tr>\n",
       "      <th>5289</th>\n",
       "      <td>181.556856</td>\n",
       "      <td>14.995850</td>\n",
       "      <td>8.070000</td>\n",
       "      <td>1.623454</td>\n",
       "      <td>1498.096303</td>\n",
       "      <td>-499.796922</td>\n",
       "      <td>1501.743791</td>\n",
       "      <td>-505.146931</td>\n",
       "      <td>1499.535978</td>\n",
       "      <td>-492.428226</td>\n",
       "      <td>1499.674340</td>\n",
       "      <td>-499.766717</td>\n",
       "      <td>10.904646</td>\n",
       "      <td>4.090591</td>\n",
       "      <td>564.540376</td>\n",
       "      <td>77.678700</td>\n",
       "      <td>40.891121</td>\n",
       "      <td>9.697259</td>\n",
       "      <td>10.789493</td>\n",
       "      <td>7.195776</td>\n",
       "      <td>10.792881</td>\n",
       "      <td>7.201037</td>\n",
       "      <td>1400.611544</td>\n",
       "      <td>-299.989405</td>\n",
       "      <td>1052.782756</td>\n",
       "      <td>-499.762966</td>\n",
       "      <td>950.793740</td>\n",
       "      <td>-499.357170</td>\n",
       "      <td>850.639537</td>\n",
       "      <td>-500.433782</td>\n",
       "      <td>850.370801</td>\n",
       "      <td>-500.819351</td>\n",
       "      <td>850.680188</td>\n",
       "      <td>-498.539198</td>\n",
       "      <td>29.098116</td>\n",
       "      <td>-500.429872</td>\n",
       "      <td>26.892401</td>\n",
       "      <td>-500.087131</td>\n",
       "      <td>28.023491</td>\n",
       "      <td>-500.170406</td>\n",
       "      <td>23.013559</td>\n",
       "      <td>-500.218801</td>\n",
       "      <td>20.034715</td>\n",
       "      <td>-500.728588</td>\n",
       "      <td>14.914199</td>\n",
       "      <td>-499.948518</td>\n",
       "      <td>10.986607</td>\n",
       "      <td>-500.658027</td>\n",
       "      <td>8.989497</td>\n",
       "      <td>-500.337588</td>\n",
       "      <td>8.988632</td>\n",
       "      <td>-500.764937</td>\n",
       "      <td>91.177695</td>\n",
       "      <td>71.699976</td>\n",
       "    </tr>\n",
       "  </tbody>\n",
       "</table>\n",
       "<p>5290 rows × 54 columns</p>\n",
       "</div>"
      ],
      "text/plain": [
       "      primary_cleaner.input.sulfate  primary_cleaner.input.depressant  \\\n",
       "0                        210.800909                         14.993118   \n",
       "1                        215.392455                         14.987471   \n",
       "2                        215.259946                         12.884934   \n",
       "3                        215.336236                         12.006805   \n",
       "4                        199.099327                         10.682530   \n",
       "...                             ...                               ...   \n",
       "5285                     173.957757                         15.963399   \n",
       "5286                     172.910270                         16.002605   \n",
       "5287                     171.135718                         15.993669   \n",
       "5288                     179.697158                         15.438979   \n",
       "5289                     181.556856                         14.995850   \n",
       "\n",
       "      primary_cleaner.input.feed_size  primary_cleaner.input.xanthate  \\\n",
       "0                            8.080000                        1.005021   \n",
       "1                            8.080000                        0.990469   \n",
       "2                            7.786667                        0.996043   \n",
       "3                            7.640000                        0.863514   \n",
       "4                            7.530000                        0.805575   \n",
       "...                               ...                             ...   \n",
       "5285                         8.070000                        0.896701   \n",
       "5286                         8.070000                        0.896519   \n",
       "5287                         8.070000                        1.165996   \n",
       "5288                         8.070000                        1.501068   \n",
       "5289                         8.070000                        1.623454   \n",
       "\n",
       "      primary_cleaner.state.floatbank8_a_air  \\\n",
       "0                                1398.981301   \n",
       "1                                1398.777912   \n",
       "2                                1398.493666   \n",
       "3                                1399.618111   \n",
       "4                                1401.268123   \n",
       "...                                      ...   \n",
       "5285                             1401.930554   \n",
       "5286                             1447.075722   \n",
       "5287                             1498.836182   \n",
       "5288                             1498.466243   \n",
       "5289                             1498.096303   \n",
       "\n",
       "      primary_cleaner.state.floatbank8_a_level  \\\n",
       "0                                  -500.225577   \n",
       "1                                  -500.057435   \n",
       "2                                  -500.868360   \n",
       "3                                  -498.863574   \n",
       "4                                  -500.808305   \n",
       "...                                        ...   \n",
       "5285                               -499.728848   \n",
       "5286                               -494.716823   \n",
       "5287                               -501.770403   \n",
       "5288                               -500.483984   \n",
       "5289                               -499.796922   \n",
       "\n",
       "      primary_cleaner.state.floatbank8_b_air  \\\n",
       "0                                1399.144926   \n",
       "1                                1398.055362   \n",
       "2                                1398.860436   \n",
       "3                                1397.440120   \n",
       "4                                1398.128818   \n",
       "...                                      ...   \n",
       "5285                             1401.441445   \n",
       "5286                             1448.851892   \n",
       "5287                             1499.572353   \n",
       "5288                             1497.986986   \n",
       "5289                             1501.743791   \n",
       "\n",
       "      primary_cleaner.state.floatbank8_b_level  \\\n",
       "0                                  -499.919735   \n",
       "1                                  -499.778182   \n",
       "2                                  -499.764529   \n",
       "3                                  -499.211024   \n",
       "4                                  -499.504543   \n",
       "...                                        ...   \n",
       "5285                               -499.193423   \n",
       "5286                               -465.963026   \n",
       "5287                               -495.516347   \n",
       "5288                               -519.200340   \n",
       "5289                               -505.146931   \n",
       "\n",
       "      primary_cleaner.state.floatbank8_c_air  \\\n",
       "0                                1400.102998   \n",
       "1                                1396.151033   \n",
       "2                                1398.075709   \n",
       "3                                1400.129303   \n",
       "4                                1402.172226   \n",
       "...                                      ...   \n",
       "5285                             1399.810313   \n",
       "5286                             1443.890424   \n",
       "5287                             1502.749213   \n",
       "5288                             1496.569047   \n",
       "5289                             1499.535978   \n",
       "\n",
       "      primary_cleaner.state.floatbank8_c_level  \\\n",
       "0                                  -500.704369   \n",
       "1                                  -499.240168   \n",
       "2                                  -502.151509   \n",
       "3                                  -498.355873   \n",
       "4                                  -500.810606   \n",
       "...                                        ...   \n",
       "5285                               -499.599127   \n",
       "5286                               -503.587739   \n",
       "5287                               -520.667442   \n",
       "5288                               -487.479567   \n",
       "5289                               -492.428226   \n",
       "\n",
       "      primary_cleaner.state.floatbank8_d_air  \\\n",
       "0                                1399.001695   \n",
       "1                                1399.508091   \n",
       "2                                1399.497088   \n",
       "3                                1401.065165   \n",
       "4                                1399.480508   \n",
       "...                                      ...   \n",
       "5285                             1400.334792   \n",
       "5286                             1447.653388   \n",
       "5287                             1502.585343   \n",
       "5288                             1502.688918   \n",
       "5289                             1499.674340   \n",
       "\n",
       "      primary_cleaner.state.floatbank8_d_level  rougher.input.feed_ag  \\\n",
       "0                                  -499.485144              13.128569   \n",
       "1                                  -500.416324              13.036280   \n",
       "2                                  -499.715479              13.138412   \n",
       "3                                  -501.038738              12.400507   \n",
       "4                                  -499.374053              11.327427   \n",
       "...                                        ...                    ...   \n",
       "5285                               -499.243459              11.638973   \n",
       "5286                               -480.403849              11.338091   \n",
       "5287                               -498.260225              11.285908   \n",
       "5288                               -501.569723              11.289710   \n",
       "5289                               -499.766717              10.904646   \n",
       "\n",
       "      rougher.input.feed_pb  rougher.input.feed_rate  rougher.input.feed_size  \\\n",
       "0                  5.636710               489.793655                62.710452   \n",
       "1                  5.526065               490.104534                61.961163   \n",
       "2                  5.426561               489.617969                66.903807   \n",
       "3                  5.114758               476.618130                59.865919   \n",
       "4                  4.767383               488.248117                63.315324   \n",
       "...                     ...                      ...                      ...   \n",
       "5285               4.695306               521.685155                66.758479   \n",
       "5286               4.478381               530.195798                62.560684   \n",
       "5287               4.405327               546.306868                73.647513   \n",
       "5288               4.343488               547.331405                78.066446   \n",
       "5289               4.090591               564.540376                77.678700   \n",
       "\n",
       "      rougher.input.feed_sol  rougher.input.feed_au  \\\n",
       "0                  42.022440              12.084103   \n",
       "1                  41.187903              11.918977   \n",
       "2                  42.546294              12.091332   \n",
       "3                  41.060195              12.181597   \n",
       "4                  41.269161              11.290425   \n",
       "...                      ...                    ...   \n",
       "5285               42.022027              10.554544   \n",
       "5286               41.096377              10.254051   \n",
       "5287               41.095485              10.169094   \n",
       "5288               41.715740              10.071156   \n",
       "5289               40.891121               9.697259   \n",
       "\n",
       "      rougher.input.floatbank10_sulfate  rougher.input.floatbank10_xanthate  \\\n",
       "0                             16.922877                            6.153479   \n",
       "1                             17.002532                            5.999043   \n",
       "2                             16.992520                            5.850632   \n",
       "3                             16.532144                            5.801935   \n",
       "4                             13.607257                            5.738081   \n",
       "...                                 ...                                 ...   \n",
       "5285                          10.109194                            7.203935   \n",
       "5286                           9.979495                            7.200895   \n",
       "5287                          10.182219                            7.196255   \n",
       "5288                          10.730915                            7.200058   \n",
       "5289                          10.789493                            7.195776   \n",
       "\n",
       "      rougher.input.floatbank11_sulfate  rougher.input.floatbank11_xanthate  \\\n",
       "0                             16.867518                            6.150709   \n",
       "1                             16.996063                            6.002315   \n",
       "2                             16.982096                            5.853594   \n",
       "3                             16.515277                            5.803657   \n",
       "4                             13.650053                            5.739634   \n",
       "...                                 ...                                 ...   \n",
       "5285                          10.110793                            7.198171   \n",
       "5286                           9.978855                            7.201957   \n",
       "5287                          10.185461                            7.198676   \n",
       "5288                          10.726349                            7.200834   \n",
       "5289                          10.792881                            7.201037   \n",
       "\n",
       "      rougher.state.floatbank10_a_air  rougher.state.floatbank10_a_level  \\\n",
       "0                         1001.849317                        -350.301265   \n",
       "1                          998.690785                        -350.425704   \n",
       "2                          998.516720                        -349.783538   \n",
       "3                         1000.276604                        -350.172597   \n",
       "4                          996.541302                        -350.562517   \n",
       "...                               ...                                ...   \n",
       "5285                      1399.935264                        -299.999637   \n",
       "5286                      1406.122319                        -299.057200   \n",
       "5287                      1396.203070                        -300.210722   \n",
       "5288                      1403.942288                        -300.030119   \n",
       "5289                      1400.611544                        -299.989405   \n",
       "\n",
       "      rougher.state.floatbank10_b_air  rougher.state.floatbank10_b_level  \\\n",
       "0                         1249.738612                        -399.107531   \n",
       "1                         1248.395457                        -399.946025   \n",
       "2                         1247.440748                        -400.264330   \n",
       "3                         1251.322675                        -398.655289   \n",
       "4                         1304.658848                        -399.511519   \n",
       "...                               ...                                ...   \n",
       "5285                      1049.641991                        -500.074887   \n",
       "5286                      1055.715243                        -498.250207   \n",
       "5287                      1047.879742                        -499.604248   \n",
       "5288                      1049.802289                        -499.795576   \n",
       "5289                      1052.782756                        -499.762966   \n",
       "\n",
       "      rougher.state.floatbank10_c_air  rougher.state.floatbank10_c_level  \\\n",
       "0                         1249.750520                        -399.396730   \n",
       "1                         1249.514451                        -399.630810   \n",
       "2                         1248.207204                        -401.074405   \n",
       "3                         1250.493702                        -399.746728   \n",
       "4                         1306.455515                        -399.050685   \n",
       "...                               ...                                ...   \n",
       "5285                       951.923857                        -499.648793   \n",
       "5286                       956.850266                        -497.403941   \n",
       "5287                       948.963429                        -499.549567   \n",
       "5288                       950.769390                        -500.374645   \n",
       "5289                       950.793740                        -499.357170   \n",
       "\n",
       "      rougher.state.floatbank10_d_air  rougher.state.floatbank10_d_level  \\\n",
       "0                         1198.287855                        -399.488594   \n",
       "1                         1200.506459                        -399.942434   \n",
       "2                         1199.770026                        -400.790582   \n",
       "3                         1199.398691                        -397.503052   \n",
       "4                         1248.699349                        -400.876894   \n",
       "...                               ...                                ...   \n",
       "5285                       852.337438                        -498.464443   \n",
       "5286                       855.386714                        -495.702676   \n",
       "5287                       856.325597                        -500.095616   \n",
       "5288                       847.647198                        -499.920332   \n",
       "5289                       850.639537                        -500.433782   \n",
       "\n",
       "      rougher.state.floatbank10_e_air  rougher.state.floatbank10_e_level  \\\n",
       "0                          999.472250                        -399.530962   \n",
       "1                         1000.002114                        -399.491528   \n",
       "2                          999.925519                        -399.236999   \n",
       "3                         1001.930679                        -400.437573   \n",
       "4                         1058.839106                        -398.988239   \n",
       "...                               ...                                ...   \n",
       "5285                       851.436769                        -500.285584   \n",
       "5286                       852.071335                        -499.442753   \n",
       "5287                       850.614597                        -499.473713   \n",
       "5288                       849.413040                        -500.380529   \n",
       "5289                       850.370801                        -500.819351   \n",
       "\n",
       "      rougher.state.floatbank10_f_air  rougher.state.floatbank10_f_level  \\\n",
       "0                          949.566189                        -398.180807   \n",
       "1                          950.200009                        -405.787514   \n",
       "2                          950.320481                        -400.864340   \n",
       "3                          950.735324                        -399.802986   \n",
       "4                          949.645313                        -399.277632   \n",
       "...                               ...                                ...   \n",
       "5285                       851.461345                        -499.735650   \n",
       "5286                       851.328986                        -496.579809   \n",
       "5287                       850.279578                        -498.508374   \n",
       "5288                       850.075026                        -500.478250   \n",
       "5289                       850.680188                        -498.539198   \n",
       "\n",
       "      secondary_cleaner.state.floatbank2_a_air  \\\n",
       "0                                    24.938200   \n",
       "1                                    24.923466   \n",
       "2                                    24.908732   \n",
       "3                                    24.893998   \n",
       "4                                    24.886905   \n",
       "...                                        ...   \n",
       "5285                                 21.912132   \n",
       "5286                                 25.322301   \n",
       "5287                                 29.075948   \n",
       "5288                                 29.103185   \n",
       "5289                                 29.098116   \n",
       "\n",
       "      secondary_cleaner.state.floatbank2_a_level  \\\n",
       "0                                    -500.490963   \n",
       "1                                    -499.813963   \n",
       "2                                    -500.304035   \n",
       "3                                    -499.382374   \n",
       "4                                    -499.357375   \n",
       "...                                          ...   \n",
       "5285                                 -499.915179   \n",
       "5286                                 -497.034975   \n",
       "5287                                 -500.528402   \n",
       "5288                                 -499.692672   \n",
       "5289                                 -500.429872   \n",
       "\n",
       "      secondary_cleaner.state.floatbank2_b_air  \\\n",
       "0                                    14.947607   \n",
       "1                                    14.930873   \n",
       "2                                    14.996511   \n",
       "3                                    14.916674   \n",
       "4                                    14.979233   \n",
       "...                                        ...   \n",
       "5285                                 19.909080   \n",
       "5286                                 23.310568   \n",
       "5287                                 26.888005   \n",
       "5288                                 27.051742   \n",
       "5289                                 26.892401   \n",
       "\n",
       "      secondary_cleaner.state.floatbank2_b_level  \\\n",
       "0                                    -500.013837   \n",
       "1                                    -500.764452   \n",
       "2                                    -500.993821   \n",
       "3                                    -499.862299   \n",
       "4                                    -500.186804   \n",
       "...                                          ...   \n",
       "5285                                 -499.734909   \n",
       "5286                                 -498.892647   \n",
       "5287                                 -500.975799   \n",
       "5288                                 -499.858337   \n",
       "5289                                 -500.087131   \n",
       "\n",
       "      secondary_cleaner.state.floatbank3_a_air  \\\n",
       "0                                    20.018166   \n",
       "1                                    19.988503   \n",
       "2                                    20.039689   \n",
       "3                                    20.031100   \n",
       "4                                    19.962364   \n",
       "...                                        ...   \n",
       "5285                                 24.939573   \n",
       "5286                                 26.369171   \n",
       "5287                                 28.000224   \n",
       "5288                                 27.980387   \n",
       "5289                                 28.023491   \n",
       "\n",
       "      secondary_cleaner.state.floatbank3_a_level  \\\n",
       "0                                    -450.395995   \n",
       "1                                    -450.114024   \n",
       "2                                    -450.263164   \n",
       "3                                    -449.372570   \n",
       "4                                    -450.638828   \n",
       "...                                          ...   \n",
       "5285                                 -500.098479   \n",
       "5286                                 -499.222375   \n",
       "5287                                 -500.565876   \n",
       "5288                                 -499.907225   \n",
       "5289                                 -500.170406   \n",
       "\n",
       "      secondary_cleaner.state.floatbank3_b_air  \\\n",
       "0                                    13.987058   \n",
       "1                                    14.092981   \n",
       "2                                    14.077881   \n",
       "3                                    14.013968   \n",
       "4                                    14.009245   \n",
       "...                                        ...   \n",
       "5285                                 12.968448   \n",
       "5286                                 17.704862   \n",
       "5287                                 22.996528   \n",
       "5288                                 23.046562   \n",
       "5289                                 23.013559   \n",
       "\n",
       "      secondary_cleaner.state.floatbank3_b_level  \\\n",
       "0                                    -449.831513   \n",
       "1                                    -450.059163   \n",
       "2                                    -449.660997   \n",
       "3                                    -449.526900   \n",
       "4                                    -450.022259   \n",
       "...                                          ...   \n",
       "5285                                 -499.952023   \n",
       "5286                                 -499.545681   \n",
       "5287                                 -500.477583   \n",
       "5288                                 -499.744914   \n",
       "5289                                 -500.218801   \n",
       "\n",
       "      secondary_cleaner.state.floatbank4_a_air  \\\n",
       "0                                    12.023554   \n",
       "1                                    12.058140   \n",
       "2                                    11.962366   \n",
       "3                                    12.033091   \n",
       "4                                    12.025367   \n",
       "...                                        ...   \n",
       "5285                                 13.995957   \n",
       "5286                                 16.749781   \n",
       "5287                                 19.994130   \n",
       "5288                                 19.958760   \n",
       "5289                                 20.034715   \n",
       "\n",
       "      secondary_cleaner.state.floatbank4_a_level  \\\n",
       "0                                    -497.795834   \n",
       "1                                    -498.695773   \n",
       "2                                    -498.767484   \n",
       "3                                    -498.350935   \n",
       "4                                    -500.786497   \n",
       "...                                          ...   \n",
       "5285                                 -500.157454   \n",
       "5286                                 -496.031539   \n",
       "5287                                 -499.791312   \n",
       "5288                                 -499.958750   \n",
       "5289                                 -500.728588   \n",
       "\n",
       "      secondary_cleaner.state.floatbank4_b_air  \\\n",
       "0                                     8.016656   \n",
       "1                                     8.130979   \n",
       "2                                     8.096893   \n",
       "3                                     8.074946   \n",
       "4                                     8.054678   \n",
       "...                                        ...   \n",
       "5285                                 12.069155   \n",
       "5286                                 13.365371   \n",
       "5287                                 15.101425   \n",
       "5288                                 15.026853   \n",
       "5289                                 14.914199   \n",
       "\n",
       "      secondary_cleaner.state.floatbank4_b_level  \\\n",
       "0                                    -501.289139   \n",
       "1                                    -499.634209   \n",
       "2                                    -500.827423   \n",
       "3                                    -499.474407   \n",
       "4                                    -500.397500   \n",
       "...                                          ...   \n",
       "5285                                 -499.673279   \n",
       "5286                                 -499.122723   \n",
       "5287                                 -499.936252   \n",
       "5288                                 -499.723143   \n",
       "5289                                 -499.948518   \n",
       "\n",
       "      secondary_cleaner.state.floatbank5_a_air  \\\n",
       "0                                     7.946562   \n",
       "1                                     7.958270   \n",
       "2                                     8.071056   \n",
       "3                                     7.897085   \n",
       "4                                     8.107890   \n",
       "...                                        ...   \n",
       "5285                                  7.977259   \n",
       "5286                                  9.288553   \n",
       "5287                                 10.989181   \n",
       "5288                                 11.011607   \n",
       "5289                                 10.986607   \n",
       "\n",
       "      secondary_cleaner.state.floatbank5_a_level  \\\n",
       "0                                    -432.317850   \n",
       "1                                    -525.839648   \n",
       "2                                    -500.801673   \n",
       "3                                    -500.868509   \n",
       "4                                    -509.526725   \n",
       "...                                          ...   \n",
       "5285                                 -499.516126   \n",
       "5286                                 -496.892967   \n",
       "5287                                 -498.347898   \n",
       "5288                                 -499.985046   \n",
       "5289                                 -500.658027   \n",
       "\n",
       "      secondary_cleaner.state.floatbank5_b_air  \\\n",
       "0                                     4.872511   \n",
       "1                                     4.878850   \n",
       "2                                     4.905125   \n",
       "3                                     4.931400   \n",
       "4                                     4.957674   \n",
       "...                                        ...   \n",
       "5285                                  5.933319   \n",
       "5286                                  7.372897   \n",
       "5287                                  9.020944   \n",
       "5288                                  9.009783   \n",
       "5289                                  8.989497   \n",
       "\n",
       "      secondary_cleaner.state.floatbank5_b_level  \\\n",
       "0                                    -500.037437   \n",
       "1                                    -500.162375   \n",
       "2                                    -499.828510   \n",
       "3                                    -499.963623   \n",
       "4                                    -500.360026   \n",
       "...                                          ...   \n",
       "5285                                 -499.965973   \n",
       "5286                                 -499.942956   \n",
       "5287                                 -500.040448   \n",
       "5288                                 -499.937902   \n",
       "5289                                 -500.337588   \n",
       "\n",
       "      secondary_cleaner.state.floatbank6_a_air  \\\n",
       "0                                    26.705889   \n",
       "1                                    25.019940   \n",
       "2                                    24.994862   \n",
       "3                                    24.948919   \n",
       "4                                    25.003331   \n",
       "...                                        ...   \n",
       "5285                                  8.987171   \n",
       "5286                                  8.986832   \n",
       "5287                                  8.982038   \n",
       "5288                                  9.012660   \n",
       "5289                                  8.988632   \n",
       "\n",
       "      secondary_cleaner.state.floatbank6_a_level  rougher.output.recovery  \\\n",
       "0                                    -499.709414                89.993421   \n",
       "1                                    -499.819438                88.089657   \n",
       "2                                    -500.622559                88.412756   \n",
       "3                                    -498.709987                87.360133   \n",
       "4                                    -500.856333                83.236367   \n",
       "...                                          ...                      ...   \n",
       "5285                                 -499.755909                95.172585   \n",
       "5286                                 -499.903761                94.575036   \n",
       "5287                                 -497.789882                93.018138   \n",
       "5288                                 -500.154284                92.599042   \n",
       "5289                                 -500.764937                91.177695   \n",
       "\n",
       "      final.output.recovery  \n",
       "0                 70.273583  \n",
       "1                 68.910432  \n",
       "2                 68.143213  \n",
       "3                 67.776393  \n",
       "4                 61.467078  \n",
       "...                     ...  \n",
       "5285              68.919891  \n",
       "5286              68.440582  \n",
       "5287              67.092759  \n",
       "5288              68.061186  \n",
       "5289              71.699976  \n",
       "\n",
       "[5290 rows x 54 columns]"
      ]
     },
     "metadata": {},
     "output_type": "display_data"
    }
   ],
   "source": [
    "new_data = data.set_index('date')\n",
    "new_test_data = test_data.set_index('date')\n",
    "new_test_data = new_test_data.merge(new_data[['rougher.output.recovery', 'final.output.recovery']], how = 'left', right_index = True, left_index = True)\n",
    "\n",
    "new_test_data = new_test_data.dropna().reset_index(drop = True)\n",
    "display(new_test_data)"
   ]
  },
  {
   "cell_type": "markdown",
   "metadata": {},
   "source": [
    "Следующим шагом следует избавится в обучающей выборке от столбцов, которых нет в тестовой выборке."
   ]
  },
  {
   "cell_type": "code",
   "execution_count": 47,
   "metadata": {},
   "outputs": [
    {
     "name": "stdout",
     "output_type": "stream",
     "text": [
      "{'rougher.output.concentrate_au', 'rougher.output.concentrate_pb', 'final.output.tail_pb', 'primary_cleaner.output.tail_sol', 'rougher.output.concentrate_sol', 'final.output.concentrate_au', 'rougher.calculation.floatbank10_sulfate_to_au_feed', 'rougher.calculation.au_pb_ratio', 'secondary_cleaner.output.tail_au', 'rougher.calculation.sulfate_to_au_concentrate', 'primary_cleaner.output.tail_pb', 'rougher.output.tail_pb', 'primary_cleaner.output.concentrate_au', 'final.output.tail_ag', 'primary_cleaner.output.tail_au', 'primary_cleaner.output.concentrate_pb', 'rougher.output.tail_sol', 'final.output.concentrate_sol', 'final.output.tail_sol', 'secondary_cleaner.output.tail_pb', 'final.output.concentrate_ag', 'rougher.calculation.floatbank11_sulfate_to_au_feed', 'primary_cleaner.output.concentrate_sol', 'final.output.concentrate_pb', 'primary_cleaner.output.concentrate_ag', 'secondary_cleaner.output.tail_ag', 'rougher.output.concentrate_ag', 'rougher.output.tail_ag', 'rougher.output.tail_au', 'secondary_cleaner.output.tail_sol', 'final.output.tail_au', 'primary_cleaner.output.tail_ag'}\n"
     ]
    }
   ],
   "source": [
    "missing_columns.remove('rougher.output.recovery')\n",
    "missing_columns.remove('final.output.recovery')\n",
    "print(missing_columns)"
   ]
  },
  {
   "cell_type": "code",
   "execution_count": 48,
   "metadata": {},
   "outputs": [
    {
     "data": {
      "text/html": [
       "<div>\n",
       "<style scoped>\n",
       "    .dataframe tbody tr th:only-of-type {\n",
       "        vertical-align: middle;\n",
       "    }\n",
       "\n",
       "    .dataframe tbody tr th {\n",
       "        vertical-align: top;\n",
       "    }\n",
       "\n",
       "    .dataframe thead th {\n",
       "        text-align: right;\n",
       "    }\n",
       "</style>\n",
       "<table border=\"1\" class=\"dataframe\">\n",
       "  <thead>\n",
       "    <tr style=\"text-align: right;\">\n",
       "      <th></th>\n",
       "      <th>final.output.recovery</th>\n",
       "      <th>primary_cleaner.input.sulfate</th>\n",
       "      <th>primary_cleaner.input.depressant</th>\n",
       "      <th>primary_cleaner.input.feed_size</th>\n",
       "      <th>primary_cleaner.input.xanthate</th>\n",
       "      <th>primary_cleaner.state.floatbank8_a_air</th>\n",
       "      <th>primary_cleaner.state.floatbank8_a_level</th>\n",
       "      <th>primary_cleaner.state.floatbank8_b_air</th>\n",
       "      <th>primary_cleaner.state.floatbank8_b_level</th>\n",
       "      <th>primary_cleaner.state.floatbank8_c_air</th>\n",
       "      <th>primary_cleaner.state.floatbank8_c_level</th>\n",
       "      <th>primary_cleaner.state.floatbank8_d_air</th>\n",
       "      <th>primary_cleaner.state.floatbank8_d_level</th>\n",
       "      <th>rougher.input.feed_ag</th>\n",
       "      <th>rougher.input.feed_pb</th>\n",
       "      <th>rougher.input.feed_rate</th>\n",
       "      <th>rougher.input.feed_size</th>\n",
       "      <th>rougher.input.feed_sol</th>\n",
       "      <th>rougher.input.feed_au</th>\n",
       "      <th>rougher.input.floatbank10_sulfate</th>\n",
       "      <th>rougher.input.floatbank10_xanthate</th>\n",
       "      <th>rougher.input.floatbank11_sulfate</th>\n",
       "      <th>rougher.input.floatbank11_xanthate</th>\n",
       "      <th>rougher.output.recovery</th>\n",
       "      <th>rougher.state.floatbank10_a_air</th>\n",
       "      <th>rougher.state.floatbank10_a_level</th>\n",
       "      <th>rougher.state.floatbank10_b_air</th>\n",
       "      <th>rougher.state.floatbank10_b_level</th>\n",
       "      <th>rougher.state.floatbank10_c_air</th>\n",
       "      <th>rougher.state.floatbank10_c_level</th>\n",
       "      <th>rougher.state.floatbank10_d_air</th>\n",
       "      <th>rougher.state.floatbank10_d_level</th>\n",
       "      <th>rougher.state.floatbank10_e_air</th>\n",
       "      <th>rougher.state.floatbank10_e_level</th>\n",
       "      <th>rougher.state.floatbank10_f_air</th>\n",
       "      <th>rougher.state.floatbank10_f_level</th>\n",
       "      <th>secondary_cleaner.state.floatbank2_a_air</th>\n",
       "      <th>secondary_cleaner.state.floatbank2_a_level</th>\n",
       "      <th>secondary_cleaner.state.floatbank2_b_air</th>\n",
       "      <th>secondary_cleaner.state.floatbank2_b_level</th>\n",
       "      <th>secondary_cleaner.state.floatbank3_a_air</th>\n",
       "      <th>secondary_cleaner.state.floatbank3_a_level</th>\n",
       "      <th>secondary_cleaner.state.floatbank3_b_air</th>\n",
       "      <th>secondary_cleaner.state.floatbank3_b_level</th>\n",
       "      <th>secondary_cleaner.state.floatbank4_a_air</th>\n",
       "      <th>secondary_cleaner.state.floatbank4_a_level</th>\n",
       "      <th>secondary_cleaner.state.floatbank4_b_air</th>\n",
       "      <th>secondary_cleaner.state.floatbank4_b_level</th>\n",
       "      <th>secondary_cleaner.state.floatbank5_a_air</th>\n",
       "      <th>secondary_cleaner.state.floatbank5_a_level</th>\n",
       "      <th>secondary_cleaner.state.floatbank5_b_air</th>\n",
       "      <th>secondary_cleaner.state.floatbank5_b_level</th>\n",
       "      <th>secondary_cleaner.state.floatbank6_a_air</th>\n",
       "      <th>secondary_cleaner.state.floatbank6_a_level</th>\n",
       "    </tr>\n",
       "  </thead>\n",
       "  <tbody>\n",
       "    <tr>\n",
       "      <th>0</th>\n",
       "      <td>70.541216</td>\n",
       "      <td>127.092003</td>\n",
       "      <td>10.128295</td>\n",
       "      <td>7.25</td>\n",
       "      <td>0.988759</td>\n",
       "      <td>1549.775757</td>\n",
       "      <td>-498.912140</td>\n",
       "      <td>1551.434204</td>\n",
       "      <td>-516.403442</td>\n",
       "      <td>1549.873901</td>\n",
       "      <td>-498.666595</td>\n",
       "      <td>1554.367432</td>\n",
       "      <td>-493.428131</td>\n",
       "      <td>6.100378</td>\n",
       "      <td>2.284912</td>\n",
       "      <td>523.546326</td>\n",
       "      <td>55.486599</td>\n",
       "      <td>36.808594</td>\n",
       "      <td>6.486150</td>\n",
       "      <td>11.986616</td>\n",
       "      <td>6.007990</td>\n",
       "      <td>11.836743</td>\n",
       "      <td>6.005818</td>\n",
       "      <td>87.107763</td>\n",
       "      <td>999.706909</td>\n",
       "      <td>-404.066986</td>\n",
       "      <td>1603.011353</td>\n",
       "      <td>-434.715027</td>\n",
       "      <td>1602.375000</td>\n",
       "      <td>-442.204468</td>\n",
       "      <td>1598.937256</td>\n",
       "      <td>-451.294128</td>\n",
       "      <td>1404.472046</td>\n",
       "      <td>-455.462982</td>\n",
       "      <td>1416.354980</td>\n",
       "      <td>-451.939636</td>\n",
       "      <td>25.853109</td>\n",
       "      <td>-498.526489</td>\n",
       "      <td>23.893660</td>\n",
       "      <td>-501.406281</td>\n",
       "      <td>23.961798</td>\n",
       "      <td>-495.262817</td>\n",
       "      <td>21.940409</td>\n",
       "      <td>-499.340973</td>\n",
       "      <td>14.016835</td>\n",
       "      <td>-502.488007</td>\n",
       "      <td>12.099931</td>\n",
       "      <td>-504.715942</td>\n",
       "      <td>9.925633</td>\n",
       "      <td>-498.310211</td>\n",
       "      <td>8.079666</td>\n",
       "      <td>-500.470978</td>\n",
       "      <td>14.151341</td>\n",
       "      <td>-605.841980</td>\n",
       "    </tr>\n",
       "    <tr>\n",
       "      <th>1</th>\n",
       "      <td>69.266198</td>\n",
       "      <td>125.629232</td>\n",
       "      <td>10.296251</td>\n",
       "      <td>7.25</td>\n",
       "      <td>1.002663</td>\n",
       "      <td>1576.166671</td>\n",
       "      <td>-500.904965</td>\n",
       "      <td>1575.950626</td>\n",
       "      <td>-499.865889</td>\n",
       "      <td>1575.994189</td>\n",
       "      <td>-499.315107</td>\n",
       "      <td>1574.479259</td>\n",
       "      <td>-498.931665</td>\n",
       "      <td>6.161113</td>\n",
       "      <td>2.266033</td>\n",
       "      <td>525.290581</td>\n",
       "      <td>57.278666</td>\n",
       "      <td>35.753385</td>\n",
       "      <td>6.478583</td>\n",
       "      <td>11.971193</td>\n",
       "      <td>6.005766</td>\n",
       "      <td>11.996163</td>\n",
       "      <td>6.012594</td>\n",
       "      <td>86.843261</td>\n",
       "      <td>1000.286398</td>\n",
       "      <td>-400.065196</td>\n",
       "      <td>1600.754587</td>\n",
       "      <td>-449.953435</td>\n",
       "      <td>1600.479580</td>\n",
       "      <td>-449.830646</td>\n",
       "      <td>1600.527589</td>\n",
       "      <td>-449.953649</td>\n",
       "      <td>1399.227084</td>\n",
       "      <td>-450.869848</td>\n",
       "      <td>1399.719514</td>\n",
       "      <td>-450.119001</td>\n",
       "      <td>25.880539</td>\n",
       "      <td>-499.989656</td>\n",
       "      <td>23.889530</td>\n",
       "      <td>-500.372428</td>\n",
       "      <td>23.970550</td>\n",
       "      <td>-500.085473</td>\n",
       "      <td>22.085714</td>\n",
       "      <td>-499.446897</td>\n",
       "      <td>13.992281</td>\n",
       "      <td>-505.503262</td>\n",
       "      <td>11.950531</td>\n",
       "      <td>-501.331529</td>\n",
       "      <td>10.039245</td>\n",
       "      <td>-500.169983</td>\n",
       "      <td>7.984757</td>\n",
       "      <td>-500.582168</td>\n",
       "      <td>13.998353</td>\n",
       "      <td>-599.787184</td>\n",
       "    </tr>\n",
       "    <tr>\n",
       "      <th>2</th>\n",
       "      <td>68.116445</td>\n",
       "      <td>123.819808</td>\n",
       "      <td>11.316280</td>\n",
       "      <td>7.25</td>\n",
       "      <td>0.991265</td>\n",
       "      <td>1601.556163</td>\n",
       "      <td>-499.997791</td>\n",
       "      <td>1600.386685</td>\n",
       "      <td>-500.607762</td>\n",
       "      <td>1602.003542</td>\n",
       "      <td>-500.870069</td>\n",
       "      <td>1599.541515</td>\n",
       "      <td>-499.827444</td>\n",
       "      <td>6.116455</td>\n",
       "      <td>2.159622</td>\n",
       "      <td>530.026610</td>\n",
       "      <td>57.510649</td>\n",
       "      <td>35.971630</td>\n",
       "      <td>6.362222</td>\n",
       "      <td>11.920603</td>\n",
       "      <td>6.197377</td>\n",
       "      <td>11.920305</td>\n",
       "      <td>6.204633</td>\n",
       "      <td>86.842308</td>\n",
       "      <td>999.719565</td>\n",
       "      <td>-400.074028</td>\n",
       "      <td>1599.337330</td>\n",
       "      <td>-450.008530</td>\n",
       "      <td>1599.672797</td>\n",
       "      <td>-449.954491</td>\n",
       "      <td>1599.849325</td>\n",
       "      <td>-449.954185</td>\n",
       "      <td>1399.180945</td>\n",
       "      <td>-449.937588</td>\n",
       "      <td>1400.316682</td>\n",
       "      <td>-450.527147</td>\n",
       "      <td>26.005245</td>\n",
       "      <td>-499.929616</td>\n",
       "      <td>23.886657</td>\n",
       "      <td>-499.951928</td>\n",
       "      <td>23.913535</td>\n",
       "      <td>-499.442343</td>\n",
       "      <td>23.957717</td>\n",
       "      <td>-499.901982</td>\n",
       "      <td>14.015015</td>\n",
       "      <td>-502.520901</td>\n",
       "      <td>11.912783</td>\n",
       "      <td>-501.133383</td>\n",
       "      <td>10.070913</td>\n",
       "      <td>-500.129135</td>\n",
       "      <td>8.013877</td>\n",
       "      <td>-500.517572</td>\n",
       "      <td>14.028663</td>\n",
       "      <td>-601.427363</td>\n",
       "    </tr>\n",
       "    <tr>\n",
       "      <th>3</th>\n",
       "      <td>68.347543</td>\n",
       "      <td>122.270188</td>\n",
       "      <td>11.322140</td>\n",
       "      <td>7.25</td>\n",
       "      <td>0.996739</td>\n",
       "      <td>1599.968720</td>\n",
       "      <td>-500.951778</td>\n",
       "      <td>1600.659236</td>\n",
       "      <td>-499.677094</td>\n",
       "      <td>1600.304144</td>\n",
       "      <td>-500.727997</td>\n",
       "      <td>1600.449520</td>\n",
       "      <td>-500.052575</td>\n",
       "      <td>6.043309</td>\n",
       "      <td>2.037807</td>\n",
       "      <td>542.590390</td>\n",
       "      <td>57.792734</td>\n",
       "      <td>36.862241</td>\n",
       "      <td>6.118189</td>\n",
       "      <td>11.630094</td>\n",
       "      <td>6.203177</td>\n",
       "      <td>11.692450</td>\n",
       "      <td>6.196578</td>\n",
       "      <td>87.226430</td>\n",
       "      <td>999.814770</td>\n",
       "      <td>-400.200179</td>\n",
       "      <td>1600.059442</td>\n",
       "      <td>-450.619948</td>\n",
       "      <td>1600.012842</td>\n",
       "      <td>-449.910497</td>\n",
       "      <td>1597.725177</td>\n",
       "      <td>-450.130127</td>\n",
       "      <td>1400.943157</td>\n",
       "      <td>-450.030142</td>\n",
       "      <td>1400.234743</td>\n",
       "      <td>-449.790835</td>\n",
       "      <td>25.942508</td>\n",
       "      <td>-499.176749</td>\n",
       "      <td>23.955516</td>\n",
       "      <td>-499.848796</td>\n",
       "      <td>23.966838</td>\n",
       "      <td>-500.008812</td>\n",
       "      <td>23.954443</td>\n",
       "      <td>-499.944710</td>\n",
       "      <td>14.036510</td>\n",
       "      <td>-500.857308</td>\n",
       "      <td>11.999550</td>\n",
       "      <td>-501.193686</td>\n",
       "      <td>9.970366</td>\n",
       "      <td>-499.201640</td>\n",
       "      <td>7.977324</td>\n",
       "      <td>-500.255908</td>\n",
       "      <td>14.005551</td>\n",
       "      <td>-599.996129</td>\n",
       "    </tr>\n",
       "    <tr>\n",
       "      <th>4</th>\n",
       "      <td>66.927016</td>\n",
       "      <td>117.988169</td>\n",
       "      <td>11.913613</td>\n",
       "      <td>7.25</td>\n",
       "      <td>1.009869</td>\n",
       "      <td>1601.339707</td>\n",
       "      <td>-498.975456</td>\n",
       "      <td>1601.437854</td>\n",
       "      <td>-500.323246</td>\n",
       "      <td>1599.581894</td>\n",
       "      <td>-500.888152</td>\n",
       "      <td>1602.649541</td>\n",
       "      <td>-500.593010</td>\n",
       "      <td>6.060915</td>\n",
       "      <td>1.786875</td>\n",
       "      <td>540.531893</td>\n",
       "      <td>56.047189</td>\n",
       "      <td>34.347666</td>\n",
       "      <td>5.663707</td>\n",
       "      <td>10.957755</td>\n",
       "      <td>6.198826</td>\n",
       "      <td>10.960521</td>\n",
       "      <td>6.194897</td>\n",
       "      <td>86.688794</td>\n",
       "      <td>999.678690</td>\n",
       "      <td>-399.752729</td>\n",
       "      <td>1600.208824</td>\n",
       "      <td>-449.599614</td>\n",
       "      <td>1600.357732</td>\n",
       "      <td>-450.034364</td>\n",
       "      <td>1599.759049</td>\n",
       "      <td>-449.909799</td>\n",
       "      <td>1401.560902</td>\n",
       "      <td>-448.877187</td>\n",
       "      <td>1401.160227</td>\n",
       "      <td>-450.407128</td>\n",
       "      <td>26.024787</td>\n",
       "      <td>-500.279091</td>\n",
       "      <td>23.955345</td>\n",
       "      <td>-500.593614</td>\n",
       "      <td>23.985703</td>\n",
       "      <td>-500.083811</td>\n",
       "      <td>23.958945</td>\n",
       "      <td>-499.990309</td>\n",
       "      <td>14.027298</td>\n",
       "      <td>-499.838632</td>\n",
       "      <td>11.953070</td>\n",
       "      <td>-501.053894</td>\n",
       "      <td>9.925709</td>\n",
       "      <td>-501.686727</td>\n",
       "      <td>7.894242</td>\n",
       "      <td>-500.356035</td>\n",
       "      <td>13.996647</td>\n",
       "      <td>-601.496691</td>\n",
       "    </tr>\n",
       "  </tbody>\n",
       "</table>\n",
       "</div>"
      ],
      "text/plain": [
       "   final.output.recovery  primary_cleaner.input.sulfate  \\\n",
       "0              70.541216                     127.092003   \n",
       "1              69.266198                     125.629232   \n",
       "2              68.116445                     123.819808   \n",
       "3              68.347543                     122.270188   \n",
       "4              66.927016                     117.988169   \n",
       "\n",
       "   primary_cleaner.input.depressant  primary_cleaner.input.feed_size  \\\n",
       "0                         10.128295                             7.25   \n",
       "1                         10.296251                             7.25   \n",
       "2                         11.316280                             7.25   \n",
       "3                         11.322140                             7.25   \n",
       "4                         11.913613                             7.25   \n",
       "\n",
       "   primary_cleaner.input.xanthate  primary_cleaner.state.floatbank8_a_air  \\\n",
       "0                        0.988759                             1549.775757   \n",
       "1                        1.002663                             1576.166671   \n",
       "2                        0.991265                             1601.556163   \n",
       "3                        0.996739                             1599.968720   \n",
       "4                        1.009869                             1601.339707   \n",
       "\n",
       "   primary_cleaner.state.floatbank8_a_level  \\\n",
       "0                               -498.912140   \n",
       "1                               -500.904965   \n",
       "2                               -499.997791   \n",
       "3                               -500.951778   \n",
       "4                               -498.975456   \n",
       "\n",
       "   primary_cleaner.state.floatbank8_b_air  \\\n",
       "0                             1551.434204   \n",
       "1                             1575.950626   \n",
       "2                             1600.386685   \n",
       "3                             1600.659236   \n",
       "4                             1601.437854   \n",
       "\n",
       "   primary_cleaner.state.floatbank8_b_level  \\\n",
       "0                               -516.403442   \n",
       "1                               -499.865889   \n",
       "2                               -500.607762   \n",
       "3                               -499.677094   \n",
       "4                               -500.323246   \n",
       "\n",
       "   primary_cleaner.state.floatbank8_c_air  \\\n",
       "0                             1549.873901   \n",
       "1                             1575.994189   \n",
       "2                             1602.003542   \n",
       "3                             1600.304144   \n",
       "4                             1599.581894   \n",
       "\n",
       "   primary_cleaner.state.floatbank8_c_level  \\\n",
       "0                               -498.666595   \n",
       "1                               -499.315107   \n",
       "2                               -500.870069   \n",
       "3                               -500.727997   \n",
       "4                               -500.888152   \n",
       "\n",
       "   primary_cleaner.state.floatbank8_d_air  \\\n",
       "0                             1554.367432   \n",
       "1                             1574.479259   \n",
       "2                             1599.541515   \n",
       "3                             1600.449520   \n",
       "4                             1602.649541   \n",
       "\n",
       "   primary_cleaner.state.floatbank8_d_level  rougher.input.feed_ag  \\\n",
       "0                               -493.428131               6.100378   \n",
       "1                               -498.931665               6.161113   \n",
       "2                               -499.827444               6.116455   \n",
       "3                               -500.052575               6.043309   \n",
       "4                               -500.593010               6.060915   \n",
       "\n",
       "   rougher.input.feed_pb  rougher.input.feed_rate  rougher.input.feed_size  \\\n",
       "0               2.284912               523.546326                55.486599   \n",
       "1               2.266033               525.290581                57.278666   \n",
       "2               2.159622               530.026610                57.510649   \n",
       "3               2.037807               542.590390                57.792734   \n",
       "4               1.786875               540.531893                56.047189   \n",
       "\n",
       "   rougher.input.feed_sol  rougher.input.feed_au  \\\n",
       "0               36.808594               6.486150   \n",
       "1               35.753385               6.478583   \n",
       "2               35.971630               6.362222   \n",
       "3               36.862241               6.118189   \n",
       "4               34.347666               5.663707   \n",
       "\n",
       "   rougher.input.floatbank10_sulfate  rougher.input.floatbank10_xanthate  \\\n",
       "0                          11.986616                            6.007990   \n",
       "1                          11.971193                            6.005766   \n",
       "2                          11.920603                            6.197377   \n",
       "3                          11.630094                            6.203177   \n",
       "4                          10.957755                            6.198826   \n",
       "\n",
       "   rougher.input.floatbank11_sulfate  rougher.input.floatbank11_xanthate  \\\n",
       "0                          11.836743                            6.005818   \n",
       "1                          11.996163                            6.012594   \n",
       "2                          11.920305                            6.204633   \n",
       "3                          11.692450                            6.196578   \n",
       "4                          10.960521                            6.194897   \n",
       "\n",
       "   rougher.output.recovery  rougher.state.floatbank10_a_air  \\\n",
       "0                87.107763                       999.706909   \n",
       "1                86.843261                      1000.286398   \n",
       "2                86.842308                       999.719565   \n",
       "3                87.226430                       999.814770   \n",
       "4                86.688794                       999.678690   \n",
       "\n",
       "   rougher.state.floatbank10_a_level  rougher.state.floatbank10_b_air  \\\n",
       "0                        -404.066986                      1603.011353   \n",
       "1                        -400.065196                      1600.754587   \n",
       "2                        -400.074028                      1599.337330   \n",
       "3                        -400.200179                      1600.059442   \n",
       "4                        -399.752729                      1600.208824   \n",
       "\n",
       "   rougher.state.floatbank10_b_level  rougher.state.floatbank10_c_air  \\\n",
       "0                        -434.715027                      1602.375000   \n",
       "1                        -449.953435                      1600.479580   \n",
       "2                        -450.008530                      1599.672797   \n",
       "3                        -450.619948                      1600.012842   \n",
       "4                        -449.599614                      1600.357732   \n",
       "\n",
       "   rougher.state.floatbank10_c_level  rougher.state.floatbank10_d_air  \\\n",
       "0                        -442.204468                      1598.937256   \n",
       "1                        -449.830646                      1600.527589   \n",
       "2                        -449.954491                      1599.849325   \n",
       "3                        -449.910497                      1597.725177   \n",
       "4                        -450.034364                      1599.759049   \n",
       "\n",
       "   rougher.state.floatbank10_d_level  rougher.state.floatbank10_e_air  \\\n",
       "0                        -451.294128                      1404.472046   \n",
       "1                        -449.953649                      1399.227084   \n",
       "2                        -449.954185                      1399.180945   \n",
       "3                        -450.130127                      1400.943157   \n",
       "4                        -449.909799                      1401.560902   \n",
       "\n",
       "   rougher.state.floatbank10_e_level  rougher.state.floatbank10_f_air  \\\n",
       "0                        -455.462982                      1416.354980   \n",
       "1                        -450.869848                      1399.719514   \n",
       "2                        -449.937588                      1400.316682   \n",
       "3                        -450.030142                      1400.234743   \n",
       "4                        -448.877187                      1401.160227   \n",
       "\n",
       "   rougher.state.floatbank10_f_level  \\\n",
       "0                        -451.939636   \n",
       "1                        -450.119001   \n",
       "2                        -450.527147   \n",
       "3                        -449.790835   \n",
       "4                        -450.407128   \n",
       "\n",
       "   secondary_cleaner.state.floatbank2_a_air  \\\n",
       "0                                 25.853109   \n",
       "1                                 25.880539   \n",
       "2                                 26.005245   \n",
       "3                                 25.942508   \n",
       "4                                 26.024787   \n",
       "\n",
       "   secondary_cleaner.state.floatbank2_a_level  \\\n",
       "0                                 -498.526489   \n",
       "1                                 -499.989656   \n",
       "2                                 -499.929616   \n",
       "3                                 -499.176749   \n",
       "4                                 -500.279091   \n",
       "\n",
       "   secondary_cleaner.state.floatbank2_b_air  \\\n",
       "0                                 23.893660   \n",
       "1                                 23.889530   \n",
       "2                                 23.886657   \n",
       "3                                 23.955516   \n",
       "4                                 23.955345   \n",
       "\n",
       "   secondary_cleaner.state.floatbank2_b_level  \\\n",
       "0                                 -501.406281   \n",
       "1                                 -500.372428   \n",
       "2                                 -499.951928   \n",
       "3                                 -499.848796   \n",
       "4                                 -500.593614   \n",
       "\n",
       "   secondary_cleaner.state.floatbank3_a_air  \\\n",
       "0                                 23.961798   \n",
       "1                                 23.970550   \n",
       "2                                 23.913535   \n",
       "3                                 23.966838   \n",
       "4                                 23.985703   \n",
       "\n",
       "   secondary_cleaner.state.floatbank3_a_level  \\\n",
       "0                                 -495.262817   \n",
       "1                                 -500.085473   \n",
       "2                                 -499.442343   \n",
       "3                                 -500.008812   \n",
       "4                                 -500.083811   \n",
       "\n",
       "   secondary_cleaner.state.floatbank3_b_air  \\\n",
       "0                                 21.940409   \n",
       "1                                 22.085714   \n",
       "2                                 23.957717   \n",
       "3                                 23.954443   \n",
       "4                                 23.958945   \n",
       "\n",
       "   secondary_cleaner.state.floatbank3_b_level  \\\n",
       "0                                 -499.340973   \n",
       "1                                 -499.446897   \n",
       "2                                 -499.901982   \n",
       "3                                 -499.944710   \n",
       "4                                 -499.990309   \n",
       "\n",
       "   secondary_cleaner.state.floatbank4_a_air  \\\n",
       "0                                 14.016835   \n",
       "1                                 13.992281   \n",
       "2                                 14.015015   \n",
       "3                                 14.036510   \n",
       "4                                 14.027298   \n",
       "\n",
       "   secondary_cleaner.state.floatbank4_a_level  \\\n",
       "0                                 -502.488007   \n",
       "1                                 -505.503262   \n",
       "2                                 -502.520901   \n",
       "3                                 -500.857308   \n",
       "4                                 -499.838632   \n",
       "\n",
       "   secondary_cleaner.state.floatbank4_b_air  \\\n",
       "0                                 12.099931   \n",
       "1                                 11.950531   \n",
       "2                                 11.912783   \n",
       "3                                 11.999550   \n",
       "4                                 11.953070   \n",
       "\n",
       "   secondary_cleaner.state.floatbank4_b_level  \\\n",
       "0                                 -504.715942   \n",
       "1                                 -501.331529   \n",
       "2                                 -501.133383   \n",
       "3                                 -501.193686   \n",
       "4                                 -501.053894   \n",
       "\n",
       "   secondary_cleaner.state.floatbank5_a_air  \\\n",
       "0                                  9.925633   \n",
       "1                                 10.039245   \n",
       "2                                 10.070913   \n",
       "3                                  9.970366   \n",
       "4                                  9.925709   \n",
       "\n",
       "   secondary_cleaner.state.floatbank5_a_level  \\\n",
       "0                                 -498.310211   \n",
       "1                                 -500.169983   \n",
       "2                                 -500.129135   \n",
       "3                                 -499.201640   \n",
       "4                                 -501.686727   \n",
       "\n",
       "   secondary_cleaner.state.floatbank5_b_air  \\\n",
       "0                                  8.079666   \n",
       "1                                  7.984757   \n",
       "2                                  8.013877   \n",
       "3                                  7.977324   \n",
       "4                                  7.894242   \n",
       "\n",
       "   secondary_cleaner.state.floatbank5_b_level  \\\n",
       "0                                 -500.470978   \n",
       "1                                 -500.582168   \n",
       "2                                 -500.517572   \n",
       "3                                 -500.255908   \n",
       "4                                 -500.356035   \n",
       "\n",
       "   secondary_cleaner.state.floatbank6_a_air  \\\n",
       "0                                 14.151341   \n",
       "1                                 13.998353   \n",
       "2                                 14.028663   \n",
       "3                                 14.005551   \n",
       "4                                 13.996647   \n",
       "\n",
       "   secondary_cleaner.state.floatbank6_a_level  \n",
       "0                                 -605.841980  \n",
       "1                                 -599.787184  \n",
       "2                                 -601.427363  \n",
       "3                                 -599.996129  \n",
       "4                                 -601.496691  "
      ]
     },
     "execution_count": 48,
     "metadata": {},
     "output_type": "execute_result"
    }
   ],
   "source": [
    "for column in missing_columns:\n",
    "    train_data.drop(column, axis = 1, inplace = True)\n",
    "train_data = train_data.drop(['recovery', 'date'], axis = 1)\n",
    "train_data.head()"
   ]
  },
  {
   "cell_type": "markdown",
   "metadata": {},
   "source": [
    "Теперь обучающая выборка и тестовая выборка имеют одинаковое количество столбцов (признаков)"
   ]
  },
  {
   "cell_type": "markdown",
   "metadata": {},
   "source": [
    "#### Обучение модели"
   ]
  },
  {
   "cell_type": "markdown",
   "metadata": {},
   "source": [
    "Целевой признак имеет количественное значение, поэтому будем решать задачу регрессии. Следует проверить 3 алгоритма: алгоритм решащего дерева, случайного леса и линейная регрессия."
   ]
  },
  {
   "cell_type": "code",
   "execution_count": 49,
   "metadata": {},
   "outputs": [],
   "source": [
    "features = train_data.drop(['rougher.output.recovery', 'final.output.recovery'], axis=1)\n",
    "target = train_data[['rougher.output.recovery', 'final.output.recovery']]\n",
    "\n",
    "features_train, features_valid, target_train, target_valid = train_test_split(features, target, test_size=0.25, random_state=12345)"
   ]
  },
  {
   "cell_type": "markdown",
   "metadata": {},
   "source": [
    "##### Алгоритм решающего дерева"
   ]
  },
  {
   "cell_type": "code",
   "execution_count": 50,
   "metadata": {},
   "outputs": [
    {
     "name": "stdout",
     "output_type": "stream",
     "text": [
      "Итоговое sMAPE: -0.16000550858473037 Глубина дерева: 16\n"
     ]
    }
   ],
   "source": [
    "best_model_decision_tree = None\n",
    "best_scores = 10000\n",
    "best_depth = 0\n",
    "for depth in range(1, 21):\n",
    "    model = DecisionTreeRegressor(random_state = 12345, max_depth = depth)\n",
    "    model.fit(features_train, target_train)\n",
    "    predictions_valid = model.predict(features_valid)\n",
    "    scores = cross_val_score(model, features, target, scoring = make_scorer(final_smape, greater_is_better = False), cv = 5)\n",
    "    final_scores = sum(scores) / len(scores)\n",
    "    if final_scores < best_scores:\n",
    "        best_model_decision_tree = model\n",
    "        best_scores = final_scores\n",
    "        best_depth = depth\n",
    "\n",
    "print('Итоговое sMAPE:', best_scores, \"Глубина дерева:\", best_depth)"
   ]
  },
  {
   "cell_type": "markdown",
   "metadata": {},
   "source": [
    "##### Алгоритм случайного леса"
   ]
  },
  {
   "cell_type": "code",
   "execution_count": 51,
   "metadata": {},
   "outputs": [
    {
     "name": "stdout",
     "output_type": "stream",
     "text": [
      "Итоговое sMAPE -0.10714499191335528 Количество деревьев: 10 Максимальная глубина: 10\n"
     ]
    }
   ],
   "source": [
    "best_model_random_forest = None\n",
    "best_scores = 10000\n",
    "best_est = 0\n",
    "best_depth = 0\n",
    "for est in range(10, 51, 10):\n",
    "    for depth in range (1, 11):\n",
    "        model = RandomForestRegressor(random_state = 12345, n_estimators = est, max_depth = depth)\n",
    "        model.fit(features_train, target_train)\n",
    "        predictions_valid = model.predict(features_valid) \n",
    "        scores = cross_val_score(model, features, target, scoring = make_scorer(final_smape, greater_is_better = False), cv = 5)\n",
    "        final_scores = sum(scores) / len(scores)\n",
    "        if final_scores < best_scores:\n",
    "            best_model_random_forest = model\n",
    "            best_scores = final_scores\n",
    "            best_est = est\n",
    "            best_depth = depth\n",
    "\n",
    "print('Итоговое sMAPE', best_scores, \"Количество деревьев:\", best_est, \"Максимальная глубина:\", best_depth)"
   ]
  },
  {
   "cell_type": "markdown",
   "metadata": {},
   "source": [
    "##### Линейная регрессия"
   ]
  },
  {
   "cell_type": "code",
   "execution_count": 52,
   "metadata": {},
   "outputs": [
    {
     "name": "stdout",
     "output_type": "stream",
     "text": [
      "Итоговое sMAPE: -0.10315819292233315\n"
     ]
    }
   ],
   "source": [
    "model_linear_regression = LinearRegression()\n",
    "model_linear_regression.fit(features_train, target_train)\n",
    "predictions_valid = model_linear_regression.predict(features_valid)\n",
    "\n",
    "scores = cross_val_score(model_linear_regression, features, target, scoring = make_scorer(final_smape, greater_is_better = False), cv = 5)\n",
    "final_scores = sum(scores) / len(scores)\n",
    "print('Итоговое sMAPE:', final_scores)"
   ]
  },
  {
   "cell_type": "markdown",
   "metadata": {},
   "source": [
    "Лучшие метрики качества дает лнейная регрессия, так как в данном случае следует интерпретировать итоговое sMAPE по модулю. А так как мы минимизируем значение sMAPE, то лучший результат будет 0.10315819292233294 у модели линейной регрессии"
   ]
  },
  {
   "cell_type": "markdown",
   "metadata": {},
   "source": [
    "#### Проверка модели на тестовой выборке"
   ]
  },
  {
   "cell_type": "code",
   "execution_count": 53,
   "metadata": {},
   "outputs": [],
   "source": [
    "features_test = new_test_data.drop(['rougher.output.recovery', 'final.output.recovery'], axis=1)\n",
    "target_test = new_test_data[['rougher.output.recovery', 'final.output.recovery']]"
   ]
  },
  {
   "cell_type": "code",
   "execution_count": 54,
   "metadata": {},
   "outputs": [
    {
     "name": "stdout",
     "output_type": "stream",
     "text": [
      "Итоговое sMAPE: 0.09629855001194798\n"
     ]
    }
   ],
   "source": [
    "predictions_test = model_linear_regression.predict(features_test)\n",
    "\n",
    "print('Итоговое sMAPE:', final_smape(target_test, predictions_test))"
   ]
  },
  {
   "cell_type": "markdown",
   "metadata": {},
   "source": [
    "## Вывод"
   ]
  },
  {
   "cell_type": "markdown",
   "metadata": {},
   "source": [
    "Был подготовлен прототип модели машинного обучения для «Цифры». Лучшей моделью был выбран алгоритм линейной регрессии. Именно данный алгоритм дал наилучшие результаты по метрике sMAPE, на тестовой выборке данный алгорим показал итоговое sMAPE 0.0963"
   ]
  }
 ],
 "metadata": {
  "ExecuteTimeLog": [
   {
    "duration": 742,
    "start_time": "2022-01-06T16:16:37.117Z"
   },
   {
    "duration": 3,
    "start_time": "2022-01-06T16:17:31.089Z"
   },
   {
    "duration": 385,
    "start_time": "2022-01-06T16:17:59.348Z"
   },
   {
    "duration": 357,
    "start_time": "2022-01-06T16:18:08.826Z"
   },
   {
    "duration": 3,
    "start_time": "2022-01-06T16:18:55.462Z"
   },
   {
    "duration": 24,
    "start_time": "2022-01-06T16:19:09.178Z"
   },
   {
    "duration": 3,
    "start_time": "2022-01-06T16:24:13.029Z"
   },
   {
    "duration": 339,
    "start_time": "2022-01-06T16:24:31.748Z"
   },
   {
    "duration": 3,
    "start_time": "2022-01-06T16:25:19.842Z"
   },
   {
    "duration": 12,
    "start_time": "2022-01-06T16:25:35.962Z"
   },
   {
    "duration": 12,
    "start_time": "2022-01-06T16:25:52.442Z"
   },
   {
    "duration": 13,
    "start_time": "2022-01-06T16:25:58.783Z"
   },
   {
    "duration": 12,
    "start_time": "2022-01-06T16:26:13.274Z"
   },
   {
    "duration": 127,
    "start_time": "2022-01-06T16:27:41.504Z"
   },
   {
    "duration": 17,
    "start_time": "2022-01-06T16:27:58.734Z"
   },
   {
    "duration": 202,
    "start_time": "2022-01-06T16:28:18.955Z"
   },
   {
    "duration": 10,
    "start_time": "2022-01-06T16:28:38.378Z"
   },
   {
    "duration": 458,
    "start_time": "2022-01-06T16:29:53.955Z"
   },
   {
    "duration": 12,
    "start_time": "2022-01-06T16:30:23.439Z"
   },
   {
    "duration": 26,
    "start_time": "2022-01-06T16:30:26.696Z"
   },
   {
    "duration": 366,
    "start_time": "2022-01-06T16:30:48.716Z"
   },
   {
    "duration": 13,
    "start_time": "2022-01-06T16:31:03.446Z"
   },
   {
    "duration": 10,
    "start_time": "2022-01-06T16:36:25.480Z"
   },
   {
    "duration": 12,
    "start_time": "2022-01-06T16:36:42.860Z"
   },
   {
    "duration": 16,
    "start_time": "2022-01-06T16:36:56.932Z"
   },
   {
    "duration": 418,
    "start_time": "2022-01-06T16:37:06.756Z"
   },
   {
    "duration": 12,
    "start_time": "2022-01-06T16:37:15.835Z"
   },
   {
    "duration": 12,
    "start_time": "2022-01-06T16:37:21.191Z"
   },
   {
    "duration": 384,
    "start_time": "2022-01-06T16:38:41.035Z"
   },
   {
    "duration": 436,
    "start_time": "2022-01-06T16:38:50.745Z"
   },
   {
    "duration": 313,
    "start_time": "2022-01-06T16:39:25.359Z"
   },
   {
    "duration": 401,
    "start_time": "2022-01-06T16:39:35.643Z"
   },
   {
    "duration": 147,
    "start_time": "2022-01-06T16:39:56.037Z"
   },
   {
    "duration": 231,
    "start_time": "2022-01-06T16:40:21.993Z"
   },
   {
    "duration": 519,
    "start_time": "2022-01-06T16:40:35.696Z"
   },
   {
    "duration": 427,
    "start_time": "2022-01-06T16:40:54.169Z"
   },
   {
    "duration": 14,
    "start_time": "2022-01-06T16:41:39.522Z"
   },
   {
    "duration": 4,
    "start_time": "2022-01-06T16:41:47.460Z"
   },
   {
    "duration": 4,
    "start_time": "2022-01-06T16:41:48.213Z"
   },
   {
    "duration": 4,
    "start_time": "2022-01-06T16:41:48.515Z"
   },
   {
    "duration": 3,
    "start_time": "2022-01-06T16:41:48.776Z"
   },
   {
    "duration": 4,
    "start_time": "2022-01-06T16:41:49.047Z"
   },
   {
    "duration": 421,
    "start_time": "2022-01-06T16:41:49.621Z"
   },
   {
    "duration": 25,
    "start_time": "2022-01-06T16:41:50.044Z"
   },
   {
    "duration": 408,
    "start_time": "2022-01-06T16:41:50.197Z"
   },
   {
    "duration": 13,
    "start_time": "2022-01-06T16:41:50.607Z"
   },
   {
    "duration": 138,
    "start_time": "2022-01-06T16:41:51.379Z"
   },
   {
    "duration": 16,
    "start_time": "2022-01-06T16:41:51.690Z"
   },
   {
    "duration": 236,
    "start_time": "2022-01-06T16:41:51.974Z"
   },
   {
    "duration": 9,
    "start_time": "2022-01-06T16:41:52.254Z"
   },
   {
    "duration": 524,
    "start_time": "2022-01-06T16:41:52.867Z"
   },
   {
    "duration": 35,
    "start_time": "2022-01-06T16:41:53.394Z"
   },
   {
    "duration": 441,
    "start_time": "2022-01-06T16:41:53.468Z"
   },
   {
    "duration": 15,
    "start_time": "2022-01-06T16:41:53.912Z"
   },
   {
    "duration": 4,
    "start_time": "2022-01-06T17:27:02.180Z"
   },
   {
    "duration": 4,
    "start_time": "2022-01-06T17:27:40.850Z"
   },
   {
    "duration": 35,
    "start_time": "2022-01-06T17:28:06.503Z"
   },
   {
    "duration": 172,
    "start_time": "2022-01-06T17:28:34.526Z"
   },
   {
    "duration": 3,
    "start_time": "2022-01-06T17:28:54.218Z"
   },
   {
    "duration": 412,
    "start_time": "2022-01-06T17:28:56.209Z"
   },
   {
    "duration": 38,
    "start_time": "2022-01-06T17:28:56.624Z"
   },
   {
    "duration": 472,
    "start_time": "2022-01-06T17:28:56.666Z"
   },
   {
    "duration": 13,
    "start_time": "2022-01-06T17:28:57.140Z"
   },
   {
    "duration": 190,
    "start_time": "2022-01-06T17:28:57.155Z"
   },
   {
    "duration": 134,
    "start_time": "2022-01-06T17:29:09.870Z"
   },
   {
    "duration": 16,
    "start_time": "2022-01-06T17:29:10.239Z"
   },
   {
    "duration": 233,
    "start_time": "2022-01-06T17:29:10.653Z"
   },
   {
    "duration": 10,
    "start_time": "2022-01-06T17:29:11.024Z"
   },
   {
    "duration": 35,
    "start_time": "2022-01-06T17:29:11.715Z"
   },
   {
    "duration": 150,
    "start_time": "2022-01-06T17:29:29.920Z"
   },
   {
    "duration": 6,
    "start_time": "2022-01-06T17:32:37.549Z"
   },
   {
    "duration": 371,
    "start_time": "2022-01-06T17:32:38.353Z"
   },
   {
    "duration": 23,
    "start_time": "2022-01-06T17:32:38.727Z"
   },
   {
    "duration": 447,
    "start_time": "2022-01-06T17:32:38.753Z"
   },
   {
    "duration": 22,
    "start_time": "2022-01-06T17:32:39.202Z"
   },
   {
    "duration": 171,
    "start_time": "2022-01-06T17:32:43.915Z"
   },
   {
    "duration": 36,
    "start_time": "2022-01-06T17:32:49.196Z"
   },
   {
    "duration": 151,
    "start_time": "2022-01-06T17:32:54.675Z"
   },
   {
    "duration": 427,
    "start_time": "2022-01-06T18:25:23.519Z"
   },
   {
    "duration": 89,
    "start_time": "2022-01-06T18:25:52.823Z"
   },
   {
    "duration": 12,
    "start_time": "2022-01-06T18:25:58.583Z"
   },
   {
    "duration": 558,
    "start_time": "2022-01-06T18:37:46.095Z"
   },
   {
    "duration": 5,
    "start_time": "2022-01-06T18:40:04.306Z"
   },
   {
    "duration": 6,
    "start_time": "2022-01-06T18:40:19.852Z"
   },
   {
    "duration": 5,
    "start_time": "2022-01-06T18:40:40.261Z"
   },
   {
    "duration": 6809,
    "start_time": "2022-01-06T18:42:02.119Z"
   },
   {
    "duration": -3402,
    "start_time": "2022-01-06T18:42:12.332Z"
   },
   {
    "duration": 7,
    "start_time": "2022-01-06T18:42:19.658Z"
   },
   {
    "duration": 6,
    "start_time": "2022-01-06T18:42:20.982Z"
   },
   {
    "duration": 277,
    "start_time": "2022-01-06T18:44:39.411Z"
   },
   {
    "duration": 8,
    "start_time": "2022-01-06T18:44:43.338Z"
   },
   {
    "duration": 444,
    "start_time": "2022-01-06T18:44:44.713Z"
   },
   {
    "duration": 3,
    "start_time": "2022-01-06T18:44:56.727Z"
   },
   {
    "duration": 7,
    "start_time": "2022-01-06T18:45:02.055Z"
   },
   {
    "duration": 6,
    "start_time": "2022-01-06T18:45:02.668Z"
   },
   {
    "duration": 6,
    "start_time": "2022-01-06T18:45:09.188Z"
   },
   {
    "duration": 3,
    "start_time": "2022-01-06T18:49:35.911Z"
   },
   {
    "duration": 1071,
    "start_time": "2022-01-07T14:52:46.873Z"
   },
   {
    "duration": 3,
    "start_time": "2022-01-07T14:52:49.619Z"
   },
   {
    "duration": 3,
    "start_time": "2022-01-07T14:52:50.982Z"
   },
   {
    "duration": 3,
    "start_time": "2022-01-07T14:52:51.277Z"
   },
   {
    "duration": 2,
    "start_time": "2022-01-07T14:52:51.510Z"
   },
   {
    "duration": 3,
    "start_time": "2022-01-07T14:52:51.743Z"
   },
   {
    "duration": 279,
    "start_time": "2022-01-07T14:52:52.376Z"
   },
   {
    "duration": 14,
    "start_time": "2022-01-07T14:52:52.684Z"
   },
   {
    "duration": 230,
    "start_time": "2022-01-07T14:52:52.862Z"
   },
   {
    "duration": 8,
    "start_time": "2022-01-07T14:52:53.103Z"
   },
   {
    "duration": 98,
    "start_time": "2022-01-07T14:52:53.353Z"
   },
   {
    "duration": 97,
    "start_time": "2022-01-07T14:52:54.387Z"
   },
   {
    "duration": 10,
    "start_time": "2022-01-07T14:52:54.730Z"
   },
   {
    "duration": 128,
    "start_time": "2022-01-07T14:52:55.322Z"
   },
   {
    "duration": 7,
    "start_time": "2022-01-07T14:52:55.630Z"
   },
   {
    "duration": 19,
    "start_time": "2022-01-07T14:52:55.937Z"
   },
   {
    "duration": 365,
    "start_time": "2022-01-07T14:52:57.200Z"
   },
   {
    "duration": 17,
    "start_time": "2022-01-07T14:52:57.616Z"
   },
   {
    "duration": 249,
    "start_time": "2022-01-07T14:52:58.041Z"
   },
   {
    "duration": 11,
    "start_time": "2022-01-07T14:52:58.438Z"
   },
   {
    "duration": 77,
    "start_time": "2022-01-07T14:52:59.007Z"
   },
   {
    "duration": 9,
    "start_time": "2022-01-07T14:53:00.422Z"
   },
   {
    "duration": 4,
    "start_time": "2022-01-07T14:53:01.058Z"
   },
   {
    "duration": 319,
    "start_time": "2022-01-07T14:53:40.903Z"
   },
   {
    "duration": 985,
    "start_time": "2022-01-07T14:53:56.842Z"
   },
   {
    "duration": 450,
    "start_time": "2022-01-07T14:54:21.836Z"
   },
   {
    "duration": 239,
    "start_time": "2022-01-07T14:54:25.935Z"
   },
   {
    "duration": 4,
    "start_time": "2022-01-07T14:54:42.411Z"
   },
   {
    "duration": 249,
    "start_time": "2022-01-07T14:56:18.344Z"
   },
   {
    "duration": 4,
    "start_time": "2022-01-07T14:58:59.926Z"
   },
   {
    "duration": 4,
    "start_time": "2022-01-07T14:59:07.517Z"
   },
   {
    "duration": 3,
    "start_time": "2022-01-07T14:59:27.443Z"
   },
   {
    "duration": 4,
    "start_time": "2022-01-07T14:59:33.657Z"
   },
   {
    "duration": 394,
    "start_time": "2022-01-07T15:00:34.866Z"
   },
   {
    "duration": 3,
    "start_time": "2022-01-07T15:02:03.274Z"
   },
   {
    "duration": 4,
    "start_time": "2022-01-07T15:03:20.775Z"
   },
   {
    "duration": 80,
    "start_time": "2022-01-07T15:10:00.521Z"
   },
   {
    "duration": 23,
    "start_time": "2022-01-07T15:15:30.196Z"
   },
   {
    "duration": 33,
    "start_time": "2022-01-07T15:15:35.616Z"
   },
   {
    "duration": 562,
    "start_time": "2022-01-07T15:16:21.583Z"
   },
   {
    "duration": 247,
    "start_time": "2022-01-07T15:16:25.245Z"
   },
   {
    "duration": 7,
    "start_time": "2022-01-07T15:16:37.731Z"
   },
   {
    "duration": 4,
    "start_time": "2022-01-07T15:16:45.965Z"
   },
   {
    "duration": 6,
    "start_time": "2022-01-07T15:16:58.453Z"
   },
   {
    "duration": 5,
    "start_time": "2022-01-07T15:17:13.546Z"
   },
   {
    "duration": 3,
    "start_time": "2022-01-07T15:17:53.266Z"
   },
   {
    "duration": 3,
    "start_time": "2022-01-07T15:18:10.077Z"
   },
   {
    "duration": 2,
    "start_time": "2022-01-07T15:18:10.769Z"
   },
   {
    "duration": 2,
    "start_time": "2022-01-07T15:18:10.981Z"
   },
   {
    "duration": 2,
    "start_time": "2022-01-07T15:18:11.203Z"
   },
   {
    "duration": 3,
    "start_time": "2022-01-07T15:18:11.710Z"
   },
   {
    "duration": 2,
    "start_time": "2022-01-07T15:18:11.751Z"
   },
   {
    "duration": 325,
    "start_time": "2022-01-07T15:18:11.841Z"
   },
   {
    "duration": 16,
    "start_time": "2022-01-07T15:18:12.168Z"
   },
   {
    "duration": 260,
    "start_time": "2022-01-07T15:18:12.187Z"
   },
   {
    "duration": 9,
    "start_time": "2022-01-07T15:18:12.449Z"
   },
   {
    "duration": 121,
    "start_time": "2022-01-07T15:18:12.460Z"
   },
   {
    "duration": 105,
    "start_time": "2022-01-07T15:18:12.583Z"
   },
   {
    "duration": 10,
    "start_time": "2022-01-07T15:18:12.691Z"
   },
   {
    "duration": 158,
    "start_time": "2022-01-07T15:18:12.704Z"
   },
   {
    "duration": 7,
    "start_time": "2022-01-07T15:18:12.865Z"
   },
   {
    "duration": 20,
    "start_time": "2022-01-07T15:18:12.874Z"
   },
   {
    "duration": 388,
    "start_time": "2022-01-07T15:18:12.896Z"
   },
   {
    "duration": 14,
    "start_time": "2022-01-07T15:18:13.285Z"
   },
   {
    "duration": 269,
    "start_time": "2022-01-07T15:18:13.301Z"
   },
   {
    "duration": 8,
    "start_time": "2022-01-07T15:18:13.572Z"
   },
   {
    "duration": 84,
    "start_time": "2022-01-07T15:18:13.582Z"
   },
   {
    "duration": 5,
    "start_time": "2022-01-07T15:18:13.837Z"
   },
   {
    "duration": 4,
    "start_time": "2022-01-07T15:18:14.049Z"
   },
   {
    "duration": 3,
    "start_time": "2022-01-07T15:18:14.719Z"
   },
   {
    "duration": 3,
    "start_time": "2022-01-07T15:18:16.276Z"
   },
   {
    "duration": 6,
    "start_time": "2022-01-07T15:18:17.625Z"
   },
   {
    "duration": 11,
    "start_time": "2022-01-07T15:18:33.021Z"
   },
   {
    "duration": 9,
    "start_time": "2022-01-07T15:19:22.548Z"
   },
   {
    "duration": 6,
    "start_time": "2022-01-07T15:20:23.337Z"
   },
   {
    "duration": 7,
    "start_time": "2022-01-07T15:20:32.046Z"
   },
   {
    "duration": 6,
    "start_time": "2022-01-07T15:20:37.633Z"
   },
   {
    "duration": 352,
    "start_time": "2022-01-07T15:20:51.960Z"
   },
   {
    "duration": 7,
    "start_time": "2022-01-07T15:21:01.640Z"
   },
   {
    "duration": 6,
    "start_time": "2022-01-07T15:21:12.492Z"
   },
   {
    "duration": 6,
    "start_time": "2022-01-07T16:28:54.483Z"
   },
   {
    "duration": 6,
    "start_time": "2022-01-07T16:29:04.234Z"
   },
   {
    "duration": 6,
    "start_time": "2022-01-07T16:31:21.641Z"
   },
   {
    "duration": 239,
    "start_time": "2022-01-07T16:32:23.889Z"
   },
   {
    "duration": 6,
    "start_time": "2022-01-07T16:32:32.777Z"
   },
   {
    "duration": 6,
    "start_time": "2022-01-07T16:32:47.270Z"
   },
   {
    "duration": 6,
    "start_time": "2022-01-07T16:32:59.218Z"
   },
   {
    "duration": 5,
    "start_time": "2022-01-07T16:33:08.941Z"
   },
   {
    "duration": 7,
    "start_time": "2022-01-07T16:33:15.413Z"
   },
   {
    "duration": 5,
    "start_time": "2022-01-07T16:33:51.224Z"
   },
   {
    "duration": 5,
    "start_time": "2022-01-07T16:34:08.583Z"
   },
   {
    "duration": 81,
    "start_time": "2022-01-07T16:34:16.854Z"
   },
   {
    "duration": 5,
    "start_time": "2022-01-07T16:34:22.744Z"
   },
   {
    "duration": 6,
    "start_time": "2022-01-07T16:34:36.454Z"
   },
   {
    "duration": 7,
    "start_time": "2022-01-07T16:34:45.034Z"
   },
   {
    "duration": 6,
    "start_time": "2022-01-07T16:36:32.807Z"
   },
   {
    "duration": 5,
    "start_time": "2022-01-07T16:36:44.286Z"
   },
   {
    "duration": 395,
    "start_time": "2022-01-07T16:38:50.089Z"
   },
   {
    "duration": 452,
    "start_time": "2022-01-07T16:40:29.452Z"
   },
   {
    "duration": 747,
    "start_time": "2022-01-07T16:41:40.539Z"
   },
   {
    "duration": 445,
    "start_time": "2022-01-07T16:41:49.210Z"
   },
   {
    "duration": 383,
    "start_time": "2022-01-07T16:41:56.545Z"
   },
   {
    "duration": 407,
    "start_time": "2022-01-07T16:42:02.844Z"
   },
   {
    "duration": 543,
    "start_time": "2022-01-07T16:42:32.709Z"
   },
   {
    "duration": 6,
    "start_time": "2022-01-07T16:44:00.952Z"
   },
   {
    "duration": 231,
    "start_time": "2022-01-07T16:44:27.846Z"
   },
   {
    "duration": 10,
    "start_time": "2022-01-07T16:44:38.427Z"
   },
   {
    "duration": 8,
    "start_time": "2022-01-07T16:45:54.749Z"
   },
   {
    "duration": 7,
    "start_time": "2022-01-07T16:46:00.826Z"
   },
   {
    "duration": 6,
    "start_time": "2022-01-07T16:46:35.189Z"
   },
   {
    "duration": 6,
    "start_time": "2022-01-07T16:46:51.157Z"
   },
   {
    "duration": 5,
    "start_time": "2022-01-07T16:46:56.937Z"
   },
   {
    "duration": 6,
    "start_time": "2022-01-07T16:47:07.474Z"
   },
   {
    "duration": 5,
    "start_time": "2022-01-07T16:47:15.131Z"
   },
   {
    "duration": 339,
    "start_time": "2022-01-07T16:49:53.558Z"
   },
   {
    "duration": 8,
    "start_time": "2022-01-07T16:50:00.923Z"
   },
   {
    "duration": 6,
    "start_time": "2022-01-07T16:50:22.568Z"
   },
   {
    "duration": 248,
    "start_time": "2022-01-07T16:50:27.483Z"
   },
   {
    "duration": 7,
    "start_time": "2022-01-07T16:50:33.459Z"
   },
   {
    "duration": 3,
    "start_time": "2022-01-07T16:51:05.616Z"
   },
   {
    "duration": 2,
    "start_time": "2022-01-07T16:51:06.055Z"
   },
   {
    "duration": 292,
    "start_time": "2022-01-07T16:51:06.469Z"
   },
   {
    "duration": 15,
    "start_time": "2022-01-07T16:51:06.762Z"
   },
   {
    "duration": 233,
    "start_time": "2022-01-07T16:51:07.356Z"
   },
   {
    "duration": 10,
    "start_time": "2022-01-07T16:51:08.390Z"
   },
   {
    "duration": 100,
    "start_time": "2022-01-07T16:51:25.830Z"
   },
   {
    "duration": 100,
    "start_time": "2022-01-07T16:51:26.430Z"
   },
   {
    "duration": 11,
    "start_time": "2022-01-07T16:51:26.634Z"
   },
   {
    "duration": 132,
    "start_time": "2022-01-07T16:51:26.817Z"
   },
   {
    "duration": 9,
    "start_time": "2022-01-07T16:51:26.996Z"
   },
   {
    "duration": 20,
    "start_time": "2022-01-07T16:51:27.184Z"
   },
   {
    "duration": 384,
    "start_time": "2022-01-07T16:51:27.763Z"
   },
   {
    "duration": 16,
    "start_time": "2022-01-07T16:51:28.149Z"
   },
   {
    "duration": 265,
    "start_time": "2022-01-07T16:51:28.184Z"
   },
   {
    "duration": 11,
    "start_time": "2022-01-07T16:51:28.451Z"
   },
   {
    "duration": 82,
    "start_time": "2022-01-07T16:51:28.613Z"
   },
   {
    "duration": 6,
    "start_time": "2022-01-07T16:51:30.495Z"
   },
   {
    "duration": 14,
    "start_time": "2022-01-07T16:51:30.503Z"
   },
   {
    "duration": 9,
    "start_time": "2022-01-07T16:51:30.519Z"
   },
   {
    "duration": 2,
    "start_time": "2022-01-07T16:51:34.070Z"
   },
   {
    "duration": 6,
    "start_time": "2022-01-07T16:51:34.598Z"
   },
   {
    "duration": 8,
    "start_time": "2022-01-07T16:51:38.863Z"
   },
   {
    "duration": 41,
    "start_time": "2022-01-07T16:52:50.047Z"
   },
   {
    "duration": 6,
    "start_time": "2022-01-07T16:53:03.618Z"
   },
   {
    "duration": 14,
    "start_time": "2022-01-07T16:53:11.980Z"
   },
   {
    "duration": 7,
    "start_time": "2022-01-07T16:59:25.725Z"
   },
   {
    "duration": 22,
    "start_time": "2022-01-07T16:59:43.151Z"
   },
   {
    "duration": 10,
    "start_time": "2022-01-07T17:00:17.173Z"
   },
   {
    "duration": 6,
    "start_time": "2022-01-07T17:04:25.191Z"
   },
   {
    "duration": 4,
    "start_time": "2022-01-07T17:04:36.733Z"
   },
   {
    "duration": 9,
    "start_time": "2022-01-07T17:04:53.120Z"
   },
   {
    "duration": 11,
    "start_time": "2022-01-07T17:05:55.534Z"
   },
   {
    "duration": 281,
    "start_time": "2022-01-07T17:06:09.815Z"
   },
   {
    "duration": 20,
    "start_time": "2022-01-07T17:06:16.557Z"
   },
   {
    "duration": 502,
    "start_time": "2022-01-07T17:08:58.756Z"
   },
   {
    "duration": 255,
    "start_time": "2022-01-07T17:09:52.430Z"
   },
   {
    "duration": 3,
    "start_time": "2022-01-07T17:10:01.413Z"
   },
   {
    "duration": 3,
    "start_time": "2022-01-07T17:10:01.916Z"
   },
   {
    "duration": 2,
    "start_time": "2022-01-07T17:10:02.427Z"
   },
   {
    "duration": 3,
    "start_time": "2022-01-07T17:10:02.469Z"
   },
   {
    "duration": 3,
    "start_time": "2022-01-07T17:10:02.509Z"
   },
   {
    "duration": 3,
    "start_time": "2022-01-07T17:10:02.556Z"
   },
   {
    "duration": 306,
    "start_time": "2022-01-07T17:10:02.645Z"
   },
   {
    "duration": 14,
    "start_time": "2022-01-07T17:10:02.953Z"
   },
   {
    "duration": 254,
    "start_time": "2022-01-07T17:10:02.969Z"
   },
   {
    "duration": 21,
    "start_time": "2022-01-07T17:10:03.225Z"
   },
   {
    "duration": 124,
    "start_time": "2022-01-07T17:10:03.248Z"
   },
   {
    "duration": 99,
    "start_time": "2022-01-07T17:10:03.374Z"
   },
   {
    "duration": 11,
    "start_time": "2022-01-07T17:10:03.475Z"
   },
   {
    "duration": 138,
    "start_time": "2022-01-07T17:10:03.488Z"
   },
   {
    "duration": 19,
    "start_time": "2022-01-07T17:10:03.627Z"
   },
   {
    "duration": 21,
    "start_time": "2022-01-07T17:10:03.648Z"
   },
   {
    "duration": 424,
    "start_time": "2022-01-07T17:10:03.670Z"
   },
   {
    "duration": 15,
    "start_time": "2022-01-07T17:10:04.096Z"
   },
   {
    "duration": 273,
    "start_time": "2022-01-07T17:10:04.113Z"
   },
   {
    "duration": 11,
    "start_time": "2022-01-07T17:10:04.387Z"
   },
   {
    "duration": 90,
    "start_time": "2022-01-07T17:10:04.400Z"
   },
   {
    "duration": 5,
    "start_time": "2022-01-07T17:10:04.491Z"
   },
   {
    "duration": 7,
    "start_time": "2022-01-07T17:10:04.497Z"
   },
   {
    "duration": 3,
    "start_time": "2022-01-07T17:10:04.507Z"
   },
   {
    "duration": 4,
    "start_time": "2022-01-07T17:10:04.511Z"
   },
   {
    "duration": 25,
    "start_time": "2022-01-07T17:10:04.516Z"
   },
   {
    "duration": 6,
    "start_time": "2022-01-07T17:10:04.543Z"
   },
   {
    "duration": 12,
    "start_time": "2022-01-07T17:10:04.551Z"
   },
   {
    "duration": 6,
    "start_time": "2022-01-07T17:10:04.565Z"
   },
   {
    "duration": 30,
    "start_time": "2022-01-07T17:10:04.573Z"
   },
   {
    "duration": 10,
    "start_time": "2022-01-07T17:10:04.816Z"
   },
   {
    "duration": 23,
    "start_time": "2022-01-07T17:10:04.901Z"
   },
   {
    "duration": 78,
    "start_time": "2022-01-07T17:10:04.936Z"
   },
   {
    "duration": 2,
    "start_time": "2022-01-07T17:10:41.647Z"
   },
   {
    "duration": 3,
    "start_time": "2022-01-07T17:10:42.203Z"
   },
   {
    "duration": 3,
    "start_time": "2022-01-07T17:10:42.247Z"
   },
   {
    "duration": 3,
    "start_time": "2022-01-07T17:10:42.286Z"
   },
   {
    "duration": 2,
    "start_time": "2022-01-07T17:10:42.332Z"
   },
   {
    "duration": 3,
    "start_time": "2022-01-07T17:10:42.372Z"
   },
   {
    "duration": 287,
    "start_time": "2022-01-07T17:10:42.492Z"
   },
   {
    "duration": 14,
    "start_time": "2022-01-07T17:10:42.781Z"
   },
   {
    "duration": 255,
    "start_time": "2022-01-07T17:10:42.797Z"
   },
   {
    "duration": 9,
    "start_time": "2022-01-07T17:10:43.054Z"
   },
   {
    "duration": 118,
    "start_time": "2022-01-07T17:10:43.065Z"
   },
   {
    "duration": 97,
    "start_time": "2022-01-07T17:10:43.184Z"
   },
   {
    "duration": 8,
    "start_time": "2022-01-07T17:10:43.283Z"
   },
   {
    "duration": 151,
    "start_time": "2022-01-07T17:10:43.293Z"
   },
   {
    "duration": 8,
    "start_time": "2022-01-07T17:10:43.447Z"
   },
   {
    "duration": 37,
    "start_time": "2022-01-07T17:10:43.457Z"
   },
   {
    "duration": 380,
    "start_time": "2022-01-07T17:10:43.495Z"
   },
   {
    "duration": 17,
    "start_time": "2022-01-07T17:10:43.877Z"
   },
   {
    "duration": 274,
    "start_time": "2022-01-07T17:10:43.896Z"
   },
   {
    "duration": 13,
    "start_time": "2022-01-07T17:10:44.172Z"
   },
   {
    "duration": 96,
    "start_time": "2022-01-07T17:10:44.187Z"
   },
   {
    "duration": 6,
    "start_time": "2022-01-07T17:10:44.285Z"
   },
   {
    "duration": 30,
    "start_time": "2022-01-07T17:10:44.292Z"
   },
   {
    "duration": 4,
    "start_time": "2022-01-07T17:10:44.792Z"
   },
   {
    "duration": 16,
    "start_time": "2022-01-07T17:10:44.798Z"
   },
   {
    "duration": 8,
    "start_time": "2022-01-07T17:10:45.328Z"
   },
   {
    "duration": 7,
    "start_time": "2022-01-07T17:10:45.392Z"
   },
   {
    "duration": 14,
    "start_time": "2022-01-07T17:10:46.365Z"
   },
   {
    "duration": 10,
    "start_time": "2022-01-07T17:10:47.236Z"
   },
   {
    "duration": 21,
    "start_time": "2022-01-07T17:10:47.579Z"
   },
   {
    "duration": 10,
    "start_time": "2022-01-07T17:10:47.812Z"
   },
   {
    "duration": 24,
    "start_time": "2022-01-07T17:10:48.317Z"
   },
   {
    "duration": 14,
    "start_time": "2022-01-07T17:23:06.256Z"
   },
   {
    "duration": 8,
    "start_time": "2022-01-07T17:23:19.928Z"
   },
   {
    "duration": 18,
    "start_time": "2022-01-07T17:23:31.721Z"
   },
   {
    "duration": 10,
    "start_time": "2022-01-07T17:23:44.980Z"
   },
   {
    "duration": 25,
    "start_time": "2022-01-07T17:25:27.176Z"
   },
   {
    "duration": 3,
    "start_time": "2022-01-07T17:35:52.787Z"
   },
   {
    "duration": 511,
    "start_time": "2022-01-07T17:40:54.473Z"
   },
   {
    "duration": 475,
    "start_time": "2022-01-07T17:41:07.516Z"
   },
   {
    "duration": 250,
    "start_time": "2022-01-07T17:41:12.636Z"
   },
   {
    "duration": 438,
    "start_time": "2022-01-07T17:41:17.731Z"
   },
   {
    "duration": 1215,
    "start_time": "2022-01-07T17:41:31.030Z"
   },
   {
    "duration": 519,
    "start_time": "2022-01-07T17:41:47.528Z"
   },
   {
    "duration": 306,
    "start_time": "2022-01-07T17:45:04.645Z"
   },
   {
    "duration": 2,
    "start_time": "2022-01-07T17:45:51.566Z"
   },
   {
    "duration": 465,
    "start_time": "2022-01-07T17:45:56.681Z"
   },
   {
    "duration": 17318,
    "start_time": "2022-01-07T17:46:11.069Z"
   },
   {
    "duration": 318,
    "start_time": "2022-01-07T17:46:54.882Z"
   },
   {
    "duration": 649,
    "start_time": "2022-01-07T17:47:27.986Z"
   },
   {
    "duration": 383,
    "start_time": "2022-01-07T17:47:55.513Z"
   },
   {
    "duration": 597,
    "start_time": "2022-01-07T17:48:36.523Z"
   },
   {
    "duration": 642,
    "start_time": "2022-01-07T17:48:53.934Z"
   },
   {
    "duration": 402,
    "start_time": "2022-01-07T17:49:14.622Z"
   },
   {
    "duration": 161,
    "start_time": "2022-01-07T17:49:53.607Z"
   },
   {
    "duration": 180,
    "start_time": "2022-01-07T17:50:43.481Z"
   },
   {
    "duration": 219,
    "start_time": "2022-01-07T17:51:24.377Z"
   },
   {
    "duration": 228,
    "start_time": "2022-01-07T17:52:13.516Z"
   },
   {
    "duration": 83,
    "start_time": "2022-01-07T17:52:56.613Z"
   },
   {
    "duration": 223,
    "start_time": "2022-01-07T17:53:02.859Z"
   },
   {
    "duration": 220,
    "start_time": "2022-01-07T17:55:24.293Z"
   },
   {
    "duration": 263,
    "start_time": "2022-01-07T17:57:14.714Z"
   },
   {
    "duration": 293,
    "start_time": "2022-01-07T17:57:24.201Z"
   },
   {
    "duration": 453,
    "start_time": "2022-01-07T17:58:55.221Z"
   },
   {
    "duration": 338,
    "start_time": "2022-01-07T17:59:13.660Z"
   },
   {
    "duration": 345,
    "start_time": "2022-01-07T17:59:41.921Z"
   },
   {
    "duration": 330,
    "start_time": "2022-01-07T17:59:45.754Z"
   },
   {
    "duration": 280,
    "start_time": "2022-01-07T18:00:02.251Z"
   },
   {
    "duration": 287,
    "start_time": "2022-01-07T18:00:08.440Z"
   },
   {
    "duration": 268,
    "start_time": "2022-01-07T18:00:19.445Z"
   },
   {
    "duration": 256,
    "start_time": "2022-01-07T18:00:24.176Z"
   },
   {
    "duration": 227,
    "start_time": "2022-01-07T18:01:54.353Z"
   },
   {
    "duration": 254,
    "start_time": "2022-01-07T18:01:58.912Z"
   },
   {
    "duration": 263,
    "start_time": "2022-01-07T18:02:17.513Z"
   },
   {
    "duration": 257,
    "start_time": "2022-01-07T18:05:45.911Z"
   },
   {
    "duration": 289,
    "start_time": "2022-01-07T18:06:00.366Z"
   },
   {
    "duration": 278,
    "start_time": "2022-01-07T18:06:06.469Z"
   },
   {
    "duration": 285,
    "start_time": "2022-01-07T18:06:10.470Z"
   },
   {
    "duration": 274,
    "start_time": "2022-01-07T18:06:17.527Z"
   },
   {
    "duration": 312,
    "start_time": "2022-01-07T18:09:39.455Z"
   },
   {
    "duration": 314,
    "start_time": "2022-01-07T18:09:48.982Z"
   },
   {
    "duration": 329,
    "start_time": "2022-01-07T18:12:15.407Z"
   },
   {
    "duration": 302,
    "start_time": "2022-01-07T18:12:30.245Z"
   },
   {
    "duration": 317,
    "start_time": "2022-01-07T18:12:35.005Z"
   },
   {
    "duration": 282,
    "start_time": "2022-01-07T18:14:06.155Z"
   },
   {
    "duration": 5,
    "start_time": "2022-01-07T18:20:39.997Z"
   },
   {
    "duration": 254,
    "start_time": "2022-01-07T18:22:28.404Z"
   },
   {
    "duration": 230,
    "start_time": "2022-01-07T18:22:38.593Z"
   },
   {
    "duration": 223,
    "start_time": "2022-01-07T18:22:45.227Z"
   },
   {
    "duration": 231,
    "start_time": "2022-01-07T18:22:48.826Z"
   },
   {
    "duration": 233,
    "start_time": "2022-01-07T18:24:30.765Z"
   },
   {
    "duration": 254,
    "start_time": "2022-01-07T18:24:38.296Z"
   },
   {
    "duration": 254,
    "start_time": "2022-01-07T18:30:02.082Z"
   },
   {
    "duration": 297,
    "start_time": "2022-01-07T18:30:09.473Z"
   },
   {
    "duration": 269,
    "start_time": "2022-01-07T18:30:29.513Z"
   },
   {
    "duration": 433,
    "start_time": "2022-01-07T18:30:55.034Z"
   },
   {
    "duration": 303,
    "start_time": "2022-01-07T18:31:01.159Z"
   },
   {
    "duration": 280,
    "start_time": "2022-01-07T18:38:52.727Z"
   },
   {
    "duration": 357,
    "start_time": "2022-01-07T18:39:04.994Z"
   },
   {
    "duration": 307,
    "start_time": "2022-01-07T18:39:13.860Z"
   },
   {
    "duration": 6802,
    "start_time": "2022-01-07T18:40:32.937Z"
   },
   {
    "duration": 6971,
    "start_time": "2022-01-07T18:40:44.185Z"
   },
   {
    "duration": 246,
    "start_time": "2022-01-07T18:41:39.654Z"
   },
   {
    "duration": 370,
    "start_time": "2022-01-07T18:42:13.811Z"
   },
   {
    "duration": 277,
    "start_time": "2022-01-07T18:42:20.646Z"
   },
   {
    "duration": 311,
    "start_time": "2022-01-07T18:42:28.404Z"
   },
   {
    "duration": 78,
    "start_time": "2022-01-07T18:43:09.858Z"
   },
   {
    "duration": 1334,
    "start_time": "2022-01-07T18:43:39.407Z"
   },
   {
    "duration": 495,
    "start_time": "2022-01-07T18:43:49.666Z"
   },
   {
    "duration": 491,
    "start_time": "2022-01-07T18:44:00.661Z"
   },
   {
    "duration": 481,
    "start_time": "2022-01-07T18:44:09.604Z"
   },
   {
    "duration": 512,
    "start_time": "2022-01-07T18:44:14.933Z"
   },
   {
    "duration": 482,
    "start_time": "2022-01-07T18:44:20.321Z"
   },
   {
    "duration": 526,
    "start_time": "2022-01-07T18:44:24.348Z"
   },
   {
    "duration": 291,
    "start_time": "2022-01-07T18:54:46.510Z"
   },
   {
    "duration": 284,
    "start_time": "2022-01-07T18:54:59.473Z"
   },
   {
    "duration": 301,
    "start_time": "2022-01-07T18:55:08.404Z"
   },
   {
    "duration": 259,
    "start_time": "2022-01-07T18:55:26.270Z"
   },
   {
    "duration": 454,
    "start_time": "2022-01-07T18:55:44.122Z"
   },
   {
    "duration": 79,
    "start_time": "2022-01-07T19:03:42.298Z"
   },
   {
    "duration": 345,
    "start_time": "2022-01-07T19:03:47.829Z"
   },
   {
    "duration": 3,
    "start_time": "2022-01-07T19:04:28.540Z"
   },
   {
    "duration": 2017,
    "start_time": "2022-01-07T19:04:34.042Z"
   },
   {
    "duration": 12,
    "start_time": "2022-01-07T19:04:50.033Z"
   },
   {
    "duration": 3,
    "start_time": "2022-01-07T19:06:52.037Z"
   },
   {
    "duration": 3,
    "start_time": "2022-01-07T19:06:53.298Z"
   },
   {
    "duration": 3,
    "start_time": "2022-01-07T19:06:53.808Z"
   },
   {
    "duration": 2,
    "start_time": "2022-01-07T19:06:53.848Z"
   },
   {
    "duration": 3,
    "start_time": "2022-01-07T19:06:53.893Z"
   },
   {
    "duration": 3,
    "start_time": "2022-01-07T19:06:53.927Z"
   },
   {
    "duration": 357,
    "start_time": "2022-01-07T19:06:54.026Z"
   },
   {
    "duration": 14,
    "start_time": "2022-01-07T19:06:54.385Z"
   },
   {
    "duration": 277,
    "start_time": "2022-01-07T19:06:54.401Z"
   },
   {
    "duration": 9,
    "start_time": "2022-01-07T19:06:54.680Z"
   },
   {
    "duration": 124,
    "start_time": "2022-01-07T19:06:54.691Z"
   },
   {
    "duration": 113,
    "start_time": "2022-01-07T19:06:54.817Z"
   },
   {
    "duration": 21,
    "start_time": "2022-01-07T19:06:54.932Z"
   },
   {
    "duration": 151,
    "start_time": "2022-01-07T19:06:54.955Z"
   },
   {
    "duration": 8,
    "start_time": "2022-01-07T19:06:55.109Z"
   },
   {
    "duration": 46,
    "start_time": "2022-01-07T19:06:55.119Z"
   },
   {
    "duration": 428,
    "start_time": "2022-01-07T19:06:55.166Z"
   },
   {
    "duration": 18,
    "start_time": "2022-01-07T19:06:55.595Z"
   },
   {
    "duration": 300,
    "start_time": "2022-01-07T19:06:55.614Z"
   },
   {
    "duration": 12,
    "start_time": "2022-01-07T19:06:55.915Z"
   },
   {
    "duration": 92,
    "start_time": "2022-01-07T19:06:55.929Z"
   },
   {
    "duration": 22,
    "start_time": "2022-01-07T19:06:56.023Z"
   },
   {
    "duration": 27,
    "start_time": "2022-01-07T19:06:56.047Z"
   },
   {
    "duration": 15,
    "start_time": "2022-01-07T19:06:56.075Z"
   },
   {
    "duration": 12,
    "start_time": "2022-01-07T19:06:56.092Z"
   },
   {
    "duration": 16,
    "start_time": "2022-01-07T19:06:56.106Z"
   },
   {
    "duration": 15,
    "start_time": "2022-01-07T19:06:56.124Z"
   },
   {
    "duration": 27,
    "start_time": "2022-01-07T19:06:56.141Z"
   },
   {
    "duration": 17,
    "start_time": "2022-01-07T19:06:56.169Z"
   },
   {
    "duration": 24,
    "start_time": "2022-01-07T19:06:56.188Z"
   },
   {
    "duration": 46,
    "start_time": "2022-01-07T19:06:56.214Z"
   },
   {
    "duration": 8,
    "start_time": "2022-01-07T19:06:56.261Z"
   },
   {
    "duration": 29,
    "start_time": "2022-01-07T19:06:56.271Z"
   },
   {
    "duration": 30,
    "start_time": "2022-01-07T19:06:56.302Z"
   },
   {
    "duration": 321,
    "start_time": "2022-01-07T19:06:56.334Z"
   },
   {
    "duration": 311,
    "start_time": "2022-01-07T19:06:56.657Z"
   },
   {
    "duration": 336,
    "start_time": "2022-01-07T19:06:56.970Z"
   },
   {
    "duration": 294,
    "start_time": "2022-01-07T19:06:57.308Z"
   },
   {
    "duration": 513,
    "start_time": "2022-01-07T19:06:57.605Z"
   },
   {
    "duration": 22,
    "start_time": "2022-01-07T19:06:58.120Z"
   },
   {
    "duration": 338,
    "start_time": "2022-01-07T19:06:58.145Z"
   },
   {
    "duration": 455,
    "start_time": "2022-01-07T19:07:32.897Z"
   },
   {
    "duration": 277,
    "start_time": "2022-01-07T19:07:48.102Z"
   },
   {
    "duration": 279,
    "start_time": "2022-01-07T19:08:06.683Z"
   },
   {
    "duration": 282,
    "start_time": "2022-01-07T19:08:25.219Z"
   },
   {
    "duration": 356,
    "start_time": "2022-01-07T19:09:03.135Z"
   },
   {
    "duration": 281,
    "start_time": "2022-01-07T19:09:14.305Z"
   },
   {
    "duration": 287,
    "start_time": "2022-01-07T19:13:23.280Z"
   },
   {
    "duration": 322,
    "start_time": "2022-01-07T19:13:42.254Z"
   },
   {
    "duration": 290,
    "start_time": "2022-01-07T19:13:47.520Z"
   },
   {
    "duration": 292,
    "start_time": "2022-01-07T19:14:03.330Z"
   },
   {
    "duration": 36,
    "start_time": "2022-01-07T19:14:08.277Z"
   },
   {
    "duration": 514,
    "start_time": "2022-01-07T19:14:28.531Z"
   },
   {
    "duration": 271,
    "start_time": "2022-01-07T19:15:03.580Z"
   },
   {
    "duration": 471,
    "start_time": "2022-01-07T19:15:45.430Z"
   },
   {
    "duration": 333,
    "start_time": "2022-01-07T19:17:36.169Z"
   },
   {
    "duration": 1904,
    "start_time": "2022-01-07T19:18:08.546Z"
   },
   {
    "duration": 263,
    "start_time": "2022-01-07T19:18:19.814Z"
   },
   {
    "duration": 284,
    "start_time": "2022-01-07T19:18:55.996Z"
   },
   {
    "duration": 318,
    "start_time": "2022-01-07T19:19:08.231Z"
   },
   {
    "duration": 260,
    "start_time": "2022-01-07T19:19:16.709Z"
   },
   {
    "duration": 269,
    "start_time": "2022-01-07T19:19:25.830Z"
   },
   {
    "duration": 251,
    "start_time": "2022-01-07T19:23:39.388Z"
   },
   {
    "duration": 3,
    "start_time": "2022-01-07T19:23:53.939Z"
   },
   {
    "duration": 3,
    "start_time": "2022-01-07T19:23:54.688Z"
   },
   {
    "duration": 2,
    "start_time": "2022-01-07T19:23:54.724Z"
   },
   {
    "duration": 2,
    "start_time": "2022-01-07T19:23:54.757Z"
   },
   {
    "duration": 2,
    "start_time": "2022-01-07T19:23:54.795Z"
   },
   {
    "duration": 3,
    "start_time": "2022-01-07T19:23:54.837Z"
   },
   {
    "duration": 336,
    "start_time": "2022-01-07T19:23:54.923Z"
   },
   {
    "duration": 15,
    "start_time": "2022-01-07T19:23:55.260Z"
   },
   {
    "duration": 277,
    "start_time": "2022-01-07T19:23:55.276Z"
   },
   {
    "duration": 12,
    "start_time": "2022-01-07T19:23:55.555Z"
   },
   {
    "duration": 124,
    "start_time": "2022-01-07T19:23:55.569Z"
   },
   {
    "duration": 105,
    "start_time": "2022-01-07T19:23:55.694Z"
   },
   {
    "duration": 8,
    "start_time": "2022-01-07T19:23:55.801Z"
   },
   {
    "duration": 163,
    "start_time": "2022-01-07T19:23:55.811Z"
   },
   {
    "duration": 8,
    "start_time": "2022-01-07T19:23:55.977Z"
   },
   {
    "duration": 19,
    "start_time": "2022-01-07T19:23:55.986Z"
   },
   {
    "duration": 396,
    "start_time": "2022-01-07T19:23:56.006Z"
   },
   {
    "duration": 15,
    "start_time": "2022-01-07T19:23:56.403Z"
   },
   {
    "duration": 299,
    "start_time": "2022-01-07T19:23:56.420Z"
   },
   {
    "duration": 10,
    "start_time": "2022-01-07T19:23:56.721Z"
   },
   {
    "duration": 78,
    "start_time": "2022-01-07T19:23:56.741Z"
   },
   {
    "duration": 5,
    "start_time": "2022-01-07T19:23:56.821Z"
   },
   {
    "duration": 6,
    "start_time": "2022-01-07T19:23:56.842Z"
   },
   {
    "duration": 17,
    "start_time": "2022-01-07T19:23:56.852Z"
   },
   {
    "duration": 4,
    "start_time": "2022-01-07T19:23:56.871Z"
   },
   {
    "duration": 8,
    "start_time": "2022-01-07T19:23:56.877Z"
   },
   {
    "duration": 6,
    "start_time": "2022-01-07T19:23:56.887Z"
   },
   {
    "duration": 12,
    "start_time": "2022-01-07T19:23:56.894Z"
   },
   {
    "duration": 10,
    "start_time": "2022-01-07T19:23:57.343Z"
   },
   {
    "duration": 14,
    "start_time": "2022-01-07T19:23:57.375Z"
   },
   {
    "duration": 26,
    "start_time": "2022-01-07T19:23:57.459Z"
   },
   {
    "duration": 9,
    "start_time": "2022-01-07T19:23:57.587Z"
   },
   {
    "duration": 11,
    "start_time": "2022-01-07T19:23:57.629Z"
   },
   {
    "duration": 32,
    "start_time": "2022-01-07T19:23:57.703Z"
   },
   {
    "duration": 288,
    "start_time": "2022-01-07T19:23:57.906Z"
   },
   {
    "duration": 301,
    "start_time": "2022-01-07T19:23:59.096Z"
   },
   {
    "duration": 330,
    "start_time": "2022-01-07T19:23:59.767Z"
   },
   {
    "duration": 283,
    "start_time": "2022-01-07T19:24:00.540Z"
   },
   {
    "duration": 547,
    "start_time": "2022-01-07T19:24:01.372Z"
   },
   {
    "duration": 16,
    "start_time": "2022-01-07T19:24:02.145Z"
   },
   {
    "duration": 275,
    "start_time": "2022-01-07T19:24:02.815Z"
   },
   {
    "duration": 78,
    "start_time": "2022-01-07T19:24:38.403Z"
   },
   {
    "duration": 271,
    "start_time": "2022-01-07T19:25:26.770Z"
   },
   {
    "duration": 60,
    "start_time": "2022-01-07T19:26:52.601Z"
   },
   {
    "duration": 532,
    "start_time": "2022-01-07T19:27:09.818Z"
   },
   {
    "duration": 52,
    "start_time": "2022-01-07T19:28:21.539Z"
   },
   {
    "duration": 497,
    "start_time": "2022-01-07T19:28:23.322Z"
   },
   {
    "duration": 3,
    "start_time": "2022-01-07T19:28:28.508Z"
   },
   {
    "duration": 3,
    "start_time": "2022-01-07T19:28:29.579Z"
   },
   {
    "duration": 2,
    "start_time": "2022-01-07T19:28:29.626Z"
   },
   {
    "duration": 3,
    "start_time": "2022-01-07T19:28:29.657Z"
   },
   {
    "duration": 3,
    "start_time": "2022-01-07T19:28:29.696Z"
   },
   {
    "duration": 2,
    "start_time": "2022-01-07T19:28:29.743Z"
   },
   {
    "duration": 318,
    "start_time": "2022-01-07T19:28:29.819Z"
   },
   {
    "duration": 15,
    "start_time": "2022-01-07T19:28:30.139Z"
   },
   {
    "duration": 295,
    "start_time": "2022-01-07T19:28:30.156Z"
   },
   {
    "duration": 12,
    "start_time": "2022-01-07T19:28:30.454Z"
   },
   {
    "duration": 134,
    "start_time": "2022-01-07T19:28:30.468Z"
   },
   {
    "duration": 108,
    "start_time": "2022-01-07T19:28:30.603Z"
   },
   {
    "duration": 10,
    "start_time": "2022-01-07T19:28:30.713Z"
   },
   {
    "duration": 174,
    "start_time": "2022-01-07T19:28:30.725Z"
   },
   {
    "duration": 6,
    "start_time": "2022-01-07T19:28:30.902Z"
   },
   {
    "duration": 33,
    "start_time": "2022-01-07T19:28:30.910Z"
   },
   {
    "duration": 413,
    "start_time": "2022-01-07T19:28:30.945Z"
   },
   {
    "duration": 18,
    "start_time": "2022-01-07T19:28:31.361Z"
   },
   {
    "duration": 311,
    "start_time": "2022-01-07T19:28:31.381Z"
   },
   {
    "duration": 11,
    "start_time": "2022-01-07T19:28:31.694Z"
   },
   {
    "duration": 95,
    "start_time": "2022-01-07T19:28:31.706Z"
   },
   {
    "duration": 6,
    "start_time": "2022-01-07T19:28:31.803Z"
   },
   {
    "duration": 8,
    "start_time": "2022-01-07T19:28:31.810Z"
   },
   {
    "duration": 9,
    "start_time": "2022-01-07T19:28:31.819Z"
   },
   {
    "duration": 12,
    "start_time": "2022-01-07T19:28:31.830Z"
   },
   {
    "duration": 19,
    "start_time": "2022-01-07T19:28:31.844Z"
   },
   {
    "duration": 16,
    "start_time": "2022-01-07T19:28:31.865Z"
   },
   {
    "duration": 17,
    "start_time": "2022-01-07T19:28:31.883Z"
   },
   {
    "duration": 7,
    "start_time": "2022-01-07T19:28:31.902Z"
   },
   {
    "duration": 30,
    "start_time": "2022-01-07T19:28:31.911Z"
   },
   {
    "duration": 31,
    "start_time": "2022-01-07T19:28:31.943Z"
   },
   {
    "duration": 9,
    "start_time": "2022-01-07T19:28:31.976Z"
   },
   {
    "duration": 19,
    "start_time": "2022-01-07T19:28:31.987Z"
   },
   {
    "duration": 61,
    "start_time": "2022-01-07T19:28:32.008Z"
   },
   {
    "duration": 340,
    "start_time": "2022-01-07T19:28:32.072Z"
   },
   {
    "duration": 341,
    "start_time": "2022-01-07T19:28:32.414Z"
   },
   {
    "duration": 331,
    "start_time": "2022-01-07T19:28:32.757Z"
   },
   {
    "duration": 294,
    "start_time": "2022-01-07T19:28:33.091Z"
   },
   {
    "duration": 508,
    "start_time": "2022-01-07T19:28:33.387Z"
   },
   {
    "duration": 53,
    "start_time": "2022-01-07T19:28:33.897Z"
   },
   {
    "duration": 513,
    "start_time": "2022-01-07T19:28:33.953Z"
   },
   {
    "duration": 1788,
    "start_time": "2022-01-08T09:43:36.007Z"
   },
   {
    "duration": 3,
    "start_time": "2022-01-08T09:43:38.759Z"
   },
   {
    "duration": 3,
    "start_time": "2022-01-08T09:43:38.808Z"
   },
   {
    "duration": 4,
    "start_time": "2022-01-08T09:43:38.853Z"
   },
   {
    "duration": 4,
    "start_time": "2022-01-08T09:43:38.888Z"
   },
   {
    "duration": 4,
    "start_time": "2022-01-08T09:43:38.928Z"
   },
   {
    "duration": 377,
    "start_time": "2022-01-08T09:43:39.006Z"
   },
   {
    "duration": 43,
    "start_time": "2022-01-08T09:43:39.386Z"
   },
   {
    "duration": 506,
    "start_time": "2022-01-08T09:43:39.433Z"
   },
   {
    "duration": 20,
    "start_time": "2022-01-08T09:43:39.943Z"
   },
   {
    "duration": 268,
    "start_time": "2022-01-08T09:43:39.966Z"
   },
   {
    "duration": 232,
    "start_time": "2022-01-08T09:43:40.237Z"
   },
   {
    "duration": 29,
    "start_time": "2022-01-08T09:43:40.472Z"
   },
   {
    "duration": 253,
    "start_time": "2022-01-08T09:43:40.517Z"
   },
   {
    "duration": 10,
    "start_time": "2022-01-08T09:43:40.773Z"
   },
   {
    "duration": 56,
    "start_time": "2022-01-08T09:43:40.786Z"
   },
   {
    "duration": 503,
    "start_time": "2022-01-08T09:43:40.844Z"
   },
   {
    "duration": 24,
    "start_time": "2022-01-08T09:43:41.350Z"
   },
   {
    "duration": 494,
    "start_time": "2022-01-08T09:43:41.376Z"
   },
   {
    "duration": 18,
    "start_time": "2022-01-08T09:43:41.874Z"
   },
   {
    "duration": 200,
    "start_time": "2022-01-08T09:43:41.895Z"
   },
   {
    "duration": 20,
    "start_time": "2022-01-08T09:43:42.097Z"
   },
   {
    "duration": 8,
    "start_time": "2022-01-08T09:43:42.120Z"
   },
   {
    "duration": 16,
    "start_time": "2022-01-08T09:43:42.133Z"
   },
   {
    "duration": 16,
    "start_time": "2022-01-08T09:43:42.153Z"
   },
   {
    "duration": 27,
    "start_time": "2022-01-08T09:43:42.171Z"
   },
   {
    "duration": 24,
    "start_time": "2022-01-08T09:43:42.201Z"
   },
   {
    "duration": 26,
    "start_time": "2022-01-08T09:43:42.228Z"
   },
   {
    "duration": 16,
    "start_time": "2022-01-08T09:43:42.259Z"
   },
   {
    "duration": 53,
    "start_time": "2022-01-08T09:43:42.278Z"
   },
   {
    "duration": 39,
    "start_time": "2022-01-08T09:43:42.933Z"
   },
   {
    "duration": 10,
    "start_time": "2022-01-08T09:43:43.055Z"
   },
   {
    "duration": 14,
    "start_time": "2022-01-08T09:43:43.105Z"
   },
   {
    "duration": 52,
    "start_time": "2022-01-08T09:43:43.173Z"
   },
   {
    "duration": 509,
    "start_time": "2022-01-08T09:43:43.382Z"
   },
   {
    "duration": 661,
    "start_time": "2022-01-08T09:43:43.894Z"
   },
   {
    "duration": 804,
    "start_time": "2022-01-08T09:43:44.558Z"
   },
   {
    "duration": 525,
    "start_time": "2022-01-08T09:43:45.366Z"
   },
   {
    "duration": 918,
    "start_time": "2022-01-08T09:43:45.893Z"
   },
   {
    "duration": 71,
    "start_time": "2022-01-08T09:43:46.818Z"
   },
   {
    "duration": 882,
    "start_time": "2022-01-08T09:43:46.892Z"
   },
   {
    "duration": 459,
    "start_time": "2022-01-08T10:03:51.160Z"
   },
   {
    "duration": 6,
    "start_time": "2022-01-08T10:03:53.750Z"
   },
   {
    "duration": 617,
    "start_time": "2022-01-08T10:03:53.992Z"
   },
   {
    "duration": 6,
    "start_time": "2022-01-08T10:04:20.349Z"
   },
   {
    "duration": 144,
    "start_time": "2022-01-08T10:25:15.871Z"
   },
   {
    "duration": 188,
    "start_time": "2022-01-08T10:25:33.315Z"
   },
   {
    "duration": 363,
    "start_time": "2022-01-08T10:25:42.937Z"
   },
   {
    "duration": 235,
    "start_time": "2022-01-08T10:25:50.885Z"
   },
   {
    "duration": 110,
    "start_time": "2022-01-08T10:26:11.444Z"
   },
   {
    "duration": 114,
    "start_time": "2022-01-08T10:26:21.568Z"
   },
   {
    "duration": 197,
    "start_time": "2022-01-08T10:26:30.482Z"
   },
   {
    "duration": 124,
    "start_time": "2022-01-08T10:26:36.161Z"
   },
   {
    "duration": 4,
    "start_time": "2022-01-08T10:26:43.915Z"
   },
   {
    "duration": 4,
    "start_time": "2022-01-08T10:26:44.505Z"
   },
   {
    "duration": 5,
    "start_time": "2022-01-08T10:26:44.555Z"
   },
   {
    "duration": 4,
    "start_time": "2022-01-08T10:26:44.595Z"
   },
   {
    "duration": 4,
    "start_time": "2022-01-08T10:26:44.636Z"
   },
   {
    "duration": 4,
    "start_time": "2022-01-08T10:26:44.678Z"
   },
   {
    "duration": 662,
    "start_time": "2022-01-08T10:26:44.761Z"
   },
   {
    "duration": 40,
    "start_time": "2022-01-08T10:26:45.427Z"
   },
   {
    "duration": 456,
    "start_time": "2022-01-08T10:26:45.470Z"
   },
   {
    "duration": 13,
    "start_time": "2022-01-08T10:26:45.929Z"
   },
   {
    "duration": 206,
    "start_time": "2022-01-08T10:26:45.945Z"
   },
   {
    "duration": 235,
    "start_time": "2022-01-08T10:26:46.154Z"
   },
   {
    "duration": 33,
    "start_time": "2022-01-08T10:26:46.391Z"
   },
   {
    "duration": 258,
    "start_time": "2022-01-08T10:26:46.428Z"
   },
   {
    "duration": 9,
    "start_time": "2022-01-08T10:26:46.689Z"
   },
   {
    "duration": 35,
    "start_time": "2022-01-08T10:26:46.718Z"
   },
   {
    "duration": 544,
    "start_time": "2022-01-08T10:26:46.755Z"
   },
   {
    "duration": 38,
    "start_time": "2022-01-08T10:26:47.302Z"
   },
   {
    "duration": 458,
    "start_time": "2022-01-08T10:26:47.343Z"
   },
   {
    "duration": 23,
    "start_time": "2022-01-08T10:26:47.804Z"
   },
   {
    "duration": 223,
    "start_time": "2022-01-08T10:26:47.830Z"
   },
   {
    "duration": 10,
    "start_time": "2022-01-08T10:26:48.056Z"
   },
   {
    "duration": 15,
    "start_time": "2022-01-08T10:26:48.069Z"
   },
   {
    "duration": 19,
    "start_time": "2022-01-08T10:26:48.087Z"
   },
   {
    "duration": 7,
    "start_time": "2022-01-08T10:26:48.118Z"
   },
   {
    "duration": 12,
    "start_time": "2022-01-08T10:26:48.128Z"
   },
   {
    "duration": 14,
    "start_time": "2022-01-08T10:26:48.143Z"
   },
   {
    "duration": 20,
    "start_time": "2022-01-08T10:26:48.160Z"
   },
   {
    "duration": 10,
    "start_time": "2022-01-08T10:26:48.219Z"
   },
   {
    "duration": 36,
    "start_time": "2022-01-08T10:26:48.231Z"
   },
   {
    "duration": 47,
    "start_time": "2022-01-08T10:26:48.270Z"
   },
   {
    "duration": 12,
    "start_time": "2022-01-08T10:26:48.320Z"
   },
   {
    "duration": 30,
    "start_time": "2022-01-08T10:26:48.335Z"
   },
   {
    "duration": 59,
    "start_time": "2022-01-08T10:26:48.367Z"
   },
   {
    "duration": 537,
    "start_time": "2022-01-08T10:26:48.429Z"
   },
   {
    "duration": 537,
    "start_time": "2022-01-08T10:26:48.969Z"
   },
   {
    "duration": 583,
    "start_time": "2022-01-08T10:26:49.508Z"
   },
   {
    "duration": 493,
    "start_time": "2022-01-08T10:26:50.094Z"
   },
   {
    "duration": 844,
    "start_time": "2022-01-08T10:26:50.590Z"
   },
   {
    "duration": 87,
    "start_time": "2022-01-08T10:26:51.437Z"
   },
   {
    "duration": 1061,
    "start_time": "2022-01-08T10:26:51.526Z"
   },
   {
    "duration": 4,
    "start_time": "2022-01-08T10:26:52.591Z"
   },
   {
    "duration": 159,
    "start_time": "2022-01-08T10:26:52.598Z"
   },
   {
    "duration": 319,
    "start_time": "2022-01-08T10:26:55.875Z"
   },
   {
    "duration": 475,
    "start_time": "2022-01-08T10:27:04.465Z"
   },
   {
    "duration": 325,
    "start_time": "2022-01-08T10:27:20.263Z"
   },
   {
    "duration": 3,
    "start_time": "2022-01-08T10:27:30.632Z"
   },
   {
    "duration": 3,
    "start_time": "2022-01-08T10:27:31.230Z"
   },
   {
    "duration": 3,
    "start_time": "2022-01-08T10:27:31.264Z"
   },
   {
    "duration": 3,
    "start_time": "2022-01-08T10:27:31.306Z"
   },
   {
    "duration": 4,
    "start_time": "2022-01-08T10:27:31.345Z"
   },
   {
    "duration": 4,
    "start_time": "2022-01-08T10:27:31.395Z"
   },
   {
    "duration": 403,
    "start_time": "2022-01-08T10:27:31.483Z"
   },
   {
    "duration": 40,
    "start_time": "2022-01-08T10:27:31.889Z"
   },
   {
    "duration": 427,
    "start_time": "2022-01-08T10:27:31.932Z"
   },
   {
    "duration": 13,
    "start_time": "2022-01-08T10:27:32.362Z"
   },
   {
    "duration": 205,
    "start_time": "2022-01-08T10:27:32.377Z"
   },
   {
    "duration": 135,
    "start_time": "2022-01-08T10:27:32.584Z"
   },
   {
    "duration": 17,
    "start_time": "2022-01-08T10:27:32.722Z"
   },
   {
    "duration": 264,
    "start_time": "2022-01-08T10:27:32.742Z"
   },
   {
    "duration": 15,
    "start_time": "2022-01-08T10:27:33.009Z"
   },
   {
    "duration": 35,
    "start_time": "2022-01-08T10:27:33.026Z"
   },
   {
    "duration": 521,
    "start_time": "2022-01-08T10:27:33.064Z"
   },
   {
    "duration": 30,
    "start_time": "2022-01-08T10:27:33.587Z"
   },
   {
    "duration": 450,
    "start_time": "2022-01-08T10:27:33.619Z"
   },
   {
    "duration": 14,
    "start_time": "2022-01-08T10:27:34.071Z"
   },
   {
    "duration": 178,
    "start_time": "2022-01-08T10:27:34.088Z"
   },
   {
    "duration": 10,
    "start_time": "2022-01-08T10:27:34.269Z"
   },
   {
    "duration": 9,
    "start_time": "2022-01-08T10:27:34.282Z"
   },
   {
    "duration": 27,
    "start_time": "2022-01-08T10:27:34.294Z"
   },
   {
    "duration": 11,
    "start_time": "2022-01-08T10:27:34.323Z"
   },
   {
    "duration": 14,
    "start_time": "2022-01-08T10:27:34.336Z"
   },
   {
    "duration": 11,
    "start_time": "2022-01-08T10:27:34.355Z"
   },
   {
    "duration": 50,
    "start_time": "2022-01-08T10:27:34.369Z"
   },
   {
    "duration": 9,
    "start_time": "2022-01-08T10:27:34.424Z"
   },
   {
    "duration": 20,
    "start_time": "2022-01-08T10:27:34.436Z"
   },
   {
    "duration": 63,
    "start_time": "2022-01-08T10:27:34.459Z"
   },
   {
    "duration": 11,
    "start_time": "2022-01-08T10:27:34.525Z"
   },
   {
    "duration": 20,
    "start_time": "2022-01-08T10:27:34.538Z"
   },
   {
    "duration": 65,
    "start_time": "2022-01-08T10:27:34.560Z"
   },
   {
    "duration": 489,
    "start_time": "2022-01-08T10:27:35.272Z"
   },
   {
    "duration": 499,
    "start_time": "2022-01-08T10:27:36.110Z"
   },
   {
    "duration": 539,
    "start_time": "2022-01-08T10:27:37.061Z"
   },
   {
    "duration": 464,
    "start_time": "2022-01-08T10:27:37.933Z"
   },
   {
    "duration": 855,
    "start_time": "2022-01-08T10:27:40.703Z"
   },
   {
    "duration": 86,
    "start_time": "2022-01-08T10:27:41.562Z"
   },
   {
    "duration": 1066,
    "start_time": "2022-01-08T10:27:43.012Z"
   },
   {
    "duration": 4,
    "start_time": "2022-01-08T10:27:46.282Z"
   },
   {
    "duration": 115,
    "start_time": "2022-01-08T10:27:53.533Z"
   },
   {
    "duration": 75,
    "start_time": "2022-01-08T10:28:52.730Z"
   },
   {
    "duration": 38897,
    "start_time": "2022-01-08T10:43:48.826Z"
   },
   {
    "duration": 350,
    "start_time": "2022-01-08T10:48:23.755Z"
   },
   {
    "duration": 4,
    "start_time": "2022-01-08T10:48:32.048Z"
   },
   {
    "duration": 4,
    "start_time": "2022-01-08T10:48:32.642Z"
   },
   {
    "duration": 4,
    "start_time": "2022-01-08T10:48:32.679Z"
   },
   {
    "duration": 4,
    "start_time": "2022-01-08T10:48:32.720Z"
   },
   {
    "duration": 3,
    "start_time": "2022-01-08T10:48:32.767Z"
   },
   {
    "duration": 4,
    "start_time": "2022-01-08T10:48:32.810Z"
   },
   {
    "duration": 418,
    "start_time": "2022-01-08T10:48:32.902Z"
   },
   {
    "duration": 23,
    "start_time": "2022-01-08T10:48:33.322Z"
   },
   {
    "duration": 433,
    "start_time": "2022-01-08T10:48:33.348Z"
   },
   {
    "duration": 15,
    "start_time": "2022-01-08T10:48:33.783Z"
   },
   {
    "duration": 180,
    "start_time": "2022-01-08T10:48:33.818Z"
   },
   {
    "duration": 143,
    "start_time": "2022-01-08T10:48:34.001Z"
   },
   {
    "duration": 15,
    "start_time": "2022-01-08T10:48:34.146Z"
   },
   {
    "duration": 418,
    "start_time": "2022-01-08T10:48:34.166Z"
   },
   {
    "duration": 29,
    "start_time": "2022-01-08T10:48:34.588Z"
   },
   {
    "duration": 53,
    "start_time": "2022-01-08T10:48:34.620Z"
   },
   {
    "duration": 779,
    "start_time": "2022-01-08T10:48:34.676Z"
   },
   {
    "duration": 43,
    "start_time": "2022-01-08T10:48:35.458Z"
   },
   {
    "duration": 710,
    "start_time": "2022-01-08T10:48:35.518Z"
   },
   {
    "duration": 20,
    "start_time": "2022-01-08T10:48:36.231Z"
   },
   {
    "duration": 171,
    "start_time": "2022-01-08T10:48:36.253Z"
   },
   {
    "duration": 7,
    "start_time": "2022-01-08T10:48:36.426Z"
   },
   {
    "duration": 9,
    "start_time": "2022-01-08T10:48:36.435Z"
   },
   {
    "duration": 5,
    "start_time": "2022-01-08T10:48:36.446Z"
   },
   {
    "duration": 7,
    "start_time": "2022-01-08T10:48:36.453Z"
   },
   {
    "duration": 8,
    "start_time": "2022-01-08T10:48:36.463Z"
   },
   {
    "duration": 10,
    "start_time": "2022-01-08T10:48:36.516Z"
   },
   {
    "duration": 20,
    "start_time": "2022-01-08T10:48:36.529Z"
   },
   {
    "duration": 9,
    "start_time": "2022-01-08T10:48:36.552Z"
   },
   {
    "duration": 55,
    "start_time": "2022-01-08T10:48:36.563Z"
   },
   {
    "duration": 35,
    "start_time": "2022-01-08T10:48:36.621Z"
   },
   {
    "duration": 11,
    "start_time": "2022-01-08T10:48:36.658Z"
   },
   {
    "duration": 50,
    "start_time": "2022-01-08T10:48:36.672Z"
   },
   {
    "duration": 63,
    "start_time": "2022-01-08T10:48:36.725Z"
   },
   {
    "duration": 832,
    "start_time": "2022-01-08T10:48:36.791Z"
   },
   {
    "duration": 829,
    "start_time": "2022-01-08T10:48:37.627Z"
   },
   {
    "duration": 884,
    "start_time": "2022-01-08T10:48:38.459Z"
   },
   {
    "duration": 782,
    "start_time": "2022-01-08T10:48:39.346Z"
   },
   {
    "duration": 1462,
    "start_time": "2022-01-08T10:48:40.131Z"
   },
   {
    "duration": 122,
    "start_time": "2022-01-08T10:48:41.596Z"
   },
   {
    "duration": 1552,
    "start_time": "2022-01-08T10:48:41.721Z"
   },
   {
    "duration": 5,
    "start_time": "2022-01-08T10:48:43.276Z"
   },
   {
    "duration": 140,
    "start_time": "2022-01-08T10:48:43.284Z"
   },
   {
    "duration": 91,
    "start_time": "2022-01-08T10:48:43.426Z"
   },
   {
    "duration": 436,
    "start_time": "2022-01-08T10:48:43.520Z"
   },
   {
    "duration": 310,
    "start_time": "2022-01-08T10:49:03.269Z"
   },
   {
    "duration": 35698,
    "start_time": "2022-01-08T10:49:48.533Z"
   },
   {
    "duration": 36235,
    "start_time": "2022-01-08T10:50:25.424Z"
   },
   {
    "duration": 208,
    "start_time": "2022-01-08T10:51:19.651Z"
   },
   {
    "duration": 120,
    "start_time": "2022-01-08T10:51:27.612Z"
   },
   {
    "duration": 382,
    "start_time": "2022-01-08T10:51:31.484Z"
   },
   {
    "duration": 4,
    "start_time": "2022-01-08T10:51:52.417Z"
   },
   {
    "duration": 4,
    "start_time": "2022-01-08T10:51:53.015Z"
   },
   {
    "duration": 3,
    "start_time": "2022-01-08T10:51:53.050Z"
   },
   {
    "duration": 4,
    "start_time": "2022-01-08T10:51:53.090Z"
   },
   {
    "duration": 4,
    "start_time": "2022-01-08T10:51:53.131Z"
   },
   {
    "duration": 4,
    "start_time": "2022-01-08T10:51:53.206Z"
   },
   {
    "duration": 442,
    "start_time": "2022-01-08T10:51:53.281Z"
   },
   {
    "duration": 23,
    "start_time": "2022-01-08T10:51:53.725Z"
   },
   {
    "duration": 449,
    "start_time": "2022-01-08T10:51:53.751Z"
   },
   {
    "duration": 26,
    "start_time": "2022-01-08T10:51:54.203Z"
   },
   {
    "duration": 196,
    "start_time": "2022-01-08T10:51:54.231Z"
   },
   {
    "duration": 141,
    "start_time": "2022-01-08T10:51:54.429Z"
   },
   {
    "duration": 16,
    "start_time": "2022-01-08T10:51:54.573Z"
   },
   {
    "duration": 265,
    "start_time": "2022-01-08T10:51:54.593Z"
   },
   {
    "duration": 9,
    "start_time": "2022-01-08T10:51:54.862Z"
   },
   {
    "duration": 62,
    "start_time": "2022-01-08T10:51:54.874Z"
   },
   {
    "duration": 470,
    "start_time": "2022-01-08T10:51:54.938Z"
   },
   {
    "duration": 31,
    "start_time": "2022-01-08T10:51:55.410Z"
   },
   {
    "duration": 468,
    "start_time": "2022-01-08T10:51:55.444Z"
   },
   {
    "duration": 15,
    "start_time": "2022-01-08T10:51:55.915Z"
   },
   {
    "duration": 176,
    "start_time": "2022-01-08T10:51:55.933Z"
   },
   {
    "duration": 8,
    "start_time": "2022-01-08T10:51:56.117Z"
   },
   {
    "duration": 8,
    "start_time": "2022-01-08T10:51:56.127Z"
   },
   {
    "duration": 8,
    "start_time": "2022-01-08T10:51:56.138Z"
   },
   {
    "duration": 5,
    "start_time": "2022-01-08T10:51:56.148Z"
   },
   {
    "duration": 7,
    "start_time": "2022-01-08T10:51:56.156Z"
   },
   {
    "duration": 64,
    "start_time": "2022-01-08T10:51:56.166Z"
   },
   {
    "duration": 20,
    "start_time": "2022-01-08T10:51:56.233Z"
   },
   {
    "duration": 9,
    "start_time": "2022-01-08T10:51:56.257Z"
   },
   {
    "duration": 47,
    "start_time": "2022-01-08T10:51:56.270Z"
   },
   {
    "duration": 35,
    "start_time": "2022-01-08T10:51:56.320Z"
   },
   {
    "duration": 11,
    "start_time": "2022-01-08T10:51:56.358Z"
   },
   {
    "duration": 47,
    "start_time": "2022-01-08T10:51:56.372Z"
   },
   {
    "duration": 43,
    "start_time": "2022-01-08T10:51:56.422Z"
   },
   {
    "duration": 541,
    "start_time": "2022-01-08T10:51:56.468Z"
   },
   {
    "duration": 516,
    "start_time": "2022-01-08T10:51:57.012Z"
   },
   {
    "duration": 565,
    "start_time": "2022-01-08T10:51:57.531Z"
   },
   {
    "duration": 494,
    "start_time": "2022-01-08T10:51:58.099Z"
   },
   {
    "duration": 1462,
    "start_time": "2022-01-08T10:51:58.595Z"
   },
   {
    "duration": 124,
    "start_time": "2022-01-08T10:52:00.060Z"
   },
   {
    "duration": 868,
    "start_time": "2022-01-08T10:52:00.187Z"
   },
   {
    "duration": 5,
    "start_time": "2022-01-08T10:52:01.059Z"
   },
   {
    "duration": 139,
    "start_time": "2022-01-08T10:52:01.066Z"
   },
   {
    "duration": 81,
    "start_time": "2022-01-08T10:52:01.208Z"
   },
   {
    "duration": 307,
    "start_time": "2022-01-08T10:52:01.291Z"
   },
   {
    "duration": 33232,
    "start_time": "2022-01-08T10:52:31.607Z"
   },
   {
    "duration": 112,
    "start_time": "2022-01-08T10:54:21.585Z"
   },
   {
    "duration": 941,
    "start_time": "2022-01-08T10:54:30.268Z"
   },
   {
    "duration": 320,
    "start_time": "2022-01-08T10:54:41.918Z"
   },
   {
    "duration": 306,
    "start_time": "2022-01-08T10:54:52.300Z"
   },
   {
    "duration": 331,
    "start_time": "2022-01-08T10:55:45.918Z"
   },
   {
    "duration": 287,
    "start_time": "2022-01-08T10:55:56.618Z"
   },
   {
    "duration": 381,
    "start_time": "2022-01-08T10:56:07.363Z"
   },
   {
    "duration": 3,
    "start_time": "2022-01-08T10:56:17.912Z"
   },
   {
    "duration": 3,
    "start_time": "2022-01-08T10:56:18.509Z"
   },
   {
    "duration": 3,
    "start_time": "2022-01-08T10:56:18.554Z"
   },
   {
    "duration": 4,
    "start_time": "2022-01-08T10:56:18.597Z"
   },
   {
    "duration": 4,
    "start_time": "2022-01-08T10:56:18.638Z"
   },
   {
    "duration": 3,
    "start_time": "2022-01-08T10:56:18.680Z"
   },
   {
    "duration": 383,
    "start_time": "2022-01-08T10:56:18.767Z"
   },
   {
    "duration": 23,
    "start_time": "2022-01-08T10:56:19.152Z"
   },
   {
    "duration": 446,
    "start_time": "2022-01-08T10:56:19.178Z"
   },
   {
    "duration": 14,
    "start_time": "2022-01-08T10:56:19.627Z"
   },
   {
    "duration": 219,
    "start_time": "2022-01-08T10:56:19.643Z"
   },
   {
    "duration": 139,
    "start_time": "2022-01-08T10:56:19.864Z"
   },
   {
    "duration": 25,
    "start_time": "2022-01-08T10:56:20.005Z"
   },
   {
    "duration": 256,
    "start_time": "2022-01-08T10:56:20.033Z"
   },
   {
    "duration": 24,
    "start_time": "2022-01-08T10:56:20.292Z"
   },
   {
    "duration": 37,
    "start_time": "2022-01-08T10:56:20.319Z"
   },
   {
    "duration": 621,
    "start_time": "2022-01-08T10:56:20.358Z"
   },
   {
    "duration": 35,
    "start_time": "2022-01-08T10:56:20.982Z"
   },
   {
    "duration": 460,
    "start_time": "2022-01-08T10:56:21.019Z"
   },
   {
    "duration": 34,
    "start_time": "2022-01-08T10:56:21.482Z"
   },
   {
    "duration": 158,
    "start_time": "2022-01-08T10:56:21.519Z"
   },
   {
    "duration": 8,
    "start_time": "2022-01-08T10:56:21.679Z"
   },
   {
    "duration": 28,
    "start_time": "2022-01-08T10:56:21.689Z"
   },
   {
    "duration": 6,
    "start_time": "2022-01-08T10:56:21.719Z"
   },
   {
    "duration": 5,
    "start_time": "2022-01-08T10:56:21.728Z"
   },
   {
    "duration": 9,
    "start_time": "2022-01-08T10:56:21.736Z"
   },
   {
    "duration": 11,
    "start_time": "2022-01-08T10:56:21.751Z"
   },
   {
    "duration": 65,
    "start_time": "2022-01-08T10:56:21.764Z"
   },
   {
    "duration": 9,
    "start_time": "2022-01-08T10:56:21.832Z"
   },
   {
    "duration": 21,
    "start_time": "2022-01-08T10:56:21.844Z"
   },
   {
    "duration": 69,
    "start_time": "2022-01-08T10:56:21.868Z"
   },
   {
    "duration": 12,
    "start_time": "2022-01-08T10:56:21.939Z"
   },
   {
    "duration": 16,
    "start_time": "2022-01-08T10:56:21.953Z"
   },
   {
    "duration": 70,
    "start_time": "2022-01-08T10:56:21.971Z"
   },
   {
    "duration": 515,
    "start_time": "2022-01-08T10:56:22.043Z"
   },
   {
    "duration": 617,
    "start_time": "2022-01-08T10:56:22.561Z"
   },
   {
    "duration": 546,
    "start_time": "2022-01-08T10:56:23.181Z"
   },
   {
    "duration": 556,
    "start_time": "2022-01-08T10:56:23.730Z"
   },
   {
    "duration": 935,
    "start_time": "2022-01-08T10:56:24.289Z"
   },
   {
    "duration": 95,
    "start_time": "2022-01-08T10:56:25.226Z"
   },
   {
    "duration": 901,
    "start_time": "2022-01-08T10:56:25.324Z"
   },
   {
    "duration": 4,
    "start_time": "2022-01-08T10:56:26.229Z"
   },
   {
    "duration": 152,
    "start_time": "2022-01-08T10:56:26.238Z"
   },
   {
    "duration": 131,
    "start_time": "2022-01-08T10:56:26.393Z"
   },
   {
    "duration": 142,
    "start_time": "2022-01-08T10:56:26.527Z"
   },
   {
    "duration": 68,
    "start_time": "2022-01-08T10:56:41.610Z"
   },
   {
    "duration": 279,
    "start_time": "2022-01-08T10:57:49.150Z"
   },
   {
    "duration": 290,
    "start_time": "2022-01-08T10:59:17.204Z"
   },
   {
    "duration": 310,
    "start_time": "2022-01-08T10:59:38.168Z"
   },
   {
    "duration": 114,
    "start_time": "2022-01-08T10:59:45.227Z"
   },
   {
    "duration": 88,
    "start_time": "2022-01-08T10:59:53.536Z"
   },
   {
    "duration": 4,
    "start_time": "2022-01-08T11:00:00.562Z"
   },
   {
    "duration": 3,
    "start_time": "2022-01-08T11:00:01.174Z"
   },
   {
    "duration": 3,
    "start_time": "2022-01-08T11:00:01.204Z"
   },
   {
    "duration": 4,
    "start_time": "2022-01-08T11:00:01.246Z"
   },
   {
    "duration": 3,
    "start_time": "2022-01-08T11:00:01.289Z"
   },
   {
    "duration": 4,
    "start_time": "2022-01-08T11:00:01.330Z"
   },
   {
    "duration": 389,
    "start_time": "2022-01-08T11:00:01.414Z"
   },
   {
    "duration": 32,
    "start_time": "2022-01-08T11:00:01.806Z"
   },
   {
    "duration": 456,
    "start_time": "2022-01-08T11:00:01.841Z"
   },
   {
    "duration": 25,
    "start_time": "2022-01-08T11:00:02.301Z"
   },
   {
    "duration": 191,
    "start_time": "2022-01-08T11:00:02.329Z"
   },
   {
    "duration": 143,
    "start_time": "2022-01-08T11:00:02.523Z"
   },
   {
    "duration": 17,
    "start_time": "2022-01-08T11:00:02.669Z"
   },
   {
    "duration": 264,
    "start_time": "2022-01-08T11:00:02.690Z"
   },
   {
    "duration": 9,
    "start_time": "2022-01-08T11:00:02.957Z"
   },
   {
    "duration": 67,
    "start_time": "2022-01-08T11:00:02.968Z"
   },
   {
    "duration": 477,
    "start_time": "2022-01-08T11:00:03.037Z"
   },
   {
    "duration": 26,
    "start_time": "2022-01-08T11:00:03.517Z"
   },
   {
    "duration": 571,
    "start_time": "2022-01-08T11:00:03.546Z"
   },
   {
    "duration": 16,
    "start_time": "2022-01-08T11:00:04.119Z"
   },
   {
    "duration": 180,
    "start_time": "2022-01-08T11:00:04.138Z"
   },
   {
    "duration": 8,
    "start_time": "2022-01-08T11:00:04.320Z"
   },
   {
    "duration": 8,
    "start_time": "2022-01-08T11:00:04.331Z"
   },
   {
    "duration": 10,
    "start_time": "2022-01-08T11:00:04.342Z"
   },
   {
    "duration": 6,
    "start_time": "2022-01-08T11:00:04.355Z"
   },
   {
    "duration": 17,
    "start_time": "2022-01-08T11:00:04.364Z"
   },
   {
    "duration": 40,
    "start_time": "2022-01-08T11:00:04.383Z"
   },
   {
    "duration": 22,
    "start_time": "2022-01-08T11:00:04.428Z"
   },
   {
    "duration": 9,
    "start_time": "2022-01-08T11:00:04.453Z"
   },
   {
    "duration": 56,
    "start_time": "2022-01-08T11:00:04.465Z"
   },
   {
    "duration": 36,
    "start_time": "2022-01-08T11:00:04.524Z"
   },
   {
    "duration": 10,
    "start_time": "2022-01-08T11:00:04.563Z"
   },
   {
    "duration": 47,
    "start_time": "2022-01-08T11:00:04.576Z"
   },
   {
    "duration": 41,
    "start_time": "2022-01-08T11:00:04.626Z"
   },
   {
    "duration": 534,
    "start_time": "2022-01-08T11:00:04.670Z"
   },
   {
    "duration": 525,
    "start_time": "2022-01-08T11:00:05.206Z"
   },
   {
    "duration": 553,
    "start_time": "2022-01-08T11:00:05.733Z"
   },
   {
    "duration": 703,
    "start_time": "2022-01-08T11:00:06.288Z"
   },
   {
    "duration": 895,
    "start_time": "2022-01-08T11:00:06.994Z"
   },
   {
    "duration": 96,
    "start_time": "2022-01-08T11:00:07.891Z"
   },
   {
    "duration": 847,
    "start_time": "2022-01-08T11:00:07.990Z"
   },
   {
    "duration": 4,
    "start_time": "2022-01-08T11:00:08.840Z"
   },
   {
    "duration": 132,
    "start_time": "2022-01-08T11:00:08.846Z"
   },
   {
    "duration": 87,
    "start_time": "2022-01-08T11:00:08.982Z"
   },
   {
    "duration": 93,
    "start_time": "2022-01-08T11:00:09.072Z"
   },
   {
    "duration": 85,
    "start_time": "2022-01-08T11:00:30.952Z"
   },
   {
    "duration": 3,
    "start_time": "2022-01-08T11:00:41.472Z"
   },
   {
    "duration": 3,
    "start_time": "2022-01-08T11:00:42.069Z"
   },
   {
    "duration": 3,
    "start_time": "2022-01-08T11:00:42.107Z"
   },
   {
    "duration": 3,
    "start_time": "2022-01-08T11:00:42.149Z"
   },
   {
    "duration": 3,
    "start_time": "2022-01-08T11:00:42.190Z"
   },
   {
    "duration": 3,
    "start_time": "2022-01-08T11:00:42.233Z"
   },
   {
    "duration": 398,
    "start_time": "2022-01-08T11:00:42.308Z"
   },
   {
    "duration": 27,
    "start_time": "2022-01-08T11:00:42.709Z"
   },
   {
    "duration": 440,
    "start_time": "2022-01-08T11:00:42.739Z"
   },
   {
    "duration": 13,
    "start_time": "2022-01-08T11:00:43.182Z"
   },
   {
    "duration": 179,
    "start_time": "2022-01-08T11:00:43.217Z"
   },
   {
    "duration": 141,
    "start_time": "2022-01-08T11:00:43.398Z"
   },
   {
    "duration": 16,
    "start_time": "2022-01-08T11:00:43.542Z"
   },
   {
    "duration": 270,
    "start_time": "2022-01-08T11:00:43.563Z"
   },
   {
    "duration": 11,
    "start_time": "2022-01-08T11:00:43.837Z"
   },
   {
    "duration": 36,
    "start_time": "2022-01-08T11:00:43.851Z"
   },
   {
    "duration": 478,
    "start_time": "2022-01-08T11:00:43.918Z"
   },
   {
    "duration": 32,
    "start_time": "2022-01-08T11:00:44.398Z"
   },
   {
    "duration": 451,
    "start_time": "2022-01-08T11:00:44.432Z"
   },
   {
    "duration": 34,
    "start_time": "2022-01-08T11:00:44.886Z"
   },
   {
    "duration": 179,
    "start_time": "2022-01-08T11:00:44.923Z"
   },
   {
    "duration": 18,
    "start_time": "2022-01-08T11:00:45.105Z"
   },
   {
    "duration": 7,
    "start_time": "2022-01-08T11:00:45.126Z"
   },
   {
    "duration": 7,
    "start_time": "2022-01-08T11:00:45.136Z"
   },
   {
    "duration": 4,
    "start_time": "2022-01-08T11:00:45.146Z"
   },
   {
    "duration": 10,
    "start_time": "2022-01-08T11:00:45.153Z"
   },
   {
    "duration": 11,
    "start_time": "2022-01-08T11:00:45.218Z"
   },
   {
    "duration": 21,
    "start_time": "2022-01-08T11:00:45.233Z"
   },
   {
    "duration": 11,
    "start_time": "2022-01-08T11:00:45.257Z"
   },
   {
    "duration": 56,
    "start_time": "2022-01-08T11:00:45.271Z"
   },
   {
    "duration": 36,
    "start_time": "2022-01-08T11:00:45.330Z"
   },
   {
    "duration": 51,
    "start_time": "2022-01-08T11:00:45.369Z"
   },
   {
    "duration": 15,
    "start_time": "2022-01-08T11:00:45.423Z"
   },
   {
    "duration": 42,
    "start_time": "2022-01-08T11:00:45.441Z"
   },
   {
    "duration": 512,
    "start_time": "2022-01-08T11:00:45.518Z"
   },
   {
    "duration": 509,
    "start_time": "2022-01-08T11:00:46.033Z"
   },
   {
    "duration": 562,
    "start_time": "2022-01-08T11:00:46.544Z"
   },
   {
    "duration": 489,
    "start_time": "2022-01-08T11:00:47.109Z"
   },
   {
    "duration": 854,
    "start_time": "2022-01-08T11:00:47.600Z"
   },
   {
    "duration": 92,
    "start_time": "2022-01-08T11:00:48.457Z"
   },
   {
    "duration": 855,
    "start_time": "2022-01-08T11:00:48.551Z"
   },
   {
    "duration": 9,
    "start_time": "2022-01-08T11:00:49.411Z"
   },
   {
    "duration": 134,
    "start_time": "2022-01-08T11:00:49.423Z"
   },
   {
    "duration": 100,
    "start_time": "2022-01-08T11:00:49.560Z"
   },
   {
    "duration": 96,
    "start_time": "2022-01-08T11:00:49.663Z"
   },
   {
    "duration": 6,
    "start_time": "2022-01-08T11:12:42.020Z"
   },
   {
    "duration": 4,
    "start_time": "2022-01-08T11:12:58.807Z"
   },
   {
    "duration": 293,
    "start_time": "2022-01-08T11:17:06.417Z"
   },
   {
    "duration": 304,
    "start_time": "2022-01-08T11:17:14.270Z"
   },
   {
    "duration": 6,
    "start_time": "2022-01-08T11:17:23.327Z"
   },
   {
    "duration": 486,
    "start_time": "2022-01-08T11:17:39.976Z"
   },
   {
    "duration": 3,
    "start_time": "2022-01-08T11:18:01.850Z"
   },
   {
    "duration": 3,
    "start_time": "2022-01-08T11:18:02.444Z"
   },
   {
    "duration": 4,
    "start_time": "2022-01-08T11:18:02.484Z"
   },
   {
    "duration": 5,
    "start_time": "2022-01-08T11:18:02.526Z"
   },
   {
    "duration": 4,
    "start_time": "2022-01-08T11:18:02.566Z"
   },
   {
    "duration": 4,
    "start_time": "2022-01-08T11:18:02.604Z"
   },
   {
    "duration": 406,
    "start_time": "2022-01-08T11:18:02.685Z"
   },
   {
    "duration": 41,
    "start_time": "2022-01-08T11:18:03.094Z"
   },
   {
    "duration": 473,
    "start_time": "2022-01-08T11:18:03.139Z"
   },
   {
    "duration": 16,
    "start_time": "2022-01-08T11:18:03.618Z"
   },
   {
    "duration": 206,
    "start_time": "2022-01-08T11:18:03.637Z"
   },
   {
    "duration": 149,
    "start_time": "2022-01-08T11:18:03.845Z"
   },
   {
    "duration": 33,
    "start_time": "2022-01-08T11:18:03.996Z"
   },
   {
    "duration": 270,
    "start_time": "2022-01-08T11:18:04.035Z"
   },
   {
    "duration": 16,
    "start_time": "2022-01-08T11:18:04.307Z"
   },
   {
    "duration": 40,
    "start_time": "2022-01-08T11:18:04.325Z"
   },
   {
    "duration": 512,
    "start_time": "2022-01-08T11:18:04.367Z"
   },
   {
    "duration": 36,
    "start_time": "2022-01-08T11:18:04.881Z"
   },
   {
    "duration": 744,
    "start_time": "2022-01-08T11:18:04.920Z"
   },
   {
    "duration": 15,
    "start_time": "2022-01-08T11:18:05.667Z"
   },
   {
    "duration": 186,
    "start_time": "2022-01-08T11:18:05.685Z"
   },
   {
    "duration": 9,
    "start_time": "2022-01-08T11:18:05.874Z"
   },
   {
    "duration": 30,
    "start_time": "2022-01-08T11:18:05.886Z"
   },
   {
    "duration": 7,
    "start_time": "2022-01-08T11:18:05.920Z"
   },
   {
    "duration": 9,
    "start_time": "2022-01-08T11:18:05.929Z"
   },
   {
    "duration": 10,
    "start_time": "2022-01-08T11:18:05.941Z"
   },
   {
    "duration": 11,
    "start_time": "2022-01-08T11:18:05.953Z"
   },
   {
    "duration": 51,
    "start_time": "2022-01-08T11:18:05.966Z"
   },
   {
    "duration": 12,
    "start_time": "2022-01-08T11:18:06.024Z"
   },
   {
    "duration": 20,
    "start_time": "2022-01-08T11:18:06.039Z"
   },
   {
    "duration": 64,
    "start_time": "2022-01-08T11:18:06.061Z"
   },
   {
    "duration": 14,
    "start_time": "2022-01-08T11:18:06.128Z"
   },
   {
    "duration": 14,
    "start_time": "2022-01-08T11:18:06.144Z"
   },
   {
    "duration": 84,
    "start_time": "2022-01-08T11:18:06.160Z"
   },
   {
    "duration": 553,
    "start_time": "2022-01-08T11:18:06.247Z"
   },
   {
    "duration": 521,
    "start_time": "2022-01-08T11:18:06.802Z"
   },
   {
    "duration": 557,
    "start_time": "2022-01-08T11:18:07.326Z"
   },
   {
    "duration": 514,
    "start_time": "2022-01-08T11:18:07.886Z"
   },
   {
    "duration": 916,
    "start_time": "2022-01-08T11:18:08.403Z"
   },
   {
    "duration": 79,
    "start_time": "2022-01-08T11:18:09.321Z"
   },
   {
    "duration": 1010,
    "start_time": "2022-01-08T11:18:09.402Z"
   },
   {
    "duration": 4,
    "start_time": "2022-01-08T11:18:10.419Z"
   },
   {
    "duration": 118,
    "start_time": "2022-01-08T11:18:10.426Z"
   },
   {
    "duration": 74,
    "start_time": "2022-01-08T11:18:10.547Z"
   },
   {
    "duration": 97,
    "start_time": "2022-01-08T11:18:10.624Z"
   },
   {
    "duration": 6,
    "start_time": "2022-01-08T11:18:10.724Z"
   },
   {
    "duration": 306,
    "start_time": "2022-01-08T11:18:33.118Z"
   },
   {
    "duration": 5,
    "start_time": "2022-01-08T11:18:42.872Z"
   },
   {
    "duration": 5,
    "start_time": "2022-01-08T11:18:48.801Z"
   },
   {
    "duration": 6,
    "start_time": "2022-01-08T11:36:10.346Z"
   },
   {
    "duration": 52,
    "start_time": "2022-01-08T11:36:52.681Z"
   },
   {
    "duration": 61,
    "start_time": "2022-01-08T11:37:27.109Z"
   },
   {
    "duration": 110,
    "start_time": "2022-01-08T11:37:32.749Z"
   },
   {
    "duration": 7,
    "start_time": "2022-01-08T11:37:55.760Z"
   },
   {
    "duration": 432,
    "start_time": "2022-01-08T11:39:09.016Z"
   },
   {
    "duration": 89,
    "start_time": "2022-01-08T11:40:02.508Z"
   },
   {
    "duration": 55,
    "start_time": "2022-01-08T11:40:22.025Z"
   },
   {
    "duration": 96,
    "start_time": "2022-01-08T11:41:42.949Z"
   },
   {
    "duration": 58,
    "start_time": "2022-01-08T11:42:30.468Z"
   },
   {
    "duration": 6,
    "start_time": "2022-01-08T11:43:20.790Z"
   },
   {
    "duration": 49,
    "start_time": "2022-01-08T11:43:33.426Z"
   },
   {
    "duration": 4,
    "start_time": "2022-01-08T11:44:27.595Z"
   },
   {
    "duration": 4,
    "start_time": "2022-01-08T11:44:28.184Z"
   },
   {
    "duration": 4,
    "start_time": "2022-01-08T11:44:28.221Z"
   },
   {
    "duration": 3,
    "start_time": "2022-01-08T11:44:28.262Z"
   },
   {
    "duration": 3,
    "start_time": "2022-01-08T11:44:28.303Z"
   },
   {
    "duration": 4,
    "start_time": "2022-01-08T11:44:28.346Z"
   },
   {
    "duration": 444,
    "start_time": "2022-01-08T11:44:28.425Z"
   },
   {
    "duration": 22,
    "start_time": "2022-01-08T11:44:28.871Z"
   },
   {
    "duration": 484,
    "start_time": "2022-01-08T11:44:28.896Z"
   },
   {
    "duration": 14,
    "start_time": "2022-01-08T11:44:29.382Z"
   },
   {
    "duration": 189,
    "start_time": "2022-01-08T11:44:29.417Z"
   },
   {
    "duration": 151,
    "start_time": "2022-01-08T11:44:29.616Z"
   },
   {
    "duration": 21,
    "start_time": "2022-01-08T11:44:29.770Z"
   },
   {
    "duration": 290,
    "start_time": "2022-01-08T11:44:29.795Z"
   },
   {
    "duration": 10,
    "start_time": "2022-01-08T11:44:30.088Z"
   },
   {
    "duration": 61,
    "start_time": "2022-01-08T11:44:30.100Z"
   },
   {
    "duration": 529,
    "start_time": "2022-01-08T11:44:30.163Z"
   },
   {
    "duration": 46,
    "start_time": "2022-01-08T11:44:30.694Z"
   },
   {
    "duration": 484,
    "start_time": "2022-01-08T11:44:30.743Z"
   },
   {
    "duration": 25,
    "start_time": "2022-01-08T11:44:31.229Z"
   },
   {
    "duration": 196,
    "start_time": "2022-01-08T11:44:31.256Z"
   },
   {
    "duration": 8,
    "start_time": "2022-01-08T11:44:31.455Z"
   },
   {
    "duration": 12,
    "start_time": "2022-01-08T11:44:31.466Z"
   },
   {
    "duration": 7,
    "start_time": "2022-01-08T11:44:31.480Z"
   },
   {
    "duration": 5,
    "start_time": "2022-01-08T11:44:31.489Z"
   },
   {
    "duration": 12,
    "start_time": "2022-01-08T11:44:31.518Z"
   },
   {
    "duration": 13,
    "start_time": "2022-01-08T11:44:31.533Z"
   },
   {
    "duration": 22,
    "start_time": "2022-01-08T11:44:31.548Z"
   },
   {
    "duration": 47,
    "start_time": "2022-01-08T11:44:31.575Z"
   },
   {
    "duration": 24,
    "start_time": "2022-01-08T11:44:31.626Z"
   },
   {
    "duration": 35,
    "start_time": "2022-01-08T11:44:31.652Z"
   },
   {
    "duration": 13,
    "start_time": "2022-01-08T11:44:31.718Z"
   },
   {
    "duration": 16,
    "start_time": "2022-01-08T11:44:31.734Z"
   },
   {
    "duration": 69,
    "start_time": "2022-01-08T11:44:31.753Z"
   },
   {
    "duration": 551,
    "start_time": "2022-01-08T11:44:31.825Z"
   },
   {
    "duration": 813,
    "start_time": "2022-01-08T11:44:32.379Z"
   },
   {
    "duration": 567,
    "start_time": "2022-01-08T11:44:33.194Z"
   },
   {
    "duration": 485,
    "start_time": "2022-01-08T11:44:33.763Z"
   },
   {
    "duration": 882,
    "start_time": "2022-01-08T11:44:34.251Z"
   },
   {
    "duration": 96,
    "start_time": "2022-01-08T11:44:35.135Z"
   },
   {
    "duration": 917,
    "start_time": "2022-01-08T11:44:35.233Z"
   },
   {
    "duration": 4,
    "start_time": "2022-01-08T11:44:36.153Z"
   },
   {
    "duration": 118,
    "start_time": "2022-01-08T11:44:36.160Z"
   },
   {
    "duration": 76,
    "start_time": "2022-01-08T11:44:36.281Z"
   },
   {
    "duration": 101,
    "start_time": "2022-01-08T11:44:36.360Z"
   },
   {
    "duration": 4,
    "start_time": "2022-01-08T11:44:36.465Z"
   },
   {
    "duration": 82,
    "start_time": "2022-01-08T11:44:36.472Z"
   },
   {
    "duration": 97,
    "start_time": "2022-01-08T11:44:36.557Z"
   },
   {
    "duration": 63,
    "start_time": "2022-01-08T11:44:36.656Z"
   },
   {
    "duration": 331,
    "start_time": "2022-01-08T11:49:32.918Z"
   },
   {
    "duration": 319,
    "start_time": "2022-01-08T11:49:50.418Z"
   },
   {
    "duration": 4,
    "start_time": "2022-01-08T11:49:56.901Z"
   },
   {
    "duration": 4,
    "start_time": "2022-01-08T11:49:57.498Z"
   },
   {
    "duration": 3,
    "start_time": "2022-01-08T11:49:57.563Z"
   },
   {
    "duration": 4,
    "start_time": "2022-01-08T11:49:57.602Z"
   },
   {
    "duration": 4,
    "start_time": "2022-01-08T11:49:57.640Z"
   },
   {
    "duration": 4,
    "start_time": "2022-01-08T11:49:57.680Z"
   },
   {
    "duration": 417,
    "start_time": "2022-01-08T11:49:57.737Z"
   },
   {
    "duration": 24,
    "start_time": "2022-01-08T11:49:58.156Z"
   },
   {
    "duration": 468,
    "start_time": "2022-01-08T11:49:58.183Z"
   },
   {
    "duration": 13,
    "start_time": "2022-01-08T11:49:58.654Z"
   },
   {
    "duration": 211,
    "start_time": "2022-01-08T11:49:58.670Z"
   },
   {
    "duration": 159,
    "start_time": "2022-01-08T11:49:58.883Z"
   },
   {
    "duration": 17,
    "start_time": "2022-01-08T11:49:59.045Z"
   },
   {
    "duration": 287,
    "start_time": "2022-01-08T11:49:59.068Z"
   },
   {
    "duration": 9,
    "start_time": "2022-01-08T11:49:59.358Z"
   },
   {
    "duration": 67,
    "start_time": "2022-01-08T11:49:59.370Z"
   },
   {
    "duration": 556,
    "start_time": "2022-01-08T11:49:59.441Z"
   },
   {
    "duration": 45,
    "start_time": "2022-01-08T11:50:00.000Z"
   },
   {
    "duration": 471,
    "start_time": "2022-01-08T11:50:00.048Z"
   },
   {
    "duration": 15,
    "start_time": "2022-01-08T11:50:00.522Z"
   },
   {
    "duration": 184,
    "start_time": "2022-01-08T11:50:00.540Z"
   },
   {
    "duration": 8,
    "start_time": "2022-01-08T11:50:00.728Z"
   },
   {
    "duration": 36,
    "start_time": "2022-01-08T11:50:00.739Z"
   },
   {
    "duration": 40,
    "start_time": "2022-01-08T11:50:00.778Z"
   },
   {
    "duration": 32,
    "start_time": "2022-01-08T11:50:00.821Z"
   },
   {
    "duration": 45,
    "start_time": "2022-01-08T11:50:00.855Z"
   },
   {
    "duration": 48,
    "start_time": "2022-01-08T11:50:00.902Z"
   },
   {
    "duration": 39,
    "start_time": "2022-01-08T11:50:00.952Z"
   },
   {
    "duration": 22,
    "start_time": "2022-01-08T11:50:00.996Z"
   },
   {
    "duration": 52,
    "start_time": "2022-01-08T11:50:01.021Z"
   },
   {
    "duration": 34,
    "start_time": "2022-01-08T11:50:01.076Z"
   },
   {
    "duration": 14,
    "start_time": "2022-01-08T11:50:01.117Z"
   },
   {
    "duration": 42,
    "start_time": "2022-01-08T11:50:01.135Z"
   },
   {
    "duration": 65,
    "start_time": "2022-01-08T11:50:01.180Z"
   },
   {
    "duration": 554,
    "start_time": "2022-01-08T11:50:01.248Z"
   },
   {
    "duration": 559,
    "start_time": "2022-01-08T11:50:01.804Z"
   },
   {
    "duration": 594,
    "start_time": "2022-01-08T11:50:02.365Z"
   },
   {
    "duration": 516,
    "start_time": "2022-01-08T11:50:02.961Z"
   },
   {
    "duration": 886,
    "start_time": "2022-01-08T11:50:03.480Z"
   },
   {
    "duration": 105,
    "start_time": "2022-01-08T11:50:04.370Z"
   },
   {
    "duration": 893,
    "start_time": "2022-01-08T11:50:04.478Z"
   },
   {
    "duration": 3,
    "start_time": "2022-01-08T11:50:05.374Z"
   },
   {
    "duration": 119,
    "start_time": "2022-01-08T11:50:05.380Z"
   },
   {
    "duration": 71,
    "start_time": "2022-01-08T11:50:05.501Z"
   },
   {
    "duration": 443,
    "start_time": "2022-01-08T11:50:05.574Z"
   },
   {
    "duration": 6,
    "start_time": "2022-01-08T11:50:06.021Z"
   },
   {
    "duration": 330,
    "start_time": "2022-01-08T11:50:06.032Z"
   },
   {
    "duration": 228,
    "start_time": "2022-01-08T11:50:50.799Z"
   },
   {
    "duration": 225,
    "start_time": "2022-01-08T11:51:23.974Z"
   },
   {
    "duration": 340,
    "start_time": "2022-01-08T11:51:41.236Z"
   },
   {
    "duration": 379,
    "start_time": "2022-01-08T11:52:08.059Z"
   },
   {
    "duration": 311,
    "start_time": "2022-01-08T11:52:14.194Z"
   },
   {
    "duration": 317,
    "start_time": "2022-01-08T11:52:42.170Z"
   },
   {
    "duration": 132,
    "start_time": "2022-01-08T11:53:33.130Z"
   },
   {
    "duration": 319,
    "start_time": "2022-01-08T11:53:44.623Z"
   },
   {
    "duration": 4,
    "start_time": "2022-01-08T11:53:53.091Z"
   },
   {
    "duration": 4,
    "start_time": "2022-01-08T11:53:53.687Z"
   },
   {
    "duration": 3,
    "start_time": "2022-01-08T11:53:53.724Z"
   },
   {
    "duration": 4,
    "start_time": "2022-01-08T11:53:53.761Z"
   },
   {
    "duration": 4,
    "start_time": "2022-01-08T11:53:53.803Z"
   },
   {
    "duration": 4,
    "start_time": "2022-01-08T11:53:53.845Z"
   },
   {
    "duration": 406,
    "start_time": "2022-01-08T11:53:53.922Z"
   },
   {
    "duration": 25,
    "start_time": "2022-01-08T11:53:54.331Z"
   },
   {
    "duration": 470,
    "start_time": "2022-01-08T11:53:54.360Z"
   },
   {
    "duration": 15,
    "start_time": "2022-01-08T11:53:54.834Z"
   },
   {
    "duration": 207,
    "start_time": "2022-01-08T11:53:54.852Z"
   },
   {
    "duration": 143,
    "start_time": "2022-01-08T11:53:55.061Z"
   },
   {
    "duration": 16,
    "start_time": "2022-01-08T11:53:55.206Z"
   },
   {
    "duration": 254,
    "start_time": "2022-01-08T11:53:55.226Z"
   },
   {
    "duration": 9,
    "start_time": "2022-01-08T11:53:55.483Z"
   },
   {
    "duration": 56,
    "start_time": "2022-01-08T11:53:55.494Z"
   },
   {
    "duration": 481,
    "start_time": "2022-01-08T11:53:55.553Z"
   },
   {
    "duration": 23,
    "start_time": "2022-01-08T11:53:56.037Z"
   },
   {
    "duration": 460,
    "start_time": "2022-01-08T11:53:56.062Z"
   },
   {
    "duration": 15,
    "start_time": "2022-01-08T11:53:56.524Z"
   },
   {
    "duration": 172,
    "start_time": "2022-01-08T11:53:56.541Z"
   },
   {
    "duration": 7,
    "start_time": "2022-01-08T11:53:56.716Z"
   },
   {
    "duration": 7,
    "start_time": "2022-01-08T11:53:56.726Z"
   },
   {
    "duration": 9,
    "start_time": "2022-01-08T11:53:56.736Z"
   },
   {
    "duration": 8,
    "start_time": "2022-01-08T11:53:56.747Z"
   },
   {
    "duration": 9,
    "start_time": "2022-01-08T11:53:56.757Z"
   },
   {
    "duration": 12,
    "start_time": "2022-01-08T11:53:56.768Z"
   },
   {
    "duration": 30,
    "start_time": "2022-01-08T11:53:56.818Z"
   },
   {
    "duration": 10,
    "start_time": "2022-01-08T11:53:56.853Z"
   },
   {
    "duration": 33,
    "start_time": "2022-01-08T11:53:56.865Z"
   },
   {
    "duration": 48,
    "start_time": "2022-01-08T11:53:56.901Z"
   },
   {
    "duration": 12,
    "start_time": "2022-01-08T11:53:56.951Z"
   },
   {
    "duration": 31,
    "start_time": "2022-01-08T11:53:56.965Z"
   },
   {
    "duration": 50,
    "start_time": "2022-01-08T11:53:57.021Z"
   },
   {
    "duration": 519,
    "start_time": "2022-01-08T11:53:57.074Z"
   },
   {
    "duration": 524,
    "start_time": "2022-01-08T11:53:57.596Z"
   },
   {
    "duration": 550,
    "start_time": "2022-01-08T11:53:58.123Z"
   },
   {
    "duration": 486,
    "start_time": "2022-01-08T11:53:58.675Z"
   },
   {
    "duration": 844,
    "start_time": "2022-01-08T11:53:59.166Z"
   },
   {
    "duration": 78,
    "start_time": "2022-01-08T11:54:00.012Z"
   },
   {
    "duration": 949,
    "start_time": "2022-01-08T11:54:00.092Z"
   },
   {
    "duration": 5,
    "start_time": "2022-01-08T11:54:01.045Z"
   },
   {
    "duration": 118,
    "start_time": "2022-01-08T11:54:01.053Z"
   },
   {
    "duration": 81,
    "start_time": "2022-01-08T11:54:01.174Z"
   },
   {
    "duration": 102,
    "start_time": "2022-01-08T11:54:01.258Z"
   },
   {
    "duration": 6,
    "start_time": "2022-01-08T11:54:01.362Z"
   },
   {
    "duration": 110,
    "start_time": "2022-01-08T11:54:01.371Z"
   },
   {
    "duration": 308,
    "start_time": "2022-01-08T11:54:16.246Z"
   },
   {
    "duration": 4,
    "start_time": "2022-01-08T11:54:22.726Z"
   },
   {
    "duration": 4,
    "start_time": "2022-01-08T11:54:23.323Z"
   },
   {
    "duration": 4,
    "start_time": "2022-01-08T11:54:23.359Z"
   },
   {
    "duration": 3,
    "start_time": "2022-01-08T11:54:23.401Z"
   },
   {
    "duration": 4,
    "start_time": "2022-01-08T11:54:23.439Z"
   },
   {
    "duration": 3,
    "start_time": "2022-01-08T11:54:23.476Z"
   },
   {
    "duration": 395,
    "start_time": "2022-01-08T11:54:23.559Z"
   },
   {
    "duration": 22,
    "start_time": "2022-01-08T11:54:23.956Z"
   },
   {
    "duration": 436,
    "start_time": "2022-01-08T11:54:23.981Z"
   },
   {
    "duration": 13,
    "start_time": "2022-01-08T11:54:24.420Z"
   },
   {
    "duration": 201,
    "start_time": "2022-01-08T11:54:24.435Z"
   },
   {
    "duration": 141,
    "start_time": "2022-01-08T11:54:24.638Z"
   },
   {
    "duration": 16,
    "start_time": "2022-01-08T11:54:24.782Z"
   },
   {
    "duration": 286,
    "start_time": "2022-01-08T11:54:24.803Z"
   },
   {
    "duration": 10,
    "start_time": "2022-01-08T11:54:25.092Z"
   },
   {
    "duration": 37,
    "start_time": "2022-01-08T11:54:25.118Z"
   },
   {
    "duration": 482,
    "start_time": "2022-01-08T11:54:25.157Z"
   },
   {
    "duration": 24,
    "start_time": "2022-01-08T11:54:25.641Z"
   },
   {
    "duration": 474,
    "start_time": "2022-01-08T11:54:25.667Z"
   },
   {
    "duration": 16,
    "start_time": "2022-01-08T11:54:26.143Z"
   },
   {
    "duration": 175,
    "start_time": "2022-01-08T11:54:26.161Z"
   },
   {
    "duration": 7,
    "start_time": "2022-01-08T11:54:26.338Z"
   },
   {
    "duration": 8,
    "start_time": "2022-01-08T11:54:26.347Z"
   },
   {
    "duration": 6,
    "start_time": "2022-01-08T11:54:26.357Z"
   },
   {
    "duration": 10,
    "start_time": "2022-01-08T11:54:26.365Z"
   },
   {
    "duration": 44,
    "start_time": "2022-01-08T11:54:26.377Z"
   },
   {
    "duration": 11,
    "start_time": "2022-01-08T11:54:26.425Z"
   },
   {
    "duration": 23,
    "start_time": "2022-01-08T11:54:26.439Z"
   },
   {
    "duration": 10,
    "start_time": "2022-01-08T11:54:26.464Z"
   },
   {
    "duration": 57,
    "start_time": "2022-01-08T11:54:26.476Z"
   },
   {
    "duration": 35,
    "start_time": "2022-01-08T11:54:26.535Z"
   },
   {
    "duration": 10,
    "start_time": "2022-01-08T11:54:26.573Z"
   },
   {
    "duration": 43,
    "start_time": "2022-01-08T11:54:26.586Z"
   },
   {
    "duration": 42,
    "start_time": "2022-01-08T11:54:26.632Z"
   },
   {
    "duration": 600,
    "start_time": "2022-01-08T11:54:26.676Z"
   },
   {
    "duration": 510,
    "start_time": "2022-01-08T11:54:27.278Z"
   },
   {
    "duration": 537,
    "start_time": "2022-01-08T11:54:27.791Z"
   },
   {
    "duration": 595,
    "start_time": "2022-01-08T11:54:28.331Z"
   },
   {
    "duration": 827,
    "start_time": "2022-01-08T11:54:28.928Z"
   },
   {
    "duration": 85,
    "start_time": "2022-01-08T11:54:29.757Z"
   },
   {
    "duration": 846,
    "start_time": "2022-01-08T11:54:29.845Z"
   },
   {
    "duration": 4,
    "start_time": "2022-01-08T11:54:30.694Z"
   },
   {
    "duration": 117,
    "start_time": "2022-01-08T11:54:30.700Z"
   },
   {
    "duration": 62,
    "start_time": "2022-01-08T11:54:30.819Z"
   },
   {
    "duration": 103,
    "start_time": "2022-01-08T11:54:30.883Z"
   },
   {
    "duration": 4,
    "start_time": "2022-01-08T11:54:30.989Z"
   },
   {
    "duration": 255,
    "start_time": "2022-01-08T11:54:30.995Z"
   },
   {
    "duration": 294,
    "start_time": "2022-01-08T11:55:25.929Z"
   },
   {
    "duration": 136,
    "start_time": "2022-01-08T11:55:29.120Z"
   },
   {
    "duration": 4,
    "start_time": "2022-01-08T11:55:38.757Z"
   },
   {
    "duration": 4,
    "start_time": "2022-01-08T11:55:39.356Z"
   },
   {
    "duration": 3,
    "start_time": "2022-01-08T11:55:39.386Z"
   },
   {
    "duration": 4,
    "start_time": "2022-01-08T11:55:39.429Z"
   },
   {
    "duration": 4,
    "start_time": "2022-01-08T11:55:39.465Z"
   },
   {
    "duration": 4,
    "start_time": "2022-01-08T11:55:39.507Z"
   },
   {
    "duration": 411,
    "start_time": "2022-01-08T11:55:39.592Z"
   },
   {
    "duration": 24,
    "start_time": "2022-01-08T11:55:40.017Z"
   },
   {
    "duration": 437,
    "start_time": "2022-01-08T11:55:40.043Z"
   },
   {
    "duration": 13,
    "start_time": "2022-01-08T11:55:40.483Z"
   },
   {
    "duration": 197,
    "start_time": "2022-01-08T11:55:40.498Z"
   },
   {
    "duration": 137,
    "start_time": "2022-01-08T11:55:40.697Z"
   },
   {
    "duration": 18,
    "start_time": "2022-01-08T11:55:40.837Z"
   },
   {
    "duration": 262,
    "start_time": "2022-01-08T11:55:40.858Z"
   },
   {
    "duration": 10,
    "start_time": "2022-01-08T11:55:41.123Z"
   },
   {
    "duration": 34,
    "start_time": "2022-01-08T11:55:41.135Z"
   },
   {
    "duration": 494,
    "start_time": "2022-01-08T11:55:41.171Z"
   },
   {
    "duration": 23,
    "start_time": "2022-01-08T11:55:41.667Z"
   },
   {
    "duration": 482,
    "start_time": "2022-01-08T11:55:41.692Z"
   },
   {
    "duration": 14,
    "start_time": "2022-01-08T11:55:42.177Z"
   },
   {
    "duration": 172,
    "start_time": "2022-01-08T11:55:42.193Z"
   },
   {
    "duration": 7,
    "start_time": "2022-01-08T11:55:42.367Z"
   },
   {
    "duration": 10,
    "start_time": "2022-01-08T11:55:42.376Z"
   },
   {
    "duration": 29,
    "start_time": "2022-01-08T11:55:42.388Z"
   },
   {
    "duration": 4,
    "start_time": "2022-01-08T11:55:42.419Z"
   },
   {
    "duration": 11,
    "start_time": "2022-01-08T11:55:42.425Z"
   },
   {
    "duration": 10,
    "start_time": "2022-01-08T11:55:42.442Z"
   },
   {
    "duration": 61,
    "start_time": "2022-01-08T11:55:42.456Z"
   },
   {
    "duration": 10,
    "start_time": "2022-01-08T11:55:42.519Z"
   },
   {
    "duration": 21,
    "start_time": "2022-01-08T11:55:42.532Z"
   },
   {
    "duration": 71,
    "start_time": "2022-01-08T11:55:42.556Z"
   },
   {
    "duration": 15,
    "start_time": "2022-01-08T11:55:42.630Z"
   },
   {
    "duration": 16,
    "start_time": "2022-01-08T11:55:42.648Z"
   },
   {
    "duration": 71,
    "start_time": "2022-01-08T11:55:42.666Z"
   },
   {
    "duration": 539,
    "start_time": "2022-01-08T11:55:42.739Z"
   },
   {
    "duration": 525,
    "start_time": "2022-01-08T11:55:43.281Z"
   },
   {
    "duration": 571,
    "start_time": "2022-01-08T11:55:43.809Z"
   },
   {
    "duration": 477,
    "start_time": "2022-01-08T11:55:44.382Z"
   },
   {
    "duration": 847,
    "start_time": "2022-01-08T11:55:44.861Z"
   },
   {
    "duration": 81,
    "start_time": "2022-01-08T11:55:45.710Z"
   },
   {
    "duration": 1261,
    "start_time": "2022-01-08T11:55:45.793Z"
   },
   {
    "duration": 4,
    "start_time": "2022-01-08T11:55:47.058Z"
   },
   {
    "duration": 115,
    "start_time": "2022-01-08T11:55:47.065Z"
   },
   {
    "duration": 73,
    "start_time": "2022-01-08T11:55:47.183Z"
   },
   {
    "duration": 97,
    "start_time": "2022-01-08T11:55:47.258Z"
   },
   {
    "duration": 5,
    "start_time": "2022-01-08T11:55:47.357Z"
   },
   {
    "duration": 166,
    "start_time": "2022-01-08T11:55:47.364Z"
   },
   {
    "duration": 314,
    "start_time": "2022-01-08T11:56:30.217Z"
   },
   {
    "duration": 3,
    "start_time": "2022-01-08T11:56:37.402Z"
   },
   {
    "duration": 4,
    "start_time": "2022-01-08T11:56:37.993Z"
   },
   {
    "duration": 3,
    "start_time": "2022-01-08T11:56:38.032Z"
   },
   {
    "duration": 4,
    "start_time": "2022-01-08T11:56:38.100Z"
   },
   {
    "duration": 3,
    "start_time": "2022-01-08T11:56:38.141Z"
   },
   {
    "duration": 4,
    "start_time": "2022-01-08T11:56:38.178Z"
   },
   {
    "duration": 399,
    "start_time": "2022-01-08T11:56:38.238Z"
   },
   {
    "duration": 23,
    "start_time": "2022-01-08T11:56:38.640Z"
   },
   {
    "duration": 437,
    "start_time": "2022-01-08T11:56:38.665Z"
   },
   {
    "duration": 22,
    "start_time": "2022-01-08T11:56:39.104Z"
   },
   {
    "duration": 196,
    "start_time": "2022-01-08T11:56:39.128Z"
   },
   {
    "duration": 136,
    "start_time": "2022-01-08T11:56:39.326Z"
   },
   {
    "duration": 16,
    "start_time": "2022-01-08T11:56:39.464Z"
   },
   {
    "duration": 263,
    "start_time": "2022-01-08T11:56:39.483Z"
   },
   {
    "duration": 9,
    "start_time": "2022-01-08T11:56:39.750Z"
   },
   {
    "duration": 57,
    "start_time": "2022-01-08T11:56:39.761Z"
   },
   {
    "duration": 493,
    "start_time": "2022-01-08T11:56:39.820Z"
   },
   {
    "duration": 23,
    "start_time": "2022-01-08T11:56:40.317Z"
   },
   {
    "duration": 458,
    "start_time": "2022-01-08T11:56:40.342Z"
   },
   {
    "duration": 19,
    "start_time": "2022-01-08T11:56:40.802Z"
   },
   {
    "duration": 170,
    "start_time": "2022-01-08T11:56:40.823Z"
   },
   {
    "duration": 21,
    "start_time": "2022-01-08T11:56:40.996Z"
   },
   {
    "duration": 6,
    "start_time": "2022-01-08T11:56:41.020Z"
   },
   {
    "duration": 8,
    "start_time": "2022-01-08T11:56:41.028Z"
   },
   {
    "duration": 11,
    "start_time": "2022-01-08T11:56:41.039Z"
   },
   {
    "duration": 10,
    "start_time": "2022-01-08T11:56:41.052Z"
   },
   {
    "duration": 11,
    "start_time": "2022-01-08T11:56:41.068Z"
   },
   {
    "duration": 22,
    "start_time": "2022-01-08T11:56:41.119Z"
   },
   {
    "duration": 9,
    "start_time": "2022-01-08T11:56:41.144Z"
   },
   {
    "duration": 20,
    "start_time": "2022-01-08T11:56:41.156Z"
   },
   {
    "duration": 71,
    "start_time": "2022-01-08T11:56:41.179Z"
   },
   {
    "duration": 13,
    "start_time": "2022-01-08T11:56:41.253Z"
   },
   {
    "duration": 49,
    "start_time": "2022-01-08T11:56:41.268Z"
   },
   {
    "duration": 40,
    "start_time": "2022-01-08T11:56:41.319Z"
   },
   {
    "duration": 549,
    "start_time": "2022-01-08T11:56:41.362Z"
   },
   {
    "duration": 563,
    "start_time": "2022-01-08T11:56:41.918Z"
   },
   {
    "duration": 553,
    "start_time": "2022-01-08T11:56:42.484Z"
   },
   {
    "duration": 500,
    "start_time": "2022-01-08T11:56:43.039Z"
   },
   {
    "duration": 856,
    "start_time": "2022-01-08T11:56:43.543Z"
   },
   {
    "duration": 85,
    "start_time": "2022-01-08T11:56:44.403Z"
   },
   {
    "duration": 851,
    "start_time": "2022-01-08T11:56:44.491Z"
   },
   {
    "duration": 3,
    "start_time": "2022-01-08T11:56:45.345Z"
   },
   {
    "duration": 117,
    "start_time": "2022-01-08T11:56:45.351Z"
   },
   {
    "duration": 73,
    "start_time": "2022-01-08T11:56:45.470Z"
   },
   {
    "duration": 91,
    "start_time": "2022-01-08T11:56:45.546Z"
   },
   {
    "duration": 4,
    "start_time": "2022-01-08T11:56:45.639Z"
   },
   {
    "duration": 155,
    "start_time": "2022-01-08T11:56:45.646Z"
   },
   {
    "duration": 311,
    "start_time": "2022-01-08T12:01:16.542Z"
   },
   {
    "duration": 4,
    "start_time": "2022-01-08T12:01:24.200Z"
   },
   {
    "duration": 4,
    "start_time": "2022-01-08T12:01:24.800Z"
   },
   {
    "duration": 3,
    "start_time": "2022-01-08T12:01:24.835Z"
   },
   {
    "duration": 4,
    "start_time": "2022-01-08T12:01:24.873Z"
   },
   {
    "duration": 3,
    "start_time": "2022-01-08T12:01:24.916Z"
   },
   {
    "duration": 3,
    "start_time": "2022-01-08T12:01:24.957Z"
   },
   {
    "duration": 419,
    "start_time": "2022-01-08T12:01:25.037Z"
   },
   {
    "duration": 24,
    "start_time": "2022-01-08T12:01:25.459Z"
   },
   {
    "duration": 451,
    "start_time": "2022-01-08T12:01:25.486Z"
   },
   {
    "duration": 16,
    "start_time": "2022-01-08T12:01:25.940Z"
   },
   {
    "duration": 206,
    "start_time": "2022-01-08T12:01:25.959Z"
   },
   {
    "duration": 143,
    "start_time": "2022-01-08T12:01:26.168Z"
   },
   {
    "duration": 16,
    "start_time": "2022-01-08T12:01:26.318Z"
   },
   {
    "duration": 260,
    "start_time": "2022-01-08T12:01:26.337Z"
   },
   {
    "duration": 18,
    "start_time": "2022-01-08T12:01:26.600Z"
   },
   {
    "duration": 35,
    "start_time": "2022-01-08T12:01:26.621Z"
   },
   {
    "duration": 519,
    "start_time": "2022-01-08T12:01:26.658Z"
   },
   {
    "duration": 23,
    "start_time": "2022-01-08T12:01:27.180Z"
   },
   {
    "duration": 445,
    "start_time": "2022-01-08T12:01:27.218Z"
   },
   {
    "duration": 15,
    "start_time": "2022-01-08T12:01:27.665Z"
   },
   {
    "duration": 174,
    "start_time": "2022-01-08T12:01:27.682Z"
   },
   {
    "duration": 7,
    "start_time": "2022-01-08T12:01:27.858Z"
   },
   {
    "duration": 11,
    "start_time": "2022-01-08T12:01:27.867Z"
   },
   {
    "duration": 6,
    "start_time": "2022-01-08T12:01:27.880Z"
   },
   {
    "duration": 28,
    "start_time": "2022-01-08T12:01:27.889Z"
   },
   {
    "duration": 11,
    "start_time": "2022-01-08T12:01:27.920Z"
   },
   {
    "duration": 13,
    "start_time": "2022-01-08T12:01:27.933Z"
   },
   {
    "duration": 22,
    "start_time": "2022-01-08T12:01:27.949Z"
   },
   {
    "duration": 48,
    "start_time": "2022-01-08T12:01:27.976Z"
   },
   {
    "duration": 20,
    "start_time": "2022-01-08T12:01:28.026Z"
   },
   {
    "duration": 36,
    "start_time": "2022-01-08T12:01:28.049Z"
   },
   {
    "duration": 41,
    "start_time": "2022-01-08T12:01:28.087Z"
   },
   {
    "duration": 19,
    "start_time": "2022-01-08T12:01:28.130Z"
   },
   {
    "duration": 66,
    "start_time": "2022-01-08T12:01:28.151Z"
   },
   {
    "duration": 494,
    "start_time": "2022-01-08T12:01:28.219Z"
   },
   {
    "duration": 521,
    "start_time": "2022-01-08T12:01:28.716Z"
   },
   {
    "duration": 565,
    "start_time": "2022-01-08T12:01:29.239Z"
   },
   {
    "duration": 508,
    "start_time": "2022-01-08T12:01:29.806Z"
   },
   {
    "duration": 874,
    "start_time": "2022-01-08T12:01:30.316Z"
   },
   {
    "duration": 90,
    "start_time": "2022-01-08T12:01:31.193Z"
   },
   {
    "duration": 874,
    "start_time": "2022-01-08T12:01:31.285Z"
   },
   {
    "duration": 4,
    "start_time": "2022-01-08T12:01:32.163Z"
   },
   {
    "duration": 120,
    "start_time": "2022-01-08T12:01:32.170Z"
   },
   {
    "duration": 75,
    "start_time": "2022-01-08T12:01:32.293Z"
   },
   {
    "duration": 113,
    "start_time": "2022-01-08T12:01:32.371Z"
   },
   {
    "duration": 4,
    "start_time": "2022-01-08T12:01:32.487Z"
   },
   {
    "duration": 164,
    "start_time": "2022-01-08T12:01:32.493Z"
   },
   {
    "duration": 80,
    "start_time": "2022-01-08T12:03:26.580Z"
   },
   {
    "duration": 45,
    "start_time": "2022-01-08T12:03:33.062Z"
   },
   {
    "duration": 44,
    "start_time": "2022-01-08T12:03:48.730Z"
   },
   {
    "duration": 303,
    "start_time": "2022-01-08T12:03:57.926Z"
   },
   {
    "duration": 298,
    "start_time": "2022-01-08T12:04:02.808Z"
   },
   {
    "duration": 4,
    "start_time": "2022-01-08T12:04:22.331Z"
   },
   {
    "duration": 3,
    "start_time": "2022-01-08T12:04:22.924Z"
   },
   {
    "duration": 3,
    "start_time": "2022-01-08T12:04:22.962Z"
   },
   {
    "duration": 3,
    "start_time": "2022-01-08T12:04:23.008Z"
   },
   {
    "duration": 4,
    "start_time": "2022-01-08T12:04:23.044Z"
   },
   {
    "duration": 4,
    "start_time": "2022-01-08T12:04:23.084Z"
   },
   {
    "duration": 398,
    "start_time": "2022-01-08T12:04:23.166Z"
   },
   {
    "duration": 24,
    "start_time": "2022-01-08T12:04:23.566Z"
   },
   {
    "duration": 438,
    "start_time": "2022-01-08T12:04:23.594Z"
   },
   {
    "duration": 14,
    "start_time": "2022-01-08T12:04:24.034Z"
   },
   {
    "duration": 205,
    "start_time": "2022-01-08T12:04:24.050Z"
   },
   {
    "duration": 140,
    "start_time": "2022-01-08T12:04:24.257Z"
   },
   {
    "duration": 24,
    "start_time": "2022-01-08T12:04:24.399Z"
   },
   {
    "duration": 253,
    "start_time": "2022-01-08T12:04:24.426Z"
   },
   {
    "duration": 9,
    "start_time": "2022-01-08T12:04:24.682Z"
   },
   {
    "duration": 56,
    "start_time": "2022-01-08T12:04:24.693Z"
   },
   {
    "duration": 502,
    "start_time": "2022-01-08T12:04:24.751Z"
   },
   {
    "duration": 23,
    "start_time": "2022-01-08T12:04:25.255Z"
   },
   {
    "duration": 458,
    "start_time": "2022-01-08T12:04:25.280Z"
   },
   {
    "duration": 15,
    "start_time": "2022-01-08T12:04:25.740Z"
   },
   {
    "duration": 176,
    "start_time": "2022-01-08T12:04:25.757Z"
   },
   {
    "duration": 7,
    "start_time": "2022-01-08T12:04:25.936Z"
   },
   {
    "duration": 8,
    "start_time": "2022-01-08T12:04:25.945Z"
   },
   {
    "duration": 14,
    "start_time": "2022-01-08T12:04:25.955Z"
   },
   {
    "duration": 12,
    "start_time": "2022-01-08T12:04:25.971Z"
   },
   {
    "duration": 15,
    "start_time": "2022-01-08T12:04:25.985Z"
   },
   {
    "duration": 25,
    "start_time": "2022-01-08T12:04:26.002Z"
   },
   {
    "duration": 20,
    "start_time": "2022-01-08T12:04:26.034Z"
   },
   {
    "duration": 8,
    "start_time": "2022-01-08T12:04:26.058Z"
   },
   {
    "duration": 58,
    "start_time": "2022-01-08T12:04:26.068Z"
   },
   {
    "duration": 35,
    "start_time": "2022-01-08T12:04:26.128Z"
   },
   {
    "duration": 11,
    "start_time": "2022-01-08T12:04:26.165Z"
   },
   {
    "duration": 42,
    "start_time": "2022-01-08T12:04:26.178Z"
   },
   {
    "duration": 40,
    "start_time": "2022-01-08T12:04:26.222Z"
   },
   {
    "duration": 527,
    "start_time": "2022-01-08T12:04:26.264Z"
   },
   {
    "duration": 600,
    "start_time": "2022-01-08T12:04:26.793Z"
   },
   {
    "duration": 546,
    "start_time": "2022-01-08T12:04:27.395Z"
   },
   {
    "duration": 485,
    "start_time": "2022-01-08T12:04:27.943Z"
   },
   {
    "duration": 826,
    "start_time": "2022-01-08T12:04:28.430Z"
   },
   {
    "duration": 83,
    "start_time": "2022-01-08T12:04:29.258Z"
   },
   {
    "duration": 1299,
    "start_time": "2022-01-08T12:04:29.343Z"
   },
   {
    "duration": 4,
    "start_time": "2022-01-08T12:04:30.644Z"
   },
   {
    "duration": 116,
    "start_time": "2022-01-08T12:04:30.652Z"
   },
   {
    "duration": 70,
    "start_time": "2022-01-08T12:04:30.770Z"
   },
   {
    "duration": 94,
    "start_time": "2022-01-08T12:04:30.843Z"
   },
   {
    "duration": 4,
    "start_time": "2022-01-08T12:04:30.939Z"
   },
   {
    "duration": 173,
    "start_time": "2022-01-08T12:04:30.946Z"
   },
   {
    "duration": 77,
    "start_time": "2022-01-08T12:04:31.122Z"
   },
   {
    "duration": 98,
    "start_time": "2022-01-08T12:05:21.673Z"
   },
   {
    "duration": 135,
    "start_time": "2022-01-08T12:07:04.306Z"
   },
   {
    "duration": 4,
    "start_time": "2022-01-08T12:08:07.307Z"
   },
   {
    "duration": 4,
    "start_time": "2022-01-08T12:08:07.903Z"
   },
   {
    "duration": 5,
    "start_time": "2022-01-08T12:08:07.939Z"
   },
   {
    "duration": 4,
    "start_time": "2022-01-08T12:08:07.979Z"
   },
   {
    "duration": 4,
    "start_time": "2022-01-08T12:08:08.023Z"
   },
   {
    "duration": 4,
    "start_time": "2022-01-08T12:08:08.059Z"
   },
   {
    "duration": 446,
    "start_time": "2022-01-08T12:08:08.140Z"
   },
   {
    "duration": 47,
    "start_time": "2022-01-08T12:08:08.588Z"
   },
   {
    "duration": 657,
    "start_time": "2022-01-08T12:08:08.639Z"
   },
   {
    "duration": 24,
    "start_time": "2022-01-08T12:08:09.300Z"
   },
   {
    "duration": 253,
    "start_time": "2022-01-08T12:08:09.327Z"
   },
   {
    "duration": 153,
    "start_time": "2022-01-08T12:08:09.584Z"
   },
   {
    "duration": 17,
    "start_time": "2022-01-08T12:08:09.741Z"
   },
   {
    "duration": 404,
    "start_time": "2022-01-08T12:08:09.764Z"
   },
   {
    "duration": 10,
    "start_time": "2022-01-08T12:08:10.173Z"
   },
   {
    "duration": 58,
    "start_time": "2022-01-08T12:08:10.186Z"
   },
   {
    "duration": 637,
    "start_time": "2022-01-08T12:08:10.247Z"
   },
   {
    "duration": 39,
    "start_time": "2022-01-08T12:08:10.887Z"
   },
   {
    "duration": 471,
    "start_time": "2022-01-08T12:08:10.928Z"
   },
   {
    "duration": 24,
    "start_time": "2022-01-08T12:08:11.401Z"
   },
   {
    "duration": 169,
    "start_time": "2022-01-08T12:08:11.428Z"
   },
   {
    "duration": 20,
    "start_time": "2022-01-08T12:08:11.599Z"
   },
   {
    "duration": 14,
    "start_time": "2022-01-08T12:08:11.621Z"
   },
   {
    "duration": 7,
    "start_time": "2022-01-08T12:08:11.638Z"
   },
   {
    "duration": 5,
    "start_time": "2022-01-08T12:08:11.648Z"
   },
   {
    "duration": 9,
    "start_time": "2022-01-08T12:08:11.656Z"
   },
   {
    "duration": 49,
    "start_time": "2022-01-08T12:08:11.668Z"
   },
   {
    "duration": 22,
    "start_time": "2022-01-08T12:08:11.719Z"
   },
   {
    "duration": 10,
    "start_time": "2022-01-08T12:08:11.745Z"
   },
   {
    "duration": 68,
    "start_time": "2022-01-08T12:08:11.759Z"
   },
   {
    "duration": 40,
    "start_time": "2022-01-08T12:08:11.831Z"
   },
   {
    "duration": 12,
    "start_time": "2022-01-08T12:08:11.885Z"
   },
   {
    "duration": 17,
    "start_time": "2022-01-08T12:08:11.916Z"
   },
   {
    "duration": 82,
    "start_time": "2022-01-08T12:08:11.936Z"
   },
   {
    "duration": 668,
    "start_time": "2022-01-08T12:08:12.021Z"
   },
   {
    "duration": 629,
    "start_time": "2022-01-08T12:08:12.691Z"
   },
   {
    "duration": 651,
    "start_time": "2022-01-08T12:08:13.324Z"
   },
   {
    "duration": 602,
    "start_time": "2022-01-08T12:08:13.978Z"
   },
   {
    "duration": 852,
    "start_time": "2022-01-08T12:08:14.583Z"
   },
   {
    "duration": 93,
    "start_time": "2022-01-08T12:08:15.437Z"
   },
   {
    "duration": 947,
    "start_time": "2022-01-08T12:08:15.534Z"
   },
   {
    "duration": 4,
    "start_time": "2022-01-08T12:08:16.484Z"
   },
   {
    "duration": 92,
    "start_time": "2022-01-08T12:08:16.490Z"
   },
   {
    "duration": 5,
    "start_time": "2022-01-08T12:08:16.584Z"
   },
   {
    "duration": 160,
    "start_time": "2022-01-08T12:08:16.591Z"
   },
   {
    "duration": 73,
    "start_time": "2022-01-08T12:08:16.754Z"
   },
   {
    "duration": 3,
    "start_time": "2022-01-08T12:11:34.189Z"
   },
   {
    "duration": 53,
    "start_time": "2022-01-08T12:12:49.984Z"
   },
   {
    "duration": 8,
    "start_time": "2022-01-08T12:34:23.360Z"
   },
   {
    "duration": 7,
    "start_time": "2022-01-08T12:35:36.914Z"
   },
   {
    "duration": 41,
    "start_time": "2022-01-08T12:35:43.027Z"
   },
   {
    "duration": 75,
    "start_time": "2022-01-08T12:35:47.869Z"
   },
   {
    "duration": 92,
    "start_time": "2022-01-08T12:35:58.446Z"
   },
   {
    "duration": 80,
    "start_time": "2022-01-08T12:36:34.074Z"
   },
   {
    "duration": 80,
    "start_time": "2022-01-08T12:36:41.666Z"
   },
   {
    "duration": 80,
    "start_time": "2022-01-08T12:37:09.849Z"
   },
   {
    "duration": 7,
    "start_time": "2022-01-08T12:37:24.082Z"
   },
   {
    "duration": 4,
    "start_time": "2022-01-08T12:42:05.141Z"
   },
   {
    "duration": 14,
    "start_time": "2022-01-08T12:42:12.296Z"
   },
   {
    "duration": 371,
    "start_time": "2022-01-08T12:43:17.922Z"
   },
   {
    "duration": 8,
    "start_time": "2022-01-08T12:43:35.512Z"
   },
   {
    "duration": 889,
    "start_time": "2022-01-08T12:43:40.620Z"
   },
   {
    "duration": 8810,
    "start_time": "2022-01-08T12:43:55.359Z"
   },
   {
    "duration": 9401,
    "start_time": "2022-01-08T12:44:14.780Z"
   },
   {
    "duration": 295624,
    "start_time": "2022-01-08T12:45:01.775Z"
   },
   {
    "duration": 473,
    "start_time": "2022-01-08T12:50:02.759Z"
   },
   {
    "duration": 4,
    "start_time": "2022-01-08T12:54:43.751Z"
   },
   {
    "duration": 10153,
    "start_time": "2022-01-08T12:56:27.610Z"
   },
   {
    "duration": 10948,
    "start_time": "2022-01-08T12:57:14.664Z"
   },
   {
    "duration": 9741,
    "start_time": "2022-01-08T13:00:57.976Z"
   },
   {
    "duration": 11142,
    "start_time": "2022-01-08T13:02:20.661Z"
   },
   {
    "duration": 10258,
    "start_time": "2022-01-08T13:02:45.487Z"
   },
   {
    "duration": 10615,
    "start_time": "2022-01-08T13:03:17.314Z"
   },
   {
    "duration": 10087,
    "start_time": "2022-01-08T13:03:38.968Z"
   },
   {
    "duration": 10938,
    "start_time": "2022-01-08T13:05:08.408Z"
   },
   {
    "duration": 11223,
    "start_time": "2022-01-08T13:07:31.255Z"
   },
   {
    "duration": 5,
    "start_time": "2022-01-08T13:08:18.224Z"
   },
   {
    "duration": 4,
    "start_time": "2022-01-08T13:08:19.505Z"
   },
   {
    "duration": 10282,
    "start_time": "2022-01-08T13:08:23.971Z"
   },
   {
    "duration": 291,
    "start_time": "2022-01-08T13:09:05.299Z"
   },
   {
    "duration": 375,
    "start_time": "2022-01-08T13:10:29.529Z"
   },
   {
    "duration": 197,
    "start_time": "2022-01-08T13:11:03.196Z"
   },
   {
    "duration": 4,
    "start_time": "2022-01-08T13:12:12.790Z"
   },
   {
    "duration": 4,
    "start_time": "2022-01-08T13:12:38.708Z"
   },
   {
    "duration": 4,
    "start_time": "2022-01-08T13:12:40.147Z"
   },
   {
    "duration": 9978,
    "start_time": "2022-01-08T13:12:46.860Z"
   },
   {
    "duration": 7,
    "start_time": "2022-01-08T13:14:15.441Z"
   },
   {
    "duration": 11285,
    "start_time": "2022-01-08T13:14:21.211Z"
   },
   {
    "duration": 6,
    "start_time": "2022-01-08T13:16:32.718Z"
   },
   {
    "duration": 5,
    "start_time": "2022-01-08T13:16:34.057Z"
   },
   {
    "duration": 10397,
    "start_time": "2022-01-08T13:16:49.785Z"
   },
   {
    "duration": 6,
    "start_time": "2022-01-08T13:17:35.424Z"
   },
   {
    "duration": 6,
    "start_time": "2022-01-08T13:17:35.859Z"
   },
   {
    "duration": 9956,
    "start_time": "2022-01-08T13:17:44.223Z"
   },
   {
    "duration": 14711,
    "start_time": "2022-01-08T13:18:21.446Z"
   },
   {
    "duration": 7,
    "start_time": "2022-01-08T13:18:55.526Z"
   },
   {
    "duration": 9,
    "start_time": "2022-01-08T13:19:07.706Z"
   },
   {
    "duration": 315,
    "start_time": "2022-01-08T13:19:39.071Z"
   },
   {
    "duration": 390,
    "start_time": "2022-01-08T13:19:45.885Z"
   },
   {
    "duration": 618,
    "start_time": "2022-01-08T13:21:45.530Z"
   },
   {
    "duration": 355,
    "start_time": "2022-01-08T13:22:00.283Z"
   },
   {
    "duration": 306,
    "start_time": "2022-01-08T13:22:45.471Z"
   },
   {
    "duration": 293,
    "start_time": "2022-01-08T13:22:52.399Z"
   },
   {
    "duration": 4,
    "start_time": "2022-01-08T13:23:08.201Z"
   },
   {
    "duration": 3,
    "start_time": "2022-01-08T13:23:08.799Z"
   },
   {
    "duration": 4,
    "start_time": "2022-01-08T13:23:08.830Z"
   },
   {
    "duration": 4,
    "start_time": "2022-01-08T13:23:08.875Z"
   },
   {
    "duration": 4,
    "start_time": "2022-01-08T13:23:08.910Z"
   },
   {
    "duration": 4,
    "start_time": "2022-01-08T13:23:08.957Z"
   },
   {
    "duration": 391,
    "start_time": "2022-01-08T13:23:09.041Z"
   },
   {
    "duration": 24,
    "start_time": "2022-01-08T13:23:09.436Z"
   },
   {
    "duration": 467,
    "start_time": "2022-01-08T13:23:09.464Z"
   },
   {
    "duration": 14,
    "start_time": "2022-01-08T13:23:09.933Z"
   },
   {
    "duration": 208,
    "start_time": "2022-01-08T13:23:09.949Z"
   },
   {
    "duration": 158,
    "start_time": "2022-01-08T13:23:10.159Z"
   },
   {
    "duration": 14,
    "start_time": "2022-01-08T13:23:10.320Z"
   },
   {
    "duration": 255,
    "start_time": "2022-01-08T13:23:10.338Z"
   },
   {
    "duration": 23,
    "start_time": "2022-01-08T13:23:10.596Z"
   },
   {
    "duration": 38,
    "start_time": "2022-01-08T13:23:10.622Z"
   },
   {
    "duration": 527,
    "start_time": "2022-01-08T13:23:10.662Z"
   },
   {
    "duration": 37,
    "start_time": "2022-01-08T13:23:11.192Z"
   },
   {
    "duration": 631,
    "start_time": "2022-01-08T13:23:11.232Z"
   },
   {
    "duration": 18,
    "start_time": "2022-01-08T13:23:11.866Z"
   },
   {
    "duration": 175,
    "start_time": "2022-01-08T13:23:11.887Z"
   },
   {
    "duration": 9,
    "start_time": "2022-01-08T13:23:12.065Z"
   },
   {
    "duration": 11,
    "start_time": "2022-01-08T13:23:12.076Z"
   },
   {
    "duration": 6,
    "start_time": "2022-01-08T13:23:12.089Z"
   },
   {
    "duration": 5,
    "start_time": "2022-01-08T13:23:12.097Z"
   },
   {
    "duration": 13,
    "start_time": "2022-01-08T13:23:12.104Z"
   },
   {
    "duration": 11,
    "start_time": "2022-01-08T13:23:12.120Z"
   },
   {
    "duration": 19,
    "start_time": "2022-01-08T13:23:12.135Z"
   },
   {
    "duration": 60,
    "start_time": "2022-01-08T13:23:12.157Z"
   },
   {
    "duration": 20,
    "start_time": "2022-01-08T13:23:12.219Z"
   },
   {
    "duration": 87,
    "start_time": "2022-01-08T13:23:12.241Z"
   },
   {
    "duration": 11,
    "start_time": "2022-01-08T13:23:12.331Z"
   },
   {
    "duration": 17,
    "start_time": "2022-01-08T13:23:12.687Z"
   },
   {
    "duration": 55,
    "start_time": "2022-01-08T13:23:12.707Z"
   },
   {
    "duration": 613,
    "start_time": "2022-01-08T13:23:12.766Z"
   },
   {
    "duration": 739,
    "start_time": "2022-01-08T13:23:13.382Z"
   },
   {
    "duration": 782,
    "start_time": "2022-01-08T13:23:14.124Z"
   },
   {
    "duration": 692,
    "start_time": "2022-01-08T13:23:14.908Z"
   },
   {
    "duration": 1268,
    "start_time": "2022-01-08T13:23:15.602Z"
   },
   {
    "duration": 110,
    "start_time": "2022-01-08T13:23:16.875Z"
   },
   {
    "duration": 1287,
    "start_time": "2022-01-08T13:23:16.989Z"
   },
   {
    "duration": 5,
    "start_time": "2022-01-08T13:23:18.279Z"
   },
   {
    "duration": 5,
    "start_time": "2022-01-08T13:23:18.287Z"
   },
   {
    "duration": 126,
    "start_time": "2022-01-08T13:23:18.295Z"
   },
   {
    "duration": 3,
    "start_time": "2022-01-08T13:23:18.424Z"
   },
   {
    "duration": 140,
    "start_time": "2022-01-08T13:23:18.430Z"
   },
   {
    "duration": 77,
    "start_time": "2022-01-08T13:23:18.572Z"
   },
   {
    "duration": 13,
    "start_time": "2022-01-08T13:23:18.652Z"
   },
   {
    "duration": 10236,
    "start_time": "2022-01-08T13:23:18.667Z"
   },
   {
    "duration": 1085,
    "start_time": "2022-01-08T13:23:27.820Z"
   },
   {
    "duration": 1068,
    "start_time": "2022-01-08T13:23:27.838Z"
   },
   {
    "duration": 1064,
    "start_time": "2022-01-08T13:23:27.843Z"
   },
   {
    "duration": 9483,
    "start_time": "2022-01-08T13:23:50.493Z"
   },
   {
    "duration": 291,
    "start_time": "2022-01-08T13:24:04.860Z"
   },
   {
    "duration": 304,
    "start_time": "2022-01-08T13:24:29.785Z"
   },
   {
    "duration": 6,
    "start_time": "2022-01-08T13:24:39.889Z"
   },
   {
    "duration": 9467,
    "start_time": "2022-01-08T13:29:31.938Z"
   },
   {
    "duration": 10363,
    "start_time": "2022-01-08T13:29:55.410Z"
   },
   {
    "duration": 4,
    "start_time": "2022-01-08T13:31:52.698Z"
   },
   {
    "duration": 4,
    "start_time": "2022-01-08T13:31:53.061Z"
   },
   {
    "duration": 10345,
    "start_time": "2022-01-08T13:32:01.982Z"
   },
   {
    "duration": 11533,
    "start_time": "2022-01-08T13:32:17.614Z"
   },
   {
    "duration": 5,
    "start_time": "2022-01-08T13:33:27.650Z"
   },
   {
    "duration": 6,
    "start_time": "2022-01-08T13:33:29.707Z"
   },
   {
    "duration": 7,
    "start_time": "2022-01-08T13:33:30.481Z"
   },
   {
    "duration": 6,
    "start_time": "2022-01-08T13:33:39.135Z"
   },
   {
    "duration": 7,
    "start_time": "2022-01-08T13:33:40.674Z"
   },
   {
    "duration": 6,
    "start_time": "2022-01-08T13:33:40.903Z"
   },
   {
    "duration": 11633,
    "start_time": "2022-01-08T13:33:48.694Z"
   },
   {
    "duration": 318105,
    "start_time": "2022-01-08T13:34:49.197Z"
   },
   {
    "duration": 234,
    "start_time": "2022-01-08T13:40:07.305Z"
   },
   {
    "duration": 1095,
    "start_time": "2022-01-09T09:53:07.526Z"
   },
   {
    "duration": 3,
    "start_time": "2022-01-09T09:53:09.963Z"
   },
   {
    "duration": 2,
    "start_time": "2022-01-09T09:53:10.016Z"
   },
   {
    "duration": 2,
    "start_time": "2022-01-09T09:53:10.053Z"
   },
   {
    "duration": 3,
    "start_time": "2022-01-09T09:53:10.094Z"
   },
   {
    "duration": 2,
    "start_time": "2022-01-09T09:53:10.137Z"
   },
   {
    "duration": 274,
    "start_time": "2022-01-09T09:53:10.216Z"
   },
   {
    "duration": 15,
    "start_time": "2022-01-09T09:53:10.491Z"
   },
   {
    "duration": 256,
    "start_time": "2022-01-09T09:53:10.508Z"
   },
   {
    "duration": 10,
    "start_time": "2022-01-09T09:53:10.765Z"
   },
   {
    "duration": 116,
    "start_time": "2022-01-09T09:53:10.776Z"
   },
   {
    "duration": 100,
    "start_time": "2022-01-09T09:53:10.893Z"
   },
   {
    "duration": 8,
    "start_time": "2022-01-09T09:53:10.994Z"
   },
   {
    "duration": 143,
    "start_time": "2022-01-09T09:53:11.004Z"
   },
   {
    "duration": 6,
    "start_time": "2022-01-09T09:53:11.149Z"
   },
   {
    "duration": 19,
    "start_time": "2022-01-09T09:53:11.156Z"
   },
   {
    "duration": 385,
    "start_time": "2022-01-09T09:53:11.176Z"
   },
   {
    "duration": 15,
    "start_time": "2022-01-09T09:53:11.563Z"
   },
   {
    "duration": 309,
    "start_time": "2022-01-09T09:53:11.580Z"
   },
   {
    "duration": 13,
    "start_time": "2022-01-09T09:53:11.891Z"
   },
   {
    "duration": 92,
    "start_time": "2022-01-09T09:53:11.905Z"
   },
   {
    "duration": 8,
    "start_time": "2022-01-09T09:53:11.999Z"
   },
   {
    "duration": 4,
    "start_time": "2022-01-09T09:53:12.010Z"
   },
   {
    "duration": 6,
    "start_time": "2022-01-09T09:53:12.016Z"
   },
   {
    "duration": 18,
    "start_time": "2022-01-09T09:53:12.023Z"
   },
   {
    "duration": 6,
    "start_time": "2022-01-09T09:53:12.043Z"
   },
   {
    "duration": 11,
    "start_time": "2022-01-09T09:53:12.050Z"
   },
   {
    "duration": 14,
    "start_time": "2022-01-09T09:53:12.134Z"
   },
   {
    "duration": 6,
    "start_time": "2022-01-09T09:53:13.134Z"
   },
   {
    "duration": 16,
    "start_time": "2022-01-09T09:53:13.367Z"
   },
   {
    "duration": 26,
    "start_time": "2022-01-09T09:53:14.592Z"
   },
   {
    "duration": 7,
    "start_time": "2022-01-09T09:53:15.345Z"
   },
   {
    "duration": 10,
    "start_time": "2022-01-09T09:53:15.586Z"
   },
   {
    "duration": 28,
    "start_time": "2022-01-09T09:53:16.099Z"
   },
   {
    "duration": 283,
    "start_time": "2022-01-09T09:53:17.284Z"
   },
   {
    "duration": 278,
    "start_time": "2022-01-09T09:53:18.007Z"
   },
   {
    "duration": 298,
    "start_time": "2022-01-09T09:53:18.736Z"
   },
   {
    "duration": 257,
    "start_time": "2022-01-09T09:53:19.491Z"
   },
   {
    "duration": 521,
    "start_time": "2022-01-09T09:53:20.643Z"
   },
   {
    "duration": 47,
    "start_time": "2022-01-09T09:53:21.347Z"
   },
   {
    "duration": 531,
    "start_time": "2022-01-09T09:53:21.706Z"
   },
   {
    "duration": 4,
    "start_time": "2022-01-09T09:53:22.854Z"
   },
   {
    "duration": 3,
    "start_time": "2022-01-09T09:53:23.158Z"
   },
   {
    "duration": 43,
    "start_time": "2022-01-09T09:53:24.835Z"
   },
   {
    "duration": 3,
    "start_time": "2022-01-09T09:53:25.548Z"
   },
   {
    "duration": 83,
    "start_time": "2022-01-09T09:53:25.877Z"
   },
   {
    "duration": 33,
    "start_time": "2022-01-09T09:53:26.230Z"
   },
   {
    "duration": 11,
    "start_time": "2022-01-09T09:53:27.887Z"
   },
   {
    "duration": 7331,
    "start_time": "2022-01-09T09:53:29.131Z"
   },
   {
    "duration": 201588,
    "start_time": "2022-01-09T09:53:36.463Z"
   },
   {
    "duration": 192,
    "start_time": "2022-01-09T09:56:58.053Z"
   },
   {
    "duration": 3,
    "start_time": "2022-01-09T09:57:24.048Z"
   },
   {
    "duration": 9257,
    "start_time": "2022-01-09T10:00:33.674Z"
   },
   {
    "duration": 69828,
    "start_time": "2022-01-09T10:00:42.933Z"
   },
   {
    "duration": 1348,
    "start_time": "2022-01-09T10:01:51.416Z"
   },
   {
    "duration": 9199,
    "start_time": "2022-01-09T10:02:23.109Z"
   },
   {
    "duration": 4,
    "start_time": "2022-01-09T10:05:12.958Z"
   },
   {
    "duration": 9563,
    "start_time": "2022-01-09T10:05:19.070Z"
   },
   {
    "duration": 253892,
    "start_time": "2022-01-09T10:05:28.634Z"
   },
   {
    "duration": 726,
    "start_time": "2022-01-09T10:09:42.528Z"
   },
   {
    "duration": 11569,
    "start_time": "2022-01-09T10:11:06.032Z"
   },
   {
    "duration": 314894,
    "start_time": "2022-01-09T10:11:27.887Z"
   },
   {
    "duration": 2366,
    "start_time": "2022-01-09T10:16:42.783Z"
   },
   {
    "duration": 3,
    "start_time": "2022-01-09T10:20:25.263Z"
   },
   {
    "duration": 10,
    "start_time": "2022-01-09T10:26:41.272Z"
   },
   {
    "duration": 9676,
    "start_time": "2022-01-09T10:26:42.002Z"
   },
   {
    "duration": 254586,
    "start_time": "2022-01-09T10:26:51.680Z"
   },
   {
    "duration": 1174,
    "start_time": "2022-01-09T10:31:06.268Z"
   },
   {
    "duration": 263,
    "start_time": "2022-01-09T10:31:07.445Z"
   },
   {
    "duration": -47,
    "start_time": "2022-01-09T10:31:07.757Z"
   },
   {
    "duration": 41,
    "start_time": "2022-01-09T10:31:37.950Z"
   },
   {
    "duration": 240,
    "start_time": "2022-01-09T10:31:49.745Z"
   },
   {
    "duration": 5,
    "start_time": "2022-01-09T10:31:54.701Z"
   },
   {
    "duration": 17,
    "start_time": "2022-01-09T10:31:59.907Z"
   },
   {
    "duration": 303,
    "start_time": "2022-01-09T10:34:08.924Z"
   },
   {
    "duration": 13,
    "start_time": "2022-01-09T10:34:35.726Z"
   },
   {
    "duration": 52,
    "start_time": "2022-01-09T10:35:27.989Z"
   },
   {
    "duration": 23,
    "start_time": "2022-01-09T10:36:31.591Z"
   },
   {
    "duration": 51,
    "start_time": "2022-01-09T10:36:44.806Z"
   },
   {
    "duration": 55,
    "start_time": "2022-01-09T10:37:20.375Z"
   },
   {
    "duration": 3,
    "start_time": "2022-01-09T10:37:39.586Z"
   },
   {
    "duration": 3,
    "start_time": "2022-01-09T10:37:40.196Z"
   },
   {
    "duration": 3,
    "start_time": "2022-01-09T10:37:40.230Z"
   },
   {
    "duration": 2,
    "start_time": "2022-01-09T10:37:40.263Z"
   },
   {
    "duration": 2,
    "start_time": "2022-01-09T10:37:40.308Z"
   },
   {
    "duration": 2,
    "start_time": "2022-01-09T10:37:40.347Z"
   },
   {
    "duration": 314,
    "start_time": "2022-01-09T10:37:40.433Z"
   },
   {
    "duration": 14,
    "start_time": "2022-01-09T10:37:40.748Z"
   },
   {
    "duration": 243,
    "start_time": "2022-01-09T10:37:40.763Z"
   },
   {
    "duration": 9,
    "start_time": "2022-01-09T10:37:41.008Z"
   },
   {
    "duration": 114,
    "start_time": "2022-01-09T10:37:41.018Z"
   },
   {
    "duration": 101,
    "start_time": "2022-01-09T10:37:41.141Z"
   },
   {
    "duration": 9,
    "start_time": "2022-01-09T10:37:41.243Z"
   },
   {
    "duration": 135,
    "start_time": "2022-01-09T10:37:41.254Z"
   },
   {
    "duration": 6,
    "start_time": "2022-01-09T10:37:41.391Z"
   },
   {
    "duration": 19,
    "start_time": "2022-01-09T10:37:41.399Z"
   },
   {
    "duration": 375,
    "start_time": "2022-01-09T10:37:41.420Z"
   },
   {
    "duration": 15,
    "start_time": "2022-01-09T10:37:41.796Z"
   },
   {
    "duration": 261,
    "start_time": "2022-01-09T10:37:41.812Z"
   },
   {
    "duration": 10,
    "start_time": "2022-01-09T10:37:42.074Z"
   },
   {
    "duration": 85,
    "start_time": "2022-01-09T10:37:42.085Z"
   },
   {
    "duration": 5,
    "start_time": "2022-01-09T10:37:42.172Z"
   },
   {
    "duration": 4,
    "start_time": "2022-01-09T10:37:42.179Z"
   },
   {
    "duration": 5,
    "start_time": "2022-01-09T10:37:42.185Z"
   },
   {
    "duration": 2,
    "start_time": "2022-01-09T10:37:42.231Z"
   },
   {
    "duration": 6,
    "start_time": "2022-01-09T10:37:42.379Z"
   },
   {
    "duration": 6,
    "start_time": "2022-01-09T10:37:42.411Z"
   },
   {
    "duration": 13,
    "start_time": "2022-01-09T10:37:42.482Z"
   },
   {
    "duration": 7,
    "start_time": "2022-01-09T10:37:43.273Z"
   },
   {
    "duration": 15,
    "start_time": "2022-01-09T10:37:43.788Z"
   },
   {
    "duration": 25,
    "start_time": "2022-01-09T10:37:43.874Z"
   },
   {
    "duration": 8,
    "start_time": "2022-01-09T10:37:43.991Z"
   },
   {
    "duration": 9,
    "start_time": "2022-01-09T10:37:44.026Z"
   },
   {
    "duration": 30,
    "start_time": "2022-01-09T10:37:44.106Z"
   },
   {
    "duration": 287,
    "start_time": "2022-01-09T10:37:45.054Z"
   },
   {
    "duration": 288,
    "start_time": "2022-01-09T10:37:45.342Z"
   },
   {
    "duration": 314,
    "start_time": "2022-01-09T10:37:45.632Z"
   },
   {
    "duration": 353,
    "start_time": "2022-01-09T10:37:45.948Z"
   },
   {
    "duration": 469,
    "start_time": "2022-01-09T10:37:46.303Z"
   },
   {
    "duration": 42,
    "start_time": "2022-01-09T10:37:46.774Z"
   },
   {
    "duration": 532,
    "start_time": "2022-01-09T10:37:46.817Z"
   },
   {
    "duration": 3,
    "start_time": "2022-01-09T10:37:47.351Z"
   },
   {
    "duration": 3,
    "start_time": "2022-01-09T10:37:47.452Z"
   },
   {
    "duration": 57,
    "start_time": "2022-01-09T10:37:49.614Z"
   },
   {
    "duration": 4,
    "start_time": "2022-01-09T10:38:06.886Z"
   },
   {
    "duration": 94,
    "start_time": "2022-01-09T10:38:07.426Z"
   },
   {
    "duration": 33,
    "start_time": "2022-01-09T10:38:08.229Z"
   },
   {
    "duration": 33,
    "start_time": "2022-01-09T10:38:45.786Z"
   },
   {
    "duration": 32,
    "start_time": "2022-01-09T10:38:52.532Z"
   },
   {
    "duration": 41,
    "start_time": "2022-01-09T10:39:34.503Z"
   },
   {
    "duration": 1911,
    "start_time": "2022-01-09T10:39:49.112Z"
   },
   {
    "duration": 4,
    "start_time": "2022-01-09T10:39:59.414Z"
   },
   {
    "duration": 3,
    "start_time": "2022-01-09T10:40:00.025Z"
   },
   {
    "duration": 3,
    "start_time": "2022-01-09T10:40:00.062Z"
   },
   {
    "duration": 3,
    "start_time": "2022-01-09T10:40:00.103Z"
   },
   {
    "duration": 2,
    "start_time": "2022-01-09T10:40:00.137Z"
   },
   {
    "duration": 3,
    "start_time": "2022-01-09T10:40:00.167Z"
   },
   {
    "duration": 334,
    "start_time": "2022-01-09T10:40:00.281Z"
   },
   {
    "duration": 25,
    "start_time": "2022-01-09T10:40:00.617Z"
   },
   {
    "duration": 278,
    "start_time": "2022-01-09T10:40:00.644Z"
   },
   {
    "duration": 23,
    "start_time": "2022-01-09T10:40:00.924Z"
   },
   {
    "duration": 115,
    "start_time": "2022-01-09T10:40:00.949Z"
   },
   {
    "duration": 112,
    "start_time": "2022-01-09T10:40:01.066Z"
   },
   {
    "duration": 10,
    "start_time": "2022-01-09T10:40:01.179Z"
   },
   {
    "duration": 159,
    "start_time": "2022-01-09T10:40:01.191Z"
   },
   {
    "duration": 8,
    "start_time": "2022-01-09T10:40:01.352Z"
   },
   {
    "duration": 29,
    "start_time": "2022-01-09T10:40:01.362Z"
   },
   {
    "duration": 393,
    "start_time": "2022-01-09T10:40:01.393Z"
   },
   {
    "duration": 18,
    "start_time": "2022-01-09T10:40:01.788Z"
   },
   {
    "duration": 306,
    "start_time": "2022-01-09T10:40:01.808Z"
   },
   {
    "duration": 26,
    "start_time": "2022-01-09T10:40:02.116Z"
   },
   {
    "duration": 82,
    "start_time": "2022-01-09T10:40:02.144Z"
   },
   {
    "duration": 6,
    "start_time": "2022-01-09T10:40:02.241Z"
   },
   {
    "duration": 15,
    "start_time": "2022-01-09T10:40:02.249Z"
   },
   {
    "duration": 28,
    "start_time": "2022-01-09T10:40:02.266Z"
   },
   {
    "duration": 22,
    "start_time": "2022-01-09T10:40:02.297Z"
   },
   {
    "duration": 18,
    "start_time": "2022-01-09T10:40:02.321Z"
   },
   {
    "duration": 16,
    "start_time": "2022-01-09T10:40:02.341Z"
   },
   {
    "duration": 21,
    "start_time": "2022-01-09T10:40:02.359Z"
   },
   {
    "duration": 8,
    "start_time": "2022-01-09T10:40:02.594Z"
   },
   {
    "duration": 18,
    "start_time": "2022-01-09T10:40:02.632Z"
   },
   {
    "duration": 24,
    "start_time": "2022-01-09T10:40:02.721Z"
   },
   {
    "duration": 8,
    "start_time": "2022-01-09T10:40:02.843Z"
   },
   {
    "duration": 11,
    "start_time": "2022-01-09T10:40:02.882Z"
   },
   {
    "duration": 31,
    "start_time": "2022-01-09T10:40:02.962Z"
   },
   {
    "duration": 304,
    "start_time": "2022-01-09T10:40:03.172Z"
   },
   {
    "duration": 315,
    "start_time": "2022-01-09T10:40:03.478Z"
   },
   {
    "duration": 327,
    "start_time": "2022-01-09T10:40:03.796Z"
   },
   {
    "duration": 401,
    "start_time": "2022-01-09T10:40:04.125Z"
   },
   {
    "duration": 484,
    "start_time": "2022-01-09T10:40:04.527Z"
   },
   {
    "duration": 57,
    "start_time": "2022-01-09T10:40:05.013Z"
   },
   {
    "duration": 594,
    "start_time": "2022-01-09T10:40:05.072Z"
   },
   {
    "duration": 3,
    "start_time": "2022-01-09T10:40:05.673Z"
   },
   {
    "duration": 3,
    "start_time": "2022-01-09T10:40:06.045Z"
   },
   {
    "duration": 55,
    "start_time": "2022-01-09T10:40:07.401Z"
   },
   {
    "duration": 4,
    "start_time": "2022-01-09T10:40:08.375Z"
   },
   {
    "duration": 87,
    "start_time": "2022-01-09T10:40:08.858Z"
   },
   {
    "duration": 42,
    "start_time": "2022-01-09T10:40:21.963Z"
   },
   {
    "duration": 232,
    "start_time": "2022-01-09T10:41:05.841Z"
   },
   {
    "duration": 58,
    "start_time": "2022-01-09T10:41:43.505Z"
   },
   {
    "duration": 245,
    "start_time": "2022-01-09T10:41:45.253Z"
   },
   {
    "duration": 243,
    "start_time": "2022-01-09T10:41:45.686Z"
   },
   {
    "duration": 3,
    "start_time": "2022-01-09T10:41:52.195Z"
   },
   {
    "duration": 3,
    "start_time": "2022-01-09T10:41:52.791Z"
   },
   {
    "duration": 2,
    "start_time": "2022-01-09T10:41:52.824Z"
   },
   {
    "duration": 6,
    "start_time": "2022-01-09T10:41:52.863Z"
   },
   {
    "duration": 2,
    "start_time": "2022-01-09T10:41:52.903Z"
   },
   {
    "duration": 2,
    "start_time": "2022-01-09T10:41:52.937Z"
   },
   {
    "duration": 283,
    "start_time": "2022-01-09T10:41:53.020Z"
   },
   {
    "duration": 13,
    "start_time": "2022-01-09T10:41:53.305Z"
   },
   {
    "duration": 256,
    "start_time": "2022-01-09T10:41:53.320Z"
   },
   {
    "duration": 9,
    "start_time": "2022-01-09T10:41:53.578Z"
   },
   {
    "duration": 116,
    "start_time": "2022-01-09T10:41:53.589Z"
   },
   {
    "duration": 101,
    "start_time": "2022-01-09T10:41:53.707Z"
   },
   {
    "duration": 10,
    "start_time": "2022-01-09T10:41:53.809Z"
   },
   {
    "duration": 149,
    "start_time": "2022-01-09T10:41:53.821Z"
   },
   {
    "duration": 6,
    "start_time": "2022-01-09T10:41:53.972Z"
   },
   {
    "duration": 38,
    "start_time": "2022-01-09T10:41:53.980Z"
   },
   {
    "duration": 370,
    "start_time": "2022-01-09T10:41:54.019Z"
   },
   {
    "duration": 14,
    "start_time": "2022-01-09T10:41:54.390Z"
   },
   {
    "duration": 282,
    "start_time": "2022-01-09T10:41:54.406Z"
   },
   {
    "duration": 10,
    "start_time": "2022-01-09T10:41:54.689Z"
   },
   {
    "duration": 85,
    "start_time": "2022-01-09T10:41:54.701Z"
   },
   {
    "duration": 5,
    "start_time": "2022-01-09T10:41:54.788Z"
   },
   {
    "duration": 6,
    "start_time": "2022-01-09T10:41:54.796Z"
   },
   {
    "duration": 7,
    "start_time": "2022-01-09T10:41:54.804Z"
   },
   {
    "duration": 4,
    "start_time": "2022-01-09T10:41:54.812Z"
   },
   {
    "duration": 24,
    "start_time": "2022-01-09T10:41:54.817Z"
   },
   {
    "duration": 6,
    "start_time": "2022-01-09T10:41:54.842Z"
   },
   {
    "duration": 12,
    "start_time": "2022-01-09T10:41:54.849Z"
   },
   {
    "duration": 6,
    "start_time": "2022-01-09T10:41:54.863Z"
   },
   {
    "duration": 18,
    "start_time": "2022-01-09T10:41:54.870Z"
   },
   {
    "duration": 22,
    "start_time": "2022-01-09T10:41:54.890Z"
   },
   {
    "duration": 33,
    "start_time": "2022-01-09T10:41:54.914Z"
   },
   {
    "duration": 13,
    "start_time": "2022-01-09T10:41:54.949Z"
   },
   {
    "duration": 25,
    "start_time": "2022-01-09T10:41:54.963Z"
   },
   {
    "duration": 272,
    "start_time": "2022-01-09T10:41:55.162Z"
   },
   {
    "duration": 290,
    "start_time": "2022-01-09T10:41:55.441Z"
   },
   {
    "duration": 306,
    "start_time": "2022-01-09T10:41:55.741Z"
   },
   {
    "duration": 396,
    "start_time": "2022-01-09T10:41:56.049Z"
   },
   {
    "duration": 471,
    "start_time": "2022-01-09T10:41:56.446Z"
   },
   {
    "duration": 53,
    "start_time": "2022-01-09T10:41:56.918Z"
   },
   {
    "duration": 460,
    "start_time": "2022-01-09T10:41:56.980Z"
   },
   {
    "duration": 3,
    "start_time": "2022-01-09T10:41:58.073Z"
   },
   {
    "duration": 3,
    "start_time": "2022-01-09T10:41:58.412Z"
   },
   {
    "duration": 56,
    "start_time": "2022-01-09T10:41:59.938Z"
   },
   {
    "duration": 3,
    "start_time": "2022-01-09T10:42:01.069Z"
   },
   {
    "duration": 87,
    "start_time": "2022-01-09T10:42:01.857Z"
   },
   {
    "duration": 3,
    "start_time": "2022-01-09T10:42:23.747Z"
   },
   {
    "duration": 3,
    "start_time": "2022-01-09T10:42:24.364Z"
   },
   {
    "duration": 3,
    "start_time": "2022-01-09T10:42:24.411Z"
   },
   {
    "duration": 2,
    "start_time": "2022-01-09T10:42:24.458Z"
   },
   {
    "duration": 2,
    "start_time": "2022-01-09T10:42:24.505Z"
   },
   {
    "duration": 2,
    "start_time": "2022-01-09T10:42:24.534Z"
   },
   {
    "duration": 282,
    "start_time": "2022-01-09T10:42:24.589Z"
   },
   {
    "duration": 13,
    "start_time": "2022-01-09T10:42:24.873Z"
   },
   {
    "duration": 250,
    "start_time": "2022-01-09T10:42:24.888Z"
   },
   {
    "duration": 9,
    "start_time": "2022-01-09T10:42:25.141Z"
   },
   {
    "duration": 117,
    "start_time": "2022-01-09T10:42:25.152Z"
   },
   {
    "duration": 100,
    "start_time": "2022-01-09T10:42:25.270Z"
   },
   {
    "duration": 10,
    "start_time": "2022-01-09T10:42:25.372Z"
   },
   {
    "duration": 158,
    "start_time": "2022-01-09T10:42:25.384Z"
   },
   {
    "duration": 7,
    "start_time": "2022-01-09T10:42:25.544Z"
   },
   {
    "duration": 21,
    "start_time": "2022-01-09T10:42:25.553Z"
   },
   {
    "duration": 369,
    "start_time": "2022-01-09T10:42:25.576Z"
   },
   {
    "duration": 15,
    "start_time": "2022-01-09T10:42:25.947Z"
   },
   {
    "duration": 255,
    "start_time": "2022-01-09T10:42:25.963Z"
   },
   {
    "duration": 22,
    "start_time": "2022-01-09T10:42:26.220Z"
   },
   {
    "duration": 69,
    "start_time": "2022-01-09T10:42:26.243Z"
   },
   {
    "duration": 5,
    "start_time": "2022-01-09T10:42:26.314Z"
   },
   {
    "duration": 19,
    "start_time": "2022-01-09T10:42:26.321Z"
   },
   {
    "duration": 5,
    "start_time": "2022-01-09T10:42:26.342Z"
   },
   {
    "duration": 5,
    "start_time": "2022-01-09T10:42:26.348Z"
   },
   {
    "duration": 9,
    "start_time": "2022-01-09T10:42:26.354Z"
   },
   {
    "duration": 9,
    "start_time": "2022-01-09T10:42:26.365Z"
   },
   {
    "duration": 12,
    "start_time": "2022-01-09T10:42:26.375Z"
   },
   {
    "duration": 6,
    "start_time": "2022-01-09T10:42:26.388Z"
   },
   {
    "duration": 20,
    "start_time": "2022-01-09T10:42:26.395Z"
   },
   {
    "duration": 38,
    "start_time": "2022-01-09T10:42:26.416Z"
   },
   {
    "duration": 7,
    "start_time": "2022-01-09T10:42:26.456Z"
   },
   {
    "duration": 16,
    "start_time": "2022-01-09T10:42:26.464Z"
   },
   {
    "duration": 27,
    "start_time": "2022-01-09T10:42:26.521Z"
   },
   {
    "duration": 263,
    "start_time": "2022-01-09T10:42:26.716Z"
   },
   {
    "duration": 287,
    "start_time": "2022-01-09T10:42:26.980Z"
   },
   {
    "duration": 298,
    "start_time": "2022-01-09T10:42:27.269Z"
   },
   {
    "duration": 278,
    "start_time": "2022-01-09T10:42:27.569Z"
   },
   {
    "duration": 624,
    "start_time": "2022-01-09T10:42:27.849Z"
   },
   {
    "duration": 43,
    "start_time": "2022-01-09T10:42:28.475Z"
   },
   {
    "duration": 485,
    "start_time": "2022-01-09T10:42:28.520Z"
   },
   {
    "duration": 3,
    "start_time": "2022-01-09T10:42:29.007Z"
   },
   {
    "duration": 6,
    "start_time": "2022-01-09T10:42:29.012Z"
   },
   {
    "duration": 56,
    "start_time": "2022-01-09T10:42:29.216Z"
   },
   {
    "duration": 3,
    "start_time": "2022-01-09T10:42:30.357Z"
   },
   {
    "duration": 101,
    "start_time": "2022-01-09T10:42:30.743Z"
   },
   {
    "duration": 48,
    "start_time": "2022-01-09T10:44:08.057Z"
   },
   {
    "duration": 290,
    "start_time": "2022-01-09T10:44:09.323Z"
   },
   {
    "duration": 266,
    "start_time": "2022-01-09T10:44:09.837Z"
   },
   {
    "duration": 3,
    "start_time": "2022-01-09T10:44:21.086Z"
   },
   {
    "duration": 3,
    "start_time": "2022-01-09T10:44:21.701Z"
   },
   {
    "duration": 3,
    "start_time": "2022-01-09T10:44:21.734Z"
   },
   {
    "duration": 2,
    "start_time": "2022-01-09T10:44:21.767Z"
   },
   {
    "duration": 3,
    "start_time": "2022-01-09T10:44:21.812Z"
   },
   {
    "duration": 3,
    "start_time": "2022-01-09T10:44:21.851Z"
   },
   {
    "duration": 291,
    "start_time": "2022-01-09T10:44:21.939Z"
   },
   {
    "duration": 19,
    "start_time": "2022-01-09T10:44:22.231Z"
   },
   {
    "duration": 260,
    "start_time": "2022-01-09T10:44:22.252Z"
   },
   {
    "duration": 9,
    "start_time": "2022-01-09T10:44:22.513Z"
   },
   {
    "duration": 108,
    "start_time": "2022-01-09T10:44:22.523Z"
   },
   {
    "duration": 94,
    "start_time": "2022-01-09T10:44:22.633Z"
   },
   {
    "duration": 18,
    "start_time": "2022-01-09T10:44:22.728Z"
   },
   {
    "duration": 137,
    "start_time": "2022-01-09T10:44:22.748Z"
   },
   {
    "duration": 7,
    "start_time": "2022-01-09T10:44:22.887Z"
   },
   {
    "duration": 24,
    "start_time": "2022-01-09T10:44:22.896Z"
   },
   {
    "duration": 374,
    "start_time": "2022-01-09T10:44:22.922Z"
   },
   {
    "duration": 14,
    "start_time": "2022-01-09T10:44:23.297Z"
   },
   {
    "duration": 274,
    "start_time": "2022-01-09T10:44:23.313Z"
   },
   {
    "duration": 9,
    "start_time": "2022-01-09T10:44:23.589Z"
   },
   {
    "duration": 79,
    "start_time": "2022-01-09T10:44:23.600Z"
   },
   {
    "duration": 7,
    "start_time": "2022-01-09T10:44:23.681Z"
   },
   {
    "duration": 4,
    "start_time": "2022-01-09T10:44:23.691Z"
   },
   {
    "duration": 5,
    "start_time": "2022-01-09T10:44:23.697Z"
   },
   {
    "duration": 4,
    "start_time": "2022-01-09T10:44:23.704Z"
   },
   {
    "duration": 34,
    "start_time": "2022-01-09T10:44:23.710Z"
   },
   {
    "duration": 8,
    "start_time": "2022-01-09T10:44:23.746Z"
   },
   {
    "duration": 14,
    "start_time": "2022-01-09T10:44:23.755Z"
   },
   {
    "duration": 7,
    "start_time": "2022-01-09T10:44:23.771Z"
   },
   {
    "duration": 18,
    "start_time": "2022-01-09T10:44:23.780Z"
   },
   {
    "duration": 55,
    "start_time": "2022-01-09T10:44:23.799Z"
   },
   {
    "duration": 8,
    "start_time": "2022-01-09T10:44:23.856Z"
   },
   {
    "duration": 18,
    "start_time": "2022-01-09T10:44:23.865Z"
   },
   {
    "duration": 27,
    "start_time": "2022-01-09T10:44:23.885Z"
   },
   {
    "duration": 279,
    "start_time": "2022-01-09T10:44:24.062Z"
   },
   {
    "duration": 320,
    "start_time": "2022-01-09T10:44:24.343Z"
   },
   {
    "duration": 325,
    "start_time": "2022-01-09T10:44:24.665Z"
   },
   {
    "duration": 297,
    "start_time": "2022-01-09T10:44:24.992Z"
   },
   {
    "duration": 505,
    "start_time": "2022-01-09T10:44:25.290Z"
   },
   {
    "duration": 58,
    "start_time": "2022-01-09T10:44:25.797Z"
   },
   {
    "duration": 477,
    "start_time": "2022-01-09T10:44:25.856Z"
   },
   {
    "duration": 7,
    "start_time": "2022-01-09T10:44:26.335Z"
   },
   {
    "duration": 6,
    "start_time": "2022-01-09T10:44:26.344Z"
   },
   {
    "duration": 51,
    "start_time": "2022-01-09T10:44:26.351Z"
   },
   {
    "duration": 3,
    "start_time": "2022-01-09T10:44:26.403Z"
   },
   {
    "duration": 99,
    "start_time": "2022-01-09T10:44:26.407Z"
   },
   {
    "duration": 10,
    "start_time": "2022-01-09T10:44:26.507Z"
   },
   {
    "duration": 9226,
    "start_time": "2022-01-09T10:44:26.518Z"
   },
   {
    "duration": 256814,
    "start_time": "2022-01-09T10:44:35.746Z"
   },
   {
    "duration": 881,
    "start_time": "2022-01-09T10:48:52.561Z"
   },
   {
    "duration": 96,
    "start_time": "2022-01-09T10:48:53.446Z"
   },
   {
    "duration": 24,
    "start_time": "2022-01-09T10:48:53.544Z"
   },
   {
    "duration": 18,
    "start_time": "2022-01-09T10:48:53.570Z"
   },
   {
    "duration": 42,
    "start_time": "2022-01-09T10:49:13.588Z"
   },
   {
    "duration": 5,
    "start_time": "2022-01-09T10:49:28.656Z"
   },
   {
    "duration": 19,
    "start_time": "2022-01-09T10:49:31.297Z"
   },
   {
    "duration": 1533,
    "start_time": "2022-01-10T16:18:32.174Z"
   },
   {
    "duration": 4,
    "start_time": "2022-01-10T16:18:34.715Z"
   },
   {
    "duration": 3,
    "start_time": "2022-01-10T16:18:34.941Z"
   },
   {
    "duration": 3,
    "start_time": "2022-01-10T16:18:35.154Z"
   },
   {
    "duration": 3,
    "start_time": "2022-01-10T16:18:35.356Z"
   },
   {
    "duration": 4,
    "start_time": "2022-01-10T16:18:35.546Z"
   },
   {
    "duration": 395,
    "start_time": "2022-01-10T16:18:36.027Z"
   },
   {
    "duration": 38,
    "start_time": "2022-01-10T16:18:36.425Z"
   },
   {
    "duration": 449,
    "start_time": "2022-01-10T16:18:36.506Z"
   },
   {
    "duration": 18,
    "start_time": "2022-01-10T16:18:36.962Z"
   },
   {
    "duration": 181,
    "start_time": "2022-01-10T16:18:37.018Z"
   },
   {
    "duration": 156,
    "start_time": "2022-01-10T16:18:37.985Z"
   },
   {
    "duration": 18,
    "start_time": "2022-01-10T16:18:38.432Z"
   },
   {
    "duration": 240,
    "start_time": "2022-01-10T16:18:38.780Z"
   },
   {
    "duration": 10,
    "start_time": "2022-01-10T16:18:39.073Z"
   },
   {
    "duration": 38,
    "start_time": "2022-01-10T16:18:39.319Z"
   },
   {
    "duration": 522,
    "start_time": "2022-01-10T16:18:40.296Z"
   },
   {
    "duration": 25,
    "start_time": "2022-01-10T16:18:40.820Z"
   },
   {
    "duration": 443,
    "start_time": "2022-01-10T16:18:40.968Z"
   },
   {
    "duration": 15,
    "start_time": "2022-01-10T16:18:41.414Z"
   },
   {
    "duration": 153,
    "start_time": "2022-01-10T16:18:42.148Z"
   },
   {
    "duration": 14,
    "start_time": "2022-01-10T16:18:44.369Z"
   },
   {
    "duration": 6,
    "start_time": "2022-01-10T16:18:44.621Z"
   },
   {
    "duration": 4,
    "start_time": "2022-01-10T16:18:45.784Z"
   },
   {
    "duration": 4,
    "start_time": "2022-01-10T16:18:50.863Z"
   },
   {
    "duration": 8,
    "start_time": "2022-01-10T16:23:02.913Z"
   },
   {
    "duration": 13,
    "start_time": "2022-01-10T16:23:03.465Z"
   },
   {
    "duration": 456,
    "start_time": "2022-01-10T16:24:20.348Z"
   },
   {
    "duration": 290,
    "start_time": "2022-01-10T16:24:27.567Z"
   },
   {
    "duration": 463,
    "start_time": "2022-01-10T16:24:33.286Z"
   },
   {
    "duration": 9,
    "start_time": "2022-01-10T16:26:18.178Z"
   },
   {
    "duration": 9,
    "start_time": "2022-01-10T16:26:28.585Z"
   },
   {
    "duration": 535,
    "start_time": "2022-01-10T16:29:06.704Z"
   },
   {
    "duration": 9,
    "start_time": "2022-01-10T16:29:16.558Z"
   },
   {
    "duration": 297,
    "start_time": "2022-01-10T16:35:16.825Z"
   },
   {
    "duration": 162,
    "start_time": "2022-01-10T16:35:20.839Z"
   },
   {
    "duration": 95,
    "start_time": "2022-01-10T16:36:22.752Z"
   },
   {
    "duration": 172,
    "start_time": "2022-01-10T16:36:30.353Z"
   },
   {
    "duration": 12,
    "start_time": "2022-01-10T16:36:46.698Z"
   },
   {
    "duration": 844,
    "start_time": "2022-01-10T16:38:58.814Z"
   },
   {
    "duration": 6,
    "start_time": "2022-01-10T16:39:14.588Z"
   },
   {
    "duration": 4,
    "start_time": "2022-01-10T16:39:15.504Z"
   },
   {
    "duration": 4,
    "start_time": "2022-01-10T16:39:15.705Z"
   },
   {
    "duration": 4,
    "start_time": "2022-01-10T16:39:15.913Z"
   },
   {
    "duration": 5,
    "start_time": "2022-01-10T16:39:16.114Z"
   },
   {
    "duration": 3,
    "start_time": "2022-01-10T16:39:16.298Z"
   },
   {
    "duration": 419,
    "start_time": "2022-01-10T16:39:16.719Z"
   },
   {
    "duration": 36,
    "start_time": "2022-01-10T16:39:17.140Z"
   },
   {
    "duration": 438,
    "start_time": "2022-01-10T16:39:17.179Z"
   },
   {
    "duration": 14,
    "start_time": "2022-01-10T16:39:17.620Z"
   },
   {
    "duration": 201,
    "start_time": "2022-01-10T16:39:17.636Z"
   },
   {
    "duration": 150,
    "start_time": "2022-01-10T16:39:18.146Z"
   },
   {
    "duration": 17,
    "start_time": "2022-01-10T16:39:18.350Z"
   },
   {
    "duration": 251,
    "start_time": "2022-01-10T16:39:18.573Z"
   },
   {
    "duration": 10,
    "start_time": "2022-01-10T16:39:18.826Z"
   },
   {
    "duration": 39,
    "start_time": "2022-01-10T16:39:19.022Z"
   },
   {
    "duration": 527,
    "start_time": "2022-01-10T16:39:19.710Z"
   },
   {
    "duration": 44,
    "start_time": "2022-01-10T16:39:20.239Z"
   },
   {
    "duration": 502,
    "start_time": "2022-01-10T16:39:20.285Z"
   },
   {
    "duration": 14,
    "start_time": "2022-01-10T16:39:20.790Z"
   },
   {
    "duration": 171,
    "start_time": "2022-01-10T16:39:20.807Z"
   },
   {
    "duration": 10,
    "start_time": "2022-01-10T16:39:21.622Z"
   },
   {
    "duration": 6,
    "start_time": "2022-01-10T16:39:21.837Z"
   },
   {
    "duration": 5,
    "start_time": "2022-01-10T16:39:22.736Z"
   },
   {
    "duration": 3,
    "start_time": "2022-01-10T16:39:23.661Z"
   },
   {
    "duration": 7,
    "start_time": "2022-01-10T16:39:24.414Z"
   },
   {
    "duration": 11,
    "start_time": "2022-01-10T16:39:24.717Z"
   },
   {
    "duration": 150,
    "start_time": "2022-01-10T16:39:25.382Z"
   },
   {
    "duration": 12,
    "start_time": "2022-01-10T16:39:25.672Z"
   },
   {
    "duration": 10,
    "start_time": "2022-01-10T16:39:26.549Z"
   },
   {
    "duration": 21,
    "start_time": "2022-01-10T16:39:26.824Z"
   },
   {
    "duration": 637,
    "start_time": "2022-01-10T16:39:27.373Z"
   },
   {
    "duration": 11,
    "start_time": "2022-01-10T16:39:28.725Z"
   },
   {
    "duration": 15,
    "start_time": "2022-01-10T16:39:28.980Z"
   },
   {
    "duration": 845,
    "start_time": "2022-01-10T16:39:29.718Z"
   },
   {
    "duration": 6,
    "start_time": "2022-01-10T16:42:52.677Z"
   },
   {
    "duration": 16,
    "start_time": "2022-01-10T16:42:53.146Z"
   },
   {
    "duration": 844,
    "start_time": "2022-01-10T16:42:54.101Z"
   },
   {
    "duration": 5,
    "start_time": "2022-01-10T16:43:07.485Z"
   },
   {
    "duration": 5,
    "start_time": "2022-01-10T16:43:08.116Z"
   },
   {
    "duration": 3,
    "start_time": "2022-01-10T16:43:08.166Z"
   },
   {
    "duration": 4,
    "start_time": "2022-01-10T16:43:08.186Z"
   },
   {
    "duration": 3,
    "start_time": "2022-01-10T16:43:08.227Z"
   },
   {
    "duration": 4,
    "start_time": "2022-01-10T16:43:08.276Z"
   },
   {
    "duration": 455,
    "start_time": "2022-01-10T16:43:08.364Z"
   },
   {
    "duration": 24,
    "start_time": "2022-01-10T16:43:08.822Z"
   },
   {
    "duration": 456,
    "start_time": "2022-01-10T16:43:08.864Z"
   },
   {
    "duration": 14,
    "start_time": "2022-01-10T16:43:09.323Z"
   },
   {
    "duration": 205,
    "start_time": "2022-01-10T16:43:09.340Z"
   },
   {
    "duration": 151,
    "start_time": "2022-01-10T16:43:09.548Z"
   },
   {
    "duration": 15,
    "start_time": "2022-01-10T16:43:09.701Z"
   },
   {
    "duration": 266,
    "start_time": "2022-01-10T16:43:09.721Z"
   },
   {
    "duration": 10,
    "start_time": "2022-01-10T16:43:09.990Z"
   },
   {
    "duration": 62,
    "start_time": "2022-01-10T16:43:10.002Z"
   },
   {
    "duration": 517,
    "start_time": "2022-01-10T16:43:10.066Z"
   },
   {
    "duration": 26,
    "start_time": "2022-01-10T16:43:10.585Z"
   },
   {
    "duration": 463,
    "start_time": "2022-01-10T16:43:10.614Z"
   },
   {
    "duration": 15,
    "start_time": "2022-01-10T16:43:11.080Z"
   },
   {
    "duration": 173,
    "start_time": "2022-01-10T16:43:11.098Z"
   },
   {
    "duration": 6,
    "start_time": "2022-01-10T16:43:11.274Z"
   },
   {
    "duration": 9,
    "start_time": "2022-01-10T16:43:11.283Z"
   },
   {
    "duration": 5,
    "start_time": "2022-01-10T16:43:11.294Z"
   },
   {
    "duration": 8,
    "start_time": "2022-01-10T16:43:11.301Z"
   },
   {
    "duration": 8,
    "start_time": "2022-01-10T16:43:11.312Z"
   },
   {
    "duration": 49,
    "start_time": "2022-01-10T16:43:11.322Z"
   },
   {
    "duration": 167,
    "start_time": "2022-01-10T16:43:11.375Z"
   },
   {
    "duration": 20,
    "start_time": "2022-01-10T16:43:11.545Z"
   },
   {
    "duration": 10,
    "start_time": "2022-01-10T16:43:11.686Z"
   },
   {
    "duration": 17,
    "start_time": "2022-01-10T16:43:11.903Z"
   },
   {
    "duration": 589,
    "start_time": "2022-01-10T16:43:12.453Z"
   },
   {
    "duration": 11,
    "start_time": "2022-01-10T16:43:15.215Z"
   },
   {
    "duration": 15,
    "start_time": "2022-01-10T16:43:15.450Z"
   },
   {
    "duration": 910,
    "start_time": "2022-01-10T16:43:16.433Z"
   },
   {
    "duration": 644,
    "start_time": "2022-01-10T16:44:09.378Z"
   },
   {
    "duration": 630,
    "start_time": "2022-01-10T16:44:26.947Z"
   },
   {
    "duration": 1058,
    "start_time": "2022-01-10T16:44:56.904Z"
   },
   {
    "duration": 1151,
    "start_time": "2022-01-10T16:46:44.973Z"
   },
   {
    "duration": 1274,
    "start_time": "2022-01-10T16:48:27.454Z"
   },
   {
    "duration": 494,
    "start_time": "2022-01-10T16:54:19.577Z"
   },
   {
    "duration": 682,
    "start_time": "2022-01-10T16:54:47.283Z"
   },
   {
    "duration": 674,
    "start_time": "2022-01-10T16:55:40.625Z"
   },
   {
    "duration": 100,
    "start_time": "2022-01-10T16:55:59.413Z"
   },
   {
    "duration": 693,
    "start_time": "2022-01-10T16:56:03.473Z"
   },
   {
    "duration": 3,
    "start_time": "2022-01-10T17:13:33.404Z"
   },
   {
    "duration": 6,
    "start_time": "2022-01-10T17:22:03.130Z"
   },
   {
    "duration": 499,
    "start_time": "2022-01-10T17:22:31.923Z"
   },
   {
    "duration": 618,
    "start_time": "2022-01-10T17:23:14.683Z"
   },
   {
    "duration": 362,
    "start_time": "2022-01-10T17:28:12.076Z"
   },
   {
    "duration": 5,
    "start_time": "2022-01-10T17:28:18.524Z"
   },
   {
    "duration": 5,
    "start_time": "2022-01-10T17:28:19.026Z"
   },
   {
    "duration": 108,
    "start_time": "2022-01-10T17:28:20.464Z"
   },
   {
    "duration": 4,
    "start_time": "2022-01-10T17:28:21.567Z"
   },
   {
    "duration": 214,
    "start_time": "2022-01-10T17:28:21.930Z"
   },
   {
    "duration": 19,
    "start_time": "2022-01-10T17:28:23.471Z"
   },
   {
    "duration": 14946,
    "start_time": "2022-01-10T17:28:24.328Z"
   },
   {
    "duration": 15182,
    "start_time": "2022-01-10T17:28:45.310Z"
   },
   {
    "duration": 17980,
    "start_time": "2022-01-10T17:29:11.060Z"
   },
   {
    "duration": 15033,
    "start_time": "2022-01-10T17:29:50.016Z"
   },
   {
    "duration": 14917,
    "start_time": "2022-01-10T17:39:23.528Z"
   },
   {
    "duration": 14657,
    "start_time": "2022-01-10T17:39:52.389Z"
   },
   {
    "duration": 5,
    "start_time": "2022-01-10T17:40:35.149Z"
   },
   {
    "duration": 15107,
    "start_time": "2022-01-10T17:43:09.441Z"
   },
   {
    "duration": 15602,
    "start_time": "2022-01-10T17:44:15.626Z"
   },
   {
    "duration": 4,
    "start_time": "2022-01-10T17:44:35.153Z"
   },
   {
    "duration": 14621,
    "start_time": "2022-01-10T17:44:40.680Z"
   },
   {
    "duration": 14626,
    "start_time": "2022-01-10T17:45:32.937Z"
   },
   {
    "duration": 4,
    "start_time": "2022-01-10T17:46:15.617Z"
   },
   {
    "duration": 1257,
    "start_time": "2022-01-11T18:11:10.370Z"
   },
   {
    "duration": 3,
    "start_time": "2022-01-11T18:11:12.851Z"
   },
   {
    "duration": 3,
    "start_time": "2022-01-11T18:11:12.903Z"
   },
   {
    "duration": 3,
    "start_time": "2022-01-11T18:11:12.959Z"
   },
   {
    "duration": 2,
    "start_time": "2022-01-11T18:11:12.991Z"
   },
   {
    "duration": 4,
    "start_time": "2022-01-11T18:11:12.997Z"
   },
   {
    "duration": 1262,
    "start_time": "2022-01-11T18:11:13.083Z"
   },
   {
    "duration": 26,
    "start_time": "2022-01-11T18:11:14.348Z"
   },
   {
    "duration": 261,
    "start_time": "2022-01-11T18:11:14.376Z"
   },
   {
    "duration": 25,
    "start_time": "2022-01-11T18:11:14.640Z"
   },
   {
    "duration": 128,
    "start_time": "2022-01-11T18:11:14.667Z"
   },
   {
    "duration": 571,
    "start_time": "2022-01-11T18:11:14.797Z"
   },
   {
    "duration": 9,
    "start_time": "2022-01-11T18:11:15.370Z"
   },
   {
    "duration": 146,
    "start_time": "2022-01-11T18:11:15.382Z"
   },
   {
    "duration": 8,
    "start_time": "2022-01-11T18:11:15.530Z"
   },
   {
    "duration": 37,
    "start_time": "2022-01-11T18:11:15.539Z"
   },
   {
    "duration": 2834,
    "start_time": "2022-01-11T18:11:15.577Z"
   },
   {
    "duration": 18,
    "start_time": "2022-01-11T18:11:18.413Z"
   },
   {
    "duration": 281,
    "start_time": "2022-01-11T18:11:18.433Z"
   },
   {
    "duration": 14,
    "start_time": "2022-01-11T18:11:18.716Z"
   },
   {
    "duration": 101,
    "start_time": "2022-01-11T18:11:18.732Z"
   },
   {
    "duration": 9,
    "start_time": "2022-01-11T18:11:18.836Z"
   },
   {
    "duration": 15,
    "start_time": "2022-01-11T18:11:18.847Z"
   },
   {
    "duration": 4,
    "start_time": "2022-01-11T18:11:18.864Z"
   },
   {
    "duration": 4,
    "start_time": "2022-01-11T18:11:18.870Z"
   },
   {
    "duration": 7,
    "start_time": "2022-01-11T18:11:18.875Z"
   },
   {
    "duration": 7,
    "start_time": "2022-01-11T18:11:18.884Z"
   },
   {
    "duration": 151,
    "start_time": "2022-01-11T18:11:18.893Z"
   },
   {
    "duration": 19,
    "start_time": "2022-01-11T18:11:19.047Z"
   },
   {
    "duration": 8,
    "start_time": "2022-01-11T18:11:19.068Z"
   },
   {
    "duration": 20,
    "start_time": "2022-01-11T18:11:19.078Z"
   },
   {
    "duration": 477,
    "start_time": "2022-01-11T18:11:19.100Z"
   },
   {
    "duration": 10,
    "start_time": "2022-01-11T18:11:19.579Z"
   },
   {
    "duration": 13,
    "start_time": "2022-01-11T18:11:19.591Z"
   },
   {
    "duration": 796,
    "start_time": "2022-01-11T18:11:19.605Z"
   },
   {
    "duration": 628,
    "start_time": "2022-01-11T18:11:20.402Z"
   },
   {
    "duration": 650,
    "start_time": "2022-01-11T18:11:21.032Z"
   },
   {
    "duration": 727,
    "start_time": "2022-01-11T18:11:21.684Z"
   },
   {
    "duration": 599,
    "start_time": "2022-01-11T18:11:22.414Z"
   },
   {
    "duration": 534,
    "start_time": "2022-01-11T18:11:23.015Z"
   },
   {
    "duration": 90,
    "start_time": "2022-01-11T18:11:23.552Z"
   },
   {
    "duration": 559,
    "start_time": "2022-01-11T18:11:23.645Z"
   },
   {
    "duration": 313,
    "start_time": "2022-01-11T18:11:24.206Z"
   },
   {
    "duration": 3,
    "start_time": "2022-01-11T18:11:25.596Z"
   },
   {
    "duration": 3,
    "start_time": "2022-01-11T18:11:26.474Z"
   },
   {
    "duration": 57,
    "start_time": "2022-01-11T18:11:30.992Z"
   },
   {
    "duration": 3,
    "start_time": "2022-01-11T18:11:33.818Z"
   },
   {
    "duration": 104,
    "start_time": "2022-01-11T18:11:34.600Z"
   },
   {
    "duration": 12,
    "start_time": "2022-01-11T18:11:36.598Z"
   },
   {
    "duration": 12306,
    "start_time": "2022-01-11T18:11:38.012Z"
   },
   {
    "duration": 19465,
    "start_time": "2022-01-11T18:12:04.893Z"
   },
   {
    "duration": 18043,
    "start_time": "2022-01-11T18:12:36.378Z"
   },
   {
    "duration": 11863,
    "start_time": "2022-01-11T18:13:10.036Z"
   },
   {
    "duration": 11667,
    "start_time": "2022-01-11T18:13:39.560Z"
   },
   {
    "duration": 11901,
    "start_time": "2022-01-11T18:13:59.584Z"
   },
   {
    "duration": 11448,
    "start_time": "2022-01-11T18:14:25.740Z"
   },
   {
    "duration": 3,
    "start_time": "2022-01-11T18:16:32.770Z"
   },
   {
    "duration": 4,
    "start_time": "2022-01-11T18:18:41.233Z"
   },
   {
    "duration": 3,
    "start_time": "2022-01-11T18:18:42.380Z"
   },
   {
    "duration": 4,
    "start_time": "2022-01-11T18:18:43.492Z"
   },
   {
    "duration": 3,
    "start_time": "2022-01-11T18:18:44.010Z"
   },
   {
    "duration": 3,
    "start_time": "2022-01-11T18:18:44.052Z"
   },
   {
    "duration": 3,
    "start_time": "2022-01-11T18:18:44.086Z"
   },
   {
    "duration": 3,
    "start_time": "2022-01-11T18:18:44.126Z"
   },
   {
    "duration": 350,
    "start_time": "2022-01-11T18:18:44.215Z"
   },
   {
    "duration": 18,
    "start_time": "2022-01-11T18:18:44.567Z"
   },
   {
    "duration": 277,
    "start_time": "2022-01-11T18:18:44.587Z"
   },
   {
    "duration": 12,
    "start_time": "2022-01-11T18:18:44.866Z"
   },
   {
    "duration": 129,
    "start_time": "2022-01-11T18:18:44.879Z"
   },
   {
    "duration": 114,
    "start_time": "2022-01-11T18:18:45.010Z"
   },
   {
    "duration": 10,
    "start_time": "2022-01-11T18:18:45.126Z"
   },
   {
    "duration": 157,
    "start_time": "2022-01-11T18:18:45.139Z"
   },
   {
    "duration": 7,
    "start_time": "2022-01-11T18:18:45.298Z"
   },
   {
    "duration": 40,
    "start_time": "2022-01-11T18:18:45.306Z"
   },
   {
    "duration": 427,
    "start_time": "2022-01-11T18:18:45.348Z"
   },
   {
    "duration": 16,
    "start_time": "2022-01-11T18:18:45.777Z"
   },
   {
    "duration": 291,
    "start_time": "2022-01-11T18:18:45.795Z"
   },
   {
    "duration": 12,
    "start_time": "2022-01-11T18:18:46.088Z"
   },
   {
    "duration": 112,
    "start_time": "2022-01-11T18:18:46.102Z"
   },
   {
    "duration": 6,
    "start_time": "2022-01-11T18:18:46.216Z"
   },
   {
    "duration": 54,
    "start_time": "2022-01-11T18:18:46.224Z"
   },
   {
    "duration": 3,
    "start_time": "2022-01-11T18:18:46.820Z"
   },
   {
    "duration": 3,
    "start_time": "2022-01-11T18:18:47.794Z"
   },
   {
    "duration": 7,
    "start_time": "2022-01-11T18:18:48.534Z"
   },
   {
    "duration": 9,
    "start_time": "2022-01-11T18:18:49.070Z"
   },
   {
    "duration": 128,
    "start_time": "2022-01-11T18:18:49.783Z"
   },
   {
    "duration": 10,
    "start_time": "2022-01-11T18:18:50.274Z"
   },
   {
    "duration": 8,
    "start_time": "2022-01-11T18:18:51.278Z"
   },
   {
    "duration": 17,
    "start_time": "2022-01-11T18:18:51.549Z"
   },
   {
    "duration": 617,
    "start_time": "2022-01-11T18:18:52.082Z"
   },
   {
    "duration": 9,
    "start_time": "2022-01-11T18:18:53.840Z"
   },
   {
    "duration": 11,
    "start_time": "2022-01-11T18:18:54.098Z"
   },
   {
    "duration": 847,
    "start_time": "2022-01-11T18:18:54.705Z"
   },
   {
    "duration": 709,
    "start_time": "2022-01-11T18:18:56.273Z"
   },
   {
    "duration": 664,
    "start_time": "2022-01-11T18:18:57.556Z"
   },
   {
    "duration": 830,
    "start_time": "2022-01-11T18:18:58.359Z"
   },
   {
    "duration": 418,
    "start_time": "2022-01-11T18:18:59.437Z"
   },
   {
    "duration": 549,
    "start_time": "2022-01-11T18:19:01.522Z"
   },
   {
    "duration": 71,
    "start_time": "2022-01-11T18:19:02.087Z"
   },
   {
    "duration": 527,
    "start_time": "2022-01-11T18:19:02.398Z"
   },
   {
    "duration": 311,
    "start_time": "2022-01-11T18:19:03.611Z"
   },
   {
    "duration": 4,
    "start_time": "2022-01-11T18:19:06.392Z"
   },
   {
    "duration": 4,
    "start_time": "2022-01-11T18:19:07.379Z"
   },
   {
    "duration": 57,
    "start_time": "2022-01-11T18:19:18.448Z"
   },
   {
    "duration": 3,
    "start_time": "2022-01-11T18:19:19.774Z"
   },
   {
    "duration": 104,
    "start_time": "2022-01-11T18:19:20.428Z"
   },
   {
    "duration": 12,
    "start_time": "2022-01-11T18:19:22.616Z"
   },
   {
    "duration": 12378,
    "start_time": "2022-01-11T18:19:37.259Z"
   },
   {
    "duration": 106,
    "start_time": "2022-01-11T18:37:19.074Z"
   },
   {
    "duration": 577,
    "start_time": "2022-01-11T18:37:28.040Z"
   },
   {
    "duration": 4,
    "start_time": "2022-01-11T18:38:16.763Z"
   },
   {
    "duration": 3120,
    "start_time": "2022-01-11T18:38:26.016Z"
   },
   {
    "duration": 3123,
    "start_time": "2022-01-11T18:38:35.443Z"
   },
   {
    "duration": 68276,
    "start_time": "2022-01-11T18:38:51.618Z"
   },
   {
    "duration": 355,
    "start_time": "2022-01-11T18:41:20.313Z"
   },
   {
    "duration": 63583,
    "start_time": "2022-01-11T18:41:50.806Z"
   },
   {
    "duration": 64804,
    "start_time": "2022-01-11T18:43:38.219Z"
   },
   {
    "duration": 63520,
    "start_time": "2022-01-11T18:46:56.604Z"
   },
   {
    "duration": 65252,
    "start_time": "2022-01-11T18:48:40.574Z"
   },
   {
    "duration": 67318,
    "start_time": "2022-01-11T18:49:55.723Z"
   },
   {
    "duration": 67567,
    "start_time": "2022-01-11T18:51:15.373Z"
   },
   {
    "duration": 356,
    "start_time": "2022-01-11T18:53:02.896Z"
   },
   {
    "duration": 378,
    "start_time": "2022-01-11T18:53:26.315Z"
   },
   {
    "duration": 332,
    "start_time": "2022-01-11T18:53:39.184Z"
   },
   {
    "duration": 12,
    "start_time": "2022-01-11T18:56:18.585Z"
   },
   {
    "duration": 333,
    "start_time": "2022-01-11T18:56:24.861Z"
   },
   {
    "duration": 12196,
    "start_time": "2022-01-11T18:56:48.080Z"
   },
   {
    "duration": 67821,
    "start_time": "2022-01-11T18:57:06.126Z"
   },
   {
    "duration": 61436,
    "start_time": "2022-01-11T18:59:00.689Z"
   },
   {
    "duration": 63684,
    "start_time": "2022-01-11T19:00:38.088Z"
   },
   {
    "duration": 86,
    "start_time": "2022-01-11T19:03:52.736Z"
   },
   {
    "duration": 60835,
    "start_time": "2022-01-11T19:04:07.643Z"
   },
   {
    "duration": 595900,
    "start_time": "2022-01-11T19:07:15.836Z"
   },
   {
    "duration": 1811798,
    "start_time": "2022-01-11T19:17:16.040Z"
   },
   {
    "duration": 1618,
    "start_time": "2022-01-11T19:53:32.944Z"
   },
   {
    "duration": 1787,
    "start_time": "2022-01-11T19:54:26.375Z"
   },
   {
    "duration": 1769,
    "start_time": "2022-01-11T19:54:43.492Z"
   },
   {
    "duration": 1420,
    "start_time": "2022-01-11T19:54:56.441Z"
   },
   {
    "duration": 58978,
    "start_time": "2022-01-11T19:55:49.246Z"
   },
   {
    "duration": 1590579,
    "start_time": "2022-01-11T19:57:42.121Z"
   },
   {
    "duration": 1363,
    "start_time": "2022-01-11T20:24:12.701Z"
   },
   {
    "duration": 1527,
    "start_time": "2022-01-11T20:31:20.635Z"
   },
   {
    "duration": 259,
    "start_time": "2022-01-11T20:34:00.667Z"
   },
   {
    "duration": 6,
    "start_time": "2022-01-11T20:34:06.106Z"
   },
   {
    "duration": 112,
    "start_time": "2022-01-11T20:34:07.050Z"
   },
   {
    "duration": 3,
    "start_time": "2022-01-11T20:39:42.056Z"
   },
   {
    "duration": 4,
    "start_time": "2022-01-11T20:39:43.184Z"
   },
   {
    "duration": 55,
    "start_time": "2022-01-11T20:39:51.832Z"
   },
   {
    "duration": 299,
    "start_time": "2022-01-11T20:39:53.278Z"
   },
   {
    "duration": 5,
    "start_time": "2022-01-11T20:39:59.945Z"
   },
   {
    "duration": 3,
    "start_time": "2022-01-11T20:40:01.168Z"
   },
   {
    "duration": 2,
    "start_time": "2022-01-11T20:40:01.340Z"
   },
   {
    "duration": 3,
    "start_time": "2022-01-11T20:40:01.551Z"
   },
   {
    "duration": 3,
    "start_time": "2022-01-11T20:40:01.756Z"
   },
   {
    "duration": 3,
    "start_time": "2022-01-11T20:40:01.957Z"
   },
   {
    "duration": 332,
    "start_time": "2022-01-11T20:40:02.308Z"
   },
   {
    "duration": 23,
    "start_time": "2022-01-11T20:40:02.642Z"
   },
   {
    "duration": 254,
    "start_time": "2022-01-11T20:40:02.680Z"
   },
   {
    "duration": 10,
    "start_time": "2022-01-11T20:40:02.936Z"
   },
   {
    "duration": 112,
    "start_time": "2022-01-11T20:40:03.108Z"
   },
   {
    "duration": 110,
    "start_time": "2022-01-11T20:40:03.708Z"
   },
   {
    "duration": 11,
    "start_time": "2022-01-11T20:40:03.931Z"
   },
   {
    "duration": 142,
    "start_time": "2022-01-11T20:40:04.123Z"
   },
   {
    "duration": 8,
    "start_time": "2022-01-11T20:40:04.353Z"
   },
   {
    "duration": 21,
    "start_time": "2022-01-11T20:40:04.592Z"
   },
   {
    "duration": 403,
    "start_time": "2022-01-11T20:40:05.329Z"
   },
   {
    "duration": 17,
    "start_time": "2022-01-11T20:40:05.734Z"
   },
   {
    "duration": 459,
    "start_time": "2022-01-11T20:40:05.809Z"
   },
   {
    "duration": 13,
    "start_time": "2022-01-11T20:40:06.270Z"
   },
   {
    "duration": 102,
    "start_time": "2022-01-11T20:40:06.284Z"
   },
   {
    "duration": 6,
    "start_time": "2022-01-11T20:40:07.095Z"
   },
   {
    "duration": 6,
    "start_time": "2022-01-11T20:40:07.289Z"
   },
   {
    "duration": 4,
    "start_time": "2022-01-11T20:40:08.140Z"
   },
   {
    "duration": 3,
    "start_time": "2022-01-11T20:40:08.984Z"
   },
   {
    "duration": 6,
    "start_time": "2022-01-11T20:40:09.654Z"
   },
   {
    "duration": 8,
    "start_time": "2022-01-11T20:40:09.869Z"
   },
   {
    "duration": 124,
    "start_time": "2022-01-11T20:40:10.327Z"
   },
   {
    "duration": 9,
    "start_time": "2022-01-11T20:40:10.558Z"
   },
   {
    "duration": 9,
    "start_time": "2022-01-11T20:40:11.272Z"
   },
   {
    "duration": 18,
    "start_time": "2022-01-11T20:40:11.504Z"
   },
   {
    "duration": 477,
    "start_time": "2022-01-11T20:40:11.962Z"
   },
   {
    "duration": 9,
    "start_time": "2022-01-11T20:40:13.649Z"
   },
   {
    "duration": 11,
    "start_time": "2022-01-11T20:40:13.885Z"
   },
   {
    "duration": 729,
    "start_time": "2022-01-11T20:40:14.323Z"
   },
   {
    "duration": 604,
    "start_time": "2022-01-11T20:40:15.717Z"
   },
   {
    "duration": 660,
    "start_time": "2022-01-11T20:40:16.556Z"
   },
   {
    "duration": 885,
    "start_time": "2022-01-11T20:40:17.225Z"
   },
   {
    "duration": 420,
    "start_time": "2022-01-11T20:40:18.112Z"
   },
   {
    "duration": 513,
    "start_time": "2022-01-11T20:40:19.539Z"
   },
   {
    "duration": 67,
    "start_time": "2022-01-11T20:40:20.055Z"
   },
   {
    "duration": 514,
    "start_time": "2022-01-11T20:40:20.285Z"
   },
   {
    "duration": 302,
    "start_time": "2022-01-11T20:40:21.119Z"
   },
   {
    "duration": 3,
    "start_time": "2022-01-11T20:40:22.735Z"
   },
   {
    "duration": 4,
    "start_time": "2022-01-11T20:40:23.313Z"
   },
   {
    "duration": 58,
    "start_time": "2022-01-11T20:40:25.494Z"
   },
   {
    "duration": 3,
    "start_time": "2022-01-11T20:40:26.997Z"
   },
   {
    "duration": 97,
    "start_time": "2022-01-11T20:40:27.808Z"
   },
   {
    "duration": 14,
    "start_time": "2022-01-11T20:40:29.659Z"
   },
   {
    "duration": 58316,
    "start_time": "2022-01-11T20:40:30.745Z"
   },
   {
    "duration": 1372,
    "start_time": "2022-01-11T20:41:38.597Z"
   },
   {
    "duration": 6,
    "start_time": "2022-01-11T20:41:43.732Z"
   },
   {
    "duration": 12,
    "start_time": "2022-01-11T20:41:44.149Z"
   }
  ],
  "kernelspec": {
   "display_name": "Python 3",
   "language": "python",
   "name": "python3"
  },
  "language_info": {
   "codemirror_mode": {
    "name": "ipython",
    "version": 3
   },
   "file_extension": ".py",
   "mimetype": "text/x-python",
   "name": "python",
   "nbconvert_exporter": "python",
   "pygments_lexer": "ipython3",
   "version": "3.8.5"
  },
  "toc": {
   "base_numbering": 1,
   "nav_menu": {},
   "number_sections": true,
   "sideBar": true,
   "skip_h1_title": true,
   "title_cell": "Содержание",
   "title_sidebar": "Contents",
   "toc_cell": true,
   "toc_position": {
    "height": "calc(100% - 180px)",
    "left": "10px",
    "top": "150px",
    "width": "285.99px"
   },
   "toc_section_display": true,
   "toc_window_display": false
  }
 },
 "nbformat": 4,
 "nbformat_minor": 2
}
