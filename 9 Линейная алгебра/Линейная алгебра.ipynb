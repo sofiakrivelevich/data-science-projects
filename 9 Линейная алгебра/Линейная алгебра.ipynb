{
 "cells": [
  {
   "cell_type": "markdown",
   "metadata": {},
   "source": [
    "# Защита персональных данных клиентов"
   ]
  },
  {
   "cell_type": "markdown",
   "metadata": {},
   "source": [
    "Нужно защитить данные клиентов страховой компании «Хоть потоп». Требуется разработать такой метод преобразования данных, чтобы по ним было сложно восстановить персональную информацию."
   ]
  },
  {
   "cell_type": "markdown",
   "metadata": {},
   "source": [
    "# Описание данных"
   ]
  },
  {
   "cell_type": "markdown",
   "metadata": {},
   "source": [
    "<b>Признаки:</b> \n",
    "<ul>\n",
    "<li>пол</li>\n",
    "<li>возраст</li>\n",
    "<li>зарплата</li>\n",
    "<li>количество леном семьи</li>\n",
    "</ul>\n",
    "<br>\n",
    "<b>Целевой признак:</b> \n",
    "<ul>\n",
    "<li>количество страховых выплат клиенту за последние 5 лет</li>\n",
    "</ul>    "
   ]
  },
  {
   "cell_type": "code",
   "execution_count": 1,
   "metadata": {},
   "outputs": [],
   "source": [
    "import pandas as pd\n",
    "import numpy as np\n",
    "from sklearn.model_selection import train_test_split\n",
    "from sklearn.metrics import r2_score\n",
    "from numpy.linalg import inv\n",
    "from numpy.linalg import det"
   ]
  },
  {
   "cell_type": "markdown",
   "metadata": {},
   "source": [
    "## Загрузка данных"
   ]
  },
  {
   "cell_type": "code",
   "execution_count": 2,
   "metadata": {},
   "outputs": [],
   "source": [
    "data = pd.read_csv('insurance.csv')"
   ]
  },
  {
   "cell_type": "code",
   "execution_count": 3,
   "metadata": {},
   "outputs": [
    {
     "data": {
      "text/html": [
       "<div>\n",
       "<style scoped>\n",
       "    .dataframe tbody tr th:only-of-type {\n",
       "        vertical-align: middle;\n",
       "    }\n",
       "\n",
       "    .dataframe tbody tr th {\n",
       "        vertical-align: top;\n",
       "    }\n",
       "\n",
       "    .dataframe thead th {\n",
       "        text-align: right;\n",
       "    }\n",
       "</style>\n",
       "<table border=\"1\" class=\"dataframe\">\n",
       "  <thead>\n",
       "    <tr style=\"text-align: right;\">\n",
       "      <th></th>\n",
       "      <th>Пол</th>\n",
       "      <th>Возраст</th>\n",
       "      <th>Зарплата</th>\n",
       "      <th>Члены семьи</th>\n",
       "      <th>Страховые выплаты</th>\n",
       "    </tr>\n",
       "  </thead>\n",
       "  <tbody>\n",
       "    <tr>\n",
       "      <th>0</th>\n",
       "      <td>1</td>\n",
       "      <td>41.0</td>\n",
       "      <td>49600.0</td>\n",
       "      <td>1</td>\n",
       "      <td>0</td>\n",
       "    </tr>\n",
       "    <tr>\n",
       "      <th>1</th>\n",
       "      <td>0</td>\n",
       "      <td>46.0</td>\n",
       "      <td>38000.0</td>\n",
       "      <td>1</td>\n",
       "      <td>1</td>\n",
       "    </tr>\n",
       "    <tr>\n",
       "      <th>2</th>\n",
       "      <td>0</td>\n",
       "      <td>29.0</td>\n",
       "      <td>21000.0</td>\n",
       "      <td>0</td>\n",
       "      <td>0</td>\n",
       "    </tr>\n",
       "    <tr>\n",
       "      <th>3</th>\n",
       "      <td>0</td>\n",
       "      <td>21.0</td>\n",
       "      <td>41700.0</td>\n",
       "      <td>2</td>\n",
       "      <td>0</td>\n",
       "    </tr>\n",
       "    <tr>\n",
       "      <th>4</th>\n",
       "      <td>1</td>\n",
       "      <td>28.0</td>\n",
       "      <td>26100.0</td>\n",
       "      <td>0</td>\n",
       "      <td>0</td>\n",
       "    </tr>\n",
       "    <tr>\n",
       "      <th>5</th>\n",
       "      <td>1</td>\n",
       "      <td>43.0</td>\n",
       "      <td>41000.0</td>\n",
       "      <td>2</td>\n",
       "      <td>1</td>\n",
       "    </tr>\n",
       "    <tr>\n",
       "      <th>6</th>\n",
       "      <td>1</td>\n",
       "      <td>39.0</td>\n",
       "      <td>39700.0</td>\n",
       "      <td>2</td>\n",
       "      <td>0</td>\n",
       "    </tr>\n",
       "    <tr>\n",
       "      <th>7</th>\n",
       "      <td>1</td>\n",
       "      <td>25.0</td>\n",
       "      <td>38600.0</td>\n",
       "      <td>4</td>\n",
       "      <td>0</td>\n",
       "    </tr>\n",
       "    <tr>\n",
       "      <th>8</th>\n",
       "      <td>1</td>\n",
       "      <td>36.0</td>\n",
       "      <td>49700.0</td>\n",
       "      <td>1</td>\n",
       "      <td>0</td>\n",
       "    </tr>\n",
       "    <tr>\n",
       "      <th>9</th>\n",
       "      <td>1</td>\n",
       "      <td>32.0</td>\n",
       "      <td>51700.0</td>\n",
       "      <td>1</td>\n",
       "      <td>0</td>\n",
       "    </tr>\n",
       "  </tbody>\n",
       "</table>\n",
       "</div>"
      ],
      "text/plain": [
       "   Пол  Возраст  Зарплата  Члены семьи  Страховые выплаты\n",
       "0    1     41.0   49600.0            1                  0\n",
       "1    0     46.0   38000.0            1                  1\n",
       "2    0     29.0   21000.0            0                  0\n",
       "3    0     21.0   41700.0            2                  0\n",
       "4    1     28.0   26100.0            0                  0\n",
       "5    1     43.0   41000.0            2                  1\n",
       "6    1     39.0   39700.0            2                  0\n",
       "7    1     25.0   38600.0            4                  0\n",
       "8    1     36.0   49700.0            1                  0\n",
       "9    1     32.0   51700.0            1                  0"
      ]
     },
     "execution_count": 3,
     "metadata": {},
     "output_type": "execute_result"
    }
   ],
   "source": [
    "data.head(10)"
   ]
  },
  {
   "cell_type": "code",
   "execution_count": 4,
   "metadata": {},
   "outputs": [
    {
     "name": "stdout",
     "output_type": "stream",
     "text": [
      "<class 'pandas.core.frame.DataFrame'>\n",
      "RangeIndex: 5000 entries, 0 to 4999\n",
      "Data columns (total 5 columns):\n",
      " #   Column             Non-Null Count  Dtype  \n",
      "---  ------             --------------  -----  \n",
      " 0   Пол                5000 non-null   int64  \n",
      " 1   Возраст            5000 non-null   float64\n",
      " 2   Зарплата           5000 non-null   float64\n",
      " 3   Члены семьи        5000 non-null   int64  \n",
      " 4   Страховые выплаты  5000 non-null   int64  \n",
      "dtypes: float64(2), int64(3)\n",
      "memory usage: 195.4 KB\n"
     ]
    }
   ],
   "source": [
    "data.info()"
   ]
  },
  {
   "cell_type": "code",
   "execution_count": 5,
   "metadata": {},
   "outputs": [
    {
     "data": {
      "text/html": [
       "<div>\n",
       "<style scoped>\n",
       "    .dataframe tbody tr th:only-of-type {\n",
       "        vertical-align: middle;\n",
       "    }\n",
       "\n",
       "    .dataframe tbody tr th {\n",
       "        vertical-align: top;\n",
       "    }\n",
       "\n",
       "    .dataframe thead th {\n",
       "        text-align: right;\n",
       "    }\n",
       "</style>\n",
       "<table border=\"1\" class=\"dataframe\">\n",
       "  <thead>\n",
       "    <tr style=\"text-align: right;\">\n",
       "      <th></th>\n",
       "      <th>Пол</th>\n",
       "      <th>Возраст</th>\n",
       "      <th>Зарплата</th>\n",
       "      <th>Члены семьи</th>\n",
       "      <th>Страховые выплаты</th>\n",
       "    </tr>\n",
       "  </thead>\n",
       "  <tbody>\n",
       "    <tr>\n",
       "      <th>count</th>\n",
       "      <td>5000.000000</td>\n",
       "      <td>5000.000000</td>\n",
       "      <td>5000.000000</td>\n",
       "      <td>5000.000000</td>\n",
       "      <td>5000.000000</td>\n",
       "    </tr>\n",
       "    <tr>\n",
       "      <th>mean</th>\n",
       "      <td>0.499000</td>\n",
       "      <td>30.952800</td>\n",
       "      <td>39916.360000</td>\n",
       "      <td>1.194200</td>\n",
       "      <td>0.148000</td>\n",
       "    </tr>\n",
       "    <tr>\n",
       "      <th>std</th>\n",
       "      <td>0.500049</td>\n",
       "      <td>8.440807</td>\n",
       "      <td>9900.083569</td>\n",
       "      <td>1.091387</td>\n",
       "      <td>0.463183</td>\n",
       "    </tr>\n",
       "    <tr>\n",
       "      <th>min</th>\n",
       "      <td>0.000000</td>\n",
       "      <td>18.000000</td>\n",
       "      <td>5300.000000</td>\n",
       "      <td>0.000000</td>\n",
       "      <td>0.000000</td>\n",
       "    </tr>\n",
       "    <tr>\n",
       "      <th>25%</th>\n",
       "      <td>0.000000</td>\n",
       "      <td>24.000000</td>\n",
       "      <td>33300.000000</td>\n",
       "      <td>0.000000</td>\n",
       "      <td>0.000000</td>\n",
       "    </tr>\n",
       "    <tr>\n",
       "      <th>50%</th>\n",
       "      <td>0.000000</td>\n",
       "      <td>30.000000</td>\n",
       "      <td>40200.000000</td>\n",
       "      <td>1.000000</td>\n",
       "      <td>0.000000</td>\n",
       "    </tr>\n",
       "    <tr>\n",
       "      <th>75%</th>\n",
       "      <td>1.000000</td>\n",
       "      <td>37.000000</td>\n",
       "      <td>46600.000000</td>\n",
       "      <td>2.000000</td>\n",
       "      <td>0.000000</td>\n",
       "    </tr>\n",
       "    <tr>\n",
       "      <th>max</th>\n",
       "      <td>1.000000</td>\n",
       "      <td>65.000000</td>\n",
       "      <td>79000.000000</td>\n",
       "      <td>6.000000</td>\n",
       "      <td>5.000000</td>\n",
       "    </tr>\n",
       "  </tbody>\n",
       "</table>\n",
       "</div>"
      ],
      "text/plain": [
       "               Пол      Возраст      Зарплата  Члены семьи  Страховые выплаты\n",
       "count  5000.000000  5000.000000   5000.000000  5000.000000        5000.000000\n",
       "mean      0.499000    30.952800  39916.360000     1.194200           0.148000\n",
       "std       0.500049     8.440807   9900.083569     1.091387           0.463183\n",
       "min       0.000000    18.000000   5300.000000     0.000000           0.000000\n",
       "25%       0.000000    24.000000  33300.000000     0.000000           0.000000\n",
       "50%       0.000000    30.000000  40200.000000     1.000000           0.000000\n",
       "75%       1.000000    37.000000  46600.000000     2.000000           0.000000\n",
       "max       1.000000    65.000000  79000.000000     6.000000           5.000000"
      ]
     },
     "execution_count": 5,
     "metadata": {},
     "output_type": "execute_result"
    }
   ],
   "source": [
    "data.describe()"
   ]
  },
  {
   "cell_type": "code",
   "execution_count": 6,
   "metadata": {},
   "outputs": [
    {
     "data": {
      "text/plain": [
       "153"
      ]
     },
     "execution_count": 6,
     "metadata": {},
     "output_type": "execute_result"
    }
   ],
   "source": [
    "data.duplicated().sum()"
   ]
  },
  {
   "cell_type": "code",
   "execution_count": 7,
   "metadata": {},
   "outputs": [
    {
     "name": "stdout",
     "output_type": "stream",
     "text": [
      "<class 'pandas.core.frame.DataFrame'>\n",
      "Int64Index: 4847 entries, 0 to 4999\n",
      "Data columns (total 5 columns):\n",
      " #   Column             Non-Null Count  Dtype  \n",
      "---  ------             --------------  -----  \n",
      " 0   Пол                4847 non-null   int64  \n",
      " 1   Возраст            4847 non-null   float64\n",
      " 2   Зарплата           4847 non-null   float64\n",
      " 3   Члены семьи        4847 non-null   int64  \n",
      " 4   Страховые выплаты  4847 non-null   int64  \n",
      "dtypes: float64(2), int64(3)\n",
      "memory usage: 227.2 KB\n",
      "None\n"
     ]
    }
   ],
   "source": [
    "data = data.drop_duplicates()\n",
    "print(data.info())"
   ]
  },
  {
   "cell_type": "markdown",
   "metadata": {},
   "source": [
    "В данных нет пропусков, но есть дубликаты (153). От них мы избавились. Количество мужчин и женщин примерно одинаковое, средний возраст 31 год, средняя зарплата 39916, в среднем 1 ребенок в семье. Целевой признак - количество страховых выплат клиенту - является количественным, поэтому будем решать задачу регрессии."
   ]
  },
  {
   "cell_type": "markdown",
   "metadata": {},
   "source": [
    "## Умножение матриц"
   ]
  },
  {
   "cell_type": "markdown",
   "metadata": {},
   "source": [
    "В этом задании вы можете записывать формулы в *Jupyter Notebook.*\n",
    "\n",
    "Чтобы записать формулу внутри текста, окружите её символами доллара \\\\$; если снаружи —  двойными символами \\\\$\\\\$. Эти формулы записываются на языке вёрстки *LaTeX.* \n",
    "\n",
    "Для примера мы записали формулы линейной регрессии. Можете их скопировать и отредактировать, чтобы решить задачу.\n",
    "\n",
    "Работать в *LaTeX* необязательно."
   ]
  },
  {
   "cell_type": "markdown",
   "metadata": {},
   "source": [
    "Обозначения:\n",
    "\n",
    "- $X$ — матрица признаков (нулевой столбец состоит из единиц)\n",
    "\n",
    "- $y$ — вектор целевого признака\n",
    "\n",
    "- $P$ — матрица, на которую умножаются признаки\n",
    "\n",
    "- $w$ — вектор весов линейной регрессии (нулевой элемент равен сдвигу)"
   ]
  },
  {
   "cell_type": "markdown",
   "metadata": {},
   "source": [
    "Предсказания:\n",
    "\n",
    "$$\n",
    "a = Xw\n",
    "$$\n",
    "\n",
    "Задача обучения:\n",
    "\n",
    "$$\n",
    "w = \\arg\\min_w MSE(Xw, y)\n",
    "$$\n",
    "\n",
    "Формула обучения:\n",
    "\n",
    "$$\n",
    "w = (X^T X)^{-1} X^T y\n",
    "$$"
   ]
  },
  {
   "cell_type": "markdown",
   "metadata": {},
   "source": [
    "**Ответ:** качество линейной регрессии не изменится\n",
    "\n",
    "**Обоснование:**"
   ]
  },
  {
   "cell_type": "markdown",
   "metadata": {},
   "source": [
    "В данном задании требуется доумножить признаки на обратимую матрицу, то есть на матрицу P.\n",
    "Тогда формула обучения будет выглядеть следующим образом (для наглядности заменим $w$ на $w_1$)\n",
    "$$\n",
    "w_1 = ((XP)^T (XP))^{-1} (XP)^T y \n",
    "$$\n",
    "$$\n",
    "w_1 = (P^T(X^TX)P)^{-1}P^TX^Ty \n",
    "$$\n",
    "$$\n",
    "w_1 = P^{-1}(X^TX)^{-1}P^{T^{-1}}P^TX^Ty \n",
    "$$\n",
    "$$\n",
    "w_1 = P^{-1}(X^TX)^{-1}EX^Ty \n",
    "$$\n",
    "$$\n",
    "w_1 = P^{-1}(X^TX)^{-1}X^Ty \n",
    "$$\n",
    "$$\n",
    "w_1 = P^{-1}w\n",
    "$$"
   ]
  },
  {
   "cell_type": "markdown",
   "metadata": {},
   "source": [
    "Подставим признаки, умноженные на обратимую матрицу и новый вектор весов линейной легрессии в формулу для расчета MSE и получим следующую задачу обучения\n",
    "$$\n",
    "w = \\arg\\min_w MSE(XPP^{-1}w, y) = \\arg\\min_w MSE(XEw, y) = \\arg\\min_w MSE(Xw, y)\n",
    "$$"
   ]
  },
  {
   "cell_type": "markdown",
   "metadata": {},
   "source": [
    "Следовательно, качество линейной регрессии не изменится"
   ]
  },
  {
   "cell_type": "markdown",
   "metadata": {},
   "source": [
    "## Алгоритм преобразования"
   ]
  },
  {
   "cell_type": "code",
   "execution_count": 8,
   "metadata": {},
   "outputs": [],
   "source": [
    "features = data.drop('Страховые выплаты', axis = 1)\n",
    "target = data['Страховые выплаты']\n",
    "\n",
    "features_train, features_valid, target_train, target_valid = train_test_split(features, target, test_size=0.25, random_state=12345)"
   ]
  },
  {
   "cell_type": "markdown",
   "metadata": {},
   "source": [
    "**Алгоритм**"
   ]
  },
  {
   "cell_type": "markdown",
   "metadata": {},
   "source": [
    "Сначала требуется узнать размер features"
   ]
  },
  {
   "cell_type": "code",
   "execution_count": 9,
   "metadata": {},
   "outputs": [
    {
     "name": "stdout",
     "output_type": "stream",
     "text": [
      "(4847, 4)\n"
     ]
    }
   ],
   "source": [
    "print(features.shape)"
   ]
  },
  {
   "cell_type": "markdown",
   "metadata": {},
   "source": [
    "В ходе преобразования данных следует умножить признаки на обратимую матрицу. Для этого создадим матрицу размером 4x4, так как для умножения матриц количество столбцов в первой матрице(в матрице признаков) должно совпадать с количеством строк во второй матрице (в обратимой матрице), а так как только квадратные матрицы являются обратимыми, то размер матрицы будет именно 4x4. Матрица будет заполняться случайными числами от 1 до 10000000 для лучшей защиты данных. Проверим обратимость матрицы, используя то свойство, что для того, чтобы у квадратной матрицы A была обратная матрица необходимо и достаточно чтобы определитель |A| был не равен нулю. Для этого воспользуемся функцией det() из пакета linalg. Далее построим модель для признаком умноженных на обратимую матрицу и предскажем значения признака. Посчитав метрику r2_score получим точно такую же величину, как и для признаков без умножения."
   ]
  },
  {
   "cell_type": "markdown",
   "metadata": {},
   "source": [
    "**Обоснование**\n",
    "\n",
    "В предыдущем пункте было обосновано то, что при умножении признаков на обратиму матрицу результирующая метрика не изменит своего значения"
   ]
  },
  {
   "cell_type": "markdown",
   "metadata": {},
   "source": [
    "## Проверка алгоритма"
   ]
  },
  {
   "cell_type": "markdown",
   "metadata": {},
   "source": [
    "<b>Качество линейной регрессии с признаками без умножения</b>"
   ]
  },
  {
   "cell_type": "code",
   "execution_count": 10,
   "metadata": {},
   "outputs": [],
   "source": [
    "class LinearRegression:\n",
    "    def fit(self, features_train, target_train):\n",
    "        X = np.concatenate((np.ones((features_train.shape[0], 1)), features_train), axis=1)\n",
    "        y = target_train\n",
    "        w = inv(X.T.dot(X)).dot(X.T).dot(y)\n",
    "        self.w = w[1:]\n",
    "        self.w0 = w[0]\n",
    "\n",
    "    def predict(self, features_valid):\n",
    "        return features_valid.dot(self.w) + self.w0"
   ]
  },
  {
   "cell_type": "code",
   "execution_count": 11,
   "metadata": {},
   "outputs": [
    {
     "name": "stdout",
     "output_type": "stream",
     "text": [
      "0.4230772749214826\n"
     ]
    }
   ],
   "source": [
    "model = LinearRegression()\n",
    "model.fit(features_train, target_train)\n",
    "predictions = model.predict(features_valid)\n",
    "print(r2_score(target_valid, predictions))"
   ]
  },
  {
   "cell_type": "markdown",
   "metadata": {},
   "source": [
    "<b>Качество линейной регрессии с признаками умноженными на обратную матрицу</b>"
   ]
  },
  {
   "cell_type": "code",
   "execution_count": 12,
   "metadata": {},
   "outputs": [],
   "source": [
    "a = np.random.randint(1, 10000000, size=(4,4))\n",
    "while det(a) == 0:\n",
    "    a = np.random.randint(1, 10000000, size=(4,4))\n",
    "features_encrypted = features.values.dot(a)\n",
    "target_encrypted = data['Страховые выплаты']\n",
    "\n",
    "features_train_encrypted, features_valid_encrypted, target_train_encrypted, target_valid_encrypted = train_test_split(features_encrypted, target, test_size=0.25, random_state=12345)"
   ]
  },
  {
   "cell_type": "code",
   "execution_count": 13,
   "metadata": {},
   "outputs": [
    {
     "name": "stdout",
     "output_type": "stream",
     "text": [
      "0.42307726697809034\n"
     ]
    }
   ],
   "source": [
    "model = LinearRegression()\n",
    "model.fit(features_train_encrypted, target_train_encrypted)\n",
    "predictions = model.predict(features_valid_encrypted)\n",
    "print(r2_score(target_valid_encrypted, predictions))"
   ]
  },
  {
   "cell_type": "markdown",
   "metadata": {},
   "source": [
    "## Вывод"
   ]
  },
  {
   "cell_type": "markdown",
   "metadata": {},
   "source": [
    "В ходе работы было установлено то, что при умножении признаков на обратимую матрицу качество линейной регрессии не изменится. И для просто признаков и для признаков умноженных на обратимую матрицу получили метрику r2_score равную 0.423077.  В случае домножения матрицы признаков на случайную обратимую матрицу можно обеспечить защиту данных, не особо потеряв в качестве модели. (Незначительное отличие вызвано особенностью преобразования матриц и чисел с плавающей точкой)"
   ]
  }
 ],
 "metadata": {
  "ExecuteTimeLog": [
   {
    "duration": 724,
    "start_time": "2022-02-04T11:24:47.803Z"
   },
   {
    "duration": 22,
    "start_time": "2022-02-04T11:25:09.366Z"
   },
   {
    "duration": 27,
    "start_time": "2022-02-04T11:25:19.555Z"
   },
   {
    "duration": 10,
    "start_time": "2022-02-04T11:27:20.931Z"
   },
   {
    "duration": 34,
    "start_time": "2022-02-04T11:38:23.671Z"
   },
   {
    "duration": 7,
    "start_time": "2022-02-04T11:38:52.782Z"
   },
   {
    "duration": 384,
    "start_time": "2022-02-04T11:40:13.902Z"
   },
   {
    "duration": 15,
    "start_time": "2022-02-04T11:40:19.057Z"
   },
   {
    "duration": 5,
    "start_time": "2022-02-04T12:17:36.477Z"
   },
   {
    "duration": 1074,
    "start_time": "2022-02-05T16:03:25.282Z"
   },
   {
    "duration": 15,
    "start_time": "2022-02-05T16:03:29.096Z"
   },
   {
    "duration": 19,
    "start_time": "2022-02-05T16:03:29.308Z"
   },
   {
    "duration": 7,
    "start_time": "2022-02-05T16:03:29.543Z"
   },
   {
    "duration": 26,
    "start_time": "2022-02-05T16:03:29.753Z"
   },
   {
    "duration": 8,
    "start_time": "2022-02-05T16:03:30.003Z"
   },
   {
    "duration": 7,
    "start_time": "2022-02-05T16:03:30.296Z"
   },
   {
    "duration": 7,
    "start_time": "2022-02-05T16:03:33.173Z"
   },
   {
    "duration": 4,
    "start_time": "2022-02-05T16:03:33.850Z"
   },
   {
    "duration": 3,
    "start_time": "2022-02-05T16:05:03.411Z"
   },
   {
    "duration": 3,
    "start_time": "2022-02-05T16:11:35.103Z"
   },
   {
    "duration": 16,
    "start_time": "2022-02-05T16:11:35.553Z"
   },
   {
    "duration": 13,
    "start_time": "2022-02-05T16:11:35.734Z"
   },
   {
    "duration": 6,
    "start_time": "2022-02-05T16:11:35.933Z"
   },
   {
    "duration": 24,
    "start_time": "2022-02-05T16:11:36.170Z"
   },
   {
    "duration": 6,
    "start_time": "2022-02-05T16:11:36.347Z"
   },
   {
    "duration": 9,
    "start_time": "2022-02-05T16:11:36.541Z"
   },
   {
    "duration": 9,
    "start_time": "2022-02-05T16:11:38.299Z"
   },
   {
    "duration": 7,
    "start_time": "2022-02-05T16:11:38.680Z"
   },
   {
    "duration": 455,
    "start_time": "2022-02-05T16:11:39.098Z"
   },
   {
    "duration": 3,
    "start_time": "2022-02-05T16:12:03.627Z"
   },
   {
    "duration": 15,
    "start_time": "2022-02-05T16:12:04.044Z"
   },
   {
    "duration": 12,
    "start_time": "2022-02-05T16:12:04.209Z"
   },
   {
    "duration": 9,
    "start_time": "2022-02-05T16:12:04.418Z"
   },
   {
    "duration": 33,
    "start_time": "2022-02-05T16:12:04.590Z"
   },
   {
    "duration": 7,
    "start_time": "2022-02-05T16:12:04.802Z"
   },
   {
    "duration": 10,
    "start_time": "2022-02-05T16:12:05.015Z"
   },
   {
    "duration": 8,
    "start_time": "2022-02-05T16:12:06.718Z"
   },
   {
    "duration": 5,
    "start_time": "2022-02-05T16:12:07.086Z"
   },
   {
    "duration": 371,
    "start_time": "2022-02-05T16:12:07.503Z"
   },
   {
    "duration": 3,
    "start_time": "2022-02-05T16:12:50.997Z"
   },
   {
    "duration": 15,
    "start_time": "2022-02-05T16:12:51.537Z"
   },
   {
    "duration": 13,
    "start_time": "2022-02-05T16:12:51.746Z"
   },
   {
    "duration": 8,
    "start_time": "2022-02-05T16:12:51.995Z"
   },
   {
    "duration": 27,
    "start_time": "2022-02-05T16:12:52.176Z"
   },
   {
    "duration": 8,
    "start_time": "2022-02-05T16:12:52.376Z"
   },
   {
    "duration": 9,
    "start_time": "2022-02-05T16:12:52.600Z"
   },
   {
    "duration": 7,
    "start_time": "2022-02-05T16:12:54.624Z"
   },
   {
    "duration": 5,
    "start_time": "2022-02-05T16:12:54.948Z"
   },
   {
    "duration": 10,
    "start_time": "2022-02-05T16:12:55.463Z"
   },
   {
    "duration": 62,
    "start_time": "2022-02-05T16:14:06.568Z"
   },
   {
    "duration": 343,
    "start_time": "2022-02-05T16:18:15.635Z"
   },
   {
    "duration": 333,
    "start_time": "2022-02-08T16:03:43.807Z"
   },
   {
    "duration": 1137,
    "start_time": "2022-02-08T16:03:48.498Z"
   },
   {
    "duration": 14,
    "start_time": "2022-02-08T16:03:49.637Z"
   },
   {
    "duration": 19,
    "start_time": "2022-02-08T16:03:49.653Z"
   },
   {
    "duration": 10,
    "start_time": "2022-02-08T16:03:49.674Z"
   },
   {
    "duration": 26,
    "start_time": "2022-02-08T16:03:49.714Z"
   },
   {
    "duration": 6,
    "start_time": "2022-02-08T16:03:49.978Z"
   },
   {
    "duration": 9,
    "start_time": "2022-02-08T16:03:50.386Z"
   },
   {
    "duration": 7,
    "start_time": "2022-02-08T16:03:52.869Z"
   },
   {
    "duration": 4,
    "start_time": "2022-02-08T16:03:53.281Z"
   },
   {
    "duration": 14,
    "start_time": "2022-02-08T16:03:53.732Z"
   },
   {
    "duration": 519,
    "start_time": "2022-02-08T16:03:54.734Z"
   },
   {
    "duration": 2,
    "start_time": "2022-02-08T16:04:15.295Z"
   },
   {
    "duration": 9,
    "start_time": "2022-02-08T16:04:24.341Z"
   },
   {
    "duration": 5,
    "start_time": "2022-02-08T16:04:30.000Z"
   },
   {
    "duration": 483,
    "start_time": "2022-02-08T16:04:53.268Z"
   },
   {
    "duration": 88,
    "start_time": "2022-02-08T16:13:15.807Z"
   },
   {
    "duration": 1207,
    "start_time": "2022-02-08T19:01:02.826Z"
   },
   {
    "duration": 18,
    "start_time": "2022-02-08T19:01:04.035Z"
   },
   {
    "duration": 23,
    "start_time": "2022-02-08T19:01:04.055Z"
   },
   {
    "duration": 10,
    "start_time": "2022-02-08T19:01:04.208Z"
   },
   {
    "duration": 25,
    "start_time": "2022-02-08T19:01:04.737Z"
   },
   {
    "duration": 6,
    "start_time": "2022-02-08T19:01:04.939Z"
   },
   {
    "duration": 10,
    "start_time": "2022-02-08T19:01:05.144Z"
   },
   {
    "duration": 7,
    "start_time": "2022-02-08T19:01:10.247Z"
   },
   {
    "duration": 5,
    "start_time": "2022-02-08T19:01:10.678Z"
   },
   {
    "duration": 11,
    "start_time": "2022-02-08T19:01:11.053Z"
   },
   {
    "duration": 1010,
    "start_time": "2022-02-09T16:37:32.893Z"
   },
   {
    "duration": 69,
    "start_time": "2022-02-09T16:37:34.252Z"
   },
   {
    "duration": 13,
    "start_time": "2022-02-09T16:37:34.736Z"
   },
   {
    "duration": 7,
    "start_time": "2022-02-09T16:37:43.803Z"
   },
   {
    "duration": 21,
    "start_time": "2022-02-09T16:37:44.571Z"
   },
   {
    "duration": 6,
    "start_time": "2022-02-09T16:37:45.421Z"
   },
   {
    "duration": 8,
    "start_time": "2022-02-09T16:37:46.983Z"
   },
   {
    "duration": 3,
    "start_time": "2022-02-09T17:01:02.324Z"
   },
   {
    "duration": 17,
    "start_time": "2022-02-09T17:01:02.652Z"
   },
   {
    "duration": 7,
    "start_time": "2022-02-09T17:01:02.841Z"
   },
   {
    "duration": 6,
    "start_time": "2022-02-09T17:01:03.351Z"
   },
   {
    "duration": 21,
    "start_time": "2022-02-09T17:01:03.359Z"
   },
   {
    "duration": 6,
    "start_time": "2022-02-09T17:01:03.475Z"
   },
   {
    "duration": 8,
    "start_time": "2022-02-09T17:01:03.754Z"
   },
   {
    "duration": 6,
    "start_time": "2022-02-09T17:01:08.660Z"
   },
   {
    "duration": 4,
    "start_time": "2022-02-09T17:01:09.252Z"
   },
   {
    "duration": 11,
    "start_time": "2022-02-09T17:01:09.943Z"
   },
   {
    "duration": 2,
    "start_time": "2022-02-09T17:01:22.227Z"
   },
   {
    "duration": 1317,
    "start_time": "2022-02-09T17:05:32.425Z"
   },
   {
    "duration": 4,
    "start_time": "2022-02-09T17:06:11.284Z"
   },
   {
    "duration": 324,
    "start_time": "2022-02-09T17:06:19.848Z"
   },
   {
    "duration": 4,
    "start_time": "2022-02-09T17:06:30.606Z"
   },
   {
    "duration": 6,
    "start_time": "2022-02-09T17:06:41.121Z"
   },
   {
    "duration": 3,
    "start_time": "2022-02-09T17:07:20.242Z"
   },
   {
    "duration": 4,
    "start_time": "2022-02-09T17:08:20.547Z"
   },
   {
    "duration": 5,
    "start_time": "2022-02-09T17:08:26.378Z"
   },
   {
    "duration": 7,
    "start_time": "2022-02-09T17:08:29.967Z"
   },
   {
    "duration": 5,
    "start_time": "2022-02-09T17:09:06.044Z"
   },
   {
    "duration": 6,
    "start_time": "2022-02-09T17:09:16.259Z"
   },
   {
    "duration": 4,
    "start_time": "2022-02-09T17:09:16.572Z"
   },
   {
    "duration": 5,
    "start_time": "2022-02-09T17:09:16.856Z"
   },
   {
    "duration": 6,
    "start_time": "2022-02-09T17:09:17.742Z"
   },
   {
    "duration": 5,
    "start_time": "2022-02-09T17:09:18.208Z"
   },
   {
    "duration": 7,
    "start_time": "2022-02-09T17:09:34.562Z"
   },
   {
    "duration": 5,
    "start_time": "2022-02-09T17:09:35.126Z"
   },
   {
    "duration": 6,
    "start_time": "2022-02-09T17:09:42.175Z"
   },
   {
    "duration": 6,
    "start_time": "2022-02-09T17:09:42.495Z"
   },
   {
    "duration": 5,
    "start_time": "2022-02-09T17:10:12.714Z"
   },
   {
    "duration": 5,
    "start_time": "2022-02-09T17:10:13.680Z"
   },
   {
    "duration": 3,
    "start_time": "2022-02-09T17:17:33.652Z"
   },
   {
    "duration": 3,
    "start_time": "2022-02-09T17:21:25.459Z"
   },
   {
    "duration": 17,
    "start_time": "2022-02-09T17:21:26.158Z"
   },
   {
    "duration": 7,
    "start_time": "2022-02-09T17:21:26.367Z"
   },
   {
    "duration": 5,
    "start_time": "2022-02-09T17:21:26.552Z"
   },
   {
    "duration": 20,
    "start_time": "2022-02-09T17:21:26.764Z"
   },
   {
    "duration": 6,
    "start_time": "2022-02-09T17:21:26.978Z"
   },
   {
    "duration": 7,
    "start_time": "2022-02-09T17:21:27.170Z"
   },
   {
    "duration": 7,
    "start_time": "2022-02-09T17:21:31.884Z"
   },
   {
    "duration": 4,
    "start_time": "2022-02-09T17:21:32.303Z"
   },
   {
    "duration": 5,
    "start_time": "2022-02-09T17:21:32.820Z"
   },
   {
    "duration": 6,
    "start_time": "2022-02-09T17:21:34.384Z"
   },
   {
    "duration": 5,
    "start_time": "2022-02-09T17:21:35.450Z"
   },
   {
    "duration": 3,
    "start_time": "2022-02-09T17:22:23.000Z"
   },
   {
    "duration": 2,
    "start_time": "2022-02-09T17:30:12.681Z"
   },
   {
    "duration": 16,
    "start_time": "2022-02-09T17:30:13.185Z"
   },
   {
    "duration": 7,
    "start_time": "2022-02-09T17:30:13.451Z"
   },
   {
    "duration": 6,
    "start_time": "2022-02-09T17:30:13.746Z"
   },
   {
    "duration": 19,
    "start_time": "2022-02-09T17:30:14.037Z"
   },
   {
    "duration": 5,
    "start_time": "2022-02-09T17:30:14.343Z"
   },
   {
    "duration": 8,
    "start_time": "2022-02-09T17:30:14.632Z"
   },
   {
    "duration": 3,
    "start_time": "2022-02-09T17:30:18.752Z"
   },
   {
    "duration": 6,
    "start_time": "2022-02-09T17:30:20.398Z"
   },
   {
    "duration": 4,
    "start_time": "2022-02-09T17:30:20.825Z"
   },
   {
    "duration": 6,
    "start_time": "2022-02-09T17:30:21.281Z"
   },
   {
    "duration": 322,
    "start_time": "2022-02-09T17:30:22.167Z"
   },
   {
    "duration": 5,
    "start_time": "2022-02-09T17:30:22.619Z"
   },
   {
    "duration": 9,
    "start_time": "2022-02-09T17:30:36.185Z"
   },
   {
    "duration": 8,
    "start_time": "2022-02-09T17:30:49.669Z"
   },
   {
    "duration": 3,
    "start_time": "2022-02-09T17:31:30.801Z"
   },
   {
    "duration": 17,
    "start_time": "2022-02-09T17:31:31.289Z"
   },
   {
    "duration": 8,
    "start_time": "2022-02-09T17:31:31.567Z"
   },
   {
    "duration": 6,
    "start_time": "2022-02-09T17:31:31.781Z"
   },
   {
    "duration": 20,
    "start_time": "2022-02-09T17:31:32.342Z"
   },
   {
    "duration": 4,
    "start_time": "2022-02-09T17:31:32.364Z"
   },
   {
    "duration": 7,
    "start_time": "2022-02-09T17:31:32.582Z"
   },
   {
    "duration": 3,
    "start_time": "2022-02-09T17:31:36.851Z"
   },
   {
    "duration": 8,
    "start_time": "2022-02-09T17:31:39.154Z"
   },
   {
    "duration": 4,
    "start_time": "2022-02-09T17:31:40.025Z"
   },
   {
    "duration": 5,
    "start_time": "2022-02-09T17:31:40.629Z"
   },
   {
    "duration": 10,
    "start_time": "2022-02-09T17:31:42.566Z"
   },
   {
    "duration": 5,
    "start_time": "2022-02-09T17:31:43.552Z"
   },
   {
    "duration": 3,
    "start_time": "2022-02-09T17:34:21.298Z"
   },
   {
    "duration": 17,
    "start_time": "2022-02-09T17:34:21.909Z"
   },
   {
    "duration": 8,
    "start_time": "2022-02-09T17:34:22.409Z"
   },
   {
    "duration": 7,
    "start_time": "2022-02-09T17:34:22.418Z"
   },
   {
    "duration": 21,
    "start_time": "2022-02-09T17:34:22.547Z"
   },
   {
    "duration": 6,
    "start_time": "2022-02-09T17:34:22.760Z"
   },
   {
    "duration": 7,
    "start_time": "2022-02-09T17:34:22.989Z"
   },
   {
    "duration": 3,
    "start_time": "2022-02-09T17:34:27.249Z"
   },
   {
    "duration": 8,
    "start_time": "2022-02-09T17:34:28.674Z"
   },
   {
    "duration": 5,
    "start_time": "2022-02-09T17:34:29.110Z"
   },
   {
    "duration": 6,
    "start_time": "2022-02-09T17:34:29.466Z"
   },
   {
    "duration": 8,
    "start_time": "2022-02-09T17:34:30.375Z"
   },
   {
    "duration": 5,
    "start_time": "2022-02-09T17:34:30.940Z"
   },
   {
    "duration": 3,
    "start_time": "2022-02-09T17:34:58.148Z"
   },
   {
    "duration": 20,
    "start_time": "2022-02-09T17:34:58.152Z"
   },
   {
    "duration": 16,
    "start_time": "2022-02-09T17:34:58.592Z"
   },
   {
    "duration": 7,
    "start_time": "2022-02-09T17:34:58.817Z"
   },
   {
    "duration": 21,
    "start_time": "2022-02-09T17:34:59.053Z"
   },
   {
    "duration": 6,
    "start_time": "2022-02-09T17:34:59.292Z"
   },
   {
    "duration": 8,
    "start_time": "2022-02-09T17:34:59.507Z"
   },
   {
    "duration": 3,
    "start_time": "2022-02-09T17:35:02.922Z"
   },
   {
    "duration": 7,
    "start_time": "2022-02-09T17:35:04.740Z"
   },
   {
    "duration": 4,
    "start_time": "2022-02-09T17:35:05.114Z"
   },
   {
    "duration": 5,
    "start_time": "2022-02-09T17:35:05.672Z"
   },
   {
    "duration": 6,
    "start_time": "2022-02-09T17:35:07.260Z"
   },
   {
    "duration": 5,
    "start_time": "2022-02-09T17:35:08.468Z"
   },
   {
    "duration": 3,
    "start_time": "2022-02-09T17:36:56.456Z"
   },
   {
    "duration": 19,
    "start_time": "2022-02-09T17:36:56.897Z"
   },
   {
    "duration": 7,
    "start_time": "2022-02-09T17:36:58.172Z"
   },
   {
    "duration": 7,
    "start_time": "2022-02-09T17:36:58.181Z"
   },
   {
    "duration": 21,
    "start_time": "2022-02-09T17:36:58.189Z"
   },
   {
    "duration": 5,
    "start_time": "2022-02-09T17:36:58.293Z"
   },
   {
    "duration": 7,
    "start_time": "2022-02-09T17:36:58.300Z"
   },
   {
    "duration": 3,
    "start_time": "2022-02-09T17:37:02.065Z"
   },
   {
    "duration": 6,
    "start_time": "2022-02-09T17:37:03.637Z"
   },
   {
    "duration": 5,
    "start_time": "2022-02-09T17:37:04.103Z"
   },
   {
    "duration": 13,
    "start_time": "2022-02-09T17:37:04.530Z"
   },
   {
    "duration": 5,
    "start_time": "2022-02-09T17:37:05.241Z"
   },
   {
    "duration": 5,
    "start_time": "2022-02-09T17:37:05.716Z"
   },
   {
    "duration": 87,
    "start_time": "2022-02-09T22:38:33.831Z"
   },
   {
    "duration": 89,
    "start_time": "2022-02-10T07:17:49.403Z"
   },
   {
    "duration": 1137,
    "start_time": "2022-02-10T07:18:14.713Z"
   },
   {
    "duration": 15,
    "start_time": "2022-02-10T07:18:16.661Z"
   },
   {
    "duration": 17,
    "start_time": "2022-02-10T07:18:17.323Z"
   },
   {
    "duration": 9,
    "start_time": "2022-02-10T07:18:21.676Z"
   }
  ],
  "kernelspec": {
   "display_name": "Python 3",
   "language": "python",
   "name": "python3"
  },
  "language_info": {
   "codemirror_mode": {
    "name": "ipython",
    "version": 3
   },
   "file_extension": ".py",
   "mimetype": "text/x-python",
   "name": "python",
   "nbconvert_exporter": "python",
   "pygments_lexer": "ipython3",
   "version": "3.8.5"
  },
  "toc": {
   "base_numbering": 1,
   "nav_menu": {},
   "number_sections": true,
   "sideBar": true,
   "skip_h1_title": true,
   "title_cell": "Содержание",
   "title_sidebar": "Contents",
   "toc_cell": true,
   "toc_position": {},
   "toc_section_display": true,
   "toc_window_display": true
  }
 },
 "nbformat": 4,
 "nbformat_minor": 2
}
