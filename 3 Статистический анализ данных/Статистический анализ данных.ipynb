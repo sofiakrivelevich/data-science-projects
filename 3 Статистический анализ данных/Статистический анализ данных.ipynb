{
 "cells": [
  {
   "cell_type": "markdown",
   "metadata": {},
   "source": [
    "# Определение перспективного тарифа для телеком-компании\n",
    "Клиентам компании \"Мегалайн\" предлагают два тарифных плана: «Смарт» и «Ультра». Чтобы скорректировать рекламный бюджет, коммерческий департамент хочет понять, какой тариф приносит больше денег.\n",
    "Даны данные 500 пользователей «Мегалайна»: кто они, откуда, каким тарифом пользуются, сколько звонков и сообщений каждый отправил за 2018 год. Нужно проанализировать поведение клиентов и сделать вывод — какой тариф лучше."
   ]
  },
  {
   "cell_type": "markdown",
   "metadata": {},
   "source": [
    "# Описание данных"
   ]
  },
  {
   "cell_type": "markdown",
   "metadata": {},
   "source": [
    "Таблица <b>users</b> (информация о пользователях):\n",
    "<ul>\n",
    "<li>user_id — уникальный идентификатор пользователя</li>\n",
    "<li>first_name — имя пользователя</li>\n",
    "<li>last_name — фамилия пользователя</li>\n",
    "<li>age — возраст пользователя (годы)</li>\n",
    "<li>reg_date — дата подключения тарифа (день, месяц, год)</li>\n",
    "<li>churn_date — дата прекращения пользования тарифом (если значение пропущено, то тариф ещё действовал на момент выгрузки данных)</li>\n",
    "<li>city — город проживания пользователя</li>\n",
    "<li>tarif — название тарифного плана</li>\n",
    "</ul>\n",
    "Таблица <b>calls</b> (информация о звонках):\n",
    "<ul>\n",
    "<li>id — уникальный номер звонка</li>\n",
    "<li>call_date — дата звонка</li>\n",
    "<li>duration — длительность звонка в минутах</li>\n",
    "<li>user_id — идентификатор пользователя, сделавшего звонок</li>\n",
    "</ul>\n",
    "Таблица <b>messages</b> (информация о сообщениях):\n",
    "<ul>\n",
    "<li>id — уникальный номер сообщения</li>\n",
    "<li>message_date — дата сообщения</li>\n",
    "<li>user_id — идентификатор пользователя, отправившего сообщение</li>\n",
    "</ul>\n",
    "Таблица <b>internet</b> (информация об интернет-сессиях):\n",
    "<ul>\n",
    "<li>id — уникальный номер сессии</li>\n",
    "<li>mb_used — объём потраченного за сессию интернет-трафика (в мегабайтах)</li>\n",
    "<li>session_date — дата интернет-сессии</li>\n",
    "<li>user_id — идентификатор пользователя</li>\n",
    "</ul>\n",
    "Таблица <b>tariffs</b> (информация о тарифах):\n",
    "<ul>\n",
    "<li>tariff_name — название тарифа</li>\n",
    "<li>rub_monthly_fee — ежемесячная абонентская плата в рублях</li>\n",
    "<li>minutes_included — количество минут разговора в месяц, включённых в абонентскую плату</li>\n",
    "<li>messages_included — количество сообщений в месяц, включённых в абонентскую плату</li>\n",
    "<li>mb_per_month_included — объём интернет-трафика, включённого в абонентскую плату (в мегабайтах)</li>\n",
    "<li>rub_per_minute — стоимость минуты разговора сверх тарифного пакета (например, если в тарифе 100 минут разговора в месяц, то со 101 минуты будет взиматься плата)</li>\n",
    "<li>rub_per_message — стоимость отправки сообщения сверх тарифного пакета</li>\n",
    "<li>rub_per_gb — стоимость дополнительного гигабайта интернет-трафика сверх тарифного пакета (1 гигабайт = 1024 мегабайта)</li>\n",
    "</ul>"
   ]
  },
  {
   "cell_type": "code",
   "execution_count": 4,
   "metadata": {},
   "outputs": [],
   "source": [
    "import pandas as pd\n",
    "import numpy as np\n",
    "from scipy import stats as st\n",
    "import matplotlib.pyplot as plt"
   ]
  },
  {
   "cell_type": "markdown",
   "metadata": {},
   "source": [
    "# Изучение данных из файла"
   ]
  },
  {
   "cell_type": "code",
   "execution_count": 5,
   "metadata": {},
   "outputs": [
    {
     "name": "stdout",
     "output_type": "stream",
     "text": [
      "<class 'pandas.core.frame.DataFrame'>\n",
      "RangeIndex: 202607 entries, 0 to 202606\n",
      "Data columns (total 4 columns):\n",
      " #   Column     Non-Null Count   Dtype  \n",
      "---  ------     --------------   -----  \n",
      " 0   id         202607 non-null  object \n",
      " 1   call_date  202607 non-null  object \n",
      " 2   duration   202607 non-null  float64\n",
      " 3   user_id    202607 non-null  int64  \n",
      "dtypes: float64(1), int64(1), object(2)\n",
      "memory usage: 6.2+ MB\n",
      "None\n"
     ]
    }
   ],
   "source": [
    "calls = pd.read_csv('calls.csv')\n",
    "print(calls.info())"
   ]
  },
  {
   "cell_type": "code",
   "execution_count": 6,
   "metadata": {},
   "outputs": [
    {
     "data": {
      "text/html": [
       "<div>\n",
       "<style scoped>\n",
       "    .dataframe tbody tr th:only-of-type {\n",
       "        vertical-align: middle;\n",
       "    }\n",
       "\n",
       "    .dataframe tbody tr th {\n",
       "        vertical-align: top;\n",
       "    }\n",
       "\n",
       "    .dataframe thead th {\n",
       "        text-align: right;\n",
       "    }\n",
       "</style>\n",
       "<table border=\"1\" class=\"dataframe\">\n",
       "  <thead>\n",
       "    <tr style=\"text-align: right;\">\n",
       "      <th></th>\n",
       "      <th>id</th>\n",
       "      <th>call_date</th>\n",
       "      <th>duration</th>\n",
       "      <th>user_id</th>\n",
       "    </tr>\n",
       "  </thead>\n",
       "  <tbody>\n",
       "    <tr>\n",
       "      <th>0</th>\n",
       "      <td>1000_0</td>\n",
       "      <td>2018-07-25</td>\n",
       "      <td>0.00</td>\n",
       "      <td>1000</td>\n",
       "    </tr>\n",
       "    <tr>\n",
       "      <th>1</th>\n",
       "      <td>1000_1</td>\n",
       "      <td>2018-08-17</td>\n",
       "      <td>0.00</td>\n",
       "      <td>1000</td>\n",
       "    </tr>\n",
       "    <tr>\n",
       "      <th>2</th>\n",
       "      <td>1000_2</td>\n",
       "      <td>2018-06-11</td>\n",
       "      <td>2.85</td>\n",
       "      <td>1000</td>\n",
       "    </tr>\n",
       "    <tr>\n",
       "      <th>3</th>\n",
       "      <td>1000_3</td>\n",
       "      <td>2018-09-21</td>\n",
       "      <td>13.80</td>\n",
       "      <td>1000</td>\n",
       "    </tr>\n",
       "    <tr>\n",
       "      <th>4</th>\n",
       "      <td>1000_4</td>\n",
       "      <td>2018-12-15</td>\n",
       "      <td>5.18</td>\n",
       "      <td>1000</td>\n",
       "    </tr>\n",
       "    <tr>\n",
       "      <th>5</th>\n",
       "      <td>1000_5</td>\n",
       "      <td>2018-11-02</td>\n",
       "      <td>0.00</td>\n",
       "      <td>1000</td>\n",
       "    </tr>\n",
       "    <tr>\n",
       "      <th>6</th>\n",
       "      <td>1000_6</td>\n",
       "      <td>2018-10-18</td>\n",
       "      <td>0.00</td>\n",
       "      <td>1000</td>\n",
       "    </tr>\n",
       "    <tr>\n",
       "      <th>7</th>\n",
       "      <td>1000_7</td>\n",
       "      <td>2018-08-22</td>\n",
       "      <td>18.31</td>\n",
       "      <td>1000</td>\n",
       "    </tr>\n",
       "    <tr>\n",
       "      <th>8</th>\n",
       "      <td>1000_8</td>\n",
       "      <td>2018-09-15</td>\n",
       "      <td>18.44</td>\n",
       "      <td>1000</td>\n",
       "    </tr>\n",
       "    <tr>\n",
       "      <th>9</th>\n",
       "      <td>1000_9</td>\n",
       "      <td>2018-08-15</td>\n",
       "      <td>0.00</td>\n",
       "      <td>1000</td>\n",
       "    </tr>\n",
       "  </tbody>\n",
       "</table>\n",
       "</div>"
      ],
      "text/plain": [
       "       id   call_date  duration  user_id\n",
       "0  1000_0  2018-07-25      0.00     1000\n",
       "1  1000_1  2018-08-17      0.00     1000\n",
       "2  1000_2  2018-06-11      2.85     1000\n",
       "3  1000_3  2018-09-21     13.80     1000\n",
       "4  1000_4  2018-12-15      5.18     1000\n",
       "5  1000_5  2018-11-02      0.00     1000\n",
       "6  1000_6  2018-10-18      0.00     1000\n",
       "7  1000_7  2018-08-22     18.31     1000\n",
       "8  1000_8  2018-09-15     18.44     1000\n",
       "9  1000_9  2018-08-15      0.00     1000"
      ]
     },
     "metadata": {},
     "output_type": "display_data"
    }
   ],
   "source": [
    "display(calls.head(10))"
   ]
  },
  {
   "cell_type": "markdown",
   "metadata": {},
   "source": [
    "<b>Вывод:</b> в данном файле нет нулевых значений. Значений столбцов записаны в одном стиле. Здесь можно заметить, что есть нулевые значения в столбце duration. Хотя даже 1 секунда разговора будет защитана за минуту. Вероятно это вызовы, на которые не поступило ответа. Здесь следует заменить тип данных в столбце с датой звонка."
   ]
  },
  {
   "cell_type": "code",
   "execution_count": 7,
   "metadata": {},
   "outputs": [
    {
     "name": "stdout",
     "output_type": "stream",
     "text": [
      "<class 'pandas.core.frame.DataFrame'>\n",
      "RangeIndex: 149396 entries, 0 to 149395\n",
      "Data columns (total 4 columns):\n",
      " #   Column        Non-Null Count   Dtype  \n",
      "---  ------        --------------   -----  \n",
      " 0   id            149396 non-null  object \n",
      " 1   mb_used       149396 non-null  float64\n",
      " 2   session_date  149396 non-null  object \n",
      " 3   user_id       149396 non-null  int64  \n",
      "dtypes: float64(1), int64(1), object(2)\n",
      "memory usage: 4.6+ MB\n",
      "None\n"
     ]
    }
   ],
   "source": [
    "internet = pd.read_csv('internet.csv')\n",
    "del internet['Unnamed: 0']\n",
    "print(internet.info())"
   ]
  },
  {
   "cell_type": "code",
   "execution_count": 8,
   "metadata": {},
   "outputs": [
    {
     "data": {
      "text/html": [
       "<div>\n",
       "<style scoped>\n",
       "    .dataframe tbody tr th:only-of-type {\n",
       "        vertical-align: middle;\n",
       "    }\n",
       "\n",
       "    .dataframe tbody tr th {\n",
       "        vertical-align: top;\n",
       "    }\n",
       "\n",
       "    .dataframe thead th {\n",
       "        text-align: right;\n",
       "    }\n",
       "</style>\n",
       "<table border=\"1\" class=\"dataframe\">\n",
       "  <thead>\n",
       "    <tr style=\"text-align: right;\">\n",
       "      <th></th>\n",
       "      <th>id</th>\n",
       "      <th>mb_used</th>\n",
       "      <th>session_date</th>\n",
       "      <th>user_id</th>\n",
       "    </tr>\n",
       "  </thead>\n",
       "  <tbody>\n",
       "    <tr>\n",
       "      <th>0</th>\n",
       "      <td>1000_0</td>\n",
       "      <td>112.95</td>\n",
       "      <td>2018-11-25</td>\n",
       "      <td>1000</td>\n",
       "    </tr>\n",
       "    <tr>\n",
       "      <th>1</th>\n",
       "      <td>1000_1</td>\n",
       "      <td>1052.81</td>\n",
       "      <td>2018-09-07</td>\n",
       "      <td>1000</td>\n",
       "    </tr>\n",
       "    <tr>\n",
       "      <th>2</th>\n",
       "      <td>1000_2</td>\n",
       "      <td>1197.26</td>\n",
       "      <td>2018-06-25</td>\n",
       "      <td>1000</td>\n",
       "    </tr>\n",
       "    <tr>\n",
       "      <th>3</th>\n",
       "      <td>1000_3</td>\n",
       "      <td>550.27</td>\n",
       "      <td>2018-08-22</td>\n",
       "      <td>1000</td>\n",
       "    </tr>\n",
       "    <tr>\n",
       "      <th>4</th>\n",
       "      <td>1000_4</td>\n",
       "      <td>302.56</td>\n",
       "      <td>2018-09-24</td>\n",
       "      <td>1000</td>\n",
       "    </tr>\n",
       "    <tr>\n",
       "      <th>5</th>\n",
       "      <td>1000_5</td>\n",
       "      <td>399.97</td>\n",
       "      <td>2018-10-02</td>\n",
       "      <td>1000</td>\n",
       "    </tr>\n",
       "    <tr>\n",
       "      <th>6</th>\n",
       "      <td>1000_6</td>\n",
       "      <td>540.08</td>\n",
       "      <td>2018-09-07</td>\n",
       "      <td>1000</td>\n",
       "    </tr>\n",
       "    <tr>\n",
       "      <th>7</th>\n",
       "      <td>1000_7</td>\n",
       "      <td>415.70</td>\n",
       "      <td>2018-07-11</td>\n",
       "      <td>1000</td>\n",
       "    </tr>\n",
       "    <tr>\n",
       "      <th>8</th>\n",
       "      <td>1000_8</td>\n",
       "      <td>505.40</td>\n",
       "      <td>2018-10-08</td>\n",
       "      <td>1000</td>\n",
       "    </tr>\n",
       "    <tr>\n",
       "      <th>9</th>\n",
       "      <td>1000_9</td>\n",
       "      <td>345.54</td>\n",
       "      <td>2018-09-03</td>\n",
       "      <td>1000</td>\n",
       "    </tr>\n",
       "  </tbody>\n",
       "</table>\n",
       "</div>"
      ],
      "text/plain": [
       "       id  mb_used session_date  user_id\n",
       "0  1000_0   112.95   2018-11-25     1000\n",
       "1  1000_1  1052.81   2018-09-07     1000\n",
       "2  1000_2  1197.26   2018-06-25     1000\n",
       "3  1000_3   550.27   2018-08-22     1000\n",
       "4  1000_4   302.56   2018-09-24     1000\n",
       "5  1000_5   399.97   2018-10-02     1000\n",
       "6  1000_6   540.08   2018-09-07     1000\n",
       "7  1000_7   415.70   2018-07-11     1000\n",
       "8  1000_8   505.40   2018-10-08     1000\n",
       "9  1000_9   345.54   2018-09-03     1000"
      ]
     },
     "metadata": {},
     "output_type": "display_data"
    }
   ],
   "source": [
    "display(internet.head(10))"
   ]
  },
  {
   "cell_type": "markdown",
   "metadata": {},
   "source": [
    "<b>Вывод:</b> в данном датафрейме также нет нулевых значений. Значений столбцов записаны в одном стиле. Но стоит заменить тип данных в столбце session_date."
   ]
  },
  {
   "cell_type": "code",
   "execution_count": 9,
   "metadata": {},
   "outputs": [
    {
     "name": "stdout",
     "output_type": "stream",
     "text": [
      "<class 'pandas.core.frame.DataFrame'>\n",
      "RangeIndex: 123036 entries, 0 to 123035\n",
      "Data columns (total 3 columns):\n",
      " #   Column        Non-Null Count   Dtype \n",
      "---  ------        --------------   ----- \n",
      " 0   id            123036 non-null  object\n",
      " 1   message_date  123036 non-null  object\n",
      " 2   user_id       123036 non-null  int64 \n",
      "dtypes: int64(1), object(2)\n",
      "memory usage: 2.8+ MB\n",
      "None\n"
     ]
    }
   ],
   "source": [
    "messages = pd.read_csv('messages.csv')\n",
    "print(messages.info())"
   ]
  },
  {
   "cell_type": "code",
   "execution_count": 10,
   "metadata": {},
   "outputs": [
    {
     "data": {
      "text/html": [
       "<div>\n",
       "<style scoped>\n",
       "    .dataframe tbody tr th:only-of-type {\n",
       "        vertical-align: middle;\n",
       "    }\n",
       "\n",
       "    .dataframe tbody tr th {\n",
       "        vertical-align: top;\n",
       "    }\n",
       "\n",
       "    .dataframe thead th {\n",
       "        text-align: right;\n",
       "    }\n",
       "</style>\n",
       "<table border=\"1\" class=\"dataframe\">\n",
       "  <thead>\n",
       "    <tr style=\"text-align: right;\">\n",
       "      <th></th>\n",
       "      <th>id</th>\n",
       "      <th>message_date</th>\n",
       "      <th>user_id</th>\n",
       "    </tr>\n",
       "  </thead>\n",
       "  <tbody>\n",
       "    <tr>\n",
       "      <th>0</th>\n",
       "      <td>1000_0</td>\n",
       "      <td>2018-06-27</td>\n",
       "      <td>1000</td>\n",
       "    </tr>\n",
       "    <tr>\n",
       "      <th>1</th>\n",
       "      <td>1000_1</td>\n",
       "      <td>2018-10-08</td>\n",
       "      <td>1000</td>\n",
       "    </tr>\n",
       "    <tr>\n",
       "      <th>2</th>\n",
       "      <td>1000_2</td>\n",
       "      <td>2018-08-04</td>\n",
       "      <td>1000</td>\n",
       "    </tr>\n",
       "    <tr>\n",
       "      <th>3</th>\n",
       "      <td>1000_3</td>\n",
       "      <td>2018-06-16</td>\n",
       "      <td>1000</td>\n",
       "    </tr>\n",
       "    <tr>\n",
       "      <th>4</th>\n",
       "      <td>1000_4</td>\n",
       "      <td>2018-12-05</td>\n",
       "      <td>1000</td>\n",
       "    </tr>\n",
       "    <tr>\n",
       "      <th>5</th>\n",
       "      <td>1000_5</td>\n",
       "      <td>2018-06-20</td>\n",
       "      <td>1000</td>\n",
       "    </tr>\n",
       "    <tr>\n",
       "      <th>6</th>\n",
       "      <td>1000_6</td>\n",
       "      <td>2018-11-19</td>\n",
       "      <td>1000</td>\n",
       "    </tr>\n",
       "    <tr>\n",
       "      <th>7</th>\n",
       "      <td>1000_7</td>\n",
       "      <td>2018-10-29</td>\n",
       "      <td>1000</td>\n",
       "    </tr>\n",
       "    <tr>\n",
       "      <th>8</th>\n",
       "      <td>1000_8</td>\n",
       "      <td>2018-06-25</td>\n",
       "      <td>1000</td>\n",
       "    </tr>\n",
       "    <tr>\n",
       "      <th>9</th>\n",
       "      <td>1000_9</td>\n",
       "      <td>2018-12-18</td>\n",
       "      <td>1000</td>\n",
       "    </tr>\n",
       "  </tbody>\n",
       "</table>\n",
       "</div>"
      ],
      "text/plain": [
       "       id message_date  user_id\n",
       "0  1000_0   2018-06-27     1000\n",
       "1  1000_1   2018-10-08     1000\n",
       "2  1000_2   2018-08-04     1000\n",
       "3  1000_3   2018-06-16     1000\n",
       "4  1000_4   2018-12-05     1000\n",
       "5  1000_5   2018-06-20     1000\n",
       "6  1000_6   2018-11-19     1000\n",
       "7  1000_7   2018-10-29     1000\n",
       "8  1000_8   2018-06-25     1000\n",
       "9  1000_9   2018-12-18     1000"
      ]
     },
     "metadata": {},
     "output_type": "display_data"
    }
   ],
   "source": [
    "display(messages.head(10))"
   ]
  },
  {
   "cell_type": "markdown",
   "metadata": {},
   "source": [
    "<b>Вывод:</b> здесь можно заметить, что дата записана в неверном формате."
   ]
  },
  {
   "cell_type": "code",
   "execution_count": 11,
   "metadata": {},
   "outputs": [
    {
     "name": "stdout",
     "output_type": "stream",
     "text": [
      "<class 'pandas.core.frame.DataFrame'>\n",
      "RangeIndex: 2 entries, 0 to 1\n",
      "Data columns (total 8 columns):\n",
      " #   Column                 Non-Null Count  Dtype \n",
      "---  ------                 --------------  ----- \n",
      " 0   messages_included      2 non-null      int64 \n",
      " 1   mb_per_month_included  2 non-null      int64 \n",
      " 2   minutes_included       2 non-null      int64 \n",
      " 3   rub_monthly_fee        2 non-null      int64 \n",
      " 4   rub_per_gb             2 non-null      int64 \n",
      " 5   rub_per_message        2 non-null      int64 \n",
      " 6   rub_per_minute         2 non-null      int64 \n",
      " 7   tariff_name            2 non-null      object\n",
      "dtypes: int64(7), object(1)\n",
      "memory usage: 256.0+ bytes\n",
      "None\n"
     ]
    }
   ],
   "source": [
    "tariffs = pd.read_csv('tariffs.csv')\n",
    "print(tariffs.info())"
   ]
  },
  {
   "cell_type": "code",
   "execution_count": 12,
   "metadata": {},
   "outputs": [
    {
     "data": {
      "text/html": [
       "<div>\n",
       "<style scoped>\n",
       "    .dataframe tbody tr th:only-of-type {\n",
       "        vertical-align: middle;\n",
       "    }\n",
       "\n",
       "    .dataframe tbody tr th {\n",
       "        vertical-align: top;\n",
       "    }\n",
       "\n",
       "    .dataframe thead th {\n",
       "        text-align: right;\n",
       "    }\n",
       "</style>\n",
       "<table border=\"1\" class=\"dataframe\">\n",
       "  <thead>\n",
       "    <tr style=\"text-align: right;\">\n",
       "      <th></th>\n",
       "      <th>messages_included</th>\n",
       "      <th>mb_per_month_included</th>\n",
       "      <th>minutes_included</th>\n",
       "      <th>rub_monthly_fee</th>\n",
       "      <th>rub_per_gb</th>\n",
       "      <th>rub_per_message</th>\n",
       "      <th>rub_per_minute</th>\n",
       "      <th>tariff_name</th>\n",
       "    </tr>\n",
       "  </thead>\n",
       "  <tbody>\n",
       "    <tr>\n",
       "      <th>0</th>\n",
       "      <td>50</td>\n",
       "      <td>15360</td>\n",
       "      <td>500</td>\n",
       "      <td>550</td>\n",
       "      <td>200</td>\n",
       "      <td>3</td>\n",
       "      <td>3</td>\n",
       "      <td>smart</td>\n",
       "    </tr>\n",
       "    <tr>\n",
       "      <th>1</th>\n",
       "      <td>1000</td>\n",
       "      <td>30720</td>\n",
       "      <td>3000</td>\n",
       "      <td>1950</td>\n",
       "      <td>150</td>\n",
       "      <td>1</td>\n",
       "      <td>1</td>\n",
       "      <td>ultra</td>\n",
       "    </tr>\n",
       "  </tbody>\n",
       "</table>\n",
       "</div>"
      ],
      "text/plain": [
       "   messages_included  mb_per_month_included  minutes_included  \\\n",
       "0                 50                  15360               500   \n",
       "1               1000                  30720              3000   \n",
       "\n",
       "   rub_monthly_fee  rub_per_gb  rub_per_message  rub_per_minute tariff_name  \n",
       "0              550         200                3               3       smart  \n",
       "1             1950         150                1               1       ultra  "
      ]
     },
     "metadata": {},
     "output_type": "display_data"
    }
   ],
   "source": [
    "display(tariffs)"
   ]
  },
  {
   "cell_type": "code",
   "execution_count": 13,
   "metadata": {},
   "outputs": [
    {
     "name": "stdout",
     "output_type": "stream",
     "text": [
      "<class 'pandas.core.frame.DataFrame'>\n",
      "RangeIndex: 500 entries, 0 to 499\n",
      "Data columns (total 8 columns):\n",
      " #   Column      Non-Null Count  Dtype \n",
      "---  ------      --------------  ----- \n",
      " 0   user_id     500 non-null    int64 \n",
      " 1   age         500 non-null    int64 \n",
      " 2   churn_date  38 non-null     object\n",
      " 3   city        500 non-null    object\n",
      " 4   first_name  500 non-null    object\n",
      " 5   last_name   500 non-null    object\n",
      " 6   reg_date    500 non-null    object\n",
      " 7   tariff      500 non-null    object\n",
      "dtypes: int64(2), object(6)\n",
      "memory usage: 31.4+ KB\n",
      "None\n"
     ]
    }
   ],
   "source": [
    "users = pd.read_csv('users.csv')\n",
    "print(users.info())"
   ]
  },
  {
   "cell_type": "code",
   "execution_count": 14,
   "metadata": {},
   "outputs": [
    {
     "data": {
      "text/html": [
       "<div>\n",
       "<style scoped>\n",
       "    .dataframe tbody tr th:only-of-type {\n",
       "        vertical-align: middle;\n",
       "    }\n",
       "\n",
       "    .dataframe tbody tr th {\n",
       "        vertical-align: top;\n",
       "    }\n",
       "\n",
       "    .dataframe thead th {\n",
       "        text-align: right;\n",
       "    }\n",
       "</style>\n",
       "<table border=\"1\" class=\"dataframe\">\n",
       "  <thead>\n",
       "    <tr style=\"text-align: right;\">\n",
       "      <th></th>\n",
       "      <th>user_id</th>\n",
       "      <th>age</th>\n",
       "      <th>churn_date</th>\n",
       "      <th>city</th>\n",
       "      <th>first_name</th>\n",
       "      <th>last_name</th>\n",
       "      <th>reg_date</th>\n",
       "      <th>tariff</th>\n",
       "    </tr>\n",
       "  </thead>\n",
       "  <tbody>\n",
       "    <tr>\n",
       "      <th>0</th>\n",
       "      <td>1000</td>\n",
       "      <td>52</td>\n",
       "      <td>NaN</td>\n",
       "      <td>Краснодар</td>\n",
       "      <td>Рафаил</td>\n",
       "      <td>Верещагин</td>\n",
       "      <td>2018-05-25</td>\n",
       "      <td>ultra</td>\n",
       "    </tr>\n",
       "    <tr>\n",
       "      <th>1</th>\n",
       "      <td>1001</td>\n",
       "      <td>41</td>\n",
       "      <td>NaN</td>\n",
       "      <td>Москва</td>\n",
       "      <td>Иван</td>\n",
       "      <td>Ежов</td>\n",
       "      <td>2018-11-01</td>\n",
       "      <td>smart</td>\n",
       "    </tr>\n",
       "    <tr>\n",
       "      <th>2</th>\n",
       "      <td>1002</td>\n",
       "      <td>59</td>\n",
       "      <td>NaN</td>\n",
       "      <td>Стерлитамак</td>\n",
       "      <td>Евгений</td>\n",
       "      <td>Абрамович</td>\n",
       "      <td>2018-06-17</td>\n",
       "      <td>smart</td>\n",
       "    </tr>\n",
       "    <tr>\n",
       "      <th>3</th>\n",
       "      <td>1003</td>\n",
       "      <td>23</td>\n",
       "      <td>NaN</td>\n",
       "      <td>Москва</td>\n",
       "      <td>Белла</td>\n",
       "      <td>Белякова</td>\n",
       "      <td>2018-08-17</td>\n",
       "      <td>ultra</td>\n",
       "    </tr>\n",
       "    <tr>\n",
       "      <th>4</th>\n",
       "      <td>1004</td>\n",
       "      <td>68</td>\n",
       "      <td>NaN</td>\n",
       "      <td>Новокузнецк</td>\n",
       "      <td>Татьяна</td>\n",
       "      <td>Авдеенко</td>\n",
       "      <td>2018-05-14</td>\n",
       "      <td>ultra</td>\n",
       "    </tr>\n",
       "    <tr>\n",
       "      <th>5</th>\n",
       "      <td>1005</td>\n",
       "      <td>67</td>\n",
       "      <td>NaN</td>\n",
       "      <td>Набережные Челны</td>\n",
       "      <td>Афанасий</td>\n",
       "      <td>Горлов</td>\n",
       "      <td>2018-01-25</td>\n",
       "      <td>smart</td>\n",
       "    </tr>\n",
       "    <tr>\n",
       "      <th>6</th>\n",
       "      <td>1006</td>\n",
       "      <td>21</td>\n",
       "      <td>NaN</td>\n",
       "      <td>Ульяновск</td>\n",
       "      <td>Леонид</td>\n",
       "      <td>Ермолаев</td>\n",
       "      <td>2018-02-26</td>\n",
       "      <td>smart</td>\n",
       "    </tr>\n",
       "    <tr>\n",
       "      <th>7</th>\n",
       "      <td>1007</td>\n",
       "      <td>65</td>\n",
       "      <td>NaN</td>\n",
       "      <td>Москва</td>\n",
       "      <td>Юна</td>\n",
       "      <td>Березина</td>\n",
       "      <td>2018-04-19</td>\n",
       "      <td>smart</td>\n",
       "    </tr>\n",
       "    <tr>\n",
       "      <th>8</th>\n",
       "      <td>1008</td>\n",
       "      <td>63</td>\n",
       "      <td>NaN</td>\n",
       "      <td>Челябинск</td>\n",
       "      <td>Рустэм</td>\n",
       "      <td>Пономарёв</td>\n",
       "      <td>2018-12-19</td>\n",
       "      <td>smart</td>\n",
       "    </tr>\n",
       "    <tr>\n",
       "      <th>9</th>\n",
       "      <td>1009</td>\n",
       "      <td>24</td>\n",
       "      <td>NaN</td>\n",
       "      <td>Пермь</td>\n",
       "      <td>Василиса</td>\n",
       "      <td>Блинова</td>\n",
       "      <td>2018-03-22</td>\n",
       "      <td>smart</td>\n",
       "    </tr>\n",
       "  </tbody>\n",
       "</table>\n",
       "</div>"
      ],
      "text/plain": [
       "   user_id  age churn_date              city first_name  last_name  \\\n",
       "0     1000   52        NaN         Краснодар     Рафаил  Верещагин   \n",
       "1     1001   41        NaN            Москва       Иван       Ежов   \n",
       "2     1002   59        NaN       Стерлитамак    Евгений  Абрамович   \n",
       "3     1003   23        NaN            Москва      Белла   Белякова   \n",
       "4     1004   68        NaN       Новокузнецк    Татьяна   Авдеенко   \n",
       "5     1005   67        NaN  Набережные Челны   Афанасий     Горлов   \n",
       "6     1006   21        NaN         Ульяновск     Леонид   Ермолаев   \n",
       "7     1007   65        NaN            Москва        Юна   Березина   \n",
       "8     1008   63        NaN         Челябинск     Рустэм  Пономарёв   \n",
       "9     1009   24        NaN             Пермь   Василиса    Блинова   \n",
       "\n",
       "     reg_date tariff  \n",
       "0  2018-05-25  ultra  \n",
       "1  2018-11-01  smart  \n",
       "2  2018-06-17  smart  \n",
       "3  2018-08-17  ultra  \n",
       "4  2018-05-14  ultra  \n",
       "5  2018-01-25  smart  \n",
       "6  2018-02-26  smart  \n",
       "7  2018-04-19  smart  \n",
       "8  2018-12-19  smart  \n",
       "9  2018-03-22  smart  "
      ]
     },
     "metadata": {},
     "output_type": "display_data"
    }
   ],
   "source": [
    "display(users.head(10))"
   ]
  },
  {
   "cell_type": "markdown",
   "metadata": {},
   "source": [
    "<b>Вывод:</b> в данном датафрейме уже присутствуют нулевые значения,но здесь они оправданы, так как данные пользователи продолжают пользоваться тарифом, а также не везде правильный тип данных в столбце."
   ]
  },
  {
   "cell_type": "markdown",
   "metadata": {},
   "source": [
    "# Подготовка данных"
   ]
  },
  {
   "cell_type": "markdown",
   "metadata": {},
   "source": [
    "## Приведение данных к нужным типам"
   ]
  },
  {
   "cell_type": "markdown",
   "metadata": {},
   "source": [
    "Рассмотрим таблицу calls. Здесь следует изменить тип данных в столбце call_date на дату."
   ]
  },
  {
   "cell_type": "code",
   "execution_count": 15,
   "metadata": {},
   "outputs": [
    {
     "name": "stdout",
     "output_type": "stream",
     "text": [
      "<class 'pandas.core.frame.DataFrame'>\n",
      "RangeIndex: 202607 entries, 0 to 202606\n",
      "Data columns (total 4 columns):\n",
      " #   Column     Non-Null Count   Dtype         \n",
      "---  ------     --------------   -----         \n",
      " 0   id         202607 non-null  object        \n",
      " 1   call_date  202607 non-null  datetime64[ns]\n",
      " 2   duration   202607 non-null  float64       \n",
      " 3   user_id    202607 non-null  int64         \n",
      "dtypes: datetime64[ns](1), float64(1), int64(1), object(1)\n",
      "memory usage: 6.2+ MB\n"
     ]
    },
    {
     "data": {
      "text/plain": [
       "None"
      ]
     },
     "metadata": {},
     "output_type": "display_data"
    }
   ],
   "source": [
    "calls['call_date'] = pd.to_datetime(calls['call_date'], format = '%Y-%m-%d')\n",
    "display(calls.info())"
   ]
  },
  {
   "cell_type": "markdown",
   "metadata": {},
   "source": [
    "Рассмотрим таблицу internet. Здесь также следует заменить тип значений в столбце session_date на дату"
   ]
  },
  {
   "cell_type": "code",
   "execution_count": 16,
   "metadata": {},
   "outputs": [
    {
     "name": "stdout",
     "output_type": "stream",
     "text": [
      "<class 'pandas.core.frame.DataFrame'>\n",
      "RangeIndex: 149396 entries, 0 to 149395\n",
      "Data columns (total 4 columns):\n",
      " #   Column        Non-Null Count   Dtype         \n",
      "---  ------        --------------   -----         \n",
      " 0   id            149396 non-null  object        \n",
      " 1   mb_used       149396 non-null  float64       \n",
      " 2   session_date  149396 non-null  datetime64[ns]\n",
      " 3   user_id       149396 non-null  int64         \n",
      "dtypes: datetime64[ns](1), float64(1), int64(1), object(1)\n",
      "memory usage: 4.6+ MB\n"
     ]
    },
    {
     "data": {
      "text/plain": [
       "None"
      ]
     },
     "metadata": {},
     "output_type": "display_data"
    }
   ],
   "source": [
    "internet['session_date'] = pd.to_datetime(internet['session_date'], format = '%Y-%m-%d')\n",
    "display(internet.info())"
   ]
  },
  {
   "cell_type": "markdown",
   "metadata": {},
   "source": [
    "Рассмотрим таблицу messages. Здесь также заменяем дату."
   ]
  },
  {
   "cell_type": "code",
   "execution_count": 17,
   "metadata": {},
   "outputs": [
    {
     "name": "stdout",
     "output_type": "stream",
     "text": [
      "<class 'pandas.core.frame.DataFrame'>\n",
      "RangeIndex: 123036 entries, 0 to 123035\n",
      "Data columns (total 3 columns):\n",
      " #   Column        Non-Null Count   Dtype         \n",
      "---  ------        --------------   -----         \n",
      " 0   id            123036 non-null  object        \n",
      " 1   message_date  123036 non-null  datetime64[ns]\n",
      " 2   user_id       123036 non-null  int64         \n",
      "dtypes: datetime64[ns](1), int64(1), object(1)\n",
      "memory usage: 2.8+ MB\n"
     ]
    },
    {
     "data": {
      "text/plain": [
       "None"
      ]
     },
     "metadata": {},
     "output_type": "display_data"
    }
   ],
   "source": [
    "messages['message_date'] = pd.to_datetime(messages['message_date'], format = '%Y-%m-%d')\n",
    "display(messages.info())"
   ]
  },
  {
   "cell_type": "markdown",
   "metadata": {},
   "source": [
    "Рассмотрим таблицу users. Заменим тип данных в столбце с датой."
   ]
  },
  {
   "cell_type": "code",
   "execution_count": 18,
   "metadata": {},
   "outputs": [
    {
     "name": "stdout",
     "output_type": "stream",
     "text": [
      "<class 'pandas.core.frame.DataFrame'>\n",
      "RangeIndex: 500 entries, 0 to 499\n",
      "Data columns (total 8 columns):\n",
      " #   Column      Non-Null Count  Dtype         \n",
      "---  ------      --------------  -----         \n",
      " 0   user_id     500 non-null    int64         \n",
      " 1   age         500 non-null    int64         \n",
      " 2   churn_date  38 non-null     object        \n",
      " 3   city        500 non-null    object        \n",
      " 4   first_name  500 non-null    object        \n",
      " 5   last_name   500 non-null    object        \n",
      " 6   reg_date    500 non-null    datetime64[ns]\n",
      " 7   tariff      500 non-null    object        \n",
      "dtypes: datetime64[ns](1), int64(2), object(5)\n",
      "memory usage: 31.4+ KB\n",
      "None\n"
     ]
    }
   ],
   "source": [
    "users['reg_date'] = pd.to_datetime(users['reg_date'], format = '%Y-%m-%d')\n",
    "print(users.info())"
   ]
  },
  {
   "cell_type": "markdown",
   "metadata": {},
   "source": [
    "## Расчет данных для каждого пользователя"
   ]
  },
  {
   "cell_type": "markdown",
   "metadata": {},
   "source": [
    "### Количество сделанных звонков и израсходованных минут разговора по месяцам"
   ]
  },
  {
   "cell_type": "code",
   "execution_count": 19,
   "metadata": {},
   "outputs": [
    {
     "data": {
      "text/html": [
       "<div>\n",
       "<style scoped>\n",
       "    .dataframe tbody tr th:only-of-type {\n",
       "        vertical-align: middle;\n",
       "    }\n",
       "\n",
       "    .dataframe tbody tr th {\n",
       "        vertical-align: top;\n",
       "    }\n",
       "\n",
       "    .dataframe thead th {\n",
       "        text-align: right;\n",
       "    }\n",
       "</style>\n",
       "<table border=\"1\" class=\"dataframe\">\n",
       "  <thead>\n",
       "    <tr style=\"text-align: right;\">\n",
       "      <th></th>\n",
       "      <th>user_id</th>\n",
       "      <th>month</th>\n",
       "      <th>count_of_calls</th>\n",
       "    </tr>\n",
       "  </thead>\n",
       "  <tbody>\n",
       "    <tr>\n",
       "      <th>0</th>\n",
       "      <td>1000</td>\n",
       "      <td>2018-05-01</td>\n",
       "      <td>22</td>\n",
       "    </tr>\n",
       "    <tr>\n",
       "      <th>1</th>\n",
       "      <td>1000</td>\n",
       "      <td>2018-06-01</td>\n",
       "      <td>43</td>\n",
       "    </tr>\n",
       "    <tr>\n",
       "      <th>2</th>\n",
       "      <td>1000</td>\n",
       "      <td>2018-07-01</td>\n",
       "      <td>47</td>\n",
       "    </tr>\n",
       "    <tr>\n",
       "      <th>3</th>\n",
       "      <td>1000</td>\n",
       "      <td>2018-08-01</td>\n",
       "      <td>52</td>\n",
       "    </tr>\n",
       "    <tr>\n",
       "      <th>4</th>\n",
       "      <td>1000</td>\n",
       "      <td>2018-09-01</td>\n",
       "      <td>58</td>\n",
       "    </tr>\n",
       "    <tr>\n",
       "      <th>5</th>\n",
       "      <td>1000</td>\n",
       "      <td>2018-10-01</td>\n",
       "      <td>57</td>\n",
       "    </tr>\n",
       "    <tr>\n",
       "      <th>6</th>\n",
       "      <td>1000</td>\n",
       "      <td>2018-11-01</td>\n",
       "      <td>43</td>\n",
       "    </tr>\n",
       "    <tr>\n",
       "      <th>7</th>\n",
       "      <td>1000</td>\n",
       "      <td>2018-12-01</td>\n",
       "      <td>46</td>\n",
       "    </tr>\n",
       "    <tr>\n",
       "      <th>8</th>\n",
       "      <td>1001</td>\n",
       "      <td>2018-11-01</td>\n",
       "      <td>59</td>\n",
       "    </tr>\n",
       "    <tr>\n",
       "      <th>9</th>\n",
       "      <td>1001</td>\n",
       "      <td>2018-12-01</td>\n",
       "      <td>63</td>\n",
       "    </tr>\n",
       "  </tbody>\n",
       "</table>\n",
       "</div>"
      ],
      "text/plain": [
       "   user_id      month  count_of_calls\n",
       "0     1000 2018-05-01              22\n",
       "1     1000 2018-06-01              43\n",
       "2     1000 2018-07-01              47\n",
       "3     1000 2018-08-01              52\n",
       "4     1000 2018-09-01              58\n",
       "5     1000 2018-10-01              57\n",
       "6     1000 2018-11-01              43\n",
       "7     1000 2018-12-01              46\n",
       "8     1001 2018-11-01              59\n",
       "9     1001 2018-12-01              63"
      ]
     },
     "metadata": {},
     "output_type": "display_data"
    },
    {
     "data": {
      "text/html": [
       "<div>\n",
       "<style scoped>\n",
       "    .dataframe tbody tr th:only-of-type {\n",
       "        vertical-align: middle;\n",
       "    }\n",
       "\n",
       "    .dataframe tbody tr th {\n",
       "        vertical-align: top;\n",
       "    }\n",
       "\n",
       "    .dataframe thead th {\n",
       "        text-align: right;\n",
       "    }\n",
       "</style>\n",
       "<table border=\"1\" class=\"dataframe\">\n",
       "  <thead>\n",
       "    <tr style=\"text-align: right;\">\n",
       "      <th></th>\n",
       "      <th>user_id</th>\n",
       "      <th>month</th>\n",
       "      <th>minutes</th>\n",
       "    </tr>\n",
       "  </thead>\n",
       "  <tbody>\n",
       "    <tr>\n",
       "      <th>0</th>\n",
       "      <td>1000</td>\n",
       "      <td>2018-05-01</td>\n",
       "      <td>159</td>\n",
       "    </tr>\n",
       "    <tr>\n",
       "      <th>1</th>\n",
       "      <td>1000</td>\n",
       "      <td>2018-06-01</td>\n",
       "      <td>172</td>\n",
       "    </tr>\n",
       "    <tr>\n",
       "      <th>2</th>\n",
       "      <td>1000</td>\n",
       "      <td>2018-07-01</td>\n",
       "      <td>340</td>\n",
       "    </tr>\n",
       "    <tr>\n",
       "      <th>3</th>\n",
       "      <td>1000</td>\n",
       "      <td>2018-08-01</td>\n",
       "      <td>408</td>\n",
       "    </tr>\n",
       "    <tr>\n",
       "      <th>4</th>\n",
       "      <td>1000</td>\n",
       "      <td>2018-09-01</td>\n",
       "      <td>466</td>\n",
       "    </tr>\n",
       "    <tr>\n",
       "      <th>5</th>\n",
       "      <td>1000</td>\n",
       "      <td>2018-10-01</td>\n",
       "      <td>350</td>\n",
       "    </tr>\n",
       "    <tr>\n",
       "      <th>6</th>\n",
       "      <td>1000</td>\n",
       "      <td>2018-11-01</td>\n",
       "      <td>338</td>\n",
       "    </tr>\n",
       "    <tr>\n",
       "      <th>7</th>\n",
       "      <td>1000</td>\n",
       "      <td>2018-12-01</td>\n",
       "      <td>333</td>\n",
       "    </tr>\n",
       "    <tr>\n",
       "      <th>8</th>\n",
       "      <td>1001</td>\n",
       "      <td>2018-11-01</td>\n",
       "      <td>430</td>\n",
       "    </tr>\n",
       "    <tr>\n",
       "      <th>9</th>\n",
       "      <td>1001</td>\n",
       "      <td>2018-12-01</td>\n",
       "      <td>414</td>\n",
       "    </tr>\n",
       "  </tbody>\n",
       "</table>\n",
       "</div>"
      ],
      "text/plain": [
       "   user_id      month  minutes\n",
       "0     1000 2018-05-01      159\n",
       "1     1000 2018-06-01      172\n",
       "2     1000 2018-07-01      340\n",
       "3     1000 2018-08-01      408\n",
       "4     1000 2018-09-01      466\n",
       "5     1000 2018-10-01      350\n",
       "6     1000 2018-11-01      338\n",
       "7     1000 2018-12-01      333\n",
       "8     1001 2018-11-01      430\n",
       "9     1001 2018-12-01      414"
      ]
     },
     "metadata": {},
     "output_type": "display_data"
    }
   ],
   "source": [
    "calls_count = calls.pivot_table(index = ['user_id', calls['call_date'].to_numpy().astype('datetime64[M]')], values = 'id', aggfunc = 'count').reset_index()\n",
    "calls_count.columns = ['user_id','month', 'count_of_calls']\n",
    "\n",
    "calls['duration'] = np.ceil(calls['duration'])\n",
    "calls_duration_sum = calls.pivot_table(index = ['user_id',calls['call_date'].to_numpy().astype('datetime64[M]')], values = 'duration', aggfunc = 'sum').reset_index()\n",
    "calls_duration_sum.columns = ['user_id','month', 'minutes']\n",
    "calls_duration_sum['minutes'] = calls_duration_sum['minutes'].astype('int')\n",
    "\n",
    "display(calls_count.head(10))\n",
    "display(calls_duration_sum.head(10))"
   ]
  },
  {
   "cell_type": "markdown",
   "metadata": {},
   "source": [
    "### Количество отправленных сообщений по месяцам"
   ]
  },
  {
   "cell_type": "code",
   "execution_count": 20,
   "metadata": {},
   "outputs": [
    {
     "data": {
      "text/html": [
       "<div>\n",
       "<style scoped>\n",
       "    .dataframe tbody tr th:only-of-type {\n",
       "        vertical-align: middle;\n",
       "    }\n",
       "\n",
       "    .dataframe tbody tr th {\n",
       "        vertical-align: top;\n",
       "    }\n",
       "\n",
       "    .dataframe thead th {\n",
       "        text-align: right;\n",
       "    }\n",
       "</style>\n",
       "<table border=\"1\" class=\"dataframe\">\n",
       "  <thead>\n",
       "    <tr style=\"text-align: right;\">\n",
       "      <th></th>\n",
       "      <th>user_id</th>\n",
       "      <th>month</th>\n",
       "      <th>count_of_messages</th>\n",
       "    </tr>\n",
       "  </thead>\n",
       "  <tbody>\n",
       "    <tr>\n",
       "      <th>0</th>\n",
       "      <td>1000</td>\n",
       "      <td>2018-05-01</td>\n",
       "      <td>22</td>\n",
       "    </tr>\n",
       "    <tr>\n",
       "      <th>1</th>\n",
       "      <td>1000</td>\n",
       "      <td>2018-06-01</td>\n",
       "      <td>60</td>\n",
       "    </tr>\n",
       "    <tr>\n",
       "      <th>2</th>\n",
       "      <td>1000</td>\n",
       "      <td>2018-07-01</td>\n",
       "      <td>75</td>\n",
       "    </tr>\n",
       "    <tr>\n",
       "      <th>3</th>\n",
       "      <td>1000</td>\n",
       "      <td>2018-08-01</td>\n",
       "      <td>81</td>\n",
       "    </tr>\n",
       "    <tr>\n",
       "      <th>4</th>\n",
       "      <td>1000</td>\n",
       "      <td>2018-09-01</td>\n",
       "      <td>57</td>\n",
       "    </tr>\n",
       "    <tr>\n",
       "      <th>5</th>\n",
       "      <td>1000</td>\n",
       "      <td>2018-10-01</td>\n",
       "      <td>73</td>\n",
       "    </tr>\n",
       "    <tr>\n",
       "      <th>6</th>\n",
       "      <td>1000</td>\n",
       "      <td>2018-11-01</td>\n",
       "      <td>58</td>\n",
       "    </tr>\n",
       "    <tr>\n",
       "      <th>7</th>\n",
       "      <td>1000</td>\n",
       "      <td>2018-12-01</td>\n",
       "      <td>70</td>\n",
       "    </tr>\n",
       "    <tr>\n",
       "      <th>8</th>\n",
       "      <td>1002</td>\n",
       "      <td>2018-06-01</td>\n",
       "      <td>4</td>\n",
       "    </tr>\n",
       "    <tr>\n",
       "      <th>9</th>\n",
       "      <td>1002</td>\n",
       "      <td>2018-07-01</td>\n",
       "      <td>11</td>\n",
       "    </tr>\n",
       "  </tbody>\n",
       "</table>\n",
       "</div>"
      ],
      "text/plain": [
       "   user_id      month  count_of_messages\n",
       "0     1000 2018-05-01                 22\n",
       "1     1000 2018-06-01                 60\n",
       "2     1000 2018-07-01                 75\n",
       "3     1000 2018-08-01                 81\n",
       "4     1000 2018-09-01                 57\n",
       "5     1000 2018-10-01                 73\n",
       "6     1000 2018-11-01                 58\n",
       "7     1000 2018-12-01                 70\n",
       "8     1002 2018-06-01                  4\n",
       "9     1002 2018-07-01                 11"
      ]
     },
     "metadata": {},
     "output_type": "display_data"
    }
   ],
   "source": [
    "messages_count = messages.pivot_table(index = ['user_id', messages['message_date'].to_numpy().astype('datetime64[M]')], values = 'id', aggfunc = 'count').reset_index()\n",
    "messages_count.columns = ['user_id', 'month', 'count_of_messages']\n",
    "display(messages_count.head(10))"
   ]
  },
  {
   "cell_type": "markdown",
   "metadata": {},
   "source": [
    "### Объем израсходованного интернет-трафика по месяцам"
   ]
  },
  {
   "cell_type": "code",
   "execution_count": 21,
   "metadata": {},
   "outputs": [
    {
     "data": {
      "text/html": [
       "<div>\n",
       "<style scoped>\n",
       "    .dataframe tbody tr th:only-of-type {\n",
       "        vertical-align: middle;\n",
       "    }\n",
       "\n",
       "    .dataframe tbody tr th {\n",
       "        vertical-align: top;\n",
       "    }\n",
       "\n",
       "    .dataframe thead th {\n",
       "        text-align: right;\n",
       "    }\n",
       "</style>\n",
       "<table border=\"1\" class=\"dataframe\">\n",
       "  <thead>\n",
       "    <tr style=\"text-align: right;\">\n",
       "      <th></th>\n",
       "      <th>user_id</th>\n",
       "      <th>month</th>\n",
       "      <th>gb_used</th>\n",
       "    </tr>\n",
       "  </thead>\n",
       "  <tbody>\n",
       "    <tr>\n",
       "      <th>0</th>\n",
       "      <td>1000</td>\n",
       "      <td>2018-05-01</td>\n",
       "      <td>3</td>\n",
       "    </tr>\n",
       "    <tr>\n",
       "      <th>1</th>\n",
       "      <td>1000</td>\n",
       "      <td>2018-06-01</td>\n",
       "      <td>23</td>\n",
       "    </tr>\n",
       "    <tr>\n",
       "      <th>2</th>\n",
       "      <td>1000</td>\n",
       "      <td>2018-07-01</td>\n",
       "      <td>14</td>\n",
       "    </tr>\n",
       "    <tr>\n",
       "      <th>3</th>\n",
       "      <td>1000</td>\n",
       "      <td>2018-08-01</td>\n",
       "      <td>14</td>\n",
       "    </tr>\n",
       "    <tr>\n",
       "      <th>4</th>\n",
       "      <td>1000</td>\n",
       "      <td>2018-09-01</td>\n",
       "      <td>15</td>\n",
       "    </tr>\n",
       "    <tr>\n",
       "      <th>5</th>\n",
       "      <td>1000</td>\n",
       "      <td>2018-10-01</td>\n",
       "      <td>15</td>\n",
       "    </tr>\n",
       "    <tr>\n",
       "      <th>6</th>\n",
       "      <td>1000</td>\n",
       "      <td>2018-11-01</td>\n",
       "      <td>15</td>\n",
       "    </tr>\n",
       "    <tr>\n",
       "      <th>7</th>\n",
       "      <td>1000</td>\n",
       "      <td>2018-12-01</td>\n",
       "      <td>10</td>\n",
       "    </tr>\n",
       "    <tr>\n",
       "      <th>8</th>\n",
       "      <td>1001</td>\n",
       "      <td>2018-11-01</td>\n",
       "      <td>18</td>\n",
       "    </tr>\n",
       "    <tr>\n",
       "      <th>9</th>\n",
       "      <td>1001</td>\n",
       "      <td>2018-12-01</td>\n",
       "      <td>14</td>\n",
       "    </tr>\n",
       "  </tbody>\n",
       "</table>\n",
       "</div>"
      ],
      "text/plain": [
       "   user_id      month  gb_used\n",
       "0     1000 2018-05-01        3\n",
       "1     1000 2018-06-01       23\n",
       "2     1000 2018-07-01       14\n",
       "3     1000 2018-08-01       14\n",
       "4     1000 2018-09-01       15\n",
       "5     1000 2018-10-01       15\n",
       "6     1000 2018-11-01       15\n",
       "7     1000 2018-12-01       10\n",
       "8     1001 2018-11-01       18\n",
       "9     1001 2018-12-01       14"
      ]
     },
     "metadata": {},
     "output_type": "display_data"
    }
   ],
   "source": [
    "internet_used_in_month = internet.pivot_table(index = ['user_id',internet['session_date'].to_numpy().astype('datetime64[M]')], values = 'mb_used', aggfunc = 'sum').reset_index()\n",
    "internet_used_in_month.columns = ['user_id','month', 'mb_used']\n",
    "internet_used_in_month['mb_used'] = (internet_used_in_month['mb_used']  / 1024).apply(np.ceil)\n",
    "internet_used_in_month.columns = ['user_id','month', 'gb_used']\n",
    "internet_used_in_month['gb_used'] = internet_used_in_month['gb_used'].astype('int') \n",
    "\n",
    "display(internet_used_in_month.head(10))"
   ]
  },
  {
   "cell_type": "markdown",
   "metadata": {},
   "source": [
    "<b>Вывод:</b> можно заметить, что не по всем месяцам есть данные или не во все месяца были совершены звонки, отправлены сообщения или потрачены мегабайты интернета."
   ]
  },
  {
   "cell_type": "markdown",
   "metadata": {},
   "source": [
    "### Помесячная выручка с каждого пользователя"
   ]
  },
  {
   "cell_type": "code",
   "execution_count": 22,
   "metadata": {},
   "outputs": [
    {
     "data": {
      "text/html": [
       "<div>\n",
       "<style scoped>\n",
       "    .dataframe tbody tr th:only-of-type {\n",
       "        vertical-align: middle;\n",
       "    }\n",
       "\n",
       "    .dataframe tbody tr th {\n",
       "        vertical-align: top;\n",
       "    }\n",
       "\n",
       "    .dataframe thead th {\n",
       "        text-align: right;\n",
       "    }\n",
       "</style>\n",
       "<table border=\"1\" class=\"dataframe\">\n",
       "  <thead>\n",
       "    <tr style=\"text-align: right;\">\n",
       "      <th></th>\n",
       "      <th>user_id</th>\n",
       "      <th>month</th>\n",
       "      <th>count_of_calls</th>\n",
       "      <th>minutes</th>\n",
       "    </tr>\n",
       "  </thead>\n",
       "  <tbody>\n",
       "    <tr>\n",
       "      <th>0</th>\n",
       "      <td>1000</td>\n",
       "      <td>2018-05-01</td>\n",
       "      <td>22</td>\n",
       "      <td>159</td>\n",
       "    </tr>\n",
       "    <tr>\n",
       "      <th>1</th>\n",
       "      <td>1000</td>\n",
       "      <td>2018-06-01</td>\n",
       "      <td>43</td>\n",
       "      <td>172</td>\n",
       "    </tr>\n",
       "    <tr>\n",
       "      <th>2</th>\n",
       "      <td>1000</td>\n",
       "      <td>2018-07-01</td>\n",
       "      <td>47</td>\n",
       "      <td>340</td>\n",
       "    </tr>\n",
       "    <tr>\n",
       "      <th>3</th>\n",
       "      <td>1000</td>\n",
       "      <td>2018-08-01</td>\n",
       "      <td>52</td>\n",
       "      <td>408</td>\n",
       "    </tr>\n",
       "    <tr>\n",
       "      <th>4</th>\n",
       "      <td>1000</td>\n",
       "      <td>2018-09-01</td>\n",
       "      <td>58</td>\n",
       "      <td>466</td>\n",
       "    </tr>\n",
       "    <tr>\n",
       "      <th>5</th>\n",
       "      <td>1000</td>\n",
       "      <td>2018-10-01</td>\n",
       "      <td>57</td>\n",
       "      <td>350</td>\n",
       "    </tr>\n",
       "    <tr>\n",
       "      <th>6</th>\n",
       "      <td>1000</td>\n",
       "      <td>2018-11-01</td>\n",
       "      <td>43</td>\n",
       "      <td>338</td>\n",
       "    </tr>\n",
       "    <tr>\n",
       "      <th>7</th>\n",
       "      <td>1000</td>\n",
       "      <td>2018-12-01</td>\n",
       "      <td>46</td>\n",
       "      <td>333</td>\n",
       "    </tr>\n",
       "    <tr>\n",
       "      <th>8</th>\n",
       "      <td>1001</td>\n",
       "      <td>2018-11-01</td>\n",
       "      <td>59</td>\n",
       "      <td>430</td>\n",
       "    </tr>\n",
       "    <tr>\n",
       "      <th>9</th>\n",
       "      <td>1001</td>\n",
       "      <td>2018-12-01</td>\n",
       "      <td>63</td>\n",
       "      <td>414</td>\n",
       "    </tr>\n",
       "  </tbody>\n",
       "</table>\n",
       "</div>"
      ],
      "text/plain": [
       "   user_id      month  count_of_calls  minutes\n",
       "0     1000 2018-05-01              22      159\n",
       "1     1000 2018-06-01              43      172\n",
       "2     1000 2018-07-01              47      340\n",
       "3     1000 2018-08-01              52      408\n",
       "4     1000 2018-09-01              58      466\n",
       "5     1000 2018-10-01              57      350\n",
       "6     1000 2018-11-01              43      338\n",
       "7     1000 2018-12-01              46      333\n",
       "8     1001 2018-11-01              59      430\n",
       "9     1001 2018-12-01              63      414"
      ]
     },
     "metadata": {},
     "output_type": "display_data"
    }
   ],
   "source": [
    "data = calls_count.merge(calls_duration_sum, on = ['user_id', 'month'], how = 'outer')\n",
    "display(data.head(10))"
   ]
  },
  {
   "cell_type": "code",
   "execution_count": 23,
   "metadata": {},
   "outputs": [
    {
     "data": {
      "text/html": [
       "<div>\n",
       "<style scoped>\n",
       "    .dataframe tbody tr th:only-of-type {\n",
       "        vertical-align: middle;\n",
       "    }\n",
       "\n",
       "    .dataframe tbody tr th {\n",
       "        vertical-align: top;\n",
       "    }\n",
       "\n",
       "    .dataframe thead th {\n",
       "        text-align: right;\n",
       "    }\n",
       "</style>\n",
       "<table border=\"1\" class=\"dataframe\">\n",
       "  <thead>\n",
       "    <tr style=\"text-align: right;\">\n",
       "      <th></th>\n",
       "      <th>user_id</th>\n",
       "      <th>month</th>\n",
       "      <th>count_of_calls</th>\n",
       "      <th>minutes</th>\n",
       "      <th>count_of_messages</th>\n",
       "    </tr>\n",
       "  </thead>\n",
       "  <tbody>\n",
       "    <tr>\n",
       "      <th>0</th>\n",
       "      <td>1000</td>\n",
       "      <td>2018-05-01</td>\n",
       "      <td>22.0</td>\n",
       "      <td>159.0</td>\n",
       "      <td>22.0</td>\n",
       "    </tr>\n",
       "    <tr>\n",
       "      <th>1</th>\n",
       "      <td>1000</td>\n",
       "      <td>2018-06-01</td>\n",
       "      <td>43.0</td>\n",
       "      <td>172.0</td>\n",
       "      <td>60.0</td>\n",
       "    </tr>\n",
       "    <tr>\n",
       "      <th>2</th>\n",
       "      <td>1000</td>\n",
       "      <td>2018-07-01</td>\n",
       "      <td>47.0</td>\n",
       "      <td>340.0</td>\n",
       "      <td>75.0</td>\n",
       "    </tr>\n",
       "    <tr>\n",
       "      <th>3</th>\n",
       "      <td>1000</td>\n",
       "      <td>2018-08-01</td>\n",
       "      <td>52.0</td>\n",
       "      <td>408.0</td>\n",
       "      <td>81.0</td>\n",
       "    </tr>\n",
       "    <tr>\n",
       "      <th>4</th>\n",
       "      <td>1000</td>\n",
       "      <td>2018-09-01</td>\n",
       "      <td>58.0</td>\n",
       "      <td>466.0</td>\n",
       "      <td>57.0</td>\n",
       "    </tr>\n",
       "    <tr>\n",
       "      <th>5</th>\n",
       "      <td>1000</td>\n",
       "      <td>2018-10-01</td>\n",
       "      <td>57.0</td>\n",
       "      <td>350.0</td>\n",
       "      <td>73.0</td>\n",
       "    </tr>\n",
       "    <tr>\n",
       "      <th>6</th>\n",
       "      <td>1000</td>\n",
       "      <td>2018-11-01</td>\n",
       "      <td>43.0</td>\n",
       "      <td>338.0</td>\n",
       "      <td>58.0</td>\n",
       "    </tr>\n",
       "    <tr>\n",
       "      <th>7</th>\n",
       "      <td>1000</td>\n",
       "      <td>2018-12-01</td>\n",
       "      <td>46.0</td>\n",
       "      <td>333.0</td>\n",
       "      <td>70.0</td>\n",
       "    </tr>\n",
       "    <tr>\n",
       "      <th>8</th>\n",
       "      <td>1001</td>\n",
       "      <td>2018-11-01</td>\n",
       "      <td>59.0</td>\n",
       "      <td>430.0</td>\n",
       "      <td>NaN</td>\n",
       "    </tr>\n",
       "    <tr>\n",
       "      <th>9</th>\n",
       "      <td>1001</td>\n",
       "      <td>2018-12-01</td>\n",
       "      <td>63.0</td>\n",
       "      <td>414.0</td>\n",
       "      <td>NaN</td>\n",
       "    </tr>\n",
       "  </tbody>\n",
       "</table>\n",
       "</div>"
      ],
      "text/plain": [
       "   user_id      month  count_of_calls  minutes  count_of_messages\n",
       "0     1000 2018-05-01            22.0    159.0               22.0\n",
       "1     1000 2018-06-01            43.0    172.0               60.0\n",
       "2     1000 2018-07-01            47.0    340.0               75.0\n",
       "3     1000 2018-08-01            52.0    408.0               81.0\n",
       "4     1000 2018-09-01            58.0    466.0               57.0\n",
       "5     1000 2018-10-01            57.0    350.0               73.0\n",
       "6     1000 2018-11-01            43.0    338.0               58.0\n",
       "7     1000 2018-12-01            46.0    333.0               70.0\n",
       "8     1001 2018-11-01            59.0    430.0                NaN\n",
       "9     1001 2018-12-01            63.0    414.0                NaN"
      ]
     },
     "metadata": {},
     "output_type": "display_data"
    }
   ],
   "source": [
    "data = data.merge(messages_count, on = ['user_id', 'month'], how = 'outer')\n",
    "display(data.head(10))"
   ]
  },
  {
   "cell_type": "code",
   "execution_count": 24,
   "metadata": {
    "scrolled": false
   },
   "outputs": [
    {
     "data": {
      "text/html": [
       "<div>\n",
       "<style scoped>\n",
       "    .dataframe tbody tr th:only-of-type {\n",
       "        vertical-align: middle;\n",
       "    }\n",
       "\n",
       "    .dataframe tbody tr th {\n",
       "        vertical-align: top;\n",
       "    }\n",
       "\n",
       "    .dataframe thead th {\n",
       "        text-align: right;\n",
       "    }\n",
       "</style>\n",
       "<table border=\"1\" class=\"dataframe\">\n",
       "  <thead>\n",
       "    <tr style=\"text-align: right;\">\n",
       "      <th></th>\n",
       "      <th>user_id</th>\n",
       "      <th>month</th>\n",
       "      <th>count_of_calls</th>\n",
       "      <th>minutes</th>\n",
       "      <th>count_of_messages</th>\n",
       "      <th>gb_used</th>\n",
       "    </tr>\n",
       "  </thead>\n",
       "  <tbody>\n",
       "    <tr>\n",
       "      <th>0</th>\n",
       "      <td>1000</td>\n",
       "      <td>2018-05-01</td>\n",
       "      <td>22.0</td>\n",
       "      <td>159.0</td>\n",
       "      <td>22.0</td>\n",
       "      <td>3.0</td>\n",
       "    </tr>\n",
       "    <tr>\n",
       "      <th>1</th>\n",
       "      <td>1000</td>\n",
       "      <td>2018-06-01</td>\n",
       "      <td>43.0</td>\n",
       "      <td>172.0</td>\n",
       "      <td>60.0</td>\n",
       "      <td>23.0</td>\n",
       "    </tr>\n",
       "    <tr>\n",
       "      <th>2</th>\n",
       "      <td>1000</td>\n",
       "      <td>2018-07-01</td>\n",
       "      <td>47.0</td>\n",
       "      <td>340.0</td>\n",
       "      <td>75.0</td>\n",
       "      <td>14.0</td>\n",
       "    </tr>\n",
       "    <tr>\n",
       "      <th>3</th>\n",
       "      <td>1000</td>\n",
       "      <td>2018-08-01</td>\n",
       "      <td>52.0</td>\n",
       "      <td>408.0</td>\n",
       "      <td>81.0</td>\n",
       "      <td>14.0</td>\n",
       "    </tr>\n",
       "    <tr>\n",
       "      <th>4</th>\n",
       "      <td>1000</td>\n",
       "      <td>2018-09-01</td>\n",
       "      <td>58.0</td>\n",
       "      <td>466.0</td>\n",
       "      <td>57.0</td>\n",
       "      <td>15.0</td>\n",
       "    </tr>\n",
       "    <tr>\n",
       "      <th>5</th>\n",
       "      <td>1000</td>\n",
       "      <td>2018-10-01</td>\n",
       "      <td>57.0</td>\n",
       "      <td>350.0</td>\n",
       "      <td>73.0</td>\n",
       "      <td>15.0</td>\n",
       "    </tr>\n",
       "    <tr>\n",
       "      <th>6</th>\n",
       "      <td>1000</td>\n",
       "      <td>2018-11-01</td>\n",
       "      <td>43.0</td>\n",
       "      <td>338.0</td>\n",
       "      <td>58.0</td>\n",
       "      <td>15.0</td>\n",
       "    </tr>\n",
       "    <tr>\n",
       "      <th>7</th>\n",
       "      <td>1000</td>\n",
       "      <td>2018-12-01</td>\n",
       "      <td>46.0</td>\n",
       "      <td>333.0</td>\n",
       "      <td>70.0</td>\n",
       "      <td>10.0</td>\n",
       "    </tr>\n",
       "    <tr>\n",
       "      <th>8</th>\n",
       "      <td>1001</td>\n",
       "      <td>2018-11-01</td>\n",
       "      <td>59.0</td>\n",
       "      <td>430.0</td>\n",
       "      <td>NaN</td>\n",
       "      <td>18.0</td>\n",
       "    </tr>\n",
       "    <tr>\n",
       "      <th>9</th>\n",
       "      <td>1001</td>\n",
       "      <td>2018-12-01</td>\n",
       "      <td>63.0</td>\n",
       "      <td>414.0</td>\n",
       "      <td>NaN</td>\n",
       "      <td>14.0</td>\n",
       "    </tr>\n",
       "  </tbody>\n",
       "</table>\n",
       "</div>"
      ],
      "text/plain": [
       "   user_id      month  count_of_calls  minutes  count_of_messages  gb_used\n",
       "0     1000 2018-05-01            22.0    159.0               22.0      3.0\n",
       "1     1000 2018-06-01            43.0    172.0               60.0     23.0\n",
       "2     1000 2018-07-01            47.0    340.0               75.0     14.0\n",
       "3     1000 2018-08-01            52.0    408.0               81.0     14.0\n",
       "4     1000 2018-09-01            58.0    466.0               57.0     15.0\n",
       "5     1000 2018-10-01            57.0    350.0               73.0     15.0\n",
       "6     1000 2018-11-01            43.0    338.0               58.0     15.0\n",
       "7     1000 2018-12-01            46.0    333.0               70.0     10.0\n",
       "8     1001 2018-11-01            59.0    430.0                NaN     18.0\n",
       "9     1001 2018-12-01            63.0    414.0                NaN     14.0"
      ]
     },
     "metadata": {},
     "output_type": "display_data"
    }
   ],
   "source": [
    "data = data.merge(internet_used_in_month, on = ['user_id', 'month'], how = 'outer')\n",
    "display(data.head(10))"
   ]
  },
  {
   "cell_type": "code",
   "execution_count": 25,
   "metadata": {},
   "outputs": [
    {
     "data": {
      "text/html": [
       "<div>\n",
       "<style scoped>\n",
       "    .dataframe tbody tr th:only-of-type {\n",
       "        vertical-align: middle;\n",
       "    }\n",
       "\n",
       "    .dataframe tbody tr th {\n",
       "        vertical-align: top;\n",
       "    }\n",
       "\n",
       "    .dataframe thead th {\n",
       "        text-align: right;\n",
       "    }\n",
       "</style>\n",
       "<table border=\"1\" class=\"dataframe\">\n",
       "  <thead>\n",
       "    <tr style=\"text-align: right;\">\n",
       "      <th></th>\n",
       "      <th>user_id</th>\n",
       "      <th>month</th>\n",
       "      <th>count_of_calls</th>\n",
       "      <th>minutes</th>\n",
       "      <th>count_of_messages</th>\n",
       "      <th>gb_used</th>\n",
       "      <th>age</th>\n",
       "      <th>churn_date</th>\n",
       "      <th>city</th>\n",
       "      <th>first_name</th>\n",
       "      <th>last_name</th>\n",
       "      <th>reg_date</th>\n",
       "      <th>tariff</th>\n",
       "    </tr>\n",
       "  </thead>\n",
       "  <tbody>\n",
       "    <tr>\n",
       "      <th>0</th>\n",
       "      <td>1000</td>\n",
       "      <td>2018-05-01</td>\n",
       "      <td>22.0</td>\n",
       "      <td>159.0</td>\n",
       "      <td>22.0</td>\n",
       "      <td>3.0</td>\n",
       "      <td>52</td>\n",
       "      <td>NaN</td>\n",
       "      <td>Краснодар</td>\n",
       "      <td>Рафаил</td>\n",
       "      <td>Верещагин</td>\n",
       "      <td>2018-05-25</td>\n",
       "      <td>ultra</td>\n",
       "    </tr>\n",
       "    <tr>\n",
       "      <th>1</th>\n",
       "      <td>1000</td>\n",
       "      <td>2018-06-01</td>\n",
       "      <td>43.0</td>\n",
       "      <td>172.0</td>\n",
       "      <td>60.0</td>\n",
       "      <td>23.0</td>\n",
       "      <td>52</td>\n",
       "      <td>NaN</td>\n",
       "      <td>Краснодар</td>\n",
       "      <td>Рафаил</td>\n",
       "      <td>Верещагин</td>\n",
       "      <td>2018-05-25</td>\n",
       "      <td>ultra</td>\n",
       "    </tr>\n",
       "    <tr>\n",
       "      <th>2</th>\n",
       "      <td>1000</td>\n",
       "      <td>2018-07-01</td>\n",
       "      <td>47.0</td>\n",
       "      <td>340.0</td>\n",
       "      <td>75.0</td>\n",
       "      <td>14.0</td>\n",
       "      <td>52</td>\n",
       "      <td>NaN</td>\n",
       "      <td>Краснодар</td>\n",
       "      <td>Рафаил</td>\n",
       "      <td>Верещагин</td>\n",
       "      <td>2018-05-25</td>\n",
       "      <td>ultra</td>\n",
       "    </tr>\n",
       "    <tr>\n",
       "      <th>3</th>\n",
       "      <td>1000</td>\n",
       "      <td>2018-08-01</td>\n",
       "      <td>52.0</td>\n",
       "      <td>408.0</td>\n",
       "      <td>81.0</td>\n",
       "      <td>14.0</td>\n",
       "      <td>52</td>\n",
       "      <td>NaN</td>\n",
       "      <td>Краснодар</td>\n",
       "      <td>Рафаил</td>\n",
       "      <td>Верещагин</td>\n",
       "      <td>2018-05-25</td>\n",
       "      <td>ultra</td>\n",
       "    </tr>\n",
       "    <tr>\n",
       "      <th>4</th>\n",
       "      <td>1000</td>\n",
       "      <td>2018-09-01</td>\n",
       "      <td>58.0</td>\n",
       "      <td>466.0</td>\n",
       "      <td>57.0</td>\n",
       "      <td>15.0</td>\n",
       "      <td>52</td>\n",
       "      <td>NaN</td>\n",
       "      <td>Краснодар</td>\n",
       "      <td>Рафаил</td>\n",
       "      <td>Верещагин</td>\n",
       "      <td>2018-05-25</td>\n",
       "      <td>ultra</td>\n",
       "    </tr>\n",
       "    <tr>\n",
       "      <th>5</th>\n",
       "      <td>1000</td>\n",
       "      <td>2018-10-01</td>\n",
       "      <td>57.0</td>\n",
       "      <td>350.0</td>\n",
       "      <td>73.0</td>\n",
       "      <td>15.0</td>\n",
       "      <td>52</td>\n",
       "      <td>NaN</td>\n",
       "      <td>Краснодар</td>\n",
       "      <td>Рафаил</td>\n",
       "      <td>Верещагин</td>\n",
       "      <td>2018-05-25</td>\n",
       "      <td>ultra</td>\n",
       "    </tr>\n",
       "    <tr>\n",
       "      <th>6</th>\n",
       "      <td>1000</td>\n",
       "      <td>2018-11-01</td>\n",
       "      <td>43.0</td>\n",
       "      <td>338.0</td>\n",
       "      <td>58.0</td>\n",
       "      <td>15.0</td>\n",
       "      <td>52</td>\n",
       "      <td>NaN</td>\n",
       "      <td>Краснодар</td>\n",
       "      <td>Рафаил</td>\n",
       "      <td>Верещагин</td>\n",
       "      <td>2018-05-25</td>\n",
       "      <td>ultra</td>\n",
       "    </tr>\n",
       "    <tr>\n",
       "      <th>7</th>\n",
       "      <td>1000</td>\n",
       "      <td>2018-12-01</td>\n",
       "      <td>46.0</td>\n",
       "      <td>333.0</td>\n",
       "      <td>70.0</td>\n",
       "      <td>10.0</td>\n",
       "      <td>52</td>\n",
       "      <td>NaN</td>\n",
       "      <td>Краснодар</td>\n",
       "      <td>Рафаил</td>\n",
       "      <td>Верещагин</td>\n",
       "      <td>2018-05-25</td>\n",
       "      <td>ultra</td>\n",
       "    </tr>\n",
       "    <tr>\n",
       "      <th>8</th>\n",
       "      <td>1001</td>\n",
       "      <td>2018-11-01</td>\n",
       "      <td>59.0</td>\n",
       "      <td>430.0</td>\n",
       "      <td>NaN</td>\n",
       "      <td>18.0</td>\n",
       "      <td>41</td>\n",
       "      <td>NaN</td>\n",
       "      <td>Москва</td>\n",
       "      <td>Иван</td>\n",
       "      <td>Ежов</td>\n",
       "      <td>2018-11-01</td>\n",
       "      <td>smart</td>\n",
       "    </tr>\n",
       "    <tr>\n",
       "      <th>9</th>\n",
       "      <td>1001</td>\n",
       "      <td>2018-12-01</td>\n",
       "      <td>63.0</td>\n",
       "      <td>414.0</td>\n",
       "      <td>NaN</td>\n",
       "      <td>14.0</td>\n",
       "      <td>41</td>\n",
       "      <td>NaN</td>\n",
       "      <td>Москва</td>\n",
       "      <td>Иван</td>\n",
       "      <td>Ежов</td>\n",
       "      <td>2018-11-01</td>\n",
       "      <td>smart</td>\n",
       "    </tr>\n",
       "  </tbody>\n",
       "</table>\n",
       "</div>"
      ],
      "text/plain": [
       "   user_id      month  count_of_calls  minutes  count_of_messages  gb_used  \\\n",
       "0     1000 2018-05-01            22.0    159.0               22.0      3.0   \n",
       "1     1000 2018-06-01            43.0    172.0               60.0     23.0   \n",
       "2     1000 2018-07-01            47.0    340.0               75.0     14.0   \n",
       "3     1000 2018-08-01            52.0    408.0               81.0     14.0   \n",
       "4     1000 2018-09-01            58.0    466.0               57.0     15.0   \n",
       "5     1000 2018-10-01            57.0    350.0               73.0     15.0   \n",
       "6     1000 2018-11-01            43.0    338.0               58.0     15.0   \n",
       "7     1000 2018-12-01            46.0    333.0               70.0     10.0   \n",
       "8     1001 2018-11-01            59.0    430.0                NaN     18.0   \n",
       "9     1001 2018-12-01            63.0    414.0                NaN     14.0   \n",
       "\n",
       "   age churn_date       city first_name  last_name   reg_date tariff  \n",
       "0   52        NaN  Краснодар     Рафаил  Верещагин 2018-05-25  ultra  \n",
       "1   52        NaN  Краснодар     Рафаил  Верещагин 2018-05-25  ultra  \n",
       "2   52        NaN  Краснодар     Рафаил  Верещагин 2018-05-25  ultra  \n",
       "3   52        NaN  Краснодар     Рафаил  Верещагин 2018-05-25  ultra  \n",
       "4   52        NaN  Краснодар     Рафаил  Верещагин 2018-05-25  ultra  \n",
       "5   52        NaN  Краснодар     Рафаил  Верещагин 2018-05-25  ultra  \n",
       "6   52        NaN  Краснодар     Рафаил  Верещагин 2018-05-25  ultra  \n",
       "7   52        NaN  Краснодар     Рафаил  Верещагин 2018-05-25  ultra  \n",
       "8   41        NaN     Москва       Иван       Ежов 2018-11-01  smart  \n",
       "9   41        NaN     Москва       Иван       Ежов 2018-11-01  smart  "
      ]
     },
     "metadata": {},
     "output_type": "display_data"
    }
   ],
   "source": [
    "data = data.merge(users, on = 'user_id', how = 'outer')\n",
    "display(data.head(10))"
   ]
  },
  {
   "cell_type": "code",
   "execution_count": 26,
   "metadata": {},
   "outputs": [
    {
     "data": {
      "text/plain": [
       "500"
      ]
     },
     "execution_count": 26,
     "metadata": {},
     "output_type": "execute_result"
    }
   ],
   "source": [
    "data.user_id.nunique()"
   ]
  },
  {
   "cell_type": "code",
   "execution_count": 27,
   "metadata": {},
   "outputs": [
    {
     "data": {
      "text/html": [
       "<div>\n",
       "<style scoped>\n",
       "    .dataframe tbody tr th:only-of-type {\n",
       "        vertical-align: middle;\n",
       "    }\n",
       "\n",
       "    .dataframe tbody tr th {\n",
       "        vertical-align: top;\n",
       "    }\n",
       "\n",
       "    .dataframe thead th {\n",
       "        text-align: right;\n",
       "    }\n",
       "</style>\n",
       "<table border=\"1\" class=\"dataframe\">\n",
       "  <thead>\n",
       "    <tr style=\"text-align: right;\">\n",
       "      <th></th>\n",
       "      <th>user_id</th>\n",
       "      <th>month</th>\n",
       "      <th>count_of_calls</th>\n",
       "      <th>minutes</th>\n",
       "      <th>count_of_messages</th>\n",
       "      <th>gb_used</th>\n",
       "      <th>age</th>\n",
       "      <th>churn_date</th>\n",
       "      <th>city</th>\n",
       "      <th>first_name</th>\n",
       "      <th>last_name</th>\n",
       "      <th>reg_date</th>\n",
       "      <th>tariff_name</th>\n",
       "      <th>messages_included</th>\n",
       "      <th>mb_per_month_included</th>\n",
       "      <th>minutes_included</th>\n",
       "      <th>rub_monthly_fee</th>\n",
       "      <th>rub_per_gb</th>\n",
       "      <th>rub_per_message</th>\n",
       "      <th>rub_per_minute</th>\n",
       "    </tr>\n",
       "  </thead>\n",
       "  <tbody>\n",
       "    <tr>\n",
       "      <th>0</th>\n",
       "      <td>1000</td>\n",
       "      <td>2018-05-01</td>\n",
       "      <td>22.0</td>\n",
       "      <td>159.0</td>\n",
       "      <td>22.0</td>\n",
       "      <td>3.0</td>\n",
       "      <td>52</td>\n",
       "      <td>NaN</td>\n",
       "      <td>Краснодар</td>\n",
       "      <td>Рафаил</td>\n",
       "      <td>Верещагин</td>\n",
       "      <td>2018-05-25</td>\n",
       "      <td>ultra</td>\n",
       "      <td>1000</td>\n",
       "      <td>30720</td>\n",
       "      <td>3000</td>\n",
       "      <td>1950</td>\n",
       "      <td>150</td>\n",
       "      <td>1</td>\n",
       "      <td>1</td>\n",
       "    </tr>\n",
       "    <tr>\n",
       "      <th>1</th>\n",
       "      <td>1000</td>\n",
       "      <td>2018-06-01</td>\n",
       "      <td>43.0</td>\n",
       "      <td>172.0</td>\n",
       "      <td>60.0</td>\n",
       "      <td>23.0</td>\n",
       "      <td>52</td>\n",
       "      <td>NaN</td>\n",
       "      <td>Краснодар</td>\n",
       "      <td>Рафаил</td>\n",
       "      <td>Верещагин</td>\n",
       "      <td>2018-05-25</td>\n",
       "      <td>ultra</td>\n",
       "      <td>1000</td>\n",
       "      <td>30720</td>\n",
       "      <td>3000</td>\n",
       "      <td>1950</td>\n",
       "      <td>150</td>\n",
       "      <td>1</td>\n",
       "      <td>1</td>\n",
       "    </tr>\n",
       "    <tr>\n",
       "      <th>2</th>\n",
       "      <td>1000</td>\n",
       "      <td>2018-07-01</td>\n",
       "      <td>47.0</td>\n",
       "      <td>340.0</td>\n",
       "      <td>75.0</td>\n",
       "      <td>14.0</td>\n",
       "      <td>52</td>\n",
       "      <td>NaN</td>\n",
       "      <td>Краснодар</td>\n",
       "      <td>Рафаил</td>\n",
       "      <td>Верещагин</td>\n",
       "      <td>2018-05-25</td>\n",
       "      <td>ultra</td>\n",
       "      <td>1000</td>\n",
       "      <td>30720</td>\n",
       "      <td>3000</td>\n",
       "      <td>1950</td>\n",
       "      <td>150</td>\n",
       "      <td>1</td>\n",
       "      <td>1</td>\n",
       "    </tr>\n",
       "    <tr>\n",
       "      <th>3</th>\n",
       "      <td>1000</td>\n",
       "      <td>2018-08-01</td>\n",
       "      <td>52.0</td>\n",
       "      <td>408.0</td>\n",
       "      <td>81.0</td>\n",
       "      <td>14.0</td>\n",
       "      <td>52</td>\n",
       "      <td>NaN</td>\n",
       "      <td>Краснодар</td>\n",
       "      <td>Рафаил</td>\n",
       "      <td>Верещагин</td>\n",
       "      <td>2018-05-25</td>\n",
       "      <td>ultra</td>\n",
       "      <td>1000</td>\n",
       "      <td>30720</td>\n",
       "      <td>3000</td>\n",
       "      <td>1950</td>\n",
       "      <td>150</td>\n",
       "      <td>1</td>\n",
       "      <td>1</td>\n",
       "    </tr>\n",
       "    <tr>\n",
       "      <th>4</th>\n",
       "      <td>1000</td>\n",
       "      <td>2018-09-01</td>\n",
       "      <td>58.0</td>\n",
       "      <td>466.0</td>\n",
       "      <td>57.0</td>\n",
       "      <td>15.0</td>\n",
       "      <td>52</td>\n",
       "      <td>NaN</td>\n",
       "      <td>Краснодар</td>\n",
       "      <td>Рафаил</td>\n",
       "      <td>Верещагин</td>\n",
       "      <td>2018-05-25</td>\n",
       "      <td>ultra</td>\n",
       "      <td>1000</td>\n",
       "      <td>30720</td>\n",
       "      <td>3000</td>\n",
       "      <td>1950</td>\n",
       "      <td>150</td>\n",
       "      <td>1</td>\n",
       "      <td>1</td>\n",
       "    </tr>\n",
       "  </tbody>\n",
       "</table>\n",
       "</div>"
      ],
      "text/plain": [
       "   user_id      month  count_of_calls  minutes  count_of_messages  gb_used  \\\n",
       "0     1000 2018-05-01            22.0    159.0               22.0      3.0   \n",
       "1     1000 2018-06-01            43.0    172.0               60.0     23.0   \n",
       "2     1000 2018-07-01            47.0    340.0               75.0     14.0   \n",
       "3     1000 2018-08-01            52.0    408.0               81.0     14.0   \n",
       "4     1000 2018-09-01            58.0    466.0               57.0     15.0   \n",
       "\n",
       "   age churn_date       city first_name  last_name   reg_date tariff_name  \\\n",
       "0   52        NaN  Краснодар     Рафаил  Верещагин 2018-05-25       ultra   \n",
       "1   52        NaN  Краснодар     Рафаил  Верещагин 2018-05-25       ultra   \n",
       "2   52        NaN  Краснодар     Рафаил  Верещагин 2018-05-25       ultra   \n",
       "3   52        NaN  Краснодар     Рафаил  Верещагин 2018-05-25       ultra   \n",
       "4   52        NaN  Краснодар     Рафаил  Верещагин 2018-05-25       ultra   \n",
       "\n",
       "   messages_included  mb_per_month_included  minutes_included  \\\n",
       "0               1000                  30720              3000   \n",
       "1               1000                  30720              3000   \n",
       "2               1000                  30720              3000   \n",
       "3               1000                  30720              3000   \n",
       "4               1000                  30720              3000   \n",
       "\n",
       "   rub_monthly_fee  rub_per_gb  rub_per_message  rub_per_minute  \n",
       "0             1950         150                1               1  \n",
       "1             1950         150                1               1  \n",
       "2             1950         150                1               1  \n",
       "3             1950         150                1               1  \n",
       "4             1950         150                1               1  "
      ]
     },
     "metadata": {},
     "output_type": "display_data"
    }
   ],
   "source": [
    "data.columns = ['user_id', 'month', 'count_of_calls', 'minutes', 'count_of_messages', 'gb_used', 'age', 'churn_date', 'city', 'first_name', 'last_name', 'reg_date', 'tariff_name']\n",
    "data = data.merge(tariffs, on = 'tariff_name', how = 'outer')\n",
    "display(data.head())"
   ]
  },
  {
   "cell_type": "code",
   "execution_count": 28,
   "metadata": {
    "scrolled": true
   },
   "outputs": [
    {
     "data": {
      "text/html": [
       "<div>\n",
       "<style scoped>\n",
       "    .dataframe tbody tr th:only-of-type {\n",
       "        vertical-align: middle;\n",
       "    }\n",
       "\n",
       "    .dataframe tbody tr th {\n",
       "        vertical-align: top;\n",
       "    }\n",
       "\n",
       "    .dataframe thead th {\n",
       "        text-align: right;\n",
       "    }\n",
       "</style>\n",
       "<table border=\"1\" class=\"dataframe\">\n",
       "  <thead>\n",
       "    <tr style=\"text-align: right;\">\n",
       "      <th></th>\n",
       "      <th>user_id</th>\n",
       "      <th>month</th>\n",
       "      <th>count_of_calls</th>\n",
       "      <th>minutes</th>\n",
       "      <th>count_of_messages</th>\n",
       "      <th>gb_used</th>\n",
       "      <th>age</th>\n",
       "      <th>churn_date</th>\n",
       "      <th>city</th>\n",
       "      <th>first_name</th>\n",
       "      <th>...</th>\n",
       "      <th>reg_date</th>\n",
       "      <th>tariff_name</th>\n",
       "      <th>messages_included</th>\n",
       "      <th>mb_per_month_included</th>\n",
       "      <th>minutes_included</th>\n",
       "      <th>rub_monthly_fee</th>\n",
       "      <th>rub_per_gb</th>\n",
       "      <th>rub_per_message</th>\n",
       "      <th>rub_per_minute</th>\n",
       "      <th>profit</th>\n",
       "    </tr>\n",
       "  </thead>\n",
       "  <tbody>\n",
       "    <tr>\n",
       "      <th>0</th>\n",
       "      <td>1000</td>\n",
       "      <td>2018-05-01</td>\n",
       "      <td>22.0</td>\n",
       "      <td>159.0</td>\n",
       "      <td>22.0</td>\n",
       "      <td>3.0</td>\n",
       "      <td>52</td>\n",
       "      <td>NaN</td>\n",
       "      <td>Краснодар</td>\n",
       "      <td>Рафаил</td>\n",
       "      <td>...</td>\n",
       "      <td>2018-05-25</td>\n",
       "      <td>ultra</td>\n",
       "      <td>1000</td>\n",
       "      <td>30720</td>\n",
       "      <td>3000</td>\n",
       "      <td>1950</td>\n",
       "      <td>150</td>\n",
       "      <td>1</td>\n",
       "      <td>1</td>\n",
       "      <td>1950.0</td>\n",
       "    </tr>\n",
       "    <tr>\n",
       "      <th>1</th>\n",
       "      <td>1000</td>\n",
       "      <td>2018-06-01</td>\n",
       "      <td>43.0</td>\n",
       "      <td>172.0</td>\n",
       "      <td>60.0</td>\n",
       "      <td>23.0</td>\n",
       "      <td>52</td>\n",
       "      <td>NaN</td>\n",
       "      <td>Краснодар</td>\n",
       "      <td>Рафаил</td>\n",
       "      <td>...</td>\n",
       "      <td>2018-05-25</td>\n",
       "      <td>ultra</td>\n",
       "      <td>1000</td>\n",
       "      <td>30720</td>\n",
       "      <td>3000</td>\n",
       "      <td>1950</td>\n",
       "      <td>150</td>\n",
       "      <td>1</td>\n",
       "      <td>1</td>\n",
       "      <td>1950.0</td>\n",
       "    </tr>\n",
       "    <tr>\n",
       "      <th>2</th>\n",
       "      <td>1000</td>\n",
       "      <td>2018-07-01</td>\n",
       "      <td>47.0</td>\n",
       "      <td>340.0</td>\n",
       "      <td>75.0</td>\n",
       "      <td>14.0</td>\n",
       "      <td>52</td>\n",
       "      <td>NaN</td>\n",
       "      <td>Краснодар</td>\n",
       "      <td>Рафаил</td>\n",
       "      <td>...</td>\n",
       "      <td>2018-05-25</td>\n",
       "      <td>ultra</td>\n",
       "      <td>1000</td>\n",
       "      <td>30720</td>\n",
       "      <td>3000</td>\n",
       "      <td>1950</td>\n",
       "      <td>150</td>\n",
       "      <td>1</td>\n",
       "      <td>1</td>\n",
       "      <td>1950.0</td>\n",
       "    </tr>\n",
       "    <tr>\n",
       "      <th>3</th>\n",
       "      <td>1000</td>\n",
       "      <td>2018-08-01</td>\n",
       "      <td>52.0</td>\n",
       "      <td>408.0</td>\n",
       "      <td>81.0</td>\n",
       "      <td>14.0</td>\n",
       "      <td>52</td>\n",
       "      <td>NaN</td>\n",
       "      <td>Краснодар</td>\n",
       "      <td>Рафаил</td>\n",
       "      <td>...</td>\n",
       "      <td>2018-05-25</td>\n",
       "      <td>ultra</td>\n",
       "      <td>1000</td>\n",
       "      <td>30720</td>\n",
       "      <td>3000</td>\n",
       "      <td>1950</td>\n",
       "      <td>150</td>\n",
       "      <td>1</td>\n",
       "      <td>1</td>\n",
       "      <td>1950.0</td>\n",
       "    </tr>\n",
       "    <tr>\n",
       "      <th>4</th>\n",
       "      <td>1000</td>\n",
       "      <td>2018-09-01</td>\n",
       "      <td>58.0</td>\n",
       "      <td>466.0</td>\n",
       "      <td>57.0</td>\n",
       "      <td>15.0</td>\n",
       "      <td>52</td>\n",
       "      <td>NaN</td>\n",
       "      <td>Краснодар</td>\n",
       "      <td>Рафаил</td>\n",
       "      <td>...</td>\n",
       "      <td>2018-05-25</td>\n",
       "      <td>ultra</td>\n",
       "      <td>1000</td>\n",
       "      <td>30720</td>\n",
       "      <td>3000</td>\n",
       "      <td>1950</td>\n",
       "      <td>150</td>\n",
       "      <td>1</td>\n",
       "      <td>1</td>\n",
       "      <td>1950.0</td>\n",
       "    </tr>\n",
       "    <tr>\n",
       "      <th>5</th>\n",
       "      <td>1000</td>\n",
       "      <td>2018-10-01</td>\n",
       "      <td>57.0</td>\n",
       "      <td>350.0</td>\n",
       "      <td>73.0</td>\n",
       "      <td>15.0</td>\n",
       "      <td>52</td>\n",
       "      <td>NaN</td>\n",
       "      <td>Краснодар</td>\n",
       "      <td>Рафаил</td>\n",
       "      <td>...</td>\n",
       "      <td>2018-05-25</td>\n",
       "      <td>ultra</td>\n",
       "      <td>1000</td>\n",
       "      <td>30720</td>\n",
       "      <td>3000</td>\n",
       "      <td>1950</td>\n",
       "      <td>150</td>\n",
       "      <td>1</td>\n",
       "      <td>1</td>\n",
       "      <td>1950.0</td>\n",
       "    </tr>\n",
       "    <tr>\n",
       "      <th>6</th>\n",
       "      <td>1000</td>\n",
       "      <td>2018-11-01</td>\n",
       "      <td>43.0</td>\n",
       "      <td>338.0</td>\n",
       "      <td>58.0</td>\n",
       "      <td>15.0</td>\n",
       "      <td>52</td>\n",
       "      <td>NaN</td>\n",
       "      <td>Краснодар</td>\n",
       "      <td>Рафаил</td>\n",
       "      <td>...</td>\n",
       "      <td>2018-05-25</td>\n",
       "      <td>ultra</td>\n",
       "      <td>1000</td>\n",
       "      <td>30720</td>\n",
       "      <td>3000</td>\n",
       "      <td>1950</td>\n",
       "      <td>150</td>\n",
       "      <td>1</td>\n",
       "      <td>1</td>\n",
       "      <td>1950.0</td>\n",
       "    </tr>\n",
       "    <tr>\n",
       "      <th>7</th>\n",
       "      <td>1000</td>\n",
       "      <td>2018-12-01</td>\n",
       "      <td>46.0</td>\n",
       "      <td>333.0</td>\n",
       "      <td>70.0</td>\n",
       "      <td>10.0</td>\n",
       "      <td>52</td>\n",
       "      <td>NaN</td>\n",
       "      <td>Краснодар</td>\n",
       "      <td>Рафаил</td>\n",
       "      <td>...</td>\n",
       "      <td>2018-05-25</td>\n",
       "      <td>ultra</td>\n",
       "      <td>1000</td>\n",
       "      <td>30720</td>\n",
       "      <td>3000</td>\n",
       "      <td>1950</td>\n",
       "      <td>150</td>\n",
       "      <td>1</td>\n",
       "      <td>1</td>\n",
       "      <td>1950.0</td>\n",
       "    </tr>\n",
       "    <tr>\n",
       "      <th>8</th>\n",
       "      <td>1003</td>\n",
       "      <td>2018-08-01</td>\n",
       "      <td>55.0</td>\n",
       "      <td>380.0</td>\n",
       "      <td>37.0</td>\n",
       "      <td>9.0</td>\n",
       "      <td>23</td>\n",
       "      <td>NaN</td>\n",
       "      <td>Москва</td>\n",
       "      <td>Белла</td>\n",
       "      <td>...</td>\n",
       "      <td>2018-08-17</td>\n",
       "      <td>ultra</td>\n",
       "      <td>1000</td>\n",
       "      <td>30720</td>\n",
       "      <td>3000</td>\n",
       "      <td>1950</td>\n",
       "      <td>150</td>\n",
       "      <td>1</td>\n",
       "      <td>1</td>\n",
       "      <td>1950.0</td>\n",
       "    </tr>\n",
       "    <tr>\n",
       "      <th>9</th>\n",
       "      <td>1003</td>\n",
       "      <td>2018-09-01</td>\n",
       "      <td>134.0</td>\n",
       "      <td>961.0</td>\n",
       "      <td>91.0</td>\n",
       "      <td>13.0</td>\n",
       "      <td>23</td>\n",
       "      <td>NaN</td>\n",
       "      <td>Москва</td>\n",
       "      <td>Белла</td>\n",
       "      <td>...</td>\n",
       "      <td>2018-08-17</td>\n",
       "      <td>ultra</td>\n",
       "      <td>1000</td>\n",
       "      <td>30720</td>\n",
       "      <td>3000</td>\n",
       "      <td>1950</td>\n",
       "      <td>150</td>\n",
       "      <td>1</td>\n",
       "      <td>1</td>\n",
       "      <td>1950.0</td>\n",
       "    </tr>\n",
       "  </tbody>\n",
       "</table>\n",
       "<p>10 rows × 21 columns</p>\n",
       "</div>"
      ],
      "text/plain": [
       "   user_id      month  count_of_calls  minutes  count_of_messages  gb_used  \\\n",
       "0     1000 2018-05-01            22.0    159.0               22.0      3.0   \n",
       "1     1000 2018-06-01            43.0    172.0               60.0     23.0   \n",
       "2     1000 2018-07-01            47.0    340.0               75.0     14.0   \n",
       "3     1000 2018-08-01            52.0    408.0               81.0     14.0   \n",
       "4     1000 2018-09-01            58.0    466.0               57.0     15.0   \n",
       "5     1000 2018-10-01            57.0    350.0               73.0     15.0   \n",
       "6     1000 2018-11-01            43.0    338.0               58.0     15.0   \n",
       "7     1000 2018-12-01            46.0    333.0               70.0     10.0   \n",
       "8     1003 2018-08-01            55.0    380.0               37.0      9.0   \n",
       "9     1003 2018-09-01           134.0    961.0               91.0     13.0   \n",
       "\n",
       "   age churn_date       city first_name  ...   reg_date tariff_name  \\\n",
       "0   52        NaN  Краснодар     Рафаил  ... 2018-05-25       ultra   \n",
       "1   52        NaN  Краснодар     Рафаил  ... 2018-05-25       ultra   \n",
       "2   52        NaN  Краснодар     Рафаил  ... 2018-05-25       ultra   \n",
       "3   52        NaN  Краснодар     Рафаил  ... 2018-05-25       ultra   \n",
       "4   52        NaN  Краснодар     Рафаил  ... 2018-05-25       ultra   \n",
       "5   52        NaN  Краснодар     Рафаил  ... 2018-05-25       ultra   \n",
       "6   52        NaN  Краснодар     Рафаил  ... 2018-05-25       ultra   \n",
       "7   52        NaN  Краснодар     Рафаил  ... 2018-05-25       ultra   \n",
       "8   23        NaN     Москва      Белла  ... 2018-08-17       ultra   \n",
       "9   23        NaN     Москва      Белла  ... 2018-08-17       ultra   \n",
       "\n",
       "  messages_included  mb_per_month_included  minutes_included  rub_monthly_fee  \\\n",
       "0              1000                  30720              3000             1950   \n",
       "1              1000                  30720              3000             1950   \n",
       "2              1000                  30720              3000             1950   \n",
       "3              1000                  30720              3000             1950   \n",
       "4              1000                  30720              3000             1950   \n",
       "5              1000                  30720              3000             1950   \n",
       "6              1000                  30720              3000             1950   \n",
       "7              1000                  30720              3000             1950   \n",
       "8              1000                  30720              3000             1950   \n",
       "9              1000                  30720              3000             1950   \n",
       "\n",
       "   rub_per_gb  rub_per_message  rub_per_minute  profit  \n",
       "0         150                1               1  1950.0  \n",
       "1         150                1               1  1950.0  \n",
       "2         150                1               1  1950.0  \n",
       "3         150                1               1  1950.0  \n",
       "4         150                1               1  1950.0  \n",
       "5         150                1               1  1950.0  \n",
       "6         150                1               1  1950.0  \n",
       "7         150                1               1  1950.0  \n",
       "8         150                1               1  1950.0  \n",
       "9         150                1               1  1950.0  \n",
       "\n",
       "[10 rows x 21 columns]"
      ]
     },
     "metadata": {},
     "output_type": "display_data"
    }
   ],
   "source": [
    "def profit(row):\n",
    "    profit = 0\n",
    "    if (row['minutes_included'] - row['minutes']) < 0:\n",
    "        profit += abs(row['minutes_included'] - row['minutes']) * row['rub_per_minute']\n",
    "    if (row['messages_included'] - row['count_of_messages']) < 0:\n",
    "        profit += abs(row['messages_included'] - row['count_of_messages']) * row['rub_per_message']\n",
    "    if ((row['mb_per_month_included'])/1024 - row['gb_used']) < 0:\n",
    "        profit += abs((row['mb_per_month_included'])/1024 - row['gb_used']) * row['rub_per_gb']\n",
    "    profit += row['rub_monthly_fee']\n",
    "    return profit\n",
    "\n",
    "data['profit'] = data.apply(profit, axis = 1)\n",
    "display(data.head(10))"
   ]
  },
  {
   "cell_type": "code",
   "execution_count": 29,
   "metadata": {},
   "outputs": [
    {
     "data": {
      "text/plain": [
       "count    3216.000000\n",
       "mean     1528.902674\n",
       "std       798.224060\n",
       "min       550.000000\n",
       "25%       750.000000\n",
       "50%      1653.500000\n",
       "75%      1950.000000\n",
       "max      6770.000000\n",
       "Name: profit, dtype: float64"
      ]
     },
     "execution_count": 29,
     "metadata": {},
     "output_type": "execute_result"
    }
   ],
   "source": [
    "data['profit'].describe()"
   ]
  },
  {
   "cell_type": "markdown",
   "metadata": {},
   "source": [
    "<b>Вывод:</b> в данном пункте была построена сводная таблица по всем пользователям, их тарифу, количеству совершенных звонков, отправленных смс, использованного интернета. И в дальнейшем найдем доход по каждому пользователю."
   ]
  },
  {
   "cell_type": "markdown",
   "metadata": {},
   "source": [
    "# Анализ данных"
   ]
  },
  {
   "cell_type": "markdown",
   "metadata": {},
   "source": [
    "## Сколько минут разговора требуется пользователям каждого тарифа в месяц?"
   ]
  },
  {
   "cell_type": "code",
   "execution_count": 30,
   "metadata": {},
   "outputs": [
    {
     "name": "stdout",
     "output_type": "stream",
     "text": [
      "                   mean           var         std\n",
      "tariff_name                                      \n",
      "smart        419.062978  35844.189551  189.325618\n",
      "ultra        545.451104  94203.418396  306.925754\n"
     ]
    },
    {
     "data": {
      "image/png": "[encoded data removed]",
      "text/plain": [
       "<Figure size 432x288 with 1 Axes>"
      ]
     },
     "metadata": {
      "needs_background": "light"
     },
     "output_type": "display_data"
    }
   ],
   "source": [
    "data.groupby('tariff_name')['minutes'].plot(kind = 'hist', bins = 50, title = 'Количество минут разговора для каждого тарифа', alpha = 0.6, legend = True)\n",
    "plt.xlabel('минуты разговора')\n",
    "\n",
    "stats_for_calls = data.pivot_table(index = 'tariff_name', values = 'minutes', aggfunc = ['mean', 'var', 'std'])\n",
    "stats_for_calls.columns = ['mean', 'var', 'std']\n",
    "print(stats_for_calls)"
   ]
  },
  {
   "cell_type": "markdown",
   "metadata": {},
   "source": [
    "<b>Вывод:</b> в данных двух тарифах отличаются как среднее, так и дисперсия с отклонением. По графику также видны отличия. Распределение графика smart близко к нормальному с пиком около 500 звонков. График по тарифу ultra смещен влево."
   ]
  },
  {
   "cell_type": "markdown",
   "metadata": {},
   "source": [
    "## Сколько сообщений требуется пользователям каждого тарифа в месяц?"
   ]
  },
  {
   "cell_type": "code",
   "execution_count": 31,
   "metadata": {},
   "outputs": [
    {
     "name": "stdout",
     "output_type": "stream",
     "text": [
      "                  mean          var        std\n",
      "tariff_name                                   \n",
      "smart        38.716441   717.594201  26.787949\n",
      "ultra        61.161006  2109.659183  45.931026\n"
     ]
    },
    {
     "data": {
      "image/png": "[encoded data removed]",
      "text/plain": [
       "<Figure size 432x288 with 1 Axes>"
      ]
     },
     "metadata": {
      "needs_background": "light"
     },
     "output_type": "display_data"
    }
   ],
   "source": [
    "data.groupby('tariff_name')['count_of_messages'].plot(kind = 'hist', bins = 50, title = 'Количество сообщений для каждого тарифа', alpha = 0.6, legend = True)\n",
    "plt.xlabel('сообщения')\n",
    "stats_for_messages = data.pivot_table(index = 'tariff_name', values = 'count_of_messages', aggfunc = ['mean', 'var', 'std'])\n",
    "stats_for_messages.columns = ['mean', 'var', 'std']\n",
    "print(stats_for_messages)"
   ]
  },
  {
   "cell_type": "markdown",
   "metadata": {},
   "source": [
    "<b>Вывод:</b> распределение и по одному и по второму графику распределение Пуассона. "
   ]
  },
  {
   "cell_type": "markdown",
   "metadata": {},
   "source": [
    "## Какой объём интернет-трафика требуется пользователям каждого тарифа в месяц?"
   ]
  },
  {
   "cell_type": "code",
   "execution_count": 32,
   "metadata": {},
   "outputs": [
    {
     "name": "stdout",
     "output_type": "stream",
     "text": [
      "                  mean        var       std\n",
      "tariff_name                                \n",
      "smart        16.336176  32.923756  5.737923\n",
      "ultra        19.694359  94.146734  9.702924\n"
     ]
    },
    {
     "data": {
      "image/png": "[encoded data removed]",
      "text/plain": [
       "<Figure size 432x288 with 1 Axes>"
      ]
     },
     "metadata": {
      "needs_background": "light"
     },
     "output_type": "display_data"
    }
   ],
   "source": [
    "data.groupby('tariff_name')['gb_used'].plot(kind = 'hist', bins = 50, title = 'Количество интернета для каждого тарифа', alpha = 0.6, legend = True)\n",
    "plt.xlabel('gb')\n",
    "stats_for_internet = data.pivot_table(index = 'tariff_name', values = 'gb_used', aggfunc = ['mean', 'var', 'std'])\n",
    "stats_for_internet.columns = ['mean', 'var', 'std']\n",
    "print(stats_for_internet)"
   ]
  },
  {
   "cell_type": "markdown",
   "metadata": {},
   "source": [
    "<b>Вывод:</b> оба распределения похожи на нормальные, но с разной дисперсией. По графику видно, что дисперсия и трафика ultra будет больше."
   ]
  },
  {
   "cell_type": "markdown",
   "metadata": {},
   "source": [
    "# Проверка гипотез"
   ]
  },
  {
   "cell_type": "markdown",
   "metadata": {},
   "source": [
    "<b>1 гипотеза<b>: средняя выручка пользователей тарифов «Ультра» и «Смарт» различаются"
   ]
  },
  {
   "cell_type": "markdown",
   "metadata": {},
   "source": [
    "H0: выручка тарифа \"Ультра\" равна выручке тарифа \"Смарт\".\n",
    "Значит альтернативная гипотеза H1: выручки не будут равны."
   ]
  },
  {
   "cell_type": "code",
   "execution_count": 33,
   "metadata": {},
   "outputs": [
    {
     "name": "stdout",
     "output_type": "stream",
     "text": [
      "Дисперсия для тарифа smart равна: 669730.7638948115\n",
      "Дисперсия для тарифа ultra равна: 141387.71480935952\n",
      "p-значение: 1.927011394420941e-250\n",
      "Отвергаем нулевую гипотезу\n"
     ]
    },
    {
     "data": {
      "image/png": "[encoded data removed]",
      "text/plain": [
       "<Figure size 432x288 with 1 Axes>"
      ]
     },
     "metadata": {
      "needs_background": "light"
     },
     "output_type": "display_data"
    }
   ],
   "source": [
    "alpha = 0.05\n",
    "\n",
    "smart = data.query('tariff_name == \"smart\"')['profit']\n",
    "ultra = data.query('tariff_name == \"ultra\"')['profit']\n",
    "\n",
    "print('Дисперсия для тарифа smart равна:', smart.var())\n",
    "print('Дисперсия для тарифа ultra равна:', ultra.var())\n",
    "#Дисперсии выборок отличаются\n",
    "\n",
    "smart.plot(kind = 'hist', alpha = 0.7, bins = 20)\n",
    "ultra.plot(kind = 'hist')\n",
    "#На графиках можно заметить, что распределение нельзя отнести к нормальному.\n",
    "\n",
    "results = st.ttest_ind(smart, ultra, equal_var = False)\n",
    "\n",
    "print('p-значение:', results.pvalue)\n",
    "\n",
    "if results.pvalue < alpha:\n",
    "    print(\"Отвергаем нулевую гипотезу\")\n",
    "else:\n",
    "    print(\"Не получилось отвергнуть нулевую гипотезу\")"
   ]
  },
  {
   "cell_type": "markdown",
   "metadata": {},
   "source": [
    "Из этого следует, что мы отвергаем нулевую гипотезу. То есть принимаем альтернативную. По всей видимости выручки действительно различаются."
   ]
  },
  {
   "cell_type": "markdown",
   "metadata": {},
   "source": [
    "<b>2 гипотеза<b>: средняя выручка пользователей из Москвы отличается от выручки пользователей из других регионов."
   ]
  },
  {
   "cell_type": "markdown",
   "metadata": {},
   "source": [
    "H0: выручка в Москве и других городах одинаковая.\n",
    "H1: выручка в Москве и других годах различается, не важно в какую сторону."
   ]
  },
  {
   "cell_type": "code",
   "execution_count": 34,
   "metadata": {},
   "outputs": [
    {
     "name": "stdout",
     "output_type": "stream",
     "text": [
      "Дисперсия для дохода в Москве равна: 565636.4670118879\n",
      "Дисперсия для дохода в других городах равна: 654069.574962777\n",
      "p-значение: 0.5216952110000278\n",
      "Не получилось отвергнуть нулевую гипотезу\n"
     ]
    },
    {
     "data": {
      "image/png": "[encoded data removed]",
      "text/plain": [
       "<Figure size 432x288 with 1 Axes>"
      ]
     },
     "metadata": {
      "needs_background": "light"
     },
     "output_type": "display_data"
    }
   ],
   "source": [
    "Moscow = data.query('city == \"Москва\"')['profit']\n",
    "not_Moscow = data.query('city != \"Москва\"')['profit']\n",
    "\n",
    "print('Дисперсия для дохода в Москве равна:', Moscow.var())\n",
    "print('Дисперсия для дохода в других городах равна:', not_Moscow.var())\n",
    "#Дисперсия здесь также отличается\n",
    "\n",
    "Moscow.plot(kind = 'hist', bins = 20)\n",
    "not_Moscow.plot(kind = 'hist', alpha = 0.7, bins = 20)\n",
    "#Здесь также нельзя отнести распределение к нормальному\n",
    "\n",
    "alpha = 0.05\n",
    "\n",
    "results = st.ttest_ind(Moscow, not_Moscow, equal_var = False)\n",
    "\n",
    "print('p-значение:', results.pvalue)\n",
    "\n",
    "if results.pvalue < alpha:\n",
    "    print(\"Отвергаем нулевую гипотезу\")\n",
    "else:\n",
    "    print(\"Не получилось отвергнуть нулевую гипотезу\")"
   ]
  },
  {
   "cell_type": "markdown",
   "metadata": {},
   "source": [
    "Не получилось отвергнуть нулевую гипотезу. То есть скорее всего выручка в Москве и других городах действительно одинаковая."
   ]
  },
  {
   "cell_type": "markdown",
   "metadata": {},
   "source": [
    "<b>Вывод:</b> в данном случае применялся метод scipy.stats.ttest_ind (array1, array2, equal_var), так как имеется 2 генеральные совокупности. equal_var передавался как False, так как не считаем дисперсии генеральных совокупностей равными. Уровень значимости был выбран в 5%, так как он считается наиболее надежным и наиболее часто используется и подходит для нашей задачи."
   ]
  },
  {
   "cell_type": "markdown",
   "metadata": {},
   "source": [
    "# Общий вывод"
   ]
  },
  {
   "cell_type": "markdown",
   "metadata": {},
   "source": [
    "Исходные данные были подготовлены, то есть приведены к нужному типу данных. Были определены количество и продолжительность звонков каждого пользователя в месяц, количество сообщений в месяц, а также использование интернета в месяц. В дальнейшем эти данные использовались для подсчета выручки с каждого пользователя за месяц. Также были проверены 2 гипотезы. Первая о равенстве средней выручки с каждого пользователя тарифов «Ультра» и «Смарт». Эта гипотеза не подтвердилась. Вероятно выручки от двух тарифов все-таки разные. И вторая гипотеза равенстве средней выручки от пользователей из Москвы и из других городов. Данную гипотезу уже не получилось отвергнуть. Из это можно сделать вывод, что есть вероятность, что выручки будут равны."
   ]
  }
 ],
 "metadata": {
  "ExecuteTimeLog": [
   {
    "duration": 3,
    "start_time": "2021-10-30T14:47:11.306Z"
   },
   {
    "duration": 692,
    "start_time": "2021-10-30T14:47:56.018Z"
   },
   {
    "duration": 165,
    "start_time": "2021-10-30T14:47:59.968Z"
   },
   {
    "duration": 146,
    "start_time": "2021-10-30T14:48:10.763Z"
   },
   {
    "duration": 161,
    "start_time": "2021-10-30T14:48:32.993Z"
   },
   {
    "duration": 71,
    "start_time": "2021-10-30T14:49:51.977Z"
   },
   {
    "duration": 124,
    "start_time": "2021-10-30T14:50:19.478Z"
   },
   {
    "duration": 151,
    "start_time": "2021-10-30T14:50:37.619Z"
   },
   {
    "duration": 96,
    "start_time": "2021-10-30T14:52:12.790Z"
   },
   {
    "duration": 23,
    "start_time": "2021-10-30T14:53:53.945Z"
   },
   {
    "duration": 66,
    "start_time": "2021-10-30T14:54:48.838Z"
   },
   {
    "duration": 76,
    "start_time": "2021-10-30T14:55:49.317Z"
   },
   {
    "duration": 95,
    "start_time": "2021-10-30T14:59:02.311Z"
   },
   {
    "duration": 101,
    "start_time": "2021-10-30T14:59:18.315Z"
   },
   {
    "duration": 160,
    "start_time": "2021-10-30T14:59:22.598Z"
   },
   {
    "duration": 143,
    "start_time": "2021-10-30T14:59:23.142Z"
   },
   {
    "duration": 110,
    "start_time": "2021-10-30T14:59:23.603Z"
   },
   {
    "duration": 29,
    "start_time": "2021-10-30T14:59:24.014Z"
   },
   {
    "duration": 65,
    "start_time": "2021-10-30T14:59:24.243Z"
   },
   {
    "duration": 139,
    "start_time": "2021-10-30T15:11:15.612Z"
   },
   {
    "duration": 231,
    "start_time": "2021-10-30T15:13:57.664Z"
   },
   {
    "duration": 322,
    "start_time": "2021-10-30T15:14:07.689Z"
   },
   {
    "duration": 259,
    "start_time": "2021-10-30T15:20:59.377Z"
   },
   {
    "duration": 714,
    "start_time": "2021-10-30T15:21:05.251Z"
   },
   {
    "duration": 145,
    "start_time": "2021-10-30T15:21:06.955Z"
   },
   {
    "duration": 147,
    "start_time": "2021-10-30T15:21:14.167Z"
   },
   {
    "duration": 322,
    "start_time": "2021-10-30T15:27:31.419Z"
   },
   {
    "duration": 148,
    "start_time": "2021-10-30T15:27:43.301Z"
   },
   {
    "duration": 287,
    "start_time": "2021-10-30T15:33:15.155Z"
   },
   {
    "duration": 137,
    "start_time": "2021-10-30T15:33:20.883Z"
   },
   {
    "duration": 141,
    "start_time": "2021-10-30T15:38:53.051Z"
   },
   {
    "duration": 260,
    "start_time": "2021-10-30T15:38:54.841Z"
   },
   {
    "duration": 24,
    "start_time": "2021-10-30T15:38:55.483Z"
   },
   {
    "duration": 41,
    "start_time": "2021-10-30T15:38:55.844Z"
   },
   {
    "duration": 159,
    "start_time": "2021-10-30T15:42:18.483Z"
   },
   {
    "duration": 11,
    "start_time": "2021-10-30T15:42:29.189Z"
   },
   {
    "duration": 58,
    "start_time": "2021-10-30T15:43:48.711Z"
   },
   {
    "duration": 2,
    "start_time": "2021-10-30T15:45:13.215Z"
   },
   {
    "duration": 41,
    "start_time": "2021-10-30T15:46:42.191Z"
   },
   {
    "duration": 20,
    "start_time": "2021-10-30T15:46:51.583Z"
   },
   {
    "duration": 247,
    "start_time": "2021-10-30T15:47:43.817Z"
   },
   {
    "duration": 12,
    "start_time": "2021-10-30T15:48:37.261Z"
   },
   {
    "duration": 17,
    "start_time": "2021-10-30T15:48:53.923Z"
   },
   {
    "duration": 12,
    "start_time": "2021-10-30T15:49:53.400Z"
   },
   {
    "duration": 33,
    "start_time": "2021-10-30T15:50:22.475Z"
   },
   {
    "duration": 108,
    "start_time": "2021-10-30T15:50:43.725Z"
   },
   {
    "duration": 9,
    "start_time": "2021-10-30T15:51:17.767Z"
   },
   {
    "duration": 156,
    "start_time": "2021-10-30T15:51:31.339Z"
   },
   {
    "duration": 146,
    "start_time": "2021-10-30T15:51:32.535Z"
   },
   {
    "duration": 102,
    "start_time": "2021-10-30T15:51:33.565Z"
   },
   {
    "duration": 100,
    "start_time": "2021-10-30T15:51:57.118Z"
   },
   {
    "duration": 24,
    "start_time": "2021-10-30T15:51:59.908Z"
   },
   {
    "duration": 59,
    "start_time": "2021-10-30T15:52:00.824Z"
   },
   {
    "duration": 173,
    "start_time": "2021-10-30T15:53:04.939Z"
   },
   {
    "duration": 27,
    "start_time": "2021-10-30T15:53:15.864Z"
   },
   {
    "duration": 187,
    "start_time": "2021-10-30T15:53:24.905Z"
   },
   {
    "duration": 15,
    "start_time": "2021-10-30T15:53:28.517Z"
   },
   {
    "duration": 15,
    "start_time": "2021-10-30T15:54:10.492Z"
   },
   {
    "duration": 12,
    "start_time": "2021-10-30T15:54:32.603Z"
   },
   {
    "duration": 15,
    "start_time": "2021-10-30T15:54:45.098Z"
   },
   {
    "duration": 19,
    "start_time": "2021-10-30T15:55:53.892Z"
   },
   {
    "duration": 20,
    "start_time": "2021-10-30T15:56:16.113Z"
   },
   {
    "duration": 19,
    "start_time": "2021-10-30T15:56:35.421Z"
   },
   {
    "duration": 11,
    "start_time": "2021-10-30T15:56:40.617Z"
   },
   {
    "duration": 11,
    "start_time": "2021-10-30T16:06:24.641Z"
   },
   {
    "duration": 4,
    "start_time": "2021-10-30T16:42:43.540Z"
   },
   {
    "duration": 13,
    "start_time": "2021-10-30T16:44:45.595Z"
   },
   {
    "duration": 38,
    "start_time": "2021-10-30T16:52:56.547Z"
   },
   {
    "duration": 32,
    "start_time": "2021-10-30T16:53:07.503Z"
   },
   {
    "duration": 180,
    "start_time": "2021-10-30T16:53:54.974Z"
   },
   {
    "duration": 189,
    "start_time": "2021-10-30T16:55:11.802Z"
   },
   {
    "duration": 218,
    "start_time": "2021-10-30T16:55:29.451Z"
   },
   {
    "duration": 163,
    "start_time": "2021-10-30T16:55:39.866Z"
   },
   {
    "duration": 143,
    "start_time": "2021-10-30T16:55:40.258Z"
   },
   {
    "duration": 99,
    "start_time": "2021-10-30T16:55:40.640Z"
   },
   {
    "duration": 24,
    "start_time": "2021-10-30T16:55:40.998Z"
   },
   {
    "duration": 48,
    "start_time": "2021-10-30T16:55:41.193Z"
   },
   {
    "duration": 39,
    "start_time": "2021-10-30T16:55:42.523Z"
   },
   {
    "duration": 33,
    "start_time": "2021-10-30T16:55:43.143Z"
   },
   {
    "duration": 26,
    "start_time": "2021-10-30T16:55:43.660Z"
   },
   {
    "duration": 7,
    "start_time": "2021-10-30T16:55:44.470Z"
   },
   {
    "duration": 22,
    "start_time": "2021-10-30T16:55:46.247Z"
   },
   {
    "duration": 23,
    "start_time": "2021-10-30T16:56:07.042Z"
   },
   {
    "duration": 36,
    "start_time": "2021-10-30T16:56:12.176Z"
   },
   {
    "duration": 35,
    "start_time": "2021-10-30T16:56:44.573Z"
   },
   {
    "duration": 34,
    "start_time": "2021-10-30T16:56:51.095Z"
   },
   {
    "duration": 10,
    "start_time": "2021-10-30T16:57:50.396Z"
   },
   {
    "duration": 54,
    "start_time": "2021-10-30T16:57:59.054Z"
   },
   {
    "duration": 43,
    "start_time": "2021-10-30T17:00:30.147Z"
   },
   {
    "duration": 62,
    "start_time": "2021-10-30T17:01:47.068Z"
   },
   {
    "duration": 68,
    "start_time": "2021-10-30T17:02:00.765Z"
   },
   {
    "duration": 71,
    "start_time": "2021-10-30T17:02:25.351Z"
   },
   {
    "duration": 130,
    "start_time": "2021-10-30T17:50:01.591Z"
   },
   {
    "duration": 71,
    "start_time": "2021-10-30T17:50:30.523Z"
   },
   {
    "duration": 76,
    "start_time": "2021-10-30T17:52:28.819Z"
   },
   {
    "duration": 3,
    "start_time": "2021-10-30T17:53:33.511Z"
   },
   {
    "duration": 10,
    "start_time": "2021-10-30T17:54:01.950Z"
   },
   {
    "duration": 200,
    "start_time": "2021-10-30T17:58:25.817Z"
   },
   {
    "duration": 30,
    "start_time": "2021-10-30T17:58:33.253Z"
   },
   {
    "duration": 47,
    "start_time": "2021-10-30T17:59:35.934Z"
   },
   {
    "duration": 142,
    "start_time": "2021-10-30T17:59:52.826Z"
   },
   {
    "duration": 212,
    "start_time": "2021-10-30T18:00:00.515Z"
   },
   {
    "duration": 32,
    "start_time": "2021-10-30T18:00:14.265Z"
   },
   {
    "duration": 3,
    "start_time": "2021-10-30T18:00:32.742Z"
   },
   {
    "duration": 12,
    "start_time": "2021-10-30T18:01:22.893Z"
   },
   {
    "duration": 29,
    "start_time": "2021-10-30T18:03:16.496Z"
   },
   {
    "duration": 30,
    "start_time": "2021-10-30T18:03:45.853Z"
   },
   {
    "duration": 27,
    "start_time": "2021-10-30T18:03:58.758Z"
   },
   {
    "duration": 2,
    "start_time": "2021-10-30T18:04:47.561Z"
   },
   {
    "duration": 11,
    "start_time": "2021-10-30T18:08:37.106Z"
   },
   {
    "duration": 703,
    "start_time": "2021-10-30T18:09:02.427Z"
   },
   {
    "duration": 30,
    "start_time": "2021-10-30T18:09:43.790Z"
   },
   {
    "duration": 1194,
    "start_time": "2021-10-30T18:10:45.840Z"
   },
   {
    "duration": 39,
    "start_time": "2021-10-30T18:10:58.878Z"
   },
   {
    "duration": 41,
    "start_time": "2021-10-30T18:11:32.068Z"
   },
   {
    "duration": 41,
    "start_time": "2021-10-30T18:12:01.076Z"
   },
   {
    "duration": 36,
    "start_time": "2021-10-30T18:12:31.318Z"
   },
   {
    "duration": 40,
    "start_time": "2021-10-30T18:12:33.887Z"
   },
   {
    "duration": 37,
    "start_time": "2021-10-30T18:12:39.638Z"
   },
   {
    "duration": 109,
    "start_time": "2021-10-30T18:14:31.489Z"
   },
   {
    "duration": 36,
    "start_time": "2021-10-30T18:14:56.656Z"
   },
   {
    "duration": 47,
    "start_time": "2021-10-30T18:15:20.580Z"
   },
   {
    "duration": 38,
    "start_time": "2021-10-30T18:15:22.813Z"
   },
   {
    "duration": 857,
    "start_time": "2021-10-31T10:57:42.120Z"
   },
   {
    "duration": 156,
    "start_time": "2021-10-31T10:57:43.537Z"
   },
   {
    "duration": 110,
    "start_time": "2021-10-31T10:57:44.116Z"
   },
   {
    "duration": 25,
    "start_time": "2021-10-31T10:57:44.633Z"
   },
   {
    "duration": 80,
    "start_time": "2021-10-31T10:57:45.022Z"
   },
   {
    "duration": 47,
    "start_time": "2021-10-31T10:57:46.864Z"
   },
   {
    "duration": 38,
    "start_time": "2021-10-31T10:57:47.496Z"
   },
   {
    "duration": 31,
    "start_time": "2021-10-31T10:57:47.967Z"
   },
   {
    "duration": 9,
    "start_time": "2021-10-31T10:57:48.390Z"
   },
   {
    "duration": 118,
    "start_time": "2021-10-31T10:57:50.683Z"
   },
   {
    "duration": 43,
    "start_time": "2021-10-31T10:57:51.517Z"
   },
   {
    "duration": 48,
    "start_time": "2021-10-31T10:57:52.097Z"
   },
   {
    "duration": 409,
    "start_time": "2021-10-31T10:58:38.675Z"
   },
   {
    "duration": 345,
    "start_time": "2021-10-31T10:58:55.930Z"
   },
   {
    "duration": 370,
    "start_time": "2021-10-31T11:00:47.250Z"
   },
   {
    "duration": 122,
    "start_time": "2021-10-31T11:01:15.076Z"
   },
   {
    "duration": 648,
    "start_time": "2021-10-31T11:01:49.713Z"
   },
   {
    "duration": 441,
    "start_time": "2021-10-31T11:05:15.576Z"
   },
   {
    "duration": 524,
    "start_time": "2021-10-31T11:06:35.403Z"
   },
   {
    "duration": 427,
    "start_time": "2021-10-31T11:07:35.313Z"
   },
   {
    "duration": 21,
    "start_time": "2021-10-31T11:07:45.002Z"
   },
   {
    "duration": 459,
    "start_time": "2021-10-31T11:08:05.984Z"
   },
   {
    "duration": 445,
    "start_time": "2021-10-31T11:10:28.976Z"
   },
   {
    "duration": 127,
    "start_time": "2021-10-31T11:28:24.426Z"
   },
   {
    "duration": 104,
    "start_time": "2021-10-31T11:29:48.182Z"
   },
   {
    "duration": 171,
    "start_time": "2021-10-31T11:40:07.291Z"
   },
   {
    "duration": 1377,
    "start_time": "2021-10-31T11:40:44.487Z"
   },
   {
    "duration": 447,
    "start_time": "2021-10-31T11:40:59.815Z"
   },
   {
    "duration": 282,
    "start_time": "2021-10-31T11:41:05.282Z"
   },
   {
    "duration": 243,
    "start_time": "2021-10-31T11:41:05.675Z"
   },
   {
    "duration": 120,
    "start_time": "2021-10-31T11:41:06.069Z"
   },
   {
    "duration": 27,
    "start_time": "2021-10-31T11:41:06.448Z"
   },
   {
    "duration": 43,
    "start_time": "2021-10-31T11:41:06.641Z"
   },
   {
    "duration": 44,
    "start_time": "2021-10-31T11:41:07.676Z"
   },
   {
    "duration": 34,
    "start_time": "2021-10-31T11:41:08.119Z"
   },
   {
    "duration": 30,
    "start_time": "2021-10-31T11:41:09.506Z"
   },
   {
    "duration": 10,
    "start_time": "2021-10-31T11:41:09.539Z"
   },
   {
    "duration": 179,
    "start_time": "2021-10-31T11:41:10.014Z"
   },
   {
    "duration": 47,
    "start_time": "2021-10-31T11:41:10.816Z"
   },
   {
    "duration": 399,
    "start_time": "2021-10-31T11:41:11.449Z"
   },
   {
    "duration": 78,
    "start_time": "2021-10-31T11:41:56.693Z"
   },
   {
    "duration": 69,
    "start_time": "2021-10-31T11:42:23.511Z"
   },
   {
    "duration": 65,
    "start_time": "2021-10-31T11:43:13.582Z"
   },
   {
    "duration": 71,
    "start_time": "2021-10-31T11:43:22.019Z"
   },
   {
    "duration": 68,
    "start_time": "2021-10-31T11:43:41.141Z"
   },
   {
    "duration": 71,
    "start_time": "2021-10-31T11:44:14.642Z"
   },
   {
    "duration": 75,
    "start_time": "2021-10-31T11:44:56.071Z"
   },
   {
    "duration": 74,
    "start_time": "2021-10-31T11:45:22.758Z"
   },
   {
    "duration": 46,
    "start_time": "2021-10-31T11:45:26.710Z"
   },
   {
    "duration": 396,
    "start_time": "2021-10-31T11:45:51.890Z"
   },
   {
    "duration": 46,
    "start_time": "2021-10-31T11:45:59.988Z"
   },
   {
    "duration": 54,
    "start_time": "2021-10-31T11:46:12.520Z"
   },
   {
    "duration": 44,
    "start_time": "2021-10-31T11:49:32.890Z"
   },
   {
    "duration": 3,
    "start_time": "2021-10-31T12:34:16.319Z"
   },
   {
    "duration": 17,
    "start_time": "2021-10-31T12:40:06.709Z"
   },
   {
    "duration": 28,
    "start_time": "2021-10-31T12:40:56.163Z"
   },
   {
    "duration": 14,
    "start_time": "2021-10-31T12:41:07.803Z"
   },
   {
    "duration": 74,
    "start_time": "2021-10-31T12:41:27.686Z"
   },
   {
    "duration": 64,
    "start_time": "2021-10-31T12:41:42.938Z"
   },
   {
    "duration": 61,
    "start_time": "2021-10-31T12:41:49.356Z"
   },
   {
    "duration": 87,
    "start_time": "2021-10-31T12:44:37.059Z"
   },
   {
    "duration": 15,
    "start_time": "2021-10-31T12:45:42.167Z"
   },
   {
    "duration": 8,
    "start_time": "2021-10-31T12:47:24.886Z"
   },
   {
    "duration": 14,
    "start_time": "2021-10-31T12:47:38.967Z"
   },
   {
    "duration": 9729,
    "start_time": "2021-10-31T12:47:47.213Z"
   },
   {
    "duration": 9820,
    "start_time": "2021-10-31T12:48:08.298Z"
   },
   {
    "duration": 13,
    "start_time": "2021-10-31T12:48:58.470Z"
   },
   {
    "duration": 22,
    "start_time": "2021-10-31T12:49:21.358Z"
   },
   {
    "duration": 11,
    "start_time": "2021-10-31T12:49:35.885Z"
   },
   {
    "duration": 7,
    "start_time": "2021-10-31T12:49:47.298Z"
   },
   {
    "duration": 15,
    "start_time": "2021-10-31T12:49:53.397Z"
   },
   {
    "duration": 36,
    "start_time": "2021-10-31T12:50:02.336Z"
   },
   {
    "duration": 413,
    "start_time": "2021-10-31T15:35:12.468Z"
   },
   {
    "duration": 743,
    "start_time": "2021-10-31T15:35:20.040Z"
   },
   {
    "duration": 143,
    "start_time": "2021-10-31T15:35:20.784Z"
   },
   {
    "duration": 101,
    "start_time": "2021-10-31T15:35:20.929Z"
   },
   {
    "duration": 24,
    "start_time": "2021-10-31T15:35:21.257Z"
   },
   {
    "duration": 40,
    "start_time": "2021-10-31T15:35:21.413Z"
   },
   {
    "duration": 45,
    "start_time": "2021-10-31T15:35:22.401Z"
   },
   {
    "duration": 32,
    "start_time": "2021-10-31T15:35:22.846Z"
   },
   {
    "duration": 28,
    "start_time": "2021-10-31T15:35:23.287Z"
   },
   {
    "duration": 8,
    "start_time": "2021-10-31T15:35:23.717Z"
   },
   {
    "duration": 114,
    "start_time": "2021-10-31T15:35:24.930Z"
   },
   {
    "duration": 45,
    "start_time": "2021-10-31T15:35:25.507Z"
   },
   {
    "duration": 51,
    "start_time": "2021-10-31T15:35:26.044Z"
   },
   {
    "duration": 13,
    "start_time": "2021-10-31T15:35:26.798Z"
   },
   {
    "duration": 12,
    "start_time": "2021-10-31T15:35:53.367Z"
   },
   {
    "duration": 9,
    "start_time": "2021-10-31T15:37:25.803Z"
   },
   {
    "duration": 17,
    "start_time": "2021-10-31T15:37:32.836Z"
   },
   {
    "duration": 12,
    "start_time": "2021-10-31T15:40:54.696Z"
   },
   {
    "duration": 12,
    "start_time": "2021-10-31T15:40:58.831Z"
   },
   {
    "duration": 16,
    "start_time": "2021-10-31T15:41:01.017Z"
   },
   {
    "duration": 13,
    "start_time": "2021-10-31T15:41:09.990Z"
   },
   {
    "duration": 15,
    "start_time": "2021-10-31T15:41:10.684Z"
   },
   {
    "duration": 7,
    "start_time": "2021-10-31T15:42:14.382Z"
   },
   {
    "duration": 18,
    "start_time": "2021-10-31T15:43:51.233Z"
   },
   {
    "duration": 9,
    "start_time": "2021-10-31T15:47:46.494Z"
   },
   {
    "duration": 30,
    "start_time": "2021-10-31T15:47:53.869Z"
   },
   {
    "duration": 125,
    "start_time": "2021-10-31T15:50:44.778Z"
   },
   {
    "duration": 119,
    "start_time": "2021-10-31T15:51:02.203Z"
   },
   {
    "duration": 49,
    "start_time": "2021-10-31T15:51:32.369Z"
   },
   {
    "duration": 49,
    "start_time": "2021-10-31T15:51:57.108Z"
   },
   {
    "duration": 45,
    "start_time": "2021-10-31T15:52:05.399Z"
   },
   {
    "duration": 281,
    "start_time": "2021-10-31T15:52:17.625Z"
   },
   {
    "duration": 16,
    "start_time": "2021-10-31T15:52:20.459Z"
   },
   {
    "duration": 21,
    "start_time": "2021-10-31T15:52:48.257Z"
   },
   {
    "duration": 15,
    "start_time": "2021-10-31T15:53:08.698Z"
   },
   {
    "duration": 23,
    "start_time": "2021-10-31T15:53:14.222Z"
   },
   {
    "duration": 17,
    "start_time": "2021-10-31T15:53:21.891Z"
   },
   {
    "duration": 179,
    "start_time": "2021-10-31T15:53:56.782Z"
   },
   {
    "duration": 155,
    "start_time": "2021-10-31T15:53:57.141Z"
   },
   {
    "duration": 108,
    "start_time": "2021-10-31T15:53:57.512Z"
   },
   {
    "duration": 24,
    "start_time": "2021-10-31T15:53:57.888Z"
   },
   {
    "duration": 39,
    "start_time": "2021-10-31T15:53:58.081Z"
   },
   {
    "duration": 40,
    "start_time": "2021-10-31T15:53:59.047Z"
   },
   {
    "duration": 32,
    "start_time": "2021-10-31T15:53:59.423Z"
   },
   {
    "duration": 26,
    "start_time": "2021-10-31T15:53:59.800Z"
   },
   {
    "duration": 9,
    "start_time": "2021-10-31T15:54:00.168Z"
   },
   {
    "duration": 113,
    "start_time": "2021-10-31T15:54:01.196Z"
   },
   {
    "duration": 41,
    "start_time": "2021-10-31T15:54:01.632Z"
   },
   {
    "duration": 42,
    "start_time": "2021-10-31T15:54:02.047Z"
   },
   {
    "duration": 12,
    "start_time": "2021-10-31T15:54:02.493Z"
   },
   {
    "duration": 19,
    "start_time": "2021-10-31T15:54:02.832Z"
   },
   {
    "duration": 18,
    "start_time": "2021-10-31T15:54:03.104Z"
   },
   {
    "duration": 24,
    "start_time": "2021-10-31T15:54:03.358Z"
   },
   {
    "duration": 258,
    "start_time": "2021-10-31T16:15:06.885Z"
   },
   {
    "duration": 1178,
    "start_time": "2021-10-31T16:16:43.002Z"
   },
   {
    "duration": 10,
    "start_time": "2021-10-31T16:18:05.876Z"
   },
   {
    "duration": 1029,
    "start_time": "2021-10-31T16:18:14.253Z"
   },
   {
    "duration": 41,
    "start_time": "2021-10-31T16:18:50.192Z"
   },
   {
    "duration": 39,
    "start_time": "2021-10-31T16:19:04.314Z"
   },
   {
    "duration": 163,
    "start_time": "2021-10-31T16:19:08.801Z"
   },
   {
    "duration": 144,
    "start_time": "2021-10-31T16:19:09.193Z"
   },
   {
    "duration": 106,
    "start_time": "2021-10-31T16:19:09.570Z"
   },
   {
    "duration": 25,
    "start_time": "2021-10-31T16:19:09.927Z"
   },
   {
    "duration": 38,
    "start_time": "2021-10-31T16:19:10.113Z"
   },
   {
    "duration": 38,
    "start_time": "2021-10-31T16:19:11.070Z"
   },
   {
    "duration": 29,
    "start_time": "2021-10-31T16:19:11.476Z"
   },
   {
    "duration": 27,
    "start_time": "2021-10-31T16:19:11.911Z"
   },
   {
    "duration": 7,
    "start_time": "2021-10-31T16:19:12.308Z"
   },
   {
    "duration": 94,
    "start_time": "2021-10-31T16:19:13.576Z"
   },
   {
    "duration": 39,
    "start_time": "2021-10-31T16:19:14.049Z"
   },
   {
    "duration": 38,
    "start_time": "2021-10-31T16:19:14.502Z"
   },
   {
    "duration": 13,
    "start_time": "2021-10-31T16:19:15.014Z"
   },
   {
    "duration": 15,
    "start_time": "2021-10-31T16:19:15.297Z"
   },
   {
    "duration": 17,
    "start_time": "2021-10-31T16:19:15.679Z"
   },
   {
    "duration": 24,
    "start_time": "2021-10-31T16:19:15.975Z"
   },
   {
    "duration": 26,
    "start_time": "2021-10-31T16:19:16.332Z"
   },
   {
    "duration": 991,
    "start_time": "2021-10-31T16:38:22.890Z"
   },
   {
    "duration": 175,
    "start_time": "2021-10-31T16:38:30.350Z"
   },
   {
    "duration": 149,
    "start_time": "2021-10-31T16:38:30.733Z"
   },
   {
    "duration": 111,
    "start_time": "2021-10-31T16:38:31.070Z"
   },
   {
    "duration": 26,
    "start_time": "2021-10-31T16:38:31.425Z"
   },
   {
    "duration": 40,
    "start_time": "2021-10-31T16:38:31.585Z"
   },
   {
    "duration": 40,
    "start_time": "2021-10-31T16:38:32.495Z"
   },
   {
    "duration": 31,
    "start_time": "2021-10-31T16:38:32.876Z"
   },
   {
    "duration": 27,
    "start_time": "2021-10-31T16:38:33.253Z"
   },
   {
    "duration": 8,
    "start_time": "2021-10-31T16:38:33.618Z"
   },
   {
    "duration": 101,
    "start_time": "2021-10-31T16:38:34.585Z"
   },
   {
    "duration": 43,
    "start_time": "2021-10-31T16:38:35.006Z"
   },
   {
    "duration": 38,
    "start_time": "2021-10-31T16:38:35.472Z"
   },
   {
    "duration": 13,
    "start_time": "2021-10-31T16:38:36.210Z"
   },
   {
    "duration": 18,
    "start_time": "2021-10-31T16:38:36.466Z"
   },
   {
    "duration": 18,
    "start_time": "2021-10-31T16:38:36.707Z"
   },
   {
    "duration": 26,
    "start_time": "2021-10-31T16:38:36.947Z"
   },
   {
    "duration": 22,
    "start_time": "2021-10-31T16:38:37.216Z"
   },
   {
    "duration": 4,
    "start_time": "2021-10-31T16:38:37.895Z"
   },
   {
    "duration": 3444,
    "start_time": "2021-10-31T16:42:02.377Z"
   },
   {
    "duration": 990,
    "start_time": "2021-10-31T16:48:06.009Z"
   },
   {
    "duration": 158,
    "start_time": "2021-10-31T16:48:13.033Z"
   },
   {
    "duration": 142,
    "start_time": "2021-10-31T16:48:13.437Z"
   },
   {
    "duration": 101,
    "start_time": "2021-10-31T16:48:13.812Z"
   },
   {
    "duration": 25,
    "start_time": "2021-10-31T16:48:14.200Z"
   },
   {
    "duration": 41,
    "start_time": "2021-10-31T16:48:14.391Z"
   },
   {
    "duration": 39,
    "start_time": "2021-10-31T16:48:15.345Z"
   },
   {
    "duration": 32,
    "start_time": "2021-10-31T16:48:15.732Z"
   },
   {
    "duration": 26,
    "start_time": "2021-10-31T16:48:16.131Z"
   },
   {
    "duration": 8,
    "start_time": "2021-10-31T16:48:16.501Z"
   },
   {
    "duration": 105,
    "start_time": "2021-10-31T16:48:17.664Z"
   },
   {
    "duration": 39,
    "start_time": "2021-10-31T16:48:18.241Z"
   },
   {
    "duration": 39,
    "start_time": "2021-10-31T16:48:18.760Z"
   },
   {
    "duration": 15,
    "start_time": "2021-10-31T16:48:19.341Z"
   },
   {
    "duration": 19,
    "start_time": "2021-10-31T16:48:19.603Z"
   },
   {
    "duration": 18,
    "start_time": "2021-10-31T16:48:19.855Z"
   },
   {
    "duration": 29,
    "start_time": "2021-10-31T16:48:20.125Z"
   },
   {
    "duration": 27,
    "start_time": "2021-10-31T16:48:20.376Z"
   },
   {
    "duration": 5554,
    "start_time": "2021-10-31T16:48:20.986Z"
   },
   {
    "duration": 3561,
    "start_time": "2021-10-31T16:50:50.545Z"
   },
   {
    "duration": 3422,
    "start_time": "2021-10-31T16:51:09.140Z"
   },
   {
    "duration": 178,
    "start_time": "2021-10-31T16:53:59.585Z"
   },
   {
    "duration": 160,
    "start_time": "2021-10-31T16:54:00.003Z"
   },
   {
    "duration": 108,
    "start_time": "2021-10-31T16:54:00.376Z"
   },
   {
    "duration": 27,
    "start_time": "2021-10-31T16:54:00.741Z"
   },
   {
    "duration": 40,
    "start_time": "2021-10-31T16:54:00.924Z"
   },
   {
    "duration": 44,
    "start_time": "2021-10-31T16:54:01.891Z"
   },
   {
    "duration": 33,
    "start_time": "2021-10-31T16:54:02.265Z"
   },
   {
    "duration": 28,
    "start_time": "2021-10-31T16:54:02.672Z"
   },
   {
    "duration": 8,
    "start_time": "2021-10-31T16:54:03.089Z"
   },
   {
    "duration": 109,
    "start_time": "2021-10-31T16:54:04.165Z"
   },
   {
    "duration": 43,
    "start_time": "2021-10-31T16:54:04.604Z"
   },
   {
    "duration": 39,
    "start_time": "2021-10-31T16:54:05.062Z"
   },
   {
    "duration": 13,
    "start_time": "2021-10-31T16:54:05.523Z"
   },
   {
    "duration": 18,
    "start_time": "2021-10-31T16:54:05.761Z"
   },
   {
    "duration": 18,
    "start_time": "2021-10-31T16:54:05.973Z"
   },
   {
    "duration": 25,
    "start_time": "2021-10-31T16:54:06.208Z"
   },
   {
    "duration": 29,
    "start_time": "2021-10-31T16:54:06.472Z"
   },
   {
    "duration": 5,
    "start_time": "2021-10-31T16:54:06.737Z"
   },
   {
    "duration": 3554,
    "start_time": "2021-10-31T16:54:07.032Z"
   },
   {
    "duration": 3509,
    "start_time": "2021-10-31T16:54:30.748Z"
   },
   {
    "duration": 169,
    "start_time": "2021-10-31T16:55:16.527Z"
   },
   {
    "duration": 161,
    "start_time": "2021-10-31T16:55:17.142Z"
   },
   {
    "duration": 103,
    "start_time": "2021-10-31T16:55:17.507Z"
   },
   {
    "duration": 26,
    "start_time": "2021-10-31T16:55:17.884Z"
   },
   {
    "duration": 42,
    "start_time": "2021-10-31T16:55:18.078Z"
   },
   {
    "duration": 40,
    "start_time": "2021-10-31T16:55:19.055Z"
   },
   {
    "duration": 32,
    "start_time": "2021-10-31T16:55:19.466Z"
   },
   {
    "duration": 27,
    "start_time": "2021-10-31T16:55:19.853Z"
   },
   {
    "duration": 8,
    "start_time": "2021-10-31T16:55:20.250Z"
   },
   {
    "duration": 104,
    "start_time": "2021-10-31T16:55:21.291Z"
   },
   {
    "duration": 43,
    "start_time": "2021-10-31T16:55:21.837Z"
   },
   {
    "duration": 41,
    "start_time": "2021-10-31T16:55:22.365Z"
   },
   {
    "duration": 15,
    "start_time": "2021-10-31T16:55:22.913Z"
   },
   {
    "duration": 17,
    "start_time": "2021-10-31T16:55:23.169Z"
   },
   {
    "duration": 16,
    "start_time": "2021-10-31T16:55:23.455Z"
   },
   {
    "duration": 34,
    "start_time": "2021-10-31T16:55:23.687Z"
   },
   {
    "duration": 22,
    "start_time": "2021-10-31T16:55:23.951Z"
   },
   {
    "duration": 6,
    "start_time": "2021-10-31T16:55:24.244Z"
   },
   {
    "duration": 3885,
    "start_time": "2021-10-31T16:55:24.791Z"
   },
   {
    "duration": 27,
    "start_time": "2021-10-31T16:55:58.935Z"
   },
   {
    "duration": 453,
    "start_time": "2021-10-31T16:57:28.457Z"
   },
   {
    "duration": 434,
    "start_time": "2021-10-31T16:57:37.604Z"
   },
   {
    "duration": 463,
    "start_time": "2021-10-31T16:57:59.673Z"
   },
   {
    "duration": 8576,
    "start_time": "2021-10-31T16:58:45.518Z"
   },
   {
    "duration": 197,
    "start_time": "2021-10-31T16:59:10.712Z"
   },
   {
    "duration": 224,
    "start_time": "2021-10-31T16:59:23.166Z"
   },
   {
    "duration": 166,
    "start_time": "2021-10-31T16:59:37.989Z"
   },
   {
    "duration": 142,
    "start_time": "2021-10-31T16:59:38.376Z"
   },
   {
    "duration": 105,
    "start_time": "2021-10-31T16:59:38.740Z"
   },
   {
    "duration": 24,
    "start_time": "2021-10-31T16:59:39.104Z"
   },
   {
    "duration": 40,
    "start_time": "2021-10-31T16:59:39.297Z"
   },
   {
    "duration": 40,
    "start_time": "2021-10-31T16:59:40.244Z"
   },
   {
    "duration": 32,
    "start_time": "2021-10-31T16:59:40.638Z"
   },
   {
    "duration": 26,
    "start_time": "2021-10-31T16:59:41.045Z"
   },
   {
    "duration": 8,
    "start_time": "2021-10-31T16:59:41.433Z"
   },
   {
    "duration": 107,
    "start_time": "2021-10-31T16:59:42.471Z"
   },
   {
    "duration": 41,
    "start_time": "2021-10-31T16:59:42.867Z"
   },
   {
    "duration": 41,
    "start_time": "2021-10-31T16:59:43.274Z"
   },
   {
    "duration": 14,
    "start_time": "2021-10-31T16:59:43.710Z"
   },
   {
    "duration": 16,
    "start_time": "2021-10-31T16:59:43.924Z"
   },
   {
    "duration": 17,
    "start_time": "2021-10-31T16:59:44.158Z"
   },
   {
    "duration": 25,
    "start_time": "2021-10-31T16:59:44.357Z"
   },
   {
    "duration": 21,
    "start_time": "2021-10-31T16:59:44.592Z"
   },
   {
    "duration": 262,
    "start_time": "2021-10-31T16:59:44.805Z"
   },
   {
    "duration": 209,
    "start_time": "2021-10-31T16:59:55.145Z"
   },
   {
    "duration": 225,
    "start_time": "2021-10-31T17:00:14.541Z"
   },
   {
    "duration": 215,
    "start_time": "2021-10-31T17:00:44.145Z"
   },
   {
    "duration": 198,
    "start_time": "2021-10-31T17:00:57.877Z"
   },
   {
    "duration": 224,
    "start_time": "2021-10-31T17:01:09.746Z"
   },
   {
    "duration": 2,
    "start_time": "2021-10-31T17:06:18.287Z"
   },
   {
    "duration": 4,
    "start_time": "2021-10-31T17:13:42.045Z"
   },
   {
    "duration": 13,
    "start_time": "2021-10-31T17:16:25.535Z"
   },
   {
    "duration": 14,
    "start_time": "2021-10-31T17:16:37.249Z"
   },
   {
    "duration": 310,
    "start_time": "2021-10-31T17:17:21.692Z"
   },
   {
    "duration": 210,
    "start_time": "2021-10-31T17:17:25.968Z"
   },
   {
    "duration": 242,
    "start_time": "2021-10-31T17:18:23.580Z"
   },
   {
    "duration": 16,
    "start_time": "2021-10-31T17:18:31.751Z"
   },
   {
    "duration": 16,
    "start_time": "2021-10-31T17:18:58.811Z"
   },
   {
    "duration": 16,
    "start_time": "2021-10-31T17:19:12.036Z"
   },
   {
    "duration": 241,
    "start_time": "2021-10-31T17:19:22.181Z"
   },
   {
    "duration": 628,
    "start_time": "2021-10-31T17:19:51.945Z"
   },
   {
    "duration": 363,
    "start_time": "2021-10-31T17:19:58.689Z"
   },
   {
    "duration": 258,
    "start_time": "2021-10-31T17:20:04.111Z"
   },
   {
    "duration": 529,
    "start_time": "2021-10-31T17:21:27.737Z"
   },
   {
    "duration": 4143,
    "start_time": "2021-10-31T17:21:41.680Z"
   },
   {
    "duration": 223,
    "start_time": "2021-10-31T17:21:51.380Z"
   },
   {
    "duration": 244,
    "start_time": "2021-10-31T17:21:56.210Z"
   },
   {
    "duration": 489,
    "start_time": "2021-10-31T17:22:18.509Z"
   },
   {
    "duration": 263,
    "start_time": "2021-10-31T17:22:30.750Z"
   },
   {
    "duration": 87,
    "start_time": "2021-10-31T17:22:40.855Z"
   },
   {
    "duration": 17,
    "start_time": "2021-10-31T17:25:24.587Z"
   },
   {
    "duration": 17,
    "start_time": "2021-10-31T17:25:29.662Z"
   },
   {
    "duration": 259,
    "start_time": "2021-10-31T17:25:42.342Z"
   },
   {
    "duration": 366,
    "start_time": "2021-10-31T17:25:52.433Z"
   },
   {
    "duration": 253,
    "start_time": "2021-10-31T17:25:59.760Z"
   },
   {
    "duration": 14,
    "start_time": "2021-10-31T17:29:02.315Z"
   },
   {
    "duration": 257,
    "start_time": "2021-10-31T17:29:08.634Z"
   },
   {
    "duration": 352,
    "start_time": "2021-10-31T17:29:14.684Z"
   },
   {
    "duration": 250,
    "start_time": "2021-10-31T17:29:31.234Z"
   },
   {
    "duration": 266,
    "start_time": "2021-10-31T17:29:38.436Z"
   },
   {
    "duration": 15,
    "start_time": "2021-10-31T17:31:53.121Z"
   },
   {
    "duration": 249,
    "start_time": "2021-10-31T17:32:01.962Z"
   },
   {
    "duration": 442,
    "start_time": "2021-10-31T17:32:23.665Z"
   },
   {
    "duration": 6164,
    "start_time": "2021-10-31T17:33:01.560Z"
   },
   {
    "duration": 6264,
    "start_time": "2021-10-31T17:33:21.258Z"
   },
   {
    "duration": 307,
    "start_time": "2021-10-31T17:33:51.179Z"
   },
   {
    "duration": 512,
    "start_time": "2021-10-31T17:33:59.233Z"
   },
   {
    "duration": 530,
    "start_time": "2021-10-31T17:34:04.032Z"
   },
   {
    "duration": 243,
    "start_time": "2021-10-31T17:34:09.607Z"
   },
   {
    "duration": 282,
    "start_time": "2021-10-31T17:34:40.674Z"
   },
   {
    "duration": 274,
    "start_time": "2021-10-31T17:35:11.789Z"
   },
   {
    "duration": 82,
    "start_time": "2021-10-31T17:35:30.968Z"
   },
   {
    "duration": 286,
    "start_time": "2021-10-31T17:35:39.476Z"
   },
   {
    "duration": 14,
    "start_time": "2021-10-31T17:44:03.461Z"
   },
   {
    "duration": 17,
    "start_time": "2021-10-31T17:44:08.137Z"
   },
   {
    "duration": 13,
    "start_time": "2021-10-31T17:44:16.177Z"
   },
   {
    "duration": 25,
    "start_time": "2021-10-31T17:44:53.197Z"
   },
   {
    "duration": 26,
    "start_time": "2021-10-31T17:44:55.736Z"
   },
   {
    "duration": 53,
    "start_time": "2021-10-31T17:46:02.146Z"
   },
   {
    "duration": 26,
    "start_time": "2021-10-31T17:47:53.101Z"
   },
   {
    "duration": 175,
    "start_time": "2021-10-31T17:48:27.640Z"
   },
   {
    "duration": 4,
    "start_time": "2021-10-31T17:50:04.106Z"
   },
   {
    "duration": 256,
    "start_time": "2021-10-31T17:50:52.480Z"
   },
   {
    "duration": 89,
    "start_time": "2021-10-31T18:12:51.585Z"
   },
   {
    "duration": 416,
    "start_time": "2021-10-31T18:12:53.901Z"
   },
   {
    "duration": 295,
    "start_time": "2021-10-31T18:13:13.400Z"
   },
   {
    "duration": 83,
    "start_time": "2021-10-31T18:13:16.300Z"
   },
   {
    "duration": 259,
    "start_time": "2021-10-31T18:13:23.308Z"
   },
   {
    "duration": 415,
    "start_time": "2021-10-31T18:13:31.561Z"
   },
   {
    "duration": 431,
    "start_time": "2021-10-31T18:15:00.944Z"
   },
   {
    "duration": 252,
    "start_time": "2021-10-31T18:25:52.420Z"
   },
   {
    "duration": 2,
    "start_time": "2021-10-31T18:28:35.016Z"
   },
   {
    "duration": 2,
    "start_time": "2021-10-31T18:30:26.059Z"
   },
   {
    "duration": 255,
    "start_time": "2021-10-31T18:32:01.399Z"
   },
   {
    "duration": 206,
    "start_time": "2021-10-31T18:36:15.267Z"
   },
   {
    "duration": 255,
    "start_time": "2021-10-31T18:37:33.662Z"
   },
   {
    "duration": 263,
    "start_time": "2021-10-31T18:38:25.257Z"
   },
   {
    "duration": 193,
    "start_time": "2021-10-31T18:43:15.363Z"
   },
   {
    "duration": 204,
    "start_time": "2021-10-31T18:45:12.824Z"
   },
   {
    "duration": 225,
    "start_time": "2021-10-31T18:45:30.697Z"
   },
   {
    "duration": 206,
    "start_time": "2021-10-31T18:46:25.068Z"
   },
   {
    "duration": 206,
    "start_time": "2021-10-31T18:46:31.850Z"
   },
   {
    "duration": 90,
    "start_time": "2021-10-31T18:47:48.160Z"
   },
   {
    "duration": 80,
    "start_time": "2021-10-31T18:48:56.438Z"
   },
   {
    "duration": 209,
    "start_time": "2021-10-31T18:49:41.794Z"
   },
   {
    "duration": 543,
    "start_time": "2021-10-31T18:52:09.961Z"
   },
   {
    "duration": 326,
    "start_time": "2021-10-31T18:55:25.620Z"
   },
   {
    "duration": 326,
    "start_time": "2021-10-31T18:56:24.520Z"
   },
   {
    "duration": 363,
    "start_time": "2021-10-31T18:56:54.212Z"
   },
   {
    "duration": 346,
    "start_time": "2021-10-31T18:59:29.787Z"
   },
   {
    "duration": 364,
    "start_time": "2021-10-31T18:59:59.193Z"
   },
   {
    "duration": 620,
    "start_time": "2021-10-31T19:42:35.632Z"
   },
   {
    "duration": 875,
    "start_time": "2021-10-31T19:43:46.801Z"
   },
   {
    "duration": 1033,
    "start_time": "2021-10-31T19:44:10.951Z"
   },
   {
    "duration": 259,
    "start_time": "2021-10-31T19:47:52.083Z"
   },
   {
    "duration": 249,
    "start_time": "2021-10-31T19:47:55.213Z"
   },
   {
    "duration": 162,
    "start_time": "2021-10-31T19:48:03.270Z"
   },
   {
    "duration": 141,
    "start_time": "2021-10-31T19:48:03.642Z"
   },
   {
    "duration": 103,
    "start_time": "2021-10-31T19:48:03.992Z"
   },
   {
    "duration": 26,
    "start_time": "2021-10-31T19:48:04.349Z"
   },
   {
    "duration": 38,
    "start_time": "2021-10-31T19:48:04.542Z"
   },
   {
    "duration": 40,
    "start_time": "2021-10-31T19:48:05.581Z"
   },
   {
    "duration": 31,
    "start_time": "2021-10-31T19:48:05.978Z"
   },
   {
    "duration": 26,
    "start_time": "2021-10-31T19:48:06.396Z"
   },
   {
    "duration": 8,
    "start_time": "2021-10-31T19:48:06.791Z"
   },
   {
    "duration": 109,
    "start_time": "2021-10-31T19:48:07.789Z"
   },
   {
    "duration": 42,
    "start_time": "2021-10-31T19:48:08.240Z"
   },
   {
    "duration": 40,
    "start_time": "2021-10-31T19:48:08.640Z"
   },
   {
    "duration": 13,
    "start_time": "2021-10-31T19:48:09.292Z"
   },
   {
    "duration": 17,
    "start_time": "2021-10-31T19:48:09.508Z"
   },
   {
    "duration": 20,
    "start_time": "2021-10-31T19:48:09.708Z"
   },
   {
    "duration": 27,
    "start_time": "2021-10-31T19:48:09.918Z"
   },
   {
    "duration": 22,
    "start_time": "2021-10-31T19:48:10.139Z"
   },
   {
    "duration": 218,
    "start_time": "2021-10-31T19:48:10.350Z"
   },
   {
    "duration": 341,
    "start_time": "2021-10-31T19:48:11.003Z"
   },
   {
    "duration": 566,
    "start_time": "2021-10-31T19:48:11.462Z"
   },
   {
    "duration": 366,
    "start_time": "2021-10-31T19:48:12.030Z"
   },
   {
    "duration": 303,
    "start_time": "2021-10-31T19:48:12.946Z"
   },
   {
    "duration": 259,
    "start_time": "2021-10-31T19:48:46.271Z"
   },
   {
    "duration": 10,
    "start_time": "2021-10-31T19:48:54.675Z"
   },
   {
    "duration": 12,
    "start_time": "2021-10-31T19:49:33.588Z"
   },
   {
    "duration": 11,
    "start_time": "2021-10-31T19:49:42.263Z"
   },
   {
    "duration": 11,
    "start_time": "2021-10-31T19:56:31.384Z"
   },
   {
    "duration": 10,
    "start_time": "2021-10-31T20:04:03.832Z"
   },
   {
    "duration": 18,
    "start_time": "2021-10-31T20:04:29.367Z"
   },
   {
    "duration": 458,
    "start_time": "2021-10-31T20:16:15.985Z"
   },
   {
    "duration": 645,
    "start_time": "2021-10-31T20:16:45.599Z"
   },
   {
    "duration": 407,
    "start_time": "2021-10-31T20:16:51.325Z"
   },
   {
    "duration": 577,
    "start_time": "2021-10-31T20:19:04.162Z"
   },
   {
    "duration": 408,
    "start_time": "2021-10-31T20:19:19.594Z"
   },
   {
    "duration": 394,
    "start_time": "2021-10-31T20:20:01.156Z"
   },
   {
    "duration": 337,
    "start_time": "2021-10-31T20:20:31.763Z"
   },
   {
    "duration": 374,
    "start_time": "2021-10-31T20:20:42.408Z"
   },
   {
    "duration": 348,
    "start_time": "2021-10-31T20:22:22.848Z"
   },
   {
    "duration": 709,
    "start_time": "2021-10-31T20:22:31.613Z"
   },
   {
    "duration": 163,
    "start_time": "2021-10-31T20:35:14.216Z"
   },
   {
    "duration": 145,
    "start_time": "2021-10-31T20:35:14.638Z"
   },
   {
    "duration": 105,
    "start_time": "2021-10-31T20:35:15.036Z"
   },
   {
    "duration": 25,
    "start_time": "2021-10-31T20:35:15.484Z"
   },
   {
    "duration": 40,
    "start_time": "2021-10-31T20:35:15.765Z"
   },
   {
    "duration": 41,
    "start_time": "2021-10-31T20:35:16.739Z"
   },
   {
    "duration": 35,
    "start_time": "2021-10-31T20:35:17.188Z"
   },
   {
    "duration": 27,
    "start_time": "2021-10-31T20:35:17.779Z"
   },
   {
    "duration": 9,
    "start_time": "2021-10-31T20:35:18.120Z"
   },
   {
    "duration": 113,
    "start_time": "2021-10-31T20:35:19.326Z"
   },
   {
    "duration": 39,
    "start_time": "2021-10-31T20:35:19.777Z"
   },
   {
    "duration": 45,
    "start_time": "2021-10-31T20:35:20.144Z"
   },
   {
    "duration": 13,
    "start_time": "2021-10-31T20:35:20.796Z"
   },
   {
    "duration": 20,
    "start_time": "2021-10-31T20:35:21.058Z"
   },
   {
    "duration": 19,
    "start_time": "2021-10-31T20:35:21.265Z"
   },
   {
    "duration": 27,
    "start_time": "2021-10-31T20:35:21.499Z"
   },
   {
    "duration": 23,
    "start_time": "2021-10-31T20:35:21.720Z"
   },
   {
    "duration": 228,
    "start_time": "2021-10-31T20:35:21.956Z"
   },
   {
    "duration": 397,
    "start_time": "2021-10-31T20:35:23.020Z"
   },
   {
    "duration": 404,
    "start_time": "2021-10-31T20:35:23.905Z"
   },
   {
    "duration": 389,
    "start_time": "2021-10-31T20:35:24.832Z"
   },
   {
    "duration": 10,
    "start_time": "2021-10-31T20:35:26.811Z"
   },
   {
    "duration": 10,
    "start_time": "2021-10-31T20:35:29.747Z"
   },
   {
    "duration": 864,
    "start_time": "2021-11-01T05:40:31.768Z"
   },
   {
    "duration": 163,
    "start_time": "2021-11-01T05:40:32.634Z"
   },
   {
    "duration": 111,
    "start_time": "2021-11-01T05:40:32.807Z"
   },
   {
    "duration": 27,
    "start_time": "2021-11-01T05:40:32.920Z"
   },
   {
    "duration": 51,
    "start_time": "2021-11-01T05:40:32.949Z"
   },
   {
    "duration": 48,
    "start_time": "2021-11-01T05:40:33.002Z"
   },
   {
    "duration": 36,
    "start_time": "2021-11-01T05:40:33.052Z"
   },
   {
    "duration": 42,
    "start_time": "2021-11-01T05:40:33.090Z"
   },
   {
    "duration": 8,
    "start_time": "2021-11-01T05:40:33.134Z"
   },
   {
    "duration": 150,
    "start_time": "2021-11-01T05:40:33.144Z"
   },
   {
    "duration": 54,
    "start_time": "2021-11-01T05:40:33.295Z"
   },
   {
    "duration": 57,
    "start_time": "2021-11-01T05:40:33.351Z"
   },
   {
    "duration": 15,
    "start_time": "2021-11-01T05:40:33.410Z"
   },
   {
    "duration": 18,
    "start_time": "2021-11-01T05:40:33.427Z"
   },
   {
    "duration": 19,
    "start_time": "2021-11-01T05:40:33.447Z"
   },
   {
    "duration": 59,
    "start_time": "2021-11-01T05:40:33.467Z"
   },
   {
    "duration": 22,
    "start_time": "2021-11-01T05:40:33.528Z"
   },
   {
    "duration": 245,
    "start_time": "2021-11-01T05:40:33.551Z"
   },
   {
    "duration": 499,
    "start_time": "2021-11-01T05:40:33.797Z"
   },
   {
    "duration": 465,
    "start_time": "2021-11-01T05:40:34.299Z"
   },
   {
    "duration": 412,
    "start_time": "2021-11-01T05:40:34.766Z"
   },
   {
    "duration": 379,
    "start_time": "2021-11-01T05:40:35.180Z"
   },
   {
    "duration": 11,
    "start_time": "2021-11-01T05:40:35.562Z"
   },
   {
    "duration": 5,
    "start_time": "2021-11-01T05:47:19.724Z"
   },
   {
    "duration": 8,
    "start_time": "2021-11-01T05:48:04.459Z"
   },
   {
    "duration": 1166,
    "start_time": "2021-11-01T06:15:10.054Z"
   },
   {
    "duration": 243,
    "start_time": "2021-11-01T06:15:11.223Z"
   },
   {
    "duration": 206,
    "start_time": "2021-11-01T06:15:15.439Z"
   },
   {
    "duration": 143,
    "start_time": "2021-11-01T06:15:16.494Z"
   },
   {
    "duration": 31,
    "start_time": "2021-11-01T06:15:18.734Z"
   },
   {
    "duration": 47,
    "start_time": "2021-11-01T06:15:19.286Z"
   },
   {
    "duration": 74,
    "start_time": "2021-11-01T06:16:13.220Z"
   },
   {
    "duration": 16,
    "start_time": "2021-11-01T06:16:49.883Z"
   },
   {
    "duration": 91,
    "start_time": "2021-11-01T06:22:20.280Z"
   },
   {
    "duration": 125,
    "start_time": "2021-11-01T06:22:26.820Z"
   },
   {
    "duration": 829,
    "start_time": "2021-11-01T06:23:09.048Z"
   },
   {
    "duration": 3,
    "start_time": "2021-11-01T06:23:21.506Z"
   },
   {
    "duration": 230,
    "start_time": "2021-11-01T06:23:21.866Z"
   },
   {
    "duration": 196,
    "start_time": "2021-11-01T06:23:22.227Z"
   },
   {
    "duration": 133,
    "start_time": "2021-11-01T06:23:22.632Z"
   },
   {
    "duration": 31,
    "start_time": "2021-11-01T06:23:23.289Z"
   },
   {
    "duration": 46,
    "start_time": "2021-11-01T06:23:23.559Z"
   },
   {
    "duration": 58,
    "start_time": "2021-11-01T06:23:25.606Z"
   },
   {
    "duration": 42,
    "start_time": "2021-11-01T06:23:25.988Z"
   },
   {
    "duration": 36,
    "start_time": "2021-11-01T06:23:26.378Z"
   },
   {
    "duration": 12,
    "start_time": "2021-11-01T06:23:26.802Z"
   },
   {
    "duration": 90,
    "start_time": "2021-11-01T06:23:28.778Z"
   },
   {
    "duration": 106,
    "start_time": "2021-11-01T06:23:43.672Z"
   },
   {
    "duration": 196,
    "start_time": "2021-11-01T06:24:09.686Z"
   },
   {
    "duration": 405,
    "start_time": "2021-11-01T06:26:45.577Z"
   },
   {
    "duration": 208,
    "start_time": "2021-11-01T06:26:50.248Z"
   },
   {
    "duration": 75,
    "start_time": "2021-11-01T06:30:48.571Z"
   },
   {
    "duration": 131,
    "start_time": "2021-11-01T06:31:01.442Z"
   },
   {
    "duration": 22,
    "start_time": "2021-11-01T06:31:11.021Z"
   },
   {
    "duration": 27,
    "start_time": "2021-11-01T06:31:17.062Z"
   },
   {
    "duration": 28,
    "start_time": "2021-11-01T06:31:22.718Z"
   },
   {
    "duration": 43,
    "start_time": "2021-11-01T06:31:30.455Z"
   },
   {
    "duration": 7,
    "start_time": "2021-11-01T06:31:35.173Z"
   },
   {
    "duration": 4,
    "start_time": "2021-11-01T06:32:13.805Z"
   },
   {
    "duration": 230,
    "start_time": "2021-11-01T06:32:14.395Z"
   },
   {
    "duration": 202,
    "start_time": "2021-11-01T06:32:14.840Z"
   },
   {
    "duration": 139,
    "start_time": "2021-11-01T06:32:15.331Z"
   },
   {
    "duration": 31,
    "start_time": "2021-11-01T06:32:15.797Z"
   },
   {
    "duration": 47,
    "start_time": "2021-11-01T06:32:16.037Z"
   },
   {
    "duration": 56,
    "start_time": "2021-11-01T06:32:17.574Z"
   },
   {
    "duration": 45,
    "start_time": "2021-11-01T06:32:18.082Z"
   },
   {
    "duration": 37,
    "start_time": "2021-11-01T06:32:18.547Z"
   },
   {
    "duration": 13,
    "start_time": "2021-11-01T06:32:19.023Z"
   },
   {
    "duration": 196,
    "start_time": "2021-11-01T06:32:20.267Z"
   },
   {
    "duration": 70,
    "start_time": "2021-11-01T06:32:22.340Z"
   },
   {
    "duration": 74,
    "start_time": "2021-11-01T06:32:22.786Z"
   },
   {
    "duration": 25,
    "start_time": "2021-11-01T06:32:23.537Z"
   },
   {
    "duration": 25,
    "start_time": "2021-11-01T06:32:23.764Z"
   },
   {
    "duration": 28,
    "start_time": "2021-11-01T06:32:24.042Z"
   },
   {
    "duration": 45,
    "start_time": "2021-11-01T06:32:24.313Z"
   },
   {
    "duration": 5,
    "start_time": "2021-11-01T06:32:24.738Z"
   },
   {
    "duration": 34,
    "start_time": "2021-11-01T06:32:25.672Z"
   },
   {
    "duration": 397,
    "start_time": "2021-11-01T06:32:26.811Z"
   },
   {
    "duration": 12,
    "start_time": "2021-11-01T06:32:28.151Z"
   },
   {
    "duration": 951,
    "start_time": "2021-11-01T07:08:47.799Z"
   },
   {
    "duration": 4,
    "start_time": "2021-11-01T07:09:04.481Z"
   },
   {
    "duration": 227,
    "start_time": "2021-11-01T07:09:05.438Z"
   },
   {
    "duration": 197,
    "start_time": "2021-11-01T07:09:05.826Z"
   },
   {
    "duration": 144,
    "start_time": "2021-11-01T07:09:06.211Z"
   },
   {
    "duration": 32,
    "start_time": "2021-11-01T07:09:06.649Z"
   },
   {
    "duration": 50,
    "start_time": "2021-11-01T07:09:06.882Z"
   },
   {
    "duration": 56,
    "start_time": "2021-11-01T07:09:08.170Z"
   },
   {
    "duration": 45,
    "start_time": "2021-11-01T07:09:08.567Z"
   },
   {
    "duration": 38,
    "start_time": "2021-11-01T07:09:08.983Z"
   },
   {
    "duration": 13,
    "start_time": "2021-11-01T07:09:09.449Z"
   },
   {
    "duration": 178,
    "start_time": "2021-11-01T07:09:12.328Z"
   },
   {
    "duration": 71,
    "start_time": "2021-11-01T07:09:15.024Z"
   },
   {
    "duration": 71,
    "start_time": "2021-11-01T07:09:16.201Z"
   },
   {
    "duration": 23,
    "start_time": "2021-11-01T07:09:17.500Z"
   },
   {
    "duration": 27,
    "start_time": "2021-11-01T07:09:17.817Z"
   },
   {
    "duration": 30,
    "start_time": "2021-11-01T07:09:18.108Z"
   },
   {
    "duration": 42,
    "start_time": "2021-11-01T07:09:18.505Z"
   },
   {
    "duration": 6,
    "start_time": "2021-11-01T07:09:18.833Z"
   },
   {
    "duration": 33,
    "start_time": "2021-11-01T07:09:19.603Z"
   },
   {
    "duration": 396,
    "start_time": "2021-11-01T07:09:20.328Z"
   },
   {
    "duration": 10,
    "start_time": "2021-11-01T07:09:20.730Z"
   },
   {
    "duration": 697,
    "start_time": "2021-11-01T07:09:22.316Z"
   },
   {
    "duration": 684,
    "start_time": "2021-11-01T07:10:40.556Z"
   },
   {
    "duration": 726,
    "start_time": "2021-11-01T07:11:13.968Z"
   },
   {
    "duration": 694,
    "start_time": "2021-11-01T07:11:49.702Z"
   },
   {
    "duration": 1284,
    "start_time": "2021-11-01T07:19:44.027Z"
   },
   {
    "duration": 4,
    "start_time": "2021-11-01T07:19:50.711Z"
   },
   {
    "duration": 1207,
    "start_time": "2021-11-01T07:19:51.312Z"
   },
   {
    "duration": 1430,
    "start_time": "2021-11-01T07:21:14.742Z"
   },
   {
    "duration": 4,
    "start_time": "2021-11-01T07:22:09.198Z"
   },
   {
    "duration": 1230,
    "start_time": "2021-11-01T07:22:10.127Z"
   },
   {
    "duration": 783,
    "start_time": "2021-11-01T07:23:23.807Z"
   },
   {
    "duration": 1060,
    "start_time": "2021-11-01T07:25:02.844Z"
   },
   {
    "duration": 4,
    "start_time": "2021-11-01T07:25:09.712Z"
   },
   {
    "duration": 1086,
    "start_time": "2021-11-01T07:25:11.030Z"
   },
   {
    "duration": 884,
    "start_time": "2021-11-01T07:25:42.843Z"
   },
   {
    "duration": 1107,
    "start_time": "2021-11-01T07:26:11.371Z"
   },
   {
    "duration": 783,
    "start_time": "2021-11-01T07:26:42.579Z"
   },
   {
    "duration": 23,
    "start_time": "2021-11-01T07:27:49.670Z"
   },
   {
    "duration": 17,
    "start_time": "2021-11-01T07:30:03.247Z"
   },
   {
    "duration": 18,
    "start_time": "2021-11-01T07:30:25.439Z"
   },
   {
    "duration": 241,
    "start_time": "2021-11-01T07:41:49.151Z"
   },
   {
    "duration": 4,
    "start_time": "2021-11-01T07:41:53.620Z"
   },
   {
    "duration": 489,
    "start_time": "2021-11-01T07:41:54.076Z"
   },
   {
    "duration": 482,
    "start_time": "2021-11-01T07:42:30.087Z"
   },
   {
    "duration": 5,
    "start_time": "2021-11-01T07:42:47.479Z"
   },
   {
    "duration": 488,
    "start_time": "2021-11-01T07:42:48.756Z"
   },
   {
    "duration": 3,
    "start_time": "2021-11-01T07:43:03.000Z"
   },
   {
    "duration": 234,
    "start_time": "2021-11-01T07:43:03.395Z"
   },
   {
    "duration": 224,
    "start_time": "2021-11-01T07:43:03.729Z"
   },
   {
    "duration": 168,
    "start_time": "2021-11-01T07:43:04.055Z"
   },
   {
    "duration": 32,
    "start_time": "2021-11-01T07:43:04.410Z"
   },
   {
    "duration": 47,
    "start_time": "2021-11-01T07:43:04.615Z"
   },
   {
    "duration": 58,
    "start_time": "2021-11-01T07:43:05.802Z"
   },
   {
    "duration": 44,
    "start_time": "2021-11-01T07:43:06.230Z"
   },
   {
    "duration": 37,
    "start_time": "2021-11-01T07:43:06.607Z"
   },
   {
    "duration": 12,
    "start_time": "2021-11-01T07:43:06.958Z"
   },
   {
    "duration": 187,
    "start_time": "2021-11-01T07:43:07.935Z"
   },
   {
    "duration": 76,
    "start_time": "2021-11-01T07:43:09.574Z"
   },
   {
    "duration": 85,
    "start_time": "2021-11-01T07:43:10.021Z"
   },
   {
    "duration": 24,
    "start_time": "2021-11-01T07:43:10.702Z"
   },
   {
    "duration": 27,
    "start_time": "2021-11-01T07:43:10.923Z"
   },
   {
    "duration": 28,
    "start_time": "2021-11-01T07:43:11.171Z"
   },
   {
    "duration": 46,
    "start_time": "2021-11-01T07:43:11.587Z"
   },
   {
    "duration": 5,
    "start_time": "2021-11-01T07:43:11.899Z"
   },
   {
    "duration": 46,
    "start_time": "2021-11-01T07:43:12.368Z"
   },
   {
    "duration": 436,
    "start_time": "2021-11-01T07:43:12.593Z"
   },
   {
    "duration": 11,
    "start_time": "2021-11-01T07:43:13.087Z"
   },
   {
    "duration": 4,
    "start_time": "2021-11-01T07:43:14.429Z"
   },
   {
    "duration": 552,
    "start_time": "2021-11-01T07:43:14.857Z"
   },
   {
    "duration": 738,
    "start_time": "2021-11-01T07:43:38.269Z"
   },
   {
    "duration": 706,
    "start_time": "2021-11-01T07:43:46.786Z"
   },
   {
    "duration": 665,
    "start_time": "2021-11-01T07:43:48.014Z"
   },
   {
    "duration": 797,
    "start_time": "2021-11-01T07:43:49.268Z"
   },
   {
    "duration": 315,
    "start_time": "2021-11-01T07:45:18.517Z"
   },
   {
    "duration": 376,
    "start_time": "2021-11-01T07:45:33.366Z"
   },
   {
    "duration": 345,
    "start_time": "2021-11-01T07:45:43.898Z"
   },
   {
    "duration": 381,
    "start_time": "2021-11-01T07:45:57.718Z"
   },
   {
    "duration": 346,
    "start_time": "2021-11-01T07:46:12.868Z"
   },
   {
    "duration": 382,
    "start_time": "2021-11-01T07:46:18.215Z"
   },
   {
    "duration": 353,
    "start_time": "2021-11-01T07:46:25.414Z"
   },
   {
    "duration": 359,
    "start_time": "2021-11-01T07:47:21.790Z"
   },
   {
    "duration": 344,
    "start_time": "2021-11-01T07:47:58.239Z"
   },
   {
    "duration": 450,
    "start_time": "2021-11-01T07:48:11.214Z"
   },
   {
    "duration": 385,
    "start_time": "2021-11-01T07:48:28.651Z"
   },
   {
    "duration": 416,
    "start_time": "2021-11-01T07:48:37.789Z"
   },
   {
    "duration": 405,
    "start_time": "2021-11-01T07:48:59.366Z"
   }
  ],
  "kernelspec": {
   "display_name": "Python 3",
   "language": "python",
   "name": "python3"
  },
  "language_info": {
   "codemirror_mode": {
    "name": "ipython",
    "version": 3
   },
   "file_extension": ".py",
   "mimetype": "text/x-python",
   "name": "python",
   "nbconvert_exporter": "python",
   "pygments_lexer": "ipython3",
   "version": "3.8.5"
  },
  "toc": {
   "base_numbering": 1,
   "nav_menu": {},
   "number_sections": true,
   "sideBar": true,
   "skip_h1_title": true,
   "title_cell": "Table of Contents",
   "title_sidebar": "Contents",
   "toc_cell": false,
   "toc_position": {},
   "toc_section_display": true,
   "toc_window_display": false
  }
 },
 "nbformat": 4,
 "nbformat_minor": 2
}
