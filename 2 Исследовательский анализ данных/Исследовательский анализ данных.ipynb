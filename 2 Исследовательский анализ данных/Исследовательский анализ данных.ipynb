{
 "cells": [
  {
   "cell_type": "markdown",
   "metadata": {},
   "source": [
    "# Исследование объявлений о продаже квартир\n",
    "\n",
    "Даны данные сервиса Яндекс.Недвижимость — архив объявлений о продаже квартир в Санкт-Петербурге и соседних населённых пунктах за несколько лет. Нужно научиться определять рыночную стоимость объектов недвижимости. Это позволит построить автоматизированную систему: она отследит аномалии и мошенническую деятельность. \n",
    "\n",
    "По каждой квартире на продажу доступны два вида данных. Первые вписаны пользователем, вторые получены автоматически на основе картографических данных. Например, расстояние до центра, аэропорта, ближайшего парка и водоёма. "
   ]
  },
  {
   "cell_type": "markdown",
   "metadata": {},
   "source": [
    "# Описание данных"
   ]
  },
  {
   "cell_type": "markdown",
   "metadata": {},
   "source": [
    "<ul>\n",
    "<li>airports_nearest — расстояние до ближайшего аэропорта в метрах (м)</li>\n",
    "<li>balcony — число балконов</li>\n",
    "<li>ceiling_height — высота потолков (м)</li>\n",
    "<li>cityCenters_nearest — расстояние до центра города (м)</li>\n",
    "<li>days_exposition — сколько дней было размещено объявление (от публикации до снятия)</li>\n",
    "<li>first_day_exposition — дата публикации</li>\n",
    "<li>floor — этаж</li>\n",
    "<li>floors_total — всего этажей в доме</li>\n",
    "<li>is_apartment — апартаменты (булев тип)</li>\n",
    "<li>kitchen_area — площадь кухни в квадратных метрах (м²)</li>\n",
    "<li>last_price — цена на момент снятия с публикации</li>\n",
    "<li>living_area — жилая площадь в квадратных метрах (м²)</li>\n",
    "<li>locality_name — название населённого пункта</li>\n",
    "<li>open_plan — свободная планировка (булев тип)</li>\n",
    "<li>parks_around3000 — число парков в радиусе 3 км</li>\n",
    "<li>parks_nearest — расстояние до ближайшего парка (м)</li>\n",
    "<li>ponds_around3000 — число водоёмов в радиусе 3 км</li>\n",
    "<li>ponds_nearest — расстояние до ближайшего водоёма (м)</li>\n",
    "<li>rooms — число комнат</li>\n",
    "<li>studio — квартира-студия (булев тип)</li>\n",
    "<li>total_area — площадь квартиры в квадратных метрах (м²)</li>\n",
    "<li>total_images — число фотографий квартиры в объявлении</li>\n",
    "</ul>"
   ]
  },
  {
   "cell_type": "code",
   "execution_count": 1,
   "metadata": {},
   "outputs": [],
   "source": [
    "import pandas as pd\n",
    "import matplotlib.pyplot as plt\n",
    "import warnings\n",
    "warnings.filterwarnings('ignore')"
   ]
  },
  {
   "cell_type": "markdown",
   "metadata": {},
   "source": [
    "## Изучение данных из файла"
   ]
  },
  {
   "cell_type": "code",
   "execution_count": 2,
   "metadata": {},
   "outputs": [
    {
     "name": "stdout",
     "output_type": "stream",
     "text": [
      "<class 'pandas.core.frame.DataFrame'>\n",
      "RangeIndex: 23699 entries, 0 to 23698\n",
      "Data columns (total 22 columns):\n",
      " #   Column                Non-Null Count  Dtype  \n",
      "---  ------                --------------  -----  \n",
      " 0   total_images          23699 non-null  int64  \n",
      " 1   last_price            23699 non-null  float64\n",
      " 2   total_area            23699 non-null  float64\n",
      " 3   first_day_exposition  23699 non-null  object \n",
      " 4   rooms                 23699 non-null  int64  \n",
      " 5   ceiling_height        14504 non-null  float64\n",
      " 6   floors_total          23613 non-null  float64\n",
      " 7   living_area           21796 non-null  float64\n",
      " 8   floor                 23699 non-null  int64  \n",
      " 9   is_apartment          2775 non-null   object \n",
      " 10  studio                23699 non-null  bool   \n",
      " 11  open_plan             23699 non-null  bool   \n",
      " 12  kitchen_area          21421 non-null  float64\n",
      " 13  balcony               12180 non-null  float64\n",
      " 14  locality_name         23650 non-null  object \n",
      " 15  airports_nearest      18157 non-null  float64\n",
      " 16  cityCenters_nearest   18180 non-null  float64\n",
      " 17  parks_around3000      18181 non-null  float64\n",
      " 18  parks_nearest         8079 non-null   float64\n",
      " 19  ponds_around3000      18181 non-null  float64\n",
      " 20  ponds_nearest         9110 non-null   float64\n",
      " 21  days_exposition       20518 non-null  float64\n",
      "dtypes: bool(2), float64(14), int64(3), object(3)\n",
      "memory usage: 3.7+ MB\n",
      "None\n"
     ]
    }
   ],
   "source": [
    "data = pd.read_csv('real_estate_data.csv', sep = '\\t')\n",
    "print(data.info())"
   ]
  },
  {
   "cell_type": "code",
   "execution_count": 3,
   "metadata": {},
   "outputs": [
    {
     "data": {
      "text/html": [
       "<div>\n",
       "<style scoped>\n",
       "    .dataframe tbody tr th:only-of-type {\n",
       "        vertical-align: middle;\n",
       "    }\n",
       "\n",
       "    .dataframe tbody tr th {\n",
       "        vertical-align: top;\n",
       "    }\n",
       "\n",
       "    .dataframe thead th {\n",
       "        text-align: right;\n",
       "    }\n",
       "</style>\n",
       "<table border=\"1\" class=\"dataframe\">\n",
       "  <thead>\n",
       "    <tr style=\"text-align: right;\">\n",
       "      <th></th>\n",
       "      <th>total_images</th>\n",
       "      <th>last_price</th>\n",
       "      <th>total_area</th>\n",
       "      <th>first_day_exposition</th>\n",
       "      <th>rooms</th>\n",
       "      <th>ceiling_height</th>\n",
       "      <th>floors_total</th>\n",
       "      <th>living_area</th>\n",
       "      <th>floor</th>\n",
       "      <th>is_apartment</th>\n",
       "      <th>...</th>\n",
       "      <th>kitchen_area</th>\n",
       "      <th>balcony</th>\n",
       "      <th>locality_name</th>\n",
       "      <th>airports_nearest</th>\n",
       "      <th>cityCenters_nearest</th>\n",
       "      <th>parks_around3000</th>\n",
       "      <th>parks_nearest</th>\n",
       "      <th>ponds_around3000</th>\n",
       "      <th>ponds_nearest</th>\n",
       "      <th>days_exposition</th>\n",
       "    </tr>\n",
       "  </thead>\n",
       "  <tbody>\n",
       "    <tr>\n",
       "      <th>0</th>\n",
       "      <td>20</td>\n",
       "      <td>13000000.0</td>\n",
       "      <td>108.00</td>\n",
       "      <td>2019-03-07T00:00:00</td>\n",
       "      <td>3</td>\n",
       "      <td>2.70</td>\n",
       "      <td>16.0</td>\n",
       "      <td>51.00</td>\n",
       "      <td>8</td>\n",
       "      <td>NaN</td>\n",
       "      <td>...</td>\n",
       "      <td>25.00</td>\n",
       "      <td>NaN</td>\n",
       "      <td>Санкт-Петербург</td>\n",
       "      <td>18863.0</td>\n",
       "      <td>16028.0</td>\n",
       "      <td>1.0</td>\n",
       "      <td>482.0</td>\n",
       "      <td>2.0</td>\n",
       "      <td>755.0</td>\n",
       "      <td>NaN</td>\n",
       "    </tr>\n",
       "    <tr>\n",
       "      <th>1</th>\n",
       "      <td>7</td>\n",
       "      <td>3350000.0</td>\n",
       "      <td>40.40</td>\n",
       "      <td>2018-12-04T00:00:00</td>\n",
       "      <td>1</td>\n",
       "      <td>NaN</td>\n",
       "      <td>11.0</td>\n",
       "      <td>18.60</td>\n",
       "      <td>1</td>\n",
       "      <td>NaN</td>\n",
       "      <td>...</td>\n",
       "      <td>11.00</td>\n",
       "      <td>2.0</td>\n",
       "      <td>посёлок Шушары</td>\n",
       "      <td>12817.0</td>\n",
       "      <td>18603.0</td>\n",
       "      <td>0.0</td>\n",
       "      <td>NaN</td>\n",
       "      <td>0.0</td>\n",
       "      <td>NaN</td>\n",
       "      <td>81.0</td>\n",
       "    </tr>\n",
       "    <tr>\n",
       "      <th>2</th>\n",
       "      <td>10</td>\n",
       "      <td>5196000.0</td>\n",
       "      <td>56.00</td>\n",
       "      <td>2015-08-20T00:00:00</td>\n",
       "      <td>2</td>\n",
       "      <td>NaN</td>\n",
       "      <td>5.0</td>\n",
       "      <td>34.30</td>\n",
       "      <td>4</td>\n",
       "      <td>NaN</td>\n",
       "      <td>...</td>\n",
       "      <td>8.30</td>\n",
       "      <td>0.0</td>\n",
       "      <td>Санкт-Петербург</td>\n",
       "      <td>21741.0</td>\n",
       "      <td>13933.0</td>\n",
       "      <td>1.0</td>\n",
       "      <td>90.0</td>\n",
       "      <td>2.0</td>\n",
       "      <td>574.0</td>\n",
       "      <td>558.0</td>\n",
       "    </tr>\n",
       "    <tr>\n",
       "      <th>3</th>\n",
       "      <td>0</td>\n",
       "      <td>64900000.0</td>\n",
       "      <td>159.00</td>\n",
       "      <td>2015-07-24T00:00:00</td>\n",
       "      <td>3</td>\n",
       "      <td>NaN</td>\n",
       "      <td>14.0</td>\n",
       "      <td>NaN</td>\n",
       "      <td>9</td>\n",
       "      <td>NaN</td>\n",
       "      <td>...</td>\n",
       "      <td>NaN</td>\n",
       "      <td>0.0</td>\n",
       "      <td>Санкт-Петербург</td>\n",
       "      <td>28098.0</td>\n",
       "      <td>6800.0</td>\n",
       "      <td>2.0</td>\n",
       "      <td>84.0</td>\n",
       "      <td>3.0</td>\n",
       "      <td>234.0</td>\n",
       "      <td>424.0</td>\n",
       "    </tr>\n",
       "    <tr>\n",
       "      <th>4</th>\n",
       "      <td>2</td>\n",
       "      <td>10000000.0</td>\n",
       "      <td>100.00</td>\n",
       "      <td>2018-06-19T00:00:00</td>\n",
       "      <td>2</td>\n",
       "      <td>3.03</td>\n",
       "      <td>14.0</td>\n",
       "      <td>32.00</td>\n",
       "      <td>13</td>\n",
       "      <td>NaN</td>\n",
       "      <td>...</td>\n",
       "      <td>41.00</td>\n",
       "      <td>NaN</td>\n",
       "      <td>Санкт-Петербург</td>\n",
       "      <td>31856.0</td>\n",
       "      <td>8098.0</td>\n",
       "      <td>2.0</td>\n",
       "      <td>112.0</td>\n",
       "      <td>1.0</td>\n",
       "      <td>48.0</td>\n",
       "      <td>121.0</td>\n",
       "    </tr>\n",
       "    <tr>\n",
       "      <th>5</th>\n",
       "      <td>10</td>\n",
       "      <td>2890000.0</td>\n",
       "      <td>30.40</td>\n",
       "      <td>2018-09-10T00:00:00</td>\n",
       "      <td>1</td>\n",
       "      <td>NaN</td>\n",
       "      <td>12.0</td>\n",
       "      <td>14.40</td>\n",
       "      <td>5</td>\n",
       "      <td>NaN</td>\n",
       "      <td>...</td>\n",
       "      <td>9.10</td>\n",
       "      <td>NaN</td>\n",
       "      <td>городской посёлок Янино-1</td>\n",
       "      <td>NaN</td>\n",
       "      <td>NaN</td>\n",
       "      <td>NaN</td>\n",
       "      <td>NaN</td>\n",
       "      <td>NaN</td>\n",
       "      <td>NaN</td>\n",
       "      <td>55.0</td>\n",
       "    </tr>\n",
       "    <tr>\n",
       "      <th>6</th>\n",
       "      <td>6</td>\n",
       "      <td>3700000.0</td>\n",
       "      <td>37.30</td>\n",
       "      <td>2017-11-02T00:00:00</td>\n",
       "      <td>1</td>\n",
       "      <td>NaN</td>\n",
       "      <td>26.0</td>\n",
       "      <td>10.60</td>\n",
       "      <td>6</td>\n",
       "      <td>NaN</td>\n",
       "      <td>...</td>\n",
       "      <td>14.40</td>\n",
       "      <td>1.0</td>\n",
       "      <td>посёлок Парголово</td>\n",
       "      <td>52996.0</td>\n",
       "      <td>19143.0</td>\n",
       "      <td>0.0</td>\n",
       "      <td>NaN</td>\n",
       "      <td>0.0</td>\n",
       "      <td>NaN</td>\n",
       "      <td>155.0</td>\n",
       "    </tr>\n",
       "    <tr>\n",
       "      <th>7</th>\n",
       "      <td>5</td>\n",
       "      <td>7915000.0</td>\n",
       "      <td>71.60</td>\n",
       "      <td>2019-04-18T00:00:00</td>\n",
       "      <td>2</td>\n",
       "      <td>NaN</td>\n",
       "      <td>24.0</td>\n",
       "      <td>NaN</td>\n",
       "      <td>22</td>\n",
       "      <td>NaN</td>\n",
       "      <td>...</td>\n",
       "      <td>18.90</td>\n",
       "      <td>2.0</td>\n",
       "      <td>Санкт-Петербург</td>\n",
       "      <td>23982.0</td>\n",
       "      <td>11634.0</td>\n",
       "      <td>0.0</td>\n",
       "      <td>NaN</td>\n",
       "      <td>0.0</td>\n",
       "      <td>NaN</td>\n",
       "      <td>NaN</td>\n",
       "    </tr>\n",
       "    <tr>\n",
       "      <th>8</th>\n",
       "      <td>20</td>\n",
       "      <td>2900000.0</td>\n",
       "      <td>33.16</td>\n",
       "      <td>2018-05-23T00:00:00</td>\n",
       "      <td>1</td>\n",
       "      <td>NaN</td>\n",
       "      <td>27.0</td>\n",
       "      <td>15.43</td>\n",
       "      <td>26</td>\n",
       "      <td>NaN</td>\n",
       "      <td>...</td>\n",
       "      <td>8.81</td>\n",
       "      <td>NaN</td>\n",
       "      <td>посёлок Мурино</td>\n",
       "      <td>NaN</td>\n",
       "      <td>NaN</td>\n",
       "      <td>NaN</td>\n",
       "      <td>NaN</td>\n",
       "      <td>NaN</td>\n",
       "      <td>NaN</td>\n",
       "      <td>189.0</td>\n",
       "    </tr>\n",
       "    <tr>\n",
       "      <th>9</th>\n",
       "      <td>18</td>\n",
       "      <td>5400000.0</td>\n",
       "      <td>61.00</td>\n",
       "      <td>2017-02-26T00:00:00</td>\n",
       "      <td>3</td>\n",
       "      <td>2.50</td>\n",
       "      <td>9.0</td>\n",
       "      <td>43.60</td>\n",
       "      <td>7</td>\n",
       "      <td>NaN</td>\n",
       "      <td>...</td>\n",
       "      <td>6.50</td>\n",
       "      <td>2.0</td>\n",
       "      <td>Санкт-Петербург</td>\n",
       "      <td>50898.0</td>\n",
       "      <td>15008.0</td>\n",
       "      <td>0.0</td>\n",
       "      <td>NaN</td>\n",
       "      <td>0.0</td>\n",
       "      <td>NaN</td>\n",
       "      <td>289.0</td>\n",
       "    </tr>\n",
       "  </tbody>\n",
       "</table>\n",
       "<p>10 rows × 22 columns</p>\n",
       "</div>"
      ],
      "text/plain": [
       "   total_images  last_price  total_area first_day_exposition  rooms  \\\n",
       "0            20  13000000.0      108.00  2019-03-07T00:00:00      3   \n",
       "1             7   3350000.0       40.40  2018-12-04T00:00:00      1   \n",
       "2            10   5196000.0       56.00  2015-08-20T00:00:00      2   \n",
       "3             0  64900000.0      159.00  2015-07-24T00:00:00      3   \n",
       "4             2  10000000.0      100.00  2018-06-19T00:00:00      2   \n",
       "5            10   2890000.0       30.40  2018-09-10T00:00:00      1   \n",
       "6             6   3700000.0       37.30  2017-11-02T00:00:00      1   \n",
       "7             5   7915000.0       71.60  2019-04-18T00:00:00      2   \n",
       "8            20   2900000.0       33.16  2018-05-23T00:00:00      1   \n",
       "9            18   5400000.0       61.00  2017-02-26T00:00:00      3   \n",
       "\n",
       "   ceiling_height  floors_total  living_area  floor is_apartment  ...  \\\n",
       "0            2.70          16.0        51.00      8          NaN  ...   \n",
       "1             NaN          11.0        18.60      1          NaN  ...   \n",
       "2             NaN           5.0        34.30      4          NaN  ...   \n",
       "3             NaN          14.0          NaN      9          NaN  ...   \n",
       "4            3.03          14.0        32.00     13          NaN  ...   \n",
       "5             NaN          12.0        14.40      5          NaN  ...   \n",
       "6             NaN          26.0        10.60      6          NaN  ...   \n",
       "7             NaN          24.0          NaN     22          NaN  ...   \n",
       "8             NaN          27.0        15.43     26          NaN  ...   \n",
       "9            2.50           9.0        43.60      7          NaN  ...   \n",
       "\n",
       "   kitchen_area  balcony              locality_name  airports_nearest  \\\n",
       "0         25.00      NaN            Санкт-Петербург           18863.0   \n",
       "1         11.00      2.0             посёлок Шушары           12817.0   \n",
       "2          8.30      0.0            Санкт-Петербург           21741.0   \n",
       "3           NaN      0.0            Санкт-Петербург           28098.0   \n",
       "4         41.00      NaN            Санкт-Петербург           31856.0   \n",
       "5          9.10      NaN  городской посёлок Янино-1               NaN   \n",
       "6         14.40      1.0          посёлок Парголово           52996.0   \n",
       "7         18.90      2.0            Санкт-Петербург           23982.0   \n",
       "8          8.81      NaN             посёлок Мурино               NaN   \n",
       "9          6.50      2.0            Санкт-Петербург           50898.0   \n",
       "\n",
       "  cityCenters_nearest  parks_around3000  parks_nearest  ponds_around3000  \\\n",
       "0             16028.0               1.0          482.0               2.0   \n",
       "1             18603.0               0.0            NaN               0.0   \n",
       "2             13933.0               1.0           90.0               2.0   \n",
       "3              6800.0               2.0           84.0               3.0   \n",
       "4              8098.0               2.0          112.0               1.0   \n",
       "5                 NaN               NaN            NaN               NaN   \n",
       "6             19143.0               0.0            NaN               0.0   \n",
       "7             11634.0               0.0            NaN               0.0   \n",
       "8                 NaN               NaN            NaN               NaN   \n",
       "9             15008.0               0.0            NaN               0.0   \n",
       "\n",
       "   ponds_nearest  days_exposition  \n",
       "0          755.0              NaN  \n",
       "1            NaN             81.0  \n",
       "2          574.0            558.0  \n",
       "3          234.0            424.0  \n",
       "4           48.0            121.0  \n",
       "5            NaN             55.0  \n",
       "6            NaN            155.0  \n",
       "7            NaN              NaN  \n",
       "8            NaN            189.0  \n",
       "9            NaN            289.0  \n",
       "\n",
       "[10 rows x 22 columns]"
      ]
     },
     "metadata": {},
     "output_type": "display_data"
    }
   ],
   "source": [
    "display(data.head(10))"
   ]
  },
  {
   "cell_type": "markdown",
   "metadata": {},
   "source": [
    "<b>Вывод:</b> таблица разделена не запятой, а '\\t', что требует использования параметра sep = '\\t'. В ходе изучения данных можно заметить, что в таблице разное число non-null объектов в каждой строке, из чего можно сделать вывод, что есть пропущенные значения, которые надо чем-то заменить. В столбце first_day_exposition следует перевести данные из строки в дату и время. Также в некоторых столбцах стоит поменять тип данных, например в столбце parks_around3000, число парков в радиусе 3 км явно будет целым числом, не может быть половина парка."
   ]
  },
  {
   "cell_type": "markdown",
   "metadata": {},
   "source": [
    "## Предобработка данных"
   ]
  },
  {
   "cell_type": "markdown",
   "metadata": {},
   "source": [
    "### Обработка пропусков"
   ]
  },
  {
   "cell_type": "markdown",
   "metadata": {},
   "source": [
    "Достаточно много столбцов, в которых есть пропущенные значения. Начнем по порядку:\n",
    "1. ceiling_height - высота потолков в метрах - тут никак не получится усреднить данные. Поэтому, возможно, стоит оставить данные как есть.\n",
    "2. floors_total  - всего этажей в доме - в данном случае также невозможно узнать на какое значение следует заменить пропущенные данные.\n",
    "3. living_area - жилая площадь в квадратных метрах(м²) - нельзя точно определить какова площадь, не узная ее от продавца. Но можно попробовать взять среднее по квартирам с аналогичным количеством комнат и взять среднюю долю жилой площади в них.\n",
    "4. is_apartment - апартаменты (булев тип) - в данном столбце достаточно много пропущенных значений. Следует проверить какие именно там значения, то есть доля True и False. Возможно причина пропусков в том, что заполнены только значения True, если это так, тот NaN можно заменить на значение False. \n",
    "5. kitchen_area - площадь кухни в квадратных метрах (м²) - нельзя точно определить какова площадь, не узная ее от продавца, но можно аналогично living_area взять среднее по квартирам с таким же количеством комнат и взять среднюю площадь кухни в них.\n",
    "6. balcony - число балконов - Если не указано число балконов, то скорее всего их нет. Тут целесообразно заменить пропущенные значения на 0;\n",
    "7. locality_name - название населённого пункта - указывается продавцом, в данном случае пропусков совсем немного, но также нельзя точно сказать каков населенный пункт, не узная этого от продавца.\n",
    "8. airports_nearest - расстояние до ближайшего аэропорта в метрах (м) - рассчитывается автоматически, поэтому тут могут быть технические неполадки. Тут нет подходящего значения на замену, так как мы не можем точно знать, где именно расположена недвижимость.\n",
    "9. cityCenters_nearest - расстояние до центра города (м) - рассчитывается автоматически, ошибка может быть аналогична со столбцом airports_nearest\n",
    "10. parks_around3000 - число парков в радиусе 3 км - значения в данном столбце могут быть пропущены по той причине, что в данном радиусе нет парков и продавец решил не заполнять это поле. В данном случае значения можно заменить на 0.\n",
    "11. parks_nearest - расстояние до ближайшего парка (м) - расстояние до центра города (м) - рассчитывается автоматически, ошибка может быть аналогична со столбцом airports_nearest\n",
    "12. ponds_around3000 - число водоёмов в радиусе 3 км - значения в данном столбце могут быть пропущены по той причине, что в данном радиусе нет водоемов и продавец решил не заполнять это поле. В данном случае значения можно заменить на 0.\n",
    "13. ponds_nearest - расстояние до ближайшего водоёма (м) - расстояние до центра города (м) - рассчитывается автоматически, ошибка может быть аналогична со столбцом airports_nearest\n",
    "14. days_exposition - сколько дней было размещено объявление (от публикации до снятия) - данная величина может быть не указана по той причине, что объявление почему-то до сих пор остается на сайте, продавец забыл его снять. В таком случае мы знаем только дату публикации, но не знаем дату снятия объявления, следовательно не можем сказать, сколько дней было размещено объявление. "
   ]
  },
  {
   "cell_type": "markdown",
   "metadata": {},
   "source": [
    "<b>Замена пропусков в столбце balcony</b>"
   ]
  },
  {
   "cell_type": "markdown",
   "metadata": {},
   "source": [
    "balcony - число балконов - Если не указано число балконов, то скорее всего их нет. Тут целесообразно заменить пропущенные значения на 0"
   ]
  },
  {
   "cell_type": "code",
   "execution_count": 4,
   "metadata": {},
   "outputs": [],
   "source": [
    "data['balcony'] = data['balcony'].fillna(0)"
   ]
  },
  {
   "cell_type": "markdown",
   "metadata": {},
   "source": [
    "<b>Заполна пропусков в столбце living_area</b>"
   ]
  },
  {
   "cell_type": "markdown",
   "metadata": {},
   "source": [
    "living_area - жилая площадь в квадратных метрах(м²) - нельзя точно определить какова площадь, не узная ее от продавца. Но можно попробовать взять квартиры с аналогичным количеством комнат и взять медианную долю жилой площади в них"
   ]
  },
  {
   "cell_type": "code",
   "execution_count": 5,
   "metadata": {},
   "outputs": [],
   "source": [
    "data['living_area'] = data.groupby('rooms')['living_area'].apply(lambda x: x.fillna(x.median()))"
   ]
  },
  {
   "cell_type": "markdown",
   "metadata": {},
   "source": [
    "<b>Замена пропусков в столбце is_apartment</b>"
   ]
  },
  {
   "cell_type": "markdown",
   "metadata": {},
   "source": [
    "is_apartment - апартаменты (булев тип) - в данном столбце достаточно много пропущенных значений. Следует проверить какие именно там значения, то есть доля True и False. Возможно причина пропусков в том, что заполнены только значения True, если это так, тот NaN можно заменить на значение False"
   ]
  },
  {
   "cell_type": "code",
   "execution_count": 6,
   "metadata": {},
   "outputs": [],
   "source": [
    "#Только 50 значений из 2775 имеют значение True.\n",
    "data['is_apartment'] = data['is_apartment'].fillna(False)"
   ]
  },
  {
   "cell_type": "markdown",
   "metadata": {},
   "source": [
    "<b>Замена пропусков в стобце kitchen_area</b>"
   ]
  },
  {
   "cell_type": "markdown",
   "metadata": {},
   "source": [
    "kitchen_area - площадь кухни в квадратных метрах (м²) - нельзя точно определить какова площадь, не узная ее от продавца, но можно аналогично living_area взять квартирs с таким же количеством комнат и взять медианную площадь кухни в них. Но даже после этого останутся пропуски в данных. Скорее всего такие квартиры являются студиями и в них отдельно не считае тся площадь кухни. Заменим данные пропуски на 0"
   ]
  },
  {
   "cell_type": "code",
   "execution_count": 7,
   "metadata": {},
   "outputs": [],
   "source": [
    "data['kitchen_area'] = data.groupby('rooms')['kitchen_area'].apply(lambda x: x.fillna(x.median()))\n",
    "data['kitchen_area'] = data['kitchen_area'].fillna(0)"
   ]
  },
  {
   "cell_type": "markdown",
   "metadata": {},
   "source": [
    "<b>Замена пропусков в столбцах parks_around3000 и ponds_around3000</b>"
   ]
  },
  {
   "cell_type": "markdown",
   "metadata": {},
   "source": [
    "Значения в данных столбце могут быть пропущены по той причине, что в данном радиусе нет парков и прудов и продавец решил не заполнять это поле. В данном случае значения можно заменить на 0"
   ]
  },
  {
   "cell_type": "code",
   "execution_count": 8,
   "metadata": {},
   "outputs": [],
   "source": [
    "data['parks_around3000'] = data['parks_around3000'].fillna(0)\n",
    "data['ponds_around3000'] = data['ponds_around3000'].fillna(0)"
   ]
  },
  {
   "cell_type": "markdown",
   "metadata": {},
   "source": [
    "<b>Пропуски в столбце locality_name</b>"
   ]
  },
  {
   "cell_type": "markdown",
   "metadata": {},
   "source": [
    "Удалим пропуски из столбца locality_name, так как не можем быть уверены, что они пренадлежат Лен.области"
   ]
  },
  {
   "cell_type": "code",
   "execution_count": 9,
   "metadata": {},
   "outputs": [],
   "source": [
    "data = data.dropna(subset = ['locality_name']).reset_index(drop = True)"
   ]
  },
  {
   "cell_type": "markdown",
   "metadata": {},
   "source": [
    "<b>Замена пропусков в столбце ceiling_height</b>"
   ]
  },
  {
   "cell_type": "markdown",
   "metadata": {},
   "source": [
    "Заменим высоту потолков на медианное значение"
   ]
  },
  {
   "cell_type": "code",
   "execution_count": 10,
   "metadata": {},
   "outputs": [],
   "source": [
    "data['ceiling_height'] = data['ceiling_height'].fillna(data['ceiling_height'].median())"
   ]
  },
  {
   "cell_type": "markdown",
   "metadata": {},
   "source": [
    "<b>Замена пропусков в столбце floors_total</b>"
   ]
  },
  {
   "cell_type": "code",
   "execution_count": 11,
   "metadata": {},
   "outputs": [],
   "source": [
    "data['floors_total'] = data['floors_total'].fillna('не определено')"
   ]
  },
  {
   "cell_type": "code",
   "execution_count": 12,
   "metadata": {},
   "outputs": [
    {
     "name": "stdout",
     "output_type": "stream",
     "text": [
      "<class 'pandas.core.frame.DataFrame'>\n",
      "RangeIndex: 23650 entries, 0 to 23649\n",
      "Data columns (total 22 columns):\n",
      " #   Column                Non-Null Count  Dtype  \n",
      "---  ------                --------------  -----  \n",
      " 0   total_images          23650 non-null  int64  \n",
      " 1   last_price            23650 non-null  float64\n",
      " 2   total_area            23650 non-null  float64\n",
      " 3   first_day_exposition  23650 non-null  object \n",
      " 4   rooms                 23650 non-null  int64  \n",
      " 5   ceiling_height        23650 non-null  float64\n",
      " 6   floors_total          23650 non-null  object \n",
      " 7   living_area           23650 non-null  float64\n",
      " 8   floor                 23650 non-null  int64  \n",
      " 9   is_apartment          23650 non-null  bool   \n",
      " 10  studio                23650 non-null  bool   \n",
      " 11  open_plan             23650 non-null  bool   \n",
      " 12  kitchen_area          23650 non-null  float64\n",
      " 13  balcony               23650 non-null  float64\n",
      " 14  locality_name         23650 non-null  object \n",
      " 15  airports_nearest      18116 non-null  float64\n",
      " 16  cityCenters_nearest   18139 non-null  float64\n",
      " 17  parks_around3000      23650 non-null  float64\n",
      " 18  parks_nearest         8064 non-null   float64\n",
      " 19  ponds_around3000      23650 non-null  float64\n",
      " 20  ponds_nearest         9085 non-null   float64\n",
      " 21  days_exposition       20470 non-null  float64\n",
      "dtypes: bool(3), float64(13), int64(3), object(3)\n",
      "memory usage: 3.5+ MB\n",
      "None\n"
     ]
    }
   ],
   "source": [
    "print(data.info())"
   ]
  },
  {
   "cell_type": "markdown",
   "metadata": {},
   "source": [
    "### Приведение данных к нужному типу"
   ]
  },
  {
   "cell_type": "markdown",
   "metadata": {},
   "source": [
    "<b>Замена типов данных в столбцах parks_around3000 и ponds_around3000</b>"
   ]
  },
  {
   "cell_type": "markdown",
   "metadata": {},
   "source": [
    "Эти столбцы имеют тип float, хотя очевидно, что не может быть пол пруда или парка. Заменим их тип на int"
   ]
  },
  {
   "cell_type": "code",
   "execution_count": 13,
   "metadata": {},
   "outputs": [],
   "source": [
    "data['parks_around3000'] = data['parks_around3000'].astype('int')\n",
    "data['ponds_around3000'] = data['ponds_around3000'].astype('int')"
   ]
  },
  {
   "cell_type": "markdown",
   "metadata": {},
   "source": [
    "<b>Замена типа данных столбца first_day_exposition со строчного на дату и время</b>"
   ]
  },
  {
   "cell_type": "code",
   "execution_count": 14,
   "metadata": {},
   "outputs": [],
   "source": [
    "data['first_day_exposition'] = pd.to_datetime(data['first_day_exposition'], format='%Y-%m-%dT%H:%M:%S')"
   ]
  },
  {
   "cell_type": "markdown",
   "metadata": {},
   "source": [
    "<b>Замена типа данных столбца balcony на int</b>"
   ]
  },
  {
   "cell_type": "code",
   "execution_count": 15,
   "metadata": {},
   "outputs": [],
   "source": [
    "data['balcony'] = data['balcony'].astype('int')"
   ]
  },
  {
   "cell_type": "code",
   "execution_count": 16,
   "metadata": {},
   "outputs": [
    {
     "name": "stdout",
     "output_type": "stream",
     "text": [
      "<class 'pandas.core.frame.DataFrame'>\n",
      "RangeIndex: 23650 entries, 0 to 23649\n",
      "Data columns (total 22 columns):\n",
      " #   Column                Non-Null Count  Dtype         \n",
      "---  ------                --------------  -----         \n",
      " 0   total_images          23650 non-null  int64         \n",
      " 1   last_price            23650 non-null  float64       \n",
      " 2   total_area            23650 non-null  float64       \n",
      " 3   first_day_exposition  23650 non-null  datetime64[ns]\n",
      " 4   rooms                 23650 non-null  int64         \n",
      " 5   ceiling_height        23650 non-null  float64       \n",
      " 6   floors_total          23650 non-null  object        \n",
      " 7   living_area           23650 non-null  float64       \n",
      " 8   floor                 23650 non-null  int64         \n",
      " 9   is_apartment          23650 non-null  bool          \n",
      " 10  studio                23650 non-null  bool          \n",
      " 11  open_plan             23650 non-null  bool          \n",
      " 12  kitchen_area          23650 non-null  float64       \n",
      " 13  balcony               23650 non-null  int32         \n",
      " 14  locality_name         23650 non-null  object        \n",
      " 15  airports_nearest      18116 non-null  float64       \n",
      " 16  cityCenters_nearest   18139 non-null  float64       \n",
      " 17  parks_around3000      23650 non-null  int32         \n",
      " 18  parks_nearest         8064 non-null   float64       \n",
      " 19  ponds_around3000      23650 non-null  int32         \n",
      " 20  ponds_nearest         9085 non-null   float64       \n",
      " 21  days_exposition       20470 non-null  float64       \n",
      "dtypes: bool(3), datetime64[ns](1), float64(10), int32(3), int64(3), object(2)\n",
      "memory usage: 3.2+ MB\n",
      "None\n"
     ]
    },
    {
     "data": {
      "text/html": [
       "<div>\n",
       "<style scoped>\n",
       "    .dataframe tbody tr th:only-of-type {\n",
       "        vertical-align: middle;\n",
       "    }\n",
       "\n",
       "    .dataframe tbody tr th {\n",
       "        vertical-align: top;\n",
       "    }\n",
       "\n",
       "    .dataframe thead th {\n",
       "        text-align: right;\n",
       "    }\n",
       "</style>\n",
       "<table border=\"1\" class=\"dataframe\">\n",
       "  <thead>\n",
       "    <tr style=\"text-align: right;\">\n",
       "      <th></th>\n",
       "      <th>total_images</th>\n",
       "      <th>last_price</th>\n",
       "      <th>total_area</th>\n",
       "      <th>first_day_exposition</th>\n",
       "      <th>rooms</th>\n",
       "      <th>ceiling_height</th>\n",
       "      <th>floors_total</th>\n",
       "      <th>living_area</th>\n",
       "      <th>floor</th>\n",
       "      <th>is_apartment</th>\n",
       "      <th>...</th>\n",
       "      <th>kitchen_area</th>\n",
       "      <th>balcony</th>\n",
       "      <th>locality_name</th>\n",
       "      <th>airports_nearest</th>\n",
       "      <th>cityCenters_nearest</th>\n",
       "      <th>parks_around3000</th>\n",
       "      <th>parks_nearest</th>\n",
       "      <th>ponds_around3000</th>\n",
       "      <th>ponds_nearest</th>\n",
       "      <th>days_exposition</th>\n",
       "    </tr>\n",
       "  </thead>\n",
       "  <tbody>\n",
       "    <tr>\n",
       "      <th>0</th>\n",
       "      <td>20</td>\n",
       "      <td>13000000.0</td>\n",
       "      <td>108.0</td>\n",
       "      <td>2019-03-07</td>\n",
       "      <td>3</td>\n",
       "      <td>2.70</td>\n",
       "      <td>16</td>\n",
       "      <td>51.0</td>\n",
       "      <td>8</td>\n",
       "      <td>False</td>\n",
       "      <td>...</td>\n",
       "      <td>25.0</td>\n",
       "      <td>0</td>\n",
       "      <td>Санкт-Петербург</td>\n",
       "      <td>18863.0</td>\n",
       "      <td>16028.0</td>\n",
       "      <td>1</td>\n",
       "      <td>482.0</td>\n",
       "      <td>2</td>\n",
       "      <td>755.0</td>\n",
       "      <td>NaN</td>\n",
       "    </tr>\n",
       "    <tr>\n",
       "      <th>1</th>\n",
       "      <td>7</td>\n",
       "      <td>3350000.0</td>\n",
       "      <td>40.4</td>\n",
       "      <td>2018-12-04</td>\n",
       "      <td>1</td>\n",
       "      <td>2.65</td>\n",
       "      <td>11</td>\n",
       "      <td>18.6</td>\n",
       "      <td>1</td>\n",
       "      <td>False</td>\n",
       "      <td>...</td>\n",
       "      <td>11.0</td>\n",
       "      <td>2</td>\n",
       "      <td>посёлок Шушары</td>\n",
       "      <td>12817.0</td>\n",
       "      <td>18603.0</td>\n",
       "      <td>0</td>\n",
       "      <td>NaN</td>\n",
       "      <td>0</td>\n",
       "      <td>NaN</td>\n",
       "      <td>81.0</td>\n",
       "    </tr>\n",
       "    <tr>\n",
       "      <th>2</th>\n",
       "      <td>10</td>\n",
       "      <td>5196000.0</td>\n",
       "      <td>56.0</td>\n",
       "      <td>2015-08-20</td>\n",
       "      <td>2</td>\n",
       "      <td>2.65</td>\n",
       "      <td>5</td>\n",
       "      <td>34.3</td>\n",
       "      <td>4</td>\n",
       "      <td>False</td>\n",
       "      <td>...</td>\n",
       "      <td>8.3</td>\n",
       "      <td>0</td>\n",
       "      <td>Санкт-Петербург</td>\n",
       "      <td>21741.0</td>\n",
       "      <td>13933.0</td>\n",
       "      <td>1</td>\n",
       "      <td>90.0</td>\n",
       "      <td>2</td>\n",
       "      <td>574.0</td>\n",
       "      <td>558.0</td>\n",
       "    </tr>\n",
       "    <tr>\n",
       "      <th>3</th>\n",
       "      <td>0</td>\n",
       "      <td>64900000.0</td>\n",
       "      <td>159.0</td>\n",
       "      <td>2015-07-24</td>\n",
       "      <td>3</td>\n",
       "      <td>2.65</td>\n",
       "      <td>14</td>\n",
       "      <td>45.0</td>\n",
       "      <td>9</td>\n",
       "      <td>False</td>\n",
       "      <td>...</td>\n",
       "      <td>9.5</td>\n",
       "      <td>0</td>\n",
       "      <td>Санкт-Петербург</td>\n",
       "      <td>28098.0</td>\n",
       "      <td>6800.0</td>\n",
       "      <td>2</td>\n",
       "      <td>84.0</td>\n",
       "      <td>3</td>\n",
       "      <td>234.0</td>\n",
       "      <td>424.0</td>\n",
       "    </tr>\n",
       "    <tr>\n",
       "      <th>4</th>\n",
       "      <td>2</td>\n",
       "      <td>10000000.0</td>\n",
       "      <td>100.0</td>\n",
       "      <td>2018-06-19</td>\n",
       "      <td>2</td>\n",
       "      <td>3.03</td>\n",
       "      <td>14</td>\n",
       "      <td>32.0</td>\n",
       "      <td>13</td>\n",
       "      <td>False</td>\n",
       "      <td>...</td>\n",
       "      <td>41.0</td>\n",
       "      <td>0</td>\n",
       "      <td>Санкт-Петербург</td>\n",
       "      <td>31856.0</td>\n",
       "      <td>8098.0</td>\n",
       "      <td>2</td>\n",
       "      <td>112.0</td>\n",
       "      <td>1</td>\n",
       "      <td>48.0</td>\n",
       "      <td>121.0</td>\n",
       "    </tr>\n",
       "  </tbody>\n",
       "</table>\n",
       "<p>5 rows × 22 columns</p>\n",
       "</div>"
      ],
      "text/plain": [
       "   total_images  last_price  total_area first_day_exposition  rooms  \\\n",
       "0            20  13000000.0       108.0           2019-03-07      3   \n",
       "1             7   3350000.0        40.4           2018-12-04      1   \n",
       "2            10   5196000.0        56.0           2015-08-20      2   \n",
       "3             0  64900000.0       159.0           2015-07-24      3   \n",
       "4             2  10000000.0       100.0           2018-06-19      2   \n",
       "\n",
       "   ceiling_height floors_total  living_area  floor  is_apartment  ...  \\\n",
       "0            2.70           16         51.0      8         False  ...   \n",
       "1            2.65           11         18.6      1         False  ...   \n",
       "2            2.65            5         34.3      4         False  ...   \n",
       "3            2.65           14         45.0      9         False  ...   \n",
       "4            3.03           14         32.0     13         False  ...   \n",
       "\n",
       "   kitchen_area  balcony    locality_name  airports_nearest  \\\n",
       "0          25.0        0  Санкт-Петербург           18863.0   \n",
       "1          11.0        2   посёлок Шушары           12817.0   \n",
       "2           8.3        0  Санкт-Петербург           21741.0   \n",
       "3           9.5        0  Санкт-Петербург           28098.0   \n",
       "4          41.0        0  Санкт-Петербург           31856.0   \n",
       "\n",
       "  cityCenters_nearest  parks_around3000  parks_nearest  ponds_around3000  \\\n",
       "0             16028.0                 1          482.0                 2   \n",
       "1             18603.0                 0            NaN                 0   \n",
       "2             13933.0                 1           90.0                 2   \n",
       "3              6800.0                 2           84.0                 3   \n",
       "4              8098.0                 2          112.0                 1   \n",
       "\n",
       "   ponds_nearest  days_exposition  \n",
       "0          755.0              NaN  \n",
       "1            NaN             81.0  \n",
       "2          574.0            558.0  \n",
       "3          234.0            424.0  \n",
       "4           48.0            121.0  \n",
       "\n",
       "[5 rows x 22 columns]"
      ]
     },
     "metadata": {},
     "output_type": "display_data"
    }
   ],
   "source": [
    "print(data.info())\n",
    "display(data.head())"
   ]
  },
  {
   "cell_type": "markdown",
   "metadata": {},
   "source": [
    "## Расчёты и добавление результатов в таблицу"
   ]
  },
  {
   "cell_type": "markdown",
   "metadata": {},
   "source": [
    "<b>Добавление столбца с ценой за квадратный метр</b>"
   ]
  },
  {
   "cell_type": "markdown",
   "metadata": {},
   "source": [
    "Для этого поделим цену на момент снятия с публикации на площадь квартиры в квадратных метрах"
   ]
  },
  {
   "cell_type": "code",
   "execution_count": 17,
   "metadata": {},
   "outputs": [],
   "source": [
    "data['price_per_square_metre'] = data['last_price'] / data['total_area']"
   ]
  },
  {
   "cell_type": "markdown",
   "metadata": {},
   "source": [
    "<b>Добавление 3 отдельных столбцов для дня недели, месяца и года публикации объявления</b>"
   ]
  },
  {
   "cell_type": "code",
   "execution_count": 18,
   "metadata": {},
   "outputs": [],
   "source": [
    "data['weekday'] = data['first_day_exposition'].dt.weekday\n",
    "data['month'] = data['first_day_exposition'].dt.month\n",
    "data['year'] = data['first_day_exposition'].dt.year"
   ]
  },
  {
   "cell_type": "code",
   "execution_count": 19,
   "metadata": {},
   "outputs": [
    {
     "name": "stdout",
     "output_type": "stream",
     "text": [
      "<class 'pandas.core.frame.DataFrame'>\n",
      "RangeIndex: 23650 entries, 0 to 23649\n",
      "Data columns (total 26 columns):\n",
      " #   Column                  Non-Null Count  Dtype         \n",
      "---  ------                  --------------  -----         \n",
      " 0   total_images            23650 non-null  int64         \n",
      " 1   last_price              23650 non-null  float64       \n",
      " 2   total_area              23650 non-null  float64       \n",
      " 3   first_day_exposition    23650 non-null  datetime64[ns]\n",
      " 4   rooms                   23650 non-null  int64         \n",
      " 5   ceiling_height          23650 non-null  float64       \n",
      " 6   floors_total            23650 non-null  object        \n",
      " 7   living_area             23650 non-null  float64       \n",
      " 8   floor                   23650 non-null  int64         \n",
      " 9   is_apartment            23650 non-null  bool          \n",
      " 10  studio                  23650 non-null  bool          \n",
      " 11  open_plan               23650 non-null  bool          \n",
      " 12  kitchen_area            23650 non-null  float64       \n",
      " 13  balcony                 23650 non-null  int32         \n",
      " 14  locality_name           23650 non-null  object        \n",
      " 15  airports_nearest        18116 non-null  float64       \n",
      " 16  cityCenters_nearest     18139 non-null  float64       \n",
      " 17  parks_around3000        23650 non-null  int32         \n",
      " 18  parks_nearest           8064 non-null   float64       \n",
      " 19  ponds_around3000        23650 non-null  int32         \n",
      " 20  ponds_nearest           9085 non-null   float64       \n",
      " 21  days_exposition         20470 non-null  float64       \n",
      " 22  price_per_square_metre  23650 non-null  float64       \n",
      " 23  weekday                 23650 non-null  int64         \n",
      " 24  month                   23650 non-null  int64         \n",
      " 25  year                    23650 non-null  int64         \n",
      "dtypes: bool(3), datetime64[ns](1), float64(11), int32(3), int64(6), object(2)\n",
      "memory usage: 3.9+ MB\n"
     ]
    }
   ],
   "source": [
    "data.info()"
   ]
  },
  {
   "cell_type": "markdown",
   "metadata": {},
   "source": [
    "<b>Добавление столбца с этажом: первый, последний, другой</b>"
   ]
  },
  {
   "cell_type": "code",
   "execution_count": 20,
   "metadata": {},
   "outputs": [],
   "source": [
    "def to_one_floor(row):\n",
    "    if row['floor'] == 1:\n",
    "        return 'первый'\n",
    "    elif row['floor'] == row['floors_total']:\n",
    "        return 'последний'\n",
    "    else:\n",
    "        return 'другой'\n",
    "\n",
    "data['floor_'] = data[['floor', 'floors_total']].apply(to_one_floor, axis = 1)"
   ]
  },
  {
   "cell_type": "markdown",
   "metadata": {},
   "source": [
    "<b>Добавление двух столбцов с соотношением жилой и общей площади, а также отношение площади кухни к общей</b>"
   ]
  },
  {
   "cell_type": "code",
   "execution_count": 21,
   "metadata": {},
   "outputs": [],
   "source": [
    "data['living_area_to_all_area'] = data['living_area'] / data['total_area']\n",
    "data['kitchen_area_to_all_area'] = data['kitchen_area'] / data['total_area']"
   ]
  },
  {
   "cell_type": "code",
   "execution_count": 22,
   "metadata": {},
   "outputs": [
    {
     "data": {
      "text/html": [
       "<div>\n",
       "<style scoped>\n",
       "    .dataframe tbody tr th:only-of-type {\n",
       "        vertical-align: middle;\n",
       "    }\n",
       "\n",
       "    .dataframe tbody tr th {\n",
       "        vertical-align: top;\n",
       "    }\n",
       "\n",
       "    .dataframe thead th {\n",
       "        text-align: right;\n",
       "    }\n",
       "</style>\n",
       "<table border=\"1\" class=\"dataframe\">\n",
       "  <thead>\n",
       "    <tr style=\"text-align: right;\">\n",
       "      <th></th>\n",
       "      <th>total_images</th>\n",
       "      <th>last_price</th>\n",
       "      <th>total_area</th>\n",
       "      <th>first_day_exposition</th>\n",
       "      <th>rooms</th>\n",
       "      <th>ceiling_height</th>\n",
       "      <th>floors_total</th>\n",
       "      <th>living_area</th>\n",
       "      <th>floor</th>\n",
       "      <th>is_apartment</th>\n",
       "      <th>...</th>\n",
       "      <th>ponds_around3000</th>\n",
       "      <th>ponds_nearest</th>\n",
       "      <th>days_exposition</th>\n",
       "      <th>price_per_square_metre</th>\n",
       "      <th>weekday</th>\n",
       "      <th>month</th>\n",
       "      <th>year</th>\n",
       "      <th>floor_</th>\n",
       "      <th>living_area_to_all_area</th>\n",
       "      <th>kitchen_area_to_all_area</th>\n",
       "    </tr>\n",
       "  </thead>\n",
       "  <tbody>\n",
       "    <tr>\n",
       "      <th>0</th>\n",
       "      <td>20</td>\n",
       "      <td>13000000.0</td>\n",
       "      <td>108.0</td>\n",
       "      <td>2019-03-07</td>\n",
       "      <td>3</td>\n",
       "      <td>2.70</td>\n",
       "      <td>16</td>\n",
       "      <td>51.0</td>\n",
       "      <td>8</td>\n",
       "      <td>False</td>\n",
       "      <td>...</td>\n",
       "      <td>2</td>\n",
       "      <td>755.0</td>\n",
       "      <td>NaN</td>\n",
       "      <td>120370.370370</td>\n",
       "      <td>3</td>\n",
       "      <td>3</td>\n",
       "      <td>2019</td>\n",
       "      <td>другой</td>\n",
       "      <td>0.472222</td>\n",
       "      <td>0.231481</td>\n",
       "    </tr>\n",
       "    <tr>\n",
       "      <th>1</th>\n",
       "      <td>7</td>\n",
       "      <td>3350000.0</td>\n",
       "      <td>40.4</td>\n",
       "      <td>2018-12-04</td>\n",
       "      <td>1</td>\n",
       "      <td>2.65</td>\n",
       "      <td>11</td>\n",
       "      <td>18.6</td>\n",
       "      <td>1</td>\n",
       "      <td>False</td>\n",
       "      <td>...</td>\n",
       "      <td>0</td>\n",
       "      <td>NaN</td>\n",
       "      <td>81.0</td>\n",
       "      <td>82920.792079</td>\n",
       "      <td>1</td>\n",
       "      <td>12</td>\n",
       "      <td>2018</td>\n",
       "      <td>первый</td>\n",
       "      <td>0.460396</td>\n",
       "      <td>0.272277</td>\n",
       "    </tr>\n",
       "    <tr>\n",
       "      <th>2</th>\n",
       "      <td>10</td>\n",
       "      <td>5196000.0</td>\n",
       "      <td>56.0</td>\n",
       "      <td>2015-08-20</td>\n",
       "      <td>2</td>\n",
       "      <td>2.65</td>\n",
       "      <td>5</td>\n",
       "      <td>34.3</td>\n",
       "      <td>4</td>\n",
       "      <td>False</td>\n",
       "      <td>...</td>\n",
       "      <td>2</td>\n",
       "      <td>574.0</td>\n",
       "      <td>558.0</td>\n",
       "      <td>92785.714286</td>\n",
       "      <td>3</td>\n",
       "      <td>8</td>\n",
       "      <td>2015</td>\n",
       "      <td>другой</td>\n",
       "      <td>0.612500</td>\n",
       "      <td>0.148214</td>\n",
       "    </tr>\n",
       "    <tr>\n",
       "      <th>3</th>\n",
       "      <td>0</td>\n",
       "      <td>64900000.0</td>\n",
       "      <td>159.0</td>\n",
       "      <td>2015-07-24</td>\n",
       "      <td>3</td>\n",
       "      <td>2.65</td>\n",
       "      <td>14</td>\n",
       "      <td>45.0</td>\n",
       "      <td>9</td>\n",
       "      <td>False</td>\n",
       "      <td>...</td>\n",
       "      <td>3</td>\n",
       "      <td>234.0</td>\n",
       "      <td>424.0</td>\n",
       "      <td>408176.100629</td>\n",
       "      <td>4</td>\n",
       "      <td>7</td>\n",
       "      <td>2015</td>\n",
       "      <td>другой</td>\n",
       "      <td>0.283019</td>\n",
       "      <td>0.059748</td>\n",
       "    </tr>\n",
       "    <tr>\n",
       "      <th>4</th>\n",
       "      <td>2</td>\n",
       "      <td>10000000.0</td>\n",
       "      <td>100.0</td>\n",
       "      <td>2018-06-19</td>\n",
       "      <td>2</td>\n",
       "      <td>3.03</td>\n",
       "      <td>14</td>\n",
       "      <td>32.0</td>\n",
       "      <td>13</td>\n",
       "      <td>False</td>\n",
       "      <td>...</td>\n",
       "      <td>1</td>\n",
       "      <td>48.0</td>\n",
       "      <td>121.0</td>\n",
       "      <td>100000.000000</td>\n",
       "      <td>1</td>\n",
       "      <td>6</td>\n",
       "      <td>2018</td>\n",
       "      <td>другой</td>\n",
       "      <td>0.320000</td>\n",
       "      <td>0.410000</td>\n",
       "    </tr>\n",
       "  </tbody>\n",
       "</table>\n",
       "<p>5 rows × 29 columns</p>\n",
       "</div>"
      ],
      "text/plain": [
       "   total_images  last_price  total_area first_day_exposition  rooms  \\\n",
       "0            20  13000000.0       108.0           2019-03-07      3   \n",
       "1             7   3350000.0        40.4           2018-12-04      1   \n",
       "2            10   5196000.0        56.0           2015-08-20      2   \n",
       "3             0  64900000.0       159.0           2015-07-24      3   \n",
       "4             2  10000000.0       100.0           2018-06-19      2   \n",
       "\n",
       "   ceiling_height floors_total  living_area  floor  is_apartment  ...  \\\n",
       "0            2.70           16         51.0      8         False  ...   \n",
       "1            2.65           11         18.6      1         False  ...   \n",
       "2            2.65            5         34.3      4         False  ...   \n",
       "3            2.65           14         45.0      9         False  ...   \n",
       "4            3.03           14         32.0     13         False  ...   \n",
       "\n",
       "   ponds_around3000  ponds_nearest  days_exposition  price_per_square_metre  \\\n",
       "0                 2          755.0              NaN           120370.370370   \n",
       "1                 0            NaN             81.0            82920.792079   \n",
       "2                 2          574.0            558.0            92785.714286   \n",
       "3                 3          234.0            424.0           408176.100629   \n",
       "4                 1           48.0            121.0           100000.000000   \n",
       "\n",
       "  weekday  month  year  floor_  living_area_to_all_area  \\\n",
       "0       3      3  2019  другой                 0.472222   \n",
       "1       1     12  2018  первый                 0.460396   \n",
       "2       3      8  2015  другой                 0.612500   \n",
       "3       4      7  2015  другой                 0.283019   \n",
       "4       1      6  2018  другой                 0.320000   \n",
       "\n",
       "   kitchen_area_to_all_area  \n",
       "0                  0.231481  \n",
       "1                  0.272277  \n",
       "2                  0.148214  \n",
       "3                  0.059748  \n",
       "4                  0.410000  \n",
       "\n",
       "[5 rows x 29 columns]"
      ]
     },
     "metadata": {},
     "output_type": "display_data"
    }
   ],
   "source": [
    "display(data.head())"
   ]
  },
  {
   "cell_type": "markdown",
   "metadata": {},
   "source": [
    "<b>Вывод:</b> в таблицу были добавлены 7 новых столбцов: цена за квадратный метр, день продажи, месяц продажи, год продажи, этаж (первый, последний, другой), соотношение жилой прощади к общей площади и соотношение площади кухни к общей площади "
   ]
  },
  {
   "cell_type": "markdown",
   "metadata": {},
   "source": [
    "## Исследовательский анализ данных"
   ]
  },
  {
   "cell_type": "markdown",
   "metadata": {},
   "source": [
    "###  Площадь, цена, число комнат, высота потолков"
   ]
  },
  {
   "cell_type": "markdown",
   "metadata": {},
   "source": [
    "#### Площадь квартиры"
   ]
  },
  {
   "cell_type": "code",
   "execution_count": 23,
   "metadata": {},
   "outputs": [
    {
     "data": {
      "image/png": "[encoded data removed]",
      "text/plain": [
       "<Figure size 432x288 with 1 Axes>"
      ]
     },
     "metadata": {
      "needs_background": "light"
     },
     "output_type": "display_data"
    }
   ],
   "source": [
    "plt.hist(data['total_area'], bins = 200, range = (0, 400))\n",
    "plt.title('Площадь квартиры')\n",
    "plt.xlabel('площадь квартиры')\n",
    "plt.ylabel('количество квартир')\n",
    "plt.show()"
   ]
  },
  {
   "cell_type": "markdown",
   "metadata": {},
   "source": [
    "Можно заметить, что в основном все значения находятся в диапазоне от 15 до 300, встречаются лишь единичные случаи после 300, можно наблюдать пик около 45 кв.метров"
   ]
  },
  {
   "cell_type": "markdown",
   "metadata": {},
   "source": [
    "#### Цена квартиры"
   ]
  },
  {
   "cell_type": "code",
   "execution_count": 24,
   "metadata": {},
   "outputs": [
    {
     "data": {
      "image/png": "[encoded data removed]",
      "text/plain": [
       "<Figure size 432x288 with 1 Axes>"
      ]
     },
     "metadata": {
      "needs_background": "light"
     },
     "output_type": "display_data"
    }
   ],
   "source": [
    "plt.hist(data['last_price'], bins = 50, range = (0, 40000000))\n",
    "plt.title('Цена квартиры')\n",
    "plt.xlabel('цена квартиры')\n",
    "plt.ylabel('количество квартир')\n",
    "plt.show()"
   ]
  },
  {
   "cell_type": "markdown",
   "metadata": {},
   "source": [
    "Можно наблюдать пик около 4*10^6"
   ]
  },
  {
   "cell_type": "markdown",
   "metadata": {},
   "source": [
    "#### Число комнат"
   ]
  },
  {
   "cell_type": "code",
   "execution_count": 25,
   "metadata": {},
   "outputs": [
    {
     "data": {
      "image/png": "[encoded data removed]",
      "text/plain": [
       "<Figure size 432x288 with 1 Axes>"
      ]
     },
     "metadata": {
      "needs_background": "light"
     },
     "output_type": "display_data"
    }
   ],
   "source": [
    "plt.hist(data['rooms'], bins = 20, range = (0, 8))\n",
    "plt.title('Число комнат')\n",
    "plt.xlabel('число комнат')\n",
    "plt.ylabel('количество квартир')\n",
    "plt.show()"
   ]
  },
  {
   "cell_type": "markdown",
   "metadata": {},
   "source": [
    "Можно видеть пик на 1 и 2 комнатах и единичные значения после 8 комнат"
   ]
  },
  {
   "cell_type": "markdown",
   "metadata": {},
   "source": [
    "#### Высота потолков"
   ]
  },
  {
   "cell_type": "code",
   "execution_count": 26,
   "metadata": {},
   "outputs": [
    {
     "data": {
      "image/png": "[encoded data removed]",
      "text/plain": [
       "<Figure size 432x288 with 1 Axes>"
      ]
     },
     "metadata": {
      "needs_background": "light"
     },
     "output_type": "display_data"
    }
   ],
   "source": [
    "plt.hist(data['ceiling_height'], bins = 100, range = (2, 5)) \n",
    "plt.title('Высота потолков')\n",
    "plt.xlabel('высота потолков')\n",
    "plt.ylabel('количество квартир')\n",
    "plt.show()"
   ]
  },
  {
   "cell_type": "markdown",
   "metadata": {},
   "source": [
    "Можем наблюдать пик около 2.6 метров, а все остальные значения находятся в основном в промежутке от 2 до 4, меньше 2 и больше 4 встречаются лишь единичные случаи"
   ]
  },
  {
   "cell_type": "markdown",
   "metadata": {},
   "source": [
    "#### Вывод\n",
    "В данном пункте были изучены площадь, цена, число комнат, высота потолков в квартирах. Во всех графиках можно заметить, что есть пики, а также сильно выбивающиеся значения, от которых следует избавиться. По графикам были определены значения, которые встречаются чаще всего: пик в площадях квартир прихожится на 45 кв.м; больше всего квартир с 1 или 2 комнатами; средняя цена около 4000000; а чаще всего встречающаяся высота потолков - 2.6 метра"
   ]
  },
  {
   "cell_type": "markdown",
   "metadata": {},
   "source": [
    "### Время продажи квартиры"
   ]
  },
  {
   "cell_type": "code",
   "execution_count": 27,
   "metadata": {},
   "outputs": [
    {
     "data": {
      "image/png": "[encoded data removed]",
      "text/plain": [
       "<Figure size 432x288 with 1 Axes>"
      ]
     },
     "metadata": {
      "needs_background": "light"
     },
     "output_type": "display_data"
    },
    {
     "name": "stdout",
     "output_type": "stream",
     "text": [
      "Среднее количество дней размещения объявления равно: 180.7531998045921\n",
      "Медианное количество дней размещения объявления равна: 95.0\n"
     ]
    }
   ],
   "source": [
    "plt.hist(data['days_exposition'], bins = 100)\n",
    "plt.title('Размещение объявления')\n",
    "plt.xlabel('дни')\n",
    "plt.ylabel('количество квартир')\n",
    "plt.show()\n",
    " \n",
    "print('Среднее количество дней размещения объявления равно:', data['days_exposition'].mean())\n",
    "print('Медианное количество дней размещения объявления равна:', data['days_exposition'].median())"
   ]
  },
  {
   "cell_type": "markdown",
   "metadata": {},
   "source": [
    "<b>Вывод:</b> можно заметить, что среднее и медиана отличаются почти в 2 раза, их этого можно сделать вывод, что есть сильно выбивающиеся в большую сторону значения\n",
    "1 и 2 дня считаются необычайно быстрой продажей, так как почти не встречается таких значение, необычайно долгими можно считать продажи, длящиеся больше 1000 дней"
   ]
  },
  {
   "cell_type": "markdown",
   "metadata": {},
   "source": [
    "### Убераем редкие и выбивающиеся значения"
   ]
  },
  {
   "cell_type": "markdown",
   "metadata": {},
   "source": [
    "Уберем выбивающиеся значения из столбцов total_area, last_price, rooms, ceiling_height и days_exposition"
   ]
  },
  {
   "cell_type": "markdown",
   "metadata": {},
   "source": [
    "В столбце total_area можно заметить выбивающиеся значения после 150"
   ]
  },
  {
   "cell_type": "code",
   "execution_count": 28,
   "metadata": {},
   "outputs": [
    {
     "data": {
      "image/png": "[encoded data removed]",
      "text/plain": [
       "<Figure size 432x288 with 1 Axes>"
      ]
     },
     "metadata": {
      "needs_background": "light"
     },
     "output_type": "display_data"
    }
   ],
   "source": [
    "data = data.query('total_area <= 150.0')\n",
    "plt.hist(data['total_area'], bins = 100)\n",
    "plt.title('Площадь квартиры')\n",
    "plt.xlabel('площадь квартиры')\n",
    "plt.ylabel('количество квартир')\n",
    "plt.show()"
   ]
  },
  {
   "cell_type": "markdown",
   "metadata": {},
   "source": [
    "В столбце last_price можно заметить выбивающиеся значения после 2*10^7 и до 450000"
   ]
  },
  {
   "cell_type": "code",
   "execution_count": 29,
   "metadata": {},
   "outputs": [
    {
     "data": {
      "image/png": "[encoded data removed]",
      "text/plain": [
       "<Figure size 432x288 with 1 Axes>"
      ]
     },
     "metadata": {
      "needs_background": "light"
     },
     "output_type": "display_data"
    }
   ],
   "source": [
    "data = data.query('480000 <=last_price <= 17500000')\n",
    "plt.hist(data['last_price'], bins = 100)\n",
    "plt.title('Цена квартиры')\n",
    "plt.xlabel('цена квартиры')\n",
    "plt.ylabel('количество квартир')\n",
    "plt.show()"
   ]
  },
  {
   "cell_type": "markdown",
   "metadata": {},
   "source": [
    "В столбце rooms можно заметить выбивающиеся значения после 6"
   ]
  },
  {
   "cell_type": "code",
   "execution_count": 30,
   "metadata": {},
   "outputs": [
    {
     "data": {
      "image/png": "[encoded data removed]",
      "text/plain": [
       "<Figure size 432x288 with 1 Axes>"
      ]
     },
     "metadata": {
      "needs_background": "light"
     },
     "output_type": "display_data"
    }
   ],
   "source": [
    "data = data.query('rooms <= 6')\n",
    "plt.hist(data['rooms'], bins = 10)\n",
    "plt.title('Количество комнат')\n",
    "plt.xlabel('количество комнат')\n",
    "plt.ylabel('количество квартир')\n",
    "plt.show()"
   ]
  },
  {
   "cell_type": "markdown",
   "metadata": {},
   "source": [
    "В столбце ceiling_height можно заметить выбивающиеся значения до 2.3 и после 3.6"
   ]
  },
  {
   "cell_type": "code",
   "execution_count": 31,
   "metadata": {},
   "outputs": [
    {
     "data": {
      "image/png": "[encoded data removed]",
      "text/plain": [
       "<Figure size 432x288 with 1 Axes>"
      ]
     },
     "metadata": {
      "needs_background": "light"
     },
     "output_type": "display_data"
    }
   ],
   "source": [
    "data = data.query('2.3 <= ceiling_height <= 3.6')\n",
    "plt.hist(data['ceiling_height'], bins = 10)\n",
    "plt.title('Высота потолков')\n",
    "plt.xlabel('высота потолков')\n",
    "plt.ylabel('количество квартир')\n",
    "plt.show()"
   ]
  },
  {
   "cell_type": "markdown",
   "metadata": {},
   "source": [
    "### Какие факторы больше всего влияют на стоимость квартиры?"
   ]
  },
  {
   "cell_type": "markdown",
   "metadata": {},
   "source": [
    "#### Зависимость цены от площади"
   ]
  },
  {
   "cell_type": "code",
   "execution_count": 32,
   "metadata": {
    "scrolled": false
   },
   "outputs": [
    {
     "name": "stdout",
     "output_type": "stream",
     "text": [
      "Корреляция между ценой и площадью равна: 0.7550541499196144\n"
     ]
    },
    {
     "data": {
      "image/png": "[encoded data removed]",
      "text/plain": [
       "<Figure size 432x288 with 1 Axes>"
      ]
     },
     "metadata": {
      "needs_background": "light"
     },
     "output_type": "display_data"
    }
   ],
   "source": [
    "data.plot(x = 'total_area', y = 'last_price', kind = 'scatter', title = 'Зависимость цены от площади')\n",
    "plt.xlabel('Площадь')\n",
    "plt.ylabel('Цена')\n",
    "print('Корреляция между ценой и площадью равна:', data['total_area'].corr(data['last_price']))"
   ]
  },
  {
   "cell_type": "markdown",
   "metadata": {},
   "source": [
    "С увеличением площади, происходит и увеличение цены, но можно найти и отдельные случаи с большой площадью и низкой ценой. Найдя корреляцию, можно сказать, что 0.76 показывает достаточно хорошую взаимосвязь данных факторов"
   ]
  },
  {
   "cell_type": "markdown",
   "metadata": {},
   "source": [
    "#### Зависимость цены от числа комнат"
   ]
  },
  {
   "cell_type": "code",
   "execution_count": 33,
   "metadata": {},
   "outputs": [
    {
     "name": "stdout",
     "output_type": "stream",
     "text": [
      "Корреляция между ценой и числом комнат равна: 0.9878399218188516\n"
     ]
    },
    {
     "data": {
      "image/png": "[encoded data removed]",
      "text/plain": [
       "<Figure size 432x288 with 1 Axes>"
      ]
     },
     "metadata": {
      "needs_background": "light"
     },
     "output_type": "display_data"
    }
   ],
   "source": [
    "rooms__last_price = data.pivot_table(index = 'rooms', values = 'last_price', aggfunc = 'median').reset_index()\n",
    "rooms__last_price.plot(x = 'rooms', y = 'last_price', title = 'Зависимость цены от числа комнат', marker = '.')\n",
    "plt.xlabel('Количество комнат')\n",
    "plt.ylabel('Цена')\n",
    "print('Корреляция между ценой и числом комнат равна:', rooms__last_price['rooms'].corr(rooms__last_price['last_price'])) "
   ]
  },
  {
   "cell_type": "markdown",
   "metadata": {},
   "source": [
    "И по графику и по корреляции можно заметить, что цена сильно зависит от числа комнат."
   ]
  },
  {
   "cell_type": "markdown",
   "metadata": {},
   "source": [
    "#### Зависимость цены от удаленности от центра"
   ]
  },
  {
   "cell_type": "code",
   "execution_count": 34,
   "metadata": {},
   "outputs": [
    {
     "name": "stdout",
     "output_type": "stream",
     "text": [
      "Корреляция между ценой и удаленностью от центра равна: -0.3518791577745023\n"
     ]
    },
    {
     "data": {
      "image/png": "[encoded data removed]",
      "text/plain": [
       "<Figure size 432x288 with 1 Axes>"
      ]
     },
     "metadata": {
      "needs_background": "light"
     },
     "output_type": "display_data"
    }
   ],
   "source": [
    "data.plot(x = 'cityCenters_nearest', y = 'last_price', kind = 'scatter', title = 'Зависимость цены от удаленности от центра') \n",
    "plt.xlabel('Удаленность от центра')\n",
    "plt.ylabel('Цена')\n",
    "print('Корреляция между ценой и удаленностью от центра равна:', data['cityCenters_nearest'].corr(data['last_price'])) "
   ]
  },
  {
   "cell_type": "markdown",
   "metadata": {},
   "source": [
    "По графику можно заметить, что 0 до 15000 метров от центра стоят примерно одинаково, далее цены начинают падать. Хоть корреляция не очень сильная, но по графику видно, что зависимость между факторами есть, если считать, что 15км тоже является центром"
   ]
  },
  {
   "cell_type": "markdown",
   "metadata": {},
   "source": [
    "#### Зависимость цены от того, на каком этаже расположена квартира"
   ]
  },
  {
   "cell_type": "markdown",
   "metadata": {},
   "source": [
    "Для этого создадим отдельный столбец, где 0-первый этаж, 1 - другой, 2 - последний"
   ]
  },
  {
   "cell_type": "code",
   "execution_count": 35,
   "metadata": {},
   "outputs": [
    {
     "name": "stdout",
     "output_type": "stream",
     "text": [
      "Корреляция между ценой и этажом равна: 0.3479601028621766\n"
     ]
    },
    {
     "data": {
      "image/png": "[encoded data removed]",
      "text/plain": [
       "<Figure size 432x288 with 1 Axes>"
      ]
     },
     "metadata": {
      "needs_background": "light"
     },
     "output_type": "display_data"
    }
   ],
   "source": [
    "def to_one_floor_in_int(floor):\n",
    "    if floor == 'первый':\n",
    "        return 0\n",
    "    elif floor == 'другой':\n",
    "        return 1\n",
    "    elif floor == 'последний':\n",
    "        return 2\n",
    "\n",
    "data['floor_in_int'] = data['floor_'].apply(to_one_floor_in_int)\n",
    "floor__last_price = data.pivot_table(index = 'floor_in_int', values = 'last_price', aggfunc = 'median').reset_index()\n",
    "floor__last_price.plot(x = 'floor_in_int', y = 'last_price', title = 'Зависимость цены от этажа', marker = '.')\n",
    "plt.xlabel('Количество комнат')\n",
    "plt.ylabel('Цена')\n",
    "print('Корреляция между ценой и этажом равна:', floor__last_price['floor_in_int'].corr(floor__last_price['last_price']))"
   ]
  },
  {
   "cell_type": "markdown",
   "metadata": {},
   "source": [
    "Корреляция между данными факторами также достаточно сильная. По графику можно заметить, что цена ниже всего на первом этаже."
   ]
  },
  {
   "cell_type": "markdown",
   "metadata": {},
   "source": [
    "#### Зависимость от даты размещения: дня недели, месяца и года"
   ]
  },
  {
   "cell_type": "code",
   "execution_count": 36,
   "metadata": {},
   "outputs": [
    {
     "name": "stdout",
     "output_type": "stream",
     "text": [
      "Корреляция между ценой и днем недели размещения объявления равна: -0.4991209646600509\n"
     ]
    },
    {
     "data": {
      "image/png": "[encoded data removed]",
      "text/plain": [
       "<Figure size 432x288 with 1 Axes>"
      ]
     },
     "metadata": {
      "needs_background": "light"
     },
     "output_type": "display_data"
    }
   ],
   "source": [
    "weekday__last_price = data.pivot_table(index = 'weekday', values = 'last_price', aggfunc = 'median').reset_index()\n",
    "weekday__last_price.plot(x = 'weekday', y = 'last_price', title = 'Зависимость цены от дня недели размещения объявления', marker = '.')\n",
    "plt.xlabel('День недели')\n",
    "plt.ylabel('Цена')\n",
    "print('Корреляция между ценой и днем недели размещения объявления равна:', weekday__last_price['weekday'].corr(weekday__last_price['last_price']))"
   ]
  },
  {
   "cell_type": "markdown",
   "metadata": {},
   "source": [
    "По графику можно заметить, что квартиры продаются дороже всего во вторник."
   ]
  },
  {
   "cell_type": "code",
   "execution_count": 37,
   "metadata": {},
   "outputs": [
    {
     "name": "stdout",
     "output_type": "stream",
     "text": [
      "Корреляция между ценой и месяцем размещения объявления равна: 0.078890816068857\n"
     ]
    },
    {
     "data": {
      "image/png": "[encoded data removed]",
      "text/plain": [
       "<Figure size 432x288 with 1 Axes>"
      ]
     },
     "metadata": {
      "needs_background": "light"
     },
     "output_type": "display_data"
    }
   ],
   "source": [
    "month__last_price = data.pivot_table(index = 'month', values = 'last_price', aggfunc = 'median').reset_index()\n",
    "month__last_price.plot(x = 'month', y = 'last_price', title = 'Зависимость цены от месяца размещения объявления', marker = '.')\n",
    "plt.xlabel('Месяц')\n",
    "plt.ylabel('Цена')\n",
    "print('Корреляция между ценой и месяцем размещения объявления равна:', month__last_price['month'].corr(month__last_price['last_price']))"
   ]
  },
  {
   "cell_type": "markdown",
   "metadata": {},
   "source": [
    "По графику можно заметить, что квартиры продаются примерно по одинаковой цене все месяцы. За исключением апреля (4), где квартиры дороже и июня (6), где квартиры дешевле."
   ]
  },
  {
   "cell_type": "code",
   "execution_count": 38,
   "metadata": {},
   "outputs": [
    {
     "name": "stdout",
     "output_type": "stream",
     "text": [
      "Корреляция между ценой и годом размещения объявления равна: -0.6096751823281423\n"
     ]
    },
    {
     "data": {
      "image/png": "[encoded data removed]",
      "text/plain": [
       "<Figure size 432x288 with 1 Axes>"
      ]
     },
     "metadata": {
      "needs_background": "light"
     },
     "output_type": "display_data"
    }
   ],
   "source": [
    "year__last_price = data.pivot_table(index = 'year', values = 'last_price', aggfunc = 'median').reset_index()\n",
    "year__last_price.plot(x = 'year', y = 'last_price', title = 'Зависимость цены от года размещения объявления', marker = '.')\n",
    "plt.xlabel('Год')\n",
    "plt.ylabel('Цена')\n",
    "print('Корреляция между ценой и годом размещения объявления равна:', year__last_price['year'].corr(year__last_price['last_price']))"
   ]
  },
  {
   "cell_type": "markdown",
   "metadata": {},
   "source": [
    "Можно заметить, что квартиры были дороже всего в 2014 году, далее цена начала снижаться, а с 2017 года опять постепенно повышаться."
   ]
  },
  {
   "cell_type": "markdown",
   "metadata": {},
   "source": [
    "<b>Вывод:</b> исходя из графиков и подсчитанной корреляции можно сказать, что больше всего на стоимость квартиры влияет ее площадь. Также влияет число комнат. Чуть меньше влияет удаленность от центра. День, месяц и год размещения не влияют на стоиомсть квартиры, так как корреляция в данных случаях прибллиженна к 0."
   ]
  },
  {
   "cell_type": "markdown",
   "metadata": {},
   "source": [
    "### 10 населённых пунктов с наибольшим числом объявлений"
   ]
  },
  {
   "cell_type": "code",
   "execution_count": 39,
   "metadata": {},
   "outputs": [
    {
     "name": "stdout",
     "output_type": "stream",
     "text": [
      "                  name  count           mean\n",
      "33     Санкт-Петербург  14586  108076.984227\n",
      "288     посёлок Мурино    520   85725.241381\n",
      "323     посёлок Шушары    439   78655.103087\n",
      "3           Всеволожск    393   67211.129215\n",
      "32              Пушкин    353  101890.841179\n",
      "13             Колпино    337   75333.295801\n",
      "293  посёлок Парголово    326   90332.263023\n",
      "6              Гатчина    305   68811.372828\n",
      "92     деревня Кудрово    299   92473.547576\n",
      "4               Выборг    229   58121.987388\n",
      "\n",
      "Наименьшая стоимость квадратного метра в Выборг(58121.99)\n",
      "Наибольшая стоимость квадратного метра в Санкт-Петербург(108076.98)\n"
     ]
    }
   ],
   "source": [
    "locality_data = data.pivot_table(index = 'locality_name', values = 'price_per_square_metre', aggfunc = ['count', 'mean']).reset_index()\n",
    "locality_data.columns = ['name', 'count', 'mean']\n",
    "top_10_localities = locality_data.sort_values(by = 'count', ascending = False).head(10)\n",
    "\n",
    "print(top_10_localities)\n",
    "print()\n",
    "print('Наименьшая стоимость квадратного метра в {}({:.2f})'.format(str(top_10_localities[top_10_localities['mean'] == top_10_localities['mean'].min()]['name'].values[0]), top_10_localities['mean'].min()))\n",
    "print('Наибольшая стоимость квадратного метра в {}({:.2f})'.format(str(top_10_localities[top_10_localities['mean'] == top_10_localities['mean'].max()]['name'].values[0]), top_10_localities['mean'].max()))"
   ]
  },
  {
   "cell_type": "markdown",
   "metadata": {},
   "source": [
    "<b>Вывод:</b> В Санкт-Петербурге больше всего объявлений. Также там и самая большая стоимость за квадратный метр. Наименьшая стоимость за квадратный метр из данных населенных пунктов во Всеволожске."
   ]
  },
  {
   "cell_type": "markdown",
   "metadata": {},
   "source": [
    "### Какая область входит в центр?"
   ]
  },
  {
   "cell_type": "code",
   "execution_count": 40,
   "metadata": {},
   "outputs": [
    {
     "data": {
      "text/plain": [
       "<AxesSubplot:title={'center':'Зависимость цены от удаленности от центра'}, xlabel='center_in_km', ylabel='last_price'>"
      ]
     },
     "execution_count": 40,
     "metadata": {},
     "output_type": "execute_result"
    },
    {
     "data": {
      "image/png": "[encoded data removed]",
      "text/plain": [
       "<Figure size 432x288 with 1 Axes>"
      ]
     },
     "metadata": {
      "needs_background": "light"
     },
     "output_type": "display_data"
    }
   ],
   "source": [
    "apartments_in_SPB = data.query('locality_name == \"Санкт-Петербург\"')\n",
    "apartments_in_SPB['center_in_km'] = apartments_in_SPB['cityCenters_nearest'] // 1000\n",
    "apartments_in_SPB['center_in_km'] = apartments_in_SPB['center_in_km'].astype('Int64')\n",
    "km_price = apartments_in_SPB.pivot_table(index = 'center_in_km', values = 'last_price').reset_index()\n",
    "km_price.plot(x = 'center_in_km', y = 'last_price', kind = 'scatter', title = 'Зависимость цены от удаленности от центра')"
   ]
  },
  {
   "cell_type": "markdown",
   "metadata": {},
   "source": [
    "<b>Вывод:</b> По графику определили, что в центральную зону входят квартиры с удаленность до 3 км."
   ]
  },
  {
   "cell_type": "markdown",
   "metadata": {},
   "source": [
    "### Сегмент квартир в центре"
   ]
  },
  {
   "cell_type": "markdown",
   "metadata": {},
   "source": [
    "#### Изучение следующих параметров: площадь, цена, число комнат, высота"
   ]
  },
  {
   "cell_type": "code",
   "execution_count": 41,
   "metadata": {},
   "outputs": [
    {
     "data": {
      "image/png": "[encoded data removed]",
      "text/plain": [
       "<Figure size 432x288 with 1 Axes>"
      ]
     },
     "metadata": {
      "needs_background": "light"
     },
     "output_type": "display_data"
    }
   ],
   "source": [
    "apartments_in_centre = apartments_in_SPB[apartments_in_SPB['center_in_km'] <= 3]\n",
    "\n",
    "plt.hist(apartments_in_centre['total_area'])\n",
    "plt.title('Площадь квартиры')\n",
    "plt.xlabel('площадь квартиры')\n",
    "plt.ylabel('количество квартир')\n",
    "plt.show()"
   ]
  },
  {
   "cell_type": "markdown",
   "metadata": {},
   "source": [
    "Средняя площадь квартир находится в диапазоне от 50 до 80 кв.м"
   ]
  },
  {
   "cell_type": "code",
   "execution_count": 42,
   "metadata": {},
   "outputs": [
    {
     "data": {
      "image/png": "[encoded data removed]",
      "text/plain": [
       "<Figure size 432x288 with 1 Axes>"
      ]
     },
     "metadata": {
      "needs_background": "light"
     },
     "output_type": "display_data"
    }
   ],
   "source": [
    "plt.hist(apartments_in_centre['last_price'])\n",
    "plt.title('Цена квартиры')\n",
    "plt.xlabel('цена квартиры')\n",
    "plt.ylabel('количество квартир')\n",
    "plt.show()"
   ]
  },
  {
   "cell_type": "markdown",
   "metadata": {},
   "source": [
    "Пик цен квартир находится на цене в 7000000, пик на 3000000 превышает пик по всем квартирам, квартиры в Санкт-Петербурге самые дорогие"
   ]
  },
  {
   "cell_type": "code",
   "execution_count": 43,
   "metadata": {},
   "outputs": [
    {
     "data": {
      "image/png": "[encoded data removed]",
      "text/plain": [
       "<Figure size 432x288 with 1 Axes>"
      ]
     },
     "metadata": {
      "needs_background": "light"
     },
     "output_type": "display_data"
    }
   ],
   "source": [
    "plt.hist(apartments_in_centre['rooms'])\n",
    "plt.title('Число комнат')\n",
    "plt.xlabel('число комнат')\n",
    "plt.ylabel('количество квартир')\n",
    "plt.show()"
   ]
  },
  {
   "cell_type": "markdown",
   "metadata": {},
   "source": [
    "Чаще всего встречается 2 и 3 комнаты"
   ]
  },
  {
   "cell_type": "code",
   "execution_count": 44,
   "metadata": {},
   "outputs": [
    {
     "data": {
      "image/png": "[encoded data removed]",
      "text/plain": [
       "<Figure size 432x288 with 1 Axes>"
      ]
     },
     "metadata": {
      "needs_background": "light"
     },
     "output_type": "display_data"
    }
   ],
   "source": [
    "plt.hist(apartments_in_centre['ceiling_height'])\n",
    "plt.title('Высота потолков')\n",
    "plt.xlabel('высота потолков')\n",
    "plt.ylabel('количество квартир')\n",
    "plt.show()"
   ]
  },
  {
   "cell_type": "markdown",
   "metadata": {},
   "source": [
    "Пик в графике приходится на 2.6 метра, в данном случае пик превышает на 0.1 метра пик по всем квартирам"
   ]
  },
  {
   "cell_type": "markdown",
   "metadata": {},
   "source": [
    "<b>Вывод:</b> в сегменте квартир, находящихся в центре Санкт-Петербурга, есть отличия от всех квартир. Например средняя цена превышает на 3000000 среднюю цену по всем квартирам. Площадь квартир находится в диапазоне от 50 до 80 кв.м. Здесь чаще встречаются 2-x и 3-комнатные квартиры, нежели 1-комнатные"
   ]
  },
  {
   "cell_type": "markdown",
   "metadata": {},
   "source": [
    "#### Факторы, которые влияют на стоимость квартиры (число комнат, этаж, удалённость от центра, дата размещения объявления)"
   ]
  },
  {
   "cell_type": "markdown",
   "metadata": {},
   "source": [
    "##### Зависимость цены от числа комнат"
   ]
  },
  {
   "cell_type": "code",
   "execution_count": 45,
   "metadata": {
    "scrolled": false
   },
   "outputs": [
    {
     "name": "stdout",
     "output_type": "stream",
     "text": [
      "Корреляция между ценой и числом комнат равна: 0.9893116992342835\n"
     ]
    },
    {
     "data": {
      "image/png": "[encoded data removed]",
      "text/plain": [
       "<Figure size 432x288 with 1 Axes>"
      ]
     },
     "metadata": {
      "needs_background": "light"
     },
     "output_type": "display_data"
    }
   ],
   "source": [
    "rooms___last_price = apartments_in_centre.pivot_table(index = 'rooms', values = 'last_price', aggfunc = 'median').reset_index()\n",
    "rooms___last_price.plot(x = 'rooms', y = 'last_price', title = 'Зависимость цены от числа комнат', marker = '.')\n",
    "plt.xlabel('Число комнат')\n",
    "plt.ylabel('Цена')\n",
    "print('Корреляция между ценой и числом комнат равна:', rooms___last_price['rooms'].corr(rooms___last_price['last_price'])) "
   ]
  },
  {
   "cell_type": "markdown",
   "metadata": {},
   "source": [
    "Также, как и в случае со всеми квартирами, зависимость между этими факторами очень сильная."
   ]
  },
  {
   "cell_type": "markdown",
   "metadata": {},
   "source": [
    "##### Зависимость цены от удаленности от центра"
   ]
  },
  {
   "cell_type": "code",
   "execution_count": 46,
   "metadata": {},
   "outputs": [
    {
     "name": "stdout",
     "output_type": "stream",
     "text": [
      "Корреляция между ценой и удаленностью от центра равна: -0.1278843226621596\n"
     ]
    },
    {
     "data": {
      "image/png": "[encoded data removed]",
      "text/plain": [
       "<Figure size 432x288 with 1 Axes>"
      ]
     },
     "metadata": {
      "needs_background": "light"
     },
     "output_type": "display_data"
    }
   ],
   "source": [
    "apartments_in_centre.plot(x = 'cityCenters_nearest', y = 'last_price', kind = 'scatter', title = 'Зависимость цены от удаленности от центра')\n",
    "plt.xlabel('Удаленность от центра')\n",
    "plt.ylabel('Цена')\n",
    "print('Корреляция между ценой и удаленностью от центра равна:', apartments_in_centre['cityCenters_nearest'].corr(apartments_in_centre['last_price']))"
   ]
  },
  {
   "cell_type": "markdown",
   "metadata": {},
   "source": [
    "##### Зависимость цены от этажа квартиры"
   ]
  },
  {
   "cell_type": "code",
   "execution_count": 47,
   "metadata": {},
   "outputs": [
    {
     "name": "stdout",
     "output_type": "stream",
     "text": [
      "Корреляция между ценой и этажом равна: 0.8369085266745758\n"
     ]
    },
    {
     "data": {
      "image/png": "[encoded data removed]",
      "text/plain": [
       "<Figure size 432x288 with 1 Axes>"
      ]
     },
     "metadata": {
      "needs_background": "light"
     },
     "output_type": "display_data"
    }
   ],
   "source": [
    "floor___last_price = apartments_in_centre.pivot_table(index = 'floor_in_int', values = 'last_price', aggfunc = 'median').reset_index()\n",
    "floor___last_price.plot(x = 'floor_in_int', y = 'last_price', title = 'Зависимость цены от этажа', marker = '.')\n",
    "plt.xlabel('Этаж')\n",
    "plt.ylabel('Цена')\n",
    "print('Корреляция между ценой и этажом равна:', floor___last_price['floor_in_int'].corr(floor___last_price['last_price']))"
   ]
  },
  {
   "cell_type": "code",
   "execution_count": 48,
   "metadata": {},
   "outputs": [
    {
     "name": "stdout",
     "output_type": "stream",
     "text": [
      "Медиана для первого этажа равна: 6625000.0\n",
      "Медиана для другого этажа равна: 8725246.0\n",
      "Медиана для последнего этажа равна: 8594500.0\n"
     ]
    }
   ],
   "source": [
    "print('Медиана для первого этажа равна:', apartments_in_centre[apartments_in_centre['floor_'] == 'первый']['last_price'].median())\n",
    "print('Медиана для другого этажа равна:', apartments_in_centre[apartments_in_centre['floor_'] == 'другой']['last_price'].median())\n",
    "print('Медиана для последнего этажа равна:', apartments_in_centre[apartments_in_centre['floor_'] == 'последний']['last_price'].median())"
   ]
  },
  {
   "cell_type": "markdown",
   "metadata": {},
   "source": [
    "##### Зависимость от даты размещения: дня недели, месяца и года"
   ]
  },
  {
   "cell_type": "code",
   "execution_count": 49,
   "metadata": {},
   "outputs": [
    {
     "name": "stdout",
     "output_type": "stream",
     "text": [
      "Корреляция между ценой и днем недели размещения объявления равна: -0.1134458906185331\n"
     ]
    },
    {
     "data": {
      "image/png": "[encoded data removed]",
      "text/plain": [
       "<Figure size 432x288 with 1 Axes>"
      ]
     },
     "metadata": {
      "needs_background": "light"
     },
     "output_type": "display_data"
    }
   ],
   "source": [
    "weekday___last_price = apartments_in_centre.pivot_table(index = 'weekday', values = 'last_price', aggfunc = 'median').reset_index()\n",
    "weekday___last_price.plot(x = 'weekday', y = 'last_price', title = 'Зависимость цены от дня недели размещения объявления', marker = '.')\n",
    "print('Корреляция между ценой и днем недели размещения объявления равна:', weekday___last_price['weekday'].corr(weekday___last_price['last_price']))"
   ]
  },
  {
   "cell_type": "markdown",
   "metadata": {},
   "source": [
    "Здесь уже есть различие в графике по всем квартирам. В данном случае получается, что квартиры дороже в среду, пятницу и воскресенье."
   ]
  },
  {
   "cell_type": "code",
   "execution_count": 50,
   "metadata": {},
   "outputs": [
    {
     "name": "stdout",
     "output_type": "stream",
     "text": [
      "Корреляция между ценой и месяцем размещения объявления равна: -0.46944584776772225\n"
     ]
    },
    {
     "data": {
      "image/png": "[encoded data removed]",
      "text/plain": [
       "<Figure size 432x288 with 1 Axes>"
      ]
     },
     "metadata": {
      "needs_background": "light"
     },
     "output_type": "display_data"
    }
   ],
   "source": [
    "month___last_price = apartments_in_centre.pivot_table(index = 'month', values = 'last_price', aggfunc = 'median').reset_index()\n",
    "month___last_price.plot(x = 'month', y = 'last_price', title = 'Зависимость цены от месяца размещения объявления', marker = '.')\n",
    "print('Корреляция между ценой и месяцем размещения объявления равна:', month___last_price['month'].corr(month___last_price['last_price']))"
   ]
  },
  {
   "cell_type": "markdown",
   "metadata": {},
   "source": [
    "Здесь тоже ситуация отличается. Можем наблюдать 2 пика: в марте (3) и в сентябре (9)"
   ]
  },
  {
   "cell_type": "code",
   "execution_count": 51,
   "metadata": {},
   "outputs": [
    {
     "name": "stdout",
     "output_type": "stream",
     "text": [
      "Корреляция между ценой и годом размещения объявления равна: -0.36177656111500717\n"
     ]
    },
    {
     "data": {
      "image/png": "[encoded data removed]",
      "text/plain": [
       "<Figure size 432x288 with 1 Axes>"
      ]
     },
     "metadata": {
      "needs_background": "light"
     },
     "output_type": "display_data"
    }
   ],
   "source": [
    "year___last_price = apartments_in_centre.pivot_table(index = 'year', values = 'last_price', aggfunc = 'median').reset_index()\n",
    "year___last_price.plot(x = 'year', y = 'last_price', title = 'Зависимость цены от года размещения объявления', marker = '.')\n",
    "print('Корреляция между ценой и годом размещения объявления равна:', year___last_price['year'].corr(year___last_price['last_price']))"
   ]
  },
  {
   "cell_type": "markdown",
   "metadata": {},
   "source": [
    "Здесь тоже ситуация сильно отличается от ситуации по всем квартирам. Если в 2016 году был спад цен по всем квартирам, то квартиры в центре СПБ наоборот стоили дороже. Но в 2017 году произошел спад цен, также как и в ситуации со всеми квартирами."
   ]
  },
  {
   "cell_type": "markdown",
   "metadata": {},
   "source": [
    "<b>Вывод:</b> по сути здесь влияют те же факторы, что и при рассмотрении всех квартир: число комнат, чуть меньше влияет удаленность от центра, также не влияют день, месяц и год размещения объявления."
   ]
  },
  {
   "cell_type": "markdown",
   "metadata": {},
   "source": [
    "## Общий вывод"
   ]
  },
  {
   "cell_type": "markdown",
   "metadata": {},
   "source": [
    "Исходные даннные были подготовлены, то есть очищены от пропусков и приведены к нужному типу. Были определены средняя площадь, цена, высота потолков. Также было определено, что площадь квартиры, число комнат и удаленность от центра больше всего влияют на стоимость квартиры. Был рассмотрен срез по центральным квартирам в Санкт-Петербурге. Площадь квартир в центре находится в диапазоне от 50 до 80 кв.м., в то время как пик по всем квартирам приходится на 45 кв.м.. Цена квартир в центре превышает на 3 млн рублей цены по всем квартирам. В центре города больше квартир с 2 и 3 комнатами, в то время как в области больше квартир с 1 либо с 2 комнатами. Высота потолков в Санкт-Петербурге выше на 0.1 метр. "
   ]
  }
 ],
 "metadata": {
  "ExecuteTimeLog": [
   {
    "duration": 657,
    "start_time": "2021-10-06T16:28:45.836Z"
   },
   {
    "duration": 88,
    "start_time": "2021-10-06T16:29:15.250Z"
   },
   {
    "duration": 88,
    "start_time": "2021-10-06T16:34:16.832Z"
   },
   {
    "duration": 4,
    "start_time": "2021-10-06T17:30:37.170Z"
   },
   {
    "duration": 27,
    "start_time": "2021-10-06T17:32:14.015Z"
   },
   {
    "duration": 9,
    "start_time": "2021-10-06T17:32:29.669Z"
   },
   {
    "duration": 6,
    "start_time": "2021-10-06T17:33:24.833Z"
   },
   {
    "duration": 265,
    "start_time": "2021-10-06T17:37:32.047Z"
   },
   {
    "duration": 15,
    "start_time": "2021-10-06T17:37:37.792Z"
   },
   {
    "duration": 878,
    "start_time": "2021-10-09T15:58:34.513Z"
   },
   {
    "duration": 32,
    "start_time": "2021-10-09T15:58:38.835Z"
   },
   {
    "duration": 37,
    "start_time": "2021-10-09T15:59:37.249Z"
   },
   {
    "duration": 18,
    "start_time": "2021-10-09T16:02:42.765Z"
   },
   {
    "duration": 110,
    "start_time": "2021-10-09T16:07:29.459Z"
   },
   {
    "duration": 20,
    "start_time": "2021-10-09T16:07:31.716Z"
   },
   {
    "duration": 431,
    "start_time": "2021-10-09T16:18:03.865Z"
   },
   {
    "duration": 112,
    "start_time": "2021-10-09T17:03:29.177Z"
   },
   {
    "duration": 25,
    "start_time": "2021-10-09T17:03:44.343Z"
   },
   {
    "duration": 18,
    "start_time": "2021-10-09T17:04:08.597Z"
   },
   {
    "duration": 23,
    "start_time": "2021-10-09T17:09:06.691Z"
   },
   {
    "duration": 34,
    "start_time": "2021-10-09T17:09:35.267Z"
   },
   {
    "duration": 37,
    "start_time": "2021-10-09T17:09:56.175Z"
   },
   {
    "duration": 42,
    "start_time": "2021-10-09T17:10:10.578Z"
   },
   {
    "duration": 612,
    "start_time": "2021-10-09T17:12:13.584Z"
   },
   {
    "duration": 946,
    "start_time": "2021-10-09T17:13:58.705Z"
   },
   {
    "duration": 962,
    "start_time": "2021-10-09T17:14:07.490Z"
   },
   {
    "duration": 884,
    "start_time": "2021-10-09T17:14:25.129Z"
   },
   {
    "duration": 1007,
    "start_time": "2021-10-09T17:14:35.464Z"
   },
   {
    "duration": 329,
    "start_time": "2021-10-09T17:14:46.156Z"
   },
   {
    "duration": 18,
    "start_time": "2021-10-09T17:14:55.209Z"
   },
   {
    "duration": 110,
    "start_time": "2021-10-09T17:15:11.824Z"
   },
   {
    "duration": 22,
    "start_time": "2021-10-09T17:15:14.170Z"
   },
   {
    "duration": 372,
    "start_time": "2021-10-09T17:15:22.066Z"
   },
   {
    "duration": 856,
    "start_time": "2021-10-09T17:17:17.580Z"
   },
   {
    "duration": 826,
    "start_time": "2021-10-09T17:17:31.676Z"
   },
   {
    "duration": 366,
    "start_time": "2021-10-09T17:17:50.086Z"
   },
   {
    "duration": 868,
    "start_time": "2021-10-09T17:19:19.769Z"
   },
   {
    "duration": 912,
    "start_time": "2021-10-09T17:27:27.308Z"
   },
   {
    "duration": 37,
    "start_time": "2021-10-09T17:28:39.104Z"
   },
   {
    "duration": 37,
    "start_time": "2021-10-09T17:40:08.849Z"
   },
   {
    "duration": 765,
    "start_time": "2021-10-09T17:49:04.592Z"
   },
   {
    "duration": 9,
    "start_time": "2021-10-09T17:50:19.838Z"
   },
   {
    "duration": 9,
    "start_time": "2021-10-09T17:50:27.453Z"
   },
   {
    "duration": 8,
    "start_time": "2021-10-09T17:50:31.867Z"
   },
   {
    "duration": 10,
    "start_time": "2021-10-09T17:51:43.106Z"
   },
   {
    "duration": 375,
    "start_time": "2021-10-09T17:55:54.187Z"
   },
   {
    "duration": 336,
    "start_time": "2021-10-09T17:56:01.780Z"
   },
   {
    "duration": 830,
    "start_time": "2021-10-11T18:49:54.527Z"
   },
   {
    "duration": 310,
    "start_time": "2021-10-11T18:49:59.125Z"
   },
   {
    "duration": 13,
    "start_time": "2021-10-11T18:50:32.298Z"
   },
   {
    "duration": 39,
    "start_time": "2021-10-11T18:50:50.995Z"
   },
   {
    "duration": 39,
    "start_time": "2021-10-11T18:51:05.398Z"
   },
   {
    "duration": 42,
    "start_time": "2021-10-11T18:52:25.291Z"
   },
   {
    "duration": 71,
    "start_time": "2021-10-11T18:54:49.962Z"
   },
   {
    "duration": 369,
    "start_time": "2021-10-15T16:31:40.620Z"
   },
   {
    "duration": 869,
    "start_time": "2021-10-15T16:31:47.716Z"
   },
   {
    "duration": 93,
    "start_time": "2021-10-15T16:31:53.709Z"
   },
   {
    "duration": 92,
    "start_time": "2021-10-15T16:32:20.175Z"
   },
   {
    "duration": 84,
    "start_time": "2021-10-15T16:32:55.547Z"
   },
   {
    "duration": 86,
    "start_time": "2021-10-15T16:33:47.265Z"
   },
   {
    "duration": 85,
    "start_time": "2021-10-15T16:38:24.762Z"
   },
   {
    "duration": 438,
    "start_time": "2021-10-15T16:42:41.477Z"
   },
   {
    "duration": 345,
    "start_time": "2021-10-15T16:43:05.976Z"
   },
   {
    "duration": 39,
    "start_time": "2021-10-15T16:43:14.429Z"
   },
   {
    "duration": 344,
    "start_time": "2021-10-15T16:48:32.809Z"
   },
   {
    "duration": 316,
    "start_time": "2021-10-15T16:49:06.413Z"
   },
   {
    "duration": 307,
    "start_time": "2021-10-15T16:49:20.444Z"
   },
   {
    "duration": 303,
    "start_time": "2021-10-15T16:54:48.556Z"
   },
   {
    "duration": 317,
    "start_time": "2021-10-15T16:54:53.670Z"
   },
   {
    "duration": 281,
    "start_time": "2021-10-15T16:55:14.578Z"
   },
   {
    "duration": 408,
    "start_time": "2021-10-15T16:55:25.936Z"
   },
   {
    "duration": 275,
    "start_time": "2021-10-15T16:55:33.600Z"
   },
   {
    "duration": 319,
    "start_time": "2021-10-15T16:56:31.524Z"
   },
   {
    "duration": 2017,
    "start_time": "2021-10-15T17:11:20.089Z"
   },
   {
    "duration": 50,
    "start_time": "2021-10-15T17:11:38.885Z"
   },
   {
    "duration": 41,
    "start_time": "2021-10-15T17:11:58.977Z"
   },
   {
    "duration": 37,
    "start_time": "2021-10-15T17:12:08.707Z"
   },
   {
    "duration": 39,
    "start_time": "2021-10-15T17:12:09.757Z"
   },
   {
    "duration": 41,
    "start_time": "2021-10-15T17:15:09.254Z"
   },
   {
    "duration": 47,
    "start_time": "2021-10-15T17:16:07.113Z"
   },
   {
    "duration": 53,
    "start_time": "2021-10-15T17:27:31.986Z"
   },
   {
    "duration": 22,
    "start_time": "2021-10-15T17:34:39.436Z"
   },
   {
    "duration": 28,
    "start_time": "2021-10-15T17:36:44.969Z"
   },
   {
    "duration": 57,
    "start_time": "2021-10-15T17:36:49.321Z"
   },
   {
    "duration": 340,
    "start_time": "2021-10-16T15:59:07.122Z"
   },
   {
    "duration": 893,
    "start_time": "2021-10-16T15:59:13.969Z"
   },
   {
    "duration": 98,
    "start_time": "2021-10-16T15:59:16.659Z"
   },
   {
    "duration": 51,
    "start_time": "2021-10-16T15:59:17.543Z"
   },
   {
    "duration": 74,
    "start_time": "2021-10-16T15:59:18.529Z"
   },
   {
    "duration": 394,
    "start_time": "2021-10-16T15:59:19.799Z"
   },
   {
    "duration": 882,
    "start_time": "2021-10-16T15:59:28.924Z"
   },
   {
    "duration": 5778,
    "start_time": "2021-10-16T15:59:52.876Z"
   },
   {
    "duration": 1034,
    "start_time": "2021-10-16T16:00:03.413Z"
   },
   {
    "duration": 852,
    "start_time": "2021-10-16T16:01:39.270Z"
   },
   {
    "duration": 5,
    "start_time": "2021-10-16T16:02:45.204Z"
   },
   {
    "duration": 9,
    "start_time": "2021-10-16T16:03:06.885Z"
   },
   {
    "duration": 907,
    "start_time": "2021-10-16T16:03:19.312Z"
   },
   {
    "duration": 866,
    "start_time": "2021-10-16T16:05:16.902Z"
   },
   {
    "duration": 310,
    "start_time": "2021-10-16T16:06:28.015Z"
   },
   {
    "duration": 469,
    "start_time": "2021-10-16T16:07:06.913Z"
   },
   {
    "duration": 116,
    "start_time": "2021-10-16T16:07:17.856Z"
   },
   {
    "duration": 100,
    "start_time": "2021-10-16T16:07:19.702Z"
   },
   {
    "duration": 51,
    "start_time": "2021-10-16T16:07:20.224Z"
   },
   {
    "duration": 72,
    "start_time": "2021-10-16T16:07:20.985Z"
   },
   {
    "duration": 301,
    "start_time": "2021-10-16T16:07:22.413Z"
   },
   {
    "duration": 846,
    "start_time": "2021-10-16T16:07:28.583Z"
   },
   {
    "duration": 300,
    "start_time": "2021-10-16T16:07:58.672Z"
   },
   {
    "duration": 48,
    "start_time": "2021-10-16T16:18:28.519Z"
   },
   {
    "duration": 54,
    "start_time": "2021-10-16T16:18:47.286Z"
   },
   {
    "duration": 280,
    "start_time": "2021-10-16T16:18:48.805Z"
   },
   {
    "duration": 327,
    "start_time": "2021-10-16T16:21:05.755Z"
   },
   {
    "duration": 418,
    "start_time": "2021-10-16T16:21:44.232Z"
   },
   {
    "duration": 330,
    "start_time": "2021-10-16T16:22:07.606Z"
   },
   {
    "duration": 439,
    "start_time": "2021-10-16T16:22:11.674Z"
   },
   {
    "duration": 485,
    "start_time": "2021-10-16T16:22:17.161Z"
   },
   {
    "duration": 553,
    "start_time": "2021-10-16T16:22:23.956Z"
   },
   {
    "duration": 456,
    "start_time": "2021-10-16T16:22:48.977Z"
   },
   {
    "duration": 336,
    "start_time": "2021-10-16T16:22:55.294Z"
   },
   {
    "duration": 361,
    "start_time": "2021-10-16T16:23:31.969Z"
   },
   {
    "duration": 367,
    "start_time": "2021-10-16T16:23:36.662Z"
   },
   {
    "duration": 357,
    "start_time": "2021-10-16T16:23:51.755Z"
   },
   {
    "duration": 787,
    "start_time": "2021-10-16T16:24:42.782Z"
   },
   {
    "duration": 567,
    "start_time": "2021-10-16T16:24:47.965Z"
   },
   {
    "duration": 327,
    "start_time": "2021-10-16T16:25:14.434Z"
   },
   {
    "duration": 299,
    "start_time": "2021-10-16T16:27:17.893Z"
   },
   {
    "duration": 301,
    "start_time": "2021-10-16T16:27:38.897Z"
   },
   {
    "duration": 309,
    "start_time": "2021-10-16T16:27:45.910Z"
   },
   {
    "duration": 282,
    "start_time": "2021-10-16T16:28:04.251Z"
   },
   {
    "duration": 374,
    "start_time": "2021-10-16T16:30:02.700Z"
   },
   {
    "duration": 6,
    "start_time": "2021-10-16T16:30:08.195Z"
   },
   {
    "duration": 7,
    "start_time": "2021-10-16T16:30:13.080Z"
   },
   {
    "duration": 14,
    "start_time": "2021-10-16T16:39:02.482Z"
   },
   {
    "duration": 284,
    "start_time": "2021-10-16T16:39:10.114Z"
   },
   {
    "duration": 387,
    "start_time": "2021-10-16T16:39:39.679Z"
   },
   {
    "duration": 297,
    "start_time": "2021-10-16T16:39:44.521Z"
   },
   {
    "duration": 367,
    "start_time": "2021-10-16T16:39:50.718Z"
   },
   {
    "duration": 509,
    "start_time": "2021-10-16T16:39:58.844Z"
   },
   {
    "duration": 417,
    "start_time": "2021-10-16T16:45:06.386Z"
   },
   {
    "duration": 6,
    "start_time": "2021-10-16T16:45:25.568Z"
   },
   {
    "duration": 288,
    "start_time": "2021-10-16T16:45:52.098Z"
   },
   {
    "duration": 294,
    "start_time": "2021-10-16T16:46:02.871Z"
   },
   {
    "duration": 616,
    "start_time": "2021-10-17T10:28:07.982Z"
   },
   {
    "duration": 58,
    "start_time": "2021-10-17T10:28:12.386Z"
   },
   {
    "duration": 30,
    "start_time": "2021-10-17T10:28:13.529Z"
   },
   {
    "duration": 43,
    "start_time": "2021-10-17T10:28:14.435Z"
   },
   {
    "duration": 237,
    "start_time": "2021-10-17T10:28:16.518Z"
   },
   {
    "duration": 301,
    "start_time": "2021-10-17T10:28:28.231Z"
   },
   {
    "duration": 261,
    "start_time": "2021-10-17T10:28:36.116Z"
   },
   {
    "duration": 224,
    "start_time": "2021-10-17T10:29:12.909Z"
   },
   {
    "duration": 239,
    "start_time": "2021-10-17T10:29:33.448Z"
   },
   {
    "duration": 242,
    "start_time": "2021-10-17T10:29:49.113Z"
   },
   {
    "duration": 225,
    "start_time": "2021-10-17T10:31:01.729Z"
   },
   {
    "duration": 232,
    "start_time": "2021-10-17T10:31:08.150Z"
   },
   {
    "duration": 759,
    "start_time": "2021-10-17T10:31:48.810Z"
   },
   {
    "duration": 754,
    "start_time": "2021-10-17T10:35:02.372Z"
   },
   {
    "duration": 454,
    "start_time": "2021-10-17T10:37:40.534Z"
   },
   {
    "duration": 283,
    "start_time": "2021-10-17T10:39:18.831Z"
   },
   {
    "duration": 286,
    "start_time": "2021-10-17T10:39:36.176Z"
   },
   {
    "duration": 550,
    "start_time": "2021-10-17T10:42:51.105Z"
   },
   {
    "duration": 443,
    "start_time": "2021-10-17T10:43:02.995Z"
   },
   {
    "duration": 652,
    "start_time": "2021-10-17T10:43:32.780Z"
   },
   {
    "duration": 771,
    "start_time": "2021-10-17T10:44:15.626Z"
   },
   {
    "duration": 851,
    "start_time": "2021-10-17T10:45:08.118Z"
   },
   {
    "duration": 985,
    "start_time": "2021-10-17T10:45:17.736Z"
   },
   {
    "duration": 848,
    "start_time": "2021-10-17T10:45:26.566Z"
   },
   {
    "duration": 932,
    "start_time": "2021-10-17T10:45:33.474Z"
   },
   {
    "duration": 1221,
    "start_time": "2021-10-17T10:46:45.469Z"
   },
   {
    "duration": 1210,
    "start_time": "2021-10-17T10:47:14.096Z"
   },
   {
    "duration": 1106,
    "start_time": "2021-10-17T10:47:29.979Z"
   },
   {
    "duration": 1231,
    "start_time": "2021-10-17T10:47:41.585Z"
   },
   {
    "duration": 681,
    "start_time": "2021-10-17T10:47:58.471Z"
   },
   {
    "duration": 1266,
    "start_time": "2021-10-17T10:48:03.945Z"
   },
   {
    "duration": 1044,
    "start_time": "2021-10-17T10:49:50.002Z"
   },
   {
    "duration": 806,
    "start_time": "2021-10-17T10:51:16.757Z"
   },
   {
    "duration": 721,
    "start_time": "2021-10-17T10:51:51.034Z"
   },
   {
    "duration": 1156,
    "start_time": "2021-10-17T10:52:49.366Z"
   },
   {
    "duration": 1279,
    "start_time": "2021-10-17T10:53:02.942Z"
   },
   {
    "duration": 4,
    "start_time": "2021-10-17T10:59:07.083Z"
   },
   {
    "duration": 5,
    "start_time": "2021-10-17T10:59:13.598Z"
   },
   {
    "duration": 355,
    "start_time": "2021-10-17T11:00:55.021Z"
   },
   {
    "duration": 266,
    "start_time": "2021-10-17T11:01:08.045Z"
   },
   {
    "duration": 82,
    "start_time": "2021-10-17T11:01:19.740Z"
   },
   {
    "duration": 58,
    "start_time": "2021-10-17T11:01:21.681Z"
   },
   {
    "duration": 301,
    "start_time": "2021-10-17T11:01:22.393Z"
   },
   {
    "duration": 24,
    "start_time": "2021-10-17T11:02:02.988Z"
   },
   {
    "duration": 162,
    "start_time": "2021-10-17T11:08:05.353Z"
   },
   {
    "duration": 301,
    "start_time": "2021-10-17T11:08:12.522Z"
   },
   {
    "duration": 297,
    "start_time": "2021-10-17T11:09:22.448Z"
   },
   {
    "duration": 430,
    "start_time": "2021-10-17T11:09:30.287Z"
   },
   {
    "duration": 312,
    "start_time": "2021-10-17T11:09:51.260Z"
   },
   {
    "duration": 301,
    "start_time": "2021-10-17T11:11:00.659Z"
   },
   {
    "duration": 310,
    "start_time": "2021-10-17T11:12:09.910Z"
   },
   {
    "duration": 308,
    "start_time": "2021-10-17T11:12:44.709Z"
   },
   {
    "duration": 326,
    "start_time": "2021-10-17T11:13:09.654Z"
   },
   {
    "duration": 421,
    "start_time": "2021-10-17T11:14:58.697Z"
   },
   {
    "duration": 337,
    "start_time": "2021-10-17T11:15:09.464Z"
   },
   {
    "duration": 312,
    "start_time": "2021-10-17T11:15:21.722Z"
   },
   {
    "duration": 279,
    "start_time": "2021-10-17T11:15:35.325Z"
   },
   {
    "duration": 310,
    "start_time": "2021-10-17T11:16:25.067Z"
   },
   {
    "duration": 414,
    "start_time": "2021-10-17T11:16:37.626Z"
   },
   {
    "duration": 304,
    "start_time": "2021-10-17T11:16:58.196Z"
   },
   {
    "duration": 6,
    "start_time": "2021-10-17T11:18:25.425Z"
   },
   {
    "duration": 323,
    "start_time": "2021-10-17T11:18:48.147Z"
   },
   {
    "duration": 3,
    "start_time": "2021-10-17T11:19:52.878Z"
   },
   {
    "duration": 3,
    "start_time": "2021-10-17T11:20:37.629Z"
   },
   {
    "duration": 3,
    "start_time": "2021-10-17T11:27:47.858Z"
   },
   {
    "duration": 2,
    "start_time": "2021-10-17T11:28:28.070Z"
   },
   {
    "duration": 892,
    "start_time": "2021-10-17T15:49:33.339Z"
   },
   {
    "duration": 286,
    "start_time": "2021-10-17T15:49:45.532Z"
   },
   {
    "duration": 62,
    "start_time": "2021-10-17T15:49:48.527Z"
   },
   {
    "duration": 30,
    "start_time": "2021-10-17T15:49:49.348Z"
   },
   {
    "duration": 46,
    "start_time": "2021-10-17T15:49:50.075Z"
   },
   {
    "duration": 1254,
    "start_time": "2021-10-17T15:49:51.261Z"
   },
   {
    "duration": 1236,
    "start_time": "2021-10-17T15:50:57.851Z"
   },
   {
    "duration": 5,
    "start_time": "2021-10-17T15:51:57.069Z"
   },
   {
    "duration": 7,
    "start_time": "2021-10-17T15:52:34.934Z"
   },
   {
    "duration": 11,
    "start_time": "2021-10-17T15:52:41.473Z"
   },
   {
    "duration": 8,
    "start_time": "2021-10-17T15:52:51.800Z"
   },
   {
    "duration": 8,
    "start_time": "2021-10-17T15:52:55.385Z"
   },
   {
    "duration": 6,
    "start_time": "2021-10-17T15:53:01.436Z"
   },
   {
    "duration": 8,
    "start_time": "2021-10-17T15:53:07.585Z"
   },
   {
    "duration": 1337,
    "start_time": "2021-10-17T15:53:30.600Z"
   },
   {
    "duration": 489,
    "start_time": "2021-10-17T15:53:44.535Z"
   },
   {
    "duration": 89,
    "start_time": "2021-10-17T15:53:54.370Z"
   },
   {
    "duration": 59,
    "start_time": "2021-10-17T15:53:56.085Z"
   },
   {
    "duration": 30,
    "start_time": "2021-10-17T15:53:56.940Z"
   },
   {
    "duration": 42,
    "start_time": "2021-10-17T15:53:57.765Z"
   },
   {
    "duration": 1367,
    "start_time": "2021-10-17T15:53:59.073Z"
   },
   {
    "duration": 322,
    "start_time": "2021-10-17T15:54:01.005Z"
   },
   {
    "duration": 485,
    "start_time": "2021-10-17T15:54:02.124Z"
   },
   {
    "duration": 682,
    "start_time": "2021-10-17T15:56:29.979Z"
   },
   {
    "duration": 973,
    "start_time": "2021-10-17T15:56:44.595Z"
   },
   {
    "duration": 677,
    "start_time": "2021-10-17T15:56:55.063Z"
   },
   {
    "duration": 700,
    "start_time": "2021-10-17T15:57:42.421Z"
   },
   {
    "duration": 329,
    "start_time": "2021-10-17T15:57:50.792Z"
   },
   {
    "duration": 425,
    "start_time": "2021-10-17T15:58:00.698Z"
   },
   {
    "duration": 799,
    "start_time": "2021-10-17T15:58:28.532Z"
   },
   {
    "duration": 797,
    "start_time": "2021-10-17T15:58:37.994Z"
   },
   {
    "duration": 930,
    "start_time": "2021-10-17T15:58:42.034Z"
   },
   {
    "duration": 87,
    "start_time": "2021-10-17T15:58:48.831Z"
   },
   {
    "duration": 62,
    "start_time": "2021-10-17T15:58:50.458Z"
   },
   {
    "duration": 33,
    "start_time": "2021-10-17T15:58:50.867Z"
   },
   {
    "duration": 43,
    "start_time": "2021-10-17T15:58:51.281Z"
   },
   {
    "duration": 1213,
    "start_time": "2021-10-17T15:58:52.611Z"
   },
   {
    "duration": 322,
    "start_time": "2021-10-17T15:58:53.827Z"
   },
   {
    "duration": 535,
    "start_time": "2021-10-17T15:58:54.566Z"
   },
   {
    "duration": 425,
    "start_time": "2021-10-17T16:01:08.462Z"
   },
   {
    "duration": 344,
    "start_time": "2021-10-17T16:02:05.963Z"
   },
   {
    "duration": 116,
    "start_time": "2021-10-17T16:02:55.194Z"
   },
   {
    "duration": 109,
    "start_time": "2021-10-17T16:03:00.301Z"
   },
   {
    "duration": 456,
    "start_time": "2021-10-17T16:03:09.840Z"
   },
   {
    "duration": 411,
    "start_time": "2021-10-17T16:03:14.984Z"
   },
   {
    "duration": 305,
    "start_time": "2021-10-17T16:03:20.731Z"
   },
   {
    "duration": 81,
    "start_time": "2021-10-17T16:03:28.571Z"
   },
   {
    "duration": 56,
    "start_time": "2021-10-17T16:03:29.883Z"
   },
   {
    "duration": 31,
    "start_time": "2021-10-17T16:03:30.264Z"
   },
   {
    "duration": 41,
    "start_time": "2021-10-17T16:03:30.662Z"
   },
   {
    "duration": 1265,
    "start_time": "2021-10-17T16:03:31.358Z"
   },
   {
    "duration": 317,
    "start_time": "2021-10-17T16:03:32.624Z"
   },
   {
    "duration": 322,
    "start_time": "2021-10-17T16:03:32.943Z"
   },
   {
    "duration": 289,
    "start_time": "2021-10-17T16:04:12.597Z"
   },
   {
    "duration": 383,
    "start_time": "2021-10-17T16:04:19.908Z"
   },
   {
    "duration": 410,
    "start_time": "2021-10-17T16:04:35.152Z"
   },
   {
    "duration": 87,
    "start_time": "2021-10-17T16:04:41.045Z"
   },
   {
    "duration": 58,
    "start_time": "2021-10-17T16:04:42.378Z"
   },
   {
    "duration": 36,
    "start_time": "2021-10-17T16:04:42.772Z"
   },
   {
    "duration": 41,
    "start_time": "2021-10-17T16:04:43.208Z"
   },
   {
    "duration": 1338,
    "start_time": "2021-10-17T16:04:44.085Z"
   },
   {
    "duration": 329,
    "start_time": "2021-10-17T16:04:45.425Z"
   },
   {
    "duration": 414,
    "start_time": "2021-10-17T16:04:45.755Z"
   },
   {
    "duration": 484,
    "start_time": "2021-10-17T16:06:20.408Z"
   },
   {
    "duration": 1382,
    "start_time": "2021-10-17T16:06:58.267Z"
   },
   {
    "duration": 398,
    "start_time": "2021-10-17T16:07:04.317Z"
   },
   {
    "duration": 28,
    "start_time": "2021-10-17T16:12:22.037Z"
   },
   {
    "duration": 602,
    "start_time": "2021-10-17T16:13:45.381Z"
   },
   {
    "duration": 26,
    "start_time": "2021-10-17T16:14:03.519Z"
   },
   {
    "duration": 8,
    "start_time": "2021-10-17T16:18:32.611Z"
   },
   {
    "duration": 305,
    "start_time": "2021-10-17T16:18:38.575Z"
   },
   {
    "duration": 317,
    "start_time": "2021-10-17T16:18:41.616Z"
   },
   {
    "duration": 84,
    "start_time": "2021-10-17T16:18:48.789Z"
   },
   {
    "duration": 58,
    "start_time": "2021-10-17T16:18:50.435Z"
   },
   {
    "duration": 29,
    "start_time": "2021-10-17T16:18:50.906Z"
   },
   {
    "duration": 38,
    "start_time": "2021-10-17T16:18:51.361Z"
   },
   {
    "duration": 1219,
    "start_time": "2021-10-17T16:18:52.322Z"
   },
   {
    "duration": 311,
    "start_time": "2021-10-17T16:18:53.543Z"
   },
   {
    "duration": 318,
    "start_time": "2021-10-17T16:18:53.856Z"
   },
   {
    "duration": 82,
    "start_time": "2021-10-17T16:19:09.420Z"
   },
   {
    "duration": 56,
    "start_time": "2021-10-17T16:19:12.001Z"
   },
   {
    "duration": 30,
    "start_time": "2021-10-17T16:19:12.059Z"
   },
   {
    "duration": 40,
    "start_time": "2021-10-17T16:19:12.136Z"
   },
   {
    "duration": 1228,
    "start_time": "2021-10-17T16:19:12.919Z"
   },
   {
    "duration": 300,
    "start_time": "2021-10-17T16:19:14.149Z"
   },
   {
    "duration": 301,
    "start_time": "2021-10-17T16:19:15.383Z"
   },
   {
    "duration": 305,
    "start_time": "2021-10-17T16:19:40.707Z"
   },
   {
    "duration": 82,
    "start_time": "2021-10-17T16:19:56.310Z"
   },
   {
    "duration": 56,
    "start_time": "2021-10-17T16:19:57.644Z"
   },
   {
    "duration": 32,
    "start_time": "2021-10-17T16:19:58.017Z"
   },
   {
    "duration": 39,
    "start_time": "2021-10-17T16:19:58.435Z"
   },
   {
    "duration": 1236,
    "start_time": "2021-10-17T16:19:59.033Z"
   },
   {
    "duration": 308,
    "start_time": "2021-10-17T16:20:00.271Z"
   },
   {
    "duration": 330,
    "start_time": "2021-10-17T16:20:00.581Z"
   },
   {
    "duration": 1207,
    "start_time": "2021-10-17T16:21:29.472Z"
   },
   {
    "duration": 1232,
    "start_time": "2021-10-17T16:22:01.642Z"
   },
   {
    "duration": 401,
    "start_time": "2021-10-17T16:23:57.217Z"
   },
   {
    "duration": 90,
    "start_time": "2021-10-17T16:24:14.936Z"
   },
   {
    "duration": 294,
    "start_time": "2021-10-17T16:24:22.075Z"
   },
   {
    "duration": 304,
    "start_time": "2021-10-17T16:24:45.581Z"
   },
   {
    "duration": 318,
    "start_time": "2021-10-17T16:25:07.690Z"
   },
   {
    "duration": 1235,
    "start_time": "2021-10-17T16:25:49.561Z"
   },
   {
    "duration": 1165,
    "start_time": "2021-10-17T16:25:58.001Z"
   },
   {
    "duration": 82,
    "start_time": "2021-10-17T16:26:08.818Z"
   },
   {
    "duration": 56,
    "start_time": "2021-10-17T16:26:10.186Z"
   },
   {
    "duration": 29,
    "start_time": "2021-10-17T16:26:10.590Z"
   },
   {
    "duration": 38,
    "start_time": "2021-10-17T16:26:10.986Z"
   },
   {
    "duration": 1262,
    "start_time": "2021-10-17T16:26:11.982Z"
   },
   {
    "duration": 81,
    "start_time": "2021-10-17T16:26:33.982Z"
   },
   {
    "duration": 57,
    "start_time": "2021-10-17T16:26:35.318Z"
   },
   {
    "duration": 31,
    "start_time": "2021-10-17T16:26:35.967Z"
   },
   {
    "duration": 40,
    "start_time": "2021-10-17T16:26:36.781Z"
   },
   {
    "duration": 1280,
    "start_time": "2021-10-17T16:26:38.682Z"
   },
   {
    "duration": 1193,
    "start_time": "2021-10-17T16:27:09.577Z"
   },
   {
    "duration": 77,
    "start_time": "2021-10-17T16:28:12.644Z"
   },
   {
    "duration": 4097,
    "start_time": "2021-10-17T16:28:14.103Z"
   },
   {
    "duration": 2829,
    "start_time": "2021-10-17T16:28:18.202Z"
   },
   {
    "duration": 48,
    "start_time": "2021-10-17T16:28:21.034Z"
   },
   {
    "duration": 1425,
    "start_time": "2021-10-17T16:28:21.084Z"
   },
   {
    "duration": 364,
    "start_time": "2021-10-17T16:28:22.512Z"
   },
   {
    "duration": 704,
    "start_time": "2021-10-17T16:28:22.878Z"
   },
   {
    "duration": 555,
    "start_time": "2021-10-17T16:28:34.821Z"
   },
   {
    "duration": 80,
    "start_time": "2021-10-17T16:29:08.245Z"
   },
   {
    "duration": 55,
    "start_time": "2021-10-17T16:29:09.850Z"
   },
   {
    "duration": 36,
    "start_time": "2021-10-17T16:29:10.280Z"
   },
   {
    "duration": 37,
    "start_time": "2021-10-17T16:29:12.694Z"
   },
   {
    "duration": 1172,
    "start_time": "2021-10-17T16:29:12.734Z"
   },
   {
    "duration": 316,
    "start_time": "2021-10-17T16:29:13.908Z"
   },
   {
    "duration": 537,
    "start_time": "2021-10-17T16:29:14.376Z"
   },
   {
    "duration": 751,
    "start_time": "2021-10-17T16:29:32.065Z"
   },
   {
    "duration": 1208,
    "start_time": "2021-10-17T16:30:10.156Z"
   },
   {
    "duration": 1119,
    "start_time": "2021-10-17T16:30:29.496Z"
   },
   {
    "duration": 1520,
    "start_time": "2021-10-17T16:31:03.421Z"
   },
   {
    "duration": 1281,
    "start_time": "2021-10-17T16:31:17.938Z"
   },
   {
    "duration": 1159,
    "start_time": "2021-10-17T16:32:13.654Z"
   },
   {
    "duration": 5568,
    "start_time": "2021-10-17T16:32:22.113Z"
   },
   {
    "duration": 1011,
    "start_time": "2021-10-17T16:33:52.567Z"
   },
   {
    "duration": 918,
    "start_time": "2021-10-17T16:34:13.420Z"
   },
   {
    "duration": 2,
    "start_time": "2021-10-17T17:05:24.718Z"
   },
   {
    "duration": 376,
    "start_time": "2021-10-17T17:11:03.592Z"
   },
   {
    "duration": 566,
    "start_time": "2021-10-17T17:11:56.244Z"
   },
   {
    "duration": 602,
    "start_time": "2021-10-17T17:14:24.190Z"
   },
   {
    "duration": 472,
    "start_time": "2021-10-17T17:18:07.820Z"
   },
   {
    "duration": 484,
    "start_time": "2021-10-17T17:18:25.846Z"
   },
   {
    "duration": 970,
    "start_time": "2021-10-17T17:18:55.087Z"
   },
   {
    "duration": 763,
    "start_time": "2021-10-17T17:19:31.146Z"
   },
   {
    "duration": 796,
    "start_time": "2021-10-17T17:19:52.108Z"
   },
   {
    "duration": 753,
    "start_time": "2021-10-17T17:20:49.552Z"
   },
   {
    "duration": 786,
    "start_time": "2021-10-17T17:25:57.604Z"
   },
   {
    "duration": 1221,
    "start_time": "2021-10-17T17:28:47.693Z"
   },
   {
    "duration": 1409,
    "start_time": "2021-10-17T17:32:56.949Z"
   },
   {
    "duration": 1529,
    "start_time": "2021-10-17T17:35:22.030Z"
   },
   {
    "duration": 1617,
    "start_time": "2021-10-17T17:36:10.254Z"
   },
   {
    "duration": 2271,
    "start_time": "2021-10-17T17:37:39.821Z"
   },
   {
    "duration": 2579,
    "start_time": "2021-10-17T17:39:08.758Z"
   },
   {
    "duration": 2627,
    "start_time": "2021-10-17T17:58:13.974Z"
   },
   {
    "duration": 3490,
    "start_time": "2021-10-17T17:58:37.713Z"
   },
   {
    "duration": 2967,
    "start_time": "2021-10-17T17:59:47.793Z"
   },
   {
    "duration": 2991,
    "start_time": "2021-10-17T18:00:53.164Z"
   },
   {
    "duration": 3,
    "start_time": "2021-10-17T18:04:12.541Z"
   },
   {
    "duration": 4,
    "start_time": "2021-10-17T18:08:32.269Z"
   },
   {
    "duration": 16,
    "start_time": "2021-10-17T18:08:56.078Z"
   },
   {
    "duration": 7,
    "start_time": "2021-10-17T18:09:13.507Z"
   },
   {
    "duration": 385,
    "start_time": "2021-10-17T18:09:38.749Z"
   },
   {
    "duration": 8,
    "start_time": "2021-10-17T18:09:45.239Z"
   },
   {
    "duration": 7,
    "start_time": "2021-10-17T18:09:54.427Z"
   },
   {
    "duration": 8,
    "start_time": "2021-10-17T18:10:04.214Z"
   },
   {
    "duration": 541,
    "start_time": "2021-10-17T18:11:13.294Z"
   },
   {
    "duration": 7,
    "start_time": "2021-10-17T18:11:24.749Z"
   },
   {
    "duration": 1366,
    "start_time": "2021-10-18T13:39:20.149Z"
   },
   {
    "duration": 650,
    "start_time": "2021-10-18T13:39:25.624Z"
   },
   {
    "duration": 57,
    "start_time": "2021-10-18T13:39:27.141Z"
   },
   {
    "duration": 31,
    "start_time": "2021-10-18T13:39:27.553Z"
   },
   {
    "duration": 44,
    "start_time": "2021-10-18T13:39:27.965Z"
   },
   {
    "duration": 2198,
    "start_time": "2021-10-18T13:39:28.565Z"
   },
   {
    "duration": 321,
    "start_time": "2021-10-18T13:39:30.765Z"
   },
   {
    "duration": 1532,
    "start_time": "2021-10-18T13:39:31.088Z"
   },
   {
    "duration": 3134,
    "start_time": "2021-10-18T13:39:32.623Z"
   },
   {
    "duration": 31,
    "start_time": "2021-10-18T13:39:35.759Z"
   },
   {
    "duration": 8,
    "start_time": "2021-10-18T13:41:58.309Z"
   },
   {
    "duration": 7,
    "start_time": "2021-10-18T13:46:55.514Z"
   },
   {
    "duration": 362,
    "start_time": "2021-10-18T13:47:27.123Z"
   },
   {
    "duration": 323,
    "start_time": "2021-10-18T13:47:31.861Z"
   },
   {
    "duration": 8,
    "start_time": "2021-10-18T13:47:36.459Z"
   },
   {
    "duration": 344,
    "start_time": "2021-10-18T14:04:13.885Z"
   },
   {
    "duration": 352,
    "start_time": "2021-10-18T14:04:19.650Z"
   },
   {
    "duration": 339,
    "start_time": "2021-10-18T14:04:36.066Z"
   },
   {
    "duration": 329,
    "start_time": "2021-10-18T14:04:45.334Z"
   },
   {
    "duration": 7,
    "start_time": "2021-10-18T14:05:02.017Z"
   },
   {
    "duration": 3,
    "start_time": "2021-10-18T14:29:52.149Z"
   },
   {
    "duration": 12,
    "start_time": "2021-10-18T14:49:03.817Z"
   },
   {
    "duration": 7,
    "start_time": "2021-10-18T14:55:39.054Z"
   },
   {
    "duration": 7,
    "start_time": "2021-10-18T15:19:25.611Z"
   },
   {
    "duration": 366,
    "start_time": "2021-10-19T17:27:32.871Z"
   },
   {
    "duration": 675,
    "start_time": "2021-10-19T17:27:42.200Z"
   },
   {
    "duration": 64,
    "start_time": "2021-10-19T17:27:43.975Z"
   },
   {
    "duration": 34,
    "start_time": "2021-10-19T17:27:44.561Z"
   },
   {
    "duration": 43,
    "start_time": "2021-10-19T17:27:45.114Z"
   },
   {
    "duration": 1363,
    "start_time": "2021-10-19T17:27:46.036Z"
   },
   {
    "duration": 320,
    "start_time": "2021-10-19T17:27:47.572Z"
   },
   {
    "duration": 1062,
    "start_time": "2021-10-19T17:27:48.133Z"
   },
   {
    "duration": 2827,
    "start_time": "2021-10-19T17:27:49.196Z"
   },
   {
    "duration": 4,
    "start_time": "2021-10-19T17:27:52.025Z"
   },
   {
    "duration": 463,
    "start_time": "2021-10-19T17:28:01.944Z"
   },
   {
    "duration": 6,
    "start_time": "2021-10-19T17:28:12.758Z"
   },
   {
    "duration": 6,
    "start_time": "2021-10-19T17:28:21.832Z"
   },
   {
    "duration": 5,
    "start_time": "2021-10-19T17:28:59.820Z"
   },
   {
    "duration": 340,
    "start_time": "2021-10-19T17:33:47.651Z"
   },
   {
    "duration": 7,
    "start_time": "2021-10-19T17:34:13.824Z"
   },
   {
    "duration": 18,
    "start_time": "2021-10-19T18:40:33.242Z"
   },
   {
    "duration": 371,
    "start_time": "2021-10-19T18:40:58.916Z"
   },
   {
    "duration": 1339,
    "start_time": "2021-10-19T18:42:05.112Z"
   },
   {
    "duration": 18,
    "start_time": "2021-10-19T18:42:08.798Z"
   },
   {
    "duration": 19,
    "start_time": "2021-10-19T18:42:24.958Z"
   },
   {
    "duration": 1403,
    "start_time": "2021-10-19T18:42:28.068Z"
   },
   {
    "duration": 130,
    "start_time": "2021-10-19T18:42:57.086Z"
   },
   {
    "duration": 19,
    "start_time": "2021-10-19T18:43:01.538Z"
   },
   {
    "duration": 22,
    "start_time": "2021-10-19T18:43:17.769Z"
   },
   {
    "duration": 18,
    "start_time": "2021-10-19T18:43:25.340Z"
   },
   {
    "duration": 6,
    "start_time": "2021-10-19T18:44:07.103Z"
   },
   {
    "duration": 18,
    "start_time": "2021-10-19T18:44:19.519Z"
   },
   {
    "duration": 17,
    "start_time": "2021-10-19T18:46:41.387Z"
   },
   {
    "duration": 8652,
    "start_time": "2021-10-19T18:49:41.550Z"
   },
   {
    "duration": 8902,
    "start_time": "2021-10-19T18:51:05.724Z"
   },
   {
    "duration": 18,
    "start_time": "2021-10-19T18:51:17.494Z"
   },
   {
    "duration": 8692,
    "start_time": "2021-10-19T18:52:11.149Z"
   },
   {
    "duration": 20,
    "start_time": "2021-10-19T18:52:33.513Z"
   },
   {
    "duration": 19,
    "start_time": "2021-10-19T18:54:38.275Z"
   },
   {
    "duration": 21,
    "start_time": "2021-10-19T18:55:04.147Z"
   },
   {
    "duration": 28,
    "start_time": "2021-10-19T18:55:19.062Z"
   },
   {
    "duration": 10375,
    "start_time": "2021-10-19T19:02:29.275Z"
   },
   {
    "duration": 30,
    "start_time": "2021-10-19T19:07:27.595Z"
   },
   {
    "duration": 23,
    "start_time": "2021-10-19T19:09:14.483Z"
   },
   {
    "duration": 8802,
    "start_time": "2021-10-19T19:09:40.227Z"
   },
   {
    "duration": 20,
    "start_time": "2021-10-19T19:10:08.804Z"
   },
   {
    "duration": 377,
    "start_time": "2021-10-19T19:10:42.469Z"
   },
   {
    "duration": 21,
    "start_time": "2021-10-19T19:10:50.105Z"
   },
   {
    "duration": 22,
    "start_time": "2021-10-19T19:12:25.135Z"
   },
   {
    "duration": 418,
    "start_time": "2021-10-19T19:13:32.813Z"
   },
   {
    "duration": 22,
    "start_time": "2021-10-19T19:13:53.902Z"
   },
   {
    "duration": 1654,
    "start_time": "2021-10-19T19:28:40.768Z"
   },
   {
    "duration": 33,
    "start_time": "2021-10-19T19:29:01.573Z"
   },
   {
    "duration": 23,
    "start_time": "2021-10-19T19:30:31.568Z"
   },
   {
    "duration": 22,
    "start_time": "2021-10-19T19:31:40.993Z"
   },
   {
    "duration": 356,
    "start_time": "2021-10-19T19:32:06.932Z"
   },
   {
    "duration": 119,
    "start_time": "2021-10-19T19:32:19.688Z"
   },
   {
    "duration": 118,
    "start_time": "2021-10-19T19:32:23.743Z"
   },
   {
    "duration": 347,
    "start_time": "2021-10-19T19:32:35.035Z"
   },
   {
    "duration": 358,
    "start_time": "2021-10-19T19:34:18.923Z"
   },
   {
    "duration": 86,
    "start_time": "2021-10-19T19:34:25.915Z"
   },
   {
    "duration": 64,
    "start_time": "2021-10-19T19:34:27.360Z"
   },
   {
    "duration": 34,
    "start_time": "2021-10-19T19:34:27.762Z"
   },
   {
    "duration": 43,
    "start_time": "2021-10-19T19:34:28.176Z"
   },
   {
    "duration": 1304,
    "start_time": "2021-10-19T19:34:28.809Z"
   },
   {
    "duration": 326,
    "start_time": "2021-10-19T19:34:30.115Z"
   },
   {
    "duration": 992,
    "start_time": "2021-10-19T19:34:30.444Z"
   },
   {
    "duration": 3203,
    "start_time": "2021-10-19T19:34:31.439Z"
   },
   {
    "duration": 523,
    "start_time": "2021-10-19T19:34:34.643Z"
   },
   {
    "duration": 132,
    "start_time": "2021-10-19T19:36:41.764Z"
   },
   {
    "duration": 26,
    "start_time": "2021-10-19T19:36:48.885Z"
   },
   {
    "duration": 382,
    "start_time": "2021-10-19T19:41:16.085Z"
   },
   {
    "duration": 363,
    "start_time": "2021-10-19T19:41:36.023Z"
   },
   {
    "duration": 379,
    "start_time": "2021-10-19T19:41:43.725Z"
   },
   {
    "duration": 341,
    "start_time": "2021-10-19T19:42:14.502Z"
   },
   {
    "duration": 376,
    "start_time": "2021-10-19T19:42:20.138Z"
   },
   {
    "duration": 362,
    "start_time": "2021-10-19T19:42:33.100Z"
   },
   {
    "duration": 344,
    "start_time": "2021-10-19T19:48:40.388Z"
   },
   {
    "duration": 368,
    "start_time": "2021-10-19T19:48:44.200Z"
   },
   {
    "duration": 23,
    "start_time": "2021-10-19T19:48:50.801Z"
   },
   {
    "duration": 24,
    "start_time": "2021-10-19T19:55:07.489Z"
   },
   {
    "duration": 27,
    "start_time": "2021-10-19T19:57:18.376Z"
   },
   {
    "duration": 24,
    "start_time": "2021-10-19T19:58:15.550Z"
   },
   {
    "duration": 24,
    "start_time": "2021-10-19T19:59:58.429Z"
   },
   {
    "duration": 24,
    "start_time": "2021-10-19T20:00:01.685Z"
   },
   {
    "duration": 27,
    "start_time": "2021-10-19T20:00:52.160Z"
   },
   {
    "duration": 28,
    "start_time": "2021-10-19T20:01:01.563Z"
   },
   {
    "duration": 366,
    "start_time": "2021-10-19T20:01:05.906Z"
   },
   {
    "duration": 23,
    "start_time": "2021-10-19T20:02:24.829Z"
   },
   {
    "duration": 28,
    "start_time": "2021-10-19T20:02:42.455Z"
   },
   {
    "duration": 26,
    "start_time": "2021-10-19T20:02:50.179Z"
   },
   {
    "duration": 24,
    "start_time": "2021-10-19T20:02:52.227Z"
   },
   {
    "duration": 27,
    "start_time": "2021-10-19T20:03:33.876Z"
   },
   {
    "duration": 25,
    "start_time": "2021-10-19T20:03:51.435Z"
   },
   {
    "duration": 30,
    "start_time": "2021-10-19T20:03:57.276Z"
   },
   {
    "duration": 425,
    "start_time": "2021-10-20T18:38:46.252Z"
   },
   {
    "duration": 1023,
    "start_time": "2021-10-20T18:38:50.955Z"
   },
   {
    "duration": 91,
    "start_time": "2021-10-20T18:38:52.328Z"
   },
   {
    "duration": 45,
    "start_time": "2021-10-20T18:38:52.692Z"
   },
   {
    "duration": 66,
    "start_time": "2021-10-20T18:38:53.079Z"
   },
   {
    "duration": 2189,
    "start_time": "2021-10-20T18:38:53.639Z"
   },
   {
    "duration": 527,
    "start_time": "2021-10-20T18:38:55.830Z"
   },
   {
    "duration": 1700,
    "start_time": "2021-10-20T18:38:56.360Z"
   },
   {
    "duration": 4285,
    "start_time": "2021-10-20T18:38:58.062Z"
   },
   {
    "duration": 42,
    "start_time": "2021-10-20T18:39:02.349Z"
   },
   {
    "duration": 450,
    "start_time": "2021-10-20T18:39:02.393Z"
   },
   {
    "duration": 1125,
    "start_time": "2021-10-20T18:40:02.147Z"
   },
   {
    "duration": 2911,
    "start_time": "2021-10-20T18:40:34.840Z"
   },
   {
    "duration": 2074,
    "start_time": "2021-10-20T18:52:19.164Z"
   },
   {
    "duration": 403,
    "start_time": "2021-10-21T01:20:50.242Z"
   },
   {
    "duration": 254,
    "start_time": "2021-10-21T01:21:00.191Z"
   },
   {
    "duration": 900,
    "start_time": "2021-10-21T01:21:02.826Z"
   },
   {
    "duration": 120,
    "start_time": "2021-10-21T01:21:03.783Z"
   },
   {
    "duration": 192,
    "start_time": "2021-10-21T01:21:03.906Z"
   },
   {
    "duration": 104,
    "start_time": "2021-10-21T01:21:04.102Z"
   },
   {
    "duration": 119,
    "start_time": "2021-10-21T01:21:04.209Z"
   },
   {
    "duration": 2391,
    "start_time": "2021-10-21T01:21:04.384Z"
   },
   {
    "duration": 557,
    "start_time": "2021-10-21T01:21:06.782Z"
   },
   {
    "duration": 1728,
    "start_time": "2021-10-21T01:21:07.341Z"
   },
   {
    "duration": 4400,
    "start_time": "2021-10-21T01:21:09.073Z"
   },
   {
    "duration": 40,
    "start_time": "2021-10-21T01:21:13.483Z"
   },
   {
    "duration": 439,
    "start_time": "2021-10-21T01:21:13.526Z"
   },
   {
    "duration": 1193,
    "start_time": "2021-10-21T01:21:13.967Z"
   },
   {
    "duration": 2803,
    "start_time": "2021-10-21T01:21:15.162Z"
   },
   {
    "duration": 65,
    "start_time": "2021-10-21T01:21:17.968Z"
   },
   {
    "duration": 34,
    "start_time": "2021-10-21T01:23:37.451Z"
   },
   {
    "duration": 937,
    "start_time": "2021-10-21T15:45:23.027Z"
   },
   {
    "duration": 130,
    "start_time": "2021-10-21T15:46:21.360Z"
   },
   {
    "duration": 544,
    "start_time": "2021-10-21T15:51:19.376Z"
   },
   {
    "duration": 485,
    "start_time": "2021-10-21T15:51:41.034Z"
   },
   {
    "duration": 91,
    "start_time": "2021-10-21T15:52:11.280Z"
   },
   {
    "duration": 433,
    "start_time": "2021-10-21T15:52:24.518Z"
   },
   {
    "duration": 5151,
    "start_time": "2021-10-21T15:54:35.622Z"
   },
   {
    "duration": 4933,
    "start_time": "2021-10-21T15:55:01.640Z"
   },
   {
    "duration": 129,
    "start_time": "2021-10-21T15:55:11.358Z"
   },
   {
    "duration": 62,
    "start_time": "2021-10-21T15:55:12.363Z"
   },
   {
    "duration": 102,
    "start_time": "2021-10-21T15:55:16.570Z"
   },
   {
    "duration": 452,
    "start_time": "2021-10-21T15:55:47.178Z"
   },
   {
    "duration": 98,
    "start_time": "2021-10-21T15:56:21.258Z"
   },
   {
    "duration": 436,
    "start_time": "2021-10-21T15:56:27.845Z"
   },
   {
    "duration": 96,
    "start_time": "2021-10-21T15:56:32.411Z"
   },
   {
    "duration": 141,
    "start_time": "2021-10-21T16:00:09.538Z"
   },
   {
    "duration": 65,
    "start_time": "2021-10-21T16:00:09.927Z"
   },
   {
    "duration": 108,
    "start_time": "2021-10-21T16:00:12.895Z"
   },
   {
    "duration": 111,
    "start_time": "2021-10-21T16:00:17.872Z"
   },
   {
    "duration": 101,
    "start_time": "2021-10-21T16:00:25.405Z"
   },
   {
    "duration": 89,
    "start_time": "2021-10-21T16:01:03.678Z"
   },
   {
    "duration": 91,
    "start_time": "2021-10-21T16:01:10.769Z"
   },
   {
    "duration": 100,
    "start_time": "2021-10-21T16:02:08.731Z"
   },
   {
    "duration": 97,
    "start_time": "2021-10-21T16:02:13.017Z"
   },
   {
    "duration": 131,
    "start_time": "2021-10-21T16:02:17.177Z"
   },
   {
    "duration": 63,
    "start_time": "2021-10-21T16:02:17.610Z"
   },
   {
    "duration": 102,
    "start_time": "2021-10-21T16:02:19.733Z"
   },
   {
    "duration": 98,
    "start_time": "2021-10-21T16:02:40.023Z"
   },
   {
    "duration": 125,
    "start_time": "2021-10-21T16:02:51.496Z"
   },
   {
    "duration": 63,
    "start_time": "2021-10-21T16:02:52.035Z"
   },
   {
    "duration": 109,
    "start_time": "2021-10-21T16:02:54.705Z"
   },
   {
    "duration": 99,
    "start_time": "2021-10-21T16:04:30.744Z"
   },
   {
    "duration": 120,
    "start_time": "2021-10-21T16:05:57.282Z"
   },
   {
    "duration": 138,
    "start_time": "2021-10-21T16:09:59.906Z"
   },
   {
    "duration": 64,
    "start_time": "2021-10-21T16:10:00.863Z"
   },
   {
    "duration": 353,
    "start_time": "2021-10-21T16:10:03.624Z"
   },
   {
    "duration": 81,
    "start_time": "2021-10-21T16:10:28.428Z"
   },
   {
    "duration": 370,
    "start_time": "2021-10-21T16:12:36.789Z"
   },
   {
    "duration": 129,
    "start_time": "2021-10-21T16:13:04.288Z"
   },
   {
    "duration": 63,
    "start_time": "2021-10-21T16:13:04.713Z"
   },
   {
    "duration": 80,
    "start_time": "2021-10-21T16:13:06.606Z"
   },
   {
    "duration": 47,
    "start_time": "2021-10-21T16:13:10.393Z"
   },
   {
    "duration": 33,
    "start_time": "2021-10-21T16:13:12.226Z"
   },
   {
    "duration": 2435,
    "start_time": "2021-10-21T16:15:30.573Z"
   },
   {
    "duration": 2568,
    "start_time": "2021-10-21T16:15:37.020Z"
   },
   {
    "duration": 2437,
    "start_time": "2021-10-21T16:16:17.306Z"
   },
   {
    "duration": 2458,
    "start_time": "2021-10-21T16:16:27.222Z"
   },
   {
    "duration": 2408,
    "start_time": "2021-10-21T16:16:36.983Z"
   },
   {
    "duration": 30,
    "start_time": "2021-10-21T16:17:07.223Z"
   },
   {
    "duration": 52,
    "start_time": "2021-10-21T16:17:25.785Z"
   },
   {
    "duration": 1019,
    "start_time": "2021-10-21T16:19:08.310Z"
   },
   {
    "duration": 423,
    "start_time": "2021-10-21T16:20:05.350Z"
   },
   {
    "duration": 327,
    "start_time": "2021-10-21T16:20:25.781Z"
   },
   {
    "duration": 520,
    "start_time": "2021-10-21T16:20:50.273Z"
   },
   {
    "duration": 1284,
    "start_time": "2021-10-21T16:29:58.968Z"
   },
   {
    "duration": 928,
    "start_time": "2021-10-21T16:30:51.196Z"
   },
   {
    "duration": 834,
    "start_time": "2021-10-21T16:31:27.469Z"
   },
   {
    "duration": 451,
    "start_time": "2021-10-21T16:31:57.692Z"
   },
   {
    "duration": 346,
    "start_time": "2021-10-21T16:32:15.896Z"
   },
   {
    "duration": 532,
    "start_time": "2021-10-21T16:32:31.739Z"
   },
   {
    "duration": 579,
    "start_time": "2021-10-21T16:33:37.403Z"
   },
   {
    "duration": 670,
    "start_time": "2021-10-21T16:33:51.090Z"
   },
   {
    "duration": 1997,
    "start_time": "2021-10-21T16:34:59.307Z"
   },
   {
    "duration": 575,
    "start_time": "2021-10-21T16:35:48.704Z"
   },
   {
    "duration": 658,
    "start_time": "2021-10-21T16:35:50.489Z"
   },
   {
    "duration": 311,
    "start_time": "2021-10-21T16:35:51.753Z"
   },
   {
    "duration": 326,
    "start_time": "2021-10-21T16:35:52.645Z"
   },
   {
    "duration": 562,
    "start_time": "2021-10-21T16:36:41.584Z"
   },
   {
    "duration": 314,
    "start_time": "2021-10-21T16:37:12.570Z"
   },
   {
    "duration": 313,
    "start_time": "2021-10-21T16:37:22.218Z"
   },
   {
    "duration": 361,
    "start_time": "2021-10-21T16:38:14.490Z"
   },
   {
    "duration": 564,
    "start_time": "2021-10-21T16:38:36.007Z"
   },
   {
    "duration": 544,
    "start_time": "2021-10-21T16:39:42.777Z"
   },
   {
    "duration": 400,
    "start_time": "2021-10-21T16:39:48.205Z"
   },
   {
    "duration": 307,
    "start_time": "2021-10-21T16:39:49.673Z"
   },
   {
    "duration": 37,
    "start_time": "2021-10-21T16:39:52.136Z"
   },
   {
    "duration": 552,
    "start_time": "2021-10-21T16:42:12.417Z"
   },
   {
    "duration": 581,
    "start_time": "2021-10-21T16:42:32.183Z"
   },
   {
    "duration": 566,
    "start_time": "2021-10-21T16:42:37.535Z"
   },
   {
    "duration": 564,
    "start_time": "2021-10-21T16:42:42.616Z"
   },
   {
    "duration": 674,
    "start_time": "2021-10-21T16:42:47.636Z"
   },
   {
    "duration": 605,
    "start_time": "2021-10-21T16:43:02.395Z"
   },
   {
    "duration": 586,
    "start_time": "2021-10-21T16:43:07.728Z"
   },
   {
    "duration": 302,
    "start_time": "2021-10-21T16:43:08.958Z"
   },
   {
    "duration": 134,
    "start_time": "2021-10-21T16:43:26.619Z"
   },
   {
    "duration": 64,
    "start_time": "2021-10-21T16:43:26.983Z"
   },
   {
    "duration": 74,
    "start_time": "2021-10-21T16:43:28.507Z"
   },
   {
    "duration": 75,
    "start_time": "2021-10-21T16:43:30.273Z"
   },
   {
    "duration": 2454,
    "start_time": "2021-10-21T16:43:31.171Z"
   },
   {
    "duration": 939,
    "start_time": "2021-10-21T16:43:33.627Z"
   },
   {
    "duration": 440,
    "start_time": "2021-10-21T16:43:35.252Z"
   },
   {
    "duration": 449,
    "start_time": "2021-10-21T16:43:36.474Z"
   },
   {
    "duration": 547,
    "start_time": "2021-10-21T16:43:37.518Z"
   },
   {
    "duration": 553,
    "start_time": "2021-10-21T16:43:40.173Z"
   },
   {
    "duration": 579,
    "start_time": "2021-10-21T16:43:43.203Z"
   },
   {
    "duration": 577,
    "start_time": "2021-10-21T16:43:43.984Z"
   },
   {
    "duration": 310,
    "start_time": "2021-10-21T16:43:49.270Z"
   },
   {
    "duration": 310,
    "start_time": "2021-10-21T16:43:49.675Z"
   },
   {
    "duration": 41,
    "start_time": "2021-10-21T16:43:51.799Z"
   },
   {
    "duration": 9574,
    "start_time": "2021-10-21T16:44:44.983Z"
   },
   {
    "duration": 750,
    "start_time": "2021-10-21T16:46:54.317Z"
   },
   {
    "duration": 726,
    "start_time": "2021-10-21T16:47:55.885Z"
   },
   {
    "duration": 1560,
    "start_time": "2021-10-21T16:50:44.755Z"
   },
   {
    "duration": 704,
    "start_time": "2021-10-21T16:52:35.158Z"
   },
   {
    "duration": 700,
    "start_time": "2021-10-21T16:52:41.952Z"
   },
   {
    "duration": 760,
    "start_time": "2021-10-21T16:53:36.491Z"
   },
   {
    "duration": 6260,
    "start_time": "2021-10-21T16:54:02.160Z"
   },
   {
    "duration": 2327,
    "start_time": "2021-10-21T16:54:29.177Z"
   },
   {
    "duration": 751,
    "start_time": "2021-10-21T16:55:33.712Z"
   },
   {
    "duration": 757,
    "start_time": "2021-10-21T16:55:59.646Z"
   },
   {
    "duration": 717,
    "start_time": "2021-10-21T16:56:28.855Z"
   },
   {
    "duration": 1549,
    "start_time": "2021-10-21T17:03:21.217Z"
   },
   {
    "duration": 128,
    "start_time": "2021-10-21T17:07:47.945Z"
   },
   {
    "duration": 709,
    "start_time": "2021-10-21T17:07:56.265Z"
   },
   {
    "duration": 431,
    "start_time": "2021-10-21T17:14:39.177Z"
   },
   {
    "duration": 406,
    "start_time": "2021-10-21T17:14:59.702Z"
   },
   {
    "duration": 1298,
    "start_time": "2021-10-21T17:18:25.761Z"
   },
   {
    "duration": 301,
    "start_time": "2021-10-21T17:19:26.571Z"
   },
   {
    "duration": 307,
    "start_time": "2021-10-21T17:20:27.556Z"
   },
   {
    "duration": 305,
    "start_time": "2021-10-21T17:20:36.148Z"
   },
   {
    "duration": 317,
    "start_time": "2021-10-21T17:20:44.828Z"
   },
   {
    "duration": 297,
    "start_time": "2021-10-21T17:21:37.817Z"
   },
   {
    "duration": 312,
    "start_time": "2021-10-21T17:22:18.270Z"
   },
   {
    "duration": 174,
    "start_time": "2021-10-21T17:22:59.282Z"
   },
   {
    "duration": 306,
    "start_time": "2021-10-21T17:23:13.202Z"
   },
   {
    "duration": 320,
    "start_time": "2021-10-21T17:23:24.007Z"
   },
   {
    "duration": 374,
    "start_time": "2021-10-21T17:23:27.773Z"
   },
   {
    "duration": 304,
    "start_time": "2021-10-21T17:23:30.791Z"
   },
   {
    "duration": 431,
    "start_time": "2021-10-21T17:33:17.329Z"
   },
   {
    "duration": 466,
    "start_time": "2021-10-21T17:33:21.891Z"
   },
   {
    "duration": 421,
    "start_time": "2021-10-21T17:33:25.811Z"
   },
   {
    "duration": 472,
    "start_time": "2021-10-21T17:33:27.051Z"
   },
   {
    "duration": 458,
    "start_time": "2021-10-21T17:33:28.084Z"
   },
   {
    "duration": 450,
    "start_time": "2021-10-21T17:33:29.000Z"
   },
   {
    "duration": 554,
    "start_time": "2021-10-21T17:35:45.847Z"
   },
   {
    "duration": 59,
    "start_time": "2021-10-21T17:38:12.325Z"
   },
   {
    "duration": 17,
    "start_time": "2021-10-21T17:43:04.007Z"
   },
   {
    "duration": 415,
    "start_time": "2021-10-21T17:43:16.845Z"
   },
   {
    "duration": 18,
    "start_time": "2021-10-21T17:43:22.945Z"
   },
   {
    "duration": 302,
    "start_time": "2021-10-21T17:43:47.301Z"
   },
   {
    "duration": 699,
    "start_time": "2021-10-21T17:47:23.811Z"
   },
   {
    "duration": 295,
    "start_time": "2021-10-21T17:47:31.172Z"
   },
   {
    "duration": 285,
    "start_time": "2021-10-21T17:49:21.290Z"
   },
   {
    "duration": 32,
    "start_time": "2021-10-21T17:51:55.044Z"
   },
   {
    "duration": 353,
    "start_time": "2021-10-21T17:52:31.357Z"
   },
   {
    "duration": 355,
    "start_time": "2021-10-21T17:52:46.648Z"
   },
   {
    "duration": 350,
    "start_time": "2021-10-21T17:53:16.355Z"
   },
   {
    "duration": 301,
    "start_time": "2021-10-21T17:56:04.484Z"
   },
   {
    "duration": 329,
    "start_time": "2021-10-21T17:59:13.380Z"
   },
   {
    "duration": 339,
    "start_time": "2021-10-21T18:01:32.748Z"
   },
   {
    "duration": 300,
    "start_time": "2021-10-21T18:06:14.028Z"
   },
   {
    "duration": 294,
    "start_time": "2021-10-21T18:09:08.021Z"
   },
   {
    "duration": 409,
    "start_time": "2021-10-21T18:10:48.747Z"
   },
   {
    "duration": 339,
    "start_time": "2021-10-21T18:12:56.246Z"
   },
   {
    "duration": 124,
    "start_time": "2021-10-21T18:13:41.361Z"
   },
   {
    "duration": 332,
    "start_time": "2021-10-21T18:14:40.703Z"
   },
   {
    "duration": 878,
    "start_time": "2021-10-22T10:00:30.669Z"
   },
   {
    "duration": 71,
    "start_time": "2021-10-22T10:00:31.551Z"
   },
   {
    "duration": 95,
    "start_time": "2021-10-22T10:00:31.625Z"
   },
   {
    "duration": 74,
    "start_time": "2021-10-22T10:00:31.722Z"
   },
   {
    "duration": 2472,
    "start_time": "2021-10-22T10:00:31.799Z"
   },
   {
    "duration": 8,
    "start_time": "2021-10-22T10:00:42.312Z"
   },
   {
    "duration": 39,
    "start_time": "2021-10-22T10:00:57.418Z"
   },
   {
    "duration": 626,
    "start_time": "2021-10-22T12:59:48.121Z"
   },
   {
    "duration": 40,
    "start_time": "2021-10-22T12:59:48.769Z"
   },
   {
    "duration": 45,
    "start_time": "2021-10-22T12:59:52.470Z"
   },
   {
    "duration": 42,
    "start_time": "2021-10-22T12:59:57.308Z"
   },
   {
    "duration": 909,
    "start_time": "2021-10-22T12:59:58.898Z"
   },
   {
    "duration": 181,
    "start_time": "2021-10-22T13:00:39.348Z"
   },
   {
    "duration": 1181,
    "start_time": "2021-10-22T13:01:43.318Z"
   },
   {
    "duration": 917,
    "start_time": "2021-10-22T21:08:49.853Z"
   },
   {
    "duration": 64,
    "start_time": "2021-10-22T21:08:51.903Z"
   },
   {
    "duration": 77,
    "start_time": "2021-10-22T21:08:57.049Z"
   },
   {
    "duration": 65,
    "start_time": "2021-10-22T21:09:00.195Z"
   },
   {
    "duration": 2654,
    "start_time": "2021-10-22T21:09:35.223Z"
   },
   {
    "duration": 389,
    "start_time": "2021-10-22T21:10:44.490Z"
   },
   {
    "duration": 157,
    "start_time": "2021-10-22T21:12:17.685Z"
   },
   {
    "duration": 64,
    "start_time": "2021-10-22T21:12:18.091Z"
   },
   {
    "duration": 79,
    "start_time": "2021-10-22T21:12:19.855Z"
   },
   {
    "duration": 68,
    "start_time": "2021-10-22T21:12:23.047Z"
   },
   {
    "duration": 395,
    "start_time": "2021-10-22T21:12:24.489Z"
   },
   {
    "duration": 410,
    "start_time": "2021-10-22T21:13:20.037Z"
   },
   {
    "duration": 861,
    "start_time": "2021-10-22T21:16:33.588Z"
   },
   {
    "duration": 5192,
    "start_time": "2021-10-22T21:17:00.561Z"
   },
   {
    "duration": 7276,
    "start_time": "2021-10-22T21:17:51.489Z"
   },
   {
    "duration": 5228,
    "start_time": "2021-10-22T21:18:12.442Z"
   },
   {
    "duration": 379,
    "start_time": "2021-10-22T21:18:33.082Z"
   },
   {
    "duration": 5275,
    "start_time": "2021-10-22T21:20:14.996Z"
   },
   {
    "duration": 140,
    "start_time": "2021-10-22T21:20:30.600Z"
   },
   {
    "duration": 67,
    "start_time": "2021-10-22T21:20:31.011Z"
   },
   {
    "duration": 73,
    "start_time": "2021-10-22T21:20:32.697Z"
   },
   {
    "duration": 62,
    "start_time": "2021-10-22T21:20:34.801Z"
   },
   {
    "duration": 5436,
    "start_time": "2021-10-22T21:20:36.093Z"
   },
   {
    "duration": 858,
    "start_time": "2021-10-22T21:23:26.916Z"
   },
   {
    "duration": 954,
    "start_time": "2021-10-22T21:25:13.062Z"
   },
   {
    "duration": 535,
    "start_time": "2021-10-22T21:25:15.646Z"
   },
   {
    "duration": 356,
    "start_time": "2021-10-22T21:25:17.484Z"
   },
   {
    "duration": 544,
    "start_time": "2021-10-22T21:25:19.556Z"
   },
   {
    "duration": 570,
    "start_time": "2021-10-22T21:25:23.883Z"
   },
   {
    "duration": 555,
    "start_time": "2021-10-22T21:25:26.159Z"
   },
   {
    "duration": 568,
    "start_time": "2021-10-22T21:25:26.717Z"
   },
   {
    "duration": 312,
    "start_time": "2021-10-22T21:25:27.374Z"
   },
   {
    "duration": 389,
    "start_time": "2021-10-22T21:25:27.732Z"
   },
   {
    "duration": 35,
    "start_time": "2021-10-22T21:25:28.628Z"
   },
   {
    "duration": 740,
    "start_time": "2021-10-22T21:25:30.763Z"
   },
   {
    "duration": 285,
    "start_time": "2021-10-22T21:25:34.032Z"
   },
   {
    "duration": 738,
    "start_time": "2021-10-22T21:25:36.718Z"
   },
   {
    "duration": 325,
    "start_time": "2021-10-22T21:25:39.645Z"
   },
   {
    "duration": 41,
    "start_time": "2021-10-22T21:27:44.312Z"
   },
   {
    "duration": 438,
    "start_time": "2021-10-22T21:27:44.873Z"
   },
   {
    "duration": 304,
    "start_time": "2021-10-22T21:27:47.322Z"
   },
   {
    "duration": 325,
    "start_time": "2021-10-22T21:27:47.929Z"
   },
   {
    "duration": 292,
    "start_time": "2021-10-22T21:27:48.469Z"
   },
   {
    "duration": 308,
    "start_time": "2021-10-22T21:27:49.005Z"
   },
   {
    "duration": 303,
    "start_time": "2021-10-22T21:27:51.525Z"
   },
   {
    "duration": 535,
    "start_time": "2021-10-22T21:27:52.707Z"
   },
   {
    "duration": 313,
    "start_time": "2021-10-22T21:27:54.028Z"
   },
   {
    "duration": 8,
    "start_time": "2021-10-22T21:31:45.545Z"
   },
   {
    "duration": 9,
    "start_time": "2021-10-22T21:32:08.180Z"
   },
   {
    "duration": 16,
    "start_time": "2021-10-22T21:32:43.561Z"
   },
   {
    "duration": 340,
    "start_time": "2021-10-22T21:33:17.771Z"
   },
   {
    "duration": 327,
    "start_time": "2021-10-22T21:33:18.885Z"
   },
   {
    "duration": 306,
    "start_time": "2021-10-22T21:33:19.542Z"
   },
   {
    "duration": 1201,
    "start_time": "2021-10-22T21:58:15.580Z"
   },
   {
    "duration": 70,
    "start_time": "2021-10-22T21:58:16.784Z"
   },
   {
    "duration": 99,
    "start_time": "2021-10-22T21:58:16.858Z"
   },
   {
    "duration": 81,
    "start_time": "2021-10-22T21:58:16.960Z"
   },
   {
    "duration": 1256,
    "start_time": "2021-10-22T21:58:17.044Z"
   },
   {
    "duration": 1455,
    "start_time": "2021-10-22T21:58:18.303Z"
   },
   {
    "duration": 490,
    "start_time": "2021-10-22T21:58:19.761Z"
   },
   {
    "duration": 360,
    "start_time": "2021-10-22T21:58:20.255Z"
   },
   {
    "duration": 901,
    "start_time": "2021-10-22T21:58:20.620Z"
   },
   {
    "duration": 922,
    "start_time": "2021-10-22T21:58:21.524Z"
   },
   {
    "duration": 899,
    "start_time": "2021-10-22T21:58:22.449Z"
   },
   {
    "duration": 850,
    "start_time": "2021-10-22T21:58:23.350Z"
   },
   {
    "duration": 333,
    "start_time": "2021-10-22T21:58:24.203Z"
   },
   {
    "duration": 409,
    "start_time": "2021-10-22T21:58:24.539Z"
   },
   {
    "duration": 54,
    "start_time": "2021-10-22T21:58:24.950Z"
   },
   {
    "duration": 758,
    "start_time": "2021-10-22T21:58:25.007Z"
   },
   {
    "duration": 302,
    "start_time": "2021-10-22T21:58:25.767Z"
   },
   {
    "duration": 746,
    "start_time": "2021-10-22T21:58:26.071Z"
   },
   {
    "duration": 342,
    "start_time": "2021-10-22T21:58:26.820Z"
   },
   {
    "duration": 325,
    "start_time": "2021-10-22T21:58:27.164Z"
   },
   {
    "duration": 444,
    "start_time": "2021-10-22T21:58:27.492Z"
   },
   {
    "duration": 327,
    "start_time": "2021-10-22T21:58:27.938Z"
   },
   {
    "duration": 59,
    "start_time": "2021-10-22T21:58:28.270Z"
   },
   {
    "duration": 468,
    "start_time": "2021-10-22T21:58:28.332Z"
   },
   {
    "duration": 342,
    "start_time": "2021-10-22T21:58:28.803Z"
   },
   {
    "duration": 320,
    "start_time": "2021-10-22T21:58:29.147Z"
   },
   {
    "duration": 502,
    "start_time": "2021-10-22T21:58:29.469Z"
   },
   {
    "duration": 385,
    "start_time": "2021-10-22T21:58:29.973Z"
   },
   {
    "duration": 445,
    "start_time": "2021-10-22T21:58:30.360Z"
   },
   {
    "duration": 471,
    "start_time": "2021-10-22T21:58:30.808Z"
   },
   {
    "duration": 346,
    "start_time": "2021-10-22T21:58:31.281Z"
   },
   {
    "duration": 17,
    "start_time": "2021-10-22T21:58:31.631Z"
   },
   {
    "duration": 354,
    "start_time": "2021-10-22T21:58:31.652Z"
   },
   {
    "duration": 347,
    "start_time": "2021-10-22T21:58:32.009Z"
   },
   {
    "duration": 341,
    "start_time": "2021-10-22T21:58:32.359Z"
   }
  ],
  "kernelspec": {
   "display_name": "Python 3",
   "language": "python",
   "name": "python3"
  },
  "language_info": {
   "codemirror_mode": {
    "name": "ipython",
    "version": 3
   },
   "file_extension": ".py",
   "mimetype": "text/x-python",
   "name": "python",
   "nbconvert_exporter": "python",
   "pygments_lexer": "ipython3",
   "version": "3.8.5"
  },
  "toc": {
   "base_numbering": 1,
   "nav_menu": {},
   "number_sections": true,
   "sideBar": true,
   "skip_h1_title": true,
   "title_cell": "Содержание",
   "title_sidebar": "Contents",
   "toc_cell": true,
   "toc_position": {
    "height": "calc(100% - 180px)",
    "left": "10px",
    "top": "150px",
    "width": "268px"
   },
   "toc_section_display": true,
   "toc_window_display": true
  }
 },
 "nbformat": 4,
 "nbformat_minor": 2
}
