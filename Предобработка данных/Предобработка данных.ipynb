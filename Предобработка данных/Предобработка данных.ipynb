{
 "cells": [
  {
   "cell_type": "markdown",
   "metadata": {},
   "source": [
    "# Исследование надёжности заёмщиков\n",
    "\n",
    "Заказчик — кредитный отдел банка. Нужно разобраться, влияет ли семейное положение и количество детей клиента на факт погашения кредита в срок. Входные данные от банка — статистика о платёжеспособности клиентов.\n",
    "\n",
    "Результаты исследования будут учтены при построении модели **кредитного скоринга** — специальной системы, которая оценивает способность потенциального заёмщика вернуть кредит банку."
   ]
  },
  {
   "cell_type": "markdown",
   "metadata": {},
   "source": [
    "# Описание данных"
   ]
  },
  {
   "cell_type": "markdown",
   "metadata": {},
   "source": [
    "<ul>\n",
    "<li>children — количество детей в семье;</li>\n",
    "<li>days_employed — общий трудовой стаж в днях;</li>\n",
    "<li>dob_years — возраст клиента в годах;</li>\n",
    "<li>education — уровень образования клиента;</li>\n",
    "<li>education_id — идентификатор уровня образования;</li>\n",
    "<li>family_status — семейное положение;</li>\n",
    "<li>family_status_id — идентификатор семейного положения;</li>\n",
    "<li>gender — пол клиента;</li>\n",
    "<li>income_type — тип занятости;</li>\n",
    "<li>debt — имел ли задолженность по возврату кредитов;</li>\n",
    "<li>total_income — ежемесячный доход;</li>\n",
    "<li>purpose — цель получения кредита;</li>\n",
    "</ul>"
   ]
  },
  {
   "cell_type": "code",
   "execution_count": 1,
   "metadata": {},
   "outputs": [],
   "source": [
    "import pandas as pd\n",
    "import warnings\n",
    "warnings.filterwarnings('ignore')"
   ]
  },
  {
   "cell_type": "markdown",
   "metadata": {},
   "source": [
    "## Шаг 1. Изучение общей информации о данных"
   ]
  },
  {
   "cell_type": "code",
   "execution_count": 2,
   "metadata": {},
   "outputs": [
    {
     "data": {
      "text/html": [
       "<div>\n",
       "<style scoped>\n",
       "    .dataframe tbody tr th:only-of-type {\n",
       "        vertical-align: middle;\n",
       "    }\n",
       "\n",
       "    .dataframe tbody tr th {\n",
       "        vertical-align: top;\n",
       "    }\n",
       "\n",
       "    .dataframe thead th {\n",
       "        text-align: right;\n",
       "    }\n",
       "</style>\n",
       "<table border=\"1\" class=\"dataframe\">\n",
       "  <thead>\n",
       "    <tr style=\"text-align: right;\">\n",
       "      <th></th>\n",
       "      <th>children</th>\n",
       "      <th>days_employed</th>\n",
       "      <th>dob_years</th>\n",
       "      <th>education</th>\n",
       "      <th>education_id</th>\n",
       "      <th>family_status</th>\n",
       "      <th>family_status_id</th>\n",
       "      <th>gender</th>\n",
       "      <th>income_type</th>\n",
       "      <th>debt</th>\n",
       "      <th>total_income</th>\n",
       "      <th>purpose</th>\n",
       "    </tr>\n",
       "  </thead>\n",
       "  <tbody>\n",
       "    <tr>\n",
       "      <th>0</th>\n",
       "      <td>1</td>\n",
       "      <td>-8437.673028</td>\n",
       "      <td>42</td>\n",
       "      <td>высшее</td>\n",
       "      <td>0</td>\n",
       "      <td>женат / замужем</td>\n",
       "      <td>0</td>\n",
       "      <td>F</td>\n",
       "      <td>сотрудник</td>\n",
       "      <td>0</td>\n",
       "      <td>253875.639453</td>\n",
       "      <td>покупка жилья</td>\n",
       "    </tr>\n",
       "    <tr>\n",
       "      <th>1</th>\n",
       "      <td>1</td>\n",
       "      <td>-4024.803754</td>\n",
       "      <td>36</td>\n",
       "      <td>среднее</td>\n",
       "      <td>1</td>\n",
       "      <td>женат / замужем</td>\n",
       "      <td>0</td>\n",
       "      <td>F</td>\n",
       "      <td>сотрудник</td>\n",
       "      <td>0</td>\n",
       "      <td>112080.014102</td>\n",
       "      <td>приобретение автомобиля</td>\n",
       "    </tr>\n",
       "    <tr>\n",
       "      <th>2</th>\n",
       "      <td>0</td>\n",
       "      <td>-5623.422610</td>\n",
       "      <td>33</td>\n",
       "      <td>Среднее</td>\n",
       "      <td>1</td>\n",
       "      <td>женат / замужем</td>\n",
       "      <td>0</td>\n",
       "      <td>M</td>\n",
       "      <td>сотрудник</td>\n",
       "      <td>0</td>\n",
       "      <td>145885.952297</td>\n",
       "      <td>покупка жилья</td>\n",
       "    </tr>\n",
       "    <tr>\n",
       "      <th>3</th>\n",
       "      <td>3</td>\n",
       "      <td>-4124.747207</td>\n",
       "      <td>32</td>\n",
       "      <td>среднее</td>\n",
       "      <td>1</td>\n",
       "      <td>женат / замужем</td>\n",
       "      <td>0</td>\n",
       "      <td>M</td>\n",
       "      <td>сотрудник</td>\n",
       "      <td>0</td>\n",
       "      <td>267628.550329</td>\n",
       "      <td>дополнительное образование</td>\n",
       "    </tr>\n",
       "    <tr>\n",
       "      <th>4</th>\n",
       "      <td>0</td>\n",
       "      <td>340266.072047</td>\n",
       "      <td>53</td>\n",
       "      <td>среднее</td>\n",
       "      <td>1</td>\n",
       "      <td>гражданский брак</td>\n",
       "      <td>1</td>\n",
       "      <td>F</td>\n",
       "      <td>пенсионер</td>\n",
       "      <td>0</td>\n",
       "      <td>158616.077870</td>\n",
       "      <td>сыграть свадьбу</td>\n",
       "    </tr>\n",
       "    <tr>\n",
       "      <th>5</th>\n",
       "      <td>0</td>\n",
       "      <td>-926.185831</td>\n",
       "      <td>27</td>\n",
       "      <td>высшее</td>\n",
       "      <td>0</td>\n",
       "      <td>гражданский брак</td>\n",
       "      <td>1</td>\n",
       "      <td>M</td>\n",
       "      <td>компаньон</td>\n",
       "      <td>0</td>\n",
       "      <td>255763.565419</td>\n",
       "      <td>покупка жилья</td>\n",
       "    </tr>\n",
       "    <tr>\n",
       "      <th>6</th>\n",
       "      <td>0</td>\n",
       "      <td>-2879.202052</td>\n",
       "      <td>43</td>\n",
       "      <td>высшее</td>\n",
       "      <td>0</td>\n",
       "      <td>женат / замужем</td>\n",
       "      <td>0</td>\n",
       "      <td>F</td>\n",
       "      <td>компаньон</td>\n",
       "      <td>0</td>\n",
       "      <td>240525.971920</td>\n",
       "      <td>операции с жильем</td>\n",
       "    </tr>\n",
       "    <tr>\n",
       "      <th>7</th>\n",
       "      <td>0</td>\n",
       "      <td>-152.779569</td>\n",
       "      <td>50</td>\n",
       "      <td>СРЕДНЕЕ</td>\n",
       "      <td>1</td>\n",
       "      <td>женат / замужем</td>\n",
       "      <td>0</td>\n",
       "      <td>M</td>\n",
       "      <td>сотрудник</td>\n",
       "      <td>0</td>\n",
       "      <td>135823.934197</td>\n",
       "      <td>образование</td>\n",
       "    </tr>\n",
       "    <tr>\n",
       "      <th>8</th>\n",
       "      <td>2</td>\n",
       "      <td>-6929.865299</td>\n",
       "      <td>35</td>\n",
       "      <td>ВЫСШЕЕ</td>\n",
       "      <td>0</td>\n",
       "      <td>гражданский брак</td>\n",
       "      <td>1</td>\n",
       "      <td>F</td>\n",
       "      <td>сотрудник</td>\n",
       "      <td>0</td>\n",
       "      <td>95856.832424</td>\n",
       "      <td>на проведение свадьбы</td>\n",
       "    </tr>\n",
       "    <tr>\n",
       "      <th>9</th>\n",
       "      <td>0</td>\n",
       "      <td>-2188.756445</td>\n",
       "      <td>41</td>\n",
       "      <td>среднее</td>\n",
       "      <td>1</td>\n",
       "      <td>женат / замужем</td>\n",
       "      <td>0</td>\n",
       "      <td>M</td>\n",
       "      <td>сотрудник</td>\n",
       "      <td>0</td>\n",
       "      <td>144425.938277</td>\n",
       "      <td>покупка жилья для семьи</td>\n",
       "    </tr>\n",
       "  </tbody>\n",
       "</table>\n",
       "</div>"
      ],
      "text/plain": [
       "   children  days_employed  dob_years education  education_id  \\\n",
       "0         1   -8437.673028         42    высшее             0   \n",
       "1         1   -4024.803754         36   среднее             1   \n",
       "2         0   -5623.422610         33   Среднее             1   \n",
       "3         3   -4124.747207         32   среднее             1   \n",
       "4         0  340266.072047         53   среднее             1   \n",
       "5         0    -926.185831         27    высшее             0   \n",
       "6         0   -2879.202052         43    высшее             0   \n",
       "7         0    -152.779569         50   СРЕДНЕЕ             1   \n",
       "8         2   -6929.865299         35    ВЫСШЕЕ             0   \n",
       "9         0   -2188.756445         41   среднее             1   \n",
       "\n",
       "      family_status  family_status_id gender income_type  debt   total_income  \\\n",
       "0   женат / замужем                 0      F   сотрудник     0  253875.639453   \n",
       "1   женат / замужем                 0      F   сотрудник     0  112080.014102   \n",
       "2   женат / замужем                 0      M   сотрудник     0  145885.952297   \n",
       "3   женат / замужем                 0      M   сотрудник     0  267628.550329   \n",
       "4  гражданский брак                 1      F   пенсионер     0  158616.077870   \n",
       "5  гражданский брак                 1      M   компаньон     0  255763.565419   \n",
       "6   женат / замужем                 0      F   компаньон     0  240525.971920   \n",
       "7   женат / замужем                 0      M   сотрудник     0  135823.934197   \n",
       "8  гражданский брак                 1      F   сотрудник     0   95856.832424   \n",
       "9   женат / замужем                 0      M   сотрудник     0  144425.938277   \n",
       "\n",
       "                      purpose  \n",
       "0               покупка жилья  \n",
       "1     приобретение автомобиля  \n",
       "2               покупка жилья  \n",
       "3  дополнительное образование  \n",
       "4             сыграть свадьбу  \n",
       "5               покупка жилья  \n",
       "6           операции с жильем  \n",
       "7                 образование  \n",
       "8       на проведение свадьбы  \n",
       "9     покупка жилья для семьи  "
      ]
     },
     "metadata": {},
     "output_type": "display_data"
    }
   ],
   "source": [
    "data = pd.read_csv('data.csv')\n",
    "display(data.head(10))"
   ]
  },
  {
   "cell_type": "code",
   "execution_count": 3,
   "metadata": {},
   "outputs": [
    {
     "name": "stdout",
     "output_type": "stream",
     "text": [
      "<class 'pandas.core.frame.DataFrame'>\n",
      "RangeIndex: 21525 entries, 0 to 21524\n",
      "Data columns (total 12 columns):\n",
      " #   Column            Non-Null Count  Dtype  \n",
      "---  ------            --------------  -----  \n",
      " 0   children          21525 non-null  int64  \n",
      " 1   days_employed     19351 non-null  float64\n",
      " 2   dob_years         21525 non-null  int64  \n",
      " 3   education         21525 non-null  object \n",
      " 4   education_id      21525 non-null  int64  \n",
      " 5   family_status     21525 non-null  object \n",
      " 6   family_status_id  21525 non-null  int64  \n",
      " 7   gender            21525 non-null  object \n",
      " 8   income_type       21525 non-null  object \n",
      " 9   debt              21525 non-null  int64  \n",
      " 10  total_income      19351 non-null  float64\n",
      " 11  purpose           21525 non-null  object \n",
      "dtypes: float64(2), int64(5), object(5)\n",
      "memory usage: 2.0+ MB\n",
      "None\n"
     ]
    }
   ],
   "source": [
    "print(data.info())"
   ]
  },
  {
   "cell_type": "code",
   "execution_count": 4,
   "metadata": {},
   "outputs": [
    {
     "data": {
      "text/html": [
       "<div>\n",
       "<style scoped>\n",
       "    .dataframe tbody tr th:only-of-type {\n",
       "        vertical-align: middle;\n",
       "    }\n",
       "\n",
       "    .dataframe tbody tr th {\n",
       "        vertical-align: top;\n",
       "    }\n",
       "\n",
       "    .dataframe thead th {\n",
       "        text-align: right;\n",
       "    }\n",
       "</style>\n",
       "<table border=\"1\" class=\"dataframe\">\n",
       "  <thead>\n",
       "    <tr style=\"text-align: right;\">\n",
       "      <th></th>\n",
       "      <th>children</th>\n",
       "      <th>days_employed</th>\n",
       "      <th>dob_years</th>\n",
       "      <th>education_id</th>\n",
       "      <th>family_status_id</th>\n",
       "      <th>debt</th>\n",
       "      <th>total_income</th>\n",
       "    </tr>\n",
       "  </thead>\n",
       "  <tbody>\n",
       "    <tr>\n",
       "      <th>count</th>\n",
       "      <td>21525.000000</td>\n",
       "      <td>19351.000000</td>\n",
       "      <td>21525.000000</td>\n",
       "      <td>21525.000000</td>\n",
       "      <td>21525.000000</td>\n",
       "      <td>21525.000000</td>\n",
       "      <td>1.935100e+04</td>\n",
       "    </tr>\n",
       "    <tr>\n",
       "      <th>mean</th>\n",
       "      <td>0.538908</td>\n",
       "      <td>63046.497661</td>\n",
       "      <td>43.293380</td>\n",
       "      <td>0.817236</td>\n",
       "      <td>0.972544</td>\n",
       "      <td>0.080883</td>\n",
       "      <td>1.674223e+05</td>\n",
       "    </tr>\n",
       "    <tr>\n",
       "      <th>std</th>\n",
       "      <td>1.381587</td>\n",
       "      <td>140827.311974</td>\n",
       "      <td>12.574584</td>\n",
       "      <td>0.548138</td>\n",
       "      <td>1.420324</td>\n",
       "      <td>0.272661</td>\n",
       "      <td>1.029716e+05</td>\n",
       "    </tr>\n",
       "    <tr>\n",
       "      <th>min</th>\n",
       "      <td>-1.000000</td>\n",
       "      <td>-18388.949901</td>\n",
       "      <td>0.000000</td>\n",
       "      <td>0.000000</td>\n",
       "      <td>0.000000</td>\n",
       "      <td>0.000000</td>\n",
       "      <td>2.066726e+04</td>\n",
       "    </tr>\n",
       "    <tr>\n",
       "      <th>25%</th>\n",
       "      <td>0.000000</td>\n",
       "      <td>-2747.423625</td>\n",
       "      <td>33.000000</td>\n",
       "      <td>1.000000</td>\n",
       "      <td>0.000000</td>\n",
       "      <td>0.000000</td>\n",
       "      <td>1.030532e+05</td>\n",
       "    </tr>\n",
       "    <tr>\n",
       "      <th>50%</th>\n",
       "      <td>0.000000</td>\n",
       "      <td>-1203.369529</td>\n",
       "      <td>42.000000</td>\n",
       "      <td>1.000000</td>\n",
       "      <td>0.000000</td>\n",
       "      <td>0.000000</td>\n",
       "      <td>1.450179e+05</td>\n",
       "    </tr>\n",
       "    <tr>\n",
       "      <th>75%</th>\n",
       "      <td>1.000000</td>\n",
       "      <td>-291.095954</td>\n",
       "      <td>53.000000</td>\n",
       "      <td>1.000000</td>\n",
       "      <td>1.000000</td>\n",
       "      <td>0.000000</td>\n",
       "      <td>2.034351e+05</td>\n",
       "    </tr>\n",
       "    <tr>\n",
       "      <th>max</th>\n",
       "      <td>20.000000</td>\n",
       "      <td>401755.400475</td>\n",
       "      <td>75.000000</td>\n",
       "      <td>4.000000</td>\n",
       "      <td>4.000000</td>\n",
       "      <td>1.000000</td>\n",
       "      <td>2.265604e+06</td>\n",
       "    </tr>\n",
       "  </tbody>\n",
       "</table>\n",
       "</div>"
      ],
      "text/plain": [
       "           children  days_employed     dob_years  education_id  \\\n",
       "count  21525.000000   19351.000000  21525.000000  21525.000000   \n",
       "mean       0.538908   63046.497661     43.293380      0.817236   \n",
       "std        1.381587  140827.311974     12.574584      0.548138   \n",
       "min       -1.000000  -18388.949901      0.000000      0.000000   \n",
       "25%        0.000000   -2747.423625     33.000000      1.000000   \n",
       "50%        0.000000   -1203.369529     42.000000      1.000000   \n",
       "75%        1.000000    -291.095954     53.000000      1.000000   \n",
       "max       20.000000  401755.400475     75.000000      4.000000   \n",
       "\n",
       "       family_status_id          debt  total_income  \n",
       "count      21525.000000  21525.000000  1.935100e+04  \n",
       "mean           0.972544      0.080883  1.674223e+05  \n",
       "std            1.420324      0.272661  1.029716e+05  \n",
       "min            0.000000      0.000000  2.066726e+04  \n",
       "25%            0.000000      0.000000  1.030532e+05  \n",
       "50%            0.000000      0.000000  1.450179e+05  \n",
       "75%            1.000000      0.000000  2.034351e+05  \n",
       "max            4.000000      1.000000  2.265604e+06  "
      ]
     },
     "execution_count": 4,
     "metadata": {},
     "output_type": "execute_result"
    }
   ],
   "source": [
    "data.describe()"
   ]
  },
  {
   "cell_type": "markdown",
   "metadata": {},
   "source": [
    "**Вывод**:\n",
    "Можно заметить, что в таблице разное число non-null объектов в каждом столбце, из этого можно сделать вывод, что в таблице есть пропущенные значения. Также в таблице в столбце days_employed можно увидеть отрицательное количество дней трудового стажа. В столбце education требуется привести все значения к одному регистру."
   ]
  },
  {
   "cell_type": "markdown",
   "metadata": {},
   "source": [
    "## Шаг 2. Предобработка данных"
   ]
  },
  {
   "cell_type": "markdown",
   "metadata": {},
   "source": [
    "### Обработка пропусков"
   ]
  },
  {
   "cell_type": "markdown",
   "metadata": {},
   "source": [
    "Для того, чтобы получить стаж в годах, возьмем числа столбца days_employed по модулю и поделим на количество дней в году. Трудовой стаж и ежемесячный доход были заполнены в соответствии с типом занятости. Также возьмем количество детей по модулю, чтобы не было отрицательных значений и уберем аномально большие значения в данном столбце (children)"
   ]
  },
  {
   "cell_type": "code",
   "execution_count": 5,
   "metadata": {},
   "outputs": [
    {
     "data": {
      "text/html": [
       "<div>\n",
       "<style scoped>\n",
       "    .dataframe tbody tr th:only-of-type {\n",
       "        vertical-align: middle;\n",
       "    }\n",
       "\n",
       "    .dataframe tbody tr th {\n",
       "        vertical-align: top;\n",
       "    }\n",
       "\n",
       "    .dataframe thead th {\n",
       "        text-align: right;\n",
       "    }\n",
       "</style>\n",
       "<table border=\"1\" class=\"dataframe\">\n",
       "  <thead>\n",
       "    <tr style=\"text-align: right;\">\n",
       "      <th></th>\n",
       "      <th>children</th>\n",
       "      <th>years_employed</th>\n",
       "      <th>dob_years</th>\n",
       "      <th>education</th>\n",
       "      <th>education_id</th>\n",
       "      <th>family_status</th>\n",
       "      <th>family_status_id</th>\n",
       "      <th>gender</th>\n",
       "      <th>income_type</th>\n",
       "      <th>debt</th>\n",
       "      <th>total_income</th>\n",
       "      <th>purpose</th>\n",
       "    </tr>\n",
       "  </thead>\n",
       "  <tbody>\n",
       "    <tr>\n",
       "      <th>0</th>\n",
       "      <td>1</td>\n",
       "      <td>23.116912</td>\n",
       "      <td>42</td>\n",
       "      <td>высшее</td>\n",
       "      <td>0</td>\n",
       "      <td>женат / замужем</td>\n",
       "      <td>0</td>\n",
       "      <td>F</td>\n",
       "      <td>сотрудник</td>\n",
       "      <td>0</td>\n",
       "      <td>253875.639453</td>\n",
       "      <td>покупка жилья</td>\n",
       "    </tr>\n",
       "    <tr>\n",
       "      <th>1</th>\n",
       "      <td>1</td>\n",
       "      <td>11.026860</td>\n",
       "      <td>36</td>\n",
       "      <td>среднее</td>\n",
       "      <td>1</td>\n",
       "      <td>женат / замужем</td>\n",
       "      <td>0</td>\n",
       "      <td>F</td>\n",
       "      <td>сотрудник</td>\n",
       "      <td>0</td>\n",
       "      <td>112080.014102</td>\n",
       "      <td>приобретение автомобиля</td>\n",
       "    </tr>\n",
       "    <tr>\n",
       "      <th>2</th>\n",
       "      <td>0</td>\n",
       "      <td>15.406637</td>\n",
       "      <td>33</td>\n",
       "      <td>Среднее</td>\n",
       "      <td>1</td>\n",
       "      <td>женат / замужем</td>\n",
       "      <td>0</td>\n",
       "      <td>M</td>\n",
       "      <td>сотрудник</td>\n",
       "      <td>0</td>\n",
       "      <td>145885.952297</td>\n",
       "      <td>покупка жилья</td>\n",
       "    </tr>\n",
       "    <tr>\n",
       "      <th>3</th>\n",
       "      <td>3</td>\n",
       "      <td>11.300677</td>\n",
       "      <td>32</td>\n",
       "      <td>среднее</td>\n",
       "      <td>1</td>\n",
       "      <td>женат / замужем</td>\n",
       "      <td>0</td>\n",
       "      <td>M</td>\n",
       "      <td>сотрудник</td>\n",
       "      <td>0</td>\n",
       "      <td>267628.550329</td>\n",
       "      <td>дополнительное образование</td>\n",
       "    </tr>\n",
       "    <tr>\n",
       "      <th>4</th>\n",
       "      <td>0</td>\n",
       "      <td>9.322358</td>\n",
       "      <td>53</td>\n",
       "      <td>среднее</td>\n",
       "      <td>1</td>\n",
       "      <td>гражданский брак</td>\n",
       "      <td>1</td>\n",
       "      <td>F</td>\n",
       "      <td>пенсионер</td>\n",
       "      <td>0</td>\n",
       "      <td>158616.077870</td>\n",
       "      <td>сыграть свадьбу</td>\n",
       "    </tr>\n",
       "    <tr>\n",
       "      <th>5</th>\n",
       "      <td>0</td>\n",
       "      <td>2.537495</td>\n",
       "      <td>27</td>\n",
       "      <td>высшее</td>\n",
       "      <td>0</td>\n",
       "      <td>гражданский брак</td>\n",
       "      <td>1</td>\n",
       "      <td>M</td>\n",
       "      <td>компаньон</td>\n",
       "      <td>0</td>\n",
       "      <td>255763.565419</td>\n",
       "      <td>покупка жилья</td>\n",
       "    </tr>\n",
       "    <tr>\n",
       "      <th>6</th>\n",
       "      <td>0</td>\n",
       "      <td>7.888225</td>\n",
       "      <td>43</td>\n",
       "      <td>высшее</td>\n",
       "      <td>0</td>\n",
       "      <td>женат / замужем</td>\n",
       "      <td>0</td>\n",
       "      <td>F</td>\n",
       "      <td>компаньон</td>\n",
       "      <td>0</td>\n",
       "      <td>240525.971920</td>\n",
       "      <td>операции с жильем</td>\n",
       "    </tr>\n",
       "    <tr>\n",
       "      <th>7</th>\n",
       "      <td>0</td>\n",
       "      <td>0.418574</td>\n",
       "      <td>50</td>\n",
       "      <td>СРЕДНЕЕ</td>\n",
       "      <td>1</td>\n",
       "      <td>женат / замужем</td>\n",
       "      <td>0</td>\n",
       "      <td>M</td>\n",
       "      <td>сотрудник</td>\n",
       "      <td>0</td>\n",
       "      <td>135823.934197</td>\n",
       "      <td>образование</td>\n",
       "    </tr>\n",
       "    <tr>\n",
       "      <th>8</th>\n",
       "      <td>2</td>\n",
       "      <td>18.985932</td>\n",
       "      <td>35</td>\n",
       "      <td>ВЫСШЕЕ</td>\n",
       "      <td>0</td>\n",
       "      <td>гражданский брак</td>\n",
       "      <td>1</td>\n",
       "      <td>F</td>\n",
       "      <td>сотрудник</td>\n",
       "      <td>0</td>\n",
       "      <td>95856.832424</td>\n",
       "      <td>на проведение свадьбы</td>\n",
       "    </tr>\n",
       "    <tr>\n",
       "      <th>9</th>\n",
       "      <td>0</td>\n",
       "      <td>5.996593</td>\n",
       "      <td>41</td>\n",
       "      <td>среднее</td>\n",
       "      <td>1</td>\n",
       "      <td>женат / замужем</td>\n",
       "      <td>0</td>\n",
       "      <td>M</td>\n",
       "      <td>сотрудник</td>\n",
       "      <td>0</td>\n",
       "      <td>144425.938277</td>\n",
       "      <td>покупка жилья для семьи</td>\n",
       "    </tr>\n",
       "  </tbody>\n",
       "</table>\n",
       "</div>"
      ],
      "text/plain": [
       "   children  years_employed  dob_years education  education_id  \\\n",
       "0         1       23.116912         42    высшее             0   \n",
       "1         1       11.026860         36   среднее             1   \n",
       "2         0       15.406637         33   Среднее             1   \n",
       "3         3       11.300677         32   среднее             1   \n",
       "4         0        9.322358         53   среднее             1   \n",
       "5         0        2.537495         27    высшее             0   \n",
       "6         0        7.888225         43    высшее             0   \n",
       "7         0        0.418574         50   СРЕДНЕЕ             1   \n",
       "8         2       18.985932         35    ВЫСШЕЕ             0   \n",
       "9         0        5.996593         41   среднее             1   \n",
       "\n",
       "      family_status  family_status_id gender income_type  debt   total_income  \\\n",
       "0   женат / замужем                 0      F   сотрудник     0  253875.639453   \n",
       "1   женат / замужем                 0      F   сотрудник     0  112080.014102   \n",
       "2   женат / замужем                 0      M   сотрудник     0  145885.952297   \n",
       "3   женат / замужем                 0      M   сотрудник     0  267628.550329   \n",
       "4  гражданский брак                 1      F   пенсионер     0  158616.077870   \n",
       "5  гражданский брак                 1      M   компаньон     0  255763.565419   \n",
       "6   женат / замужем                 0      F   компаньон     0  240525.971920   \n",
       "7   женат / замужем                 0      M   сотрудник     0  135823.934197   \n",
       "8  гражданский брак                 1      F   сотрудник     0   95856.832424   \n",
       "9   женат / замужем                 0      M   сотрудник     0  144425.938277   \n",
       "\n",
       "                      purpose  \n",
       "0               покупка жилья  \n",
       "1     приобретение автомобиля  \n",
       "2               покупка жилья  \n",
       "3  дополнительное образование  \n",
       "4             сыграть свадьбу  \n",
       "5               покупка жилья  \n",
       "6           операции с жильем  \n",
       "7                 образование  \n",
       "8       на проведение свадьбы  \n",
       "9     покупка жилья для семьи  "
      ]
     },
     "metadata": {},
     "output_type": "display_data"
    }
   ],
   "source": [
    "data['days_employed'] = data['days_employed'].abs() / 365\n",
    "data.loc[data['days_employed'] >= 100, 'days_employed'] = data.loc[data['days_employed'] >= 100, 'days_employed'] / 100\n",
    "data = data.rename(columns={'days_employed': 'years_employed'})\n",
    "\n",
    "data['years_employed'] = data.groupby('income_type')['years_employed'].transform(lambda x: x.fillna(x.mean()))\n",
    "data['total_income'] = data.groupby('income_type')['total_income'].transform(lambda x: x.fillna(x.mean()))\n",
    "\n",
    "data['children'] = data['children'].abs()\n",
    "data.loc[data['children'] >= 10, 'children'] = data.loc[data['children'] >= 10, 'children'] // 10\n",
    "\n",
    "display(data.head(10))"
   ]
  },
  {
   "cell_type": "code",
   "execution_count": 6,
   "metadata": {},
   "outputs": [
    {
     "name": "stdout",
     "output_type": "stream",
     "text": [
      "<class 'pandas.core.frame.DataFrame'>\n",
      "RangeIndex: 21525 entries, 0 to 21524\n",
      "Data columns (total 12 columns):\n",
      " #   Column            Non-Null Count  Dtype  \n",
      "---  ------            --------------  -----  \n",
      " 0   children          21525 non-null  int64  \n",
      " 1   years_employed    21525 non-null  float64\n",
      " 2   dob_years         21525 non-null  int64  \n",
      " 3   education         21525 non-null  object \n",
      " 4   education_id      21525 non-null  int64  \n",
      " 5   family_status     21525 non-null  object \n",
      " 6   family_status_id  21525 non-null  int64  \n",
      " 7   gender            21525 non-null  object \n",
      " 8   income_type       21525 non-null  object \n",
      " 9   debt              21525 non-null  int64  \n",
      " 10  total_income      21525 non-null  float64\n",
      " 11  purpose           21525 non-null  object \n",
      "dtypes: float64(2), int64(5), object(5)\n",
      "memory usage: 2.0+ MB\n",
      "None\n"
     ]
    }
   ],
   "source": [
    "print(data.info())"
   ]
  },
  {
   "cell_type": "markdown",
   "metadata": {},
   "source": [
    "**Вывод**: Были обнаружены значения NaN в столбцах days_employed и total_income. Возможными причинами таких значений могут быть технические неполадки, либо просто незнание человека о своем точном стаже в днях. Для подсчета характерных значений использовалась медиана, так как среднее не всегда отражает действительность, когда некоторые значения сильно выделяются среди большинства (в большую либо меньшею сторону)"
   ]
  },
  {
   "cell_type": "markdown",
   "metadata": {},
   "source": [
    "### Замена типа данных"
   ]
  },
  {
   "cell_type": "markdown",
   "metadata": {},
   "source": [
    "Требуется заменить вещественный тип данных на целочисленный. В данной таблице имеется 2 столбца с вещественными значениями: days_employed и total_income"
   ]
  },
  {
   "cell_type": "code",
   "execution_count": 7,
   "metadata": {},
   "outputs": [
    {
     "name": "stdout",
     "output_type": "stream",
     "text": [
      "<class 'pandas.core.frame.DataFrame'>\n",
      "RangeIndex: 21525 entries, 0 to 21524\n",
      "Data columns (total 12 columns):\n",
      " #   Column            Non-Null Count  Dtype \n",
      "---  ------            --------------  ----- \n",
      " 0   children          21525 non-null  int64 \n",
      " 1   years_employed    21525 non-null  int32 \n",
      " 2   dob_years         21525 non-null  int64 \n",
      " 3   education         21525 non-null  object\n",
      " 4   education_id      21525 non-null  int64 \n",
      " 5   family_status     21525 non-null  object\n",
      " 6   family_status_id  21525 non-null  int64 \n",
      " 7   gender            21525 non-null  object\n",
      " 8   income_type       21525 non-null  object\n",
      " 9   debt              21525 non-null  int64 \n",
      " 10  total_income      21525 non-null  int32 \n",
      " 11  purpose           21525 non-null  object\n",
      "dtypes: int32(2), int64(5), object(5)\n",
      "memory usage: 1.8+ MB\n",
      "None\n"
     ]
    }
   ],
   "source": [
    "data['years_employed'] = data['years_employed'].astype('int')\n",
    "data['total_income'] = data['total_income'].astype('int')\n",
    "print(data.info())"
   ]
  },
  {
   "cell_type": "markdown",
   "metadata": {},
   "source": [
    "### Обработка дубликатов"
   ]
  },
  {
   "cell_type": "markdown",
   "metadata": {},
   "source": [
    "Приведем строки столбца education к одному регистру"
   ]
  },
  {
   "cell_type": "code",
   "execution_count": 8,
   "metadata": {},
   "outputs": [
    {
     "data": {
      "text/html": [
       "<div>\n",
       "<style scoped>\n",
       "    .dataframe tbody tr th:only-of-type {\n",
       "        vertical-align: middle;\n",
       "    }\n",
       "\n",
       "    .dataframe tbody tr th {\n",
       "        vertical-align: top;\n",
       "    }\n",
       "\n",
       "    .dataframe thead th {\n",
       "        text-align: right;\n",
       "    }\n",
       "</style>\n",
       "<table border=\"1\" class=\"dataframe\">\n",
       "  <thead>\n",
       "    <tr style=\"text-align: right;\">\n",
       "      <th></th>\n",
       "      <th>children</th>\n",
       "      <th>years_employed</th>\n",
       "      <th>dob_years</th>\n",
       "      <th>education</th>\n",
       "      <th>education_id</th>\n",
       "      <th>family_status</th>\n",
       "      <th>family_status_id</th>\n",
       "      <th>gender</th>\n",
       "      <th>income_type</th>\n",
       "      <th>debt</th>\n",
       "      <th>total_income</th>\n",
       "      <th>purpose</th>\n",
       "    </tr>\n",
       "  </thead>\n",
       "  <tbody>\n",
       "    <tr>\n",
       "      <th>0</th>\n",
       "      <td>1</td>\n",
       "      <td>23</td>\n",
       "      <td>42</td>\n",
       "      <td>высшее</td>\n",
       "      <td>0</td>\n",
       "      <td>женат / замужем</td>\n",
       "      <td>0</td>\n",
       "      <td>F</td>\n",
       "      <td>сотрудник</td>\n",
       "      <td>0</td>\n",
       "      <td>253875</td>\n",
       "      <td>покупка жилья</td>\n",
       "    </tr>\n",
       "    <tr>\n",
       "      <th>1</th>\n",
       "      <td>1</td>\n",
       "      <td>11</td>\n",
       "      <td>36</td>\n",
       "      <td>среднее</td>\n",
       "      <td>1</td>\n",
       "      <td>женат / замужем</td>\n",
       "      <td>0</td>\n",
       "      <td>F</td>\n",
       "      <td>сотрудник</td>\n",
       "      <td>0</td>\n",
       "      <td>112080</td>\n",
       "      <td>приобретение автомобиля</td>\n",
       "    </tr>\n",
       "    <tr>\n",
       "      <th>2</th>\n",
       "      <td>0</td>\n",
       "      <td>15</td>\n",
       "      <td>33</td>\n",
       "      <td>среднее</td>\n",
       "      <td>1</td>\n",
       "      <td>женат / замужем</td>\n",
       "      <td>0</td>\n",
       "      <td>M</td>\n",
       "      <td>сотрудник</td>\n",
       "      <td>0</td>\n",
       "      <td>145885</td>\n",
       "      <td>покупка жилья</td>\n",
       "    </tr>\n",
       "    <tr>\n",
       "      <th>3</th>\n",
       "      <td>3</td>\n",
       "      <td>11</td>\n",
       "      <td>32</td>\n",
       "      <td>среднее</td>\n",
       "      <td>1</td>\n",
       "      <td>женат / замужем</td>\n",
       "      <td>0</td>\n",
       "      <td>M</td>\n",
       "      <td>сотрудник</td>\n",
       "      <td>0</td>\n",
       "      <td>267628</td>\n",
       "      <td>дополнительное образование</td>\n",
       "    </tr>\n",
       "    <tr>\n",
       "      <th>4</th>\n",
       "      <td>0</td>\n",
       "      <td>9</td>\n",
       "      <td>53</td>\n",
       "      <td>среднее</td>\n",
       "      <td>1</td>\n",
       "      <td>гражданский брак</td>\n",
       "      <td>1</td>\n",
       "      <td>F</td>\n",
       "      <td>пенсионер</td>\n",
       "      <td>0</td>\n",
       "      <td>158616</td>\n",
       "      <td>сыграть свадьбу</td>\n",
       "    </tr>\n",
       "    <tr>\n",
       "      <th>5</th>\n",
       "      <td>0</td>\n",
       "      <td>2</td>\n",
       "      <td>27</td>\n",
       "      <td>высшее</td>\n",
       "      <td>0</td>\n",
       "      <td>гражданский брак</td>\n",
       "      <td>1</td>\n",
       "      <td>M</td>\n",
       "      <td>компаньон</td>\n",
       "      <td>0</td>\n",
       "      <td>255763</td>\n",
       "      <td>покупка жилья</td>\n",
       "    </tr>\n",
       "    <tr>\n",
       "      <th>6</th>\n",
       "      <td>0</td>\n",
       "      <td>7</td>\n",
       "      <td>43</td>\n",
       "      <td>высшее</td>\n",
       "      <td>0</td>\n",
       "      <td>женат / замужем</td>\n",
       "      <td>0</td>\n",
       "      <td>F</td>\n",
       "      <td>компаньон</td>\n",
       "      <td>0</td>\n",
       "      <td>240525</td>\n",
       "      <td>операции с жильем</td>\n",
       "    </tr>\n",
       "    <tr>\n",
       "      <th>7</th>\n",
       "      <td>0</td>\n",
       "      <td>0</td>\n",
       "      <td>50</td>\n",
       "      <td>среднее</td>\n",
       "      <td>1</td>\n",
       "      <td>женат / замужем</td>\n",
       "      <td>0</td>\n",
       "      <td>M</td>\n",
       "      <td>сотрудник</td>\n",
       "      <td>0</td>\n",
       "      <td>135823</td>\n",
       "      <td>образование</td>\n",
       "    </tr>\n",
       "    <tr>\n",
       "      <th>8</th>\n",
       "      <td>2</td>\n",
       "      <td>18</td>\n",
       "      <td>35</td>\n",
       "      <td>высшее</td>\n",
       "      <td>0</td>\n",
       "      <td>гражданский брак</td>\n",
       "      <td>1</td>\n",
       "      <td>F</td>\n",
       "      <td>сотрудник</td>\n",
       "      <td>0</td>\n",
       "      <td>95856</td>\n",
       "      <td>на проведение свадьбы</td>\n",
       "    </tr>\n",
       "    <tr>\n",
       "      <th>9</th>\n",
       "      <td>0</td>\n",
       "      <td>5</td>\n",
       "      <td>41</td>\n",
       "      <td>среднее</td>\n",
       "      <td>1</td>\n",
       "      <td>женат / замужем</td>\n",
       "      <td>0</td>\n",
       "      <td>M</td>\n",
       "      <td>сотрудник</td>\n",
       "      <td>0</td>\n",
       "      <td>144425</td>\n",
       "      <td>покупка жилья для семьи</td>\n",
       "    </tr>\n",
       "  </tbody>\n",
       "</table>\n",
       "</div>"
      ],
      "text/plain": [
       "   children  years_employed  dob_years education  education_id  \\\n",
       "0         1              23         42    высшее             0   \n",
       "1         1              11         36   среднее             1   \n",
       "2         0              15         33   среднее             1   \n",
       "3         3              11         32   среднее             1   \n",
       "4         0               9         53   среднее             1   \n",
       "5         0               2         27    высшее             0   \n",
       "6         0               7         43    высшее             0   \n",
       "7         0               0         50   среднее             1   \n",
       "8         2              18         35    высшее             0   \n",
       "9         0               5         41   среднее             1   \n",
       "\n",
       "      family_status  family_status_id gender income_type  debt  total_income  \\\n",
       "0   женат / замужем                 0      F   сотрудник     0        253875   \n",
       "1   женат / замужем                 0      F   сотрудник     0        112080   \n",
       "2   женат / замужем                 0      M   сотрудник     0        145885   \n",
       "3   женат / замужем                 0      M   сотрудник     0        267628   \n",
       "4  гражданский брак                 1      F   пенсионер     0        158616   \n",
       "5  гражданский брак                 1      M   компаньон     0        255763   \n",
       "6   женат / замужем                 0      F   компаньон     0        240525   \n",
       "7   женат / замужем                 0      M   сотрудник     0        135823   \n",
       "8  гражданский брак                 1      F   сотрудник     0         95856   \n",
       "9   женат / замужем                 0      M   сотрудник     0        144425   \n",
       "\n",
       "                      purpose  \n",
       "0               покупка жилья  \n",
       "1     приобретение автомобиля  \n",
       "2               покупка жилья  \n",
       "3  дополнительное образование  \n",
       "4             сыграть свадьбу  \n",
       "5               покупка жилья  \n",
       "6           операции с жильем  \n",
       "7                 образование  \n",
       "8       на проведение свадьбы  \n",
       "9     покупка жилья для семьи  "
      ]
     },
     "metadata": {},
     "output_type": "display_data"
    }
   ],
   "source": [
    "data['education'] = data['education'].str.lower()\n",
    "display(data.head(10))"
   ]
  },
  {
   "cell_type": "markdown",
   "metadata": {},
   "source": [
    "Попробуем отыскать полные дубликаты и удалить их"
   ]
  },
  {
   "cell_type": "code",
   "execution_count": 9,
   "metadata": {},
   "outputs": [
    {
     "name": "stdout",
     "output_type": "stream",
     "text": [
      "<class 'pandas.core.frame.DataFrame'>\n",
      "RangeIndex: 21454 entries, 0 to 21453\n",
      "Data columns (total 12 columns):\n",
      " #   Column            Non-Null Count  Dtype \n",
      "---  ------            --------------  ----- \n",
      " 0   children          21454 non-null  int64 \n",
      " 1   years_employed    21454 non-null  int32 \n",
      " 2   dob_years         21454 non-null  int64 \n",
      " 3   education         21454 non-null  object\n",
      " 4   education_id      21454 non-null  int64 \n",
      " 5   family_status     21454 non-null  object\n",
      " 6   family_status_id  21454 non-null  int64 \n",
      " 7   gender            21454 non-null  object\n",
      " 8   income_type       21454 non-null  object\n",
      " 9   debt              21454 non-null  int64 \n",
      " 10  total_income      21454 non-null  int32 \n",
      " 11  purpose           21454 non-null  object\n",
      "dtypes: int32(2), int64(5), object(5)\n",
      "memory usage: 1.8+ MB\n",
      "None\n"
     ]
    }
   ],
   "source": [
    "data = data.drop_duplicates().reset_index(drop = True)\n",
    "print(data.info())"
   ]
  },
  {
   "cell_type": "markdown",
   "metadata": {},
   "source": [
    "**Вывод**: значения столбца education были приведены к одному регистру, а также удалены полные дубликаты, что позволило сократить количество строк до 21454. Дубликаты могут быть связаны как с техническими неполадками, так и с заполнением пользователем данных несколько раз."
   ]
  },
  {
   "cell_type": "markdown",
   "metadata": {},
   "source": [
    "### Лемматизация"
   ]
  },
  {
   "cell_type": "markdown",
   "metadata": {},
   "source": [
    "В ходе лемматизации первым шагом были выделены основные категории целей кредита (свадьба, недвижимость, автомобиль, образование) и объеденены подобные слова в отдельные списки. Далее была создана функция, которая проверяет вхождение значения столбца purpose в определенный список и присваевает ему одну из 4 категорий"
   ]
  },
  {
   "cell_type": "code",
   "execution_count": 10,
   "metadata": {},
   "outputs": [
    {
     "data": {
      "text/html": [
       "<div>\n",
       "<style scoped>\n",
       "    .dataframe tbody tr th:only-of-type {\n",
       "        vertical-align: middle;\n",
       "    }\n",
       "\n",
       "    .dataframe tbody tr th {\n",
       "        vertical-align: top;\n",
       "    }\n",
       "\n",
       "    .dataframe thead th {\n",
       "        text-align: right;\n",
       "    }\n",
       "</style>\n",
       "<table border=\"1\" class=\"dataframe\">\n",
       "  <thead>\n",
       "    <tr style=\"text-align: right;\">\n",
       "      <th></th>\n",
       "      <th>children</th>\n",
       "      <th>years_employed</th>\n",
       "      <th>dob_years</th>\n",
       "      <th>education</th>\n",
       "      <th>education_id</th>\n",
       "      <th>family_status</th>\n",
       "      <th>family_status_id</th>\n",
       "      <th>gender</th>\n",
       "      <th>income_type</th>\n",
       "      <th>debt</th>\n",
       "      <th>total_income</th>\n",
       "      <th>purpose</th>\n",
       "    </tr>\n",
       "  </thead>\n",
       "  <tbody>\n",
       "    <tr>\n",
       "      <th>0</th>\n",
       "      <td>1</td>\n",
       "      <td>23</td>\n",
       "      <td>42</td>\n",
       "      <td>высшее</td>\n",
       "      <td>0</td>\n",
       "      <td>женат / замужем</td>\n",
       "      <td>0</td>\n",
       "      <td>F</td>\n",
       "      <td>сотрудник</td>\n",
       "      <td>0</td>\n",
       "      <td>253875</td>\n",
       "      <td>недвижимость</td>\n",
       "    </tr>\n",
       "    <tr>\n",
       "      <th>1</th>\n",
       "      <td>1</td>\n",
       "      <td>11</td>\n",
       "      <td>36</td>\n",
       "      <td>среднее</td>\n",
       "      <td>1</td>\n",
       "      <td>женат / замужем</td>\n",
       "      <td>0</td>\n",
       "      <td>F</td>\n",
       "      <td>сотрудник</td>\n",
       "      <td>0</td>\n",
       "      <td>112080</td>\n",
       "      <td>автомобиль</td>\n",
       "    </tr>\n",
       "    <tr>\n",
       "      <th>2</th>\n",
       "      <td>0</td>\n",
       "      <td>15</td>\n",
       "      <td>33</td>\n",
       "      <td>среднее</td>\n",
       "      <td>1</td>\n",
       "      <td>женат / замужем</td>\n",
       "      <td>0</td>\n",
       "      <td>M</td>\n",
       "      <td>сотрудник</td>\n",
       "      <td>0</td>\n",
       "      <td>145885</td>\n",
       "      <td>недвижимость</td>\n",
       "    </tr>\n",
       "    <tr>\n",
       "      <th>3</th>\n",
       "      <td>3</td>\n",
       "      <td>11</td>\n",
       "      <td>32</td>\n",
       "      <td>среднее</td>\n",
       "      <td>1</td>\n",
       "      <td>женат / замужем</td>\n",
       "      <td>0</td>\n",
       "      <td>M</td>\n",
       "      <td>сотрудник</td>\n",
       "      <td>0</td>\n",
       "      <td>267628</td>\n",
       "      <td>образование</td>\n",
       "    </tr>\n",
       "    <tr>\n",
       "      <th>4</th>\n",
       "      <td>0</td>\n",
       "      <td>9</td>\n",
       "      <td>53</td>\n",
       "      <td>среднее</td>\n",
       "      <td>1</td>\n",
       "      <td>гражданский брак</td>\n",
       "      <td>1</td>\n",
       "      <td>F</td>\n",
       "      <td>пенсионер</td>\n",
       "      <td>0</td>\n",
       "      <td>158616</td>\n",
       "      <td>свадьба</td>\n",
       "    </tr>\n",
       "    <tr>\n",
       "      <th>5</th>\n",
       "      <td>0</td>\n",
       "      <td>2</td>\n",
       "      <td>27</td>\n",
       "      <td>высшее</td>\n",
       "      <td>0</td>\n",
       "      <td>гражданский брак</td>\n",
       "      <td>1</td>\n",
       "      <td>M</td>\n",
       "      <td>компаньон</td>\n",
       "      <td>0</td>\n",
       "      <td>255763</td>\n",
       "      <td>недвижимость</td>\n",
       "    </tr>\n",
       "    <tr>\n",
       "      <th>6</th>\n",
       "      <td>0</td>\n",
       "      <td>7</td>\n",
       "      <td>43</td>\n",
       "      <td>высшее</td>\n",
       "      <td>0</td>\n",
       "      <td>женат / замужем</td>\n",
       "      <td>0</td>\n",
       "      <td>F</td>\n",
       "      <td>компаньон</td>\n",
       "      <td>0</td>\n",
       "      <td>240525</td>\n",
       "      <td>недвижимость</td>\n",
       "    </tr>\n",
       "    <tr>\n",
       "      <th>7</th>\n",
       "      <td>0</td>\n",
       "      <td>0</td>\n",
       "      <td>50</td>\n",
       "      <td>среднее</td>\n",
       "      <td>1</td>\n",
       "      <td>женат / замужем</td>\n",
       "      <td>0</td>\n",
       "      <td>M</td>\n",
       "      <td>сотрудник</td>\n",
       "      <td>0</td>\n",
       "      <td>135823</td>\n",
       "      <td>образование</td>\n",
       "    </tr>\n",
       "    <tr>\n",
       "      <th>8</th>\n",
       "      <td>2</td>\n",
       "      <td>18</td>\n",
       "      <td>35</td>\n",
       "      <td>высшее</td>\n",
       "      <td>0</td>\n",
       "      <td>гражданский брак</td>\n",
       "      <td>1</td>\n",
       "      <td>F</td>\n",
       "      <td>сотрудник</td>\n",
       "      <td>0</td>\n",
       "      <td>95856</td>\n",
       "      <td>свадьба</td>\n",
       "    </tr>\n",
       "    <tr>\n",
       "      <th>9</th>\n",
       "      <td>0</td>\n",
       "      <td>5</td>\n",
       "      <td>41</td>\n",
       "      <td>среднее</td>\n",
       "      <td>1</td>\n",
       "      <td>женат / замужем</td>\n",
       "      <td>0</td>\n",
       "      <td>M</td>\n",
       "      <td>сотрудник</td>\n",
       "      <td>0</td>\n",
       "      <td>144425</td>\n",
       "      <td>недвижимость</td>\n",
       "    </tr>\n",
       "  </tbody>\n",
       "</table>\n",
       "</div>"
      ],
      "text/plain": [
       "   children  years_employed  dob_years education  education_id  \\\n",
       "0         1              23         42    высшее             0   \n",
       "1         1              11         36   среднее             1   \n",
       "2         0              15         33   среднее             1   \n",
       "3         3              11         32   среднее             1   \n",
       "4         0               9         53   среднее             1   \n",
       "5         0               2         27    высшее             0   \n",
       "6         0               7         43    высшее             0   \n",
       "7         0               0         50   среднее             1   \n",
       "8         2              18         35    высшее             0   \n",
       "9         0               5         41   среднее             1   \n",
       "\n",
       "      family_status  family_status_id gender income_type  debt  total_income  \\\n",
       "0   женат / замужем                 0      F   сотрудник     0        253875   \n",
       "1   женат / замужем                 0      F   сотрудник     0        112080   \n",
       "2   женат / замужем                 0      M   сотрудник     0        145885   \n",
       "3   женат / замужем                 0      M   сотрудник     0        267628   \n",
       "4  гражданский брак                 1      F   пенсионер     0        158616   \n",
       "5  гражданский брак                 1      M   компаньон     0        255763   \n",
       "6   женат / замужем                 0      F   компаньон     0        240525   \n",
       "7   женат / замужем                 0      M   сотрудник     0        135823   \n",
       "8  гражданский брак                 1      F   сотрудник     0         95856   \n",
       "9   женат / замужем                 0      M   сотрудник     0        144425   \n",
       "\n",
       "        purpose  \n",
       "0  недвижимость  \n",
       "1    автомобиль  \n",
       "2  недвижимость  \n",
       "3   образование  \n",
       "4       свадьба  \n",
       "5  недвижимость  \n",
       "6  недвижимость  \n",
       "7   образование  \n",
       "8       свадьба  \n",
       "9  недвижимость  "
      ]
     },
     "metadata": {},
     "output_type": "display_data"
    }
   ],
   "source": [
    "new_list = data['purpose'].unique()\n",
    " \n",
    "purpose_vehicle = ['приобретение автомобиля', 'на покупку подержанного автомобиля', 'на покупку своего автомобиля', 'автомобили', 'сделка с подержанным автомобилем', 'автомобиль', 'свой автомобиль', 'сделка с автомобилем', 'на покупку автомобиля']\n",
    "purpose_real_estate = ['покупка жилья', 'операции с жильем', 'покупка жилья для семьи', 'покупка недвижимости', 'покупка коммерческой недвижимости', 'покупка жилой недвижимости', 'строительство собственной недвижимости', 'недвижимость', 'строительство недвижимости', 'операции с коммерческой недвижимостью', 'строительство жилой недвижимости', 'жилье', 'операции со своей недвижимостью', 'покупка своего жилья', 'операции с недвижимостью', 'покупка жилья для сдачи', 'ремонт жилью']\n",
    "purpose_wedding = ['сыграть свадьбу', 'на проведение свадьбы', 'свадьба']\n",
    "purpose_education = ['дополнительное образование', 'образование', 'заняться образованием', 'получение образования', 'получение дополнительного образования', 'получение высшего образования', 'профильное образование', 'высшее образование', 'заняться высшим образованием']\n",
    "\n",
    "def to_one_purpose(purpose):\n",
    "    if purpose in purpose_vehicle:\n",
    "        return 'автомобиль'\n",
    "    elif purpose in purpose_real_estate:\n",
    "        return 'недвижимость'\n",
    "    elif purpose in purpose_wedding:\n",
    "        return 'свадьба'\n",
    "    elif purpose in purpose_education:\n",
    "        return 'образование'\n",
    "\n",
    "data['purpose'] = data['purpose'].apply(to_one_purpose)\n",
    "display(data.head(10))"
   ]
  },
  {
   "cell_type": "markdown",
   "metadata": {},
   "source": [
    "### Категоризация данных"
   ]
  },
  {
   "cell_type": "markdown",
   "metadata": {},
   "source": [
    "#### Категоризация по количеству детей"
   ]
  },
  {
   "cell_type": "code",
   "execution_count": 11,
   "metadata": {},
   "outputs": [
    {
     "name": "stdout",
     "output_type": "stream",
     "text": [
      "children\n",
      "0    1063\n",
      "1     445\n",
      "2     202\n",
      "3      27\n",
      "4       4\n",
      "5       0\n",
      "Name: debt, dtype: int64\n"
     ]
    }
   ],
   "source": [
    "children_debt = data[['children', 'debt']]\n",
    "print(children_debt.groupby('children')['debt'].sum())"
   ]
  },
  {
   "cell_type": "markdown",
   "metadata": {},
   "source": [
    "#### Категоризация по семейному положению"
   ]
  },
  {
   "cell_type": "code",
   "execution_count": 12,
   "metadata": {},
   "outputs": [
    {
     "name": "stdout",
     "output_type": "stream",
     "text": [
      "family_status\n",
      "Не женат / не замужем    274\n",
      "в разводе                 85\n",
      "вдовец / вдова            63\n",
      "гражданский брак         388\n",
      "женат / замужем          931\n",
      "Name: debt, dtype: int64\n"
     ]
    }
   ],
   "source": [
    "family_status__debt = data[['family_status', 'debt']]\n",
    "print(family_status__debt.groupby('family_status')['debt'].sum())"
   ]
  },
  {
   "cell_type": "markdown",
   "metadata": {},
   "source": [
    "#### Категоризация по ежемесячному доходу"
   ]
  },
  {
   "cell_type": "code",
   "execution_count": 13,
   "metadata": {},
   "outputs": [
    {
     "name": "stdout",
     "output_type": "stream",
     "text": [
      "total_income\n",
      "высокий      14\n",
      "низкий      551\n",
      "средний    1176\n",
      "Name: debt, dtype: int64\n"
     ]
    }
   ],
   "source": [
    "def income(income):\n",
    "    if income >= 500000:\n",
    "        return 'высокий'\n",
    "    elif income >= 120000:\n",
    "        return 'средний'\n",
    "    else:\n",
    "        return 'низкий'\n",
    "\n",
    "total_income__debt = data[['total_income', 'debt']]\n",
    "total_income__debt['total_income'] = total_income__debt['total_income'].apply(income)\n",
    "print(total_income__debt.groupby('total_income')['debt'].sum())"
   ]
  },
  {
   "cell_type": "markdown",
   "metadata": {},
   "source": [
    "#### Категоризация по цели получения кредита"
   ]
  },
  {
   "cell_type": "code",
   "execution_count": 14,
   "metadata": {},
   "outputs": [
    {
     "name": "stdout",
     "output_type": "stream",
     "text": [
      "purpose\n",
      "автомобиль      403\n",
      "недвижимость    782\n",
      "образование     370\n",
      "свадьба         186\n",
      "Name: debt, dtype: int64\n"
     ]
    }
   ],
   "source": [
    "purpose_debt = data[['purpose', 'debt']]\n",
    "print(purpose_debt.groupby('purpose')['debt'].sum())"
   ]
  },
  {
   "cell_type": "markdown",
   "metadata": {},
   "source": [
    "# Шаг 3"
   ]
  },
  {
   "cell_type": "markdown",
   "metadata": {},
   "source": [
    "- Есть ли зависимость между наличием детей и возвратом кредита в срок?"
   ]
  },
  {
   "cell_type": "markdown",
   "metadata": {},
   "source": [
    "В ходе категоризации данных построили отдельную таблицу для столбцов children и debt.\n",
    "children_debt.groupby('children')['debt'].sum() показывает количество тех, у кого есть задолженность\n",
    "children_debt.groupby('children')['debt'].count() показывает количество всех заемщиков по количеству детей при делении первого на второе и умножении на 100 получим процент тех, у кого есть задолженность в процентах"
   ]
  },
  {
   "cell_type": "code",
   "execution_count": 15,
   "metadata": {},
   "outputs": [
    {
     "name": "stdout",
     "output_type": "stream",
     "text": [
      "children\n",
      "0    7.543822%\n",
      "1    9.165808%\n",
      "2    9.492481%\n",
      "3    8.181818%\n",
      "4    9.756098%\n",
      "5         0.0%\n",
      "Name: debt, dtype: object\n"
     ]
    }
   ],
   "source": [
    "print(((children_debt.groupby('children')['debt'].sum() / children_debt.groupby('children')['debt'].count())* 100).round(6).astype(str) + '%')"
   ]
  },
  {
   "cell_type": "markdown",
   "metadata": {},
   "source": [
    "**Вывод**: количество детей не сильно влияет на возврат кредита в срок, процент невозврата по всем категориям примерно одинаковый. Чуть больше задолженностей у тех, кто имеет 2 детей, больше всего у тех, у кого 4 детей. Исключение составляет только 5 детей, но стоит также учесть, что всего 9 заемщиков с 5 детьми, так что в данном случае отсутствие задолженностей не является показателем."
   ]
  },
  {
   "cell_type": "markdown",
   "metadata": {},
   "source": [
    "- Есть ли зависимость между семейным положением и возвратом кредита в срок?"
   ]
  },
  {
   "cell_type": "code",
   "execution_count": 16,
   "metadata": {},
   "outputs": [
    {
     "name": "stdout",
     "output_type": "stream",
     "text": [
      "family_status\n",
      "Не женат / не замужем     9.75089%\n",
      "в разводе                7.112971%\n",
      "вдовец / вдова           6.569343%\n",
      "гражданский брак         9.347145%\n",
      "женат / замужем          7.545182%\n",
      "Name: debt, dtype: object\n"
     ]
    }
   ],
   "source": [
    "print(((family_status__debt.groupby('family_status')['debt'].sum() / family_status__debt.groupby('family_status')['debt'].count()) * 100).round(6).astype(str) + '%')"
   ]
  },
  {
   "cell_type": "markdown",
   "metadata": {},
   "source": [
    "**Вывод**: здесь можно наблюдать уже больший разброс значений. Меньше всего задолженностей у вдовцов и людей в разводе. Не женатые люди являются главными задолжниками наровне с тем, кто состоит в гражданском браке."
   ]
  },
  {
   "cell_type": "markdown",
   "metadata": {},
   "source": [
    "- Есть ли зависимость между уровнем дохода и возвратом кредита в срок?"
   ]
  },
  {
   "cell_type": "code",
   "execution_count": 17,
   "metadata": {},
   "outputs": [
    {
     "name": "stdout",
     "output_type": "stream",
     "text": [
      "total_income\n",
      "высокий    6.306306%\n",
      "низкий     8.049671%\n",
      "средний    8.174046%\n",
      "Name: debt, dtype: object\n"
     ]
    }
   ],
   "source": [
    "print((total_income__debt.groupby('total_income')['debt'].sum() / total_income__debt.groupby('total_income')['debt'].count() * 100).round(6).astype(str) + '%')"
   ]
  },
  {
   "cell_type": "markdown",
   "metadata": {},
   "source": [
    "**Вывод**: в некоторой степени уровень дохода влияет на задолженность. Можно заметить, что у людей со средним и низким уровнем дохода примерно одинаковый уровень задолженностей, в то время как у людей с высоким доходом задолженностей на несколько процентов меньше."
   ]
  },
  {
   "cell_type": "markdown",
   "metadata": {},
   "source": [
    "- Как разные цели кредита влияют на его возврат в срок?"
   ]
  },
  {
   "cell_type": "code",
   "execution_count": 18,
   "metadata": {},
   "outputs": [
    {
     "name": "stdout",
     "output_type": "stream",
     "text": [
      "purpose\n",
      "автомобиль      9.359034%\n",
      "недвижимость    7.233373%\n",
      "образование     9.220035%\n",
      "свадьба         8.003442%\n",
      "Name: debt, dtype: object\n"
     ]
    }
   ],
   "source": [
    "print((purpose_debt.groupby('purpose')['debt'].sum() / purpose_debt.groupby('purpose')['debt'].count() * 100).round(6).astype(str) + '%')"
   ]
  },
  {
   "cell_type": "markdown",
   "metadata": {},
   "source": [
    "**Вывод**: в ходе процентного соотношения можно сделать вывод, что больше всего задолжников из числа тех, кто берет кредит на автомобиль и образование. Те, кто берут кредит на небольшие или наоборот очень большие суммы возвращают кредит в срок."
   ]
  },
  {
   "cell_type": "markdown",
   "metadata": {},
   "source": [
    "## Шаг 4. Общий вывод"
   ]
  },
  {
   "cell_type": "markdown",
   "metadata": {},
   "source": [
    "Иходные данные были очищены от пропусков, дубликатов, аномальных значений, также были приведены в единому регистру и категоризованы для дальнеших выводов. Было выяснено, что различные факторы стоит учитывать при выдаче кредита: наличие детей, семейное положение, цель взятия кредита и многое другое. Даже пару процентов уже стоит учитывать, выбирая самого надежного заемщика."
   ]
  }
 ],
 "metadata": {
  "ExecuteTimeLog": [
   {
    "duration": 514,
    "start_time": "2021-09-19T12:19:19.975Z"
   },
   {
    "duration": 701,
    "start_time": "2021-09-19T12:19:28.355Z"
   },
   {
    "duration": 54,
    "start_time": "2021-09-19T12:20:25.652Z"
   },
   {
    "duration": 66,
    "start_time": "2021-09-19T12:28:03.577Z"
   },
   {
    "duration": 379,
    "start_time": "2021-09-19T12:41:22.728Z"
   },
   {
    "duration": 7,
    "start_time": "2021-09-19T12:41:34.239Z"
   },
   {
    "duration": 5,
    "start_time": "2021-09-19T12:41:47.739Z"
   },
   {
    "duration": 4,
    "start_time": "2021-09-19T12:49:55.261Z"
   },
   {
    "duration": 5,
    "start_time": "2021-09-19T12:50:06.908Z"
   },
   {
    "duration": 6,
    "start_time": "2021-09-19T12:54:00.091Z"
   },
   {
    "duration": 9073,
    "start_time": "2021-09-19T12:58:29.845Z"
   },
   {
    "duration": 8914,
    "start_time": "2021-09-19T12:58:42.898Z"
   },
   {
    "duration": 15,
    "start_time": "2021-09-19T12:59:28.473Z"
   },
   {
    "duration": 11329,
    "start_time": "2021-09-19T13:22:30.429Z"
   },
   {
    "duration": 5,
    "start_time": "2021-09-19T13:22:49.861Z"
   },
   {
    "duration": 13,
    "start_time": "2021-09-19T13:22:58.606Z"
   },
   {
    "duration": 14,
    "start_time": "2021-09-19T13:27:48.677Z"
   },
   {
    "duration": 14,
    "start_time": "2021-09-19T13:28:01.031Z"
   },
   {
    "duration": 16,
    "start_time": "2021-09-19T13:28:06.983Z"
   },
   {
    "duration": 14,
    "start_time": "2021-09-19T13:28:13.526Z"
   },
   {
    "duration": 14,
    "start_time": "2021-09-19T13:28:35.642Z"
   },
   {
    "duration": 12,
    "start_time": "2021-09-19T13:29:17.212Z"
   },
   {
    "duration": 61,
    "start_time": "2021-09-19T13:29:21.432Z"
   },
   {
    "duration": 12,
    "start_time": "2021-09-19T13:29:29.255Z"
   },
   {
    "duration": 13,
    "start_time": "2021-09-19T13:29:36.017Z"
   },
   {
    "duration": 61,
    "start_time": "2021-09-19T13:29:45.371Z"
   },
   {
    "duration": 13,
    "start_time": "2021-09-19T13:29:47.414Z"
   },
   {
    "duration": 12,
    "start_time": "2021-09-19T13:30:05.480Z"
   },
   {
    "duration": 116,
    "start_time": "2021-09-19T13:31:55.272Z"
   },
   {
    "duration": 407,
    "start_time": "2021-09-19T13:32:27.773Z"
   },
   {
    "duration": 16,
    "start_time": "2021-09-19T13:32:34.202Z"
   },
   {
    "duration": 14,
    "start_time": "2021-09-19T13:33:54.266Z"
   },
   {
    "duration": 7,
    "start_time": "2021-09-19T13:34:01.242Z"
   },
   {
    "duration": 356,
    "start_time": "2021-09-19T13:35:00.727Z"
   },
   {
    "duration": 9,
    "start_time": "2021-09-19T13:35:15.236Z"
   },
   {
    "duration": 8,
    "start_time": "2021-09-19T13:37:39.656Z"
   },
   {
    "duration": 8,
    "start_time": "2021-09-19T13:37:58.668Z"
   },
   {
    "duration": 62,
    "start_time": "2021-09-19T13:38:57.837Z"
   },
   {
    "duration": 15,
    "start_time": "2021-09-19T13:39:00.369Z"
   },
   {
    "duration": 13,
    "start_time": "2021-09-19T13:39:05.366Z"
   },
   {
    "duration": 15,
    "start_time": "2021-09-19T13:49:25.384Z"
   },
   {
    "duration": 11,
    "start_time": "2021-09-19T13:49:35.019Z"
   },
   {
    "duration": 52,
    "start_time": "2021-09-19T14:53:19.853Z"
   },
   {
    "duration": 52,
    "start_time": "2021-09-19T14:53:47.965Z"
   },
   {
    "duration": 61,
    "start_time": "2021-09-19T14:55:18.154Z"
   },
   {
    "duration": 19,
    "start_time": "2021-09-19T15:00:20.431Z"
   },
   {
    "duration": 9,
    "start_time": "2021-09-19T15:02:44.887Z"
   },
   {
    "duration": 15,
    "start_time": "2021-09-19T15:02:57.380Z"
   },
   {
    "duration": 10,
    "start_time": "2021-09-19T15:03:08.206Z"
   },
   {
    "duration": 12,
    "start_time": "2021-09-19T15:03:22.559Z"
   },
   {
    "duration": 13,
    "start_time": "2021-09-19T15:03:35.145Z"
   },
   {
    "duration": 13,
    "start_time": "2021-09-19T15:03:43.977Z"
   },
   {
    "duration": 60,
    "start_time": "2021-09-19T15:03:50.284Z"
   },
   {
    "duration": 17,
    "start_time": "2021-09-19T15:03:52.325Z"
   },
   {
    "duration": 16,
    "start_time": "2021-09-19T15:03:59.790Z"
   },
   {
    "duration": 113,
    "start_time": "2021-09-19T15:05:46.317Z"
   },
   {
    "duration": 338,
    "start_time": "2021-09-19T15:05:50.995Z"
   },
   {
    "duration": 386,
    "start_time": "2021-09-19T15:06:12.776Z"
   },
   {
    "duration": 1351,
    "start_time": "2021-09-19T15:15:19.236Z"
   },
   {
    "duration": 359,
    "start_time": "2021-09-19T15:15:31.176Z"
   },
   {
    "duration": 1166,
    "start_time": "2021-09-19T15:15:43.941Z"
   },
   {
    "duration": 358,
    "start_time": "2021-09-19T15:15:57.943Z"
   },
   {
    "duration": 115,
    "start_time": "2021-09-19T15:17:41.409Z"
   },
   {
    "duration": 120,
    "start_time": "2021-09-19T15:18:00.910Z"
   },
   {
    "duration": 125,
    "start_time": "2021-09-19T15:18:10.263Z"
   },
   {
    "duration": 545,
    "start_time": "2021-09-19T15:18:19.625Z"
   },
   {
    "duration": 827,
    "start_time": "2021-09-19T16:47:17.476Z"
   },
   {
    "duration": 514,
    "start_time": "2021-09-19T16:47:24.673Z"
   },
   {
    "duration": 58,
    "start_time": "2021-09-19T16:48:01.350Z"
   },
   {
    "duration": 130,
    "start_time": "2021-09-19T16:55:13.994Z"
   },
   {
    "duration": 36,
    "start_time": "2021-09-19T16:55:20.367Z"
   },
   {
    "duration": 971,
    "start_time": "2021-09-19T16:56:15.565Z"
   },
   {
    "duration": 40,
    "start_time": "2021-09-19T16:56:25.296Z"
   },
   {
    "duration": 27,
    "start_time": "2021-09-19T16:56:35.748Z"
   },
   {
    "duration": 81,
    "start_time": "2021-09-19T16:56:46.660Z"
   },
   {
    "duration": 93,
    "start_time": "2021-09-19T16:56:53.895Z"
   },
   {
    "duration": 17,
    "start_time": "2021-09-19T16:56:56.485Z"
   },
   {
    "duration": 46,
    "start_time": "2021-09-19T17:12:43.623Z"
   },
   {
    "duration": 52,
    "start_time": "2021-09-19T17:14:04.354Z"
   },
   {
    "duration": 42,
    "start_time": "2021-09-19T17:14:08.397Z"
   },
   {
    "duration": 80,
    "start_time": "2021-09-19T17:14:18.075Z"
   },
   {
    "duration": 93,
    "start_time": "2021-09-19T17:14:19.676Z"
   },
   {
    "duration": 400,
    "start_time": "2021-09-19T17:14:21.731Z"
   },
   {
    "duration": 45,
    "start_time": "2021-09-19T17:14:24.779Z"
   },
   {
    "duration": 47,
    "start_time": "2021-09-19T17:14:27.772Z"
   },
   {
    "duration": 52,
    "start_time": "2021-09-19T17:14:29.736Z"
   },
   {
    "duration": 43,
    "start_time": "2021-09-19T17:14:33.752Z"
   },
   {
    "duration": 92,
    "start_time": "2021-09-19T17:14:38.997Z"
   },
   {
    "duration": 407,
    "start_time": "2021-09-19T17:14:42.265Z"
   },
   {
    "duration": 87,
    "start_time": "2021-09-19T17:15:26.424Z"
   },
   {
    "duration": 411,
    "start_time": "2021-09-19T17:15:28.694Z"
   },
   {
    "duration": 4770,
    "start_time": "2021-09-19T17:19:55.044Z"
   },
   {
    "duration": 6753,
    "start_time": "2021-09-19T17:20:33.919Z"
   },
   {
    "duration": 22,
    "start_time": "2021-09-19T17:21:29.195Z"
   },
   {
    "duration": 85,
    "start_time": "2021-09-19T17:21:34.125Z"
   },
   {
    "duration": 23,
    "start_time": "2021-09-19T17:21:38.203Z"
   },
   {
    "duration": 27,
    "start_time": "2021-09-19T17:23:06.849Z"
   },
   {
    "duration": 79,
    "start_time": "2021-09-19T17:23:18.074Z"
   },
   {
    "duration": 79,
    "start_time": "2021-09-19T17:23:19.374Z"
   },
   {
    "duration": 78,
    "start_time": "2021-09-19T17:23:19.798Z"
   },
   {
    "duration": 78,
    "start_time": "2021-09-19T17:23:21.172Z"
   },
   {
    "duration": 25,
    "start_time": "2021-09-19T17:23:23.852Z"
   },
   {
    "duration": 21,
    "start_time": "2021-09-19T17:23:49.204Z"
   },
   {
    "duration": 85,
    "start_time": "2021-09-19T17:24:00.634Z"
   },
   {
    "duration": 23,
    "start_time": "2021-09-19T17:24:02.571Z"
   },
   {
    "duration": 21,
    "start_time": "2021-09-19T17:24:12.235Z"
   },
   {
    "duration": 22,
    "start_time": "2021-09-19T17:24:19.502Z"
   },
   {
    "duration": 457,
    "start_time": "2021-09-19T17:25:03.551Z"
   },
   {
    "duration": 378,
    "start_time": "2021-09-19T17:25:07.274Z"
   },
   {
    "duration": 389,
    "start_time": "2021-09-19T17:25:21.510Z"
   },
   {
    "duration": 4689,
    "start_time": "2021-09-19T17:25:54.688Z"
   },
   {
    "duration": 23,
    "start_time": "2021-09-19T17:26:19.189Z"
   },
   {
    "duration": 23,
    "start_time": "2021-09-19T17:26:22.651Z"
   },
   {
    "duration": 407,
    "start_time": "2021-09-19T17:27:38.518Z"
   },
   {
    "duration": 379,
    "start_time": "2021-09-19T17:29:34.408Z"
   },
   {
    "duration": 35,
    "start_time": "2021-09-19T17:34:46.746Z"
   },
   {
    "duration": 15,
    "start_time": "2021-09-19T17:35:08.067Z"
   },
   {
    "duration": 23,
    "start_time": "2021-09-19T17:35:50.047Z"
   },
   {
    "duration": 22,
    "start_time": "2021-09-19T17:35:56.445Z"
   },
   {
    "duration": 22,
    "start_time": "2021-09-19T17:36:36.448Z"
   },
   {
    "duration": 21,
    "start_time": "2021-09-19T17:36:42.827Z"
   },
   {
    "duration": 20,
    "start_time": "2021-09-19T17:36:49.129Z"
   },
   {
    "duration": 20,
    "start_time": "2021-09-19T17:37:48.284Z"
   },
   {
    "duration": 438,
    "start_time": "2021-09-19T17:38:14.510Z"
   },
   {
    "duration": 26,
    "start_time": "2021-09-19T17:38:41.951Z"
   },
   {
    "duration": 22,
    "start_time": "2021-09-19T17:39:35.919Z"
   },
   {
    "duration": 15,
    "start_time": "2021-09-19T17:40:11.926Z"
   },
   {
    "duration": 16,
    "start_time": "2021-09-19T17:40:48.112Z"
   },
   {
    "duration": 15,
    "start_time": "2021-09-19T17:41:13.272Z"
   },
   {
    "duration": 19,
    "start_time": "2021-09-19T17:42:00.649Z"
   },
   {
    "duration": 20,
    "start_time": "2021-09-19T17:42:19.425Z"
   },
   {
    "duration": 20,
    "start_time": "2021-09-19T17:43:40.584Z"
   },
   {
    "duration": 19,
    "start_time": "2021-09-19T17:43:50.507Z"
   },
   {
    "duration": 17,
    "start_time": "2021-09-19T17:44:44.895Z"
   },
   {
    "duration": 14,
    "start_time": "2021-09-19T17:44:59.586Z"
   },
   {
    "duration": 511,
    "start_time": "2021-09-19T17:45:12.560Z"
   },
   {
    "duration": 376,
    "start_time": "2021-09-19T17:45:19.160Z"
   },
   {
    "duration": 16,
    "start_time": "2021-09-19T17:45:34.211Z"
   },
   {
    "duration": 15,
    "start_time": "2021-09-19T17:45:38.145Z"
   },
   {
    "duration": 16,
    "start_time": "2021-09-19T17:45:58.736Z"
   },
   {
    "duration": 15,
    "start_time": "2021-09-19T17:46:09.760Z"
   },
   {
    "duration": 77,
    "start_time": "2021-09-19T17:46:15.213Z"
   },
   {
    "duration": 16,
    "start_time": "2021-09-19T17:46:17.254Z"
   },
   {
    "duration": 17,
    "start_time": "2021-09-19T17:46:37.151Z"
   },
   {
    "duration": 14,
    "start_time": "2021-09-19T17:46:47.990Z"
   },
   {
    "duration": 20,
    "start_time": "2021-09-19T17:49:41.329Z"
   },
   {
    "duration": 13,
    "start_time": "2021-09-19T17:53:29.842Z"
   },
   {
    "duration": 13,
    "start_time": "2021-09-19T17:56:04.830Z"
   },
   {
    "duration": 16,
    "start_time": "2021-09-19T17:56:37.037Z"
   },
   {
    "duration": 354,
    "start_time": "2021-09-19T17:56:45.348Z"
   },
   {
    "duration": 4559,
    "start_time": "2021-09-19T17:56:55.303Z"
   },
   {
    "duration": 83,
    "start_time": "2021-09-19T17:57:07.194Z"
   },
   {
    "duration": 22,
    "start_time": "2021-09-19T17:57:09.344Z"
   },
   {
    "duration": 80,
    "start_time": "2021-09-19T17:57:20.558Z"
   },
   {
    "duration": 20,
    "start_time": "2021-09-19T17:57:22.844Z"
   },
   {
    "duration": 2664,
    "start_time": "2021-09-19T18:00:07.733Z"
   },
   {
    "duration": 2648,
    "start_time": "2021-09-19T18:01:16.435Z"
   },
   {
    "duration": 18,
    "start_time": "2021-09-19T18:01:26.344Z"
   },
   {
    "duration": 18,
    "start_time": "2021-09-19T18:01:32.809Z"
   },
   {
    "duration": 19,
    "start_time": "2021-09-19T18:03:38.815Z"
   },
   {
    "duration": 15,
    "start_time": "2021-09-19T18:04:09.664Z"
   },
   {
    "duration": 16,
    "start_time": "2021-09-19T18:04:14.520Z"
   },
   {
    "duration": 19,
    "start_time": "2021-09-19T18:06:28.558Z"
   },
   {
    "duration": 16,
    "start_time": "2021-09-19T18:06:34.023Z"
   },
   {
    "duration": 21,
    "start_time": "2021-09-19T18:06:37.477Z"
   },
   {
    "duration": 21,
    "start_time": "2021-09-19T18:06:42.888Z"
   },
   {
    "duration": 21,
    "start_time": "2021-09-19T18:06:57.782Z"
   },
   {
    "duration": 26,
    "start_time": "2021-09-19T18:07:02.007Z"
   },
   {
    "duration": 26,
    "start_time": "2021-09-19T18:07:10.440Z"
   },
   {
    "duration": 26,
    "start_time": "2021-09-19T18:07:12.508Z"
   },
   {
    "duration": 25,
    "start_time": "2021-09-19T18:07:14.381Z"
   },
   {
    "duration": 21,
    "start_time": "2021-09-19T18:07:19.854Z"
   },
   {
    "duration": 22,
    "start_time": "2021-09-19T18:07:22.352Z"
   },
   {
    "duration": 22,
    "start_time": "2021-09-19T18:07:24.639Z"
   },
   {
    "duration": 28,
    "start_time": "2021-09-19T18:07:37.135Z"
   },
   {
    "duration": 20,
    "start_time": "2021-09-19T18:08:42.389Z"
   },
   {
    "duration": 16,
    "start_time": "2021-09-19T18:08:58.494Z"
   },
   {
    "duration": 15,
    "start_time": "2021-09-19T18:09:01.157Z"
   },
   {
    "duration": 22,
    "start_time": "2021-09-19T18:09:48.712Z"
   },
   {
    "duration": 80,
    "start_time": "2021-09-19T18:09:51.886Z"
   },
   {
    "duration": 18,
    "start_time": "2021-09-19T18:09:54.930Z"
   },
   {
    "duration": 19,
    "start_time": "2021-09-19T18:10:00.387Z"
   },
   {
    "duration": 23,
    "start_time": "2021-09-19T18:12:15.670Z"
   },
   {
    "duration": 78,
    "start_time": "2021-09-19T18:12:20.211Z"
   },
   {
    "duration": 21,
    "start_time": "2021-09-19T18:12:22.973Z"
   },
   {
    "duration": 77,
    "start_time": "2021-09-19T18:13:14.879Z"
   },
   {
    "duration": 32,
    "start_time": "2021-09-19T18:13:16.683Z"
   },
   {
    "duration": 658,
    "start_time": "2021-09-20T13:31:49.656Z"
   },
   {
    "duration": 25,
    "start_time": "2021-09-20T13:31:54.900Z"
   },
   {
    "duration": 12,
    "start_time": "2021-09-20T13:31:57.822Z"
   },
   {
    "duration": 17,
    "start_time": "2021-09-20T13:32:00.252Z"
   },
   {
    "duration": 40,
    "start_time": "2021-09-20T13:34:19.217Z"
   },
   {
    "duration": 35,
    "start_time": "2021-09-20T13:34:34.088Z"
   },
   {
    "duration": 83,
    "start_time": "2021-09-20T14:36:19.914Z"
   },
   {
    "duration": 78,
    "start_time": "2021-09-20T14:36:28.970Z"
   },
   {
    "duration": 310,
    "start_time": "2021-09-20T14:36:34.493Z"
   },
   {
    "duration": 267,
    "start_time": "2021-09-20T14:40:19.731Z"
   },
   {
    "duration": 249,
    "start_time": "2021-09-20T14:40:51.493Z"
   },
   {
    "duration": 5,
    "start_time": "2021-09-20T14:43:03.310Z"
   },
   {
    "duration": 115,
    "start_time": "2021-09-20T14:43:09.700Z"
   },
   {
    "duration": 5,
    "start_time": "2021-09-20T14:43:15.845Z"
   },
   {
    "duration": 253,
    "start_time": "2021-09-20T14:43:25.480Z"
   },
   {
    "duration": 5,
    "start_time": "2021-09-20T14:43:33.492Z"
   },
   {
    "duration": 265,
    "start_time": "2021-09-20T14:44:18.852Z"
   },
   {
    "duration": 5,
    "start_time": "2021-09-20T14:45:31.955Z"
   },
   {
    "duration": 560,
    "start_time": "2021-09-20T14:52:50.918Z"
   },
   {
    "duration": 6,
    "start_time": "2021-09-20T15:57:13.134Z"
   },
   {
    "duration": 996,
    "start_time": "2021-09-21T10:33:36.541Z"
   },
   {
    "duration": 83,
    "start_time": "2021-09-21T10:33:37.540Z"
   },
   {
    "duration": 19,
    "start_time": "2021-09-21T10:33:37.626Z"
   },
   {
    "duration": 124,
    "start_time": "2021-09-21T10:33:37.647Z"
   },
   {
    "duration": 164,
    "start_time": "2021-09-21T10:33:37.823Z"
   },
   {
    "duration": 126,
    "start_time": "2021-09-21T15:55:46.460Z"
   },
   {
    "duration": 129,
    "start_time": "2021-09-21T15:55:58.759Z"
   },
   {
    "duration": 139,
    "start_time": "2021-09-21T15:56:12.104Z"
   },
   {
    "duration": 443,
    "start_time": "2021-09-21T16:04:57.329Z"
   },
   {
    "duration": 866,
    "start_time": "2021-09-21T16:05:06.961Z"
   },
   {
    "duration": 39,
    "start_time": "2021-09-21T16:05:11.377Z"
   },
   {
    "duration": 19,
    "start_time": "2021-09-21T16:05:14.623Z"
   },
   {
    "duration": 57,
    "start_time": "2021-09-21T16:05:17.835Z"
   },
   {
    "duration": 33,
    "start_time": "2021-09-21T16:05:20.241Z"
   },
   {
    "duration": 34,
    "start_time": "2021-09-21T16:05:30.805Z"
   },
   {
    "duration": 9,
    "start_time": "2021-09-21T16:10:18.747Z"
   },
   {
    "duration": 40,
    "start_time": "2021-09-21T16:12:34.705Z"
   },
   {
    "duration": 19,
    "start_time": "2021-09-21T16:12:36.381Z"
   },
   {
    "duration": 58,
    "start_time": "2021-09-21T16:12:37.416Z"
   },
   {
    "duration": 32,
    "start_time": "2021-09-21T16:12:38.509Z"
   },
   {
    "duration": 11,
    "start_time": "2021-09-21T16:12:42.142Z"
   },
   {
    "duration": 37,
    "start_time": "2021-09-21T16:12:53.588Z"
   },
   {
    "duration": 19,
    "start_time": "2021-09-21T16:12:54.927Z"
   },
   {
    "duration": 57,
    "start_time": "2021-09-21T16:12:56.066Z"
   },
   {
    "duration": 30,
    "start_time": "2021-09-21T16:12:57.601Z"
   },
   {
    "duration": 82,
    "start_time": "2021-09-21T16:13:19.415Z"
   },
   {
    "duration": 42,
    "start_time": "2021-09-21T16:13:22.794Z"
   },
   {
    "duration": 18,
    "start_time": "2021-09-21T16:13:27.390Z"
   },
   {
    "duration": 55,
    "start_time": "2021-09-21T16:13:28.509Z"
   },
   {
    "duration": 31,
    "start_time": "2021-09-21T16:13:29.603Z"
   },
   {
    "duration": 9,
    "start_time": "2021-09-21T16:13:31.405Z"
   },
   {
    "duration": 16,
    "start_time": "2021-09-21T16:21:41.744Z"
   },
   {
    "duration": 25,
    "start_time": "2021-09-21T16:28:30.407Z"
   },
   {
    "duration": 23,
    "start_time": "2021-09-21T16:39:37.599Z"
   },
   {
    "duration": 23,
    "start_time": "2021-09-21T16:39:45.522Z"
   },
   {
    "duration": 24,
    "start_time": "2021-09-21T16:39:50.812Z"
   },
   {
    "duration": 24,
    "start_time": "2021-09-21T16:40:05.508Z"
   },
   {
    "duration": 84,
    "start_time": "2021-09-21T16:40:36.656Z"
   },
   {
    "duration": 48,
    "start_time": "2021-09-21T16:40:40.688Z"
   },
   {
    "duration": 82,
    "start_time": "2021-09-21T16:41:17.054Z"
   },
   {
    "duration": 22,
    "start_time": "2021-09-21T16:45:38.632Z"
   },
   {
    "duration": 419,
    "start_time": "2021-09-21T16:56:21.155Z"
   },
   {
    "duration": 582,
    "start_time": "2021-09-21T16:56:23.551Z"
   },
   {
    "duration": 41,
    "start_time": "2021-09-21T16:56:41.528Z"
   },
   {
    "duration": 79,
    "start_time": "2021-09-21T16:57:05.867Z"
   },
   {
    "duration": 23,
    "start_time": "2021-09-21T16:57:07.848Z"
   },
   {
    "duration": 19,
    "start_time": "2021-09-21T16:57:09.750Z"
   },
   {
    "duration": 58,
    "start_time": "2021-09-21T16:57:12.170Z"
   },
   {
    "duration": 34,
    "start_time": "2021-09-21T16:57:14.695Z"
   },
   {
    "duration": 42,
    "start_time": "2021-09-21T16:57:16.842Z"
   },
   {
    "duration": 159,
    "start_time": "2021-09-21T18:15:10.652Z"
   },
   {
    "duration": 390,
    "start_time": "2021-09-21T18:15:48.384Z"
   },
   {
    "duration": 461,
    "start_time": "2021-09-21T18:16:20.226Z"
   },
   {
    "duration": 453,
    "start_time": "2021-09-21T18:17:02.369Z"
   },
   {
    "duration": 146,
    "start_time": "2021-09-21T18:17:11.995Z"
   },
   {
    "duration": 155,
    "start_time": "2021-09-21T18:17:23.738Z"
   },
   {
    "duration": 11605,
    "start_time": "2021-09-21T18:18:12.476Z"
   },
   {
    "duration": 47,
    "start_time": "2021-09-21T18:19:20.829Z"
   },
   {
    "duration": 10173,
    "start_time": "2021-09-21T18:19:41.439Z"
   },
   {
    "duration": 379,
    "start_time": "2021-09-21T18:20:40.863Z"
   },
   {
    "duration": 39,
    "start_time": "2021-09-21T18:21:45.193Z"
   },
   {
    "duration": 41,
    "start_time": "2021-09-21T18:22:28.612Z"
   },
   {
    "duration": 83,
    "start_time": "2021-09-21T18:23:23.979Z"
   },
   {
    "duration": 43,
    "start_time": "2021-09-21T18:23:26.339Z"
   },
   {
    "duration": 40,
    "start_time": "2021-09-21T18:24:46.050Z"
   },
   {
    "duration": 59,
    "start_time": "2021-09-21T18:26:32.057Z"
   },
   {
    "duration": 85,
    "start_time": "2021-09-21T18:26:47.611Z"
   },
   {
    "duration": 65,
    "start_time": "2021-09-21T18:26:50.590Z"
   },
   {
    "duration": 77,
    "start_time": "2021-09-21T18:53:41.173Z"
   },
   {
    "duration": 972,
    "start_time": "2021-09-21T18:53:55.531Z"
   },
   {
    "duration": 2320,
    "start_time": "2021-09-21T18:54:41.750Z"
   },
   {
    "duration": 409,
    "start_time": "2021-09-21T18:54:55.226Z"
   },
   {
    "duration": 81,
    "start_time": "2021-09-21T18:56:03.248Z"
   },
   {
    "duration": 417,
    "start_time": "2021-09-21T18:56:05.697Z"
   },
   {
    "duration": 432,
    "start_time": "2021-09-21T19:04:02.079Z"
   },
   {
    "duration": 73,
    "start_time": "2021-09-21T19:04:10.367Z"
   },
   {
    "duration": 57,
    "start_time": "2021-09-21T19:04:20.753Z"
   },
   {
    "duration": 514,
    "start_time": "2021-09-21T19:14:07.069Z"
   },
   {
    "duration": 59,
    "start_time": "2021-09-21T19:19:55.233Z"
   },
   {
    "duration": 576,
    "start_time": "2021-09-21T19:25:29.865Z"
   },
   {
    "duration": 9732,
    "start_time": "2021-09-21T19:26:38.845Z"
   },
   {
    "duration": 520,
    "start_time": "2021-09-21T19:27:25.839Z"
   },
   {
    "duration": 433,
    "start_time": "2021-09-21T19:30:53.323Z"
   },
   {
    "duration": 120,
    "start_time": "2021-09-21T19:33:52.080Z"
   },
   {
    "duration": 129,
    "start_time": "2021-09-21T19:34:01.683Z"
   },
   {
    "duration": 348,
    "start_time": "2021-09-22T15:19:49.698Z"
   },
   {
    "duration": 850,
    "start_time": "2021-09-22T15:20:01.434Z"
   },
   {
    "duration": 68,
    "start_time": "2021-09-22T15:20:05.205Z"
   },
   {
    "duration": 84,
    "start_time": "2021-09-22T15:20:16.540Z"
   },
   {
    "duration": 80,
    "start_time": "2021-09-22T15:26:18.203Z"
   },
   {
    "duration": 78,
    "start_time": "2021-09-22T15:26:21.524Z"
   },
   {
    "duration": 21,
    "start_time": "2021-09-22T15:27:52.780Z"
   },
   {
    "duration": 58,
    "start_time": "2021-09-22T15:27:59.163Z"
   },
   {
    "duration": 40,
    "start_time": "2021-09-22T15:28:06.958Z"
   },
   {
    "duration": 42,
    "start_time": "2021-09-22T15:28:12.372Z"
   },
   {
    "duration": 929,
    "start_time": "2021-09-23T06:44:31.293Z"
   },
   {
    "duration": 74,
    "start_time": "2021-09-23T06:44:32.225Z"
   },
   {
    "duration": 30,
    "start_time": "2021-09-23T06:44:32.301Z"
   },
   {
    "duration": 56,
    "start_time": "2021-09-23T06:44:32.335Z"
   },
   {
    "duration": 56,
    "start_time": "2021-09-23T06:44:32.394Z"
   },
   {
    "duration": 41,
    "start_time": "2021-09-23T06:44:32.452Z"
   },
   {
    "duration": 210,
    "start_time": "2021-09-23T16:29:36.029Z"
   },
   {
    "duration": 568,
    "start_time": "2021-09-23T16:29:43.745Z"
   },
   {
    "duration": 51,
    "start_time": "2021-09-23T16:29:45.539Z"
   },
   {
    "duration": 14,
    "start_time": "2021-09-23T16:29:47.418Z"
   },
   {
    "duration": 38,
    "start_time": "2021-09-23T16:29:48.605Z"
   },
   {
    "duration": 21,
    "start_time": "2021-09-23T16:29:49.760Z"
   },
   {
    "duration": 28,
    "start_time": "2021-09-23T16:29:51.346Z"
   },
   {
    "duration": 4,
    "start_time": "2021-09-23T16:29:53.009Z"
   },
   {
    "duration": 216,
    "start_time": "2021-09-23T16:30:24.841Z"
   },
   {
    "duration": 173,
    "start_time": "2021-09-23T16:30:31.013Z"
   },
   {
    "duration": 337,
    "start_time": "2021-09-24T17:16:45.089Z"
   },
   {
    "duration": 628,
    "start_time": "2021-09-24T17:18:44.782Z"
   },
   {
    "duration": 56,
    "start_time": "2021-09-24T17:18:47.365Z"
   },
   {
    "duration": 14,
    "start_time": "2021-09-24T17:18:51.201Z"
   },
   {
    "duration": 42,
    "start_time": "2021-09-24T17:18:51.461Z"
   },
   {
    "duration": 26,
    "start_time": "2021-09-24T17:18:52.856Z"
   },
   {
    "duration": 29,
    "start_time": "2021-09-24T17:18:55.608Z"
   },
   {
    "duration": 10,
    "start_time": "2021-09-24T17:18:59.949Z"
   },
   {
    "duration": 9,
    "start_time": "2021-09-24T17:19:30.463Z"
   },
   {
    "duration": 10,
    "start_time": "2021-09-24T17:19:39.992Z"
   },
   {
    "duration": 8,
    "start_time": "2021-09-24T17:19:48.299Z"
   },
   {
    "duration": 9,
    "start_time": "2021-09-24T17:20:02.268Z"
   },
   {
    "duration": 7,
    "start_time": "2021-09-24T17:20:09.382Z"
   },
   {
    "duration": 7,
    "start_time": "2021-09-24T17:20:27.456Z"
   },
   {
    "duration": 292,
    "start_time": "2021-09-24T17:21:23.120Z"
   },
   {
    "duration": 3,
    "start_time": "2021-09-24T17:21:50.841Z"
   },
   {
    "duration": 6,
    "start_time": "2021-09-24T17:21:57.067Z"
   },
   {
    "duration": 293,
    "start_time": "2021-09-24T17:22:19.906Z"
   },
   {
    "duration": 1073,
    "start_time": "2021-09-24T17:22:32.920Z"
   },
   {
    "duration": 7,
    "start_time": "2021-09-24T17:22:58.176Z"
   },
   {
    "duration": 8,
    "start_time": "2021-09-24T17:24:10.701Z"
   },
   {
    "duration": 6,
    "start_time": "2021-09-24T17:24:38.456Z"
   },
   {
    "duration": 6,
    "start_time": "2021-09-24T17:24:51.570Z"
   },
   {
    "duration": 6,
    "start_time": "2021-09-24T17:26:36.009Z"
   },
   {
    "duration": 6,
    "start_time": "2021-09-24T17:39:58.437Z"
   },
   {
    "duration": 8,
    "start_time": "2021-09-24T17:41:27.402Z"
   },
   {
    "duration": 8,
    "start_time": "2021-09-24T17:41:43.745Z"
   },
   {
    "duration": 306,
    "start_time": "2021-09-24T17:43:12.348Z"
   },
   {
    "duration": 10,
    "start_time": "2021-09-24T17:43:38.655Z"
   },
   {
    "duration": 312,
    "start_time": "2021-09-24T17:43:50.802Z"
   },
   {
    "duration": 284,
    "start_time": "2021-09-24T17:44:12.143Z"
   },
   {
    "duration": 271,
    "start_time": "2021-09-24T17:44:49.536Z"
   },
   {
    "duration": 8,
    "start_time": "2021-09-24T17:44:55.022Z"
   },
   {
    "duration": 291,
    "start_time": "2021-09-24T17:45:05.064Z"
   },
   {
    "duration": 288,
    "start_time": "2021-09-24T17:45:12.473Z"
   },
   {
    "duration": 10,
    "start_time": "2021-09-24T17:45:43.204Z"
   },
   {
    "duration": 11,
    "start_time": "2021-09-24T17:46:46.540Z"
   },
   {
    "duration": 13,
    "start_time": "2021-09-24T17:47:19.506Z"
   },
   {
    "duration": 409,
    "start_time": "2021-09-24T17:47:30.439Z"
   },
   {
    "duration": 8,
    "start_time": "2021-09-24T17:50:27.573Z"
   },
   {
    "duration": 11,
    "start_time": "2021-09-24T17:54:12.443Z"
   },
   {
    "duration": 8,
    "start_time": "2021-09-24T17:54:21.045Z"
   },
   {
    "duration": 10,
    "start_time": "2021-09-24T17:56:07.926Z"
   },
   {
    "duration": 10,
    "start_time": "2021-09-24T17:56:17.925Z"
   },
   {
    "duration": 11,
    "start_time": "2021-09-24T18:04:33.159Z"
   },
   {
    "duration": 9,
    "start_time": "2021-09-24T18:04:34.803Z"
   },
   {
    "duration": 9,
    "start_time": "2021-09-24T18:04:37.642Z"
   },
   {
    "duration": 8,
    "start_time": "2021-09-24T18:04:47.514Z"
   },
   {
    "duration": 7,
    "start_time": "2021-09-24T18:07:48.660Z"
   },
   {
    "duration": 6,
    "start_time": "2021-09-24T18:08:04.883Z"
   },
   {
    "duration": 15,
    "start_time": "2021-09-24T18:08:31.003Z"
   },
   {
    "duration": 15,
    "start_time": "2021-09-24T18:08:38.024Z"
   },
   {
    "duration": 30,
    "start_time": "2021-09-24T18:08:57.459Z"
   },
   {
    "duration": 8,
    "start_time": "2021-09-24T18:09:00.196Z"
   },
   {
    "duration": 12,
    "start_time": "2021-09-24T18:09:02.351Z"
   },
   {
    "duration": 9,
    "start_time": "2021-09-24T18:09:04.142Z"
   },
   {
    "duration": 8,
    "start_time": "2021-09-24T18:11:16.944Z"
   },
   {
    "duration": 10,
    "start_time": "2021-09-24T18:12:01.799Z"
   },
   {
    "duration": 130,
    "start_time": "2021-09-24T18:15:37.191Z"
   },
   {
    "duration": 88,
    "start_time": "2021-09-24T18:15:56.908Z"
   },
   {
    "duration": 833,
    "start_time": "2021-09-25T06:32:52.434Z"
   },
   {
    "duration": 75,
    "start_time": "2021-09-25T06:32:53.270Z"
   },
   {
    "duration": 18,
    "start_time": "2021-09-25T06:32:53.348Z"
   },
   {
    "duration": 78,
    "start_time": "2021-09-25T06:32:53.369Z"
   },
   {
    "duration": 40,
    "start_time": "2021-09-25T06:32:53.449Z"
   },
   {
    "duration": 57,
    "start_time": "2021-09-25T06:32:53.492Z"
   },
   {
    "duration": 12,
    "start_time": "2021-09-25T06:32:53.552Z"
   },
   {
    "duration": 52,
    "start_time": "2021-09-25T06:32:53.569Z"
   },
   {
    "duration": 14,
    "start_time": "2021-09-25T06:32:53.624Z"
   },
   {
    "duration": 14,
    "start_time": "2021-09-25T06:32:53.641Z"
   }
  ],
  "kernelspec": {
   "display_name": "Python 3",
   "language": "python",
   "name": "python3"
  },
  "language_info": {
   "codemirror_mode": {
    "name": "ipython",
    "version": 3
   },
   "file_extension": ".py",
   "mimetype": "text/x-python",
   "name": "python",
   "nbconvert_exporter": "python",
   "pygments_lexer": "ipython3",
   "version": "3.8.5"
  },
  "toc": {
   "base_numbering": 1,
   "nav_menu": {},
   "number_sections": true,
   "sideBar": true,
   "skip_h1_title": true,
   "title_cell": "Table of Contents",
   "title_sidebar": "Contents",
   "toc_cell": false,
   "toc_position": {},
   "toc_section_display": true,
   "toc_window_display": false
  }
 },
 "nbformat": 4,
 "nbformat_minor": 2
}
