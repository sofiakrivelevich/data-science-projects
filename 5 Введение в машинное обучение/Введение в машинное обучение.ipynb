{
 "cells": [
  {
   "cell_type": "markdown",
   "metadata": {},
   "source": [
    "# Рекомендация тарифов"
   ]
  },
  {
   "cell_type": "markdown",
   "metadata": {},
   "source": [
    "Даны данные о поведении клиентов, которые уже перешли на определенные тарифы. Нужно построить модель для задачи классификации, которая выберет подходящий тариф для клиента."
   ]
  },
  {
   "cell_type": "markdown",
   "metadata": {},
   "source": [
    "# Описание данных"
   ]
  },
  {
   "cell_type": "markdown",
   "metadata": {},
   "source": [
    "Каждый объект в наборе данных — это информация о поведении одного пользователя за месяц. Известно:\n",
    "<ul>\n",
    "<li>сalls — количество звонков</li>\n",
    "<li>minutes — суммарная длительность звонков в минутах</li>\n",
    "<li>messages — количество sms-сообщений</li>\n",
    "<li>mb_used — израсходованный интернет-трафик в Мб</li>\n",
    "<li>is_ultra — каким тарифом пользовался в течение месяца («Ультра» — 1, «Смарт» — 0)</li>\n",
    "</ul>"
   ]
  },
  {
   "cell_type": "markdown",
   "metadata": {},
   "source": [
    "## Откройте и изучите файл"
   ]
  },
  {
   "cell_type": "code",
   "execution_count": 1,
   "metadata": {},
   "outputs": [],
   "source": [
    "import pandas as pd\n",
    "from sklearn.model_selection import train_test_split\n",
    "from sklearn.metrics import accuracy_score\n",
    "from sklearn.tree import DecisionTreeClassifier\n",
    "from sklearn.ensemble import RandomForestClassifier\n",
    "from sklearn.linear_model import LogisticRegression\n",
    "from sklearn.dummy import DummyClassifier"
   ]
  },
  {
   "cell_type": "code",
   "execution_count": 2,
   "metadata": {},
   "outputs": [
    {
     "data": {
      "text/html": [
       "<div>\n",
       "<style scoped>\n",
       "    .dataframe tbody tr th:only-of-type {\n",
       "        vertical-align: middle;\n",
       "    }\n",
       "\n",
       "    .dataframe tbody tr th {\n",
       "        vertical-align: top;\n",
       "    }\n",
       "\n",
       "    .dataframe thead th {\n",
       "        text-align: right;\n",
       "    }\n",
       "</style>\n",
       "<table border=\"1\" class=\"dataframe\">\n",
       "  <thead>\n",
       "    <tr style=\"text-align: right;\">\n",
       "      <th></th>\n",
       "      <th>calls</th>\n",
       "      <th>minutes</th>\n",
       "      <th>messages</th>\n",
       "      <th>mb_used</th>\n",
       "      <th>is_ultra</th>\n",
       "    </tr>\n",
       "  </thead>\n",
       "  <tbody>\n",
       "    <tr>\n",
       "      <th>0</th>\n",
       "      <td>40.0</td>\n",
       "      <td>311.90</td>\n",
       "      <td>83.0</td>\n",
       "      <td>19915.42</td>\n",
       "      <td>0</td>\n",
       "    </tr>\n",
       "    <tr>\n",
       "      <th>1</th>\n",
       "      <td>85.0</td>\n",
       "      <td>516.75</td>\n",
       "      <td>56.0</td>\n",
       "      <td>22696.96</td>\n",
       "      <td>0</td>\n",
       "    </tr>\n",
       "    <tr>\n",
       "      <th>2</th>\n",
       "      <td>77.0</td>\n",
       "      <td>467.66</td>\n",
       "      <td>86.0</td>\n",
       "      <td>21060.45</td>\n",
       "      <td>0</td>\n",
       "    </tr>\n",
       "    <tr>\n",
       "      <th>3</th>\n",
       "      <td>106.0</td>\n",
       "      <td>745.53</td>\n",
       "      <td>81.0</td>\n",
       "      <td>8437.39</td>\n",
       "      <td>1</td>\n",
       "    </tr>\n",
       "    <tr>\n",
       "      <th>4</th>\n",
       "      <td>66.0</td>\n",
       "      <td>418.74</td>\n",
       "      <td>1.0</td>\n",
       "      <td>14502.75</td>\n",
       "      <td>0</td>\n",
       "    </tr>\n",
       "    <tr>\n",
       "      <th>5</th>\n",
       "      <td>58.0</td>\n",
       "      <td>344.56</td>\n",
       "      <td>21.0</td>\n",
       "      <td>15823.37</td>\n",
       "      <td>0</td>\n",
       "    </tr>\n",
       "    <tr>\n",
       "      <th>6</th>\n",
       "      <td>57.0</td>\n",
       "      <td>431.64</td>\n",
       "      <td>20.0</td>\n",
       "      <td>3738.90</td>\n",
       "      <td>1</td>\n",
       "    </tr>\n",
       "    <tr>\n",
       "      <th>7</th>\n",
       "      <td>15.0</td>\n",
       "      <td>132.40</td>\n",
       "      <td>6.0</td>\n",
       "      <td>21911.60</td>\n",
       "      <td>0</td>\n",
       "    </tr>\n",
       "    <tr>\n",
       "      <th>8</th>\n",
       "      <td>7.0</td>\n",
       "      <td>43.39</td>\n",
       "      <td>3.0</td>\n",
       "      <td>2538.67</td>\n",
       "      <td>1</td>\n",
       "    </tr>\n",
       "    <tr>\n",
       "      <th>9</th>\n",
       "      <td>90.0</td>\n",
       "      <td>665.41</td>\n",
       "      <td>38.0</td>\n",
       "      <td>17358.61</td>\n",
       "      <td>0</td>\n",
       "    </tr>\n",
       "  </tbody>\n",
       "</table>\n",
       "</div>"
      ],
      "text/plain": [
       "   calls  minutes  messages   mb_used  is_ultra\n",
       "0   40.0   311.90      83.0  19915.42         0\n",
       "1   85.0   516.75      56.0  22696.96         0\n",
       "2   77.0   467.66      86.0  21060.45         0\n",
       "3  106.0   745.53      81.0   8437.39         1\n",
       "4   66.0   418.74       1.0  14502.75         0\n",
       "5   58.0   344.56      21.0  15823.37         0\n",
       "6   57.0   431.64      20.0   3738.90         1\n",
       "7   15.0   132.40       6.0  21911.60         0\n",
       "8    7.0    43.39       3.0   2538.67         1\n",
       "9   90.0   665.41      38.0  17358.61         0"
      ]
     },
     "execution_count": 2,
     "metadata": {},
     "output_type": "execute_result"
    }
   ],
   "source": [
    "data = pd.read_csv('users_behavior.csv')\n",
    "data.head(10)"
   ]
  },
  {
   "cell_type": "code",
   "execution_count": 3,
   "metadata": {},
   "outputs": [
    {
     "name": "stdout",
     "output_type": "stream",
     "text": [
      "<class 'pandas.core.frame.DataFrame'>\n",
      "RangeIndex: 3214 entries, 0 to 3213\n",
      "Data columns (total 5 columns):\n",
      " #   Column    Non-Null Count  Dtype  \n",
      "---  ------    --------------  -----  \n",
      " 0   calls     3214 non-null   float64\n",
      " 1   minutes   3214 non-null   float64\n",
      " 2   messages  3214 non-null   float64\n",
      " 3   mb_used   3214 non-null   float64\n",
      " 4   is_ultra  3214 non-null   int64  \n",
      "dtypes: float64(4), int64(1)\n",
      "memory usage: 125.7 KB\n"
     ]
    }
   ],
   "source": [
    "data.info()"
   ]
  },
  {
   "cell_type": "markdown",
   "metadata": {},
   "source": [
    "<b>Вывод:</b> как и сказано в условии, в данные уже очищены от пропусков. Столбце с тарифом (is_ultra) качественный, то есть будем решать задачу классификации."
   ]
  },
  {
   "cell_type": "markdown",
   "metadata": {},
   "source": [
    "## Разбейте данные на выборки"
   ]
  },
  {
   "cell_type": "markdown",
   "metadata": {},
   "source": [
    "Требуется разбить данные на обучающую, валидационную и тестовую выборку. Размер валидационной и тестовой выборок обычно равны. Будем использовать соотношение 3:1:1, где 3 части приходится на обучающую выборку и по 1 на тестовую и валидационную."
   ]
  },
  {
   "cell_type": "markdown",
   "metadata": {},
   "source": [
    "Для начала разделим данные на обучающую выборку и выборку, в которую будут входить валидационные и тестовые данные. В этом случае вторая выборка составит 40%. А далее вторую выборки разделим на валидационную и тестовую."
   ]
  },
  {
   "cell_type": "code",
   "execution_count": 4,
   "metadata": {},
   "outputs": [
    {
     "name": "stdout",
     "output_type": "stream",
     "text": [
      "Размер всех данных: (3214, 5)\n",
      "Размер обучающей выборки (без целевого признака): (1928, 4)\n",
      "Размер валидационной выборки (без целевого признака): (643, 4)\n",
      "Размер тестовой выборки (без целевого признака): (643, 4)\n"
     ]
    }
   ],
   "source": [
    "features = data.drop('is_ultra', axis = 1)\n",
    "target = data['is_ultra']\n",
    "features_train, data_valid_test_features, target_train, data_valid_test_target= train_test_split(features, target, test_size = 0.4, random_state=12345)\n",
    "features_valid, features_test, target_valid, target_test = train_test_split(data_valid_test_features, data_valid_test_target, test_size = 0.5, random_state = 12345)\n",
    "print('Размер всех данных:', data.shape)\n",
    "print('Размер обучающей выборки (без целевого признака):', features_train.shape)\n",
    "print('Размер валидационной выборки (без целевого признака):', features_valid.shape)\n",
    "print('Размер тестовой выборки (без целевого признака):', features_test.shape)"
   ]
  },
  {
   "cell_type": "markdown",
   "metadata": {},
   "source": [
    "<b>Вывод:</b> данные разделены на 3 выборки: обучающую(60%), валидационную(20%) и тестовую(20%). А их в свою очередь разделили на признаки и целевой признак."
   ]
  },
  {
   "cell_type": "markdown",
   "metadata": {},
   "source": [
    "## Исследуйте модели"
   ]
  },
  {
   "cell_type": "markdown",
   "metadata": {},
   "source": [
    "Будем проверять как работают 3 модели: решающее дерево с различной глубиной, случайный лес с различным количеством деревьев и глубиной дерева, а также логистическую регрессию."
   ]
  },
  {
   "cell_type": "markdown",
   "metadata": {},
   "source": [
    "### Алгоритм решающего дерева"
   ]
  },
  {
   "cell_type": "code",
   "execution_count": 5,
   "metadata": {},
   "outputs": [
    {
     "name": "stdout",
     "output_type": "stream",
     "text": [
      "max_depth = 3 : 0.7853810264385692\n"
     ]
    }
   ],
   "source": [
    "max_accuracy = 0.7\n",
    "best_depth = 0\n",
    "for depth in range(1, 11):\n",
    "    model = DecisionTreeClassifier(max_depth = depth, random_state = 12345)\n",
    "    model.fit(features_train, target_train)\n",
    "    predictions_valid = model.predict(features_valid)\n",
    "    accuracy = accuracy_score(target_valid, predictions_valid)\n",
    "    if accuracy > max_accuracy:\n",
    "        best_depth = depth\n",
    "        max_accuracy = accuracy\n",
    "print('max_depth = {} : {}'.format(best_depth, max_accuracy))"
   ]
  },
  {
   "cell_type": "markdown",
   "metadata": {},
   "source": [
    "При решающем дереве максимальная доля правильных ответов получается при глубине дерева 3 и равна 0.7853810264385692"
   ]
  },
  {
   "cell_type": "markdown",
   "metadata": {},
   "source": [
    "### Алгоритм случайного леса"
   ]
  },
  {
   "cell_type": "code",
   "execution_count": 6,
   "metadata": {},
   "outputs": [
    {
     "name": "stdout",
     "output_type": "stream",
     "text": [
      "Доля правильных ответов наилучшей модели на валидационной выборке: 0.8087091757387247 Количество деревьев: 40 Максимальная глубина: 10\n"
     ]
    }
   ],
   "source": [
    "best_model = None\n",
    "best_result = 0.7\n",
    "best_est = 0\n",
    "best_depth = 0\n",
    "for est in range(5, 51, 5):\n",
    "    for depth in range (1, 11):\n",
    "        model = RandomForestClassifier(random_state = 12345, n_estimators = est, max_depth = depth)\n",
    "        model.fit(features_train, target_train)\n",
    "        predictions_valid = model.predict(features_valid)\n",
    "        accuracy_valid = accuracy_score(target_valid, predictions_valid)\n",
    "        if accuracy_valid > best_result:\n",
    "            best_model = model\n",
    "            best_result = accuracy_valid\n",
    "            best_est = est\n",
    "            best_depth = depth\n",
    "\n",
    "print(\"Доля правильных ответов наилучшей модели на валидационной выборке:\", best_result, \"Количество деревьев:\", best_est, \"Максимальная глубина:\", depth)"
   ]
  },
  {
   "cell_type": "markdown",
   "metadata": {},
   "source": [
    "В случае с рандомным лесом лучший accuracy получился при количестве деревьев 40 и глубиной 10. Доля правильных ответов в данном случае равна 0.8087091757387247. Но в данной модели минус в том, что работает она гораздо медленнее, чем решающее дерево."
   ]
  },
  {
   "cell_type": "markdown",
   "metadata": {},
   "source": [
    "### Алгоритм логистической регрессии"
   ]
  },
  {
   "cell_type": "code",
   "execution_count": 7,
   "metadata": {},
   "outputs": [
    {
     "name": "stdout",
     "output_type": "stream",
     "text": [
      "0.7107309486780715\n"
     ]
    }
   ],
   "source": [
    "model_regression = LogisticRegression(random_state = 12345)\n",
    "model_regression.fit(features_train, target_train) \n",
    "result = model_regression.score(features_valid, target_valid)\n",
    "print(result)"
   ]
  },
  {
   "cell_type": "markdown",
   "metadata": {},
   "source": [
    "В случае в логистической легрессией получаем долю правильных ответов 0.7107309486780715, что ниже, чем в случае со случайным лесом."
   ]
  },
  {
   "cell_type": "markdown",
   "metadata": {},
   "source": [
    "<b>Вывод</b>: в данном случае лучший результат дал алгоритм случайноого леса с 40 деревьями и глубиной дерева 10. Доля правильных ответов при этом составляет 0.8087091757387247. Остальные 2 алгоритма дают результаты ниже. Используем модель случайного леса для проверки на тестовой выборке."
   ]
  },
  {
   "cell_type": "markdown",
   "metadata": {},
   "source": [
    "## Проверьте модель на тестовой выборке"
   ]
  },
  {
   "cell_type": "code",
   "execution_count": 8,
   "metadata": {},
   "outputs": [
    {
     "name": "stdout",
     "output_type": "stream",
     "text": [
      "0.7962674961119751\n"
     ]
    }
   ],
   "source": [
    "predictions_test = best_model.predict(features_test)\n",
    "accuracy_test = accuracy_score(target_test, predictions_test)\n",
    "print(accuracy_test)"
   ]
  },
  {
   "cell_type": "markdown",
   "metadata": {},
   "source": [
    "<b>Вывод:</b> проверили тестовую выборку на лучшей модели и доля правильных ответов в тестовой выборке составила 0.7962674961119751."
   ]
  },
  {
   "cell_type": "markdown",
   "metadata": {},
   "source": [
    "## Проверьте модели на адекватность"
   ]
  },
  {
   "cell_type": "markdown",
   "metadata": {},
   "source": [
    "Для проверки на адекватность можно использовать алгоритм DummyClassifier, из библиотеки sklearn.dummy, которые покажет предсказание модели использую простые правила. Этот алгоритм не используется для реальных проблем, а создан для сравнения с реальной моделью. Используем данную модель со стратегией most_frequent."
   ]
  },
  {
   "cell_type": "code",
   "execution_count": 9,
   "metadata": {},
   "outputs": [
    {
     "name": "stdout",
     "output_type": "stream",
     "text": [
      "0.7060653188180405\n"
     ]
    }
   ],
   "source": [
    "frequent_model = DummyClassifier(strategy = 'most_frequent').fit(features_train, target_train)\n",
    "predictions_frequent = frequent_model.predict(features_valid)\n",
    "print(frequent_model.score(features_valid, target_valid))"
   ]
  },
  {
   "cell_type": "markdown",
   "metadata": {},
   "source": [
    "В данном алгоритме доля правильных ответов получилась меньше, чем в выбранной модели. Это говорит о том, что выбранный алгоритм адекватен."
   ]
  },
  {
   "cell_type": "markdown",
   "metadata": {},
   "source": [
    "<b>Вывод:</b> проверив наши данные на модели, которая не используется в реальных заданиях, а создана лишь для проверки реальных моделей, можно сказать, что выбранная нами модель случайного леса дает большую долю правильных ответов."
   ]
  },
  {
   "cell_type": "markdown",
   "metadata": {},
   "source": [
    "## Вывод"
   ]
  },
  {
   "cell_type": "markdown",
   "metadata": {},
   "source": [
    "Для данных были построены 3 модели: решающего дерева, случайного леса и логистической регрессии. Самой лучшей моделью оказался случайный лес с долей правильных ответов 0.8087091757387247 с количеством деревьев 40 и глубиной дерева 10. Модель была проверена на адекватность. На тестовых данных модель показала долю правильных ответов 0.7962674961119751, то есть с вероятностью почти 0.8 можно будет по количеству звонков, суммарной длительности звонков в минутах, количеству sms-сообщений и израсходованному интернет-трафику в Мб понять какой тариф следует предложить таму или иному абоненту."
   ]
  }
 ],
 "metadata": {
  "ExecuteTimeLog": [
   {
    "duration": 796,
    "start_time": "2021-11-19T10:23:11.933Z"
   },
   {
    "duration": 22,
    "start_time": "2021-11-19T10:23:38.401Z"
   },
   {
    "duration": 40,
    "start_time": "2021-11-19T10:23:49.924Z"
   },
   {
    "duration": 37,
    "start_time": "2021-11-19T10:24:26.432Z"
   },
   {
    "duration": 174,
    "start_time": "2021-11-19T10:25:00.503Z"
   },
   {
    "duration": 593,
    "start_time": "2021-11-19T10:33:27.437Z"
   },
   {
    "duration": 36,
    "start_time": "2021-11-19T10:33:28.089Z"
   },
   {
    "duration": 7,
    "start_time": "2021-11-19T10:34:41.379Z"
   },
   {
    "duration": 9,
    "start_time": "2021-11-19T10:35:32.276Z"
   },
   {
    "duration": 510,
    "start_time": "2021-11-19T10:38:27.076Z"
   },
   {
    "duration": 382,
    "start_time": "2021-11-19T10:38:32.836Z"
   },
   {
    "duration": 11,
    "start_time": "2021-11-19T10:38:38.376Z"
   },
   {
    "duration": 396,
    "start_time": "2021-11-19T10:44:24.783Z"
   },
   {
    "duration": 397,
    "start_time": "2021-11-19T10:45:41.762Z"
   },
   {
    "duration": 8,
    "start_time": "2021-11-19T10:47:51.177Z"
   },
   {
    "duration": 12,
    "start_time": "2021-11-19T10:48:04.477Z"
   },
   {
    "duration": 24,
    "start_time": "2021-11-19T10:48:51.304Z"
   },
   {
    "duration": 12,
    "start_time": "2021-11-19T10:49:08.687Z"
   },
   {
    "duration": 11,
    "start_time": "2021-11-19T10:50:42.937Z"
   },
   {
    "duration": 17,
    "start_time": "2021-11-19T10:51:08.359Z"
   },
   {
    "duration": 16,
    "start_time": "2021-11-19T10:51:29.578Z"
   },
   {
    "duration": 139,
    "start_time": "2021-11-19T11:02:26.727Z"
   },
   {
    "duration": 54,
    "start_time": "2021-11-19T11:03:59.025Z"
   },
   {
    "duration": 518,
    "start_time": "2021-11-19T11:05:27.123Z"
   },
   {
    "duration": 16,
    "start_time": "2021-11-19T11:05:42.900Z"
   },
   {
    "duration": 35,
    "start_time": "2021-11-19T11:05:45.803Z"
   },
   {
    "duration": 11,
    "start_time": "2021-11-19T11:05:46.860Z"
   },
   {
    "duration": 12,
    "start_time": "2021-11-19T11:07:56.979Z"
   },
   {
    "duration": 80,
    "start_time": "2021-11-19T11:23:16.761Z"
   },
   {
    "duration": 211,
    "start_time": "2021-11-19T11:23:27.449Z"
   },
   {
    "duration": 82,
    "start_time": "2021-11-19T11:23:36.039Z"
   },
   {
    "duration": 394,
    "start_time": "2021-11-19T11:27:08.593Z"
   },
   {
    "duration": 425,
    "start_time": "2021-11-19T11:27:20.077Z"
   },
   {
    "duration": 75,
    "start_time": "2021-11-19T11:27:26.733Z"
   },
   {
    "duration": 130,
    "start_time": "2021-11-19T11:27:43.078Z"
   },
   {
    "duration": 72,
    "start_time": "2021-11-19T11:28:15.331Z"
   },
   {
    "duration": 75,
    "start_time": "2021-11-19T11:28:49.027Z"
   },
   {
    "duration": 151,
    "start_time": "2021-11-19T11:29:14.879Z"
   },
   {
    "duration": 461,
    "start_time": "2021-11-19T12:02:37.364Z"
   },
   {
    "duration": 9705,
    "start_time": "2021-11-19T12:02:55.854Z"
   },
   {
    "duration": 24005,
    "start_time": "2021-11-19T12:03:20.821Z"
   },
   {
    "duration": 111113,
    "start_time": "2021-11-19T12:03:52.171Z"
   },
   {
    "duration": 99712,
    "start_time": "2021-11-19T12:06:07.788Z"
   },
   {
    "duration": 9492,
    "start_time": "2021-11-19T12:07:57.768Z"
   },
   {
    "duration": 5298,
    "start_time": "2021-11-19T12:10:28.343Z"
   },
   {
    "duration": 12953,
    "start_time": "2021-11-19T12:11:41.373Z"
   },
   {
    "duration": 21219,
    "start_time": "2021-11-19T12:12:03.668Z"
   },
   {
    "duration": 9810,
    "start_time": "2021-11-19T12:12:38.446Z"
   },
   {
    "duration": 178,
    "start_time": "2021-11-19T12:13:45.500Z"
   },
   {
    "duration": 25,
    "start_time": "2021-11-19T12:14:39.808Z"
   },
   {
    "duration": 5,
    "start_time": "2021-11-19T12:15:02.292Z"
   },
   {
    "duration": 40,
    "start_time": "2021-11-19T12:15:02.530Z"
   },
   {
    "duration": 11,
    "start_time": "2021-11-19T12:15:03.533Z"
   },
   {
    "duration": 25,
    "start_time": "2021-11-19T12:15:05.836Z"
   },
   {
    "duration": 26,
    "start_time": "2021-11-19T12:15:07.789Z"
   },
   {
    "duration": 36,
    "start_time": "2021-11-19T12:16:41.078Z"
   },
   {
    "duration": 29,
    "start_time": "2021-11-19T12:17:02.511Z"
   },
   {
    "duration": 26,
    "start_time": "2021-11-19T12:17:06.832Z"
   },
   {
    "duration": 10402,
    "start_time": "2021-11-19T12:18:10.188Z"
   },
   {
    "duration": 10236,
    "start_time": "2021-11-19T12:23:03.690Z"
   },
   {
    "duration": 5,
    "start_time": "2021-11-19T12:24:17.361Z"
   },
   {
    "duration": 35,
    "start_time": "2021-11-19T12:24:17.620Z"
   },
   {
    "duration": 11,
    "start_time": "2021-11-19T12:24:18.793Z"
   },
   {
    "duration": 9883,
    "start_time": "2021-11-19T12:24:20.704Z"
   },
   {
    "duration": 21,
    "start_time": "2021-11-19T12:45:12.678Z"
   },
   {
    "duration": 216,
    "start_time": "2021-11-19T16:11:41.638Z"
   },
   {
    "duration": 1069,
    "start_time": "2021-11-19T16:11:47.596Z"
   },
   {
    "duration": 39,
    "start_time": "2021-11-19T16:11:48.667Z"
   },
   {
    "duration": 8,
    "start_time": "2021-11-19T16:11:48.708Z"
   },
   {
    "duration": 235,
    "start_time": "2021-11-19T16:11:50.073Z"
   },
   {
    "duration": 166,
    "start_time": "2021-11-19T16:11:51.607Z"
   },
   {
    "duration": 4,
    "start_time": "2021-11-19T16:11:53.059Z"
   },
   {
    "duration": 6217,
    "start_time": "2021-11-19T16:12:14.299Z"
   },
   {
    "duration": 9,
    "start_time": "2021-11-19T16:12:20.518Z"
   },
   {
    "duration": 4,
    "start_time": "2021-11-19T16:12:20.529Z"
   },
   {
    "duration": 3,
    "start_time": "2021-11-19T17:22:09.187Z"
   },
   {
    "duration": 27,
    "start_time": "2021-11-19T17:22:09.377Z"
   },
   {
    "duration": 7,
    "start_time": "2021-11-19T17:22:10.282Z"
   },
   {
    "duration": 5760,
    "start_time": "2021-11-19T17:22:11.755Z"
   },
   {
    "duration": 9,
    "start_time": "2021-11-19T17:22:17.517Z"
   },
   {
    "duration": 5,
    "start_time": "2021-11-19T17:28:52.103Z"
   },
   {
    "duration": 62,
    "start_time": "2021-11-19T17:29:52.406Z"
   },
   {
    "duration": 5,
    "start_time": "2021-11-19T17:29:57.888Z"
   },
   {
    "duration": 6,
    "start_time": "2021-11-19T17:30:48.019Z"
   },
   {
    "duration": 62,
    "start_time": "2021-11-19T17:31:08.561Z"
   },
   {
    "duration": 4,
    "start_time": "2021-11-19T17:33:26.223Z"
   },
   {
    "duration": 27,
    "start_time": "2021-11-19T17:33:26.444Z"
   },
   {
    "duration": 8,
    "start_time": "2021-11-19T17:33:27.500Z"
   },
   {
    "duration": 5714,
    "start_time": "2021-11-19T17:33:29.302Z"
   },
   {
    "duration": 10,
    "start_time": "2021-11-19T17:33:35.018Z"
   },
   {
    "duration": 15,
    "start_time": "2021-11-19T17:33:35.030Z"
   },
   {
    "duration": 32,
    "start_time": "2021-11-19T17:33:35.047Z"
   },
   {
    "duration": 5,
    "start_time": "2021-11-19T17:33:37.582Z"
   },
   {
    "duration": 5,
    "start_time": "2021-11-19T17:33:38.203Z"
   },
   {
    "duration": 7,
    "start_time": "2021-11-19T17:34:03.027Z"
   },
   {
    "duration": 4,
    "start_time": "2021-11-19T17:41:31.948Z"
   },
   {
    "duration": 58,
    "start_time": "2021-11-19T17:41:31.953Z"
   },
   {
    "duration": 31,
    "start_time": "2021-11-19T17:41:32.013Z"
   },
   {
    "duration": 5793,
    "start_time": "2021-11-19T17:41:32.046Z"
   },
   {
    "duration": 10,
    "start_time": "2021-11-19T17:41:37.840Z"
   },
   {
    "duration": 8,
    "start_time": "2021-11-19T17:41:37.851Z"
   },
   {
    "duration": 22,
    "start_time": "2021-11-19T17:41:37.861Z"
   },
   {
    "duration": 13,
    "start_time": "2021-11-19T17:41:37.885Z"
   },
   {
    "duration": 38,
    "start_time": "2021-11-19T17:41:37.900Z"
   },
   {
    "duration": 7,
    "start_time": "2021-11-19T17:41:38.102Z"
   },
   {
    "duration": 5722,
    "start_time": "2021-11-19T17:41:39.740Z"
   },
   {
    "duration": 10,
    "start_time": "2021-11-19T17:41:45.464Z"
   },
   {
    "duration": 18,
    "start_time": "2021-11-19T17:41:45.475Z"
   },
   {
    "duration": 4,
    "start_time": "2021-11-19T17:41:45.494Z"
   },
   {
    "duration": 454,
    "start_time": "2021-11-20T07:48:25.909Z"
   },
   {
    "duration": 1413,
    "start_time": "2021-11-20T07:48:31.351Z"
   },
   {
    "duration": 45,
    "start_time": "2021-11-20T07:48:32.767Z"
   },
   {
    "duration": 15,
    "start_time": "2021-11-20T07:48:33.601Z"
   }
  ],
  "kernelspec": {
   "display_name": "Python 3",
   "language": "python",
   "name": "python3"
  },
  "language_info": {
   "codemirror_mode": {
    "name": "ipython",
    "version": 3
   },
   "file_extension": ".py",
   "mimetype": "text/x-python",
   "name": "python",
   "nbconvert_exporter": "python",
   "pygments_lexer": "ipython3",
   "version": "3.8.5"
  },
  "toc": {
   "base_numbering": 1,
   "nav_menu": {},
   "number_sections": true,
   "sideBar": true,
   "skip_h1_title": true,
   "title_cell": "Table of Contents",
   "title_sidebar": "Contents",
   "toc_cell": false,
   "toc_position": {},
   "toc_section_display": true,
   "toc_window_display": false
  }
 },
 "nbformat": 4,
 "nbformat_minor": 2
}
