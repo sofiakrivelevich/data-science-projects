{
 "cells": [
  {
   "cell_type": "markdown",
   "metadata": {},
   "source": [
    "# Описание проекта"
   ]
  },
  {
   "cell_type": "markdown",
   "metadata": {},
   "source": [
    "Интернет-магазин «Стримчик» продаёт по всему миру компьютерные игры. Из открытых источников доступны исторические данные о продажах игр, оценки пользователей и экспертов, жанры и платформы (например, Xbox или PlayStation). Нужно выявить определяющие успешность игры закономерности. Это позволит сделать ставку на потенциально популярный продукт и спланировать рекламные кампании.\n",
    "Даны данные до 2016 года. "
   ]
  },
  {
   "cell_type": "markdown",
   "metadata": {},
   "source": [
    "# Описание данных"
   ]
  },
  {
   "cell_type": "markdown",
   "metadata": {},
   "source": [
    "<ul>\n",
    "<li>Name — название игры</li>\n",
    "<li>Platform — платформа</li>\n",
    "<li>Year_of_Release — год выпуска</li>\n",
    "<li>Genre — жанр игры</li>\n",
    "<li>NA_sales — продажи в Северной Америке (миллионы проданных копий)</li>\n",
    "<li>EU_sales — продажи в Европе (миллионы проданных копий)</li>\n",
    "<li>JP_sales — продажи в Японии (миллионы проданных копий)</li>\n",
    "<li>Other_sales — продажи в других странах (миллионы проданных копий)</li>\n",
    "<li>Critic_Score — оценка критиков (максимум 100)</li>\n",
    "<li>User_Score — оценка пользователей (максимум 10)</li>\n",
    "<li>Rating — рейтинг от организации ESRB (англ. Entertainment Software Rating Board). Эта ассоциация определяет рейтинг компьютерных игр и присваивает им подходящую возрастную категорию.</li>\n",
    "</ul>"
   ]
  },
  {
   "cell_type": "markdown",
   "metadata": {},
   "source": [
    "# Изучение данных из файла "
   ]
  },
  {
   "cell_type": "code",
   "execution_count": 1,
   "metadata": {},
   "outputs": [],
   "source": [
    "import pandas as pd\n",
    "import numpy as np\n",
    "from statistics import mean\n",
    "import matplotlib.pyplot as plt\n",
    "from scipy import stats as st"
   ]
  },
  {
   "cell_type": "code",
   "execution_count": 2,
   "metadata": {},
   "outputs": [
    {
     "data": {
      "text/html": [
       "<div>\n",
       "<style scoped>\n",
       "    .dataframe tbody tr th:only-of-type {\n",
       "        vertical-align: middle;\n",
       "    }\n",
       "\n",
       "    .dataframe tbody tr th {\n",
       "        vertical-align: top;\n",
       "    }\n",
       "\n",
       "    .dataframe thead th {\n",
       "        text-align: right;\n",
       "    }\n",
       "</style>\n",
       "<table border=\"1\" class=\"dataframe\">\n",
       "  <thead>\n",
       "    <tr style=\"text-align: right;\">\n",
       "      <th></th>\n",
       "      <th>Name</th>\n",
       "      <th>Platform</th>\n",
       "      <th>Year_of_Release</th>\n",
       "      <th>Genre</th>\n",
       "      <th>NA_sales</th>\n",
       "      <th>EU_sales</th>\n",
       "      <th>JP_sales</th>\n",
       "      <th>Other_sales</th>\n",
       "      <th>Critic_Score</th>\n",
       "      <th>User_Score</th>\n",
       "      <th>Rating</th>\n",
       "    </tr>\n",
       "  </thead>\n",
       "  <tbody>\n",
       "    <tr>\n",
       "      <th>0</th>\n",
       "      <td>Wii Sports</td>\n",
       "      <td>Wii</td>\n",
       "      <td>2006.0</td>\n",
       "      <td>Sports</td>\n",
       "      <td>41.36</td>\n",
       "      <td>28.96</td>\n",
       "      <td>3.77</td>\n",
       "      <td>8.45</td>\n",
       "      <td>76.0</td>\n",
       "      <td>8</td>\n",
       "      <td>E</td>\n",
       "    </tr>\n",
       "    <tr>\n",
       "      <th>1</th>\n",
       "      <td>Super Mario Bros.</td>\n",
       "      <td>NES</td>\n",
       "      <td>1985.0</td>\n",
       "      <td>Platform</td>\n",
       "      <td>29.08</td>\n",
       "      <td>3.58</td>\n",
       "      <td>6.81</td>\n",
       "      <td>0.77</td>\n",
       "      <td>NaN</td>\n",
       "      <td>NaN</td>\n",
       "      <td>NaN</td>\n",
       "    </tr>\n",
       "    <tr>\n",
       "      <th>2</th>\n",
       "      <td>Mario Kart Wii</td>\n",
       "      <td>Wii</td>\n",
       "      <td>2008.0</td>\n",
       "      <td>Racing</td>\n",
       "      <td>15.68</td>\n",
       "      <td>12.76</td>\n",
       "      <td>3.79</td>\n",
       "      <td>3.29</td>\n",
       "      <td>82.0</td>\n",
       "      <td>8.3</td>\n",
       "      <td>E</td>\n",
       "    </tr>\n",
       "    <tr>\n",
       "      <th>3</th>\n",
       "      <td>Wii Sports Resort</td>\n",
       "      <td>Wii</td>\n",
       "      <td>2009.0</td>\n",
       "      <td>Sports</td>\n",
       "      <td>15.61</td>\n",
       "      <td>10.93</td>\n",
       "      <td>3.28</td>\n",
       "      <td>2.95</td>\n",
       "      <td>80.0</td>\n",
       "      <td>8</td>\n",
       "      <td>E</td>\n",
       "    </tr>\n",
       "    <tr>\n",
       "      <th>4</th>\n",
       "      <td>Pokemon Red/Pokemon Blue</td>\n",
       "      <td>GB</td>\n",
       "      <td>1996.0</td>\n",
       "      <td>Role-Playing</td>\n",
       "      <td>11.27</td>\n",
       "      <td>8.89</td>\n",
       "      <td>10.22</td>\n",
       "      <td>1.00</td>\n",
       "      <td>NaN</td>\n",
       "      <td>NaN</td>\n",
       "      <td>NaN</td>\n",
       "    </tr>\n",
       "  </tbody>\n",
       "</table>\n",
       "</div>"
      ],
      "text/plain": [
       "                       Name Platform  Year_of_Release         Genre  NA_sales  \\\n",
       "0                Wii Sports      Wii           2006.0        Sports     41.36   \n",
       "1         Super Mario Bros.      NES           1985.0      Platform     29.08   \n",
       "2            Mario Kart Wii      Wii           2008.0        Racing     15.68   \n",
       "3         Wii Sports Resort      Wii           2009.0        Sports     15.61   \n",
       "4  Pokemon Red/Pokemon Blue       GB           1996.0  Role-Playing     11.27   \n",
       "\n",
       "   EU_sales  JP_sales  Other_sales  Critic_Score User_Score Rating  \n",
       "0     28.96      3.77         8.45          76.0          8      E  \n",
       "1      3.58      6.81         0.77           NaN        NaN    NaN  \n",
       "2     12.76      3.79         3.29          82.0        8.3      E  \n",
       "3     10.93      3.28         2.95          80.0          8      E  \n",
       "4      8.89     10.22         1.00           NaN        NaN    NaN  "
      ]
     },
     "execution_count": 2,
     "metadata": {},
     "output_type": "execute_result"
    }
   ],
   "source": [
    "games = pd.read_csv('games.csv')\n",
    "games.head()"
   ]
  },
  {
   "cell_type": "code",
   "execution_count": 3,
   "metadata": {},
   "outputs": [
    {
     "name": "stdout",
     "output_type": "stream",
     "text": [
      "<class 'pandas.core.frame.DataFrame'>\n",
      "RangeIndex: 16715 entries, 0 to 16714\n",
      "Data columns (total 11 columns):\n",
      " #   Column           Non-Null Count  Dtype  \n",
      "---  ------           --------------  -----  \n",
      " 0   Name             16713 non-null  object \n",
      " 1   Platform         16715 non-null  object \n",
      " 2   Year_of_Release  16446 non-null  float64\n",
      " 3   Genre            16713 non-null  object \n",
      " 4   NA_sales         16715 non-null  float64\n",
      " 5   EU_sales         16715 non-null  float64\n",
      " 6   JP_sales         16715 non-null  float64\n",
      " 7   Other_sales      16715 non-null  float64\n",
      " 8   Critic_Score     8137 non-null   float64\n",
      " 9   User_Score       10014 non-null  object \n",
      " 10  Rating           9949 non-null   object \n",
      "dtypes: float64(6), object(5)\n",
      "memory usage: 1.4+ MB\n"
     ]
    }
   ],
   "source": [
    "games.info()"
   ]
  },
  {
   "cell_type": "markdown",
   "metadata": {},
   "source": [
    "<b>Вывод:</b> можно заметить, что в 6 столбцах(Name, Year_of_Release, Genre, Critic_Score, User_Score, Rating) присутствуют нулевые значения. Также названия столбцов следуют привести к нижнему регистру. Следует также проверить регистр в данных некоторых столбцов и привести данные в некоторых столбцах к нужному типу."
   ]
  },
  {
   "cell_type": "markdown",
   "metadata": {},
   "source": [
    "# Подготовка данных"
   ]
  },
  {
   "cell_type": "markdown",
   "metadata": {},
   "source": [
    "## Приведение названий столбцов к нижнему регистру"
   ]
  },
  {
   "cell_type": "code",
   "execution_count": 4,
   "metadata": {},
   "outputs": [
    {
     "name": "stdout",
     "output_type": "stream",
     "text": [
      "<class 'pandas.core.frame.DataFrame'>\n",
      "RangeIndex: 16715 entries, 0 to 16714\n",
      "Data columns (total 11 columns):\n",
      " #   Column           Non-Null Count  Dtype  \n",
      "---  ------           --------------  -----  \n",
      " 0   name             16713 non-null  object \n",
      " 1   platform         16715 non-null  object \n",
      " 2   year_of_release  16446 non-null  float64\n",
      " 3   genre            16713 non-null  object \n",
      " 4   na_sales         16715 non-null  float64\n",
      " 5   eu_sales         16715 non-null  float64\n",
      " 6   jp_sales         16715 non-null  float64\n",
      " 7   other_sales      16715 non-null  float64\n",
      " 8   critic_score     8137 non-null   float64\n",
      " 9   user_score       10014 non-null  object \n",
      " 10  rating           9949 non-null   object \n",
      "dtypes: float64(6), object(5)\n",
      "memory usage: 1.4+ MB\n",
      "None\n"
     ]
    }
   ],
   "source": [
    "games.columns = games.columns.str.lower()\n",
    "print(games.info())"
   ]
  },
  {
   "cell_type": "markdown",
   "metadata": {},
   "source": [
    "## Приведение данных к нужному типу"
   ]
  },
  {
   "cell_type": "markdown",
   "metadata": {},
   "source": [
    "Требуется заменить тип данных в столбце year_of_release. Так как в данной столбце содержится только год (целое число) и здесь не требуется дробной части. Данное преобразование пройдет уже после заполнения данного столбца значениями."
   ]
  },
  {
   "cell_type": "markdown",
   "metadata": {},
   "source": [
    "## Обработка пропусков"
   ]
  },
  {
   "cell_type": "markdown",
   "metadata": {},
   "source": [
    "В столбце name есть 2 пропущенных значения. Из нужно удалить, так как название игры мы никак не узнаем и 2 записи никак не повлияют на весь датафрейм. "
   ]
  },
  {
   "cell_type": "code",
   "execution_count": 5,
   "metadata": {},
   "outputs": [
    {
     "name": "stdout",
     "output_type": "stream",
     "text": [
      "<class 'pandas.core.frame.DataFrame'>\n",
      "RangeIndex: 16713 entries, 0 to 16712\n",
      "Data columns (total 11 columns):\n",
      " #   Column           Non-Null Count  Dtype  \n",
      "---  ------           --------------  -----  \n",
      " 0   name             16713 non-null  object \n",
      " 1   platform         16713 non-null  object \n",
      " 2   year_of_release  16444 non-null  float64\n",
      " 3   genre            16713 non-null  object \n",
      " 4   na_sales         16713 non-null  float64\n",
      " 5   eu_sales         16713 non-null  float64\n",
      " 6   jp_sales         16713 non-null  float64\n",
      " 7   other_sales      16713 non-null  float64\n",
      " 8   critic_score     8137 non-null   float64\n",
      " 9   user_score       10014 non-null  object \n",
      " 10  rating           9949 non-null   object \n",
      "dtypes: float64(6), object(5)\n",
      "memory usage: 1.4+ MB\n",
      "None\n"
     ]
    }
   ],
   "source": [
    "games = games.dropna(subset = ['name']).reset_index(drop = True)\n",
    "print(games.info())"
   ]
  },
  {
   "cell_type": "markdown",
   "metadata": {},
   "source": [
    "В столбце year_of_release есть пропущенные значения. Можно посмотреть, присутствует ли уже такая игра и узнать по ней год выпуска. А оставшиеся значения заполнить средним по столбцу."
   ]
  },
  {
   "cell_type": "code",
   "execution_count": 6,
   "metadata": {
    "scrolled": true
   },
   "outputs": [
    {
     "name": "stdout",
     "output_type": "stream",
     "text": [
      "<class 'pandas.core.frame.DataFrame'>\n",
      "RangeIndex: 16567 entries, 0 to 16566\n",
      "Data columns (total 11 columns):\n",
      " #   Column           Non-Null Count  Dtype  \n",
      "---  ------           --------------  -----  \n",
      " 0   name             16567 non-null  object \n",
      " 1   platform         16567 non-null  object \n",
      " 2   year_of_release  16567 non-null  int32  \n",
      " 3   genre            16567 non-null  object \n",
      " 4   na_sales         16567 non-null  float64\n",
      " 5   eu_sales         16567 non-null  float64\n",
      " 6   jp_sales         16567 non-null  float64\n",
      " 7   other_sales      16567 non-null  float64\n",
      " 8   critic_score     8075 non-null   float64\n",
      " 9   user_score       9934 non-null   object \n",
      " 10  rating           9868 non-null   object \n",
      "dtypes: float64(5), int32(1), object(5)\n",
      "memory usage: 1.3+ MB\n",
      "None\n"
     ]
    }
   ],
   "source": [
    "name_year = games.groupby('name')['year_of_release'].apply(list).to_dict() #создаем словарь, где ключ это название, а значение - все значения лет\n",
    "for key in name_year:\n",
    "    name_year[key] = [x for x in name_year[key] if str(x) != 'nan'] #удаляем значения nan из значений словаря\n",
    "    if name_year[key]:\n",
    "        name_year[key] = mean(name_year[key]) #делаем среднее, где значение является непустым списком\n",
    "name_year = {key:name_year[key] for key in name_year if name_year[key] != []} #удаляем пустые списки из значений словаря\n",
    "\n",
    "games['year_of_release'] = games['year_of_release'].fillna(games['name'].apply(lambda x: name_year.get(x)))\n",
    "games = games.dropna(subset = ['year_of_release']).reset_index(drop = True)\n",
    "games['year_of_release'] = games['year_of_release'].astype('int')\n",
    "print(games.info())"
   ]
  },
  {
   "cell_type": "markdown",
   "metadata": {},
   "source": [
    "Заменим значения в столбце user_score. Здесь присутствует такое значение, как 'tbd' - to be determined - будут определены. Поэтому пока эти значения не определены, можно заменить из на nan. И преобразуем данный столбец в тип float."
   ]
  },
  {
   "cell_type": "code",
   "execution_count": 7,
   "metadata": {},
   "outputs": [
    {
     "name": "stdout",
     "output_type": "stream",
     "text": [
      "<class 'pandas.core.frame.DataFrame'>\n",
      "RangeIndex: 16567 entries, 0 to 16566\n",
      "Data columns (total 11 columns):\n",
      " #   Column           Non-Null Count  Dtype  \n",
      "---  ------           --------------  -----  \n",
      " 0   name             16567 non-null  object \n",
      " 1   platform         16567 non-null  object \n",
      " 2   year_of_release  16567 non-null  int32  \n",
      " 3   genre            16567 non-null  object \n",
      " 4   na_sales         16567 non-null  float64\n",
      " 5   eu_sales         16567 non-null  float64\n",
      " 6   jp_sales         16567 non-null  float64\n",
      " 7   other_sales      16567 non-null  float64\n",
      " 8   critic_score     8075 non-null   float64\n",
      " 9   user_score       7540 non-null   float64\n",
      " 10  rating           9868 non-null   object \n",
      "dtypes: float64(6), int32(1), object(4)\n",
      "memory usage: 1.3+ MB\n",
      "None\n"
     ]
    }
   ],
   "source": [
    "games['user_score'] = games['user_score'].replace('tbd', np.nan)\n",
    "games['user_score'] = games['user_score'].astype('float')\n",
    "print(games.info())"
   ]
  },
  {
   "cell_type": "markdown",
   "metadata": {},
   "source": [
    "В столбцах critic_score, user_score, rating мы никак не можем предугадать значения. Поэтому оставим эти столбцы с нулевыми значенями.  "
   ]
  },
  {
   "cell_type": "code",
   "execution_count": 8,
   "metadata": {},
   "outputs": [
    {
     "name": "stdout",
     "output_type": "stream",
     "text": [
      "['E' 'No rating' 'M' 'T' 'E10+' 'AO' 'EC' 'RP']\n",
      "<class 'pandas.core.frame.DataFrame'>\n",
      "RangeIndex: 16567 entries, 0 to 16566\n",
      "Data columns (total 11 columns):\n",
      " #   Column           Non-Null Count  Dtype  \n",
      "---  ------           --------------  -----  \n",
      " 0   name             16567 non-null  object \n",
      " 1   platform         16567 non-null  object \n",
      " 2   year_of_release  16567 non-null  int32  \n",
      " 3   genre            16567 non-null  object \n",
      " 4   na_sales         16567 non-null  float64\n",
      " 5   eu_sales         16567 non-null  float64\n",
      " 6   jp_sales         16567 non-null  float64\n",
      " 7   other_sales      16567 non-null  float64\n",
      " 8   critic_score     8075 non-null   float64\n",
      " 9   user_score       7540 non-null   float64\n",
      " 10  rating           16567 non-null  object \n",
      "dtypes: float64(6), int32(1), object(4)\n",
      "memory usage: 1.3+ MB\n",
      "None\n"
     ]
    }
   ],
   "source": [
    "games['rating'] = games['rating'].replace('K-A', 'E')\n",
    "games['rating'] = games['rating'].fillna('No rating')\n",
    "print(games['rating'].unique())\n",
    "print(games.info())"
   ]
  },
  {
   "cell_type": "markdown",
   "metadata": {},
   "source": [
    "## Суммарные продажи"
   ]
  },
  {
   "cell_type": "code",
   "execution_count": 9,
   "metadata": {},
   "outputs": [
    {
     "data": {
      "text/html": [
       "<div>\n",
       "<style scoped>\n",
       "    .dataframe tbody tr th:only-of-type {\n",
       "        vertical-align: middle;\n",
       "    }\n",
       "\n",
       "    .dataframe tbody tr th {\n",
       "        vertical-align: top;\n",
       "    }\n",
       "\n",
       "    .dataframe thead th {\n",
       "        text-align: right;\n",
       "    }\n",
       "</style>\n",
       "<table border=\"1\" class=\"dataframe\">\n",
       "  <thead>\n",
       "    <tr style=\"text-align: right;\">\n",
       "      <th></th>\n",
       "      <th>name</th>\n",
       "      <th>platform</th>\n",
       "      <th>year_of_release</th>\n",
       "      <th>genre</th>\n",
       "      <th>na_sales</th>\n",
       "      <th>eu_sales</th>\n",
       "      <th>jp_sales</th>\n",
       "      <th>other_sales</th>\n",
       "      <th>critic_score</th>\n",
       "      <th>user_score</th>\n",
       "      <th>rating</th>\n",
       "      <th>all_sales</th>\n",
       "    </tr>\n",
       "  </thead>\n",
       "  <tbody>\n",
       "    <tr>\n",
       "      <th>0</th>\n",
       "      <td>Wii Sports</td>\n",
       "      <td>Wii</td>\n",
       "      <td>2006</td>\n",
       "      <td>Sports</td>\n",
       "      <td>41.36</td>\n",
       "      <td>28.96</td>\n",
       "      <td>3.77</td>\n",
       "      <td>8.45</td>\n",
       "      <td>76.0</td>\n",
       "      <td>8.0</td>\n",
       "      <td>E</td>\n",
       "      <td>82.54</td>\n",
       "    </tr>\n",
       "    <tr>\n",
       "      <th>1</th>\n",
       "      <td>Super Mario Bros.</td>\n",
       "      <td>NES</td>\n",
       "      <td>1985</td>\n",
       "      <td>Platform</td>\n",
       "      <td>29.08</td>\n",
       "      <td>3.58</td>\n",
       "      <td>6.81</td>\n",
       "      <td>0.77</td>\n",
       "      <td>NaN</td>\n",
       "      <td>NaN</td>\n",
       "      <td>No rating</td>\n",
       "      <td>40.24</td>\n",
       "    </tr>\n",
       "    <tr>\n",
       "      <th>2</th>\n",
       "      <td>Mario Kart Wii</td>\n",
       "      <td>Wii</td>\n",
       "      <td>2008</td>\n",
       "      <td>Racing</td>\n",
       "      <td>15.68</td>\n",
       "      <td>12.76</td>\n",
       "      <td>3.79</td>\n",
       "      <td>3.29</td>\n",
       "      <td>82.0</td>\n",
       "      <td>8.3</td>\n",
       "      <td>E</td>\n",
       "      <td>35.52</td>\n",
       "    </tr>\n",
       "    <tr>\n",
       "      <th>3</th>\n",
       "      <td>Wii Sports Resort</td>\n",
       "      <td>Wii</td>\n",
       "      <td>2009</td>\n",
       "      <td>Sports</td>\n",
       "      <td>15.61</td>\n",
       "      <td>10.93</td>\n",
       "      <td>3.28</td>\n",
       "      <td>2.95</td>\n",
       "      <td>80.0</td>\n",
       "      <td>8.0</td>\n",
       "      <td>E</td>\n",
       "      <td>32.77</td>\n",
       "    </tr>\n",
       "    <tr>\n",
       "      <th>4</th>\n",
       "      <td>Pokemon Red/Pokemon Blue</td>\n",
       "      <td>GB</td>\n",
       "      <td>1996</td>\n",
       "      <td>Role-Playing</td>\n",
       "      <td>11.27</td>\n",
       "      <td>8.89</td>\n",
       "      <td>10.22</td>\n",
       "      <td>1.00</td>\n",
       "      <td>NaN</td>\n",
       "      <td>NaN</td>\n",
       "      <td>No rating</td>\n",
       "      <td>31.38</td>\n",
       "    </tr>\n",
       "  </tbody>\n",
       "</table>\n",
       "</div>"
      ],
      "text/plain": [
       "                       name platform  year_of_release         genre  na_sales  \\\n",
       "0                Wii Sports      Wii             2006        Sports     41.36   \n",
       "1         Super Mario Bros.      NES             1985      Platform     29.08   \n",
       "2            Mario Kart Wii      Wii             2008        Racing     15.68   \n",
       "3         Wii Sports Resort      Wii             2009        Sports     15.61   \n",
       "4  Pokemon Red/Pokemon Blue       GB             1996  Role-Playing     11.27   \n",
       "\n",
       "   eu_sales  jp_sales  other_sales  critic_score  user_score     rating  \\\n",
       "0     28.96      3.77         8.45          76.0         8.0          E   \n",
       "1      3.58      6.81         0.77           NaN         NaN  No rating   \n",
       "2     12.76      3.79         3.29          82.0         8.3          E   \n",
       "3     10.93      3.28         2.95          80.0         8.0          E   \n",
       "4      8.89     10.22         1.00           NaN         NaN  No rating   \n",
       "\n",
       "   all_sales  \n",
       "0      82.54  \n",
       "1      40.24  \n",
       "2      35.52  \n",
       "3      32.77  \n",
       "4      31.38  "
      ]
     },
     "execution_count": 9,
     "metadata": {},
     "output_type": "execute_result"
    }
   ],
   "source": [
    "games['all_sales'] = games['na_sales'] + games['eu_sales'] + games['jp_sales'] + games['other_sales']\n",
    "games.head()"
   ]
  },
  {
   "cell_type": "markdown",
   "metadata": {},
   "source": [
    "# Исследовательский анализ данных"
   ]
  },
  {
   "cell_type": "markdown",
   "metadata": {},
   "source": [
    "## Сколько игр выпускалось в разные годы?"
   ]
  },
  {
   "cell_type": "code",
   "execution_count": 10,
   "metadata": {},
   "outputs": [
    {
     "data": {
      "text/plain": [
       "Text(0, 0.5, 'количество игр')"
      ]
     },
     "execution_count": 10,
     "metadata": {},
     "output_type": "execute_result"
    },
    {
     "data": {
      "image/png": "[encoded data removed]",
      "text/plain": [
       "<Figure size 864x504 with 1 Axes>"
      ]
     },
     "metadata": {
      "needs_background": "light"
     },
     "output_type": "display_data"
    }
   ],
   "source": [
    "games_count = games.groupby('year_of_release')['name'].count()\n",
    "games_count.plot(kind = 'bar', figsize = (12, 7), title = 'Количество игр, выпускаемых в разные годы')\n",
    "plt.xlabel('год выпуска')\n",
    "plt.ylabel('количество игр')"
   ]
  },
  {
   "cell_type": "markdown",
   "metadata": {},
   "source": [
    "<b>Вывод:</b> можно заметить, что данных до 1994 года слишком мало. Данные за этот период не так важны. Пик графика приходится на 2008-2009 годы. После 2011 года идет резкий спад количества выпускаемых игр. В 2015 году было выпущено около 600 игр, если судить по графику. В 2016 году число выпущенных игр уже близко к данному значению, хотя год еще не закончился."
   ]
  },
  {
   "cell_type": "markdown",
   "metadata": {},
   "source": [
    "## Как менялись продажи по платформам?"
   ]
  },
  {
   "cell_type": "code",
   "execution_count": 11,
   "metadata": {},
   "outputs": [
    {
     "data": {
      "text/plain": [
       "Text(0, 0.5, 'количество игр')"
      ]
     },
     "execution_count": 11,
     "metadata": {},
     "output_type": "execute_result"
    },
    {
     "data": {
      "image/png": "[encoded data removed]",
      "text/plain": [
       "<Figure size 864x648 with 1 Axes>"
      ]
     },
     "metadata": {
      "needs_background": "light"
     },
     "output_type": "display_data"
    }
   ],
   "source": [
    "games_platform = games.pivot_table(index = 'year_of_release', columns = 'platform', values = 'all_sales', aggfunc = 'sum')\n",
    "games_platform.plot(figsize = (12, 9), title = 'Количество игр, проданных каждой платформой')\n",
    "plt.xlabel('год выпуска')\n",
    "plt.ylabel('количество игр')"
   ]
  },
  {
   "cell_type": "markdown",
   "metadata": {},
   "source": [
    "<b>Платформы лидирующие по продажам</b>"
   ]
  },
  {
   "cell_type": "code",
   "execution_count": 12,
   "metadata": {},
   "outputs": [
    {
     "data": {
      "text/html": [
       "<div>\n",
       "<style scoped>\n",
       "    .dataframe tbody tr th:only-of-type {\n",
       "        vertical-align: middle;\n",
       "    }\n",
       "\n",
       "    .dataframe tbody tr th {\n",
       "        vertical-align: top;\n",
       "    }\n",
       "\n",
       "    .dataframe thead th {\n",
       "        text-align: right;\n",
       "    }\n",
       "</style>\n",
       "<table border=\"1\" class=\"dataframe\">\n",
       "  <thead>\n",
       "    <tr style=\"text-align: right;\">\n",
       "      <th></th>\n",
       "      <th>all_sales</th>\n",
       "    </tr>\n",
       "    <tr>\n",
       "      <th>platform</th>\n",
       "      <th></th>\n",
       "    </tr>\n",
       "  </thead>\n",
       "  <tbody>\n",
       "    <tr>\n",
       "      <th>PS2</th>\n",
       "      <td>1247.16</td>\n",
       "    </tr>\n",
       "    <tr>\n",
       "      <th>X360</th>\n",
       "      <td>966.61</td>\n",
       "    </tr>\n",
       "    <tr>\n",
       "      <th>PS3</th>\n",
       "      <td>935.19</td>\n",
       "    </tr>\n",
       "    <tr>\n",
       "      <th>Wii</th>\n",
       "      <td>903.31</td>\n",
       "    </tr>\n",
       "    <tr>\n",
       "      <th>DS</th>\n",
       "      <td>804.28</td>\n",
       "    </tr>\n",
       "    <tr>\n",
       "      <th>PS</th>\n",
       "      <td>727.58</td>\n",
       "    </tr>\n",
       "    <tr>\n",
       "      <th>PS4</th>\n",
       "      <td>314.14</td>\n",
       "    </tr>\n",
       "    <tr>\n",
       "      <th>GBA</th>\n",
       "      <td>313.73</td>\n",
       "    </tr>\n",
       "    <tr>\n",
       "      <th>PSP</th>\n",
       "      <td>293.57</td>\n",
       "    </tr>\n",
       "    <tr>\n",
       "      <th>PC</th>\n",
       "      <td>258.86</td>\n",
       "    </tr>\n",
       "  </tbody>\n",
       "</table>\n",
       "</div>"
      ],
      "text/plain": [
       "          all_sales\n",
       "platform           \n",
       "PS2         1247.16\n",
       "X360         966.61\n",
       "PS3          935.19\n",
       "Wii          903.31\n",
       "DS           804.28\n",
       "PS           727.58\n",
       "PS4          314.14\n",
       "GBA          313.73\n",
       "PSP          293.57\n",
       "PC           258.86"
      ]
     },
     "metadata": {},
     "output_type": "display_data"
    }
   ],
   "source": [
    "display(games.pivot_table(index = 'platform', values = 'all_sales', aggfunc = 'sum').sort_values(by = 'all_sales', ascending = False).head(10))"
   ]
  },
  {
   "cell_type": "markdown",
   "metadata": {},
   "source": [
    "Наибольшие значения имеют следующие платформы: PS2, X360, PS3, Wii, DS, PS "
   ]
  },
  {
   "cell_type": "code",
   "execution_count": 13,
   "metadata": {},
   "outputs": [
    {
     "data": {
      "text/plain": [
       "Text(0, 0.5, 'суммарные продажи')"
      ]
     },
     "execution_count": 13,
     "metadata": {},
     "output_type": "execute_result"
    },
    {
     "data": {
      "image/png": "[encoded data removed]",
      "text/plain": [
       "<Figure size 864x360 with 1 Axes>"
      ]
     },
     "metadata": {
      "needs_background": "light"
     },
     "output_type": "display_data"
    }
   ],
   "source": [
    "games_platform[['PS2', 'X360', 'PS3', 'Wii', 'DS', 'PS']].plot(legend = True, figsize = (12, 5), xlim =(1993, None), title = 'Платформы с наибольшими суммарными продажами')\n",
    "plt.xlabel('год выпуска')\n",
    "plt.ylabel('суммарные продажи')"
   ]
  },
  {
   "cell_type": "code",
   "execution_count": 14,
   "metadata": {},
   "outputs": [
    {
     "name": "stdout",
     "output_type": "stream",
     "text": [
      "Продолжительность жизни популярных платформ:\n",
      "platform\n",
      "PS2     12\n",
      "X360    12\n",
      "PS3     13\n",
      "Wii     11\n",
      "DS      11\n",
      "PS      10\n",
      "dtype: int64\n"
     ]
    }
   ],
   "source": [
    "print('Продолжительность жизни популярных платформ:')\n",
    "print(games_platform[['PS2', 'X360', 'PS3', 'Wii', 'DS', 'PS']].count())"
   ]
  },
  {
   "cell_type": "markdown",
   "metadata": {},
   "source": [
    "<b>Вывод:</b> платфорами с наибольшими суммарными продажами являются PS2, X360, PS3, Wii, DS, PS. Срок с появления платформы и до ее исчезновения составляет 10-13 лет."
   ]
  },
  {
   "cell_type": "markdown",
   "metadata": {},
   "source": [
    "## Данные за актуальный период"
   ]
  },
  {
   "cell_type": "markdown",
   "metadata": {},
   "source": [
    "За актуальный период примем 3 года, так как именно в такой период времени идет подъем платформы. Компьютерные игры - очень инновационная отрасль, где каждый год случается революция, одна технология сменяет другую, да и экономические условия каждый год немного меняются. То есть возьмем данные за 2014-2016 годы."
   ]
  },
  {
   "cell_type": "code",
   "execution_count": 15,
   "metadata": {},
   "outputs": [
    {
     "data": {
      "text/html": [
       "<div>\n",
       "<style scoped>\n",
       "    .dataframe tbody tr th:only-of-type {\n",
       "        vertical-align: middle;\n",
       "    }\n",
       "\n",
       "    .dataframe tbody tr th {\n",
       "        vertical-align: top;\n",
       "    }\n",
       "\n",
       "    .dataframe thead th {\n",
       "        text-align: right;\n",
       "    }\n",
       "</style>\n",
       "<table border=\"1\" class=\"dataframe\">\n",
       "  <thead>\n",
       "    <tr style=\"text-align: right;\">\n",
       "      <th></th>\n",
       "      <th>name</th>\n",
       "      <th>platform</th>\n",
       "      <th>year_of_release</th>\n",
       "      <th>genre</th>\n",
       "      <th>na_sales</th>\n",
       "      <th>eu_sales</th>\n",
       "      <th>jp_sales</th>\n",
       "      <th>other_sales</th>\n",
       "      <th>critic_score</th>\n",
       "      <th>user_score</th>\n",
       "      <th>rating</th>\n",
       "      <th>all_sales</th>\n",
       "    </tr>\n",
       "  </thead>\n",
       "  <tbody>\n",
       "    <tr>\n",
       "      <th>31</th>\n",
       "      <td>Call of Duty: Black Ops 3</td>\n",
       "      <td>PS4</td>\n",
       "      <td>2015</td>\n",
       "      <td>Shooter</td>\n",
       "      <td>6.03</td>\n",
       "      <td>5.86</td>\n",
       "      <td>0.36</td>\n",
       "      <td>2.38</td>\n",
       "      <td>NaN</td>\n",
       "      <td>NaN</td>\n",
       "      <td>No rating</td>\n",
       "      <td>14.63</td>\n",
       "    </tr>\n",
       "    <tr>\n",
       "      <th>42</th>\n",
       "      <td>Grand Theft Auto V</td>\n",
       "      <td>PS4</td>\n",
       "      <td>2014</td>\n",
       "      <td>Action</td>\n",
       "      <td>3.96</td>\n",
       "      <td>6.31</td>\n",
       "      <td>0.38</td>\n",
       "      <td>1.97</td>\n",
       "      <td>97.0</td>\n",
       "      <td>8.3</td>\n",
       "      <td>M</td>\n",
       "      <td>12.62</td>\n",
       "    </tr>\n",
       "    <tr>\n",
       "      <th>47</th>\n",
       "      <td>Pokemon Omega Ruby/Pokemon Alpha Sapphire</td>\n",
       "      <td>3DS</td>\n",
       "      <td>2014</td>\n",
       "      <td>Role-Playing</td>\n",
       "      <td>4.35</td>\n",
       "      <td>3.49</td>\n",
       "      <td>3.10</td>\n",
       "      <td>0.74</td>\n",
       "      <td>NaN</td>\n",
       "      <td>NaN</td>\n",
       "      <td>No rating</td>\n",
       "      <td>11.68</td>\n",
       "    </tr>\n",
       "    <tr>\n",
       "      <th>77</th>\n",
       "      <td>FIFA 16</td>\n",
       "      <td>PS4</td>\n",
       "      <td>2015</td>\n",
       "      <td>Sports</td>\n",
       "      <td>1.12</td>\n",
       "      <td>6.12</td>\n",
       "      <td>0.06</td>\n",
       "      <td>1.28</td>\n",
       "      <td>82.0</td>\n",
       "      <td>4.3</td>\n",
       "      <td>E</td>\n",
       "      <td>8.58</td>\n",
       "    </tr>\n",
       "    <tr>\n",
       "      <th>87</th>\n",
       "      <td>Star Wars Battlefront (2015)</td>\n",
       "      <td>PS4</td>\n",
       "      <td>2015</td>\n",
       "      <td>Shooter</td>\n",
       "      <td>2.99</td>\n",
       "      <td>3.49</td>\n",
       "      <td>0.22</td>\n",
       "      <td>1.28</td>\n",
       "      <td>NaN</td>\n",
       "      <td>NaN</td>\n",
       "      <td>No rating</td>\n",
       "      <td>7.98</td>\n",
       "    </tr>\n",
       "  </tbody>\n",
       "</table>\n",
       "</div>"
      ],
      "text/plain": [
       "                                         name platform  year_of_release  \\\n",
       "31                  Call of Duty: Black Ops 3      PS4             2015   \n",
       "42                         Grand Theft Auto V      PS4             2014   \n",
       "47  Pokemon Omega Ruby/Pokemon Alpha Sapphire      3DS             2014   \n",
       "77                                    FIFA 16      PS4             2015   \n",
       "87               Star Wars Battlefront (2015)      PS4             2015   \n",
       "\n",
       "           genre  na_sales  eu_sales  jp_sales  other_sales  critic_score  \\\n",
       "31       Shooter      6.03      5.86      0.36         2.38           NaN   \n",
       "42        Action      3.96      6.31      0.38         1.97          97.0   \n",
       "47  Role-Playing      4.35      3.49      3.10         0.74           NaN   \n",
       "77        Sports      1.12      6.12      0.06         1.28          82.0   \n",
       "87       Shooter      2.99      3.49      0.22         1.28           NaN   \n",
       "\n",
       "    user_score     rating  all_sales  \n",
       "31         NaN  No rating      14.63  \n",
       "42         8.3          M      12.62  \n",
       "47         NaN  No rating      11.68  \n",
       "77         4.3          E       8.58  \n",
       "87         NaN  No rating       7.98  "
      ]
     },
     "execution_count": 15,
     "metadata": {},
     "output_type": "execute_result"
    }
   ],
   "source": [
    "actual_games = games.query('year_of_release >= 2014')\n",
    "actual_games.head()"
   ]
  },
  {
   "cell_type": "markdown",
   "metadata": {},
   "source": [
    "## Какие платформы лидируют по продажам, растут или падают?"
   ]
  },
  {
   "cell_type": "code",
   "execution_count": 16,
   "metadata": {},
   "outputs": [
    {
     "data": {
      "text/plain": [
       "Text(0, 0.5, 'суммарные продажи')"
      ]
     },
     "execution_count": 16,
     "metadata": {},
     "output_type": "execute_result"
    },
    {
     "data": {
      "image/png": "[encoded data removed]",
      "text/plain": [
       "<Figure size 864x504 with 1 Axes>"
      ]
     },
     "metadata": {
      "needs_background": "light"
     },
     "output_type": "display_data"
    }
   ],
   "source": [
    "actual_games_platform = actual_games.pivot_table(index = 'year_of_release', columns = 'platform', values = 'all_sales', aggfunc = 'sum')\n",
    "actual_games_platform.plot(figsize = (12, 7), title = 'Суммарные продажи игр на каждой платформе за 2014-2016 годы', xticks=[2014, 2015, 2016])\n",
    "plt.xlabel('год выпуска')\n",
    "plt.ylabel('суммарные продажи')"
   ]
  },
  {
   "cell_type": "markdown",
   "metadata": {},
   "source": [
    "<b>Лидеры по продажам в актуальный период</b>"
   ]
  },
  {
   "cell_type": "code",
   "execution_count": 17,
   "metadata": {},
   "outputs": [
    {
     "data": {
      "text/html": [
       "<div>\n",
       "<style scoped>\n",
       "    .dataframe tbody tr th:only-of-type {\n",
       "        vertical-align: middle;\n",
       "    }\n",
       "\n",
       "    .dataframe tbody tr th {\n",
       "        vertical-align: top;\n",
       "    }\n",
       "\n",
       "    .dataframe thead th {\n",
       "        text-align: right;\n",
       "    }\n",
       "</style>\n",
       "<table border=\"1\" class=\"dataframe\">\n",
       "  <thead>\n",
       "    <tr style=\"text-align: right;\">\n",
       "      <th></th>\n",
       "      <th>all_sales</th>\n",
       "    </tr>\n",
       "    <tr>\n",
       "      <th>platform</th>\n",
       "      <th></th>\n",
       "    </tr>\n",
       "  </thead>\n",
       "  <tbody>\n",
       "    <tr>\n",
       "      <th>PS4</th>\n",
       "      <td>288.15</td>\n",
       "    </tr>\n",
       "    <tr>\n",
       "      <th>XOne</th>\n",
       "      <td>140.36</td>\n",
       "    </tr>\n",
       "    <tr>\n",
       "      <th>3DS</th>\n",
       "      <td>86.68</td>\n",
       "    </tr>\n",
       "    <tr>\n",
       "      <th>PS3</th>\n",
       "      <td>68.18</td>\n",
       "    </tr>\n",
       "    <tr>\n",
       "      <th>X360</th>\n",
       "      <td>48.22</td>\n",
       "    </tr>\n",
       "    <tr>\n",
       "      <th>WiiU</th>\n",
       "      <td>42.98</td>\n",
       "    </tr>\n",
       "    <tr>\n",
       "      <th>PC</th>\n",
       "      <td>27.05</td>\n",
       "    </tr>\n",
       "    <tr>\n",
       "      <th>PSV</th>\n",
       "      <td>22.40</td>\n",
       "    </tr>\n",
       "    <tr>\n",
       "      <th>Wii</th>\n",
       "      <td>5.07</td>\n",
       "    </tr>\n",
       "    <tr>\n",
       "      <th>PSP</th>\n",
       "      <td>0.36</td>\n",
       "    </tr>\n",
       "  </tbody>\n",
       "</table>\n",
       "</div>"
      ],
      "text/plain": [
       "          all_sales\n",
       "platform           \n",
       "PS4          288.15\n",
       "XOne         140.36\n",
       "3DS           86.68\n",
       "PS3           68.18\n",
       "X360          48.22\n",
       "WiiU          42.98\n",
       "PC            27.05\n",
       "PSV           22.40\n",
       "Wii            5.07\n",
       "PSP            0.36"
      ]
     },
     "metadata": {},
     "output_type": "display_data"
    }
   ],
   "source": [
    "platform__all_sales = actual_games.pivot_table(index = 'platform', values = 'all_sales', aggfunc = 'sum')\n",
    "display(platform__all_sales.sort_values(by = 'all_sales', ascending = False))"
   ]
  },
  {
   "cell_type": "markdown",
   "metadata": {},
   "source": [
    "## График «ящик с усами» по глобальным продажам игр в разбивке по платформам"
   ]
  },
  {
   "cell_type": "code",
   "execution_count": 18,
   "metadata": {},
   "outputs": [
    {
     "data": {
      "image/png": "[encoded data removed]",
      "text/plain": [
       "<Figure size 432x288 with 1 Axes>"
      ]
     },
     "metadata": {
      "needs_background": "light"
     },
     "output_type": "display_data"
    }
   ],
   "source": [
    "actual_games_platforms = actual_games.query('platform == \"PS4\" or platform == \"XOne\" or platform == \"3DS\" or platform == \"PS3\"')\n",
    "actual_games_platforms.boxplot(column = 'all_sales', by = 'platform')\n",
    "plt.ylim(0, 1.6)\n",
    "plt.show()"
   ]
  },
  {
   "cell_type": "markdown",
   "metadata": {},
   "source": [
    "По данному ящику с усами можно видеть, что во всех 4 графиках много данных нахоится выше верхней границы, что говорит о значительных выбросах. Медиана у платформ 3DS и PS3 близки по значения, а медиана платформы PS4 близка по значению к медиане платформы XOne. Выьросы платформы 3DS начинаются уже со значения 0.6"
   ]
  },
  {
   "cell_type": "markdown",
   "metadata": {},
   "source": [
    "## Влияние отзывов пользователей и критиков на продажи внутри одной популярной платформы"
   ]
  },
  {
   "cell_type": "code",
   "execution_count": 19,
   "metadata": {},
   "outputs": [
    {
     "name": "stdout",
     "output_type": "stream",
     "text": [
      "       year_of_release    na_sales    eu_sales    jp_sales  other_sales  \\\n",
      "count       376.000000  376.000000  376.000000  376.000000   376.000000   \n",
      "mean       2015.236702    0.262261    0.345851    0.039947     0.118298   \n",
      "std           0.762336    0.583439    0.815480    0.067048     0.256506   \n",
      "min        2014.000000    0.000000    0.000000    0.000000     0.000000   \n",
      "25%        2015.000000    0.000000    0.000000    0.000000     0.000000   \n",
      "50%        2015.000000    0.050000    0.070000    0.015000     0.020000   \n",
      "75%        2016.000000    0.240000    0.280000    0.050000     0.102500   \n",
      "max        2016.000000    6.030000    6.310000    0.490000     2.380000   \n",
      "\n",
      "       critic_score  user_score   all_sales  \n",
      "count    237.000000  242.000000  376.000000  \n",
      "mean      72.164557    6.828099    0.766356  \n",
      "std       12.214985    1.399035    1.614969  \n",
      "min       19.000000    1.500000    0.010000  \n",
      "25%       66.000000    6.200000    0.057500  \n",
      "50%       73.000000    7.100000    0.185000  \n",
      "75%       80.000000    7.875000    0.690000  \n",
      "max       97.000000    9.200000   14.630000  \n"
     ]
    },
    {
     "data": {
      "text/plain": [
       "Text(0.5, 1.0, 'Диаграмма размаха PS4')"
      ]
     },
     "execution_count": 19,
     "metadata": {},
     "output_type": "execute_result"
    },
    {
     "data": {
      "image/png": "[encoded data removed]",
      "text/plain": [
       "<Figure size 432x288 with 1 Axes>"
      ]
     },
     "metadata": {
      "needs_background": "light"
     },
     "output_type": "display_data"
    }
   ],
   "source": [
    "PS4 = actual_games.query('platform == \"PS4\"') #возьмем наиболее популярную платформу PS4\n",
    "print(PS4.describe())\n",
    "PS4.boxplot('all_sales')\n",
    "plt.ylim(-0.25, 1.6)\n",
    "plt.title('Диаграмма размаха PS4')"
   ]
  },
  {
   "cell_type": "markdown",
   "metadata": {},
   "source": [
    "Данный ящик с усами показывает, что медиана около  0.19. Верхней границей является значение около 1.6, а нижней 0."
   ]
  },
  {
   "cell_type": "code",
   "execution_count": 20,
   "metadata": {},
   "outputs": [
    {
     "data": {
      "text/html": [
       "<div>\n",
       "<style scoped>\n",
       "    .dataframe tbody tr th:only-of-type {\n",
       "        vertical-align: middle;\n",
       "    }\n",
       "\n",
       "    .dataframe tbody tr th {\n",
       "        vertical-align: top;\n",
       "    }\n",
       "\n",
       "    .dataframe thead th {\n",
       "        text-align: right;\n",
       "    }\n",
       "</style>\n",
       "<table border=\"1\" class=\"dataframe\">\n",
       "  <thead>\n",
       "    <tr style=\"text-align: right;\">\n",
       "      <th></th>\n",
       "      <th>critic_score</th>\n",
       "      <th>user_score</th>\n",
       "      <th>all_sales</th>\n",
       "    </tr>\n",
       "  </thead>\n",
       "  <tbody>\n",
       "    <tr>\n",
       "      <th>critic_score</th>\n",
       "      <td>1.000000</td>\n",
       "      <td>0.557654</td>\n",
       "      <td>0.406568</td>\n",
       "    </tr>\n",
       "    <tr>\n",
       "      <th>user_score</th>\n",
       "      <td>0.557654</td>\n",
       "      <td>1.000000</td>\n",
       "      <td>-0.031957</td>\n",
       "    </tr>\n",
       "    <tr>\n",
       "      <th>all_sales</th>\n",
       "      <td>0.406568</td>\n",
       "      <td>-0.031957</td>\n",
       "      <td>1.000000</td>\n",
       "    </tr>\n",
       "  </tbody>\n",
       "</table>\n",
       "</div>"
      ],
      "text/plain": [
       "              critic_score  user_score  all_sales\n",
       "critic_score      1.000000    0.557654   0.406568\n",
       "user_score        0.557654    1.000000  -0.031957\n",
       "all_sales         0.406568   -0.031957   1.000000"
      ]
     },
     "metadata": {},
     "output_type": "display_data"
    },
    {
     "data": {
      "text/plain": [
       "Text(0, 0.5, 'суммарные продажи')"
      ]
     },
     "execution_count": 20,
     "metadata": {},
     "output_type": "execute_result"
    },
    {
     "data": {
      "image/png": "[encoded data removed]",
      "text/plain": [
       "<Figure size 432x288 with 1 Axes>"
      ]
     },
     "metadata": {
      "needs_background": "light"
     },
     "output_type": "display_data"
    },
    {
     "data": {
      "image/png": "[encoded data removed]",
      "text/plain": [
       "<Figure size 432x288 with 1 Axes>"
      ]
     },
     "metadata": {
      "needs_background": "light"
     },
     "output_type": "display_data"
    }
   ],
   "source": [
    "platforma_PS4 = games.query('platform == \"PS4\"')\n",
    "display(platforma_PS4[['critic_score', 'user_score', 'all_sales']].corr())\n",
    "platforma_PS4.plot(x = 'user_score', y = 'all_sales', grid = True, kind = 'scatter')\n",
    "plt.title('Влияние оценок пользователей на продажу')\n",
    "plt.xlabel('оценки пользователя')\n",
    "plt.ylabel('суммарные продажи')\n",
    "platforma_PS4.plot(x = 'critic_score', y = 'all_sales', grid = True, kind = 'scatter')\n",
    "plt.title('Влияние оценок критиков на продажу')\n",
    "plt.xlabel('оценки критиков')\n",
    "plt.ylabel('суммарные продажи')"
   ]
  },
  {
   "cell_type": "markdown",
   "metadata": {},
   "source": [
    "В данном случае оценки критиков в большей степени влияют на продажи, так как корреляция critical_score(0.406568) и all_sales будет выше, чем корреляция user_score(-0.031957) и all_sales. Корреляция между critical_score и all_sales считается низкой, а корреляция между user_score и all_sales очень низкой."
   ]
  },
  {
   "cell_type": "code",
   "execution_count": 21,
   "metadata": {},
   "outputs": [
    {
     "data": {
      "text/html": [
       "<div>\n",
       "<style scoped>\n",
       "    .dataframe tbody tr th:only-of-type {\n",
       "        vertical-align: middle;\n",
       "    }\n",
       "\n",
       "    .dataframe tbody tr th {\n",
       "        vertical-align: top;\n",
       "    }\n",
       "\n",
       "    .dataframe thead th {\n",
       "        text-align: right;\n",
       "    }\n",
       "</style>\n",
       "<table border=\"1\" class=\"dataframe\">\n",
       "  <thead>\n",
       "    <tr style=\"text-align: right;\">\n",
       "      <th></th>\n",
       "      <th>critic_score</th>\n",
       "      <th>user_score</th>\n",
       "      <th>all_sales</th>\n",
       "    </tr>\n",
       "  </thead>\n",
       "  <tbody>\n",
       "    <tr>\n",
       "      <th>critic_score</th>\n",
       "      <td>1.000000</td>\n",
       "      <td>0.472462</td>\n",
       "      <td>0.416998</td>\n",
       "    </tr>\n",
       "    <tr>\n",
       "      <th>user_score</th>\n",
       "      <td>0.472462</td>\n",
       "      <td>1.000000</td>\n",
       "      <td>-0.068925</td>\n",
       "    </tr>\n",
       "    <tr>\n",
       "      <th>all_sales</th>\n",
       "      <td>0.416998</td>\n",
       "      <td>-0.068925</td>\n",
       "      <td>1.000000</td>\n",
       "    </tr>\n",
       "  </tbody>\n",
       "</table>\n",
       "</div>"
      ],
      "text/plain": [
       "              critic_score  user_score  all_sales\n",
       "critic_score      1.000000    0.472462   0.416998\n",
       "user_score        0.472462    1.000000  -0.068925\n",
       "all_sales         0.416998   -0.068925   1.000000"
      ]
     },
     "metadata": {},
     "output_type": "display_data"
    },
    {
     "data": {
      "text/plain": [
       "Text(0, 0.5, 'суммарные продажи')"
      ]
     },
     "execution_count": 21,
     "metadata": {},
     "output_type": "execute_result"
    },
    {
     "data": {
      "image/png": "[encoded data removed]",
      "text/plain": [
       "<Figure size 432x288 with 1 Axes>"
      ]
     },
     "metadata": {
      "needs_background": "light"
     },
     "output_type": "display_data"
    },
    {
     "data": {
      "image/png": "[encoded data removed]",
      "text/plain": [
       "<Figure size 432x288 with 1 Axes>"
      ]
     },
     "metadata": {
      "needs_background": "light"
     },
     "output_type": "display_data"
    }
   ],
   "source": [
    "platforma_XOne = games.query('platform == \"XOne\"')\n",
    "display(platforma_XOne[['critic_score', 'user_score', 'all_sales']].corr())\n",
    "platforma_XOne.plot(x = 'user_score', y = 'all_sales', grid = True, kind = 'scatter')\n",
    "plt.title('Влияние оценок пользователей на продажу')\n",
    "plt.xlabel('оценки пользователя')\n",
    "plt.ylabel('суммарные продажи')\n",
    "platforma_XOne.plot(x = 'critic_score', y = 'all_sales', grid = True, kind = 'scatter')\n",
    "plt.title('Влияние оценок критиков на продажу')\n",
    "plt.xlabel('оценки критиков')\n",
    "plt.ylabel('суммарные продажи')"
   ]
  },
  {
   "cell_type": "markdown",
   "metadata": {},
   "source": [
    "В данном случае ситуация примерно такая же. Оценки критиков в большей степени влияют на продажи, так как корреляция critical_score(0.416998) и all_sales будет выше, чем корреляция user_score(-0.068925) и all_sales. Корреляция между critical_score и all_sales считается низкой, а корреляция между user_score и all_sales очень низкой."
   ]
  },
  {
   "cell_type": "code",
   "execution_count": 22,
   "metadata": {},
   "outputs": [
    {
     "data": {
      "text/html": [
       "<div>\n",
       "<style scoped>\n",
       "    .dataframe tbody tr th:only-of-type {\n",
       "        vertical-align: middle;\n",
       "    }\n",
       "\n",
       "    .dataframe tbody tr th {\n",
       "        vertical-align: top;\n",
       "    }\n",
       "\n",
       "    .dataframe thead th {\n",
       "        text-align: right;\n",
       "    }\n",
       "</style>\n",
       "<table border=\"1\" class=\"dataframe\">\n",
       "  <thead>\n",
       "    <tr style=\"text-align: right;\">\n",
       "      <th></th>\n",
       "      <th>critic_score</th>\n",
       "      <th>user_score</th>\n",
       "      <th>all_sales</th>\n",
       "    </tr>\n",
       "  </thead>\n",
       "  <tbody>\n",
       "    <tr>\n",
       "      <th>critic_score</th>\n",
       "      <td>1.000000</td>\n",
       "      <td>0.744286</td>\n",
       "      <td>0.348216</td>\n",
       "    </tr>\n",
       "    <tr>\n",
       "      <th>user_score</th>\n",
       "      <td>0.744286</td>\n",
       "      <td>1.000000</td>\n",
       "      <td>0.222305</td>\n",
       "    </tr>\n",
       "    <tr>\n",
       "      <th>all_sales</th>\n",
       "      <td>0.348216</td>\n",
       "      <td>0.222305</td>\n",
       "      <td>1.000000</td>\n",
       "    </tr>\n",
       "  </tbody>\n",
       "</table>\n",
       "</div>"
      ],
      "text/plain": [
       "              critic_score  user_score  all_sales\n",
       "critic_score      1.000000    0.744286   0.348216\n",
       "user_score        0.744286    1.000000   0.222305\n",
       "all_sales         0.348216    0.222305   1.000000"
      ]
     },
     "metadata": {},
     "output_type": "display_data"
    },
    {
     "data": {
      "text/plain": [
       "Text(0, 0.5, 'суммарные продажи')"
      ]
     },
     "execution_count": 22,
     "metadata": {},
     "output_type": "execute_result"
    },
    {
     "data": {
      "image/png": "[encoded data removed]",
      "text/plain": [
       "<Figure size 432x288 with 1 Axes>"
      ]
     },
     "metadata": {
      "needs_background": "light"
     },
     "output_type": "display_data"
    },
    {
     "data": {
      "image/png": "[encoded data removed]",
      "text/plain": [
       "<Figure size 432x288 with 1 Axes>"
      ]
     },
     "metadata": {
      "needs_background": "light"
     },
     "output_type": "display_data"
    }
   ],
   "source": [
    "platforma_3DS = games.query('platform == \"3DS\"')\n",
    "display(platforma_3DS[['critic_score', 'user_score', 'all_sales']].corr())\n",
    "platforma_3DS.plot(x = 'user_score', y = 'all_sales', grid = True, kind = 'scatter')\n",
    "plt.title('Влияние оценок пользователей на продажу')\n",
    "plt.xlabel('оценки пользователя')\n",
    "plt.ylabel('суммарные продажи')\n",
    "platforma_3DS.plot(x = 'critic_score', y = 'all_sales', grid = True, kind = 'scatter')\n",
    "plt.title('Влияние оценок критиков на продажу')\n",
    "plt.xlabel('оценки критиков')\n",
    "plt.ylabel('суммарные продажи')"
   ]
  },
  {
   "cell_type": "markdown",
   "metadata": {},
   "source": [
    "В данном случае как оценка критиков, так и оценка пользователей в какой-то небольшой степени влияют на продажи."
   ]
  },
  {
   "cell_type": "code",
   "execution_count": 23,
   "metadata": {},
   "outputs": [
    {
     "data": {
      "text/html": [
       "<div>\n",
       "<style scoped>\n",
       "    .dataframe tbody tr th:only-of-type {\n",
       "        vertical-align: middle;\n",
       "    }\n",
       "\n",
       "    .dataframe tbody tr th {\n",
       "        vertical-align: top;\n",
       "    }\n",
       "\n",
       "    .dataframe thead th {\n",
       "        text-align: right;\n",
       "    }\n",
       "</style>\n",
       "<table border=\"1\" class=\"dataframe\">\n",
       "  <thead>\n",
       "    <tr style=\"text-align: right;\">\n",
       "      <th></th>\n",
       "      <th>critic_score</th>\n",
       "      <th>user_score</th>\n",
       "      <th>all_sales</th>\n",
       "    </tr>\n",
       "  </thead>\n",
       "  <tbody>\n",
       "    <tr>\n",
       "      <th>critic_score</th>\n",
       "      <td>1.000000</td>\n",
       "      <td>0.628833</td>\n",
       "      <td>0.432275</td>\n",
       "    </tr>\n",
       "    <tr>\n",
       "      <th>user_score</th>\n",
       "      <td>0.628833</td>\n",
       "      <td>1.000000</td>\n",
       "      <td>0.127811</td>\n",
       "    </tr>\n",
       "    <tr>\n",
       "      <th>all_sales</th>\n",
       "      <td>0.432275</td>\n",
       "      <td>0.127811</td>\n",
       "      <td>1.000000</td>\n",
       "    </tr>\n",
       "  </tbody>\n",
       "</table>\n",
       "</div>"
      ],
      "text/plain": [
       "              critic_score  user_score  all_sales\n",
       "critic_score      1.000000    0.628833   0.432275\n",
       "user_score        0.628833    1.000000   0.127811\n",
       "all_sales         0.432275    0.127811   1.000000"
      ]
     },
     "metadata": {},
     "output_type": "display_data"
    },
    {
     "data": {
      "text/plain": [
       "Text(0, 0.5, 'суммарные продажи')"
      ]
     },
     "execution_count": 23,
     "metadata": {},
     "output_type": "execute_result"
    },
    {
     "data": {
      "image/png": "[encoded data removed]",
      "text/plain": [
       "<Figure size 432x288 with 1 Axes>"
      ]
     },
     "metadata": {
      "needs_background": "light"
     },
     "output_type": "display_data"
    },
    {
     "data": {
      "image/png": "[encoded data removed]",
      "text/plain": [
       "<Figure size 432x288 with 1 Axes>"
      ]
     },
     "metadata": {
      "needs_background": "light"
     },
     "output_type": "display_data"
    }
   ],
   "source": [
    "platforma_PS3 = games.query('platform == \"PS3\"')\n",
    "display(platforma_PS3[['critic_score', 'user_score', 'all_sales']].corr())\n",
    "platforma_PS3.plot(x = 'user_score', y = 'all_sales', grid = True, kind = 'scatter')\n",
    "plt.title('Влияние оценок пользователей на продажу')\n",
    "plt.xlabel('оценки пользователя')\n",
    "plt.ylabel('суммарные продажи')\n",
    "platforma_PS3.plot(x = 'critic_score', y = 'all_sales', grid = True, kind = 'scatter')\n",
    "plt.title('Влияние оценок критиков на продажу')\n",
    "plt.xlabel('оценки критиков')\n",
    "plt.ylabel('суммарные продажи')"
   ]
  },
  {
   "cell_type": "markdown",
   "metadata": {},
   "source": [
    "Здесь также оценка критиков влияет больше(0.432275), чем оценка пользователей(0.127811). Но все со слабой силой."
   ]
  },
  {
   "cell_type": "markdown",
   "metadata": {},
   "source": [
    "<b>Вывод:</b> из всего вышесказанного можно сделать вывод, что оценка критиков больше влияет на суммарные продажи нежеле оценка пользователей."
   ]
  },
  {
   "cell_type": "markdown",
   "metadata": {},
   "source": [
    "## Распределение игр по жанрам"
   ]
  },
  {
   "cell_type": "code",
   "execution_count": 24,
   "metadata": {},
   "outputs": [
    {
     "data": {
      "text/plain": [
       "Text(0, 0.5, 'количество игр')"
      ]
     },
     "execution_count": 24,
     "metadata": {},
     "output_type": "execute_result"
    },
    {
     "data": {
      "image/png": "[encoded data removed]",
      "text/plain": [
       "<Figure size 432x288 with 1 Axes>"
      ]
     },
     "metadata": {
      "needs_background": "light"
     },
     "output_type": "display_data"
    }
   ],
   "source": [
    "games_genre = games.groupby('genre')['all_sales'].sum().sort_values()\n",
    "games_genre.plot(kind = 'bar', title = 'Количество игр, выпускаемых в разные годы')\n",
    "plt.xlabel('жанр')\n",
    "plt.ylabel('количество игр')"
   ]
  },
  {
   "cell_type": "markdown",
   "metadata": {},
   "source": [
    "<b>Вывод:</b> игры в стиле action имееют наибольшие суммарные продажи, далее идет жанр sports, shooter и role-playing. К жанрам с низкими продажами можно отнести: adventure, puzzle и strategy."
   ]
  },
  {
   "cell_type": "markdown",
   "metadata": {},
   "source": [
    "# Портрет пользователя каждого региона"
   ]
  },
  {
   "cell_type": "markdown",
   "metadata": {},
   "source": [
    "## Топ-5 популярных платформ для пользователей каждого региона"
   ]
  },
  {
   "cell_type": "code",
   "execution_count": 25,
   "metadata": {},
   "outputs": [
    {
     "data": {
      "text/html": [
       "<div>\n",
       "<style scoped>\n",
       "    .dataframe tbody tr th:only-of-type {\n",
       "        vertical-align: middle;\n",
       "    }\n",
       "\n",
       "    .dataframe tbody tr th {\n",
       "        vertical-align: top;\n",
       "    }\n",
       "\n",
       "    .dataframe thead th {\n",
       "        text-align: right;\n",
       "    }\n",
       "</style>\n",
       "<table border=\"1\" class=\"dataframe\">\n",
       "  <thead>\n",
       "    <tr style=\"text-align: right;\">\n",
       "      <th></th>\n",
       "      <th>eu_sales</th>\n",
       "      <th>jp_sales</th>\n",
       "      <th>na_sales</th>\n",
       "    </tr>\n",
       "    <tr>\n",
       "      <th>platform</th>\n",
       "      <th></th>\n",
       "      <th></th>\n",
       "      <th></th>\n",
       "    </tr>\n",
       "  </thead>\n",
       "  <tbody>\n",
       "    <tr>\n",
       "      <th>3DS</th>\n",
       "      <td>16.12</td>\n",
       "      <td>44.24</td>\n",
       "      <td>22.64</td>\n",
       "    </tr>\n",
       "    <tr>\n",
       "      <th>PC</th>\n",
       "      <td>17.97</td>\n",
       "      <td>0.00</td>\n",
       "      <td>7.23</td>\n",
       "    </tr>\n",
       "    <tr>\n",
       "      <th>PS3</th>\n",
       "      <td>25.54</td>\n",
       "      <td>11.22</td>\n",
       "      <td>22.05</td>\n",
       "    </tr>\n",
       "    <tr>\n",
       "      <th>PS4</th>\n",
       "      <td>130.04</td>\n",
       "      <td>15.02</td>\n",
       "      <td>98.61</td>\n",
       "    </tr>\n",
       "    <tr>\n",
       "      <th>PSP</th>\n",
       "      <td>0.00</td>\n",
       "      <td>0.36</td>\n",
       "      <td>0.00</td>\n",
       "    </tr>\n",
       "    <tr>\n",
       "      <th>PSV</th>\n",
       "      <td>3.53</td>\n",
       "      <td>14.54</td>\n",
       "      <td>2.52</td>\n",
       "    </tr>\n",
       "    <tr>\n",
       "      <th>Wii</th>\n",
       "      <td>2.59</td>\n",
       "      <td>0.00</td>\n",
       "      <td>2.08</td>\n",
       "    </tr>\n",
       "    <tr>\n",
       "      <th>WiiU</th>\n",
       "      <td>13.15</td>\n",
       "      <td>7.31</td>\n",
       "      <td>19.36</td>\n",
       "    </tr>\n",
       "    <tr>\n",
       "      <th>X360</th>\n",
       "      <td>15.49</td>\n",
       "      <td>0.08</td>\n",
       "      <td>28.30</td>\n",
       "    </tr>\n",
       "    <tr>\n",
       "      <th>XOne</th>\n",
       "      <td>46.25</td>\n",
       "      <td>0.32</td>\n",
       "      <td>81.27</td>\n",
       "    </tr>\n",
       "  </tbody>\n",
       "</table>\n",
       "</div>"
      ],
      "text/plain": [
       "          eu_sales  jp_sales  na_sales\n",
       "platform                              \n",
       "3DS          16.12     44.24     22.64\n",
       "PC           17.97      0.00      7.23\n",
       "PS3          25.54     11.22     22.05\n",
       "PS4         130.04     15.02     98.61\n",
       "PSP           0.00      0.36      0.00\n",
       "PSV           3.53     14.54      2.52\n",
       "Wii           2.59      0.00      2.08\n",
       "WiiU         13.15      7.31     19.36\n",
       "X360         15.49      0.08     28.30\n",
       "XOne         46.25      0.32     81.27"
      ]
     },
     "metadata": {},
     "output_type": "display_data"
    }
   ],
   "source": [
    "popular_platforms = actual_games.pivot_table(index = 'platform', values = ('na_sales', 'eu_sales', 'jp_sales'), aggfunc = 'sum')\n",
    "display(popular_platforms)"
   ]
  },
  {
   "cell_type": "markdown",
   "metadata": {},
   "source": [
    "<b>Популярные платформы для пользователей в Европе</b>"
   ]
  },
  {
   "cell_type": "code",
   "execution_count": 26,
   "metadata": {
    "scrolled": false
   },
   "outputs": [
    {
     "data": {
      "text/html": [
       "<div>\n",
       "<style scoped>\n",
       "    .dataframe tbody tr th:only-of-type {\n",
       "        vertical-align: middle;\n",
       "    }\n",
       "\n",
       "    .dataframe tbody tr th {\n",
       "        vertical-align: top;\n",
       "    }\n",
       "\n",
       "    .dataframe thead th {\n",
       "        text-align: right;\n",
       "    }\n",
       "</style>\n",
       "<table border=\"1\" class=\"dataframe\">\n",
       "  <thead>\n",
       "    <tr style=\"text-align: right;\">\n",
       "      <th></th>\n",
       "      <th>platform</th>\n",
       "      <th>eu_sales</th>\n",
       "    </tr>\n",
       "  </thead>\n",
       "  <tbody>\n",
       "    <tr>\n",
       "      <th>0</th>\n",
       "      <td>PS4</td>\n",
       "      <td>130.04</td>\n",
       "    </tr>\n",
       "    <tr>\n",
       "      <th>1</th>\n",
       "      <td>XOne</td>\n",
       "      <td>46.25</td>\n",
       "    </tr>\n",
       "    <tr>\n",
       "      <th>2</th>\n",
       "      <td>PS3</td>\n",
       "      <td>25.54</td>\n",
       "    </tr>\n",
       "    <tr>\n",
       "      <th>3</th>\n",
       "      <td>PC</td>\n",
       "      <td>17.97</td>\n",
       "    </tr>\n",
       "    <tr>\n",
       "      <th>4</th>\n",
       "      <td>3DS</td>\n",
       "      <td>16.12</td>\n",
       "    </tr>\n",
       "  </tbody>\n",
       "</table>\n",
       "</div>"
      ],
      "text/plain": [
       "  platform  eu_sales\n",
       "0      PS4    130.04\n",
       "1     XOne     46.25\n",
       "2      PS3     25.54\n",
       "3       PC     17.97\n",
       "4      3DS     16.12"
      ]
     },
     "metadata": {},
     "output_type": "display_data"
    },
    {
     "data": {
      "text/plain": [
       "Text(0, 0.5, 'суммарные продажи')"
      ]
     },
     "execution_count": 26,
     "metadata": {},
     "output_type": "execute_result"
    },
    {
     "data": {
      "image/png": "[encoded data removed]",
      "text/plain": [
       "<Figure size 504x360 with 1 Axes>"
      ]
     },
     "metadata": {
      "needs_background": "light"
     },
     "output_type": "display_data"
    }
   ],
   "source": [
    "top_platforms_eu = popular_platforms['eu_sales'].sort_values(ascending = False).reset_index().head()\n",
    "display(top_platforms_eu)\n",
    "top_platforms_eu.plot(x = 'platform', kind = 'bar', figsize = (7, 5), title = 'Самые популярные платформы для пользователей в Европе')\n",
    "plt.xlabel('платформа')\n",
    "plt.ylabel('суммарные продажи')"
   ]
  },
  {
   "cell_type": "markdown",
   "metadata": {},
   "source": [
    "Наиболее популярные платформы для Европы в актуальный период : PS4, XOne, PS3, PC, 3DS. "
   ]
  },
  {
   "cell_type": "code",
   "execution_count": 27,
   "metadata": {},
   "outputs": [
    {
     "name": "stdout",
     "output_type": "stream",
     "text": [
      "Доля платформы PS4 ко всем платформам равна 55.12%\n",
      "Доля платформы XOne ко всем платформам равна 19.60%\n",
      "Доля платформы PS3 ко всем платформам равна 10.83%\n",
      "Доля платформы PC ко всем платформам равна 7.62%\n",
      "Доля платформы 3DS ко всем платформам равна 6.83%\n"
     ]
    }
   ],
   "source": [
    "top_platforms_eu_sum = top_platforms_eu['eu_sales'].sum()\n",
    "for index in top_platforms_eu.index:\n",
    "    print('Доля платформы {} ко всем платформам равна {:.2%}'.format(top_platforms_eu['platform'][index], top_platforms_eu['eu_sales'][index] / top_platforms_eu_sum))"
   ]
  },
  {
   "cell_type": "markdown",
   "metadata": {},
   "source": [
    "<b>Популярные платформы для пользователей в Японии</b>"
   ]
  },
  {
   "cell_type": "code",
   "execution_count": 28,
   "metadata": {},
   "outputs": [
    {
     "data": {
      "text/html": [
       "<div>\n",
       "<style scoped>\n",
       "    .dataframe tbody tr th:only-of-type {\n",
       "        vertical-align: middle;\n",
       "    }\n",
       "\n",
       "    .dataframe tbody tr th {\n",
       "        vertical-align: top;\n",
       "    }\n",
       "\n",
       "    .dataframe thead th {\n",
       "        text-align: right;\n",
       "    }\n",
       "</style>\n",
       "<table border=\"1\" class=\"dataframe\">\n",
       "  <thead>\n",
       "    <tr style=\"text-align: right;\">\n",
       "      <th></th>\n",
       "      <th>platform</th>\n",
       "      <th>jp_sales</th>\n",
       "    </tr>\n",
       "  </thead>\n",
       "  <tbody>\n",
       "    <tr>\n",
       "      <th>0</th>\n",
       "      <td>3DS</td>\n",
       "      <td>44.24</td>\n",
       "    </tr>\n",
       "    <tr>\n",
       "      <th>1</th>\n",
       "      <td>PS4</td>\n",
       "      <td>15.02</td>\n",
       "    </tr>\n",
       "    <tr>\n",
       "      <th>2</th>\n",
       "      <td>PSV</td>\n",
       "      <td>14.54</td>\n",
       "    </tr>\n",
       "    <tr>\n",
       "      <th>3</th>\n",
       "      <td>PS3</td>\n",
       "      <td>11.22</td>\n",
       "    </tr>\n",
       "    <tr>\n",
       "      <th>4</th>\n",
       "      <td>WiiU</td>\n",
       "      <td>7.31</td>\n",
       "    </tr>\n",
       "  </tbody>\n",
       "</table>\n",
       "</div>"
      ],
      "text/plain": [
       "  platform  jp_sales\n",
       "0      3DS     44.24\n",
       "1      PS4     15.02\n",
       "2      PSV     14.54\n",
       "3      PS3     11.22\n",
       "4     WiiU      7.31"
      ]
     },
     "metadata": {},
     "output_type": "display_data"
    },
    {
     "data": {
      "text/plain": [
       "Text(0, 0.5, 'суммарные продажи')"
      ]
     },
     "execution_count": 28,
     "metadata": {},
     "output_type": "execute_result"
    },
    {
     "data": {
      "image/png": "[encoded data removed]",
      "text/plain": [
       "<Figure size 504x360 with 1 Axes>"
      ]
     },
     "metadata": {
      "needs_background": "light"
     },
     "output_type": "display_data"
    }
   ],
   "source": [
    "top_platforms_jp = popular_platforms['jp_sales'].sort_values(ascending = False).reset_index().head()\n",
    "display(top_platforms_jp)\n",
    "top_platforms_jp.plot(x = 'platform', kind = 'bar', figsize = (7, 5), title = 'Самые популярные платформы для пользователей в Японии')\n",
    "plt.xlabel('платформа')\n",
    "plt.ylabel('суммарные продажи')"
   ]
  },
  {
   "cell_type": "markdown",
   "metadata": {},
   "source": [
    "Наиболее популярные платформы для Японии: 3DS, PS4, PSV, PS3, WiiU."
   ]
  },
  {
   "cell_type": "code",
   "execution_count": 29,
   "metadata": {},
   "outputs": [
    {
     "name": "stdout",
     "output_type": "stream",
     "text": [
      "Доля платформы 3DS ко всем платформам равна 47.92%\n",
      "Доля платформы PS4 ко всем платформам равна 16.27%\n",
      "Доля платформы PSV ко всем платформам равна 15.75%\n",
      "Доля платформы PS3 ко всем платформам равна 12.15%\n",
      "Доля платформы WiiU ко всем платформам равна 7.92%\n"
     ]
    }
   ],
   "source": [
    "top_platforms_jp_sum = top_platforms_jp['jp_sales'].sum()\n",
    "for index in top_platforms_jp.index:\n",
    "    print('Доля платформы {} ко всем платформам равна {:.2%}'.format(top_platforms_jp['platform'][index], top_platforms_jp['jp_sales'][index] / top_platforms_jp_sum))"
   ]
  },
  {
   "cell_type": "markdown",
   "metadata": {},
   "source": [
    "<b>Популярные платформы для пользователей в Северной Америке</b>"
   ]
  },
  {
   "cell_type": "code",
   "execution_count": 30,
   "metadata": {},
   "outputs": [
    {
     "data": {
      "text/html": [
       "<div>\n",
       "<style scoped>\n",
       "    .dataframe tbody tr th:only-of-type {\n",
       "        vertical-align: middle;\n",
       "    }\n",
       "\n",
       "    .dataframe tbody tr th {\n",
       "        vertical-align: top;\n",
       "    }\n",
       "\n",
       "    .dataframe thead th {\n",
       "        text-align: right;\n",
       "    }\n",
       "</style>\n",
       "<table border=\"1\" class=\"dataframe\">\n",
       "  <thead>\n",
       "    <tr style=\"text-align: right;\">\n",
       "      <th></th>\n",
       "      <th>platform</th>\n",
       "      <th>na_sales</th>\n",
       "    </tr>\n",
       "  </thead>\n",
       "  <tbody>\n",
       "    <tr>\n",
       "      <th>0</th>\n",
       "      <td>PS4</td>\n",
       "      <td>98.61</td>\n",
       "    </tr>\n",
       "    <tr>\n",
       "      <th>1</th>\n",
       "      <td>XOne</td>\n",
       "      <td>81.27</td>\n",
       "    </tr>\n",
       "    <tr>\n",
       "      <th>2</th>\n",
       "      <td>X360</td>\n",
       "      <td>28.30</td>\n",
       "    </tr>\n",
       "    <tr>\n",
       "      <th>3</th>\n",
       "      <td>3DS</td>\n",
       "      <td>22.64</td>\n",
       "    </tr>\n",
       "    <tr>\n",
       "      <th>4</th>\n",
       "      <td>PS3</td>\n",
       "      <td>22.05</td>\n",
       "    </tr>\n",
       "  </tbody>\n",
       "</table>\n",
       "</div>"
      ],
      "text/plain": [
       "  platform  na_sales\n",
       "0      PS4     98.61\n",
       "1     XOne     81.27\n",
       "2     X360     28.30\n",
       "3      3DS     22.64\n",
       "4      PS3     22.05"
      ]
     },
     "metadata": {},
     "output_type": "display_data"
    },
    {
     "data": {
      "text/plain": [
       "Text(0, 0.5, 'суммарные продажи')"
      ]
     },
     "execution_count": 30,
     "metadata": {},
     "output_type": "execute_result"
    },
    {
     "data": {
      "image/png": "[encoded data removed]",
      "text/plain": [
       "<Figure size 504x360 with 1 Axes>"
      ]
     },
     "metadata": {
      "needs_background": "light"
     },
     "output_type": "display_data"
    }
   ],
   "source": [
    "top_platforms_na = popular_platforms['na_sales'].sort_values(ascending = False).reset_index().head()\n",
    "display(top_platforms_na)\n",
    "top_platforms_na.plot(x = 'platform', kind = 'bar', figsize = (7, 5), title = 'Самые популярные платформы для пользователей в Северной Америке')\n",
    "plt.xlabel('платформа')\n",
    "plt.ylabel('суммарные продажи')"
   ]
  },
  {
   "cell_type": "markdown",
   "metadata": {},
   "source": [
    "Наиболее популярные платформы для Северной Америки: PS4, XOne, X360, 3DS, PS3."
   ]
  },
  {
   "cell_type": "code",
   "execution_count": 31,
   "metadata": {},
   "outputs": [
    {
     "name": "stdout",
     "output_type": "stream",
     "text": [
      "Доля платформы PS4 ко всем платформам равна 39.00%\n",
      "Доля платформы XOne ко всем платформам равна 32.14%\n",
      "Доля платформы X360 ко всем платформам равна 11.19%\n",
      "Доля платформы 3DS ко всем платформам равна 8.95%\n",
      "Доля платформы PS3 ко всем платформам равна 8.72%\n"
     ]
    }
   ],
   "source": [
    "top_platforms_na_sum = top_platforms_na['na_sales'].sum()\n",
    "for index in top_platforms_na.index:\n",
    "    print('Доля платформы {} ко всем платформам равна {:.2%}'.format(top_platforms_na['platform'][index], top_platforms_na['na_sales'][index] / top_platforms_na_sum))"
   ]
  },
  {
   "cell_type": "markdown",
   "metadata": {},
   "source": [
    "## Топ-5 популярных жанров для пользователей каждого региона"
   ]
  },
  {
   "cell_type": "code",
   "execution_count": 32,
   "metadata": {},
   "outputs": [
    {
     "data": {
      "text/html": [
       "<div>\n",
       "<style scoped>\n",
       "    .dataframe tbody tr th:only-of-type {\n",
       "        vertical-align: middle;\n",
       "    }\n",
       "\n",
       "    .dataframe tbody tr th {\n",
       "        vertical-align: top;\n",
       "    }\n",
       "\n",
       "    .dataframe thead th {\n",
       "        text-align: right;\n",
       "    }\n",
       "</style>\n",
       "<table border=\"1\" class=\"dataframe\">\n",
       "  <thead>\n",
       "    <tr style=\"text-align: right;\">\n",
       "      <th></th>\n",
       "      <th>eu_sales</th>\n",
       "      <th>jp_sales</th>\n",
       "      <th>na_sales</th>\n",
       "    </tr>\n",
       "    <tr>\n",
       "      <th>genre</th>\n",
       "      <th></th>\n",
       "      <th></th>\n",
       "      <th></th>\n",
       "    </tr>\n",
       "  </thead>\n",
       "  <tbody>\n",
       "    <tr>\n",
       "      <th>Action</th>\n",
       "      <td>74.68</td>\n",
       "      <td>29.58</td>\n",
       "      <td>72.53</td>\n",
       "    </tr>\n",
       "    <tr>\n",
       "      <th>Adventure</th>\n",
       "      <td>6.49</td>\n",
       "      <td>3.60</td>\n",
       "      <td>5.64</td>\n",
       "    </tr>\n",
       "    <tr>\n",
       "      <th>Fighting</th>\n",
       "      <td>6.69</td>\n",
       "      <td>6.37</td>\n",
       "      <td>12.43</td>\n",
       "    </tr>\n",
       "    <tr>\n",
       "      <th>Misc</th>\n",
       "      <td>12.86</td>\n",
       "      <td>5.61</td>\n",
       "      <td>15.05</td>\n",
       "    </tr>\n",
       "    <tr>\n",
       "      <th>Platform</th>\n",
       "      <td>6.80</td>\n",
       "      <td>2.69</td>\n",
       "      <td>6.79</td>\n",
       "    </tr>\n",
       "    <tr>\n",
       "      <th>Puzzle</th>\n",
       "      <td>0.52</td>\n",
       "      <td>0.93</td>\n",
       "      <td>0.65</td>\n",
       "    </tr>\n",
       "    <tr>\n",
       "      <th>Racing</th>\n",
       "      <td>14.13</td>\n",
       "      <td>1.76</td>\n",
       "      <td>8.74</td>\n",
       "    </tr>\n",
       "    <tr>\n",
       "      <th>Role-Playing</th>\n",
       "      <td>28.17</td>\n",
       "      <td>31.16</td>\n",
       "      <td>33.47</td>\n",
       "    </tr>\n",
       "    <tr>\n",
       "      <th>Shooter</th>\n",
       "      <td>65.52</td>\n",
       "      <td>4.87</td>\n",
       "      <td>79.02</td>\n",
       "    </tr>\n",
       "    <tr>\n",
       "      <th>Simulation</th>\n",
       "      <td>7.30</td>\n",
       "      <td>2.31</td>\n",
       "      <td>2.63</td>\n",
       "    </tr>\n",
       "    <tr>\n",
       "      <th>Sports</th>\n",
       "      <td>45.73</td>\n",
       "      <td>3.26</td>\n",
       "      <td>46.13</td>\n",
       "    </tr>\n",
       "    <tr>\n",
       "      <th>Strategy</th>\n",
       "      <td>1.79</td>\n",
       "      <td>0.95</td>\n",
       "      <td>0.98</td>\n",
       "    </tr>\n",
       "  </tbody>\n",
       "</table>\n",
       "</div>"
      ],
      "text/plain": [
       "              eu_sales  jp_sales  na_sales\n",
       "genre                                     \n",
       "Action           74.68     29.58     72.53\n",
       "Adventure         6.49      3.60      5.64\n",
       "Fighting          6.69      6.37     12.43\n",
       "Misc             12.86      5.61     15.05\n",
       "Platform          6.80      2.69      6.79\n",
       "Puzzle            0.52      0.93      0.65\n",
       "Racing           14.13      1.76      8.74\n",
       "Role-Playing     28.17     31.16     33.47\n",
       "Shooter          65.52      4.87     79.02\n",
       "Simulation        7.30      2.31      2.63\n",
       "Sports           45.73      3.26     46.13\n",
       "Strategy          1.79      0.95      0.98"
      ]
     },
     "metadata": {},
     "output_type": "display_data"
    }
   ],
   "source": [
    "popular_genres = actual_games.pivot_table(index = 'genre', values = ('na_sales', 'eu_sales', 'jp_sales'), aggfunc = 'sum')\n",
    "display(popular_genres)"
   ]
  },
  {
   "cell_type": "markdown",
   "metadata": {},
   "source": [
    "<b>Популярные жарны для пользователей Европы</b>"
   ]
  },
  {
   "cell_type": "code",
   "execution_count": 33,
   "metadata": {},
   "outputs": [
    {
     "data": {
      "text/html": [
       "<div>\n",
       "<style scoped>\n",
       "    .dataframe tbody tr th:only-of-type {\n",
       "        vertical-align: middle;\n",
       "    }\n",
       "\n",
       "    .dataframe tbody tr th {\n",
       "        vertical-align: top;\n",
       "    }\n",
       "\n",
       "    .dataframe thead th {\n",
       "        text-align: right;\n",
       "    }\n",
       "</style>\n",
       "<table border=\"1\" class=\"dataframe\">\n",
       "  <thead>\n",
       "    <tr style=\"text-align: right;\">\n",
       "      <th></th>\n",
       "      <th>genre</th>\n",
       "      <th>eu_sales</th>\n",
       "    </tr>\n",
       "  </thead>\n",
       "  <tbody>\n",
       "    <tr>\n",
       "      <th>0</th>\n",
       "      <td>Action</td>\n",
       "      <td>74.68</td>\n",
       "    </tr>\n",
       "    <tr>\n",
       "      <th>1</th>\n",
       "      <td>Shooter</td>\n",
       "      <td>65.52</td>\n",
       "    </tr>\n",
       "    <tr>\n",
       "      <th>2</th>\n",
       "      <td>Sports</td>\n",
       "      <td>45.73</td>\n",
       "    </tr>\n",
       "    <tr>\n",
       "      <th>3</th>\n",
       "      <td>Role-Playing</td>\n",
       "      <td>28.17</td>\n",
       "    </tr>\n",
       "    <tr>\n",
       "      <th>4</th>\n",
       "      <td>Racing</td>\n",
       "      <td>14.13</td>\n",
       "    </tr>\n",
       "  </tbody>\n",
       "</table>\n",
       "</div>"
      ],
      "text/plain": [
       "          genre  eu_sales\n",
       "0        Action     74.68\n",
       "1       Shooter     65.52\n",
       "2        Sports     45.73\n",
       "3  Role-Playing     28.17\n",
       "4        Racing     14.13"
      ]
     },
     "metadata": {},
     "output_type": "display_data"
    },
    {
     "data": {
      "text/plain": [
       "Text(0, 0.5, 'суммарные продажи')"
      ]
     },
     "execution_count": 33,
     "metadata": {},
     "output_type": "execute_result"
    },
    {
     "data": {
      "image/png": "[encoded data removed]",
      "text/plain": [
       "<Figure size 504x360 with 1 Axes>"
      ]
     },
     "metadata": {
      "needs_background": "light"
     },
     "output_type": "display_data"
    }
   ],
   "source": [
    "top_genres_eu = popular_genres['eu_sales'].sort_values(ascending = False).reset_index().head()\n",
    "display(top_genres_eu)\n",
    "top_genres_eu.plot(x = 'genre', kind = 'bar', figsize = (7, 5), title = 'Самые популярные жанры для пользователей в Европы')\n",
    "plt.xlabel('жанр')\n",
    "plt.ylabel('суммарные продажи')"
   ]
  },
  {
   "cell_type": "markdown",
   "metadata": {},
   "source": [
    "Наиболее популярные жанры для Европы: Action, Shooter, Sports, Role-Playing и Racing."
   ]
  },
  {
   "cell_type": "markdown",
   "metadata": {},
   "source": [
    "<b>Популярные жарны для пользователей Японии</b>"
   ]
  },
  {
   "cell_type": "code",
   "execution_count": 34,
   "metadata": {},
   "outputs": [
    {
     "data": {
      "text/html": [
       "<div>\n",
       "<style scoped>\n",
       "    .dataframe tbody tr th:only-of-type {\n",
       "        vertical-align: middle;\n",
       "    }\n",
       "\n",
       "    .dataframe tbody tr th {\n",
       "        vertical-align: top;\n",
       "    }\n",
       "\n",
       "    .dataframe thead th {\n",
       "        text-align: right;\n",
       "    }\n",
       "</style>\n",
       "<table border=\"1\" class=\"dataframe\">\n",
       "  <thead>\n",
       "    <tr style=\"text-align: right;\">\n",
       "      <th></th>\n",
       "      <th>genre</th>\n",
       "      <th>jp_sales</th>\n",
       "    </tr>\n",
       "  </thead>\n",
       "  <tbody>\n",
       "    <tr>\n",
       "      <th>0</th>\n",
       "      <td>Role-Playing</td>\n",
       "      <td>31.16</td>\n",
       "    </tr>\n",
       "    <tr>\n",
       "      <th>1</th>\n",
       "      <td>Action</td>\n",
       "      <td>29.58</td>\n",
       "    </tr>\n",
       "    <tr>\n",
       "      <th>2</th>\n",
       "      <td>Fighting</td>\n",
       "      <td>6.37</td>\n",
       "    </tr>\n",
       "    <tr>\n",
       "      <th>3</th>\n",
       "      <td>Misc</td>\n",
       "      <td>5.61</td>\n",
       "    </tr>\n",
       "    <tr>\n",
       "      <th>4</th>\n",
       "      <td>Shooter</td>\n",
       "      <td>4.87</td>\n",
       "    </tr>\n",
       "  </tbody>\n",
       "</table>\n",
       "</div>"
      ],
      "text/plain": [
       "          genre  jp_sales\n",
       "0  Role-Playing     31.16\n",
       "1        Action     29.58\n",
       "2      Fighting      6.37\n",
       "3          Misc      5.61\n",
       "4       Shooter      4.87"
      ]
     },
     "metadata": {},
     "output_type": "display_data"
    },
    {
     "data": {
      "text/plain": [
       "Text(0, 0.5, 'суммарные продажи')"
      ]
     },
     "execution_count": 34,
     "metadata": {},
     "output_type": "execute_result"
    },
    {
     "data": {
      "image/png": "[encoded data removed]",
      "text/plain": [
       "<Figure size 504x360 with 1 Axes>"
      ]
     },
     "metadata": {
      "needs_background": "light"
     },
     "output_type": "display_data"
    }
   ],
   "source": [
    "top_genres_jp = popular_genres['jp_sales'].sort_values(ascending = False).reset_index().head()\n",
    "display(top_genres_jp)\n",
    "top_genres_jp.plot(x = 'genre', kind = 'bar', figsize = (7, 5), title = 'Самые популярные жанры для пользователей в Японии')\n",
    "plt.xlabel('жанр')\n",
    "plt.ylabel('суммарные продажи')"
   ]
  },
  {
   "cell_type": "markdown",
   "metadata": {},
   "source": [
    "Наиболее популярные жанры для Японии: Role-Playing, Action, Fighting, Misc и Shooter."
   ]
  },
  {
   "cell_type": "markdown",
   "metadata": {},
   "source": [
    "<b>Популярные жарны для пользователей Северной Америки</b>"
   ]
  },
  {
   "cell_type": "code",
   "execution_count": 35,
   "metadata": {},
   "outputs": [
    {
     "data": {
      "text/html": [
       "<div>\n",
       "<style scoped>\n",
       "    .dataframe tbody tr th:only-of-type {\n",
       "        vertical-align: middle;\n",
       "    }\n",
       "\n",
       "    .dataframe tbody tr th {\n",
       "        vertical-align: top;\n",
       "    }\n",
       "\n",
       "    .dataframe thead th {\n",
       "        text-align: right;\n",
       "    }\n",
       "</style>\n",
       "<table border=\"1\" class=\"dataframe\">\n",
       "  <thead>\n",
       "    <tr style=\"text-align: right;\">\n",
       "      <th></th>\n",
       "      <th>genre</th>\n",
       "      <th>na_sales</th>\n",
       "    </tr>\n",
       "  </thead>\n",
       "  <tbody>\n",
       "    <tr>\n",
       "      <th>0</th>\n",
       "      <td>Shooter</td>\n",
       "      <td>79.02</td>\n",
       "    </tr>\n",
       "    <tr>\n",
       "      <th>1</th>\n",
       "      <td>Action</td>\n",
       "      <td>72.53</td>\n",
       "    </tr>\n",
       "    <tr>\n",
       "      <th>2</th>\n",
       "      <td>Sports</td>\n",
       "      <td>46.13</td>\n",
       "    </tr>\n",
       "    <tr>\n",
       "      <th>3</th>\n",
       "      <td>Role-Playing</td>\n",
       "      <td>33.47</td>\n",
       "    </tr>\n",
       "    <tr>\n",
       "      <th>4</th>\n",
       "      <td>Misc</td>\n",
       "      <td>15.05</td>\n",
       "    </tr>\n",
       "  </tbody>\n",
       "</table>\n",
       "</div>"
      ],
      "text/plain": [
       "          genre  na_sales\n",
       "0       Shooter     79.02\n",
       "1        Action     72.53\n",
       "2        Sports     46.13\n",
       "3  Role-Playing     33.47\n",
       "4          Misc     15.05"
      ]
     },
     "metadata": {},
     "output_type": "display_data"
    },
    {
     "data": {
      "text/plain": [
       "Text(0, 0.5, 'суммарные продажи')"
      ]
     },
     "execution_count": 35,
     "metadata": {},
     "output_type": "execute_result"
    },
    {
     "data": {
      "image/png": "[encoded data removed]",
      "text/plain": [
       "<Figure size 504x360 with 1 Axes>"
      ]
     },
     "metadata": {
      "needs_background": "light"
     },
     "output_type": "display_data"
    }
   ],
   "source": [
    "top_genres_na = popular_genres['na_sales'].sort_values(ascending = False).reset_index().head()\n",
    "display(top_genres_na)\n",
    "top_genres_na.plot(x = 'genre', kind = 'bar', figsize = (7, 5), title = 'Самые популярные жанры для пользователей в Северной Америке')\n",
    "plt.xlabel('жанр')\n",
    "plt.ylabel('суммарные продажи')"
   ]
  },
  {
   "cell_type": "markdown",
   "metadata": {},
   "source": [
    "Наиболее популярные жанры для Северной Америки: Shooter, Action, Sports, Role-Playing и Misc."
   ]
  },
  {
   "cell_type": "markdown",
   "metadata": {},
   "source": [
    "## Влияет ли рейтинг ESRB на продажи в отдельном регионе?"
   ]
  },
  {
   "cell_type": "code",
   "execution_count": 36,
   "metadata": {},
   "outputs": [
    {
     "data": {
      "text/html": [
       "<div>\n",
       "<style scoped>\n",
       "    .dataframe tbody tr th:only-of-type {\n",
       "        vertical-align: middle;\n",
       "    }\n",
       "\n",
       "    .dataframe tbody tr th {\n",
       "        vertical-align: top;\n",
       "    }\n",
       "\n",
       "    .dataframe thead th {\n",
       "        text-align: right;\n",
       "    }\n",
       "</style>\n",
       "<table border=\"1\" class=\"dataframe\">\n",
       "  <thead>\n",
       "    <tr style=\"text-align: right;\">\n",
       "      <th></th>\n",
       "      <th>na_sales</th>\n",
       "    </tr>\n",
       "    <tr>\n",
       "      <th>rating</th>\n",
       "      <th></th>\n",
       "    </tr>\n",
       "  </thead>\n",
       "  <tbody>\n",
       "    <tr>\n",
       "      <th>M</th>\n",
       "      <td>96.42</td>\n",
       "    </tr>\n",
       "    <tr>\n",
       "      <th>No rating</th>\n",
       "      <td>64.72</td>\n",
       "    </tr>\n",
       "    <tr>\n",
       "      <th>E</th>\n",
       "      <td>50.74</td>\n",
       "    </tr>\n",
       "    <tr>\n",
       "      <th>T</th>\n",
       "      <td>38.95</td>\n",
       "    </tr>\n",
       "    <tr>\n",
       "      <th>E10+</th>\n",
       "      <td>33.23</td>\n",
       "    </tr>\n",
       "  </tbody>\n",
       "</table>\n",
       "</div>"
      ],
      "text/plain": [
       "           na_sales\n",
       "rating             \n",
       "M             96.42\n",
       "No rating     64.72\n",
       "E             50.74\n",
       "T             38.95\n",
       "E10+          33.23"
      ]
     },
     "metadata": {},
     "output_type": "display_data"
    },
    {
     "data": {
      "text/plain": [
       "Text(0, 0.5, 'суммарные продажи')"
      ]
     },
     "execution_count": 36,
     "metadata": {},
     "output_type": "execute_result"
    },
    {
     "data": {
      "image/png": "[encoded data removed]",
      "text/plain": [
       "<Figure size 432x288 with 1 Axes>"
      ]
     },
     "metadata": {
      "needs_background": "light"
     },
     "output_type": "display_data"
    }
   ],
   "source": [
    "rating_ESRB_na = actual_games.pivot_table(index = 'rating', values = 'na_sales', aggfunc = 'sum').sort_values(by = 'na_sales', ascending = False).head()\n",
    "display(rating_ESRB_na)\n",
    "rating_ESRB_na.plot(kind = 'bar', title = 'Влияние рейтинга на продажи в Северной Америке')\n",
    "plt.xlabel('рейтинг')\n",
    "plt.ylabel('суммарные продажи')"
   ]
  },
  {
   "cell_type": "markdown",
   "metadata": {},
   "source": [
    "В Северной Америке данный рейтинг влияет на продажи. В частности, больше всего влияет возрастная категория «M» («Mature») — «Для взрослых»."
   ]
  },
  {
   "cell_type": "code",
   "execution_count": 37,
   "metadata": {},
   "outputs": [
    {
     "data": {
      "text/html": [
       "<div>\n",
       "<style scoped>\n",
       "    .dataframe tbody tr th:only-of-type {\n",
       "        vertical-align: middle;\n",
       "    }\n",
       "\n",
       "    .dataframe tbody tr th {\n",
       "        vertical-align: top;\n",
       "    }\n",
       "\n",
       "    .dataframe thead th {\n",
       "        text-align: right;\n",
       "    }\n",
       "</style>\n",
       "<table border=\"1\" class=\"dataframe\">\n",
       "  <thead>\n",
       "    <tr style=\"text-align: right;\">\n",
       "      <th></th>\n",
       "      <th>eu_sales</th>\n",
       "    </tr>\n",
       "    <tr>\n",
       "      <th>rating</th>\n",
       "      <th></th>\n",
       "    </tr>\n",
       "  </thead>\n",
       "  <tbody>\n",
       "    <tr>\n",
       "      <th>M</th>\n",
       "      <td>93.44</td>\n",
       "    </tr>\n",
       "    <tr>\n",
       "      <th>No rating</th>\n",
       "      <td>58.95</td>\n",
       "    </tr>\n",
       "    <tr>\n",
       "      <th>E</th>\n",
       "      <td>58.06</td>\n",
       "    </tr>\n",
       "    <tr>\n",
       "      <th>T</th>\n",
       "      <td>34.07</td>\n",
       "    </tr>\n",
       "    <tr>\n",
       "      <th>E10+</th>\n",
       "      <td>26.16</td>\n",
       "    </tr>\n",
       "  </tbody>\n",
       "</table>\n",
       "</div>"
      ],
      "text/plain": [
       "           eu_sales\n",
       "rating             \n",
       "M             93.44\n",
       "No rating     58.95\n",
       "E             58.06\n",
       "T             34.07\n",
       "E10+          26.16"
      ]
     },
     "metadata": {},
     "output_type": "display_data"
    },
    {
     "data": {
      "text/plain": [
       "Text(0, 0.5, 'суммарные продажи')"
      ]
     },
     "execution_count": 37,
     "metadata": {},
     "output_type": "execute_result"
    },
    {
     "data": {
      "image/png": "[encoded data removed]",
      "text/plain": [
       "<Figure size 432x288 with 1 Axes>"
      ]
     },
     "metadata": {
      "needs_background": "light"
     },
     "output_type": "display_data"
    }
   ],
   "source": [
    "rating_ESRB_eu = actual_games.pivot_table(index = 'rating', values = 'eu_sales', aggfunc = 'sum').sort_values(by = 'eu_sales', ascending = False).head()\n",
    "display(rating_ESRB_eu)\n",
    "rating_ESRB_eu.plot(kind = 'bar', title = 'Влияние рейтинга на продажи в Европе')\n",
    "plt.xlabel('рейтинг')\n",
    "plt.ylabel('суммарные продажи')"
   ]
  },
  {
   "cell_type": "markdown",
   "metadata": {},
   "source": [
    "В Европе данный рейтинг также влияет на продажи. В частности, больше всего влияет возрастная категория «M» («Mature») — «Для взрослых»."
   ]
  },
  {
   "cell_type": "code",
   "execution_count": 38,
   "metadata": {},
   "outputs": [
    {
     "data": {
      "text/html": [
       "<div>\n",
       "<style scoped>\n",
       "    .dataframe tbody tr th:only-of-type {\n",
       "        vertical-align: middle;\n",
       "    }\n",
       "\n",
       "    .dataframe tbody tr th {\n",
       "        vertical-align: top;\n",
       "    }\n",
       "\n",
       "    .dataframe thead th {\n",
       "        text-align: right;\n",
       "    }\n",
       "</style>\n",
       "<table border=\"1\" class=\"dataframe\">\n",
       "  <thead>\n",
       "    <tr style=\"text-align: right;\">\n",
       "      <th></th>\n",
       "      <th>jp_sales</th>\n",
       "    </tr>\n",
       "    <tr>\n",
       "      <th>rating</th>\n",
       "      <th></th>\n",
       "    </tr>\n",
       "  </thead>\n",
       "  <tbody>\n",
       "    <tr>\n",
       "      <th>No rating</th>\n",
       "      <td>56.90</td>\n",
       "    </tr>\n",
       "    <tr>\n",
       "      <th>T</th>\n",
       "      <td>14.78</td>\n",
       "    </tr>\n",
       "    <tr>\n",
       "      <th>E</th>\n",
       "      <td>8.94</td>\n",
       "    </tr>\n",
       "    <tr>\n",
       "      <th>M</th>\n",
       "      <td>8.01</td>\n",
       "    </tr>\n",
       "    <tr>\n",
       "      <th>E10+</th>\n",
       "      <td>4.46</td>\n",
       "    </tr>\n",
       "  </tbody>\n",
       "</table>\n",
       "</div>"
      ],
      "text/plain": [
       "           jp_sales\n",
       "rating             \n",
       "No rating     56.90\n",
       "T             14.78\n",
       "E              8.94\n",
       "M              8.01\n",
       "E10+           4.46"
      ]
     },
     "metadata": {},
     "output_type": "display_data"
    },
    {
     "data": {
      "text/plain": [
       "Text(0, 0.5, 'суммарные продажи')"
      ]
     },
     "execution_count": 38,
     "metadata": {},
     "output_type": "execute_result"
    },
    {
     "data": {
      "image/png": "[encoded data removed]",
      "text/plain": [
       "<Figure size 432x288 with 1 Axes>"
      ]
     },
     "metadata": {
      "needs_background": "light"
     },
     "output_type": "display_data"
    }
   ],
   "source": [
    "rating_ESRB_jp = actual_games.pivot_table(index = 'rating', values = 'jp_sales', aggfunc = 'sum').sort_values(by = 'jp_sales', ascending = False).head()\n",
    "display(rating_ESRB_jp)\n",
    "rating_ESRB_jp.plot(kind = 'bar', title = 'Влияние рейтинга на продажи в Японии')\n",
    "plt.xlabel('рейтинг')\n",
    "plt.ylabel('суммарные продажи')"
   ]
  },
  {
   "cell_type": "markdown",
   "metadata": {},
   "source": [
    "На продажи игр в Японии данный рейтинг влияет крайне слабо."
   ]
  },
  {
   "cell_type": "markdown",
   "metadata": {},
   "source": [
    "<b>Вывод:</b> данный рейтинг больше всего влияет на продажи в Северной Америке (na_sales). Меньше всего влияет на продажи в Японии. Некоторые показатели рейтинга и вовсе не влияют ни на что."
   ]
  },
  {
   "cell_type": "markdown",
   "metadata": {},
   "source": [
    "# Проверка гипотез"
   ]
  },
  {
   "cell_type": "markdown",
   "metadata": {},
   "source": [
    "<b>1 гипотеза:</b> средние пользовательские рейтинги платформ Xbox One и PC одинаковые"
   ]
  },
  {
   "cell_type": "markdown",
   "metadata": {},
   "source": [
    "H0: пользовательские рейтинги платформ Xbox One и PC будут равны. Альтернативная гипотеза H1: пользовательские рейтинги платформ не будут равны."
   ]
  },
  {
   "cell_type": "code",
   "execution_count": 39,
   "metadata": {},
   "outputs": [],
   "source": [
    "actual_games = actual_games.dropna(subset = ['user_score']).reset_index(drop = True)"
   ]
  },
  {
   "cell_type": "code",
   "execution_count": 40,
   "metadata": {},
   "outputs": [
    {
     "name": "stdout",
     "output_type": "stream",
     "text": [
      "Дисперсия для платформы Xbox One равна: 1.8910066518846989\n",
      "Дисперсия для платформы PC равна: 2.9011543151334522\n",
      "p-значение: 0.11601398086668832\n",
      "Не получилось отвергнуть нулевую гипотезу\n"
     ]
    },
    {
     "data": {
      "image/png": "[encoded data removed]",
      "text/plain": [
       "<Figure size 432x288 with 1 Axes>"
      ]
     },
     "metadata": {
      "needs_background": "light"
     },
     "output_type": "display_data"
    }
   ],
   "source": [
    "alpha = 0.05\n",
    "\n",
    "Xbox_one = actual_games.query('platform == \"XOne\"')['user_score']\n",
    "PC = actual_games.query('platform == \"PC\"')['user_score']\n",
    "\n",
    "print('Дисперсия для платформы Xbox One равна:', Xbox_one.var())\n",
    "print('Дисперсия для платформы PC равна:', PC.var())\n",
    "#Дисперсии выборок действительно отличаются\n",
    "\n",
    "Xbox_one.plot(kind = 'hist', bins = 20)\n",
    "PC.plot(kind = 'hist', alpha = 0.7,)\n",
    "#На графиках можно заметить, что распределение нельзя отнести к нормальному.\n",
    "\n",
    "results = st.ttest_ind(Xbox_one, PC, equal_var = False)\n",
    "\n",
    "print('p-значение:', results.pvalue)\n",
    "\n",
    "if results.pvalue < alpha:\n",
    "    print(\"Отвергаем нулевую гипотезу\")\n",
    "else:\n",
    "    print(\"Не получилось отвергнуть нулевую гипотезу\")"
   ]
  },
  {
   "cell_type": "markdown",
   "metadata": {},
   "source": [
    "Не получилось отвергнуть нулевую гипотезу. То есть есть вероятность, что пользовательские рейтинги платформ Xbox One и PC действительно будут равны."
   ]
  },
  {
   "cell_type": "markdown",
   "metadata": {},
   "source": [
    "<b>2 гипотеза:</b> Средние пользовательские рейтинги жанров Action (англ. «действие», экшен-игры) и Sports (англ. «спортивные соревнования») разные"
   ]
  },
  {
   "cell_type": "markdown",
   "metadata": {},
   "source": [
    "H0: средние пользовательские рейтинги жанров Action и Sports будут равны. Альтернативная гипотеза H1: средние пользовательские рейтинги жанров не будут равны."
   ]
  },
  {
   "cell_type": "code",
   "execution_count": 41,
   "metadata": {},
   "outputs": [
    {
     "name": "stdout",
     "output_type": "stream",
     "text": [
      "Дисперсия для жанра Action равна: 1.898476658476659\n",
      "Дисперсия для жанра Sports равна: 3.4469791276090476\n",
      "p-значение: 1.1825550382644557e-14\n",
      "Отвергаем нулевую гипотезу\n"
     ]
    },
    {
     "data": {
      "image/png": "[encoded data removed]",
      "text/plain": [
       "<Figure size 432x288 with 1 Axes>"
      ]
     },
     "metadata": {
      "needs_background": "light"
     },
     "output_type": "display_data"
    }
   ],
   "source": [
    "alpha = 0.05\n",
    "\n",
    "action = actual_games.query('genre == \"Action\"')['user_score']\n",
    "sports = actual_games.query('genre == \"Sports\"')['user_score']\n",
    "\n",
    "print('Дисперсия для жанра Action равна:', action.var())\n",
    "print('Дисперсия для жанра Sports равна:', sports.var())\n",
    "#Дисперсии выборок действительно отличаются\n",
    "\n",
    "action.plot(kind = 'hist', bins = 20)\n",
    "sports.plot(kind = 'hist', alpha = 0.7)\n",
    "#На графиках можно заметить, что распределение нельзя отнести к нормальному.\n",
    "\n",
    "results = st.ttest_ind(action, sports, equal_var = False)\n",
    "\n",
    "print('p-значение:', results.pvalue)\n",
    "\n",
    "if results.pvalue < alpha:\n",
    "    print(\"Отвергаем нулевую гипотезу\")\n",
    "else:\n",
    "    print(\"Не получилось отвергнуть нулевую гипотезу\")"
   ]
  },
  {
   "cell_type": "markdown",
   "metadata": {},
   "source": [
    "Принимает альтернативную гипотезу о том, что средние пользовательские рейтинги жанров Action и Sports не будут равны."
   ]
  },
  {
   "cell_type": "markdown",
   "metadata": {},
   "source": [
    "<b>Вывод:</b> в данном случае применялся метод scipy.stats.ttest_ind (array1, array2, equal_var), так как имеется 2 генеральные совокупности. equal_var передавался как False, так как не считаем дисперсии генеральных совокупностей равными. Уровень значимости был выбран в 5%, так как он считается наиболее надежным и наиболее часто используется и подходит для нашей задачи."
   ]
  },
  {
   "cell_type": "markdown",
   "metadata": {},
   "source": [
    "# Общий вывод"
   ]
  },
  {
   "cell_type": "markdown",
   "metadata": {},
   "source": [
    "Исходные данные были подготовлены, то есть приведены к нужному типу данных и избавлены от пропусков. Был определен актуальный период, во время которого идут самые активные продажи. В нашем случае этот период составил 3 года. Были определены платформы, которые являются наиболее актуальными сейчас: PS3, X360, PS4 и 3DS. Также были определены самые популярные платформы и жанры по различным регионам. В ходе проекта были проверены 2 гипотезы. Первая о равенстве средних пользовательских рейтингов платформ Xbox One и PC. Данная гипотеза была подтверждена. И вторая гипотеза о равенстве средних пользовательских рейтингов жанров Action и Sports. Данная гипотеза была отвергнула, то есть вероятно, что рейтинги все-таки разные. "
   ]
  }
 ],
 "metadata": {
  "ExecuteTimeLog": [
   {
    "duration": 407,
    "start_time": "2021-11-02T08:09:45.275Z"
   },
   {
    "duration": 337,
    "start_time": "2021-11-02T08:09:49.347Z"
   },
   {
    "duration": 338,
    "start_time": "2021-11-02T08:09:49.348Z"
   },
   {
    "duration": 660,
    "start_time": "2021-11-02T08:09:55.907Z"
   },
   {
    "duration": 2647,
    "start_time": "2021-11-02T08:09:56.569Z"
   },
   {
    "duration": 58,
    "start_time": "2021-11-02T08:10:11.538Z"
   },
   {
    "duration": 62,
    "start_time": "2021-11-02T08:11:41.568Z"
   },
   {
    "duration": 342,
    "start_time": "2021-11-02T08:21:37.164Z"
   },
   {
    "duration": 5,
    "start_time": "2021-11-02T08:23:07.095Z"
   },
   {
    "duration": 3,
    "start_time": "2021-11-02T08:23:13.474Z"
   },
   {
    "duration": 350,
    "start_time": "2021-11-02T08:23:28.834Z"
   },
   {
    "duration": 351,
    "start_time": "2021-11-02T08:23:33.633Z"
   },
   {
    "duration": 3,
    "start_time": "2021-11-02T08:23:37.883Z"
   },
   {
    "duration": 59,
    "start_time": "2021-11-02T08:23:38.122Z"
   },
   {
    "duration": 2474,
    "start_time": "2021-11-02T08:23:39.563Z"
   },
   {
    "duration": 344,
    "start_time": "2021-11-02T08:23:52.602Z"
   },
   {
    "duration": 343,
    "start_time": "2021-11-02T08:24:07.018Z"
   },
   {
    "duration": 342,
    "start_time": "2021-11-02T08:24:38.524Z"
   },
   {
    "duration": 346,
    "start_time": "2021-11-02T08:25:26.283Z"
   },
   {
    "duration": 3,
    "start_time": "2021-11-02T08:25:39.243Z"
   },
   {
    "duration": 57,
    "start_time": "2021-11-02T08:25:39.804Z"
   },
   {
    "duration": 11,
    "start_time": "2021-11-02T08:25:41.963Z"
   },
   {
    "duration": 2,
    "start_time": "2021-11-02T08:26:02.834Z"
   },
   {
    "duration": 60,
    "start_time": "2021-11-02T08:26:03.394Z"
   },
   {
    "duration": 11,
    "start_time": "2021-11-02T08:26:05.083Z"
   },
   {
    "duration": 785,
    "start_time": "2021-11-02T14:30:01.490Z"
   },
   {
    "duration": 90,
    "start_time": "2021-11-02T14:30:02.278Z"
   },
   {
    "duration": 14,
    "start_time": "2021-11-02T14:30:03.463Z"
   },
   {
    "duration": 370,
    "start_time": "2021-11-02T14:32:55.323Z"
   },
   {
    "duration": 6,
    "start_time": "2021-11-02T14:33:14.712Z"
   },
   {
    "duration": 4,
    "start_time": "2021-11-02T14:44:19.556Z"
   },
   {
    "duration": 77,
    "start_time": "2021-11-02T14:44:19.896Z"
   },
   {
    "duration": 15,
    "start_time": "2021-11-02T14:44:22.612Z"
   },
   {
    "duration": 305,
    "start_time": "2021-11-02T14:44:26.165Z"
   },
   {
    "duration": 23,
    "start_time": "2021-11-02T14:44:30.123Z"
   },
   {
    "duration": 4,
    "start_time": "2021-11-02T14:51:54.384Z"
   },
   {
    "duration": 82,
    "start_time": "2021-11-02T14:51:54.941Z"
   },
   {
    "duration": 14,
    "start_time": "2021-11-02T14:51:56.278Z"
   },
   {
    "duration": 330,
    "start_time": "2021-11-02T14:52:03.527Z"
   },
   {
    "duration": 6,
    "start_time": "2021-11-02T14:52:12.150Z"
   },
   {
    "duration": 23,
    "start_time": "2021-11-02T14:52:15.814Z"
   },
   {
    "duration": 293,
    "start_time": "2021-11-02T14:53:16.913Z"
   },
   {
    "duration": 7,
    "start_time": "2021-11-02T14:53:29.620Z"
   },
   {
    "duration": 11,
    "start_time": "2021-11-02T14:53:58.168Z"
   },
   {
    "duration": 7,
    "start_time": "2021-11-02T14:54:07.218Z"
   },
   {
    "duration": 7,
    "start_time": "2021-11-02T14:54:43.633Z"
   },
   {
    "duration": 318,
    "start_time": "2021-11-02T14:56:03.141Z"
   },
   {
    "duration": 7,
    "start_time": "2021-11-02T14:56:13.124Z"
   },
   {
    "duration": 16,
    "start_time": "2021-11-02T14:56:21.705Z"
   },
   {
    "duration": 8,
    "start_time": "2021-11-02T14:56:59.188Z"
   },
   {
    "duration": 284,
    "start_time": "2021-11-02T14:57:08.239Z"
   },
   {
    "duration": 287,
    "start_time": "2021-11-02T14:57:19.265Z"
   },
   {
    "duration": 9,
    "start_time": "2021-11-02T14:57:30.899Z"
   },
   {
    "duration": 7,
    "start_time": "2021-11-02T14:58:12.373Z"
   },
   {
    "duration": 7371,
    "start_time": "2021-11-02T14:58:53.160Z"
   },
   {
    "duration": 6,
    "start_time": "2021-11-02T14:59:12.383Z"
   },
   {
    "duration": 6,
    "start_time": "2021-11-02T14:59:56.789Z"
   },
   {
    "duration": 4,
    "start_time": "2021-11-02T15:00:20.280Z"
   },
   {
    "duration": 76,
    "start_time": "2021-11-02T15:00:20.745Z"
   },
   {
    "duration": 16,
    "start_time": "2021-11-02T15:00:23.092Z"
   },
   {
    "duration": 19,
    "start_time": "2021-11-02T15:00:26.672Z"
   },
   {
    "duration": 25,
    "start_time": "2021-11-02T15:00:28.032Z"
   },
   {
    "duration": 23,
    "start_time": "2021-11-02T15:05:33.316Z"
   },
   {
    "duration": 6,
    "start_time": "2021-11-02T15:08:56.151Z"
   },
   {
    "duration": 16,
    "start_time": "2021-11-02T15:09:42.445Z"
   },
   {
    "duration": 8,
    "start_time": "2021-11-02T15:11:17.128Z"
   },
   {
    "duration": 9,
    "start_time": "2021-11-02T15:12:54.805Z"
   },
   {
    "duration": 379,
    "start_time": "2021-11-02T15:21:50.419Z"
   },
   {
    "duration": 5,
    "start_time": "2021-11-02T15:22:01.011Z"
   },
   {
    "duration": 14218,
    "start_time": "2021-11-02T15:26:52.441Z"
   },
   {
    "duration": 651,
    "start_time": "2021-11-02T15:29:02.589Z"
   },
   {
    "duration": 14393,
    "start_time": "2021-11-02T15:29:07.193Z"
   },
   {
    "duration": 13535,
    "start_time": "2021-11-02T15:30:13.930Z"
   },
   {
    "duration": 13548,
    "start_time": "2021-11-02T15:30:37.894Z"
   },
   {
    "duration": 3,
    "start_time": "2021-11-02T15:31:01.622Z"
   },
   {
    "duration": 79,
    "start_time": "2021-11-02T15:31:02.063Z"
   },
   {
    "duration": 17,
    "start_time": "2021-11-02T15:31:02.945Z"
   },
   {
    "duration": 18,
    "start_time": "2021-11-02T15:31:03.639Z"
   },
   {
    "duration": 24,
    "start_time": "2021-11-02T15:31:04.344Z"
   },
   {
    "duration": 21140,
    "start_time": "2021-11-02T15:31:04.772Z"
   },
   {
    "duration": 13629,
    "start_time": "2021-11-02T15:31:42.729Z"
   },
   {
    "duration": 4,
    "start_time": "2021-11-02T15:32:03.452Z"
   },
   {
    "duration": 76,
    "start_time": "2021-11-02T15:32:03.705Z"
   },
   {
    "duration": 14,
    "start_time": "2021-11-02T15:32:04.607Z"
   },
   {
    "duration": 17,
    "start_time": "2021-11-02T15:32:05.254Z"
   },
   {
    "duration": 24,
    "start_time": "2021-11-02T15:32:05.953Z"
   },
   {
    "duration": 14464,
    "start_time": "2021-11-02T15:32:06.174Z"
   },
   {
    "duration": 3,
    "start_time": "2021-11-02T15:33:36.163Z"
   },
   {
    "duration": 78,
    "start_time": "2021-11-02T15:33:36.657Z"
   },
   {
    "duration": 14,
    "start_time": "2021-11-02T15:33:38.343Z"
   },
   {
    "duration": 18,
    "start_time": "2021-11-02T15:33:39.470Z"
   },
   {
    "duration": 23,
    "start_time": "2021-11-02T15:33:40.579Z"
   },
   {
    "duration": 14047,
    "start_time": "2021-11-02T15:33:41.913Z"
   },
   {
    "duration": 304,
    "start_time": "2021-11-02T15:55:23.226Z"
   },
   {
    "duration": 286,
    "start_time": "2021-11-02T15:55:32.951Z"
   },
   {
    "duration": -918,
    "start_time": "2021-11-02T15:57:52.410Z"
   },
   {
    "duration": -924,
    "start_time": "2021-11-02T15:57:52.417Z"
   },
   {
    "duration": -926,
    "start_time": "2021-11-02T15:57:52.420Z"
   },
   {
    "duration": -926,
    "start_time": "2021-11-02T15:57:52.422Z"
   },
   {
    "duration": -928,
    "start_time": "2021-11-02T15:57:52.425Z"
   },
   {
    "duration": -928,
    "start_time": "2021-11-02T15:57:52.427Z"
   },
   {
    "duration": 3,
    "start_time": "2021-11-02T15:58:38.454Z"
   },
   {
    "duration": 81,
    "start_time": "2021-11-02T15:58:38.785Z"
   },
   {
    "duration": 15,
    "start_time": "2021-11-02T15:58:39.680Z"
   },
   {
    "duration": 18,
    "start_time": "2021-11-02T15:58:40.294Z"
   },
   {
    "duration": 24,
    "start_time": "2021-11-02T15:58:40.952Z"
   },
   {
    "duration": 17766,
    "start_time": "2021-11-02T15:58:41.186Z"
   },
   {
    "duration": 509,
    "start_time": "2021-11-02T15:58:58.447Z"
   },
   {
    "duration": 4,
    "start_time": "2021-11-02T15:59:03.893Z"
   },
   {
    "duration": 79,
    "start_time": "2021-11-02T15:59:04.140Z"
   },
   {
    "duration": 15,
    "start_time": "2021-11-02T15:59:05.171Z"
   },
   {
    "duration": 18,
    "start_time": "2021-11-02T15:59:06.068Z"
   },
   {
    "duration": 24,
    "start_time": "2021-11-02T15:59:07.712Z"
   },
   {
    "duration": 3,
    "start_time": "2021-11-02T16:09:21.616Z"
   },
   {
    "duration": 79,
    "start_time": "2021-11-02T16:09:21.877Z"
   },
   {
    "duration": 14,
    "start_time": "2021-11-02T16:09:22.740Z"
   },
   {
    "duration": 18,
    "start_time": "2021-11-02T16:09:23.496Z"
   },
   {
    "duration": 22,
    "start_time": "2021-11-02T16:09:24.254Z"
   },
   {
    "duration": 6,
    "start_time": "2021-11-02T16:09:25.057Z"
   },
   {
    "duration": 16,
    "start_time": "2021-11-02T16:09:34.150Z"
   },
   {
    "duration": 8803,
    "start_time": "2021-11-02T16:11:08.746Z"
   },
   {
    "duration": 20,
    "start_time": "2021-11-02T16:11:35.709Z"
   },
   {
    "duration": 21,
    "start_time": "2021-11-02T16:19:15.446Z"
   },
   {
    "duration": 2139,
    "start_time": "2021-11-02T16:26:11.320Z"
   },
   {
    "duration": 2147,
    "start_time": "2021-11-02T16:26:54.713Z"
   },
   {
    "duration": 2190,
    "start_time": "2021-11-02T16:27:16.659Z"
   },
   {
    "duration": 1738,
    "start_time": "2021-11-02T16:28:56.083Z"
   },
   {
    "duration": 2169,
    "start_time": "2021-11-02T16:29:04.278Z"
   },
   {
    "duration": 3731,
    "start_time": "2021-11-02T16:34:13.712Z"
   },
   {
    "duration": 2531,
    "start_time": "2021-11-02T16:34:33.504Z"
   },
   {
    "duration": 2488,
    "start_time": "2021-11-02T16:34:44.394Z"
   },
   {
    "duration": 2620,
    "start_time": "2021-11-02T16:34:58.678Z"
   },
   {
    "duration": 2554,
    "start_time": "2021-11-02T16:35:09.333Z"
   },
   {
    "duration": 3781,
    "start_time": "2021-11-02T16:35:26.057Z"
   },
   {
    "duration": 2167,
    "start_time": "2021-11-02T16:35:46.254Z"
   },
   {
    "duration": 2482,
    "start_time": "2021-11-02T16:36:01.962Z"
   },
   {
    "duration": 2450,
    "start_time": "2021-11-02T16:37:27.779Z"
   },
   {
    "duration": 2543,
    "start_time": "2021-11-02T16:37:46.586Z"
   },
   {
    "duration": 2124,
    "start_time": "2021-11-02T16:38:58.054Z"
   },
   {
    "duration": 3755,
    "start_time": "2021-11-02T16:41:53.723Z"
   },
   {
    "duration": 301,
    "start_time": "2021-11-02T16:45:30.391Z"
   },
   {
    "duration": 2136,
    "start_time": "2021-11-02T16:46:32.623Z"
   },
   {
    "duration": 3630,
    "start_time": "2021-11-02T16:49:51.504Z"
   },
   {
    "duration": 2140,
    "start_time": "2021-11-02T16:50:51.937Z"
   },
   {
    "duration": 3656,
    "start_time": "2021-11-02T16:51:44.566Z"
   },
   {
    "duration": 3977,
    "start_time": "2021-11-02T16:52:15.773Z"
   },
   {
    "duration": 3946,
    "start_time": "2021-11-02T16:52:59.104Z"
   },
   {
    "duration": 4201,
    "start_time": "2021-11-02T16:53:13.287Z"
   },
   {
    "duration": 3999,
    "start_time": "2021-11-02T16:53:46.783Z"
   },
   {
    "duration": 3779,
    "start_time": "2021-11-02T16:53:58.382Z"
   },
   {
    "duration": 2225,
    "start_time": "2021-11-02T16:54:48.681Z"
   },
   {
    "duration": 3602,
    "start_time": "2021-11-02T16:55:21.865Z"
   },
   {
    "duration": 2994,
    "start_time": "2021-11-02T16:55:58.300Z"
   },
   {
    "duration": 3931,
    "start_time": "2021-11-02T16:58:35.415Z"
   },
   {
    "duration": 94,
    "start_time": "2021-11-02T16:58:51.823Z"
   },
   {
    "duration": 3618,
    "start_time": "2021-11-02T16:59:00.889Z"
   },
   {
    "duration": 4526,
    "start_time": "2021-11-02T17:00:02.599Z"
   },
   {
    "duration": 3559,
    "start_time": "2021-11-02T17:00:22.027Z"
   },
   {
    "duration": 105,
    "start_time": "2021-11-02T17:00:46.061Z"
   },
   {
    "duration": 2493,
    "start_time": "2021-11-02T17:00:50.265Z"
   },
   {
    "duration": 2535,
    "start_time": "2021-11-02T17:01:25.221Z"
   },
   {
    "duration": 101,
    "start_time": "2021-11-02T17:03:20.770Z"
   },
   {
    "duration": 99,
    "start_time": "2021-11-02T17:03:31.461Z"
   },
   {
    "duration": 100,
    "start_time": "2021-11-02T17:03:34.116Z"
   },
   {
    "duration": 99,
    "start_time": "2021-11-02T17:03:46.631Z"
   },
   {
    "duration": 107,
    "start_time": "2021-11-02T17:03:53.842Z"
   },
   {
    "duration": 95,
    "start_time": "2021-11-02T17:05:07.789Z"
   },
   {
    "duration": 3,
    "start_time": "2021-11-02T17:05:14.042Z"
   },
   {
    "duration": 82,
    "start_time": "2021-11-02T17:05:14.282Z"
   },
   {
    "duration": 16,
    "start_time": "2021-11-02T17:05:15.047Z"
   },
   {
    "duration": 19,
    "start_time": "2021-11-02T17:05:15.646Z"
   },
   {
    "duration": 23,
    "start_time": "2021-11-02T17:05:16.652Z"
   },
   {
    "duration": 105,
    "start_time": "2021-11-02T17:05:17.448Z"
   },
   {
    "duration": 2451,
    "start_time": "2021-11-02T17:05:41.835Z"
   },
   {
    "duration": 39,
    "start_time": "2021-11-02T17:14:34.261Z"
   },
   {
    "duration": 4,
    "start_time": "2021-11-02T19:05:48.289Z"
   },
   {
    "duration": 85,
    "start_time": "2021-11-02T19:05:48.557Z"
   },
   {
    "duration": 15,
    "start_time": "2021-11-02T19:05:49.356Z"
   },
   {
    "duration": 25,
    "start_time": "2021-11-02T19:05:49.968Z"
   },
   {
    "duration": 28,
    "start_time": "2021-11-02T19:05:50.578Z"
   },
   {
    "duration": 4,
    "start_time": "2021-11-02T19:05:50.982Z"
   },
   {
    "duration": 27,
    "start_time": "2021-11-02T19:05:51.478Z"
   },
   {
    "duration": 37,
    "start_time": "2021-11-02T19:05:52.247Z"
   },
   {
    "duration": 316,
    "start_time": "2021-11-02T19:06:33.659Z"
   },
   {
    "duration": 109,
    "start_time": "2021-11-02T19:07:13.610Z"
   },
   {
    "duration": 3881,
    "start_time": "2021-11-02T19:07:19.790Z"
   },
   {
    "duration": 4069,
    "start_time": "2021-11-02T19:07:42.637Z"
   },
   {
    "duration": 3831,
    "start_time": "2021-11-02T19:08:05.410Z"
   },
   {
    "duration": 3884,
    "start_time": "2021-11-02T19:08:31.468Z"
   },
   {
    "duration": 4,
    "start_time": "2021-11-02T19:08:53.684Z"
   },
   {
    "duration": 88,
    "start_time": "2021-11-02T19:08:53.868Z"
   },
   {
    "duration": 17,
    "start_time": "2021-11-02T19:08:54.706Z"
   },
   {
    "duration": 20,
    "start_time": "2021-11-02T19:08:56.390Z"
   },
   {
    "duration": 25,
    "start_time": "2021-11-02T19:08:58.219Z"
   },
   {
    "duration": 4033,
    "start_time": "2021-11-02T19:08:59.911Z"
   },
   {
    "duration": 3853,
    "start_time": "2021-11-02T19:09:35.845Z"
   },
   {
    "duration": 3962,
    "start_time": "2021-11-02T19:09:59.365Z"
   },
   {
    "duration": 2585,
    "start_time": "2021-11-02T19:10:12.094Z"
   },
   {
    "duration": 2472,
    "start_time": "2021-11-02T19:11:08.697Z"
   },
   {
    "duration": 89,
    "start_time": "2021-11-02T19:11:25.394Z"
   },
   {
    "duration": 2585,
    "start_time": "2021-11-02T19:11:31.955Z"
   },
   {
    "duration": 2494,
    "start_time": "2021-11-02T19:12:23.512Z"
   },
   {
    "duration": 2511,
    "start_time": "2021-11-02T19:12:44.768Z"
   },
   {
    "duration": 2660,
    "start_time": "2021-11-02T19:31:39.616Z"
   },
   {
    "duration": 4,
    "start_time": "2021-11-02T19:31:46.340Z"
   },
   {
    "duration": 697,
    "start_time": "2021-11-02T19:31:46.596Z"
   },
   {
    "duration": 16,
    "start_time": "2021-11-02T19:31:47.436Z"
   },
   {
    "duration": 18,
    "start_time": "2021-11-02T19:31:48.079Z"
   },
   {
    "duration": 24,
    "start_time": "2021-11-02T19:31:48.778Z"
   },
   {
    "duration": 2623,
    "start_time": "2021-11-02T19:31:49.568Z"
   },
   {
    "duration": 2293,
    "start_time": "2021-11-02T19:32:01.289Z"
   },
   {
    "duration": 3100,
    "start_time": "2021-11-02T19:32:39.037Z"
   },
   {
    "duration": 2387,
    "start_time": "2021-11-02T19:33:04.188Z"
   },
   {
    "duration": 2208,
    "start_time": "2021-11-02T19:33:16.160Z"
   },
   {
    "duration": 2625,
    "start_time": "2021-11-02T19:33:55.562Z"
   },
   {
    "duration": 819,
    "start_time": "2021-11-03T15:06:01.235Z"
   },
   {
    "duration": 91,
    "start_time": "2021-11-03T15:06:02.157Z"
   },
   {
    "duration": 14,
    "start_time": "2021-11-03T15:06:04.048Z"
   },
   {
    "duration": 17,
    "start_time": "2021-11-03T15:06:05.195Z"
   },
   {
    "duration": 24,
    "start_time": "2021-11-03T15:06:06.550Z"
   },
   {
    "duration": 2579,
    "start_time": "2021-11-03T15:11:10.095Z"
   },
   {
    "duration": 2558,
    "start_time": "2021-11-03T15:11:20.371Z"
   },
   {
    "duration": 364,
    "start_time": "2021-11-03T15:14:07.559Z"
   },
   {
    "duration": 403,
    "start_time": "2021-11-03T15:14:23.938Z"
   },
   {
    "duration": 54,
    "start_time": "2021-11-03T15:14:28.807Z"
   },
   {
    "duration": 51,
    "start_time": "2021-11-03T15:14:44.951Z"
   },
   {
    "duration": 57,
    "start_time": "2021-11-03T15:16:30.736Z"
   },
   {
    "duration": 410,
    "start_time": "2021-11-03T15:26:15.604Z"
   },
   {
    "duration": 66,
    "start_time": "2021-11-03T15:26:27.592Z"
   },
   {
    "duration": 2058,
    "start_time": "2021-11-03T15:31:48.771Z"
   },
   {
    "duration": 2141,
    "start_time": "2021-11-03T15:31:53.960Z"
   },
   {
    "duration": 8,
    "start_time": "2021-11-03T15:34:49.589Z"
   },
   {
    "duration": 74,
    "start_time": "2021-11-03T15:34:49.869Z"
   },
   {
    "duration": 15,
    "start_time": "2021-11-03T15:34:50.993Z"
   },
   {
    "duration": 19,
    "start_time": "2021-11-03T15:34:51.773Z"
   },
   {
    "duration": 22,
    "start_time": "2021-11-03T15:34:52.739Z"
   },
   {
    "duration": 3844,
    "start_time": "2021-11-03T15:35:32.911Z"
   },
   {
    "duration": 3851,
    "start_time": "2021-11-03T15:35:51.370Z"
   },
   {
    "duration": 2580,
    "start_time": "2021-11-03T15:36:05.828Z"
   },
   {
    "duration": 2916,
    "start_time": "2021-11-03T15:36:44.288Z"
   },
   {
    "duration": 2197,
    "start_time": "2021-11-03T15:37:54.435Z"
   },
   {
    "duration": 2413,
    "start_time": "2021-11-03T15:48:18.357Z"
   },
   {
    "duration": 2790,
    "start_time": "2021-11-03T15:48:43.435Z"
   },
   {
    "duration": 1444,
    "start_time": "2021-11-03T15:50:18.168Z"
   },
   {
    "duration": -108,
    "start_time": "2021-11-03T15:50:19.723Z"
   },
   {
    "duration": -132,
    "start_time": "2021-11-03T15:50:19.748Z"
   },
   {
    "duration": 16,
    "start_time": "2021-11-03T15:50:19.905Z"
   },
   {
    "duration": 24,
    "start_time": "2021-11-03T15:50:20.779Z"
   },
   {
    "duration": 2431,
    "start_time": "2021-11-03T15:50:29.853Z"
   },
   {
    "duration": 4,
    "start_time": "2021-11-03T15:50:57.628Z"
   },
   {
    "duration": 83,
    "start_time": "2021-11-03T15:50:58.877Z"
   },
   {
    "duration": 15,
    "start_time": "2021-11-03T15:50:59.656Z"
   },
   {
    "duration": 19,
    "start_time": "2021-11-03T15:51:00.240Z"
   },
   {
    "duration": 23,
    "start_time": "2021-11-03T15:51:00.923Z"
   },
   {
    "duration": 2433,
    "start_time": "2021-11-03T15:51:01.579Z"
   },
   {
    "duration": 3,
    "start_time": "2021-11-03T15:51:51.833Z"
   },
   {
    "duration": 74,
    "start_time": "2021-11-03T15:51:52.099Z"
   },
   {
    "duration": 15,
    "start_time": "2021-11-03T15:51:53.096Z"
   },
   {
    "duration": 16,
    "start_time": "2021-11-03T15:51:54.242Z"
   },
   {
    "duration": 23,
    "start_time": "2021-11-03T15:51:55.632Z"
   },
   {
    "duration": 1775,
    "start_time": "2021-11-03T15:51:56.684Z"
   },
   {
    "duration": 1784,
    "start_time": "2021-11-03T15:52:53.440Z"
   },
   {
    "duration": 1861,
    "start_time": "2021-11-03T15:53:01.493Z"
   },
   {
    "duration": 1778,
    "start_time": "2021-11-03T15:53:15.425Z"
   },
   {
    "duration": 1667,
    "start_time": "2021-11-03T15:53:21.438Z"
   },
   {
    "duration": 3,
    "start_time": "2021-11-03T15:53:27.008Z"
   },
   {
    "duration": 77,
    "start_time": "2021-11-03T15:53:27.218Z"
   },
   {
    "duration": 14,
    "start_time": "2021-11-03T15:53:28.090Z"
   },
   {
    "duration": 16,
    "start_time": "2021-11-03T15:53:28.914Z"
   },
   {
    "duration": 23,
    "start_time": "2021-11-03T15:53:29.986Z"
   },
   {
    "duration": 1736,
    "start_time": "2021-11-03T15:53:30.734Z"
   },
   {
    "duration": 18,
    "start_time": "2021-11-03T15:53:32.472Z"
   },
   {
    "duration": 39,
    "start_time": "2021-11-03T15:53:33.182Z"
   },
   {
    "duration": 1676,
    "start_time": "2021-11-03T15:54:54.755Z"
   },
   {
    "duration": 1675,
    "start_time": "2021-11-03T15:55:27.403Z"
   },
   {
    "duration": 1710,
    "start_time": "2021-11-03T15:56:02.806Z"
   },
   {
    "duration": 1718,
    "start_time": "2021-11-03T15:56:09.882Z"
   },
   {
    "duration": 1689,
    "start_time": "2021-11-03T15:56:56.688Z"
   },
   {
    "duration": 4,
    "start_time": "2021-11-03T16:01:37.138Z"
   },
   {
    "duration": 74,
    "start_time": "2021-11-03T16:01:37.385Z"
   },
   {
    "duration": 14,
    "start_time": "2021-11-03T16:01:38.448Z"
   },
   {
    "duration": 15,
    "start_time": "2021-11-03T16:01:39.229Z"
   },
   {
    "duration": 23,
    "start_time": "2021-11-03T16:01:40.320Z"
   },
   {
    "duration": 1997,
    "start_time": "2021-11-03T16:01:41.118Z"
   },
   {
    "duration": 17,
    "start_time": "2021-11-03T16:01:43.118Z"
   },
   {
    "duration": 2052,
    "start_time": "2021-11-03T16:02:29.456Z"
   },
   {
    "duration": 1741,
    "start_time": "2021-11-03T16:02:44.719Z"
   },
   {
    "duration": 2135,
    "start_time": "2021-11-03T16:03:01.535Z"
   },
   {
    "duration": 1711,
    "start_time": "2021-11-03T16:03:52.968Z"
   },
   {
    "duration": 1923,
    "start_time": "2021-11-03T16:03:57.242Z"
   },
   {
    "duration": 1742,
    "start_time": "2021-11-03T16:04:57.535Z"
   },
   {
    "duration": 1693,
    "start_time": "2021-11-03T16:05:08.312Z"
   },
   {
    "duration": 1659,
    "start_time": "2021-11-03T16:05:44.184Z"
   },
   {
    "duration": 1870,
    "start_time": "2021-11-03T16:06:08.589Z"
   },
   {
    "duration": 1995,
    "start_time": "2021-11-03T16:11:07.785Z"
   },
   {
    "duration": 4,
    "start_time": "2021-11-03T16:20:59.532Z"
   },
   {
    "duration": 76,
    "start_time": "2021-11-03T16:20:59.562Z"
   },
   {
    "duration": 15,
    "start_time": "2021-11-03T16:21:00.874Z"
   },
   {
    "duration": 16,
    "start_time": "2021-11-03T16:21:01.715Z"
   },
   {
    "duration": 22,
    "start_time": "2021-11-03T16:21:02.792Z"
   },
   {
    "duration": 1883,
    "start_time": "2021-11-03T16:21:03.508Z"
   },
   {
    "duration": 1640,
    "start_time": "2021-11-03T16:21:24.072Z"
   },
   {
    "duration": 1837,
    "start_time": "2021-11-03T16:45:55.382Z"
   },
   {
    "duration": 4,
    "start_time": "2021-11-03T16:48:37.984Z"
   },
   {
    "duration": 1721,
    "start_time": "2021-11-03T16:49:11.825Z"
   },
   {
    "duration": 1776,
    "start_time": "2021-11-03T16:49:21.012Z"
   },
   {
    "duration": 4,
    "start_time": "2021-11-03T16:53:24.062Z"
   },
   {
    "duration": 106,
    "start_time": "2021-11-03T16:53:24.800Z"
   },
   {
    "duration": 21,
    "start_time": "2021-11-03T16:53:26.596Z"
   },
   {
    "duration": 22,
    "start_time": "2021-11-03T16:53:28.038Z"
   },
   {
    "duration": 24,
    "start_time": "2021-11-03T16:53:29.301Z"
   },
   {
    "duration": 1837,
    "start_time": "2021-11-03T16:53:30.389Z"
   },
   {
    "duration": 3,
    "start_time": "2021-11-03T16:55:05.383Z"
   },
   {
    "duration": 88,
    "start_time": "2021-11-03T16:55:05.899Z"
   },
   {
    "duration": 14,
    "start_time": "2021-11-03T16:55:07.335Z"
   },
   {
    "duration": 18,
    "start_time": "2021-11-03T16:55:08.400Z"
   },
   {
    "duration": 29,
    "start_time": "2021-11-03T16:55:09.377Z"
   },
   {
    "duration": 2512,
    "start_time": "2021-11-03T16:55:10.047Z"
   },
   {
    "duration": 1846,
    "start_time": "2021-11-03T16:55:53.069Z"
   },
   {
    "duration": 456,
    "start_time": "2021-11-03T16:56:53.076Z"
   },
   {
    "duration": 4831,
    "start_time": "2021-11-03T16:57:06.254Z"
   },
   {
    "duration": 76,
    "start_time": "2021-11-03T16:59:27.325Z"
   },
   {
    "duration": 162,
    "start_time": "2021-11-03T16:59:36.031Z"
   },
   {
    "duration": 81,
    "start_time": "2021-11-03T16:59:40.689Z"
   },
   {
    "duration": 4,
    "start_time": "2021-11-03T16:59:50.488Z"
   },
   {
    "duration": 93,
    "start_time": "2021-11-03T16:59:50.720Z"
   },
   {
    "duration": 14,
    "start_time": "2021-11-03T16:59:51.524Z"
   },
   {
    "duration": 16,
    "start_time": "2021-11-03T16:59:52.296Z"
   },
   {
    "duration": 24,
    "start_time": "2021-11-03T16:59:53.679Z"
   },
   {
    "duration": 3,
    "start_time": "2021-11-03T16:59:54.450Z"
   },
   {
    "duration": 76,
    "start_time": "2021-11-03T16:59:55.539Z"
   },
   {
    "duration": 84,
    "start_time": "2021-11-03T17:00:16.815Z"
   },
   {
    "duration": 89,
    "start_time": "2021-11-03T17:00:31.701Z"
   },
   {
    "duration": 4034,
    "start_time": "2021-11-03T17:03:15.232Z"
   },
   {
    "duration": 4522,
    "start_time": "2021-11-03T17:03:27.238Z"
   },
   {
    "duration": 3978,
    "start_time": "2021-11-03T17:03:52.452Z"
   },
   {
    "duration": 598,
    "start_time": "2021-11-03T17:04:29.766Z"
   },
   {
    "duration": 426,
    "start_time": "2021-11-03T17:05:31.561Z"
   },
   {
    "duration": 397,
    "start_time": "2021-11-03T17:06:13.027Z"
   },
   {
    "duration": 404,
    "start_time": "2021-11-03T17:07:28.454Z"
   },
   {
    "duration": 2164,
    "start_time": "2021-11-03T17:07:37.825Z"
   },
   {
    "duration": 1908,
    "start_time": "2021-11-03T17:07:51.891Z"
   },
   {
    "duration": 1694,
    "start_time": "2021-11-03T17:08:03.328Z"
   },
   {
    "duration": 1574,
    "start_time": "2021-11-03T17:08:46.260Z"
   },
   {
    "duration": 4,
    "start_time": "2021-11-03T17:08:59.307Z"
   },
   {
    "duration": 74,
    "start_time": "2021-11-03T17:08:59.519Z"
   },
   {
    "duration": 17,
    "start_time": "2021-11-03T17:09:00.272Z"
   },
   {
    "duration": 18,
    "start_time": "2021-11-03T17:09:00.872Z"
   },
   {
    "duration": 23,
    "start_time": "2021-11-03T17:09:01.556Z"
   },
   {
    "duration": 1499,
    "start_time": "2021-11-03T17:09:02.248Z"
   },
   {
    "duration": 3123,
    "start_time": "2021-11-03T17:10:41.511Z"
   },
   {
    "duration": 129,
    "start_time": "2021-11-03T17:11:26.216Z"
   },
   {
    "duration": 1538,
    "start_time": "2021-11-03T17:11:35.079Z"
   },
   {
    "duration": 177,
    "start_time": "2021-11-03T17:16:54.203Z"
   },
   {
    "duration": 1586,
    "start_time": "2021-11-03T17:17:24.106Z"
   },
   {
    "duration": 2104,
    "start_time": "2021-11-03T17:18:11.108Z"
   },
   {
    "duration": 3,
    "start_time": "2021-11-03T17:18:52.797Z"
   },
   {
    "duration": 88,
    "start_time": "2021-11-03T17:18:53.022Z"
   },
   {
    "duration": 14,
    "start_time": "2021-11-03T17:18:53.707Z"
   },
   {
    "duration": 18,
    "start_time": "2021-11-03T17:18:54.253Z"
   },
   {
    "duration": 22,
    "start_time": "2021-11-03T17:18:55.410Z"
   },
   {
    "duration": 2412,
    "start_time": "2021-11-03T17:18:55.920Z"
   },
   {
    "duration": 1718,
    "start_time": "2021-11-03T17:19:43.148Z"
   },
   {
    "duration": 2047,
    "start_time": "2021-11-03T17:20:10.735Z"
   },
   {
    "duration": 1561,
    "start_time": "2021-11-03T17:22:40.089Z"
   },
   {
    "duration": 1969,
    "start_time": "2021-11-03T17:23:17.056Z"
   },
   {
    "duration": 1913,
    "start_time": "2021-11-03T17:23:34.838Z"
   },
   {
    "duration": 4,
    "start_time": "2021-11-03T17:23:41.362Z"
   },
   {
    "duration": 79,
    "start_time": "2021-11-03T17:23:43.359Z"
   },
   {
    "duration": 14,
    "start_time": "2021-11-03T17:23:43.441Z"
   },
   {
    "duration": 19,
    "start_time": "2021-11-03T17:23:43.463Z"
   },
   {
    "duration": 23,
    "start_time": "2021-11-03T17:23:44.175Z"
   },
   {
    "duration": 2053,
    "start_time": "2021-11-03T17:23:44.796Z"
   },
   {
    "duration": 6,
    "start_time": "2021-11-03T17:55:30.840Z"
   },
   {
    "duration": 1750,
    "start_time": "2021-11-03T17:55:40.138Z"
   },
   {
    "duration": 120,
    "start_time": "2021-11-03T17:56:31.701Z"
   },
   {
    "duration": 2102,
    "start_time": "2021-11-03T17:56:38.402Z"
   },
   {
    "duration": 4,
    "start_time": "2021-11-03T17:56:53.778Z"
   },
   {
    "duration": 76,
    "start_time": "2021-11-03T17:56:54.074Z"
   },
   {
    "duration": 21,
    "start_time": "2021-11-03T17:56:54.966Z"
   },
   {
    "duration": 17,
    "start_time": "2021-11-03T17:56:55.930Z"
   },
   {
    "duration": 22,
    "start_time": "2021-11-03T17:56:56.713Z"
   },
   {
    "duration": 2094,
    "start_time": "2021-11-03T17:56:57.715Z"
   },
   {
    "duration": 2035,
    "start_time": "2021-11-03T17:57:25.448Z"
   },
   {
    "duration": 2046,
    "start_time": "2021-11-03T17:57:56.738Z"
   },
   {
    "duration": 2166,
    "start_time": "2021-11-03T17:58:04.156Z"
   },
   {
    "duration": 2173,
    "start_time": "2021-11-03T17:58:21.076Z"
   },
   {
    "duration": 2158,
    "start_time": "2021-11-03T17:58:29.944Z"
   },
   {
    "duration": 4,
    "start_time": "2021-11-03T17:58:34.315Z"
   },
   {
    "duration": 89,
    "start_time": "2021-11-03T17:58:34.529Z"
   },
   {
    "duration": 20,
    "start_time": "2021-11-03T17:58:35.240Z"
   },
   {
    "duration": 16,
    "start_time": "2021-11-03T17:58:35.820Z"
   },
   {
    "duration": 24,
    "start_time": "2021-11-03T17:58:36.587Z"
   },
   {
    "duration": 1975,
    "start_time": "2021-11-03T17:58:37.193Z"
   },
   {
    "duration": 2006,
    "start_time": "2021-11-03T18:06:56.184Z"
   },
   {
    "duration": 1707,
    "start_time": "2021-11-03T18:07:36.605Z"
   },
   {
    "duration": 1710,
    "start_time": "2021-11-03T18:08:39.791Z"
   },
   {
    "duration": 1676,
    "start_time": "2021-11-03T18:08:49.851Z"
   },
   {
    "duration": 4,
    "start_time": "2021-11-03T18:09:30.326Z"
   },
   {
    "duration": 91,
    "start_time": "2021-11-03T18:09:30.552Z"
   },
   {
    "duration": 15,
    "start_time": "2021-11-03T18:09:31.283Z"
   },
   {
    "duration": 16,
    "start_time": "2021-11-03T18:09:31.941Z"
   },
   {
    "duration": 23,
    "start_time": "2021-11-03T18:09:33.305Z"
   },
   {
    "duration": 1735,
    "start_time": "2021-11-03T18:09:35.591Z"
   },
   {
    "duration": 4,
    "start_time": "2021-11-03T18:14:29.770Z"
   },
   {
    "duration": 80,
    "start_time": "2021-11-03T18:14:29.999Z"
   },
   {
    "duration": 16,
    "start_time": "2021-11-03T18:14:30.710Z"
   },
   {
    "duration": 17,
    "start_time": "2021-11-03T18:14:31.506Z"
   },
   {
    "duration": 22,
    "start_time": "2021-11-03T18:14:32.532Z"
   },
   {
    "duration": 1692,
    "start_time": "2021-11-03T18:14:33.419Z"
   },
   {
    "duration": 1943,
    "start_time": "2021-11-03T18:18:45.972Z"
   },
   {
    "duration": 1934,
    "start_time": "2021-11-03T18:18:55.288Z"
   },
   {
    "duration": 2070,
    "start_time": "2021-11-03T18:19:03.076Z"
   },
   {
    "duration": 1819,
    "start_time": "2021-11-03T18:19:20.295Z"
   },
   {
    "duration": 1822,
    "start_time": "2021-11-03T18:20:30.973Z"
   },
   {
    "duration": 1833,
    "start_time": "2021-11-03T18:20:47.680Z"
   },
   {
    "duration": 4,
    "start_time": "2021-11-03T18:20:56.482Z"
   },
   {
    "duration": 88,
    "start_time": "2021-11-03T18:20:56.758Z"
   },
   {
    "duration": 23,
    "start_time": "2021-11-03T18:20:57.651Z"
   },
   {
    "duration": 16,
    "start_time": "2021-11-03T18:20:58.392Z"
   },
   {
    "duration": 33,
    "start_time": "2021-11-03T18:20:59.156Z"
   },
   {
    "duration": 1876,
    "start_time": "2021-11-03T18:21:00.272Z"
   },
   {
    "duration": 2042,
    "start_time": "2021-11-03T18:21:16.246Z"
   },
   {
    "duration": 1913,
    "start_time": "2021-11-03T18:21:27.547Z"
   },
   {
    "duration": 3,
    "start_time": "2021-11-03T18:22:02.183Z"
   },
   {
    "duration": 86,
    "start_time": "2021-11-03T18:22:03.657Z"
   },
   {
    "duration": 15,
    "start_time": "2021-11-03T18:22:04.604Z"
   },
   {
    "duration": 16,
    "start_time": "2021-11-03T18:22:05.181Z"
   },
   {
    "duration": 23,
    "start_time": "2021-11-03T18:22:05.911Z"
   },
   {
    "duration": 1903,
    "start_time": "2021-11-03T18:22:06.493Z"
   },
   {
    "duration": 1878,
    "start_time": "2021-11-03T18:22:25.870Z"
   },
   {
    "duration": 3,
    "start_time": "2021-11-03T18:22:43.874Z"
   },
   {
    "duration": 86,
    "start_time": "2021-11-03T18:22:44.085Z"
   },
   {
    "duration": 16,
    "start_time": "2021-11-03T18:22:44.879Z"
   },
   {
    "duration": 18,
    "start_time": "2021-11-03T18:22:45.477Z"
   },
   {
    "duration": 23,
    "start_time": "2021-11-03T18:22:46.118Z"
   },
   {
    "duration": 1810,
    "start_time": "2021-11-03T18:22:46.741Z"
   },
   {
    "duration": 14,
    "start_time": "2021-11-03T18:30:50.397Z"
   },
   {
    "duration": 17,
    "start_time": "2021-11-03T18:31:08.811Z"
   },
   {
    "duration": 418,
    "start_time": "2021-11-03T18:31:16.105Z"
   },
   {
    "duration": 17,
    "start_time": "2021-11-03T18:31:33.811Z"
   },
   {
    "duration": 9,
    "start_time": "2021-11-03T18:32:08.274Z"
   },
   {
    "duration": 9,
    "start_time": "2021-11-03T18:32:20.340Z"
   },
   {
    "duration": 9,
    "start_time": "2021-11-03T18:32:35.390Z"
   },
   {
    "duration": 8,
    "start_time": "2021-11-03T18:32:56.290Z"
   },
   {
    "duration": 10,
    "start_time": "2021-11-04T07:16:45.179Z"
   },
   {
    "duration": 3,
    "start_time": "2021-11-04T07:16:48.064Z"
   },
   {
    "duration": 69,
    "start_time": "2021-11-04T07:16:48.416Z"
   },
   {
    "duration": 15,
    "start_time": "2021-11-04T07:16:50.226Z"
   },
   {
    "duration": 14,
    "start_time": "2021-11-04T07:16:51.120Z"
   },
   {
    "duration": 19,
    "start_time": "2021-11-04T07:16:52.066Z"
   },
   {
    "duration": 1528,
    "start_time": "2021-11-04T07:16:53.120Z"
   },
   {
    "duration": 23,
    "start_time": "2021-11-04T07:16:56.608Z"
   },
   {
    "duration": 31,
    "start_time": "2021-11-04T07:17:02.114Z"
   },
   {
    "duration": 113,
    "start_time": "2021-11-04T07:18:16.064Z"
   },
   {
    "duration": 8,
    "start_time": "2021-11-04T07:18:21.970Z"
   },
   {
    "duration": 471,
    "start_time": "2021-11-04T07:18:53.546Z"
   },
   {
    "duration": 529,
    "start_time": "2021-11-04T07:19:23.760Z"
   },
   {
    "duration": 11,
    "start_time": "2021-11-04T07:19:32.704Z"
   },
   {
    "duration": 431,
    "start_time": "2021-11-04T07:20:38.160Z"
   },
   {
    "duration": 19,
    "start_time": "2021-11-04T07:20:43.246Z"
   },
   {
    "duration": 21,
    "start_time": "2021-11-04T07:21:05.649Z"
   },
   {
    "duration": 411,
    "start_time": "2021-11-04T07:23:49.755Z"
   },
   {
    "duration": 4,
    "start_time": "2021-11-04T07:25:05.915Z"
   },
   {
    "duration": 69,
    "start_time": "2021-11-04T07:25:06.187Z"
   },
   {
    "duration": 12,
    "start_time": "2021-11-04T07:25:06.955Z"
   },
   {
    "duration": 12,
    "start_time": "2021-11-04T07:25:07.546Z"
   },
   {
    "duration": 16,
    "start_time": "2021-11-04T07:25:08.187Z"
   },
   {
    "duration": 1103,
    "start_time": "2021-11-04T07:25:08.683Z"
   },
   {
    "duration": 25,
    "start_time": "2021-11-04T07:25:09.788Z"
   },
   {
    "duration": 44,
    "start_time": "2021-11-04T07:25:09.816Z"
   },
   {
    "duration": 196,
    "start_time": "2021-11-04T07:25:11.177Z"
   },
   {
    "duration": 180,
    "start_time": "2021-11-04T07:25:21.915Z"
   },
   {
    "duration": 187,
    "start_time": "2021-11-04T07:27:17.547Z"
   },
   {
    "duration": 198,
    "start_time": "2021-11-04T07:27:37.537Z"
   },
   {
    "duration": 193,
    "start_time": "2021-11-04T07:27:52.475Z"
   },
   {
    "duration": 427,
    "start_time": "2021-11-04T07:28:49.435Z"
   },
   {
    "duration": 371,
    "start_time": "2021-11-04T07:29:37.748Z"
   },
   {
    "duration": 4,
    "start_time": "2021-11-04T07:29:42.996Z"
   },
   {
    "duration": 7,
    "start_time": "2021-11-04T07:29:50.442Z"
   },
   {
    "duration": 327,
    "start_time": "2021-11-04T07:29:54.888Z"
   },
   {
    "duration": 375,
    "start_time": "2021-11-04T07:32:29.345Z"
   },
   {
    "duration": 333,
    "start_time": "2021-11-04T07:32:38.111Z"
   },
   {
    "duration": 518,
    "start_time": "2021-11-04T07:33:40.690Z"
   },
   {
    "duration": 554,
    "start_time": "2021-11-04T07:33:52.161Z"
   },
   {
    "duration": 352,
    "start_time": "2021-11-04T07:34:03.391Z"
   },
   {
    "duration": 360,
    "start_time": "2021-11-04T07:34:14.568Z"
   },
   {
    "duration": 469,
    "start_time": "2021-11-04T07:34:22.512Z"
   },
   {
    "duration": 4,
    "start_time": "2021-11-04T07:36:06.235Z"
   },
   {
    "duration": 14,
    "start_time": "2021-11-04T07:40:14.093Z"
   },
   {
    "duration": 350,
    "start_time": "2021-11-04T07:40:31.182Z"
   },
   {
    "duration": 532,
    "start_time": "2021-11-04T07:40:37.982Z"
   },
   {
    "duration": 125,
    "start_time": "2021-11-04T07:43:01.495Z"
   },
   {
    "duration": 26,
    "start_time": "2021-11-04T07:43:12.190Z"
   },
   {
    "duration": 424,
    "start_time": "2021-11-04T07:44:00.510Z"
   },
   {
    "duration": 398,
    "start_time": "2021-11-04T07:44:07.166Z"
   },
   {
    "duration": 390,
    "start_time": "2021-11-04T07:44:35.182Z"
   },
   {
    "duration": 400,
    "start_time": "2021-11-04T07:44:43.950Z"
   },
   {
    "duration": 581,
    "start_time": "2021-11-04T07:44:56.878Z"
   },
   {
    "duration": 579,
    "start_time": "2021-11-04T07:45:12.695Z"
   },
   {
    "duration": 424,
    "start_time": "2021-11-04T07:45:25.701Z"
   },
   {
    "duration": 502,
    "start_time": "2021-11-04T07:45:34.175Z"
   },
   {
    "duration": 349,
    "start_time": "2021-11-04T07:57:11.634Z"
   },
   {
    "duration": 670,
    "start_time": "2021-11-04T07:57:30.355Z"
   },
   {
    "duration": 3,
    "start_time": "2021-11-04T07:57:37.264Z"
   },
   {
    "duration": 62,
    "start_time": "2021-11-04T07:57:37.463Z"
   },
   {
    "duration": 12,
    "start_time": "2021-11-04T07:57:38.383Z"
   },
   {
    "duration": 12,
    "start_time": "2021-11-04T07:57:38.743Z"
   },
   {
    "duration": 17,
    "start_time": "2021-11-04T07:57:39.434Z"
   },
   {
    "duration": 1032,
    "start_time": "2021-11-04T07:57:39.755Z"
   },
   {
    "duration": 22,
    "start_time": "2021-11-04T07:57:40.789Z"
   },
   {
    "duration": 22,
    "start_time": "2021-11-04T07:57:40.813Z"
   },
   {
    "duration": 417,
    "start_time": "2021-11-04T07:57:41.474Z"
   },
   {
    "duration": 468,
    "start_time": "2021-11-04T07:57:43.074Z"
   },
   {
    "duration": 27,
    "start_time": "2021-11-04T07:57:56.478Z"
   },
   {
    "duration": 509,
    "start_time": "2021-11-04T08:00:18.162Z"
   },
   {
    "duration": 27,
    "start_time": "2021-11-04T08:04:14.163Z"
   },
   {
    "duration": 618,
    "start_time": "2021-11-04T08:06:20.518Z"
   },
   {
    "duration": 391,
    "start_time": "2021-11-04T08:07:16.833Z"
   },
   {
    "duration": 643,
    "start_time": "2021-11-04T08:07:59.452Z"
   },
   {
    "duration": 501,
    "start_time": "2021-11-04T08:12:22.715Z"
   },
   {
    "duration": 497,
    "start_time": "2021-11-04T08:13:15.446Z"
   },
   {
    "duration": 531,
    "start_time": "2021-11-04T13:30:02.978Z"
   },
   {
    "duration": 912,
    "start_time": "2021-11-04T13:30:31.833Z"
   },
   {
    "duration": 88,
    "start_time": "2021-11-04T13:30:32.748Z"
   },
   {
    "duration": 14,
    "start_time": "2021-11-04T13:30:32.939Z"
   },
   {
    "duration": 18,
    "start_time": "2021-11-04T13:30:44.325Z"
   },
   {
    "duration": 25,
    "start_time": "2021-11-04T13:30:44.345Z"
   },
   {
    "duration": 1796,
    "start_time": "2021-11-04T13:30:44.373Z"
   },
   {
    "duration": 18,
    "start_time": "2021-11-04T13:30:46.171Z"
   },
   {
    "duration": 58,
    "start_time": "2021-11-04T13:30:46.191Z"
   },
   {
    "duration": 636,
    "start_time": "2021-11-04T13:30:46.251Z"
   },
   {
    "duration": 852,
    "start_time": "2021-11-04T13:30:46.890Z"
   },
   {
    "duration": 7,
    "start_time": "2021-11-04T13:30:47.746Z"
   },
   {
    "duration": 377,
    "start_time": "2021-11-04T13:32:32.051Z"
   },
   {
    "duration": 48,
    "start_time": "2021-11-04T13:32:41.856Z"
   },
   {
    "duration": 9,
    "start_time": "2021-11-04T13:33:39.844Z"
   },
   {
    "duration": 47,
    "start_time": "2021-11-04T13:33:53.068Z"
   },
   {
    "duration": 16,
    "start_time": "2021-11-04T13:34:35.463Z"
   },
   {
    "duration": 43,
    "start_time": "2021-11-04T13:34:53.432Z"
   },
   {
    "duration": 18,
    "start_time": "2021-11-04T13:43:08.147Z"
   },
   {
    "duration": 808,
    "start_time": "2021-11-04T13:43:24.920Z"
   },
   {
    "duration": 305,
    "start_time": "2021-11-04T13:48:15.128Z"
   },
   {
    "duration": 3596,
    "start_time": "2021-11-04T13:48:33.970Z"
   },
   {
    "duration": 1181,
    "start_time": "2021-11-04T13:52:57.375Z"
   },
   {
    "duration": 625,
    "start_time": "2021-11-04T13:53:32.844Z"
   },
   {
    "duration": 364,
    "start_time": "2021-11-04T13:53:48.357Z"
   },
   {
    "duration": 250,
    "start_time": "2021-11-04T13:53:58.373Z"
   },
   {
    "duration": 320,
    "start_time": "2021-11-04T13:54:43.874Z"
   },
   {
    "duration": 350,
    "start_time": "2021-11-04T13:55:46.558Z"
   },
   {
    "duration": 400,
    "start_time": "2021-11-04T13:56:00.543Z"
   },
   {
    "duration": 536,
    "start_time": "2021-11-04T13:56:38.245Z"
   },
   {
    "duration": 470,
    "start_time": "2021-11-04T13:56:46.934Z"
   },
   {
    "duration": 522,
    "start_time": "2021-11-04T13:56:57.525Z"
   },
   {
    "duration": 1069,
    "start_time": "2021-11-05T13:52:34.676Z"
   },
   {
    "duration": 66,
    "start_time": "2021-11-05T13:52:35.747Z"
   },
   {
    "duration": 9,
    "start_time": "2021-11-05T13:52:35.815Z"
   },
   {
    "duration": 41,
    "start_time": "2021-11-05T13:52:35.826Z"
   },
   {
    "duration": 919,
    "start_time": "2021-11-05T13:52:35.869Z"
   },
   {
    "duration": 14,
    "start_time": "2021-11-05T13:52:36.791Z"
   },
   {
    "duration": 24,
    "start_time": "2021-11-05T13:52:36.808Z"
   },
   {
    "duration": 403,
    "start_time": "2021-11-05T13:52:36.834Z"
   },
   {
    "duration": 498,
    "start_time": "2021-11-05T13:52:37.241Z"
   },
   {
    "duration": 24,
    "start_time": "2021-11-05T13:52:37.742Z"
   },
   {
    "duration": 261,
    "start_time": "2021-11-05T13:52:37.768Z"
   },
   {
    "duration": 33,
    "start_time": "2021-11-05T13:52:38.031Z"
   },
   {
    "duration": 333,
    "start_time": "2021-11-05T13:52:38.066Z"
   },
   {
    "duration": 14,
    "start_time": "2021-11-05T13:52:38.401Z"
   },
   {
    "duration": 210,
    "start_time": "2021-11-05T13:52:38.417Z"
   },
   {
    "duration": 269,
    "start_time": "2021-11-05T13:52:38.629Z"
   },
   {
    "duration": 596,
    "start_time": "2021-11-05T13:52:38.900Z"
   },
   {
    "duration": 523,
    "start_time": "2021-11-05T13:52:39.498Z"
   },
   {
    "duration": 520,
    "start_time": "2021-11-05T13:52:40.023Z"
   },
   {
    "duration": 566,
    "start_time": "2021-11-05T13:52:40.545Z"
   },
   {
    "duration": 195,
    "start_time": "2021-11-05T13:52:41.112Z"
   },
   {
    "duration": 20,
    "start_time": "2021-11-05T13:52:41.308Z"
   },
   {
    "duration": 472,
    "start_time": "2021-11-05T13:52:41.330Z"
   },
   {
    "duration": 17,
    "start_time": "2021-11-05T13:52:41.804Z"
   },
   {
    "duration": 15,
    "start_time": "2021-11-05T13:52:41.823Z"
   },
   {
    "duration": 237,
    "start_time": "2021-11-05T13:52:41.840Z"
   },
   {
    "duration": 6,
    "start_time": "2021-11-05T13:52:42.080Z"
   },
   {
    "duration": 232,
    "start_time": "2021-11-05T13:52:42.088Z"
   },
   {
    "duration": 310,
    "start_time": "2021-11-05T13:52:42.322Z"
   },
   {
    "duration": 19,
    "start_time": "2021-11-05T13:57:03.035Z"
   },
   {
    "duration": 1039,
    "start_time": "2021-11-05T13:57:47.708Z"
   },
   {
    "duration": 62,
    "start_time": "2021-11-05T13:57:48.750Z"
   },
   {
    "duration": 10,
    "start_time": "2021-11-05T13:57:48.816Z"
   },
   {
    "duration": 39,
    "start_time": "2021-11-05T13:57:48.828Z"
   },
   {
    "duration": 365,
    "start_time": "2021-11-05T13:57:48.869Z"
   },
   {
    "duration": -17412,
    "start_time": "2021-11-05T13:58:06.648Z"
   },
   {
    "duration": -17421,
    "start_time": "2021-11-05T13:58:06.658Z"
   },
   {
    "duration": -17423,
    "start_time": "2021-11-05T13:58:06.661Z"
   },
   {
    "duration": -17427,
    "start_time": "2021-11-05T13:58:06.666Z"
   },
   {
    "duration": -17429,
    "start_time": "2021-11-05T13:58:06.669Z"
   },
   {
    "duration": -17434,
    "start_time": "2021-11-05T13:58:06.674Z"
   },
   {
    "duration": -17442,
    "start_time": "2021-11-05T13:58:06.683Z"
   },
   {
    "duration": -17444,
    "start_time": "2021-11-05T13:58:06.686Z"
   },
   {
    "duration": -17445,
    "start_time": "2021-11-05T13:58:06.688Z"
   },
   {
    "duration": -17446,
    "start_time": "2021-11-05T13:58:06.690Z"
   },
   {
    "duration": -17447,
    "start_time": "2021-11-05T13:58:06.692Z"
   },
   {
    "duration": -17448,
    "start_time": "2021-11-05T13:58:06.694Z"
   },
   {
    "duration": -17452,
    "start_time": "2021-11-05T13:58:06.698Z"
   },
   {
    "duration": -17454,
    "start_time": "2021-11-05T13:58:06.701Z"
   },
   {
    "duration": -17460,
    "start_time": "2021-11-05T13:58:06.708Z"
   },
   {
    "duration": -17463,
    "start_time": "2021-11-05T13:58:06.712Z"
   },
   {
    "duration": -17465,
    "start_time": "2021-11-05T13:58:06.715Z"
   },
   {
    "duration": -17468,
    "start_time": "2021-11-05T13:58:06.719Z"
   },
   {
    "duration": -17469,
    "start_time": "2021-11-05T13:58:06.721Z"
   },
   {
    "duration": -17472,
    "start_time": "2021-11-05T13:58:06.724Z"
   },
   {
    "duration": -17472,
    "start_time": "2021-11-05T13:58:06.725Z"
   },
   {
    "duration": -17474,
    "start_time": "2021-11-05T13:58:06.728Z"
   },
   {
    "duration": -17476,
    "start_time": "2021-11-05T13:58:06.731Z"
   },
   {
    "duration": -17479,
    "start_time": "2021-11-05T13:58:06.735Z"
   },
   {
    "duration": -17480,
    "start_time": "2021-11-05T13:58:06.737Z"
   },
   {
    "duration": 769,
    "start_time": "2021-11-05T13:58:11.199Z"
   },
   {
    "duration": 1200,
    "start_time": "2021-11-05T14:11:10.547Z"
   },
   {
    "duration": 66,
    "start_time": "2021-11-05T14:11:11.749Z"
   },
   {
    "duration": 10,
    "start_time": "2021-11-05T14:11:11.817Z"
   },
   {
    "duration": 36,
    "start_time": "2021-11-05T14:11:11.829Z"
   },
   {
    "duration": 932,
    "start_time": "2021-11-05T14:11:11.867Z"
   },
   {
    "duration": 14,
    "start_time": "2021-11-05T14:11:12.801Z"
   },
   {
    "duration": 38,
    "start_time": "2021-11-05T14:11:12.817Z"
   },
   {
    "duration": 459,
    "start_time": "2021-11-05T14:11:12.858Z"
   },
   {
    "duration": 516,
    "start_time": "2021-11-05T14:11:13.320Z"
   },
   {
    "duration": 31,
    "start_time": "2021-11-05T14:11:13.838Z"
   },
   {
    "duration": 267,
    "start_time": "2021-11-05T14:11:13.871Z"
   },
   {
    "duration": 34,
    "start_time": "2021-11-05T14:11:14.140Z"
   },
   {
    "duration": 341,
    "start_time": "2021-11-05T14:11:14.176Z"
   },
   {
    "duration": 16,
    "start_time": "2021-11-05T14:11:14.519Z"
   },
   {
    "duration": 347,
    "start_time": "2021-11-05T14:11:14.537Z"
   },
   {
    "duration": 192,
    "start_time": "2021-11-05T14:11:14.887Z"
   },
   {
    "duration": 662,
    "start_time": "2021-11-05T14:11:15.081Z"
   },
   {
    "duration": 576,
    "start_time": "2021-11-05T14:11:15.746Z"
   },
   {
    "duration": 540,
    "start_time": "2021-11-05T14:11:16.324Z"
   },
   {
    "duration": 598,
    "start_time": "2021-11-05T14:11:16.866Z"
   },
   {
    "duration": 208,
    "start_time": "2021-11-05T14:11:17.466Z"
   },
   {
    "duration": 27,
    "start_time": "2021-11-05T14:11:17.676Z"
   },
   {
    "duration": 822,
    "start_time": "2021-11-05T14:11:17.706Z"
   },
   {
    "duration": 34,
    "start_time": "2021-11-05T14:11:18.531Z"
   },
   {
    "duration": 25,
    "start_time": "2021-11-05T14:11:18.567Z"
   },
   {
    "duration": 389,
    "start_time": "2021-11-05T14:11:18.597Z"
   },
   {
    "duration": 7,
    "start_time": "2021-11-05T14:11:18.988Z"
   },
   {
    "duration": 267,
    "start_time": "2021-11-05T14:11:18.997Z"
   },
   {
    "duration": 471,
    "start_time": "2021-11-05T14:11:19.266Z"
   },
   {
    "duration": 1348,
    "start_time": "2021-11-05T16:53:54.949Z"
   },
   {
    "duration": 91,
    "start_time": "2021-11-05T16:53:56.301Z"
   },
   {
    "duration": 15,
    "start_time": "2021-11-05T16:53:56.401Z"
   },
   {
    "duration": 25,
    "start_time": "2021-11-05T16:53:58.302Z"
   },
   {
    "duration": 2293,
    "start_time": "2021-11-05T16:53:59.575Z"
   },
   {
    "duration": 2196,
    "start_time": "2021-11-05T16:54:21.028Z"
   },
   {
    "duration": 1768,
    "start_time": "2021-11-05T16:54:35.892Z"
   },
   {
    "duration": 2812,
    "start_time": "2021-11-05T16:56:01.900Z"
   },
   {
    "duration": 4,
    "start_time": "2021-11-05T16:56:19.025Z"
   },
   {
    "duration": 81,
    "start_time": "2021-11-05T16:56:19.439Z"
   },
   {
    "duration": 18,
    "start_time": "2021-11-05T16:56:20.791Z"
   },
   {
    "duration": 34,
    "start_time": "2021-11-05T16:56:22.633Z"
   },
   {
    "duration": 1869,
    "start_time": "2021-11-05T16:56:23.935Z"
   },
   {
    "duration": 12,
    "start_time": "2021-11-05T16:58:57.322Z"
   },
   {
    "duration": 21,
    "start_time": "2021-11-05T17:01:44.140Z"
   },
   {
    "duration": 6,
    "start_time": "2021-11-05T17:01:52.156Z"
   },
   {
    "duration": 8,
    "start_time": "2021-11-05T17:08:23.366Z"
   },
   {
    "duration": 8,
    "start_time": "2021-11-05T17:08:27.902Z"
   },
   {
    "duration": 8,
    "start_time": "2021-11-05T17:08:47.574Z"
   },
   {
    "duration": 11,
    "start_time": "2021-11-05T17:10:17.103Z"
   },
   {
    "duration": 20,
    "start_time": "2021-11-05T17:10:31.174Z"
   },
   {
    "duration": 389,
    "start_time": "2021-11-05T17:17:56.324Z"
   },
   {
    "duration": 4,
    "start_time": "2021-11-05T17:18:16.516Z"
   },
   {
    "duration": 82,
    "start_time": "2021-11-05T17:18:16.716Z"
   },
   {
    "duration": 16,
    "start_time": "2021-11-05T17:18:17.632Z"
   },
   {
    "duration": 25,
    "start_time": "2021-11-05T17:18:18.782Z"
   },
   {
    "duration": 1924,
    "start_time": "2021-11-05T17:18:19.347Z"
   },
   {
    "duration": 19,
    "start_time": "2021-11-05T17:18:23.431Z"
   },
   {
    "duration": 19,
    "start_time": "2021-11-05T17:18:24.070Z"
   },
   {
    "duration": 39,
    "start_time": "2021-11-05T17:18:25.415Z"
   },
   {
    "duration": 694,
    "start_time": "2021-11-05T17:18:26.869Z"
   },
   {
    "duration": 847,
    "start_time": "2021-11-05T17:18:29.021Z"
   },
   {
    "duration": 20,
    "start_time": "2021-11-05T17:18:32.189Z"
   },
   {
    "duration": 22,
    "start_time": "2021-11-05T17:18:32.729Z"
   },
   {
    "duration": 23,
    "start_time": "2021-11-05T17:18:51.878Z"
   },
   {
    "duration": 22,
    "start_time": "2021-11-05T17:19:00.624Z"
   },
   {
    "duration": 21,
    "start_time": "2021-11-05T17:19:50.781Z"
   },
   {
    "duration": 10093,
    "start_time": "2021-11-05T17:27:38.652Z"
   },
   {
    "duration": 4,
    "start_time": "2021-11-05T17:28:04.436Z"
   },
   {
    "duration": 84,
    "start_time": "2021-11-05T17:28:04.679Z"
   },
   {
    "duration": 14,
    "start_time": "2021-11-05T17:28:05.704Z"
   },
   {
    "duration": 23,
    "start_time": "2021-11-05T17:28:07.434Z"
   },
   {
    "duration": 1857,
    "start_time": "2021-11-05T17:28:08.104Z"
   },
   {
    "duration": 17,
    "start_time": "2021-11-05T17:28:09.963Z"
   },
   {
    "duration": 20,
    "start_time": "2021-11-05T17:28:10.413Z"
   },
   {
    "duration": 33,
    "start_time": "2021-11-05T17:28:11.560Z"
   },
   {
    "duration": 664,
    "start_time": "2021-11-05T17:28:12.586Z"
   },
   {
    "duration": 846,
    "start_time": "2021-11-05T17:28:14.975Z"
   },
   {
    "duration": 25,
    "start_time": "2021-11-05T17:28:15.825Z"
   },
   {
    "duration": 447,
    "start_time": "2021-11-05T17:28:16.744Z"
   },
   {
    "duration": 9522,
    "start_time": "2021-11-05T17:28:19.324Z"
   },
   {
    "duration": 13,
    "start_time": "2021-11-05T17:29:01.360Z"
   },
   {
    "duration": 8,
    "start_time": "2021-11-05T17:29:29.922Z"
   },
   {
    "duration": 424,
    "start_time": "2021-11-05T17:29:52.516Z"
   },
   {
    "duration": 9,
    "start_time": "2021-11-05T17:29:54.592Z"
   },
   {
    "duration": 34,
    "start_time": "2021-11-05T17:33:07.302Z"
   },
   {
    "duration": 566,
    "start_time": "2021-11-05T17:33:51.451Z"
   },
   {
    "duration": 34,
    "start_time": "2021-11-05T17:34:26.413Z"
   },
   {
    "duration": 599,
    "start_time": "2021-11-05T17:34:27.519Z"
   },
   {
    "duration": 21,
    "start_time": "2021-11-05T17:36:09.060Z"
   },
   {
    "duration": 342,
    "start_time": "2021-11-05T17:38:37.072Z"
   },
   {
    "duration": 331,
    "start_time": "2021-11-05T17:41:24.436Z"
   },
   {
    "duration": 683,
    "start_time": "2021-11-05T17:42:01.520Z"
   },
   {
    "duration": 675,
    "start_time": "2021-11-05T17:42:29.051Z"
   },
   {
    "duration": 399,
    "start_time": "2021-11-05T17:43:17.641Z"
   },
   {
    "duration": 319,
    "start_time": "2021-11-05T17:43:26.797Z"
   },
   {
    "duration": 328,
    "start_time": "2021-11-05T17:43:36.282Z"
   },
   {
    "duration": 269,
    "start_time": "2021-11-05T17:47:40.668Z"
   },
   {
    "duration": 325,
    "start_time": "2021-11-05T17:48:23.750Z"
   },
   {
    "duration": 274,
    "start_time": "2021-11-05T17:48:32.264Z"
   },
   {
    "duration": 913,
    "start_time": "2021-11-05T17:50:09.639Z"
   },
   {
    "duration": 275,
    "start_time": "2021-11-05T17:51:29.990Z"
   },
   {
    "duration": 812,
    "start_time": "2021-11-05T17:52:09.688Z"
   },
   {
    "duration": 781,
    "start_time": "2021-11-05T17:52:44.515Z"
   },
   {
    "duration": 774,
    "start_time": "2021-11-05T17:53:16.128Z"
   },
   {
    "duration": 774,
    "start_time": "2021-11-05T17:53:56.684Z"
   },
   {
    "duration": 9401,
    "start_time": "2021-11-05T17:55:06.994Z"
   },
   {
    "duration": 139,
    "start_time": "2021-11-05T17:55:28.632Z"
   },
   {
    "duration": 828,
    "start_time": "2021-11-05T17:55:35.492Z"
   },
   {
    "duration": 853,
    "start_time": "2021-11-05T17:55:56.828Z"
   },
   {
    "duration": 806,
    "start_time": "2021-11-05T17:56:20.782Z"
   },
   {
    "duration": 921,
    "start_time": "2021-11-05T17:56:32.963Z"
   },
   {
    "duration": 879,
    "start_time": "2021-11-05T17:56:43.169Z"
   },
   {
    "duration": 785,
    "start_time": "2021-11-05T18:03:18.937Z"
   },
   {
    "duration": 435,
    "start_time": "2021-11-05T18:07:19.353Z"
   },
   {
    "duration": 323,
    "start_time": "2021-11-05T18:07:30.907Z"
   },
   {
    "duration": 519,
    "start_time": "2021-11-05T18:16:44.711Z"
   },
   {
    "duration": 4,
    "start_time": "2021-11-05T18:16:55.313Z"
   },
   {
    "duration": 82,
    "start_time": "2021-11-05T18:16:55.518Z"
   },
   {
    "duration": 15,
    "start_time": "2021-11-05T18:16:56.420Z"
   },
   {
    "duration": 23,
    "start_time": "2021-11-05T18:16:57.661Z"
   },
   {
    "duration": 1857,
    "start_time": "2021-11-05T18:16:58.292Z"
   },
   {
    "duration": 18,
    "start_time": "2021-11-05T18:17:00.152Z"
   },
   {
    "duration": 39,
    "start_time": "2021-11-05T18:17:00.173Z"
   },
   {
    "duration": 34,
    "start_time": "2021-11-05T18:17:00.619Z"
   },
   {
    "duration": 632,
    "start_time": "2021-11-05T18:17:01.472Z"
   },
   {
    "duration": 830,
    "start_time": "2021-11-05T18:17:02.542Z"
   },
   {
    "duration": 33,
    "start_time": "2021-11-05T18:17:03.375Z"
   },
   {
    "duration": 421,
    "start_time": "2021-11-05T18:17:04.048Z"
   },
   {
    "duration": 9,
    "start_time": "2021-11-05T18:17:05.185Z"
   },
   {
    "duration": 46,
    "start_time": "2021-11-05T18:17:06.425Z"
   },
   {
    "duration": 759,
    "start_time": "2021-11-05T18:17:07.290Z"
   },
   {
    "duration": 27,
    "start_time": "2021-11-05T18:17:08.052Z"
   },
   {
    "duration": 479,
    "start_time": "2021-11-05T18:17:08.734Z"
   },
   {
    "duration": 408,
    "start_time": "2021-11-05T18:17:10.147Z"
   },
   {
    "duration": 1019,
    "start_time": "2021-11-05T18:17:10.970Z"
   },
   {
    "duration": 897,
    "start_time": "2021-11-05T18:17:11.992Z"
   },
   {
    "duration": 794,
    "start_time": "2021-11-05T18:17:12.892Z"
   },
   {
    "duration": 786,
    "start_time": "2021-11-05T18:17:13.688Z"
   },
   {
    "duration": 349,
    "start_time": "2021-11-05T18:17:14.862Z"
   },
   {
    "duration": 31,
    "start_time": "2021-11-05T18:17:19.772Z"
   },
   {
    "duration": 22,
    "start_time": "2021-11-05T18:17:21.032Z"
   },
   {
    "duration": 13,
    "start_time": "2021-11-05T18:17:40.704Z"
   },
   {
    "duration": 10,
    "start_time": "2021-11-05T18:18:01.502Z"
   },
   {
    "duration": 10,
    "start_time": "2021-11-05T18:18:10.316Z"
   },
   {
    "duration": 395,
    "start_time": "2021-11-05T18:18:24.801Z"
   },
   {
    "duration": 18,
    "start_time": "2021-11-05T18:18:31.367Z"
   },
   {
    "duration": 143,
    "start_time": "2021-11-05T18:19:14.509Z"
   },
   {
    "duration": 15,
    "start_time": "2021-11-05T18:19:17.897Z"
   },
   {
    "duration": 132,
    "start_time": "2021-11-05T18:19:50.629Z"
   },
   {
    "duration": 12,
    "start_time": "2021-11-05T18:20:07.113Z"
   },
   {
    "duration": 128,
    "start_time": "2021-11-05T18:21:31.273Z"
   },
   {
    "duration": 13,
    "start_time": "2021-11-05T18:22:37.734Z"
   },
   {
    "duration": 899,
    "start_time": "2021-11-05T18:23:56.951Z"
   },
   {
    "duration": 829,
    "start_time": "2021-11-05T18:24:04.380Z"
   },
   {
    "duration": 412,
    "start_time": "2021-11-05T18:24:54.049Z"
   },
   {
    "duration": 333,
    "start_time": "2021-11-05T18:25:23.751Z"
   },
   {
    "duration": 557,
    "start_time": "2021-11-05T18:25:32.511Z"
   },
   {
    "duration": 273,
    "start_time": "2021-11-05T18:26:12.014Z"
   },
   {
    "duration": 280,
    "start_time": "2021-11-05T18:27:03.040Z"
   },
   {
    "duration": 386,
    "start_time": "2021-11-05T18:27:45.910Z"
   },
   {
    "duration": 25,
    "start_time": "2021-11-05T18:31:59.819Z"
   },
   {
    "duration": 8,
    "start_time": "2021-11-05T18:33:48.868Z"
   },
   {
    "duration": 275,
    "start_time": "2021-11-05T18:34:32.845Z"
   },
   {
    "duration": 296,
    "start_time": "2021-11-05T18:35:20.504Z"
   },
   {
    "duration": 263,
    "start_time": "2021-11-05T18:35:49.677Z"
   },
   {
    "duration": 124,
    "start_time": "2021-11-05T18:36:20.604Z"
   },
   {
    "duration": 128,
    "start_time": "2021-11-05T18:37:01.598Z"
   },
   {
    "duration": 119,
    "start_time": "2021-11-05T18:37:39.062Z"
   },
   {
    "duration": 263,
    "start_time": "2021-11-05T18:43:15.985Z"
   },
   {
    "duration": 4,
    "start_time": "2021-11-05T18:43:27.297Z"
   },
   {
    "duration": 86,
    "start_time": "2021-11-05T18:43:27.493Z"
   },
   {
    "duration": 16,
    "start_time": "2021-11-05T18:43:28.433Z"
   },
   {
    "duration": 23,
    "start_time": "2021-11-05T18:43:29.647Z"
   },
   {
    "duration": 1837,
    "start_time": "2021-11-05T18:43:30.208Z"
   },
   {
    "duration": 18,
    "start_time": "2021-11-05T18:43:32.049Z"
   },
   {
    "duration": 39,
    "start_time": "2021-11-05T18:43:32.069Z"
   },
   {
    "duration": 36,
    "start_time": "2021-11-05T18:43:32.311Z"
   },
   {
    "duration": 630,
    "start_time": "2021-11-05T18:43:34.895Z"
   },
   {
    "duration": 811,
    "start_time": "2021-11-05T18:43:35.528Z"
   },
   {
    "duration": 32,
    "start_time": "2021-11-05T18:43:36.343Z"
   },
   {
    "duration": 435,
    "start_time": "2021-11-05T18:43:36.378Z"
   },
   {
    "duration": 9,
    "start_time": "2021-11-05T18:43:36.816Z"
   },
   {
    "duration": 34,
    "start_time": "2021-11-05T18:43:37.961Z"
   },
   {
    "duration": 532,
    "start_time": "2021-11-05T18:43:38.460Z"
   },
   {
    "duration": 25,
    "start_time": "2021-11-05T18:43:38.995Z"
   },
   {
    "duration": 343,
    "start_time": "2021-11-05T18:43:39.947Z"
   },
   {
    "duration": 272,
    "start_time": "2021-11-05T18:43:41.061Z"
   },
   {
    "duration": 922,
    "start_time": "2021-11-05T18:43:41.590Z"
   },
   {
    "duration": 968,
    "start_time": "2021-11-05T18:43:42.515Z"
   },
   {
    "duration": 808,
    "start_time": "2021-11-05T18:43:43.487Z"
   },
   {
    "duration": 780,
    "start_time": "2021-11-05T18:43:44.301Z"
   },
   {
    "duration": 357,
    "start_time": "2021-11-05T18:43:45.084Z"
   },
   {
    "duration": 27,
    "start_time": "2021-11-05T18:43:45.992Z"
   },
   {
    "duration": 306,
    "start_time": "2021-11-05T18:43:46.202Z"
   },
   {
    "duration": 267,
    "start_time": "2021-11-05T18:43:46.644Z"
   },
   {
    "duration": 274,
    "start_time": "2021-11-05T18:43:47.131Z"
   },
   {
    "duration": 27,
    "start_time": "2021-11-05T18:43:48.230Z"
   },
   {
    "duration": 366,
    "start_time": "2021-11-05T18:43:48.467Z"
   },
   {
    "duration": 385,
    "start_time": "2021-11-05T18:43:49.072Z"
   },
   {
    "duration": 261,
    "start_time": "2021-11-05T18:43:49.584Z"
   },
   {
    "duration": 20,
    "start_time": "2021-11-05T18:45:45.064Z"
   },
   {
    "duration": 328,
    "start_time": "2021-11-05T18:45:56.491Z"
   },
   {
    "duration": 20,
    "start_time": "2021-11-05T18:46:40.871Z"
   },
   {
    "duration": 21,
    "start_time": "2021-11-05T18:46:49.068Z"
   },
   {
    "duration": 21,
    "start_time": "2021-11-05T18:47:10.279Z"
   },
   {
    "duration": 285,
    "start_time": "2021-11-05T18:47:10.881Z"
   },
   {
    "duration": 21,
    "start_time": "2021-11-05T18:47:29.779Z"
   },
   {
    "duration": 284,
    "start_time": "2021-11-05T18:47:31.747Z"
   },
   {
    "duration": 301,
    "start_time": "2021-11-05T18:47:56.220Z"
   },
   {
    "duration": 323,
    "start_time": "2021-11-05T18:48:14.702Z"
   },
   {
    "duration": 319,
    "start_time": "2021-11-05T18:48:59.219Z"
   },
   {
    "duration": 312,
    "start_time": "2021-11-05T18:49:36.278Z"
   },
   {
    "duration": 136,
    "start_time": "2021-11-05T18:52:53.180Z"
   },
   {
    "duration": 280,
    "start_time": "2021-11-05T18:53:22.838Z"
   },
   {
    "duration": 292,
    "start_time": "2021-11-05T18:53:35.062Z"
   },
   {
    "duration": 299,
    "start_time": "2021-11-05T18:53:44.870Z"
   },
   {
    "duration": 365,
    "start_time": "2021-11-05T18:56:59.824Z"
   },
   {
    "duration": 5,
    "start_time": "2021-11-05T18:57:56.386Z"
   },
   {
    "duration": 82,
    "start_time": "2021-11-05T18:57:56.560Z"
   },
   {
    "duration": 15,
    "start_time": "2021-11-05T18:57:57.574Z"
   },
   {
    "duration": 22,
    "start_time": "2021-11-05T18:57:58.752Z"
   },
   {
    "duration": 1984,
    "start_time": "2021-11-05T18:57:59.357Z"
   },
   {
    "duration": 19,
    "start_time": "2021-11-05T18:58:01.343Z"
   },
   {
    "duration": 67,
    "start_time": "2021-11-05T18:58:01.365Z"
   },
   {
    "duration": 42,
    "start_time": "2021-11-05T18:58:01.611Z"
   },
   {
    "duration": 947,
    "start_time": "2021-11-05T18:58:02.476Z"
   },
   {
    "duration": 1171,
    "start_time": "2021-11-05T18:58:03.644Z"
   },
   {
    "duration": 21,
    "start_time": "2021-11-05T18:58:04.818Z"
   },
   {
    "duration": 618,
    "start_time": "2021-11-05T18:58:05.288Z"
   },
   {
    "duration": 11,
    "start_time": "2021-11-05T18:58:06.292Z"
   },
   {
    "duration": 48,
    "start_time": "2021-11-05T18:58:07.607Z"
   },
   {
    "duration": 819,
    "start_time": "2021-11-05T18:58:08.067Z"
   },
   {
    "duration": 28,
    "start_time": "2021-11-05T18:58:08.889Z"
   },
   {
    "duration": 391,
    "start_time": "2021-11-05T18:58:09.378Z"
   },
   {
    "duration": 300,
    "start_time": "2021-11-05T18:58:10.546Z"
   },
   {
    "duration": 816,
    "start_time": "2021-11-05T18:58:11.005Z"
   },
   {
    "duration": 966,
    "start_time": "2021-11-05T18:58:11.824Z"
   },
   {
    "duration": 881,
    "start_time": "2021-11-05T18:58:12.793Z"
   },
   {
    "duration": 880,
    "start_time": "2021-11-05T18:58:13.677Z"
   },
   {
    "duration": 327,
    "start_time": "2021-11-05T18:58:14.560Z"
   },
   {
    "duration": 60,
    "start_time": "2021-11-05T18:58:15.346Z"
   },
   {
    "duration": 272,
    "start_time": "2021-11-05T18:58:15.589Z"
   },
   {
    "duration": 276,
    "start_time": "2021-11-05T18:58:16.105Z"
   },
   {
    "duration": 264,
    "start_time": "2021-11-05T18:58:16.575Z"
   },
   {
    "duration": 24,
    "start_time": "2021-11-05T18:58:17.552Z"
   },
   {
    "duration": 378,
    "start_time": "2021-11-05T18:58:17.764Z"
   },
   {
    "duration": 377,
    "start_time": "2021-11-05T18:58:18.326Z"
   },
   {
    "duration": 365,
    "start_time": "2021-11-05T18:58:18.842Z"
   },
   {
    "duration": 400,
    "start_time": "2021-11-05T18:58:20.184Z"
   },
   {
    "duration": 377,
    "start_time": "2021-11-05T18:58:20.683Z"
   },
   {
    "duration": 282,
    "start_time": "2021-11-05T18:58:21.139Z"
   },
   {
    "duration": 7,
    "start_time": "2021-11-05T18:58:23.692Z"
   },
   {
    "duration": 457,
    "start_time": "2021-11-05T18:58:23.915Z"
   },
   {
    "duration": 563,
    "start_time": "2021-11-05T18:58:25.197Z"
   },
   {
    "duration": 415,
    "start_time": "2021-11-05T19:02:17.325Z"
   },
   {
    "duration": 302,
    "start_time": "2021-11-05T19:02:31.691Z"
   },
   {
    "duration": 299,
    "start_time": "2021-11-05T19:02:48.093Z"
   },
   {
    "duration": 640,
    "start_time": "2021-11-05T19:03:02.406Z"
   },
   {
    "duration": 432,
    "start_time": "2021-11-05T19:03:29.726Z"
   },
   {
    "duration": 297,
    "start_time": "2021-11-05T19:03:56.347Z"
   },
   {
    "duration": 295,
    "start_time": "2021-11-05T19:04:12.556Z"
   },
   {
    "duration": 304,
    "start_time": "2021-11-05T19:04:26.556Z"
   },
   {
    "duration": 306,
    "start_time": "2021-11-05T19:04:54.831Z"
   },
   {
    "duration": 283,
    "start_time": "2021-11-05T19:05:15.175Z"
   },
   {
    "duration": 295,
    "start_time": "2021-11-05T19:05:30.348Z"
   },
   {
    "duration": 294,
    "start_time": "2021-11-05T19:05:37.881Z"
   },
   {
    "duration": 298,
    "start_time": "2021-11-05T19:05:38.747Z"
   },
   {
    "duration": 122,
    "start_time": "2021-11-05T19:08:43.611Z"
   },
   {
    "duration": 5294,
    "start_time": "2021-11-05T19:10:13.622Z"
   },
   {
    "duration": 4,
    "start_time": "2021-11-05T19:13:53.921Z"
   },
   {
    "duration": 81,
    "start_time": "2021-11-05T19:13:54.187Z"
   },
   {
    "duration": 15,
    "start_time": "2021-11-05T19:13:55.641Z"
   },
   {
    "duration": 24,
    "start_time": "2021-11-05T19:13:55.882Z"
   },
   {
    "duration": 1797,
    "start_time": "2021-11-05T19:13:56.012Z"
   },
   {
    "duration": 18,
    "start_time": "2021-11-05T19:13:57.812Z"
   },
   {
    "duration": 22,
    "start_time": "2021-11-05T19:13:57.833Z"
   },
   {
    "duration": 67,
    "start_time": "2021-11-05T19:13:57.857Z"
   },
   {
    "duration": 694,
    "start_time": "2021-11-05T19:13:57.927Z"
   },
   {
    "duration": 863,
    "start_time": "2021-11-05T19:13:58.624Z"
   },
   {
    "duration": 29,
    "start_time": "2021-11-05T19:13:59.490Z"
   },
   {
    "duration": 438,
    "start_time": "2021-11-05T19:13:59.524Z"
   },
   {
    "duration": 8,
    "start_time": "2021-11-05T19:13:59.965Z"
   },
   {
    "duration": 54,
    "start_time": "2021-11-05T19:13:59.975Z"
   },
   {
    "duration": 609,
    "start_time": "2021-11-05T19:14:00.032Z"
   },
   {
    "duration": 27,
    "start_time": "2021-11-05T19:14:00.644Z"
   },
   {
    "duration": 460,
    "start_time": "2021-11-05T19:14:00.674Z"
   },
   {
    "duration": 292,
    "start_time": "2021-11-05T19:14:01.137Z"
   },
   {
    "duration": 851,
    "start_time": "2021-11-05T19:14:01.432Z"
   },
   {
    "duration": 825,
    "start_time": "2021-11-05T19:14:02.286Z"
   },
   {
    "duration": 847,
    "start_time": "2021-11-05T19:14:03.114Z"
   },
   {
    "duration": 886,
    "start_time": "2021-11-05T19:14:03.964Z"
   },
   {
    "duration": 346,
    "start_time": "2021-11-05T19:14:04.854Z"
   },
   {
    "duration": 27,
    "start_time": "2021-11-05T19:14:05.203Z"
   },
   {
    "duration": 446,
    "start_time": "2021-11-05T19:14:05.232Z"
   },
   {
    "duration": 324,
    "start_time": "2021-11-05T19:14:05.681Z"
   },
   {
    "duration": 316,
    "start_time": "2021-11-05T19:14:06.007Z"
   },
   {
    "duration": 24,
    "start_time": "2021-11-05T19:14:06.326Z"
   },
   {
    "duration": 314,
    "start_time": "2021-11-05T19:14:06.352Z"
   },
   {
    "duration": 319,
    "start_time": "2021-11-05T19:14:06.668Z"
   },
   {
    "duration": 435,
    "start_time": "2021-11-05T19:14:06.990Z"
   },
   {
    "duration": 677,
    "start_time": "2021-11-05T19:14:07.428Z"
   },
   {
    "duration": 417,
    "start_time": "2021-11-05T19:14:08.108Z"
   },
   {
    "duration": 423,
    "start_time": "2021-11-05T19:14:08.528Z"
   },
   {
    "duration": 11,
    "start_time": "2021-11-05T19:14:08.954Z"
   },
   {
    "duration": 528,
    "start_time": "2021-11-05T19:14:08.968Z"
   },
   {
    "duration": 443,
    "start_time": "2021-11-05T19:14:09.501Z"
   },
   {
    "duration": 5,
    "start_time": "2021-11-05T19:17:35.020Z"
   },
   {
    "duration": 517,
    "start_time": "2021-11-05T19:18:11.406Z"
   },
   {
    "duration": 5,
    "start_time": "2021-11-05T19:18:20.419Z"
   },
   {
    "duration": 387,
    "start_time": "2021-11-05T19:18:36.638Z"
   },
   {
    "duration": 385,
    "start_time": "2021-11-05T19:18:43.356Z"
   },
   {
    "duration": 7,
    "start_time": "2021-11-05T19:18:48.114Z"
   },
   {
    "duration": 10032,
    "start_time": "2021-11-05T19:20:44.544Z"
   },
   {
    "duration": 8,
    "start_time": "2021-11-05T19:21:06.546Z"
   },
   {
    "duration": 523,
    "start_time": "2021-11-05T19:21:53.202Z"
   },
   {
    "duration": 150,
    "start_time": "2021-11-05T19:22:15.560Z"
   },
   {
    "duration": 369,
    "start_time": "2021-11-05T19:22:22.916Z"
   },
   {
    "duration": 9,
    "start_time": "2021-11-05T19:23:01.035Z"
   },
   {
    "duration": 7,
    "start_time": "2021-11-05T19:23:17.390Z"
   },
   {
    "duration": 7,
    "start_time": "2021-11-05T19:24:34.452Z"
   },
   {
    "duration": 8,
    "start_time": "2021-11-05T19:25:35.052Z"
   },
   {
    "duration": 4,
    "start_time": "2021-11-05T19:28:30.233Z"
   },
   {
    "duration": 90,
    "start_time": "2021-11-05T19:28:30.426Z"
   },
   {
    "duration": 15,
    "start_time": "2021-11-05T19:28:31.372Z"
   },
   {
    "duration": 22,
    "start_time": "2021-11-05T19:28:32.365Z"
   },
   {
    "duration": 1923,
    "start_time": "2021-11-05T19:28:32.992Z"
   },
   {
    "duration": 21,
    "start_time": "2021-11-05T19:28:34.919Z"
   },
   {
    "duration": 21,
    "start_time": "2021-11-05T19:28:34.943Z"
   },
   {
    "duration": 35,
    "start_time": "2021-11-05T19:28:35.128Z"
   },
   {
    "duration": 632,
    "start_time": "2021-11-05T19:28:35.911Z"
   },
   {
    "duration": 821,
    "start_time": "2021-11-05T19:28:36.973Z"
   },
   {
    "duration": 25,
    "start_time": "2021-11-05T19:28:37.797Z"
   },
   {
    "duration": 438,
    "start_time": "2021-11-05T19:28:38.383Z"
   },
   {
    "duration": 9,
    "start_time": "2021-11-05T19:28:39.193Z"
   },
   {
    "duration": 36,
    "start_time": "2021-11-05T19:28:40.475Z"
   },
   {
    "duration": 645,
    "start_time": "2021-11-05T19:28:40.913Z"
   },
   {
    "duration": 40,
    "start_time": "2021-11-05T19:28:41.562Z"
   },
   {
    "duration": 326,
    "start_time": "2021-11-05T19:28:42.253Z"
   },
   {
    "duration": 286,
    "start_time": "2021-11-05T19:28:43.394Z"
   },
   {
    "duration": 789,
    "start_time": "2021-11-05T19:28:43.822Z"
   },
   {
    "duration": 887,
    "start_time": "2021-11-05T19:28:44.613Z"
   },
   {
    "duration": 883,
    "start_time": "2021-11-05T19:28:45.503Z"
   },
   {
    "duration": 945,
    "start_time": "2021-11-05T19:28:46.389Z"
   },
   {
    "duration": 419,
    "start_time": "2021-11-05T19:28:47.338Z"
   },
   {
    "duration": 28,
    "start_time": "2021-11-05T19:28:48.161Z"
   },
   {
    "duration": 307,
    "start_time": "2021-11-05T19:28:48.407Z"
   },
   {
    "duration": 8,
    "start_time": "2021-11-05T19:28:48.900Z"
   },
   {
    "duration": 297,
    "start_time": "2021-11-05T19:28:49.166Z"
   },
   {
    "duration": 8,
    "start_time": "2021-11-05T19:28:49.615Z"
   },
   {
    "duration": 323,
    "start_time": "2021-11-05T19:28:49.883Z"
   },
   {
    "duration": 7,
    "start_time": "2021-11-05T19:28:50.390Z"
   },
   {
    "duration": 25,
    "start_time": "2021-11-05T19:28:51.197Z"
   },
   {
    "duration": 293,
    "start_time": "2021-11-05T19:28:51.466Z"
   },
   {
    "duration": 321,
    "start_time": "2021-11-05T19:28:52.004Z"
   },
   {
    "duration": 287,
    "start_time": "2021-11-05T19:28:52.534Z"
   },
   {
    "duration": 278,
    "start_time": "2021-11-05T19:28:53.877Z"
   },
   {
    "duration": 282,
    "start_time": "2021-11-05T19:28:54.439Z"
   },
   {
    "duration": 411,
    "start_time": "2021-11-05T19:28:54.951Z"
   },
   {
    "duration": 11,
    "start_time": "2021-11-05T19:28:57.257Z"
   },
   {
    "duration": 537,
    "start_time": "2021-11-05T19:28:57.536Z"
   },
   {
    "duration": 523,
    "start_time": "2021-11-05T19:28:58.724Z"
   },
   {
    "duration": 1386,
    "start_time": "2021-11-06T08:45:36.189Z"
   },
   {
    "duration": 85,
    "start_time": "2021-11-06T08:45:37.577Z"
   },
   {
    "duration": 21,
    "start_time": "2021-11-06T08:45:37.668Z"
   },
   {
    "duration": 23,
    "start_time": "2021-11-06T08:45:37.691Z"
   },
   {
    "duration": 1874,
    "start_time": "2021-11-06T08:45:37.717Z"
   },
   {
    "duration": 20,
    "start_time": "2021-11-06T08:45:39.593Z"
   },
   {
    "duration": 18,
    "start_time": "2021-11-06T08:45:39.615Z"
   },
   {
    "duration": 68,
    "start_time": "2021-11-06T08:45:39.637Z"
   },
   {
    "duration": 682,
    "start_time": "2021-11-06T08:45:39.707Z"
   },
   {
    "duration": 852,
    "start_time": "2021-11-06T08:45:40.392Z"
   },
   {
    "duration": 36,
    "start_time": "2021-11-06T08:45:41.246Z"
   },
   {
    "duration": 462,
    "start_time": "2021-11-06T08:45:41.284Z"
   },
   {
    "duration": 8,
    "start_time": "2021-11-06T08:45:41.749Z"
   },
   {
    "duration": 36,
    "start_time": "2021-11-06T08:45:41.772Z"
   },
   {
    "duration": 602,
    "start_time": "2021-11-06T08:45:41.811Z"
   },
   {
    "duration": 24,
    "start_time": "2021-11-06T08:45:42.416Z"
   },
   {
    "duration": 402,
    "start_time": "2021-11-06T08:45:42.443Z"
   },
   {
    "duration": 324,
    "start_time": "2021-11-06T08:45:42.848Z"
   },
   {
    "duration": 952,
    "start_time": "2021-11-06T08:45:43.175Z"
   },
   {
    "duration": 860,
    "start_time": "2021-11-06T08:45:44.130Z"
   },
   {
    "duration": 947,
    "start_time": "2021-11-06T08:45:44.992Z"
   },
   {
    "duration": 914,
    "start_time": "2021-11-06T08:45:45.943Z"
   },
   {
    "duration": 362,
    "start_time": "2021-11-06T08:45:46.872Z"
   },
   {
    "duration": 45,
    "start_time": "2021-11-06T08:45:47.237Z"
   },
   {
    "duration": 327,
    "start_time": "2021-11-06T08:45:47.284Z"
   },
   {
    "duration": 8,
    "start_time": "2021-11-06T08:45:47.615Z"
   },
   {
    "duration": 346,
    "start_time": "2021-11-06T08:45:47.626Z"
   },
   {
    "duration": 9,
    "start_time": "2021-11-06T08:45:47.975Z"
   },
   {
    "duration": 354,
    "start_time": "2021-11-06T08:45:47.987Z"
   },
   {
    "duration": 6,
    "start_time": "2021-11-06T08:45:48.344Z"
   },
   {
    "duration": 28,
    "start_time": "2021-11-06T08:45:48.373Z"
   },
   {
    "duration": 400,
    "start_time": "2021-11-06T08:45:48.404Z"
   },
   {
    "duration": 441,
    "start_time": "2021-11-06T08:45:48.807Z"
   },
   {
    "duration": 346,
    "start_time": "2021-11-06T08:45:49.250Z"
   },
   {
    "duration": 350,
    "start_time": "2021-11-06T08:45:49.598Z"
   },
   {
    "duration": 393,
    "start_time": "2021-11-06T08:45:49.951Z"
   },
   {
    "duration": 391,
    "start_time": "2021-11-06T08:45:50.346Z"
   },
   {
    "duration": 12,
    "start_time": "2021-11-06T08:45:50.740Z"
   },
   {
    "duration": 459,
    "start_time": "2021-11-06T08:45:50.767Z"
   },
   {
    "duration": 499,
    "start_time": "2021-11-06T08:45:51.230Z"
   },
   {
    "duration": 514,
    "start_time": "2021-11-06T08:50:52.069Z"
   },
   {
    "duration": 566,
    "start_time": "2021-11-06T08:51:02.563Z"
   },
   {
    "duration": 17,
    "start_time": "2021-11-06T08:57:45.360Z"
   },
   {
    "duration": 15,
    "start_time": "2021-11-06T08:57:50.005Z"
   },
   {
    "duration": 18,
    "start_time": "2021-11-06T08:58:05.570Z"
   },
   {
    "duration": 571,
    "start_time": "2021-11-06T09:00:29.057Z"
   },
   {
    "duration": 31,
    "start_time": "2021-11-06T09:00:36.481Z"
   },
   {
    "duration": 26,
    "start_time": "2021-11-06T09:01:35.881Z"
   },
   {
    "duration": 348,
    "start_time": "2021-11-06T09:13:15.113Z"
   },
   {
    "duration": 293,
    "start_time": "2021-11-06T09:13:17.626Z"
   },
   {
    "duration": 1381,
    "start_time": "2021-11-06T09:14:01.084Z"
   },
   {
    "duration": 97,
    "start_time": "2021-11-06T09:14:02.468Z"
   },
   {
    "duration": 30,
    "start_time": "2021-11-06T09:14:02.568Z"
   },
   {
    "duration": 24,
    "start_time": "2021-11-06T09:14:03.155Z"
   },
   {
    "duration": 1799,
    "start_time": "2021-11-06T09:14:03.709Z"
   },
   {
    "duration": 19,
    "start_time": "2021-11-06T09:14:05.510Z"
   },
   {
    "duration": 19,
    "start_time": "2021-11-06T09:14:05.532Z"
   },
   {
    "duration": 37,
    "start_time": "2021-11-06T09:14:06.176Z"
   },
   {
    "duration": 618,
    "start_time": "2021-11-06T09:14:06.928Z"
   },
   {
    "duration": 793,
    "start_time": "2021-11-06T09:14:08.165Z"
   },
   {
    "duration": 29,
    "start_time": "2021-11-06T09:14:08.961Z"
   },
   {
    "duration": 395,
    "start_time": "2021-11-06T09:14:09.645Z"
   },
   {
    "duration": 8,
    "start_time": "2021-11-06T09:14:10.377Z"
   },
   {
    "duration": 33,
    "start_time": "2021-11-06T09:14:11.863Z"
   },
   {
    "duration": 529,
    "start_time": "2021-11-06T09:14:12.242Z"
   },
   {
    "duration": 24,
    "start_time": "2021-11-06T09:14:12.774Z"
   },
   {
    "duration": 325,
    "start_time": "2021-11-06T09:14:13.600Z"
   },
   {
    "duration": 286,
    "start_time": "2021-11-06T09:14:15.215Z"
   },
   {
    "duration": 890,
    "start_time": "2021-11-06T09:14:16.450Z"
   },
   {
    "duration": 845,
    "start_time": "2021-11-06T09:14:17.342Z"
   },
   {
    "duration": 921,
    "start_time": "2021-11-06T09:14:18.189Z"
   },
   {
    "duration": 785,
    "start_time": "2021-11-06T09:14:19.112Z"
   },
   {
    "duration": 412,
    "start_time": "2021-11-06T09:14:31.804Z"
   },
   {
    "duration": 23,
    "start_time": "2021-11-06T09:14:35.515Z"
   },
   {
    "duration": 289,
    "start_time": "2021-11-06T09:14:41.185Z"
   },
   {
    "duration": 9,
    "start_time": "2021-11-06T09:15:30.645Z"
   },
   {
    "duration": 276,
    "start_time": "2021-11-06T09:15:49.457Z"
   },
   {
    "duration": 8,
    "start_time": "2021-11-06T09:16:22.802Z"
   },
   {
    "duration": 281,
    "start_time": "2021-11-06T09:16:26.155Z"
   },
   {
    "duration": 8,
    "start_time": "2021-11-06T09:17:09.482Z"
   },
   {
    "duration": 22,
    "start_time": "2021-11-06T09:17:23.996Z"
   },
   {
    "duration": 313,
    "start_time": "2021-11-06T09:17:26.486Z"
   },
   {
    "duration": 405,
    "start_time": "2021-11-06T09:18:01.321Z"
   },
   {
    "duration": 320,
    "start_time": "2021-11-06T09:18:29.878Z"
   },
   {
    "duration": 261,
    "start_time": "2021-11-06T09:19:18.320Z"
   },
   {
    "duration": 268,
    "start_time": "2021-11-06T09:20:17.041Z"
   },
   {
    "duration": 269,
    "start_time": "2021-11-06T09:20:40.654Z"
   },
   {
    "duration": 4,
    "start_time": "2021-11-06T09:21:47.762Z"
   },
   {
    "duration": 82,
    "start_time": "2021-11-06T09:21:47.975Z"
   },
   {
    "duration": 16,
    "start_time": "2021-11-06T09:21:48.827Z"
   },
   {
    "duration": 23,
    "start_time": "2021-11-06T09:21:49.903Z"
   },
   {
    "duration": 1717,
    "start_time": "2021-11-06T09:21:50.465Z"
   },
   {
    "duration": 18,
    "start_time": "2021-11-06T09:21:52.184Z"
   },
   {
    "duration": 18,
    "start_time": "2021-11-06T09:21:52.204Z"
   },
   {
    "duration": 32,
    "start_time": "2021-11-06T09:21:52.897Z"
   },
   {
    "duration": 613,
    "start_time": "2021-11-06T09:21:53.655Z"
   },
   {
    "duration": 787,
    "start_time": "2021-11-06T09:21:54.803Z"
   },
   {
    "duration": 25,
    "start_time": "2021-11-06T09:21:55.593Z"
   },
   {
    "duration": 416,
    "start_time": "2021-11-06T09:21:56.349Z"
   },
   {
    "duration": 11,
    "start_time": "2021-11-06T09:21:57.114Z"
   },
   {
    "duration": 52,
    "start_time": "2021-11-06T09:21:58.871Z"
   },
   {
    "duration": 645,
    "start_time": "2021-11-06T09:21:59.323Z"
   },
   {
    "duration": 28,
    "start_time": "2021-11-06T09:21:59.970Z"
   },
   {
    "duration": 464,
    "start_time": "2021-11-06T09:22:00.831Z"
   },
   {
    "duration": 407,
    "start_time": "2021-11-06T09:22:02.104Z"
   },
   {
    "duration": 940,
    "start_time": "2021-11-06T09:22:02.535Z"
   },
   {
    "duration": 889,
    "start_time": "2021-11-06T09:22:03.482Z"
   },
   {
    "duration": 894,
    "start_time": "2021-11-06T09:22:04.375Z"
   },
   {
    "duration": 863,
    "start_time": "2021-11-06T09:22:05.271Z"
   },
   {
    "duration": 318,
    "start_time": "2021-11-06T09:22:46.195Z"
   },
   {
    "duration": 24,
    "start_time": "2021-11-06T09:22:51.177Z"
   },
   {
    "duration": 289,
    "start_time": "2021-11-06T09:22:51.971Z"
   },
   {
    "duration": 7,
    "start_time": "2021-11-06T09:23:01.294Z"
   },
   {
    "duration": 291,
    "start_time": "2021-11-06T09:23:03.781Z"
   },
   {
    "duration": 7,
    "start_time": "2021-11-06T09:23:12.224Z"
   },
   {
    "duration": 282,
    "start_time": "2021-11-06T09:23:16.572Z"
   },
   {
    "duration": 7,
    "start_time": "2021-11-06T09:23:23.698Z"
   },
   {
    "duration": 24,
    "start_time": "2021-11-06T09:23:37.165Z"
   },
   {
    "duration": 298,
    "start_time": "2021-11-06T09:23:46.830Z"
   },
   {
    "duration": 308,
    "start_time": "2021-11-06T09:23:55.633Z"
   },
   {
    "duration": 440,
    "start_time": "2021-11-06T09:24:04.735Z"
   },
   {
    "duration": 272,
    "start_time": "2021-11-06T09:24:17.052Z"
   },
   {
    "duration": 258,
    "start_time": "2021-11-06T09:24:23.159Z"
   },
   {
    "duration": 325,
    "start_time": "2021-11-06T09:24:32.362Z"
   }
  ],
  "kernelspec": {
   "display_name": "Python 3",
   "language": "python",
   "name": "python3"
  },
  "language_info": {
   "codemirror_mode": {
    "name": "ipython",
    "version": 3
   },
   "file_extension": ".py",
   "mimetype": "text/x-python",
   "name": "python",
   "nbconvert_exporter": "python",
   "pygments_lexer": "ipython3",
   "version": "3.8.5"
  },
  "toc": {
   "base_numbering": 1,
   "nav_menu": {},
   "number_sections": true,
   "sideBar": true,
   "skip_h1_title": true,
   "title_cell": "Table of Contents",
   "title_sidebar": "Contents",
   "toc_cell": false,
   "toc_position": {
    "height": "calc(100% - 180px)",
    "left": "10px",
    "top": "150px",
    "width": "165px"
   },
   "toc_section_display": true,
   "toc_window_display": true
  }
 },
 "nbformat": 4,
 "nbformat_minor": 2
}
