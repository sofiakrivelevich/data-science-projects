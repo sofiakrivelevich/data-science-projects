{
 "cells": [
  {
   "cell_type": "markdown",
   "metadata": {},
   "source": [
    "# Выбор локации для скважины"
   ]
  },
  {
   "cell_type": "markdown",
   "metadata": {},
   "source": [
    "Нужно решить, где бурить новую скважину.\n",
    "\n",
    "Предоставлены пробы нефти в трёх регионах: в каждом 10 000 месторождений, где измерили качество нефти и объём её запасов. Требуется построить модель машинного обучения, которая поможет определить регион, где добыча принесёт наибольшую прибыль. \n",
    "\n",
    "Шаги для выбора локации:\n",
    "\n",
    "- В избранном регионе ищут месторождения, для каждого определяют значения признаков;\n",
    "- Строят модель и оценивают объём запасов;\n",
    "- Выбирают месторождения с самым высокими оценками значений. Количество месторождений зависит от бюджета компании и стоимости разработки одной скважины;\n",
    "- Прибыль равна суммарной прибыли отобранных месторождений."
   ]
  },
  {
   "cell_type": "markdown",
   "metadata": {},
   "source": [
    "# Описание данных"
   ]
  },
  {
   "cell_type": "markdown",
   "metadata": {},
   "source": [
    "<ul>\n",
    "<li>id — уникальный идентификатор скважины</li>\n",
    "<li>f0, f1, f2 — три признака точек (неважно, что они означают, но сами признаки значимы)</li>\n",
    "<li>product — объём запасов в скважине (тыс. баррелей)</li>\n",
    "</ul>"
   ]
  },
  {
   "cell_type": "code",
   "execution_count": 1,
   "metadata": {},
   "outputs": [],
   "source": [
    "import pandas as pd\n",
    "import numpy as np\n",
    "from sklearn.model_selection import train_test_split\n",
    "from sklearn.linear_model import LinearRegression\n",
    "from sklearn.metrics import mean_squared_error\n",
    "import matplotlib.pyplot as plt\n",
    "from scipy import stats as st"
   ]
  },
  {
   "cell_type": "markdown",
   "metadata": {},
   "source": [
    "## Загрузка и подготовка данных"
   ]
  },
  {
   "cell_type": "markdown",
   "metadata": {},
   "source": [
    "### Загрузка данных"
   ]
  },
  {
   "cell_type": "code",
   "execution_count": 2,
   "metadata": {},
   "outputs": [],
   "source": [
    "def open_file(file):\n",
    "    return pd.read_csv(file)"
   ]
  },
  {
   "cell_type": "code",
   "execution_count": 3,
   "metadata": {},
   "outputs": [],
   "source": [
    "def data_info(data):\n",
    "    return data.info()"
   ]
  },
  {
   "cell_type": "code",
   "execution_count": 4,
   "metadata": {},
   "outputs": [],
   "source": [
    "def data_describe(data):\n",
    "    return data.describe()"
   ]
  },
  {
   "cell_type": "code",
   "execution_count": 5,
   "metadata": {},
   "outputs": [],
   "source": [
    "def correlation(data):\n",
    "    display(data.corr())\n",
    "    data.plot(x = 'product', y = 'f0', grid = True, kind = 'scatter')\n",
    "    plt.title('Влияние f0 на объем запасов в скважине')\n",
    "    data.plot(x = 'product', y = 'f1', grid = True, kind = 'scatter')\n",
    "    plt.title('Влияние f1 на объем запасов в скважине')\n",
    "    data.plot(x = 'product', y = 'f2', grid = True, kind = 'scatter')\n",
    "    plt.title('Влияние f2 на объем запасов в скважине')"
   ]
  },
  {
   "cell_type": "markdown",
   "metadata": {},
   "source": [
    "#### Первый регион"
   ]
  },
  {
   "cell_type": "code",
   "execution_count": 6,
   "metadata": {},
   "outputs": [
    {
     "data": {
      "text/html": [
       "<div>\n",
       "<style scoped>\n",
       "    .dataframe tbody tr th:only-of-type {\n",
       "        vertical-align: middle;\n",
       "    }\n",
       "\n",
       "    .dataframe tbody tr th {\n",
       "        vertical-align: top;\n",
       "    }\n",
       "\n",
       "    .dataframe thead th {\n",
       "        text-align: right;\n",
       "    }\n",
       "</style>\n",
       "<table border=\"1\" class=\"dataframe\">\n",
       "  <thead>\n",
       "    <tr style=\"text-align: right;\">\n",
       "      <th></th>\n",
       "      <th>id</th>\n",
       "      <th>f0</th>\n",
       "      <th>f1</th>\n",
       "      <th>f2</th>\n",
       "      <th>product</th>\n",
       "    </tr>\n",
       "  </thead>\n",
       "  <tbody>\n",
       "    <tr>\n",
       "      <th>0</th>\n",
       "      <td>txEyH</td>\n",
       "      <td>0.705745</td>\n",
       "      <td>-0.497823</td>\n",
       "      <td>1.221170</td>\n",
       "      <td>105.280062</td>\n",
       "    </tr>\n",
       "    <tr>\n",
       "      <th>1</th>\n",
       "      <td>2acmU</td>\n",
       "      <td>1.334711</td>\n",
       "      <td>-0.340164</td>\n",
       "      <td>4.365080</td>\n",
       "      <td>73.037750</td>\n",
       "    </tr>\n",
       "    <tr>\n",
       "      <th>2</th>\n",
       "      <td>409Wp</td>\n",
       "      <td>1.022732</td>\n",
       "      <td>0.151990</td>\n",
       "      <td>1.419926</td>\n",
       "      <td>85.265647</td>\n",
       "    </tr>\n",
       "    <tr>\n",
       "      <th>3</th>\n",
       "      <td>iJLyR</td>\n",
       "      <td>-0.032172</td>\n",
       "      <td>0.139033</td>\n",
       "      <td>2.978566</td>\n",
       "      <td>168.620776</td>\n",
       "    </tr>\n",
       "    <tr>\n",
       "      <th>4</th>\n",
       "      <td>Xdl7t</td>\n",
       "      <td>1.988431</td>\n",
       "      <td>0.155413</td>\n",
       "      <td>4.751769</td>\n",
       "      <td>154.036647</td>\n",
       "    </tr>\n",
       "    <tr>\n",
       "      <th>5</th>\n",
       "      <td>wX4Hy</td>\n",
       "      <td>0.969570</td>\n",
       "      <td>0.489775</td>\n",
       "      <td>-0.735383</td>\n",
       "      <td>64.741541</td>\n",
       "    </tr>\n",
       "    <tr>\n",
       "      <th>6</th>\n",
       "      <td>tL6pL</td>\n",
       "      <td>0.645075</td>\n",
       "      <td>0.530656</td>\n",
       "      <td>1.780266</td>\n",
       "      <td>49.055285</td>\n",
       "    </tr>\n",
       "    <tr>\n",
       "      <th>7</th>\n",
       "      <td>BYPU6</td>\n",
       "      <td>-0.400648</td>\n",
       "      <td>0.808337</td>\n",
       "      <td>-5.624670</td>\n",
       "      <td>72.943292</td>\n",
       "    </tr>\n",
       "    <tr>\n",
       "      <th>8</th>\n",
       "      <td>j9Oui</td>\n",
       "      <td>0.643105</td>\n",
       "      <td>-0.551583</td>\n",
       "      <td>2.372141</td>\n",
       "      <td>113.356160</td>\n",
       "    </tr>\n",
       "    <tr>\n",
       "      <th>9</th>\n",
       "      <td>OLuZU</td>\n",
       "      <td>2.173381</td>\n",
       "      <td>0.563698</td>\n",
       "      <td>9.441852</td>\n",
       "      <td>127.910945</td>\n",
       "    </tr>\n",
       "  </tbody>\n",
       "</table>\n",
       "</div>"
      ],
      "text/plain": [
       "      id        f0        f1        f2     product\n",
       "0  txEyH  0.705745 -0.497823  1.221170  105.280062\n",
       "1  2acmU  1.334711 -0.340164  4.365080   73.037750\n",
       "2  409Wp  1.022732  0.151990  1.419926   85.265647\n",
       "3  iJLyR -0.032172  0.139033  2.978566  168.620776\n",
       "4  Xdl7t  1.988431  0.155413  4.751769  154.036647\n",
       "5  wX4Hy  0.969570  0.489775 -0.735383   64.741541\n",
       "6  tL6pL  0.645075  0.530656  1.780266   49.055285\n",
       "7  BYPU6 -0.400648  0.808337 -5.624670   72.943292\n",
       "8  j9Oui  0.643105 -0.551583  2.372141  113.356160\n",
       "9  OLuZU  2.173381  0.563698  9.441852  127.910945"
      ]
     },
     "execution_count": 6,
     "metadata": {},
     "output_type": "execute_result"
    }
   ],
   "source": [
    "geo_data_0 = open_file('geo_data_0.csv')\n",
    "geo_data_0.head(10)"
   ]
  },
  {
   "cell_type": "code",
   "execution_count": 7,
   "metadata": {},
   "outputs": [
    {
     "name": "stdout",
     "output_type": "stream",
     "text": [
      "<class 'pandas.core.frame.DataFrame'>\n",
      "RangeIndex: 100000 entries, 0 to 99999\n",
      "Data columns (total 5 columns):\n",
      " #   Column   Non-Null Count   Dtype  \n",
      "---  ------   --------------   -----  \n",
      " 0   id       100000 non-null  object \n",
      " 1   f0       100000 non-null  float64\n",
      " 2   f1       100000 non-null  float64\n",
      " 3   f2       100000 non-null  float64\n",
      " 4   product  100000 non-null  float64\n",
      "dtypes: float64(4), object(1)\n",
      "memory usage: 3.8+ MB\n"
     ]
    }
   ],
   "source": [
    "data_info(geo_data_0)"
   ]
  },
  {
   "cell_type": "markdown",
   "metadata": {},
   "source": [
    "В данных нет пропусков"
   ]
  },
  {
   "cell_type": "code",
   "execution_count": 8,
   "metadata": {},
   "outputs": [
    {
     "data": {
      "text/html": [
       "<div>\n",
       "<style scoped>\n",
       "    .dataframe tbody tr th:only-of-type {\n",
       "        vertical-align: middle;\n",
       "    }\n",
       "\n",
       "    .dataframe tbody tr th {\n",
       "        vertical-align: top;\n",
       "    }\n",
       "\n",
       "    .dataframe thead th {\n",
       "        text-align: right;\n",
       "    }\n",
       "</style>\n",
       "<table border=\"1\" class=\"dataframe\">\n",
       "  <thead>\n",
       "    <tr style=\"text-align: right;\">\n",
       "      <th></th>\n",
       "      <th>f0</th>\n",
       "      <th>f1</th>\n",
       "      <th>f2</th>\n",
       "      <th>product</th>\n",
       "    </tr>\n",
       "  </thead>\n",
       "  <tbody>\n",
       "    <tr>\n",
       "      <th>count</th>\n",
       "      <td>100000.000000</td>\n",
       "      <td>100000.000000</td>\n",
       "      <td>100000.000000</td>\n",
       "      <td>100000.000000</td>\n",
       "    </tr>\n",
       "    <tr>\n",
       "      <th>mean</th>\n",
       "      <td>0.500419</td>\n",
       "      <td>0.250143</td>\n",
       "      <td>2.502647</td>\n",
       "      <td>92.500000</td>\n",
       "    </tr>\n",
       "    <tr>\n",
       "      <th>std</th>\n",
       "      <td>0.871832</td>\n",
       "      <td>0.504433</td>\n",
       "      <td>3.248248</td>\n",
       "      <td>44.288691</td>\n",
       "    </tr>\n",
       "    <tr>\n",
       "      <th>min</th>\n",
       "      <td>-1.408605</td>\n",
       "      <td>-0.848218</td>\n",
       "      <td>-12.088328</td>\n",
       "      <td>0.000000</td>\n",
       "    </tr>\n",
       "    <tr>\n",
       "      <th>25%</th>\n",
       "      <td>-0.072580</td>\n",
       "      <td>-0.200881</td>\n",
       "      <td>0.287748</td>\n",
       "      <td>56.497507</td>\n",
       "    </tr>\n",
       "    <tr>\n",
       "      <th>50%</th>\n",
       "      <td>0.502360</td>\n",
       "      <td>0.250252</td>\n",
       "      <td>2.515969</td>\n",
       "      <td>91.849972</td>\n",
       "    </tr>\n",
       "    <tr>\n",
       "      <th>75%</th>\n",
       "      <td>1.073581</td>\n",
       "      <td>0.700646</td>\n",
       "      <td>4.715088</td>\n",
       "      <td>128.564089</td>\n",
       "    </tr>\n",
       "    <tr>\n",
       "      <th>max</th>\n",
       "      <td>2.362331</td>\n",
       "      <td>1.343769</td>\n",
       "      <td>16.003790</td>\n",
       "      <td>185.364347</td>\n",
       "    </tr>\n",
       "  </tbody>\n",
       "</table>\n",
       "</div>"
      ],
      "text/plain": [
       "                  f0             f1             f2        product\n",
       "count  100000.000000  100000.000000  100000.000000  100000.000000\n",
       "mean        0.500419       0.250143       2.502647      92.500000\n",
       "std         0.871832       0.504433       3.248248      44.288691\n",
       "min        -1.408605      -0.848218     -12.088328       0.000000\n",
       "25%        -0.072580      -0.200881       0.287748      56.497507\n",
       "50%         0.502360       0.250252       2.515969      91.849972\n",
       "75%         1.073581       0.700646       4.715088     128.564089\n",
       "max         2.362331       1.343769      16.003790     185.364347"
      ]
     },
     "execution_count": 8,
     "metadata": {},
     "output_type": "execute_result"
    }
   ],
   "source": [
    "data_describe(geo_data_0)"
   ]
  },
  {
   "cell_type": "code",
   "execution_count": 9,
   "metadata": {},
   "outputs": [
    {
     "data": {
      "text/html": [
       "<div>\n",
       "<style scoped>\n",
       "    .dataframe tbody tr th:only-of-type {\n",
       "        vertical-align: middle;\n",
       "    }\n",
       "\n",
       "    .dataframe tbody tr th {\n",
       "        vertical-align: top;\n",
       "    }\n",
       "\n",
       "    .dataframe thead th {\n",
       "        text-align: right;\n",
       "    }\n",
       "</style>\n",
       "<table border=\"1\" class=\"dataframe\">\n",
       "  <thead>\n",
       "    <tr style=\"text-align: right;\">\n",
       "      <th></th>\n",
       "      <th>f0</th>\n",
       "      <th>f1</th>\n",
       "      <th>f2</th>\n",
       "      <th>product</th>\n",
       "    </tr>\n",
       "  </thead>\n",
       "  <tbody>\n",
       "    <tr>\n",
       "      <th>f0</th>\n",
       "      <td>1.000000</td>\n",
       "      <td>-0.440723</td>\n",
       "      <td>-0.003153</td>\n",
       "      <td>0.143536</td>\n",
       "    </tr>\n",
       "    <tr>\n",
       "      <th>f1</th>\n",
       "      <td>-0.440723</td>\n",
       "      <td>1.000000</td>\n",
       "      <td>0.001724</td>\n",
       "      <td>-0.192356</td>\n",
       "    </tr>\n",
       "    <tr>\n",
       "      <th>f2</th>\n",
       "      <td>-0.003153</td>\n",
       "      <td>0.001724</td>\n",
       "      <td>1.000000</td>\n",
       "      <td>0.483663</td>\n",
       "    </tr>\n",
       "    <tr>\n",
       "      <th>product</th>\n",
       "      <td>0.143536</td>\n",
       "      <td>-0.192356</td>\n",
       "      <td>0.483663</td>\n",
       "      <td>1.000000</td>\n",
       "    </tr>\n",
       "  </tbody>\n",
       "</table>\n",
       "</div>"
      ],
      "text/plain": [
       "               f0        f1        f2   product\n",
       "f0       1.000000 -0.440723 -0.003153  0.143536\n",
       "f1      -0.440723  1.000000  0.001724 -0.192356\n",
       "f2      -0.003153  0.001724  1.000000  0.483663\n",
       "product  0.143536 -0.192356  0.483663  1.000000"
      ]
     },
     "metadata": {},
     "output_type": "display_data"
    },
    {
     "data": {
      "image/png": "[encoded data removed]",
      "text/plain": [
       "<Figure size 432x288 with 1 Axes>"
      ]
     },
     "metadata": {
      "needs_background": "light"
     },
     "output_type": "display_data"
    },
    {
     "data": {
      "image/png": "[encoded data removed]",
      "text/plain": [
       "<Figure size 432x288 with 1 Axes>"
      ]
     },
     "metadata": {
      "needs_background": "light"
     },
     "output_type": "display_data"
    },
    {
     "data": {
      "image/png": "[encoded data removed]",
      "text/plain": [
       "<Figure size 432x288 with 1 Axes>"
      ]
     },
     "metadata": {
      "needs_background": "light"
     },
     "output_type": "display_data"
    }
   ],
   "source": [
    "correlation(geo_data_0)"
   ]
  },
  {
   "cell_type": "markdown",
   "metadata": {},
   "source": [
    "Для данного региона не требуется подготовки данных, так как отсутствуют пропуски, столбцы названы правильно и типы данных в столбцах также верны. На данный регион в большей степени влияет признак f2. Корреляция объема запасов в скважине и данным признаком равна 0.483663."
   ]
  },
  {
   "cell_type": "markdown",
   "metadata": {},
   "source": [
    "#### Второй регион"
   ]
  },
  {
   "cell_type": "code",
   "execution_count": 10,
   "metadata": {},
   "outputs": [
    {
     "data": {
      "text/html": [
       "<div>\n",
       "<style scoped>\n",
       "    .dataframe tbody tr th:only-of-type {\n",
       "        vertical-align: middle;\n",
       "    }\n",
       "\n",
       "    .dataframe tbody tr th {\n",
       "        vertical-align: top;\n",
       "    }\n",
       "\n",
       "    .dataframe thead th {\n",
       "        text-align: right;\n",
       "    }\n",
       "</style>\n",
       "<table border=\"1\" class=\"dataframe\">\n",
       "  <thead>\n",
       "    <tr style=\"text-align: right;\">\n",
       "      <th></th>\n",
       "      <th>id</th>\n",
       "      <th>f0</th>\n",
       "      <th>f1</th>\n",
       "      <th>f2</th>\n",
       "      <th>product</th>\n",
       "    </tr>\n",
       "  </thead>\n",
       "  <tbody>\n",
       "    <tr>\n",
       "      <th>0</th>\n",
       "      <td>kBEdx</td>\n",
       "      <td>-15.001348</td>\n",
       "      <td>-8.276000</td>\n",
       "      <td>-0.005876</td>\n",
       "      <td>3.179103</td>\n",
       "    </tr>\n",
       "    <tr>\n",
       "      <th>1</th>\n",
       "      <td>62mP7</td>\n",
       "      <td>14.272088</td>\n",
       "      <td>-3.475083</td>\n",
       "      <td>0.999183</td>\n",
       "      <td>26.953261</td>\n",
       "    </tr>\n",
       "    <tr>\n",
       "      <th>2</th>\n",
       "      <td>vyE1P</td>\n",
       "      <td>6.263187</td>\n",
       "      <td>-5.948386</td>\n",
       "      <td>5.001160</td>\n",
       "      <td>134.766305</td>\n",
       "    </tr>\n",
       "    <tr>\n",
       "      <th>3</th>\n",
       "      <td>KcrkZ</td>\n",
       "      <td>-13.081196</td>\n",
       "      <td>-11.506057</td>\n",
       "      <td>4.999415</td>\n",
       "      <td>137.945408</td>\n",
       "    </tr>\n",
       "    <tr>\n",
       "      <th>4</th>\n",
       "      <td>AHL4O</td>\n",
       "      <td>12.702195</td>\n",
       "      <td>-8.147433</td>\n",
       "      <td>5.004363</td>\n",
       "      <td>134.766305</td>\n",
       "    </tr>\n",
       "    <tr>\n",
       "      <th>5</th>\n",
       "      <td>HHckp</td>\n",
       "      <td>-3.327590</td>\n",
       "      <td>-2.205276</td>\n",
       "      <td>3.003647</td>\n",
       "      <td>84.038886</td>\n",
       "    </tr>\n",
       "    <tr>\n",
       "      <th>6</th>\n",
       "      <td>h5Ujo</td>\n",
       "      <td>-11.142655</td>\n",
       "      <td>-10.133399</td>\n",
       "      <td>4.002382</td>\n",
       "      <td>110.992147</td>\n",
       "    </tr>\n",
       "    <tr>\n",
       "      <th>7</th>\n",
       "      <td>muH9x</td>\n",
       "      <td>4.234715</td>\n",
       "      <td>-0.001354</td>\n",
       "      <td>2.004588</td>\n",
       "      <td>53.906522</td>\n",
       "    </tr>\n",
       "    <tr>\n",
       "      <th>8</th>\n",
       "      <td>YiRkx</td>\n",
       "      <td>13.355129</td>\n",
       "      <td>-0.332068</td>\n",
       "      <td>4.998647</td>\n",
       "      <td>134.766305</td>\n",
       "    </tr>\n",
       "    <tr>\n",
       "      <th>9</th>\n",
       "      <td>jG6Gi</td>\n",
       "      <td>1.069227</td>\n",
       "      <td>-11.025667</td>\n",
       "      <td>4.997844</td>\n",
       "      <td>137.945408</td>\n",
       "    </tr>\n",
       "  </tbody>\n",
       "</table>\n",
       "</div>"
      ],
      "text/plain": [
       "      id         f0         f1        f2     product\n",
       "0  kBEdx -15.001348  -8.276000 -0.005876    3.179103\n",
       "1  62mP7  14.272088  -3.475083  0.999183   26.953261\n",
       "2  vyE1P   6.263187  -5.948386  5.001160  134.766305\n",
       "3  KcrkZ -13.081196 -11.506057  4.999415  137.945408\n",
       "4  AHL4O  12.702195  -8.147433  5.004363  134.766305\n",
       "5  HHckp  -3.327590  -2.205276  3.003647   84.038886\n",
       "6  h5Ujo -11.142655 -10.133399  4.002382  110.992147\n",
       "7  muH9x   4.234715  -0.001354  2.004588   53.906522\n",
       "8  YiRkx  13.355129  -0.332068  4.998647  134.766305\n",
       "9  jG6Gi   1.069227 -11.025667  4.997844  137.945408"
      ]
     },
     "execution_count": 10,
     "metadata": {},
     "output_type": "execute_result"
    }
   ],
   "source": [
    "geo_data_1 = open_file('geo_data_1.csv')\n",
    "geo_data_1.head(10)"
   ]
  },
  {
   "cell_type": "code",
   "execution_count": 11,
   "metadata": {},
   "outputs": [
    {
     "name": "stdout",
     "output_type": "stream",
     "text": [
      "<class 'pandas.core.frame.DataFrame'>\n",
      "RangeIndex: 100000 entries, 0 to 99999\n",
      "Data columns (total 5 columns):\n",
      " #   Column   Non-Null Count   Dtype  \n",
      "---  ------   --------------   -----  \n",
      " 0   id       100000 non-null  object \n",
      " 1   f0       100000 non-null  float64\n",
      " 2   f1       100000 non-null  float64\n",
      " 3   f2       100000 non-null  float64\n",
      " 4   product  100000 non-null  float64\n",
      "dtypes: float64(4), object(1)\n",
      "memory usage: 3.8+ MB\n"
     ]
    }
   ],
   "source": [
    "data_info(geo_data_1)"
   ]
  },
  {
   "cell_type": "code",
   "execution_count": 12,
   "metadata": {},
   "outputs": [
    {
     "data": {
      "text/html": [
       "<div>\n",
       "<style scoped>\n",
       "    .dataframe tbody tr th:only-of-type {\n",
       "        vertical-align: middle;\n",
       "    }\n",
       "\n",
       "    .dataframe tbody tr th {\n",
       "        vertical-align: top;\n",
       "    }\n",
       "\n",
       "    .dataframe thead th {\n",
       "        text-align: right;\n",
       "    }\n",
       "</style>\n",
       "<table border=\"1\" class=\"dataframe\">\n",
       "  <thead>\n",
       "    <tr style=\"text-align: right;\">\n",
       "      <th></th>\n",
       "      <th>f0</th>\n",
       "      <th>f1</th>\n",
       "      <th>f2</th>\n",
       "      <th>product</th>\n",
       "    </tr>\n",
       "  </thead>\n",
       "  <tbody>\n",
       "    <tr>\n",
       "      <th>count</th>\n",
       "      <td>100000.000000</td>\n",
       "      <td>100000.000000</td>\n",
       "      <td>100000.000000</td>\n",
       "      <td>100000.000000</td>\n",
       "    </tr>\n",
       "    <tr>\n",
       "      <th>mean</th>\n",
       "      <td>1.141296</td>\n",
       "      <td>-4.796579</td>\n",
       "      <td>2.494541</td>\n",
       "      <td>68.825000</td>\n",
       "    </tr>\n",
       "    <tr>\n",
       "      <th>std</th>\n",
       "      <td>8.965932</td>\n",
       "      <td>5.119872</td>\n",
       "      <td>1.703572</td>\n",
       "      <td>45.944423</td>\n",
       "    </tr>\n",
       "    <tr>\n",
       "      <th>min</th>\n",
       "      <td>-31.609576</td>\n",
       "      <td>-26.358598</td>\n",
       "      <td>-0.018144</td>\n",
       "      <td>0.000000</td>\n",
       "    </tr>\n",
       "    <tr>\n",
       "      <th>25%</th>\n",
       "      <td>-6.298551</td>\n",
       "      <td>-8.267985</td>\n",
       "      <td>1.000021</td>\n",
       "      <td>26.953261</td>\n",
       "    </tr>\n",
       "    <tr>\n",
       "      <th>50%</th>\n",
       "      <td>1.153055</td>\n",
       "      <td>-4.813172</td>\n",
       "      <td>2.011479</td>\n",
       "      <td>57.085625</td>\n",
       "    </tr>\n",
       "    <tr>\n",
       "      <th>75%</th>\n",
       "      <td>8.621015</td>\n",
       "      <td>-1.332816</td>\n",
       "      <td>3.999904</td>\n",
       "      <td>107.813044</td>\n",
       "    </tr>\n",
       "    <tr>\n",
       "      <th>max</th>\n",
       "      <td>29.421755</td>\n",
       "      <td>18.734063</td>\n",
       "      <td>5.019721</td>\n",
       "      <td>137.945408</td>\n",
       "    </tr>\n",
       "  </tbody>\n",
       "</table>\n",
       "</div>"
      ],
      "text/plain": [
       "                  f0             f1             f2        product\n",
       "count  100000.000000  100000.000000  100000.000000  100000.000000\n",
       "mean        1.141296      -4.796579       2.494541      68.825000\n",
       "std         8.965932       5.119872       1.703572      45.944423\n",
       "min       -31.609576     -26.358598      -0.018144       0.000000\n",
       "25%        -6.298551      -8.267985       1.000021      26.953261\n",
       "50%         1.153055      -4.813172       2.011479      57.085625\n",
       "75%         8.621015      -1.332816       3.999904     107.813044\n",
       "max        29.421755      18.734063       5.019721     137.945408"
      ]
     },
     "execution_count": 12,
     "metadata": {},
     "output_type": "execute_result"
    }
   ],
   "source": [
    "data_describe(geo_data_1)"
   ]
  },
  {
   "cell_type": "code",
   "execution_count": 13,
   "metadata": {},
   "outputs": [
    {
     "data": {
      "text/html": [
       "<div>\n",
       "<style scoped>\n",
       "    .dataframe tbody tr th:only-of-type {\n",
       "        vertical-align: middle;\n",
       "    }\n",
       "\n",
       "    .dataframe tbody tr th {\n",
       "        vertical-align: top;\n",
       "    }\n",
       "\n",
       "    .dataframe thead th {\n",
       "        text-align: right;\n",
       "    }\n",
       "</style>\n",
       "<table border=\"1\" class=\"dataframe\">\n",
       "  <thead>\n",
       "    <tr style=\"text-align: right;\">\n",
       "      <th></th>\n",
       "      <th>f0</th>\n",
       "      <th>f1</th>\n",
       "      <th>f2</th>\n",
       "      <th>product</th>\n",
       "    </tr>\n",
       "  </thead>\n",
       "  <tbody>\n",
       "    <tr>\n",
       "      <th>f0</th>\n",
       "      <td>1.000000</td>\n",
       "      <td>0.182287</td>\n",
       "      <td>-0.001777</td>\n",
       "      <td>-0.030491</td>\n",
       "    </tr>\n",
       "    <tr>\n",
       "      <th>f1</th>\n",
       "      <td>0.182287</td>\n",
       "      <td>1.000000</td>\n",
       "      <td>-0.002595</td>\n",
       "      <td>-0.010155</td>\n",
       "    </tr>\n",
       "    <tr>\n",
       "      <th>f2</th>\n",
       "      <td>-0.001777</td>\n",
       "      <td>-0.002595</td>\n",
       "      <td>1.000000</td>\n",
       "      <td>0.999397</td>\n",
       "    </tr>\n",
       "    <tr>\n",
       "      <th>product</th>\n",
       "      <td>-0.030491</td>\n",
       "      <td>-0.010155</td>\n",
       "      <td>0.999397</td>\n",
       "      <td>1.000000</td>\n",
       "    </tr>\n",
       "  </tbody>\n",
       "</table>\n",
       "</div>"
      ],
      "text/plain": [
       "               f0        f1        f2   product\n",
       "f0       1.000000  0.182287 -0.001777 -0.030491\n",
       "f1       0.182287  1.000000 -0.002595 -0.010155\n",
       "f2      -0.001777 -0.002595  1.000000  0.999397\n",
       "product -0.030491 -0.010155  0.999397  1.000000"
      ]
     },
     "metadata": {},
     "output_type": "display_data"
    },
    {
     "data": {
      "image/png": "[encoded data removed]",
      "text/plain": [
       "<Figure size 432x288 with 1 Axes>"
      ]
     },
     "metadata": {
      "needs_background": "light"
     },
     "output_type": "display_data"
    },
    {
     "data": {
      "image/png": "[encoded data removed]",
      "text/plain": [
       "<Figure size 432x288 with 1 Axes>"
      ]
     },
     "metadata": {
      "needs_background": "light"
     },
     "output_type": "display_data"
    },
    {
     "data": {
      "image/png": "[encoded data removed]",
      "text/plain": [
       "<Figure size 432x288 with 1 Axes>"
      ]
     },
     "metadata": {
      "needs_background": "light"
     },
     "output_type": "display_data"
    }
   ],
   "source": [
    "correlation(geo_data_1)"
   ]
  },
  {
   "cell_type": "markdown",
   "metadata": {},
   "source": [
    "Аналогично пропуски в данных отсутствуют и данные имеют нужный тип. Объемов запасов в скважине напрямую зависит от признака f2. Корреляция равна 0.999397."
   ]
  },
  {
   "cell_type": "markdown",
   "metadata": {},
   "source": [
    "#### Третий регион"
   ]
  },
  {
   "cell_type": "code",
   "execution_count": 14,
   "metadata": {},
   "outputs": [
    {
     "data": {
      "text/html": [
       "<div>\n",
       "<style scoped>\n",
       "    .dataframe tbody tr th:only-of-type {\n",
       "        vertical-align: middle;\n",
       "    }\n",
       "\n",
       "    .dataframe tbody tr th {\n",
       "        vertical-align: top;\n",
       "    }\n",
       "\n",
       "    .dataframe thead th {\n",
       "        text-align: right;\n",
       "    }\n",
       "</style>\n",
       "<table border=\"1\" class=\"dataframe\">\n",
       "  <thead>\n",
       "    <tr style=\"text-align: right;\">\n",
       "      <th></th>\n",
       "      <th>id</th>\n",
       "      <th>f0</th>\n",
       "      <th>f1</th>\n",
       "      <th>f2</th>\n",
       "      <th>product</th>\n",
       "    </tr>\n",
       "  </thead>\n",
       "  <tbody>\n",
       "    <tr>\n",
       "      <th>0</th>\n",
       "      <td>fwXo0</td>\n",
       "      <td>-1.146987</td>\n",
       "      <td>0.963328</td>\n",
       "      <td>-0.828965</td>\n",
       "      <td>27.758673</td>\n",
       "    </tr>\n",
       "    <tr>\n",
       "      <th>1</th>\n",
       "      <td>WJtFt</td>\n",
       "      <td>0.262778</td>\n",
       "      <td>0.269839</td>\n",
       "      <td>-2.530187</td>\n",
       "      <td>56.069697</td>\n",
       "    </tr>\n",
       "    <tr>\n",
       "      <th>2</th>\n",
       "      <td>ovLUW</td>\n",
       "      <td>0.194587</td>\n",
       "      <td>0.289035</td>\n",
       "      <td>-5.586433</td>\n",
       "      <td>62.871910</td>\n",
       "    </tr>\n",
       "    <tr>\n",
       "      <th>3</th>\n",
       "      <td>q6cA6</td>\n",
       "      <td>2.236060</td>\n",
       "      <td>-0.553760</td>\n",
       "      <td>0.930038</td>\n",
       "      <td>114.572842</td>\n",
       "    </tr>\n",
       "    <tr>\n",
       "      <th>4</th>\n",
       "      <td>WPMUX</td>\n",
       "      <td>-0.515993</td>\n",
       "      <td>1.716266</td>\n",
       "      <td>5.899011</td>\n",
       "      <td>149.600746</td>\n",
       "    </tr>\n",
       "    <tr>\n",
       "      <th>5</th>\n",
       "      <td>LzZXx</td>\n",
       "      <td>-0.758092</td>\n",
       "      <td>0.710691</td>\n",
       "      <td>2.585887</td>\n",
       "      <td>90.222465</td>\n",
       "    </tr>\n",
       "    <tr>\n",
       "      <th>6</th>\n",
       "      <td>WBHRv</td>\n",
       "      <td>-0.574891</td>\n",
       "      <td>0.317727</td>\n",
       "      <td>1.773745</td>\n",
       "      <td>45.641478</td>\n",
       "    </tr>\n",
       "    <tr>\n",
       "      <th>7</th>\n",
       "      <td>XO8fn</td>\n",
       "      <td>-1.906649</td>\n",
       "      <td>-2.458350</td>\n",
       "      <td>-0.177097</td>\n",
       "      <td>72.480640</td>\n",
       "    </tr>\n",
       "    <tr>\n",
       "      <th>8</th>\n",
       "      <td>ybmQ5</td>\n",
       "      <td>1.776292</td>\n",
       "      <td>-0.279356</td>\n",
       "      <td>3.004156</td>\n",
       "      <td>106.616832</td>\n",
       "    </tr>\n",
       "    <tr>\n",
       "      <th>9</th>\n",
       "      <td>OilcN</td>\n",
       "      <td>-1.214452</td>\n",
       "      <td>-0.439314</td>\n",
       "      <td>5.922514</td>\n",
       "      <td>52.954532</td>\n",
       "    </tr>\n",
       "  </tbody>\n",
       "</table>\n",
       "</div>"
      ],
      "text/plain": [
       "      id        f0        f1        f2     product\n",
       "0  fwXo0 -1.146987  0.963328 -0.828965   27.758673\n",
       "1  WJtFt  0.262778  0.269839 -2.530187   56.069697\n",
       "2  ovLUW  0.194587  0.289035 -5.586433   62.871910\n",
       "3  q6cA6  2.236060 -0.553760  0.930038  114.572842\n",
       "4  WPMUX -0.515993  1.716266  5.899011  149.600746\n",
       "5  LzZXx -0.758092  0.710691  2.585887   90.222465\n",
       "6  WBHRv -0.574891  0.317727  1.773745   45.641478\n",
       "7  XO8fn -1.906649 -2.458350 -0.177097   72.480640\n",
       "8  ybmQ5  1.776292 -0.279356  3.004156  106.616832\n",
       "9  OilcN -1.214452 -0.439314  5.922514   52.954532"
      ]
     },
     "execution_count": 14,
     "metadata": {},
     "output_type": "execute_result"
    }
   ],
   "source": [
    "geo_data_2 = open_file('geo_data_2.csv')\n",
    "geo_data_2.head(10)"
   ]
  },
  {
   "cell_type": "code",
   "execution_count": 15,
   "metadata": {},
   "outputs": [
    {
     "name": "stdout",
     "output_type": "stream",
     "text": [
      "<class 'pandas.core.frame.DataFrame'>\n",
      "RangeIndex: 100000 entries, 0 to 99999\n",
      "Data columns (total 5 columns):\n",
      " #   Column   Non-Null Count   Dtype  \n",
      "---  ------   --------------   -----  \n",
      " 0   id       100000 non-null  object \n",
      " 1   f0       100000 non-null  float64\n",
      " 2   f1       100000 non-null  float64\n",
      " 3   f2       100000 non-null  float64\n",
      " 4   product  100000 non-null  float64\n",
      "dtypes: float64(4), object(1)\n",
      "memory usage: 3.8+ MB\n"
     ]
    }
   ],
   "source": [
    "data_info(geo_data_2)"
   ]
  },
  {
   "cell_type": "code",
   "execution_count": 16,
   "metadata": {},
   "outputs": [
    {
     "data": {
      "text/html": [
       "<div>\n",
       "<style scoped>\n",
       "    .dataframe tbody tr th:only-of-type {\n",
       "        vertical-align: middle;\n",
       "    }\n",
       "\n",
       "    .dataframe tbody tr th {\n",
       "        vertical-align: top;\n",
       "    }\n",
       "\n",
       "    .dataframe thead th {\n",
       "        text-align: right;\n",
       "    }\n",
       "</style>\n",
       "<table border=\"1\" class=\"dataframe\">\n",
       "  <thead>\n",
       "    <tr style=\"text-align: right;\">\n",
       "      <th></th>\n",
       "      <th>f0</th>\n",
       "      <th>f1</th>\n",
       "      <th>f2</th>\n",
       "      <th>product</th>\n",
       "    </tr>\n",
       "  </thead>\n",
       "  <tbody>\n",
       "    <tr>\n",
       "      <th>count</th>\n",
       "      <td>100000.000000</td>\n",
       "      <td>100000.000000</td>\n",
       "      <td>100000.000000</td>\n",
       "      <td>100000.000000</td>\n",
       "    </tr>\n",
       "    <tr>\n",
       "      <th>mean</th>\n",
       "      <td>0.002023</td>\n",
       "      <td>-0.002081</td>\n",
       "      <td>2.495128</td>\n",
       "      <td>95.000000</td>\n",
       "    </tr>\n",
       "    <tr>\n",
       "      <th>std</th>\n",
       "      <td>1.732045</td>\n",
       "      <td>1.730417</td>\n",
       "      <td>3.473445</td>\n",
       "      <td>44.749921</td>\n",
       "    </tr>\n",
       "    <tr>\n",
       "      <th>min</th>\n",
       "      <td>-8.760004</td>\n",
       "      <td>-7.084020</td>\n",
       "      <td>-11.970335</td>\n",
       "      <td>0.000000</td>\n",
       "    </tr>\n",
       "    <tr>\n",
       "      <th>25%</th>\n",
       "      <td>-1.162288</td>\n",
       "      <td>-1.174820</td>\n",
       "      <td>0.130359</td>\n",
       "      <td>59.450441</td>\n",
       "    </tr>\n",
       "    <tr>\n",
       "      <th>50%</th>\n",
       "      <td>0.009424</td>\n",
       "      <td>-0.009482</td>\n",
       "      <td>2.484236</td>\n",
       "      <td>94.925613</td>\n",
       "    </tr>\n",
       "    <tr>\n",
       "      <th>75%</th>\n",
       "      <td>1.158535</td>\n",
       "      <td>1.163678</td>\n",
       "      <td>4.858794</td>\n",
       "      <td>130.595027</td>\n",
       "    </tr>\n",
       "    <tr>\n",
       "      <th>max</th>\n",
       "      <td>7.238262</td>\n",
       "      <td>7.844801</td>\n",
       "      <td>16.739402</td>\n",
       "      <td>190.029838</td>\n",
       "    </tr>\n",
       "  </tbody>\n",
       "</table>\n",
       "</div>"
      ],
      "text/plain": [
       "                  f0             f1             f2        product\n",
       "count  100000.000000  100000.000000  100000.000000  100000.000000\n",
       "mean        0.002023      -0.002081       2.495128      95.000000\n",
       "std         1.732045       1.730417       3.473445      44.749921\n",
       "min        -8.760004      -7.084020     -11.970335       0.000000\n",
       "25%        -1.162288      -1.174820       0.130359      59.450441\n",
       "50%         0.009424      -0.009482       2.484236      94.925613\n",
       "75%         1.158535       1.163678       4.858794     130.595027\n",
       "max         7.238262       7.844801      16.739402     190.029838"
      ]
     },
     "execution_count": 16,
     "metadata": {},
     "output_type": "execute_result"
    }
   ],
   "source": [
    "data_describe(geo_data_2)"
   ]
  },
  {
   "cell_type": "code",
   "execution_count": 17,
   "metadata": {},
   "outputs": [
    {
     "data": {
      "text/html": [
       "<div>\n",
       "<style scoped>\n",
       "    .dataframe tbody tr th:only-of-type {\n",
       "        vertical-align: middle;\n",
       "    }\n",
       "\n",
       "    .dataframe tbody tr th {\n",
       "        vertical-align: top;\n",
       "    }\n",
       "\n",
       "    .dataframe thead th {\n",
       "        text-align: right;\n",
       "    }\n",
       "</style>\n",
       "<table border=\"1\" class=\"dataframe\">\n",
       "  <thead>\n",
       "    <tr style=\"text-align: right;\">\n",
       "      <th></th>\n",
       "      <th>f0</th>\n",
       "      <th>f1</th>\n",
       "      <th>f2</th>\n",
       "      <th>product</th>\n",
       "    </tr>\n",
       "  </thead>\n",
       "  <tbody>\n",
       "    <tr>\n",
       "      <th>f0</th>\n",
       "      <td>1.000000</td>\n",
       "      <td>0.000528</td>\n",
       "      <td>-0.000448</td>\n",
       "      <td>-0.001987</td>\n",
       "    </tr>\n",
       "    <tr>\n",
       "      <th>f1</th>\n",
       "      <td>0.000528</td>\n",
       "      <td>1.000000</td>\n",
       "      <td>0.000779</td>\n",
       "      <td>-0.001012</td>\n",
       "    </tr>\n",
       "    <tr>\n",
       "      <th>f2</th>\n",
       "      <td>-0.000448</td>\n",
       "      <td>0.000779</td>\n",
       "      <td>1.000000</td>\n",
       "      <td>0.445871</td>\n",
       "    </tr>\n",
       "    <tr>\n",
       "      <th>product</th>\n",
       "      <td>-0.001987</td>\n",
       "      <td>-0.001012</td>\n",
       "      <td>0.445871</td>\n",
       "      <td>1.000000</td>\n",
       "    </tr>\n",
       "  </tbody>\n",
       "</table>\n",
       "</div>"
      ],
      "text/plain": [
       "               f0        f1        f2   product\n",
       "f0       1.000000  0.000528 -0.000448 -0.001987\n",
       "f1       0.000528  1.000000  0.000779 -0.001012\n",
       "f2      -0.000448  0.000779  1.000000  0.445871\n",
       "product -0.001987 -0.001012  0.445871  1.000000"
      ]
     },
     "metadata": {},
     "output_type": "display_data"
    },
    {
     "data": {
      "image/png": "[encoded data removed]",
      "text/plain": [
       "<Figure size 432x288 with 1 Axes>"
      ]
     },
     "metadata": {
      "needs_background": "light"
     },
     "output_type": "display_data"
    },
    {
     "data": {
      "image/png": "[encoded data removed]",
      "text/plain": [
       "<Figure size 432x288 with 1 Axes>"
      ]
     },
     "metadata": {
      "needs_background": "light"
     },
     "output_type": "display_data"
    },
    {
     "data": {
      "image/png": "[encoded data removed]",
      "text/plain": [
       "<Figure size 432x288 with 1 Axes>"
      ]
     },
     "metadata": {
      "needs_background": "light"
     },
     "output_type": "display_data"
    }
   ],
   "source": [
    "correlation(geo_data_2)"
   ]
  },
  {
   "cell_type": "markdown",
   "metadata": {},
   "source": [
    "Объемов запасов в скважине в третьем регионе также зависит от признака f2. Корреляция равна 0.445871. Два других признака почти не влияют на объем сырья."
   ]
  },
  {
   "cell_type": "markdown",
   "metadata": {},
   "source": [
    "<b>Вывод:</b> все данные полные, отсутствуют пропуски, все столбцы имеют верный тип, столбцы названы правильно. Предобработка данных не требуется. Столбец product - целевой признак. Целевой признак количественный, поэтому будем решать задачу регрессии. Объем сырья в скважине во всех 3 регионах в большей степени зависит от признака f2."
   ]
  },
  {
   "cell_type": "markdown",
   "metadata": {},
   "source": [
    "## Обучение и проверка модели"
   ]
  },
  {
   "cell_type": "code",
   "execution_count": 18,
   "metadata": {},
   "outputs": [],
   "source": [
    "def train_valid_data(data):\n",
    "    features = data.drop(['id', 'product'], axis = 1)\n",
    "    target = data['product']\n",
    "\n",
    "    features_train, features_valid, target_train, target_valid = train_test_split(features, target, test_size = 0.25, random_state = 12345)\n",
    "    print('Размер всех данных:', geo_data_0.shape)\n",
    "    print('Размер обучающей выборки (без целевого признака):', features_train.shape)\n",
    "    print('Размер валидационной выборки (без целевого признака):', features_valid.shape)\n",
    "    return features_train, features_valid, target_train, target_valid"
   ]
  },
  {
   "cell_type": "markdown",
   "metadata": {},
   "source": [
    "<b>Разбиение для первого региона</b>"
   ]
  },
  {
   "cell_type": "code",
   "execution_count": 19,
   "metadata": {},
   "outputs": [
    {
     "name": "stdout",
     "output_type": "stream",
     "text": [
      "Размер всех данных: (100000, 5)\n",
      "Размер обучающей выборки (без целевого признака): (75000, 3)\n",
      "Размер валидационной выборки (без целевого признака): (25000, 3)\n"
     ]
    }
   ],
   "source": [
    "features_train_0, features_valid_0, target_train_0, target_valid_0 = train_valid_data(geo_data_0)"
   ]
  },
  {
   "cell_type": "markdown",
   "metadata": {},
   "source": [
    "<b>Разбиение для второго региона</b>"
   ]
  },
  {
   "cell_type": "code",
   "execution_count": 20,
   "metadata": {},
   "outputs": [
    {
     "name": "stdout",
     "output_type": "stream",
     "text": [
      "Размер всех данных: (100000, 5)\n",
      "Размер обучающей выборки (без целевого признака): (75000, 3)\n",
      "Размер валидационной выборки (без целевого признака): (25000, 3)\n"
     ]
    }
   ],
   "source": [
    "features_train_1, features_valid_1, target_train_1, target_valid_1 = train_valid_data(geo_data_1)"
   ]
  },
  {
   "cell_type": "markdown",
   "metadata": {},
   "source": [
    "<b>Разбиение для третьего региона</b>"
   ]
  },
  {
   "cell_type": "code",
   "execution_count": 21,
   "metadata": {},
   "outputs": [
    {
     "name": "stdout",
     "output_type": "stream",
     "text": [
      "Размер всех данных: (100000, 5)\n",
      "Размер обучающей выборки (без целевого признака): (75000, 3)\n",
      "Размер валидационной выборки (без целевого признака): (25000, 3)\n"
     ]
    }
   ],
   "source": [
    "features_train_2, features_valid_2, target_train_2, target_valid_2 = train_valid_data(geo_data_2)"
   ]
  },
  {
   "cell_type": "markdown",
   "metadata": {},
   "source": [
    "### Обучение модели"
   ]
  },
  {
   "cell_type": "markdown",
   "metadata": {},
   "source": [
    "В условии задачи сказано, что для обучения модели подходит только линейная регрессия (остальные — недостаточно предсказуемые)"
   ]
  },
  {
   "cell_type": "code",
   "execution_count": 22,
   "metadata": {},
   "outputs": [],
   "source": [
    "def linear_model(features_train, target_train, features_valid):\n",
    "    model = LinearRegression()\n",
    "    model.fit(features_train, target_train)\n",
    "    predictions_valid = model.predict(features_valid)\n",
    "    return model, predictions_valid"
   ]
  },
  {
   "cell_type": "markdown",
   "metadata": {},
   "source": [
    "<b>Модель для первого региона</b>"
   ]
  },
  {
   "cell_type": "code",
   "execution_count": 23,
   "metadata": {},
   "outputs": [],
   "source": [
    "model_0, predictions_valid_0 = linear_model(features_train_0, target_train_0, features_valid_0)"
   ]
  },
  {
   "cell_type": "markdown",
   "metadata": {},
   "source": [
    "<b>Модель для второго региона</b>"
   ]
  },
  {
   "cell_type": "code",
   "execution_count": 24,
   "metadata": {},
   "outputs": [],
   "source": [
    "model_1, predictions_valid_1 = linear_model(features_train_1, target_train_1, features_valid_1)"
   ]
  },
  {
   "cell_type": "markdown",
   "metadata": {},
   "source": [
    "<b>Модель для третьего региона</b>"
   ]
  },
  {
   "cell_type": "code",
   "execution_count": 25,
   "metadata": {},
   "outputs": [],
   "source": [
    "model_2, predictions_valid_2 = linear_model(features_train_2, target_train_2, features_valid_2)"
   ]
  },
  {
   "cell_type": "markdown",
   "metadata": {},
   "source": [
    "### Средний запас предсказанного сырья и RMSE модели"
   ]
  },
  {
   "cell_type": "code",
   "execution_count": 26,
   "metadata": {},
   "outputs": [],
   "source": [
    "def predictions_valid_mean(predictions_valid):\n",
    "    return predictions_valid.mean()"
   ]
  },
  {
   "cell_type": "code",
   "execution_count": 27,
   "metadata": {},
   "outputs": [],
   "source": [
    "def RMSE(target_valid, predictions_valid):\n",
    "    mse = mean_squared_error(target_valid, predictions_valid)\n",
    "    rmse = mse**0.5\n",
    "    print('RMSE:',rmse)"
   ]
  },
  {
   "cell_type": "markdown",
   "metadata": {},
   "source": [
    "<b>Для первого региона</b>"
   ]
  },
  {
   "cell_type": "code",
   "execution_count": 28,
   "metadata": {},
   "outputs": [
    {
     "name": "stdout",
     "output_type": "stream",
     "text": [
      "Средний запас предсказанного сырья для первого региона равен 92.59256778438038\n",
      "RMSE: 37.5794217150813\n"
     ]
    }
   ],
   "source": [
    "predictions_valid_mean_0 = predictions_valid_mean(predictions_valid_0)\n",
    "print('Средний запас предсказанного сырья для первого региона равен', predictions_valid_mean_0)\n",
    "RMSE(target_valid_0, predictions_valid_0)"
   ]
  },
  {
   "cell_type": "markdown",
   "metadata": {},
   "source": [
    "<b>Для второго региона</b>"
   ]
  },
  {
   "cell_type": "code",
   "execution_count": 29,
   "metadata": {},
   "outputs": [
    {
     "name": "stdout",
     "output_type": "stream",
     "text": [
      "Средний запас предсказанного сырья для второго региона равен 68.72854689544602\n",
      "RMSE: 0.893099286775616\n"
     ]
    }
   ],
   "source": [
    "predictions_valid_mean_1 = predictions_valid_mean(predictions_valid_1)\n",
    "print('Средний запас предсказанного сырья для второго региона равен', predictions_valid_mean_1)\n",
    "RMSE(target_valid_1, predictions_valid_1)"
   ]
  },
  {
   "cell_type": "markdown",
   "metadata": {},
   "source": [
    "<b>Для третьего региона</b>"
   ]
  },
  {
   "cell_type": "code",
   "execution_count": 30,
   "metadata": {},
   "outputs": [
    {
     "name": "stdout",
     "output_type": "stream",
     "text": [
      "Средний запас предсказанного сырья для третьего региона равен 94.96504596800489\n",
      "RMSE: 40.02970873393434\n"
     ]
    }
   ],
   "source": [
    "predictions_valid_mean_2 = predictions_valid_mean(predictions_valid_2)\n",
    "print('Средний запас предсказанного сырья для третьего региона равен', predictions_valid_mean_2)\n",
    "RMSE(target_valid_2, predictions_valid_2)"
   ]
  },
  {
   "cell_type": "markdown",
   "metadata": {},
   "source": [
    "Корень из средней квадратичной ошибки получился достаточно большой для первого и третьего регионов, средний запасы в этих реонах получились примерно одинаковый. Средний запас во втором регионе получился меньше, но корень из средней квадратичной ошибки значительно отличается"
   ]
  },
  {
   "cell_type": "markdown",
   "metadata": {},
   "source": [
    "## Подготовка к расчёту прибыли"
   ]
  },
  {
   "cell_type": "markdown",
   "metadata": {},
   "source": [
    "### Достаточный объём сырья для безубыточной разработки новой скважины"
   ]
  },
  {
   "cell_type": "markdown",
   "metadata": {},
   "source": [
    "Бюджет на разработку скважин в регионе — 10 млрд рублей. 200 точек для разработки. При нынешних ценах один баррель сырья приносит 450 рублей дохода. Доход с каждой единицы продукта составляет 450 тыс. рублей, поскольку объём указан в тысячах баррелей."
   ]
  },
  {
   "cell_type": "code",
   "execution_count": 31,
   "metadata": {},
   "outputs": [
    {
     "name": "stdout",
     "output_type": "stream",
     "text": [
      "Достаточный объем сырья для безубыточной разработки новой скважины равен 111.11111111111111\n"
     ]
    }
   ],
   "source": [
    "BUDGET = 1*(10**10)\n",
    "NUM_OF_WELLS = 200\n",
    "PROFIT_PER_UNIT = 450000\n",
    "enough_row_materials = BUDGET / (NUM_OF_WELLS * PROFIT_PER_UNIT)\n",
    "print('Достаточный объем сырья для безубыточной разработки новой скважины равен', enough_row_materials)"
   ]
  },
  {
   "cell_type": "code",
   "execution_count": 32,
   "metadata": {},
   "outputs": [
    {
     "name": "stdout",
     "output_type": "stream",
     "text": [
      "Средний запас сырья для первого региона: 92.59256778438038\n",
      "Средний запас сырья для второго региона: 68.72854689544602\n",
      "Средний запас сырья для третьего региона: 94.96504596800489\n"
     ]
    }
   ],
   "source": [
    "print('Средний запас сырья для первого региона:', predictions_valid_mean_0)\n",
    "print('Средний запас сырья для второго региона:', predictions_valid_mean_1)\n",
    "print('Средний запас сырья для третьего региона:', predictions_valid_mean_2)"
   ]
  },
  {
   "cell_type": "markdown",
   "metadata": {},
   "source": [
    "<b>Вывод:</b> средние запасы для каждого региона меньше, во втором регионе средние запасы меньше почти в 2 раза по сравнению с достаточным объемом сырья для безубыточной разработки новой скважины."
   ]
  },
  {
   "cell_type": "markdown",
   "metadata": {},
   "source": [
    "## Функция для расчёта прибыли по выбранным скважинам и предсказаниям модели"
   ]
  },
  {
   "cell_type": "markdown",
   "metadata": {},
   "source": [
    "Для того, чтобы найти прибыль по выбранным скважинам и предсказания модели следует выполнить следующие шаги:\n",
    "1. Выбрать скважины с максимальными значениями предсказаний\n",
    "2. Просуммировать целевое значение объёма сырья, соответствующее этим предсказаниям\n",
    "3. Рассчитать прибыль для полученного объёма сырья"
   ]
  },
  {
   "cell_type": "code",
   "execution_count": 33,
   "metadata": {},
   "outputs": [],
   "source": [
    "def top_200_profit(target_valid, predictions_valid):\n",
    "    predictions_valid = pd.Series(predictions_valid).reset_index(drop=True)\n",
    "    target_valid = pd.Series(target_valid).reset_index(drop=True)\n",
    "    top_200_product = pd.Series(predictions_valid).sort_values(ascending = False).head(200)\n",
    "    top_200_product_sum = target_valid[top_200_product.index].sum()\n",
    "    return top_200_product_sum * PROFIT_PER_UNIT - BUDGET"
   ]
  },
  {
   "cell_type": "code",
   "execution_count": 34,
   "metadata": {},
   "outputs": [
    {
     "name": "stdout",
     "output_type": "stream",
     "text": [
      "Прибыль по выбранным скважинам для первого региона 3320826043.1398525\n"
     ]
    }
   ],
   "source": [
    "print('Прибыль по выбранным скважинам для первого региона', top_200_profit(target_valid_0, predictions_valid_0))"
   ]
  },
  {
   "cell_type": "code",
   "execution_count": 35,
   "metadata": {},
   "outputs": [
    {
     "name": "stdout",
     "output_type": "stream",
     "text": [
      "Прибыль по выбранным скважинам для второго региона 2415086696.681511\n"
     ]
    }
   ],
   "source": [
    "print('Прибыль по выбранным скважинам для второго региона', top_200_profit(target_valid_1, predictions_valid_1))"
   ]
  },
  {
   "cell_type": "code",
   "execution_count": 36,
   "metadata": {},
   "outputs": [
    {
     "name": "stdout",
     "output_type": "stream",
     "text": [
      "Прибыль по выбранным скважинам для третьего региона 2710349963.5998325\n"
     ]
    }
   ],
   "source": [
    "print('Прибыль по выбранным скважинам для третьего региона', top_200_profit(target_valid_2, predictions_valid_2))"
   ]
  },
  {
   "cell_type": "markdown",
   "metadata": {},
   "source": [
    "<b>Вывод:</b> большую прибыль дало предсказание модели по первому региону"
   ]
  },
  {
   "cell_type": "markdown",
   "metadata": {},
   "source": [
    "## Расчёт прибыли и рисков "
   ]
  },
  {
   "cell_type": "code",
   "execution_count": 37,
   "metadata": {},
   "outputs": [],
   "source": [
    "state = np.random.RandomState(12345)"
   ]
  },
  {
   "cell_type": "code",
   "execution_count": 38,
   "metadata": {},
   "outputs": [],
   "source": [
    "def bootstrap(target_valid, predictions_valid):\n",
    "    target_valid = target_valid.reset_index(drop=True)\n",
    "    values = []\n",
    "    for i in range(1000):\n",
    "        target_subsample = target_valid.sample(500, replace = True, random_state = state)\n",
    "        predictions_subsample = predictions_valid[target_subsample.index]\n",
    "        profit_ = top_200_profit(target_subsample, predictions_subsample)\n",
    "        values.append(profit_)\n",
    "    return pd.Series(values)"
   ]
  },
  {
   "cell_type": "markdown",
   "metadata": {},
   "source": [
    "### Седняя прибыль, 95%-й доверительный интервал и риск убытков"
   ]
  },
  {
   "cell_type": "code",
   "execution_count": 39,
   "metadata": {},
   "outputs": [],
   "source": [
    "def analysis(target_valid, predictions_valid):\n",
    "    average_profit = bootstrap(target_valid, predictions_valid)\n",
    "    mean = average_profit.mean()\n",
    "    lower = average_profit.quantile(0.025)\n",
    "    upper = average_profit.quantile(0.975)\n",
    "    \n",
    "    print('Средняя прибыль:', mean)\n",
    "    print('95%-й доверительный интервал:({:.5f}, {:.5f})'.format(lower, upper))\n",
    "    print('Риск убытков: {:.2%}'.format((average_profit<0).mean()))"
   ]
  },
  {
   "cell_type": "code",
   "execution_count": 40,
   "metadata": {},
   "outputs": [
    {
     "name": "stdout",
     "output_type": "stream",
     "text": [
      "Средняя прибыль: 396164984.8023709\n",
      "95%-й доверительный интервал:(-111215545.89050, 909766941.55342)\n",
      "Риск убытков: 6.90%\n"
     ]
    }
   ],
   "source": [
    "analysis(target_valid_0, predictions_valid_0)"
   ]
  },
  {
   "cell_type": "code",
   "execution_count": 41,
   "metadata": {},
   "outputs": [
    {
     "name": "stdout",
     "output_type": "stream",
     "text": [
      "Средняя прибыль: 461155817.27723986\n",
      "95%-й доверительный интервал:(78050810.75174, 862952060.26372)\n",
      "Риск убытков: 0.70%\n"
     ]
    }
   ],
   "source": [
    "analysis(target_valid_1, predictions_valid_1)"
   ]
  },
  {
   "cell_type": "code",
   "execution_count": 42,
   "metadata": {},
   "outputs": [
    {
     "name": "stdout",
     "output_type": "stream",
     "text": [
      "Средняя прибыль: 392950475.1706037\n",
      "95%-й доверительный интервал:(-112227625.37858, 934562914.55116)\n",
      "Риск убытков: 6.50%\n"
     ]
    }
   ],
   "source": [
    "analysis(target_valid_2, predictions_valid_2)"
   ]
  },
  {
   "cell_type": "markdown",
   "metadata": {},
   "source": [
    "<b>Вывод:</b> единственный регион, в котором риски меньше 2.5%(заданных по условию задачи), это 2 регион. Данный регион дает наименьшую прибыль по выбранным моделью скважинам, но по итогу именно в данном регионе мы получим наибольшую средню прибыль в 461 млн.руб"
   ]
  }
 ],
 "metadata": {
  "ExecuteTimeLog": [
   {
    "duration": 803,
    "start_time": "2022-01-03T15:49:22.579Z"
   },
   {
    "duration": 163,
    "start_time": "2022-01-03T15:49:55.416Z"
   },
   {
    "duration": 179,
    "start_time": "2022-01-03T15:50:09.315Z"
   },
   {
    "duration": 7732,
    "start_time": "2022-01-03T15:50:32.460Z"
   },
   {
    "duration": 187,
    "start_time": "2022-01-03T15:50:43.654Z"
   },
   {
    "duration": 17,
    "start_time": "2022-01-03T15:52:25.315Z"
   },
   {
    "duration": 88,
    "start_time": "2022-01-03T15:52:42.012Z"
   },
   {
    "duration": 267,
    "start_time": "2022-01-03T15:54:09.187Z"
   },
   {
    "duration": 52,
    "start_time": "2022-01-03T15:54:14.574Z"
   },
   {
    "duration": 277,
    "start_time": "2022-01-03T15:56:27.075Z"
   },
   {
    "duration": 274,
    "start_time": "2022-01-03T15:56:47.590Z"
   },
   {
    "duration": 3,
    "start_time": "2022-01-03T15:56:49.038Z"
   },
   {
    "duration": 176,
    "start_time": "2022-01-03T15:56:50.058Z"
   },
   {
    "duration": 3,
    "start_time": "2022-01-03T15:57:37.730Z"
   },
   {
    "duration": 17,
    "start_time": "2022-01-03T15:57:55.514Z"
   },
   {
    "duration": 4,
    "start_time": "2022-01-03T15:58:28.778Z"
   },
   {
    "duration": 47,
    "start_time": "2022-01-03T15:58:45.421Z"
   },
   {
    "duration": 4,
    "start_time": "2022-01-03T15:58:50.851Z"
   },
   {
    "duration": 3,
    "start_time": "2022-01-03T15:58:51.119Z"
   },
   {
    "duration": 4,
    "start_time": "2022-01-03T15:58:51.322Z"
   },
   {
    "duration": 171,
    "start_time": "2022-01-03T15:58:51.892Z"
   },
   {
    "duration": 13,
    "start_time": "2022-01-03T15:58:52.330Z"
   },
   {
    "duration": 50,
    "start_time": "2022-01-03T15:58:53.137Z"
   },
   {
    "duration": 150,
    "start_time": "2022-01-03T16:01:10.580Z"
   },
   {
    "duration": 170,
    "start_time": "2022-01-03T16:01:21.185Z"
   },
   {
    "duration": 15,
    "start_time": "2022-01-03T16:01:40.395Z"
   },
   {
    "duration": 48,
    "start_time": "2022-01-03T16:01:54.864Z"
   },
   {
    "duration": 94,
    "start_time": "2022-01-03T16:02:39.306Z"
   },
   {
    "duration": 3,
    "start_time": "2022-01-03T16:03:23.876Z"
   },
   {
    "duration": 157,
    "start_time": "2022-01-03T16:04:04.045Z"
   },
   {
    "duration": 167,
    "start_time": "2022-01-03T16:04:14.179Z"
   },
   {
    "duration": 13,
    "start_time": "2022-01-03T16:04:29.534Z"
   },
   {
    "duration": 49,
    "start_time": "2022-01-03T16:04:45.041Z"
   },
   {
    "duration": 3,
    "start_time": "2022-01-03T18:01:41.974Z"
   },
   {
    "duration": 350,
    "start_time": "2022-01-03T18:04:28.298Z"
   },
   {
    "duration": 318,
    "start_time": "2022-01-03T18:05:51.418Z"
   },
   {
    "duration": 4,
    "start_time": "2022-01-03T18:06:14.509Z"
   },
   {
    "duration": 4,
    "start_time": "2022-01-03T18:06:15.942Z"
   },
   {
    "duration": 4,
    "start_time": "2022-01-03T18:06:16.380Z"
   },
   {
    "duration": 3,
    "start_time": "2022-01-03T18:06:16.636Z"
   },
   {
    "duration": 168,
    "start_time": "2022-01-03T18:06:17.105Z"
   },
   {
    "duration": 13,
    "start_time": "2022-01-03T18:06:17.393Z"
   },
   {
    "duration": 48,
    "start_time": "2022-01-03T18:06:18.262Z"
   },
   {
    "duration": 171,
    "start_time": "2022-01-03T18:06:19.278Z"
   },
   {
    "duration": 15,
    "start_time": "2022-01-03T18:06:19.625Z"
   },
   {
    "duration": 51,
    "start_time": "2022-01-03T18:06:20.195Z"
   },
   {
    "duration": 173,
    "start_time": "2022-01-03T18:06:21.413Z"
   },
   {
    "duration": 17,
    "start_time": "2022-01-03T18:06:22.050Z"
   },
   {
    "duration": 51,
    "start_time": "2022-01-03T18:06:22.601Z"
   },
   {
    "duration": 293,
    "start_time": "2022-01-03T18:06:27.871Z"
   },
   {
    "duration": 6933,
    "start_time": "2022-01-03T18:06:49.661Z"
   },
   {
    "duration": 6,
    "start_time": "2022-01-03T18:07:06.661Z"
   },
   {
    "duration": 577,
    "start_time": "2022-01-03T18:16:17.235Z"
   },
   {
    "duration": 4,
    "start_time": "2022-01-03T18:16:18.324Z"
   },
   {
    "duration": 3,
    "start_time": "2022-01-03T18:16:18.366Z"
   },
   {
    "duration": 3,
    "start_time": "2022-01-03T18:16:18.409Z"
   },
   {
    "duration": 166,
    "start_time": "2022-01-03T18:16:18.491Z"
   },
   {
    "duration": 13,
    "start_time": "2022-01-03T18:16:18.660Z"
   },
   {
    "duration": 74,
    "start_time": "2022-01-03T18:16:18.676Z"
   },
   {
    "duration": 168,
    "start_time": "2022-01-03T18:16:18.752Z"
   },
   {
    "duration": 14,
    "start_time": "2022-01-03T18:16:18.923Z"
   },
   {
    "duration": 47,
    "start_time": "2022-01-03T18:16:19.066Z"
   },
   {
    "duration": 177,
    "start_time": "2022-01-03T18:16:20.070Z"
   },
   {
    "duration": 14,
    "start_time": "2022-01-03T18:16:20.421Z"
   },
   {
    "duration": 52,
    "start_time": "2022-01-03T18:16:20.681Z"
   },
   {
    "duration": 20,
    "start_time": "2022-01-03T18:17:47.723Z"
   },
   {
    "duration": 325,
    "start_time": "2022-01-03T18:18:21.812Z"
   },
   {
    "duration": 311,
    "start_time": "2022-01-03T18:18:33.195Z"
   },
   {
    "duration": 21,
    "start_time": "2022-01-03T18:18:46.465Z"
   },
   {
    "duration": 3,
    "start_time": "2022-01-03T18:19:31.022Z"
   },
   {
    "duration": 83,
    "start_time": "2022-01-03T18:31:20.207Z"
   },
   {
    "duration": 21,
    "start_time": "2022-01-03T18:31:24.213Z"
   },
   {
    "duration": 3,
    "start_time": "2022-01-03T18:31:35.547Z"
   },
   {
    "duration": 3,
    "start_time": "2022-01-03T18:31:36.057Z"
   },
   {
    "duration": 4,
    "start_time": "2022-01-03T18:31:36.116Z"
   },
   {
    "duration": 171,
    "start_time": "2022-01-03T18:31:36.186Z"
   },
   {
    "duration": 13,
    "start_time": "2022-01-03T18:31:36.360Z"
   },
   {
    "duration": 74,
    "start_time": "2022-01-03T18:31:36.376Z"
   },
   {
    "duration": 176,
    "start_time": "2022-01-03T18:31:36.452Z"
   },
   {
    "duration": 14,
    "start_time": "2022-01-03T18:31:36.630Z"
   },
   {
    "duration": 75,
    "start_time": "2022-01-03T18:31:36.647Z"
   },
   {
    "duration": 165,
    "start_time": "2022-01-03T18:31:37.163Z"
   },
   {
    "duration": 14,
    "start_time": "2022-01-03T18:31:37.357Z"
   },
   {
    "duration": 48,
    "start_time": "2022-01-03T18:31:37.573Z"
   },
   {
    "duration": 21,
    "start_time": "2022-01-03T18:31:38.616Z"
   },
   {
    "duration": 4,
    "start_time": "2022-01-03T18:35:21.420Z"
   },
   {
    "duration": 3,
    "start_time": "2022-01-03T18:35:22.049Z"
   },
   {
    "duration": 4,
    "start_time": "2022-01-03T18:35:22.092Z"
   },
   {
    "duration": 4,
    "start_time": "2022-01-03T18:35:22.125Z"
   },
   {
    "duration": 171,
    "start_time": "2022-01-03T18:35:22.207Z"
   },
   {
    "duration": 13,
    "start_time": "2022-01-03T18:35:22.381Z"
   },
   {
    "duration": 46,
    "start_time": "2022-01-03T18:35:22.417Z"
   },
   {
    "duration": 183,
    "start_time": "2022-01-03T18:35:22.467Z"
   },
   {
    "duration": 14,
    "start_time": "2022-01-03T18:35:22.766Z"
   },
   {
    "duration": 48,
    "start_time": "2022-01-03T18:35:22.962Z"
   },
   {
    "duration": 167,
    "start_time": "2022-01-03T18:35:23.531Z"
   },
   {
    "duration": 15,
    "start_time": "2022-01-03T18:35:23.822Z"
   },
   {
    "duration": 48,
    "start_time": "2022-01-03T18:35:24.160Z"
   },
   {
    "duration": 23,
    "start_time": "2022-01-03T18:35:25.349Z"
   },
   {
    "duration": 293,
    "start_time": "2022-01-03T18:36:49.628Z"
   },
   {
    "duration": 20,
    "start_time": "2022-01-03T18:36:55.757Z"
   },
   {
    "duration": 13,
    "start_time": "2022-01-03T18:38:23.285Z"
   },
   {
    "duration": 4,
    "start_time": "2022-01-03T18:43:49.661Z"
   },
   {
    "duration": 3,
    "start_time": "2022-01-03T18:43:50.517Z"
   },
   {
    "duration": 3,
    "start_time": "2022-01-03T18:43:51.026Z"
   },
   {
    "duration": 3,
    "start_time": "2022-01-03T18:43:51.067Z"
   },
   {
    "duration": 175,
    "start_time": "2022-01-03T18:43:51.155Z"
   },
   {
    "duration": 14,
    "start_time": "2022-01-03T18:43:51.332Z"
   },
   {
    "duration": 72,
    "start_time": "2022-01-03T18:43:51.349Z"
   },
   {
    "duration": 193,
    "start_time": "2022-01-03T18:43:51.424Z"
   },
   {
    "duration": 15,
    "start_time": "2022-01-03T18:43:51.620Z"
   },
   {
    "duration": 47,
    "start_time": "2022-01-03T18:43:51.643Z"
   },
   {
    "duration": 174,
    "start_time": "2022-01-03T18:43:52.272Z"
   },
   {
    "duration": 14,
    "start_time": "2022-01-03T18:43:52.485Z"
   },
   {
    "duration": 51,
    "start_time": "2022-01-03T18:43:52.671Z"
   },
   {
    "duration": 22,
    "start_time": "2022-01-03T18:43:53.618Z"
   },
   {
    "duration": 20,
    "start_time": "2022-01-03T18:43:57.646Z"
   },
   {
    "duration": 5,
    "start_time": "2022-01-03T18:45:48.129Z"
   },
   {
    "duration": 6,
    "start_time": "2022-01-03T18:46:12.024Z"
   },
   {
    "duration": 7,
    "start_time": "2022-01-03T18:47:44.898Z"
   },
   {
    "duration": 7,
    "start_time": "2022-01-03T18:52:16.738Z"
   },
   {
    "duration": 6,
    "start_time": "2022-01-03T18:54:31.192Z"
   },
   {
    "duration": 7,
    "start_time": "2022-01-03T18:54:35.295Z"
   },
   {
    "duration": 7,
    "start_time": "2022-01-03T18:58:46.035Z"
   },
   {
    "duration": 27,
    "start_time": "2022-01-03T18:58:47.192Z"
   },
   {
    "duration": 18,
    "start_time": "2022-01-03T18:59:41.618Z"
   },
   {
    "duration": 21,
    "start_time": "2022-01-03T19:00:02.652Z"
   },
   {
    "duration": 94,
    "start_time": "2022-01-03T19:01:42.363Z"
   },
   {
    "duration": 91,
    "start_time": "2022-01-03T19:03:52.997Z"
   },
   {
    "duration": 95,
    "start_time": "2022-01-03T19:03:53.180Z"
   },
   {
    "duration": 4,
    "start_time": "2022-01-03T19:05:45.768Z"
   },
   {
    "duration": 13,
    "start_time": "2022-01-03T19:05:46.799Z"
   },
   {
    "duration": 13,
    "start_time": "2022-01-03T19:06:21.288Z"
   },
   {
    "duration": 14,
    "start_time": "2022-01-03T19:06:22.810Z"
   },
   {
    "duration": 14,
    "start_time": "2022-01-03T19:06:23.625Z"
   },
   {
    "duration": 98,
    "start_time": "2022-01-03T19:07:38.913Z"
   },
   {
    "duration": 3,
    "start_time": "2022-01-03T19:08:21.207Z"
   },
   {
    "duration": 5,
    "start_time": "2022-01-03T19:09:03.015Z"
   },
   {
    "duration": 282,
    "start_time": "2022-01-03T19:09:55.430Z"
   },
   {
    "duration": 4,
    "start_time": "2022-01-03T19:10:00.038Z"
   },
   {
    "duration": 6,
    "start_time": "2022-01-03T19:10:00.498Z"
   },
   {
    "duration": 5,
    "start_time": "2022-01-03T19:10:17.654Z"
   },
   {
    "duration": 115,
    "start_time": "2022-01-03T19:10:34.660Z"
   },
   {
    "duration": 4,
    "start_time": "2022-01-03T19:11:27.135Z"
   },
   {
    "duration": 6,
    "start_time": "2022-01-03T19:11:27.907Z"
   },
   {
    "duration": 6,
    "start_time": "2022-01-03T19:11:38.449Z"
   },
   {
    "duration": 5,
    "start_time": "2022-01-03T19:11:46.656Z"
   },
   {
    "duration": 6,
    "start_time": "2022-01-03T19:12:13.949Z"
   },
   {
    "duration": 6,
    "start_time": "2022-01-04T17:19:14.826Z"
   },
   {
    "duration": 5,
    "start_time": "2022-01-04T17:19:43.992Z"
   },
   {
    "duration": 1334,
    "start_time": "2022-01-04T17:24:01.192Z"
   },
   {
    "duration": 3,
    "start_time": "2022-01-04T17:24:03.802Z"
   },
   {
    "duration": 3,
    "start_time": "2022-01-04T17:24:03.843Z"
   },
   {
    "duration": 3,
    "start_time": "2022-01-04T17:24:03.885Z"
   },
   {
    "duration": 176,
    "start_time": "2022-01-04T17:24:03.964Z"
   },
   {
    "duration": 14,
    "start_time": "2022-01-04T17:24:04.143Z"
   },
   {
    "duration": 72,
    "start_time": "2022-01-04T17:24:04.160Z"
   },
   {
    "duration": 170,
    "start_time": "2022-01-04T17:24:04.235Z"
   },
   {
    "duration": 23,
    "start_time": "2022-01-04T17:24:04.409Z"
   },
   {
    "duration": 48,
    "start_time": "2022-01-04T17:24:04.435Z"
   },
   {
    "duration": 181,
    "start_time": "2022-01-04T17:24:04.485Z"
   },
   {
    "duration": 13,
    "start_time": "2022-01-04T17:24:04.669Z"
   },
   {
    "duration": 70,
    "start_time": "2022-01-04T17:24:04.685Z"
   },
   {
    "duration": 5,
    "start_time": "2022-01-04T17:24:04.758Z"
   },
   {
    "duration": 23,
    "start_time": "2022-01-04T17:24:04.765Z"
   },
   {
    "duration": 22,
    "start_time": "2022-01-04T17:24:05.235Z"
   },
   {
    "duration": 21,
    "start_time": "2022-01-04T17:24:05.648Z"
   },
   {
    "duration": 4,
    "start_time": "2022-01-04T17:24:06.321Z"
   },
   {
    "duration": 21,
    "start_time": "2022-01-04T17:24:06.820Z"
   },
   {
    "duration": 13,
    "start_time": "2022-01-04T17:24:07.515Z"
   },
   {
    "duration": 98,
    "start_time": "2022-01-04T17:24:07.628Z"
   },
   {
    "duration": 4,
    "start_time": "2022-01-04T17:24:07.924Z"
   },
   {
    "duration": 4,
    "start_time": "2022-01-04T17:24:08.119Z"
   },
   {
    "duration": 95,
    "start_time": "2022-01-04T17:24:08.549Z"
   },
   {
    "duration": 6,
    "start_time": "2022-01-04T17:24:09.041Z"
   },
   {
    "duration": 8,
    "start_time": "2022-01-04T17:24:18.962Z"
   },
   {
    "duration": 7,
    "start_time": "2022-01-04T17:24:58.735Z"
   },
   {
    "duration": 7,
    "start_time": "2022-01-04T17:25:01.850Z"
   },
   {
    "duration": 7,
    "start_time": "2022-01-04T17:25:52.819Z"
   },
   {
    "duration": 6,
    "start_time": "2022-01-04T17:25:53.611Z"
   },
   {
    "duration": 7,
    "start_time": "2022-01-04T17:25:54.666Z"
   },
   {
    "duration": 6,
    "start_time": "2022-01-04T17:26:51.406Z"
   },
   {
    "duration": 16,
    "start_time": "2022-01-04T17:36:08.835Z"
   },
   {
    "duration": 435,
    "start_time": "2022-01-04T17:38:51.741Z"
   },
   {
    "duration": 2035,
    "start_time": "2022-01-04T17:39:15.051Z"
   },
   {
    "duration": 4,
    "start_time": "2022-01-04T17:39:37.302Z"
   },
   {
    "duration": 3,
    "start_time": "2022-01-04T17:39:38.334Z"
   },
   {
    "duration": 4,
    "start_time": "2022-01-04T17:39:38.564Z"
   },
   {
    "duration": 4,
    "start_time": "2022-01-04T17:39:38.760Z"
   },
   {
    "duration": 162,
    "start_time": "2022-01-04T17:39:39.184Z"
   },
   {
    "duration": 17,
    "start_time": "2022-01-04T17:39:39.391Z"
   },
   {
    "duration": 52,
    "start_time": "2022-01-04T17:39:39.816Z"
   },
   {
    "duration": 5083,
    "start_time": "2022-01-04T17:39:40.027Z"
   },
   {
    "duration": 274,
    "start_time": "2022-01-04T17:39:45.113Z"
   },
   {
    "duration": 15,
    "start_time": "2022-01-04T17:39:45.391Z"
   },
   {
    "duration": 48,
    "start_time": "2022-01-04T17:39:45.424Z"
   },
   {
    "duration": 4,
    "start_time": "2022-01-04T17:42:43.777Z"
   },
   {
    "duration": 4,
    "start_time": "2022-01-04T17:42:44.268Z"
   },
   {
    "duration": 4,
    "start_time": "2022-01-04T17:42:44.359Z"
   },
   {
    "duration": 5,
    "start_time": "2022-01-04T17:42:44.881Z"
   },
   {
    "duration": 4830,
    "start_time": "2022-01-04T17:42:59.367Z"
   },
   {
    "duration": 4,
    "start_time": "2022-01-04T17:43:04.932Z"
   },
   {
    "duration": 3,
    "start_time": "2022-01-04T17:43:05.959Z"
   },
   {
    "duration": 3,
    "start_time": "2022-01-04T17:43:06.219Z"
   },
   {
    "duration": 3,
    "start_time": "2022-01-04T17:43:06.474Z"
   },
   {
    "duration": 5,
    "start_time": "2022-01-04T17:43:06.732Z"
   },
   {
    "duration": 158,
    "start_time": "2022-01-04T17:43:07.285Z"
   },
   {
    "duration": 16,
    "start_time": "2022-01-04T17:43:07.547Z"
   },
   {
    "duration": 50,
    "start_time": "2022-01-04T17:43:08.021Z"
   },
   {
    "duration": 4809,
    "start_time": "2022-01-04T17:43:08.284Z"
   },
   {
    "duration": 205,
    "start_time": "2022-01-04T17:43:13.095Z"
   },
   {
    "duration": 4787,
    "start_time": "2022-01-04T17:43:29.346Z"
   },
   {
    "duration": 4864,
    "start_time": "2022-01-04T17:43:55.862Z"
   },
   {
    "duration": 322,
    "start_time": "2022-01-04T17:59:43.024Z"
   },
   {
    "duration": 286,
    "start_time": "2022-01-04T17:59:46.871Z"
   },
   {
    "duration": 4,
    "start_time": "2022-01-04T17:59:54.813Z"
   },
   {
    "duration": 330,
    "start_time": "2022-01-04T18:00:58.211Z"
   },
   {
    "duration": 281,
    "start_time": "2022-01-04T18:01:49.525Z"
   },
   {
    "duration": 4,
    "start_time": "2022-01-04T18:01:53.273Z"
   },
   {
    "duration": 5,
    "start_time": "2022-01-04T18:02:35.065Z"
   },
   {
    "duration": 4,
    "start_time": "2022-01-04T18:03:28.894Z"
   },
   {
    "duration": 4,
    "start_time": "2022-01-04T18:03:35.217Z"
   },
   {
    "duration": 5,
    "start_time": "2022-01-04T18:06:16.677Z"
   },
   {
    "duration": 5,
    "start_time": "2022-01-04T18:06:19.698Z"
   },
   {
    "duration": 5,
    "start_time": "2022-01-04T18:07:33.642Z"
   },
   {
    "duration": 32,
    "start_time": "2022-01-04T18:07:39.888Z"
   },
   {
    "duration": 5,
    "start_time": "2022-01-04T18:07:54.627Z"
   },
   {
    "duration": 287,
    "start_time": "2022-01-04T18:09:04.699Z"
   },
   {
    "duration": 323,
    "start_time": "2022-01-04T18:09:15.948Z"
   },
   {
    "duration": 6,
    "start_time": "2022-01-04T18:09:35.601Z"
   },
   {
    "duration": 300,
    "start_time": "2022-01-04T18:09:43.950Z"
   },
   {
    "duration": 8,
    "start_time": "2022-01-04T18:09:51.465Z"
   },
   {
    "duration": 8,
    "start_time": "2022-01-04T18:10:40.641Z"
   },
   {
    "duration": 9,
    "start_time": "2022-01-04T18:11:13.716Z"
   },
   {
    "duration": 4,
    "start_time": "2022-01-04T18:14:57.396Z"
   },
   {
    "duration": 3,
    "start_time": "2022-01-04T18:16:19.218Z"
   },
   {
    "duration": 9,
    "start_time": "2022-01-04T18:16:20.205Z"
   },
   {
    "duration": 12,
    "start_time": "2022-01-04T18:16:29.352Z"
   },
   {
    "duration": 12,
    "start_time": "2022-01-04T18:16:40.247Z"
   },
   {
    "duration": 4,
    "start_time": "2022-01-04T18:17:07.397Z"
   },
   {
    "duration": 4,
    "start_time": "2022-01-04T18:17:08.209Z"
   },
   {
    "duration": 4,
    "start_time": "2022-01-04T18:17:08.725Z"
   },
   {
    "duration": 4,
    "start_time": "2022-01-04T18:17:08.762Z"
   },
   {
    "duration": 5,
    "start_time": "2022-01-04T18:17:08.806Z"
   },
   {
    "duration": 157,
    "start_time": "2022-01-04T18:17:08.893Z"
   },
   {
    "duration": 21,
    "start_time": "2022-01-04T18:17:09.053Z"
   },
   {
    "duration": 85,
    "start_time": "2022-01-04T18:17:09.077Z"
   },
   {
    "duration": 5071,
    "start_time": "2022-01-04T18:17:09.165Z"
   },
   {
    "duration": 163,
    "start_time": "2022-01-04T18:17:14.239Z"
   },
   {
    "duration": 27,
    "start_time": "2022-01-04T18:17:14.405Z"
   },
   {
    "duration": 50,
    "start_time": "2022-01-04T18:17:14.435Z"
   },
   {
    "duration": 4818,
    "start_time": "2022-01-04T18:17:14.488Z"
   },
   {
    "duration": 164,
    "start_time": "2022-01-04T18:17:19.310Z"
   },
   {
    "duration": 13,
    "start_time": "2022-01-04T18:17:19.477Z"
   },
   {
    "duration": 67,
    "start_time": "2022-01-04T18:17:19.493Z"
   },
   {
    "duration": 5862,
    "start_time": "2022-01-04T18:17:19.563Z"
   },
   {
    "duration": 6,
    "start_time": "2022-01-04T18:17:25.427Z"
   },
   {
    "duration": 27,
    "start_time": "2022-01-04T18:17:25.435Z"
   },
   {
    "duration": 18,
    "start_time": "2022-01-04T18:17:25.465Z"
   },
   {
    "duration": 50,
    "start_time": "2022-01-04T18:17:25.485Z"
   },
   {
    "duration": 5,
    "start_time": "2022-01-04T18:17:25.539Z"
   },
   {
    "duration": 94,
    "start_time": "2022-01-04T18:17:25.548Z"
   },
   {
    "duration": 27,
    "start_time": "2022-01-04T18:17:25.725Z"
   },
   {
    "duration": 104,
    "start_time": "2022-01-04T18:17:25.825Z"
   },
   {
    "duration": 84,
    "start_time": "2022-01-04T18:17:25.940Z"
   },
   {
    "duration": 100,
    "start_time": "2022-01-04T18:17:26.028Z"
   },
   {
    "duration": 10,
    "start_time": "2022-01-04T18:17:26.131Z"
   },
   {
    "duration": 7,
    "start_time": "2022-01-04T18:17:26.143Z"
   },
   {
    "duration": 6,
    "start_time": "2022-01-04T18:17:26.152Z"
   },
   {
    "duration": 5,
    "start_time": "2022-01-04T18:17:26.161Z"
   },
   {
    "duration": 7,
    "start_time": "2022-01-04T18:17:26.168Z"
   },
   {
    "duration": 4,
    "start_time": "2022-01-04T18:17:26.224Z"
   },
   {
    "duration": 13,
    "start_time": "2022-01-04T18:17:26.230Z"
   },
   {
    "duration": 11,
    "start_time": "2022-01-04T18:17:26.245Z"
   },
   {
    "duration": 12,
    "start_time": "2022-01-04T18:17:26.259Z"
   },
   {
    "duration": 12,
    "start_time": "2022-01-04T18:18:43.592Z"
   },
   {
    "duration": 14,
    "start_time": "2022-01-04T18:19:13.594Z"
   },
   {
    "duration": 11,
    "start_time": "2022-01-04T18:19:14.164Z"
   },
   {
    "duration": 12,
    "start_time": "2022-01-04T18:19:15.199Z"
   },
   {
    "duration": 381,
    "start_time": "2022-01-04T18:20:02.835Z"
   },
   {
    "duration": 4,
    "start_time": "2022-01-04T18:20:07.301Z"
   },
   {
    "duration": 5,
    "start_time": "2022-01-04T18:20:07.745Z"
   },
   {
    "duration": 5,
    "start_time": "2022-01-04T18:20:28.113Z"
   },
   {
    "duration": 5,
    "start_time": "2022-01-04T18:20:31.787Z"
   },
   {
    "duration": 6,
    "start_time": "2022-01-04T18:21:32.431Z"
   },
   {
    "duration": 5,
    "start_time": "2022-01-04T18:22:01.970Z"
   },
   {
    "duration": 6,
    "start_time": "2022-01-04T18:22:03.949Z"
   },
   {
    "duration": 15,
    "start_time": "2022-01-04T18:22:03.958Z"
   },
   {
    "duration": 6,
    "start_time": "2022-01-04T18:22:07.709Z"
   },
   {
    "duration": 5,
    "start_time": "2022-01-04T18:22:08.393Z"
   },
   {
    "duration": 5,
    "start_time": "2022-01-04T18:22:48.459Z"
   },
   {
    "duration": 5,
    "start_time": "2022-01-04T18:23:14.525Z"
   },
   {
    "duration": 5,
    "start_time": "2022-01-04T18:23:33.390Z"
   },
   {
    "duration": 6,
    "start_time": "2022-01-04T18:23:36.096Z"
   },
   {
    "duration": 5,
    "start_time": "2022-01-04T18:23:36.599Z"
   },
   {
    "duration": 6,
    "start_time": "2022-01-04T18:23:36.897Z"
   },
   {
    "duration": 123,
    "start_time": "2022-01-04T18:26:30.608Z"
   },
   {
    "duration": 3,
    "start_time": "2022-01-04T18:26:37.887Z"
   },
   {
    "duration": 5,
    "start_time": "2022-01-04T18:26:38.854Z"
   },
   {
    "duration": 5,
    "start_time": "2022-01-04T18:29:06.123Z"
   },
   {
    "duration": 324,
    "start_time": "2022-01-04T18:29:57.942Z"
   },
   {
    "duration": 5,
    "start_time": "2022-01-04T18:30:00.777Z"
   },
   {
    "duration": 796,
    "start_time": "2022-01-04T18:30:01.427Z"
   },
   {
    "duration": 5,
    "start_time": "2022-01-04T18:30:22.432Z"
   },
   {
    "duration": 12,
    "start_time": "2022-01-04T18:30:23.669Z"
   },
   {
    "duration": 10,
    "start_time": "2022-01-04T18:32:41.181Z"
   },
   {
    "duration": 9,
    "start_time": "2022-01-04T18:33:04.029Z"
   },
   {
    "duration": 10,
    "start_time": "2022-01-04T18:33:19.782Z"
   },
   {
    "duration": 103,
    "start_time": "2022-01-04T18:34:26.532Z"
   },
   {
    "duration": 3,
    "start_time": "2022-01-04T18:35:15.952Z"
   },
   {
    "duration": 3,
    "start_time": "2022-01-04T18:35:35.748Z"
   },
   {
    "duration": 22,
    "start_time": "2022-01-04T19:04:11.690Z"
   },
   {
    "duration": 10,
    "start_time": "2022-01-04T19:04:12.298Z"
   },
   {
    "duration": 14,
    "start_time": "2022-01-04T19:04:14.179Z"
   },
   {
    "duration": 13,
    "start_time": "2022-01-04T19:04:14.921Z"
   },
   {
    "duration": 5,
    "start_time": "2022-01-04T19:10:45.088Z"
   },
   {
    "duration": 307,
    "start_time": "2022-01-04T19:10:46.434Z"
   },
   {
    "duration": 17,
    "start_time": "2022-01-04T19:10:58.922Z"
   },
   {
    "duration": 5,
    "start_time": "2022-01-04T19:11:27.676Z"
   },
   {
    "duration": 13,
    "start_time": "2022-01-04T19:11:28.486Z"
   },
   {
    "duration": 4,
    "start_time": "2022-01-04T19:11:42.779Z"
   },
   {
    "duration": 16,
    "start_time": "2022-01-04T19:11:44.189Z"
   },
   {
    "duration": 6,
    "start_time": "2022-01-04T19:12:28.299Z"
   },
   {
    "duration": 19,
    "start_time": "2022-01-04T19:12:28.498Z"
   },
   {
    "duration": 4,
    "start_time": "2022-01-04T19:14:02.577Z"
   },
   {
    "duration": 591,
    "start_time": "2022-01-04T19:14:03.114Z"
   },
   {
    "duration": 6,
    "start_time": "2022-01-04T19:14:35.795Z"
   },
   {
    "duration": 12,
    "start_time": "2022-01-04T19:14:37.505Z"
   },
   {
    "duration": 8,
    "start_time": "2022-01-04T19:15:04.401Z"
   },
   {
    "duration": 14,
    "start_time": "2022-01-04T19:15:07.524Z"
   },
   {
    "duration": 12,
    "start_time": "2022-01-04T19:15:29.422Z"
   },
   {
    "duration": 328,
    "start_time": "2022-01-04T19:15:30.597Z"
   },
   {
    "duration": 12,
    "start_time": "2022-01-04T19:15:45.338Z"
   },
   {
    "duration": 14,
    "start_time": "2022-01-04T19:15:53.265Z"
   },
   {
    "duration": 14,
    "start_time": "2022-01-04T19:17:17.130Z"
   },
   {
    "duration": 13,
    "start_time": "2022-01-04T19:17:21.732Z"
   },
   {
    "duration": 13,
    "start_time": "2022-01-04T19:17:22.096Z"
   },
   {
    "duration": 14,
    "start_time": "2022-01-04T19:17:22.502Z"
   },
   {
    "duration": 5,
    "start_time": "2022-01-04T19:18:08.419Z"
   },
   {
    "duration": 14,
    "start_time": "2022-01-04T19:18:10.438Z"
   },
   {
    "duration": 5,
    "start_time": "2022-01-04T19:18:27.341Z"
   },
   {
    "duration": 15,
    "start_time": "2022-01-04T19:18:27.541Z"
   },
   {
    "duration": 5,
    "start_time": "2022-01-04T19:18:34.443Z"
   },
   {
    "duration": 16,
    "start_time": "2022-01-04T19:18:37.579Z"
   },
   {
    "duration": 5,
    "start_time": "2022-01-04T19:19:00.456Z"
   },
   {
    "duration": 13,
    "start_time": "2022-01-04T19:19:00.854Z"
   },
   {
    "duration": 4,
    "start_time": "2022-01-04T19:47:45.270Z"
   },
   {
    "duration": 3,
    "start_time": "2022-01-04T19:47:46.431Z"
   },
   {
    "duration": 3,
    "start_time": "2022-01-04T19:47:46.478Z"
   },
   {
    "duration": 4,
    "start_time": "2022-01-04T19:47:46.527Z"
   },
   {
    "duration": 5,
    "start_time": "2022-01-04T19:47:46.575Z"
   },
   {
    "duration": 158,
    "start_time": "2022-01-04T19:47:46.644Z"
   },
   {
    "duration": 12,
    "start_time": "2022-01-04T19:47:46.805Z"
   },
   {
    "duration": 45,
    "start_time": "2022-01-04T19:47:46.824Z"
   },
   {
    "duration": 5073,
    "start_time": "2022-01-04T19:47:46.871Z"
   },
   {
    "duration": 163,
    "start_time": "2022-01-04T19:47:51.947Z"
   },
   {
    "duration": 19,
    "start_time": "2022-01-04T19:47:52.112Z"
   },
   {
    "duration": 52,
    "start_time": "2022-01-04T19:47:52.133Z"
   },
   {
    "duration": 5914,
    "start_time": "2022-01-04T19:47:52.190Z"
   },
   {
    "duration": 223,
    "start_time": "2022-01-04T19:47:58.107Z"
   },
   {
    "duration": 20,
    "start_time": "2022-01-04T19:47:58.333Z"
   },
   {
    "duration": 85,
    "start_time": "2022-01-04T19:47:58.357Z"
   },
   {
    "duration": 6035,
    "start_time": "2022-01-04T19:47:58.445Z"
   },
   {
    "duration": 5,
    "start_time": "2022-01-04T19:48:04.483Z"
   },
   {
    "duration": 47,
    "start_time": "2022-01-04T19:48:04.490Z"
   },
   {
    "duration": 30,
    "start_time": "2022-01-04T19:48:04.539Z"
   },
   {
    "duration": 20,
    "start_time": "2022-01-04T19:48:04.573Z"
   },
   {
    "duration": 5,
    "start_time": "2022-01-04T19:48:04.622Z"
   },
   {
    "duration": 94,
    "start_time": "2022-01-04T19:48:04.630Z"
   },
   {
    "duration": 108,
    "start_time": "2022-01-04T19:48:04.727Z"
   },
   {
    "duration": 195,
    "start_time": "2022-01-04T19:48:04.840Z"
   },
   {
    "duration": 185,
    "start_time": "2022-01-04T19:48:05.043Z"
   },
   {
    "duration": 13,
    "start_time": "2022-01-04T19:48:05.231Z"
   },
   {
    "duration": 11,
    "start_time": "2022-01-04T19:48:05.247Z"
   },
   {
    "duration": 8,
    "start_time": "2022-01-04T19:48:05.261Z"
   },
   {
    "duration": 16,
    "start_time": "2022-01-04T19:48:05.271Z"
   },
   {
    "duration": 40,
    "start_time": "2022-01-04T19:48:05.289Z"
   },
   {
    "duration": 17,
    "start_time": "2022-01-04T19:48:05.332Z"
   },
   {
    "duration": 36,
    "start_time": "2022-01-04T19:48:05.352Z"
   },
   {
    "duration": 29,
    "start_time": "2022-01-04T19:48:05.390Z"
   },
   {
    "duration": 17,
    "start_time": "2022-01-04T19:48:05.421Z"
   },
   {
    "duration": 21,
    "start_time": "2022-01-04T19:48:05.441Z"
   },
   {
    "duration": 9,
    "start_time": "2022-01-04T19:48:05.465Z"
   },
   {
    "duration": 6,
    "start_time": "2022-01-04T19:52:15.532Z"
   },
   {
    "duration": 5,
    "start_time": "2022-01-04T19:53:00.462Z"
   },
   {
    "duration": 4,
    "start_time": "2022-01-04T19:53:19.330Z"
   },
   {
    "duration": 707,
    "start_time": "2022-01-04T19:53:44.786Z"
   },
   {
    "duration": 6,
    "start_time": "2022-01-04T19:54:46.619Z"
   },
   {
    "duration": 4,
    "start_time": "2022-01-04T19:55:11.641Z"
   },
   {
    "duration": 5,
    "start_time": "2022-01-04T19:55:12.036Z"
   },
   {
    "duration": 684,
    "start_time": "2022-01-04T19:55:15.148Z"
   },
   {
    "duration": 5,
    "start_time": "2022-01-04T19:55:36.907Z"
   },
   {
    "duration": 838,
    "start_time": "2022-01-04T19:55:38.030Z"
   },
   {
    "duration": 6,
    "start_time": "2022-01-04T19:55:50.559Z"
   },
   {
    "duration": 587,
    "start_time": "2022-01-04T19:55:51.824Z"
   },
   {
    "duration": 8,
    "start_time": "2022-01-04T19:55:58.311Z"
   },
   {
    "duration": 560,
    "start_time": "2022-01-04T19:55:58.904Z"
   },
   {
    "duration": 6,
    "start_time": "2022-01-04T19:57:03.548Z"
   },
   {
    "duration": 574,
    "start_time": "2022-01-04T19:57:04.676Z"
   },
   {
    "duration": 4,
    "start_time": "2022-01-04T19:57:13.386Z"
   },
   {
    "duration": 709,
    "start_time": "2022-01-04T19:57:13.888Z"
   },
   {
    "duration": 5,
    "start_time": "2022-01-04T19:57:21.987Z"
   },
   {
    "duration": 552,
    "start_time": "2022-01-04T19:57:23.055Z"
   },
   {
    "duration": 5,
    "start_time": "2022-01-04T19:57:49.371Z"
   },
   {
    "duration": 556,
    "start_time": "2022-01-04T19:57:50.627Z"
   },
   {
    "duration": 5,
    "start_time": "2022-01-04T19:58:04.203Z"
   },
   {
    "duration": 761,
    "start_time": "2022-01-04T19:58:05.058Z"
   },
   {
    "duration": 5,
    "start_time": "2022-01-04T19:58:29.867Z"
   },
   {
    "duration": 574,
    "start_time": "2022-01-04T19:58:30.464Z"
   },
   {
    "duration": 6,
    "start_time": "2022-01-04T19:59:11.682Z"
   },
   {
    "duration": 800,
    "start_time": "2022-01-04T19:59:11.956Z"
   },
   {
    "duration": 6,
    "start_time": "2022-01-04T19:59:30.259Z"
   },
   {
    "duration": 2736,
    "start_time": "2022-01-04T19:59:31.072Z"
   },
   {
    "duration": 4,
    "start_time": "2022-01-04T20:04:53.346Z"
   },
   {
    "duration": 4,
    "start_time": "2022-01-04T20:05:45.194Z"
   },
   {
    "duration": 4,
    "start_time": "2022-01-04T20:05:46.044Z"
   },
   {
    "duration": 3,
    "start_time": "2022-01-04T20:05:46.079Z"
   },
   {
    "duration": 4,
    "start_time": "2022-01-04T20:05:46.113Z"
   },
   {
    "duration": 5,
    "start_time": "2022-01-04T20:05:46.149Z"
   },
   {
    "duration": 151,
    "start_time": "2022-01-04T20:05:46.222Z"
   },
   {
    "duration": 12,
    "start_time": "2022-01-04T20:05:46.376Z"
   },
   {
    "duration": 63,
    "start_time": "2022-01-04T20:05:46.392Z"
   },
   {
    "duration": 4971,
    "start_time": "2022-01-04T20:05:46.458Z"
   },
   {
    "duration": 190,
    "start_time": "2022-01-04T20:05:51.433Z"
   },
   {
    "duration": 13,
    "start_time": "2022-01-04T20:05:51.626Z"
   },
   {
    "duration": 43,
    "start_time": "2022-01-04T20:05:51.641Z"
   },
   {
    "duration": 5157,
    "start_time": "2022-01-04T20:05:51.687Z"
   },
   {
    "duration": 162,
    "start_time": "2022-01-04T20:05:56.847Z"
   },
   {
    "duration": 24,
    "start_time": "2022-01-04T20:05:57.013Z"
   },
   {
    "duration": 51,
    "start_time": "2022-01-04T20:05:57.040Z"
   },
   {
    "duration": 4852,
    "start_time": "2022-01-04T20:05:57.094Z"
   },
   {
    "duration": 5,
    "start_time": "2022-01-04T20:06:01.948Z"
   },
   {
    "duration": 24,
    "start_time": "2022-01-04T20:06:01.956Z"
   },
   {
    "duration": 44,
    "start_time": "2022-01-04T20:06:01.983Z"
   },
   {
    "duration": 19,
    "start_time": "2022-01-04T20:06:02.029Z"
   },
   {
    "duration": 4,
    "start_time": "2022-01-04T20:06:02.053Z"
   },
   {
    "duration": 72,
    "start_time": "2022-01-04T20:06:02.060Z"
   },
   {
    "duration": 16,
    "start_time": "2022-01-04T20:06:02.229Z"
   },
   {
    "duration": 189,
    "start_time": "2022-01-04T20:06:02.248Z"
   },
   {
    "duration": 4,
    "start_time": "2022-01-04T20:06:02.440Z"
   },
   {
    "duration": 90,
    "start_time": "2022-01-04T20:06:02.447Z"
   },
   {
    "duration": 11,
    "start_time": "2022-01-04T20:06:02.624Z"
   },
   {
    "duration": 14,
    "start_time": "2022-01-04T20:06:02.637Z"
   },
   {
    "duration": 6,
    "start_time": "2022-01-04T20:06:02.653Z"
   },
   {
    "duration": 6,
    "start_time": "2022-01-04T20:06:02.662Z"
   },
   {
    "duration": 8,
    "start_time": "2022-01-04T20:06:02.671Z"
   },
   {
    "duration": 42,
    "start_time": "2022-01-04T20:06:02.681Z"
   },
   {
    "duration": 136,
    "start_time": "2022-01-04T20:06:02.726Z"
   },
   {
    "duration": 12,
    "start_time": "2022-01-04T20:06:02.864Z"
   },
   {
    "duration": 14,
    "start_time": "2022-01-04T20:06:02.878Z"
   },
   {
    "duration": 28,
    "start_time": "2022-01-04T20:06:02.895Z"
   },
   {
    "duration": 7,
    "start_time": "2022-01-04T20:06:02.925Z"
   },
   {
    "duration": 4,
    "start_time": "2022-01-04T20:09:39.900Z"
   },
   {
    "duration": 5,
    "start_time": "2022-01-04T20:11:30.903Z"
   },
   {
    "duration": 302,
    "start_time": "2022-01-04T20:12:00.611Z"
   },
   {
    "duration": 6,
    "start_time": "2022-01-04T20:12:17.350Z"
   },
   {
    "duration": 2651,
    "start_time": "2022-01-04T20:12:17.912Z"
   },
   {
    "duration": 5,
    "start_time": "2022-01-04T20:13:04.746Z"
   },
   {
    "duration": 3253,
    "start_time": "2022-01-04T20:13:06.519Z"
   },
   {
    "duration": 5,
    "start_time": "2022-01-04T20:13:49.587Z"
   },
   {
    "duration": 2587,
    "start_time": "2022-01-04T20:13:50.815Z"
   },
   {
    "duration": 5,
    "start_time": "2022-01-04T20:14:12.354Z"
   },
   {
    "duration": 2659,
    "start_time": "2022-01-04T20:14:13.117Z"
   },
   {
    "duration": 13,
    "start_time": "2022-01-04T20:16:03.438Z"
   },
   {
    "duration": 2588,
    "start_time": "2022-01-04T20:16:03.738Z"
   },
   {
    "duration": 5,
    "start_time": "2022-01-04T20:17:07.837Z"
   },
   {
    "duration": 2835,
    "start_time": "2022-01-04T20:17:08.888Z"
   },
   {
    "duration": 5,
    "start_time": "2022-01-04T20:17:24.758Z"
   },
   {
    "duration": 6,
    "start_time": "2022-01-04T20:17:35.827Z"
   },
   {
    "duration": 2578,
    "start_time": "2022-01-04T20:17:36.154Z"
   },
   {
    "duration": 5,
    "start_time": "2022-01-04T20:18:06.883Z"
   },
   {
    "duration": 2651,
    "start_time": "2022-01-04T20:18:08.072Z"
   },
   {
    "duration": 6,
    "start_time": "2022-01-04T20:18:37.354Z"
   },
   {
    "duration": 2789,
    "start_time": "2022-01-04T20:18:38.335Z"
   },
   {
    "duration": 6,
    "start_time": "2022-01-04T20:18:48.551Z"
   },
   {
    "duration": 2598,
    "start_time": "2022-01-04T20:18:49.133Z"
   },
   {
    "duration": 5,
    "start_time": "2022-01-04T20:19:21.643Z"
   },
   {
    "duration": 3301,
    "start_time": "2022-01-04T20:19:22.555Z"
   },
   {
    "duration": 5,
    "start_time": "2022-01-04T20:19:55.893Z"
   },
   {
    "duration": 5,
    "start_time": "2022-01-04T20:19:59.587Z"
   },
   {
    "duration": 2643,
    "start_time": "2022-01-04T20:19:59.782Z"
   },
   {
    "duration": 6,
    "start_time": "2022-01-04T20:20:09.986Z"
   },
   {
    "duration": 2709,
    "start_time": "2022-01-04T20:20:12.717Z"
   },
   {
    "duration": 6,
    "start_time": "2022-01-04T20:20:21.850Z"
   },
   {
    "duration": 5,
    "start_time": "2022-01-04T20:20:47.039Z"
   },
   {
    "duration": 2542,
    "start_time": "2022-01-04T20:20:47.271Z"
   },
   {
    "duration": 5,
    "start_time": "2022-01-04T20:21:06.900Z"
   },
   {
    "duration": 2669,
    "start_time": "2022-01-04T20:21:07.114Z"
   },
   {
    "duration": 6,
    "start_time": "2022-01-04T20:21:11.938Z"
   },
   {
    "duration": 2693,
    "start_time": "2022-01-04T20:21:12.110Z"
   },
   {
    "duration": 4,
    "start_time": "2022-01-04T20:21:20.816Z"
   },
   {
    "duration": 4,
    "start_time": "2022-01-04T20:21:21.669Z"
   },
   {
    "duration": 4,
    "start_time": "2022-01-04T20:21:21.702Z"
   },
   {
    "duration": 4,
    "start_time": "2022-01-04T20:21:21.740Z"
   },
   {
    "duration": 6,
    "start_time": "2022-01-04T20:21:21.782Z"
   },
   {
    "duration": 154,
    "start_time": "2022-01-04T20:21:21.882Z"
   },
   {
    "duration": 14,
    "start_time": "2022-01-04T20:21:22.038Z"
   },
   {
    "duration": 70,
    "start_time": "2022-01-04T20:21:22.055Z"
   },
   {
    "duration": 4888,
    "start_time": "2022-01-04T20:21:22.127Z"
   },
   {
    "duration": 163,
    "start_time": "2022-01-04T20:21:27.018Z"
   },
   {
    "duration": 17,
    "start_time": "2022-01-04T20:21:27.184Z"
   },
   {
    "duration": 49,
    "start_time": "2022-01-04T20:21:27.222Z"
   },
   {
    "duration": 4787,
    "start_time": "2022-01-04T20:21:27.275Z"
   },
   {
    "duration": 163,
    "start_time": "2022-01-04T20:21:32.065Z"
   },
   {
    "duration": 14,
    "start_time": "2022-01-04T20:21:32.230Z"
   },
   {
    "duration": 46,
    "start_time": "2022-01-04T20:21:32.246Z"
   },
   {
    "duration": 4724,
    "start_time": "2022-01-04T20:21:32.295Z"
   },
   {
    "duration": 6,
    "start_time": "2022-01-04T20:21:37.021Z"
   },
   {
    "duration": 43,
    "start_time": "2022-01-04T20:21:37.029Z"
   },
   {
    "duration": 19,
    "start_time": "2022-01-04T20:21:37.075Z"
   },
   {
    "duration": 34,
    "start_time": "2022-01-04T20:21:37.097Z"
   },
   {
    "duration": 4,
    "start_time": "2022-01-04T20:21:37.135Z"
   },
   {
    "duration": 21,
    "start_time": "2022-01-04T20:21:37.142Z"
   },
   {
    "duration": 105,
    "start_time": "2022-01-04T20:21:37.224Z"
   },
   {
    "duration": 192,
    "start_time": "2022-01-04T20:21:37.332Z"
   },
   {
    "duration": 100,
    "start_time": "2022-01-04T20:21:37.527Z"
   },
   {
    "duration": 5,
    "start_time": "2022-01-04T20:21:37.629Z"
   },
   {
    "duration": 8,
    "start_time": "2022-01-04T20:21:37.637Z"
   },
   {
    "duration": 7,
    "start_time": "2022-01-04T20:21:37.648Z"
   },
   {
    "duration": 8,
    "start_time": "2022-01-04T20:21:37.657Z"
   },
   {
    "duration": 6,
    "start_time": "2022-01-04T20:21:37.667Z"
   },
   {
    "duration": 51,
    "start_time": "2022-01-04T20:21:37.676Z"
   },
   {
    "duration": 6,
    "start_time": "2022-01-04T20:21:37.729Z"
   },
   {
    "duration": 14,
    "start_time": "2022-01-04T20:21:37.738Z"
   },
   {
    "duration": 11,
    "start_time": "2022-01-04T20:21:37.754Z"
   },
   {
    "duration": 57,
    "start_time": "2022-01-04T20:21:37.767Z"
   },
   {
    "duration": 4,
    "start_time": "2022-01-04T20:21:37.826Z"
   },
   {
    "duration": 9,
    "start_time": "2022-01-04T20:21:37.833Z"
   },
   {
    "duration": 10,
    "start_time": "2022-01-04T20:21:37.844Z"
   },
   {
    "duration": 2648,
    "start_time": "2022-01-04T20:21:37.856Z"
   },
   {
    "duration": 4,
    "start_time": "2022-01-04T20:21:56.951Z"
   },
   {
    "duration": 3,
    "start_time": "2022-01-04T20:21:57.588Z"
   },
   {
    "duration": 3,
    "start_time": "2022-01-04T20:21:57.623Z"
   },
   {
    "duration": 3,
    "start_time": "2022-01-04T20:21:57.668Z"
   },
   {
    "duration": 6,
    "start_time": "2022-01-04T20:21:57.715Z"
   },
   {
    "duration": 155,
    "start_time": "2022-01-04T20:21:57.782Z"
   },
   {
    "duration": 14,
    "start_time": "2022-01-04T20:21:57.939Z"
   },
   {
    "duration": 69,
    "start_time": "2022-01-04T20:21:57.956Z"
   },
   {
    "duration": 4902,
    "start_time": "2022-01-04T20:21:58.027Z"
   },
   {
    "duration": 170,
    "start_time": "2022-01-04T20:22:02.932Z"
   },
   {
    "duration": 20,
    "start_time": "2022-01-04T20:22:03.104Z"
   },
   {
    "duration": 46,
    "start_time": "2022-01-04T20:22:03.126Z"
   },
   {
    "duration": 4841,
    "start_time": "2022-01-04T20:22:03.175Z"
   },
   {
    "duration": 161,
    "start_time": "2022-01-04T20:22:08.021Z"
   },
   {
    "duration": 15,
    "start_time": "2022-01-04T20:22:08.185Z"
   },
   {
    "duration": 65,
    "start_time": "2022-01-04T20:22:08.202Z"
   },
   {
    "duration": 5041,
    "start_time": "2022-01-04T20:22:08.269Z"
   },
   {
    "duration": 6,
    "start_time": "2022-01-04T20:22:13.324Z"
   },
   {
    "duration": 22,
    "start_time": "2022-01-04T20:22:13.332Z"
   },
   {
    "duration": 19,
    "start_time": "2022-01-04T20:22:13.357Z"
   },
   {
    "duration": 53,
    "start_time": "2022-01-04T20:22:13.379Z"
   },
   {
    "duration": 4,
    "start_time": "2022-01-04T20:22:13.434Z"
   },
   {
    "duration": 86,
    "start_time": "2022-01-04T20:22:13.440Z"
   },
   {
    "duration": 103,
    "start_time": "2022-01-04T20:22:13.529Z"
   },
   {
    "duration": 189,
    "start_time": "2022-01-04T20:22:13.635Z"
   },
   {
    "duration": 94,
    "start_time": "2022-01-04T20:22:13.832Z"
   },
   {
    "duration": 16,
    "start_time": "2022-01-04T20:22:13.929Z"
   },
   {
    "duration": 15,
    "start_time": "2022-01-04T20:22:13.948Z"
   },
   {
    "duration": 8,
    "start_time": "2022-01-04T20:22:13.966Z"
   },
   {
    "duration": 10,
    "start_time": "2022-01-04T20:22:13.977Z"
   },
   {
    "duration": 36,
    "start_time": "2022-01-04T20:22:13.989Z"
   },
   {
    "duration": 13,
    "start_time": "2022-01-04T20:22:14.027Z"
   },
   {
    "duration": 10,
    "start_time": "2022-01-04T20:22:14.042Z"
   },
   {
    "duration": 19,
    "start_time": "2022-01-04T20:22:14.054Z"
   },
   {
    "duration": 11,
    "start_time": "2022-01-04T20:22:14.075Z"
   },
   {
    "duration": 39,
    "start_time": "2022-01-04T20:22:14.088Z"
   },
   {
    "duration": 4,
    "start_time": "2022-01-04T20:22:14.129Z"
   },
   {
    "duration": 11,
    "start_time": "2022-01-04T20:22:14.135Z"
   },
   {
    "duration": 6,
    "start_time": "2022-01-04T20:22:14.148Z"
   },
   {
    "duration": 2713,
    "start_time": "2022-01-04T20:22:14.157Z"
   },
   {
    "duration": 2618,
    "start_time": "2022-01-04T20:22:31.006Z"
   },
   {
    "duration": 2602,
    "start_time": "2022-01-04T20:22:40.489Z"
   },
   {
    "duration": 5,
    "start_time": "2022-01-04T20:26:35.105Z"
   },
   {
    "duration": 4,
    "start_time": "2022-01-04T20:26:35.972Z"
   },
   {
    "duration": 4,
    "start_time": "2022-01-04T20:26:36.021Z"
   },
   {
    "duration": 3,
    "start_time": "2022-01-04T20:26:36.067Z"
   },
   {
    "duration": 5,
    "start_time": "2022-01-04T20:26:36.109Z"
   },
   {
    "duration": 153,
    "start_time": "2022-01-04T20:26:36.179Z"
   },
   {
    "duration": 13,
    "start_time": "2022-01-04T20:26:36.335Z"
   },
   {
    "duration": 46,
    "start_time": "2022-01-04T20:26:36.351Z"
   },
   {
    "duration": 4902,
    "start_time": "2022-01-04T20:26:36.424Z"
   },
   {
    "duration": 156,
    "start_time": "2022-01-04T20:26:41.328Z"
   },
   {
    "duration": 13,
    "start_time": "2022-01-04T20:26:41.487Z"
   },
   {
    "duration": 60,
    "start_time": "2022-01-04T20:26:41.503Z"
   },
   {
    "duration": 4824,
    "start_time": "2022-01-04T20:26:41.567Z"
   },
   {
    "duration": 157,
    "start_time": "2022-01-04T20:26:46.394Z"
   },
   {
    "duration": 13,
    "start_time": "2022-01-04T20:26:46.554Z"
   },
   {
    "duration": 65,
    "start_time": "2022-01-04T20:26:46.569Z"
   },
   {
    "duration": 4769,
    "start_time": "2022-01-04T20:26:46.636Z"
   },
   {
    "duration": 5,
    "start_time": "2022-01-04T20:26:51.407Z"
   },
   {
    "duration": 27,
    "start_time": "2022-01-04T20:26:51.414Z"
   },
   {
    "duration": 19,
    "start_time": "2022-01-04T20:26:51.443Z"
   },
   {
    "duration": 18,
    "start_time": "2022-01-04T20:26:51.465Z"
   },
   {
    "duration": 4,
    "start_time": "2022-01-04T20:26:51.524Z"
   },
   {
    "duration": 92,
    "start_time": "2022-01-04T20:26:51.531Z"
   },
   {
    "duration": 102,
    "start_time": "2022-01-04T20:26:51.627Z"
   },
   {
    "duration": 95,
    "start_time": "2022-01-04T20:26:51.733Z"
   },
   {
    "duration": 99,
    "start_time": "2022-01-04T20:26:51.832Z"
   },
   {
    "duration": 5,
    "start_time": "2022-01-04T20:26:52.025Z"
   },
   {
    "duration": 9,
    "start_time": "2022-01-04T20:26:52.032Z"
   },
   {
    "duration": 8,
    "start_time": "2022-01-04T20:26:52.043Z"
   },
   {
    "duration": 7,
    "start_time": "2022-01-04T20:26:52.053Z"
   },
   {
    "duration": 4,
    "start_time": "2022-01-04T20:26:52.063Z"
   },
   {
    "duration": 54,
    "start_time": "2022-01-04T20:26:52.070Z"
   },
   {
    "duration": 5,
    "start_time": "2022-01-04T20:26:52.127Z"
   },
   {
    "duration": 18,
    "start_time": "2022-01-04T20:26:52.135Z"
   },
   {
    "duration": 10,
    "start_time": "2022-01-04T20:26:52.155Z"
   },
   {
    "duration": 11,
    "start_time": "2022-01-04T20:26:52.168Z"
   },
   {
    "duration": 44,
    "start_time": "2022-01-04T20:26:52.181Z"
   },
   {
    "duration": 6,
    "start_time": "2022-01-04T20:26:52.228Z"
   },
   {
    "duration": 11,
    "start_time": "2022-01-04T20:26:52.237Z"
   },
   {
    "duration": 2608,
    "start_time": "2022-01-04T20:26:52.250Z"
   },
   {
    "duration": 2605,
    "start_time": "2022-01-04T20:26:54.860Z"
   },
   {
    "duration": 2634,
    "start_time": "2022-01-04T20:26:57.468Z"
   },
   {
    "duration": 104,
    "start_time": "2022-01-05T08:32:41.353Z"
   },
   {
    "duration": 1421,
    "start_time": "2022-01-05T08:33:31.780Z"
   },
   {
    "duration": 4,
    "start_time": "2022-01-05T08:33:35.011Z"
   },
   {
    "duration": 3,
    "start_time": "2022-01-05T08:33:35.049Z"
   },
   {
    "duration": 3,
    "start_time": "2022-01-05T08:33:35.102Z"
   },
   {
    "duration": 6,
    "start_time": "2022-01-05T08:33:35.150Z"
   },
   {
    "duration": 175,
    "start_time": "2022-01-05T08:33:35.217Z"
   },
   {
    "duration": 17,
    "start_time": "2022-01-05T08:33:35.395Z"
   },
   {
    "duration": 85,
    "start_time": "2022-01-05T08:33:35.416Z"
   },
   {
    "duration": 5125,
    "start_time": "2022-01-05T08:33:35.504Z"
   },
   {
    "duration": 175,
    "start_time": "2022-01-05T08:33:40.631Z"
   },
   {
    "duration": 13,
    "start_time": "2022-01-05T08:33:40.809Z"
   },
   {
    "duration": 75,
    "start_time": "2022-01-05T08:33:40.825Z"
   },
   {
    "duration": 5253,
    "start_time": "2022-01-05T08:33:40.902Z"
   },
   {
    "duration": 178,
    "start_time": "2022-01-05T08:33:46.158Z"
   },
   {
    "duration": 32,
    "start_time": "2022-01-05T08:33:46.338Z"
   },
   {
    "duration": 48,
    "start_time": "2022-01-05T08:33:46.373Z"
   },
   {
    "duration": 5090,
    "start_time": "2022-01-05T08:33:46.424Z"
   },
   {
    "duration": 5,
    "start_time": "2022-01-05T08:33:51.518Z"
   },
   {
    "duration": 41,
    "start_time": "2022-01-05T08:33:51.526Z"
   },
   {
    "duration": 23,
    "start_time": "2022-01-05T08:33:51.570Z"
   },
   {
    "duration": 22,
    "start_time": "2022-01-05T08:33:51.596Z"
   },
   {
    "duration": 4,
    "start_time": "2022-01-05T08:33:51.620Z"
   },
   {
    "duration": 59,
    "start_time": "2022-01-05T08:33:51.627Z"
   },
   {
    "duration": 107,
    "start_time": "2022-01-05T08:33:51.769Z"
   },
   {
    "duration": 91,
    "start_time": "2022-01-05T08:33:51.879Z"
   },
   {
    "duration": 95,
    "start_time": "2022-01-05T08:33:51.974Z"
   },
   {
    "duration": 99,
    "start_time": "2022-01-05T08:33:52.073Z"
   },
   {
    "duration": 13,
    "start_time": "2022-01-05T08:33:52.175Z"
   },
   {
    "duration": 11,
    "start_time": "2022-01-05T08:33:52.190Z"
   },
   {
    "duration": 14,
    "start_time": "2022-01-05T08:33:52.203Z"
   },
   {
    "duration": 569,
    "start_time": "2022-01-05T08:33:52.219Z"
   },
   {
    "duration": 981,
    "start_time": "2022-01-05T08:33:51.810Z"
   },
   {
    "duration": 970,
    "start_time": "2022-01-05T08:33:51.822Z"
   },
   {
    "duration": 967,
    "start_time": "2022-01-05T08:33:51.827Z"
   },
   {
    "duration": 957,
    "start_time": "2022-01-05T08:33:51.838Z"
   },
   {
    "duration": 5,
    "start_time": "2022-01-05T08:39:02.443Z"
   },
   {
    "duration": 619,
    "start_time": "2022-01-05T08:39:03.776Z"
   },
   {
    "duration": 287,
    "start_time": "2022-01-05T08:39:14.395Z"
   },
   {
    "duration": 5,
    "start_time": "2022-01-05T08:39:15.078Z"
   },
   {
    "duration": 6,
    "start_time": "2022-01-05T08:39:17.140Z"
   },
   {
    "duration": 11,
    "start_time": "2022-01-05T08:39:17.585Z"
   },
   {
    "duration": 12,
    "start_time": "2022-01-05T08:39:17.829Z"
   },
   {
    "duration": 11,
    "start_time": "2022-01-05T08:39:18.055Z"
   },
   {
    "duration": 5,
    "start_time": "2022-01-05T08:39:19.213Z"
   },
   {
    "duration": 6,
    "start_time": "2022-01-05T08:39:19.560Z"
   },
   {
    "duration": 5,
    "start_time": "2022-01-05T08:39:20.270Z"
   },
   {
    "duration": 2646,
    "start_time": "2022-01-05T08:39:21.255Z"
   },
   {
    "duration": 6,
    "start_time": "2022-01-05T08:39:52.077Z"
   },
   {
    "duration": 2652,
    "start_time": "2022-01-05T08:39:54.650Z"
   },
   {
    "duration": 6,
    "start_time": "2022-01-05T08:42:07.553Z"
   },
   {
    "duration": 2654,
    "start_time": "2022-01-05T08:42:10.932Z"
   },
   {
    "duration": 5,
    "start_time": "2022-01-05T08:42:36.011Z"
   },
   {
    "duration": 4,
    "start_time": "2022-01-05T08:42:36.685Z"
   },
   {
    "duration": 3,
    "start_time": "2022-01-05T08:42:36.722Z"
   },
   {
    "duration": 4,
    "start_time": "2022-01-05T08:42:36.765Z"
   },
   {
    "duration": 5,
    "start_time": "2022-01-05T08:42:36.813Z"
   },
   {
    "duration": 177,
    "start_time": "2022-01-05T08:42:36.897Z"
   },
   {
    "duration": 16,
    "start_time": "2022-01-05T08:42:37.076Z"
   },
   {
    "duration": 76,
    "start_time": "2022-01-05T08:42:37.095Z"
   },
   {
    "duration": 5161,
    "start_time": "2022-01-05T08:42:37.174Z"
   },
   {
    "duration": 169,
    "start_time": "2022-01-05T08:42:42.337Z"
   },
   {
    "duration": 14,
    "start_time": "2022-01-05T08:42:42.509Z"
   },
   {
    "duration": 68,
    "start_time": "2022-01-05T08:42:42.525Z"
   },
   {
    "duration": 5147,
    "start_time": "2022-01-05T08:42:42.596Z"
   },
   {
    "duration": 171,
    "start_time": "2022-01-05T08:42:47.746Z"
   },
   {
    "duration": 13,
    "start_time": "2022-01-05T08:42:47.920Z"
   },
   {
    "duration": 67,
    "start_time": "2022-01-05T08:42:47.936Z"
   },
   {
    "duration": 5163,
    "start_time": "2022-01-05T08:42:48.006Z"
   },
   {
    "duration": 6,
    "start_time": "2022-01-05T08:42:53.171Z"
   },
   {
    "duration": 24,
    "start_time": "2022-01-05T08:42:53.179Z"
   },
   {
    "duration": 22,
    "start_time": "2022-01-05T08:42:53.205Z"
   },
   {
    "duration": 54,
    "start_time": "2022-01-05T08:42:53.229Z"
   },
   {
    "duration": 4,
    "start_time": "2022-01-05T08:42:53.288Z"
   },
   {
    "duration": 70,
    "start_time": "2022-01-05T08:42:53.296Z"
   },
   {
    "duration": 98,
    "start_time": "2022-01-05T08:42:53.370Z"
   },
   {
    "duration": 95,
    "start_time": "2022-01-05T08:42:53.474Z"
   },
   {
    "duration": 5,
    "start_time": "2022-01-05T08:42:53.668Z"
   },
   {
    "duration": 92,
    "start_time": "2022-01-05T08:42:53.677Z"
   },
   {
    "duration": 13,
    "start_time": "2022-01-05T08:42:53.771Z"
   },
   {
    "duration": 6,
    "start_time": "2022-01-05T08:42:53.787Z"
   },
   {
    "duration": 8,
    "start_time": "2022-01-05T08:42:53.795Z"
   },
   {
    "duration": 276,
    "start_time": "2022-01-05T08:42:53.805Z"
   },
   {
    "duration": 978,
    "start_time": "2022-01-05T08:42:53.105Z"
   },
   {
    "duration": 975,
    "start_time": "2022-01-05T08:42:53.110Z"
   },
   {
    "duration": 971,
    "start_time": "2022-01-05T08:42:53.116Z"
   },
   {
    "duration": 968,
    "start_time": "2022-01-05T08:42:53.120Z"
   },
   {
    "duration": 967,
    "start_time": "2022-01-05T08:42:53.123Z"
   },
   {
    "duration": 966,
    "start_time": "2022-01-05T08:42:53.126Z"
   },
   {
    "duration": 964,
    "start_time": "2022-01-05T08:42:53.130Z"
   },
   {
    "duration": 962,
    "start_time": "2022-01-05T08:42:53.133Z"
   },
   {
    "duration": 961,
    "start_time": "2022-01-05T08:42:53.136Z"
   },
   {
    "duration": 959,
    "start_time": "2022-01-05T08:42:53.139Z"
   },
   {
    "duration": 958,
    "start_time": "2022-01-05T08:42:53.142Z"
   },
   {
    "duration": 5,
    "start_time": "2022-01-05T08:43:49.311Z"
   },
   {
    "duration": 5,
    "start_time": "2022-01-05T08:43:55.424Z"
   },
   {
    "duration": 5,
    "start_time": "2022-01-05T08:43:57.727Z"
   },
   {
    "duration": 11,
    "start_time": "2022-01-05T08:43:58.658Z"
   },
   {
    "duration": 16,
    "start_time": "2022-01-05T08:43:59.998Z"
   },
   {
    "duration": 12,
    "start_time": "2022-01-05T08:44:01.028Z"
   },
   {
    "duration": 4,
    "start_time": "2022-01-05T08:44:02.497Z"
   },
   {
    "duration": 5,
    "start_time": "2022-01-05T08:44:03.007Z"
   },
   {
    "duration": 5,
    "start_time": "2022-01-05T08:44:03.654Z"
   },
   {
    "duration": 2684,
    "start_time": "2022-01-05T08:44:05.100Z"
   },
   {
    "duration": 2713,
    "start_time": "2022-01-05T08:44:07.786Z"
   },
   {
    "duration": 2681,
    "start_time": "2022-01-05T08:44:10.502Z"
   },
   {
    "duration": 5,
    "start_time": "2022-01-05T08:47:15.443Z"
   },
   {
    "duration": 3230,
    "start_time": "2022-01-05T08:47:16.784Z"
   },
   {
    "duration": 1111,
    "start_time": "2022-01-05T08:47:18.905Z"
   },
   {
    "duration": 1102,
    "start_time": "2022-01-05T08:47:18.916Z"
   },
   {
    "duration": 5,
    "start_time": "2022-01-05T08:47:41.949Z"
   },
   {
    "duration": 2718,
    "start_time": "2022-01-05T08:47:42.659Z"
   },
   {
    "duration": 2693,
    "start_time": "2022-01-05T08:47:45.380Z"
   },
   {
    "duration": 2705,
    "start_time": "2022-01-05T08:47:48.076Z"
   },
   {
    "duration": 5,
    "start_time": "2022-01-05T08:48:21.283Z"
   },
   {
    "duration": 2647,
    "start_time": "2022-01-05T08:48:22.278Z"
   },
   {
    "duration": 2758,
    "start_time": "2022-01-05T08:48:42.863Z"
   },
   {
    "duration": 5,
    "start_time": "2022-01-05T08:48:56.310Z"
   },
   {
    "duration": 3,
    "start_time": "2022-01-05T08:48:57.296Z"
   },
   {
    "duration": 4,
    "start_time": "2022-01-05T08:48:57.325Z"
   },
   {
    "duration": 4,
    "start_time": "2022-01-05T08:48:57.366Z"
   },
   {
    "duration": 5,
    "start_time": "2022-01-05T08:48:57.407Z"
   },
   {
    "duration": 169,
    "start_time": "2022-01-05T08:48:57.505Z"
   },
   {
    "duration": 14,
    "start_time": "2022-01-05T08:48:57.677Z"
   },
   {
    "duration": 72,
    "start_time": "2022-01-05T08:48:57.694Z"
   },
   {
    "duration": 5223,
    "start_time": "2022-01-05T08:48:57.769Z"
   },
   {
    "duration": 186,
    "start_time": "2022-01-05T08:49:02.995Z"
   },
   {
    "duration": 14,
    "start_time": "2022-01-05T08:49:03.184Z"
   },
   {
    "duration": 70,
    "start_time": "2022-01-05T08:49:03.201Z"
   },
   {
    "duration": 5108,
    "start_time": "2022-01-05T08:49:03.275Z"
   },
   {
    "duration": 183,
    "start_time": "2022-01-05T08:49:08.386Z"
   },
   {
    "duration": 14,
    "start_time": "2022-01-05T08:49:08.571Z"
   },
   {
    "duration": 50,
    "start_time": "2022-01-05T08:49:08.587Z"
   },
   {
    "duration": 5144,
    "start_time": "2022-01-05T08:49:08.640Z"
   },
   {
    "duration": 5,
    "start_time": "2022-01-05T08:49:13.786Z"
   },
   {
    "duration": 28,
    "start_time": "2022-01-05T08:49:13.794Z"
   },
   {
    "duration": 20,
    "start_time": "2022-01-05T08:49:13.824Z"
   },
   {
    "duration": 19,
    "start_time": "2022-01-05T08:49:13.868Z"
   },
   {
    "duration": 4,
    "start_time": "2022-01-05T08:49:13.892Z"
   },
   {
    "duration": 72,
    "start_time": "2022-01-05T08:49:13.898Z"
   },
   {
    "duration": 103,
    "start_time": "2022-01-05T08:49:13.974Z"
   },
   {
    "duration": 190,
    "start_time": "2022-01-05T08:49:14.081Z"
   },
   {
    "duration": 4,
    "start_time": "2022-01-05T08:49:14.275Z"
   },
   {
    "duration": 94,
    "start_time": "2022-01-05T08:49:14.374Z"
   },
   {
    "duration": 8,
    "start_time": "2022-01-05T08:49:14.470Z"
   },
   {
    "duration": 7,
    "start_time": "2022-01-05T08:49:14.480Z"
   },
   {
    "duration": 9,
    "start_time": "2022-01-05T08:49:14.490Z"
   },
   {
    "duration": 8,
    "start_time": "2022-01-05T08:49:14.502Z"
   },
   {
    "duration": 60,
    "start_time": "2022-01-05T08:49:14.513Z"
   },
   {
    "duration": 159,
    "start_time": "2022-01-05T08:49:14.576Z"
   },
   {
    "duration": 13,
    "start_time": "2022-01-05T08:49:14.738Z"
   },
   {
    "duration": 13,
    "start_time": "2022-01-05T08:49:14.768Z"
   },
   {
    "duration": 12,
    "start_time": "2022-01-05T08:49:14.783Z"
   },
   {
    "duration": 5,
    "start_time": "2022-01-05T08:49:14.797Z"
   },
   {
    "duration": 8,
    "start_time": "2022-01-05T08:49:14.804Z"
   },
   {
    "duration": 10,
    "start_time": "2022-01-05T08:49:14.814Z"
   },
   {
    "duration": 2718,
    "start_time": "2022-01-05T08:49:14.826Z"
   },
   {
    "duration": 2695,
    "start_time": "2022-01-05T08:49:17.546Z"
   },
   {
    "duration": 2677,
    "start_time": "2022-01-05T08:49:20.243Z"
   },
   {
    "duration": 5,
    "start_time": "2022-01-05T08:50:17.349Z"
   },
   {
    "duration": 6,
    "start_time": "2022-01-05T08:50:17.357Z"
   },
   {
    "duration": 9,
    "start_time": "2022-01-05T08:50:17.366Z"
   },
   {
    "duration": 5,
    "start_time": "2022-01-05T08:50:17.378Z"
   },
   {
    "duration": 10,
    "start_time": "2022-01-05T08:50:17.385Z"
   },
   {
    "duration": 175,
    "start_time": "2022-01-05T08:50:17.398Z"
   },
   {
    "duration": 14,
    "start_time": "2022-01-05T08:50:17.575Z"
   },
   {
    "duration": 49,
    "start_time": "2022-01-05T08:50:17.591Z"
   },
   {
    "duration": 5224,
    "start_time": "2022-01-05T08:50:17.668Z"
   },
   {
    "duration": 168,
    "start_time": "2022-01-05T08:50:22.895Z"
   },
   {
    "duration": 14,
    "start_time": "2022-01-05T08:50:23.066Z"
   },
   {
    "duration": 47,
    "start_time": "2022-01-05T08:50:23.083Z"
   },
   {
    "duration": 5059,
    "start_time": "2022-01-05T08:50:23.132Z"
   },
   {
    "duration": 170,
    "start_time": "2022-01-05T08:50:28.193Z"
   },
   {
    "duration": 15,
    "start_time": "2022-01-05T08:50:28.366Z"
   },
   {
    "duration": 48,
    "start_time": "2022-01-05T08:50:28.384Z"
   },
   {
    "duration": 5147,
    "start_time": "2022-01-05T08:50:28.434Z"
   },
   {
    "duration": 6,
    "start_time": "2022-01-05T08:50:33.584Z"
   },
   {
    "duration": 24,
    "start_time": "2022-01-05T08:50:33.592Z"
   },
   {
    "duration": 49,
    "start_time": "2022-01-05T08:50:33.619Z"
   },
   {
    "duration": 22,
    "start_time": "2022-01-05T08:50:33.671Z"
   },
   {
    "duration": 5,
    "start_time": "2022-01-05T08:50:33.696Z"
   },
   {
    "duration": 67,
    "start_time": "2022-01-05T08:50:33.703Z"
   },
   {
    "duration": 104,
    "start_time": "2022-01-05T08:50:33.774Z"
   },
   {
    "duration": 187,
    "start_time": "2022-01-05T08:50:33.881Z"
   },
   {
    "duration": 95,
    "start_time": "2022-01-05T08:50:34.072Z"
   },
   {
    "duration": 11,
    "start_time": "2022-01-05T08:50:34.176Z"
   },
   {
    "duration": 8,
    "start_time": "2022-01-05T08:50:34.268Z"
   },
   {
    "duration": 8,
    "start_time": "2022-01-05T08:50:34.279Z"
   },
   {
    "duration": 8,
    "start_time": "2022-01-05T08:50:34.290Z"
   },
   {
    "duration": 6,
    "start_time": "2022-01-05T08:50:34.301Z"
   },
   {
    "duration": 60,
    "start_time": "2022-01-05T08:50:34.310Z"
   },
   {
    "duration": 7,
    "start_time": "2022-01-05T08:50:34.372Z"
   },
   {
    "duration": 15,
    "start_time": "2022-01-05T08:50:34.381Z"
   },
   {
    "duration": 12,
    "start_time": "2022-01-05T08:50:34.398Z"
   },
   {
    "duration": 12,
    "start_time": "2022-01-05T08:50:34.412Z"
   },
   {
    "duration": 42,
    "start_time": "2022-01-05T08:50:34.426Z"
   },
   {
    "duration": 5,
    "start_time": "2022-01-05T08:50:34.471Z"
   },
   {
    "duration": 7,
    "start_time": "2022-01-05T08:50:34.479Z"
   },
   {
    "duration": 2719,
    "start_time": "2022-01-05T08:50:34.488Z"
   },
   {
    "duration": 2700,
    "start_time": "2022-01-05T08:50:37.209Z"
   },
   {
    "duration": 2716,
    "start_time": "2022-01-05T08:50:39.911Z"
   },
   {
    "duration": 4,
    "start_time": "2022-01-05T08:51:40.330Z"
   },
   {
    "duration": 4,
    "start_time": "2022-01-05T08:51:41.005Z"
   },
   {
    "duration": 4,
    "start_time": "2022-01-05T08:51:41.039Z"
   },
   {
    "duration": 4,
    "start_time": "2022-01-05T08:51:41.081Z"
   },
   {
    "duration": 6,
    "start_time": "2022-01-05T08:51:41.124Z"
   },
   {
    "duration": 164,
    "start_time": "2022-01-05T08:51:41.204Z"
   },
   {
    "duration": 13,
    "start_time": "2022-01-05T08:51:41.371Z"
   },
   {
    "duration": 49,
    "start_time": "2022-01-05T08:51:41.387Z"
   },
   {
    "duration": 5254,
    "start_time": "2022-01-05T08:51:41.438Z"
   },
   {
    "duration": 168,
    "start_time": "2022-01-05T08:51:46.695Z"
   },
   {
    "duration": 13,
    "start_time": "2022-01-05T08:51:46.868Z"
   },
   {
    "duration": 48,
    "start_time": "2022-01-05T08:51:46.884Z"
   },
   {
    "duration": 5111,
    "start_time": "2022-01-05T08:51:46.935Z"
   },
   {
    "duration": 170,
    "start_time": "2022-01-05T08:51:52.049Z"
   },
   {
    "duration": 14,
    "start_time": "2022-01-05T08:51:52.221Z"
   },
   {
    "duration": 72,
    "start_time": "2022-01-05T08:51:52.237Z"
   },
   {
    "duration": 5174,
    "start_time": "2022-01-05T08:51:52.311Z"
   },
   {
    "duration": 5,
    "start_time": "2022-01-05T08:51:57.488Z"
   },
   {
    "duration": 24,
    "start_time": "2022-01-05T08:51:57.496Z"
   },
   {
    "duration": 45,
    "start_time": "2022-01-05T08:51:57.523Z"
   },
   {
    "duration": 19,
    "start_time": "2022-01-05T08:51:57.571Z"
   },
   {
    "duration": 3,
    "start_time": "2022-01-05T08:51:57.595Z"
   },
   {
    "duration": 70,
    "start_time": "2022-01-05T08:51:57.601Z"
   },
   {
    "duration": 100,
    "start_time": "2022-01-05T08:51:57.676Z"
   },
   {
    "duration": 190,
    "start_time": "2022-01-05T08:51:57.779Z"
   },
   {
    "duration": 95,
    "start_time": "2022-01-05T08:51:57.972Z"
   },
   {
    "duration": 8,
    "start_time": "2022-01-05T08:51:58.070Z"
   },
   {
    "duration": 8,
    "start_time": "2022-01-05T08:51:58.166Z"
   },
   {
    "duration": 9,
    "start_time": "2022-01-05T08:51:58.176Z"
   },
   {
    "duration": 9,
    "start_time": "2022-01-05T08:51:58.187Z"
   },
   {
    "duration": 6,
    "start_time": "2022-01-05T08:51:58.198Z"
   },
   {
    "duration": 7,
    "start_time": "2022-01-05T08:51:58.206Z"
   },
   {
    "duration": 6,
    "start_time": "2022-01-05T08:51:58.215Z"
   },
   {
    "duration": 54,
    "start_time": "2022-01-05T08:51:58.223Z"
   },
   {
    "duration": 11,
    "start_time": "2022-01-05T08:51:58.279Z"
   },
   {
    "duration": 12,
    "start_time": "2022-01-05T08:51:58.293Z"
   },
   {
    "duration": 4,
    "start_time": "2022-01-05T08:51:58.307Z"
   },
   {
    "duration": 58,
    "start_time": "2022-01-05T08:51:58.313Z"
   },
   {
    "duration": 14,
    "start_time": "2022-01-05T08:51:58.373Z"
   },
   {
    "duration": 2737,
    "start_time": "2022-01-05T08:51:58.389Z"
   },
   {
    "duration": 2758,
    "start_time": "2022-01-05T08:52:01.128Z"
   },
   {
    "duration": 2688,
    "start_time": "2022-01-05T08:52:03.888Z"
   }
  ],
  "kernelspec": {
   "display_name": "Python 3",
   "language": "python",
   "name": "python3"
  },
  "language_info": {
   "codemirror_mode": {
    "name": "ipython",
    "version": 3
   },
   "file_extension": ".py",
   "mimetype": "text/x-python",
   "name": "python",
   "nbconvert_exporter": "python",
   "pygments_lexer": "ipython3",
   "version": "3.8.5"
  },
  "toc": {
   "base_numbering": 1,
   "nav_menu": {},
   "number_sections": true,
   "sideBar": true,
   "skip_h1_title": true,
   "title_cell": "Table of Contents",
   "title_sidebar": "Contents",
   "toc_cell": false,
   "toc_position": {},
   "toc_section_display": true,
   "toc_window_display": false
  }
 },
 "nbformat": 4,
 "nbformat_minor": 2
}
