{
 "cells": [
  {
   "cell_type": "markdown",
   "metadata": {},
   "source": [
    "# Определение стоимости автомобилей"
   ]
  },
  {
   "cell_type": "markdown",
   "metadata": {},
   "source": [
    "Сервис по продаже автомобилей с пробегом «Не бит, не крашен» разрабатывает приложение для привлечения новых клиентов. В нём можно быстро узнать рыночную стоимость своего автомобиля. Преоставлены исторические данные: технические характеристики, комплектации и цены автомобилей. Требуется построить модель для определения стоимости. \n",
    "\n",
    "Заказчику важны:\n",
    "\n",
    "- качество предсказания;\n",
    "- скорость предсказания;\n",
    "- время обучения."
   ]
  },
  {
   "cell_type": "markdown",
   "metadata": {},
   "source": [
    "# Описание данных"
   ]
  },
  {
   "cell_type": "markdown",
   "metadata": {},
   "source": [
    "<b>Признаки:</b>\n",
    "<ul>\n",
    "<li>DateCrawled — дата скачивания анкеты из базы</li>\n",
    "<li>VehicleType — тип автомобильного кузова</li>\n",
    "<li>RegistrationYear — год регистрации автомобиля</li>\n",
    "<li>Gearbox — тип коробки передач</li>\n",
    "<li>Power — мощность (л. с.)</li>\n",
    "<li>Model — модель автомобиля</li>\n",
    "<li>Kilometer — пробег (км)</li>\n",
    "<li>RegistrationMonth — месяц регистрации автомобиля</li>\n",
    "<li>FuelType — тип топлива</li>\n",
    "<li>Brand — марка автомобиля</li>\n",
    "<li>NotRepaired — была машина в ремонте или нет</li>\n",
    "<li>DateCreated — дата создания анкеты</li>\n",
    "<li>NumberOfPictures — количество фотографий автомобиля</li>\n",
    "<li>PostalCode — почтовый индекс владельца анкеты (пользователя)</li>\n",
    "<li>LastSeen — дата последней активности пользователя</li>\n",
    "</ul>\n",
    "<b>Целевой признак:</b>\n",
    "<ul>\n",
    "<li>Price — цена (евро)</li>\n",
    "</ul>"
   ]
  },
  {
   "cell_type": "code",
   "execution_count": 3,
   "metadata": {},
   "outputs": [],
   "source": [
    "import pandas as pd\n",
    "import numpy as np\n",
    "import matplotlib.pyplot as plt\n",
    "from sklearn.preprocessing import OrdinalEncoder \n",
    "from sklearn.model_selection import train_test_split\n",
    "from sklearn.model_selection import cross_val_score\n",
    "from sklearn.metrics import make_scorer\n",
    "from sklearn.tree import DecisionTreeRegressor\n",
    "from sklearn.ensemble import RandomForestRegressor\n",
    "from sklearn.linear_model import LinearRegression\n",
    "from sklearn.metrics import mean_squared_error\n",
    "import time\n",
    "from catboost import CatBoostRegressor\n",
    "from lightgbm import LGBMRegressor\n",
    "import warnings\n",
    "warnings.filterwarnings('ignore')"
   ]
  },
  {
   "cell_type": "markdown",
   "metadata": {},
   "source": [
    "## Подготовка данных"
   ]
  },
  {
   "cell_type": "markdown",
   "metadata": {},
   "source": [
    "### Первичный осмотр данных"
   ]
  },
  {
   "cell_type": "code",
   "execution_count": 4,
   "metadata": {},
   "outputs": [],
   "source": [
    "data = pd.read_csv('autos.csv')"
   ]
  },
  {
   "cell_type": "code",
   "execution_count": 5,
   "metadata": {},
   "outputs": [
    {
     "data": {
      "text/html": [
       "<div>\n",
       "<style scoped>\n",
       "    .dataframe tbody tr th:only-of-type {\n",
       "        vertical-align: middle;\n",
       "    }\n",
       "\n",
       "    .dataframe tbody tr th {\n",
       "        vertical-align: top;\n",
       "    }\n",
       "\n",
       "    .dataframe thead th {\n",
       "        text-align: right;\n",
       "    }\n",
       "</style>\n",
       "<table border=\"1\" class=\"dataframe\">\n",
       "  <thead>\n",
       "    <tr style=\"text-align: right;\">\n",
       "      <th></th>\n",
       "      <th>DateCrawled</th>\n",
       "      <th>Price</th>\n",
       "      <th>VehicleType</th>\n",
       "      <th>RegistrationYear</th>\n",
       "      <th>Gearbox</th>\n",
       "      <th>Power</th>\n",
       "      <th>Model</th>\n",
       "      <th>Kilometer</th>\n",
       "      <th>RegistrationMonth</th>\n",
       "      <th>FuelType</th>\n",
       "      <th>Brand</th>\n",
       "      <th>NotRepaired</th>\n",
       "      <th>DateCreated</th>\n",
       "      <th>NumberOfPictures</th>\n",
       "      <th>PostalCode</th>\n",
       "      <th>LastSeen</th>\n",
       "    </tr>\n",
       "  </thead>\n",
       "  <tbody>\n",
       "    <tr>\n",
       "      <th>0</th>\n",
       "      <td>2016-03-24 11:52:17</td>\n",
       "      <td>480</td>\n",
       "      <td>NaN</td>\n",
       "      <td>1993</td>\n",
       "      <td>manual</td>\n",
       "      <td>0</td>\n",
       "      <td>golf</td>\n",
       "      <td>150000</td>\n",
       "      <td>0</td>\n",
       "      <td>petrol</td>\n",
       "      <td>volkswagen</td>\n",
       "      <td>NaN</td>\n",
       "      <td>2016-03-24 00:00:00</td>\n",
       "      <td>0</td>\n",
       "      <td>70435</td>\n",
       "      <td>2016-04-07 03:16:57</td>\n",
       "    </tr>\n",
       "    <tr>\n",
       "      <th>1</th>\n",
       "      <td>2016-03-24 10:58:45</td>\n",
       "      <td>18300</td>\n",
       "      <td>coupe</td>\n",
       "      <td>2011</td>\n",
       "      <td>manual</td>\n",
       "      <td>190</td>\n",
       "      <td>NaN</td>\n",
       "      <td>125000</td>\n",
       "      <td>5</td>\n",
       "      <td>gasoline</td>\n",
       "      <td>audi</td>\n",
       "      <td>yes</td>\n",
       "      <td>2016-03-24 00:00:00</td>\n",
       "      <td>0</td>\n",
       "      <td>66954</td>\n",
       "      <td>2016-04-07 01:46:50</td>\n",
       "    </tr>\n",
       "    <tr>\n",
       "      <th>2</th>\n",
       "      <td>2016-03-14 12:52:21</td>\n",
       "      <td>9800</td>\n",
       "      <td>suv</td>\n",
       "      <td>2004</td>\n",
       "      <td>auto</td>\n",
       "      <td>163</td>\n",
       "      <td>grand</td>\n",
       "      <td>125000</td>\n",
       "      <td>8</td>\n",
       "      <td>gasoline</td>\n",
       "      <td>jeep</td>\n",
       "      <td>NaN</td>\n",
       "      <td>2016-03-14 00:00:00</td>\n",
       "      <td>0</td>\n",
       "      <td>90480</td>\n",
       "      <td>2016-04-05 12:47:46</td>\n",
       "    </tr>\n",
       "    <tr>\n",
       "      <th>3</th>\n",
       "      <td>2016-03-17 16:54:04</td>\n",
       "      <td>1500</td>\n",
       "      <td>small</td>\n",
       "      <td>2001</td>\n",
       "      <td>manual</td>\n",
       "      <td>75</td>\n",
       "      <td>golf</td>\n",
       "      <td>150000</td>\n",
       "      <td>6</td>\n",
       "      <td>petrol</td>\n",
       "      <td>volkswagen</td>\n",
       "      <td>no</td>\n",
       "      <td>2016-03-17 00:00:00</td>\n",
       "      <td>0</td>\n",
       "      <td>91074</td>\n",
       "      <td>2016-03-17 17:40:17</td>\n",
       "    </tr>\n",
       "    <tr>\n",
       "      <th>4</th>\n",
       "      <td>2016-03-31 17:25:20</td>\n",
       "      <td>3600</td>\n",
       "      <td>small</td>\n",
       "      <td>2008</td>\n",
       "      <td>manual</td>\n",
       "      <td>69</td>\n",
       "      <td>fabia</td>\n",
       "      <td>90000</td>\n",
       "      <td>7</td>\n",
       "      <td>gasoline</td>\n",
       "      <td>skoda</td>\n",
       "      <td>no</td>\n",
       "      <td>2016-03-31 00:00:00</td>\n",
       "      <td>0</td>\n",
       "      <td>60437</td>\n",
       "      <td>2016-04-06 10:17:21</td>\n",
       "    </tr>\n",
       "  </tbody>\n",
       "</table>\n",
       "</div>"
      ],
      "text/plain": [
       "           DateCrawled  Price VehicleType  RegistrationYear Gearbox  Power  \\\n",
       "0  2016-03-24 11:52:17    480         NaN              1993  manual      0   \n",
       "1  2016-03-24 10:58:45  18300       coupe              2011  manual    190   \n",
       "2  2016-03-14 12:52:21   9800         suv              2004    auto    163   \n",
       "3  2016-03-17 16:54:04   1500       small              2001  manual     75   \n",
       "4  2016-03-31 17:25:20   3600       small              2008  manual     69   \n",
       "\n",
       "   Model  Kilometer  RegistrationMonth  FuelType       Brand NotRepaired  \\\n",
       "0   golf     150000                  0    petrol  volkswagen         NaN   \n",
       "1    NaN     125000                  5  gasoline        audi         yes   \n",
       "2  grand     125000                  8  gasoline        jeep         NaN   \n",
       "3   golf     150000                  6    petrol  volkswagen          no   \n",
       "4  fabia      90000                  7  gasoline       skoda          no   \n",
       "\n",
       "           DateCreated  NumberOfPictures  PostalCode             LastSeen  \n",
       "0  2016-03-24 00:00:00                 0       70435  2016-04-07 03:16:57  \n",
       "1  2016-03-24 00:00:00                 0       66954  2016-04-07 01:46:50  \n",
       "2  2016-03-14 00:00:00                 0       90480  2016-04-05 12:47:46  \n",
       "3  2016-03-17 00:00:00                 0       91074  2016-03-17 17:40:17  \n",
       "4  2016-03-31 00:00:00                 0       60437  2016-04-06 10:17:21  "
      ]
     },
     "execution_count": 5,
     "metadata": {},
     "output_type": "execute_result"
    }
   ],
   "source": [
    "data.head()"
   ]
  },
  {
   "cell_type": "code",
   "execution_count": 6,
   "metadata": {},
   "outputs": [
    {
     "name": "stdout",
     "output_type": "stream",
     "text": [
      "<class 'pandas.core.frame.DataFrame'>\n",
      "RangeIndex: 354369 entries, 0 to 354368\n",
      "Data columns (total 16 columns):\n",
      " #   Column             Non-Null Count   Dtype \n",
      "---  ------             --------------   ----- \n",
      " 0   DateCrawled        354369 non-null  object\n",
      " 1   Price              354369 non-null  int64 \n",
      " 2   VehicleType        316879 non-null  object\n",
      " 3   RegistrationYear   354369 non-null  int64 \n",
      " 4   Gearbox            334536 non-null  object\n",
      " 5   Power              354369 non-null  int64 \n",
      " 6   Model              334664 non-null  object\n",
      " 7   Kilometer          354369 non-null  int64 \n",
      " 8   RegistrationMonth  354369 non-null  int64 \n",
      " 9   FuelType           321474 non-null  object\n",
      " 10  Brand              354369 non-null  object\n",
      " 11  NotRepaired        283215 non-null  object\n",
      " 12  DateCreated        354369 non-null  object\n",
      " 13  NumberOfPictures   354369 non-null  int64 \n",
      " 14  PostalCode         354369 non-null  int64 \n",
      " 15  LastSeen           354369 non-null  object\n",
      "dtypes: int64(7), object(9)\n",
      "memory usage: 43.3+ MB\n"
     ]
    }
   ],
   "source": [
    "data.info()"
   ]
  },
  {
   "cell_type": "code",
   "execution_count": 7,
   "metadata": {},
   "outputs": [
    {
     "data": {
      "text/html": [
       "<div>\n",
       "<style scoped>\n",
       "    .dataframe tbody tr th:only-of-type {\n",
       "        vertical-align: middle;\n",
       "    }\n",
       "\n",
       "    .dataframe tbody tr th {\n",
       "        vertical-align: top;\n",
       "    }\n",
       "\n",
       "    .dataframe thead th {\n",
       "        text-align: right;\n",
       "    }\n",
       "</style>\n",
       "<table border=\"1\" class=\"dataframe\">\n",
       "  <thead>\n",
       "    <tr style=\"text-align: right;\">\n",
       "      <th></th>\n",
       "      <th>Price</th>\n",
       "      <th>RegistrationYear</th>\n",
       "      <th>Power</th>\n",
       "      <th>Kilometer</th>\n",
       "      <th>RegistrationMonth</th>\n",
       "      <th>NumberOfPictures</th>\n",
       "      <th>PostalCode</th>\n",
       "    </tr>\n",
       "  </thead>\n",
       "  <tbody>\n",
       "    <tr>\n",
       "      <th>count</th>\n",
       "      <td>354369.000000</td>\n",
       "      <td>354369.000000</td>\n",
       "      <td>354369.000000</td>\n",
       "      <td>354369.000000</td>\n",
       "      <td>354369.000000</td>\n",
       "      <td>354369.0</td>\n",
       "      <td>354369.000000</td>\n",
       "    </tr>\n",
       "    <tr>\n",
       "      <th>mean</th>\n",
       "      <td>4416.656776</td>\n",
       "      <td>2004.234448</td>\n",
       "      <td>110.094337</td>\n",
       "      <td>128211.172535</td>\n",
       "      <td>5.714645</td>\n",
       "      <td>0.0</td>\n",
       "      <td>50508.689087</td>\n",
       "    </tr>\n",
       "    <tr>\n",
       "      <th>std</th>\n",
       "      <td>4514.158514</td>\n",
       "      <td>90.227958</td>\n",
       "      <td>189.850405</td>\n",
       "      <td>37905.341530</td>\n",
       "      <td>3.726421</td>\n",
       "      <td>0.0</td>\n",
       "      <td>25783.096248</td>\n",
       "    </tr>\n",
       "    <tr>\n",
       "      <th>min</th>\n",
       "      <td>0.000000</td>\n",
       "      <td>1000.000000</td>\n",
       "      <td>0.000000</td>\n",
       "      <td>5000.000000</td>\n",
       "      <td>0.000000</td>\n",
       "      <td>0.0</td>\n",
       "      <td>1067.000000</td>\n",
       "    </tr>\n",
       "    <tr>\n",
       "      <th>25%</th>\n",
       "      <td>1050.000000</td>\n",
       "      <td>1999.000000</td>\n",
       "      <td>69.000000</td>\n",
       "      <td>125000.000000</td>\n",
       "      <td>3.000000</td>\n",
       "      <td>0.0</td>\n",
       "      <td>30165.000000</td>\n",
       "    </tr>\n",
       "    <tr>\n",
       "      <th>50%</th>\n",
       "      <td>2700.000000</td>\n",
       "      <td>2003.000000</td>\n",
       "      <td>105.000000</td>\n",
       "      <td>150000.000000</td>\n",
       "      <td>6.000000</td>\n",
       "      <td>0.0</td>\n",
       "      <td>49413.000000</td>\n",
       "    </tr>\n",
       "    <tr>\n",
       "      <th>75%</th>\n",
       "      <td>6400.000000</td>\n",
       "      <td>2008.000000</td>\n",
       "      <td>143.000000</td>\n",
       "      <td>150000.000000</td>\n",
       "      <td>9.000000</td>\n",
       "      <td>0.0</td>\n",
       "      <td>71083.000000</td>\n",
       "    </tr>\n",
       "    <tr>\n",
       "      <th>max</th>\n",
       "      <td>20000.000000</td>\n",
       "      <td>9999.000000</td>\n",
       "      <td>20000.000000</td>\n",
       "      <td>150000.000000</td>\n",
       "      <td>12.000000</td>\n",
       "      <td>0.0</td>\n",
       "      <td>99998.000000</td>\n",
       "    </tr>\n",
       "  </tbody>\n",
       "</table>\n",
       "</div>"
      ],
      "text/plain": [
       "               Price  RegistrationYear          Power      Kilometer  \\\n",
       "count  354369.000000     354369.000000  354369.000000  354369.000000   \n",
       "mean     4416.656776       2004.234448     110.094337  128211.172535   \n",
       "std      4514.158514         90.227958     189.850405   37905.341530   \n",
       "min         0.000000       1000.000000       0.000000    5000.000000   \n",
       "25%      1050.000000       1999.000000      69.000000  125000.000000   \n",
       "50%      2700.000000       2003.000000     105.000000  150000.000000   \n",
       "75%      6400.000000       2008.000000     143.000000  150000.000000   \n",
       "max     20000.000000       9999.000000   20000.000000  150000.000000   \n",
       "\n",
       "       RegistrationMonth  NumberOfPictures     PostalCode  \n",
       "count      354369.000000          354369.0  354369.000000  \n",
       "mean            5.714645               0.0   50508.689087  \n",
       "std             3.726421               0.0   25783.096248  \n",
       "min             0.000000               0.0    1067.000000  \n",
       "25%             3.000000               0.0   30165.000000  \n",
       "50%             6.000000               0.0   49413.000000  \n",
       "75%             9.000000               0.0   71083.000000  \n",
       "max            12.000000               0.0   99998.000000  "
      ]
     },
     "execution_count": 7,
     "metadata": {},
     "output_type": "execute_result"
    }
   ],
   "source": [
    "data.describe()"
   ]
  },
  {
   "cell_type": "code",
   "execution_count": 8,
   "metadata": {},
   "outputs": [
    {
     "data": {
      "text/plain": [
       "array([1000, 1001, 1039, 1111, 1200, 1234, 1253, 1255, 1300, 1400, 1500,\n",
       "       1600, 1602, 1688, 1800, 1910, 1915, 1919, 1920, 1923, 1925, 1927,\n",
       "       1928, 1929, 1930, 1931, 1932, 1933, 1934, 1935, 1936, 1937, 1938,\n",
       "       1940, 1941, 1942, 1943, 1944, 1945, 1946, 1947, 1948, 1949, 1950,\n",
       "       1951, 1952, 1953, 1954, 1955, 1956, 1957, 1958, 1959, 1960, 1961,\n",
       "       1962, 1963, 1964, 1965, 1966, 1967, 1968, 1969, 1970, 1971, 1972,\n",
       "       1973, 1974, 1975, 1976, 1977, 1978, 1979, 1980, 1981, 1982, 1983,\n",
       "       1984, 1985, 1986, 1987, 1988, 1989, 1990, 1991, 1992, 1993, 1994,\n",
       "       1995, 1996, 1997, 1998, 1999, 2000, 2001, 2002, 2003, 2004, 2005,\n",
       "       2006, 2007, 2008, 2009, 2010, 2011, 2012, 2013, 2014, 2015, 2016,\n",
       "       2017, 2018, 2019, 2066, 2200, 2222, 2290, 2500, 2800, 2900, 3000,\n",
       "       3200, 3500, 3700, 3800, 4000, 4100, 4500, 4800, 5000, 5300, 5555,\n",
       "       5600, 5900, 5911, 6000, 6500, 7000, 7100, 7500, 7800, 8000, 8200,\n",
       "       8455, 8500, 8888, 9000, 9229, 9450, 9996, 9999], dtype=int64)"
      ]
     },
     "execution_count": 8,
     "metadata": {},
     "output_type": "execute_result"
    }
   ],
   "source": [
    "np.sort(data['RegistrationYear'].unique())"
   ]
  },
  {
   "cell_type": "code",
   "execution_count": 9,
   "metadata": {},
   "outputs": [
    {
     "data": {
      "text/plain": [
       "array([    0,     1,     2,     3,     4,     5,     6,     7,     8,\n",
       "           9,    10,    11,    12,    13,    14,    15,    16,    17,\n",
       "          18,    19,    20,    21,    22,    23,    24,    25,    26,\n",
       "          27,    28,    29,    30,    31,    32,    33,    34,    35,\n",
       "          36,    37,    38,    39,    40,    41,    42,    43,    44,\n",
       "          45,    46,    47,    48,    49,    50,    51,    52,    53,\n",
       "          54,    55,    56,    57,    58,    59,    60,    61,    62,\n",
       "          63,    64,    65,    66,    67,    68,    69,    70,    71,\n",
       "          72,    73,    74,    75,    76,    77,    78,    79,    80,\n",
       "          81,    82,    83,    84,    85,    86,    87,    88,    89,\n",
       "          90,    91,    92,    93,    94,    95,    96,    97,    98,\n",
       "          99,   100,   101,   102,   103,   104,   105,   106,   107,\n",
       "         108,   109,   110,   111,   112,   113,   114,   115,   116,\n",
       "         117,   118,   119,   120,   121,   122,   123,   124,   125,\n",
       "         126,   127,   128,   129,   130,   131,   132,   133,   134,\n",
       "         135,   136,   137,   138,   139,   140,   141,   142,   143,\n",
       "         144,   145,   146,   147,   148,   149,   150,   151,   152,\n",
       "         153,   154,   155,   156,   157,   158,   159,   160,   161,\n",
       "         162,   163,   164,   165,   166,   167,   168,   169,   170,\n",
       "         171,   172,   173,   174,   175,   176,   177,   178,   179,\n",
       "         180,   181,   182,   183,   184,   185,   186,   187,   188,\n",
       "         189,   190,   191,   192,   193,   194,   195,   196,   197,\n",
       "         198,   199,   200,   201,   202,   203,   204,   205,   206,\n",
       "         207,   208,   209,   210,   211,   212,   213,   214,   215,\n",
       "         216,   217,   218,   219,   220,   221,   222,   223,   224,\n",
       "         225,   226,   227,   228,   229,   230,   231,   232,   233,\n",
       "         234,   235,   236,   237,   238,   239,   240,   241,   242,\n",
       "         243,   244,   245,   246,   247,   248,   249,   250,   251,\n",
       "         252,   253,   254,   255,   256,   257,   258,   259,   260,\n",
       "         261,   262,   264,   265,   266,   267,   268,   269,   270,\n",
       "         271,   272,   273,   274,   275,   276,   277,   278,   279,\n",
       "         280,   281,   282,   283,   284,   285,   286,   287,   288,\n",
       "         289,   290,   292,   293,   294,   295,   296,   297,   298,\n",
       "         299,   300,   301,   303,   304,   305,   306,   307,   308,\n",
       "         309,   310,   311,   313,   314,   315,   316,   317,   318,\n",
       "         320,   321,   322,   323,   324,   325,   326,   327,   328,\n",
       "         329,   330,   331,   332,   333,   334,   335,   336,   337,\n",
       "         338,   339,   340,   341,   343,   344,   345,   346,   347,\n",
       "         348,   349,   350,   351,   352,   353,   354,   355,   356,\n",
       "         357,   358,   360,   361,   362,   363,   364,   365,   367,\n",
       "         368,   370,   371,   374,   375,   376,   377,   379,   380,\n",
       "         381,   382,   385,   386,   387,   388,   390,   392,   394,\n",
       "         396,   398,   399,   400,   401,   402,   405,   408,   409,\n",
       "         411,   416,   420,   421,   425,   426,   428,   430,   431,\n",
       "         435,   440,   442,   445,   449,   450,   454,   457,   459,\n",
       "         460,   475,   476,   485,   487,   489,   490,   500,   504,\n",
       "         505,   507,   508,   510,   514,   515,   517,   519,   520,\n",
       "         521,   525,   530,   540,   541,   544,   550,   551,   553,\n",
       "         560,   572,   574,   579,   580,   584,   585,   599,   600,\n",
       "         601,   602,   603,   604,   606,   607,   610,   612,   620,\n",
       "         640,   645,   650,   651,   671,   678,   682,   685,   696,\n",
       "         700,   702,   703,   732,   743,   750,   751,   754,   771,\n",
       "         776,   800,   805,   808,   850,   851,   871,   900,   901,\n",
       "         902,   903,   907,   909,   923,   950,   952,   953,   960,\n",
       "         998,   999,  1000,  1001,  1002,  1003,  1004,  1005,  1011,\n",
       "        1012,  1016,  1017,  1021,  1024,  1054,  1055,  1056,  1062,\n",
       "        1079,  1082,  1090,  1100,  1102,  1103,  1105,  1111,  1115,\n",
       "        1120,  1149,  1151,  1158,  1160,  1162,  1164,  1199,  1200,\n",
       "        1202,  1221,  1223,  1230,  1239,  1240,  1241,  1250,  1252,\n",
       "        1256,  1275,  1288,  1299,  1300,  1312,  1317,  1324,  1339,\n",
       "        1351,  1360,  1362,  1363,  1367,  1390,  1394,  1398,  1399,\n",
       "        1400,  1401,  1403,  1405,  1416,  1432,  1433,  1436,  1500,\n",
       "        1501,  1502,  1503,  1506,  1521,  1548,  1595,  1596,  1597,\n",
       "        1598,  1600,  1625,  1631,  1653,  1659,  1689,  1700,  1701,\n",
       "        1703,  1704,  1707,  1753,  1771,  1779,  1780,  1781,  1783,\n",
       "        1793,  1796,  1799,  1800,  1801,  1870,  1895,  1896,  1900,\n",
       "        1910,  1920,  1922,  1933,  1937,  1968,  1986,  1988,  1992,\n",
       "        1993,  1995,  1998,  1999,  2000,  2004,  2005,  2007,  2009,\n",
       "        2016,  2017,  2018,  2172,  2200,  2201,  2331,  2340,  2389,\n",
       "        2402,  2461,  2598,  2729,  2789,  2792,  2799,  3000,  3199,\n",
       "        3454,  3500,  3750,  4400,  4507,  4700,  5000,  5411,  5420,\n",
       "        5575,  5809,  5815,  5867,  6006,  6010,  6011,  6012,  6018,\n",
       "        6045,  6062,  6226,  6512,  6920,  7508,  7511,  7512,  7515,\n",
       "        7518,  7529,  7544,  8011,  8259,  8404,  8500,  9000,  9007,\n",
       "        9010,  9011,  9012,  9013,  9710, 10000, 10110, 10218, 10311,\n",
       "       10317, 10520, 10522, 10710, 10910, 10912, 11011, 11025, 11111,\n",
       "       11509, 11530, 11635, 12012, 12510, 12512, 12684, 13616, 13636,\n",
       "       14009, 15001, 15016, 15017, 15020, 15033, 16011, 16051, 16311,\n",
       "       16312, 17011, 17019, 17410, 17700, 17932, 19208, 19211, 19312,\n",
       "       20000], dtype=int64)"
      ]
     },
     "execution_count": 9,
     "metadata": {},
     "output_type": "execute_result"
    }
   ],
   "source": [
    "np.sort(data['Power'].unique())"
   ]
  },
  {
   "cell_type": "code",
   "execution_count": 10,
   "metadata": {},
   "outputs": [
    {
     "data": {
      "text/plain": [
       "4"
      ]
     },
     "execution_count": 10,
     "metadata": {},
     "output_type": "execute_result"
    }
   ],
   "source": [
    "data.duplicated().sum()"
   ]
  },
  {
   "cell_type": "code",
   "execution_count": 11,
   "metadata": {},
   "outputs": [
    {
     "data": {
      "text/plain": [
       "DateCrawled          0.000000\n",
       "Price                0.000000\n",
       "RegistrationYear     0.000000\n",
       "Power                0.000000\n",
       "Kilometer            0.000000\n",
       "RegistrationMonth    0.000000\n",
       "Brand                0.000000\n",
       "DateCreated          0.000000\n",
       "NumberOfPictures     0.000000\n",
       "PostalCode           0.000000\n",
       "LastSeen             0.000000\n",
       "Model                0.055606\n",
       "Gearbox              0.055967\n",
       "FuelType             0.092827\n",
       "VehicleType          0.105794\n",
       "NotRepaired          0.200791\n",
       "dtype: float64"
      ]
     },
     "execution_count": 11,
     "metadata": {},
     "output_type": "execute_result"
    }
   ],
   "source": [
    "data.isna().mean().sort_values()"
   ]
  },
  {
   "cell_type": "markdown",
   "metadata": {},
   "source": [
    "Можно заметить, что присутствуют аномально большие значения для года регистрации автомобиля, а также для можности (20000). Самый мощный автомобиль, найденный мной имеет мощность 757 л.с.. Также в данных прусутствуют дубликаты, а в некоторых столбцах и пропуски. Также следует заменить формат даты"
   ]
  },
  {
   "cell_type": "markdown",
   "metadata": {},
   "source": [
    "### Предобработка данных"
   ]
  },
  {
   "cell_type": "markdown",
   "metadata": {},
   "source": [
    "#### Изменение формата даты"
   ]
  },
  {
   "cell_type": "code",
   "execution_count": 12,
   "metadata": {},
   "outputs": [
    {
     "name": "stdout",
     "output_type": "stream",
     "text": [
      "<class 'pandas.core.frame.DataFrame'>\n",
      "RangeIndex: 354369 entries, 0 to 354368\n",
      "Data columns (total 16 columns):\n",
      " #   Column             Non-Null Count   Dtype         \n",
      "---  ------             --------------   -----         \n",
      " 0   DateCrawled        354369 non-null  datetime64[ns]\n",
      " 1   Price              354369 non-null  int64         \n",
      " 2   VehicleType        316879 non-null  object        \n",
      " 3   RegistrationYear   354369 non-null  int64         \n",
      " 4   Gearbox            334536 non-null  object        \n",
      " 5   Power              354369 non-null  int64         \n",
      " 6   Model              334664 non-null  object        \n",
      " 7   Kilometer          354369 non-null  int64         \n",
      " 8   RegistrationMonth  354369 non-null  int64         \n",
      " 9   FuelType           321474 non-null  object        \n",
      " 10  Brand              354369 non-null  object        \n",
      " 11  NotRepaired        283215 non-null  object        \n",
      " 12  DateCreated        354369 non-null  datetime64[ns]\n",
      " 13  NumberOfPictures   354369 non-null  int64         \n",
      " 14  PostalCode         354369 non-null  int64         \n",
      " 15  LastSeen           354369 non-null  object        \n",
      "dtypes: datetime64[ns](2), int64(7), object(7)\n",
      "memory usage: 43.3+ MB\n"
     ]
    }
   ],
   "source": [
    "data['DateCrawled'] = pd.to_datetime(data['DateCrawled'], format='%Y-%m-%d %H:%M:%S')\n",
    "data['DateCreated'] = pd.to_datetime(data['DateCrawled'], format='%Y-%m-%d %H:%M:%S')\n",
    "data.info()"
   ]
  },
  {
   "cell_type": "markdown",
   "metadata": {},
   "source": [
    "#### Избавление от дубликатов"
   ]
  },
  {
   "cell_type": "code",
   "execution_count": 13,
   "metadata": {},
   "outputs": [],
   "source": [
    "data = data.drop_duplicates().reset_index(drop = True)"
   ]
  },
  {
   "cell_type": "code",
   "execution_count": 14,
   "metadata": {},
   "outputs": [
    {
     "name": "stdout",
     "output_type": "stream",
     "text": [
      "<class 'pandas.core.frame.DataFrame'>\n",
      "RangeIndex: 354365 entries, 0 to 354364\n",
      "Data columns (total 16 columns):\n",
      " #   Column             Non-Null Count   Dtype         \n",
      "---  ------             --------------   -----         \n",
      " 0   DateCrawled        354365 non-null  datetime64[ns]\n",
      " 1   Price              354365 non-null  int64         \n",
      " 2   VehicleType        316875 non-null  object        \n",
      " 3   RegistrationYear   354365 non-null  int64         \n",
      " 4   Gearbox            334532 non-null  object        \n",
      " 5   Power              354365 non-null  int64         \n",
      " 6   Model              334660 non-null  object        \n",
      " 7   Kilometer          354365 non-null  int64         \n",
      " 8   RegistrationMonth  354365 non-null  int64         \n",
      " 9   FuelType           321470 non-null  object        \n",
      " 10  Brand              354365 non-null  object        \n",
      " 11  NotRepaired        283211 non-null  object        \n",
      " 12  DateCreated        354365 non-null  datetime64[ns]\n",
      " 13  NumberOfPictures   354365 non-null  int64         \n",
      " 14  PostalCode         354365 non-null  int64         \n",
      " 15  LastSeen           354365 non-null  object        \n",
      "dtypes: datetime64[ns](2), int64(7), object(7)\n",
      "memory usage: 43.3+ MB\n"
     ]
    }
   ],
   "source": [
    "data.info()"
   ]
  },
  {
   "cell_type": "markdown",
   "metadata": {},
   "source": [
    "#### Избавление от пропусков"
   ]
  },
  {
   "cell_type": "markdown",
   "metadata": {},
   "source": [
    "Пропуски присутствуют в 5 столбцах: Model - модель автомобиля, Gearbox - тип коробки передач, FuelType - тип топлива, VehicleType - тип автомобильного кузова, NotRepaired - была машина в ремонте или нет"
   ]
  },
  {
   "cell_type": "markdown",
   "metadata": {},
   "source": [
    "<b>Столбец NotRepaired</b>"
   ]
  },
  {
   "cell_type": "markdown",
   "metadata": {},
   "source": [
    "Заполним пропущенные значения значением \"no\", так как, по моему мнению, если значение в данном столбце не указано, то машина не находилась в ремонте"
   ]
  },
  {
   "cell_type": "code",
   "execution_count": 15,
   "metadata": {},
   "outputs": [],
   "source": [
    "data['NotRepaired'] = data['NotRepaired'].fillna('no')"
   ]
  },
  {
   "cell_type": "markdown",
   "metadata": {},
   "source": [
    "По остальным столбцам мы не сможем узнать, какие значение пропущены, не спросив у того, кто предоставляет данный датасет, поэтому заполним оставшиеся пропуски слово unknown"
   ]
  },
  {
   "cell_type": "code",
   "execution_count": 16,
   "metadata": {},
   "outputs": [
    {
     "name": "stdout",
     "output_type": "stream",
     "text": [
      "<class 'pandas.core.frame.DataFrame'>\n",
      "RangeIndex: 354365 entries, 0 to 354364\n",
      "Data columns (total 16 columns):\n",
      " #   Column             Non-Null Count   Dtype         \n",
      "---  ------             --------------   -----         \n",
      " 0   DateCrawled        354365 non-null  datetime64[ns]\n",
      " 1   Price              354365 non-null  int64         \n",
      " 2   VehicleType        354365 non-null  object        \n",
      " 3   RegistrationYear   354365 non-null  int64         \n",
      " 4   Gearbox            354365 non-null  object        \n",
      " 5   Power              354365 non-null  int64         \n",
      " 6   Model              354365 non-null  object        \n",
      " 7   Kilometer          354365 non-null  int64         \n",
      " 8   RegistrationMonth  354365 non-null  int64         \n",
      " 9   FuelType           354365 non-null  object        \n",
      " 10  Brand              354365 non-null  object        \n",
      " 11  NotRepaired        354365 non-null  object        \n",
      " 12  DateCreated        354365 non-null  datetime64[ns]\n",
      " 13  NumberOfPictures   354365 non-null  int64         \n",
      " 14  PostalCode         354365 non-null  int64         \n",
      " 15  LastSeen           354365 non-null  object        \n",
      "dtypes: datetime64[ns](2), int64(7), object(7)\n",
      "memory usage: 43.3+ MB\n"
     ]
    }
   ],
   "source": [
    "data = data.fillna('unknown')\n",
    "data.info()"
   ]
  },
  {
   "cell_type": "markdown",
   "metadata": {},
   "source": [
    "#### Избавление от аномальных значений"
   ]
  },
  {
   "cell_type": "markdown",
   "metadata": {},
   "source": [
    "Требуется избавится от аномальных значений в столбцах RegistrationYear и Power"
   ]
  },
  {
   "cell_type": "markdown",
   "metadata": {},
   "source": [
    "<b>Столбец RegistrationYear</b>"
   ]
  },
  {
   "cell_type": "code",
   "execution_count": 17,
   "metadata": {},
   "outputs": [
    {
     "data": {
      "text/plain": [
       "RegistrationYear\n",
       "1000    37\n",
       "1001     1\n",
       "1039     1\n",
       "1111     3\n",
       "1200     1\n",
       "        ..\n",
       "9000     3\n",
       "9229     1\n",
       "9450     1\n",
       "9996     1\n",
       "9999    26\n",
       "Name: Brand, Length: 151, dtype: int64"
      ]
     },
     "metadata": {},
     "output_type": "display_data"
    }
   ],
   "source": [
    "cars_count = data.groupby('RegistrationYear')['Brand'].count()\n",
    "display(cars_count)\n",
    "pd.set_option('display.max_rows', 1000)"
   ]
  },
  {
   "cell_type": "markdown",
   "metadata": {},
   "source": [
    "Здесь можно заметить, что очень мало значений до 1960 года, также удалим значения после 2019"
   ]
  },
  {
   "cell_type": "code",
   "execution_count": 18,
   "metadata": {},
   "outputs": [
    {
     "data": {
      "text/plain": [
       "Text(0, 0.5, 'количество машин')"
      ]
     },
     "execution_count": 18,
     "metadata": {},
     "output_type": "execute_result"
    },
    {
     "data": {
      "image/png": "[encoded data removed]",
      "text/plain": [
       "<Figure size 432x288 with 1 Axes>"
      ]
     },
     "metadata": {
      "needs_background": "light"
     },
     "output_type": "display_data"
    }
   ],
   "source": [
    "data = data.query('1960 <=RegistrationYear <= 2019').reset_index(drop = True)\n",
    "data.hist('RegistrationYear', bins = 100)\n",
    "plt.xlabel('год выпуска')\n",
    "plt.ylabel('количество машин')"
   ]
  },
  {
   "cell_type": "markdown",
   "metadata": {},
   "source": [
    "<b>Столбец Power</b>"
   ]
  },
  {
   "cell_type": "code",
   "execution_count": 19,
   "metadata": {},
   "outputs": [
    {
     "data": {
      "text/plain": [
       "Power\n",
       "0        39903\n",
       "1           33\n",
       "2           10\n",
       "3            8\n",
       "4           30\n",
       "5          102\n",
       "6           11\n",
       "7           11\n",
       "8            6\n",
       "9            4\n",
       "10          14\n",
       "11          27\n",
       "12          19\n",
       "13           7\n",
       "14          20\n",
       "15          18\n",
       "16           9\n",
       "17           8\n",
       "18          48\n",
       "19          12\n",
       "20          20\n",
       "21           5\n",
       "22           4\n",
       "23          38\n",
       "24          26\n",
       "25          15\n",
       "26         287\n",
       "27          38\n",
       "28           5\n",
       "29          35\n",
       "30          24\n",
       "31           9\n",
       "32           4\n",
       "33          58\n",
       "34         183\n",
       "35          10\n",
       "36           8\n",
       "37          48\n",
       "38          14\n",
       "39         138\n",
       "40         315\n",
       "41         441\n",
       "42          49\n",
       "43         115\n",
       "44         393\n",
       "45        2977\n",
       "46          57\n",
       "47          33\n",
       "48          93\n",
       "49          24\n",
       "50        4622\n",
       "51          93\n",
       "52         317\n",
       "53         208\n",
       "54        5741\n",
       "55        2109\n",
       "56         273\n",
       "57         129\n",
       "58        3851\n",
       "59         248\n",
       "60       15891\n",
       "61         989\n",
       "62          96\n",
       "63         402\n",
       "64        1568\n",
       "65        2189\n",
       "66         189\n",
       "67         440\n",
       "68        2819\n",
       "69        3649\n",
       "70        1085\n",
       "71        1445\n",
       "72         488\n",
       "73         766\n",
       "74         374\n",
       "75       24017\n",
       "76         254\n",
       "77         895\n",
       "78         209\n",
       "79         142\n",
       "80        4044\n",
       "81         125\n",
       "82        2312\n",
       "83         372\n",
       "84         961\n",
       "85         596\n",
       "86        2701\n",
       "87         784\n",
       "88        1521\n",
       "89         106\n",
       "90       12731\n",
       "91         115\n",
       "92         445\n",
       "93          32\n",
       "94         390\n",
       "95        3007\n",
       "96         134\n",
       "97         534\n",
       "98        1026\n",
       "99         602\n",
       "100       1506\n",
       "101      13297\n",
       "102       6450\n",
       "103        983\n",
       "104        140\n",
       "105      10355\n",
       "106        433\n",
       "107       1361\n",
       "108        168\n",
       "109       4775\n",
       "110       4726\n",
       "111        538\n",
       "112        191\n",
       "113        936\n",
       "114        917\n",
       "115       3322\n",
       "116      11917\n",
       "117        214\n",
       "118       1248\n",
       "119         50\n",
       "120       3872\n",
       "121        371\n",
       "122       5125\n",
       "123         32\n",
       "124        224\n",
       "125       6965\n",
       "126        525\n",
       "127         31\n",
       "128        413\n",
       "129       1483\n",
       "130        910\n",
       "131       5107\n",
       "132        448\n",
       "133        656\n",
       "134         59\n",
       "135        858\n",
       "136       6752\n",
       "137         80\n",
       "138         52\n",
       "139        287\n",
       "140      12852\n",
       "141        722\n",
       "142         80\n",
       "143       5300\n",
       "144        685\n",
       "145       1016\n",
       "146        148\n",
       "147       1191\n",
       "148         90\n",
       "149         58\n",
       "150      14588\n",
       "151        222\n",
       "152        105\n",
       "153          8\n",
       "154         65\n",
       "155        962\n",
       "156        818\n",
       "157         27\n",
       "158        201\n",
       "159         15\n",
       "160       2427\n",
       "161         32\n",
       "162         43\n",
       "163       6081\n",
       "164         66\n",
       "165        907\n",
       "166        240\n",
       "167        103\n",
       "168         31\n",
       "169        120\n",
       "170      10118\n",
       "171        111\n",
       "172         33\n",
       "173        206\n",
       "174       1300\n",
       "175        357\n",
       "176         54\n",
       "177       3373\n",
       "178         97\n",
       "179       2133\n",
       "180        750\n",
       "181         25\n",
       "182        101\n",
       "183         23\n",
       "184       1622\n",
       "185        590\n",
       "186         51\n",
       "187         11\n",
       "188         86\n",
       "189         39\n",
       "190       1379\n",
       "191         22\n",
       "192       1553\n",
       "193       2626\n",
       "194        160\n",
       "195         39\n",
       "196         74\n",
       "197       1138\n",
       "198         41\n",
       "199         45\n",
       "200       2039\n",
       "201         92\n",
       "202          6\n",
       "203        114\n",
       "204       1748\n",
       "205        182\n",
       "206         13\n",
       "207        206\n",
       "208         42\n",
       "209        179\n",
       "210         96\n",
       "211        965\n",
       "212         48\n",
       "213         40\n",
       "214         13\n",
       "215         66\n",
       "216         20\n",
       "217         14\n",
       "218       2252\n",
       "219         13\n",
       "220        676\n",
       "221          5\n",
       "222         27\n",
       "223         50\n",
       "224       2023\n",
       "225        133\n",
       "226        181\n",
       "227         11\n",
       "228         37\n",
       "229          3\n",
       "230        355\n",
       "231       1976\n",
       "232        705\n",
       "233         61\n",
       "234         40\n",
       "235        644\n",
       "236         10\n",
       "237         25\n",
       "238        103\n",
       "239        621\n",
       "240        113\n",
       "241        280\n",
       "242         10\n",
       "243         22\n",
       "244          4\n",
       "245        365\n",
       "246          7\n",
       "247         18\n",
       "248          3\n",
       "249         34\n",
       "250        780\n",
       "251          2\n",
       "252         71\n",
       "253         13\n",
       "254         27\n",
       "255         11\n",
       "256        154\n",
       "257          4\n",
       "258        181\n",
       "259          6\n",
       "260        245\n",
       "261          4\n",
       "262          8\n",
       "264         38\n",
       "265        444\n",
       "266          8\n",
       "267          2\n",
       "268         11\n",
       "269         13\n",
       "270         43\n",
       "271         41\n",
       "272        755\n",
       "273         21\n",
       "274          9\n",
       "275         95\n",
       "276         20\n",
       "277          9\n",
       "278         13\n",
       "279        201\n",
       "280        256\n",
       "281          8\n",
       "282          1\n",
       "283          7\n",
       "284         33\n",
       "285         16\n",
       "286        592\n",
       "287         11\n",
       "288          6\n",
       "289          8\n",
       "290         59\n",
       "292         59\n",
       "293          2\n",
       "294          3\n",
       "295          4\n",
       "296          4\n",
       "297          1\n",
       "298         19\n",
       "299        192\n",
       "300        213\n",
       "301         12\n",
       "303         11\n",
       "304          5\n",
       "305         77\n",
       "306        686\n",
       "307          5\n",
       "308          3\n",
       "309         15\n",
       "310         84\n",
       "311         12\n",
       "313        109\n",
       "314         15\n",
       "315         20\n",
       "316          2\n",
       "317          2\n",
       "318          6\n",
       "320        113\n",
       "321         15\n",
       "322         14\n",
       "323          1\n",
       "324          5\n",
       "325         25\n",
       "326        148\n",
       "327          2\n",
       "328          6\n",
       "329         24\n",
       "330         50\n",
       "331          1\n",
       "332          1\n",
       "333        182\n",
       "334         87\n",
       "335         11\n",
       "336          2\n",
       "337          1\n",
       "338          4\n",
       "339          1\n",
       "340        213\n",
       "341          5\n",
       "343         47\n",
       "344        106\n",
       "345         34\n",
       "346          3\n",
       "347         33\n",
       "348          2\n",
       "349         66\n",
       "350         35\n",
       "351          2\n",
       "352          3\n",
       "353          1\n",
       "354         69\n",
       "355         12\n",
       "356          1\n",
       "357          3\n",
       "358          3\n",
       "360         42\n",
       "361          1\n",
       "362          3\n",
       "363         15\n",
       "364          5\n",
       "365          5\n",
       "367         77\n",
       "368          5\n",
       "370          7\n",
       "371          2\n",
       "374          3\n",
       "375          5\n",
       "376          2\n",
       "377          1\n",
       "379          5\n",
       "380          8\n",
       "381          6\n",
       "382          2\n",
       "385         15\n",
       "386          5\n",
       "387         58\n",
       "388          6\n",
       "390         10\n",
       "392          2\n",
       "394         15\n",
       "396          8\n",
       "398          1\n",
       "399          4\n",
       "400         52\n",
       "401          4\n",
       "402          1\n",
       "405          5\n",
       "408         11\n",
       "409          1\n",
       "411          2\n",
       "416          1\n",
       "420         23\n",
       "421          1\n",
       "425          1\n",
       "426          2\n",
       "428          1\n",
       "430          5\n",
       "431          4\n",
       "435         35\n",
       "440          3\n",
       "442          1\n",
       "445         11\n",
       "449          1\n",
       "450         85\n",
       "454          1\n",
       "457          2\n",
       "459          1\n",
       "460          1\n",
       "475          1\n",
       "476         31\n",
       "485          1\n",
       "487          2\n",
       "489          1\n",
       "490          1\n",
       "500         37\n",
       "504          3\n",
       "505          1\n",
       "507         13\n",
       "508          1\n",
       "510          4\n",
       "514          4\n",
       "515          3\n",
       "517          2\n",
       "519          1\n",
       "520          2\n",
       "521          6\n",
       "525          1\n",
       "530          1\n",
       "540          2\n",
       "541          1\n",
       "544          1\n",
       "550          2\n",
       "551          2\n",
       "553          1\n",
       "560          1\n",
       "572          1\n",
       "574          1\n",
       "579          3\n",
       "580          3\n",
       "584          1\n",
       "585          2\n",
       "599          2\n",
       "600          9\n",
       "601          3\n",
       "602          1\n",
       "603          5\n",
       "604          1\n",
       "606          3\n",
       "607          1\n",
       "610          1\n",
       "612          1\n",
       "620          2\n",
       "640          1\n",
       "645          1\n",
       "650          2\n",
       "651          1\n",
       "671          1\n",
       "678          1\n",
       "682          1\n",
       "685          1\n",
       "696          1\n",
       "700          2\n",
       "702          1\n",
       "703          1\n",
       "732          1\n",
       "743          1\n",
       "750          4\n",
       "751          2\n",
       "754          1\n",
       "771          1\n",
       "776          1\n",
       "800          3\n",
       "805          1\n",
       "808          1\n",
       "850          1\n",
       "851          1\n",
       "871          1\n",
       "900          4\n",
       "901          1\n",
       "902          1\n",
       "903          1\n",
       "907          1\n",
       "909          2\n",
       "923          1\n",
       "950          3\n",
       "952          1\n",
       "953          1\n",
       "960          1\n",
       "998          1\n",
       "999          4\n",
       "1000         3\n",
       "1001         6\n",
       "1002         1\n",
       "1003         2\n",
       "1004         1\n",
       "1005         2\n",
       "1011         3\n",
       "1012         1\n",
       "1016         2\n",
       "1017         1\n",
       "1021         2\n",
       "1024         1\n",
       "1054         1\n",
       "1055         1\n",
       "1056         1\n",
       "1062         1\n",
       "1079         1\n",
       "1082         1\n",
       "1090         1\n",
       "1100         1\n",
       "1102         1\n",
       "1103         2\n",
       "1105         1\n",
       "1111         1\n",
       "1115         1\n",
       "1120         1\n",
       "1149         1\n",
       "1151         1\n",
       "1158         1\n",
       "1160         1\n",
       "1162         1\n",
       "1164         1\n",
       "1199         1\n",
       "1200         1\n",
       "1202         1\n",
       "1221         1\n",
       "1223         1\n",
       "1230         1\n",
       "1239         1\n",
       "1240         1\n",
       "1241         1\n",
       "1250         2\n",
       "1252         1\n",
       "1256         1\n",
       "1275         1\n",
       "1288         1\n",
       "1299         1\n",
       "1300         3\n",
       "1312         1\n",
       "1317         1\n",
       "1339         1\n",
       "1351         1\n",
       "1360         1\n",
       "1362         1\n",
       "1363         2\n",
       "1367         1\n",
       "1390         2\n",
       "1394         1\n",
       "1398         1\n",
       "1399         2\n",
       "1400         6\n",
       "1401         2\n",
       "1403         2\n",
       "1405         1\n",
       "1416         1\n",
       "1432         1\n",
       "1433         1\n",
       "1436         1\n",
       "1500         4\n",
       "1501         1\n",
       "1502         1\n",
       "1503         2\n",
       "1506         1\n",
       "1521         1\n",
       "1548         1\n",
       "1595         2\n",
       "1596         1\n",
       "1597         1\n",
       "1598         8\n",
       "1600         4\n",
       "1625         1\n",
       "1631         1\n",
       "1653         1\n",
       "1659         1\n",
       "1689         1\n",
       "1700         3\n",
       "1701         1\n",
       "1703         1\n",
       "1704         1\n",
       "1707         1\n",
       "1753         2\n",
       "1771         1\n",
       "1779         2\n",
       "1780         1\n",
       "1781         2\n",
       "1783         1\n",
       "1793         1\n",
       "1796         1\n",
       "1799         2\n",
       "1800         6\n",
       "1801         1\n",
       "1870         1\n",
       "1895         1\n",
       "1896         1\n",
       "1900         2\n",
       "1910         1\n",
       "1920         1\n",
       "1922         1\n",
       "1933         1\n",
       "1937         1\n",
       "1968         1\n",
       "1986         1\n",
       "1988         1\n",
       "1992         1\n",
       "1993         1\n",
       "1995         2\n",
       "1998         3\n",
       "1999         1\n",
       "2000         4\n",
       "2004         1\n",
       "2005         1\n",
       "2007         1\n",
       "2009         1\n",
       "2016         3\n",
       "2017         3\n",
       "2018         3\n",
       "2172         1\n",
       "2200         1\n",
       "2201         1\n",
       "2331         1\n",
       "2340         1\n",
       "2389         1\n",
       "2402         1\n",
       "2461         1\n",
       "2598         1\n",
       "2729         1\n",
       "2789         1\n",
       "2792         1\n",
       "2799         1\n",
       "3199         1\n",
       "3454         1\n",
       "3500         2\n",
       "3750         1\n",
       "4400         1\n",
       "4507         1\n",
       "4700         2\n",
       "5000         1\n",
       "5411         1\n",
       "5420         1\n",
       "5575         1\n",
       "5809         1\n",
       "5815         1\n",
       "5867         1\n",
       "6006         1\n",
       "6010         1\n",
       "6011         1\n",
       "6012         2\n",
       "6018         1\n",
       "6045         1\n",
       "6062         1\n",
       "6226         1\n",
       "6512         1\n",
       "6920         1\n",
       "7508         1\n",
       "7511         2\n",
       "7512         1\n",
       "7515         1\n",
       "7518         1\n",
       "7529         1\n",
       "7544         1\n",
       "8011         1\n",
       "8259         1\n",
       "8404         1\n",
       "8500         1\n",
       "9000         1\n",
       "9007         1\n",
       "9010         1\n",
       "9011         1\n",
       "9012         2\n",
       "9013         1\n",
       "9710         1\n",
       "10000        1\n",
       "10110        1\n",
       "10218        1\n",
       "10311        1\n",
       "10317        1\n",
       "10520        1\n",
       "10522        2\n",
       "10710        1\n",
       "10910        1\n",
       "10912        1\n",
       "11011        1\n",
       "11025        1\n",
       "11111        1\n",
       "11509        1\n",
       "11530        1\n",
       "11635        1\n",
       "12012        1\n",
       "12510        2\n",
       "12512        3\n",
       "12684        1\n",
       "13616        1\n",
       "13636        1\n",
       "14009        1\n",
       "15001        1\n",
       "15016        1\n",
       "15017        1\n",
       "15020        1\n",
       "15033        1\n",
       "16011        1\n",
       "16051        1\n",
       "16311        1\n",
       "16312        1\n",
       "17011        1\n",
       "17019        1\n",
       "17410        1\n",
       "17700        1\n",
       "17932        1\n",
       "19208        1\n",
       "19211        1\n",
       "19312        1\n",
       "20000        1\n",
       "Name: Brand, dtype: int64"
      ]
     },
     "metadata": {},
     "output_type": "display_data"
    }
   ],
   "source": [
    "cars_count_power = data.groupby('Power')['Brand'].count()\n",
    "display(cars_count_power)\n",
    "pd.set_option('display.max_rows', 1000)"
   ]
  },
  {
   "cell_type": "markdown",
   "metadata": {},
   "source": [
    "Можно заметить много значений около нуля, что говорит о том, что владельцы автомобилей не знают мощность воей машины, данные знаения нецелесообразно удалять, так как мы потеряем много данных, а вот значения после 400 л.с. стоит удалить"
   ]
  },
  {
   "cell_type": "code",
   "execution_count": 20,
   "metadata": {},
   "outputs": [
    {
     "data": {
      "text/plain": [
       "Text(0, 0.5, 'количество машин')"
      ]
     },
     "execution_count": 20,
     "metadata": {},
     "output_type": "execute_result"
    },
    {
     "data": {
      "image/png": "[encoded data removed]",
      "text/plain": [
       "<Figure size 432x288 with 1 Axes>"
      ]
     },
     "metadata": {
      "needs_background": "light"
     },
     "output_type": "display_data"
    }
   ],
   "source": [
    "data = data.query('0 <= Power <= 400').reset_index(drop = True)\n",
    "data.hist('Power', bins = 50)\n",
    "plt.xlabel('мощность')\n",
    "plt.ylabel('количество машин')"
   ]
  },
  {
   "cell_type": "markdown",
   "metadata": {},
   "source": [
    "#### Кодировка категориальных колонок"
   ]
  },
  {
   "cell_type": "markdown",
   "metadata": {},
   "source": [
    "В столбцах VehicleType, Gearbox, FuelType, Brand и Model будем кодировать категориальные колонки с помощью прямого кодирования."
   ]
  },
  {
   "cell_type": "code",
   "execution_count": 21,
   "metadata": {},
   "outputs": [
    {
     "data": {
      "text/html": [
       "<div>\n",
       "<style scoped>\n",
       "    .dataframe tbody tr th:only-of-type {\n",
       "        vertical-align: middle;\n",
       "    }\n",
       "\n",
       "    .dataframe tbody tr th {\n",
       "        vertical-align: top;\n",
       "    }\n",
       "\n",
       "    .dataframe thead th {\n",
       "        text-align: right;\n",
       "    }\n",
       "</style>\n",
       "<table border=\"1\" class=\"dataframe\">\n",
       "  <thead>\n",
       "    <tr style=\"text-align: right;\">\n",
       "      <th></th>\n",
       "      <th>DateCrawled</th>\n",
       "      <th>Price</th>\n",
       "      <th>RegistrationYear</th>\n",
       "      <th>Power</th>\n",
       "      <th>Model</th>\n",
       "      <th>Kilometer</th>\n",
       "      <th>RegistrationMonth</th>\n",
       "      <th>NotRepaired</th>\n",
       "      <th>DateCreated</th>\n",
       "      <th>NumberOfPictures</th>\n",
       "      <th>...</th>\n",
       "      <th>Brand_seat</th>\n",
       "      <th>Brand_skoda</th>\n",
       "      <th>Brand_smart</th>\n",
       "      <th>Brand_sonstige_autos</th>\n",
       "      <th>Brand_subaru</th>\n",
       "      <th>Brand_suzuki</th>\n",
       "      <th>Brand_toyota</th>\n",
       "      <th>Brand_trabant</th>\n",
       "      <th>Brand_volkswagen</th>\n",
       "      <th>Brand_volvo</th>\n",
       "    </tr>\n",
       "  </thead>\n",
       "  <tbody>\n",
       "    <tr>\n",
       "      <th>0</th>\n",
       "      <td>2016-03-24 11:52:17</td>\n",
       "      <td>480</td>\n",
       "      <td>1993</td>\n",
       "      <td>0</td>\n",
       "      <td>golf</td>\n",
       "      <td>150000</td>\n",
       "      <td>0</td>\n",
       "      <td>no</td>\n",
       "      <td>2016-03-24 11:52:17</td>\n",
       "      <td>0</td>\n",
       "      <td>...</td>\n",
       "      <td>0</td>\n",
       "      <td>0</td>\n",
       "      <td>0</td>\n",
       "      <td>0</td>\n",
       "      <td>0</td>\n",
       "      <td>0</td>\n",
       "      <td>0</td>\n",
       "      <td>0</td>\n",
       "      <td>1</td>\n",
       "      <td>0</td>\n",
       "    </tr>\n",
       "    <tr>\n",
       "      <th>1</th>\n",
       "      <td>2016-03-24 10:58:45</td>\n",
       "      <td>18300</td>\n",
       "      <td>2011</td>\n",
       "      <td>190</td>\n",
       "      <td>unknown</td>\n",
       "      <td>125000</td>\n",
       "      <td>5</td>\n",
       "      <td>yes</td>\n",
       "      <td>2016-03-24 10:58:45</td>\n",
       "      <td>0</td>\n",
       "      <td>...</td>\n",
       "      <td>0</td>\n",
       "      <td>0</td>\n",
       "      <td>0</td>\n",
       "      <td>0</td>\n",
       "      <td>0</td>\n",
       "      <td>0</td>\n",
       "      <td>0</td>\n",
       "      <td>0</td>\n",
       "      <td>0</td>\n",
       "      <td>0</td>\n",
       "    </tr>\n",
       "    <tr>\n",
       "      <th>2</th>\n",
       "      <td>2016-03-14 12:52:21</td>\n",
       "      <td>9800</td>\n",
       "      <td>2004</td>\n",
       "      <td>163</td>\n",
       "      <td>grand</td>\n",
       "      <td>125000</td>\n",
       "      <td>8</td>\n",
       "      <td>no</td>\n",
       "      <td>2016-03-14 12:52:21</td>\n",
       "      <td>0</td>\n",
       "      <td>...</td>\n",
       "      <td>0</td>\n",
       "      <td>0</td>\n",
       "      <td>0</td>\n",
       "      <td>0</td>\n",
       "      <td>0</td>\n",
       "      <td>0</td>\n",
       "      <td>0</td>\n",
       "      <td>0</td>\n",
       "      <td>0</td>\n",
       "      <td>0</td>\n",
       "    </tr>\n",
       "    <tr>\n",
       "      <th>3</th>\n",
       "      <td>2016-03-17 16:54:04</td>\n",
       "      <td>1500</td>\n",
       "      <td>2001</td>\n",
       "      <td>75</td>\n",
       "      <td>golf</td>\n",
       "      <td>150000</td>\n",
       "      <td>6</td>\n",
       "      <td>no</td>\n",
       "      <td>2016-03-17 16:54:04</td>\n",
       "      <td>0</td>\n",
       "      <td>...</td>\n",
       "      <td>0</td>\n",
       "      <td>0</td>\n",
       "      <td>0</td>\n",
       "      <td>0</td>\n",
       "      <td>0</td>\n",
       "      <td>0</td>\n",
       "      <td>0</td>\n",
       "      <td>0</td>\n",
       "      <td>1</td>\n",
       "      <td>0</td>\n",
       "    </tr>\n",
       "    <tr>\n",
       "      <th>4</th>\n",
       "      <td>2016-03-31 17:25:20</td>\n",
       "      <td>3600</td>\n",
       "      <td>2008</td>\n",
       "      <td>69</td>\n",
       "      <td>fabia</td>\n",
       "      <td>90000</td>\n",
       "      <td>7</td>\n",
       "      <td>no</td>\n",
       "      <td>2016-03-31 17:25:20</td>\n",
       "      <td>0</td>\n",
       "      <td>...</td>\n",
       "      <td>0</td>\n",
       "      <td>1</td>\n",
       "      <td>0</td>\n",
       "      <td>0</td>\n",
       "      <td>0</td>\n",
       "      <td>0</td>\n",
       "      <td>0</td>\n",
       "      <td>0</td>\n",
       "      <td>0</td>\n",
       "      <td>0</td>\n",
       "    </tr>\n",
       "  </tbody>\n",
       "</table>\n",
       "<p>5 rows × 72 columns</p>\n",
       "</div>"
      ],
      "text/plain": [
       "          DateCrawled  Price  RegistrationYear  Power    Model  Kilometer  \\\n",
       "0 2016-03-24 11:52:17    480              1993      0     golf     150000   \n",
       "1 2016-03-24 10:58:45  18300              2011    190  unknown     125000   \n",
       "2 2016-03-14 12:52:21   9800              2004    163    grand     125000   \n",
       "3 2016-03-17 16:54:04   1500              2001     75     golf     150000   \n",
       "4 2016-03-31 17:25:20   3600              2008     69    fabia      90000   \n",
       "\n",
       "   RegistrationMonth NotRepaired         DateCreated  NumberOfPictures  ...  \\\n",
       "0                  0          no 2016-03-24 11:52:17                 0  ...   \n",
       "1                  5         yes 2016-03-24 10:58:45                 0  ...   \n",
       "2                  8          no 2016-03-14 12:52:21                 0  ...   \n",
       "3                  6          no 2016-03-17 16:54:04                 0  ...   \n",
       "4                  7          no 2016-03-31 17:25:20                 0  ...   \n",
       "\n",
       "   Brand_seat Brand_skoda  Brand_smart  Brand_sonstige_autos  Brand_subaru  \\\n",
       "0           0           0            0                     0             0   \n",
       "1           0           0            0                     0             0   \n",
       "2           0           0            0                     0             0   \n",
       "3           0           0            0                     0             0   \n",
       "4           0           1            0                     0             0   \n",
       "\n",
       "   Brand_suzuki  Brand_toyota  Brand_trabant  Brand_volkswagen  Brand_volvo  \n",
       "0             0             0              0                 1            0  \n",
       "1             0             0              0                 0            0  \n",
       "2             0             0              0                 0            0  \n",
       "3             0             0              0                 1            0  \n",
       "4             0             0              0                 0            0  \n",
       "\n",
       "[5 rows x 72 columns]"
      ]
     },
     "execution_count": 21,
     "metadata": {},
     "output_type": "execute_result"
    }
   ],
   "source": [
    "new_data = pd.concat([data, pd.get_dummies(data[['VehicleType', 'Gearbox', 'FuelType', 'Brand']])], axis = 1)\n",
    "new_data = new_data.drop(columns = ['VehicleType', 'Gearbox', 'FuelType', 'Brand'])\n",
    "\n",
    "new_data.head()"
   ]
  },
  {
   "cell_type": "code",
   "execution_count": 22,
   "metadata": {},
   "outputs": [],
   "source": [
    "encoder = OrdinalEncoder() \n",
    "new_data['Model'] = pd.DataFrame(encoder.fit_transform(new_data[['Model']]))"
   ]
  },
  {
   "cell_type": "code",
   "execution_count": 23,
   "metadata": {},
   "outputs": [
    {
     "name": "stdout",
     "output_type": "stream",
     "text": [
      "<class 'pandas.core.frame.DataFrame'>\n",
      "RangeIndex: 353117 entries, 0 to 353116\n",
      "Data columns (total 72 columns):\n",
      " #   Column                   Non-Null Count   Dtype         \n",
      "---  ------                   --------------   -----         \n",
      " 0   DateCrawled              353117 non-null  datetime64[ns]\n",
      " 1   Price                    353117 non-null  int64         \n",
      " 2   RegistrationYear         353117 non-null  int64         \n",
      " 3   Power                    353117 non-null  int64         \n",
      " 4   Model                    353117 non-null  float64       \n",
      " 5   Kilometer                353117 non-null  int64         \n",
      " 6   RegistrationMonth        353117 non-null  int64         \n",
      " 7   NotRepaired              353117 non-null  object        \n",
      " 8   DateCreated              353117 non-null  datetime64[ns]\n",
      " 9   NumberOfPictures         353117 non-null  int64         \n",
      " 10  PostalCode               353117 non-null  int64         \n",
      " 11  LastSeen                 353117 non-null  object        \n",
      " 12  VehicleType_bus          353117 non-null  uint8         \n",
      " 13  VehicleType_convertible  353117 non-null  uint8         \n",
      " 14  VehicleType_coupe        353117 non-null  uint8         \n",
      " 15  VehicleType_other        353117 non-null  uint8         \n",
      " 16  VehicleType_sedan        353117 non-null  uint8         \n",
      " 17  VehicleType_small        353117 non-null  uint8         \n",
      " 18  VehicleType_suv          353117 non-null  uint8         \n",
      " 19  VehicleType_unknown      353117 non-null  uint8         \n",
      " 20  VehicleType_wagon        353117 non-null  uint8         \n",
      " 21  Gearbox_auto             353117 non-null  uint8         \n",
      " 22  Gearbox_manual           353117 non-null  uint8         \n",
      " 23  Gearbox_unknown          353117 non-null  uint8         \n",
      " 24  FuelType_cng             353117 non-null  uint8         \n",
      " 25  FuelType_electric        353117 non-null  uint8         \n",
      " 26  FuelType_gasoline        353117 non-null  uint8         \n",
      " 27  FuelType_hybrid          353117 non-null  uint8         \n",
      " 28  FuelType_lpg             353117 non-null  uint8         \n",
      " 29  FuelType_other           353117 non-null  uint8         \n",
      " 30  FuelType_petrol          353117 non-null  uint8         \n",
      " 31  FuelType_unknown         353117 non-null  uint8         \n",
      " 32  Brand_alfa_romeo         353117 non-null  uint8         \n",
      " 33  Brand_audi               353117 non-null  uint8         \n",
      " 34  Brand_bmw                353117 non-null  uint8         \n",
      " 35  Brand_chevrolet          353117 non-null  uint8         \n",
      " 36  Brand_chrysler           353117 non-null  uint8         \n",
      " 37  Brand_citroen            353117 non-null  uint8         \n",
      " 38  Brand_dacia              353117 non-null  uint8         \n",
      " 39  Brand_daewoo             353117 non-null  uint8         \n",
      " 40  Brand_daihatsu           353117 non-null  uint8         \n",
      " 41  Brand_fiat               353117 non-null  uint8         \n",
      " 42  Brand_ford               353117 non-null  uint8         \n",
      " 43  Brand_honda              353117 non-null  uint8         \n",
      " 44  Brand_hyundai            353117 non-null  uint8         \n",
      " 45  Brand_jaguar             353117 non-null  uint8         \n",
      " 46  Brand_jeep               353117 non-null  uint8         \n",
      " 47  Brand_kia                353117 non-null  uint8         \n",
      " 48  Brand_lada               353117 non-null  uint8         \n",
      " 49  Brand_lancia             353117 non-null  uint8         \n",
      " 50  Brand_land_rover         353117 non-null  uint8         \n",
      " 51  Brand_mazda              353117 non-null  uint8         \n",
      " 52  Brand_mercedes_benz      353117 non-null  uint8         \n",
      " 53  Brand_mini               353117 non-null  uint8         \n",
      " 54  Brand_mitsubishi         353117 non-null  uint8         \n",
      " 55  Brand_nissan             353117 non-null  uint8         \n",
      " 56  Brand_opel               353117 non-null  uint8         \n",
      " 57  Brand_peugeot            353117 non-null  uint8         \n",
      " 58  Brand_porsche            353117 non-null  uint8         \n",
      " 59  Brand_renault            353117 non-null  uint8         \n",
      " 60  Brand_rover              353117 non-null  uint8         \n",
      " 61  Brand_saab               353117 non-null  uint8         \n",
      " 62  Brand_seat               353117 non-null  uint8         \n",
      " 63  Brand_skoda              353117 non-null  uint8         \n",
      " 64  Brand_smart              353117 non-null  uint8         \n",
      " 65  Brand_sonstige_autos     353117 non-null  uint8         \n",
      " 66  Brand_subaru             353117 non-null  uint8         \n",
      " 67  Brand_suzuki             353117 non-null  uint8         \n",
      " 68  Brand_toyota             353117 non-null  uint8         \n",
      " 69  Brand_trabant            353117 non-null  uint8         \n",
      " 70  Brand_volkswagen         353117 non-null  uint8         \n",
      " 71  Brand_volvo              353117 non-null  uint8         \n",
      "dtypes: datetime64[ns](2), float64(1), int64(7), object(2), uint8(60)\n",
      "memory usage: 52.5+ MB\n"
     ]
    }
   ],
   "source": [
    "new_data.info()"
   ]
  },
  {
   "cell_type": "code",
   "execution_count": 24,
   "metadata": {},
   "outputs": [
    {
     "data": {
      "text/html": [
       "<div>\n",
       "<style scoped>\n",
       "    .dataframe tbody tr th:only-of-type {\n",
       "        vertical-align: middle;\n",
       "    }\n",
       "\n",
       "    .dataframe tbody tr th {\n",
       "        vertical-align: top;\n",
       "    }\n",
       "\n",
       "    .dataframe thead th {\n",
       "        text-align: right;\n",
       "    }\n",
       "</style>\n",
       "<table border=\"1\" class=\"dataframe\">\n",
       "  <thead>\n",
       "    <tr style=\"text-align: right;\">\n",
       "      <th></th>\n",
       "      <th>DateCrawled</th>\n",
       "      <th>Price</th>\n",
       "      <th>RegistrationYear</th>\n",
       "      <th>Power</th>\n",
       "      <th>Model</th>\n",
       "      <th>Kilometer</th>\n",
       "      <th>RegistrationMonth</th>\n",
       "      <th>NotRepaired</th>\n",
       "      <th>DateCreated</th>\n",
       "      <th>NumberOfPictures</th>\n",
       "      <th>...</th>\n",
       "      <th>Brand_seat</th>\n",
       "      <th>Brand_skoda</th>\n",
       "      <th>Brand_smart</th>\n",
       "      <th>Brand_sonstige_autos</th>\n",
       "      <th>Brand_subaru</th>\n",
       "      <th>Brand_suzuki</th>\n",
       "      <th>Brand_toyota</th>\n",
       "      <th>Brand_trabant</th>\n",
       "      <th>Brand_volkswagen</th>\n",
       "      <th>Brand_volvo</th>\n",
       "    </tr>\n",
       "  </thead>\n",
       "  <tbody>\n",
       "    <tr>\n",
       "      <th>0</th>\n",
       "      <td>2016-03-24 11:52:17</td>\n",
       "      <td>480</td>\n",
       "      <td>1993</td>\n",
       "      <td>0</td>\n",
       "      <td>116.0</td>\n",
       "      <td>150000</td>\n",
       "      <td>0</td>\n",
       "      <td>False</td>\n",
       "      <td>2016-03-24 11:52:17</td>\n",
       "      <td>0</td>\n",
       "      <td>...</td>\n",
       "      <td>0</td>\n",
       "      <td>0</td>\n",
       "      <td>0</td>\n",
       "      <td>0</td>\n",
       "      <td>0</td>\n",
       "      <td>0</td>\n",
       "      <td>0</td>\n",
       "      <td>0</td>\n",
       "      <td>1</td>\n",
       "      <td>0</td>\n",
       "    </tr>\n",
       "    <tr>\n",
       "      <th>1</th>\n",
       "      <td>2016-03-24 10:58:45</td>\n",
       "      <td>18300</td>\n",
       "      <td>2011</td>\n",
       "      <td>190</td>\n",
       "      <td>228.0</td>\n",
       "      <td>125000</td>\n",
       "      <td>5</td>\n",
       "      <td>True</td>\n",
       "      <td>2016-03-24 10:58:45</td>\n",
       "      <td>0</td>\n",
       "      <td>...</td>\n",
       "      <td>0</td>\n",
       "      <td>0</td>\n",
       "      <td>0</td>\n",
       "      <td>0</td>\n",
       "      <td>0</td>\n",
       "      <td>0</td>\n",
       "      <td>0</td>\n",
       "      <td>0</td>\n",
       "      <td>0</td>\n",
       "      <td>0</td>\n",
       "    </tr>\n",
       "    <tr>\n",
       "      <th>2</th>\n",
       "      <td>2016-03-14 12:52:21</td>\n",
       "      <td>9800</td>\n",
       "      <td>2004</td>\n",
       "      <td>163</td>\n",
       "      <td>117.0</td>\n",
       "      <td>125000</td>\n",
       "      <td>8</td>\n",
       "      <td>False</td>\n",
       "      <td>2016-03-14 12:52:21</td>\n",
       "      <td>0</td>\n",
       "      <td>...</td>\n",
       "      <td>0</td>\n",
       "      <td>0</td>\n",
       "      <td>0</td>\n",
       "      <td>0</td>\n",
       "      <td>0</td>\n",
       "      <td>0</td>\n",
       "      <td>0</td>\n",
       "      <td>0</td>\n",
       "      <td>0</td>\n",
       "      <td>0</td>\n",
       "    </tr>\n",
       "    <tr>\n",
       "      <th>3</th>\n",
       "      <td>2016-03-17 16:54:04</td>\n",
       "      <td>1500</td>\n",
       "      <td>2001</td>\n",
       "      <td>75</td>\n",
       "      <td>116.0</td>\n",
       "      <td>150000</td>\n",
       "      <td>6</td>\n",
       "      <td>False</td>\n",
       "      <td>2016-03-17 16:54:04</td>\n",
       "      <td>0</td>\n",
       "      <td>...</td>\n",
       "      <td>0</td>\n",
       "      <td>0</td>\n",
       "      <td>0</td>\n",
       "      <td>0</td>\n",
       "      <td>0</td>\n",
       "      <td>0</td>\n",
       "      <td>0</td>\n",
       "      <td>0</td>\n",
       "      <td>1</td>\n",
       "      <td>0</td>\n",
       "    </tr>\n",
       "    <tr>\n",
       "      <th>4</th>\n",
       "      <td>2016-03-31 17:25:20</td>\n",
       "      <td>3600</td>\n",
       "      <td>2008</td>\n",
       "      <td>69</td>\n",
       "      <td>101.0</td>\n",
       "      <td>90000</td>\n",
       "      <td>7</td>\n",
       "      <td>False</td>\n",
       "      <td>2016-03-31 17:25:20</td>\n",
       "      <td>0</td>\n",
       "      <td>...</td>\n",
       "      <td>0</td>\n",
       "      <td>1</td>\n",
       "      <td>0</td>\n",
       "      <td>0</td>\n",
       "      <td>0</td>\n",
       "      <td>0</td>\n",
       "      <td>0</td>\n",
       "      <td>0</td>\n",
       "      <td>0</td>\n",
       "      <td>0</td>\n",
       "    </tr>\n",
       "  </tbody>\n",
       "</table>\n",
       "<p>5 rows × 72 columns</p>\n",
       "</div>"
      ],
      "text/plain": [
       "          DateCrawled  Price  RegistrationYear  Power  Model  Kilometer  \\\n",
       "0 2016-03-24 11:52:17    480              1993      0  116.0     150000   \n",
       "1 2016-03-24 10:58:45  18300              2011    190  228.0     125000   \n",
       "2 2016-03-14 12:52:21   9800              2004    163  117.0     125000   \n",
       "3 2016-03-17 16:54:04   1500              2001     75  116.0     150000   \n",
       "4 2016-03-31 17:25:20   3600              2008     69  101.0      90000   \n",
       "\n",
       "   RegistrationMonth  NotRepaired         DateCreated  NumberOfPictures  ...  \\\n",
       "0                  0        False 2016-03-24 11:52:17                 0  ...   \n",
       "1                  5         True 2016-03-24 10:58:45                 0  ...   \n",
       "2                  8        False 2016-03-14 12:52:21                 0  ...   \n",
       "3                  6        False 2016-03-17 16:54:04                 0  ...   \n",
       "4                  7        False 2016-03-31 17:25:20                 0  ...   \n",
       "\n",
       "   Brand_seat Brand_skoda  Brand_smart  Brand_sonstige_autos  Brand_subaru  \\\n",
       "0           0           0            0                     0             0   \n",
       "1           0           0            0                     0             0   \n",
       "2           0           0            0                     0             0   \n",
       "3           0           0            0                     0             0   \n",
       "4           0           1            0                     0             0   \n",
       "\n",
       "   Brand_suzuki  Brand_toyota  Brand_trabant  Brand_volkswagen  Brand_volvo  \n",
       "0             0             0              0                 1            0  \n",
       "1             0             0              0                 0            0  \n",
       "2             0             0              0                 0            0  \n",
       "3             0             0              0                 1            0  \n",
       "4             0             0              0                 0            0  \n",
       "\n",
       "[5 rows x 72 columns]"
      ]
     },
     "execution_count": 24,
     "metadata": {},
     "output_type": "execute_result"
    }
   ],
   "source": [
    "new_data['NotRepaired'] = new_data['NotRepaired'].replace('no', False)\n",
    "new_data['NotRepaired'] = new_data['NotRepaired'].replace('yes', True)\n",
    "new_data.head()"
   ]
  },
  {
   "cell_type": "markdown",
   "metadata": {},
   "source": [
    "<b>Вывод:</b> в ходе подготовки данные были изучены, избавлены от дубликатов и пропусков, а также были удалены аномальные значения из столбцов RegistrationYear и Power. В столбцах VehicleType, Gearbox, FuelType и Brand избавились от качественных признаков. Так как столбец price имеет количественные значения, то будет решать задачу регрессии."
   ]
  },
  {
   "cell_type": "markdown",
   "metadata": {},
   "source": [
    "## Обучение моделей"
   ]
  },
  {
   "cell_type": "code",
   "execution_count": 25,
   "metadata": {},
   "outputs": [],
   "source": [
    "features = new_data.drop(['Price', 'DateCrawled', 'DateCreated', 'LastSeen'], axis = 1)\n",
    "target = new_data['Price']\n",
    "\n",
    "features_train, features_valid, target_train, target_valid = train_test_split(features, target, test_size = 0.25, random_state = 12345)"
   ]
  },
  {
   "cell_type": "code",
   "execution_count": 26,
   "metadata": {},
   "outputs": [],
   "source": [
    "def RMSE(target_valid, predictions_valid):\n",
    "    mse = mean_squared_error(target_valid, predictions_valid)\n",
    "    rmse = mse**0.5\n",
    "    return rmse"
   ]
  },
  {
   "cell_type": "markdown",
   "metadata": {},
   "source": [
    "<b>Алгоритм решающего дерева</b>"
   ]
  },
  {
   "cell_type": "code",
   "execution_count": 27,
   "metadata": {},
   "outputs": [
    {
     "name": "stdout",
     "output_type": "stream",
     "text": [
      "Итоговое RMSE: 2045.5672853005403 Глубина дерева: 13\n",
      "Время обучения: 10.607367992401123\n",
      "Время предсказания: 0.6709411144256592\n"
     ]
    }
   ],
   "source": [
    "best_model_decision_tree = None\n",
    "best_score_tree = 10000\n",
    "best_depth = 0\n",
    "for depth in range(1, 21):\n",
    "    model = DecisionTreeRegressor(random_state = 12345, max_depth = depth)\n",
    "    time_start_fit = time.time()\n",
    "    model.fit(features_train, target_train)\n",
    "    time_end_fit = time.time()\n",
    "    time_start_predict = time.time()\n",
    "    predictions_valid = model.predict(features_valid)\n",
    "    time_end_predict = time.time()\n",
    "    score = RMSE(target_valid, predictions_valid) \n",
    "    if score < best_score_tree:\n",
    "        best_model_decision_tree = model\n",
    "        best_score_tree = score\n",
    "        best_depth = depth\n",
    "\n",
    "time_fit_tree = time_end_fit - time_start_fit\n",
    "time_predict_tree = time_end_predict - time_start_predict\n",
    "\n",
    "print('Итоговое RMSE:', best_score_tree, \"Глубина дерева:\", best_depth)\n",
    "print('Время обучения:', time_fit_tree)\n",
    "print('Время предсказания:', time_predict_tree)"
   ]
  },
  {
   "cell_type": "markdown",
   "metadata": {},
   "source": [
    "<b>Алгоритм слуйного леса</b> "
   ]
  },
  {
   "cell_type": "code",
   "execution_count": 28,
   "metadata": {},
   "outputs": [
    {
     "name": "stdout",
     "output_type": "stream",
     "text": [
      "Итоговое RMSE 2019.479864355038 Количество деревьев: 50 Максимальная глубина: 10\n",
      "Время обучения: 91.92558193206787\n",
      "Время предсказания: 0.7748944759368896\n"
     ]
    }
   ],
   "source": [
    "best_model_random_forest = None\n",
    "best_score_forest = 10000\n",
    "best_est = 0\n",
    "best_depth = 0\n",
    "for est in range(10, 51, 10):\n",
    "    for depth in range (1, 11):\n",
    "        model = RandomForestRegressor(random_state = 12345, n_estimators = est, max_depth = depth)\n",
    "        time_start_fit = time.time()\n",
    "        model.fit(features_train, target_train)\n",
    "        time_end_fit = time.time()\n",
    "        time_start_predict = time.time()\n",
    "        predictions_valid = model.predict(features_valid) \n",
    "        time_end_predict = time.time()\n",
    "        score = RMSE(target_valid, predictions_valid)\n",
    "        if score < best_score_forest:\n",
    "            best_model_random_forest = model\n",
    "            best_score_forest = score\n",
    "            best_est = est\n",
    "            best_depth = depth\n",
    "            \n",
    "time_fit_forest = time_end_fit - time_start_fit\n",
    "time_predict_forest = time_end_predict - time_start_predict\n",
    "\n",
    "print('Итоговое RMSE', best_score_forest, \"Количество деревьев:\", best_est, \"Максимальная глубина:\", best_depth)\n",
    "print('Время обучения:', time_fit_forest)\n",
    "print('Время предсказания:', time_predict_forest)"
   ]
  },
  {
   "cell_type": "markdown",
   "metadata": {},
   "source": [
    "<b>Линейная регрессия</b>"
   ]
  },
  {
   "cell_type": "code",
   "execution_count": 29,
   "metadata": {},
   "outputs": [
    {
     "name": "stdout",
     "output_type": "stream",
     "text": [
      "Итоговое RMSE: 2887.758200599498\n",
      "Время обучения: 1.6843786239624023\n",
      "Время предсказания: 0.2872309684753418\n"
     ]
    }
   ],
   "source": [
    "model_linear_regression = LinearRegression()\n",
    "time_start_fit = time.time()\n",
    "model_linear_regression.fit(features_train, target_train)\n",
    "time_end_fit = time.time()\n",
    "time_start_predict = time.time()\n",
    "predictions_valid = model_linear_regression.predict(features_valid)\n",
    "time_end_predict = time.time()\n",
    "\n",
    "score_linear_regression = RMSE(target_valid, predictions_valid)\n",
    "\n",
    "time_fit_linear_regression = time_end_fit - time_start_fit\n",
    "time_predict_linear_regression = time_end_predict - time_start_predict\n",
    "\n",
    "print('Итоговое RMSE:', score_linear_regression)\n",
    "print('Время обучения:', time_fit_linear_regression)\n",
    "print('Время предсказания:', time_predict_linear_regression)"
   ]
  },
  {
   "cell_type": "markdown",
   "metadata": {},
   "source": [
    "<b>Модель градиентного бустинга с помощью CatBoost</b>"
   ]
  },
  {
   "cell_type": "code",
   "execution_count": 30,
   "metadata": {},
   "outputs": [],
   "source": [
    "features = data.drop(['Price', 'DateCrawled', 'DateCreated', 'LastSeen'], axis = 1)\n",
    "target = data['Price']\n",
    "\n",
    "features_train, features_valid, target_train, target_valid = train_test_split(features, target, test_size = 0.25, random_state = 12345)"
   ]
  },
  {
   "cell_type": "code",
   "execution_count": 31,
   "metadata": {},
   "outputs": [
    {
     "name": "stdout",
     "output_type": "stream",
     "text": [
      "Learning rate set to 0.232104\n",
      "0:\tlearn: 3868.3974765\ttotal: 842ms\tremaining: 4m 53s\n",
      "50:\tlearn: 1883.2690352\ttotal: 12.6s\tremaining: 1m 13s\n",
      "100:\tlearn: 1812.9250591\ttotal: 24.1s\tremaining: 59.4s\n",
      "150:\tlearn: 1773.5162112\ttotal: 35.6s\tremaining: 47s\n",
      "200:\tlearn: 1745.1274266\ttotal: 47.2s\tremaining: 35s\n",
      "250:\tlearn: 1724.4272592\ttotal: 59.8s\tremaining: 23.6s\n",
      "300:\tlearn: 1706.5203532\ttotal: 1m 12s\tremaining: 11.8s\n",
      "349:\tlearn: 1692.8609813\ttotal: 1m 25s\tremaining: 0us\n",
      "Итоговое RMSE: 1742.842673224665\n",
      "Время обучения: 87.56382465362549\n",
      "Время предсказания: 0.3680150508880615\n"
     ]
    }
   ],
   "source": [
    "cat_features = ['VehicleType', 'Gearbox', 'Model', 'FuelType', 'Brand', 'NotRepaired']\n",
    "\n",
    "model = CatBoostRegressor(loss_function = 'RMSE', iterations = 350)\n",
    "time_start_fit = time.time()\n",
    "model.fit(features_train, target_train, cat_features=cat_features, verbose=50)\n",
    "time_end_fit = time.time()\n",
    "time_start_predict = time.time()\n",
    "predictions_valid = model.predict(features_valid)\n",
    "time_end_predict = time.time()\n",
    "\n",
    "score_cat_boost = RMSE(target_valid, predictions_valid)\n",
    "\n",
    "time_fit_cat_boost = time_end_fit - time_start_fit\n",
    "time_predict_cat_boost = time_end_predict - time_start_predict\n",
    "\n",
    "print('Итоговое RMSE:', score_cat_boost)\n",
    "print('Время обучения:', time_fit_cat_boost)\n",
    "print('Время предсказания:', time_predict_cat_boost)"
   ]
  },
  {
   "cell_type": "markdown",
   "metadata": {},
   "source": [
    "<b>Модель градиентного бустинга с помощью LightGBM</b>"
   ]
  },
  {
   "cell_type": "code",
   "execution_count": 32,
   "metadata": {},
   "outputs": [
    {
     "name": "stdout",
     "output_type": "stream",
     "text": [
      "Итоговое RMSE: 1758.9696521859555\n",
      "Время обучения: 2.639230728149414\n",
      "Время предсказания: 0.5395565032958984\n"
     ]
    }
   ],
   "source": [
    "features_train[['VehicleType', 'Gearbox', 'FuelType', 'Brand', 'Model', 'NotRepaired']] = features_train[['VehicleType', 'Gearbox', 'FuelType', 'Brand', 'Model', 'NotRepaired']].astype('category')\n",
    "features_valid[['VehicleType', 'Gearbox', 'FuelType', 'Brand', 'Model', 'NotRepaired']] = features_valid[['VehicleType', 'Gearbox', 'FuelType', 'Brand', 'Model', 'NotRepaired']].astype('category')\n",
    "\n",
    "model = LGBMRegressor()\n",
    "time_start_fit = time.time()\n",
    "model.fit(features_train, target_train)\n",
    "time_end_fit = time.time()\n",
    "time_start_predict = time.time()\n",
    "predictions_valid = model.predict(features_valid)\n",
    "time_end_predict = time.time()\n",
    "\n",
    "score_lgbm = RMSE(target_valid, predictions_valid)\n",
    "\n",
    "time_fit_lgbm = time_end_fit - time_start_fit\n",
    "time_predict_lgbm = time_end_predict - time_start_predict\n",
    "\n",
    "print('Итоговое RMSE:', score_lgbm)\n",
    "print('Время обучения:', time_fit_lgbm)\n",
    "print('Время предсказания:', time_predict_lgbm)"
   ]
  },
  {
   "cell_type": "markdown",
   "metadata": {},
   "source": [
    "## Анализ моделей"
   ]
  },
  {
   "cell_type": "code",
   "execution_count": 33,
   "metadata": {},
   "outputs": [
    {
     "data": {
      "text/html": [
       "<div>\n",
       "<style scoped>\n",
       "    .dataframe tbody tr th:only-of-type {\n",
       "        vertical-align: middle;\n",
       "    }\n",
       "\n",
       "    .dataframe tbody tr th {\n",
       "        vertical-align: top;\n",
       "    }\n",
       "\n",
       "    .dataframe thead th {\n",
       "        text-align: right;\n",
       "    }\n",
       "</style>\n",
       "<table border=\"1\" class=\"dataframe\">\n",
       "  <thead>\n",
       "    <tr style=\"text-align: right;\">\n",
       "      <th></th>\n",
       "      <th>RMSE</th>\n",
       "      <th>time_fit</th>\n",
       "      <th>time_predict</th>\n",
       "    </tr>\n",
       "    <tr>\n",
       "      <th>model</th>\n",
       "      <th></th>\n",
       "      <th></th>\n",
       "      <th></th>\n",
       "    </tr>\n",
       "  </thead>\n",
       "  <tbody>\n",
       "    <tr>\n",
       "      <th>decision_tree</th>\n",
       "      <td>2045.567285</td>\n",
       "      <td>10.607368</td>\n",
       "      <td>0.670941</td>\n",
       "    </tr>\n",
       "    <tr>\n",
       "      <th>random_forest</th>\n",
       "      <td>2019.479864</td>\n",
       "      <td>91.925582</td>\n",
       "      <td>0.774894</td>\n",
       "    </tr>\n",
       "    <tr>\n",
       "      <th>linear_regression</th>\n",
       "      <td>2887.758201</td>\n",
       "      <td>1.684379</td>\n",
       "      <td>0.287231</td>\n",
       "    </tr>\n",
       "    <tr>\n",
       "      <th>cat_boost_regression</th>\n",
       "      <td>1742.842673</td>\n",
       "      <td>87.563825</td>\n",
       "      <td>0.368015</td>\n",
       "    </tr>\n",
       "    <tr>\n",
       "      <th>lgbm_regression</th>\n",
       "      <td>1758.969652</td>\n",
       "      <td>2.639231</td>\n",
       "      <td>0.539557</td>\n",
       "    </tr>\n",
       "  </tbody>\n",
       "</table>\n",
       "</div>"
      ],
      "text/plain": [
       "                             RMSE   time_fit  time_predict\n",
       "model                                                     \n",
       "decision_tree         2045.567285  10.607368      0.670941\n",
       "random_forest         2019.479864  91.925582      0.774894\n",
       "linear_regression     2887.758201   1.684379      0.287231\n",
       "cat_boost_regression  1742.842673  87.563825      0.368015\n",
       "lgbm_regression       1758.969652   2.639231      0.539557"
      ]
     },
     "metadata": {},
     "output_type": "display_data"
    }
   ],
   "source": [
    "analysis = pd.DataFrame({'model' : ['decision_tree', 'random_forest', 'linear_regression', 'cat_boost_regression', 'lgbm_regression'], 'RMSE': [best_score_tree, best_score_forest, score_linear_regression, score_cat_boost, score_lgbm], 'time_fit' : [time_fit_tree, time_fit_forest, time_fit_linear_regression, time_fit_cat_boost, time_fit_lgbm], 'time_predict': [time_predict_tree, time_predict_forest, time_predict_linear_regression, time_predict_cat_boost, time_predict_lgbm]})\n",
    "analysis = analysis.set_index('model')\n",
    "display(analysis)"
   ]
  },
  {
   "cell_type": "markdown",
   "metadata": {},
   "source": [
    "<b>Вывод:</b> можно заметить, что лучшую метрику RMSE дает градиентный бустинг с помощью библиотеки LightGBM со временем обучения 6.811984, все остальные модели дают метрику качества RMSE хуже, при этом время обучения или больше или очень незначительно отличается"
   ]
  }
 ],
 "metadata": {
  "ExecuteTimeLog": [
   {
    "duration": 122,
    "start_time": "2022-02-19T15:36:12.875Z"
   },
   {
    "duration": 667,
    "start_time": "2022-02-19T15:38:52.849Z"
   },
   {
    "duration": 856,
    "start_time": "2022-02-19T15:39:13.220Z"
   },
   {
    "duration": 20,
    "start_time": "2022-02-19T15:39:24.294Z"
   },
   {
    "duration": 136,
    "start_time": "2022-02-19T15:39:41.433Z"
   },
   {
    "duration": 322,
    "start_time": "2022-02-19T15:51:00.782Z"
   },
   {
    "duration": 112,
    "start_time": "2022-02-19T15:51:08.049Z"
   },
   {
    "duration": 5,
    "start_time": "2022-02-19T15:54:31.667Z"
   },
   {
    "duration": 5,
    "start_time": "2022-02-19T15:54:43.780Z"
   },
   {
    "duration": 5,
    "start_time": "2022-02-19T15:54:51.190Z"
   },
   {
    "duration": 266,
    "start_time": "2022-02-19T15:54:55.741Z"
   },
   {
    "duration": 101,
    "start_time": "2022-02-19T15:55:28.393Z"
   },
   {
    "duration": 7,
    "start_time": "2022-02-19T15:55:31.371Z"
   },
   {
    "duration": 5,
    "start_time": "2022-02-19T15:55:40.250Z"
   },
   {
    "duration": 6,
    "start_time": "2022-02-19T15:55:44.847Z"
   },
   {
    "duration": 5,
    "start_time": "2022-02-19T15:55:57.826Z"
   },
   {
    "duration": 6,
    "start_time": "2022-02-19T15:56:07.245Z"
   },
   {
    "duration": 5,
    "start_time": "2022-02-19T15:56:22.591Z"
   },
   {
    "duration": 4,
    "start_time": "2022-02-19T15:56:27.528Z"
   },
   {
    "duration": 6,
    "start_time": "2022-02-19T15:56:34.102Z"
   },
   {
    "duration": 2,
    "start_time": "2022-02-19T15:57:17.142Z"
   },
   {
    "duration": 897,
    "start_time": "2022-02-19T15:57:17.630Z"
   },
   {
    "duration": 15,
    "start_time": "2022-02-19T15:57:18.529Z"
   },
   {
    "duration": 147,
    "start_time": "2022-02-19T15:57:18.546Z"
   },
   {
    "duration": 130,
    "start_time": "2022-02-19T15:57:18.695Z"
   },
   {
    "duration": 7,
    "start_time": "2022-02-19T15:57:18.827Z"
   },
   {
    "duration": 7,
    "start_time": "2022-02-19T15:58:06.692Z"
   },
   {
    "duration": 442,
    "start_time": "2022-02-19T16:01:06.083Z"
   },
   {
    "duration": 127,
    "start_time": "2022-02-19T16:01:47.036Z"
   },
   {
    "duration": 576,
    "start_time": "2022-02-19T16:13:23.289Z"
   },
   {
    "duration": 542,
    "start_time": "2022-02-19T16:13:40.340Z"
   },
   {
    "duration": 3,
    "start_time": "2022-02-19T16:13:47.938Z"
   },
   {
    "duration": 864,
    "start_time": "2022-02-19T16:13:48.568Z"
   },
   {
    "duration": 14,
    "start_time": "2022-02-19T16:13:49.434Z"
   },
   {
    "duration": 146,
    "start_time": "2022-02-19T16:13:49.450Z"
   },
   {
    "duration": 111,
    "start_time": "2022-02-19T16:13:49.598Z"
   },
   {
    "duration": 8,
    "start_time": "2022-02-19T16:13:49.711Z"
   },
   {
    "duration": 10,
    "start_time": "2022-02-19T16:13:49.721Z"
   },
   {
    "duration": 418,
    "start_time": "2022-02-19T16:13:49.746Z"
   },
   {
    "duration": 139,
    "start_time": "2022-02-19T16:13:50.166Z"
   },
   {
    "duration": 449,
    "start_time": "2022-02-19T16:13:50.854Z"
   },
   {
    "duration": 23,
    "start_time": "2022-02-19T19:12:53.653Z"
   },
   {
    "duration": 148,
    "start_time": "2022-02-19T19:22:35.968Z"
   },
   {
    "duration": 3,
    "start_time": "2022-02-19T19:23:05.544Z"
   },
   {
    "duration": 854,
    "start_time": "2022-02-19T19:23:06.172Z"
   },
   {
    "duration": 15,
    "start_time": "2022-02-19T19:23:07.028Z"
   },
   {
    "duration": 148,
    "start_time": "2022-02-19T19:23:07.045Z"
   },
   {
    "duration": 111,
    "start_time": "2022-02-19T19:23:07.195Z"
   },
   {
    "duration": 5,
    "start_time": "2022-02-19T19:23:07.308Z"
   },
   {
    "duration": 9,
    "start_time": "2022-02-19T19:23:07.315Z"
   },
   {
    "duration": 387,
    "start_time": "2022-02-19T19:23:07.393Z"
   },
   {
    "duration": 134,
    "start_time": "2022-02-19T19:23:07.782Z"
   },
   {
    "duration": 420,
    "start_time": "2022-02-19T19:23:08.568Z"
   },
   {
    "duration": 22,
    "start_time": "2022-02-19T19:23:09.941Z"
   },
   {
    "duration": 395,
    "start_time": "2022-02-19T19:23:10.756Z"
   },
   {
    "duration": 282,
    "start_time": "2022-02-19T19:29:26.306Z"
   },
   {
    "duration": 2413,
    "start_time": "2022-02-19T19:29:34.667Z"
   },
   {
    "duration": 3,
    "start_time": "2022-02-19T19:29:51.288Z"
   },
   {
    "duration": 819,
    "start_time": "2022-02-19T19:29:52.385Z"
   },
   {
    "duration": 14,
    "start_time": "2022-02-19T19:29:53.206Z"
   },
   {
    "duration": 139,
    "start_time": "2022-02-19T19:29:53.222Z"
   },
   {
    "duration": 112,
    "start_time": "2022-02-19T19:29:53.364Z"
   },
   {
    "duration": 7,
    "start_time": "2022-02-19T19:29:53.478Z"
   },
   {
    "duration": 9,
    "start_time": "2022-02-19T19:29:53.487Z"
   },
   {
    "duration": 401,
    "start_time": "2022-02-19T19:29:53.498Z"
   },
   {
    "duration": 186,
    "start_time": "2022-02-19T19:29:53.901Z"
   },
   {
    "duration": 418,
    "start_time": "2022-02-19T19:29:54.089Z"
   },
   {
    "duration": 22,
    "start_time": "2022-02-19T19:29:54.509Z"
   },
   {
    "duration": 359,
    "start_time": "2022-02-19T19:29:54.532Z"
   },
   {
    "duration": 522,
    "start_time": "2022-02-19T19:30:25.291Z"
   },
   {
    "duration": 3,
    "start_time": "2022-02-19T19:31:45.313Z"
   },
   {
    "duration": 832,
    "start_time": "2022-02-19T19:31:45.903Z"
   },
   {
    "duration": 15,
    "start_time": "2022-02-19T19:31:46.737Z"
   },
   {
    "duration": 147,
    "start_time": "2022-02-19T19:31:46.754Z"
   },
   {
    "duration": 110,
    "start_time": "2022-02-19T19:31:46.904Z"
   },
   {
    "duration": 6,
    "start_time": "2022-02-19T19:31:47.015Z"
   },
   {
    "duration": 14,
    "start_time": "2022-02-19T19:31:47.023Z"
   },
   {
    "duration": 414,
    "start_time": "2022-02-19T19:31:47.039Z"
   },
   {
    "duration": 134,
    "start_time": "2022-02-19T19:31:47.455Z"
   },
   {
    "duration": 458,
    "start_time": "2022-02-19T19:31:47.591Z"
   },
   {
    "duration": 24,
    "start_time": "2022-02-19T19:31:48.051Z"
   },
   {
    "duration": 424,
    "start_time": "2022-02-19T19:31:48.077Z"
   },
   {
    "duration": 513,
    "start_time": "2022-02-19T19:31:48.503Z"
   },
   {
    "duration": 5774,
    "start_time": "2022-02-19T19:35:28.185Z"
   },
   {
    "duration": 306,
    "start_time": "2022-02-19T19:35:40.103Z"
   },
   {
    "duration": 252,
    "start_time": "2022-02-19T19:36:01.546Z"
   },
   {
    "duration": 1279,
    "start_time": "2022-02-19T19:36:10.875Z"
   },
   {
    "duration": 2278,
    "start_time": "2022-02-19T19:36:28.535Z"
   },
   {
    "duration": 2339,
    "start_time": "2022-02-19T19:37:04.721Z"
   },
   {
    "duration": 2353,
    "start_time": "2022-02-19T19:37:16.918Z"
   },
   {
    "duration": 2429,
    "start_time": "2022-02-19T19:37:26.761Z"
   },
   {
    "duration": 441,
    "start_time": "2022-02-19T19:37:35.237Z"
   },
   {
    "duration": 21,
    "start_time": "2022-02-19T19:39:23.548Z"
   },
   {
    "duration": 24,
    "start_time": "2022-02-19T19:39:30.439Z"
   },
   {
    "duration": 24,
    "start_time": "2022-02-19T19:40:28.731Z"
   },
   {
    "duration": 25,
    "start_time": "2022-02-19T19:40:54.986Z"
   },
   {
    "duration": 3,
    "start_time": "2022-02-19T19:43:40.107Z"
   },
   {
    "duration": 797,
    "start_time": "2022-02-19T19:43:40.678Z"
   },
   {
    "duration": 14,
    "start_time": "2022-02-19T19:43:41.477Z"
   },
   {
    "duration": 144,
    "start_time": "2022-02-19T19:43:41.493Z"
   },
   {
    "duration": 110,
    "start_time": "2022-02-19T19:43:41.639Z"
   },
   {
    "duration": 6,
    "start_time": "2022-02-19T19:43:41.751Z"
   },
   {
    "duration": 12,
    "start_time": "2022-02-19T19:43:41.758Z"
   },
   {
    "duration": 387,
    "start_time": "2022-02-19T19:43:41.777Z"
   },
   {
    "duration": 132,
    "start_time": "2022-02-19T19:43:42.166Z"
   },
   {
    "duration": 419,
    "start_time": "2022-02-19T19:43:42.803Z"
   },
   {
    "duration": 23,
    "start_time": "2022-02-19T19:43:43.899Z"
   },
   {
    "duration": 394,
    "start_time": "2022-02-19T19:43:44.387Z"
   },
   {
    "duration": 26,
    "start_time": "2022-02-19T19:43:45.313Z"
   },
   {
    "duration": 467,
    "start_time": "2022-02-19T19:43:47.788Z"
   },
   {
    "duration": 479,
    "start_time": "2022-02-19T19:43:57.244Z"
   },
   {
    "duration": 464,
    "start_time": "2022-02-19T19:44:03.187Z"
   },
   {
    "duration": 101,
    "start_time": "2022-02-19T19:45:05.745Z"
   },
   {
    "duration": 31,
    "start_time": "2022-02-19T19:46:06.781Z"
   },
   {
    "duration": 630,
    "start_time": "2022-02-19T19:46:35.659Z"
   },
   {
    "duration": 424,
    "start_time": "2022-02-19T19:46:43.188Z"
   },
   {
    "duration": 429,
    "start_time": "2022-02-19T19:46:54.746Z"
   },
   {
    "duration": 466,
    "start_time": "2022-02-19T19:47:16.357Z"
   },
   {
    "duration": 486,
    "start_time": "2022-02-19T19:49:44.923Z"
   },
   {
    "duration": 470,
    "start_time": "2022-02-19T19:49:53.439Z"
   },
   {
    "duration": 519,
    "start_time": "2022-02-19T19:50:01.981Z"
   },
   {
    "duration": 394,
    "start_time": "2022-02-19T19:50:07.677Z"
   },
   {
    "duration": 738,
    "start_time": "2022-02-20T17:22:45.415Z"
   },
   {
    "duration": 1342,
    "start_time": "2022-02-20T17:22:47.059Z"
   },
   {
    "duration": 18,
    "start_time": "2022-02-20T17:22:48.403Z"
   },
   {
    "duration": 141,
    "start_time": "2022-02-20T17:22:48.423Z"
   },
   {
    "duration": 123,
    "start_time": "2022-02-20T17:22:48.566Z"
   },
   {
    "duration": 16,
    "start_time": "2022-02-20T17:22:48.691Z"
   },
   {
    "duration": 7,
    "start_time": "2022-02-20T17:22:48.709Z"
   },
   {
    "duration": 485,
    "start_time": "2022-02-20T17:22:48.718Z"
   },
   {
    "duration": 144,
    "start_time": "2022-02-20T17:22:49.207Z"
   },
   {
    "duration": 520,
    "start_time": "2022-02-20T17:22:50.051Z"
   },
   {
    "duration": 23,
    "start_time": "2022-02-20T17:22:51.637Z"
   },
   {
    "duration": 415,
    "start_time": "2022-02-20T17:22:52.280Z"
   },
   {
    "duration": 34,
    "start_time": "2022-02-20T17:22:53.637Z"
   },
   {
    "duration": 479,
    "start_time": "2022-02-20T17:22:54.308Z"
   },
   {
    "duration": 39,
    "start_time": "2022-02-20T17:22:55.137Z"
   },
   {
    "duration": 382,
    "start_time": "2022-02-20T17:22:55.998Z"
   },
   {
    "duration": 504,
    "start_time": "2022-02-20T17:29:16.225Z"
   },
   {
    "duration": 29,
    "start_time": "2022-02-20T17:34:31.809Z"
   },
   {
    "duration": 8,
    "start_time": "2022-02-20T17:39:16.734Z"
   },
   {
    "duration": 225,
    "start_time": "2022-02-20T17:40:28.823Z"
   },
   {
    "duration": 354,
    "start_time": "2022-02-20T17:45:35.035Z"
   },
   {
    "duration": 32,
    "start_time": "2022-02-20T17:45:58.665Z"
   },
   {
    "duration": 415,
    "start_time": "2022-02-20T17:46:04.019Z"
   },
   {
    "duration": 4,
    "start_time": "2022-02-20T17:54:44.755Z"
   },
   {
    "duration": 955,
    "start_time": "2022-02-20T17:54:45.410Z"
   },
   {
    "duration": 15,
    "start_time": "2022-02-20T17:54:46.368Z"
   },
   {
    "duration": 147,
    "start_time": "2022-02-20T17:54:46.386Z"
   },
   {
    "duration": 119,
    "start_time": "2022-02-20T17:54:46.535Z"
   },
   {
    "duration": 6,
    "start_time": "2022-02-20T17:54:46.656Z"
   },
   {
    "duration": 8,
    "start_time": "2022-02-20T17:54:46.665Z"
   },
   {
    "duration": 421,
    "start_time": "2022-02-20T17:54:46.801Z"
   },
   {
    "duration": 133,
    "start_time": "2022-02-20T17:54:47.224Z"
   },
   {
    "duration": 6596,
    "start_time": "2022-02-20T17:54:48.410Z"
   },
   {
    "duration": 196,
    "start_time": "2022-02-20T17:54:59.102Z"
   },
   {
    "duration": 3,
    "start_time": "2022-02-20T18:08:35.945Z"
   },
   {
    "duration": 875,
    "start_time": "2022-02-20T18:08:36.533Z"
   },
   {
    "duration": 14,
    "start_time": "2022-02-20T18:08:37.410Z"
   },
   {
    "duration": 143,
    "start_time": "2022-02-20T18:08:37.426Z"
   },
   {
    "duration": 121,
    "start_time": "2022-02-20T18:08:37.571Z"
   },
   {
    "duration": 14,
    "start_time": "2022-02-20T18:08:37.694Z"
   },
   {
    "duration": 8,
    "start_time": "2022-02-20T18:08:37.710Z"
   },
   {
    "duration": 424,
    "start_time": "2022-02-20T18:08:37.722Z"
   },
   {
    "duration": 134,
    "start_time": "2022-02-20T18:08:38.148Z"
   },
   {
    "duration": 195,
    "start_time": "2022-02-20T18:08:38.778Z"
   },
   {
    "duration": 384,
    "start_time": "2022-02-20T18:08:39.225Z"
   },
   {
    "duration": 23,
    "start_time": "2022-02-20T18:08:40.359Z"
   },
   {
    "duration": 330,
    "start_time": "2022-02-20T18:08:40.883Z"
   },
   {
    "duration": 37,
    "start_time": "2022-02-20T18:08:41.853Z"
   },
   {
    "duration": 541,
    "start_time": "2022-02-20T18:08:42.771Z"
   },
   {
    "duration": 48,
    "start_time": "2022-02-20T18:08:43.372Z"
   },
   {
    "duration": 373,
    "start_time": "2022-02-20T18:08:43.867Z"
   },
   {
    "duration": 208,
    "start_time": "2022-02-20T18:08:44.756Z"
   },
   {
    "duration": 1544,
    "start_time": "2022-02-20T18:08:45.277Z"
   },
   {
    "duration": 162,
    "start_time": "2022-02-20T18:09:52.246Z"
   },
   {
    "duration": 354,
    "start_time": "2022-02-20T18:09:54.344Z"
   },
   {
    "duration": 289,
    "start_time": "2022-02-20T18:28:45.542Z"
   },
   {
    "duration": 6,
    "start_time": "2022-02-20T18:29:23.428Z"
   },
   {
    "duration": 18,
    "start_time": "2022-02-20T18:29:27.895Z"
   },
   {
    "duration": 19,
    "start_time": "2022-02-20T18:29:40.328Z"
   },
   {
    "duration": 25,
    "start_time": "2022-02-20T18:29:52.104Z"
   },
   {
    "duration": 18,
    "start_time": "2022-02-20T18:30:13.991Z"
   },
   {
    "duration": 21,
    "start_time": "2022-02-20T18:30:24.115Z"
   },
   {
    "duration": 16,
    "start_time": "2022-02-20T18:31:26.769Z"
   },
   {
    "duration": 3,
    "start_time": "2022-02-20T18:33:05.042Z"
   },
   {
    "duration": 6647,
    "start_time": "2022-02-20T19:06:51.363Z"
   },
   {
    "duration": 22,
    "start_time": "2022-02-20T19:10:04.960Z"
   },
   {
    "duration": 344,
    "start_time": "2022-02-20T19:10:25.994Z"
   },
   {
    "duration": 1241,
    "start_time": "2022-02-21T17:06:45.230Z"
   },
   {
    "duration": 1348,
    "start_time": "2022-02-21T17:06:46.473Z"
   },
   {
    "duration": 19,
    "start_time": "2022-02-21T17:06:47.823Z"
   },
   {
    "duration": 148,
    "start_time": "2022-02-21T17:06:47.844Z"
   },
   {
    "duration": 131,
    "start_time": "2022-02-21T17:06:47.994Z"
   },
   {
    "duration": 7,
    "start_time": "2022-02-21T17:06:48.128Z"
   },
   {
    "duration": 36,
    "start_time": "2022-02-21T17:06:48.137Z"
   },
   {
    "duration": 506,
    "start_time": "2022-02-21T17:06:48.176Z"
   },
   {
    "duration": 144,
    "start_time": "2022-02-21T17:06:48.684Z"
   },
   {
    "duration": 207,
    "start_time": "2022-02-21T17:06:48.844Z"
   },
   {
    "duration": 416,
    "start_time": "2022-02-21T17:06:50.052Z"
   },
   {
    "duration": 24,
    "start_time": "2022-02-21T17:06:51.486Z"
   },
   {
    "duration": 355,
    "start_time": "2022-02-21T17:06:52.401Z"
   },
   {
    "duration": 25,
    "start_time": "2022-02-21T17:06:55.357Z"
   },
   {
    "duration": 424,
    "start_time": "2022-02-21T17:06:55.855Z"
   },
   {
    "duration": 30,
    "start_time": "2022-02-21T17:06:56.462Z"
   },
   {
    "duration": 359,
    "start_time": "2022-02-21T17:06:57.595Z"
   },
   {
    "duration": 139,
    "start_time": "2022-02-21T17:07:00.264Z"
   },
   {
    "duration": 462,
    "start_time": "2022-02-21T17:07:16.859Z"
   },
   {
    "duration": 240,
    "start_time": "2022-02-21T17:07:21.438Z"
   },
   {
    "duration": 3,
    "start_time": "2022-02-21T17:07:28.207Z"
   },
   {
    "duration": 878,
    "start_time": "2022-02-21T17:07:28.800Z"
   },
   {
    "duration": 15,
    "start_time": "2022-02-21T17:07:29.681Z"
   },
   {
    "duration": 149,
    "start_time": "2022-02-21T17:07:29.698Z"
   },
   {
    "duration": 118,
    "start_time": "2022-02-21T17:07:29.850Z"
   },
   {
    "duration": 6,
    "start_time": "2022-02-21T17:07:29.971Z"
   },
   {
    "duration": 16,
    "start_time": "2022-02-21T17:07:29.980Z"
   },
   {
    "duration": 432,
    "start_time": "2022-02-21T17:07:30.008Z"
   },
   {
    "duration": 142,
    "start_time": "2022-02-21T17:07:30.443Z"
   },
   {
    "duration": 220,
    "start_time": "2022-02-21T17:07:30.587Z"
   },
   {
    "duration": 406,
    "start_time": "2022-02-21T17:07:30.810Z"
   },
   {
    "duration": 27,
    "start_time": "2022-02-21T17:07:31.218Z"
   },
   {
    "duration": 334,
    "start_time": "2022-02-21T17:07:31.247Z"
   },
   {
    "duration": 36,
    "start_time": "2022-02-21T17:07:31.583Z"
   },
   {
    "duration": 436,
    "start_time": "2022-02-21T17:07:31.622Z"
   },
   {
    "duration": 31,
    "start_time": "2022-02-21T17:07:32.060Z"
   },
   {
    "duration": 390,
    "start_time": "2022-02-21T17:07:32.094Z"
   },
   {
    "duration": 174,
    "start_time": "2022-02-21T17:07:32.486Z"
   },
   {
    "duration": 80,
    "start_time": "2022-02-21T17:43:36.881Z"
   },
   {
    "duration": 280,
    "start_time": "2022-02-21T17:44:31.495Z"
   },
   {
    "duration": 261,
    "start_time": "2022-02-21T17:44:40.433Z"
   },
   {
    "duration": 1429,
    "start_time": "2022-02-22T07:32:24.552Z"
   },
   {
    "duration": 1590,
    "start_time": "2022-02-22T07:32:25.984Z"
   },
   {
    "duration": 25,
    "start_time": "2022-02-22T07:32:27.577Z"
   },
   {
    "duration": 184,
    "start_time": "2022-02-22T07:32:27.605Z"
   },
   {
    "duration": 134,
    "start_time": "2022-02-22T07:32:27.792Z"
   },
   {
    "duration": 7,
    "start_time": "2022-02-22T07:32:27.929Z"
   },
   {
    "duration": 11,
    "start_time": "2022-02-22T07:32:27.949Z"
   },
   {
    "duration": 657,
    "start_time": "2022-02-22T07:32:27.963Z"
   },
   {
    "duration": 165,
    "start_time": "2022-02-22T07:32:28.622Z"
   },
   {
    "duration": 235,
    "start_time": "2022-02-22T07:32:29.325Z"
   },
   {
    "duration": 611,
    "start_time": "2022-02-22T07:32:29.987Z"
   },
   {
    "duration": 29,
    "start_time": "2022-02-22T07:32:31.715Z"
   },
   {
    "duration": 447,
    "start_time": "2022-02-22T07:32:32.756Z"
   },
   {
    "duration": 31,
    "start_time": "2022-02-22T07:32:34.123Z"
   },
   {
    "duration": 760,
    "start_time": "2022-02-22T07:32:34.957Z"
   },
   {
    "duration": 38,
    "start_time": "2022-02-22T07:32:35.836Z"
   },
   {
    "duration": 549,
    "start_time": "2022-02-22T07:32:36.890Z"
   },
   {
    "duration": 451,
    "start_time": "2022-02-22T07:32:54.276Z"
   },
   {
    "duration": 301,
    "start_time": "2022-02-22T07:33:56.768Z"
   },
   {
    "duration": 5,
    "start_time": "2022-02-22T07:34:36.320Z"
   },
   {
    "duration": 1123,
    "start_time": "2022-02-22T07:34:36.925Z"
   },
   {
    "duration": 21,
    "start_time": "2022-02-22T07:34:38.051Z"
   },
   {
    "duration": 173,
    "start_time": "2022-02-22T07:34:38.075Z"
   },
   {
    "duration": 127,
    "start_time": "2022-02-22T07:34:38.252Z"
   },
   {
    "duration": 9,
    "start_time": "2022-02-22T07:34:38.382Z"
   },
   {
    "duration": 14,
    "start_time": "2022-02-22T07:34:38.393Z"
   },
   {
    "duration": 600,
    "start_time": "2022-02-22T07:34:38.410Z"
   },
   {
    "duration": 179,
    "start_time": "2022-02-22T07:34:39.013Z"
   },
   {
    "duration": 256,
    "start_time": "2022-02-22T07:34:39.195Z"
   },
   {
    "duration": 536,
    "start_time": "2022-02-22T07:34:39.453Z"
   },
   {
    "duration": 32,
    "start_time": "2022-02-22T07:34:39.992Z"
   },
   {
    "duration": 423,
    "start_time": "2022-02-22T07:34:40.026Z"
   },
   {
    "duration": 34,
    "start_time": "2022-02-22T07:34:40.452Z"
   },
   {
    "duration": 747,
    "start_time": "2022-02-22T07:34:40.489Z"
   },
   {
    "duration": 45,
    "start_time": "2022-02-22T07:34:41.241Z"
   },
   {
    "duration": 671,
    "start_time": "2022-02-22T07:34:41.290Z"
   },
   {
    "duration": 228,
    "start_time": "2022-02-22T07:34:41.963Z"
   },
   {
    "duration": 5,
    "start_time": "2022-02-22T07:35:20.233Z"
   },
   {
    "duration": 1069,
    "start_time": "2022-02-22T07:35:20.993Z"
   },
   {
    "duration": 23,
    "start_time": "2022-02-22T07:35:22.065Z"
   },
   {
    "duration": 187,
    "start_time": "2022-02-22T07:35:22.092Z"
   },
   {
    "duration": 135,
    "start_time": "2022-02-22T07:35:22.282Z"
   },
   {
    "duration": 8,
    "start_time": "2022-02-22T07:35:22.419Z"
   },
   {
    "duration": 30,
    "start_time": "2022-02-22T07:35:22.430Z"
   },
   {
    "duration": 591,
    "start_time": "2022-02-22T07:35:22.463Z"
   },
   {
    "duration": 158,
    "start_time": "2022-02-22T07:35:23.059Z"
   },
   {
    "duration": 248,
    "start_time": "2022-02-22T07:35:23.258Z"
   },
   {
    "duration": 554,
    "start_time": "2022-02-22T07:35:23.683Z"
   },
   {
    "duration": 30,
    "start_time": "2022-02-22T07:35:24.724Z"
   },
   {
    "duration": 436,
    "start_time": "2022-02-22T07:35:25.178Z"
   },
   {
    "duration": 33,
    "start_time": "2022-02-22T07:35:26.074Z"
   },
   {
    "duration": 660,
    "start_time": "2022-02-22T07:35:26.504Z"
   },
   {
    "duration": 37,
    "start_time": "2022-02-22T07:35:27.168Z"
   },
   {
    "duration": 522,
    "start_time": "2022-02-22T07:35:27.872Z"
   },
   {
    "duration": 706,
    "start_time": "2022-02-22T07:35:29.753Z"
   },
   {
    "duration": 662,
    "start_time": "2022-02-22T07:35:57.561Z"
   },
   {
    "duration": 698,
    "start_time": "2022-02-22T07:36:05.553Z"
   },
   {
    "duration": 4,
    "start_time": "2022-02-22T07:36:11.224Z"
   },
   {
    "duration": 1099,
    "start_time": "2022-02-22T07:36:11.813Z"
   },
   {
    "duration": 33,
    "start_time": "2022-02-22T07:36:12.915Z"
   },
   {
    "duration": 164,
    "start_time": "2022-02-22T07:36:12.951Z"
   },
   {
    "duration": 125,
    "start_time": "2022-02-22T07:36:13.118Z"
   },
   {
    "duration": 8,
    "start_time": "2022-02-22T07:36:13.249Z"
   },
   {
    "duration": 14,
    "start_time": "2022-02-22T07:36:13.259Z"
   },
   {
    "duration": 584,
    "start_time": "2022-02-22T07:36:13.275Z"
   },
   {
    "duration": 163,
    "start_time": "2022-02-22T07:36:13.863Z"
   },
   {
    "duration": 250,
    "start_time": "2022-02-22T07:36:14.030Z"
   },
   {
    "duration": 521,
    "start_time": "2022-02-22T07:36:14.283Z"
   },
   {
    "duration": 29,
    "start_time": "2022-02-22T07:36:14.806Z"
   },
   {
    "duration": 378,
    "start_time": "2022-02-22T07:36:14.837Z"
   },
   {
    "duration": 42,
    "start_time": "2022-02-22T07:36:15.217Z"
   },
   {
    "duration": 655,
    "start_time": "2022-02-22T07:36:15.261Z"
   },
   {
    "duration": 48,
    "start_time": "2022-02-22T07:36:15.918Z"
   },
   {
    "duration": 508,
    "start_time": "2022-02-22T07:36:15.969Z"
   },
   {
    "duration": 600,
    "start_time": "2022-02-22T07:36:16.479Z"
   },
   {
    "duration": 1557,
    "start_time": "2022-02-22T07:36:15.525Z"
   },
   {
    "duration": 1554,
    "start_time": "2022-02-22T07:36:15.530Z"
   },
   {
    "duration": 1522,
    "start_time": "2022-02-22T07:36:15.563Z"
   },
   {
    "duration": 1515,
    "start_time": "2022-02-22T07:36:15.571Z"
   },
   {
    "duration": 515,
    "start_time": "2022-02-22T07:37:19.056Z"
   },
   {
    "duration": 5,
    "start_time": "2022-02-22T07:37:25.420Z"
   },
   {
    "duration": 1109,
    "start_time": "2022-02-22T07:37:26.012Z"
   },
   {
    "duration": 26,
    "start_time": "2022-02-22T07:37:27.124Z"
   },
   {
    "duration": 185,
    "start_time": "2022-02-22T07:37:27.153Z"
   },
   {
    "duration": 124,
    "start_time": "2022-02-22T07:37:27.348Z"
   },
   {
    "duration": 9,
    "start_time": "2022-02-22T07:37:27.476Z"
   },
   {
    "duration": 10,
    "start_time": "2022-02-22T07:37:27.487Z"
   },
   {
    "duration": 582,
    "start_time": "2022-02-22T07:37:27.499Z"
   },
   {
    "duration": 165,
    "start_time": "2022-02-22T07:37:28.085Z"
   },
   {
    "duration": 251,
    "start_time": "2022-02-22T07:37:28.253Z"
   },
   {
    "duration": 548,
    "start_time": "2022-02-22T07:37:28.508Z"
   },
   {
    "duration": 30,
    "start_time": "2022-02-22T07:37:29.059Z"
   },
   {
    "duration": 452,
    "start_time": "2022-02-22T07:37:29.091Z"
   },
   {
    "duration": 30,
    "start_time": "2022-02-22T07:37:29.549Z"
   },
   {
    "duration": 690,
    "start_time": "2022-02-22T07:37:29.582Z"
   },
   {
    "duration": 70,
    "start_time": "2022-02-22T07:37:30.274Z"
   },
   {
    "duration": 964,
    "start_time": "2022-02-22T07:37:30.353Z"
   },
   {
    "duration": 400,
    "start_time": "2022-02-22T07:37:31.321Z"
   },
   {
    "duration": 5,
    "start_time": "2022-02-22T07:37:40.446Z"
   },
   {
    "duration": 1049,
    "start_time": "2022-02-22T07:37:41.040Z"
   },
   {
    "duration": 20,
    "start_time": "2022-02-22T07:37:42.092Z"
   },
   {
    "duration": 181,
    "start_time": "2022-02-22T07:37:42.116Z"
   },
   {
    "duration": 135,
    "start_time": "2022-02-22T07:37:42.301Z"
   },
   {
    "duration": 12,
    "start_time": "2022-02-22T07:37:42.439Z"
   },
   {
    "duration": 10,
    "start_time": "2022-02-22T07:37:42.453Z"
   },
   {
    "duration": 578,
    "start_time": "2022-02-22T07:37:42.465Z"
   },
   {
    "duration": 165,
    "start_time": "2022-02-22T07:37:43.047Z"
   },
   {
    "duration": 250,
    "start_time": "2022-02-22T07:37:43.215Z"
   },
   {
    "duration": 525,
    "start_time": "2022-02-22T07:37:43.468Z"
   },
   {
    "duration": 29,
    "start_time": "2022-02-22T07:37:43.996Z"
   },
   {
    "duration": 447,
    "start_time": "2022-02-22T07:37:44.027Z"
   },
   {
    "duration": 30,
    "start_time": "2022-02-22T07:37:44.477Z"
   },
   {
    "duration": 672,
    "start_time": "2022-02-22T07:37:44.509Z"
   },
   {
    "duration": 36,
    "start_time": "2022-02-22T07:37:45.184Z"
   },
   {
    "duration": 548,
    "start_time": "2022-02-22T07:37:45.223Z"
   },
   {
    "duration": 464,
    "start_time": "2022-02-22T07:37:45.774Z"
   },
   {
    "duration": 5,
    "start_time": "2022-02-22T07:38:39.845Z"
   },
   {
    "duration": 354,
    "start_time": "2022-02-22T07:40:50.537Z"
   },
   {
    "duration": 104,
    "start_time": "2022-02-22T07:42:07.354Z"
   },
   {
    "duration": 380,
    "start_time": "2022-02-22T07:42:29.433Z"
   },
   {
    "duration": 400,
    "start_time": "2022-02-22T07:44:09.362Z"
   },
   {
    "duration": 328,
    "start_time": "2022-02-22T07:56:23.296Z"
   },
   {
    "duration": 349,
    "start_time": "2022-02-22T08:02:43.962Z"
   },
   {
    "duration": 301,
    "start_time": "2022-02-22T08:02:51.301Z"
   },
   {
    "duration": 120,
    "start_time": "2022-02-22T08:03:04.764Z"
   },
   {
    "duration": 121,
    "start_time": "2022-02-22T08:03:14.842Z"
   },
   {
    "duration": 462,
    "start_time": "2022-02-22T08:03:52.300Z"
   },
   {
    "duration": 540,
    "start_time": "2022-02-22T08:03:58.601Z"
   },
   {
    "duration": 5,
    "start_time": "2022-02-22T08:04:02.300Z"
   },
   {
    "duration": 1041,
    "start_time": "2022-02-22T08:04:02.863Z"
   },
   {
    "duration": 20,
    "start_time": "2022-02-22T08:04:03.907Z"
   },
   {
    "duration": 175,
    "start_time": "2022-02-22T08:04:03.930Z"
   },
   {
    "duration": 125,
    "start_time": "2022-02-22T08:04:04.108Z"
   },
   {
    "duration": 16,
    "start_time": "2022-02-22T08:04:04.236Z"
   },
   {
    "duration": 10,
    "start_time": "2022-02-22T08:04:04.254Z"
   },
   {
    "duration": 583,
    "start_time": "2022-02-22T08:04:04.267Z"
   },
   {
    "duration": 178,
    "start_time": "2022-02-22T08:04:04.853Z"
   },
   {
    "duration": 264,
    "start_time": "2022-02-22T08:04:05.035Z"
   },
   {
    "duration": 539,
    "start_time": "2022-02-22T08:04:05.302Z"
   },
   {
    "duration": 29,
    "start_time": "2022-02-22T08:04:05.844Z"
   },
   {
    "duration": 442,
    "start_time": "2022-02-22T08:04:05.875Z"
   },
   {
    "duration": 42,
    "start_time": "2022-02-22T08:04:06.320Z"
   },
   {
    "duration": 676,
    "start_time": "2022-02-22T08:04:06.365Z"
   },
   {
    "duration": 50,
    "start_time": "2022-02-22T08:04:07.048Z"
   },
   {
    "duration": 575,
    "start_time": "2022-02-22T08:04:07.101Z"
   },
   {
    "duration": 480,
    "start_time": "2022-02-22T08:04:07.679Z"
   },
   {
    "duration": 496,
    "start_time": "2022-02-22T08:04:08.162Z"
   },
   {
    "duration": 661,
    "start_time": "2022-02-22T08:04:08.660Z"
   },
   {
    "duration": 2554,
    "start_time": "2022-02-22T08:04:09.324Z"
   },
   {
    "duration": 1018,
    "start_time": "2022-02-22T08:04:10.863Z"
   },
   {
    "duration": 974,
    "start_time": "2022-02-22T08:04:10.909Z"
   },
   {
    "duration": 4,
    "start_time": "2022-02-22T08:04:46.023Z"
   },
   {
    "duration": 1052,
    "start_time": "2022-02-22T08:04:46.562Z"
   },
   {
    "duration": 22,
    "start_time": "2022-02-22T08:04:47.616Z"
   },
   {
    "duration": 175,
    "start_time": "2022-02-22T08:04:47.650Z"
   },
   {
    "duration": 128,
    "start_time": "2022-02-22T08:04:47.829Z"
   },
   {
    "duration": 9,
    "start_time": "2022-02-22T08:04:47.960Z"
   },
   {
    "duration": 11,
    "start_time": "2022-02-22T08:04:47.971Z"
   },
   {
    "duration": 596,
    "start_time": "2022-02-22T08:04:47.984Z"
   },
   {
    "duration": 172,
    "start_time": "2022-02-22T08:04:48.584Z"
   },
   {
    "duration": 358,
    "start_time": "2022-02-22T08:04:48.760Z"
   },
   {
    "duration": 730,
    "start_time": "2022-02-22T08:04:49.121Z"
   },
   {
    "duration": 29,
    "start_time": "2022-02-22T08:04:49.854Z"
   },
   {
    "duration": 417,
    "start_time": "2022-02-22T08:04:49.886Z"
   },
   {
    "duration": 42,
    "start_time": "2022-02-22T08:04:50.306Z"
   },
   {
    "duration": 632,
    "start_time": "2022-02-22T08:04:50.351Z"
   },
   {
    "duration": 36,
    "start_time": "2022-02-22T08:04:50.986Z"
   },
   {
    "duration": 560,
    "start_time": "2022-02-22T08:04:51.025Z"
   },
   {
    "duration": 413,
    "start_time": "2022-02-22T08:04:51.664Z"
   },
   {
    "duration": 93,
    "start_time": "2022-02-22T08:04:58.203Z"
   },
   {
    "duration": 200,
    "start_time": "2022-02-22T08:06:10.887Z"
   },
   {
    "duration": 4,
    "start_time": "2022-02-22T08:07:02.261Z"
   },
   {
    "duration": 1060,
    "start_time": "2022-02-22T08:07:03.344Z"
   },
   {
    "duration": 22,
    "start_time": "2022-02-22T08:07:04.406Z"
   },
   {
    "duration": 302,
    "start_time": "2022-02-22T08:07:04.432Z"
   },
   {
    "duration": 130,
    "start_time": "2022-02-22T08:07:04.737Z"
   },
   {
    "duration": 8,
    "start_time": "2022-02-22T08:07:04.869Z"
   },
   {
    "duration": 27,
    "start_time": "2022-02-22T08:07:04.879Z"
   },
   {
    "duration": 594,
    "start_time": "2022-02-22T08:07:04.909Z"
   },
   {
    "duration": 165,
    "start_time": "2022-02-22T08:07:05.506Z"
   },
   {
    "duration": 263,
    "start_time": "2022-02-22T08:07:05.675Z"
   },
   {
    "duration": 556,
    "start_time": "2022-02-22T08:07:05.940Z"
   },
   {
    "duration": 30,
    "start_time": "2022-02-22T08:07:06.499Z"
   },
   {
    "duration": 429,
    "start_time": "2022-02-22T08:07:06.783Z"
   },
   {
    "duration": 32,
    "start_time": "2022-02-22T08:07:07.552Z"
   },
   {
    "duration": 640,
    "start_time": "2022-02-22T08:07:07.984Z"
   },
   {
    "duration": 49,
    "start_time": "2022-02-22T08:07:08.627Z"
   },
   {
    "duration": 525,
    "start_time": "2022-02-22T08:07:08.969Z"
   },
   {
    "duration": 425,
    "start_time": "2022-02-22T08:07:10.009Z"
   },
   {
    "duration": 162,
    "start_time": "2022-02-22T08:07:10.548Z"
   },
   {
    "duration": 424,
    "start_time": "2022-02-22T08:08:29.797Z"
   },
   {
    "duration": 1172,
    "start_time": "2022-02-22T08:08:31.844Z"
   },
   {
    "duration": 315,
    "start_time": "2022-02-22T08:10:41.025Z"
   },
   {
    "duration": 307,
    "start_time": "2022-02-22T08:11:55.440Z"
   },
   {
    "duration": 296,
    "start_time": "2022-02-22T08:12:58.465Z"
   },
   {
    "duration": 305,
    "start_time": "2022-02-22T08:15:50.736Z"
   },
   {
    "duration": 7,
    "start_time": "2022-02-22T08:16:00.281Z"
   },
   {
    "duration": 1114,
    "start_time": "2022-02-22T08:16:00.867Z"
   },
   {
    "duration": 21,
    "start_time": "2022-02-22T08:16:01.985Z"
   },
   {
    "duration": 179,
    "start_time": "2022-02-22T08:16:02.009Z"
   },
   {
    "duration": 148,
    "start_time": "2022-02-22T08:16:02.192Z"
   },
   {
    "duration": 12,
    "start_time": "2022-02-22T08:16:02.342Z"
   },
   {
    "duration": 13,
    "start_time": "2022-02-22T08:16:02.357Z"
   },
   {
    "duration": 639,
    "start_time": "2022-02-22T08:16:02.373Z"
   },
   {
    "duration": 166,
    "start_time": "2022-02-22T08:16:03.016Z"
   },
   {
    "duration": 263,
    "start_time": "2022-02-22T08:16:03.185Z"
   },
   {
    "duration": 581,
    "start_time": "2022-02-22T08:16:03.451Z"
   },
   {
    "duration": 39,
    "start_time": "2022-02-22T08:16:04.035Z"
   },
   {
    "duration": 465,
    "start_time": "2022-02-22T08:16:04.077Z"
   },
   {
    "duration": 34,
    "start_time": "2022-02-22T08:16:04.544Z"
   },
   {
    "duration": 715,
    "start_time": "2022-02-22T08:16:04.583Z"
   },
   {
    "duration": 55,
    "start_time": "2022-02-22T08:16:05.300Z"
   },
   {
    "duration": 572,
    "start_time": "2022-02-22T08:16:05.358Z"
   },
   {
    "duration": 476,
    "start_time": "2022-02-22T08:16:05.933Z"
   },
   {
    "duration": 193,
    "start_time": "2022-02-22T08:16:06.414Z"
   },
   {
    "duration": 65,
    "start_time": "2022-02-22T08:16:06.610Z"
   },
   {
    "duration": 5,
    "start_time": "2022-02-22T08:16:29.646Z"
   },
   {
    "duration": 1111,
    "start_time": "2022-02-22T08:16:30.223Z"
   },
   {
    "duration": 25,
    "start_time": "2022-02-22T08:16:31.337Z"
   },
   {
    "duration": 199,
    "start_time": "2022-02-22T08:16:31.366Z"
   },
   {
    "duration": 132,
    "start_time": "2022-02-22T08:16:31.568Z"
   },
   {
    "duration": 8,
    "start_time": "2022-02-22T08:16:31.702Z"
   },
   {
    "duration": 35,
    "start_time": "2022-02-22T08:16:31.712Z"
   },
   {
    "duration": 615,
    "start_time": "2022-02-22T08:16:31.749Z"
   },
   {
    "duration": 234,
    "start_time": "2022-02-22T08:16:32.369Z"
   },
   {
    "duration": 318,
    "start_time": "2022-02-22T08:16:32.606Z"
   },
   {
    "duration": 589,
    "start_time": "2022-02-22T08:16:32.927Z"
   },
   {
    "duration": 38,
    "start_time": "2022-02-22T08:16:33.518Z"
   },
   {
    "duration": 450,
    "start_time": "2022-02-22T08:16:33.559Z"
   },
   {
    "duration": 43,
    "start_time": "2022-02-22T08:16:34.012Z"
   },
   {
    "duration": 784,
    "start_time": "2022-02-22T08:16:34.058Z"
   },
   {
    "duration": 37,
    "start_time": "2022-02-22T08:16:34.849Z"
   },
   {
    "duration": 574,
    "start_time": "2022-02-22T08:16:34.889Z"
   },
   {
    "duration": 461,
    "start_time": "2022-02-22T08:16:35.465Z"
   },
   {
    "duration": 183,
    "start_time": "2022-02-22T08:16:35.928Z"
   },
   {
    "duration": 89,
    "start_time": "2022-02-22T08:16:36.114Z"
   },
   {
    "duration": 456,
    "start_time": "2022-02-22T08:16:36.206Z"
   },
   {
    "duration": 1094,
    "start_time": "2022-02-22T08:16:36.665Z"
   },
   {
    "duration": 5,
    "start_time": "2022-02-22T08:17:43.821Z"
   },
   {
    "duration": 1416,
    "start_time": "2022-02-22T08:17:44.376Z"
   },
   {
    "duration": 73,
    "start_time": "2022-02-22T08:17:45.817Z"
   },
   {
    "duration": 209,
    "start_time": "2022-02-22T08:17:45.916Z"
   },
   {
    "duration": 133,
    "start_time": "2022-02-22T08:17:46.128Z"
   },
   {
    "duration": 8,
    "start_time": "2022-02-22T08:17:46.263Z"
   },
   {
    "duration": 11,
    "start_time": "2022-02-22T08:17:46.274Z"
   },
   {
    "duration": 643,
    "start_time": "2022-02-22T08:17:46.287Z"
   },
   {
    "duration": 194,
    "start_time": "2022-02-22T08:17:46.934Z"
   },
   {
    "duration": 294,
    "start_time": "2022-02-22T08:17:47.131Z"
   },
   {
    "duration": 574,
    "start_time": "2022-02-22T08:17:47.428Z"
   },
   {
    "duration": 29,
    "start_time": "2022-02-22T08:17:48.005Z"
   },
   {
    "duration": 404,
    "start_time": "2022-02-22T08:17:48.389Z"
   },
   {
    "duration": 30,
    "start_time": "2022-02-22T08:17:49.256Z"
   },
   {
    "duration": 910,
    "start_time": "2022-02-22T08:17:49.698Z"
   },
   {
    "duration": 64,
    "start_time": "2022-02-22T08:17:50.611Z"
   },
   {
    "duration": 831,
    "start_time": "2022-02-22T08:17:50.679Z"
   },
   {
    "duration": 582,
    "start_time": "2022-02-22T08:17:51.513Z"
   },
   {
    "duration": 246,
    "start_time": "2022-02-22T08:17:52.099Z"
   },
   {
    "duration": 117,
    "start_time": "2022-02-22T08:17:52.349Z"
   },
   {
    "duration": 360,
    "start_time": "2022-02-22T08:17:53.233Z"
   },
   {
    "duration": 2430,
    "start_time": "2022-02-22T08:17:54.173Z"
   },
   {
    "duration": 346,
    "start_time": "2022-02-22T08:18:31.318Z"
   },
   {
    "duration": 999,
    "start_time": "2022-02-22T08:18:33.427Z"
   },
   {
    "duration": 310,
    "start_time": "2022-02-22T08:19:25.342Z"
   },
   {
    "duration": 1526,
    "start_time": "2022-02-22T08:19:26.442Z"
   },
   {
    "duration": 122,
    "start_time": "2022-02-22T08:19:46.908Z"
   },
   {
    "duration": 1157,
    "start_time": "2022-02-22T15:52:08.058Z"
   },
   {
    "duration": 976,
    "start_time": "2022-02-22T15:52:09.592Z"
   },
   {
    "duration": 16,
    "start_time": "2022-02-22T15:52:10.570Z"
   },
   {
    "duration": 131,
    "start_time": "2022-02-22T15:52:10.588Z"
   },
   {
    "duration": 113,
    "start_time": "2022-02-22T15:52:10.721Z"
   },
   {
    "duration": 8,
    "start_time": "2022-02-22T15:52:10.836Z"
   },
   {
    "duration": 20,
    "start_time": "2022-02-22T15:52:10.846Z"
   },
   {
    "duration": 484,
    "start_time": "2022-02-22T15:52:10.880Z"
   },
   {
    "duration": 124,
    "start_time": "2022-02-22T15:52:11.367Z"
   },
   {
    "duration": 210,
    "start_time": "2022-02-22T15:52:12.135Z"
   },
   {
    "duration": 429,
    "start_time": "2022-02-22T15:52:12.696Z"
   },
   {
    "duration": 21,
    "start_time": "2022-02-22T15:52:14.171Z"
   },
   {
    "duration": 327,
    "start_time": "2022-02-22T15:52:14.811Z"
   },
   {
    "duration": 23,
    "start_time": "2022-02-22T15:52:16.160Z"
   },
   {
    "duration": 417,
    "start_time": "2022-02-22T15:52:16.743Z"
   },
   {
    "duration": 27,
    "start_time": "2022-02-22T15:52:17.555Z"
   },
   {
    "duration": 356,
    "start_time": "2022-02-22T15:52:18.449Z"
   },
   {
    "duration": 331,
    "start_time": "2022-02-22T15:52:21.031Z"
   },
   {
    "duration": 287,
    "start_time": "2022-02-22T15:52:21.572Z"
   },
   {
    "duration": 5,
    "start_time": "2022-02-22T16:03:58.358Z"
   },
   {
    "duration": 832,
    "start_time": "2022-02-22T16:03:58.943Z"
   },
   {
    "duration": 13,
    "start_time": "2022-02-22T16:03:59.777Z"
   },
   {
    "duration": 133,
    "start_time": "2022-02-22T16:03:59.792Z"
   },
   {
    "duration": 123,
    "start_time": "2022-02-22T16:03:59.927Z"
   },
   {
    "duration": 16,
    "start_time": "2022-02-22T16:04:00.053Z"
   },
   {
    "duration": 36,
    "start_time": "2022-02-22T16:04:00.072Z"
   },
   {
    "duration": 492,
    "start_time": "2022-02-22T16:04:00.111Z"
   },
   {
    "duration": 135,
    "start_time": "2022-02-22T16:04:00.606Z"
   },
   {
    "duration": 231,
    "start_time": "2022-02-22T16:04:00.744Z"
   },
   {
    "duration": 422,
    "start_time": "2022-02-22T16:04:00.977Z"
   },
   {
    "duration": 23,
    "start_time": "2022-02-22T16:04:01.401Z"
   },
   {
    "duration": 329,
    "start_time": "2022-02-22T16:04:01.426Z"
   },
   {
    "duration": 31,
    "start_time": "2022-02-22T16:04:01.759Z"
   },
   {
    "duration": 467,
    "start_time": "2022-02-22T16:04:01.792Z"
   },
   {
    "duration": 32,
    "start_time": "2022-02-22T16:04:02.262Z"
   },
   {
    "duration": 483,
    "start_time": "2022-02-22T16:04:02.442Z"
   },
   {
    "duration": 320,
    "start_time": "2022-02-22T16:04:03.200Z"
   },
   {
    "duration": 282,
    "start_time": "2022-02-22T16:04:03.694Z"
   },
   {
    "duration": 1524,
    "start_time": "2022-02-23T05:33:53.776Z"
   },
   {
    "duration": 1704,
    "start_time": "2022-02-23T05:33:55.303Z"
   },
   {
    "duration": 38,
    "start_time": "2022-02-23T05:33:57.011Z"
   },
   {
    "duration": 240,
    "start_time": "2022-02-23T05:33:57.052Z"
   },
   {
    "duration": 138,
    "start_time": "2022-02-23T05:33:57.295Z"
   },
   {
    "duration": 16,
    "start_time": "2022-02-23T05:33:57.436Z"
   },
   {
    "duration": 11,
    "start_time": "2022-02-23T05:33:57.454Z"
   },
   {
    "duration": 634,
    "start_time": "2022-02-23T05:33:57.470Z"
   },
   {
    "duration": 167,
    "start_time": "2022-02-23T05:33:58.106Z"
   },
   {
    "duration": 305,
    "start_time": "2022-02-23T05:33:58.275Z"
   },
   {
    "duration": 618,
    "start_time": "2022-02-23T05:33:58.582Z"
   },
   {
    "duration": 29,
    "start_time": "2022-02-23T05:33:59.203Z"
   },
   {
    "duration": 386,
    "start_time": "2022-02-23T05:33:59.295Z"
   },
   {
    "duration": 32,
    "start_time": "2022-02-23T05:34:00.136Z"
   },
   {
    "duration": 678,
    "start_time": "2022-02-23T05:34:00.616Z"
   },
   {
    "duration": 54,
    "start_time": "2022-02-23T05:34:01.296Z"
   },
   {
    "duration": 537,
    "start_time": "2022-02-23T05:34:01.695Z"
   },
   {
    "duration": 1792,
    "start_time": "2022-02-23T05:34:02.635Z"
   },
   {
    "duration": 467,
    "start_time": "2022-02-23T05:34:04.430Z"
   },
   {
    "duration": -9873,
    "start_time": "2022-02-23T05:34:14.773Z"
   },
   {
    "duration": -9879,
    "start_time": "2022-02-23T05:34:14.781Z"
   },
   {
    "duration": 75,
    "start_time": "2022-02-23T05:35:08.778Z"
   },
   {
    "duration": 36,
    "start_time": "2022-02-23T05:35:16.870Z"
   },
   {
    "duration": 1389,
    "start_time": "2022-02-23T05:35:32.362Z"
   },
   {
    "duration": 8422,
    "start_time": "2022-02-23T05:35:40.734Z"
   },
   {
    "duration": 7,
    "start_time": "2022-02-23T05:36:14.846Z"
   },
   {
    "duration": 8162,
    "start_time": "2022-02-23T05:36:21.026Z"
   },
   {
    "duration": 5,
    "start_time": "2022-02-23T05:36:46.894Z"
   },
   {
    "duration": 8334,
    "start_time": "2022-02-23T05:36:51.085Z"
   },
   {
    "duration": 4,
    "start_time": "2022-02-23T05:38:05.082Z"
   },
   {
    "duration": 140,
    "start_time": "2022-02-23T05:38:06.659Z"
   },
   {
    "duration": 16676,
    "start_time": "2022-02-23T05:38:11.573Z"
   },
   {
    "duration": 5,
    "start_time": "2022-02-23T05:39:23.025Z"
   },
   {
    "duration": 1064,
    "start_time": "2022-02-23T05:39:23.606Z"
   },
   {
    "duration": 21,
    "start_time": "2022-02-23T05:39:24.674Z"
   },
   {
    "duration": 176,
    "start_time": "2022-02-23T05:39:24.697Z"
   },
   {
    "duration": 122,
    "start_time": "2022-02-23T05:39:24.876Z"
   },
   {
    "duration": 8,
    "start_time": "2022-02-23T05:39:25.000Z"
   },
   {
    "duration": 19,
    "start_time": "2022-02-23T05:39:25.010Z"
   },
   {
    "duration": 566,
    "start_time": "2022-02-23T05:39:25.032Z"
   },
   {
    "duration": 168,
    "start_time": "2022-02-23T05:39:25.603Z"
   },
   {
    "duration": 295,
    "start_time": "2022-02-23T05:39:25.775Z"
   },
   {
    "duration": 565,
    "start_time": "2022-02-23T05:39:26.074Z"
   },
   {
    "duration": 30,
    "start_time": "2022-02-23T05:39:26.642Z"
   },
   {
    "duration": 400,
    "start_time": "2022-02-23T05:39:26.675Z"
   },
   {
    "duration": 32,
    "start_time": "2022-02-23T05:39:27.078Z"
   },
   {
    "duration": 855,
    "start_time": "2022-02-23T05:39:27.113Z"
   },
   {
    "duration": 68,
    "start_time": "2022-02-23T05:39:27.972Z"
   },
   {
    "duration": 710,
    "start_time": "2022-02-23T05:39:28.054Z"
   },
   {
    "duration": 1823,
    "start_time": "2022-02-23T05:39:28.768Z"
   },
   {
    "duration": 87,
    "start_time": "2022-02-23T05:39:30.594Z"
   },
   {
    "duration": 36,
    "start_time": "2022-02-23T05:39:30.684Z"
   },
   {
    "duration": 1373,
    "start_time": "2022-02-23T05:39:30.722Z"
   },
   {
    "duration": 3,
    "start_time": "2022-02-23T05:39:32.098Z"
   },
   {
    "duration": 16993,
    "start_time": "2022-02-23T05:39:32.104Z"
   },
   {
    "duration": 291,
    "start_time": "2022-02-23T05:40:00.309Z"
   },
   {
    "duration": 7,
    "start_time": "2022-02-23T05:40:05.460Z"
   },
   {
    "duration": 17,
    "start_time": "2022-02-23T05:43:49.937Z"
   },
   {
    "duration": 5,
    "start_time": "2022-02-23T05:43:55.518Z"
   },
   {
    "duration": 1101,
    "start_time": "2022-02-23T05:43:56.128Z"
   },
   {
    "duration": 30,
    "start_time": "2022-02-23T05:43:57.232Z"
   },
   {
    "duration": 179,
    "start_time": "2022-02-23T05:43:57.265Z"
   },
   {
    "duration": 128,
    "start_time": "2022-02-23T05:43:57.447Z"
   },
   {
    "duration": 9,
    "start_time": "2022-02-23T05:43:57.577Z"
   },
   {
    "duration": 13,
    "start_time": "2022-02-23T05:43:57.589Z"
   },
   {
    "duration": 603,
    "start_time": "2022-02-23T05:43:57.604Z"
   },
   {
    "duration": 163,
    "start_time": "2022-02-23T05:43:58.211Z"
   },
   {
    "duration": 274,
    "start_time": "2022-02-23T05:43:58.377Z"
   },
   {
    "duration": 572,
    "start_time": "2022-02-23T05:43:58.653Z"
   },
   {
    "duration": 35,
    "start_time": "2022-02-23T05:43:59.228Z"
   },
   {
    "duration": 389,
    "start_time": "2022-02-23T05:43:59.266Z"
   },
   {
    "duration": 29,
    "start_time": "2022-02-23T05:43:59.658Z"
   },
   {
    "duration": 672,
    "start_time": "2022-02-23T05:43:59.690Z"
   },
   {
    "duration": 38,
    "start_time": "2022-02-23T05:44:00.365Z"
   },
   {
    "duration": 537,
    "start_time": "2022-02-23T05:44:00.808Z"
   },
   {
    "duration": 122,
    "start_time": "2022-02-23T05:44:03.266Z"
   },
   {
    "duration": 1875,
    "start_time": "2022-02-23T05:44:09.779Z"
   },
   {
    "duration": 38,
    "start_time": "2022-02-23T05:44:19.887Z"
   },
   {
    "duration": 5,
    "start_time": "2022-02-23T05:44:56.491Z"
   },
   {
    "duration": 1066,
    "start_time": "2022-02-23T05:44:57.059Z"
   },
   {
    "duration": 25,
    "start_time": "2022-02-23T05:44:58.128Z"
   },
   {
    "duration": 173,
    "start_time": "2022-02-23T05:44:58.156Z"
   },
   {
    "duration": 134,
    "start_time": "2022-02-23T05:44:58.332Z"
   },
   {
    "duration": 8,
    "start_time": "2022-02-23T05:44:58.469Z"
   },
   {
    "duration": 9,
    "start_time": "2022-02-23T05:44:58.479Z"
   },
   {
    "duration": 606,
    "start_time": "2022-02-23T05:44:58.491Z"
   },
   {
    "duration": 173,
    "start_time": "2022-02-23T05:44:59.101Z"
   },
   {
    "duration": 287,
    "start_time": "2022-02-23T05:44:59.277Z"
   },
   {
    "duration": 603,
    "start_time": "2022-02-23T05:44:59.567Z"
   },
   {
    "duration": 30,
    "start_time": "2022-02-23T05:45:00.173Z"
   },
   {
    "duration": 389,
    "start_time": "2022-02-23T05:45:00.205Z"
   },
   {
    "duration": 29,
    "start_time": "2022-02-23T05:45:00.597Z"
   },
   {
    "duration": 643,
    "start_time": "2022-02-23T05:45:00.629Z"
   },
   {
    "duration": 34,
    "start_time": "2022-02-23T05:45:01.274Z"
   },
   {
    "duration": 547,
    "start_time": "2022-02-23T05:45:01.310Z"
   },
   {
    "duration": 133,
    "start_time": "2022-02-23T05:45:01.860Z"
   },
   {
    "duration": 431,
    "start_time": "2022-02-23T05:45:01.997Z"
   },
   {
    "duration": 136,
    "start_time": "2022-02-23T05:45:02.431Z"
   },
   {
    "duration": 106,
    "start_time": "2022-02-23T05:49:36.471Z"
   },
   {
    "duration": 1015,
    "start_time": "2022-02-23T05:49:37.471Z"
   },
   {
    "duration": 23,
    "start_time": "2022-02-23T05:49:38.489Z"
   },
   {
    "duration": 184,
    "start_time": "2022-02-23T05:49:38.516Z"
   },
   {
    "duration": 126,
    "start_time": "2022-02-23T05:49:38.703Z"
   },
   {
    "duration": 20,
    "start_time": "2022-02-23T05:49:38.832Z"
   },
   {
    "duration": 10,
    "start_time": "2022-02-23T05:49:38.854Z"
   },
   {
    "duration": 571,
    "start_time": "2022-02-23T05:49:38.866Z"
   },
   {
    "duration": 173,
    "start_time": "2022-02-23T05:49:39.441Z"
   },
   {
    "duration": 279,
    "start_time": "2022-02-23T05:49:39.940Z"
   },
   {
    "duration": 552,
    "start_time": "2022-02-23T05:49:47.901Z"
   },
   {
    "duration": 129,
    "start_time": "2022-02-23T05:49:49.399Z"
   },
   {
    "duration": 28,
    "start_time": "2022-02-23T05:49:55.912Z"
   },
   {
    "duration": 300,
    "start_time": "2022-02-23T05:49:57.179Z"
   },
   {
    "duration": 29,
    "start_time": "2022-02-23T05:50:04.409Z"
   },
   {
    "duration": 680,
    "start_time": "2022-02-23T05:50:21.273Z"
   },
   {
    "duration": 39,
    "start_time": "2022-02-23T05:50:25.160Z"
   },
   {
    "duration": 547,
    "start_time": "2022-02-23T05:50:37.674Z"
   },
   {
    "duration": 128,
    "start_time": "2022-02-23T05:50:41.347Z"
   },
   {
    "duration": 394,
    "start_time": "2022-02-23T05:50:49.041Z"
   },
   {
    "duration": 125,
    "start_time": "2022-02-23T05:50:52.265Z"
   },
   {
    "duration": 126,
    "start_time": "2022-02-23T05:51:12.736Z"
   },
   {
    "duration": 110,
    "start_time": "2022-02-23T05:51:22.761Z"
   },
   {
    "duration": 29,
    "start_time": "2022-02-23T05:51:35.093Z"
   },
   {
    "duration": 76,
    "start_time": "2022-02-23T05:51:42.944Z"
   },
   {
    "duration": 305,
    "start_time": "2022-02-23T05:51:50.543Z"
   },
   {
    "duration": 3,
    "start_time": "2022-02-23T05:51:51.461Z"
   },
   {
    "duration": 4010,
    "start_time": "2022-02-23T05:51:53.285Z"
   },
   {
    "duration": 111,
    "start_time": "2022-02-23T05:52:41.670Z"
   },
   {
    "duration": 104,
    "start_time": "2022-02-23T05:53:34.146Z"
   },
   {
    "duration": 73,
    "start_time": "2022-02-23T05:55:02.271Z"
   },
   {
    "duration": 277,
    "start_time": "2022-02-23T05:55:24.830Z"
   },
   {
    "duration": 6,
    "start_time": "2022-02-23T05:55:34.189Z"
   },
   {
    "duration": 33,
    "start_time": "2022-02-23T05:57:00.336Z"
   },
   {
    "duration": 6,
    "start_time": "2022-02-23T05:57:20.131Z"
   },
   {
    "duration": 5,
    "start_time": "2022-02-23T05:58:06.265Z"
   },
   {
    "duration": 1056,
    "start_time": "2022-02-23T05:58:07.258Z"
   },
   {
    "duration": 21,
    "start_time": "2022-02-23T05:58:08.317Z"
   },
   {
    "duration": 167,
    "start_time": "2022-02-23T05:58:08.348Z"
   },
   {
    "duration": 122,
    "start_time": "2022-02-23T05:58:08.518Z"
   },
   {
    "duration": 12,
    "start_time": "2022-02-23T05:58:08.643Z"
   },
   {
    "duration": 12,
    "start_time": "2022-02-23T05:58:08.658Z"
   },
   {
    "duration": 581,
    "start_time": "2022-02-23T05:58:08.673Z"
   },
   {
    "duration": 163,
    "start_time": "2022-02-23T05:58:09.257Z"
   },
   {
    "duration": 262,
    "start_time": "2022-02-23T05:58:09.908Z"
   },
   {
    "duration": 592,
    "start_time": "2022-02-23T05:58:10.392Z"
   },
   {
    "duration": 152,
    "start_time": "2022-02-23T05:58:10.987Z"
   },
   {
    "duration": 29,
    "start_time": "2022-02-23T05:58:11.914Z"
   },
   {
    "duration": 345,
    "start_time": "2022-02-23T05:58:12.325Z"
   },
   {
    "duration": 31,
    "start_time": "2022-02-23T05:58:13.261Z"
   },
   {
    "duration": 852,
    "start_time": "2022-02-23T05:58:13.742Z"
   },
   {
    "duration": 52,
    "start_time": "2022-02-23T05:58:14.596Z"
   },
   {
    "duration": 552,
    "start_time": "2022-02-23T05:58:14.765Z"
   },
   {
    "duration": 120,
    "start_time": "2022-02-23T05:58:15.569Z"
   },
   {
    "duration": 436,
    "start_time": "2022-02-23T05:58:15.919Z"
   },
   {
    "duration": 136,
    "start_time": "2022-02-23T05:58:16.358Z"
   },
   {
    "duration": 129,
    "start_time": "2022-02-23T05:58:16.622Z"
   },
   {
    "duration": 115,
    "start_time": "2022-02-23T05:58:16.909Z"
   },
   {
    "duration": 30,
    "start_time": "2022-02-23T05:58:17.540Z"
   },
   {
    "duration": 78,
    "start_time": "2022-02-23T05:58:17.800Z"
   },
   {
    "duration": 105,
    "start_time": "2022-02-23T05:58:18.445Z"
   },
   {
    "duration": 299,
    "start_time": "2022-02-23T05:58:19.414Z"
   },
   {
    "duration": 5,
    "start_time": "2022-02-23T05:58:19.775Z"
   },
   {
    "duration": 4023,
    "start_time": "2022-02-23T05:58:20.697Z"
   },
   {
    "duration": 97,
    "start_time": "2022-02-23T06:02:03.634Z"
   },
   {
    "duration": 151,
    "start_time": "2022-02-23T06:05:12.513Z"
   },
   {
    "duration": 322,
    "start_time": "2022-02-23T06:05:16.445Z"
   },
   {
    "duration": 5,
    "start_time": "2022-02-23T06:05:50.402Z"
   },
   {
    "duration": 1131,
    "start_time": "2022-02-23T06:05:50.968Z"
   },
   {
    "duration": 22,
    "start_time": "2022-02-23T06:05:52.102Z"
   },
   {
    "duration": 185,
    "start_time": "2022-02-23T06:05:52.127Z"
   },
   {
    "duration": 135,
    "start_time": "2022-02-23T06:05:52.315Z"
   },
   {
    "duration": 8,
    "start_time": "2022-02-23T06:05:52.452Z"
   },
   {
    "duration": 11,
    "start_time": "2022-02-23T06:05:52.462Z"
   },
   {
    "duration": 590,
    "start_time": "2022-02-23T06:05:52.475Z"
   },
   {
    "duration": 165,
    "start_time": "2022-02-23T06:05:53.069Z"
   },
   {
    "duration": 285,
    "start_time": "2022-02-23T06:05:53.238Z"
   },
   {
    "duration": 650,
    "start_time": "2022-02-23T06:05:53.525Z"
   },
   {
    "duration": 134,
    "start_time": "2022-02-23T06:05:54.178Z"
   },
   {
    "duration": 42,
    "start_time": "2022-02-23T06:05:54.315Z"
   },
   {
    "duration": 366,
    "start_time": "2022-02-23T06:05:54.359Z"
   },
   {
    "duration": 40,
    "start_time": "2022-02-23T06:05:54.727Z"
   },
   {
    "duration": 698,
    "start_time": "2022-02-23T06:05:54.770Z"
   },
   {
    "duration": 38,
    "start_time": "2022-02-23T06:05:55.471Z"
   },
   {
    "duration": 653,
    "start_time": "2022-02-23T06:05:55.512Z"
   },
   {
    "duration": 140,
    "start_time": "2022-02-23T06:05:56.169Z"
   },
   {
    "duration": 446,
    "start_time": "2022-02-23T06:05:56.312Z"
   },
   {
    "duration": 145,
    "start_time": "2022-02-23T06:05:56.762Z"
   },
   {
    "duration": 134,
    "start_time": "2022-02-23T06:05:56.910Z"
   },
   {
    "duration": 126,
    "start_time": "2022-02-23T06:05:57.047Z"
   },
   {
    "duration": 174,
    "start_time": "2022-02-23T06:05:57.176Z"
   },
   {
    "duration": 78,
    "start_time": "2022-02-23T06:05:57.353Z"
   },
   {
    "duration": 103,
    "start_time": "2022-02-23T06:05:57.448Z"
   },
   {
    "duration": 315,
    "start_time": "2022-02-23T06:05:57.554Z"
   },
   {
    "duration": 3,
    "start_time": "2022-02-23T06:05:58.899Z"
   },
   {
    "duration": 4209,
    "start_time": "2022-02-23T06:05:59.844Z"
   },
   {
    "duration": 4,
    "start_time": "2022-02-23T06:06:40.126Z"
   },
   {
    "duration": 321595,
    "start_time": "2022-02-23T06:06:41.174Z"
   },
   {
    "duration": 501544,
    "start_time": "2022-02-23T06:12:04.290Z"
   },
   {
    "duration": 584,
    "start_time": "2022-02-23T16:17:56.938Z"
   },
   {
    "duration": 2080,
    "start_time": "2022-02-23T16:18:03.397Z"
   },
   {
    "duration": 1305,
    "start_time": "2022-02-23T16:18:05.481Z"
   },
   {
    "duration": 29,
    "start_time": "2022-02-23T16:18:06.789Z"
   },
   {
    "duration": 207,
    "start_time": "2022-02-23T16:18:06.821Z"
   },
   {
    "duration": 151,
    "start_time": "2022-02-23T16:18:07.031Z"
   },
   {
    "duration": 9,
    "start_time": "2022-02-23T16:18:07.185Z"
   },
   {
    "duration": 12,
    "start_time": "2022-02-23T16:18:07.197Z"
   },
   {
    "duration": 755,
    "start_time": "2022-02-23T16:18:07.215Z"
   },
   {
    "duration": 182,
    "start_time": "2022-02-23T16:18:07.974Z"
   },
   {
    "duration": 505,
    "start_time": "2022-02-23T16:18:08.162Z"
   },
   {
    "duration": 761,
    "start_time": "2022-02-23T16:18:08.670Z"
   },
   {
    "duration": 158,
    "start_time": "2022-02-23T16:18:09.434Z"
   },
   {
    "duration": 31,
    "start_time": "2022-02-23T16:18:09.595Z"
   },
   {
    "duration": 438,
    "start_time": "2022-02-23T16:18:09.628Z"
   },
   {
    "duration": 31,
    "start_time": "2022-02-23T16:18:10.069Z"
   },
   {
    "duration": 769,
    "start_time": "2022-02-23T16:18:10.102Z"
   },
   {
    "duration": 37,
    "start_time": "2022-02-23T16:18:10.874Z"
   },
   {
    "duration": 691,
    "start_time": "2022-02-23T16:18:10.914Z"
   },
   {
    "duration": 155,
    "start_time": "2022-02-23T16:18:11.608Z"
   },
   {
    "duration": 501,
    "start_time": "2022-02-23T16:18:11.767Z"
   },
   {
    "duration": 165,
    "start_time": "2022-02-23T16:18:12.270Z"
   },
   {
    "duration": 551,
    "start_time": "2022-02-23T16:18:12.438Z"
   },
   {
    "duration": -27,
    "start_time": "2022-02-23T16:18:13.020Z"
   },
   {
    "duration": -26,
    "start_time": "2022-02-23T16:18:13.025Z"
   },
   {
    "duration": -29,
    "start_time": "2022-02-23T16:18:13.030Z"
   },
   {
    "duration": -31,
    "start_time": "2022-02-23T16:18:13.033Z"
   },
   {
    "duration": -31,
    "start_time": "2022-02-23T16:18:13.035Z"
   },
   {
    "duration": -32,
    "start_time": "2022-02-23T16:18:13.037Z"
   },
   {
    "duration": -33,
    "start_time": "2022-02-23T16:18:13.040Z"
   },
   {
    "duration": -35,
    "start_time": "2022-02-23T16:18:13.043Z"
   },
   {
    "duration": -39,
    "start_time": "2022-02-23T16:18:13.049Z"
   },
   {
    "duration": 126,
    "start_time": "2022-02-23T16:20:33.753Z"
   },
   {
    "duration": 126,
    "start_time": "2022-02-23T16:20:36.144Z"
   },
   {
    "duration": 31,
    "start_time": "2022-02-23T16:20:40.445Z"
   },
   {
    "duration": 92,
    "start_time": "2022-02-23T16:20:41.095Z"
   },
   {
    "duration": 405,
    "start_time": "2022-02-23T16:21:10.967Z"
   },
   {
    "duration": 354,
    "start_time": "2022-02-23T16:21:16.583Z"
   },
   {
    "duration": 7,
    "start_time": "2022-02-23T16:21:17.352Z"
   },
   {
    "duration": 545750,
    "start_time": "2022-02-23T16:21:18.288Z"
   },
   {
    "duration": 4950968,
    "start_time": "2022-02-23T16:30:24.041Z"
   },
   {
    "duration": -1925,
    "start_time": "2022-02-23T17:52:56.937Z"
   },
   {
    "duration": 51967,
    "start_time": "2022-02-23T17:53:43.681Z"
   },
   {
    "duration": 90345,
    "start_time": "2022-02-23T18:13:47.951Z"
   },
   {
    "duration": 105543,
    "start_time": "2022-02-23T18:16:39.954Z"
   },
   {
    "duration": -1158,
    "start_time": "2022-02-23T18:18:26.658Z"
   },
   {
    "duration": 86830,
    "start_time": "2022-02-23T18:20:48.831Z"
   },
   {
    "duration": 84317,
    "start_time": "2022-02-23T18:59:31.805Z"
   },
   {
    "duration": 80349,
    "start_time": "2022-02-23T19:31:57.546Z"
   },
   {
    "duration": 1681635,
    "start_time": "2022-02-23T19:35:14.862Z"
   },
   {
    "duration": 25654,
    "start_time": "2022-02-23T20:03:16.500Z"
   },
   {
    "duration": 89,
    "start_time": "2022-02-23T20:15:51.579Z"
   },
   {
    "duration": 536,
    "start_time": "2022-02-23T20:25:18.704Z"
   },
   {
    "duration": 447,
    "start_time": "2022-02-23T20:26:14.764Z"
   },
   {
    "duration": 6,
    "start_time": "2022-02-23T20:26:20.121Z"
   },
   {
    "duration": 15108,
    "start_time": "2022-02-23T20:26:25.097Z"
   },
   {
    "duration": 33796,
    "start_time": "2022-02-23T20:26:52.306Z"
   },
   {
    "duration": 73068,
    "start_time": "2022-02-23T20:27:41.102Z"
   },
   {
    "duration": 21,
    "start_time": "2022-02-23T20:35:43.018Z"
   },
   {
    "duration": 83240,
    "start_time": "2022-02-23T20:43:04.212Z"
   },
   {
    "duration": 1482007,
    "start_time": "2022-02-23T20:44:27.456Z"
   },
   {
    "duration": 8094,
    "start_time": "2022-02-23T21:09:09.467Z"
   },
   {
    "duration": 74406,
    "start_time": "2022-02-23T21:09:17.565Z"
   },
   {
    "duration": 1341,
    "start_time": "2022-02-24T08:46:35.451Z"
   },
   {
    "duration": 9843,
    "start_time": "2022-02-24T08:46:36.794Z"
   },
   {
    "duration": 13,
    "start_time": "2022-02-24T08:46:46.639Z"
   },
   {
    "duration": 108,
    "start_time": "2022-02-24T08:46:46.654Z"
   },
   {
    "duration": 85,
    "start_time": "2022-02-24T08:46:46.764Z"
   },
   {
    "duration": 5,
    "start_time": "2022-02-24T08:46:46.851Z"
   },
   {
    "duration": 6,
    "start_time": "2022-02-24T08:46:46.858Z"
   },
   {
    "duration": 425,
    "start_time": "2022-02-24T08:46:46.867Z"
   },
   {
    "duration": 108,
    "start_time": "2022-02-24T08:46:47.295Z"
   },
   {
    "duration": 193,
    "start_time": "2022-02-24T08:46:47.404Z"
   },
   {
    "duration": 380,
    "start_time": "2022-02-24T08:46:47.598Z"
   },
   {
    "duration": 101,
    "start_time": "2022-02-24T08:46:47.979Z"
   },
   {
    "duration": 18,
    "start_time": "2022-02-24T08:46:48.082Z"
   },
   {
    "duration": 228,
    "start_time": "2022-02-24T08:46:48.102Z"
   },
   {
    "duration": 27,
    "start_time": "2022-02-24T08:46:48.332Z"
   },
   {
    "duration": 464,
    "start_time": "2022-02-24T08:46:48.360Z"
   },
   {
    "duration": 31,
    "start_time": "2022-02-24T08:46:48.825Z"
   },
   {
    "duration": 294,
    "start_time": "2022-02-24T08:46:48.857Z"
   },
   {
    "duration": 93,
    "start_time": "2022-02-24T08:46:49.153Z"
   },
   {
    "duration": 248,
    "start_time": "2022-02-24T08:46:49.248Z"
   },
   {
    "duration": 100,
    "start_time": "2022-02-24T08:46:49.498Z"
   },
   {
    "duration": 77,
    "start_time": "2022-02-24T08:46:49.599Z"
   },
   {
    "duration": 83,
    "start_time": "2022-02-24T08:46:49.679Z"
   },
   {
    "duration": 17,
    "start_time": "2022-02-24T08:46:49.764Z"
   },
   {
    "duration": 46,
    "start_time": "2022-02-24T08:46:49.783Z"
   },
   {
    "duration": 216,
    "start_time": "2022-02-24T08:46:49.846Z"
   },
   {
    "duration": 2,
    "start_time": "2022-02-24T08:46:50.064Z"
   },
   {
    "duration": 55822,
    "start_time": "2022-02-24T08:46:50.068Z"
   },
   {
    "duration": 55507,
    "start_time": "2022-02-24T08:47:45.891Z"
   },
   {
    "duration": -408,
    "start_time": "2022-02-24T08:48:41.808Z"
   },
   {
    "duration": -426,
    "start_time": "2022-02-24T08:48:41.827Z"
   },
   {
    "duration": -431,
    "start_time": "2022-02-24T08:48:41.833Z"
   },
   {
    "duration": 3,
    "start_time": "2022-02-24T08:49:26.843Z"
   },
   {
    "duration": 669,
    "start_time": "2022-02-24T08:49:27.373Z"
   },
   {
    "duration": 11,
    "start_time": "2022-02-24T08:49:28.044Z"
   },
   {
    "duration": 121,
    "start_time": "2022-02-24T08:49:28.058Z"
   },
   {
    "duration": 96,
    "start_time": "2022-02-24T08:49:28.181Z"
   },
   {
    "duration": 5,
    "start_time": "2022-02-24T08:49:28.279Z"
   },
   {
    "duration": 7,
    "start_time": "2022-02-24T08:49:28.286Z"
   },
   {
    "duration": 492,
    "start_time": "2022-02-24T08:49:28.456Z"
   },
   {
    "duration": 118,
    "start_time": "2022-02-24T08:49:28.950Z"
   },
   {
    "duration": 177,
    "start_time": "2022-02-24T08:49:29.421Z"
   },
   {
    "duration": 421,
    "start_time": "2022-02-24T08:49:29.815Z"
   },
   {
    "duration": 160,
    "start_time": "2022-02-24T08:49:30.238Z"
   },
   {
    "duration": 23,
    "start_time": "2022-02-24T08:49:31.089Z"
   },
   {
    "duration": 224,
    "start_time": "2022-02-24T08:49:31.549Z"
   },
   {
    "duration": 19,
    "start_time": "2022-02-24T08:49:32.480Z"
   },
   {
    "duration": 407,
    "start_time": "2022-02-24T08:49:33.010Z"
   },
   {
    "duration": 24,
    "start_time": "2022-02-24T08:49:33.544Z"
   },
   {
    "duration": 411,
    "start_time": "2022-02-24T08:49:34.112Z"
   },
   {
    "duration": 89,
    "start_time": "2022-02-24T08:49:34.988Z"
   },
   {
    "duration": 361,
    "start_time": "2022-02-24T08:49:35.441Z"
   },
   {
    "duration": 138,
    "start_time": "2022-02-24T08:49:35.804Z"
   },
   {
    "duration": 125,
    "start_time": "2022-02-24T08:49:35.990Z"
   },
   {
    "duration": 113,
    "start_time": "2022-02-24T08:49:36.324Z"
   },
   {
    "duration": 25,
    "start_time": "2022-02-24T08:49:36.659Z"
   },
   {
    "duration": 43,
    "start_time": "2022-02-24T08:49:37.020Z"
   },
   {
    "duration": 202,
    "start_time": "2022-02-24T08:49:38.213Z"
   },
   {
    "duration": 3,
    "start_time": "2022-02-24T08:49:38.721Z"
   },
   {
    "duration": 56535,
    "start_time": "2022-02-24T08:49:41.074Z"
   },
   {
    "duration": 1098055,
    "start_time": "2022-02-24T08:50:37.611Z"
   },
   {
    "duration": 4489,
    "start_time": "2022-02-24T09:08:55.668Z"
   },
   {
    "duration": 43491,
    "start_time": "2022-02-24T09:09:00.161Z"
   },
   {
    "duration": 30085,
    "start_time": "2022-02-24T09:11:47.672Z"
   },
   {
    "duration": 413,
    "start_time": "2022-02-24T09:20:53.974Z"
   },
   {
    "duration": 4,
    "start_time": "2022-02-24T09:21:00.655Z"
   },
   {
    "duration": 7,
    "start_time": "2022-02-24T09:21:14.742Z"
   },
   {
    "duration": 352,
    "start_time": "2022-02-24T09:22:46.778Z"
   },
   {
    "duration": 9,
    "start_time": "2022-02-24T09:23:07.918Z"
   },
   {
    "duration": 9,
    "start_time": "2022-02-24T09:23:57.045Z"
   },
   {
    "duration": 1162,
    "start_time": "2022-02-25T08:23:08.072Z"
   },
   {
    "duration": 1001,
    "start_time": "2022-02-25T08:23:10.213Z"
   },
   {
    "duration": 18,
    "start_time": "2022-02-25T08:23:11.216Z"
   },
   {
    "duration": 135,
    "start_time": "2022-02-25T08:23:11.237Z"
   },
   {
    "duration": 123,
    "start_time": "2022-02-25T08:23:11.374Z"
   },
   {
    "duration": 5,
    "start_time": "2022-02-25T08:23:11.499Z"
   },
   {
    "duration": 9,
    "start_time": "2022-02-25T08:23:11.512Z"
   },
   {
    "duration": 528,
    "start_time": "2022-02-25T08:23:11.522Z"
   },
   {
    "duration": 121,
    "start_time": "2022-02-25T08:23:12.052Z"
   },
   {
    "duration": 223,
    "start_time": "2022-02-25T08:23:12.175Z"
   },
   {
    "duration": 535,
    "start_time": "2022-02-25T08:23:12.400Z"
   },
   {
    "duration": 104,
    "start_time": "2022-02-25T08:23:12.937Z"
   },
   {
    "duration": 21,
    "start_time": "2022-02-25T08:23:13.043Z"
   },
   {
    "duration": 292,
    "start_time": "2022-02-25T08:23:13.065Z"
   },
   {
    "duration": 29,
    "start_time": "2022-02-25T08:23:13.360Z"
   },
   {
    "duration": 460,
    "start_time": "2022-02-25T08:23:13.391Z"
   },
   {
    "duration": 28,
    "start_time": "2022-02-25T08:23:13.853Z"
   },
   {
    "duration": 384,
    "start_time": "2022-02-25T08:23:13.882Z"
   },
   {
    "duration": 408,
    "start_time": "2022-02-25T08:23:14.836Z"
   },
   {
    "duration": 89,
    "start_time": "2022-02-25T08:23:15.246Z"
   },
   {
    "duration": 105,
    "start_time": "2022-02-25T08:23:15.337Z"
   },
   {
    "duration": 53,
    "start_time": "2022-02-25T08:23:15.513Z"
   },
   {
    "duration": 25,
    "start_time": "2022-02-25T08:23:55.253Z"
   },
   {
    "duration": 15,
    "start_time": "2022-02-25T08:24:01.285Z"
   },
   {
    "duration": 21,
    "start_time": "2022-02-25T08:24:12.082Z"
   },
   {
    "duration": 227,
    "start_time": "2022-02-25T08:30:33.634Z"
   },
   {
    "duration": 3,
    "start_time": "2022-02-25T08:30:34.894Z"
   },
   {
    "duration": 129,
    "start_time": "2022-02-25T08:31:47.337Z"
   },
   {
    "duration": 3,
    "start_time": "2022-02-25T08:34:10.815Z"
   },
   {
    "duration": 893,
    "start_time": "2022-02-25T08:34:11.560Z"
   },
   {
    "duration": 14,
    "start_time": "2022-02-25T08:34:12.455Z"
   },
   {
    "duration": 127,
    "start_time": "2022-02-25T08:34:12.471Z"
   },
   {
    "duration": 124,
    "start_time": "2022-02-25T08:34:12.601Z"
   },
   {
    "duration": 10,
    "start_time": "2022-02-25T08:34:12.727Z"
   },
   {
    "duration": 10,
    "start_time": "2022-02-25T08:34:12.739Z"
   },
   {
    "duration": 429,
    "start_time": "2022-02-25T08:34:12.751Z"
   },
   {
    "duration": 135,
    "start_time": "2022-02-25T08:34:13.183Z"
   },
   {
    "duration": 201,
    "start_time": "2022-02-25T08:34:13.319Z"
   },
   {
    "duration": 458,
    "start_time": "2022-02-25T08:34:13.522Z"
   },
   {
    "duration": 104,
    "start_time": "2022-02-25T08:34:13.982Z"
   },
   {
    "duration": 28,
    "start_time": "2022-02-25T08:34:14.087Z"
   },
   {
    "duration": 281,
    "start_time": "2022-02-25T08:34:14.117Z"
   },
   {
    "duration": 31,
    "start_time": "2022-02-25T08:34:14.400Z"
   },
   {
    "duration": 541,
    "start_time": "2022-02-25T08:34:14.433Z"
   },
   {
    "duration": 37,
    "start_time": "2022-02-25T08:34:14.976Z"
   },
   {
    "duration": 395,
    "start_time": "2022-02-25T08:34:15.016Z"
   },
   {
    "duration": 376,
    "start_time": "2022-02-25T08:34:15.413Z"
   },
   {
    "duration": 94,
    "start_time": "2022-02-25T08:34:15.791Z"
   },
   {
    "duration": 87,
    "start_time": "2022-02-25T08:34:15.886Z"
   },
   {
    "duration": 67,
    "start_time": "2022-02-25T08:34:15.974Z"
   },
   {
    "duration": 231,
    "start_time": "2022-02-25T08:34:16.044Z"
   },
   {
    "duration": 3,
    "start_time": "2022-02-25T08:34:16.277Z"
   },
   {
    "duration": 2067,
    "start_time": "2022-02-25T08:34:16.282Z"
   },
   {
    "duration": 195,
    "start_time": "2022-02-25T08:34:18.155Z"
   },
   {
    "duration": 185,
    "start_time": "2022-02-25T08:34:18.167Z"
   },
   {
    "duration": 135,
    "start_time": "2022-02-25T08:34:18.218Z"
   },
   {
    "duration": 224,
    "start_time": "2022-02-25T08:34:18.475Z"
   },
   {
    "duration": 66417,
    "start_time": "2022-02-25T08:35:15.044Z"
   },
   {
    "duration": 179,
    "start_time": "2022-02-25T08:58:03.611Z"
   },
   {
    "duration": 168,
    "start_time": "2022-02-25T08:58:03.624Z"
   },
   {
    "duration": 166,
    "start_time": "2022-02-25T08:58:03.627Z"
   },
   {
    "duration": 165,
    "start_time": "2022-02-25T08:58:03.630Z"
   },
   {
    "duration": 458,
    "start_time": "2022-02-25T08:59:01.999Z"
   },
   {
    "duration": 4,
    "start_time": "2022-02-25T08:59:14.734Z"
   },
   {
    "duration": 729,
    "start_time": "2022-02-25T08:59:15.686Z"
   },
   {
    "duration": 14,
    "start_time": "2022-02-25T08:59:16.417Z"
   },
   {
    "duration": 127,
    "start_time": "2022-02-25T08:59:16.433Z"
   },
   {
    "duration": 108,
    "start_time": "2022-02-25T08:59:16.562Z"
   },
   {
    "duration": 6,
    "start_time": "2022-02-25T08:59:16.672Z"
   },
   {
    "duration": 8,
    "start_time": "2022-02-25T08:59:16.679Z"
   },
   {
    "duration": 419,
    "start_time": "2022-02-25T08:59:16.689Z"
   },
   {
    "duration": 115,
    "start_time": "2022-02-25T08:59:17.113Z"
   },
   {
    "duration": 189,
    "start_time": "2022-02-25T08:59:17.230Z"
   },
   {
    "duration": 383,
    "start_time": "2022-02-25T08:59:17.421Z"
   },
   {
    "duration": 98,
    "start_time": "2022-02-25T08:59:17.806Z"
   },
   {
    "duration": 19,
    "start_time": "2022-02-25T08:59:17.912Z"
   },
   {
    "duration": 265,
    "start_time": "2022-02-25T08:59:17.933Z"
   },
   {
    "duration": 25,
    "start_time": "2022-02-25T08:59:18.199Z"
   },
   {
    "duration": 470,
    "start_time": "2022-02-25T08:59:18.226Z"
   },
   {
    "duration": 47,
    "start_time": "2022-02-25T08:59:18.699Z"
   },
   {
    "duration": 478,
    "start_time": "2022-02-25T08:59:18.748Z"
   },
   {
    "duration": 307,
    "start_time": "2022-02-25T08:59:19.228Z"
   },
   {
    "duration": 92,
    "start_time": "2022-02-25T08:59:19.537Z"
   },
   {
    "duration": 99,
    "start_time": "2022-02-25T08:59:19.631Z"
   },
   {
    "duration": 52,
    "start_time": "2022-02-25T08:59:19.731Z"
   },
   {
    "duration": 233,
    "start_time": "2022-02-25T08:59:19.784Z"
   },
   {
    "duration": 3,
    "start_time": "2022-02-25T08:59:21.023Z"
   },
   {
    "duration": 65441,
    "start_time": "2022-02-25T08:59:21.912Z"
   },
   {
    "duration": 1294656,
    "start_time": "2022-02-25T09:00:42.868Z"
   },
   {
    "duration": 6550,
    "start_time": "2022-02-25T09:22:31.661Z"
   },
   {
    "duration": 103,
    "start_time": "2022-02-25T09:22:50.699Z"
   },
   {
    "duration": 6834,
    "start_time": "2022-02-25T09:22:52.200Z"
   },
   {
    "duration": 64,
    "start_time": "2022-02-25T09:24:20.570Z"
   },
   {
    "duration": 101,
    "start_time": "2022-02-25T09:24:27.059Z"
   },
   {
    "duration": 58281,
    "start_time": "2022-02-25T09:24:28.284Z"
   },
   {
    "duration": 4,
    "start_time": "2022-02-25T09:25:32.131Z"
   },
   {
    "duration": 740,
    "start_time": "2022-02-25T09:25:32.791Z"
   },
   {
    "duration": 13,
    "start_time": "2022-02-25T09:25:33.533Z"
   },
   {
    "duration": 137,
    "start_time": "2022-02-25T09:25:33.548Z"
   },
   {
    "duration": 116,
    "start_time": "2022-02-25T09:25:33.687Z"
   },
   {
    "duration": 8,
    "start_time": "2022-02-25T09:25:33.804Z"
   },
   {
    "duration": 7,
    "start_time": "2022-02-25T09:25:33.814Z"
   },
   {
    "duration": 411,
    "start_time": "2022-02-25T09:25:33.857Z"
   },
   {
    "duration": 118,
    "start_time": "2022-02-25T09:25:34.270Z"
   },
   {
    "duration": 214,
    "start_time": "2022-02-25T09:25:35.071Z"
   },
   {
    "duration": 414,
    "start_time": "2022-02-25T09:25:35.446Z"
   },
   {
    "duration": 99,
    "start_time": "2022-02-25T09:25:35.862Z"
   },
   {
    "duration": 20,
    "start_time": "2022-02-25T09:25:36.669Z"
   },
   {
    "duration": 296,
    "start_time": "2022-02-25T09:25:37.112Z"
   },
   {
    "duration": 22,
    "start_time": "2022-02-25T09:25:38.711Z"
   },
   {
    "duration": 430,
    "start_time": "2022-02-25T09:25:39.115Z"
   },
   {
    "duration": 26,
    "start_time": "2022-02-25T09:25:39.559Z"
   },
   {
    "duration": 422,
    "start_time": "2022-02-25T09:25:39.993Z"
   },
   {
    "duration": 313,
    "start_time": "2022-02-25T09:25:41.423Z"
   },
   {
    "duration": 109,
    "start_time": "2022-02-25T09:25:41.738Z"
   },
   {
    "duration": 186,
    "start_time": "2022-02-25T09:25:42.232Z"
   },
   {
    "duration": 54,
    "start_time": "2022-02-25T09:25:43.033Z"
   },
   {
    "duration": 223,
    "start_time": "2022-02-25T09:25:49.249Z"
   },
   {
    "duration": 3,
    "start_time": "2022-02-25T09:25:50.255Z"
   },
   {
    "duration": 106,
    "start_time": "2022-02-25T09:25:56.150Z"
   },
   {
    "duration": 189217,
    "start_time": "2022-02-25T09:25:56.909Z"
   },
   {
    "duration": 357,
    "start_time": "2022-02-25T09:39:07.063Z"
   },
   {
    "duration": 4,
    "start_time": "2022-02-25T09:39:16.261Z"
   },
   {
    "duration": 228,
    "start_time": "2022-02-25T09:39:36.876Z"
   },
   {
    "duration": 1369,
    "start_time": "2022-02-25T09:39:44.669Z"
   },
   {
    "duration": 857,
    "start_time": "2022-02-25T09:39:47.547Z"
   },
   {
    "duration": 19,
    "start_time": "2022-02-25T09:39:48.406Z"
   },
   {
    "duration": 131,
    "start_time": "2022-02-25T09:39:48.427Z"
   },
   {
    "duration": 125,
    "start_time": "2022-02-25T09:39:48.561Z"
   },
   {
    "duration": 8,
    "start_time": "2022-02-25T09:39:48.688Z"
   },
   {
    "duration": 15,
    "start_time": "2022-02-25T09:39:48.697Z"
   },
   {
    "duration": 460,
    "start_time": "2022-02-25T09:39:48.714Z"
   },
   {
    "duration": 127,
    "start_time": "2022-02-25T09:39:49.177Z"
   },
   {
    "duration": 221,
    "start_time": "2022-02-25T09:39:49.306Z"
   },
   {
    "duration": 463,
    "start_time": "2022-02-25T09:39:49.528Z"
   },
   {
    "duration": 101,
    "start_time": "2022-02-25T09:39:49.993Z"
   },
   {
    "duration": 24,
    "start_time": "2022-02-25T09:39:50.096Z"
   },
   {
    "duration": 273,
    "start_time": "2022-02-25T09:39:50.121Z"
   },
   {
    "duration": 25,
    "start_time": "2022-02-25T09:39:50.396Z"
   },
   {
    "duration": 465,
    "start_time": "2022-02-25T09:39:52.066Z"
   },
   {
    "duration": 28,
    "start_time": "2022-02-25T09:39:52.533Z"
   },
   {
    "duration": 381,
    "start_time": "2022-02-25T09:39:52.563Z"
   },
   {
    "duration": 327,
    "start_time": "2022-02-25T09:39:55.535Z"
   },
   {
    "duration": 82,
    "start_time": "2022-02-25T09:39:55.912Z"
   },
   {
    "duration": 95,
    "start_time": "2022-02-25T09:39:56.308Z"
   },
   {
    "duration": 57,
    "start_time": "2022-02-25T09:39:56.641Z"
   },
   {
    "duration": 227,
    "start_time": "2022-02-25T09:39:58.506Z"
   },
   {
    "duration": 3,
    "start_time": "2022-02-25T09:39:59.023Z"
   },
   {
    "duration": 65126,
    "start_time": "2022-02-25T09:39:59.574Z"
   },
   {
    "duration": 1281241,
    "start_time": "2022-02-25T09:41:04.702Z"
   },
   {
    "duration": 6074,
    "start_time": "2022-02-25T10:02:25.944Z"
   },
   {
    "duration": 298,
    "start_time": "2022-02-25T10:02:32.023Z"
   },
   {
    "duration": 234,
    "start_time": "2022-02-25T10:02:41.624Z"
   },
   {
    "duration": 180,
    "start_time": "2022-02-25T10:02:52.933Z"
   },
   {
    "duration": 1190,
    "start_time": "2022-02-25T10:03:04.172Z"
   },
   {
    "duration": 889,
    "start_time": "2022-02-25T10:03:05.364Z"
   },
   {
    "duration": 19,
    "start_time": "2022-02-25T10:03:06.256Z"
   },
   {
    "duration": 130,
    "start_time": "2022-02-25T10:03:06.277Z"
   },
   {
    "duration": 113,
    "start_time": "2022-02-25T10:03:06.847Z"
   },
   {
    "duration": 7,
    "start_time": "2022-02-25T10:03:07.317Z"
   },
   {
    "duration": 8,
    "start_time": "2022-02-25T10:03:07.356Z"
   },
   {
    "duration": 468,
    "start_time": "2022-02-25T10:03:07.410Z"
   },
   {
    "duration": 124,
    "start_time": "2022-02-25T10:03:07.880Z"
   },
   {
    "duration": 241,
    "start_time": "2022-02-25T10:03:08.006Z"
   },
   {
    "duration": 470,
    "start_time": "2022-02-25T10:03:08.248Z"
   },
   {
    "duration": 97,
    "start_time": "2022-02-25T10:03:08.720Z"
   },
   {
    "duration": 20,
    "start_time": "2022-02-25T10:03:09.286Z"
   },
   {
    "duration": 262,
    "start_time": "2022-02-25T10:03:09.357Z"
   },
   {
    "duration": 22,
    "start_time": "2022-02-25T10:03:10.430Z"
   },
   {
    "duration": 437,
    "start_time": "2022-02-25T10:03:12.647Z"
   },
   {
    "duration": 28,
    "start_time": "2022-02-25T10:03:13.233Z"
   },
   {
    "duration": 373,
    "start_time": "2022-02-25T10:03:13.931Z"
   },
   {
    "duration": 317,
    "start_time": "2022-02-25T10:03:15.458Z"
   },
   {
    "duration": 82,
    "start_time": "2022-02-25T10:03:15.965Z"
   },
   {
    "duration": 98,
    "start_time": "2022-02-25T10:03:16.483Z"
   },
   {
    "duration": 66,
    "start_time": "2022-02-25T10:03:16.959Z"
   },
   {
    "duration": 239,
    "start_time": "2022-02-25T10:03:21.235Z"
   },
   {
    "duration": 3,
    "start_time": "2022-02-25T10:03:21.901Z"
   },
   {
    "duration": 114,
    "start_time": "2022-02-25T10:03:27.727Z"
   },
   {
    "duration": 249,
    "start_time": "2022-02-25T10:03:28.364Z"
   },
   {
    "duration": 2488,
    "start_time": "2022-02-25T10:03:49.574Z"
   },
   {
    "duration": 202,
    "start_time": "2022-02-25T10:04:46.661Z"
   },
   {
    "duration": 221,
    "start_time": "2022-02-25T10:05:20.229Z"
   },
   {
    "duration": 1220,
    "start_time": "2022-02-25T10:05:42.948Z"
   },
   {
    "duration": 1106,
    "start_time": "2022-02-25T16:45:52.094Z"
   },
   {
    "duration": 682,
    "start_time": "2022-02-25T16:45:54.142Z"
   },
   {
    "duration": 20,
    "start_time": "2022-02-25T16:45:54.826Z"
   },
   {
    "duration": 109,
    "start_time": "2022-02-25T16:45:54.847Z"
   },
   {
    "duration": 94,
    "start_time": "2022-02-25T16:45:54.958Z"
   },
   {
    "duration": 6,
    "start_time": "2022-02-25T16:45:55.053Z"
   },
   {
    "duration": 8,
    "start_time": "2022-02-25T16:45:55.060Z"
   },
   {
    "duration": 376,
    "start_time": "2022-02-25T16:45:55.070Z"
   },
   {
    "duration": 104,
    "start_time": "2022-02-25T16:45:55.448Z"
   },
   {
    "duration": 297,
    "start_time": "2022-02-25T16:45:55.553Z"
   },
   {
    "duration": 366,
    "start_time": "2022-02-25T16:45:55.851Z"
   },
   {
    "duration": 91,
    "start_time": "2022-02-25T16:45:56.218Z"
   },
   {
    "duration": 18,
    "start_time": "2022-02-25T16:45:56.310Z"
   },
   {
    "duration": 247,
    "start_time": "2022-02-25T16:45:56.330Z"
   },
   {
    "duration": 18,
    "start_time": "2022-02-25T16:45:56.579Z"
   },
   {
    "duration": 368,
    "start_time": "2022-02-25T16:45:56.598Z"
   },
   {
    "duration": 24,
    "start_time": "2022-02-25T16:45:56.968Z"
   },
   {
    "duration": 304,
    "start_time": "2022-02-25T16:45:56.994Z"
   },
   {
    "duration": 262,
    "start_time": "2022-02-25T16:45:57.300Z"
   },
   {
    "duration": 83,
    "start_time": "2022-02-25T16:45:57.563Z"
   },
   {
    "duration": 77,
    "start_time": "2022-02-25T16:45:57.647Z"
   },
   {
    "duration": 60,
    "start_time": "2022-02-25T16:45:57.726Z"
   },
   {
    "duration": 208,
    "start_time": "2022-02-25T16:45:57.788Z"
   },
   {
    "duration": 3,
    "start_time": "2022-02-25T16:45:57.998Z"
   },
   {
    "duration": 56130,
    "start_time": "2022-02-25T16:45:58.071Z"
   },
   {
    "duration": 1087368,
    "start_time": "2022-02-25T16:46:54.203Z"
   },
   {
    "duration": 4874,
    "start_time": "2022-02-25T17:05:01.572Z"
   },
   {
    "duration": 178,
    "start_time": "2022-02-25T17:05:06.448Z"
   },
   {
    "duration": 449,
    "start_time": "2022-02-25T17:11:13.571Z"
   },
   {
    "duration": 1103,
    "start_time": "2022-02-25T17:11:20.992Z"
   },
   {
    "duration": 680,
    "start_time": "2022-02-25T17:11:23.295Z"
   },
   {
    "duration": 15,
    "start_time": "2022-02-25T17:11:23.977Z"
   },
   {
    "duration": 116,
    "start_time": "2022-02-25T17:11:23.993Z"
   },
   {
    "duration": 94,
    "start_time": "2022-02-25T17:11:24.110Z"
   },
   {
    "duration": 5,
    "start_time": "2022-02-25T17:11:24.205Z"
   },
   {
    "duration": 6,
    "start_time": "2022-02-25T17:11:24.212Z"
   },
   {
    "duration": 359,
    "start_time": "2022-02-25T17:11:24.219Z"
   },
   {
    "duration": 112,
    "start_time": "2022-02-25T17:11:24.580Z"
   },
   {
    "duration": 194,
    "start_time": "2022-02-25T17:11:24.693Z"
   },
   {
    "duration": 373,
    "start_time": "2022-02-25T17:11:24.888Z"
   },
   {
    "duration": 90,
    "start_time": "2022-02-25T17:11:25.262Z"
   },
   {
    "duration": 18,
    "start_time": "2022-02-25T17:11:25.354Z"
   },
   {
    "duration": 247,
    "start_time": "2022-02-25T17:11:25.374Z"
   },
   {
    "duration": 29,
    "start_time": "2022-02-25T17:11:25.622Z"
   },
   {
    "duration": 358,
    "start_time": "2022-02-25T17:11:25.653Z"
   },
   {
    "duration": 24,
    "start_time": "2022-02-25T17:11:26.012Z"
   },
   {
    "duration": 302,
    "start_time": "2022-02-25T17:11:26.046Z"
   },
   {
    "duration": 255,
    "start_time": "2022-02-25T17:11:26.390Z"
   },
   {
    "duration": 71,
    "start_time": "2022-02-25T17:11:26.647Z"
   },
   {
    "duration": 73,
    "start_time": "2022-02-25T17:11:26.808Z"
   },
   {
    "duration": 49,
    "start_time": "2022-02-25T17:11:27.001Z"
   },
   {
    "duration": 189,
    "start_time": "2022-02-25T17:11:28.714Z"
   },
   {
    "duration": 3,
    "start_time": "2022-02-25T17:11:29.606Z"
   },
   {
    "duration": 55514,
    "start_time": "2022-02-25T17:11:30.573Z"
   },
   {
    "duration": 1079860,
    "start_time": "2022-02-25T17:13:28.698Z"
   },
   {
    "duration": 4955,
    "start_time": "2022-02-25T17:41:01.411Z"
   },
   {
    "duration": 101,
    "start_time": "2022-02-25T17:41:12.457Z"
   },
   {
    "duration": 350,
    "start_time": "2022-02-25T17:41:57.239Z"
   },
   {
    "duration": 1138,
    "start_time": "2022-02-25T17:43:40.269Z"
   },
   {
    "duration": 678,
    "start_time": "2022-02-25T17:43:41.409Z"
   },
   {
    "duration": 14,
    "start_time": "2022-02-25T17:43:42.088Z"
   },
   {
    "duration": 119,
    "start_time": "2022-02-25T17:43:42.104Z"
   },
   {
    "duration": 89,
    "start_time": "2022-02-25T17:43:42.224Z"
   },
   {
    "duration": 4,
    "start_time": "2022-02-25T17:43:42.315Z"
   },
   {
    "duration": 6,
    "start_time": "2022-02-25T17:43:42.321Z"
   },
   {
    "duration": 338,
    "start_time": "2022-02-25T17:43:42.329Z"
   },
   {
    "duration": 106,
    "start_time": "2022-02-25T17:43:42.669Z"
   },
   {
    "duration": 197,
    "start_time": "2022-02-25T17:43:42.776Z"
   },
   {
    "duration": 350,
    "start_time": "2022-02-25T17:43:42.975Z"
   },
   {
    "duration": 96,
    "start_time": "2022-02-25T17:43:43.327Z"
   },
   {
    "duration": 24,
    "start_time": "2022-02-25T17:43:43.425Z"
   },
   {
    "duration": 261,
    "start_time": "2022-02-25T17:43:43.451Z"
   },
   {
    "duration": 20,
    "start_time": "2022-02-25T17:43:43.714Z"
   },
   {
    "duration": 365,
    "start_time": "2022-02-25T17:43:43.735Z"
   },
   {
    "duration": 23,
    "start_time": "2022-02-25T17:43:44.101Z"
   },
   {
    "duration": 308,
    "start_time": "2022-02-25T17:43:44.126Z"
   },
   {
    "duration": 257,
    "start_time": "2022-02-25T17:43:44.436Z"
   },
   {
    "duration": 87,
    "start_time": "2022-02-25T17:43:44.696Z"
   },
   {
    "duration": 81,
    "start_time": "2022-02-25T17:43:44.786Z"
   },
   {
    "duration": 47,
    "start_time": "2022-02-25T17:43:44.869Z"
   },
   {
    "duration": 208,
    "start_time": "2022-02-25T17:43:44.917Z"
   },
   {
    "duration": 2,
    "start_time": "2022-02-25T17:43:45.127Z"
   },
   {
    "duration": 55116,
    "start_time": "2022-02-25T17:43:45.130Z"
   },
   {
    "duration": 1078605,
    "start_time": "2022-02-25T17:44:40.248Z"
   },
   {
    "duration": 4994,
    "start_time": "2022-02-25T18:02:38.855Z"
   },
   {
    "duration": 176,
    "start_time": "2022-02-25T18:02:43.851Z"
   },
   {
    "duration": 22,
    "start_time": "2022-02-25T18:02:44.029Z"
   },
   {
    "duration": 8,
    "start_time": "2022-02-25T18:02:44.053Z"
   },
   {
    "duration": 1141,
    "start_time": "2022-02-25T18:10:19.398Z"
   },
   {
    "duration": 4,
    "start_time": "2022-02-25T18:10:23.659Z"
   },
   {
    "duration": 693,
    "start_time": "2022-02-25T18:10:24.298Z"
   },
   {
    "duration": 14,
    "start_time": "2022-02-25T18:10:24.993Z"
   },
   {
    "duration": 119,
    "start_time": "2022-02-25T18:10:25.009Z"
   },
   {
    "duration": 89,
    "start_time": "2022-02-25T18:10:25.130Z"
   },
   {
    "duration": 5,
    "start_time": "2022-02-25T18:10:25.221Z"
   },
   {
    "duration": 19,
    "start_time": "2022-02-25T18:10:25.227Z"
   },
   {
    "duration": 361,
    "start_time": "2022-02-25T18:10:25.248Z"
   },
   {
    "duration": 117,
    "start_time": "2022-02-25T18:10:25.611Z"
   },
   {
    "duration": 196,
    "start_time": "2022-02-25T18:10:25.730Z"
   },
   {
    "duration": 372,
    "start_time": "2022-02-25T18:10:25.928Z"
   },
   {
    "duration": 93,
    "start_time": "2022-02-25T18:10:26.302Z"
   },
   {
    "duration": 18,
    "start_time": "2022-02-25T18:10:26.396Z"
   },
   {
    "duration": 237,
    "start_time": "2022-02-25T18:10:26.416Z"
   },
   {
    "duration": 20,
    "start_time": "2022-02-25T18:10:26.654Z"
   },
   {
    "duration": 411,
    "start_time": "2022-02-25T18:10:26.676Z"
   },
   {
    "duration": 25,
    "start_time": "2022-02-25T18:10:27.089Z"
   },
   {
    "duration": 312,
    "start_time": "2022-02-25T18:10:27.116Z"
   },
   {
    "duration": 259,
    "start_time": "2022-02-25T18:10:27.431Z"
   },
   {
    "duration": 82,
    "start_time": "2022-02-25T18:10:27.692Z"
   },
   {
    "duration": 79,
    "start_time": "2022-02-25T18:10:27.775Z"
   },
   {
    "duration": 47,
    "start_time": "2022-02-25T18:10:27.856Z"
   },
   {
    "duration": 209,
    "start_time": "2022-02-25T18:10:27.905Z"
   },
   {
    "duration": 3,
    "start_time": "2022-02-25T18:10:28.116Z"
   },
   {
    "duration": 56387,
    "start_time": "2022-02-25T18:10:28.916Z"
   },
   {
    "duration": 1088179,
    "start_time": "2022-02-25T18:11:25.305Z"
   },
   {
    "duration": 4560,
    "start_time": "2022-02-25T18:29:33.486Z"
   },
   {
    "duration": 178,
    "start_time": "2022-02-25T18:29:38.049Z"
   },
   {
    "duration": 18,
    "start_time": "2022-02-25T18:29:38.229Z"
   },
   {
    "duration": 5,
    "start_time": "2022-02-25T18:29:38.248Z"
   },
   {
    "duration": 1177,
    "start_time": "2022-02-25T18:43:55.720Z"
   },
   {
    "duration": 674,
    "start_time": "2022-02-25T18:43:56.899Z"
   },
   {
    "duration": 14,
    "start_time": "2022-02-25T18:43:57.575Z"
   },
   {
    "duration": 114,
    "start_time": "2022-02-25T18:43:57.591Z"
   },
   {
    "duration": 99,
    "start_time": "2022-02-25T18:43:57.707Z"
   },
   {
    "duration": 5,
    "start_time": "2022-02-25T18:43:57.807Z"
   },
   {
    "duration": 12,
    "start_time": "2022-02-25T18:43:57.813Z"
   },
   {
    "duration": 365,
    "start_time": "2022-02-25T18:43:57.827Z"
   },
   {
    "duration": 102,
    "start_time": "2022-02-25T18:43:58.194Z"
   },
   {
    "duration": 191,
    "start_time": "2022-02-25T18:43:58.297Z"
   },
   {
    "duration": 424,
    "start_time": "2022-02-25T18:43:58.490Z"
   },
   {
    "duration": 95,
    "start_time": "2022-02-25T18:43:58.915Z"
   },
   {
    "duration": 18,
    "start_time": "2022-02-25T18:43:59.012Z"
   },
   {
    "duration": 232,
    "start_time": "2022-02-25T18:43:59.031Z"
   },
   {
    "duration": 19,
    "start_time": "2022-02-25T18:43:59.265Z"
   },
   {
    "duration": 370,
    "start_time": "2022-02-25T18:43:59.286Z"
   },
   {
    "duration": 23,
    "start_time": "2022-02-25T18:43:59.657Z"
   },
   {
    "duration": 297,
    "start_time": "2022-02-25T18:43:59.808Z"
   },
   {
    "duration": 261,
    "start_time": "2022-02-25T18:44:00.107Z"
   },
   {
    "duration": 76,
    "start_time": "2022-02-25T18:44:00.370Z"
   },
   {
    "duration": 76,
    "start_time": "2022-02-25T18:44:00.448Z"
   },
   {
    "duration": 55,
    "start_time": "2022-02-25T18:44:00.525Z"
   },
   {
    "duration": 210,
    "start_time": "2022-02-25T18:44:00.581Z"
   },
   {
    "duration": 4,
    "start_time": "2022-02-25T18:44:00.792Z"
   },
   {
    "duration": 54578,
    "start_time": "2022-02-25T18:44:00.798Z"
   },
   {
    "duration": 1103417,
    "start_time": "2022-02-25T18:44:55.378Z"
   },
   {
    "duration": 5650,
    "start_time": "2022-02-25T19:03:18.797Z"
   },
   {
    "duration": 263,
    "start_time": "2022-02-25T19:03:24.450Z"
   },
   {
    "duration": 10,
    "start_time": "2022-02-25T19:03:24.714Z"
   },
   {
    "duration": 6,
    "start_time": "2022-02-25T19:03:24.725Z"
   },
   {
    "duration": 1099,
    "start_time": "2022-02-25T19:08:26.709Z"
   },
   {
    "duration": 683,
    "start_time": "2022-02-25T19:08:27.810Z"
   },
   {
    "duration": 14,
    "start_time": "2022-02-25T19:08:28.495Z"
   },
   {
    "duration": 118,
    "start_time": "2022-02-25T19:08:28.511Z"
   },
   {
    "duration": 87,
    "start_time": "2022-02-25T19:08:28.631Z"
   },
   {
    "duration": 5,
    "start_time": "2022-02-25T19:08:28.720Z"
   },
   {
    "duration": 21,
    "start_time": "2022-02-25T19:08:28.726Z"
   },
   {
    "duration": 344,
    "start_time": "2022-02-25T19:08:28.749Z"
   },
   {
    "duration": 107,
    "start_time": "2022-02-25T19:08:29.094Z"
   },
   {
    "duration": 191,
    "start_time": "2022-02-25T19:08:29.203Z"
   },
   {
    "duration": 351,
    "start_time": "2022-02-25T19:08:29.395Z"
   },
   {
    "duration": 86,
    "start_time": "2022-02-25T19:08:29.747Z"
   },
   {
    "duration": 26,
    "start_time": "2022-02-25T19:08:29.834Z"
   },
   {
    "duration": 230,
    "start_time": "2022-02-25T19:08:29.862Z"
   },
   {
    "duration": 19,
    "start_time": "2022-02-25T19:08:30.094Z"
   },
   {
    "duration": 375,
    "start_time": "2022-02-25T19:08:30.115Z"
   },
   {
    "duration": 25,
    "start_time": "2022-02-25T19:08:30.492Z"
   },
   {
    "duration": 316,
    "start_time": "2022-02-25T19:08:30.519Z"
   },
   {
    "duration": 264,
    "start_time": "2022-02-25T19:08:30.836Z"
   },
   {
    "duration": 86,
    "start_time": "2022-02-25T19:08:31.101Z"
   },
   {
    "duration": 77,
    "start_time": "2022-02-25T19:08:31.189Z"
   },
   {
    "duration": 45,
    "start_time": "2022-02-25T19:08:31.317Z"
   },
   {
    "duration": 197,
    "start_time": "2022-02-25T19:08:41.044Z"
   },
   {
    "duration": 3,
    "start_time": "2022-02-25T19:08:41.919Z"
   },
   {
    "duration": 92,
    "start_time": "2022-02-25T19:08:47.654Z"
   },
   {
    "duration": 10,
    "start_time": "2022-02-25T19:08:48.421Z"
   },
   {
    "duration": 4,
    "start_time": "2022-02-25T19:08:48.816Z"
   },
   {
    "duration": 1105,
    "start_time": "2022-02-25T19:09:03.293Z"
   },
   {
    "duration": 676,
    "start_time": "2022-02-25T19:09:04.400Z"
   },
   {
    "duration": 16,
    "start_time": "2022-02-25T19:09:05.078Z"
   },
   {
    "duration": 126,
    "start_time": "2022-02-25T19:09:05.096Z"
   },
   {
    "duration": 92,
    "start_time": "2022-02-25T19:09:05.224Z"
   },
   {
    "duration": 6,
    "start_time": "2022-02-25T19:09:05.318Z"
   },
   {
    "duration": 6,
    "start_time": "2022-02-25T19:09:05.345Z"
   },
   {
    "duration": 352,
    "start_time": "2022-02-25T19:09:05.353Z"
   },
   {
    "duration": 114,
    "start_time": "2022-02-25T19:09:05.706Z"
   },
   {
    "duration": 186,
    "start_time": "2022-02-25T19:09:05.821Z"
   },
   {
    "duration": 351,
    "start_time": "2022-02-25T19:09:06.009Z"
   },
   {
    "duration": 94,
    "start_time": "2022-02-25T19:09:06.362Z"
   },
   {
    "duration": 18,
    "start_time": "2022-02-25T19:09:06.458Z"
   },
   {
    "duration": 227,
    "start_time": "2022-02-25T19:09:06.477Z"
   },
   {
    "duration": 19,
    "start_time": "2022-02-25T19:09:06.706Z"
   },
   {
    "duration": 367,
    "start_time": "2022-02-25T19:09:06.726Z"
   },
   {
    "duration": 25,
    "start_time": "2022-02-25T19:09:07.095Z"
   },
   {
    "duration": 310,
    "start_time": "2022-02-25T19:09:07.121Z"
   },
   {
    "duration": 259,
    "start_time": "2022-02-25T19:09:07.433Z"
   },
   {
    "duration": 83,
    "start_time": "2022-02-25T19:09:07.694Z"
   },
   {
    "duration": 81,
    "start_time": "2022-02-25T19:09:07.779Z"
   },
   {
    "duration": 46,
    "start_time": "2022-02-25T19:09:07.862Z"
   },
   {
    "duration": 3,
    "start_time": "2022-02-25T19:09:22.029Z"
   },
   {
    "duration": 414,
    "start_time": "2022-02-25T19:24:10.972Z"
   },
   {
    "duration": 88,
    "start_time": "2022-02-25T19:24:29.339Z"
   },
   {
    "duration": 10,
    "start_time": "2022-02-25T19:24:29.844Z"
   },
   {
    "duration": 4,
    "start_time": "2022-02-25T19:24:30.231Z"
   },
   {
    "duration": 1526,
    "start_time": "2022-02-25T19:44:32.961Z"
   },
   {
    "duration": 506,
    "start_time": "2022-02-25T19:44:33.983Z"
   },
   {
    "duration": 503,
    "start_time": "2022-02-25T19:44:33.987Z"
   },
   {
    "duration": 457,
    "start_time": "2022-02-25T19:44:34.033Z"
   },
   {
    "duration": 433,
    "start_time": "2022-02-25T19:44:34.058Z"
   },
   {
    "duration": 430,
    "start_time": "2022-02-25T19:44:34.062Z"
   },
   {
    "duration": 427,
    "start_time": "2022-02-25T19:44:34.066Z"
   },
   {
    "duration": 378,
    "start_time": "2022-02-25T19:44:34.116Z"
   },
   {
    "duration": 347,
    "start_time": "2022-02-25T19:44:34.148Z"
   },
   {
    "duration": 345,
    "start_time": "2022-02-25T19:44:34.151Z"
   },
   {
    "duration": 343,
    "start_time": "2022-02-25T19:44:34.154Z"
   },
   {
    "duration": 264,
    "start_time": "2022-02-25T19:44:34.233Z"
   },
   {
    "duration": 261,
    "start_time": "2022-02-25T19:44:34.237Z"
   },
   {
    "duration": 228,
    "start_time": "2022-02-25T19:44:34.271Z"
   },
   {
    "duration": 395,
    "start_time": "2022-02-25T19:44:34.673Z"
   },
   {
    "duration": 305,
    "start_time": "2022-02-25T19:44:34.765Z"
   },
   {
    "duration": 303,
    "start_time": "2022-02-25T19:44:34.768Z"
   },
   {
    "duration": 301,
    "start_time": "2022-02-25T19:44:34.771Z"
   },
   {
    "duration": 410,
    "start_time": "2022-02-25T19:44:35.124Z"
   },
   {
    "duration": -1192,
    "start_time": "2022-02-25T19:44:36.728Z"
   },
   {
    "duration": -1196,
    "start_time": "2022-02-25T19:44:36.733Z"
   },
   {
    "duration": -1197,
    "start_time": "2022-02-25T19:44:36.735Z"
   },
   {
    "duration": 323,
    "start_time": "2022-02-25T19:44:37.203Z"
   },
   {
    "duration": 474,
    "start_time": "2022-02-25T19:44:37.054Z"
   },
   {
    "duration": 467,
    "start_time": "2022-02-25T19:44:37.062Z"
   },
   {
    "duration": 447,
    "start_time": "2022-02-25T19:44:37.083Z"
   },
   {
    "duration": 443,
    "start_time": "2022-02-25T19:44:37.088Z"
   },
   {
    "duration": 439,
    "start_time": "2022-02-25T19:44:37.093Z"
   },
   {
    "duration": 436,
    "start_time": "2022-02-25T19:44:37.097Z"
   },
   {
    "duration": 405,
    "start_time": "2022-02-25T19:44:37.129Z"
   },
   {
    "duration": 402,
    "start_time": "2022-02-25T19:44:37.133Z"
   },
   {
    "duration": 400,
    "start_time": "2022-02-25T19:44:37.136Z"
   },
   {
    "duration": 14,
    "start_time": "2022-02-25T19:45:21.627Z"
   },
   {
    "duration": 664,
    "start_time": "2022-02-25T19:45:23.543Z"
   },
   {
    "duration": 16,
    "start_time": "2022-02-25T19:45:24.209Z"
   },
   {
    "duration": 120,
    "start_time": "2022-02-25T19:45:24.226Z"
   },
   {
    "duration": 82,
    "start_time": "2022-02-25T19:45:24.348Z"
   },
   {
    "duration": 16,
    "start_time": "2022-02-25T19:45:24.431Z"
   },
   {
    "duration": 6,
    "start_time": "2022-02-25T19:45:24.448Z"
   },
   {
    "duration": 362,
    "start_time": "2022-02-25T19:45:24.455Z"
   },
   {
    "duration": 108,
    "start_time": "2022-02-25T19:45:24.819Z"
   },
   {
    "duration": 189,
    "start_time": "2022-02-25T19:45:24.929Z"
   },
   {
    "duration": 350,
    "start_time": "2022-02-25T19:45:25.119Z"
   },
   {
    "duration": 93,
    "start_time": "2022-02-25T19:45:25.470Z"
   },
   {
    "duration": 17,
    "start_time": "2022-02-25T19:45:25.565Z"
   },
   {
    "duration": 227,
    "start_time": "2022-02-25T19:45:25.584Z"
   },
   {
    "duration": 19,
    "start_time": "2022-02-25T19:45:25.812Z"
   },
   {
    "duration": 362,
    "start_time": "2022-02-25T19:45:25.832Z"
   },
   {
    "duration": 25,
    "start_time": "2022-02-25T19:45:26.196Z"
   },
   {
    "duration": 303,
    "start_time": "2022-02-25T19:45:26.223Z"
   },
   {
    "duration": 252,
    "start_time": "2022-02-25T19:45:26.827Z"
   },
   {
    "duration": 72,
    "start_time": "2022-02-25T19:45:27.109Z"
   },
   {
    "duration": 76,
    "start_time": "2022-02-25T19:45:27.315Z"
   },
   {
    "duration": 47,
    "start_time": "2022-02-25T19:45:27.536Z"
   },
   {
    "duration": 196,
    "start_time": "2022-02-25T19:45:28.624Z"
   },
   {
    "duration": 3,
    "start_time": "2022-02-25T19:45:29.583Z"
   },
   {
    "duration": 54627,
    "start_time": "2022-02-25T19:45:30.030Z"
   },
   {
    "duration": 1082357,
    "start_time": "2022-02-25T19:46:24.659Z"
   },
   {
    "duration": 4732,
    "start_time": "2022-02-25T20:04:27.018Z"
   },
   {
    "duration": 181,
    "start_time": "2022-02-25T20:04:31.752Z"
   },
   {
    "duration": 19,
    "start_time": "2022-02-25T20:04:31.934Z"
   },
   {
    "duration": 7,
    "start_time": "2022-02-25T20:04:31.954Z"
   },
   {
    "duration": 13722,
    "start_time": "2022-02-25T20:05:57.742Z"
   },
   {
    "duration": 13489,
    "start_time": "2022-02-25T20:06:29.670Z"
   },
   {
    "duration": 95379,
    "start_time": "2022-02-25T20:06:50.475Z"
   },
   {
    "duration": 163749,
    "start_time": "2022-02-25T20:08:47.904Z"
   },
   {
    "duration": 398,
    "start_time": "2022-02-25T20:11:39.123Z"
   },
   {
    "duration": 4,
    "start_time": "2022-02-25T20:11:46.275Z"
   },
   {
    "duration": 522,
    "start_time": "2022-02-25T20:11:51.971Z"
   },
   {
    "duration": 21,
    "start_time": "2022-02-25T20:12:19.290Z"
   },
   {
    "duration": 12,
    "start_time": "2022-02-25T20:12:27.610Z"
   },
   {
    "duration": 88,
    "start_time": "2022-02-25T20:12:40.946Z"
   },
   {
    "duration": 8067,
    "start_time": "2022-02-25T20:12:50.473Z"
   },
   {
    "duration": 8303,
    "start_time": "2022-02-25T20:19:18.703Z"
   },
   {
    "duration": 91,
    "start_time": "2022-02-25T20:19:39.083Z"
   },
   {
    "duration": 98,
    "start_time": "2022-02-25T20:19:58.925Z"
   },
   {
    "duration": 99,
    "start_time": "2022-02-25T20:20:06.450Z"
   },
   {
    "duration": 1137,
    "start_time": "2022-02-25T20:20:14.369Z"
   },
   {
    "duration": 498,
    "start_time": "2022-02-25T20:21:14.457Z"
   },
   {
    "duration": 422,
    "start_time": "2022-02-25T20:21:26.162Z"
   },
   {
    "duration": 4,
    "start_time": "2022-02-25T20:23:06.689Z"
   },
   {
    "duration": 525,
    "start_time": "2022-02-25T20:23:49.416Z"
   },
   {
    "duration": 361,
    "start_time": "2022-02-25T20:24:18.324Z"
   },
   {
    "duration": 19,
    "start_time": "2022-02-25T20:24:35.929Z"
   },
   {
    "duration": 4,
    "start_time": "2022-02-25T20:24:51.024Z"
   },
   {
    "duration": 797,
    "start_time": "2022-02-25T20:24:51.660Z"
   },
   {
    "duration": 12,
    "start_time": "2022-02-25T20:24:52.458Z"
   },
   {
    "duration": 119,
    "start_time": "2022-02-25T20:24:52.472Z"
   },
   {
    "duration": 86,
    "start_time": "2022-02-25T20:24:52.593Z"
   },
   {
    "duration": 5,
    "start_time": "2022-02-25T20:24:52.681Z"
   },
   {
    "duration": 5,
    "start_time": "2022-02-25T20:24:52.688Z"
   },
   {
    "duration": 354,
    "start_time": "2022-02-25T20:24:52.695Z"
   },
   {
    "duration": 110,
    "start_time": "2022-02-25T20:24:53.052Z"
   },
   {
    "duration": 186,
    "start_time": "2022-02-25T20:24:53.164Z"
   },
   {
    "duration": 372,
    "start_time": "2022-02-25T20:24:53.352Z"
   },
   {
    "duration": 95,
    "start_time": "2022-02-25T20:24:53.725Z"
   },
   {
    "duration": 28,
    "start_time": "2022-02-25T20:24:53.821Z"
   },
   {
    "duration": 246,
    "start_time": "2022-02-25T20:24:53.851Z"
   },
   {
    "duration": 19,
    "start_time": "2022-02-25T20:24:54.099Z"
   },
   {
    "duration": 427,
    "start_time": "2022-02-25T20:24:54.120Z"
   },
   {
    "duration": 25,
    "start_time": "2022-02-25T20:24:54.549Z"
   },
   {
    "duration": 329,
    "start_time": "2022-02-25T20:24:54.575Z"
   },
   {
    "duration": 280,
    "start_time": "2022-02-25T20:24:54.906Z"
   },
   {
    "duration": 81,
    "start_time": "2022-02-25T20:24:55.188Z"
   },
   {
    "duration": 78,
    "start_time": "2022-02-25T20:24:55.271Z"
   },
   {
    "duration": 47,
    "start_time": "2022-02-25T20:24:55.351Z"
   },
   {
    "duration": 199,
    "start_time": "2022-02-25T20:25:04.158Z"
   },
   {
    "duration": 3,
    "start_time": "2022-02-25T20:25:04.929Z"
   },
   {
    "duration": 91,
    "start_time": "2022-02-25T20:25:11.730Z"
   },
   {
    "duration": 510,
    "start_time": "2022-02-25T20:25:20.645Z"
   },
   {
    "duration": 3,
    "start_time": "2022-02-25T20:25:40.611Z"
   },
   {
    "duration": 633,
    "start_time": "2022-02-25T20:25:41.723Z"
   },
   {
    "duration": 11,
    "start_time": "2022-02-25T20:25:42.358Z"
   },
   {
    "duration": 119,
    "start_time": "2022-02-25T20:25:42.371Z"
   },
   {
    "duration": 94,
    "start_time": "2022-02-25T20:25:42.492Z"
   },
   {
    "duration": 7,
    "start_time": "2022-02-25T20:25:42.587Z"
   },
   {
    "duration": 8,
    "start_time": "2022-02-25T20:25:42.596Z"
   },
   {
    "duration": 351,
    "start_time": "2022-02-25T20:25:42.606Z"
   },
   {
    "duration": 112,
    "start_time": "2022-02-25T20:25:42.959Z"
   },
   {
    "duration": 188,
    "start_time": "2022-02-25T20:25:43.072Z"
   },
   {
    "duration": 352,
    "start_time": "2022-02-25T20:25:43.261Z"
   },
   {
    "duration": 91,
    "start_time": "2022-02-25T20:25:43.615Z"
   },
   {
    "duration": 18,
    "start_time": "2022-02-25T20:25:43.708Z"
   },
   {
    "duration": 236,
    "start_time": "2022-02-25T20:25:43.727Z"
   },
   {
    "duration": 19,
    "start_time": "2022-02-25T20:25:43.965Z"
   },
   {
    "duration": 376,
    "start_time": "2022-02-25T20:25:43.986Z"
   },
   {
    "duration": 24,
    "start_time": "2022-02-25T20:25:44.364Z"
   },
   {
    "duration": 341,
    "start_time": "2022-02-25T20:25:44.745Z"
   },
   {
    "duration": 266,
    "start_time": "2022-02-25T20:25:48.511Z"
   },
   {
    "duration": 78,
    "start_time": "2022-02-25T20:25:48.778Z"
   },
   {
    "duration": 75,
    "start_time": "2022-02-25T20:25:48.886Z"
   },
   {
    "duration": 48,
    "start_time": "2022-02-25T20:25:49.249Z"
   },
   {
    "duration": 188,
    "start_time": "2022-02-25T20:25:54.025Z"
   },
   {
    "duration": 2,
    "start_time": "2022-02-25T20:25:55.168Z"
   },
   {
    "duration": 86,
    "start_time": "2022-02-25T20:25:59.697Z"
   },
   {
    "duration": 21,
    "start_time": "2022-02-25T20:26:04.198Z"
   },
   {
    "duration": 150,
    "start_time": "2022-02-25T20:26:18.150Z"
   },
   {
    "duration": 28,
    "start_time": "2022-02-25T20:26:24.833Z"
   },
   {
    "duration": 14,
    "start_time": "2022-02-25T20:26:37.507Z"
   },
   {
    "duration": 29,
    "start_time": "2022-02-25T20:26:46.315Z"
   },
   {
    "duration": 439,
    "start_time": "2022-02-25T20:27:02.811Z"
   },
   {
    "duration": 352,
    "start_time": "2022-02-25T20:27:36.058Z"
   },
   {
    "duration": 4,
    "start_time": "2022-02-25T20:27:45.095Z"
   },
   {
    "duration": 709,
    "start_time": "2022-02-25T20:27:45.729Z"
   },
   {
    "duration": 17,
    "start_time": "2022-02-25T20:27:46.440Z"
   },
   {
    "duration": 180,
    "start_time": "2022-02-25T20:27:46.459Z"
   },
   {
    "duration": 102,
    "start_time": "2022-02-25T20:27:46.645Z"
   },
   {
    "duration": 5,
    "start_time": "2022-02-25T20:27:46.749Z"
   },
   {
    "duration": 7,
    "start_time": "2022-02-25T20:27:46.756Z"
   },
   {
    "duration": 383,
    "start_time": "2022-02-25T20:27:46.764Z"
   },
   {
    "duration": 125,
    "start_time": "2022-02-25T20:27:47.150Z"
   },
   {
    "duration": 220,
    "start_time": "2022-02-25T20:27:47.277Z"
   },
   {
    "duration": 357,
    "start_time": "2022-02-25T20:27:47.499Z"
   },
   {
    "duration": 98,
    "start_time": "2022-02-25T20:27:47.858Z"
   },
   {
    "duration": 19,
    "start_time": "2022-02-25T20:27:47.957Z"
   },
   {
    "duration": 252,
    "start_time": "2022-02-25T20:27:47.978Z"
   },
   {
    "duration": 25,
    "start_time": "2022-02-25T20:27:48.232Z"
   },
   {
    "duration": 370,
    "start_time": "2022-02-25T20:27:48.259Z"
   },
   {
    "duration": 32,
    "start_time": "2022-02-25T20:27:48.631Z"
   },
   {
    "duration": 323,
    "start_time": "2022-02-25T20:27:48.665Z"
   },
   {
    "duration": 289,
    "start_time": "2022-02-25T20:27:48.991Z"
   },
   {
    "duration": 84,
    "start_time": "2022-02-25T20:27:49.281Z"
   },
   {
    "duration": 156,
    "start_time": "2022-02-25T20:27:49.367Z"
   },
   {
    "duration": 52,
    "start_time": "2022-02-25T20:27:49.525Z"
   },
   {
    "duration": 195,
    "start_time": "2022-02-25T20:27:50.903Z"
   },
   {
    "duration": 3,
    "start_time": "2022-02-25T20:27:51.822Z"
   },
   {
    "duration": 90,
    "start_time": "2022-02-25T20:27:55.340Z"
   },
   {
    "duration": 23,
    "start_time": "2022-02-25T20:27:58.492Z"
   },
   {
    "duration": 161,
    "start_time": "2022-02-25T20:28:00.793Z"
   },
   {
    "duration": 14,
    "start_time": "2022-02-25T20:28:02.122Z"
   },
   {
    "duration": 28,
    "start_time": "2022-02-25T20:28:03.970Z"
   },
   {
    "duration": 362,
    "start_time": "2022-02-25T20:28:05.145Z"
   },
   {
    "duration": 9590,
    "start_time": "2022-02-25T20:29:25.767Z"
   },
   {
    "duration": 4,
    "start_time": "2022-02-25T20:30:43.605Z"
   },
   {
    "duration": 663,
    "start_time": "2022-02-25T20:30:45.119Z"
   },
   {
    "duration": 12,
    "start_time": "2022-02-25T20:30:45.783Z"
   },
   {
    "duration": 117,
    "start_time": "2022-02-25T20:30:45.796Z"
   },
   {
    "duration": 88,
    "start_time": "2022-02-25T20:30:45.915Z"
   },
   {
    "duration": 5,
    "start_time": "2022-02-25T20:30:46.005Z"
   },
   {
    "duration": 6,
    "start_time": "2022-02-25T20:30:46.012Z"
   },
   {
    "duration": 337,
    "start_time": "2022-02-25T20:30:46.020Z"
   },
   {
    "duration": 121,
    "start_time": "2022-02-25T20:30:46.360Z"
   },
   {
    "duration": 183,
    "start_time": "2022-02-25T20:30:46.483Z"
   },
   {
    "duration": 355,
    "start_time": "2022-02-25T20:30:46.668Z"
   },
   {
    "duration": 99,
    "start_time": "2022-02-25T20:30:47.025Z"
   },
   {
    "duration": 23,
    "start_time": "2022-02-25T20:30:47.126Z"
   },
   {
    "duration": 240,
    "start_time": "2022-02-25T20:30:47.151Z"
   },
   {
    "duration": 24,
    "start_time": "2022-02-25T20:30:47.392Z"
   },
   {
    "duration": 414,
    "start_time": "2022-02-25T20:30:47.418Z"
   },
   {
    "duration": 33,
    "start_time": "2022-02-25T20:30:47.833Z"
   },
   {
    "duration": 343,
    "start_time": "2022-02-25T20:30:47.869Z"
   },
   {
    "duration": 259,
    "start_time": "2022-02-25T20:30:48.214Z"
   },
   {
    "duration": 84,
    "start_time": "2022-02-25T20:30:48.475Z"
   },
   {
    "duration": 86,
    "start_time": "2022-02-25T20:30:48.561Z"
   },
   {
    "duration": 47,
    "start_time": "2022-02-25T20:30:48.648Z"
   },
   {
    "duration": 208,
    "start_time": "2022-02-25T20:30:48.697Z"
   },
   {
    "duration": 2,
    "start_time": "2022-02-25T20:30:48.907Z"
   },
   {
    "duration": 56213,
    "start_time": "2022-02-25T20:30:48.911Z"
   },
   {
    "duration": 1093491,
    "start_time": "2022-02-25T20:31:45.126Z"
   },
   {
    "duration": 4928,
    "start_time": "2022-02-25T20:49:58.619Z"
   },
   {
    "duration": 181,
    "start_time": "2022-02-25T20:50:03.550Z"
   },
   {
    "duration": 164919,
    "start_time": "2022-02-25T20:50:03.733Z"
   },
   {
    "duration": 21,
    "start_time": "2022-02-25T20:52:48.653Z"
   },
   {
    "duration": 163,
    "start_time": "2022-02-25T20:52:48.676Z"
   },
   {
    "duration": 14,
    "start_time": "2022-02-25T20:52:48.841Z"
   },
   {
    "duration": 30,
    "start_time": "2022-02-25T20:52:48.856Z"
   },
   {
    "duration": 7859,
    "start_time": "2022-02-25T20:52:48.888Z"
   },
   {
    "duration": 9,
    "start_time": "2022-02-25T20:52:56.749Z"
   }
  ],
  "kernelspec": {
   "display_name": "Python 3",
   "language": "python",
   "name": "python3"
  },
  "language_info": {
   "codemirror_mode": {
    "name": "ipython",
    "version": 3
   },
   "file_extension": ".py",
   "mimetype": "text/x-python",
   "name": "python",
   "nbconvert_exporter": "python",
   "pygments_lexer": "ipython3",
   "version": "3.8.5"
  },
  "toc": {
   "base_numbering": 1,
   "nav_menu": {},
   "number_sections": true,
   "sideBar": true,
   "skip_h1_title": true,
   "title_cell": "Table of Contents",
   "title_sidebar": "Contents",
   "toc_cell": false,
   "toc_position": {},
   "toc_section_display": true,
   "toc_window_display": false
  }
 },
 "nbformat": 4,
 "nbformat_minor": 2
}
